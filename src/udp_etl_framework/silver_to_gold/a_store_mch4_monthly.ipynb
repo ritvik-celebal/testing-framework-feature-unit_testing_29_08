{
 "cells": [
  {
   "cell_type": "code",
   "execution_count": 0,
   "metadata": {
    "application/vnd.databricks.v1+cell": {
     "cellMetadata": {},
     "inputWidgets": {},
     "nuid": "6922e963-9675-428c-b7d9-d11006d593ed",
     "showTitle": false,
     "tableResultSettingsMap": {},
     "title": ""
    }
   },
   "outputs": [],
   "source": [
    "%run ../utils/common"
   ]
  },
  {
   "cell_type": "code",
   "execution_count": 0,
   "metadata": {
    "application/vnd.databricks.v1+cell": {
     "cellMetadata": {},
     "inputWidgets": {},
     "nuid": "c17e0bd1-9c9c-4131-96a7-d54785cfbbf6",
     "showTitle": false,
     "tableResultSettingsMap": {},
     "title": ""
    }
   },
   "outputs": [],
   "source": [
    "dbutils.widgets.text(\"environment\", \"\", \"\")\n",
    "environment = dbutils.widgets.get(\"environment\")"
   ]
  },
  {
   "cell_type": "code",
   "execution_count": 0,
   "metadata": {
    "application/vnd.databricks.v1+cell": {
     "cellMetadata": {},
     "inputWidgets": {},
     "nuid": "d8f7cdff-6151-4c99-98a3-2795eeb466ea",
     "showTitle": false,
     "tableResultSettingsMap": {},
     "title": ""
    }
   },
   "outputs": [],
   "source": [
    "catalog_name = settings[environment]['catalog_name']"
   ]
  },
  {
   "cell_type": "code",
   "execution_count": 0,
   "metadata": {
    "application/vnd.databricks.v1+cell": {
     "cellMetadata": {},
     "inputWidgets": {},
     "nuid": "72578606-c861-4f45-b1d8-1e1e68ed1319",
     "showTitle": false,
     "tableResultSettingsMap": {},
     "title": ""
    }
   },
   "outputs": [],
   "source": [
    "spark.sql(f\"\"\"CREATE TABLE IF NOT EXISTS {catalog_name}.udp_wcm_gold_vcm_finance_self_service.a_store_mch4_monthly (\n",
    "  calmonth DATE,\n",
    "  store_id STRING,\n",
    "  mch4_id STRING,\n",
    "  rev_amt DOUBLE,\n",
    "  rev_amt_pos DOUBLE,\n",
    "  rev_promotion_discount DOUBLE,\n",
    "  closing_stock_value DOUBLE,\n",
    "  closing_stock_quantity DOUBLE,\n",
    "  no_product_had_sale BIGINT,\n",
    "  rev_amt_pos_mdl DOUBLE,\n",
    "  billcount BIGINT,\n",
    "  closing_stock_value_dio DOUBLE,\n",
    "  cogs_b2b_30d DOUBLE,\n",
    "  no_product_active BIGINT)\n",
    "USING delta\n",
    "TBLPROPERTIES (\n",
    "  'DELTA.AUTOOPTIMIZE.OPTIMIZEWRITE' = 'TRUE',\n",
    "  'DELTA.AUTOOPTIMIZE.AUTOCOMPACT' = 'TRUE'\n",
    ");\n",
    "\"\"\")"
   ]
  },
  {
   "cell_type": "code",
   "execution_count": 0,
   "metadata": {
    "application/vnd.databricks.v1+cell": {
     "cellMetadata": {},
     "inputWidgets": {},
     "nuid": "ac9a2e9d-3df5-4231-ac5a-5433870cae0d",
     "showTitle": false,
     "tableResultSettingsMap": {},
     "title": ""
    }
   },
   "outputs": [],
   "source": [
    "spark.sql(f\"\"\"DELETE FROM {catalog_name}.udp_wcm_gold_vcm_finance_self_service.a_store_mch4_monthly\n",
    "WHERE calmonth >= DATE(DATE_TRUNC('month', CURRENT_TIMESTAMP() + INTERVAL 7 HOURS) - INTERVAL 1 MONTH)\"\"\")"
   ]
  },
  {
   "cell_type": "code",
   "execution_count": 0,
   "metadata": {
    "application/vnd.databricks.v1+cell": {
     "cellMetadata": {},
     "inputWidgets": {},
     "nuid": "60633e7e-1ca1-4b6b-b7f2-24859ece9251",
     "showTitle": false,
     "tableResultSettingsMap": {},
     "title": ""
    }
   },
   "outputs": [],
   "source": [
    "spark.sql(f\"\"\" INSERT INTO {catalog_name}.udp_wcm_gold_vcm_finance_self_service.a_store_mch4_monthly\n",
    "WITH cte AS (\n",
    "  SELECT t.calmonth,\n",
    "      a.store_id,\n",
    "      product.mch4_id,\n",
    "      SUM(a.revenue.billcnt_total) billcnt_total,\n",
    "      SUM(a.revenue.rev_amt) rev_amt,\n",
    "      SUM(a.revenue.rev_amt_pos) rev_amt_pos,\n",
    "      SUM(a.revenue.rev_promo_amt) rev_promotion_discount,\n",
    "      SUM(CASE WHEN a.calday = t.calsunday THEN a.stock.closing_stock_value END) closing_stock_value,\n",
    "      SUM(CASE WHEN a.calday = t.calsunday THEN a.stock.closing_stock_quantity END) closing_stock_quantity,\n",
    "      COUNT(DISTINCT CASE WHEN a.revenue.billcnt_total > 0 THEN a.product_id END) no_product_had_sale,\n",
    "      SUM(CASE WHEN product.manufacturer_id IN ('2325', '1915') THEN a.revenue.rev_amt_pos ELSE 0 END) rev_amt_pos_mdl\n",
    "  FROM (SELECT * FROM {catalog_name}.udp_wcm_gold_vcm_dmt.a_store_sku_daily\n",
    "        WHERE calday >= DATE(DATE_TRUNC('month', CURRENT_TIMESTAMP() + INTERVAL 7 HOURS) - INTERVAL 1 MONTH)) a\n",
    "   LEFT JOIN {catalog_name}.udp_wcm_gold_vcm_dwh.d_time t ON a.calday = t.calday\n",
    "  LEFT JOIN {catalog_name}.udp_wcm_gold_vcm_dwh.d_product product ON a.product_id = product.product_id\n",
    "  LEFT JOIN {catalog_name}.udp_wcm_gold_vcm_dwh.d_store store ON a.store_id = store.store_id\n",
    "  WHERE product.mch2_id IN ('101', '102', '201', '202', '203')\n",
    "    AND store.business_unit IN ('1500')\n",
    "    AND store.store_id NOT LIKE '195%'\n",
    "    AND product.mch4_id NOT IN ('1010104', '1010208')\n",
    "  GROUP BY 1, 2, 3\n",
    "  HAVING rev_amt_pos <> 0\n",
    "    OR billcnt_total > 0\n",
    "    OR closing_stock_value <> 0\n",
    "    OR closing_stock_quantity <> 0\n",
    "),\n",
    "a_daily_store_mch4_data AS (\n",
    "  SELECT t.calmonth,\n",
    "    a.store_id,\n",
    "    a.mch4_id,\n",
    "    SUM(billcount) billcount  FROM {catalog_name}.udp_wcm_gold_vcm_finance_self_service.a_daily_store_mch4_data a\n",
    "  LEFT JOIN {catalog_name}.udp_wcm_gold_vcm_dwh.d_time t ON a.day = t.calday\n",
    "  LEFT JOIN {catalog_name}.udp_wcm_gold_vcm_dwh.d_store store ON a.store_id = store.store_id\n",
    "  WHERE store.business_unit IN ('1500')\n",
    "    AND t.calday >= DATE(DATE_TRUNC('month', CURRENT_TIMESTAMP() + INTERVAL 7 HOURS) - INTERVAL 1 MONTH)\n",
    "  GROUP BY 1, 2, 3\n",
    "),\n",
    "dio AS (\n",
    "  SELECT b.calmonth,\n",
    "         a.store_id,\n",
    "         prd.mch4_id,\n",
    "         SUM(a.closing_stock_value) closing_stock_value_dio,\n",
    "         SUM(a.cogs_b2b_30d) cogs_b2b_30d\n",
    "  FROM {catalog_name}.udp_wcm_gold_vcm_dmt.a_dr_dio_rp_store_sku a\n",
    "  LEFT JOIN (SELECT DISTINCT mch4_id, product_id FROM {catalog_name}.udp_wcm_gold_vcm_dwh.d_product) prd ON a.product_id = prd.product_id\n",
    "  LEFT JOIN {catalog_name}.udp_wcm_gold_vcm_dwh.d_time b ON a.calday = b.calday\n",
    "  LEFT JOIN {catalog_name}.udp_wcm_gold_vcm_dwh.d_store c ON a.store_id = c.store_id\n",
    "  WHERE a.calday >= DATE(DATE_TRUNC('month', CURRENT_TIMESTAMP() + INTERVAL 7 HOURS) - INTERVAL 1 MONTH)\n",
    "    AND c.business_unit = '1500'\n",
    "    AND a.store_id NOT IN ('1950', '1951', '1952')\n",
    "    AND mch4_id NOT IN ('1010104', '1010208')\n",
    "    AND a.dio_type = 1\n",
    "  GROUP BY 1, 2, 3\n",
    "),\n",
    "assortment AS (\n",
    "  SELECT t.calmonth, a.store_id, product.mch4_id,\n",
    "    COUNT(DISTINCT a.product_id) no_product_active\n",
    "  FROM {catalog_name}.udp_wcm_gold_vcm_dwh.d_assortment_active_his a\n",
    "  LEFT JOIN {catalog_name}.udp_wcm_gold_vcm_dwh.d_time t ON a.calday = t.calday\n",
    "  LEFT JOIN {catalog_name}.udp_wcm_gold_vcm_dwh.d_product product ON a.product_id = product.product_id\n",
    "  LEFT JOIN {catalog_name}.udp_wcm_gold_vcm_dwh.d_store store ON a.store_id = store.store_id\n",
    "  WHERE product.mch2_id IN ('101', '102', '201', '202', '203')\n",
    "    AND store.business_unit = '1500'\n",
    "    AND store.store_id NOT IN ('1950', '1951', '1952')\n",
    "    AND product.mch4_id NOT IN ('1010104', '1010208')\n",
    "    AND a.calday >= DATE(DATE_TRUNC('month', CURRENT_TIMESTAMP() + INTERVAL 7 HOURS) - INTERVAL 1 MONTH)\n",
    "  GROUP BY 1, 2, 3\n",
    ")\n",
    "SELECT cte.* EXCEPT(billcnt_total),\n",
    "      a_daily_store_mch4_data.billcount,\n",
    "      dio.closing_stock_value_dio,\n",
    "      dio.cogs_b2b_30d,\n",
    "      assortment.no_product_active\n",
    "FROM cte\n",
    "LEFT JOIN a_daily_store_mch4_data USING(calmonth, store_id, mch4_id)\n",
    "LEFT JOIN dio USING(calmonth, store_id, mch4_id)\n",
    "LEFT JOIN assortment USING(calmonth, store_id, mch4_id)\n",
    "\"\"\")"
   ]
  }
 ],
 "metadata": {
  "application/vnd.databricks.v1+notebook": {
   "computePreferences": null,
   "dashboards": [],
   "environmentMetadata": {
    "base_environment": "",
    "environment_version": "2"
   },
   "inputWidgetPreferences": null,
   "language": "python",
   "notebookMetadata": {
    "pythonIndentUnit": 4
   },
   "notebookName": "a_store_mch4_monthly",
   "widgets": {}
  },
  "language_info": {
   "name": "python"
  }
 },
 "nbformat": 4,
 "nbformat_minor": 0
}
