{
 "cells": [
  {
   "cell_type": "code",
   "execution_count": 0,
   "metadata": {
    "application/vnd.databricks.v1+cell": {
     "cellMetadata": {
      "byteLimit": 2048000,
      "rowLimit": 10000
     },
     "inputWidgets": {},
     "nuid": "b989b2c1-d8c7-4ec6-8713-67338fec6114",
     "showTitle": false,
     "tableResultSettingsMap": {},
     "title": ""
    }
   },
   "outputs": [],
   "source": [
    "%run ../utils/common"
   ]
  },
  {
   "cell_type": "code",
   "execution_count": 0,
   "metadata": {
    "application/vnd.databricks.v1+cell": {
     "cellMetadata": {
      "byteLimit": 2048000,
      "rowLimit": 10000
     },
     "inputWidgets": {},
     "nuid": "5a6ae98f-bb45-4434-a0fc-ec56a4325c2e",
     "showTitle": false,
     "tableResultSettingsMap": {},
     "title": ""
    }
   },
   "outputs": [],
   "source": [
    "dbutils.widgets.text(\"environment\", \"\", \"\")\n",
    "dbutils.widgets.text(\"target_dataset\", \"VCM_DWH_PRD\") \n",
    "dbutils.widgets.text(\"target_table\", \"f_order_report\")\n",
    "dbutils.widgets.text(\"metadata_schema\", \"udp_wcm_metadata_dev\")\n",
    "dbutils.widgets.text(\n",
    "    \"dependency_table\",\"VCM_STG_INF.order_report\"\n",
    ")"
   ]
  },
  {
   "cell_type": "code",
   "execution_count": 0,
   "metadata": {
    "application/vnd.databricks.v1+cell": {
     "cellMetadata": {
      "byteLimit": 2048000,
      "rowLimit": 10000
     },
     "inputWidgets": {},
     "nuid": "b4d6cf1f-28b1-4898-87e0-74b532f09165",
     "showTitle": false,
     "tableResultSettingsMap": {},
     "title": ""
    }
   },
   "outputs": [],
   "source": [
    "catalog_name = settings[environment]['catalog_name']"
   ]
  },
  {
   "cell_type": "code",
   "execution_count": 0,
   "metadata": {
    "application/vnd.databricks.v1+cell": {
     "cellMetadata": {
      "byteLimit": 2048000,
      "rowLimit": 10000
     },
     "inputWidgets": {},
     "nuid": "36fd220a-083c-42e0-b3ff-e27ea3d337d3",
     "showTitle": false,
     "tableResultSettingsMap": {},
     "title": ""
    }
   },
   "outputs": [],
   "source": [
    "dbutils.widgets.text(\"field_calday\", \"CALDAY\")\n",
    "dbutils.widgets.text(\"field_id\", \"HASH_ID\")"
   ]
  },
  {
   "cell_type": "code",
   "execution_count": 0,
   "metadata": {
    "application/vnd.databricks.v1+cell": {
     "cellMetadata": {
      "byteLimit": 2048000,
      "rowLimit": 10000
     },
     "inputWidgets": {},
     "nuid": "98b02b27-fa15-4e62-a1b2-e224f284150f",
     "showTitle": false,
     "tableResultSettingsMap": {},
     "title": ""
    }
   },
   "outputs": [],
   "source": [
    "field_calday = dbutils.widgets.get(\"field_calday\")\n",
    "field_id = dbutils.widgets.get(\"field_id\")\n",
    "\n",
    "print(f\"field_calday: {field_calday}\")\n",
    "print(f\"field_id: {field_id}\")"
   ]
  },
  {
   "cell_type": "code",
   "execution_count": 0,
   "metadata": {
    "application/vnd.databricks.v1+cell": {
     "cellMetadata": {
      "byteLimit": 2048000,
      "rowLimit": 10000
     },
     "inputWidgets": {},
     "nuid": "aca38292-3f34-4c5b-89dd-af3213dda399",
     "showTitle": false,
     "tableResultSettingsMap": {},
     "title": ""
    }
   },
   "outputs": [],
   "source": [
    "environment = dbutils.widgets.get(\"environment\")\n",
    "target_dataset = dbutils.widgets.get(\"target_dataset\")\n",
    "target_table = dbutils.widgets.get(\"target_table\")\n",
    "metadata_schema = dbutils.widgets.get(\"metadata_schema\")\n",
    "dependency_table = dbutils.widgets.get(\"dependency_table\")\n",
    "dependency_table = [x.strip().upper() for x in dependency_table.split(\",\")]\n",
    "dependency_table = \"'\" + \"','\".join(dependency_table) + \"'\"\n",
    "\n",
    "print(f\"environment: {environment}\")\n",
    "print(f\"target_dataset: {target_dataset}\")\n",
    "print(f\"target_table: {target_table}\")\n",
    "print(f\"catalog_name: {catalog_name}\")\n",
    "print(f\"metadata_schema: {metadata_schema}\")\n",
    "print(f\"dependency_table: {dependency_table}\")"
   ]
  },
  {
   "cell_type": "code",
   "execution_count": 0,
   "metadata": {
    "application/vnd.databricks.v1+cell": {
     "cellMetadata": {
      "byteLimit": 2048000,
      "rowLimit": 10000
     },
     "inputWidgets": {},
     "nuid": "8f34a0bf-0869-4436-9752-5be337c18929",
     "showTitle": false,
     "tableResultSettingsMap": {},
     "title": ""
    }
   },
   "outputs": [],
   "source": [
    "%run \"../common/common_etl_load\""
   ]
  },
  {
   "cell_type": "code",
   "execution_count": 0,
   "metadata": {
    "application/vnd.databricks.v1+cell": {
     "cellMetadata": {
      "byteLimit": 2048000,
      "implicitDf": true,
      "rowLimit": 10000
     },
     "inputWidgets": {},
     "nuid": "668ccedb-e509-4474-b6fe-d647620047db",
     "showTitle": false,
     "tableResultSettingsMap": {},
     "title": ""
    }
   },
   "outputs": [],
   "source": [
    "spark.sql(f\"\"\"\n",
    "CREATE TABLE IF NOT EXISTS {catalog_name}.udp_wcm_gold_vcm_dwh.f_order_report(\n",
    "    po_doc STRING,\n",
    "    product_id STRING,\n",
    "    po_item INT,\n",
    "    store_id STRING,\n",
    "    purchase_name STRING,\n",
    "    max_order_user STRING,\n",
    "    order_date DATE,\n",
    "    order_date_request DATE,\n",
    "    order_date_expected_delivery DATE,\n",
    "    delivery_confirmation_date DATE,\n",
    "    delivery_date DATE,\n",
    "    webportal_status STRING,\n",
    "    po_qty STRING,\n",
    "    supplier_qty STRING,\n",
    "    gr_qty STRING,\n",
    "    time_frame_for_delivery_confirmation STRING,\n",
    "    vendor_id STRING,\n",
    "    vendor_name STRING\n",
    ")\n",
    "TBLPROPERTIES (\n",
    "  'DELTA.AUTOOPTIMIZE.OPTIMIZEWRITE' = 'TRUE',\n",
    "  'DELTA.AUTOOPTIMIZE.AUTOCOMPACT' = 'TRUE'\n",
    ")\n",
    "\"\"\")"
   ]
  },
  {
   "cell_type": "code",
   "execution_count": 0,
   "metadata": {
    "application/vnd.databricks.v1+cell": {
     "cellMetadata": {
      "byteLimit": 2048000,
      "implicitDf": true,
      "rowLimit": 10000
     },
     "inputWidgets": {},
     "nuid": "8e36ce5a-b9d5-41b0-ab73-29612cc09197",
     "showTitle": false,
     "tableResultSettingsMap": {},
     "title": ""
    }
   },
   "outputs": [],
   "source": [
    "if CALDAY_IN_STR != \"\":\n",
    "    spark.sql(f\"\"\"\n",
    "    CREATE OR REPLACE TEMP VIEW temp_{target_table} AS\n",
    "    WITH tmp AS (\n",
    "        SELECT\n",
    "            ord.order_id PO_DOC,\n",
    "            ord.product_id,\n",
    "            CAST(ord.product_stt AS INT) PO_ITEM,\n",
    "            ord.store_id,\n",
    "            TO_DATE(ord.order_date, 'yyyy-MM-dd') AS order_date,\n",
    "            TO_DATE(ord.order_date_request, 'yyyy-MM-dd') AS order_date_request,\n",
    "            DATE(TRY_TO_TIMESTAMP(ord.order_date_expected_delivery, 'yyyy-MM-dd HH:mm:ss')) AS order_date_expected_delivery,\n",
    "            DATE(TRY_TO_TIMESTAMP(ord.delivery_confirmation_date, 'yyyy-MM-dd HH:mm:ss')) AS delivery_confirmation_date,\n",
    "            ord.upd_date,\n",
    "            MIN(CASE WHEN ord.delivery_date IS NOT NULL THEN DATE(TRY_TO_TIMESTAMP(ord.delivery_date, 'yyyy-MM-dd HH:mm:ss')) END) AS delivery_date,\n",
    "            ord.status WEBPORTAL_STATUS,\n",
    "            ord.order_user purchase_name,\n",
    "            ord.purchase_order_quantity po_qty,\n",
    "            ord.purchase_order_quantity_delivery supplier_qty,\n",
    "            ord.purchase_order_quantity_delivered_actual gr_qty,\n",
    "            ord.time_frame_for_delivery_confirmation,\n",
    "            ord.vendor_id,\n",
    "            ord.vendor_name\n",
    "        FROM {catalog_name}.udp_wcm_silver_rop.order_report ord\n",
    "        WHERE order_date IN ({CALDAY_IN_STR})\n",
    "        GROUP BY\n",
    "            ord.order_id,\n",
    "            ord.product_id,\n",
    "            ord.product_stt,\n",
    "            ord.store_id,\n",
    "            ord.order_date,\n",
    "            ord.order_date_request,\n",
    "            ord.order_date_expected_delivery,\n",
    "            ord.delivery_confirmation_date,\n",
    "            ord.upd_date,\n",
    "            ord.status,\n",
    "            ord.order_user,\n",
    "            ord.purchase_order_quantity,\n",
    "            ord.purchase_order_quantity_delivery,\n",
    "            ord.purchase_order_quantity_delivered_actual,\n",
    "            ord.time_frame_for_delivery_confirmation,\n",
    "            ord.vendor_id,\n",
    "            ord.vendor_name\n",
    "    ),\n",
    "    main AS (\n",
    "        SELECT\n",
    "            po_doc,\n",
    "            product_id,\n",
    "            po_item,\n",
    "            store_id,\n",
    "            purchase_name,\n",
    "            order_date,\n",
    "            order_date_request,\n",
    "            order_date_expected_delivery,\n",
    "            delivery_confirmation_date,\n",
    "            delivery_date,\n",
    "            webportal_status,\n",
    "            po_qty,\n",
    "            supplier_qty,\n",
    "            gr_qty,\n",
    "            time_frame_for_delivery_confirmation,\n",
    "            vendor_id,\n",
    "            vendor_name\n",
    "        FROM tmp\n",
    "        QUALIFY ROW_NUMBER() OVER (PARTITION BY po_doc, po_item ORDER BY delivery_date DESC, upd_date DESC) = 1\n",
    "    )\n",
    "    SELECT\n",
    "        m.po_doc,\n",
    "        m.product_id,\n",
    "        m.po_item,\n",
    "        m.store_id,\n",
    "        m.purchase_name,\n",
    "        MAX(m.purchase_name) OVER (PARTITION BY m.po_doc, m.po_item) MAX_ORDER_USER,\n",
    "        m.order_date,\n",
    "        m.order_date_request,\n",
    "        m.order_date_expected_delivery,\n",
    "        m.delivery_confirmation_date,\n",
    "        m.delivery_date,\n",
    "        m.webportal_status,\n",
    "        m.po_qty,\n",
    "        m.supplier_qty,\n",
    "        m.gr_qty,\n",
    "        m.time_frame_for_delivery_confirmation,\n",
    "        m.vendor_id,\n",
    "        m.vendor_name\n",
    "    FROM main m\n",
    "    \"\"\")\n",
    "else:\n",
    "    print(f\"No valid calday's found In common-etl to create the view: temp_{target_table}\")"
   ]
  },
  {
   "cell_type": "code",
   "execution_count": 0,
   "metadata": {
    "application/vnd.databricks.v1+cell": {
     "cellMetadata": {
      "byteLimit": 2048000,
      "rowLimit": 10000
     },
     "inputWidgets": {},
     "nuid": "4c9199ce-f6dc-4d66-acb0-b6cf7666ff6a",
     "showTitle": false,
     "tableResultSettingsMap": {},
     "title": ""
    }
   },
   "outputs": [],
   "source": [
    "if CALDAY_IN_STR != \"\":\n",
    "    # Get the calday list string from temp table\n",
    "    calday_query = f\"\"\"\n",
    "    SELECT\n",
    "        CONCAT(\"'\", CONCAT_WS(\"','\", COLLECT_SET(CAST(TO_DATE(order_date, 'yyyy-MM-dd') AS STRING))), \"'\") AS calday_in_str\n",
    "    FROM temp_{target_table}\n",
    "    \"\"\"\n",
    "\n",
    "    calday_df = spark.sql(calday_query)\n",
    "    calday_in_str = calday_df.collect()[0][0]\n",
    "\n",
    "    # Only run DELETE if the string is non-empty\n",
    "    if calday_in_str.strip(\"'\"):  # checks if there's any date inside the quotes\n",
    "        spark.sql(\n",
    "            f\"\"\"\n",
    "        DELETE FROM {catalog_name}.udp_wcm_gold_vcm_dwh.f_order_report\n",
    "        WHERE order_date IN ({calday_in_str})\n",
    "        \"\"\"\n",
    "        ).display()\n",
    "    else:\n",
    "        print(\"no valid calday's found to delete.\")\n",
    "else:\n",
    "    print(\n",
    "        f\"temp_{target_table} could't be created as no valid calday's found In common-etl so {catalog_name}.udp_wcm_gold_vcm_dwh.f_order_report can't be deleted using calday's from temp_a_billcnt_store\"\n",
    "    )"
   ]
  },
  {
   "cell_type": "code",
   "execution_count": 0,
   "metadata": {
    "application/vnd.databricks.v1+cell": {
     "cellMetadata": {
      "byteLimit": 2048000,
      "implicitDf": true,
      "rowLimit": 10000
     },
     "inputWidgets": {},
     "nuid": "e4f2f645-65a0-4ff5-8823-1eec938c4f8d",
     "showTitle": false,
     "tableResultSettingsMap": {},
     "title": ""
    }
   },
   "outputs": [],
   "source": [
    "if CALDAY_IN_STR != \"\":\n",
    "    # Insert rows from temp table into main table\n",
    "    INSERT_ROW = \", \".join(\n",
    "        spark.table(f\"{catalog_name}.udp_wcm_gold_vcm_dwh.f_order_report\").columns\n",
    "    )\n",
    "    spark.sql(\n",
    "        f\"\"\"\n",
    "        INSERT INTO {catalog_name}.udp_wcm_gold_vcm_dwh.f_order_report ({INSERT_ROW})\n",
    "        SELECT {INSERT_ROW} FROM temp_{target_table}\n",
    "    \"\"\"\n",
    "    ).display()\n",
    "else:\n",
    "    print(\n",
    "        f\"temp_{target_table} could't be created as no valid calday's found In common-etl so {catalog_name}.udp_wcm_gold_vcm_dwh.f_order_report can't be inserted using calday's from temp_{target_table}\"\n",
    "    )"
   ]
  },
  {
   "cell_type": "code",
   "execution_count": 0,
   "metadata": {
    "application/vnd.databricks.v1+cell": {
     "cellMetadata": {},
     "inputWidgets": {},
     "nuid": "5c5fb66e-7757-4932-ab87-c8b6518029e1",
     "showTitle": false,
     "tableResultSettingsMap": {},
     "title": ""
    }
   },
   "outputs": [],
   "source": [
    "spark.sql(f\"\"\"DROP VIEW IF EXISTS temp_{target_table}\"\"\")"
   ]
  },
  {
   "cell_type": "code",
   "execution_count": 0,
   "metadata": {
    "application/vnd.databricks.v1+cell": {
     "cellMetadata": {
      "byteLimit": 2048000,
      "rowLimit": 10000
     },
     "inputWidgets": {},
     "nuid": "713c524e-f1f7-4716-821f-483bdcf0239f",
     "showTitle": false,
     "tableResultSettingsMap": {},
     "title": ""
    }
   },
   "outputs": [],
   "source": [
    "if CALDAY_IN_STR == '':\n",
    "    dbutils.notebook.exit(\"No valid calday's found In common-etl to insert data into Table: ETL_LOG_DEPENDENCIES and ETL_DELTA_TABLE and \")"
   ]
  },
  {
   "cell_type": "code",
   "execution_count": 0,
   "metadata": {
    "application/vnd.databricks.v1+cell": {
     "cellMetadata": {
      "byteLimit": 2048000,
      "rowLimit": 10000
     },
     "inputWidgets": {},
     "nuid": "d3b56d9f-b332-45a5-8dde-b76c274a9b48",
     "showTitle": false,
     "tableResultSettingsMap": {},
     "title": ""
    }
   },
   "outputs": [],
   "source": [
    "%run \"../common/common_etl_update\""
   ]
  }
 ],
 "metadata": {
  "application/vnd.databricks.v1+notebook": {
   "computePreferences": null,
   "dashboards": [],
   "environmentMetadata": {
    "base_environment": "",
    "environment_version": "2"
   },
   "inputWidgetPreferences": null,
   "language": "python",
   "notebookMetadata": {
    "mostRecentlyExecutedCommandWithImplicitDF": {
     "commandId": 4736130552808453,
     "dataframes": [
      "_sqldf"
     ]
    },
    "pythonIndentUnit": 4
   },
   "notebookName": "f_order_report",
   "widgets": {}
  },
  "language_info": {
   "name": "python"
  }
 },
 "nbformat": 4,
 "nbformat_minor": 0
}
