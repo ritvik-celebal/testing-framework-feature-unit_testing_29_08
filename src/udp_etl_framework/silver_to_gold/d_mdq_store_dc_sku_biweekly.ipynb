{
 "cells": [
  {
   "cell_type": "code",
   "execution_count": 0,
   "metadata": {
    "application/vnd.databricks.v1+cell": {
     "cellMetadata": {
      "byteLimit": 2048000,
      "rowLimit": 10000
     },
     "inputWidgets": {},
     "nuid": "5656a629-247c-4f4e-9fd9-c6b0cf71d70c",
     "showTitle": false,
     "tableResultSettingsMap": {},
     "title": ""
    }
   },
   "outputs": [],
   "source": [
    "dbutils.widgets.text(\"proc_date\", \"\", \"\")\n",
    "proc_date = dbutils.widgets.get(\"proc_date\")"
   ]
  },
  {
   "cell_type": "code",
   "execution_count": 0,
   "metadata": {
    "application/vnd.databricks.v1+cell": {
     "cellMetadata": {
      "byteLimit": 2048000,
      "rowLimit": 10000
     },
     "inputWidgets": {},
     "nuid": "65f37add-ade1-4e02-827a-420fdb680e32",
     "showTitle": false,
     "tableResultSettingsMap": {},
     "title": ""
    }
   },
   "outputs": [],
   "source": [
    "%run ../utils/common"
   ]
  },
  {
   "cell_type": "code",
   "execution_count": 0,
   "metadata": {
    "application/vnd.databricks.v1+cell": {
     "cellMetadata": {
      "byteLimit": 2048000,
      "rowLimit": 10000
     },
     "inputWidgets": {},
     "nuid": "aad1a5a1-5045-4735-ab8b-4aa82f4e147a",
     "showTitle": false,
     "tableResultSettingsMap": {},
     "title": ""
    }
   },
   "outputs": [],
   "source": [
    "dbutils.widgets.text(\"environment\", \"\", \"\")\n",
    "environment = dbutils.widgets.get(\"environment\")"
   ]
  },
  {
   "cell_type": "code",
   "execution_count": 0,
   "metadata": {
    "application/vnd.databricks.v1+cell": {
     "cellMetadata": {
      "byteLimit": 2048000,
      "rowLimit": 10000
     },
     "inputWidgets": {},
     "nuid": "d5efe4d8-31da-4ab8-9ac6-77e723b14f0f",
     "showTitle": false,
     "tableResultSettingsMap": {},
     "title": ""
    }
   },
   "outputs": [],
   "source": [
    "catalog_name = settings[environment]['catalog_name']"
   ]
  },
  {
   "cell_type": "code",
   "execution_count": 0,
   "metadata": {
    "application/vnd.databricks.v1+cell": {
     "cellMetadata": {
      "byteLimit": 2048000,
      "rowLimit": 10000
     },
     "inputWidgets": {},
     "nuid": "5dc8cf5e-4c0e-46b0-ac2b-a2fe6cb6df32",
     "showTitle": false,
     "tableResultSettingsMap": {},
     "title": ""
    }
   },
   "outputs": [],
   "source": [
    "spark.sql(f\"\"\"\n",
    "CREATE OR REPLACE TABLE {catalog_name}.udp_wcm_gold_vcm_db_inventory.d_mdq_store_dc_sku_biweekly \n",
    "TBLPROPERTIES (\n",
    "  'DELTA.AUTOOPTIMIZE.OPTIMIZEWRITE' = 'TRUE',\n",
    "  'DELTA.AUTOOPTIMIZE.AUTOCOMPACT' = 'TRUE'\n",
    ") \n",
    "AS\n",
    "WITH\n",
    "main AS (\n",
    "    SELECT      \n",
    "        a.business_unit,\n",
    "        a.store_id,\n",
    "        a.store_name,\n",
    "        a.business_model,\n",
    "        a.mien,\n",
    "        a.city,\n",
    "        a.mch2_id,\n",
    "        a2.mch3_id,\n",
    "        a2.mch4_id,\n",
    "        a.product_id,\n",
    "        a.product_name,\n",
    "        a.manufacturer_id,\n",
    "        a.manufacturer_name,\n",
    "        a1.mdq,\n",
    "        a1.external_report_mdq,\n",
    "        a1.internal_report_mdq,\n",
    "        a1.old_mdq,\n",
    "        a1.mdq_age,\n",
    "        a1.mdq_available,\n",
    "        a.dc_id,\n",
    "        a.dc_name,\n",
    "        a.replenishment_mode,\n",
    "        a.xd_dc_id,\n",
    "        NULL AS dc_source,\n",
    "        CASE WHEN a1.sku_type IS NULL THEN 'FRESH' ELSE a1.sku_type END AS sku_type,\n",
    "        a.is_out,\n",
    "        a.dc_sku_status,\n",
    "        a.assortment_type\n",
    "    FROM {catalog_name}.udp_wcm_gold_vcm_dwh.d_store_sku_by_dc_biweekly a\n",
    "    LEFT JOIN {catalog_name}.udp_wcm_gold_vcm_dwh.d_mdq_biweekly a1 USING (store_id, product_id)\n",
    "    LEFT JOIN {catalog_name}.udp_wcm_gold_vcm_dwh.d_product a2 USING (product_id)\n",
    "    UNION ALL \n",
    "    SELECT      \n",
    "        a.business_unit,\n",
    "        a.store_id,\n",
    "        a.store_name,\n",
    "        CASE\n",
    "            WHEN a.business_unit = '1500' THEN 'Supermarket'\n",
    "            WHEN a.business_unit = '2000' AND a.concept IN ('WiN','Rural') THEN a.concept\n",
    "            ELSE 'Urban'\n",
    "        END business_model,\n",
    "        a.mien,\n",
    "        a.city,\n",
    "        a2.mch2_id,\n",
    "        a2.mch3_id,\n",
    "        a2.mch4_id,\n",
    "        a2.product_id,\n",
    "        a2.product_name,\n",
    "        a2.manufacturer_id,\n",
    "        a2.manufacturer_name,\n",
    "        a1.mdq,\n",
    "        a1.external_report_mdq,\n",
    "        a1.internal_report_mdq,\n",
    "        a1.old_mdq,\n",
    "        a1.mdq_age,\n",
    "        a1.mdq_available,   \n",
    "        NULL AS dc_id,\n",
    "        NULL AS dc_name,\n",
    "        NULL AS replenishment_mode,\n",
    "        NULL AS xd_dc_id,\n",
    "        NULL AS dc_source,\n",
    "        a1.sku_type,\n",
    "        NULL is_out,\n",
    "        NULL dc_sku_status,\n",
    "        NULL assortment_type\n",
    "    FROM {catalog_name}.udp_wcm_gold_vcm_dwh.d_mdq_biweekly a1 \n",
    "    LEFT JOIN {catalog_name}.udp_wcm_gold_vcm_dwh.d_store a USING (store_id)\n",
    "    LEFT JOIN {catalog_name}.udp_wcm_gold_vcm_dwh.d_product a2 USING (product_id)\n",
    "    WHERE a1.mdq IS NOT NULL \n",
    "        AND a1.sku_type = 'FRESH'\n",
    ")\n",
    "SELECT      \n",
    "    a.*,\n",
    "    IF(a1.sku IS NOT NULL, 'YES','NO') is_problem_article\n",
    "FROM main a\n",
    "LEFT JOIN {catalog_name}.udp_wcm_gold_vcm_dwh.d_store a2 USING (store_id)\n",
    "LEFT JOIN {catalog_name}.udp_wcm_gold_vcm_db_inventory.d_problem_article a1 ON a.business_unit = a1.business_unit \n",
    "    AND a2.region_vn = a1.area\n",
    "    AND a.product_id = a1.sku\n",
    "\n",
    "\"\"\")"
   ]
  },
  {
   "cell_type": "code",
   "execution_count": 0,
   "metadata": {
    "application/vnd.databricks.v1+cell": {
     "cellMetadata": {
      "byteLimit": 2048000,
      "rowLimit": 10000
     },
     "inputWidgets": {},
     "nuid": "fa98c77c-4f5a-47d2-8090-9febcff4a40f",
     "showTitle": false,
     "tableResultSettingsMap": {},
     "title": ""
    }
   },
   "outputs": [],
   "source": [
    "spark.sql(f\"\"\"\n",
    "          DELETE FROM {catalog_name}.udp_wcm_gold_vcm_db_inventory.d_mdq_store_dc_sku_biweekly_his WHERE calday = DATE(CURRENT_TIMESTAMP() + INTERVAL 7 HOURS);\n",
    "          \"\"\")"
   ]
  },
  {
   "cell_type": "code",
   "execution_count": 0,
   "metadata": {
    "application/vnd.databricks.v1+cell": {
     "cellMetadata": {
      "byteLimit": 2048000,
      "rowLimit": 10000
     },
     "inputWidgets": {},
     "nuid": "b2b121cf-0d29-41ab-b8af-e5f9bc93b23a",
     "showTitle": false,
     "tableResultSettingsMap": {},
     "title": ""
    }
   },
   "outputs": [],
   "source": [
    "spark.sql(f\"\"\"\n",
    "INSERT INTO {catalog_name}.udp_wcm_gold_vcm_db_inventory.d_mdq_store_dc_sku_biweekly_his\n",
    "SELECT\n",
    "    DATE(CURRENT_TIMESTAMP() + INTERVAL 7 HOURS) calday,\n",
    "    business_unit,\n",
    "    store_id,\n",
    "    business_model,\n",
    "    mch2_id,\n",
    "    product_id,\n",
    "    manufacturer_id,\n",
    "    mdq,\n",
    "    external_report_mdq,\n",
    "    internal_report_mdq,\n",
    "    old_mdq,\n",
    "    mdq_age,\n",
    "    mdq_available,\n",
    "    dc_id,\n",
    "    replenishment_mode,\n",
    "    xd_dc_id,\n",
    "    sku_type,\n",
    "    is_out,\n",
    "    dc_sku_status,\n",
    "    assortment_type,\n",
    "    is_problem_article\n",
    "FROM {catalog_name}.udp_wcm_gold_vcm_db_inventory.d_mdq_store_dc_sku_biweekly; \n",
    "\"\"\")"
   ]
  }
 ],
 "metadata": {
  "application/vnd.databricks.v1+notebook": {
   "computePreferences": null,
   "dashboards": [],
   "environmentMetadata": {
    "base_environment": "",
    "environment_version": "2"
   },
   "inputWidgetPreferences": null,
   "language": "python",
   "notebookMetadata": {
    "mostRecentlyExecutedCommandWithImplicitDF": {
     "commandId": 8416419470668092,
     "dataframes": [
      "_sqldf"
     ]
    },
    "pythonIndentUnit": 4
   },
   "notebookName": "d_mdq_store_dc_sku_biweekly",
   "widgets": {
    "environment": {
     "currentValue": "DEV",
     "nuid": "b2da66c5-b824-456e-a097-40de07631085",
     "typedWidgetInfo": {
      "autoCreated": false,
      "defaultValue": "",
      "label": "",
      "name": "environment",
      "options": {
       "widgetDisplayType": "Text",
       "validationRegex": null
      },
      "parameterDataType": "String"
     },
     "widgetInfo": {
      "widgetType": "text",
      "defaultValue": "",
      "label": "",
      "name": "environment",
      "options": {
       "widgetType": "text",
       "autoCreated": null,
       "validationRegex": null
      }
     }
    },
    "proc_date": {
     "currentValue": "2025-06-28",
     "nuid": "efaeba67-3ce3-4f3e-a8e2-524d93bb4bc2",
     "typedWidgetInfo": {
      "autoCreated": false,
      "defaultValue": "",
      "label": "",
      "name": "proc_date",
      "options": {
       "widgetDisplayType": "Text",
       "validationRegex": null
      },
      "parameterDataType": "String"
     },
     "widgetInfo": {
      "widgetType": "text",
      "defaultValue": "",
      "label": "",
      "name": "proc_date",
      "options": {
       "widgetType": "text",
       "autoCreated": null,
       "validationRegex": null
      }
     }
    }
   }
  },
  "language_info": {
   "name": "python"
  }
 },
 "nbformat": 4,
 "nbformat_minor": 0
}
