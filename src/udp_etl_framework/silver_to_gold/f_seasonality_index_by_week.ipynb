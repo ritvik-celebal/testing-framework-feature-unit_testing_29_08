{
 "cells": [
  {
   "cell_type": "code",
   "execution_count": 0,
   "metadata": {
    "application/vnd.databricks.v1+cell": {
     "cellMetadata": {
      "byteLimit": 2048000,
      "rowLimit": 10000
     },
     "inputWidgets": {},
     "nuid": "06b0e7a4-b65e-4d2d-a3d1-a7b9d2e927e9",
     "showTitle": false,
     "tableResultSettingsMap": {},
     "title": ""
    }
   },
   "outputs": [],
   "source": [
    "%run ../utils/common"
   ]
  },
  {
   "cell_type": "code",
   "execution_count": 0,
   "metadata": {
    "application/vnd.databricks.v1+cell": {
     "cellMetadata": {
      "byteLimit": 2048000,
      "rowLimit": 10000
     },
     "inputWidgets": {},
     "nuid": "ad9f0a7f-4695-4d91-a5d7-993490ec3a2f",
     "showTitle": false,
     "tableResultSettingsMap": {},
     "title": ""
    }
   },
   "outputs": [],
   "source": [
    "spark.conf.set(\"spark.sql.legacy.timeParserPolicy\", \"LEGACY\")"
   ]
  },
  {
   "cell_type": "code",
   "execution_count": 0,
   "metadata": {
    "application/vnd.databricks.v1+cell": {
     "cellMetadata": {
      "byteLimit": 2048000,
      "rowLimit": 10000
     },
     "inputWidgets": {},
     "nuid": "b558aa16-a39c-46db-9235-5d4db12709b9",
     "showTitle": false,
     "tableResultSettingsMap": {},
     "title": ""
    }
   },
   "outputs": [],
   "source": [
    "dbutils.widgets.text(\"environment\", \"\", \"\")\n",
    "dbutils.widgets.text(\"target_dataset\", \"VCM_DMT_PRD\")\n",
    "dbutils.widgets.text(\"target_table\", \"f_seasonality_index_by_week\")\n",
    "dbutils.widgets.text(\"metadata_schema\", \"udp_wcm_metadata_dev\")\n",
    "dbutils.widgets.text(\n",
    "    \"dependency_table\",\"VCM_DMT_PRD.A_STORE_SKU_DAILY\"\n",
    ")"
   ]
  },
  {
   "cell_type": "code",
   "execution_count": 0,
   "metadata": {
    "application/vnd.databricks.v1+cell": {
     "cellMetadata": {
      "byteLimit": 2048000,
      "rowLimit": 10000
     },
     "inputWidgets": {},
     "nuid": "027b488f-5dba-423d-9c6a-25d2ddc8bd29",
     "showTitle": false,
     "tableResultSettingsMap": {},
     "title": ""
    }
   },
   "outputs": [],
   "source": [
    "dbutils.widgets.text(\"field_calday\", \"CALDAY\")\n",
    "dbutils.widgets.text(\"field_id\", \"HASH_ID\")"
   ]
  },
  {
   "cell_type": "code",
   "execution_count": 0,
   "metadata": {
    "application/vnd.databricks.v1+cell": {
     "cellMetadata": {
      "byteLimit": 2048000,
      "rowLimit": 10000
     },
     "inputWidgets": {},
     "nuid": "b49738d2-3e1a-4061-94ca-9bf32579791f",
     "showTitle": false,
     "tableResultSettingsMap": {},
     "title": ""
    }
   },
   "outputs": [],
   "source": [
    "catalog_name = settings[environment]['catalog_name']"
   ]
  },
  {
   "cell_type": "code",
   "execution_count": 0,
   "metadata": {
    "application/vnd.databricks.v1+cell": {
     "cellMetadata": {
      "byteLimit": 2048000,
      "rowLimit": 10000
     },
     "inputWidgets": {},
     "nuid": "8eda6fec-a3d0-4b6d-9941-4f9ff51c69a1",
     "showTitle": false,
     "tableResultSettingsMap": {},
     "title": ""
    }
   },
   "outputs": [],
   "source": [
    "environment = dbutils.widgets.get(\"environment\")\n",
    "target_dataset = dbutils.widgets.get(\"target_dataset\")\n",
    "target_table = dbutils.widgets.get(\"target_table\")\n",
    "metadata_schema = dbutils.widgets.get(\"metadata_schema\")\n",
    "dependency_table = dbutils.widgets.get(\"dependency_table\")\n",
    "dependency_table = [x.strip().upper() for x in dependency_table.split(\",\")]\n",
    "dependency_table = \"'\" + \"','\".join(dependency_table) + \"'\"\n",
    "\n",
    "print(f\"environment: {environment}\")\n",
    "print(f\"target_dataset: {target_dataset}\")\n",
    "print(f\"target_table: {target_table}\")\n",
    "print(f\"catalog_name: {catalog_name}\")\n",
    "print(f\"metadata_schema: {metadata_schema}\")\n",
    "print(f\"dependency_table: {dependency_table}\")"
   ]
  },
  {
   "cell_type": "code",
   "execution_count": 0,
   "metadata": {
    "application/vnd.databricks.v1+cell": {
     "cellMetadata": {
      "byteLimit": 2048000,
      "rowLimit": 10000
     },
     "inputWidgets": {},
     "nuid": "088def4b-cb05-4309-9baa-bdc3801cc5d8",
     "showTitle": false,
     "tableResultSettingsMap": {},
     "title": ""
    }
   },
   "outputs": [],
   "source": [
    "field_calday = dbutils.widgets.get(\"field_calday\")\n",
    "field_id = dbutils.widgets.get(\"field_id\")\n",
    "\n",
    "print(f\"field_calday: {field_calday}\")\n",
    "print(f\"field_id: {field_id}\")"
   ]
  },
  {
   "cell_type": "code",
   "execution_count": 0,
   "metadata": {
    "application/vnd.databricks.v1+cell": {
     "cellMetadata": {
      "byteLimit": 2048000,
      "rowLimit": 10000
     },
     "inputWidgets": {},
     "nuid": "dee309fc-56b4-4e3a-b848-7b45adddf038",
     "showTitle": false,
     "tableResultSettingsMap": {},
     "title": ""
    }
   },
   "outputs": [],
   "source": [
    "%run \"../common/common_etl_load\""
   ]
  },
  {
   "cell_type": "code",
   "execution_count": 0,
   "metadata": {
    "application/vnd.databricks.v1+cell": {
     "cellMetadata": {
      "byteLimit": 2048000,
      "rowLimit": 10000
     },
     "inputWidgets": {},
     "nuid": "295d68aa-e3a1-44bb-803c-c179a4a734cf",
     "showTitle": false,
     "tableResultSettingsMap": {},
     "title": ""
    }
   },
   "outputs": [],
   "source": [
    "spark.sql(f\"\"\"\n",
    "CREATE OR REPLACE TABLE {catalog_name}.udp_wcm_gold_vcm_dmt.f_seasonality_index_by_week\n",
    "WITH cnt_weeks_per_year AS (\n",
    "    SELECT \n",
    "        DATE_FORMAT(calday, 'yyyy') AS calyear,\n",
    "        COUNT(DISTINCT isoweek) AS cnt_isoweek\n",
    "    FROM {catalog_name}.udp_wcm_gold_vcm_dwh.d_time\n",
    "    WHERE calday >= TRUNC(add_months(current_date(), -24), 'YEAR')\n",
    "      AND calday <= add_months(date_sub(add_months(trunc(current_date(), 'YEAR'), 12), 1), 24)\n",
    "      AND date_format(CALDAY, 'YYYY') >= CAST(year(current_date()) - 2 AS STRING)\n",
    "    GROUP BY DATE_FORMAT(calday, 'yyyy')\n",
    "),\n",
    "table_date AS (\n",
    "    SELECT \n",
    "        a.calday, \n",
    "        DATE_FORMAT(a.calday, 'yyyy') AS calyear,\n",
    "        a.isoweek AS calweek,\n",
    "        b.cnt_isoweek\n",
    "    FROM {catalog_name}.udp_wcm_gold_vcm_dwh.d_time a\n",
    "    JOIN cnt_weeks_per_year b\n",
    "        ON DATE_FORMAT(a.calday, 'yyyy') = b.calyear\n",
    "    WHERE a.calday <= date_sub(to_date(current_timestamp() + INTERVAL 7 HOURS), 1)\n",
    "),\n",
    "bu_region AS (\n",
    "    SELECT DISTINCT business_unit, region_domain_vn region\n",
    "    FROM {catalog_name}.udp_wcm_gold_vcm_dwh.d_store\n",
    "    WHERE region_domain_vn IS NOT NULL AND business_unit IN ('1500', '2000')\n",
    "),\n",
    "mch5 AS (\n",
    "    SELECT mch5_id\n",
    "    FROM {catalog_name}.udp_wcm_gold_vcm_dwh.d_mch5\n",
    "    WHERE mch5_desc <> '[DO NOT USE]' AND mch5_desc NOT LIKE '[Block]%'\n",
    "),\n",
    "calweek_bu_region_mch5 AS (\n",
    "    SELECT DISTINCT business_unit, region, mch5_id, calyear, calweek, cnt_isoweek\n",
    "    FROM table_date\n",
    "    CROSS JOIN bu_region\n",
    "    CROSS JOIN mch5\n",
    "),\n",
    "revenue AS (\n",
    "    SELECT \n",
    "        d.calyear, d.calweek, b.business_unit, b.region_domain_vn region, c.mch5_id, c.mch5_desc, \n",
    "        SUM(GREATEST(IFNULL(a.revenue.rev_amt_pos, 0) - IFNULL(a.revenue.rev_promo_amt, 0), 0)) rev_normal_sale\n",
    "    FROM {catalog_name}.udp_wcm_gold_vcm_dmt.a_store_sku_daily a\n",
    "    INNER JOIN {catalog_name}.udp_wcm_gold_vcm_dwh.d_store b\n",
    "        USING(store_id)\n",
    "    INNER JOIN {catalog_name}.udp_wcm_gold_vcm_dwh.d_product c\n",
    "        USING(product_id)\n",
    "    INNER JOIN table_date d\n",
    "        USING(calday)\n",
    "    GROUP BY 1,2,3,4,5,6\n",
    "),\n",
    "calweek_bu_region_mch5_revenue AS (\n",
    "    SELECT\n",
    "        business_unit, region, mch5_id, calyear, calweek, cnt_isoweek,\n",
    "        IFNULL(rev_normal_sale, 0) rev_normal_sale\n",
    "    FROM calweek_bu_region_mch5\n",
    "    LEFT JOIN revenue USING (calyear, calweek, business_unit, region, mch5_id)\n",
    "),\n",
    "seasonality AS (\n",
    "    SELECT *\n",
    "    FROM (\n",
    "        SELECT\n",
    "            business_unit, region, mch5_id, mch5_desc, calyear, calweek, cnt_isoweek,\n",
    "            CONCAT(calyear, '.', LPAD(CAST(calweek AS STRING), 2, '0')) year_week,\n",
    "            rev_normal_sale AS seasonality_index_origin,\n",
    "            IFNULL(\n",
    "                AVG(rev_normal_sale) OVER(PARTITION BY calyear, business_unit, region, mch5_id ORDER BY calweek ROWS BETWEEN CURRENT ROW AND 3 FOLLOWING) /\n",
    "                NULLIF(AVG(rev_normal_sale) OVER(PARTITION BY calyear, business_unit, region, mch5_id), 0),\n",
    "                1\n",
    "            ) AS seasonality_index\n",
    "        FROM calweek_bu_region_mch5_revenue\n",
    "        LEFT JOIN {catalog_name}.udp_wcm_gold_vcm_dwh.d_mch5 USING(mch5_id)\n",
    "    )\n",
    "),\n",
    "pct AS (\n",
    "    SELECT DISTINCT\n",
    "        business_unit, region, mch5_id,\n",
    "        PERCENTILE_CONT(0.05) WITHIN GROUP (ORDER BY seasonality_index)\n",
    "            OVER (PARTITION BY business_unit, region, mch5_id) AS pct_05,\n",
    "        PERCENTILE_CONT(0.95) WITHIN GROUP (ORDER BY seasonality_index)\n",
    "            OVER (PARTITION BY business_unit, region, mch5_id) AS pct_95\n",
    "    FROM seasonality\n",
    "    WHERE seasonality_index > 0\n",
    "    AND YEAR_WEEK >= date_format(date_sub(current_date(), 51 * 7), 'YYYY.ww')\n",
    "    --   AND year_week >= CONCAT(\n",
    "    --         date_format(date_sub(to_date(current_timestamp() + INTERVAL 7 HOURS), 51 * 7), 'yyyy'),\n",
    "    --         '.',\n",
    "    --         lpad(weekofyear(date_sub(to_date(current_timestamp() + INTERVAL 7 HOURS), 51 * 7)), 2, '0')\n",
    "    --   )\n",
    "),\n",
    "adhoc AS (\n",
    "    SELECT * FROM VALUES\n",
    "        ('2024.51', '2023.52'),\n",
    "        ('2024.52', '2024.02'),\n",
    "        ('2025.01', '2024.03'),\n",
    "        ('2025.02', '2024.04'),\n",
    "        ('2025.03', '2024.05'),\n",
    "        ('2025.04', '2024.06'),\n",
    "        ('2025.05', '2024.07'),\n",
    "        ('2025.06', '2024.08'),\n",
    "        ('2025.07', '2024.09'),\n",
    "        ('2025.08', '2024.10')\n",
    "    AS adhoc(year_week_apply, year_week)\n",
    "),\n",
    "main AS (\n",
    "    SELECT \n",
    "        a.business_unit, a.region, a.mch5_id, a.mch5_desc, a.calyear, a.calweek, a.cnt_isoweek, a.year_week, \n",
    "        CONCAT(\n",
    "            IF(a.calweek - 2 <= 0, CAST(a.calyear AS INT), CAST(a.calyear AS INT) + 1), '.',  \n",
    "            LPAD(CAST(IF(a.calweek - 2 <= 0, a.calweek - 2 + a.cnt_isoweek, a.calweek - 2) AS STRING), 2, '0')\n",
    "        ) AS year_week_apply,\n",
    "        b.pct_05 AS lower_value, b.pct_95 AS upper_value,\n",
    "        a.seasonality_index_origin,\n",
    "        CASE\n",
    "            WHEN a.seasonality_index < b.pct_05 THEN b.pct_05 \n",
    "            WHEN a.seasonality_index > b.pct_95 THEN b.pct_95\n",
    "            ELSE a.seasonality_index\n",
    "        END AS seasonality_index\n",
    "    FROM seasonality a\n",
    "    LEFT JOIN pct b USING(business_unit, region, mch5_id)\n",
    ")\n",
    "SELECT\n",
    "    a.business_unit, a.region, a.mch5_id, a.mch5_desc, \n",
    "    a.calyear, a.calweek, a.cnt_isoweek, \n",
    "    a.year_week, \n",
    "    IFNULL(b.year_week_apply, a.year_week_apply) AS year_week_apply,\n",
    "    ROW_NUMBER() OVER(PARTITION BY a.business_unit, a.region, a.mch5_id, IFNULL(b.year_week_apply, a.year_week_apply)\n",
    "                      ORDER BY IF(c.year_week IS NULL, 1e9, 1)) AS rn,\n",
    "    a.lower_value, a.upper_value,\n",
    "    a.seasonality_index_origin, a.seasonality_index\n",
    "FROM main a\n",
    "LEFT JOIN adhoc b ON a.year_week = b.year_week\n",
    "LEFT JOIN adhoc c ON a.year_week = c.year_week AND a.year_week_apply = c.year_week\n",
    "\"\"\")\n"
   ]
  },
  {
   "cell_type": "code",
   "execution_count": 0,
   "metadata": {
    "application/vnd.databricks.v1+cell": {
     "cellMetadata": {
      "byteLimit": 2048000,
      "rowLimit": 10000
     },
     "inputWidgets": {},
     "nuid": "3fb3c440-7275-4a4c-a09e-811de88c4d1b",
     "showTitle": false,
     "tableResultSettingsMap": {},
     "title": ""
    }
   },
   "outputs": [],
   "source": [
    "%run \"../common/common_etl_update\""
   ]
  }
 ],
 "metadata": {
  "application/vnd.databricks.v1+notebook": {
   "computePreferences": null,
   "dashboards": [],
   "environmentMetadata": {
    "base_environment": "",
    "environment_version": "2"
   },
   "inputWidgetPreferences": null,
   "language": "python",
   "notebookMetadata": {
    "mostRecentlyExecutedCommandWithImplicitDF": {
     "commandId": 7344521253173703,
     "dataframes": [
      "_sqldf"
     ]
    },
    "pythonIndentUnit": 4
   },
   "notebookName": "f_seasonality_index_by_week",
   "widgets": {
    "dependency_table": {
     "currentValue": "VCM_DMT_PRD.A_STORE_SKU_DAILY",
     "nuid": "485b9408-dfd9-4f9b-93e6-9ad761c21732",
     "typedWidgetInfo": {
      "autoCreated": false,
      "defaultValue": "VCM_DMT_PRD.A_STORE_SKU_DAILY",
      "label": null,
      "name": "dependency_table",
      "options": {
       "widgetDisplayType": "Text",
       "validationRegex": null
      },
      "parameterDataType": "String"
     },
     "widgetInfo": {
      "widgetType": "text",
      "defaultValue": "VCM_DMT_PRD.A_STORE_SKU_DAILY",
      "label": null,
      "name": "dependency_table",
      "options": {
       "widgetType": "text",
       "autoCreated": null,
       "validationRegex": null
      }
     }
    },
    "environment": {
     "currentValue": "DEV",
     "nuid": "f3cca922-5814-4153-8f31-a33648b99b84",
     "typedWidgetInfo": {
      "autoCreated": false,
      "defaultValue": "",
      "label": "",
      "name": "environment",
      "options": {
       "widgetDisplayType": "Text",
       "validationRegex": null
      },
      "parameterDataType": "String"
     },
     "widgetInfo": {
      "widgetType": "text",
      "defaultValue": "",
      "label": "",
      "name": "environment",
      "options": {
       "widgetType": "text",
       "autoCreated": null,
       "validationRegex": null
      }
     }
    },
    "field_calday": {
     "currentValue": "CALDAY",
     "nuid": "c4ad5a78-0a76-4790-80b0-78f318fd73e8",
     "typedWidgetInfo": {
      "autoCreated": false,
      "defaultValue": "CALDAY",
      "label": null,
      "name": "field_calday",
      "options": {
       "widgetDisplayType": "Text",
       "validationRegex": null
      },
      "parameterDataType": "String"
     },
     "widgetInfo": {
      "widgetType": "text",
      "defaultValue": "CALDAY",
      "label": null,
      "name": "field_calday",
      "options": {
       "widgetType": "text",
       "autoCreated": null,
       "validationRegex": null
      }
     }
    },
    "field_id": {
     "currentValue": "HASH_ID",
     "nuid": "017f9955-7322-48ee-a4f5-1dd1be627429",
     "typedWidgetInfo": {
      "autoCreated": false,
      "defaultValue": "HASH_ID",
      "label": null,
      "name": "field_id",
      "options": {
       "widgetDisplayType": "Text",
       "validationRegex": null
      },
      "parameterDataType": "String"
     },
     "widgetInfo": {
      "widgetType": "text",
      "defaultValue": "HASH_ID",
      "label": null,
      "name": "field_id",
      "options": {
       "widgetType": "text",
       "autoCreated": null,
       "validationRegex": null
      }
     }
    },
    "metadata_schema": {
     "currentValue": "udp_wcm_metadata_dev",
     "nuid": "f20bf6ea-50e6-4775-b95c-1cb38a597eb7",
     "typedWidgetInfo": {
      "autoCreated": false,
      "defaultValue": "udp_wcm_metadata_dev",
      "label": null,
      "name": "metadata_schema",
      "options": {
       "widgetDisplayType": "Text",
       "validationRegex": null
      },
      "parameterDataType": "String"
     },
     "widgetInfo": {
      "widgetType": "text",
      "defaultValue": "udp_wcm_metadata_dev",
      "label": null,
      "name": "metadata_schema",
      "options": {
       "widgetType": "text",
       "autoCreated": null,
       "validationRegex": null
      }
     }
    },
    "proc_date": {
     "currentValue": "2025-07-21",
     "nuid": "08730828-1e1d-461b-b90b-181ef4ca4420",
     "typedWidgetInfo": {
      "autoCreated": false,
      "defaultValue": "",
      "label": "",
      "name": "proc_date",
      "options": {
       "widgetDisplayType": "Text",
       "validationRegex": null
      },
      "parameterDataType": "String"
     },
     "widgetInfo": {
      "widgetType": "text",
      "defaultValue": "",
      "label": "",
      "name": "proc_date",
      "options": {
       "widgetType": "text",
       "autoCreated": null,
       "validationRegex": null
      }
     }
    },
    "target_dataset": {
     "currentValue": "VCM_DMT_PRD",
     "nuid": "e86e87c5-1eb5-404d-95fc-727798cb67ee",
     "typedWidgetInfo": {
      "autoCreated": false,
      "defaultValue": "VCM_DMT_PRD",
      "label": null,
      "name": "target_dataset",
      "options": {
       "widgetDisplayType": "Text",
       "validationRegex": null
      },
      "parameterDataType": "String"
     },
     "widgetInfo": {
      "widgetType": "text",
      "defaultValue": "VCM_DMT_PRD",
      "label": null,
      "name": "target_dataset",
      "options": {
       "widgetType": "text",
       "autoCreated": null,
       "validationRegex": null
      }
     }
    },
    "target_table": {
     "currentValue": "f_seasonality_index_by_week",
     "nuid": "f695a469-0101-4c07-a1e8-522e89a692e4",
     "typedWidgetInfo": {
      "autoCreated": false,
      "defaultValue": "f_seasonality_index_by_week",
      "label": null,
      "name": "target_table",
      "options": {
       "widgetDisplayType": "Text",
       "validationRegex": null
      },
      "parameterDataType": "String"
     },
     "widgetInfo": {
      "widgetType": "text",
      "defaultValue": "f_seasonality_index_by_week",
      "label": null,
      "name": "target_table",
      "options": {
       "widgetType": "text",
       "autoCreated": null,
       "validationRegex": null
      }
     }
    }
   }
  },
  "language_info": {
   "name": "python"
  }
 },
 "nbformat": 4,
 "nbformat_minor": 0
}
