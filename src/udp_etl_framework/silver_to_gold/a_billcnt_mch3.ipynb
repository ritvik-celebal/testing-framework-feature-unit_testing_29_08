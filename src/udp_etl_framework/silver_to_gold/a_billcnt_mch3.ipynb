{
 "cells": [
  {
   "cell_type": "code",
   "execution_count": 0,
   "metadata": {
    "application/vnd.databricks.v1+cell": {
     "cellMetadata": {
      "byteLimit": 2048000,
      "rowLimit": 10000
     },
     "inputWidgets": {},
     "nuid": "ae0027e1-a907-458d-b7e4-039aca44b00a",
     "showTitle": false,
     "tableResultSettingsMap": {},
     "title": ""
    }
   },
   "outputs": [],
   "source": [
    "%run ../utils/common"
   ]
  },
  {
   "cell_type": "code",
   "execution_count": 0,
   "metadata": {
    "application/vnd.databricks.v1+cell": {
     "cellMetadata": {
      "byteLimit": 2048000,
      "rowLimit": 10000
     },
     "inputWidgets": {},
     "nuid": "f569cf1a-2640-437e-9eb6-51c2277aa301",
     "showTitle": true,
     "tableResultSettingsMap": {},
     "title": "table_specific_params"
    }
   },
   "outputs": [],
   "source": [
    "dbutils.widgets.text(\"environment\", \"DEV\")\n",
    "dbutils.widgets.text(\"target_dataset\", \"VCM_DMT_PRD\")\n",
    "dbutils.widgets.text(\"target_table\", \"a_billcnt_mch3\")\n",
    "dbutils.widgets.text(\"metadata_schema\", \"udp_wcm_metadata_dev\")\n",
    "dbutils.widgets.text(\n",
    "    \"dependency_table\",\n",
    "    \"VCM_DWH_PRD.F_TRANSACTION_LINE, VCM_STG_INF.SAP_VCDEXT01, VCM_DMT_PRD.A_FINANCE_BILL_SLL_DETAIL\",\n",
    ")"
   ]
  },
  {
   "cell_type": "code",
   "execution_count": 0,
   "metadata": {
    "application/vnd.databricks.v1+cell": {
     "cellMetadata": {
      "byteLimit": 2048000,
      "rowLimit": 10000
     },
     "inputWidgets": {},
     "nuid": "32769ffb-2d22-4e49-9c56-df175805234c",
     "showTitle": true,
     "tableResultSettingsMap": {},
     "title": "table_specific_params"
    }
   },
   "outputs": [],
   "source": [
    "dbutils.widgets.text(\"field_calday\", \"CALDAY\")\n",
    "dbutils.widgets.text(\"field_id\", \"HASH_ID\")"
   ]
  },
  {
   "cell_type": "code",
   "execution_count": 0,
   "metadata": {
    "application/vnd.databricks.v1+cell": {
     "cellMetadata": {
      "byteLimit": 2048000,
      "rowLimit": 10000
     },
     "inputWidgets": {},
     "nuid": "bcee1a6e-2d74-4c18-bb8c-2ee24ddaa8ea",
     "showTitle": true,
     "tableResultSettingsMap": {},
     "title": "catalog_name"
    }
   },
   "outputs": [],
   "source": [
    "catalog_name = settings[environment]['catalog_name']"
   ]
  },
  {
   "cell_type": "code",
   "execution_count": 0,
   "metadata": {
    "application/vnd.databricks.v1+cell": {
     "cellMetadata": {
      "byteLimit": 2048000,
      "rowLimit": 10000
     },
     "inputWidgets": {},
     "nuid": "841bfeb8-3ff0-46a6-8cd5-1f82ff1357ae",
     "showTitle": true,
     "tableResultSettingsMap": {},
     "title": "print common_etl_params"
    }
   },
   "outputs": [],
   "source": [
    "environment = dbutils.widgets.get(\"environment\")\n",
    "target_dataset = dbutils.widgets.get(\"target_dataset\")\n",
    "target_table = dbutils.widgets.get(\"target_table\")\n",
    "metadata_schema = dbutils.widgets.get(\"metadata_schema\")\n",
    "dependency_table = dbutils.widgets.get(\"dependency_table\")\n",
    "dependency_table = [x.strip() for x in dependency_table.split(\",\")]\n",
    "dependency_table = \"'\" + \"','\".join(dependency_table) + \"'\"\n",
    "\n",
    "print(f\"environment: {environment}\")\n",
    "print(f\"target_dataset: {target_dataset}\")\n",
    "print(f\"catalog_name: {catalog_name}\")\n",
    "print(f\"target_table: {target_table}\")\n",
    "print(f\"metadata_schema: {metadata_schema}\")\n",
    "print(f\"dependency_table: {dependency_table}\")"
   ]
  },
  {
   "cell_type": "code",
   "execution_count": 0,
   "metadata": {
    "application/vnd.databricks.v1+cell": {
     "cellMetadata": {
      "byteLimit": 2048000,
      "rowLimit": 10000
     },
     "inputWidgets": {},
     "nuid": "038425a4-2945-4930-a6b2-38b01b5c99bf",
     "showTitle": true,
     "tableResultSettingsMap": {},
     "title": "print table_specific_params"
    }
   },
   "outputs": [],
   "source": [
    "field_calday = dbutils.widgets.get(\"field_calday\")\n",
    "field_id = dbutils.widgets.get(\"field_id\")\n",
    "\n",
    "print(f\"field_calday: {field_calday}\")\n",
    "print(f\"field_id: {field_id}\")"
   ]
  },
  {
   "cell_type": "code",
   "execution_count": 0,
   "metadata": {
    "application/vnd.databricks.v1+cell": {
     "cellMetadata": {
      "byteLimit": 2048000,
      "rowLimit": 10000
     },
     "inputWidgets": {},
     "nuid": "0d5a3cae-2ec0-488d-a5bf-0541e3418e24",
     "showTitle": false,
     "tableResultSettingsMap": {},
     "title": ""
    }
   },
   "outputs": [],
   "source": [
    "%run \"../common/common_etl_load\""
   ]
  },
  {
   "cell_type": "code",
   "execution_count": 0,
   "metadata": {
    "application/vnd.databricks.v1+cell": {
     "cellMetadata": {
      "byteLimit": 2048000,
      "rowLimit": 10000
     },
     "inputWidgets": {},
     "nuid": "cc9542ee-b469-49dc-8ca3-9f889bd7981d",
     "showTitle": false,
     "tableResultSettingsMap": {},
     "title": ""
    }
   },
   "outputs": [],
   "source": [
    "if CALDAY_IN_STR != '':\n",
    "    spark.sql(f\"\"\"\n",
    "    CREATE OR REPLACE TEMP VIEW  temp_{target_table}\n",
    "    AS\n",
    "    WITH \n",
    "    TRANSACTION_SLL AS (\n",
    "        SELECT\n",
    "            DISTINCT\n",
    "            calday,\n",
    "            plant AS store_id,\n",
    "            rpa_tnr AS transaction_no\n",
    "        FROM {catalog_name}.udp_wcm_silver_sap_bw.sap_vcdext01\n",
    "        WHERE _bic_zc_fgroup = 'OGID'\n",
    "            AND _bic_zc_fname = 'B2B'\n",
    "            AND _bic_zc_fvalue LIKE 'B2B%'\n",
    "    ),\n",
    "    STORE_TXN AS (\n",
    "        SELECT\n",
    "            a.calday,\n",
    "            a.store_id,\n",
    "            b.mch3_id,\n",
    "            b.mch3_desc,\n",
    "            a.transaction_type,\n",
    "            COUNT(DISTINCT transaction_id) AS m_txn_cnt,\n",
    "            COUNT(DISTINCT CASE WHEN c.calday IS NULL AND c1.calday IS NULL THEN transaction_id ELSE NULL END) AS m_txn_cnt_excl_sll,\n",
    "            COUNT(DISTINCT CASE WHEN promotion_sale > 0 THEN transaction_id END) AS m_txn_cnt_promo\n",
    "        FROM\n",
    "            {catalog_name}.udp_wcm_gold_vcm_dwh.f_transaction_line a\n",
    "            INNER JOIN {catalog_name}.udp_wcm_gold_vcm_dwh.d_product b ON a.product_id = b.product_id\n",
    "            LEFT JOIN {catalog_name}.udp_wcm_gold_vcm_dmt.a_finance_bill_sll_detail c ON a.calday = c.calday AND a.store_id = c.store_id AND a.product_id = c.product_id AND LTRIM('0',a.transaction_no) = LTRIM('0',c.transaction_no)\n",
    "            LEFT JOIN transaction_sll c1 ON a.calday = c1.calday AND a.store_id = c1.store_id AND LTRIM('0',a.transaction_no) = LTRIM('0',c1.transaction_no)\n",
    "        WHERE a.calday IN ({CALDAY_IN_STR})\n",
    "        GROUP BY 1,2,3,4,5\n",
    "    ),\n",
    "    BILL_CNT_BY_MCH3 AS (\n",
    "        SELECT\n",
    "            calday,\n",
    "            a.store_id,\n",
    "            a.mch3_id,\n",
    "            a.mch3_desc,\n",
    "            SUM(b.bill_count * a.m_txn_cnt) AS billcnt_total,\n",
    "            SUM(b.bill_count * a.m_txn_cnt_excl_sll) AS billcnt_excl_sll,\n",
    "            SUM(b.bill_count * a.m_txn_cnt_promo) AS billcnt_promo\n",
    "        FROM\n",
    "            store_txn a\n",
    "            INNER JOIN {catalog_name}.udp_wcm_silver_dim.transaction_type b ON a.transaction_type = b.transaction_type\n",
    "        GROUP BY 1,2,3,4\n",
    "    )\n",
    "    SELECT\n",
    "        a.calday,\n",
    "        a.store_id,\n",
    "        b.store_name,\n",
    "        a.mch3_id,\n",
    "        a.mch3_desc,\n",
    "        a.billcnt_total AS billcnt,\n",
    "        a.billcnt_excl_sll,\n",
    "        a.billcnt_promo,\n",
    "        b.billcnt_total AS billcnt_store\n",
    "    FROM bill_cnt_by_mch3 a\n",
    "    LEFT JOIN {catalog_name}.udp_wcm_gold_vcm_dmt.a_billcnt_store b ON a.calday = b.calday AND a.store_id = b.store_id\n",
    "    \"\"\")"
   ]
  },
  {
   "cell_type": "code",
   "execution_count": 0,
   "metadata": {
    "application/vnd.databricks.v1+cell": {
     "cellMetadata": {
      "byteLimit": 2048000,
      "rowLimit": 10000
     },
     "inputWidgets": {},
     "nuid": "1d117113-0c5d-4d19-9312-1f3349765528",
     "showTitle": false,
     "tableResultSettingsMap": {},
     "title": ""
    }
   },
   "outputs": [],
   "source": [
    "# Get the calday list string from temp table\n",
    "if CALDAY_IN_STR != '':\n",
    "    calday_query = f\"\"\"\n",
    "    SELECT\n",
    "        CONCAT(\"'\", CONCAT_WS(\"','\", COLLECT_SET(CAST(TO_DATE(calday, 'yyyy-MM-dd') AS STRING))), \"'\") AS calday_in_str\n",
    "    FROM temp_{target_table}\n",
    "    \"\"\"\n",
    "\n",
    "    calday_df = spark.sql(calday_query)\n",
    "    calday_in_str = calday_df.collect()[0][0]\n",
    "\n",
    "    # Only run DELETE if the string is non-empty\n",
    "    if calday_in_str.strip(\"'\"):  # checks if there's any date inside the quotes\n",
    "        spark.sql(\n",
    "            f\"\"\"\n",
    "        DELETE FROM {catalog_name}.udp_wcm_gold_vcm_dmt.a_billcnt_mch3\n",
    "        WHERE calday IN ({calday_in_str})\n",
    "        \"\"\"\n",
    "        ).display()\n",
    "    else:\n",
    "        print(\"No valid CALDAYs found to delete.\")"
   ]
  },
  {
   "cell_type": "code",
   "execution_count": 0,
   "metadata": {
    "application/vnd.databricks.v1+cell": {
     "cellMetadata": {
      "byteLimit": 2048000,
      "rowLimit": 10000
     },
     "inputWidgets": {},
     "nuid": "4968728b-a98a-4c29-8f17-a729d01f4eae",
     "showTitle": false,
     "tableResultSettingsMap": {},
     "title": ""
    }
   },
   "outputs": [],
   "source": [
    "if CALDAY_IN_STR != \"\":\n",
    "    # Insert rows from temp table into main table\n",
    "    INSERT_ROW = \", \".join(\n",
    "        spark.table(f\"{catalog_name}.udp_wcm_gold_vcm_dmt.a_billcnt_mch3\").columns\n",
    "    )\n",
    "    spark.sql(\n",
    "        f\"\"\"\n",
    "        INSERT INTO {catalog_name}.udp_wcm_gold_vcm_dmt.a_billcnt_mch3 ({INSERT_ROW})\n",
    "        SELECT {INSERT_ROW} FROM temp_{target_table}\n",
    "    \"\"\"\n",
    "    ).display()\n",
    "else:\n",
    "    print(\n",
    "        f\"temp_{target_table} could't be created as no valid calday's found In common-etl so {catalog_name}.udp_wcm_gold_vcm_dmt.a_billcnt_mch3 can't be inserted using calday's from temp_{target_table}\"\n",
    "    )"
   ]
  },
  {
   "cell_type": "code",
   "execution_count": 0,
   "metadata": {
    "application/vnd.databricks.v1+cell": {
     "cellMetadata": {
      "byteLimit": 2048000,
      "rowLimit": 10000
     },
     "inputWidgets": {},
     "nuid": "cf0548e2-1951-42bb-97e1-036bdf61297f",
     "showTitle": false,
     "tableResultSettingsMap": {},
     "title": ""
    }
   },
   "outputs": [],
   "source": [
    "if CALDAY_IN_STR == '':\n",
    "    dbutils.notebook.exit(\"No valid calday's found In common-etl to insert data into Table: ETL_LOG_DEPENDENCIES and ETL_DELTA_TABLE and \")"
   ]
  },
  {
   "cell_type": "code",
   "execution_count": 0,
   "metadata": {
    "application/vnd.databricks.v1+cell": {
     "cellMetadata": {
      "byteLimit": 2048000,
      "rowLimit": 10000
     },
     "inputWidgets": {},
     "nuid": "6a636900-9082-492e-9c1a-1e327209261e",
     "showTitle": false,
     "tableResultSettingsMap": {},
     "title": ""
    }
   },
   "outputs": [],
   "source": [
    "%run \"../common/common_etl_update\""
   ]
  }
 ],
 "metadata": {
  "application/vnd.databricks.v1+notebook": {
   "computePreferences": null,
   "dashboards": [],
   "environmentMetadata": {
    "base_environment": "",
    "environment_version": "2"
   },
   "inputWidgetPreferences": null,
   "language": "python",
   "notebookMetadata": {
    "mostRecentlyExecutedCommandWithImplicitDF": {
     "commandId": 6540195001598221,
     "dataframes": [
      "_sqldf"
     ]
    },
    "pythonIndentUnit": 4
   },
   "notebookName": "a_billcnt_mch3",
   "widgets": {
    "catalog_name": {
     "currentValue": "udp_wcm_dev",
     "nuid": "bdd1f14a-c4b6-486f-9b82-d4aef70eb2fc",
     "typedWidgetInfo": {
      "autoCreated": false,
      "defaultValue": "a_billcnt_mch3",
      "label": null,
      "name": "catalog_name",
      "options": {
       "widgetDisplayType": "Text",
       "validationRegex": null
      },
      "parameterDataType": "String"
     },
     "widgetInfo": {
      "widgetType": "text",
      "defaultValue": "a_billcnt_mch3",
      "label": null,
      "name": "catalog_name",
      "options": {
       "widgetType": "text",
       "autoCreated": null,
       "validationRegex": null
      }
     }
    },
    "dependency_table": {
     "currentValue": "VCM_DWH_PRD.F_TRANSACTION_LINE, VCM_STG_INF.SAP_VCDEXT01, VCM_DMT_PRD.A_FINANCE_BILL_SLL_DETAIL",
     "nuid": "96d92538-6873-44c7-ab32-6a1e7333afbc",
     "typedWidgetInfo": {
      "autoCreated": false,
      "defaultValue": "UDP_WCM_GOLD_VCM_DWH.F_TRANSACTION_LINE, UDP_WCM_SILVER_SAP_BW.SAP_VCDEXT01, UDP_WCM_GOLD_VCM_DMT.A_FINANCE_BILL_SLL_DETAIL",
      "label": null,
      "name": "dependency_table",
      "options": {
       "widgetDisplayType": "Text",
       "validationRegex": null
      },
      "parameterDataType": "String"
     },
     "widgetInfo": {
      "widgetType": "text",
      "defaultValue": "UDP_WCM_GOLD_VCM_DWH.F_TRANSACTION_LINE, UDP_WCM_SILVER_SAP_BW.SAP_VCDEXT01, UDP_WCM_GOLD_VCM_DMT.A_FINANCE_BILL_SLL_DETAIL",
      "label": null,
      "name": "dependency_table",
      "options": {
       "widgetType": "text",
       "autoCreated": null,
       "validationRegex": null
      }
     }
    },
    "environment": {
     "currentValue": "DEV",
     "nuid": "e672cf75-4e0f-4c15-9d4c-135cdee5dab2",
     "typedWidgetInfo": {
      "autoCreated": false,
      "defaultValue": "DEV",
      "label": null,
      "name": "environment",
      "options": {
       "widgetDisplayType": "Text",
       "validationRegex": null
      },
      "parameterDataType": "String"
     },
     "widgetInfo": {
      "widgetType": "text",
      "defaultValue": "DEV",
      "label": null,
      "name": "environment",
      "options": {
       "widgetType": "text",
       "autoCreated": null,
       "validationRegex": null
      }
     }
    },
    "field_calday": {
     "currentValue": "CALDAY",
     "nuid": "1d5c5f91-2352-4303-93f4-3b73d47c720a",
     "typedWidgetInfo": {
      "autoCreated": false,
      "defaultValue": "CALDAY",
      "label": null,
      "name": "field_calday",
      "options": {
       "widgetDisplayType": "Text",
       "validationRegex": null
      },
      "parameterDataType": "String"
     },
     "widgetInfo": {
      "widgetType": "text",
      "defaultValue": "CALDAY",
      "label": null,
      "name": "field_calday",
      "options": {
       "widgetType": "text",
       "autoCreated": null,
       "validationRegex": null
      }
     }
    },
    "field_id": {
     "currentValue": "HASH_ID",
     "nuid": "a426aa64-8943-467c-9e69-390df6eb8c0c",
     "typedWidgetInfo": {
      "autoCreated": false,
      "defaultValue": "HASH_ID",
      "label": null,
      "name": "field_id",
      "options": {
       "widgetDisplayType": "Text",
       "validationRegex": null
      },
      "parameterDataType": "String"
     },
     "widgetInfo": {
      "widgetType": "text",
      "defaultValue": "HASH_ID",
      "label": null,
      "name": "field_id",
      "options": {
       "widgetType": "text",
       "autoCreated": null,
       "validationRegex": null
      }
     }
    },
    "metadata_schema": {
     "currentValue": "udp_wcm_metadata_dev",
     "nuid": "afa2688b-3423-41af-8602-358fcb9c8c33",
     "typedWidgetInfo": {
      "autoCreated": false,
      "defaultValue": "udp_wcm_metadata_dev",
      "label": null,
      "name": "metadata_schema",
      "options": {
       "widgetDisplayType": "Text",
       "validationRegex": null
      },
      "parameterDataType": "String"
     },
     "widgetInfo": {
      "widgetType": "text",
      "defaultValue": "udp_wcm_metadata_dev",
      "label": null,
      "name": "metadata_schema",
      "options": {
       "widgetType": "text",
       "autoCreated": null,
       "validationRegex": null
      }
     }
    },
    "target_dataset": {
     "currentValue": "VCM_DMT_PRD",
     "nuid": "6c079a2a-4483-46b7-893d-059096f7e7cb",
     "typedWidgetInfo": {
      "autoCreated": false,
      "defaultValue": "udp_wcm_gold_vcm_dwh",
      "label": null,
      "name": "target_dataset",
      "options": {
       "widgetDisplayType": "Text",
       "validationRegex": null
      },
      "parameterDataType": "String"
     },
     "widgetInfo": {
      "widgetType": "text",
      "defaultValue": "udp_wcm_gold_vcm_dwh",
      "label": null,
      "name": "target_dataset",
      "options": {
       "widgetType": "text",
       "autoCreated": null,
       "validationRegex": null
      }
     }
    },
    "target_table": {
     "currentValue": "a_billcnt_mch3",
     "nuid": "0920e102-5660-4ae7-8c9d-0d7fb95c9694",
     "typedWidgetInfo": {
      "autoCreated": false,
      "defaultValue": "a_billcnt_mch3",
      "label": null,
      "name": "target_table",
      "options": {
       "widgetDisplayType": "Text",
       "validationRegex": null
      },
      "parameterDataType": "String"
     },
     "widgetInfo": {
      "widgetType": "text",
      "defaultValue": "a_billcnt_mch3",
      "label": null,
      "name": "target_table",
      "options": {
       "widgetType": "text",
       "autoCreated": null,
       "validationRegex": null
      }
     }
    }
   }
  },
  "language_info": {
   "name": "python"
  }
 },
 "nbformat": 4,
 "nbformat_minor": 0
}
