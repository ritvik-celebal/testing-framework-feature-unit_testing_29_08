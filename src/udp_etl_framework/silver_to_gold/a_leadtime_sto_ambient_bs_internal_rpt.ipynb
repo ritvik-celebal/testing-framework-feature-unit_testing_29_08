{
 "cells": [
  {
   "cell_type": "code",
   "execution_count": 0,
   "metadata": {
    "application/vnd.databricks.v1+cell": {
     "cellMetadata": {
      "byteLimit": 2048000,
      "rowLimit": 10000
     },
     "inputWidgets": {},
     "nuid": "684a9af6-c6d0-45ed-8dc9-57c7934638a0",
     "showTitle": false,
     "tableResultSettingsMap": {},
     "title": ""
    }
   },
   "outputs": [],
   "source": [
    "%run ../utils/common"
   ]
  },
  {
   "cell_type": "code",
   "execution_count": 0,
   "metadata": {
    "application/vnd.databricks.v1+cell": {
     "cellMetadata": {
      "byteLimit": 2048000,
      "rowLimit": 10000
     },
     "inputWidgets": {},
     "nuid": "18357bbb-9f09-4897-808a-3abc5941a2e3",
     "showTitle": false,
     "tableResultSettingsMap": {},
     "title": ""
    }
   },
   "outputs": [],
   "source": [
    "dbutils.widgets.text(\"environment\", \"\", \"\")\n",
    "environment = dbutils.widgets.get(\"environment\")"
   ]
  },
  {
   "cell_type": "code",
   "execution_count": 0,
   "metadata": {
    "application/vnd.databricks.v1+cell": {
     "cellMetadata": {
      "byteLimit": 2048000,
      "rowLimit": 10000
     },
     "inputWidgets": {},
     "nuid": "08ca4c8c-1a2d-4eb5-83ad-4cb91deb280d",
     "showTitle": false,
     "tableResultSettingsMap": {},
     "title": ""
    }
   },
   "outputs": [],
   "source": [
    "catalog_name = settings[environment]['catalog_name']"
   ]
  },
  {
   "cell_type": "code",
   "execution_count": 0,
   "metadata": {
    "application/vnd.databricks.v1+cell": {
     "cellMetadata": {
      "byteLimit": 2048000,
      "rowLimit": 10000
     },
     "inputWidgets": {},
     "nuid": "8c86b8dc-910c-4513-8d2a-27f3f5e5223f",
     "showTitle": false,
     "tableResultSettingsMap": {},
     "title": ""
    }
   },
   "outputs": [],
   "source": [
    "spark.sql(f\"\"\"\n",
    "CREATE OR REPLACE TABLE {catalog_name}.udp_wcm_gold_vcm_dmt.a_leadtime_sto_ambient_bs_internal_rpt\n",
    "TBLPROPERTIES (\n",
    "  'DELTA.AUTOOPTIMIZE.OPTIMIZEWRITE' = 'TRUE',\n",
    "  'DELTA.AUTOOPTIMIZE.AUTOCOMPACT' = 'TRUE'\n",
    ") \n",
    "AS\n",
    "WITH sto_data AS(\n",
    "  SELECT DISTINCT\n",
    "    a.po_doc,\n",
    "    a.po_type,\n",
    "    a.po_item,\n",
    "    a.store_id,\n",
    "    a.product_id,\n",
    "    a.dc_id,\n",
    "    a.creation_date sto_creation_date,\n",
    "    a1.sto_number,\n",
    "    MAX(gi_to_date) gi_date,\n",
    "    SUM(po_qty * (COALESCE(b.numerator, 1) / CASE WHEN COALESCE(b.denomintr, 1) = 0 THEN 1 ELSE COALESCE(b.denomintr, 1) END)) AS sto_qty_base,\n",
    "    SUM(po_gi_qty * (COALESCE(b.numerator, 1) / CASE WHEN COALESCE(b.denomintr, 1) = 0 THEN 1 ELSE COALESCE(b.denomintr, 1) END)) AS gi_qty_base\n",
    "\n",
    "  FROM\n",
    "    {catalog_name}.udp_wcm_gold_vcm_dwh.f_po_item a\n",
    "    LEFT JOIN {catalog_name}.udp_wcm_gold_vcm_dwh.d_product_unit b ON a.product_id = b.product_id AND a.po_unit = b.unit\n",
    "    LEFT JOIN (SELECT DISTINCT sto_number FROM {catalog_name}.udp_wcm_gold_vcm_dwh.f_allocation_table) a1 ON a.po_doc = a1.sto_number\n",
    "    LEFT JOIN {catalog_name}.udp_wcm_gold_vcm_dwh.d_store c ON a.dc_id = c.store_id\n",
    "  WHERE\n",
    "    calday >= (date_sub(CURRENT_TIMESTAMP() + INTERVAL 7 HOURS, (dayofweek(CURRENT_TIMESTAMP() + INTERVAL 7 HOURS) + 6) % 7)  - INTERVAL 26 WEEK)\n",
    "    AND c.business_unit = '1100'\n",
    "    AND a.po_type <> 'Collective PO'\n",
    "    AND (a1.sto_number IS NULL)\n",
    "  GROUP BY 1,2,3,4,5,6,7,8\n",
    "),\n",
    "bs AS (\n",
    "  SELECT\n",
    "    a.po_doc sto_number,\n",
    "    a.po_item sto_item,\n",
    "    a.store_id,\n",
    "    a.product_id,\n",
    "    a.sto_creation_date start_date,\n",
    "    a.gi_date end_date,\n",
    "    a.dc_id,\n",
    "    'BS' sto_type,\n",
    "    SUM(sto_qty_base) sto_qty,\n",
    "    SUM(gi_qty_base) gi_qty\n",
    "  FROM sto_data a\n",
    "  GROUP BY 1,2,3,4,5,6,7,8\n",
    "),\n",
    "temp_wk AS (\n",
    "  SELECT DISTINCT\n",
    "    sto_type,\n",
    "    sto_number,\n",
    "    sto_item,\n",
    "    product_id,\n",
    "    start_date,\n",
    "    end_date,\n",
    "    store_id,\n",
    "    a.dc_id,\n",
    "    sto_qty,\n",
    "    gi_qty,\n",
    "    COUNT(IF(f.workingday = 0,1,NULL)) subtract_wkd,\n",
    "    COUNT(IF(g.dc_id IS NOT NULL and f.date = g.stock_count_date,1,NULL)) subtract_stockcnt\n",
    "  FROM\n",
    "    bs a\n",
    "    LEFT JOIN {catalog_name}.udp_wcm_gold_vcm_dwh.d_working_day_cnt f ON a.end_date >= f.date AND a.start_date <= f.date\n",
    "    LEFT JOIN {catalog_name}.udp_wcm_gold_vcm_dmt.d_portal_stock_count_date_bydc g ON a.end_date >= g.stock_count_date AND a.start_date <= g.stock_count_date AND a.dc_id = CAST(g.dc_id AS STRING)\n",
    "  GROUP BY 1,2,3,4,5,6,7,8,9,10\n",
    "),\n",
    "ontime_check AS (\n",
    "  SELECT\n",
    "    a.*,\n",
    "    DATEDIFF(end_date, start_date) - (IFNULL(subtract_wkd, 0) + IFNULL(subtract_stockcnt, 0)) leadtime_actual,\n",
    "    CASE WHEN city IN ('HÀ NỘI','HỒ CHÍ MINH') AND manufacturer_id = '1000' THEN 4 ELSE 7 END leadtime_qual,\n",
    "    DATEDIFF(DATE(CURRENT_TIMESTAMP() + INTERVAL 7 HOURS), start_date)\n",
    " - (COALESCE(subtract_wkd, 0) + COALESCE(subtract_stockcnt, 0)) AS time_tilltoday\n",
    "  FROM\n",
    "    temp_wk a\n",
    "    INNER JOIN {catalog_name}.udp_wcm_gold_vcm_dwh.d_store USING (store_id)\n",
    "    INNER JOIN {catalog_name}.udp_wcm_gold_vcm_dwh.d_product USING (product_id)\n",
    "    INNER JOIN {catalog_name}.udp_wcm_gold_vcm_dwh.d_time d ON a.start_date = d.calday\n",
    "  WHERE\n",
    "    business_unit IN ('1500','2000')\n",
    "    AND mch2_id IN ('102','201','202','203')\n",
    ")\n",
    ",summary AS (\n",
    "  SELECT\n",
    "    a.* ,\n",
    "    CASE \n",
    "    WHEN leadtime_actual IS NULL THEN \n",
    "        CASE \n",
    "            WHEN IF(GREATEST(0, leadtime_actual) = 0, NULL, GREATEST(0, leadtime_actual)) <= leadtime_qual THEN 'ONTIME'\n",
    "            WHEN start_date > end_date THEN 'NOT COUNT'\n",
    "            WHEN time_tilltoday <= leadtime_qual THEN 'IN LEADTIME REQUIRED'\n",
    "            ELSE 'LATE'\n",
    "        END\n",
    "    WHEN GREATEST(0, leadtime_actual) <= leadtime_qual THEN 'ONTIME'\n",
    "    WHEN start_date > end_date THEN 'NOT COUNT'\n",
    "    WHEN time_tilltoday <= leadtime_qual THEN 'IN LEADTIME REQUIRED'\n",
    "    ELSE 'LATE'\n",
    "    END AS ontime_check\n",
    "  FROM ontime_check a\n",
    ")\n",
    "SELECT a.* ,\n",
    "    IF(end_date IS NOT NULL,gi_qty,0) infull_qty,\n",
    "    IF(ontime_check = 'ONTIME',gi_qty,0) ontime_qty\n",
    "FROM summary a;\n",
    "\"\"\")"
   ]
  }
 ],
 "metadata": {
  "application/vnd.databricks.v1+notebook": {
   "computePreferences": null,
   "dashboards": [],
   "environmentMetadata": {
    "base_environment": "",
    "environment_version": "2"
   },
   "inputWidgetPreferences": null,
   "language": "python",
   "notebookMetadata": {
    "mostRecentlyExecutedCommandWithImplicitDF": {
     "commandId": 4736130552737155,
     "dataframes": [
      "_sqldf"
     ]
    },
    "pythonIndentUnit": 4
   },
   "notebookName": "a_leadtime_sto_ambient_bs_internal_rpt",
   "widgets": {
    "environment": {
     "currentValue": "DEV",
     "nuid": "c6c800ba-5920-47cf-a370-cc77e767e68b",
     "typedWidgetInfo": {
      "autoCreated": false,
      "defaultValue": "",
      "label": "",
      "name": "environment",
      "options": {
       "widgetDisplayType": "Text",
       "validationRegex": null
      },
      "parameterDataType": "String"
     },
     "widgetInfo": {
      "widgetType": "text",
      "defaultValue": "",
      "label": "",
      "name": "environment",
      "options": {
       "widgetType": "text",
       "autoCreated": null,
       "validationRegex": null
      }
     }
    }
   }
  },
  "language_info": {
   "name": "python"
  }
 },
 "nbformat": 4,
 "nbformat_minor": 0
}
