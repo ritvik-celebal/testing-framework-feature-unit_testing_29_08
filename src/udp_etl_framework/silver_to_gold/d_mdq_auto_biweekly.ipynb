{
 "cells": [
  {
   "cell_type": "code",
   "execution_count": 0,
   "metadata": {
    "application/vnd.databricks.v1+cell": {
     "cellMetadata": {
      "byteLimit": 2048000,
      "rowLimit": 10000
     },
     "inputWidgets": {},
     "nuid": "44a9c429-a54e-4123-b680-677b6e38f73d",
     "showTitle": false,
     "tableResultSettingsMap": {},
     "title": ""
    }
   },
   "outputs": [],
   "source": [
    "%run ../utils/common"
   ]
  },
  {
   "cell_type": "code",
   "execution_count": 0,
   "metadata": {
    "application/vnd.databricks.v1+cell": {
     "cellMetadata": {
      "byteLimit": 2048000,
      "rowLimit": 10000
     },
     "inputWidgets": {},
     "nuid": "de908909-8383-4991-8001-23bd4e3fd00f",
     "showTitle": false,
     "tableResultSettingsMap": {},
     "title": ""
    }
   },
   "outputs": [],
   "source": [
    "dbutils.widgets.text(\"environment\", \"\", \"\")\n",
    "environment = dbutils.widgets.get(\"environment\")"
   ]
  },
  {
   "cell_type": "code",
   "execution_count": 0,
   "metadata": {
    "application/vnd.databricks.v1+cell": {
     "cellMetadata": {
      "byteLimit": 2048000,
      "rowLimit": 10000
     },
     "inputWidgets": {},
     "nuid": "b52672cd-bee5-49c6-a8f0-5b008a62c20a",
     "showTitle": false,
     "tableResultSettingsMap": {},
     "title": ""
    }
   },
   "outputs": [],
   "source": [
    "catalog_name = settings[environment]['catalog_name']"
   ]
  },
  {
   "cell_type": "code",
   "execution_count": 0,
   "metadata": {
    "application/vnd.databricks.v1+cell": {
     "cellMetadata": {
      "byteLimit": 2048000,
      "rowLimit": 10000
     },
     "inputWidgets": {},
     "nuid": "2bee8817-7cb9-44e7-a75c-d7e6ebac4212",
     "showTitle": false,
     "tableResultSettingsMap": {},
     "title": ""
    }
   },
   "outputs": [],
   "source": [
    "spark.sql(f\"\"\"\n",
    "CREATE OR REPLACE TABLE {catalog_name}.udp_wcm_gold_vcm_dwh.d_mdq_auto_biweekly \n",
    "TBLPROPERTIES (\n",
    "  'DELTA.AUTOOPTIMIZE.OPTIMIZEWRITE' = 'TRUE',\n",
    "  'DELTA.AUTOOPTIMIZE.AUTOCOMPACT' = 'TRUE'\n",
    ")\n",
    "AS\n",
    "WITH asm_kg_tv AS (\n",
    "    SELECT DISTINCT st.business_unit, a.store_id, a.product_id\n",
    "    FROM {catalog_name}.udp_wcm_gold_vcm_dwh.d_assortment_scd a \n",
    "    LEFT JOIN {catalog_name}.udp_wcm_gold_vcm_dwh.d_store st USING(store_id)\n",
    "    WHERE (\n",
    "            (st.business_unit = '2000' AND a.assortment IN ('VMP_KGMB', 'VMP_KGMN', 'WMP_THOIVU'))\n",
    "            OR (st.business_unit = '1500' AND (a.assortment LIKE 'KG\\\\_%' OR a.assortment LIKE 'VM\\\\_KG%'))\n",
    "            OR a.assortment LIKE 'KG_%'\n",
    "        )\n",
    "        AND a.status = 'ACTIVE'\n",
    "        AND DATE(start_date) <= DATE(CURRENT_TIMESTAMP() + INTERVAL 7 HOURS) \n",
    "        AND DATE(end_date) >= DATE(CURRENT_TIMESTAMP() + INTERVAL 7 HOURS)\n",
    "), \n",
    "tac AS (\n",
    "    SELECT * FROM {catalog_name}.udp_wcm_silver_dim.wmt_assortment_clustering \n",
    "    WHERE proc_date = (SELECT MAX(proc_date) FROM {catalog_name}.udp_wcm_silver_dim.wmt_assortment_clustering)\n",
    "), \n",
    "pac AS (\n",
    "    SELECT * FROM {catalog_name}.udp_wcm_silver_dim.wmp_assortment_clustering \n",
    "    WHERE proc_date = (SELECT MAX(proc_date) FROM {catalog_name}.udp_wcm_silver_dim.wmp_assortment_clustering)\n",
    "), \n",
    "tab02a AS (\n",
    "    SELECT *\n",
    "    FROM {catalog_name}.udp_wcm_gold_vcm_dwh.d_assortment_active_biweekly\n",
    "    WHERE calday = (SELECT MAX(calday) FROM {catalog_name}.udp_wcm_gold_vcm_dwh.d_assortment_active_biweekly)\n",
    ")\n",
    "SELECT \n",
    "    st.business_unit, a.store_id, a.product_id,\n",
    "    t1.core_range assortment_type,\n",
    "    CASE\n",
    "        WHEN t1.core_range IN ('Core 1', 'Core 2') OR t2.product_id IS NOT NULL THEN IFNULL(tac.mdq, IFNULL(pac.mdq, 2))\n",
    "        ELSE NULL\n",
    "    END mdq\n",
    "FROM tab02a a \n",
    "LEFT JOIN {catalog_name}.udp_wcm_gold_vcm_dwh.d_store st ON st.store_id = a.store_id\n",
    "LEFT JOIN {catalog_name}.udp_wcm_gold_vcm_dwh.d_product pd ON pd.product_id = a.product_id\n",
    "LEFT JOIN tac ON tac.bu = st.business_unit AND tac.mch5_id = pd.mch5_id AND tac.size_st = st.size_st\n",
    "LEFT JOIN pac ON pac.bu = st.business_unit AND pac.city = st.city AND pac.product_id = pd.product_id\n",
    "LEFT JOIN asm_kg_tv akt ON akt.business_unit = st.business_unit AND akt.store_id = a.store_id AND akt.product_id = a.product_id\n",
    "LEFT JOIN {catalog_name}.udp_wcm_gold_vcm_dwh.d_core_range_assortment t1 ON a.store_id = t1.store_id AND a.product_id = t1.product_id\n",
    "LEFT JOIN (SELECT DISTINCT store_id, product_id FROM {catalog_name}.udp_wcm_gold_vcm_dwh.d_assortment_hero) t2 ON a.store_id = t2.store_id AND a.product_id = t2.product_id\n",
    "WHERE \n",
    "    (\n",
    "        pd.mch2_id <> '101' \n",
    "        OR a.product_id IN (SELECT DISTINCT product_id FROM {catalog_name}.udp_wcm_gold_vcm_dwh.d_winare_dc_fresh_sku)\n",
    "    ) \n",
    "    AND akt.product_id IS NULL\n",
    "    AND st.business_unit IN ('1500', '2000', '6000');\n",
    "\"\"\")"
   ]
  },
  {
   "cell_type": "code",
   "execution_count": 0,
   "metadata": {
    "application/vnd.databricks.v1+cell": {
     "cellMetadata": {
      "byteLimit": 2048000,
      "rowLimit": 10000
     },
     "inputWidgets": {},
     "nuid": "5dbf3196-b6d3-4b1a-9c9c-85f09b464332",
     "showTitle": false,
     "tableResultSettingsMap": {},
     "title": ""
    }
   },
   "outputs": [],
   "source": [
    "spark.sql(f\"\"\"\n",
    "DELETE FROM {catalog_name}.udp_wcm_gold_vcm_dwh.d_mdq_auto_biweekly_hist \n",
    "WHERE CALDAY = DATE(CURRENT_TIMESTAMP() + INTERVAL 7 HOURS)\"\"\")\n"
   ]
  },
  {
   "cell_type": "code",
   "execution_count": 0,
   "metadata": {
    "application/vnd.databricks.v1+cell": {
     "cellMetadata": {
      "byteLimit": 2048000,
      "rowLimit": 10000
     },
     "inputWidgets": {},
     "nuid": "94f60979-8b09-48df-9bf3-40a8876c43e5",
     "showTitle": false,
     "tableResultSettingsMap": {},
     "title": ""
    }
   },
   "outputs": [],
   "source": [
    "spark.sql(f\"\"\"\n",
    "INSERT INTO {catalog_name}.udp_wcm_gold_vcm_dwh.d_mdq_auto_biweekly_hist\n",
    "SELECT \n",
    "    DATE(CURRENT_TIMESTAMP() + INTERVAL 7 HOURS) AS calday,\n",
    "    business_unit,\n",
    "    store_id,\n",
    "    product_id,\n",
    "    mdq\n",
    "FROM {catalog_name}.udp_wcm_gold_vcm_dwh.d_mdq_auto_biweekly;\n",
    "\"\"\")"
   ]
  }
 ],
 "metadata": {
  "application/vnd.databricks.v1+notebook": {
   "computePreferences": null,
   "dashboards": [],
   "environmentMetadata": {
    "base_environment": "",
    "environment_version": "2"
   },
   "inputWidgetPreferences": null,
   "language": "python",
   "notebookMetadata": {
    "mostRecentlyExecutedCommandWithImplicitDF": {
     "commandId": 7469597179132180,
     "dataframes": [
      "_sqldf"
     ]
    },
    "pythonIndentUnit": 4
   },
   "notebookName": "d_mdq_auto_biweekly",
   "widgets": {
    "environment": {
     "currentValue": "DEV",
     "nuid": "b42aa97f-8edb-4b59-bffa-51b8a9fee609",
     "typedWidgetInfo": {
      "autoCreated": false,
      "defaultValue": "",
      "label": "",
      "name": "environment",
      "options": {
       "widgetDisplayType": "Text",
       "validationRegex": null
      },
      "parameterDataType": "String"
     },
     "widgetInfo": {
      "widgetType": "text",
      "defaultValue": "",
      "label": "",
      "name": "environment",
      "options": {
       "widgetType": "text",
       "autoCreated": null,
       "validationRegex": null
      }
     }
    }
   }
  },
  "language_info": {
   "name": "python"
  }
 },
 "nbformat": 4,
 "nbformat_minor": 0
}
