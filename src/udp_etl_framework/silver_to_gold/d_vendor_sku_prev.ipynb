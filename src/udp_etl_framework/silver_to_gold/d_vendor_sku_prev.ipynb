{
 "cells": [
  {
   "cell_type": "code",
   "execution_count": 0,
   "metadata": {
    "application/vnd.databricks.v1+cell": {
     "cellMetadata": {
      "byteLimit": 2048000,
      "rowLimit": 10000
     },
     "inputWidgets": {},
     "nuid": "06b0e7a4-b65e-4d2d-a3d1-a7b9d2e927e9",
     "showTitle": false,
     "tableResultSettingsMap": {},
     "title": ""
    }
   },
   "outputs": [],
   "source": [
    "%run ../utils/common"
   ]
  },
  {
   "cell_type": "code",
   "execution_count": 0,
   "metadata": {
    "application/vnd.databricks.v1+cell": {
     "cellMetadata": {
      "byteLimit": 2048000,
      "rowLimit": 10000
     },
     "inputWidgets": {},
     "nuid": "a5509b31-d173-49f6-8f2e-5d9d57188dbd",
     "showTitle": false,
     "tableResultSettingsMap": {},
     "title": ""
    }
   },
   "outputs": [],
   "source": [
    "dbutils.widgets.text(\"environment\", \"\", \"\")\n",
    "environment = dbutils.widgets.get(\"environment\")"
   ]
  },
  {
   "cell_type": "code",
   "execution_count": 0,
   "metadata": {
    "application/vnd.databricks.v1+cell": {
     "cellMetadata": {
      "byteLimit": 2048000,
      "rowLimit": 10000
     },
     "inputWidgets": {},
     "nuid": "b49738d2-3e1a-4061-94ca-9bf32579791f",
     "showTitle": false,
     "tableResultSettingsMap": {},
     "title": ""
    }
   },
   "outputs": [],
   "source": [
    "catalog_name = settings[environment]['catalog_name']"
   ]
  },
  {
   "cell_type": "code",
   "execution_count": 0,
   "metadata": {
    "application/vnd.databricks.v1+cell": {
     "cellMetadata": {
      "byteLimit": 2048000,
      "rowLimit": 10000
     },
     "inputWidgets": {},
     "nuid": "de307a91-f910-4644-ad04-7cab2fe71d67",
     "showTitle": false,
     "tableResultSettingsMap": {},
     "title": ""
    }
   },
   "outputs": [],
   "source": [
    "spark.sql(f\"\"\"\n",
    "CREATE OR REPLACE TEMPORARY FUNCTION fn_MIN_CONTINUOUS_DATE(arr ARRAY<DATE>)\n",
    "RETURNS DATE\n",
    "RETURN (\n",
    "    SELECT MIN(DT)\n",
    "    FROM (\n",
    "        SELECT DT, ROW_NUMBER() OVER (ORDER BY DT) AS RN\n",
    "        FROM (\n",
    "            SELECT explode(arr) AS DT\n",
    "        ) AS exploded_arr\n",
    "    ) AS numbered_arr\n",
    "    GROUP BY date_sub(DT, RN)\n",
    "    ORDER BY MIN(DT) DESC\n",
    "    LIMIT 1\n",
    ")\n",
    "\"\"\")"
   ]
  },
  {
   "cell_type": "code",
   "execution_count": 0,
   "metadata": {
    "application/vnd.databricks.v1+cell": {
     "cellMetadata": {
      "byteLimit": 2048000,
      "rowLimit": 10000
     },
     "inputWidgets": {},
     "nuid": "33921b64-9262-4406-b46d-7706a2df9d6c",
     "showTitle": false,
     "tableResultSettingsMap": {},
     "title": ""
    }
   },
   "outputs": [],
   "source": [
    "spark.sql(f\"\"\"\n",
    "CREATE OR REPLACE TABLE {catalog_name}.udp_wcm_gold_vcm_dwh.d_vendor_sku_prev\n",
    "TBLPROPERTIES (\n",
    "  'DELTA.AUTOOPTIMIZE.OPTIMIZEWRITE' = 'TRUE',\n",
    "  'DELTA.AUTOOPTIMIZE.AUTOCOMPACT' = 'TRUE'\n",
    ")\n",
    " AS\n",
    "WITH\n",
    "assorment AS (\n",
    "    SELECT \n",
    "        a.start_date, TRIM(b.name) assortment_name, a.store_id, \n",
    "        c.mch3_id, c.mch3_name, a.product_id, c.product_name, c.manufacturer_id, c.manufacturer_name, c.sub_manufacturer_id, c.sub_manufacturer_name,\n",
    "        a.assortment\n",
    "    FROM {catalog_name}.udp_wcm_gold_vcm_dwh.d_assortment_scd a\n",
    "    LEFT JOIN {catalog_name}.udp_wcm_gold_vcm_dwh.d_assortment_desc b\n",
    "        ON a.assortment = b.assortment\n",
    "    LEFT JOIN {catalog_name}.udp_wcm_gold_vcm_dwh.d_product c\n",
    "        ON a.product_id = c.product_id\n",
    "    LEFT JOIN {catalog_name}.udp_wcm_gold_vcm_dwh.d_store d\n",
    "        ON a.store_id = d.store_id\n",
    "    WHERE a.status = 'ACTIVE' \n",
    "        AND DATE(CURRENT_DATE() + INTERVAL 7 HOUR) BETWEEN a.start_date AND a.end_date\n",
    "        AND b.asrt_group = 'DC_WCM'\n",
    "        AND d.distribution_channel = '90'\n",
    "        AND IFNULL(c.product_status, 'NULL') <> 'Z9'\n",
    "),\n",
    "pvendor AS (\n",
    "    SELECT LTRIM('0', vendor_id) vendor_id, company_name vendor_name\n",
    "    FROM {catalog_name}.udp_wcm_gold_vcm_dwh.d_vendor_master\n",
    "),\n",
    "assorment_full as (\n",
    "   SELECT DISTINCT\n",
    "    RIGHT(a.assortment_name, LENGTH(a.assortment_name) - 2) region,\n",
    "    CAST(MAX(a.start_date) OVER (PARTITION BY a.assortment_name, a.product_id) AS STRING) start_date,\n",
    "    a.mch3_id,\n",
    "    a.mch3_name,\n",
    "    a.product_id,\n",
    "    a.product_name,\n",
    "    a.manufacturer_id,\n",
    "    a.manufacturer_name,\n",
    "    a.sub_manufacturer_id,\n",
    "    a.sub_manufacturer_name sub_manufacturer,\n",
    "    a.assortment\n",
    "FROM assorment a\n",
    "),\n",
    "assorment_vendor AS (\n",
    "    SELECT\n",
    "        DISTINCT\n",
    "        RIGHT(a.assortment_name, LENGTH(a.assortment_name) - 2) region, b.supply_region,\n",
    "        CAST(MAX(a.start_date) OVER(PARTITION BY a.assortment_name, a.product_id) AS STRING) start_date,\n",
    "        a.mch3_id, a.mch3_name, a.product_id, a.product_name, a.manufacturer_id, a.manufacturer_name, a.sub_manufacturer_id, a.sub_manufacturer_name sub_manufacturer, a.assortment,\n",
    "        b.uom, COALESCE(d.numerator / NULLIF(d.denomintr, 0), 1) AS conversion,\n",
    "        IF(d.barcode LIKE '205%', 1, 0) barcode_priority,\n",
    "        IF(e.order_unit IS NOT NULL AND d.barcode NOT LIKE '205%', 0, 1) pir_priority,\n",
    "        IF(f.order_unit IS NOT NULL AND d.barcode NOT LIKE '205%', 0, 1) order_unit_priority,\n",
    "        LTRIM('0', b.vendor) vendor_id, c.vendor_name, b.vendor_subrange, b.valid_from, b.valid_to,\n",
    "        b.max_grdate,\n",
    "        b.max_grdate_sub_mnf,\n",
    "        b.sell_price\n",
    "    FROM assorment a\n",
    "    INNER JOIN {catalog_name}.udp_wcm_gold_vcm_dwh.d_vendor_by_dc_sku b\n",
    "        ON a.store_id = b.dc_id AND a.product_id = b.product_id\n",
    "    LEFT JOIN pvendor c\n",
    "        ON LTRIM('0', b.vendor) = c.vendor_id\n",
    "    LEFT JOIN {catalog_name}.udp_wcm_gold_vcm_dwh.d_product_unit d\n",
    "        ON a.product_id = d.product_id AND b.uom = d.unit\n",
    "    LEFT JOIN {catalog_name}.udp_wcm_gold_vcm_dwh.d_pir_current e\n",
    "        ON LTRIM('0', b.vendor) = LTRIM('0', e.vendor_id) AND a.product_id = e.product_id AND b.uom = e.order_unit\n",
    "    LEFT JOIN {catalog_name}.udp_wcm_gold_vcm_dwh.d_product f\n",
    "        ON a.product_id = f.product_id AND b.uom = f.order_unit\n",
    "),\n",
    "assorment_vendor_rn AS (\n",
    "    SELECT *,\n",
    "        ROW_NUMBER() OVER(PARTITION BY region, product_id \n",
    "            ORDER BY \n",
    "                LEFT(supply_region, 1), \n",
    "                pir_priority, \n",
    "                order_unit_priority, \n",
    "                conversion, barcode_priority, \n",
    "                COALESCE(max_grdate, '2016-01-01') DESC, COALESCE(max_grdate_sub_mnf, '2016-01-01') DESC, COALESCE(valid_from, '2016-01-01') DESC) AS rn\n",
    "    FROM assorment_vendor\n",
    "),\n",
    "filtered_assorment_vendor_rn AS (\n",
    "    SELECT *\n",
    "    FROM assorment_vendor_rn\n",
    "    WHERE rn = 1\n",
    "),\n",
    "group_region AS (\n",
    "    SELECT\n",
    "        *,\n",
    "        TRIM(REGEXP_REPLACE(UPPER(region), 'WMP |WMT |WCM |WMP|WMT|WCM', '')) parent_region,\n",
    "        CASE\n",
    "            WHEN UPPER(region) RLIKE 'WMT' THEN '1500'\n",
    "            WHEN UPPER(region) RLIKE 'WMP' THEN '2000'\n",
    "            ELSE '9999'\n",
    "        END business_unit  \n",
    "    FROM filtered_assorment_vendor_rn\n",
    "),\n",
    "group_region_vendor AS (\n",
    "    SELECT \n",
    "        DISTINCT\n",
    "        start_date,\n",
    "        parent_region, \n",
    "        product_id, \n",
    "        uom,\n",
    "        vendor_id,\n",
    "        vendor_name,\n",
    "        vendor_subrange,\n",
    "        ROW_NUMBER() OVER(PARTITION BY parent_region, product_id \n",
    "            ORDER BY \n",
    "                business_unit, \n",
    "                pir_priority, \n",
    "                order_unit_priority, \n",
    "                conversion, barcode_priority, \n",
    "                COALESCE(max_grdate, '2016-01-01') DESC, COALESCE(max_grdate_sub_mnf, '2016-01-01') DESC, COALESCE(valid_from, '2016-01-01') DESC) AS rn\n",
    "    FROM group_region\n",
    "),\n",
    "filtered_group_region_vendor AS (\n",
    "    SELECT *\n",
    "    FROM group_region_vendor\n",
    "    WHERE rn = 1\n",
    "),\n",
    "final_vendor AS (\n",
    "    SELECT\n",
    "        DISTINCT\n",
    "        a.region,\n",
    "        a.mch3_id,\n",
    "        a.mch3_name,\n",
    "        a.product_id,\n",
    "        a.product_name,\n",
    "        a.manufacturer_id,\n",
    "        a.manufacturer_name,\n",
    "        a.sub_manufacturer_id,\n",
    "        a.sub_manufacturer,\n",
    "        b.uom,\n",
    "        a.assortment,\n",
    "        b.vendor_id,\n",
    "        b.vendor_name,\n",
    "        b.vendor_subrange,\n",
    "        a.sell_price\n",
    "    FROM group_region a\n",
    "    LEFT JOIN filtered_group_region_vendor b\n",
    "        ON a.parent_region = b.parent_region AND a.product_id = b.product_id\n",
    "),\n",
    "check_list_in AS (\n",
    "    SELECT\n",
    "    region,\n",
    "    product_id,\n",
    "    DATE_SUB(fn_MIN_CONTINUOUS_DATE(COLLECT_LIST(calday)), 1) AS roll_out\n",
    "FROM (\n",
    "    SELECT\n",
    "        calday,\n",
    "        region,\n",
    "        product_id\n",
    "    FROM {catalog_name}.udp_wcm_gold_vcm_dwh.d_vendor_sku_his\n",
    "    WHERE calday <= DATE_SUB(DATE(CURRENT_TIMESTAMP() + INTERVAL 7 HOURS), 1)\n",
    "\n",
    "    UNION ALL\n",
    "\n",
    "    SELECT\n",
    "        DATE(CURRENT_TIMESTAMP() + INTERVAL 7 HOURS) AS calday,\n",
    "        region,\n",
    "        product_id\n",
    "    FROM final_vendor\n",
    "    WHERE vendor_id iS NOT NULL\n",
    ") AS combined\n",
    "    GROUP BY 1,2\n",
    "),\n",
    "main AS (\n",
    "    SELECT\n",
    "        CAST(c.roll_out AS STRING) roll_out,\n",
    "        a.region,\n",
    "        a.mch3_id,\n",
    "        a.mch3_name,\n",
    "        a.product_id,\n",
    "        a.product_name,\n",
    "        a.manufacturer_id,\n",
    "        a.manufacturer_name,\n",
    "        a.sub_manufacturer_id,\n",
    "        a.sub_manufacturer,\n",
    "        b.uom,\n",
    "        b.assortment,\n",
    "        b.vendor_id,\n",
    "        b.vendor_name,\n",
    "        b.vendor_subrange,\n",
    "        b.sell_price\n",
    "    FROM assorment_full a\n",
    "    LEFT JOIN final_vendor b\n",
    "      USING(region, assortment, product_id)\n",
    "    LEFT JOIN check_list_in c\n",
    "    ON a.region = c.region AND a.product_id = c.product_id\n",
    ")\n",
    "SELECT *\n",
    "FROM main\n",
    "\"\"\")"
   ]
  }
 ],
 "metadata": {
  "application/vnd.databricks.v1+notebook": {
   "computePreferences": null,
   "dashboards": [],
   "environmentMetadata": {
    "base_environment": "",
    "environment_version": "2"
   },
   "inputWidgetPreferences": null,
   "language": "python",
   "notebookMetadata": {
    "mostRecentlyExecutedCommandWithImplicitDF": {
     "commandId": 7469597179132314,
     "dataframes": [
      "_sqldf"
     ]
    },
    "pythonIndentUnit": 4
   },
   "notebookName": "d_vendor_sku_prev",
   "widgets": {
    "environment": {
     "currentValue": "DEV",
     "nuid": "a1ccedf2-88e9-4ea3-8d06-c040584806de",
     "typedWidgetInfo": {
      "autoCreated": false,
      "defaultValue": "",
      "label": "",
      "name": "environment",
      "options": {
       "widgetDisplayType": "Text",
       "validationRegex": null
      },
      "parameterDataType": "String"
     },
     "widgetInfo": {
      "widgetType": "text",
      "defaultValue": "",
      "label": "",
      "name": "environment",
      "options": {
       "widgetType": "text",
       "autoCreated": null,
       "validationRegex": null
      }
     }
    },
    "proc_date": {
     "currentValue": "2025-07-20",
     "nuid": "43bebee5-bd1e-438b-b0e5-5eff042175c3",
     "typedWidgetInfo": {
      "autoCreated": false,
      "defaultValue": "",
      "label": "",
      "name": "proc_date",
      "options": {
       "widgetDisplayType": "Text",
       "validationRegex": null
      },
      "parameterDataType": "String"
     },
     "widgetInfo": {
      "widgetType": "text",
      "defaultValue": "",
      "label": "",
      "name": "proc_date",
      "options": {
       "widgetType": "text",
       "autoCreated": null,
       "validationRegex": null
      }
     }
    }
   }
  },
  "language_info": {
   "name": "python"
  }
 },
 "nbformat": 4,
 "nbformat_minor": 0
}
