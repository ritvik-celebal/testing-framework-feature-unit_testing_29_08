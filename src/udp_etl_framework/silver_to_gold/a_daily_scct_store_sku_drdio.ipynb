{
 "cells": [
  {
   "cell_type": "code",
   "execution_count": 0,
   "metadata": {
    "application/vnd.databricks.v1+cell": {
     "cellMetadata": {
      "byteLimit": 2048000,
      "rowLimit": 10000
     },
     "inputWidgets": {},
     "nuid": "62dfa45e-0441-4f84-89b8-4b01f5ad9e3c",
     "showTitle": false,
     "tableResultSettingsMap": {},
     "title": ""
    }
   },
   "outputs": [],
   "source": [
    "%run ../utils/common"
   ]
  },
  {
   "cell_type": "code",
   "execution_count": 0,
   "metadata": {
    "application/vnd.databricks.v1+cell": {
     "cellMetadata": {
      "byteLimit": 2048000,
      "rowLimit": 10000
     },
     "inputWidgets": {},
     "nuid": "c8aaf595-36e8-403c-bd8a-5879d7512c11",
     "showTitle": false,
     "tableResultSettingsMap": {},
     "title": ""
    }
   },
   "outputs": [],
   "source": [
    "dbutils.widgets.text(\"environment\", \"\", \"\")\n",
    "dbutils.widgets.text(\"target_dataset\", \"VCM_DMT_PRD\")\n",
    "dbutils.widgets.text(\"target_table\", \"a_daily_scct_store_sku_drdio\")\n",
    "dbutils.widgets.text(\"metadata_schema\", \"udp_wcm_metadata_dev\")\n",
    "dbutils.widgets.text(\n",
    "    \"dependency_table\",\"VCM_DB_INVENTORY.D_MDQ_STORE_DC_SKU_DAILY,VCM_DB_INVENTORY.D_PROBLEM_ARTICLE,VCM_DWH_PRD.D_ASSORTMENT_ACTIVE, VCM_DWH_PRD.D_CORE_RANGE_ASSORTMENT_WMP,VCM_DWH_PRD.D_MDQ_AMBIENT_BIWEEKLY,VCM_DWH_PRD.D_MDQ_AMBIENT_DAILY,VCM_DWH_PRD.D_MDQ_POG_STORE_SKU,VCM_DWH_PRD.D_MIN_STOCK,VCM_DWH_PRD.D_PRODUCT,VCM_DWH_PRD.D_SALE_PRICE_BASE_UNIT_DAILY,VCM_DWH_PRD.D_STORE,VCM_DWH_PRD.D_UNIT_CONV,VCM_DWH_PRD.F_COGS_90D\"\n",
    ")"
   ]
  },
  {
   "cell_type": "code",
   "execution_count": 0,
   "metadata": {
    "application/vnd.databricks.v1+cell": {
     "cellMetadata": {
      "byteLimit": 2048000,
      "rowLimit": 10000
     },
     "inputWidgets": {},
     "nuid": "7f3b0004-220c-480a-81ca-d4409b65e560",
     "showTitle": false,
     "tableResultSettingsMap": {},
     "title": ""
    }
   },
   "outputs": [],
   "source": [
    "dbutils.widgets.text(\"field_calday\", \"CALDAY\")\n",
    "dbutils.widgets.text(\"field_id\", \"HASH_ID\")"
   ]
  },
  {
   "cell_type": "code",
   "execution_count": 0,
   "metadata": {
    "application/vnd.databricks.v1+cell": {
     "cellMetadata": {
      "byteLimit": 2048000,
      "rowLimit": 10000
     },
     "inputWidgets": {},
     "nuid": "acae5e02-ac09-4886-87dd-87d475871d5c",
     "showTitle": false,
     "tableResultSettingsMap": {},
     "title": ""
    }
   },
   "outputs": [],
   "source": [
    "catalog_name = settings[environment]['catalog_name']"
   ]
  },
  {
   "cell_type": "code",
   "execution_count": 0,
   "metadata": {
    "application/vnd.databricks.v1+cell": {
     "cellMetadata": {
      "byteLimit": 2048000,
      "rowLimit": 10000
     },
     "inputWidgets": {},
     "nuid": "0dc34a52-8a18-4340-b796-44b050a29bcb",
     "showTitle": false,
     "tableResultSettingsMap": {},
     "title": ""
    }
   },
   "outputs": [],
   "source": [
    "environment = dbutils.widgets.get(\"environment\")\n",
    "target_dataset = dbutils.widgets.get(\"target_dataset\")\n",
    "target_table = dbutils.widgets.get(\"target_table\")\n",
    "metadata_schema = dbutils.widgets.get(\"metadata_schema\")\n",
    "dependency_table = dbutils.widgets.get(\"dependency_table\")\n",
    "dependency_table = [x.strip().upper() for x in dependency_table.split(\",\")]\n",
    "dependency_table = \"'\" + \"','\".join(dependency_table) + \"'\"\n",
    "\n",
    "print(f\"environment: {environment}\")\n",
    "print(f\"target_dataset: {target_dataset}\")\n",
    "print(f\"target_table: {target_table}\")\n",
    "print(f\"catalog_name: {catalog_name}\")\n",
    "print(f\"metadata_schema: {metadata_schema}\")\n",
    "print(f\"dependency_table: {dependency_table}\")"
   ]
  },
  {
   "cell_type": "code",
   "execution_count": 0,
   "metadata": {
    "application/vnd.databricks.v1+cell": {
     "cellMetadata": {
      "byteLimit": 2048000,
      "rowLimit": 10000
     },
     "inputWidgets": {},
     "nuid": "fe53fcdb-af68-4cb0-a89c-5ce7a9992f87",
     "showTitle": false,
     "tableResultSettingsMap": {},
     "title": ""
    }
   },
   "outputs": [],
   "source": [
    "field_calday = dbutils.widgets.get(\"field_calday\")\n",
    "field_id = dbutils.widgets.get(\"field_id\")\n",
    "\n",
    "print(f\"field_calday: {field_calday}\")\n",
    "print(f\"field_id: {field_id}\")"
   ]
  },
  {
   "cell_type": "code",
   "execution_count": 0,
   "metadata": {
    "application/vnd.databricks.v1+cell": {
     "cellMetadata": {
      "byteLimit": 2048000,
      "rowLimit": 10000
     },
     "inputWidgets": {},
     "nuid": "75f7bf95-3685-4af2-b127-cebfd58b1e27",
     "showTitle": false,
     "tableResultSettingsMap": {},
     "title": ""
    }
   },
   "outputs": [],
   "source": [
    "%run \"../common/common_etl_load\""
   ]
  },
  {
   "cell_type": "code",
   "execution_count": 0,
   "metadata": {
    "application/vnd.databricks.v1+cell": {
     "cellMetadata": {
      "byteLimit": 2048000,
      "rowLimit": 10000
     },
     "inputWidgets": {},
     "nuid": "e5300ba5-968d-41b2-806e-3af8225f8aca",
     "showTitle": false,
     "tableResultSettingsMap": {},
     "title": ""
    }
   },
   "outputs": [],
   "source": [
    "spark.sql(f\"\"\"\n",
    "CREATE TABLE IF NOT EXISTS {catalog_name}.udp_wcm_gold_vcm_dmt.a_daily_scct_store_sku_drdio (\n",
    "  calday DATE,\n",
    "  isoweek BIGINT,\n",
    "  type STRING,\n",
    "  store_id STRING,\n",
    "  store_status_desc STRING,\n",
    "  product_id STRING,\n",
    "  mdq DOUBLE,\n",
    "  internal_report_mdq DOUBLE,\n",
    "  mdq_type STRING,\n",
    "  rr DOUBLE,\n",
    "  min_stock DOUBLE,\n",
    "  replenishment_mode STRING,\n",
    "  dc_id STRING,\n",
    "  mdq_age BIGINT,\n",
    "  mch2_id STRING,\n",
    "  core_range STRING,\n",
    "  order_method STRING,\n",
    "  is_problem_article STRING,\n",
    "  is_block STRING,\n",
    "  target_dio DOUBLE,\n",
    "  rev_amt DOUBLE,\n",
    "  cogs DOUBLE,\n",
    "  closing_stock_qty DOUBLE,\n",
    "  closing_stock_value DOUBLE,\n",
    "  cogs_30d DOUBLE,\n",
    "  sale_qty_30d DOUBLE,\n",
    "  rev_amt_30d DOUBLE,\n",
    "  opening_stock_qty DOUBLE,\n",
    "  po_pending_qty DOUBLE,\n",
    "  po_pending_val DOUBLE,\n",
    "  dr_count BIGINT,\n",
    "  dr_sum BIGINT,\n",
    "  adj_dr BIGINT,\n",
    "  stock_excess DOUBLE,\n",
    "  stock_shortage DOUBLE,\n",
    "  stock_excess_val DOUBLE,\n",
    "  stock_shortage_val DOUBLE,\n",
    "  lost_sale DOUBLE,\n",
    "  lost_sale_value DOUBLE,\n",
    "  winare_project STRING\n",
    ")\n",
    "TBLPROPERTIES (\n",
    "  'DELTA.AUTOOPTIMIZE.OPTIMIZEWRITE' = 'TRUE',\n",
    "  'DELTA.AUTOOPTIMIZE.AUTOCOMPACT' = 'TRUE'\n",
    ")\n",
    "\"\"\")"
   ]
  },
  {
   "cell_type": "code",
   "execution_count": 0,
   "metadata": {
    "application/vnd.databricks.v1+cell": {
     "cellMetadata": {
      "byteLimit": 2048000,
      "implicitDf": true,
      "rowLimit": 10000
     },
     "inputWidgets": {},
     "nuid": "b0c19405-3c6c-4a80-a190-1011cb08ba28",
     "showTitle": false,
     "tableResultSettingsMap": {},
     "title": ""
    }
   },
   "outputs": [],
   "source": [
    "if CALDAY_IN_STR != '':\n",
    "  spark.sql(f\"\"\"\n",
    "    CREATE OR REPLACE TEMP VIEW temp_a_daily_scct_store_sku_drdio\n",
    "    AS \n",
    "    WITH asm AS(\n",
    "      SELECT a.* EXCEPT(priority)\n",
    "      FROM (\n",
    "        SELECT\n",
    "          a.calday,\n",
    "          a.store_id,\n",
    "          a.product_id,\n",
    "          mch2_id,\n",
    "          'ACTIVE ASM' type,\n",
    "          '1' priority\n",
    "        FROM\n",
    "          {catalog_name}.udp_wcm_gold_vcm_dwh.d_assortment_active_his a\n",
    "          INNER JOIN {catalog_name}.udp_wcm_gold_vcm_dwh.d_store USING (store_id)\n",
    "          INNER JOIN {catalog_name}.udp_wcm_gold_vcm_dwh.d_product USING (product_id)\n",
    "        WHERE\n",
    "          a.CALDAY IN ({CALDAY_IN_STR})\n",
    "          AND business_unit IN ('1500','2000')\n",
    "          AND mch2_id IN ('101','102','201','202','203')\n",
    "        UNION ALL\n",
    "        SELECT DISTINCT\n",
    "          calday,\n",
    "          store_id,\n",
    "          product_id,\n",
    "          mch2_id,\n",
    "          'HAVING ACTUAL DATA' type,\n",
    "          '2' priority\n",
    "        FROM\n",
    "          {catalog_name}.udp_wcm_gold_vcm_dmt.a_store_sku_daily\n",
    "          INNER JOIN {catalog_name}.udp_wcm_gold_vcm_dwh.d_store USING (store_id)\n",
    "          INNER JOIN {catalog_name}.udp_wcm_gold_vcm_dwh.d_product USING (product_id)\n",
    "        WHERE\n",
    "          CALDAY IN ({CALDAY_IN_STR})\n",
    "          AND business_unit IN ('1500','2000')\n",
    "          AND mch2_id IN ('101','102','201','202','203')\n",
    "          AND (revenue.base_sale_qty <> 0 OR revenue.rev_amt <> 0 OR revenue.cogs <> 0\n",
    "          OR stock.closing_stock_value <> 0 OR stock.closing_stock_quantity <> 0)\n",
    "        UNION ALL\n",
    "        SELECT DISTINCT\n",
    "          calday,\n",
    "          store_id,\n",
    "          product_id,\n",
    "          mch2_id,\n",
    "          'HAVING COGS30D' type,\n",
    "          '3' priority\n",
    "        FROM\n",
    "          {catalog_name}.udp_wcm_gold_vcm_dwh.f_cogs_90d\n",
    "          INNER JOIN {catalog_name}.udp_wcm_gold_vcm_dwh.d_store USING (store_id)\n",
    "          INNER JOIN {catalog_name}.udp_wcm_gold_vcm_dwh.d_product USING (product_id)\n",
    "        WHERE\n",
    "          CALDAY IN ({CALDAY_IN_STR})\n",
    "          AND business_unit IN ('1500','2000')\n",
    "          AND mch2_id IN ('101','102','201','202','203')\n",
    "          AND cogs_30d <> 0\n",
    "      ) a\n",
    "      QUALIFY ROW_NUMBER() OVER (PARTITION BY calday, store_id, product_id ORDER BY priority) = 1\n",
    "    ),\n",
    "    store_check AS (\n",
    "      SELECT\n",
    "        store_id,\n",
    "        store_name,\n",
    "        store_status_desc\n",
    "      FROM {catalog_name}.udp_wcm_gold_vcm_dwh.d_store\n",
    "      WHERE (\n",
    "        UPPER(store_name) LIKE '%DO%NOT%USE%'\n",
    "        OR UPPER(store_name) LIKE '[BLOCK]%'\n",
    "        OR UPPER(store_name) LIKE '%B2B%'\n",
    "        OR UPPER(store_name) LIKE '%OUTLET%'\n",
    "        OR UPPER(store_name) LIKE '%ONLIN%'\n",
    "        OR UPPER(store_name) LIKE '%HUB%'\n",
    "        OR UPPER(store_id) LIKE 'GH%'\n",
    "      ) AND business_unit IN ('1500', '2000')\n",
    "    ),\n",
    "    dynamic_assortment AS (\n",
    "      SELECT DISTINCT\n",
    "        calday,\n",
    "        store_id,\n",
    "        product_id\n",
    "      FROM {catalog_name}.udp_wcm_gold_vcm_dwh.d_dynamic_assorment_his\n",
    "      WHERE is_keeping = 0 \n",
    "      AND calday between '2025-04-14' and DATE(CURRENT_TIMESTAMP() + INTERVAL 7 HOURS)\n",
    "    ),\n",
    "    winare_dsd_store_sku AS (\n",
    "      SELECT DISTINCT\n",
    "        product_id,\n",
    "        store_id,\n",
    "        calday\n",
    "      FROM {catalog_name}.udp_wcm_gold_vcm_dwh.d_winare_dsd_golive_his\n",
    "      WHERE UPPER(golive) = 'YES'\n",
    "      QUALIFY ROW_NUMBER() OVER (PARTITION BY store_id, product_id, calday ORDER BY calday) = 1\n",
    "    ),\n",
    "    winare_fresh_store_sku AS (\n",
    "      SELECT DISTINCT\n",
    "        a.calday store_list_cutoff_day,\n",
    "        c.calday,\n",
    "        store_id\n",
    "      FROM {catalog_name}.udp_wcm_gold_db_winare_fresh.d_store_group_his a\n",
    "      INNER JOIN (SELECT * FROM {catalog_name}.udp_wcm_gold_vcm_dwh.d_time WHERE dayofweek = 5) b ON a.calday = b.calday\n",
    "      LEFT JOIN {catalog_name}.udp_wcm_gold_vcm_dwh.d_time c ON DATE_ADD(TRUNC(a.calday, 'IW'), 7) = c.calmonday\n",
    "    ),\n",
    "    winare_mml_store_sku AS (\n",
    "      SELECT DISTINCT\n",
    "        store_id,\n",
    "        product_id,\n",
    "        a.current_date calday\n",
    "      FROM {catalog_name}.udp_wcm_gold_db_supra_fresh.a_daily_are_meatdeli_his a\n",
    "    ),\n",
    "    --DC_MODE_INFO--MAPPING INFORMATION OF DC REPLENISHMENT MODE (MDQ,MDQ_AGE)\n",
    "    all_store_sku AS (\n",
    "      SELECT\n",
    "        a.*,\n",
    "        st.business_unit,\n",
    "        CASE\n",
    "          WHEN st.business_unit = '1500' THEN 'Supermarket'\n",
    "          WHEN IFNULL(st.concept,'') IN ('Rural','WiN') THEN st.concept\n",
    "          ELSE 'Urban'\n",
    "        END concept,\n",
    "        IFNULL(b.internal_report_mdq,0) internal_report_mdq,\n",
    "        IFNULL(b.mdq,0) mdq,\n",
    "        CASE\n",
    "          WHEN d.dc_id IS NOT NULL THEN 'DC'\n",
    "          WHEN a.type <> 'ACTIVE ASM' THEN 'NA'\n",
    "          ELSE 'DSD'\n",
    "        END replenishment_mode,\n",
    "        IFNULL(\n",
    "          IFNULL(\n",
    "            b.assortment_type,\n",
    "            CASE\n",
    "              WHEN st.business_unit = '1500' THEN asm_3.core_range\n",
    "              WHEN st.business_unit = '2000' THEN asm_2.core_range\n",
    "              ELSE 'NA'\n",
    "            END\n",
    "          ), 'NA') core_range,\n",
    "        b.mdq_age,\n",
    "        d.dc_id,\n",
    "        d.is_problem_article,\n",
    "        st_his.store_status_desc,\n",
    "        CASE\n",
    "          WHEN d.dc_id IS NOT NULL THEN 'DC'\n",
    "          WHEN wd.store_id IS NOT NULL THEN 'DSD'\n",
    "          WHEN wf.store_id IS NOT NULL THEN 'WINFRESH'\n",
    "          WHEN st.business_unit = '2000' AND pr.mch5_id = '102050404' THEN 'TNXX'\n",
    "          WHEN wm.store_id IS NOT NULL THEN 'MML'\n",
    "          ELSE 'OTHER'\n",
    "        END winare_project\n",
    "      FROM\n",
    "        asm a\n",
    "        LEFT JOIN {catalog_name}.udp_wcm_gold_vcm_dwh.d_store st ON a.store_id = st.store_id\n",
    "        LEFT JOIN {catalog_name}.udp_wcm_gold_vcm_dwh.d_product pr ON a.product_id = pr.product_id\n",
    "        LEFT JOIN {catalog_name}.udp_wcm_gold_vcm_dwh.d_store_hist st_his ON a.store_id = st_his.store_id and a.calday = st_his.calday\n",
    "        LEFT JOIN (\n",
    "          SELECT * FROM {catalog_name}.udp_wcm_gold_vcm_dwh.d_mdq_ambient_biweekly_hist WHERE calday >= DATE({START_DATE})  AND calday < '2024-08-08'\n",
    "          UNION ALL\n",
    "          SELECT * FROM {catalog_name}.udp_wcm_gold_vcm_dwh.d_mdq_ambient_daily_hist WHERE calday >= DATE({START_DATE}) AND calday >='2024-08-08'\n",
    "        ) b ON a.calday = b.calday AND a.store_id = b.store_id AND a.product_id = b.product_id\n",
    "        LEFT JOIN (\n",
    "          SELECT * FROM {catalog_name}.udp_wcm_gold_vcm_db_inventory.d_mdq_store_dc_sku_daily_his\n",
    "          WHERE calday in ({CALDAY_IN_STR})\n",
    "          QUALIFY ROW_NUMBER() OVER(PARTITION BY store_id, product_id, calday ORDER BY dc_id) = 1\n",
    "        ) d ON a.store_id = d.store_id AND a.product_id = d.product_id  AND a.calday = d.calday\n",
    "        LEFT JOIN {catalog_name}.udp_wcm_gold_vcm_dwh.d_core_range_assortment_wmp asm_2 ON a.store_id = asm_2.store_id AND a.product_id = asm_2.product_id\n",
    "        LEFT JOIN {catalog_name}.udp_wcm_gold_vcm_dwh.d_core_range_assortment_wmt asm_3 ON a.store_id = asm_3.store_id AND a.product_id = asm_3.product_id\n",
    "        --MAPPING LUỒNG WINARE\n",
    "        LEFT JOIN winare_dsd_store_sku wd ON a.calday = wd.calday AND a.store_id = wd.store_id AND a.product_id = wd.product_id\n",
    "        LEFT JOIN winare_fresh_store_sku wf ON a.calday = wf.calday AND a.store_id = wf.store_id AND pr.mch3_id = '10103'\n",
    "        LEFT JOIN winare_mml_store_sku wm ON a.calday = wm.calday AND a.store_id = wm.store_id AND a.product_id = wm.product_id\n",
    "    ),\n",
    "    min_stock_tmp AS (\n",
    "      SELECT\n",
    "        a.* ,\n",
    "        CASE\n",
    "          WHEN c.approval_status = 'YES' THEN 'APPROVED MDQ_POG'\n",
    "          WHEN c.approval_status = 'IN REVIEW' THEN 'IN REVIEW MDQ_POG'\n",
    "          ELSE 'OLD_MDQ'\n",
    "        END mdq_type,\n",
    "        IFNULL(b.rr,0) rr\n",
    "      FROM\n",
    "        all_store_sku a\n",
    "        LEFT JOIN (\n",
    "          SELECT\n",
    "            calday,\n",
    "            store_id,\n",
    "            product_id,\n",
    "            SUM(sell_rate) rr\n",
    "          FROM {catalog_name}.udp_wcm_gold_vcm_dmt.f_corrected_sellrate -- Error of DWH \n",
    "          WHERE calday IN ({CALDAY_IN_STR})\n",
    "          GROUP BY 1,2,3\n",
    "        ) b ON a.calday = b.calday AND a.store_id = b.store_id AND a.product_id = b.product_id\n",
    "      LEFT JOIN {catalog_name}.udp_wcm_gold_vcm_dwh.d_mdq_pog_store_sku c\n",
    "        ON a.product_id = c.product_id AND a.store_id = c.store_id\n",
    "    ),\n",
    "    min_stock AS (\n",
    "      SELECT\n",
    "        a.*,\n",
    "        GREATEST(internal_report_mdq,rr) min_stock \n",
    "      FROM min_stock_tmp a\n",
    "    ),\n",
    "    sale_stock_daily AS (\n",
    "      SELECT\n",
    "        a.calday,\n",
    "        a.store_id,\n",
    "        a.product_id,\n",
    "        IFNULL(IF(business_unit = '1500',b.revenue.rev_amt,b.revenue.rev_amt_pos), 0) rev_amt,\n",
    "        IFNULL(b.revenue.base_sale_qty, 0) base_sale_qty,\n",
    "        IFNULL(b.revenue.cogs_pos, 0) cogs,\n",
    "        IFNULL(b.stock.closing_stock_quantity_sloc_1000, 0) closing_stock_qty,\n",
    "        IFNULL(b.stock.closing_stock_value, 0) closing_stock_value\n",
    "      FROM\n",
    "        min_stock a\n",
    "        LEFT JOIN (SELECT * FROM {catalog_name}.udp_wcm_gold_vcm_dmt.a_store_sku_daily  WHERE calday >= DATE_SUB({START_DATE}, 30)) b\n",
    "        ON a.calday = b.calday AND a.store_id = b.store_id AND a.product_id = b.product_id\n",
    "      WHERE a.calday <= date_sub(DATE(CURRENT_TIMESTAMP() + INTERVAL 7 HOURS), 1)\n",
    "    ),\n",
    "    sum_30d AS (\n",
    "      SELECT\n",
    "        a.calday,\n",
    "        a1.store_id,\n",
    "        a1.product_id,\n",
    "        IFNULL(stock.closing_stock_quantity_sloc_1000, 0) closing_stock_qty,\n",
    "        SUM(IFNULL(revenue.cogs_pos, 0)) OVER (PARTITION BY a1.store_id, a1.product_id ORDER BY a.calday ASC ROWS BETWEEN 29 PRECEDING AND CURRENT ROW) cogs_30d,\n",
    "        SUM(IFNULL(revenue.base_sale_qty, 0)) OVER (PARTITION BY a1.store_id,a1.product_id ORDER BY a.calday ASC ROWS BETWEEN 29 PRECEDING AND CURRENT ROW) sale_qty_30d,\n",
    "        SUM(IFNULL(IF(c.business_unit = '1500',b.revenue.rev_amt, b.revenue.rev_amt_pos), 0)) OVER (PARTITION BY a1.store_id,a1.product_id ORDER BY a.calday ASC ROWS BETWEEN 29 PRECEDING AND CURRENT ROW) rev_amt_30d\n",
    "      FROM\n",
    "        (SELECT EXPLODE(SEQUENCE(DATE_SUB(DATE{START_DATE}, 30), DATE{END_DATE}, INTERVAL 1 DAY)) AS CALDAY) A,\n",
    "        (SELECT DISTINCT store_id, product_id FROM sale_stock_daily) a1\n",
    "        LEFT JOIN {catalog_name}.udp_wcm_gold_vcm_dmt.a_store_sku_daily  b ON a.calday = b.calday AND a1.store_id = b.store_id AND a1.product_id = b.product_id\n",
    "        LEFT JOIN {catalog_name}.udp_wcm_gold_vcm_dwh.d_store c ON a1.store_id = c.store_id\n",
    "      WHERE a.calday >= DATE_SUB({START_DATE}, 30)\n",
    "    ),\n",
    "    sale_30d AS (\n",
    "      SELECT\n",
    "        a.*,\n",
    "        b.cogs_30d,\n",
    "        b.sale_qty_30d,\n",
    "        b.rev_amt_30d\n",
    "      FROM\n",
    "        sale_stock_daily a\n",
    "        LEFT JOIN sum_30d b ON a.calday = b.calday AND a.store_id = b.store_id AND a.product_id = b.product_id\n",
    "    ),\n",
    "    cogs_val_30d AS (\n",
    "      SELECT\n",
    "        calday,\n",
    "        store_id,\n",
    "        product_id,\n",
    "        SUM(cogs_30d) cogs_30d\n",
    "      FROM {catalog_name}.udp_wcm_gold_vcm_dwh.f_cogs_90d\n",
    "      WHERE calday IN ({CALDAY_IN_STR})\n",
    "      GROUP BY 1,2,3\n",
    "    ),\n",
    "    po_pending_qty AS (\n",
    "      SELECT \n",
    "        calday,\n",
    "        store_id,\n",
    "        product_id,\n",
    "        SUM(a.open_order) po_pending_qty\n",
    "      FROM {catalog_name}.udp_wcm_gold_db_winare_nonfresh_dc.a_winare_dc_open_order_store_his a\n",
    "      WHERE calday IN ({CALDAY_IN_STR})\n",
    "      GROUP BY 1,2,3\n",
    "    ),\n",
    "    po_pending_val AS (\n",
    "      SELECT\n",
    "        DATE_ADD(DATE(CURRENT_TIMESTAMP() + INTERVAL 7 HOURS), -1) calday,\n",
    "        a.*\n",
    "      FROM (\n",
    "        SELECT\n",
    "          a.store_id,\n",
    "          a.product_id,\n",
    "          IFNULL(SUM(a.po_value), 0) po_pending_val\n",
    "        FROM\n",
    "          {catalog_name}.udp_wcm_gold_vcm_dwh.f_po_item a\n",
    "          INNER JOIN (SELECT DISTINCT store_id,product_id FROM all_store_sku) b ON a.store_id = b.store_id AND a.product_id = b.product_id\n",
    "          LEFT JOIN {catalog_name}.udp_wcm_gold_vcm_dwh.d_unit_conv c ON a.product_id = c.material AND a.po_unit = c.mat_unit\n",
    "        WHERE\n",
    "          a.creation_date >= DATE(date_sub(DATE(CURRENT_TIMESTAMP() + INTERVAL 7 HOURS), 21)) AND a.creation_date < DATE(CURRENT_TIMESTAMP() + INTERVAL 7 HOURS)\n",
    "          AND (a.compl_del <> 'X' OR a.compl_del IS NULL)\n",
    "          AND (a.po_gr_date IS NULL)\n",
    "          AND (a.gr_date IS NULL)\n",
    "          AND (a.webportal_status NOT IN ('Đã hủy', 'Đã giao hàng', 'Quá hạn') OR a.webportal_status IS NULL)\n",
    "        GROUP BY 1,2\n",
    "      ) a\n",
    "    ),\n",
    "    summary AS (\n",
    "      SELECT\n",
    "        a.calday,\n",
    "        c.isoweek,\n",
    "        a.type,\n",
    "        a.store_id,\n",
    "        a.store_status_desc,\n",
    "        a.product_id,\n",
    "        a.mdq,\n",
    "        a.internal_report_mdq,\n",
    "        a.mdq_type,\n",
    "        IFNULL(a.rr,0) rr,\n",
    "        a.min_stock,\n",
    "        a.replenishment_mode,\n",
    "        a.dc_id,\n",
    "        a.mdq_age,\n",
    "        a.mch2_id,\n",
    "        a.core_range,\n",
    "        i.order_method,\n",
    "        CASE\n",
    "          WHEN is_problem_article IS NOT NULL THEN is_problem_article\n",
    "          ELSE IF(g.sku IS NULL,'NO','YES')\n",
    "        END is_problem_article,\n",
    "        IF(h.store_id IS NULL,'NO','YES') is_block,\n",
    "        CASE\n",
    "          WHEN a.mch2_id = '101' THEN 13.2\n",
    "          WHEN a.mch2_id = '102' THEN 49.6\n",
    "          WHEN a.mch2_id IN ('201','202','203') THEN 96.3\n",
    "        END target_dio,\n",
    "        IFNULL(d.rev_amt, 0) rev_amt,\n",
    "        IFNULL(d.cogs, 0) cogs,\n",
    "        IFNULL(d1.closing_stock_qty, 0) closing_stock_qty,\n",
    "        IFNULL(d1.closing_stock_value, 0) closing_stock_value,\n",
    "        IFNULL(e1.cogs_30d, 0) cogs_30d,\n",
    "        IFNULL(e.sale_qty_30d, 0) sale_qty_30d,\n",
    "        IFNULL(e.rev_amt_30d, 0) rev_amt_30d,\n",
    "        IFNULL(d2.closing_stock_qty,0) opening_stock_qty,\n",
    "        IFNULL(b2.po_pending_qty, 0) po_pending_qty,\n",
    "        IFNULL(b1.po_pending_val, 0) po_pending_val,\n",
    "        IF((k1.store_id IS NOT NULL) OR (k2.store_id IS NOT NULL) OR (k3.store_id IS NOT NULL),\n",
    "            0,\n",
    "            IF(a.min_stock>0 AND type = 'ACTIVE ASM' AND mch2_id <> '101' and a.store_status_desc = 'Đang hoạt động',1,0) \n",
    "          ) dr_count,\n",
    "        IF((k1.store_id IS NOT NULL) OR (k2.store_id IS NOT NULL) OR (k3.store_id IS NOT NULL),\n",
    "            0,\n",
    "            IF(a.min_stock>0 AND type = 'ACTIVE ASM' AND mch2_id <> '101' and a.store_status_desc = 'Đang hoạt động' AND IFNULL(d1.closing_stock_qty,0)>=min_stock,1,0) \n",
    "          ) dr_sum,\n",
    "        IF((k1.store_id IS NOT NULL) OR (k2.store_id IS NOT NULL) OR (k3.store_id IS NOT NULL),\n",
    "            0,\n",
    "            IF(a.min_stock>0 AND type = 'ACTIVE ASM' AND mch2_id <> '101' and a.store_status_desc = 'Đang hoạt động' AND (IFNULL(d1.closing_stock_qty,0) + IFNULL(b2.po_pending_qty, 0))>=a.min_stock,1,0)\n",
    "          ) adj_dr,\n",
    "          winare_project\n",
    "      FROM\n",
    "        min_stock a\n",
    "        LEFT JOIN po_pending_val b1 on a.calday = b1.calday AND a.product_id = b1.product_id AND a.store_id = b1.store_id\n",
    "        LEFT JOIN po_pending_qty b2 on a.calday = b2.calday AND a.product_id = b2.product_id AND a.store_id = b2.store_id\n",
    "        INNER JOIN {catalog_name}.udp_wcm_silver_dim.d_time c ON a.calday = c.calday\n",
    "        LEFT JOIN sale_stock_daily d ON a.product_id = d.product_id AND a.store_id = d.store_id AND a.calday = d.calday\n",
    "        LEFT JOIN sale_stock_daily d1 ON a.product_id = d1.product_id AND a.store_id = d1.store_id AND a.calday = d1.calday\n",
    "        LEFT JOIN sum_30d d2 ON a.product_id = d2.product_id AND a.store_id = d2.store_id AND a.calday = d2.calday+1\n",
    "        LEFT JOIN sale_30d e ON a.product_id = e.product_id AND a.store_id = e.store_id AND a.calday = e.calday\n",
    "        LEFT JOIN cogs_val_30d e1 ON a.product_id = e1.product_id AND a.store_id = e1.store_id AND a.calday = e1.calday\n",
    "        LEFT JOIN {catalog_name}.udp_wcm_gold_vcm_dwh.d_store st ON a.store_id = st.store_id\n",
    "        LEFT JOIN {catalog_name}.udp_wcm_gold_vcm_db_inventory.d_problem_article_his g\n",
    "          ON st.business_unit = g.business_unit AND st.region_vn = g.area AND a.calday = g.calday AND a.product_id = g.sku\n",
    "        LEFT JOIN (\n",
    "          SELECT * FROM {catalog_name}.udp_wcm_gold_db_winare_nonfresh_dc.d_cfg_winare_block_by_store_sku_current_his a\n",
    "          WHERE a.calday IN ({CALDAY_IN_STR}) and reason like \"High stock%\"\n",
    "        ) h\n",
    "          ON a.calday = h.calday + 1 AND a.product_id = h.product_id AND a.store_id = h.store_id\n",
    "        LEFT JOIN (\n",
    "          SELECT\n",
    "            store_id, article,\n",
    "            order_method,\n",
    "            start_date,\n",
    "            end_date\n",
    "          FROM {catalog_name}.udp_wcm_gold_vcm_dwh.d_min_stock\n",
    "        ) i ON\n",
    "          a.store_id = i.store_id\n",
    "          AND a.product_id = i.article\n",
    "          AND i.start_date <= a.calday\n",
    "          AND i.end_date >= a.calday\n",
    "        LEFT JOIN (SELECT * FROM dynamic_assortment WHERE calday = '2025-04-14') k1 ON a.store_id = k1.store_id and a.product_id = k1.product_id and (a.calday <= '2025-04-14')\n",
    "        LEFT JOIN (SELECT * FROM dynamic_assortment WHERE calday = '2025-04-14') k2 ON a.store_id = k2.store_id and a.product_id = k2.product_id and a.calday = k2.calday\n",
    "        LEFT JOIN store_check k3 ON a.store_id = k3.store_id\n",
    "    ),\n",
    "    main AS (\n",
    "      SELECT\n",
    "        a.*,\n",
    "        CASE\n",
    "          WHEN mch2_id = '101' THEN 0\n",
    "          ELSE IF((opening_stock_qty - rr * target_dio - mdq) < 0 ,0 ,(opening_stock_qty - rr * target_dio - mdq))\n",
    "        END stock_excess,\n",
    "        CASE\n",
    "          WHEN mch2_id = '101' THEN 0\n",
    "          ELSE IF((opening_stock_qty - rr - mdq) <=0 AND dr_count = 1,(opening_stock_qty - rr - mdq),0)\n",
    "        END stock_shortage\n",
    "      FROM summary a\n",
    "    )\n",
    "    SELECT\n",
    "      a.* EXCEPT(winare_project), \n",
    "      CASE \n",
    "        WHEN closing_stock_qty != 0 THEN stock_excess * (closing_stock_value / closing_stock_qty)\n",
    "        ELSE 0 \n",
    "      END AS stock_excess_val,\n",
    "      CASE \n",
    "        WHEN closing_stock_qty != 0 THEN stock_shortage * (closing_stock_value / closing_stock_qty)\n",
    "        ELSE 0 \n",
    "      END AS stock_shortage_val,\n",
    "      IF(mch2_id ='101',0,IF(rr-greatest(0,opening_stock_qty)<0,0,rr-greatest(0,opening_stock_qty))) lost_sale,\n",
    "      IF(mch2_id = '101',0,IFNULL(d.sale_price_exc_vat,0) * IF(rr-greatest(0,opening_stock_qty)<0,0,rr-greatest(0,opening_stock_qty))) lost_sale_value,\n",
    "      winare_project\n",
    "    FROM\n",
    "      main a\n",
    "      LEFT JOIN {catalog_name}.udp_wcm_gold_vcm_dwh.d_sale_price_base_unit_daily d ON a.calday = d.calday AND a.product_id = d.product_id AND a.store_id = d.store_id\n",
    "    WHERE a.calday <= date_sub(DATE(CURRENT_TIMESTAMP() + INTERVAL 7 HOURS), 1)\n",
    "    \"\"\")\n",
    "else:\n",
    "  print(f\"No valid calday's found In common-etl to create the view: temp_{target_table}\")"
   ]
  },
  {
   "cell_type": "code",
   "execution_count": 0,
   "metadata": {
    "application/vnd.databricks.v1+cell": {
     "cellMetadata": {
      "byteLimit": 2048000,
      "rowLimit": 10000
     },
     "inputWidgets": {},
     "nuid": "dfed344d-ef0a-4812-8310-d8cf69d38c6b",
     "showTitle": false,
     "tableResultSettingsMap": {},
     "title": ""
    }
   },
   "outputs": [],
   "source": [
    "# Get the calday list string from temp table\n",
    "calday_query = \"\"\"\n",
    "SELECT\n",
    "    CONCAT(\"'\", CONCAT_WS(\"','\", COLLECT_SET(CAST(TO_DATE(calday, 'yyyy-MM-dd') AS STRING))), \"'\") AS calday_in_str\n",
    "FROM temp_a_daily_scct_store_sku_drdio\n",
    "\"\"\"\n",
    "\n",
    "calday_df = spark.sql(calday_query)\n",
    "calday_in_str = calday_df.collect()[0][0]\n",
    "\n",
    "# Only run DELETE if the string is non-empty\n",
    "if calday_in_str.strip(\"'\"):  # checks if there's any date inside the quotes\n",
    "    spark.sql(f\"\"\"\n",
    "    DELETE FROM {catalog_name}.udp_wcm_gold_vcm_dmt.a_daily_scct_store_sku_drdio\n",
    "    WHERE calday IN ({calday_in_str})\n",
    "    \"\"\")\n",
    "else:\n",
    "    print(\"No valid CALDAYs found to delete.\")"
   ]
  },
  {
   "cell_type": "code",
   "execution_count": 0,
   "metadata": {
    "application/vnd.databricks.v1+cell": {
     "cellMetadata": {
      "byteLimit": 2048000,
      "rowLimit": 10000
     },
     "inputWidgets": {},
     "nuid": "d924cbe8-e149-4ae4-9ebf-23c30d3d2fd2",
     "showTitle": false,
     "tableResultSettingsMap": {},
     "title": ""
    }
   },
   "outputs": [],
   "source": [
    "if CALDAY_IN_STR != \"\":\n",
    "    # Insert rows from temp table into main table\n",
    "    INSERT_ROW = \", \".join(\n",
    "        spark.table(f\"{catalog_name}.udp_wcm_gold_vcm_dmt.a_daily_scct_store_sku_drdio\").columns\n",
    "    )\n",
    "    spark.sql(\n",
    "        f\"\"\"\n",
    "        INSERT INTO {catalog_name}.udp_wcm_gold_vcm_dmt.a_daily_scct_store_sku_drdio ({INSERT_ROW})\n",
    "        SELECT {INSERT_ROW} FROM temp_{target_table}\n",
    "    \"\"\"\n",
    "    ).display()\n",
    "else:\n",
    "    print(\n",
    "        f\"temp_{target_table} could't be created as no valid calday's found In common-etl so {catalog_name}.udp_wcm_gold_vcm_dmt.a_daily_scct_store_sku_drdio can't be inserted using calday's from temp_{target_table}\"\n",
    "    )"
   ]
  }
 ],
 "metadata": {
  "application/vnd.databricks.v1+notebook": {
   "computePreferences": null,
   "dashboards": [],
   "environmentMetadata": {
    "base_environment": "",
    "environment_version": "2"
   },
   "inputWidgetPreferences": null,
   "language": "python",
   "notebookMetadata": {
    "mostRecentlyExecutedCommandWithImplicitDF": {
     "commandId": 6403329334307355,
     "dataframes": [
      "_sqldf"
     ]
    },
    "pythonIndentUnit": 4
   },
   "notebookName": "a_daily_scct_store_sku_drdio",
   "widgets": {
    "dependency_table": {
     "currentValue": "VCM_DB_INVENTORY.D_MDQ_STORE_DC_SKU_DAILY,VCM_DB_INVENTORY.D_PROBLEM_ARTICLE,VCM_DWH_PRD.D_ASSORTMENT_ACTIVE, VCM_DWH_PRD.D_CORE_RANGE_ASSORTMENT_WMP,VCM_DWH_PRD.D_MDQ_AMBIENT_BIWEEKLY,VCM_DWH_PRD.D_MDQ_AMBIENT_DAILY,VCM_DWH_PRD.D_MDQ_POG_STORE_SKU,VCM_DWH_PRD.D_MIN_STOCK,VCM_DWH_PRD.D_PRODUCT,VCM_DWH_PRD.D_SALE_PRICE_BASE_UNIT_DAILY,VCM_DWH_PRD.D_STORE,VCM_DWH_PRD.D_UNIT_CONV,VCM_DWH_PRD.F_COGS_90D",
     "nuid": "0d7b2170-a571-4180-9635-8a8dacb5ae51",
     "typedWidgetInfo": {
      "autoCreated": false,
      "defaultValue": "VCM_DB_INVENTORY.D_MDQ_STORE_DC_SKU_DAILY,VCM_DB_INVENTORY.D_PROBLEM_ARTICLE,VCM_DWH_PRD.D_ASSORTMENT_ACTIVE, VCM_DWH_PRD.D_CORE_RANGE_ASSORTMENT_WMP,VCM_DWH_PRD.D_MDQ_AMBIENT_BIWEEKLY,VCM_DWH_PRD.D_MDQ_AMBIENT_DAILY,VCM_DWH_PRD.D_MDQ_POG_STORE_SKU,VCM_DWH_PRD.D_MIN_STOCK,VCM_DWH_PRD.D_PRODUCT,VCM_DWH_PRD.D_SALE_PRICE_BASE_UNIT_DAILY,VCM_DWH_PRD.D_STORE,VCM_DWH_PRD.D_UNIT_CONV,VCM_DWH_PRD.F_COGS_90D",
      "label": null,
      "name": "dependency_table",
      "options": {
       "widgetDisplayType": "Text",
       "validationRegex": null
      },
      "parameterDataType": "String"
     },
     "widgetInfo": {
      "widgetType": "text",
      "defaultValue": "VCM_DB_INVENTORY.D_MDQ_STORE_DC_SKU_DAILY,VCM_DB_INVENTORY.D_PROBLEM_ARTICLE,VCM_DWH_PRD.D_ASSORTMENT_ACTIVE, VCM_DWH_PRD.D_CORE_RANGE_ASSORTMENT_WMP,VCM_DWH_PRD.D_MDQ_AMBIENT_BIWEEKLY,VCM_DWH_PRD.D_MDQ_AMBIENT_DAILY,VCM_DWH_PRD.D_MDQ_POG_STORE_SKU,VCM_DWH_PRD.D_MIN_STOCK,VCM_DWH_PRD.D_PRODUCT,VCM_DWH_PRD.D_SALE_PRICE_BASE_UNIT_DAILY,VCM_DWH_PRD.D_STORE,VCM_DWH_PRD.D_UNIT_CONV,VCM_DWH_PRD.F_COGS_90D",
      "label": null,
      "name": "dependency_table",
      "options": {
       "widgetType": "text",
       "autoCreated": null,
       "validationRegex": null
      }
     }
    },
    "environment": {
     "currentValue": "DEV",
     "nuid": "aadf2701-ae42-4b25-88bb-a417922adb6b",
     "typedWidgetInfo": {
      "autoCreated": false,
      "defaultValue": "",
      "label": "",
      "name": "environment",
      "options": {
       "widgetDisplayType": "Text",
       "validationRegex": null
      },
      "parameterDataType": "String"
     },
     "widgetInfo": {
      "widgetType": "text",
      "defaultValue": "",
      "label": "",
      "name": "environment",
      "options": {
       "widgetType": "text",
       "autoCreated": null,
       "validationRegex": null
      }
     }
    },
    "field_calday": {
     "currentValue": "CALDAY",
     "nuid": "3746cb25-edc4-4ee5-aee5-360cd138b161",
     "typedWidgetInfo": {
      "autoCreated": false,
      "defaultValue": "CALDAY",
      "label": null,
      "name": "field_calday",
      "options": {
       "widgetDisplayType": "Text",
       "validationRegex": null
      },
      "parameterDataType": "String"
     },
     "widgetInfo": {
      "widgetType": "text",
      "defaultValue": "CALDAY",
      "label": null,
      "name": "field_calday",
      "options": {
       "widgetType": "text",
       "autoCreated": null,
       "validationRegex": null
      }
     }
    },
    "field_id": {
     "currentValue": "HASH_ID",
     "nuid": "c5b2b83d-1a10-4b7b-b2ea-9a232780354f",
     "typedWidgetInfo": {
      "autoCreated": false,
      "defaultValue": "HASH_ID",
      "label": null,
      "name": "field_id",
      "options": {
       "widgetDisplayType": "Text",
       "validationRegex": null
      },
      "parameterDataType": "String"
     },
     "widgetInfo": {
      "widgetType": "text",
      "defaultValue": "HASH_ID",
      "label": null,
      "name": "field_id",
      "options": {
       "widgetType": "text",
       "autoCreated": null,
       "validationRegex": null
      }
     }
    },
    "metadata_schema": {
     "currentValue": "udp_wcm_metadata_dev",
     "nuid": "ed7b2fe0-5801-4206-b1f3-52a47585eac2",
     "typedWidgetInfo": {
      "autoCreated": false,
      "defaultValue": "udp_wcm_metadata_dev",
      "label": null,
      "name": "metadata_schema",
      "options": {
       "widgetDisplayType": "Text",
       "validationRegex": null
      },
      "parameterDataType": "String"
     },
     "widgetInfo": {
      "widgetType": "text",
      "defaultValue": "udp_wcm_metadata_dev",
      "label": null,
      "name": "metadata_schema",
      "options": {
       "widgetType": "text",
       "autoCreated": null,
       "validationRegex": null
      }
     }
    },
    "target_dataset": {
     "currentValue": "VCM_DMT_PRD",
     "nuid": "0e96434b-57e5-4da6-8720-fcefd33a708a",
     "typedWidgetInfo": {
      "autoCreated": false,
      "defaultValue": "VCM_DMT_PRD",
      "label": null,
      "name": "target_dataset",
      "options": {
       "widgetDisplayType": "Text",
       "validationRegex": null
      },
      "parameterDataType": "String"
     },
     "widgetInfo": {
      "widgetType": "text",
      "defaultValue": "VCM_DMT_PRD",
      "label": null,
      "name": "target_dataset",
      "options": {
       "widgetType": "text",
       "autoCreated": null,
       "validationRegex": null
      }
     }
    },
    "target_table": {
     "currentValue": "a_daily_scct_store_sku_drdio",
     "nuid": "1f683e21-dd86-4ccd-a73f-d239888fb3a7",
     "typedWidgetInfo": {
      "autoCreated": false,
      "defaultValue": "a_daily_scct_store_sku_drdio",
      "label": null,
      "name": "target_table",
      "options": {
       "widgetDisplayType": "Text",
       "validationRegex": null
      },
      "parameterDataType": "String"
     },
     "widgetInfo": {
      "widgetType": "text",
      "defaultValue": "a_daily_scct_store_sku_drdio",
      "label": null,
      "name": "target_table",
      "options": {
       "widgetType": "text",
       "autoCreated": null,
       "validationRegex": null
      }
     }
    }
   }
  },
  "language_info": {
   "name": "python"
  }
 },
 "nbformat": 4,
 "nbformat_minor": 0
}
