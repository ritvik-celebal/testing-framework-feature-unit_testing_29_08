{
 "cells": [
  {
   "cell_type": "code",
   "execution_count": 0,
   "metadata": {
    "application/vnd.databricks.v1+cell": {
     "cellMetadata": {
      "byteLimit": 2048000,
      "rowLimit": 10000
     },
     "inputWidgets": {},
     "nuid": "b3edccd8-5935-45b3-a1c7-25d9e4d6eb4f",
     "showTitle": false,
     "tableResultSettingsMap": {},
     "title": ""
    }
   },
   "outputs": [],
   "source": [
    "%run ../utils/common"
   ]
  },
  {
   "cell_type": "code",
   "execution_count": 0,
   "metadata": {
    "application/vnd.databricks.v1+cell": {
     "cellMetadata": {
      "byteLimit": 2048000,
      "rowLimit": 10000
     },
     "inputWidgets": {},
     "nuid": "1d08d6eb-d5a9-4721-9a05-b8a40a2f41c2",
     "showTitle": false,
     "tableResultSettingsMap": {},
     "title": ""
    }
   },
   "outputs": [],
   "source": [
    "dbutils.widgets.text(\"environment\", \"\", \"\")\n",
    "environment = dbutils.widgets.get(\"environment\")"
   ]
  },
  {
   "cell_type": "code",
   "execution_count": 0,
   "metadata": {
    "application/vnd.databricks.v1+cell": {
     "cellMetadata": {
      "byteLimit": 2048000,
      "rowLimit": 10000
     },
     "inputWidgets": {},
     "nuid": "59e2f04c-8403-4627-ac4e-3d674caaeb5b",
     "showTitle": false,
     "tableResultSettingsMap": {},
     "title": ""
    }
   },
   "outputs": [],
   "source": [
    "catalog_name = settings[environment]['catalog_name']"
   ]
  },
  {
   "cell_type": "code",
   "execution_count": 0,
   "metadata": {
    "application/vnd.databricks.v1+cell": {
     "cellMetadata": {
      "byteLimit": 2048000,
      "implicitDf": true,
      "rowLimit": 10000
     },
     "inputWidgets": {},
     "nuid": "1e9eadb0-0a10-4677-86d9-92308d09e4ac",
     "showTitle": false,
     "tableResultSettingsMap": {},
     "title": ""
    }
   },
   "outputs": [],
   "source": [
    "spark.sql(f\"\"\"\n",
    "CREATE TABLE IF NOT EXISTS {catalog_name}.udp_wcm_gold_vcm_dmt.a_finance_bill_sll \n",
    "(\n",
    "   calday DATE, \n",
    "   store_id STRING, \n",
    "   transaction_no STRING, \n",
    "   vinid_card_no STRING, \n",
    "   product_id STRING, \n",
    "   total_prd_of_bill BIGINT, \n",
    "   total_bill_of_store_sku BIGINT, \n",
    "   pre_dataset STRING, \n",
    "   is_voucher STRING, \n",
    "   is_vinid STRING, \n",
    "   is_promo_wcm STRING, \n",
    "   base_sale_qty DOUBLE, \n",
    "   sale_amt DOUBLE, \n",
    "   sale_excl_vat DOUBLE, \n",
    "   sale_per_qty DOUBLE, \n",
    "   dataset STRING\n",
    "   ) \n",
    "TBLPROPERTIES (\n",
    "  'DELTA.AUTOOPTIMIZE.OPTIMIZEWRITE' = 'TRUE',\n",
    "  'DELTA.AUTOOPTIMIZE.AUTOCOMPACT' = 'TRUE'\n",
    ")\n",
    "\"\"\")"
   ]
  },
  {
   "cell_type": "code",
   "execution_count": 0,
   "metadata": {
    "application/vnd.databricks.v1+cell": {
     "cellMetadata": {
      "byteLimit": 2048000,
      "rowLimit": 10000
     },
     "inputWidgets": {},
     "nuid": "5435d5c8-22e0-4f4d-82f2-5e2a656cf549",
     "showTitle": false,
     "tableResultSettingsMap": {},
     "title": ""
    }
   },
   "outputs": [],
   "source": [
    "spark.sql(f\"\"\"\n",
    "CREATE OR REPLACE TEMP VIEW temp_a_finance_bill_sll AS\n",
    "WITH raw_data AS (\n",
    "  SELECT\n",
    "    a.*\n",
    "  FROM\n",
    "    {catalog_name}.udp_wcm_gold_vcm_dwh.f_sale_prod a\n",
    "    LEFT JOIN  {catalog_name}.udp_wcm_gold_vcm_dwh.d_store b ON a.store_id = b.store_id\n",
    "    LEFT JOIN  {catalog_name}.udp_wcm_gold_vcm_dwh.d_product c ON a.product_id = c.product_id\n",
    "  WHERE\n",
    "    calday BETWEEN (DATE(CURRENT_TIMESTAMP() + INTERVAL 7 HOURS) - 2)  AND (DATE(CURRENT_TIMESTAMP() + INTERVAL 7 HOURS) -1) \n",
    "    AND b.business_unit IN ('1500','2000')\n",
    "    AND mch2_id IN ('101','102','201','202','203')\n",
    "    AND (is_sll IS FALSE OR is_sll IS NULL)\n",
    "    AND (sale_amount IS NOT NULL OR discount_type IN ('ZRTA', 'ZCRT'))\n",
    "),\n",
    "bill_01 AS (  \n",
    "  SELECT\n",
    "    calday,\n",
    "    store_id,\n",
    "    a.product_id,\n",
    "    a.transaction_no,\n",
    "    vinid_card_no,\n",
    "    \n",
    "    SUM(base_sale_qty) base_sale_qty,\n",
    "    SUM(sale_amount) sale_amt,\n",
    "    SUM(CASE WHEN discount_type IN ('ZRTA', 'ZCRT') THEN discount_value ELSE 0 END) vat_2,\n",
    "    IFNULL(SUM(sale_amount),0) - IFNULL(SUM(tax_amount),0) + SUM(CASE WHEN discount_type IN ('ZRTA', 'ZCRT') THEN discount_value ELSE 0 END) sale_excl_vat,\n",
    "    TRY_DIVIDE(IFNULL(SUM(sale_amount),0)-IFNULL(SUM(tax_amount),0)+SUM(IF(discount_type IN ('ZRTA', 'ZCRT'), discount_value, 0)),SUM(base_sale_qty)) sale_perunit\n",
    "  FROM\n",
    "    raw_data a\n",
    "    LEFT JOIN  {catalog_name}.udp_wcm_gold_vcm_dwh.d_product b ON a.product_id = b.product_id\n",
    "  WHERE\n",
    "    calday BETWEEN DATE(CURRENT_TIMESTAMP() + INTERVAL 7 HOURS) - 2 \n",
    "    AND DATE(CURRENT_TIMESTAMP() + INTERVAL 7 HOURS) - 1\n",
    "    AND b.mch2_id IN ('102','202')\n",
    "    AND b.mch3_id NOT IN ('10204','10205')\n",
    "  GROUP BY 1,2,3,4,5\n",
    "),\n",
    "bill_00 AS (\n",
    "  SELECT DISTINCT\n",
    "    calday,\n",
    "    store_id,\n",
    "    transaction_no,\n",
    "    product_id,\n",
    "    vinid_card_no,\n",
    "    IF(sale_excl_vat>=800000,'DATASET 1234', 'DATASET5') pre_dataset\n",
    "  FROM bill_01\n",
    "  where 1=1 AND sale_excl_vat >= 300000 AND sale_perunit <= 1000000\n",
    "),\n",
    "-- count prd per bill\n",
    "bill_02 AS (\n",
    "  SELECT DISTINCT\n",
    "    a.transaction_no,\n",
    "    COUNT(DISTINCT b.product_id) cnt_prd\n",
    "  FROM\n",
    "    bill_01 a\n",
    "    LEFT JOIN raw_data b ON a.transaction_no = b.transaction_no\n",
    "  GROUP BY 1\n",
    "),\n",
    "bill_03 AS (\n",
    "  SELECT DISTINCT\n",
    "    calday,\n",
    "    store_id,\n",
    "    product_id,\n",
    "    pre_dataset,\n",
    "    COUNT(DISTINCT transaction_no) cnt_bill\n",
    "  FROM bill_00\n",
    "  GROUP BY 1,2,3,4\n",
    "),\n",
    "use_voucher AS (\n",
    "  SELECT DISTINCT transaction_no\n",
    "  FROM {catalog_name}.udp_wcm_gold_vcm_dwh.f_sale_prod\n",
    "  WHERE\n",
    "    payment_method IN ('E-ZIVO','ZFIV','ZIVO','ZPVO','ZUFV','ZUVO','ZVIV')\n",
    "    AND tender_value > 0\n",
    "    AND calday BETWEEN DATE(CURRENT_TIMESTAMP() + INTERVAL 7 HOURS) - 2  AND DATE(CURRENT_TIMESTAMP() + INTERVAL 7 HOURS) - 1\n",
    "),\n",
    "promo_tyledautu AS (\n",
    "  SELECT DISTINCT\n",
    "    bonus_buy_id,\n",
    "    store_id,\n",
    "    zbbprtven\n",
    "  FROM  {catalog_name}.udp_wcm_gold_vcm_dwh.d_promotion\n",
    "  WHERE promo_end_date >= DATE(CURRENT_TIMESTAMP() + INTERVAL 7 HOURS) - 2  AND zbbprtven < 100\n",
    "),\n",
    "bill_wcm_promo AS (\n",
    "  SELECT DISTINCT\n",
    "    transaction_no,\n",
    "    a.store_id,\n",
    "    a.product_id\n",
    "  FROM\n",
    "    {catalog_name}.udp_wcm_gold_vcm_dwh.f_sale_prod a\n",
    "    INNER JOIN promo_tyledautu b ON a.promotion = b.bonus_buy_id AND a.store_id = b.store_id\n",
    "    LEFT JOIN  {catalog_name}.udp_wcm_gold_vcm_dwh.d_product c ON a.product_id = c.product_id\n",
    "  WHERE\n",
    "    a.calday BETWEEN DATE(CURRENT_TIMESTAMP() + INTERVAL 7 HOURS) - 2 AND DATE(CURRENT_TIMESTAMP() + INTERVAL 7 HOURS) - 1\n",
    "    AND c.mch2_id IN ('102','202')\n",
    "    AND c.mch3_id NOT IN ('10204','10205')\n",
    "),\n",
    "bill_04 AS (\n",
    "  SELECT DISTINCT\n",
    "    a.calday,\n",
    "    a.store_id,\n",
    "    a.transaction_no,\n",
    "    a.vinid_card_no,\n",
    "    a.product_id,\n",
    "    c.cnt_prd total_prd_of_bill,\n",
    "    d.cnt_bill total_bill_of_store_sku, \n",
    "    d.pre_dataset,\n",
    "    CASE WHEN v1.transaction_no IS NOT NULL THEN 'YES' ELSE 'NO' END is_voucher,\n",
    "    CASE WHEN a.vinid_card_no IS NOT NULL THEN 'YES' ELSE 'NO' END is_vinid,\n",
    "    CASE WHEN d1.transaction_no IS NOT NULL THEN 'YES' ELSE 'NO' END is_promo_wcm,\n",
    "    b.base_sale_qty,\n",
    "    b.sale_amt,\n",
    "    b.sale_excl_vat,\n",
    "    TRY_DIVIDE(b.sale_excl_vat, b.base_sale_qty) sale_per_qty\n",
    "  FROM\n",
    "    bill_00 a\n",
    "    LEFT JOIN bill_01 b ON a.calday = b.calday AND a.store_id = b.store_id AND a.transaction_no = b.transaction_no AND a.product_id = b.product_id \n",
    "    LEFT JOIN bill_02 c ON a.transaction_no = c.transaction_no\n",
    "    LEFT JOIN bill_03 d ON a.store_id = d.store_id AND a.calday = d.calday AND a.product_id = d.product_id AND a.pre_dataset = d.pre_dataset\n",
    "    LEFT JOIN use_voucher v1 ON a.transaction_no = v1.transaction_no\n",
    "    LEFT JOIN (SELECT DISTINCT transaction_no, product_id FROM bill_wcm_promo) d1 ON a.transaction_no = d1.transaction_no AND a.product_id = d1.product_id\n",
    "),\n",
    "main AS (\n",
    "  SELECT\n",
    "    a.*,\n",
    "    CASE\n",
    "    WHEN (sale_excl_vat >= 2000000 AND pre_dataset = 'DATASET 1234' \n",
    "          AND total_prd_of_bill <= 4 \n",
    "          AND (is_voucher = 'YES' OR is_vinid = 'YES' OR is_promo_wcm = 'YES'))\n",
    "         THEN 'DATASET1'\n",
    "         \n",
    "    WHEN (sale_excl_vat >= 2000000 AND pre_dataset = 'DATASET 1234' \n",
    "          AND total_prd_of_bill <= 4 \n",
    "          AND (is_voucher = 'NO' AND is_vinid = 'NO' AND is_promo_wcm = 'NO'))\n",
    "         THEN 'DATASET3'\n",
    "         \n",
    "    WHEN (sale_excl_vat < 2000000 \n",
    "          AND pre_dataset = 'DATASET 1234' \n",
    "          AND total_prd_of_bill <= 4 \n",
    "          AND total_bill_of_store_sku >= 4 \n",
    "          AND (is_voucher = 'YES' OR is_vinid = 'YES' OR is_promo_wcm = 'YES'))\n",
    "         THEN 'DATASET2'\n",
    "         \n",
    "    WHEN (sale_excl_vat < 2000000 \n",
    "          AND pre_dataset = 'DATASET 1234' \n",
    "          AND total_prd_of_bill <= 4 \n",
    "          AND total_bill_of_store_sku >= 4 \n",
    "          AND (is_voucher = 'NO' AND is_vinid = 'NO' AND is_promo_wcm = 'NO'))\n",
    "         THEN 'DATASET4'\n",
    "         \n",
    "    WHEN (a.sale_excl_vat < 800000 \n",
    "          AND pre_dataset = 'DATASET5' \n",
    "          AND total_bill_of_store_sku >= 15 \n",
    "          AND total_prd_of_bill <= 4)\n",
    "         THEN 'DATASET5' \n",
    "    ELSE 'NA'\n",
    "END AS dataset\n",
    "FROM bill_04 a\n",
    "WHERE 1 = 1\n",
    "\n",
    ")\n",
    "SELECT * FROM main WHERE dataset <> 'NA'          \n",
    "\"\"\")"
   ]
  },
  {
   "cell_type": "code",
   "execution_count": 0,
   "metadata": {
    "application/vnd.databricks.v1+cell": {
     "cellMetadata": {
      "byteLimit": 2048000,
      "rowLimit": 10000
     },
     "inputWidgets": {},
     "nuid": "9fcc434e-308c-435e-a030-e162a2ec4c9a",
     "showTitle": false,
     "tableResultSettingsMap": {},
     "title": ""
    }
   },
   "outputs": [],
   "source": [
    "spark.sql(f\"\"\"\n",
    "  DELETE FROM {catalog_name}.udp_wcm_gold_vcm_dmt.a_finance_bill_sll WHERE calday BETWEEN DATE(CURRENT_TIMESTAMP() + INTERVAL 7 HOURS) - 2 AND DATE(CURRENT_TIMESTAMP() + INTERVAL 7 HOURS) - 1;\n",
    "\"\"\")"
   ]
  },
  {
   "cell_type": "code",
   "execution_count": 0,
   "metadata": {
    "application/vnd.databricks.v1+cell": {
     "cellMetadata": {
      "byteLimit": 2048000,
      "implicitDf": true,
      "rowLimit": 10000
     },
     "inputWidgets": {},
     "nuid": "6e417bd0-ddf4-43b4-a312-3442c5cc2ed1",
     "showTitle": false,
     "tableResultSettingsMap": {},
     "title": ""
    }
   },
   "outputs": [],
   "source": [
    "spark.sql(f\"\"\"\n",
    "INSERT INTO {catalog_name}.udp_wcm_gold_vcm_dmt.a_finance_bill_sll\n",
    "SELECT\n",
    "  calday, store_id, transaction_no, vinid_card_no, product_id, total_prd_of_bill, total_bill_of_store_sku, pre_dataset, is_voucher, is_vinid, is_promo_wcm, base_sale_qty, sale_amt, sale_excl_vat, sale_per_qty, dataset\n",
    "FROM temp_a_finance_bill_sll\n",
    "\"\"\")"
   ]
  }
 ],
 "metadata": {
  "application/vnd.databricks.v1+notebook": {
   "computePreferences": null,
   "dashboards": [],
   "environmentMetadata": {
    "base_environment": "",
    "environment_version": "2"
   },
   "inputWidgetPreferences": null,
   "language": "python",
   "notebookMetadata": {
    "mostRecentlyExecutedCommandWithImplicitDF": {
     "commandId": 6673494183703602,
     "dataframes": [
      "_sqldf"
     ]
    },
    "pythonIndentUnit": 4
   },
   "notebookName": "a_finance_bill_sll",
   "widgets": {
    "environment": {
     "currentValue": "DEV",
     "nuid": "237010dd-5c0a-4ca1-9e7b-75c49420fa4a",
     "typedWidgetInfo": {
      "autoCreated": false,
      "defaultValue": "",
      "label": "",
      "name": "environment",
      "options": {
       "widgetDisplayType": "Text",
       "validationRegex": null
      },
      "parameterDataType": "String"
     },
     "widgetInfo": {
      "widgetType": "text",
      "defaultValue": "",
      "label": "",
      "name": "environment",
      "options": {
       "widgetType": "text",
       "autoCreated": null,
       "validationRegex": null
      }
     }
    },
    "proc_date": {
     "currentValue": "2025-07-19",
     "nuid": "3d2d0f9c-0238-429a-838e-0d871374148d",
     "typedWidgetInfo": {
      "autoCreated": false,
      "defaultValue": "",
      "label": "",
      "name": "proc_date",
      "options": {
       "widgetDisplayType": "Text",
       "validationRegex": null
      },
      "parameterDataType": "String"
     },
     "widgetInfo": {
      "widgetType": "text",
      "defaultValue": "",
      "label": "",
      "name": "proc_date",
      "options": {
       "widgetType": "text",
       "autoCreated": null,
       "validationRegex": null
      }
     }
    }
   }
  },
  "language_info": {
   "name": "python"
  }
 },
 "nbformat": 4,
 "nbformat_minor": 0
}
