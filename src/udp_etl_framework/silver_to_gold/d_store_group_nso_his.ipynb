{
 "cells": [
  {
   "cell_type": "code",
   "execution_count": 0,
   "metadata": {
    "application/vnd.databricks.v1+cell": {
     "cellMetadata": {},
     "inputWidgets": {},
     "nuid": "5ce35887-d1b3-455d-9cab-91be8110d530",
     "showTitle": false,
     "tableResultSettingsMap": {},
     "title": ""
    }
   },
   "outputs": [],
   "source": [
    "%run ../utils/common"
   ]
  },
  {
   "cell_type": "code",
   "execution_count": 0,
   "metadata": {
    "application/vnd.databricks.v1+cell": {
     "cellMetadata": {
      "byteLimit": 2048000,
      "rowLimit": 10000
     },
     "inputWidgets": {},
     "nuid": "821d5e9e-1b1d-4cbb-aed4-077553acbec9",
     "showTitle": false,
     "tableResultSettingsMap": {},
     "title": ""
    }
   },
   "outputs": [],
   "source": [
    "dbutils.widgets.text(\"environment\", \"\", \"\")\n",
    "environment = dbutils.widgets.get(\"environment\")"
   ]
  },
  {
   "cell_type": "code",
   "execution_count": 0,
   "metadata": {
    "application/vnd.databricks.v1+cell": {
     "cellMetadata": {},
     "inputWidgets": {},
     "nuid": "2d191a48-4656-4236-902a-c77ea6813a28",
     "showTitle": false,
     "tableResultSettingsMap": {},
     "title": ""
    }
   },
   "outputs": [],
   "source": [
    "catalog_name = settings[environment]['catalog_name']"
   ]
  },
  {
   "cell_type": "code",
   "execution_count": 0,
   "metadata": {
    "application/vnd.databricks.v1+cell": {
     "cellMetadata": {
      "byteLimit": 2048000,
      "rowLimit": 10000
     },
     "inputWidgets": {},
     "nuid": "85d29356-e701-408a-a0d4-3b3ef810440e",
     "showTitle": false,
     "tableResultSettingsMap": {},
     "title": ""
    }
   },
   "outputs": [],
   "source": [
    "day_of_week = spark.sql(\"SELECT EXTRACT(DAYOFWEEK FROM DATE(CURRENT_TIMESTAMP() + INTERVAL 7 HOURS))\").collect()[0][0]"
   ]
  },
  {
   "cell_type": "code",
   "execution_count": 0,
   "metadata": {
    "application/vnd.databricks.v1+cell": {
     "cellMetadata": {
      "byteLimit": 2048000,
      "rowLimit": 10000
     },
     "inputWidgets": {},
     "nuid": "2871412f-d14a-464a-838a-04d5b78500d0",
     "showTitle": false,
     "tableResultSettingsMap": {},
     "title": ""
    }
   },
   "outputs": [],
   "source": [
    "spark.sql(f\"\"\"\n",
    "CREATE TABLE IF NOT EXISTS {catalog_name}.udp_wcm_gold_db_winare_fresh.d_store_group_nso_his (\n",
    "    calday DATE,\n",
    "    business_unit STRING,\n",
    "    store_id STRING,\n",
    "    store_name STRING,\n",
    "    region STRING,\n",
    "    base_sale_qty_avg DOUBLE,\n",
    "    sale_kg DOUBLE,\n",
    "    store_group_id STRING,\n",
    "    is_adj STRING,\n",
    "    concept STRING,\n",
    "    qlkv STRING,\n",
    "    email_qlkv STRING,\n",
    "    is_win_plus STRING,\n",
    "    email_gdv STRING,\n",
    "    city STRING,\n",
    "    province STRING,\n",
    "    is_nso STRING,\n",
    "    priority_order BIGINT,\n",
    "    available_from DATE,\n",
    "    available_to DATE,\n",
    "    proc_date DATE\n",
    ")\n",
    "\"\"\")"
   ]
  },
  {
   "cell_type": "code",
   "execution_count": 0,
   "metadata": {
    "application/vnd.databricks.v1+cell": {
     "cellMetadata": {
      "byteLimit": 2048000,
      "rowLimit": 10000
     },
     "inputWidgets": {},
     "nuid": "54786e5a-beb0-478b-b3f5-b96183715b4b",
     "showTitle": false,
     "tableResultSettingsMap": {},
     "title": ""
    }
   },
   "outputs": [],
   "source": [
    "if day_of_week == 5:\n",
    "    spark.sql(f\"\"\"\n",
    "    DELETE FROM {catalog_name}.udp_wcm_gold_db_winare_fresh.d_store_group_nso_his\n",
    "    WHERE calday = DATE(CURRENT_TIMESTAMP() + INTERVAL 7 HOURS);\n",
    "    \"\"\")"
   ]
  },
  {
   "cell_type": "code",
   "execution_count": 0,
   "metadata": {
    "application/vnd.databricks.v1+cell": {
     "cellMetadata": {
      "byteLimit": 2048000,
      "rowLimit": 10000
     },
     "inputWidgets": {},
     "nuid": "95c11db1-59c8-4159-a016-9b99246b96be",
     "showTitle": false,
     "tableResultSettingsMap": {},
     "title": ""
    }
   },
   "outputs": [],
   "source": [
    "if day_of_week == 5:\n",
    "    spark.sql(f\"\"\"\n",
    "    INSERT INTO {catalog_name}.udp_wcm_gold_db_winare_fresh.d_store_group_nso_his\n",
    "    SELECT *, DATE(CURRENT_TIMESTAMP() + INTERVAL 7 HOURS) AS proc_date\n",
    "    FROM {catalog_name}.udp_wcm_gold_db_winare_fresh.d_store_group_nso;\n",
    "    \"\"\")"
   ]
  }
 ],
 "metadata": {
  "application/vnd.databricks.v1+notebook": {
   "computePreferences": null,
   "dashboards": [],
   "environmentMetadata": {
    "base_environment": "",
    "environment_version": "2"
   },
   "inputWidgetPreferences": null,
   "language": "python",
   "notebookMetadata": {
    "mostRecentlyExecutedCommandWithImplicitDF": {
     "commandId": 6403329334326562,
     "dataframes": [
      "_sqldf"
     ]
    },
    "pythonIndentUnit": 4
   },
   "notebookName": "d_store_group_nso_his",
   "widgets": {
    "environment": {
     "currentValue": "DEV",
     "nuid": "cae3d83a-a3f7-4ef7-b3da-6927e4674922",
     "typedWidgetInfo": {
      "autoCreated": false,
      "defaultValue": "",
      "label": "",
      "name": "environment",
      "options": {
       "widgetDisplayType": "Text",
       "validationRegex": null
      },
      "parameterDataType": "String"
     },
     "widgetInfo": {
      "widgetType": "text",
      "defaultValue": "",
      "label": "",
      "name": "environment",
      "options": {
       "widgetType": "text",
       "autoCreated": null,
       "validationRegex": null
      }
     }
    }
   }
  },
  "language_info": {
   "name": "python"
  }
 },
 "nbformat": 4,
 "nbformat_minor": 0
}
