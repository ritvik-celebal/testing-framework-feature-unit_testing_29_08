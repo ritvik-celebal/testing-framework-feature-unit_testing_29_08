{
 "cells": [
  {
   "cell_type": "code",
   "execution_count": 0,
   "metadata": {
    "application/vnd.databricks.v1+cell": {
     "cellMetadata": {
      "byteLimit": 2048000,
      "rowLimit": 10000
     },
     "inputWidgets": {},
     "nuid": "06b0e7a4-b65e-4d2d-a3d1-a7b9d2e927e9",
     "showTitle": false,
     "tableResultSettingsMap": {},
     "title": ""
    }
   },
   "outputs": [],
   "source": [
    "%run ../utils/common"
   ]
  },
  {
   "cell_type": "code",
   "execution_count": 0,
   "metadata": {
    "application/vnd.databricks.v1+cell": {
     "cellMetadata": {
      "byteLimit": 2048000,
      "rowLimit": 10000
     },
     "inputWidgets": {},
     "nuid": "a5509b31-d173-49f6-8f2e-5d9d57188dbd",
     "showTitle": false,
     "tableResultSettingsMap": {},
     "title": ""
    }
   },
   "outputs": [],
   "source": [
    "dbutils.widgets.text(\"environment\", \"\", \"\")\n",
    "environment = dbutils.widgets.get(\"environment\")"
   ]
  },
  {
   "cell_type": "code",
   "execution_count": 0,
   "metadata": {
    "application/vnd.databricks.v1+cell": {
     "cellMetadata": {
      "byteLimit": 2048000,
      "rowLimit": 10000
     },
     "inputWidgets": {},
     "nuid": "b49738d2-3e1a-4061-94ca-9bf32579791f",
     "showTitle": false,
     "tableResultSettingsMap": {},
     "title": ""
    }
   },
   "outputs": [],
   "source": [
    "catalog_name = settings[environment]['catalog_name']"
   ]
  },
  {
   "cell_type": "code",
   "execution_count": 0,
   "metadata": {
    "application/vnd.databricks.v1+cell": {
     "cellMetadata": {
      "byteLimit": 2048000,
      "rowLimit": 10000
     },
     "inputWidgets": {},
     "nuid": "b7061a57-3e5a-4c19-aee0-a96b48c1fd68",
     "showTitle": false,
     "tableResultSettingsMap": {},
     "title": ""
    }
   },
   "outputs": [],
   "source": [
    "spark.sql(f\"\"\"\n",
    "CREATE OR REPLACE TABLE {catalog_name}.udp_wcm_gold_vcm_dwh.d_dynamic_assorment\n",
    "TBLPROPERTIES (\n",
    "  'DELTA.AUTOOPTIMIZE.OPTIMIZEWRITE' = 'TRUE',\n",
    "  'DELTA.AUTOOPTIMIZE.AUTOCOMPACT' = 'TRUE'\n",
    ")\n",
    "    AS\n",
    "    WITH store_sku AS ( \n",
    "        SELECT \n",
    "            a.store_id, \n",
    "            b.concept,\n",
    "            b.region_domain_vn region, \n",
    "            b.city,\n",
    "            b.qlkv, \n",
    "            a.product_id, \n",
    "            c.product_name,\n",
    "            c.mch5_id, \n",
    "            c.mch5_desc,\n",
    "            a.asm_type,\n",
    "            c.temperature,\n",
    "            IF(d.store_id IS NULL, 0,1) is_top_store    \n",
    "        FROM {catalog_name}.udp_wcm_gold_vcm_dwh.d_store_sku_list_simulation a\n",
    "        LEFT JOIN {catalog_name}.udp_wcm_gold_vcm_dwh.d_store b\n",
    "            USING(store_id)\n",
    "        LEFT JOIN {catalog_name}.udp_wcm_gold_vcm_dwh.d_product c\n",
    "            USING(product_id)\n",
    "        LEFT JOIN {catalog_name}.udp_wcm_gold_vcm_dwh.d_mdq_pog_core3_store d\n",
    "           USING(store_id)\n",
    "        WHERE b.business_unit = '2000'\n",
    "            AND c.mch2_id IN ('102','201','202','203')\n",
    "            AND a.asm_type = 'CORE3'\n",
    "            AND UPPER(IFNULL(b.concept, 'NULL')) <> 'RURAL'\n",
    "    ),\n",
    "    asm_active AS (\n",
    "        SELECT\n",
    "            DISTINCT\n",
    "            a.store_id,\n",
    "            a.product_id,\n",
    "            b.region,\n",
    "            b.concept,\n",
    "            MIN(a.start_date) OVER(PARTITION BY a.product_id) min_listing_sku,\n",
    "            MIN(a.start_date) OVER(PARTITION BY b.concept, a.product_id) min_listing_concept,\n",
    "            MIN(a.start_date) OVER(PARTITION BY b.concept, b.region, a.product_id) min_listing_concept_region\n",
    "        FROM {catalog_name}.udp_wcm_gold_vcm_dwh.d_assortment_scd a\n",
    "        INNER JOIN store_sku b ON a.store_id = b.store_id AND a.product_id = b.product_id\n",
    "        WHERE a.status = 'ACTIVE'\n",
    "    ),\n",
    "    a_store_sku_daily AS (\n",
    "        SELECT\n",
    "            b.concept, \n",
    "            b.region_domain_vn region, \n",
    "            b.qlkv,  \n",
    "            a.store_id, \n",
    "            c.mch5_id, \n",
    "            a.product_id,\n",
    "            SUM(IF(calday = '{init_date}', a.stock.closing_stock_value, 0)) closing_stock_val,\n",
    "            SUM(IF(calday = '{init_date}', a.stock.closing_stock_quantity, 0)) closing_stock_qty,\n",
    "            SUM(IFNULL(revenue.cogs_pos, 0))/30 avg_sale\n",
    "        FROM {catalog_name}.udp_wcm_gold_vcm_dmt.a_store_sku_daily a\n",
    "        LEFT JOIN {catalog_name}.udp_wcm_gold_vcm_dwh.d_store b \n",
    "            USING(store_id)\n",
    "        LEFT JOIN {catalog_name}.udp_wcm_gold_vcm_dwh.d_product c\n",
    "            USING(product_id)\n",
    "        INNER JOIN (SELECT DISTINCT store_id FROM store_sku) d\n",
    "            USING(store_id)\n",
    "        WHERE a.calday >= DATEADD('{init_date}',-29) AND a.calday <= '{init_date}'\n",
    "            AND c.mch2_id IN ('102','201','202','203')\n",
    "        GROUP  BY 1,2,3,4,5,6\n",
    "    ),  \n",
    "    agg_store_level AS (\n",
    "        SELECT store_id, SUM(avg_sale)/1000000 avg_sale_store\n",
    "        FROM a_store_sku_daily\n",
    "        GROUP BY 1 \n",
    "    ),\n",
    "    store_sale_cluster AS (\n",
    "        SELECT \n",
    "            store_id,\n",
    "            avg_sale_store,\n",
    "            CASE \n",
    "                WHEN avg_sale_store > 14 THEN 'TOP'\n",
    "                WHEN avg_sale_store >= 12 AND avg_sale_store < 14 THEN '12-14'\n",
    "                WHEN avg_sale_store >= 10 AND avg_sale_store < 12 THEN '10-12'\n",
    "                WHEN avg_sale_store >= 8 AND avg_sale_store < 10 THEN '08-10'\n",
    "                WHEN avg_sale_store < 8 THEN 'FLOP'\n",
    "            END store_cluster\n",
    "        FROM agg_store_level\n",
    "    ),\n",
    "    sale_concept_region_qlkv AS (\n",
    "        SELECT \n",
    "            a.concept, \n",
    "            a.region, \n",
    "            a.qlkv, \n",
    "            a.product_id, \n",
    "            AVG(a.avg_sale) avg_sale\n",
    "        FROM a_store_sku_daily a\n",
    "        GROUP BY 1,2,3,4\n",
    "    ),\n",
    "    agg_qlkv_level AS (\n",
    "        SELECT\n",
    "            a.store_id, \n",
    "            a.mch5_id,\n",
    "            a.product_id,\n",
    "            b.avg_sale, \n",
    "            ROW_NUMBER() OVER (PARTITION BY a.store_id, a.mch5_id ORDER BY IFNULL(b.avg_sale, 0) DESC, IFNULL(a1.avg_sale, 0)) AS rn\n",
    "        FROM store_sku a\n",
    "        LEFT JOIN a_store_sku_daily a1\n",
    "            ON a.store_id = a1.store_id AND a.product_id = a1.product_id\n",
    "        LEFT JOIN sale_concept_region_qlkv b\n",
    "            ON a.concept = b.concept AND a.region = b.region AND a.qlkv = b.qlkv AND a.product_id = b.product_id\n",
    "    ), \n",
    "    no_sku_mch5 AS (\n",
    "        SELECT \n",
    "            mch5_id, \n",
    "            CASE \n",
    "                WHEN store_cluster = 'MID_12_14' THEN '12-14'\n",
    "                WHEN store_cluster = 'MID_10_12' THEN '10-12'\n",
    "                WHEN store_cluster = 'MID_8_10' THEN '08-10'\n",
    "                ELSE store_cluster \n",
    "            END AS store_cluster, \n",
    "            no_sku\n",
    "        FROM (\n",
    "            SELECT mch5_id, store_cluster, no_sku\n",
    "            FROM {catalog_name}.udp_wcm_gold_wcm_fin_biztrans.no_sku_distribution_import \n",
    "            UNPIVOT(\n",
    "                no_sku FOR store_cluster IN (TOP, MID_12_14, MID_10_12, MID_8_10, FLOP)\n",
    "            )\n",
    "            WHERE model = 'PA3'\n",
    "        )\n",
    "    ),\n",
    "    mapping AS (\n",
    "        SELECT\n",
    "            a.region,\n",
    "            a.city,\n",
    "            a.concept,\n",
    "            a.store_id,\n",
    "            b.store_cluster,\n",
    "            a.mch5_id,\n",
    "            a.mch5_desc,\n",
    "            a.product_id,\n",
    "            a.product_name,\n",
    "            a.is_top_store,\n",
    "            c.no_sku no_sku_keeping,\n",
    "            IFNULL(a1.avg_sale, 0) avg_sale_store,\n",
    "            IFNULL(a2.avg_sale, 0) avg_sale_qlkv,\n",
    "            CASE \n",
    "            WHEN IFNULL(a1.avg_sale, 0) = 0 OR IFNULL(a2.avg_sale, 0) = 0 \n",
    "                THEN IFNULL(a1.avg_sale, 0) + IFNULL(a2.avg_sale, 0)\n",
    "            ELSE (a1.avg_sale + a2.avg_sale) / 2 \n",
    "            END avg_sale_store_qlkv,\n",
    "            d.min_listing_sku,\n",
    "            IF(min_listing_sku > DATEADD( '{init_date}',-90), 1, 0) is_new_listing,\n",
    "            COUNT(*) OVER(PARTITION BY a.store_id, a.mch5_id) cnt_sku_active\n",
    "        FROM store_sku a\n",
    "        LEFT JOIN a_store_sku_daily a1\n",
    "            USING(store_id,product_id)\n",
    "        LEFT JOIN agg_qlkv_level a2\n",
    "            USING(store_id,product_id)\n",
    "        LEFT JOIN store_sale_cluster b \n",
    "            USING(store_id)\n",
    "        LEFT JOIN no_sku_mch5 c\n",
    "            ON b.store_cluster = c.store_cluster AND a.mch5_id = c.mch5_id\n",
    "        LEFT JOIN asm_active d\n",
    "            USING(store_id,product_id)\n",
    "    ),\n",
    "    new_listing_priority AS (\n",
    "        SELECT \n",
    "            *,\n",
    "            IF(no_sku_keeping > 2, avg_sale_store_qlkv, avg_sale_qlkv) avg_sale_compare\n",
    "        FROM mapping\n",
    "        WHERE is_new_listing = 1 or is_top_store = 1 OR store_cluster = 'TOP'\n",
    "    ),\n",
    "    all_listing AS (\n",
    "        SELECT \n",
    "            a.*,\n",
    "            IF(a.no_sku_keeping > 2, a.avg_sale_store_qlkv, a.avg_sale_qlkv) avg_sale_compare,\n",
    "            ROW_NUMBER() OVER(PARTITION BY a.store_id, a.mch5_id ORDER BY IF(a.no_sku_keeping > 2, a.avg_sale_store_qlkv, a.avg_sale_qlkv) DESC) rn\n",
    "        FROM mapping a\n",
    "    ),\n",
    "    main AS (\n",
    "        SELECT \n",
    "            * ,1 is_keeping\n",
    "        FROM new_listing_priority\n",
    "        UNION ALL\n",
    "        SELECT \n",
    "            * EXCEPT(rn), IF(rn <= no_sku_keeping, 1, 0) is_keeping\n",
    "        FROM all_listing\n",
    "    )\n",
    "    SELECT *\n",
    "    FROM main\n",
    "    QUALIFY ROW_NUMBER() OVER(PARTITION BY store_id, mch5_id, product_id ORDER BY is_keeping DESC) = 1;\n",
    "\"\"\")"
   ]
  },
  {
   "cell_type": "code",
   "execution_count": 0,
   "metadata": {
    "application/vnd.databricks.v1+cell": {
     "cellMetadata": {
      "byteLimit": 2048000,
      "rowLimit": 10000
     },
     "inputWidgets": {},
     "nuid": "f2eeca02-95b7-45c4-8bcb-bbb9cd6e43d3",
     "showTitle": false,
     "tableResultSettingsMap": {},
     "title": ""
    }
   },
   "outputs": [],
   "source": [
    "spark.sql(f\"\"\"\n",
    "CREATE  TABLE  IF NOT EXISTS {catalog_name}.udp_wcm_gold_vcm_dwh.d_dynamic_assorment_his (\n",
    "  calday DATE,\n",
    "  init_date DATE,\n",
    "  region STRING,\n",
    "  city STRING,\n",
    "  concept STRING,\n",
    "  store_id STRING,\n",
    "  store_cluster STRING,\n",
    "  mch5_id STRING,\n",
    "  mch5_desc STRING,\n",
    "  product_id STRING,\n",
    "  product_name STRING,\n",
    "  no_sku_keeping BIGINT,\n",
    "  avg_sale_store DOUBLE,\n",
    "  avg_sale_qlkv DOUBLE,\n",
    "  avg_sale_store_qlkv DOUBLE,\n",
    "  min_listing_sku DATE,\n",
    "  is_new_listing INT,\n",
    "  cnt_sku_active BIGINT,\n",
    "  avg_sale_compare DOUBLE,\n",
    "  is_keeping INT\n",
    ")\n",
    "TBLPROPERTIES (\n",
    "  'DELTA.AUTOOPTIMIZE.OPTIMIZEWRITE' = 'TRUE',\n",
    "  'DELTA.AUTOOPTIMIZE.AUTOCOMPACT' = 'TRUE'\n",
    ");\n",
    "\"\"\")"
   ]
  },
  {
   "cell_type": "code",
   "execution_count": 0,
   "metadata": {
    "application/vnd.databricks.v1+cell": {
     "cellMetadata": {
      "byteLimit": 2048000,
      "rowLimit": 10000
     },
     "inputWidgets": {},
     "nuid": "a42210be-8115-4e8b-b873-149f95108e96",
     "showTitle": false,
     "tableResultSettingsMap": {},
     "title": ""
    }
   },
   "outputs": [],
   "source": [
    "spark.sql(f\"\"\"DELETE FROM {catalog_name}.udp_wcm_gold_vcm_dwh.d_dynamic_assorment_his WHERE calday = DATE(CURRENT_TIMESTAMP() + INTERVAL 7 HOURS);\n",
    "\"\"\")"
   ]
  },
  {
   "cell_type": "code",
   "execution_count": 0,
   "metadata": {
    "application/vnd.databricks.v1+cell": {
     "cellMetadata": {
      "byteLimit": 2048000,
      "rowLimit": 10000
     },
     "inputWidgets": {},
     "nuid": "d51517f5-803a-4e3b-9d4e-24c1f8049d06",
     "showTitle": false,
     "tableResultSettingsMap": {},
     "title": ""
    }
   },
   "outputs": [],
   "source": [
    "spark.sql(f\"\"\"\n",
    "INSERT INTO {catalog_name}.udp_wcm_gold_vcm_dwh.d_dynamic_assorment_his(calday,init_date,region,city,concept,store_id,store_cluster,mch5_id,mch5_desc,product_id,product_name,is_top_store,no_sku_keeping,avg_sale_store,avg_sale_qlkv,avg_sale_store_qlkv,min_listing_sku,is_new_listing,cnt_sku_active,avg_sale_compare,is_keeping)\n",
    "    SELECT\n",
    "        DATE(CURRENT_TIMESTAMP() + INTERVAL 7 HOURS) calday,\n",
    "        '{init_date}',\n",
    "        region,\n",
    "        city,\n",
    "        concept,\n",
    "        store_id,\n",
    "        store_cluster,\n",
    "        mch5_id,\n",
    "        mch5_desc,\n",
    "        product_id,\n",
    "        product_name,\n",
    "        is_top_store,\n",
    "        no_sku_keeping,\n",
    "        avg_sale_store,\n",
    "        avg_sale_qlkv,\n",
    "        avg_sale_store_qlkv,\n",
    "        min_listing_sku,\n",
    "        is_new_listing,\n",
    "        cnt_sku_active,\n",
    "        avg_sale_compare,\n",
    "        is_keeping\n",
    "        FROM {catalog_name}.udp_wcm_gold_vcm_dwh.d_dynamic_assorment;\n",
    "\"\"\")"
   ]
  }
 ],
 "metadata": {
  "application/vnd.databricks.v1+notebook": {
   "computePreferences": null,
   "dashboards": [],
   "environmentMetadata": {
    "base_environment": "",
    "environment_version": "2"
   },
   "inputWidgetPreferences": null,
   "language": "python",
   "notebookMetadata": {
    "mostRecentlyExecutedCommandWithImplicitDF": {
     "commandId": 6403329334306466,
     "dataframes": [
      "_sqldf"
     ]
    },
    "pythonIndentUnit": 4
   },
   "notebookName": "d_dynamic_assorment",
   "widgets": {
    "environment": {
     "currentValue": "DEV",
     "nuid": "a6b3771c-0293-4f19-8c8e-d3265306f6f8",
     "typedWidgetInfo": {
      "autoCreated": false,
      "defaultValue": "",
      "label": "",
      "name": "environment",
      "options": {
       "widgetDisplayType": "Text",
       "validationRegex": null
      },
      "parameterDataType": "String"
     },
     "widgetInfo": {
      "widgetType": "text",
      "defaultValue": "",
      "label": "",
      "name": "environment",
      "options": {
       "widgetType": "text",
       "autoCreated": null,
       "validationRegex": null
      }
     }
    },
    "proc_date": {
     "currentValue": "2025-07-21",
     "nuid": "0aeb7144-36bc-4d89-aad9-cd686adcd61b",
     "typedWidgetInfo": {
      "autoCreated": false,
      "defaultValue": "",
      "label": null,
      "name": "proc_date",
      "options": {
       "widgetDisplayType": "Text",
       "validationRegex": null
      },
      "parameterDataType": "String"
     },
     "widgetInfo": {
      "widgetType": "text",
      "defaultValue": "",
      "label": null,
      "name": "proc_date",
      "options": {
       "widgetType": "text",
       "autoCreated": null,
       "validationRegex": null
      }
     }
    }
   }
  },
  "language_info": {
   "name": "python"
  }
 },
 "nbformat": 4,
 "nbformat_minor": 0
}
