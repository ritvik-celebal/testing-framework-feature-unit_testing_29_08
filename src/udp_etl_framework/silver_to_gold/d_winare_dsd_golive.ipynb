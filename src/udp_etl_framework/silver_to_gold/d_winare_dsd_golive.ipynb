{
 "cells": [
  {
   "cell_type": "code",
   "execution_count": 0,
   "metadata": {
    "application/vnd.databricks.v1+cell": {
     "cellMetadata": {
      "byteLimit": 2048000,
      "rowLimit": 10000
     },
     "inputWidgets": {},
     "nuid": "7b87b6c7-c395-48f0-b6ad-fd7ad29ee3ca",
     "showTitle": false,
     "tableResultSettingsMap": {},
     "title": ""
    }
   },
   "outputs": [],
   "source": [
    "%run ../utils/common"
   ]
  },
  {
   "cell_type": "code",
   "execution_count": 0,
   "metadata": {
    "application/vnd.databricks.v1+cell": {
     "cellMetadata": {
      "byteLimit": 2048000,
      "rowLimit": 10000
     },
     "inputWidgets": {},
     "nuid": "a64fecff-b0d6-45f2-ab50-49842a46848e",
     "showTitle": false,
     "tableResultSettingsMap": {},
     "title": ""
    }
   },
   "outputs": [],
   "source": [
    "dbutils.widgets.text(\"environment\", \"\", \"\")\n",
    "environment = dbutils.widgets.get(\"environment\")"
   ]
  },
  {
   "cell_type": "code",
   "execution_count": 0,
   "metadata": {
    "application/vnd.databricks.v1+cell": {
     "cellMetadata": {},
     "inputWidgets": {},
     "nuid": "b7402339-dc64-4370-8814-c6a821bc436e",
     "showTitle": false,
     "tableResultSettingsMap": {},
     "title": ""
    }
   },
   "outputs": [],
   "source": [
    "catalog_name = settings[environment]['catalog_name']"
   ]
  },
  {
   "cell_type": "code",
   "execution_count": 0,
   "metadata": {
    "application/vnd.databricks.v1+cell": {
     "cellMetadata": {
      "byteLimit": 2048000,
      "rowLimit": 10000
     },
     "inputWidgets": {},
     "nuid": "e2c902a3-a47e-4598-8179-386ed6d83db8",
     "showTitle": false,
     "tableResultSettingsMap": {},
     "title": ""
    }
   },
   "outputs": [],
   "source": [
    "spark.sql(f\"\"\"\n",
    "CREATE OR REPLACE TABLE {catalog_name}.udp_wcm_gold_vcm_dwh.d_winare_dsd_golive \n",
    "AS\n",
    "WITH bu_mnf_golive AS (\n",
    "    SELECT *\n",
    "    FROM (\n",
    "    SELECT explode(array('1500', '2000')) AS business_unit\n",
    ") bu\n",
    "CROSS JOIN (\n",
    "    SELECT explode(array(\n",
    "        '1006', '1003', '1061',\n",
    "        '1008', '1016', '1022', '1023', '1025', '1026', '1049', '1059', '1110', '1199', '1219',\n",
    "        '1004', '1017', '1009', '1040', '1010', '2291', '1091', '1043', '1055', '1177'\n",
    "    )) AS manufacturer_id\n",
    ") mnf\n",
    "),\n",
    "main AS (\n",
    "    SELECT DISTINCT\n",
    "        a.store_id,\n",
    "        a.product_id,\n",
    "        'YES' golive\n",
    "    FROM\n",
    "        {catalog_name}.udp_wcm_gold_vcm_dwh.d_store_sku_by_dsd a\n",
    "        LEFT JOIN {catalog_name}.udp_wcm_gold_vcm_dwh.d_store b ON a.store_id = b.store_id\n",
    "        LEFT JOIN {catalog_name}.udp_wcm_gold_vcm_dwh.d_product c ON a.product_id = c.product_id\n",
    "        INNER JOIN bu_mnf_golive d ON a.business_unit = d.business_unit AND a.manufacturer_id = d.manufacturer_id\n",
    "    WHERE\n",
    "        b.store_status_desc = \"Đang hoạt động\"\n",
    "        AND a.business_unit IN (\"1500\", \"2000\")\n",
    "        AND b.is_win_plus <> 'YES'\n",
    "        AND c.temperature = 'A3'\n",
    ")\n",
    "SELECT * FROM main;\n",
    "\"\"\")"
   ]
  }
 ],
 "metadata": {
  "application/vnd.databricks.v1+notebook": {
   "computePreferences": null,
   "dashboards": [],
   "environmentMetadata": {
    "base_environment": "",
    "environment_version": "2"
   },
   "inputWidgetPreferences": null,
   "language": "python",
   "notebookMetadata": {
    "mostRecentlyExecutedCommandWithImplicitDF": {
     "commandId": 6195020050885539,
     "dataframes": [
      "_sqldf"
     ]
    },
    "pythonIndentUnit": 4
   },
   "notebookName": "d_winare_dsd_golive",
   "widgets": {
    "environment": {
     "currentValue": "DEV",
     "nuid": "a5a212ed-f578-4881-bdad-f08281b79060",
     "typedWidgetInfo": {
      "autoCreated": false,
      "defaultValue": "",
      "label": "",
      "name": "environment",
      "options": {
       "widgetDisplayType": "Text",
       "validationRegex": null
      },
      "parameterDataType": "String"
     },
     "widgetInfo": {
      "widgetType": "text",
      "defaultValue": "",
      "label": "",
      "name": "environment",
      "options": {
       "widgetType": "text",
       "autoCreated": null,
       "validationRegex": null
      }
     }
    }
   }
  },
  "language_info": {
   "name": "python"
  }
 },
 "nbformat": 4,
 "nbformat_minor": 0
}
