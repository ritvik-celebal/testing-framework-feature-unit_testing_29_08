{
 "cells": [
  {
   "cell_type": "code",
   "execution_count": 0,
   "metadata": {
    "application/vnd.databricks.v1+cell": {
     "cellMetadata": {
      "byteLimit": 2048000,
      "rowLimit": 10000
     },
     "inputWidgets": {},
     "nuid": "f2acf0e1-2132-4ac1-b8ea-9470f2630076",
     "showTitle": false,
     "tableResultSettingsMap": {},
     "title": ""
    }
   },
   "outputs": [],
   "source": [
    "%run ../utils/common"
   ]
  },
  {
   "cell_type": "code",
   "execution_count": 0,
   "metadata": {
    "application/vnd.databricks.v1+cell": {
     "cellMetadata": {
      "byteLimit": 2048000,
      "rowLimit": 10000
     },
     "inputWidgets": {},
     "nuid": "80239969-4394-4c58-982c-6ec964f269ac",
     "showTitle": false,
     "tableResultSettingsMap": {},
     "title": ""
    }
   },
   "outputs": [],
   "source": [
    "dbutils.widgets.text(\"environment\", \"\", \"\")\n",
    "environment = dbutils.widgets.get(\"environment\")"
   ]
  },
  {
   "cell_type": "code",
   "execution_count": 0,
   "metadata": {
    "application/vnd.databricks.v1+cell": {
     "cellMetadata": {
      "byteLimit": 2048000,
      "rowLimit": 10000
     },
     "inputWidgets": {},
     "nuid": "8753327b-3550-4174-8033-4d8b7aa51802",
     "showTitle": false,
     "tableResultSettingsMap": {},
     "title": ""
    }
   },
   "outputs": [],
   "source": [
    "catalog_name = settings[environment]['catalog_name']"
   ]
  },
  {
   "cell_type": "code",
   "execution_count": 0,
   "metadata": {
    "application/vnd.databricks.v1+cell": {
     "cellMetadata": {
      "byteLimit": 2048000,
      "rowLimit": 10000
     },
     "inputWidgets": {},
     "nuid": "9e78d7c6-f328-4ce7-abda-9d2ec8a3ddb9",
     "showTitle": false,
     "tableResultSettingsMap": {},
     "title": ""
    }
   },
   "outputs": [],
   "source": [
    "spark.sql(f\"\"\"\n",
    "CREATE OR REPLACE TABLE {catalog_name}.udp_wcm_gold_db_supra_fresh.d_fnr_fresh_delivery_schedule\n",
    "-- CLUSTER BY city \n",
    "TBLPROPERTIES (\n",
    "  'DELTA.AUTOOPTIMIZE.OPTIMIZEWRITE' = 'TRUE',\n",
    "  'DELTA.AUTOOPTIMIZE.AUTOCOMPACT' = 'TRUE'\n",
    ")\n",
    "AS\n",
    "WITH\n",
    "TEMP_0 AS (\n",
    "    SELECT \n",
    "        city,\n",
    "        udp_wcm_dev.default.n_fnr_fresh_order_num_in_str(delivery_schedule) delivery_schedule,\n",
    "        send_fc_date,\n",
    "        divide_po_date,\n",
    "        self_life_adjust\n",
    "    FROM {catalog_name}.udp_wcm_silver_dataportal.fnr_fresh_order_config_delivery_schedule\n",
    "    WHERE proc_date = (SELECT MAX(proc_date) FROM {catalog_name}.udp_wcm_silver_dataportal.fnr_fresh_order_config_delivery_schedule)\n",
    "),\n",
    "TEMP_1 AS (\n",
    "    SELECT\n",
    "        city,\n",
    "        delivery_schedule,\n",
    "        CASE \n",
    "            WHEN send_fc_date = 'D' THEN 0\n",
    "            ELSE CAST(SUBSTR(send_fc_date, 3, 1) AS BIGINT)                      \n",
    "        END send_fc_date,\n",
    "        CASE \n",
    "            WHEN divide_po_date = 'D' THEN 0\n",
    "            ELSE CAST(SUBSTR(divide_po_date, 3, 1) AS BIGINT)                      \n",
    "        END divide_po_date,\n",
    "        CASE \n",
    "            WHEN self_life_adjust = 'D' THEN 0\n",
    "            ELSE CAST(SUBSTR(self_life_adjust, 3, 1) AS BIGINT) * (-1)                     \n",
    "        END self_life_adjust,\n",
    "        udp_wcm_dev.default.fn_fnr_fresh_get_order_schedule(delivery_schedule, send_fc_date) order_schedule\n",
    "    FROM TEMP_0\n",
    "),\n",
    "TEMP_2 AS (\n",
    "    SELECT \n",
    "        city,\n",
    "        order_schedule,\n",
    "        CASE \n",
    "            WHEN array_contains(split(a.order_schedule, ','), CAST(dayofweek(current_date()) AS STRING)) \n",
    "            THEN 'YES' \n",
    "            ELSE 'NO' \n",
    "        END AS is_order_date,\n",
    "        a.delivery_schedule,\n",
    "        a.send_fc_date,\n",
    "        current_date() today,\n",
    "        date_add(current_date(), CAST(a.send_fc_date AS INT)) first_delivery_day\n",
    "    FROM TEMP_1 a\n",
    "),\n",
    "TEMP_3 AS (\n",
    "    SELECT \n",
    "        f.city,\n",
    "        f.order_schedule,\n",
    "        f.is_order_date,\n",
    "        f.delivery_schedule,\n",
    "        f.send_fc_date,\n",
    "        f.today,\n",
    "        f.first_delivery_day,\n",
    "        sort_array(collect_list(g.calday))[0] AS second_delivery_day,\n",
    "        sort_array(collect_list(g.calday))[1] AS second_delivery_day_ifsunday\n",
    "    FROM TEMP_2 f\n",
    "    LEFT JOIN {catalog_name}.udp_wcm_gold_vcm_dwh.d_time g\n",
    "           ON instr(concat(',', f.delivery_schedule, ','), concat(',', g.dayofweek, ',')) > 0\n",
    "    WHERE g.calday > f.first_delivery_day\n",
    "    GROUP BY 1,2,3,4,5,6,7\n",
    "),\n",
    "MAIN AS (\n",
    "    SELECT \n",
    "        city,\n",
    "        order_schedule,\n",
    "        is_order_date,\n",
    "        delivery_schedule,\n",
    "        send_fc_date,\n",
    "        today,\n",
    "        first_delivery_day,\n",
    "        second_delivery_day\n",
    "        -- CASE \n",
    "        --     WHEN dayofweek(second_delivery_day) = 1 \n",
    "        --     THEN second_delivery_day_ifsunday \n",
    "        --     ELSE second_delivery_day \n",
    "        -- END AS second_delivery_day\n",
    "    FROM TEMP_3\n",
    ")\n",
    "SELECT * FROM MAIN\n",
    "\"\"\")"
   ]
  }
 ],
 "metadata": {
  "application/vnd.databricks.v1+notebook": {
   "computePreferences": null,
   "dashboards": [],
   "environmentMetadata": {
    "base_environment": "",
    "environment_version": "2"
   },
   "inputWidgetPreferences": null,
   "language": "python",
   "notebookMetadata": {
    "mostRecentlyExecutedCommandWithImplicitDF": {
     "commandId": 6403329334331512,
     "dataframes": [
      "_sqldf"
     ]
    },
    "pythonIndentUnit": 4
   },
   "notebookName": "d_fnr_fresh_delivery_schedule",
   "widgets": {
    "environment": {
     "currentValue": "DEV",
     "nuid": "098965fd-87ee-414b-a548-913ab9dd967d",
     "typedWidgetInfo": {
      "autoCreated": false,
      "defaultValue": "",
      "label": "",
      "name": "environment",
      "options": {
       "widgetDisplayType": "Text",
       "validationRegex": null
      },
      "parameterDataType": "String"
     },
     "widgetInfo": {
      "widgetType": "text",
      "defaultValue": "",
      "label": "",
      "name": "environment",
      "options": {
       "widgetType": "text",
       "autoCreated": null,
       "validationRegex": null
      }
     }
    },
    "proc_date": {
     "currentValue": "2025-06-28",
     "nuid": "14549bbb-feac-46b3-97d0-c34df4ede346",
     "typedWidgetInfo": {
      "autoCreated": false,
      "defaultValue": "",
      "label": null,
      "name": "proc_date",
      "options": {
       "widgetDisplayType": "Text",
       "validationRegex": null
      },
      "parameterDataType": "String"
     },
     "widgetInfo": {
      "widgetType": "text",
      "defaultValue": "",
      "label": null,
      "name": "proc_date",
      "options": {
       "widgetType": "text",
       "autoCreated": null,
       "validationRegex": null
      }
     }
    }
   }
  },
  "language_info": {
   "name": "python"
  }
 },
 "nbformat": 4,
 "nbformat_minor": 0
}
