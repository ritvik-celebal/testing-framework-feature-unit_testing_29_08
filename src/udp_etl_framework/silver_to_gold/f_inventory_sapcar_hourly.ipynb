{
 "cells": [
  {
   "cell_type": "code",
   "execution_count": 0,
   "metadata": {
    "application/vnd.databricks.v1+cell": {
     "cellMetadata": {
      "byteLimit": 2048000,
      "rowLimit": 10000
     },
     "inputWidgets": {},
     "nuid": "19cfefc1-f8ff-461c-a68f-7e3c3041c8c3",
     "showTitle": false,
     "tableResultSettingsMap": {},
     "title": ""
    }
   },
   "outputs": [],
   "source": [
    "%run ../utils/common"
   ]
  },
  {
   "cell_type": "code",
   "execution_count": 0,
   "metadata": {
    "application/vnd.databricks.v1+cell": {
     "cellMetadata": {
      "byteLimit": 2048000,
      "rowLimit": 10000
     },
     "inputWidgets": {},
     "nuid": "852cd230-3aea-4c6b-8d4b-70057c7f4cb9",
     "showTitle": false,
     "tableResultSettingsMap": {},
     "title": ""
    }
   },
   "outputs": [],
   "source": [
    "catalog_name = 'udp_wcm_dev'"
   ]
  },
  {
   "cell_type": "code",
   "execution_count": 0,
   "metadata": {
    "application/vnd.databricks.v1+cell": {
     "cellMetadata": {},
     "inputWidgets": {},
     "nuid": "5f802de5-fa45-45d1-88e6-93df3ae76862",
     "showTitle": false,
     "tableResultSettingsMap": {},
     "title": ""
    }
   },
   "outputs": [],
   "source": [
    "dbutils.widgets.text(\"environment\", \"\", \"\")\n",
    "environment = dbutils.widgets.get(\"environment\")"
   ]
  },
  {
   "cell_type": "code",
   "execution_count": 0,
   "metadata": {
    "application/vnd.databricks.v1+cell": {
     "cellMetadata": {},
     "inputWidgets": {},
     "nuid": "1701908e-8cfc-4e45-b28a-ba3b98876af2",
     "showTitle": false,
     "tableResultSettingsMap": {},
     "title": ""
    }
   },
   "outputs": [],
   "source": [
    "catalog_name = settings[environment]['catalog_name']"
   ]
  },
  {
   "cell_type": "code",
   "execution_count": 0,
   "metadata": {
    "application/vnd.databricks.v1+cell": {
     "cellMetadata": {
      "byteLimit": 2048000,
      "rowLimit": 10000
     },
     "inputWidgets": {},
     "nuid": "704a260a-313c-4238-be28-598c6b904710",
     "showTitle": false,
     "tableResultSettingsMap": {},
     "title": ""
    }
   },
   "outputs": [],
   "source": [
    "spark.sql(f\"\"\"\n",
    "CREATE TABLE IF NOT EXISTS {catalog_name}.udp_wcm_gold_vcm_dwh.f_inventory_sapcar_hourly\n",
    "(\n",
    "  hash_id BIGINT,\n",
    "  store_id STRING,\n",
    "  product_id STRING,\n",
    "  calday DATE,\n",
    "  calhour BIGINT,\n",
    "  closing_stock_qty DECIMAL(38,9)\n",
    ")\n",
    "TBLPROPERTIES (\n",
    "  'DELTA.AUTOOPTIMIZE.OPTIMIZEWRITE' = 'TRUE',\n",
    "  'DELTA.AUTOOPTIMIZE.AUTOCOMPACT' = 'TRUE'\n",
    ")\n",
    "\"\"\")"
   ]
  },
  {
   "cell_type": "code",
   "execution_count": 0,
   "metadata": {
    "application/vnd.databricks.v1+cell": {
     "cellMetadata": {
      "byteLimit": 2048000,
      "rowLimit": 10000
     },
     "inputWidgets": {},
     "nuid": "be5eaeb2-62e0-4b23-aa75-897de229f1b2",
     "showTitle": false,
     "tableResultSettingsMap": {},
     "title": ""
    }
   },
   "outputs": [],
   "source": [
    "spark.sql(f\"\"\"\n",
    "          DELETE FROM {catalog_name}.udp_wcm_gold_vcm_dwh.f_inventory_sapcar_hourly WHERE calday = DATE(CURRENT_TIMESTAMP() + INTERVAL 7 HOURS);\n",
    "\"\"\")"
   ]
  },
  {
   "cell_type": "code",
   "execution_count": 0,
   "metadata": {
    "application/vnd.databricks.v1+cell": {
     "cellMetadata": {
      "byteLimit": 2048000,
      "rowLimit": 10000
     },
     "inputWidgets": {},
     "nuid": "a3d284e4-8a84-42a5-84b2-56d8397a4618",
     "showTitle": false,
     "tableResultSettingsMap": {},
     "title": ""
    }
   },
   "outputs": [],
   "source": [
    "spark.sql(f\"\"\"\n",
    "INSERT INTO {catalog_name}.udp_wcm_gold_vcm_dwh.f_inventory_sapcar_hourly \n",
    "WITH\n",
    "total AS (\n",
    "  SELECT DISTINCT\n",
    "    FARM_FINGERPRINT(CONCAT(\n",
    "        IFNULL(CAST(IF(c.store_id IS NOT NULL AND a.calday >= c.cutoff_date, c.store_id, CAST(a.store_id AS STRING)) AS STRING), \"\"),\n",
    "        IFNULL(CAST(product_id AS STRING), \"\"),\n",
    "        IFNULL(CAST(calday AS STRING), \"\")\n",
    "    )) hash_id,\n",
    "    IF(c.store_id IS NOT NULL AND a.calday >= c.cutoff_date, c.store_id, CAST(a.store_id AS STRING)) store_id,\n",
    "    CAST(product_id AS STRING) product_id,\n",
    "    calday,\n",
    "    CASE\n",
    "      WHEN calhour < 7 THEN 6\n",
    "      WHEN calhour >= 7 AND calhour < 11 THEN 10\n",
    "      WHEN calhour >= 11 AND calhour < 17 THEN 16\n",
    "      WHEN calhour >= 17 AND calhour < 21 THEN 20\n",
    "    ELSE NULL END calhour,\n",
    "    closing_stock_qty\n",
    "  FROM\n",
    "    {catalog_name}.udp_wcm_silver_sap_car.sapcar_full_inventory a\n",
    "    LEFT JOIN {catalog_name}.udp_wcm_gold_vcm_dwh.d_franchise_config c ON CAST(a.store_id AS STRING) = c.ref_fc_store\n",
    "  WHERE calday = DATE(CURRENT_TIMESTAMP() + INTERVAL 7 HOURS)\n",
    ")\n",
    "SELECT\n",
    "  hash_id,\n",
    "  store_id,\n",
    "  product_id,\n",
    "  calday,\n",
    "  calhour,\n",
    "  CAST(SUM(closing_stock_qty) AS DECIMAL(38,9)) closing_stock_qty\n",
    "FROM total\n",
    "GROUP BY 1,2,3,4,5\n",
    ";\n",
    "\"\"\")"
   ]
  }
 ],
 "metadata": {
  "application/vnd.databricks.v1+notebook": {
   "computePreferences": null,
   "dashboards": [],
   "environmentMetadata": {
    "base_environment": "",
    "environment_version": "2"
   },
   "inputWidgetPreferences": null,
   "language": "python",
   "notebookMetadata": {
    "mostRecentlyExecutedCommandWithImplicitDF": {
     "commandId": 6403329334305919,
     "dataframes": [
      "_sqldf"
     ]
    },
    "pythonIndentUnit": 4
   },
   "notebookName": "f_inventory_sapcar_hourly",
   "widgets": {
    "proc_date": {
     "currentValue": "2025-07-21",
     "nuid": "0fed985e-12fb-4a14-9280-319292eec72d",
     "typedWidgetInfo": {
      "autoCreated": false,
      "defaultValue": "",
      "label": null,
      "name": "proc_date",
      "options": {
       "widgetDisplayType": "Text",
       "validationRegex": null
      },
      "parameterDataType": "String"
     },
     "widgetInfo": {
      "widgetType": "text",
      "defaultValue": "",
      "label": null,
      "name": "proc_date",
      "options": {
       "widgetType": "text",
       "autoCreated": null,
       "validationRegex": null
      }
     }
    }
   }
  },
  "language_info": {
   "name": "python"
  }
 },
 "nbformat": 4,
 "nbformat_minor": 0
}
