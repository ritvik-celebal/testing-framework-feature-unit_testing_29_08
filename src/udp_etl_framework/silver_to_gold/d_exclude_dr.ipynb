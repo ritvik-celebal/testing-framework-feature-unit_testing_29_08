{
 "cells": [
  {
   "cell_type": "code",
   "execution_count": 0,
   "metadata": {
    "application/vnd.databricks.v1+cell": {
     "cellMetadata": {
      "byteLimit": 2048000,
      "rowLimit": 10000
     },
     "inputWidgets": {},
     "nuid": "3dd1c70b-813a-4592-9ee0-9546cb591812",
     "showTitle": false,
     "tableResultSettingsMap": {},
     "title": ""
    }
   },
   "outputs": [],
   "source": [
    "%run ../utils/common"
   ]
  },
  {
   "cell_type": "code",
   "execution_count": 0,
   "metadata": {
    "application/vnd.databricks.v1+cell": {
     "cellMetadata": {
      "byteLimit": 2048000,
      "rowLimit": 10000
     },
     "inputWidgets": {},
     "nuid": "40b8bcb5-a3c2-4969-a290-77a595e66b1b",
     "showTitle": false,
     "tableResultSettingsMap": {},
     "title": ""
    }
   },
   "outputs": [],
   "source": [
    "dbutils.widgets.text(\"environment\", \"\", \"\")\n",
    "environment = dbutils.widgets.get(\"environment\")"
   ]
  },
  {
   "cell_type": "code",
   "execution_count": 0,
   "metadata": {
    "application/vnd.databricks.v1+cell": {
     "cellMetadata": {
      "byteLimit": 2048000,
      "rowLimit": 10000
     },
     "inputWidgets": {},
     "nuid": "49197cc6-943d-48ae-b181-0db03510b5ad",
     "showTitle": false,
     "tableResultSettingsMap": {},
     "title": ""
    }
   },
   "outputs": [],
   "source": [
    "catalog_name = settings[environment]['catalog_name']"
   ]
  },
  {
   "cell_type": "code",
   "execution_count": 0,
   "metadata": {
    "application/vnd.databricks.v1+cell": {
     "cellMetadata": {
      "byteLimit": 2048000,
      "rowLimit": 10000
     },
     "inputWidgets": {},
     "nuid": "d6945121-9680-4500-991b-6db0f5e83e46",
     "showTitle": false,
     "tableResultSettingsMap": {},
     "title": ""
    }
   },
   "outputs": [],
   "source": [
    "spark.sql(f\"\"\"\n",
    "CREATE OR REPLACE TABLE {catalog_name}.udp_wcm_gold_vcm_dwh.d_exclude_dr \n",
    "TBLPROPERTIES (\n",
    "  'DELTA.AUTOOPTIMIZE.OPTIMIZEWRITE' = 'TRUE',\n",
    "  'DELTA.AUTOOPTIMIZE.AUTOCOMPACT' = 'TRUE'\n",
    ")\n",
    "AS\n",
    "SELECT \n",
    "    store_id,\n",
    "    product_id, \n",
    "    note,\n",
    "    start_date,\n",
    "    end_date\n",
    "FROM (\n",
    "    SELECT \n",
    "        B.*,\n",
    "        ROW_NUMBER() OVER (PARTITION BY store_id,product_id,end_date ORDER BY proc_date) RN\n",
    "    FROM (\n",
    "        SELECT \n",
    "            A.*, \n",
    "            DENSE_RANK() OVER (PARTITION BY store_id,product_id ORDER BY prior) RN1\n",
    "        FROM (\n",
    "            SELECT  \n",
    "                a.product_id, b.store_id, note, proc_date, start_date, end_date, 2 prior\n",
    "                FROM {catalog_name}.udp_wcm_silver_dim.stg_vm_dr_exclude_by_all a \n",
    "                CROSS JOIN {catalog_name}.udp_wcm_gold_vcm_dwh.d_store b \n",
    "                WHERE b.business_unit = '1500'\n",
    "            UNION ALL\n",
    "            SELECT \n",
    "                product_id, site store_id, note, proc_date, start_date, end_date, 3 prior \n",
    "                FROM {catalog_name}.udp_wcm_silver_dim.stg_vm_dr_exclude_by_site\n",
    "            UNION ALL\n",
    "            SELECT \n",
    "                product_id, b.store_id, note, proc_date, start_date, end_date, 4 prior \n",
    "                FROM {catalog_name}.udp_wcm_silver_dim.stg_vm_dr_exclude_by_region a\n",
    "                LEFT JOIN {catalog_name}.udp_wcm_gold_vcm_dwh.d_store b ON b.region_domain = a.region AND business_unit = '1500'\n",
    "            UNION ALL\n",
    "            SELECT  \n",
    "                a.product_id, b.store_id, abc note, proc_date, start_date, end_date, 5 prior\n",
    "                FROM {catalog_name}.udp_wcm_silver_dim.stg_vm_hangthoivu a \n",
    "                CROSS JOIN {catalog_name}.udp_wcm_gold_vcm_dwh.d_store b \n",
    "                WHERE b.business_unit = '1500'\n",
    "            UNION ALL\n",
    "            SELECT  \n",
    "                pr.product_id, b.store_id, NULL note, a.proc_date, a.start_date, a.end_date, 1 prior\n",
    "                FROM {catalog_name}.udp_wcm_silver_dim.stg_vm_dr_exclude_by_mch5 a\n",
    "                INNER JOIN {catalog_name}.udp_wcm_gold_vcm_dwh.d_product pr ON a.mch5_id = pr.mch5_id\n",
    "                CROSS JOIN {catalog_name}.udp_wcm_gold_vcm_dwh.d_store b \n",
    "                WHERE b.business_unit = '1500'\n",
    "            UNION ALL\n",
    "            SELECT  \n",
    "                pr.product_id, b.store_id, NULL note, a.proc_date, a.start_date, a.end_date, 1 prior\n",
    "                FROM {catalog_name}.udp_wcm_silver_dim.stg_vm_dr_exclude_by_mch3 a\n",
    "                INNER JOIN {catalog_name}.udp_wcm_gold_vcm_dwh.d_product pr ON a.mch3_id = pr.mch3_id\n",
    "                CROSS JOIN {catalog_name}.udp_wcm_gold_vcm_dwh.d_store b \n",
    "                WHERE b.business_unit = '1500'\n",
    "        ) A\n",
    "    ) B WHERE B.RN1 = 1\n",
    ") X WHERE X.RN = 1\n",
    ";\n",
    "\"\"\")"
   ]
  }
 ],
 "metadata": {
  "application/vnd.databricks.v1+notebook": {
   "computePreferences": null,
   "dashboards": [],
   "environmentMetadata": {
    "base_environment": "",
    "environment_version": "2"
   },
   "inputWidgetPreferences": null,
   "language": "python",
   "notebookMetadata": {
    "mostRecentlyExecutedCommandWithImplicitDF": {
     "commandId": 4736130552803506,
     "dataframes": [
      "_sqldf"
     ]
    },
    "pythonIndentUnit": 4
   },
   "notebookName": "d_exclude_dr",
   "widgets": {
    "environment": {
     "currentValue": "DEV",
     "nuid": "dd13b131-2653-4a5b-a7e3-e3e4bd9ef70e",
     "typedWidgetInfo": {
      "autoCreated": false,
      "defaultValue": "",
      "label": "",
      "name": "environment",
      "options": {
       "widgetDisplayType": "Text",
       "validationRegex": null
      },
      "parameterDataType": "String"
     },
     "widgetInfo": {
      "widgetType": "text",
      "defaultValue": "",
      "label": "",
      "name": "environment",
      "options": {
       "widgetType": "text",
       "autoCreated": null,
       "validationRegex": null
      }
     }
    }
   }
  },
  "language_info": {
   "name": "python"
  }
 },
 "nbformat": 4,
 "nbformat_minor": 0
}
