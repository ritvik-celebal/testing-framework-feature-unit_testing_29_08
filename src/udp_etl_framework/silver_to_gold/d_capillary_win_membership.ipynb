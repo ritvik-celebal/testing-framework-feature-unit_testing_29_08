{
 "cells": [
  {
   "cell_type": "code",
   "execution_count": 0,
   "metadata": {
    "application/vnd.databricks.v1+cell": {
     "cellMetadata": {
      "byteLimit": 2048000,
      "rowLimit": 10000
     },
     "inputWidgets": {},
     "nuid": "2c631ca9-ea8c-4e66-bb4c-81dce216dfc9",
     "showTitle": false,
     "tableResultSettingsMap": {},
     "title": ""
    }
   },
   "outputs": [],
   "source": [
    "%run ../utils/common"
   ]
  },
  {
   "cell_type": "code",
   "execution_count": 0,
   "metadata": {
    "application/vnd.databricks.v1+cell": {
     "cellMetadata": {
      "byteLimit": 2048000,
      "rowLimit": 10000
     },
     "inputWidgets": {},
     "nuid": "57c0b00f-7a1a-4ba5-afa6-32e0e7ad2f3c",
     "showTitle": false,
     "tableResultSettingsMap": {},
     "title": ""
    }
   },
   "outputs": [],
   "source": [
    "dbutils.widgets.text(\"environment\", \"\", \"\")\n",
    "environment = dbutils.widgets.get(\"environment\")"
   ]
  },
  {
   "cell_type": "code",
   "execution_count": 0,
   "metadata": {
    "application/vnd.databricks.v1+cell": {
     "cellMetadata": {
      "byteLimit": 2048000,
      "rowLimit": 10000
     },
     "inputWidgets": {},
     "nuid": "ff9299dc-c5d1-4058-9d0f-0683ad9fd66b",
     "showTitle": false,
     "tableResultSettingsMap": {},
     "title": ""
    }
   },
   "outputs": [],
   "source": [
    "catalog_name = settings[environment]['catalog_name']"
   ]
  },
  {
   "cell_type": "code",
   "execution_count": 0,
   "metadata": {
    "application/vnd.databricks.v1+cell": {
     "cellMetadata": {
      "byteLimit": 2048000,
      "rowLimit": 10000
     },
     "inputWidgets": {},
     "nuid": "911ded40-43ec-4326-8e39-53a3c4cb07b0",
     "showTitle": false,
     "tableResultSettingsMap": {},
     "title": ""
    }
   },
   "outputs": [],
   "source": [
    "spark.sql(f\"\"\" CREATE OR REPLACE TABLE {catalog_name}.udp_wcm_gold_vcm_dwh.d_capillary_win_membership \n",
    "  TBLPROPERTIES (\n",
    "  'DELTA.AUTOOPTIMIZE.OPTIMIZEWRITE' = 'TRUE',\n",
    "  'DELTA.AUTOOPTIMIZE.AUTOCOMPACT' = 'TRUE'\n",
    ")\n",
    "AS\n",
    "WITH\n",
    "customer_capillary AS (\n",
    "  SELECT * \n",
    "  FROM {catalog_name}.udp_wcm_silver_capillary.customer_capillary_daily\n",
    "  WHERE calday >= '2023-12-06' OR proc_date >= '2024-01-20'\n",
    "  QUALIFY ROW_NUMBER() OVER (PARTITION BY {catalog_name}.default.FN_CLEAN_MOBILE_NO(mobile) ORDER BY proc_date DESC) = 1\n",
    ")\n",
    "SELECT\n",
    "  a.*,\n",
    "  IF(b.mobile IS NOT NULL OR c.mobile_number IS NOT NULL OR d.mobile IS NOT NULL, 0, 1) IS_MEMBERSHIP\n",
    "FROM\n",
    "  CUSTOMER_CAPILLARY a\n",
    "  LEFT JOIN {catalog_name}.udp_wcm_gold_vcm_dwh.d_capillary_plg_member_only b ON\n",
    "    {catalog_name}.default.FN_CLEAN_MOBILE_NO(a.mobile) = {catalog_name}.default.FN_CLEAN_MOBILE_NO(b.mobile) AND\n",
    "    a.calday <= '2023-12-14'\n",
    "  LEFT JOIN {catalog_name}.udp_wcm_gold_vcm_dwh.d_capillary_membership_exclude c ON\n",
    "    {catalog_name}.default.FN_CLEAN_MOBILE_NO(a.mobile) = {catalog_name}.default.FN_CLEAN_MOBILE_NO(c.MOBILE_NUMBER) AND\n",
    "    a.calday <= '2024-02-01'\n",
    "  LEFT JOIN {catalog_name}.udp_wcm_gold_vcm_dwh.d_capillary_membership_delete d ON\n",
    "    {catalog_name}.default.FN_CLEAN_MOBILE_NO(a.mobile) = {catalog_name}.default.FN_CLEAN_MOBILE_NO(d.mobile)\n",
    "    \"\"\")"
   ]
  }
 ],
 "metadata": {
  "application/vnd.databricks.v1+notebook": {
   "computePreferences": null,
   "dashboards": [],
   "environmentMetadata": {
    "base_environment": "",
    "environment_version": "2"
   },
   "inputWidgetPreferences": null,
   "language": "python",
   "notebookMetadata": {
    "mostRecentlyExecutedCommandWithImplicitDF": {
     "commandId": 6340711113776008,
     "dataframes": [
      "_sqldf"
     ]
    },
    "pythonIndentUnit": 4
   },
   "notebookName": "d_capillary_win_membership",
   "widgets": {
    "environment": {
     "currentValue": "DEV",
     "nuid": "a78be8be-c495-402b-8281-387839f5aa1a",
     "typedWidgetInfo": {
      "autoCreated": false,
      "defaultValue": "",
      "label": "",
      "name": "environment",
      "options": {
       "widgetDisplayType": "Text",
       "validationRegex": null
      },
      "parameterDataType": "String"
     },
     "widgetInfo": {
      "widgetType": "text",
      "defaultValue": "",
      "label": "",
      "name": "environment",
      "options": {
       "widgetType": "text",
       "autoCreated": null,
       "validationRegex": null
      }
     }
    }
   }
  },
  "language_info": {
   "name": "python"
  }
 },
 "nbformat": 4,
 "nbformat_minor": 0
}
