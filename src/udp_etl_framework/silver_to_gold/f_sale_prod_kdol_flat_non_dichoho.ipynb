{
 "cells": [
  {
   "cell_type": "code",
   "execution_count": 0,
   "metadata": {
    "application/vnd.databricks.v1+cell": {
     "cellMetadata": {
      "byteLimit": 2048000,
      "rowLimit": 10000
     },
     "inputWidgets": {},
     "nuid": "628aaf58-640d-4747-b092-39e9c02d80d5",
     "showTitle": false,
     "tableResultSettingsMap": {},
     "title": ""
    }
   },
   "outputs": [],
   "source": [
    "%run ../utils/common"
   ]
  },
  {
   "cell_type": "code",
   "execution_count": 0,
   "metadata": {
    "application/vnd.databricks.v1+cell": {
     "cellMetadata": {
      "byteLimit": 2048000,
      "rowLimit": 10000
     },
     "inputWidgets": {},
     "nuid": "264ebfdd-497d-4f64-8659-0d1db83899b6",
     "showTitle": false,
     "tableResultSettingsMap": {},
     "title": ""
    }
   },
   "outputs": [],
   "source": [
    "dbutils.widgets.text(\"environment\", \"\", \"\")\n",
    "environment = dbutils.widgets.get(\"environment\")"
   ]
  },
  {
   "cell_type": "code",
   "execution_count": 0,
   "metadata": {
    "application/vnd.databricks.v1+cell": {
     "cellMetadata": {
      "byteLimit": 2048000,
      "rowLimit": 10000
     },
     "inputWidgets": {},
     "nuid": "87280d9d-c47e-4e02-aaba-3e03e1b09b6a",
     "showTitle": false,
     "tableResultSettingsMap": {},
     "title": ""
    }
   },
   "outputs": [],
   "source": [
    "catalog_name = settings[environment]['catalog_name']"
   ]
  },
  {
   "cell_type": "code",
   "execution_count": 0,
   "metadata": {
    "application/vnd.databricks.v1+cell": {
     "cellMetadata": {
      "byteLimit": 2048000,
      "rowLimit": 10000
     },
     "inputWidgets": {},
     "nuid": "ba9cad98-26cb-4899-a211-163ed956a422",
     "showTitle": false,
     "tableResultSettingsMap": {},
     "title": ""
    }
   },
   "outputs": [],
   "source": [
    "spark.sql(f\"\"\"\n",
    "CREATE OR REPLACE TABLE {catalog_name}.udp_wcm_gold_vcm_db_online.f_sale_prod_kdol_flat_non_dichoho\n",
    "TBLPROPERTIES (\n",
    "  'DELTA.AUTOOPTIMIZE.OPTIMIZEWRITE' = 'TRUE',\n",
    "  'DELTA.AUTOOPTIMIZE.AUTOCOMPACT' = 'TRUE'\n",
    ")\n",
    "WITH\n",
    "pos_sap_flat_data_original AS (\n",
    "    SELECT\n",
    "        b.calday,\n",
    "        b.base_uom,\n",
    "        b.sales_unit,\n",
    "        b.transaction_index,\n",
    "        b.transaction_id,\n",
    "        b.product_id,\n",
    "        b.business_unit,\n",
    "        b.store_id,\n",
    "        b.promotion,\n",
    "        b.transaction_no,\n",
    "        b.transaction_type,\n",
    "        b.time_of_day,\n",
    "        b.sale_time,\n",
    "        b.credit_card_id,\n",
    "        b.payment_method,\n",
    "        b.department,\n",
    "        b.pos_number,\n",
    "        b.offer,\n",
    "        b.discount_type,\n",
    "        b.discount_type_group,\n",
    "        b.recordmode,\n",
    "        b.return_qty1,\n",
    "        b.return_qty2,\n",
    "        b.return_value,\n",
    "        b.promotion_qty,\n",
    "        b.base_sale_qty,\n",
    "        b.receipt_count,\n",
    "        b.sale_in_cost_value,\n",
    "        b.promotion_sale,\n",
    "        b.sale_qty,\n",
    "        b.sale_amount,\n",
    "        b.promotion_sale_l,\n",
    "        b.return_sale_l,\n",
    "        b.discount_item_no,\n",
    "        b.discount_value,\n",
    "        b.tax_amount,\n",
    "        b.tender_value,\n",
    "        b.vat_of_redeem,\n",
    "         -- Bổ sung Kênh,\n",
    "        IFNULL(c.channel,LTRIM('0',b.pos_number)) channel,\n",
    "        2 AS priority\n",
    "    FROM\n",
    "        {catalog_name}.udp_wcm_gold_vcm_dwh.f_sale_prod_online_excl_dichoho b\n",
    "        LEFT JOIN {catalog_name}.udp_wcm_gold_vcm_dwh.d_ecart_channel c ON LTRIM('0',b.pos_number) = LTRIM('0',c.pos_code)\n",
    "  UNION ALL\n",
    "    SELECT\n",
    "        a.calday,\n",
    "        a.base_uom,\n",
    "        a.sales_unit,\n",
    "        a.transaction_index,\n",
    "        a.transaction_id,\n",
    "        a.product_id,\n",
    "        a.business_unit,\n",
    "        a.store_id,\n",
    "        a.promotion,\n",
    "        a.transaction_no,\n",
    "        a.transaction_type,\n",
    "        a.time_of_day,\n",
    "        a.sale_time,\n",
    "        a.credit_card_id,\n",
    "        a.payment_method,\n",
    "        a.department,\n",
    "        a.pos_number,\n",
    "        a.offer,\n",
    "        a.discount_type,\n",
    "        a.discount_type_group,\n",
    "        a.recordmode,\n",
    "        a.return_qty1,\n",
    "        a.return_qty2,\n",
    "        a.return_value,\n",
    "        a.promotion_qty,\n",
    "        a.base_sale_qty,\n",
    "        a.receipt_count,\n",
    "        a.sale_in_cost_value,\n",
    "        a.promotion_sale,\n",
    "        a.sale_qty,\n",
    "        a.sale_amount,\n",
    "        a.promotion_sale_l,\n",
    "        a.return_sale_l,\n",
    "        a.discount_item_no,\n",
    "        a.discount_value,\n",
    "        a.tax_amount,\n",
    "        a.tender_value,\n",
    "        0 AS vat_of_redeem,\n",
    "        a.channel,\n",
    "         -- Bổ sung Kênh,\n",
    "        1 AS priority\n",
    "    FROM {catalog_name}.udp_wcm_gold_vcm_dwh.f_sale_prod_kdol_wmp a\n",
    "    WHERE a.calday >= \"2023-01-01\"\n",
    "    AND channel IN ('Winmart-Website')\n",
    "),\n",
    "pos_sap_flat_txn_removed_duplicated AS (\n",
    "    SELECT\n",
    "        * EXCEPT(rn)\n",
    "    FROM (\n",
    "        SELECT\n",
    "            *,\n",
    "            ROW_NUMBER() OVER (PARTITION BY transaction_id ORDER BY priority ASC) rn\n",
    "        FROM (SELECT DISTINCT transaction_id, priority FROM POS_SAP_FLAT_DATA_ORIGINAL)\n",
    "    )\n",
    "    WHERE rn = 1\n",
    ")\n",
    "SELECT\n",
    "    a.*\n",
    "FROM\n",
    "    pos_sap_flat_data_original a\n",
    "    INNER JOIN pos_sap_flat_txn_removed_duplicated b USING (transaction_id, priority)\n",
    "\"\"\")"
   ]
  }
 ],
 "metadata": {
  "application/vnd.databricks.v1+notebook": {
   "computePreferences": null,
   "dashboards": [],
   "environmentMetadata": {
    "base_environment": "",
    "environment_version": "2"
   },
   "inputWidgetPreferences": null,
   "language": "python",
   "notebookMetadata": {
    "pythonIndentUnit": 4
   },
   "notebookName": "f_sale_prod_kdol_flat_non_dichoho",
   "widgets": {
    "environment": {
     "currentValue": "DEV",
     "nuid": "604aa9ff-0b5c-4d23-afec-43ecdc42bbfd",
     "typedWidgetInfo": {
      "autoCreated": false,
      "defaultValue": "",
      "label": "",
      "name": "environment",
      "options": {
       "widgetDisplayType": "Text",
       "validationRegex": null
      },
      "parameterDataType": "String"
     },
     "widgetInfo": {
      "widgetType": "text",
      "defaultValue": "",
      "label": "",
      "name": "environment",
      "options": {
       "widgetType": "text",
       "autoCreated": null,
       "validationRegex": null
      }
     }
    },
    "proc_date": {
     "currentValue": "2025-07-19",
     "nuid": "e2421435-e98e-490b-a57b-680f0dc135ab",
     "typedWidgetInfo": {
      "autoCreated": false,
      "defaultValue": "",
      "label": "",
      "name": "proc_date",
      "options": {
       "widgetDisplayType": "Text",
       "validationRegex": null
      },
      "parameterDataType": "String"
     },
     "widgetInfo": {
      "widgetType": "text",
      "defaultValue": "",
      "label": "",
      "name": "proc_date",
      "options": {
       "widgetType": "text",
       "autoCreated": null,
       "validationRegex": null
      }
     }
    }
   }
  },
  "language_info": {
   "name": "python"
  }
 },
 "nbformat": 4,
 "nbformat_minor": 0
}
