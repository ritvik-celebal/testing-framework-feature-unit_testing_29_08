{
 "cells": [
  {
   "cell_type": "code",
   "execution_count": 0,
   "metadata": {
    "application/vnd.databricks.v1+cell": {
     "cellMetadata": {},
     "inputWidgets": {},
     "nuid": "76804072-aacf-4adb-a1ef-dcc2d2ed06d3",
     "showTitle": false,
     "tableResultSettingsMap": {},
     "title": ""
    }
   },
   "outputs": [],
   "source": [
    "%run ../utils/common"
   ]
  },
  {
   "cell_type": "code",
   "execution_count": 0,
   "metadata": {
    "application/vnd.databricks.v1+cell": {
     "cellMetadata": {},
     "inputWidgets": {},
     "nuid": "3bcf869e-cbeb-49d2-afa8-5d8061aee222",
     "showTitle": false,
     "tableResultSettingsMap": {},
     "title": ""
    }
   },
   "outputs": [],
   "source": [
    "dbutils.widgets.text(\"environment\", \"\", \"\")\n",
    "environment = dbutils.widgets.get(\"environment\")"
   ]
  },
  {
   "cell_type": "code",
   "execution_count": 0,
   "metadata": {
    "application/vnd.databricks.v1+cell": {
     "cellMetadata": {},
     "inputWidgets": {},
     "nuid": "62d4c8fe-3a22-4ced-9a45-48439bc79bf2",
     "showTitle": false,
     "tableResultSettingsMap": {},
     "title": ""
    }
   },
   "outputs": [],
   "source": [
    "catalog_name = settings[environment]['catalog_name']"
   ]
  },
  {
   "cell_type": "code",
   "execution_count": 0,
   "metadata": {
    "application/vnd.databricks.v1+cell": {
     "cellMetadata": {
      "byteLimit": 2048000,
      "rowLimit": 10000
     },
     "inputWidgets": {},
     "nuid": "e74f3464-80ea-41cc-bd2f-2254da3d04e7",
     "showTitle": false,
     "tableResultSettingsMap": {},
     "title": ""
    }
   },
   "outputs": [],
   "source": [
    "spark.sql(f'''\n",
    "CREATE OR REPLACE TABLE {catalog_name}.udp_wcm_gold_db_winare_nonfresh_dc.a_winare_dc_open_order_store AS\n",
    "    WITH SUPRA AS (\n",
    "        SELECT DISTINCT dc_id FROM {catalog_name}.udp_wcm_gold_db_winare_nonfresh_dc.d_cfg_winare_dc_golive \n",
    "        WHERE \n",
    "            supra = 'YES'\n",
    "            AND dc_id IN ('1291', '1312', '1352', '1354')\n",
    "    ),\n",
    "    OPEN_ORDER_SAP AS (\n",
    "        SELECT \n",
    "            a.store_id,\n",
    "            a.product_id,\n",
    "            IFNULL(SUM(a.po_qty * c.numerator / c.denomintR), 0) open_order\n",
    "        FROM {catalog_name}.udp_wcm_gold_vcm_dwh.f_po_item a\n",
    "            LEFT JOIN {catalog_name}.udp_wcm_gold_vcm_dwh.d_unit_conv c ON a.product_id = c.material AND a.po_unit = c.mat_unit\n",
    "        WHERE a.creation_date BETWEEN DATE_SUB(DATE(CURRENT_TIMESTAMP() + INTERVAL 7 HOURS), 21) AND DATE(CURRENT_TIMESTAMP() + INTERVAL 7 HOURS)\n",
    "            AND (a.compl_del <> 'X' OR a.compl_del IS NULL)\n",
    "            AND (a.po_gr_date IS NULL)\n",
    "            AND (a.gr_date IS NULL OR (a.gr_date IS NOT NULL AND a.gr_qty = 0))\n",
    "            AND (a.webportal_status NOT IN ('Đã hủy', 'Đã giao hàng', 'Quá hạn') OR a.webportal_status IS NULL)\n",
    "            AND (a.dc_id NOT IN (SELECT * FROM SUPRA) OR a.dc_id IS NULL)\n",
    "        GROUP BY 1,2\n",
    "    ), \n",
    "    OPEN_ORDER_SAP_FULL AS (\n",
    "        SELECT \n",
    "            a.store_id,\n",
    "            a.product_id,\n",
    "            IFNULL(SUM(a.po_qty * c.numerator / c.denomintR), 0) open_order,\n",
    "            CONCAT_WS(', ', COLLECT_LIST(CONCAT(a.po_doc, '-', IFNULL(a.dc_id, LTRIM('0',a.vendor)), '-', CAST(IFNULL(a.po_qty * c.numerator / c.denomintR, 0) AS STRING)))) po_doc\n",
    "        FROM {catalog_name}.udp_wcm_gold_vcm_dwh.f_po_item a\n",
    "            LEFT JOIN {catalog_name}.udp_wcm_gold_vcm_dwh.d_unit_conv c ON a.product_id = c.material AND a.po_unit = c.mat_unit\n",
    "        WHERE a.creation_date BETWEEN DATE_SUB(DATE(CURRENT_TIMESTAMP() + INTERVAL 7 HOURS), 21) AND DATE(CURRENT_TIMESTAMP() + INTERVAL 7 HOURS)\n",
    "            AND (a.compl_del <> 'X' OR a.compl_del IS NULL)\n",
    "            AND (a.po_gr_date IS NULL)\n",
    "            AND (a.gr_date IS NULL OR (a.gr_date IS NOT NULL AND a.gr_qty = 0))\n",
    "            AND (a.webportal_status NOT IN ('Đã hủy', 'Đã giao hàng', 'Quá hạn') OR a.webportal_status IS NULL)\n",
    "        GROUP BY 1,2\n",
    "    ), \n",
    "    OPEN_ORDER_SAP_EXTERNAL AS (\n",
    "        SELECT \n",
    "            a.store_id,\n",
    "            a.product_id,\n",
    "            IFNULL(SUM(a.po_qty * c.numerator / c.denomintR), 0) open_order,\n",
    "            CONCAT_WS(', ', COLLECT_LIST(CONCAT(a.po_doc, '-', IFNULL(a.dc_id, LTRIM('0',a.vendor)), '-', CAST(IFNULL(a.po_qty * c.numerator / c.denomintR, 0) AS STRING)))) po_doc\n",
    "        FROM {catalog_name}.udp_wcm_gold_vcm_dwh.f_po_item a\n",
    "            LEFT JOIN {catalog_name}.udp_wcm_gold_vcm_dwh.d_unit_conv c ON a.product_id = c.material AND a.po_unit = c.mat_unit\n",
    "            LEFT JOIN {catalog_name}.udp_wcm_gold_vcm_dwh.d_store d ON a.dc_id = d.store_id\n",
    "        WHERE a.creation_date BETWEEN DATE_SUB(DATE(CURRENT_TIMESTAMP() + INTERVAL 7 HOURS),21) AND DATE(CURRENT_TIMESTAMP() + INTERVAL 7 HOURS)\n",
    "            AND (a.compl_del <> 'X' OR a.compl_del IS NULL)\n",
    "            AND (a.po_gr_date IS NULL)\n",
    "            AND (a.gr_date IS NULL OR (a.gr_date IS NOT NULL AND a.gr_qty = 0))\n",
    "            AND (a.webportal_status NOT IN ('Đã hủy', 'Đã giao hàng', 'Quá hạn') OR a.webportal_status IS NULL)\n",
    "            AND (d.business_unit = '1100' OR a.dc_id IS NULL)\n",
    "        GROUP BY 1,2\n",
    "    ), \n",
    "    OPEN_ORDER_FC AS (\n",
    "        SELECT      \n",
    "            a.store_id,\n",
    "            a.product_id,\n",
    "            SUM(IFNULL(base_qty,0)) open_order\n",
    "        FROM {catalog_name}.udp_wcm_gold_db_winare_nonfresh_dc.f_po_pending_fc a\n",
    "        WHERE creation_date BETWEEN DATE_SUB(DATE(CURRENT_TIMESTAMP() + INTERVAL 7 HOURS), 21) AND DATE(CURRENT_TIMESTAMP() + INTERVAL 7 HOURS)\n",
    "        GROUP BY 1,2\n",
    "    ), \n",
    "    OPEN_ORDER_SFT AS (\n",
    "        SELECT      \n",
    "            store_id,\n",
    "            product_id,\n",
    "            SUM(open_order) open_order\n",
    "        FROM {catalog_name}.udp_wcm_gold_vcm_dwh.f_store_open_order_sft\n",
    "        WHERE calday = DATE(CURRENT_TIMESTAMP() + INTERVAL 7 HOURS)\n",
    "            AND dc_id IN (SELECT * FROM SUPRA)\n",
    "        GROUP BY 1,2\n",
    "    ), \n",
    "    STORE_SKU_LIST AS (\n",
    "        SELECT store_id, product_id\n",
    "        FROM OPEN_ORDER_SAP\n",
    "        UNION DISTINCT\n",
    "        SELECT store_id, product_id\n",
    "        FROM OPEN_ORDER_FC\n",
    "        UNION DISTINCT\n",
    "        SELECT store_id, product_id\n",
    "        FROM OPEN_ORDER_SFT \n",
    "        UNION DISTINCT\n",
    "        SELECT store_id, product_id\n",
    "        FROM OPEN_ORDER_SAP_FULL           \n",
    "    )\n",
    "    SELECT     \n",
    "        DATE(CURRENT_TIMESTAMP() + INTERVAL 7 HOURS) - 1 calday,\n",
    "        a.store_id,\n",
    "        a.product_id,\n",
    "        21 sto_pending_day,\n",
    "        IFNULL(a1.open_order, 0) open_order_sap,\n",
    "        IFNULL(a4.open_order, 0) open_order_sap_full,\n",
    "        IFNULL(a5.open_order, 0) open_order_sap_external,\n",
    "        a4.po_doc,\n",
    "        IFNULL(a2.open_order, 0) open_order_fc,\n",
    "        IFNULL(a3.open_order, 0) open_order_sft,\n",
    "        IFNULL(a2.open_order, 0) + IFNULL(a4.open_order, 0) open_order\n",
    "    FROM STORE_SKU_LIST a\n",
    "    LEFT JOIN OPEN_ORDER_SAP a1 USING (store_id, product_id)\n",
    "    LEFT JOIN OPEN_ORDER_FC a2 USING (store_id, product_id)\n",
    "    LEFT JOIN OPEN_ORDER_SFT a3 USING (store_id, product_id)\n",
    "    LEFT JOIN OPEN_ORDER_SAP_FULL a4 USING (store_id, product_id)\n",
    "    LEFT JOIN OPEN_ORDER_SAP_EXTERNAL a5 USING (store_id, product_id)\n",
    "    ''')"
   ]
  }
 ],
 "metadata": {
  "application/vnd.databricks.v1+notebook": {
   "computePreferences": null,
   "dashboards": [],
   "environmentMetadata": {
    "base_environment": "",
    "environment_version": "2"
   },
   "inputWidgetPreferences": null,
   "language": "python",
   "notebookMetadata": {
    "pythonIndentUnit": 4
   },
   "notebookName": "a_winare_dc_open_order_store",
   "widgets": {}
  },
  "language_info": {
   "name": "python"
  }
 },
 "nbformat": 4,
 "nbformat_minor": 0
}
