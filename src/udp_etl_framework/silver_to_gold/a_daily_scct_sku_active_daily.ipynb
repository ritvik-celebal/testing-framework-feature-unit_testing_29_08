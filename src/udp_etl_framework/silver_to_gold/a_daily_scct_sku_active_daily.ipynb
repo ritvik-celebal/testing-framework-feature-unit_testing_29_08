{
 "cells": [
  {
   "cell_type": "code",
   "execution_count": 0,
   "metadata": {
    "application/vnd.databricks.v1+cell": {
     "cellMetadata": {
      "byteLimit": 2048000,
      "rowLimit": 10000
     },
     "inputWidgets": {},
     "nuid": "2896ff5a-f9fd-4107-b942-f4f82db4e69f",
     "showTitle": false,
     "tableResultSettingsMap": {},
     "title": ""
    }
   },
   "outputs": [],
   "source": [
    "%run ../utils/common"
   ]
  },
  {
   "cell_type": "code",
   "execution_count": 0,
   "metadata": {
    "application/vnd.databricks.v1+cell": {
     "cellMetadata": {
      "byteLimit": 2048000,
      "rowLimit": 10000
     },
     "inputWidgets": {},
     "nuid": "f523a032-6c78-46cd-b53f-a614db3ba46a",
     "showTitle": false,
     "tableResultSettingsMap": {},
     "title": ""
    }
   },
   "outputs": [],
   "source": [
    "dbutils.widgets.text(\"environment\", \"\", \"\")\n",
    "environment = dbutils.widgets.get(\"environment\")"
   ]
  },
  {
   "cell_type": "code",
   "execution_count": 0,
   "metadata": {
    "application/vnd.databricks.v1+cell": {
     "cellMetadata": {
      "byteLimit": 2048000,
      "rowLimit": 10000
     },
     "inputWidgets": {},
     "nuid": "93241131-dc60-429a-bfaf-c7d10af8c230",
     "showTitle": false,
     "tableResultSettingsMap": {},
     "title": ""
    }
   },
   "outputs": [],
   "source": [
    "catalog_name = settings[environment]['catalog_name']"
   ]
  },
  {
   "cell_type": "code",
   "execution_count": 0,
   "metadata": {
    "application/vnd.databricks.v1+cell": {
     "cellMetadata": {
      "byteLimit": 2048000,
      "rowLimit": 10000
     },
     "inputWidgets": {},
     "nuid": "7ee3ddb6-d941-435f-9d77-9e5d664fa892",
     "showTitle": false,
     "tableResultSettingsMap": {},
     "title": ""
    }
   },
   "outputs": [],
   "source": [
    "spark.sql(f\"\"\"\n",
    "\n",
    "CREATE OR REPLACE TABLE {catalog_name}.udp_wcm_gold_db_logistic.a_daily_scct_sku_active_daily\n",
    "AS\n",
    "WITH ACT_SKU AS (\n",
    "  SELECT\n",
    "   A.calday,\n",
    "   A.store_id,\n",
    "   A.product_id,\n",
    "   business_unit,\n",
    "   mien AS region\n",
    "  FROM {catalog_name}.udp_wcm_gold_vcm_dwh.d_assortment_active_his A\n",
    "  INNER JOIN {catalog_name}.udp_wcm_gold_vcm_dwh.d_store USING (store_id)\n",
    "  INNER JOIN {catalog_name}.udp_wcm_gold_vcm_dwh.d_product USING (product_id)\n",
    "  WHERE A.calday BETWEEN DATE_SUB(DATE(CURRENT_TIMESTAMP() + INTERVAL 7 HOURS),15) AND DATE(CURRENT_TIMESTAMP() + INTERVAL 7 HOURS)\n",
    "    AND business_unit IN ('1500','2000')  \n",
    "    AND mch2_id IN ('102','201','202','203')\n",
    "),\n",
    "\n",
    "ALL_STORE_SKU AS (\n",
    "  SELECT A.*,\n",
    "    B.internal_report_mdq AS mdq,\n",
    "    CASE\n",
    "      WHEN D.dc_id IS NOT NULL THEN 'DC'\n",
    "      WHEN B.product_id IS NOT NULL THEN 'DSD'\n",
    "      ELSE 'NA'\n",
    "    END AS replenishment_mode,\n",
    "    COALESCE(\n",
    "      B.assortment_type,\n",
    "      CASE\n",
    "        WHEN A.calday < DATE('2024-04-02') THEN ASM_1.core_range\n",
    "        WHEN A.calday >= DATE('2024-04-02') AND ST.business_unit = '1500' THEN ASM_3.core_range\n",
    "        WHEN A.calday >= DATE('2024-04-02') AND ST.business_unit = '2000' THEN ASM_2.core_range\n",
    "        ELSE 'NA'\n",
    "      END,\n",
    "      'NA'\n",
    "    ) AS assortment_type,\n",
    "    B.mdq_age,\n",
    "    D.dc_id,\n",
    "    is_problem_article\n",
    "  FROM ACT_SKU A\n",
    "  LEFT JOIN {catalog_name}.udp_wcm_gold_vcm_dwh.d_store ST ON A.store_id = ST.store_id\n",
    "  LEFT JOIN (\n",
    "    SELECT * FROM {catalog_name}.udp_wcm_gold_vcm_dwh.d_mdq_ambient_daily_hist \n",
    "    WHERE calday BETWEEN DATE_SUB(DATE(CURRENT_TIMESTAMP() + INTERVAL 7 HOURS),15) AND DATE('2024-08-08')\n",
    "    UNION ALL\n",
    "    SELECT * FROM {catalog_name}.udp_wcm_gold_vcm_dwh.d_mdq_ambient_biweekly_hist\n",
    "    WHERE calday >= DATE_SUB(DATE(CURRENT_TIMESTAMP() + INTERVAL 7 HOURS),15) AND calday < DATE('2024-08-08')\n",
    "  ) B ON A.calday = B.calday AND A.store_id = B.store_id AND A.product_id = B.product_id\n",
    "  LEFT JOIN (\n",
    "    SELECT * FROM {catalog_name}.udp_wcm_gold_vcm_db_inventory.d_mdq_store_dc_sku_daily_his\n",
    "    WHERE calday >= DATE_SUB(DATE(CURRENT_TIMESTAMP() + INTERVAL 7 HOURS),15)\n",
    "    QUALIFY ROW_NUMBER() OVER(PARTITION BY store_id, product_id, calday ORDER BY dc_id) = 1\n",
    "  ) D ON A.store_id = D.store_id AND A.product_id = D.product_id AND A.calday = D.calday\n",
    "  LEFT JOIN {catalog_name}.udp_wcm_gold_vcm_dwh.d_core_range_assortment_his ASM_1\n",
    "    ON A.calday = ASM_1.calday AND A.product_id = ASM_1.product_id AND ST.business_unit = ASM_1.business_unit AND ST.city = ASM_1.city\n",
    "  LEFT JOIN {catalog_name}.udp_wcm_gold_vcm_dwh.d_core_range_assortment_wmp_his ASM_2\n",
    "    ON A.calday = ASM_2.calday AND A.product_id = ASM_2.product_id AND ST.business_unit = ASM_2.business_unit AND ST.city = ASM_2.city\n",
    "  LEFT JOIN {catalog_name}.udp_wcm_gold_vcm_dwh.d_core_range_assortment_wmt_his ASM_3\n",
    "    ON A.calday = ASM_3.calday AND A.product_id = ASM_3.product_id AND A.store_id = ASM_3.store_id\n",
    "),\n",
    "\n",
    "QTY_DAILY AS (\n",
    "  SELECT A.calday, A.store_id, A.product_id,\n",
    "    SUM(COALESCE(B.revenue.base_sale_qty, 0)) AS sale_qty\n",
    "  FROM ALL_STORE_SKU A\n",
    "  LEFT JOIN (\n",
    "    SELECT * FROM {catalog_name}.udp_wcm_gold_vcm_dmt.a_store_sku_daily\n",
    "    WHERE calday >= DATE_SUB(DATE(CURRENT_TIMESTAMP() + INTERVAL 7 HOURS),121)\n",
    "  ) B ON A.calday = B.calday AND A.store_id = B.store_id AND A.product_id = B.product_id\n",
    "  GROUP BY 1, 2, 3\n",
    "),\n",
    "\n",
    "QTYPOS_30D AS (\n",
    "  SELECT *,\n",
    "    SUM(sale_qty) OVER (PARTITION BY store_id, product_id ORDER BY calday ASC ROWS BETWEEN 29 PRECEDING AND CURRENT ROW) AS sale_qty_30d\n",
    "  FROM QTY_DAILY\n",
    "),\n",
    "\n",
    "SUMM AS (\n",
    "  SELECT A.calday, A.dc_id, A.store_id, A.product_id, A.mdq,\n",
    "    A.replenishment_mode, A.assortment_type, 'YES' AS is_active,\n",
    "    CASE WHEN mdq > 0 THEN 'YES' WHEN mdq = 0 THEN 'MDQ=0' ELSE 'MDQ IS NULL' END AS having_mdq,\n",
    "    CASE WHEN replenishment_mode = 'NA' THEN 'NO' ELSE 'YES' END AS in_snapshot,\n",
    "    CASE WHEN C.sku IS NULL THEN 'NO' ELSE 'YES' END AS is_problem,\n",
    "    CASE WHEN D.store_id IS NOT NULL THEN 'YES' ELSE 'NO' END AS is_block,\n",
    "    COALESCE(sale_qty_30d, 0)/30 AS ma30_pos\n",
    "  FROM ALL_STORE_SKU A\n",
    "  LEFT JOIN {catalog_name}.udp_wcm_gold_vcm_dwh.d_store ST USING (store_id)\n",
    "  LEFT JOIN QTYPOS_30D B USING (calday, store_id, product_id)\n",
    "  LEFT JOIN {catalog_name}.udp_wcm_gold_vcm_db_inventory.d_problem_article_his C\n",
    "    ON A.business_unit = C.business_unit AND A.product_id = C.sku AND ST.region_vn = C.area AND A.calday = C.calday\n",
    "  LEFT JOIN (\n",
    "    SELECT calday, store_id, product_id FROM {catalog_name}.udp_wcm_gold_vcm_dwh.d_cfg_winare_block_by_store_sku_current_his\n",
    "    WHERE calday BETWEEN DATE_SUB(DATE(CURRENT_TIMESTAMP() + INTERVAL 7 HOURS),15) AND DATE_SUB(DATE(CURRENT_TIMESTAMP() + INTERVAL 7 HOURS),1)\n",
    "      AND reason LIKE 'High stock%'\n",
    "    UNION ALL\n",
    "    SELECT DATE_SUB(DATE(CURRENT_TIMESTAMP() + INTERVAL 7 HOURS),1) AS calday, store_id, product_id\n",
    "    FROM {catalog_name}.udp_wcm_silver_dataportal.d_cfg_winare_block_by_store_sku\n",
    "    WHERE reason LIKE 'High stock%' AND to >= DATE(CURRENT_TIMESTAMP() + INTERVAL 7 HOURS)\n",
    "  ) D ON A.calday = D.calday + 1 AND A.product_id = D.product_id AND A.store_id = D.store_id\n",
    ")\n",
    "\n",
    "SELECT * FROM SUMM;\n",
    "\"\"\")"
   ]
  }
 ],
 "metadata": {
  "application/vnd.databricks.v1+notebook": {
   "computePreferences": null,
   "dashboards": [],
   "environmentMetadata": {
    "base_environment": "",
    "environment_version": "2"
   },
   "inputWidgetPreferences": null,
   "language": "python",
   "notebookMetadata": {
    "mostRecentlyExecutedCommandWithImplicitDF": {
     "commandId": 7469597179123252,
     "dataframes": [
      "_sqldf"
     ]
    },
    "pythonIndentUnit": 4
   },
   "notebookName": "a_daily_scct_sku_active_daily",
   "widgets": {
    "environment": {
     "currentValue": "DEV",
     "nuid": "7f4ca61f-e1fc-432a-9a66-60efa2c58c0b",
     "typedWidgetInfo": {
      "autoCreated": false,
      "defaultValue": "",
      "label": "",
      "name": "environment",
      "options": {
       "widgetDisplayType": "Text",
       "validationRegex": null
      },
      "parameterDataType": "String"
     },
     "widgetInfo": {
      "widgetType": "text",
      "defaultValue": "",
      "label": "",
      "name": "environment",
      "options": {
       "widgetType": "text",
       "autoCreated": null,
       "validationRegex": null
      }
     }
    }
   }
  },
  "language_info": {
   "name": "python"
  }
 },
 "nbformat": 4,
 "nbformat_minor": 0
}
