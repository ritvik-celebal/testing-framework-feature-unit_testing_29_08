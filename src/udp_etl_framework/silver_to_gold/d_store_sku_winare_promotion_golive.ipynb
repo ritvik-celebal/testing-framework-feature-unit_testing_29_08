{
 "cells": [
  {
   "cell_type": "code",
   "execution_count": 0,
   "metadata": {
    "application/vnd.databricks.v1+cell": {
     "cellMetadata": {},
     "inputWidgets": {},
     "nuid": "71f6c671-d83c-402e-a241-1df3105036af",
     "showTitle": false,
     "tableResultSettingsMap": {},
     "title": ""
    }
   },
   "outputs": [],
   "source": [
    "%run ../utils/common"
   ]
  },
  {
   "cell_type": "code",
   "execution_count": 0,
   "metadata": {
    "application/vnd.databricks.v1+cell": {
     "cellMetadata": {},
     "inputWidgets": {},
     "nuid": "023c9075-a0be-4ab3-86b2-89ee18404b03",
     "showTitle": false,
     "tableResultSettingsMap": {},
     "title": ""
    }
   },
   "outputs": [],
   "source": [
    "dbutils.widgets.text(\"environment\", \"\", \"\")\n",
    "environment = dbutils.widgets.get(\"environment\")"
   ]
  },
  {
   "cell_type": "code",
   "execution_count": 0,
   "metadata": {
    "application/vnd.databricks.v1+cell": {
     "cellMetadata": {},
     "inputWidgets": {},
     "nuid": "61334f23-7504-43a1-a687-8b0bc0e41be2",
     "showTitle": false,
     "tableResultSettingsMap": {},
     "title": ""
    }
   },
   "outputs": [],
   "source": [
    "catalog_name = settings[environment]['catalog_name']"
   ]
  },
  {
   "cell_type": "code",
   "execution_count": 0,
   "metadata": {
    "application/vnd.databricks.v1+cell": {
     "cellMetadata": {
      "byteLimit": 2048000,
      "rowLimit": 10000
     },
     "inputWidgets": {},
     "nuid": "1de91828-5088-4995-9069-44fa940c474c",
     "showTitle": false,
     "tableResultSettingsMap": {},
     "title": ""
    }
   },
   "outputs": [],
   "source": [
    "spark.sql(f'''\n",
    "CREATE OR REPLACE TABLE {catalog_name}.udp_wcm_gold_db_winare_nonfresh_dc.d_store_sku_winare_promotion_golive\n",
    "AS\n",
    "WITH product_list AS (\n",
    "    SELECT product_id, start_date, end_date\n",
    "    FROM VALUES\n",
    "        ('10171315', DATE('2025-01-01'), DATE('2025-03-10')),\n",
    "        ('10334879', DATE('2025-01-01'), DATE('2025-03-10')),\n",
    "        ('10334880', DATE('2025-01-01'), DATE('2025-03-10')),\n",
    "        ('10334881', DATE('2025-01-01'), DATE('2025-03-10')),\n",
    "        ('10334882', DATE('2025-01-01'), DATE('2025-03-10')),\n",
    "        ('10334926', DATE('2025-01-01'), DATE('2025-03-10')),\n",
    "        ('10274187', DATE('2025-01-01'), DATE('2025-03-10')),\n",
    "        ('10171477', DATE('2025-01-01'), DATE('2025-03-10')),\n",
    "        ('10171478', DATE('2025-01-01'), DATE('2025-03-10')),\n",
    "        ('10171479', DATE('2025-01-01'), DATE('2025-03-10')),\n",
    "        ('10171480', DATE('2025-01-01'), DATE('2025-03-10')),\n",
    "\n",
    "        ('10334915', DATE('2024-12-24'), DATE('2025-03-03')),\n",
    "        ('10334916', DATE('2024-12-24'), DATE('2025-03-03')),\n",
    "        ('10334917', DATE('2024-12-24'), DATE('2025-03-03')),\n",
    "        ('10334918', DATE('2024-12-24'), DATE('2025-03-03')),\n",
    "        ('10334919', DATE('2024-12-24'), DATE('2025-03-03')),\n",
    "        ('10334920', DATE('2024-12-24'), DATE('2025-03-03')),\n",
    "        ('10334921', DATE('2024-12-24'), DATE('2025-03-03')),\n",
    "        ('10334922', DATE('2024-12-24'), DATE('2025-03-03')),\n",
    "        ('10334923', DATE('2024-12-24'), DATE('2025-03-03')),\n",
    "        ('10334924', DATE('2024-12-24'), DATE('2025-03-03')),\n",
    "\n",
    "        ('10171315', DATE('2025-04-23'), DATE('2025-12-31')),\n",
    "        ('10274187', DATE('2025-04-23'), DATE('2025-12-31')),\n",
    "        ('10334926', DATE('2025-04-23'), DATE('2025-12-31')),\n",
    "        ('10334882', DATE('2025-04-23'), DATE('2025-12-31')),\n",
    "        ('10334880', DATE('2025-04-23'), DATE('2025-12-31')),\n",
    "        ('10284434', DATE('2025-04-23'), DATE('2025-12-31')),\n",
    "        ('10334879', DATE('2025-04-23'), DATE('2025-12-31')),\n",
    "        ('10284433', DATE('2025-04-23'), DATE('2025-12-31')),\n",
    "        ('10284432', DATE('2025-04-23'), DATE('2025-12-31'))\n",
    "    AS product_list(product_id, start_date, end_date)\n",
    ")\n",
    "SELECT *\n",
    "FROM product_list\n",
    "WHERE DATE(CURRENT_TIMESTAMP() + INTERVAL 7 HOURS) BETWEEN start_date AND end_date\n",
    "''')"
   ]
  }
 ],
 "metadata": {
  "application/vnd.databricks.v1+notebook": {
   "computePreferences": null,
   "dashboards": [],
   "environmentMetadata": {
    "base_environment": "",
    "environment_version": "2"
   },
   "inputWidgetPreferences": null,
   "language": "python",
   "notebookMetadata": {
    "pythonIndentUnit": 4
   },
   "notebookName": "d_store_sku_winare_promotion_golive",
   "widgets": {}
  },
  "language_info": {
   "name": "python"
  }
 },
 "nbformat": 4,
 "nbformat_minor": 0
}
