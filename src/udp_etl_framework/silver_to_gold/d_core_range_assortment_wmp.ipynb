{
 "cells": [
  {
   "cell_type": "code",
   "execution_count": 0,
   "metadata": {
    "application/vnd.databricks.v1+cell": {
     "cellMetadata": {
      "byteLimit": 2048000,
      "rowLimit": 10000
     },
     "inputWidgets": {},
     "nuid": "b92c0393-ca46-40b5-ab5e-a6dcc053cae9",
     "showTitle": false,
     "tableResultSettingsMap": {},
     "title": ""
    }
   },
   "outputs": [],
   "source": [
    "%run ../utils/common"
   ]
  },
  {
   "cell_type": "code",
   "execution_count": 0,
   "metadata": {
    "application/vnd.databricks.v1+cell": {
     "cellMetadata": {
      "byteLimit": 2048000,
      "rowLimit": 10000
     },
     "inputWidgets": {},
     "nuid": "3298d73a-8f20-4202-a566-a9f400b437dc",
     "showTitle": false,
     "tableResultSettingsMap": {},
     "title": ""
    }
   },
   "outputs": [],
   "source": [
    "dbutils.widgets.text(\"environment\", \"\", \"\")\n",
    "environment = dbutils.widgets.get(\"environment\")"
   ]
  },
  {
   "cell_type": "code",
   "execution_count": 0,
   "metadata": {
    "application/vnd.databricks.v1+cell": {
     "cellMetadata": {
      "byteLimit": 2048000,
      "rowLimit": 10000
     },
     "inputWidgets": {},
     "nuid": "23915b89-5b81-4857-a374-5589de8c5f57",
     "showTitle": false,
     "tableResultSettingsMap": {},
     "title": ""
    }
   },
   "outputs": [],
   "source": [
    "dbutils.widgets.text(\"proc_date\", \"\", \"\")\n",
    "proc_date = dbutils.widgets.get(\"proc_date\")"
   ]
  },
  {
   "cell_type": "code",
   "execution_count": 0,
   "metadata": {
    "application/vnd.databricks.v1+cell": {
     "cellMetadata": {
      "byteLimit": 2048000,
      "rowLimit": 10000
     },
     "inputWidgets": {},
     "nuid": "9465b5c9-871f-4240-b72d-1db76bd34249",
     "showTitle": false,
     "tableResultSettingsMap": {},
     "title": ""
    }
   },
   "outputs": [],
   "source": [
    "catalog_name = settings[environment]['catalog_name']"
   ]
  },
  {
   "cell_type": "code",
   "execution_count": 0,
   "metadata": {
    "application/vnd.databricks.v1+cell": {
     "cellMetadata": {
      "byteLimit": 2048000,
      "rowLimit": 10000
     },
     "inputWidgets": {},
     "nuid": "ecfb22b3-1c7c-4e53-b5d6-405fc97b3dd4",
     "showTitle": false,
     "tableResultSettingsMap": {},
     "title": ""
    }
   },
   "outputs": [],
   "source": [
    "spark.sql(f\"\"\"\n",
    "CREATE OR REPLACE TABLE {catalog_name}.udp_wcm_gold_vcm_dwh.d_core_range_assortment_wmp\n",
    "TBLPROPERTIES (\n",
    "  'DELTA.AUTOOPTIMIZE.OPTIMIZEWRITE' = 'TRUE',\n",
    "  'DELTA.AUTOOPTIMIZE.AUTOCOMPACT' = 'TRUE'\n",
    ")\n",
    "AS\n",
    "WITH max_date AS (\n",
    "    SELECT  DATE(CURRENT_TIMESTAMP() + INTERVAL 7 HOURS) AS max_calday\n",
    "),\n",
    "wmp AS (\n",
    "    SELECT\n",
    "        b.region_domain_vn AS mien,\n",
    "        b.city,\n",
    "        b.business_unit, \n",
    "        a.store_id, \n",
    "        a.product_id, \n",
    "        CASE \n",
    "            WHEN a.assortment_class_desc = 'CORE1' THEN 'Core 1' \n",
    "            WHEN a.assortment_class_desc = 'CORE2' THEN 'Core 2' \n",
    "            WHEN a.assortment_class_desc = 'CORE3' THEN 'Core 3' \n",
    "            ELSE a.assortment_class_desc \n",
    "        END AS core_range\n",
    "    FROM {catalog_name}.udp_wcm_gold_vcm_dwh.d_assortment_active_his a\n",
    "    LEFT JOIN {catalog_name}.udp_wcm_gold_vcm_dwh.d_store b\n",
    "        ON a.store_id = b.store_id\n",
    "    WHERE a.calday = (SELECT max_calday FROM max_date) \n",
    "    AND b.business_unit IN ('2000', '6000')\n",
    "),\n",
    "filtered_data AS (\n",
    "    SELECT *,\n",
    "           ROW_NUMBER() OVER (\n",
    "               PARTITION BY store_id, product_id \n",
    "               ORDER BY \n",
    "                   CASE\n",
    "                       WHEN core_range = 'Core 1' THEN 1\n",
    "                       WHEN core_range = 'Core 2' THEN 2\n",
    "                       WHEN core_range = 'Core 3' THEN 3\n",
    "                       ELSE 999\n",
    "                   END\n",
    "           ) AS rn\n",
    "    FROM wmp\n",
    ")\n",
    "SELECT\n",
    "mien,\n",
    "city,\n",
    "business_unit,\n",
    "store_id,\n",
    "product_id,\n",
    "core_range\n",
    "FROM \n",
    "filtered_data\n",
    "WHERE rn = 1\n",
    "\"\"\")"
   ]
  }
 ],
 "metadata": {
  "application/vnd.databricks.v1+notebook": {
   "computePreferences": null,
   "dashboards": [],
   "environmentMetadata": {
    "base_environment": "",
    "environment_version": "2"
   },
   "inputWidgetPreferences": null,
   "language": "python",
   "notebookMetadata": {
    "mostRecentlyExecutedCommandWithImplicitDF": {
     "commandId": 6673494183702520,
     "dataframes": [
      "_sqldf"
     ]
    },
    "pythonIndentUnit": 4
   },
   "notebookName": "d_core_range_assortment_wmp",
   "widgets": {
    "environment": {
     "currentValue": "DEV",
     "nuid": "3b538e81-17f0-43a5-b35a-2fc531897bfe",
     "typedWidgetInfo": {
      "autoCreated": false,
      "defaultValue": "",
      "label": "",
      "name": "environment",
      "options": {
       "widgetDisplayType": "Text",
       "validationRegex": null
      },
      "parameterDataType": "String"
     },
     "widgetInfo": {
      "widgetType": "text",
      "defaultValue": "",
      "label": "",
      "name": "environment",
      "options": {
       "widgetType": "text",
       "autoCreated": null,
       "validationRegex": null
      }
     }
    },
    "proc_date": {
     "currentValue": "2025-07-20",
     "nuid": "d3f4f930-70b6-45a8-b740-f9754c33c1c2",
     "typedWidgetInfo": {
      "autoCreated": false,
      "defaultValue": "",
      "label": "",
      "name": "proc_date",
      "options": {
       "widgetDisplayType": "Text",
       "validationRegex": null
      },
      "parameterDataType": "String"
     },
     "widgetInfo": {
      "widgetType": "text",
      "defaultValue": "",
      "label": "",
      "name": "proc_date",
      "options": {
       "widgetType": "text",
       "autoCreated": null,
       "validationRegex": null
      }
     }
    }
   }
  },
  "language_info": {
   "name": "python"
  }
 },
 "nbformat": 4,
 "nbformat_minor": 0
}
