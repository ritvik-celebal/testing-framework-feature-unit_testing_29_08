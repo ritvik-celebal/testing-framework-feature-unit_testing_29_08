{
 "cells": [
  {
   "cell_type": "code",
   "execution_count": 0,
   "metadata": {
    "application/vnd.databricks.v1+cell": {
     "cellMetadata": {},
     "inputWidgets": {},
     "nuid": "e0e1f26d-073f-47cc-8b89-be52ead8ee3f",
     "showTitle": false,
     "tableResultSettingsMap": {},
     "title": ""
    }
   },
   "outputs": [],
   "source": [
    "%run ../utils/common"
   ]
  },
  {
   "cell_type": "code",
   "execution_count": 0,
   "metadata": {
    "application/vnd.databricks.v1+cell": {
     "cellMetadata": {
      "byteLimit": 2048000,
      "rowLimit": 10000
     },
     "inputWidgets": {},
     "nuid": "e79726ec-c44e-47d7-8822-470da66e504b",
     "showTitle": false,
     "tableResultSettingsMap": {},
     "title": ""
    }
   },
   "outputs": [],
   "source": [
    "dbutils.widgets.text(\"environment\", \"\", \"\")\n",
    "environment = dbutils.widgets.get(\"environment\")"
   ]
  },
  {
   "cell_type": "code",
   "execution_count": 0,
   "metadata": {
    "application/vnd.databricks.v1+cell": {
     "cellMetadata": {},
     "inputWidgets": {},
     "nuid": "df17f11e-6873-444e-99f1-35a3b8990897",
     "showTitle": false,
     "tableResultSettingsMap": {},
     "title": ""
    }
   },
   "outputs": [],
   "source": [
    "catalog_name = settings[environment]['catalog_name']"
   ]
  },
  {
   "cell_type": "code",
   "execution_count": 0,
   "metadata": {
    "application/vnd.databricks.v1+cell": {
     "cellMetadata": {},
     "inputWidgets": {},
     "nuid": "f309e6a5-5ed9-405b-95b9-a7228d26f6da",
     "showTitle": false,
     "tableResultSettingsMap": {},
     "title": ""
    }
   },
   "outputs": [],
   "source": [
    "spark.sql(f\"\"\"\n",
    "CREATE TABLE IF NOT EXISTS {catalog_name}.udp_wcm_gold_vcm_finance_self_service.a_store_mch4_weekly (\n",
    "    calmonday DATE,\n",
    "    store_id STRING,\n",
    "    mch4_id STRING,\n",
    "    rev_amt DOUBLE,\n",
    "    rev_amt_pos DOUBLE,\n",
    "    rev_promotion_discount DOUBLE,\n",
    "    closing_stock_value DOUBLE,\n",
    "    closing_stock_quantity DOUBLE,\n",
    "    no_product_had_sale INT,\n",
    "    rev_amt_pos_mdl DOUBLE,\n",
    "    billcount INT,\n",
    "    closing_stock_value_dio DOUBLE,\n",
    "    cogs_b2b_30d DOUBLE,\n",
    "    no_product_active INT\n",
    ") USING DELTA \n",
    "TBLPROPERTIES (\n",
    "  'DELTA.AUTOOPTIMIZE.OPTIMIZEWRITE' = 'TRUE',\n",
    "  'DELTA.AUTOOPTIMIZE.AUTOCOMPACT' = 'TRUE'\n",
    ");\n",
    "\"\"\")"
   ]
  },
  {
   "cell_type": "code",
   "execution_count": 0,
   "metadata": {
    "application/vnd.databricks.v1+cell": {
     "cellMetadata": {},
     "inputWidgets": {},
     "nuid": "c0d0bb7a-22dc-4a15-8c40-85e307f28640",
     "showTitle": false,
     "tableResultSettingsMap": {},
     "title": ""
    }
   },
   "outputs": [],
   "source": [
    "spark.sql(f\"\"\"\n",
    "DELETE FROM {catalog_name}.udp_wcm_gold_vcm_finance_self_service.a_store_mch4_weekly\n",
    "WHERE calmonday >= DATE(DATE_TRUNC('week', DATE(CURRENT_TIMESTAMP() + INTERVAL 7 HOURS)) - INTERVAL 4 WEEKS);\n",
    "\"\"\")"
   ]
  },
  {
   "cell_type": "code",
   "execution_count": 0,
   "metadata": {
    "application/vnd.databricks.v1+cell": {
     "cellMetadata": {},
     "inputWidgets": {},
     "nuid": "d6447fbb-e5bc-4e28-9047-d2e881e6ca8c",
     "showTitle": false,
     "tableResultSettingsMap": {},
     "title": ""
    }
   },
   "outputs": [],
   "source": [
    "spark.sql(f\"\"\"\n",
    "INSERT INTO {catalog_name}.udp_wcm_gold_vcm_finance_self_service.a_store_mch4_weekly\n",
    "WITH cte AS (\n",
    "  SELECT t.calmonday,\n",
    "    a.store_id,\n",
    "    product.mch4_id,\n",
    "    SUM(a.revenue.billcnt_total) billcnt_total,\n",
    "    SUM(a.revenue.rev_amt) rev_amt,\n",
    "    SUM(a.revenue.rev_amt_pos) rev_amt_pos,\n",
    "    SUM(a.revenue.rev_promo_amt) rev_promotion_discount,\n",
    "    SUM(CASE WHEN a.calday = t.calsunday THEN a.stock.closing_stock_value ELSE 0 END) closing_stock_value,\n",
    "    SUM(CASE WHEN a.calday = t.calsunday THEN a.stock.closing_stock_quantity ELSE 0 END) closing_stock_quantity,\n",
    "    COUNT(DISTINCT CASE WHEN a.revenue.billcnt_total > 0 THEN a.product_id END) no_product_had_sale,\n",
    "    SUM(CASE WHEN product.manufacturer_id IN ('2325', '1915') THEN a.revenue.rev_amt_pos ELSE 0 END) rev_amt_pos_mdl\n",
    "  FROM (SELECT * FROM {catalog_name}.udp_wcm_gold_vcm_dmt.a_store_sku_daily\n",
    "        WHERE calday >= DATE(DATE_TRUNC('week', DATE(CURRENT_TIMESTAMP() + INTERVAL 7 HOURS)) - INTERVAL 4 WEEKS)) a\n",
    "  LEFT JOIN {catalog_name}.udp_wcm_gold_vcm_dwh.d_time t ON a.calday = t.calday\n",
    "  LEFT JOIN {catalog_name}.udp_wcm_gold_vcm_dwh.d_product product ON a.product_id = product.product_id\n",
    "  LEFT JOIN {catalog_name}.udp_wcm_gold_vcm_dwh.d_store store ON a.store_id = store.store_id\n",
    "  WHERE product.mch2_id IN ('101', '102', '201', '202', '203')\n",
    "    AND store.business_unit IN ('1500')\n",
    "    AND store.store_id NOT LIKE '195%'\n",
    "  GROUP BY 1, 2, 3\n",
    "  HAVING rev_amt_pos <> 0\n",
    "  OR closing_stock_value <> 0\n",
    "  OR closing_stock_quantity <> 0\n",
    "  OR billcnt_total > 0\n",
    "),\n",
    "a_daily_store_mch4_data AS (\n",
    "  SELECT t.calmonday,\n",
    "    a.store_id,\n",
    "    a.mch4_id,\n",
    "    SUM(billcount) billcount\n",
    "  FROM {catalog_name}.udp_wcm_gold_vcm_dmt.a_daily_store_mch4_data a\n",
    "  LEFT JOIN {catalog_name}.udp_wcm_gold_vcm_dwh.d_time t ON a.day = t.calday\n",
    "  LEFT JOIN {catalog_name}.udp_wcm_gold_vcm_dwh.d_store store ON a.store_id = store.store_id\n",
    "  WHERE store.business_unit IN ('1500')\n",
    "    AND t.calday >= DATE(DATE_TRUNC('week', DATE(CURRENT_TIMESTAMP() + INTERVAL 7 HOURS)) - INTERVAL 4 WEEKS)\n",
    "  GROUP BY 1, 2, 3\n",
    "),\n",
    "dio AS (\n",
    "  SELECT b.calmonday,\n",
    "        a.store_id,\n",
    "        prd.mch4_id,\n",
    "        SUM(a.closing_stock_value) closing_stock_value_dio,\n",
    "        SUM(a.cogs_b2b_30d) cogs_b2b_30d\n",
    "  FROM {catalog_name}.udp_wcm_gold_vcm_dmt.a_dr_dio_rp_store_sku a\n",
    "  LEFT JOIN (SELECT DISTINCT mch4_id, product_id FROM {catalog_name}.udp_wcm_gold_vcm_dwh.d_product) prd ON a.product_id = prd.product_id\n",
    "  LEFT JOIN {catalog_name}.udp_wcm_gold_vcm_dwh.d_time b ON a.calday = b.calday\n",
    "  LEFT JOIN {catalog_name}.udp_wcm_gold_vcm_dwh.d_store c ON a.store_id = c.store_id\n",
    "  WHERE a.calday >= DATE(DATE_TRUNC('week', DATE(CURRENT_TIMESTAMP() + INTERVAL 7 HOURS)) - INTERVAL 4 WEEKS)\n",
    "    AND c.business_unit = '1500'\n",
    "    AND a.store_id NOT IN ('1950','1951','1952')\n",
    "    AND a.dio_type = 1\n",
    "  GROUP BY 1, 2, 3\n",
    "),\n",
    "assortment AS (\n",
    "  SELECT t.calmonday, a.store_id, product.mch4_id,\n",
    "    COUNT(DISTINCT a.product_id) no_product_active\n",
    "  FROM {catalog_name}.udp_wcm_gold_vcm_dwh.d_assortment_active_his a\n",
    "  LEFT JOIN {catalog_name}.udp_wcm_gold_vcm_dwh.d_time t ON a.calday = t.calday\n",
    "  LEFT JOIN {catalog_name}.udp_wcm_gold_vcm_dwh.d_product product ON a.product_id = product.product_id\n",
    "  LEFT JOIN {catalog_name}.udp_wcm_gold_vcm_dwh.d_store store ON a.store_id = store.store_id\n",
    "  WHERE product.mch2_id IN ('101', '102', '201', '202', '203')\n",
    "    AND store.business_unit = '1500'\n",
    "    AND store.store_id NOT IN ('1950','1951','1952')\n",
    "    AND a.calday >= DATE(DATE_TRUNC('week', DATE(CURRENT_TIMESTAMP() + INTERVAL 7 HOURS)) - INTERVAL 4 WEEKS)\n",
    "  GROUP BY 1, 2, 3\n",
    ")\n",
    "SELECT cte.calmonday,\n",
    "      cte.store_id,\n",
    "      cte.mch4_id,\n",
    "      cte.rev_amt,\n",
    "      cte.rev_amt_pos,\n",
    "      cte.rev_promotion_discount,\n",
    "      cte.closing_stock_value,\n",
    "      cte.closing_stock_quantity,\n",
    "      cte.no_product_had_sale,\n",
    "      cte.rev_amt_pos_mdl,\n",
    "      a.billcount,\n",
    "      dio.closing_stock_value_dio,\n",
    "      dio.cogs_b2b_30d,\n",
    "      assortment.no_product_active\n",
    "FROM cte\n",
    "LEFT JOIN a_daily_store_mch4_data a ON cte.calmonday = a.calmonday AND cte.store_id = a.store_id AND cte.mch4_id = a.mch4_id\n",
    "LEFT JOIN dio ON cte.calmonday = dio.calmonday AND cte.store_id = dio.store_id AND cte.mch4_id = dio.mch4_id\n",
    "LEFT JOIN assortment ON cte.calmonday = assortment.calmonday AND cte.store_id = assortment.store_id AND cte.mch4_id = assortment.mch4_id\n",
    "\"\"\")"
   ]
  }
 ],
 "metadata": {
  "application/vnd.databricks.v1+notebook": {
   "computePreferences": null,
   "dashboards": [],
   "environmentMetadata": {
    "base_environment": "",
    "environment_version": "2"
   },
   "inputWidgetPreferences": null,
   "language": "python",
   "notebookMetadata": {
    "pythonIndentUnit": 4
   },
   "notebookName": "a_store_mch4_weekly",
   "widgets": {
    "environment": {
     "currentValue": "DEV",
     "nuid": "eef73147-1a75-415c-a7f0-d84143564d70",
     "typedWidgetInfo": {
      "autoCreated": false,
      "defaultValue": "",
      "label": "",
      "name": "environment",
      "options": {
       "widgetDisplayType": "Text",
       "validationRegex": null
      },
      "parameterDataType": "String"
     },
     "widgetInfo": {
      "widgetType": "text",
      "defaultValue": "",
      "label": "",
      "name": "environment",
      "options": {
       "widgetType": "text",
       "autoCreated": null,
       "validationRegex": null
      }
     }
    }
   }
  },
  "language_info": {
   "name": "python"
  }
 },
 "nbformat": 4,
 "nbformat_minor": 0
}
