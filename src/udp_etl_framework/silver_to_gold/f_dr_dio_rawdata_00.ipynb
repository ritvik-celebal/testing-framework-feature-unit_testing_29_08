{
 "cells": [
  {
   "cell_type": "code",
   "execution_count": 0,
   "metadata": {
    "application/vnd.databricks.v1+cell": {
     "cellMetadata": {
      "byteLimit": 2048000,
      "rowLimit": 10000
     },
     "inputWidgets": {},
     "nuid": "7fa2085b-70e1-47c8-bb1d-98c151505f5d",
     "showTitle": false,
     "tableResultSettingsMap": {},
     "title": ""
    }
   },
   "outputs": [],
   "source": [
    "%run ../utils/common"
   ]
  },
  {
   "cell_type": "code",
   "execution_count": 0,
   "metadata": {
    "application/vnd.databricks.v1+cell": {
     "cellMetadata": {
      "byteLimit": 2048000,
      "rowLimit": 10000
     },
     "inputWidgets": {},
     "nuid": "a4f3c31f-2ecd-4afe-87e3-3f9cb0a3dc09",
     "showTitle": false,
     "tableResultSettingsMap": {},
     "title": ""
    }
   },
   "outputs": [],
   "source": [
    "dbutils.widgets.text(\"target_dataset\", \"VCM_DWH_PRD\")\n",
    "dbutils.widgets.text(\"target_table\", \"f_dr_dio_rawdata_00\")\n",
    "dbutils.widgets.text(\"metadata_schema\", \"udp_wcm_metadata_dev\")\n",
    "dbutils.widgets.text(\n",
    "    \"dependency_table\",\"VCM_DWH_PRD.F_INVENTORY_00, VCM_DWH_PRD.F_DR_DIO_RAWDATA\"\n",
    ")"
   ]
  },
  {
   "cell_type": "code",
   "execution_count": 0,
   "metadata": {
    "application/vnd.databricks.v1+cell": {
     "cellMetadata": {
      "byteLimit": 2048000,
      "rowLimit": 10000
     },
     "inputWidgets": {},
     "nuid": "e98ebe0e-9e63-4ac9-b34e-8ed236968104",
     "showTitle": false,
     "tableResultSettingsMap": {},
     "title": ""
    }
   },
   "outputs": [],
   "source": [
    "dbutils.widgets.text(\"field_calday\", \"CALDAY\")\n",
    "dbutils.widgets.text(\"field_id\", \"HASH_ID\")\n",
    "\n",
    "field_calday = dbutils.widgets.get(\"field_calday\")\n",
    "field_id = dbutils.widgets.get(\"field_id\")\n",
    "\n",
    "print(f\"field_calday: {field_calday}\")\n",
    "print(f\"field_id: {field_id}\")"
   ]
  },
  {
   "cell_type": "code",
   "execution_count": 0,
   "metadata": {
    "application/vnd.databricks.v1+cell": {
     "cellMetadata": {
      "byteLimit": 2048000,
      "rowLimit": 10000
     },
     "inputWidgets": {},
     "nuid": "60a7bbea-cfa4-4569-93f5-a8cb8907d5ae",
     "showTitle": false,
     "tableResultSettingsMap": {},
     "title": ""
    }
   },
   "outputs": [],
   "source": [
    "catalog_name = settings[environment]['catalog_name']"
   ]
  },
  {
   "cell_type": "code",
   "execution_count": 0,
   "metadata": {
    "application/vnd.databricks.v1+cell": {
     "cellMetadata": {
      "byteLimit": 2048000,
      "rowLimit": 10000
     },
     "inputWidgets": {},
     "nuid": "4f041534-fc05-451d-bffd-a401b049d8e2",
     "showTitle": false,
     "tableResultSettingsMap": {},
     "title": ""
    }
   },
   "outputs": [],
   "source": [
    "environment = dbutils.widgets.get(\"environment\")\n",
    "target_dataset = dbutils.widgets.get(\"target_dataset\")\n",
    "target_table = dbutils.widgets.get(\"target_table\")\n",
    "metadata_schema = dbutils.widgets.get(\"metadata_schema\")\n",
    "dependency_table = dbutils.widgets.get(\"dependency_table\")\n",
    "dependency_table = [x.strip().upper() for x in dependency_table.split(\",\")]\n",
    "dependency_table = \"'\" + \"','\".join(dependency_table) + \"'\"\n",
    "\n",
    "print(f\"environment: {environment}\")\n",
    "print(f\"target_dataset: {target_dataset}\")\n",
    "print(f\"target_table: {target_table}\")\n",
    "print(f\"catalog_name: {catalog_name}\")\n",
    "print(f\"metadata_schema: {metadata_schema}\")\n",
    "print(f\"dependency_table: {dependency_table}\")"
   ]
  },
  {
   "cell_type": "code",
   "execution_count": 0,
   "metadata": {
    "application/vnd.databricks.v1+cell": {
     "cellMetadata": {
      "byteLimit": 2048000,
      "rowLimit": 10000
     },
     "inputWidgets": {},
     "nuid": "14f1b20d-83f2-4d89-ad5c-3cab091c0fe3",
     "showTitle": false,
     "tableResultSettingsMap": {},
     "title": ""
    }
   },
   "outputs": [],
   "source": [
    "%run \"../common/common_etl_load\""
   ]
  },
  {
   "cell_type": "code",
   "execution_count": 0,
   "metadata": {
    "application/vnd.databricks.v1+cell": {
     "cellMetadata": {
      "byteLimit": 2048000,
      "rowLimit": 10000
     },
     "inputWidgets": {},
     "nuid": "296fd3ff-ecf6-4dc3-bc3c-adccc55e0b62",
     "showTitle": false,
     "tableResultSettingsMap": {},
     "title": ""
    }
   },
   "outputs": [],
   "source": [
    "spark.sql(f\"\"\"CREATE TABLE IF NOT EXISTS {catalog_name}.udp_wcm_gold_vcm_dwh.f_dr_dio_rawdata_00 (\n",
    "  hash_id BIGINT,\n",
    "  calday DATE,\n",
    "  date_gen DATE,\n",
    "  store_id STRING,\n",
    "  product_id STRING,\n",
    "  vendor_id STRING,\n",
    "  asst STRING,\n",
    "  order_method STRING,\n",
    "  delivery_method STRING,\n",
    "  dr_asst STRING,\n",
    "  note_asst STRING,\n",
    "  cluster STRING,\n",
    "  dr_type BIGINT,\n",
    "  dio_type BIGINT,\n",
    "  material_type STRING,\n",
    "  min_stock_type BIGINT,\n",
    "  issue_sku BIGINT,\n",
    "  dr BIGINT,\n",
    "  dr_promotion BIGINT,\n",
    "  dr_promotion_stt STRING,\n",
    "  min_stock DOUBLE,\n",
    "  closing_stock_quantity DOUBLE,\n",
    "  closing_stock_value DOUBLE,\n",
    "  sale_amount DOUBLE,\n",
    "  tax_amount DOUBLE,\n",
    "  sale_qty DOUBLE,\n",
    "  cogs_90d DOUBLE,\n",
    "  cogs_b2b_90d DOUBLE,\n",
    "  sale_qty_90d DOUBLE,\n",
    "  sale_qty_b2b_90d DOUBLE,\n",
    "  cogs_30d DOUBLE,\n",
    "  cogs_b2b_30d DOUBLE,\n",
    "  sale_qty_30d DOUBLE,\n",
    "  sale_qty_b2b_30d DOUBLE,\n",
    "  po_qty DOUBLE,\n",
    "  gr_qty DOUBLE)\n",
    "USING delta\n",
    "TBLPROPERTIES (\n",
    "  'DELTA.AUTOOPTIMIZE.OPTIMIZEWRITE' = 'TRUE',\n",
    "  'DELTA.AUTOOPTIMIZE.AUTOCOMPACT' = 'TRUE'\n",
    ")\n",
    "\"\"\")"
   ]
  },
  {
   "cell_type": "code",
   "execution_count": 0,
   "metadata": {
    "application/vnd.databricks.v1+cell": {
     "cellMetadata": {
      "byteLimit": 2048000,
      "rowLimit": 10000
     },
     "inputWidgets": {},
     "nuid": "a60a0236-1426-44f4-8cff-de8f1ff50db2",
     "showTitle": false,
     "tableResultSettingsMap": {},
     "title": ""
    }
   },
   "outputs": [],
   "source": [
    "start_date = START_DATE\n",
    "end_date = END_DATE"
   ]
  },
  {
   "cell_type": "code",
   "execution_count": 0,
   "metadata": {
    "application/vnd.databricks.v1+cell": {
     "cellMetadata": {
      "byteLimit": 2048000,
      "rowLimit": 10000
     },
     "inputWidgets": {},
     "nuid": "867609b0-4a6c-4b3a-a25f-f58bdcd3da08",
     "showTitle": false,
     "tableResultSettingsMap": {},
     "title": ""
    }
   },
   "outputs": [],
   "source": [
    "if CALDAY_IN_STR != '':\n",
    "\tspark.sql(f\"\"\" CREATE OR REPLACE TEMPORARY VIEW temp_{target_table}\n",
    "\tAS\n",
    "\tWITH asm_calday AS (\n",
    "\tSELECT DISTINCT calday FROM {catalog_name}.udp_wcm_gold_vcm_dwh.d_assortment_active_biweekly\n",
    "\tORDER BY calday DESC\n",
    "\t),\n",
    "\tasm_calday2 AS (\n",
    "\tSELECT calday, \n",
    "\tDATE_SUB(IFNULL(LEAD(calday) OVER (PARTITION BY NULL ORDER BY calday ASC),'3000-01-01'), 1) AS to_calday\n",
    "\tFROM asm_calday\n",
    "\t),\n",
    "\tasm_biweekly AS (\n",
    "\tSELECT \n",
    "\t\tIF(a.calday = DATE('2022-08-22'),DATE('1900-01-01'),a.calday) AS calday, \n",
    "\t\ta.* EXCEPT(calday), a2.to_calday\n",
    "\tFROM {catalog_name}.udp_wcm_gold_vcm_dwh.d_assortment_active_biweekly a\n",
    "\tINNER JOIN asm_calday2 a2 ON a.calday = a2.calday\n",
    "\t),\n",
    "\ttemp_0 AS (\n",
    "\t\tSELECT \n",
    "\t\t\ta.calday,\n",
    "\t\t\ta.product_id,\n",
    "\t\t\ta.store_id,\n",
    "\t\t\ta.closing_stock_quantity closing_stock_quantity,\n",
    "\t\t\ta.closing_stock_value closing_stock_value, \n",
    "\t\t\tCAST(0 AS FLOAT) cogs_90d,\n",
    "\t\t\tCAST(0 AS FLOAT) cogs_b2b_90d,\n",
    "\t\t\tCAST(0 AS FLOAT) cogs_qty_90d,\n",
    "\t\t\tCAST(0 AS FLOAT) cogs_qty_b2b_90d,\n",
    "\t\t\tCAST(0 AS FLOAT) cogs_30d,\n",
    "\t\t\tCAST(0 AS FLOAT) cogs_b2b_30d,\n",
    "\t\t\tCAST(0 AS FLOAT) cogs_qty_30d,\n",
    "\t\t\tCAST(0 AS FLOAT) cogs_qty_b2b_30d,\n",
    "\t\t\tCAST(0 AS FLOAT) sale_amount,\n",
    "\t\t\tCAST(0 AS FLOAT) tax_amount,\n",
    "\t\t\tCAST(0 AS FLOAT) sale_qty,\n",
    "\t\t\tCAST(0 AS FLOAT) po_qty,\n",
    "\t\t\tCAST(0 AS FLOAT) gr_qty\n",
    "\t\tFROM (\n",
    "\t\t\tSELECT * \n",
    "\t\t\tFROM {catalog_name}.udp_wcm_gold_vcm_dwh.f_inventory_00\n",
    "\t\t\tWHERE calday >= DATE{start_date} AND calday <= DATE{end_date} AND calday <= CURRENT_DATE()\n",
    "\t\t) a\n",
    "\t\tLEFT JOIN (\n",
    "\t\t\tSELECT date_gen, store_id, product_id \n",
    "\t\t\tFROM {catalog_name}.udp_wcm_gold_vcm_dwh.f_dr_dio_rawdata\n",
    "\t\t\tWHERE date_gen >= DATE{start_date} AND date_gen <= DATE{end_date} AND date_gen <= CURRENT_DATE()\n",
    "\t\t) b ON \n",
    "\t\t\ta.calday = b.date_gen \n",
    "\t\t\tAND a.store_id = b.store_id \n",
    "\t\t\tAND a.product_id = b.product_id\n",
    "\t\tWHERE b.store_id IS NULL\n",
    "\t),\n",
    "\ttemp AS (\n",
    "\t\tSELECT \n",
    "\t\t\ta.calday,\n",
    "\t\t\ta.product_id,\n",
    "\t\t\ta.store_id,\n",
    "\t\t\tSUM(a.closing_stock_quantity) closing_stock_quantity,\n",
    "\t\t\tSUM(a.closing_stock_value) closing_stock_value, \n",
    "\t\t\tSUM(a.cogs_90d) cogs_90d,\n",
    "\t\t\tSUM(a.cogs_b2b_90d) cogs_b2b_90d,\n",
    "\t\t\tSUM(a.cogs_qty_90d) cogs_qty_90d,\n",
    "\t\t\tSUM(a.cogs_qty_b2b_90d) cogs_qty_b2b_90d,\n",
    "\t\t\tSUM(a.cogs_30d) cogs_30d,\n",
    "\t\t\tSUM(a.cogs_b2b_30d) cogs_b2b_30d,\n",
    "\t\t\tSUM(a.cogs_qty_30d) cogs_qty_30d,\n",
    "\t\t\tSUM(a.cogs_qty_b2b_30d) cogs_qty_b2b_30d,\n",
    "\t\t\tSUM(a.sale_amount) sale_amount,\n",
    "\t\t\tSUM(a.tax_amount) tax_amount,\n",
    "\t\t\tSUM(a.sale_qty) sale_qty,\n",
    "\t\t\tSUM(a.po_qty) po_qty,\n",
    "\t\t\tSUM(a.gr_qty) gr_qty\n",
    "\t\tFROM temp_0 a\n",
    "\t\tGROUP BY 1,2,3\n",
    "\t),\n",
    "\tmain AS (\n",
    "\t\tSELECT \n",
    "\t\t\tFARM_FINGERPRINT(CONCAT(\n",
    "\t\t\t\tIFNULL(CAST(a.calday AS STRING), \"\"), \n",
    "\t\t\t\tIFNULL(CAST(a.store_id AS STRING), \"\"), \n",
    "\t\t\t\tIFNULL(CAST(a.product_id AS STRING), \"\")\n",
    "\t\t\t)) hash_id,\n",
    "\t\t\ta.calday date_gen,\n",
    "\t\t\ta.calday calday,\n",
    "\t\t\ta.store_id store_id,\t\t\n",
    "\t\t\ta.product_id product_id,\n",
    "\t\t\ta.vendor_id,\n",
    "\t\t\ta.asst,\n",
    "\t\t\ta.order_method,\n",
    "\t\t\ta.delivery_method,\n",
    "\t\t\ta.dr_asst,\n",
    "\t\t\ta.note_asst,\n",
    "\t\t\ta.cluster,\n",
    "\t\t\ta.dr_type,\t\n",
    "\t\t\ta.dio_type,\t\n",
    "\t\t\ta.material_type,\n",
    "\t\t\tCASE \n",
    "\t\t\t\tWHEN a.min_stock > 0 THEN 1\n",
    "\t\t\t\tWHEN a.min_stock = 0 THEN 0\n",
    "\t\t\t\tELSE NULL\n",
    "\t\t\tEND min_stock_type,\n",
    "\t\t\ta.issue_sku,\n",
    "\t\t\ta.dr,\n",
    "\t\t\ta.dr_promotion,\n",
    "\t\t\tCASE \n",
    "\t\t\tWHEN dr_promotion = 1 THEN 'Đã Phủ'\n",
    "\t\t\tWHEN dr_promotion = 0 THEN \n",
    "\t\t\t\tCASE \n",
    "\t\t\t\tWHEN gr_qty > 0 AND po_qty = 0 THEN 'Chưa phủ, chưa đặt hàng'\n",
    "\t\t\t\tWHEN gr_qty > 0 AND po_qty > 0 THEN 'Chưa phủ, đang chờ giao'\n",
    "\t\t\t\tWHEN gr_qty > 0 THEN 'Chưa phủ, CH đã bán hết'\n",
    "\t\t\t\tEND\n",
    "\t\t\tEND dr_promotion_stt,\n",
    "\t\t\tIFNULL(a.min_stock,0) min_stock,\n",
    "\t\t\tIFNULL(a.closing_stock_quantity,0) closing_stock_quantity,\n",
    "\t\t\tIFNULL(a.closing_stock_value,0) closing_stock_value,\n",
    "\t\t\tIFNULL(a.sale_amount,0) sale_amount,\n",
    "\t\t\tIFNULL(a.tax_amount,0) tax_amount,\n",
    "\t\t\tIFNULL(a.sale_qty,0) sale_qty,\n",
    "\t\t\tIFNULL(a.cogs_90d,0) cogs_90d,\n",
    "\t\t\tIFNULL(a.cogs_b2b_90d,0) cogs_b2b_90d,\n",
    "\t\t\tIFNULL(a.cogs_qty_90d,0) sale_qty_90d,\n",
    "\t\t\tIFNULL(a.cogs_qty_b2b_90d,0) sale_qty_b2b_90d,\n",
    "\t\t\tIFNULL(a.cogs_30d,0) cogs_30d,\n",
    "\t\t\tIFNULL(a.cogs_b2b_30d,0) cogs_b2b_30d,\n",
    "\t\t\tIFNULL(a.cogs_qty_30d,0) sale_qty_30d,\n",
    "\t\t\tIFNULL(a.cogs_qty_b2b_30d,0) sale_qty_b2b_30d,\n",
    "\t\t\tIFNULL(a.po_qty,0) po_qty,\n",
    "\t\t\tIFNULL(a.gr_qty,0) gr_qty,\n",
    "\t\t\tROW_NUMBER() OVER (PARTITION BY a.calday, a.store_id, a.product_id ORDER BY 1) rn\n",
    "\t\t\tFROM (\n",
    "\t\t\tSELECT\n",
    "\t\t\t\ti.calday,\n",
    "\t\t\t\ti.store_id,\n",
    "\t\t\t\ti.product_id,\n",
    "\t\t\t\ti.closing_stock_quantity,\n",
    "\t\t\t\ti.closing_stock_value,\n",
    "\t\t\t\ti.cogs_90d,\n",
    "\t\t\t\ti.cogs_b2b_90d,\n",
    "\t\t\t\ti.cogs_qty_90d,\n",
    "\t\t\t\ti.cogs_qty_b2b_90d,\n",
    "\t\t\t\ti.cogs_30d,\n",
    "\t\t\t\ti.cogs_b2b_30d,\n",
    "\t\t\t\ti.cogs_qty_30d,\n",
    "\t\t\t\ti.cogs_qty_b2b_30d,\n",
    "\t\t\t\ti.sale_amount,\n",
    "\t\t\t\ti.tax_amount,\n",
    "\t\t\t\ti.sale_qty,\n",
    "\t\t\t\ti.po_qty,\n",
    "\t\t\t\ti.gr_qty,\n",
    "\t\t\t\ta.asst,\n",
    "\t\t\t\tCASE \n",
    "\t\t\t\t\tWHEN ds.business_unit = '2000' THEN a.order_method\n",
    "\t\t\t\t\tWHEN ds.business_unit = '1500' THEN\n",
    "\t\t\t\t\t\tCASE \n",
    "\t\t\t\t\t\t\tWHEN ord.product_id IS NOT NULL THEN 'Eton' \n",
    "\t\t\t\t\t\t\tELSE 'VCM' \n",
    "\t\t\t\t\t\tEND\n",
    "\t\t\t\tEND order_method,\n",
    "\t\t\t\tCASE \n",
    "\t\t\t\t\tWHEN ds.business_unit = '2000' THEN a.delivery_method\n",
    "\t\t\t\t\tWHEN ds.business_unit = '1500' THEN\n",
    "\t\t\t\t\t\tCASE \n",
    "\t\t\t\t\t\t\tWHEN ord.product_id IS NOT NULL THEN 'Giao DC' \n",
    "\t\t\t\t\t\t\tELSE 'Giao TT' \n",
    "\t\t\t\t\t\tEND\n",
    "\t\t\t\tEND delivery_method,\t\n",
    "\t\t\t\tdas.dr dr_asst,\n",
    "\t\t\t\tdas.note note_asst,\n",
    "\t\t\t\tdpv.vendor_id,\n",
    "\t\t\t\tcltvm.cluster,\n",
    "\t\t\t\ta.min_stock,\n",
    "\t\t\t\tCASE\n",
    "\t\t\t\t\tWHEN ds.business_unit = '1500' THEN \n",
    "\t\t\t\t\t\tCASE\n",
    "\t\t\t\t\t\t\tWHEN vmss.product_id IS NOT NULL THEN 'Meat Deli'\n",
    "\t\t\t\t\t\t\tWHEN vmss.product_id IS NULL AND dp.mch2_id = '101' THEN 'Fresh'\n",
    "\t\t\t\t\t\t\tELSE 'Ambient'\n",
    "\t\t\t\t\t\tEND\n",
    "\t\t\t\t\tWHEN ds.business_unit = '2000' THEN \n",
    "\t\t\t\t\t\tCASE \n",
    "\t\t\t\t\t\t\tWHEN vmpds.store_id IS NOT NULL AND vmpds.value > 0 THEN 'Meat Deli'\n",
    "\t\t\t\t\t\t\tWHEN vmpds.store_id IS NULL AND dp.mch2_id = '101' THEN 'Fresh'\n",
    "\t\t\t\t\t\t\tELSE 'Ambient'\n",
    "\t\t\t\t\t\tEND\n",
    "\t\t\t\t\tELSE 'Ambient' \n",
    "\t\t\t\tEND material_type, \n",
    "\t\t\t\tCASE WHEN act_asm.product_id IS NOT NULL THEN \n",
    "\t\t\tCASE \n",
    "\t\t\tWHEN dp.mch2_id = '101' AND ds.business_unit = '1500' THEN IF(i.closing_stock_quantity > 0 OR i.sale_amount > 0,1,0)\n",
    "\t\t\tWHEN ds.business_unit = '2000' THEN\n",
    "\t\t\t\tCASE WHEN \n",
    "\t\t\t\t\ta.min_stock > 0 AND (a.day_of_sale_vmp IS NOT NULL OR i.calday >= '2024-03-19') \n",
    "\t\t\t\tTHEN 1\n",
    "\t\t\t\tELSE 0\n",
    "\t\t\t\tEND\n",
    "\t\t\tWHEN ds.business_unit = '1500' THEN\n",
    "\t\t\t\tCASE \n",
    "\t\t\t\t\tWHEN \n",
    "\t\t\t\t\n",
    "\t\t\t\t\tDATE_DIFF(i.calday, vm_bg.start_date) >= 14\n",
    "\t\t\t\t\tAND cltvm.cluster IN ('A', 'A+', 'B', 'Core') \n",
    "\t\t\t\t\tAND ex_sku.product_id IS NULL \n",
    "\t\t\t\t\tAND dp.mch2_id IN ('102','201','202','203')\n",
    "\t\t\t\t\tTHEN 1\n",
    "\t\t\t\t\tELSE 0\n",
    "\t\t\t\tEND\n",
    "\t\t\t\tELSE 0 \n",
    "\t\t\tEND\n",
    "\t\tELSE\n",
    "\t\t\t0\n",
    "\t\tEND dr_type,\n",
    "\t\t\t\tCASE\n",
    "\t\t\t\t\tWHEN dp.mch4_id = '1010104' THEN 0\n",
    "\t\t\t\t\tWHEN ds.business_unit = '1500' THEN\n",
    "\t\t\t\t\t\tCASE\n",
    "\t\t\t\t\t\t\tWHEN vm_dio.product_id IS NULL \n",
    "\t\t\t\t\t\t\tAND dp.mch2_id IN ('101', '102','201','202','203')\n",
    "\t\t\t\t\t\t\tTHEN 1\n",
    "\t\t\t\t\t\t\tELSE 0\n",
    "\t\t\t\t\t\tEND\n",
    "\t\t\t\t\tELSE 1\n",
    "\t\t\t\tEND dio_type,\n",
    "\t\t\t\tCASE\n",
    "\t\t\t\t\tWHEN ds.business_unit = '2000' THEN\n",
    "\t\t\t\t\t\tIF(\n",
    "\t\t\t\t\t\t\ti.calday < '2024-03-19',    \n",
    "\t\t\t\t\t\t\tCASE                        \n",
    "\t\t\t\t\t\t\t\tWHEN cr.product_id IS NOT NULL THEN\n",
    "\t\t\t\t\t\t\t\t\tCASE\n",
    "\t\t\t\t\t\t\t\t\t\tWHEN i.closing_stock_quantity >= 4  THEN 1\n",
    "\t\t\t\t\t\t\t\t\tELSE 0\n",
    "\t\t\t\t\t\t\t\t\tEND\n",
    "\t\t\t\t\t\t\t\tELSE\n",
    "\t\t\t\t\t\t\t\t\tCASE\n",
    "\t\t\t\t\t\t\t\t\t\tWHEN i.closing_stock_quantity >= 4 and cltvm.cluster IN ('A+','A','Core')  THEN 1\n",
    "\t\t\t\t\t\t\t\t\t\tWHEN i.closing_stock_quantity >= 2 and cltvm.cluster = 'B' THEN 1\n",
    "\t\t\t\t\t\t\t\t\t\tWHEN i.closing_stock_quantity >= 1 and (cltvm.cluster in ('C','D','E') OR cltvm.cluster IS NULL) THEN 1\n",
    "\t\t\t\t\t\t\t\t\tELSE 0\n",
    "\t\t\t\t\t\t\t\t\tEND\n",
    "\t\t\t\t\t\t\tEND,\n",
    "\t\t\t\t\t\t\tCASE                        \n",
    "\t\t\t\t\t\t\t\tWHEN i.closing_stock_quantity >= a.min_stock\n",
    "\t\t\t\t\t\t\t\tTHEN 1\n",
    "\t\t\t\t\t\t\t\tELSE 0\n",
    "\t\t\t\t\t\t\tEND\n",
    "\t\t\t\t\t\t)\n",
    "\t\t\t\t\tWHEN ds.business_unit = '1500' THEN\n",
    "\t\t\t\t\t\tCASE\n",
    "\t\t\t\t\t\t\tWHEN i.closing_stock_quantity > 0 THEN \n",
    "\t\t\t\t\t\t\t\tCASE \n",
    "\t\t\t\t\t\t\t\t\tWHEN a.min_stock IS NULL OR a.min_stock <=0 THEN 1\n",
    "\t\t\t\t\t\t\t\tELSE\n",
    "\t\t\t\t\t\t\t\t\tCASE \n",
    "\t\t\t\t\t\t\t\t\t\tWHEN i.closing_stock_quantity >= a.min_stock THEN 1\n",
    "\t\t\t\t\t\t\t\t\t\tELSE 0\n",
    "\t\t\t\t\t\t\t\t\tEND\n",
    "\t\t\t\t\t\t\t\tEND\n",
    "\t\t\t\t\t\t\tELSE 0\t\n",
    "\t\t\t\t\t\tEND\n",
    "\t\t\t\t\tELSE NULL\n",
    "\t\t\t\tEND dr,\n",
    "\t\t\t\tCASE WHEN promo.ma_dat_hang IS NOT NULL THEN\n",
    "\t\t\t\t\tCASE WHEN business_unit = '1500' THEN\n",
    "\t\t\t\t\t\t\tCASE\n",
    "\t\t\t\t\t\t\t\tWHEN vmss.product_id IS NULL AND dp.mch2_id = '101' \n",
    "\t\t\t\t\t\t\t\t\tAND i.closing_stock_quantity > 0 OR i.sale_qty > 0 \n",
    "\t\t\t\t\t\t\t\t\tTHEN 1 \n",
    "\t\t\t\t\t\t\t\tWHEN vmss.product_id IS NULL \n",
    "\t\t\t\t\t\t\t\t\tAND i.closing_stock_quantity > 0\n",
    "\t\t\t\t\t\t\t\t\tTHEN 1\n",
    "\t\t\t\t\t\t\tEND\n",
    "\t\t\t\t\t\tWHEN ds.business_unit = '2000' THEN \n",
    "\t\t\t\t\t\t\tCASE \n",
    "\t\t\t\t\t\t\t\tWHEN vmpds.store_id IS NULL AND dp.mch2_id = '101'\n",
    "\t\t\t\t\t\t\t\t\tAND i.closing_stock_quantity > 0 OR i.sale_qty > 0 \n",
    "\t\t\t\t\t\t\t\t\tTHEN 1\n",
    "\t\t\t\t\t\t\t\tWHEN vmpds.store_id IS NULL\n",
    "\t\t\t\t\t\t\t\t\tAND i.closing_stock_quantity > 0\n",
    "\t\t\t\t\t\t\t\t\tTHEN 1\n",
    "\t\t\t\t\t\t\tEND\n",
    "\t\t\t\t\t\tELSE 0\n",
    "\t\t\t\t\tEND\n",
    "\t\t\t\tELSE NULL\n",
    "\t\t\t\tEND dr_promotion,\n",
    "\t\t\t\tCASE \n",
    "\t\t\t\t\tWHEN (issue_asm.product_id IS NOT NULL OR issue_all.product_id IS NOT NULL) THEN 1\n",
    "\t\t\t\t\tELSE 0\n",
    "\t\t\t\tEND issue_sku\t\t\t\n",
    "\t\t\tFROM temp i\n",
    "\n",
    "\t\t\tLEFT JOIN (\n",
    "\t\t\t\tSELECT \n",
    "\t\t\t\t\tstore_id, article, asst, \n",
    "\t\t\t\t\torder_method, delivery_method, min_stock, source,\n",
    "\t\t\t\t\tstart_date, end_date, \n",
    "\t\t\t\t\tlast_period day_of_sale_vmp\n",
    "\t\t\t\t\tFROM {catalog_name}.udp_wcm_gold_vcm_dwh.d_min_stock WHERE DATE{end_date} >= DATE{start_date}\n",
    "\t\t\t) a ON \n",
    "\t\t\t\t\ti.store_id = a.store_id\t\n",
    "\t\t\t\t\tAND i.product_id = a.article \n",
    "\t\t\t\t\tAND a.start_date <= i.calday \n",
    "\t\t\t\t\tAND a.end_date >= i.calday\n",
    "\n",
    "\t\t\tLEFT JOIN (\n",
    "\t\t\t\tSELECT \n",
    "\t\t\t\t\tproduct_id, asst, store_id, dr, note,\n",
    "\t\t\t\t\tday_of_sale day_of_sale_vm,\n",
    "\t\t\t\t\tstart_date, end_date\n",
    "\t\t\t\t\tFROM {catalog_name}.udp_wcm_gold_vcm_dwh.d_assortment\n",
    "\t\t\t\t\tWHERE asst IS NOT NULL AND DATE{end_date} >= DATE{start_date}\n",
    "\t\t\t) das ON \n",
    "\t\t\t\t\ti.product_id = das.product_id \n",
    "\t\t\t\t\tAND a.asst = das.asst \n",
    "\t\t\t\t\tAND i.store_id = das.store_id\t\n",
    "\t\t\t\t\tAND das.start_date <= i.calday \n",
    "\t\t\t\t\tAND das.end_date >= i.calday\n",
    "\t\t\t\n",
    "\t\tLEFT JOIN asm_biweekly AS act_asm\n",
    "\t\tON i.product_id = act_asm.product_id \n",
    "\t\tAND i.store_id = act_asm.store_id\n",
    "\t\tAND i.calday <= act_asm.to_calday\n",
    "\t\tAND i.calday >= act_asm.calday\n",
    "\t\t\tLEFT JOIN (\n",
    "\t\t\t\tSELECT \n",
    "\t\t\t\t\tproduct_id, store_id,\n",
    "\t\t\t\t\tMIN(start_date) AS start_date\n",
    "\t\t\t\t\tFROM {catalog_name}.udp_wcm_gold_vcm_dwh.d_assortment_scd\n",
    "\t\t\t\t\tGROUP BY 1,2 \n",
    "\t\t\t\t) vm_bg\n",
    "\t\t\t\tON i.product_id = vm_bg.product_id \n",
    "\t\t\t\tAND i.store_id = vm_bg.store_id\n",
    "\n",
    "\t\t\tLEFT JOIN (\n",
    "\t\t\t\tSELECT \n",
    "\t\t\t\t\tstore_id, region_domain, business_unit, city, mien,\n",
    "\t\t\t\t\t(CASE \n",
    "\t\t\t\t\t\tWHEN reporting_region = \"01\" THEN \"North\"\n",
    "\t\t\t\t\t\tWHEN reporting_region = '02' THEN \"South\"\n",
    "\t\t\t\t\t\tWHEN reporting_region = '03' THEN \"Central\"\n",
    "\t\t\t\t\t\tWHEN reporting_region = '04' THEN \"West\"\n",
    "\t\t\t\t\t\tELSE NULL \n",
    "\t\t\t\t\tEND) region\n",
    "\t\t\t\t\tFROM {catalog_name}.udp_wcm_gold_vcm_dwh.d_store\n",
    "\t\t\t) DS ON \n",
    "\t\t\t\t\tI.store_id = DS.store_id\n",
    "\n",
    "\t\t\tLEFT JOIN (\n",
    "\t\t\t\tSELECT \n",
    "\t\t\t\t\tproduct_id, mch2_id, mch4_id\n",
    "\t\t\t\t\tFROM {catalog_name}.udp_wcm_gold_vcm_dwh.d_product\n",
    "\t\t\t) DP ON \n",
    "\t\t\t\t\tI.product_id = DP.product_id\n",
    "\n",
    "\t\t\tLEFT JOIN (\n",
    "\t\t\t\tSELECT \n",
    "\t\t\t\t\tstore_id, product_id, cluster, start_date, end_date\n",
    "\t\t\t\t\tFROM {catalog_name}.udp_wcm_gold_vcm_dwh.d_assortment_cluster WHERE  DATE{end_date} >= DATE{start_date}\n",
    "\t\t\t) CLTVM ON \n",
    "\t\t\t\t\tI.store_id = CLTVM.store_id\n",
    "\t\t\t\t\tAND I.product_id = CLTVM.product_id\n",
    "\t\t\t\t\tAND CLTVM.start_date <= I.calday \n",
    "\t\t\t\t\tAND CLTVM.end_date >= I.calday\n",
    "\n",
    "\t\t\tLEFT JOIN (\n",
    "\t\t\t\tSELECT \n",
    "\t\t\t\t\tproduct_id, start_date, end_date\n",
    "\t\t\t\t\tFROM {catalog_name}.udp_wcm_gold_vcm_dwh.d_corerange WHERE DATE{end_date} >= DATE{start_date}\n",
    "\t\t\t) CR ON \n",
    "\t\t\t\t\tI.product_id = CR.product_id\n",
    "\t\t\t\t\tAND CR.start_date <= I.calday \n",
    "\t\t\t\t\tAND CR.end_date >= I.calday\n",
    "\n",
    "\t\t\tLEFT JOIN (\n",
    "\t\t\t\tSELECT \n",
    "\t\t\t\t\tcity, product_id, asst, IFNULL(`from`,'1900-01-01') from_date, IFNULL(`to`,'2400-12-31') AS to_date, start_date, end_date \n",
    "\t\t\t\t\tFROM {catalog_name}.udp_wcm_gold_vcm_dwh.d_issue_sku\n",
    "\t\t\t\t\tWHERE asst IS NOT NULL AND DATE{end_date} >= DATE{start_date}\n",
    "\t\t\t) ISSUE_ASM ON \n",
    "\t\t\t\t\tI.product_id = ISSUE_ASM.product_id \n",
    "\t\t\t\t\tAND DS.city = ISSUE_ASM.city\n",
    "\t\t\t\t\tAND A.asst = ISSUE_ASM.asst  \n",
    "\t\t\t\t\tAND ISSUE_ASM.start_date <= I.calday \n",
    "\t\t\t\t\tAND ISSUE_ASM.end_date >= I.calday\n",
    "\t\t\t\t\tAND ISSUE_ASM.from_date <= I.calday \n",
    "\t\t\t\t\tAND ISSUE_ASM.to_date >= I.calday\n",
    "\t\t\tLEFT JOIN (\n",
    "\t\t\t\tSELECT \n",
    "\t\t\t\t\tcity, product_id, asst, IFNULL(`from`,'1900-01-01') from_date, IFNULL(`to`,'2400-12-31') AS to_date, start_date, end_date \n",
    "\t\t\t\t\tFROM {catalog_name}.udp_wcm_gold_vcm_dwh.d_issue_sku\n",
    "\t\t\t\t\tWHERE asst IS NULL AND  DATE{end_date} >= DATE{start_date}\n",
    "\t\t\t) ISSUE_ALL ON \n",
    "\t\t\t\t\tI.product_id = ISSUE_ALL.product_id \n",
    "\t\t\t\t\tAND DS.city = ISSUE_ALL.city\n",
    "\t\t\t\t\tAND ISSUE_ALL.start_date <= I.calday \n",
    "\t\t\t\t\tAND ISSUE_ALL.end_date >= I.calday\n",
    "\t\t\t\t\tAND ISSUE_ALL.from_date <= I.calday \n",
    "\t\t\t\t\tAND ISSUE_ALL.to_date >= I.calday\n",
    "\t\t\tLEFT JOIN (\n",
    "\t\t\t\tSELECT \n",
    "\t\t\t\t\tproduct_id, store_id, start_date, end_date\n",
    "\t\t\t\t\tFROM  {catalog_name}.udp_wcm_gold_vcm_dwh.d_exclude_dio WHERE  DATE{end_date}>= DATE{start_date}\n",
    "\t\t\t) vm_dio ON \n",
    "\t\t\t\t\tI.product_id = vm_dio.product_id \n",
    "\t\t\t\t\tAND I.store_id = vm_dio.store_id \n",
    "\t\t\t\t\tAND vm_dio.start_date <= I.calday \n",
    "\t\t\t\t\tAND vm_dio.end_date >= I.calday \n",
    "\n",
    "\t\t\tLEFT JOIN (\n",
    "\t\t\t\tSELECT \n",
    "\t\t\t\t\tproduct_id, store_id, start_date, end_date\n",
    "\t\t\t\t\tFROM  {catalog_name}.udp_wcm_gold_vcm_dwh.d_exclude_dr WHERE  DATE{end_date} >= DATE{start_date}\n",
    "\t\t\t) EX_SKU ON \n",
    "\t\t\t\t\tI.product_id = EX_SKU.product_id \n",
    "\t\t\t\t\tAND I.store_id = EX_SKU.store_id \n",
    "\t\t\t\t\tAND EX_SKU.start_date <= I.calday \n",
    "\t\t\t\t\tAND EX_SKU.end_date >= I.calday \n",
    "\n",
    "\t\t\tLEFT JOIN (\n",
    "\t\t\t\tSELECT \n",
    "\t\t\t\t\tproduct_id, store_id, vendor_id, start_date, end_date\n",
    "\t\t\t\t\tFROM {catalog_name}.udp_wcm_gold_vcm_dwh.d_product_vendor\n",
    "\t\t\t) DPV ON \n",
    "\t\t\t\t\tI.product_id = DPV.product_id \n",
    "\t\t\t\t\tAND I.store_id = DPV.store_id \n",
    "\t\t\t\t\tAND DPV.start_date <= I.calday \n",
    "\t\t\t\t\tAND DPV.end_date >= I.calday\n",
    "\t\t\t\n",
    "\t\t\tLEFT JOIN (\n",
    "\t\t\t\tSELECT \n",
    "\t\t\t\t\tproduct_id, store_id, order_method, start_date, end_date\n",
    "\t\t\t\t\tFROM {catalog_name}.udp_wcm_gold_vcm_dwh.d_order_method WHERE DATE{end_date} >= DATE{start_date}\n",
    "\t\t\t) ORD ON \n",
    "\t\t\t\t\tI.product_id = ORD.product_id \n",
    "\t\t\t\t\tAND I.store_id = ORD.store_id \n",
    "\t\t\t\t\tAND ORD.start_date <= I.calday \n",
    "\t\t\t\t\tAND ORD.end_date >= I.calday\n",
    "\t\t\tLEFT JOIN {catalog_name}.udp_wcm_gold_vcm_dwh.d_vm_meat_deli_store_sku   VMSS ON VMSS.product_id = I.product_id AND VMSS.store_id = I.store_id\n",
    "\t\t\tLEFT JOIN {catalog_name}.udp_wcm_gold_vcm_dwh.d_vmp_meat_deli_store_sku VMPDS ON VMPDS.product_id = I.product_id AND VMPDS.store_id = I.store_id\n",
    "\t\t\tLEFT JOIN (SELECT mien, ma_dat_hang FROM {catalog_name}.udp_wcm_gold_vcm_dwh.d_vm_vmp_promotion) PROMO ON I.product_id = PROMO.ma_dat_hang AND DS.mien = PROMO.mien\n",
    "\t\t) A\n",
    "\t) \n",
    "\tSELECT * EXCEPT(rn) FROM MAIN WHERE rn = 1\n",
    "\t\"\"\")\n",
    "\n",
    "else:\n",
    "\t\tprint(f\"No valid calday's found In common-etl to create the view: temp_{target_table}\")"
   ]
  },
  {
   "cell_type": "code",
   "execution_count": 0,
   "metadata": {
    "application/vnd.databricks.v1+cell": {
     "cellMetadata": {
      "byteLimit": 2048000,
      "rowLimit": 10000
     },
     "inputWidgets": {},
     "nuid": "601cec24-796f-42e4-82d4-49580daaf998",
     "showTitle": false,
     "tableResultSettingsMap": {},
     "title": ""
    }
   },
   "outputs": [],
   "source": [
    "if CALDAY_IN_STR != \"\":\n",
    "    # Get the calday list string from temp table\n",
    "    calday_query = f\"\"\"\n",
    "    SELECT\n",
    "        CONCAT(\"'\", CONCAT_WS(\"','\", COLLECT_SET(CAST(TO_DATE(calday, 'yyyy-MM-dd') AS STRING))), \"'\") AS calday_in_str\n",
    "    FROM temp_{target_table}\n",
    "    \"\"\"\n",
    "\n",
    "    calday_df = spark.sql(calday_query)\n",
    "    calday_in_str = calday_df.collect()[0][0]\n",
    "\n",
    "    # Only run DELETE if the string is non-empty\n",
    "    if calday_in_str.strip(\"'\"):  # checks if there's any date inside the quotes\n",
    "        spark.sql(\n",
    "            f\"\"\"\n",
    "        DELETE FROM {catalog_name}.udp_wcm_gold_vcm_dwh.f_dr_dio_rawdata_00\n",
    "        WHERE date_gen IN ({calday_in_str})\n",
    "        \"\"\"\n",
    "        ).display()\n",
    "    else:\n",
    "        print(\"no valid calday's found to delete.\")\n",
    "else:\n",
    "    print(\n",
    "        f\"temp_{target_table} could't be created as no valid calday's found In common-etl so {catalog_name}.udp_wcm_gold_vcm_dwh.f_dispatch_po can't be deleted using calday's from temp_a_billcnt_store\"\n",
    "    )"
   ]
  },
  {
   "cell_type": "code",
   "execution_count": 0,
   "metadata": {
    "application/vnd.databricks.v1+cell": {
     "cellMetadata": {
      "byteLimit": 2048000,
      "rowLimit": 10000
     },
     "inputWidgets": {},
     "nuid": "f86b1c83-55f5-46ce-bd19-1d1b6e47917f",
     "showTitle": false,
     "tableResultSettingsMap": {},
     "title": ""
    }
   },
   "outputs": [],
   "source": [
    "if CALDAY_IN_STR != \"\":\n",
    "    # Insert rows from temp table into main table\n",
    "    INSERT_ROW = \", \".join(\n",
    "        spark.table(f\"{catalog_name}.udp_wcm_gold_vcm_dwh.f_dr_dio_rawdata_00\").columns\n",
    "    )\n",
    "    spark.sql(\n",
    "        f\"\"\"\n",
    "        INSERT INTO {catalog_name}.udp_wcm_gold_vcm_dwh.f_dr_dio_rawdata_00 ({INSERT_ROW})\n",
    "        SELECT {INSERT_ROW} FROM temp_{target_table}\n",
    "    \"\"\"\n",
    "    ).display()\n",
    "else:\n",
    "    print(\n",
    "        f\"temp_{target_table} could't be created as no valid calday's found In common-etl so {catalog_name}.udp_wcm_gold_vcm_dwh.f_dispatch_po can't be inserted using calday's from temp_{target_table}\"\n",
    "    )"
   ]
  },
  {
   "cell_type": "code",
   "execution_count": 0,
   "metadata": {
    "application/vnd.databricks.v1+cell": {
     "cellMetadata": {},
     "inputWidgets": {},
     "nuid": "ff10c593-2bfe-4f0c-a90b-ede5c9a3b2c1",
     "showTitle": false,
     "tableResultSettingsMap": {},
     "title": ""
    }
   },
   "outputs": [],
   "source": [
    "spark.sql(f\"\"\"DROP VIEW IF EXISTS temp_{target_table}\"\"\")"
   ]
  }
 ],
 "metadata": {
  "application/vnd.databricks.v1+notebook": {
   "computePreferences": null,
   "dashboards": [],
   "environmentMetadata": {
    "base_environment": "",
    "environment_version": "2"
   },
   "inputWidgetPreferences": null,
   "language": "python",
   "notebookMetadata": {
    "mostRecentlyExecutedCommandWithImplicitDF": {
     "commandId": -1,
     "dataframes": [
      "_sqldf"
     ]
    },
    "pythonIndentUnit": 4
   },
   "notebookName": "f_dr_dio_rawdata_00",
   "widgets": {
    "catalog_name": {
     "currentValue": "udp_wcm_dev",
     "nuid": "5673eca5-3c13-4feb-9d48-4e4a0bbec13c",
     "typedWidgetInfo": {
      "autoCreated": false,
      "defaultValue": "udp_wcm_dev",
      "label": null,
      "name": "catalog_name",
      "options": {
       "widgetDisplayType": "Text",
       "validationRegex": null
      },
      "parameterDataType": "String"
     },
     "widgetInfo": {
      "widgetType": "text",
      "defaultValue": "udp_wcm_dev",
      "label": null,
      "name": "catalog_name",
      "options": {
       "widgetType": "text",
       "autoCreated": null,
       "validationRegex": null
      }
     }
    },
    "dependency_table": {
     "currentValue": "VCM_DWH_PRD.F_INVENTORY_00, VCM_DWH_PRD.F_DR_DIO_RAWDATA",
     "nuid": "84a6afdb-887d-42d8-9f5f-37a51d123c9a",
     "typedWidgetInfo": {
      "autoCreated": false,
      "defaultValue": "VCM_DWH_PRD.F_INVENTORY_00, VCM_DWH_PRD.F_DR_DIO_RAWDATA",
      "label": null,
      "name": "dependency_table",
      "options": {
       "widgetDisplayType": "Text",
       "validationRegex": null
      },
      "parameterDataType": "String"
     },
     "widgetInfo": {
      "widgetType": "text",
      "defaultValue": "VCM_DWH_PRD.F_INVENTORY_00, VCM_DWH_PRD.F_DR_DIO_RAWDATA",
      "label": null,
      "name": "dependency_table",
      "options": {
       "widgetType": "text",
       "autoCreated": null,
       "validationRegex": null
      }
     }
    },
    "environment": {
     "currentValue": "DEV",
     "nuid": "d172ecc8-8b23-43ad-8dfd-aba27d878094",
     "typedWidgetInfo": {
      "autoCreated": false,
      "defaultValue": "DEV",
      "label": null,
      "name": "environment",
      "options": {
       "widgetDisplayType": "Text",
       "validationRegex": null
      },
      "parameterDataType": "String"
     },
     "widgetInfo": {
      "widgetType": "text",
      "defaultValue": "DEV",
      "label": null,
      "name": "environment",
      "options": {
       "widgetType": "text",
       "autoCreated": null,
       "validationRegex": null
      }
     }
    },
    "field_calday": {
     "currentValue": "CALDAY",
     "nuid": "8664369d-a59b-4dbb-82da-f4b7b120a8b7",
     "typedWidgetInfo": {
      "autoCreated": false,
      "defaultValue": "CALDAY",
      "label": null,
      "name": "field_calday",
      "options": {
       "widgetDisplayType": "Text",
       "validationRegex": null
      },
      "parameterDataType": "String"
     },
     "widgetInfo": {
      "widgetType": "text",
      "defaultValue": "CALDAY",
      "label": null,
      "name": "field_calday",
      "options": {
       "widgetType": "text",
       "autoCreated": null,
       "validationRegex": null
      }
     }
    },
    "field_id": {
     "currentValue": "HASH_ID",
     "nuid": "85516ac7-bacb-4e64-b3d6-05c4b9a9e6bd",
     "typedWidgetInfo": {
      "autoCreated": false,
      "defaultValue": "HASH_ID",
      "label": null,
      "name": "field_id",
      "options": {
       "widgetDisplayType": "Text",
       "validationRegex": null
      },
      "parameterDataType": "String"
     },
     "widgetInfo": {
      "widgetType": "text",
      "defaultValue": "HASH_ID",
      "label": null,
      "name": "field_id",
      "options": {
       "widgetType": "text",
       "autoCreated": null,
       "validationRegex": null
      }
     }
    },
    "metadata_schema": {
     "currentValue": "udp_wcm_metadata_dev",
     "nuid": "cabfa77a-5fa0-40ad-9c66-d855f3d357f0",
     "typedWidgetInfo": {
      "autoCreated": false,
      "defaultValue": "udp_wcm_metadata_dev",
      "label": null,
      "name": "metadata_schema",
      "options": {
       "widgetDisplayType": "Text",
       "validationRegex": null
      },
      "parameterDataType": "String"
     },
     "widgetInfo": {
      "widgetType": "text",
      "defaultValue": "udp_wcm_metadata_dev",
      "label": null,
      "name": "metadata_schema",
      "options": {
       "widgetType": "text",
       "autoCreated": null,
       "validationRegex": null
      }
     }
    },
    "proc_date": {
     "currentValue": "2025-07-19",
     "nuid": "12678243-e16c-49e9-b339-5147b40db6c3",
     "typedWidgetInfo": {
      "autoCreated": false,
      "defaultValue": "",
      "label": null,
      "name": "proc_date",
      "options": {
       "widgetDisplayType": "Text",
       "validationRegex": null
      },
      "parameterDataType": "String"
     },
     "widgetInfo": {
      "widgetType": "text",
      "defaultValue": "",
      "label": null,
      "name": "proc_date",
      "options": {
       "widgetType": "text",
       "autoCreated": null,
       "validationRegex": null
      }
     }
    },
    "target_dataset": {
     "currentValue": "VCM_DWH_PRD",
     "nuid": "ab0efd12-b7f0-4107-928d-ce3d93f67c9f",
     "typedWidgetInfo": {
      "autoCreated": false,
      "defaultValue": "VCM_DWH_PRD",
      "label": null,
      "name": "target_dataset",
      "options": {
       "widgetDisplayType": "Text",
       "validationRegex": null
      },
      "parameterDataType": "String"
     },
     "widgetInfo": {
      "widgetType": "text",
      "defaultValue": "VCM_DWH_PRD",
      "label": null,
      "name": "target_dataset",
      "options": {
       "widgetType": "text",
       "autoCreated": null,
       "validationRegex": null
      }
     }
    },
    "target_table": {
     "currentValue": "f_dr_dio_rawdata_00",
     "nuid": "06ed4c4a-fe96-4e15-9c06-392cbf49edce",
     "typedWidgetInfo": {
      "autoCreated": false,
      "defaultValue": "f_dr_dio_rawdata_00",
      "label": null,
      "name": "target_table",
      "options": {
       "widgetDisplayType": "Text",
       "validationRegex": null
      },
      "parameterDataType": "String"
     },
     "widgetInfo": {
      "widgetType": "text",
      "defaultValue": "f_dr_dio_rawdata_00",
      "label": null,
      "name": "target_table",
      "options": {
       "widgetType": "text",
       "autoCreated": null,
       "validationRegex": null
      }
     }
    }
   }
  },
  "language_info": {
   "name": "python"
  }
 },
 "nbformat": 4,
 "nbformat_minor": 0
}
