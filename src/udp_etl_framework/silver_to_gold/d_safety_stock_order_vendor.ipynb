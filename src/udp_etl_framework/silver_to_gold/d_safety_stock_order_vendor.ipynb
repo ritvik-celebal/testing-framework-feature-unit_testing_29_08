{
 "cells": [
  {
   "cell_type": "code",
   "execution_count": 0,
   "metadata": {
    "application/vnd.databricks.v1+cell": {
     "cellMetadata": {
      "byteLimit": 2048000,
      "rowLimit": 10000
     },
     "inputWidgets": {},
     "nuid": "b36767e1-479d-4a49-aeca-7f26707f00ba",
     "showTitle": false,
     "tableResultSettingsMap": {},
     "title": ""
    }
   },
   "outputs": [],
   "source": [
    "%run ../utils/common"
   ]
  },
  {
   "cell_type": "code",
   "execution_count": 0,
   "metadata": {
    "application/vnd.databricks.v1+cell": {
     "cellMetadata": {
      "byteLimit": 2048000,
      "rowLimit": 10000
     },
     "inputWidgets": {},
     "nuid": "df2aec8b-917b-4798-8fc4-56343a25c827",
     "showTitle": false,
     "tableResultSettingsMap": {},
     "title": ""
    }
   },
   "outputs": [],
   "source": [
    "\n",
    "dbutils.widgets.text(\"environment\", \"\", \"\")\n",
    "environment = dbutils.widgets.get(\"environment\")"
   ]
  },
  {
   "cell_type": "code",
   "execution_count": 0,
   "metadata": {
    "application/vnd.databricks.v1+cell": {
     "cellMetadata": {
      "byteLimit": 2048000,
      "rowLimit": 10000
     },
     "inputWidgets": {},
     "nuid": "1b5fd06c-44e3-43cc-976c-8ae8e2509f63",
     "showTitle": false,
     "tableResultSettingsMap": {},
     "title": ""
    }
   },
   "outputs": [],
   "source": [
    "catalog_name = settings[environment]['catalog_name']"
   ]
  },
  {
   "cell_type": "code",
   "execution_count": 0,
   "metadata": {
    "application/vnd.databricks.v1+cell": {
     "cellMetadata": {
      "byteLimit": 2048000,
      "implicitDf": true,
      "rowLimit": 10000
     },
     "inputWidgets": {},
     "nuid": "a2e99320-80b0-4bd6-b5cf-3bac4d6ec68f",
     "showTitle": false,
     "tableResultSettingsMap": {},
     "title": ""
    }
   },
   "outputs": [],
   "source": [
    "spark.sql(\"\"\"\n",
    "CREATE TABLE IF NOT EXISTS {catalog_name}.udp_wcm_gold_db_winare_nonfresh_dc.d_safety_stock_order_vendor (\n",
    "  calday DATE,\n",
    "  dc_id STRING,\n",
    "  cnt_store BIGINT,\n",
    "  product_id STRING,\n",
    "  mch5_id STRING,\n",
    "  asm_type STRING,\n",
    "  start_date DATE,\n",
    "  end_date DATE,\n",
    "  normal_sale_qty DOUBLE,\n",
    "  normal_sale_qty_acc DOUBLE,\n",
    "  normal_sale_qty_dc DOUBLE,\n",
    "  pct_acc DOUBLE,\n",
    "  segment STRING,\n",
    "  safety_stock BIGINT\n",
    ")\n",
    "USING DELTA\n",
    "TBLPROPERTIES (\n",
    "  'DELTA.AUTOOPTIMIZE.OPTIMIZEWRITE' = 'TRUE',\n",
    "  'DELTA.AUTOOPTIMIZE.AUTOCOMPACT' = 'TRUE'\n",
    ");\"\"\")\n"
   ]
  },
  {
   "cell_type": "code",
   "execution_count": 0,
   "metadata": {
    "application/vnd.databricks.v1+cell": {
     "cellMetadata": {
      "byteLimit": 2048000,
      "rowLimit": 10000
     },
     "inputWidgets": {},
     "nuid": "8539caf0-f682-4622-899f-8a13d46de68b",
     "showTitle": false,
     "tableResultSettingsMap": {
      "0": {
       "dataGridStateBlob": "{\"version\":1,\"tableState\":{\"columnPinning\":{\"left\":[\"#row_number#\"],\"right\":[]},\"columnSizing\":{},\"columnVisibility\":{}},\"settings\":{\"columns\":{}},\"syncTimestamp\":1752813636843}",
       "filterBlob": null,
       "queryPlanFiltersBlob": null,
       "tableResultIndex": 0
      }
     },
     "title": ""
    }
   },
   "outputs": [],
   "source": [
    "current_7h = spark.sql(\"SELECT DATE(CURRENT_TIMESTAMP() + INTERVAL 7 HOURS)\").collect()[0][0]\n",
    "\n",
    "if current_7h.day == 1:\n",
    "    \n",
    "    spark.sql(f\"\"\"\n",
    "        DELETE FROM {catalog_name}.udp_wcm_gold_db_winare_nonfresh_dc.d_safety_stock_order_vendor\n",
    "        WHERE calday = DATE_ADD(DATE(CURRENT_TIMESTAMP() + INTERVAL 7 HOURS), -1)\n",
    "    \"\"\")\n",
    "\n",
    "    \n",
    "    spark.sql(f\"\"\"\n",
    "    INSERT INTO {catalog_name}.udp_wcm_gold_db_winare_nonfresh_dc.d_safety_stock_order_vendor\n",
    "\n",
    "    WITH table_date AS (\n",
    "        SELECT \n",
    "            calday, \n",
    "            DATE_TRUNC('MONTH', calday) AS calmonth\n",
    "        FROM (\n",
    "            SELECT explode(sequence(\n",
    "                add_months(date_trunc('MONTH', DATE(CURRENT_TIMESTAMP() + INTERVAL 7 HOURS)), -8),\n",
    "                date_sub(date_trunc('MONTH', DATE(CURRENT_TIMESTAMP() + INTERVAL 7 HOURS)), 1)\n",
    "            )) AS calday\n",
    "        )\n",
    "        WHERE \n",
    "            MONTH(calday) <> 11\n",
    "            AND MONTH(calday) <> (\n",
    "                SELECT MONTH(calday)\n",
    "                FROM {catalog_name}.udp_wcm_gold_vcm_dwh.d_time_lunar_v2\n",
    "                WHERE \n",
    "                    lunar_day = '1'\n",
    "                    AND lunar_month = '1'\n",
    "                    AND CAST(lunar_year AS INT) = YEAR(DATE(CURRENT_TIMESTAMP() + INTERVAL 7 HOURS))\n",
    "            )\n",
    "    QUALIFY DENSE_RANK() OVER (ORDER BY month(calday) DESC) <= 6       \n",
    "            ),\n",
    "         \n",
    "    store_sku_dc AS (\n",
    "        SELECT \n",
    "            dc_id, store_id, product_id, \n",
    "            FIRST_VALUE(assortment_type) OVER (PARTITION BY dc_id, product_id ORDER BY business_unit DESC) AS asm_type,\n",
    "            COUNT(store_id) OVER (PARTITION BY dc_id, product_id) AS cnt_store\n",
    "        FROM {catalog_name}.udp_wcm_gold_vcm_db_inventory.d_mdq_store_dc_sku_biweekly\n",
    "        WHERE dc_id IS NOT NULL\n",
    "            AND business_unit IN ('1500', '2000')\n",
    "            AND mdq > 0\n",
    "            AND replenishment_mode = 'BS'\n",
    "    ),\n",
    "    base_sale AS (\n",
    "        SELECT \n",
    "            b.dc_id,\n",
    "            b.cnt_store,\n",
    "            a.product_id,\n",
    "            c.mch5_id,\n",
    "            b.asm_type,\n",
    "            MIN(a.calday) AS start_date,\n",
    "            MAX(a.calday) AS end_date,\n",
    "            SUM(\n",
    "                GREATEST(\n",
    "                    GREATEST(IFNULL(a.revenue.base_sale_qty, 0), 0)\n",
    "                    - GREATEST(IFNULL(a.revenue.base_promotion_qty, 0), 0), 0\n",
    "                )\n",
    "            ) AS normal_sale_qty\n",
    "        FROM {catalog_name}.udp_wcm_gold_vcm_dmt.a_store_sku_daily a\n",
    "        INNER JOIN store_sku_dc b ON a.store_id = b.store_id AND a.product_id = b.product_id\n",
    "        LEFT JOIN {catalog_name}.udp_wcm_gold_vcm_dwh.d_product c ON a.product_id = c.product_id\n",
    "        WHERE \n",
    "            a.calday >= DATE_SUB(DATE_TRUNC('MONTH', DATE(CURRENT_TIMESTAMP() + INTERVAL 7 HOURS)), 8*30 )\n",
    "            AND a.calday IN (SELECT calday FROM table_date)\n",
    "        GROUP BY b.dc_id, b.cnt_store, a.product_id, c.mch5_id, b.asm_type\n",
    "    ),\n",
    "    seg AS (\n",
    "        SELECT *,\n",
    "            SUM(normal_sale_qty) OVER (PARTITION BY dc_id ORDER BY normal_sale_qty DESC) AS normal_sale_qty_acc,\n",
    "            SUM(normal_sale_qty) OVER (PARTITION BY dc_id) AS normal_sale_qty_dc,\n",
    "           (SUM(normal_sale_qty) OVER (PARTITION BY dc_id ORDER BY normal_sale_qty DESC) * 100\n",
    "                / NULLIF(SUM(normal_sale_qty) OVER (PARTITION BY dc_id), 0)) AS pct_acc\n",
    "        FROM base_sale\n",
    "    )\n",
    "    SELECT \n",
    "        DATE_ADD(DATE(CURRENT_TIMESTAMP() + INTERVAL 7 HOURS), -1) AS calday,\n",
    "        *,\n",
    "        CASE\n",
    "            WHEN pct_acc < 40 AND asm_type IN ('Core 1', 'Core 2') THEN 'A'\n",
    "            WHEN pct_acc >= 40 AND pct_acc < 80 AND asm_type IN ('Core 1', 'Core 2', 'Core 3') THEN 'B'\n",
    "            ELSE 'C'\n",
    "        END AS segment,\n",
    "        CASE\n",
    "            WHEN pct_acc < 40 AND asm_type IN ('Core 1', 'Core 2') THEN 4\n",
    "            WHEN pct_acc >= 40 AND pct_acc < 80 AND asm_type IN ('Core 1', 'Core 2', 'Core 3') THEN 2\n",
    "            ELSE 1\n",
    "        END AS safety_stock\n",
    "    FROM seg\n",
    "    \"\"\")\n"
   ]
  }
 ],
 "metadata": {
  "application/vnd.databricks.v1+notebook": {
   "computePreferences": null,
   "dashboards": [],
   "environmentMetadata": {
    "base_environment": "",
    "environment_version": "2"
   },
   "inputWidgetPreferences": null,
   "language": "python",
   "notebookMetadata": {
    "mostRecentlyExecutedCommandWithImplicitDF": {
     "commandId": 6666120750892564,
     "dataframes": [
      "_sqldf"
     ]
    },
    "pythonIndentUnit": 4
   },
   "notebookName": "d_safety_stock_order_vendor",
   "widgets": {
    "environment": {
     "currentValue": "DEV",
     "nuid": "2e0f6b2b-ebd3-44fb-8b4e-194cb65dd16c",
     "typedWidgetInfo": {
      "autoCreated": false,
      "defaultValue": "",
      "label": "",
      "name": "environment",
      "options": {
       "widgetDisplayType": "Text",
       "validationRegex": null
      },
      "parameterDataType": "String"
     },
     "widgetInfo": {
      "widgetType": "text",
      "defaultValue": "",
      "label": "",
      "name": "environment",
      "options": {
       "widgetType": "text",
       "autoCreated": null,
       "validationRegex": null
      }
     }
    }
   }
  },
  "language_info": {
   "name": "python"
  }
 },
 "nbformat": 4,
 "nbformat_minor": 0
}
