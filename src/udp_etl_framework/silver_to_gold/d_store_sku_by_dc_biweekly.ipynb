{
 "cells": [
  {
   "cell_type": "code",
   "execution_count": 0,
   "metadata": {
    "application/vnd.databricks.v1+cell": {
     "cellMetadata": {
      "byteLimit": 2048000,
      "rowLimit": 10000
     },
     "inputWidgets": {},
     "nuid": "cae72a0e-d95b-4141-9b24-5b87fd111d0c",
     "showTitle": false,
     "tableResultSettingsMap": {},
     "title": ""
    }
   },
   "outputs": [],
   "source": [
    "%run ../utils/common"
   ]
  },
  {
   "cell_type": "code",
   "execution_count": 0,
   "metadata": {
    "application/vnd.databricks.v1+cell": {
     "cellMetadata": {
      "byteLimit": 2048000,
      "rowLimit": 10000
     },
     "inputWidgets": {},
     "nuid": "68b6989a-5759-4a9d-95fc-8582eee07a7b",
     "showTitle": false,
     "tableResultSettingsMap": {},
     "title": ""
    }
   },
   "outputs": [],
   "source": [
    "dbutils.widgets.text(\"environment\", \"\", \"\")\n",
    "environment = dbutils.widgets.get(\"environment\")"
   ]
  },
  {
   "cell_type": "code",
   "execution_count": 0,
   "metadata": {
    "application/vnd.databricks.v1+cell": {
     "cellMetadata": {
      "byteLimit": 2048000,
      "rowLimit": 10000
     },
     "inputWidgets": {},
     "nuid": "fcab3a5c-1654-4551-9bf8-4e3da72389cf",
     "showTitle": false,
     "tableResultSettingsMap": {},
     "title": ""
    }
   },
   "outputs": [],
   "source": [
    "catalog_name = settings[environment]['catalog_name']"
   ]
  },
  {
   "cell_type": "code",
   "execution_count": 0,
   "metadata": {
    "application/vnd.databricks.v1+cell": {
     "cellMetadata": {
      "byteLimit": 2048000,
      "rowLimit": 10000
     },
     "inputWidgets": {},
     "nuid": "261ff29e-ab64-4655-9b9d-d142954654c8",
     "showTitle": false,
     "tableResultSettingsMap": {},
     "title": ""
    }
   },
   "outputs": [],
   "source": [
    "spark.sql(f\"\"\"\n",
    "CREATE OR REPLACE TABLE {catalog_name}.udp_wcm_gold_vcm_dwh.d_store_sku_by_dc_biweekly \n",
    "TBLPROPERTIES (\n",
    "  'DELTA.AUTOOPTIMIZE.OPTIMIZEWRITE' = 'TRUE',\n",
    "  'DELTA.AUTOOPTIMIZE.AUTOCOMPACT' = 'TRUE'\n",
    ")\n",
    "AS\n",
    "WITH tab02a AS (\n",
    "    SELECT *\n",
    "    FROM {catalog_name}.udp_wcm_gold_vcm_dwh.d_assortment_active_biweekly\n",
    "    WHERE calday = (SELECT MAX(calday) FROM {catalog_name}.udp_wcm_gold_vcm_dwh.d_assortment_active_biweekly)\n",
    "),\n",
    "asrt_list AS (\n",
    "    SELECT DISTINCT \n",
    "        a.store_id, \n",
    "        CASE\n",
    "            WHEN b.business_unit = '1500' THEN 'Supermarket'\n",
    "            WHEN b.business_unit = '2000' AND b.concept IN ('WiN','Rural') THEN b.concept\n",
    "            ELSE 'Urban'\n",
    "        END business_model,\n",
    "        a.product_id\n",
    "    FROM tab02a a\n",
    "        LEFT JOIN {catalog_name}.udp_wcm_gold_vcm_dwh.d_store b ON a.store_id = b.store_id\n",
    "    WHERE b.business_unit IN ('1500', '2000', '6000') \n",
    "        AND b.store_status_desc = \"Đang hoạt động\"\n",
    "        AND UPPER(b.store_name) NOT LIKE '[BLOCK]%'\n",
    "        AND UPPER(b.store_name) NOT LIKE 'OUTLET%' \n",
    "        AND UPPER(b.store_name) NOT LIKE '%HUB%' \n",
    "        AND UPPER(b.store_name) NOT LIKE '%ONLINE%'\n",
    "        AND UPPER(b.store_name) NOT LIKE '%KHO %'\n",
    "        AND UPPER(b.store_name) NOT LIKE '%B2B%'\n",
    "        AND a.store_id NOT LIKE 'GH%'\n",
    "),\n",
    "d_region_dc AS (\n",
    "    SELECT \n",
    "        dc_id,\n",
    "        region\n",
    "    FROM {catalog_name}.udp_wcm_gold_vcm_dwh.d_region_dc\n",
    "),\n",
    "dc_sku AS (\n",
    "    SELECT DISTINCT\n",
    "        b.dc_id,\n",
    "        a.product_id,\n",
    "        a.is_out\n",
    "    FROM (\n",
    "        SELECT *\n",
    "        FROM {catalog_name}.udp_wcm_gold_vcm_dwh.d_vendor_sku_biweekly\n",
    "        WHERE calday = (SELECT MAX(calday) FROM {catalog_name}.udp_wcm_gold_vcm_dwh.d_vendor_sku_biweekly)\n",
    "    ) a\n",
    "    INNER JOIN d_region_dc b ON a.region = b.region\n",
    "    \n",
    "),\n",
    "bu_city_mnf_bz_model_asm_dc_re_model AS (\n",
    "    SELECT DISTINCT \n",
    "        a.business_unit,\n",
    "        a.city,\n",
    "        a.manufacturer_id,\n",
    "        IF(c.SUB_MANUFACTURER_ID IS NOT NULL, c.SUB_MANUFACTURER_ID, b.SUB_MANUFACTURER_ID) SUB_MANUFACTURER_ID,\n",
    "        IF(c.SUB_MANUFACTURER_ID IS NOT NULL, c.DC_ID, a.DC_ID) DC_ID,\n",
    "        IF(c.SUB_MANUFACTURER_ID IS NOT NULL, c.REPLENISHMENT_MODE, a.REPLENISHMENT_MODE) REPLENISHMENT_MODE,\n",
    "        IF(c.SUB_MANUFACTURER_ID IS NOT NULL, c.XD_DC_ID, a.XD_DC_ID) XD_DC_ID\n",
    "    FROM {catalog_name}.udp_wcm_gold_db_winare_nonfresh_dc.d_cfg_bu_city_mnf_dc_re_mode a\n",
    "    LEFT JOIN(SELECT DISTINCT manufacturer_id,sub_manufacturer_id from {catalog_name}.udp_wcm_gold_vcm_dwh.d_product ) b\n",
    "    using (manufacturer_id)\n",
    "    LEFT JOIN {catalog_name}.udp_wcm_gold_db_winare_nonfresh_dc.d_cfg_bu_city_mnf_submnf_dc_re_mode c \n",
    "    on a.business_unit = c.business_unit AND a.city = c.city AND b.manufacturer_id = c.manufacturer_id AND b.sub_manufacturer_id = c.sub_manufacturer_id \n",
    "),\n",
    "dc_sku_active AS (\n",
    "    SELECT DISTINCT \n",
    "        a.store_id dc_id,\n",
    "        a.product_id\n",
    "    FROM tab02a a\n",
    "        LEFT JOIN {catalog_name}.udp_wcm_gold_vcm_dwh.d_store b ON a.store_id = b.store_id\n",
    "    WHERE b.business_unit = '1100'\n",
    "),\n",
    "combine AS (\n",
    "    SELECT\n",
    "        a1.dc_id,\n",
    "        a1.xd_dc_id,\n",
    "        b.business_unit,\n",
    "        a.store_id,\n",
    "        b.store_name,\n",
    "        b.is_win_plus,\n",
    "        a.business_model,\n",
    "        b.region_domain_vn mien,\n",
    "        b.city,\n",
    "        c.mch2_id,\n",
    "        a.product_id,\n",
    "        c.product_name,\n",
    "        c.manufacturer_id,\n",
    "        c.manufacturer_name,\n",
    "        d.core_range assortment_type,\n",
    "        a3.is_out,\n",
    "        a1.replenishment_mode,\n",
    "        IF(a2.dc_id IS NULL, 'INACTIVE', 'ACTIVE') dc_sku_status\n",
    "    FROM asrt_list a \n",
    "        LEFT JOIN {catalog_name}.udp_wcm_gold_vcm_dwh.d_store b ON a.store_id = b.store_id\n",
    "        LEFT JOIN {catalog_name}.udp_wcm_gold_vcm_dwh.d_product c ON a.product_id = c.product_id\n",
    "        LEFT JOIN {catalog_name}.udp_wcm_gold_vcm_dwh.d_core_range_assortment d ON\n",
    "            a.store_id = d.store_id AND\n",
    "            a.product_id = d.product_id\n",
    "        LEFT JOIN bu_city_mnf_bz_model_asm_dc_re_model a1 ON\n",
    "            b.business_unit = a1.business_unit AND\n",
    "            b.city = a1.city AND\n",
    "            c.manufacturer_id = a1.manufacturer_id AND\n",
    "            c.sub_manufacturer_id = a1.sub_manufacturer_id\n",
    "        LEFT JOIN dc_sku_active a2 ON a2.dc_id = a1.dc_id AND a2.product_id = a.product_id\n",
    "        LEFT JOIN dc_sku a3 ON a1.dc_id = a3.dc_id AND a.product_id = a3.product_id\n",
    "    WHERE a1.dc_id IS NOT NULL AND a3.product_id IS NOT NULL\n",
    "        AND c.mch2_id IN ('101','102','201','202','203')\n",
    "),\n",
    "main AS (\n",
    "    SELECT *\n",
    "    FROM combine\n",
    "    WHERE mch2_id <> '101'\n",
    "    UNION ALL\n",
    "    SELECT a.*\n",
    "    FROM (SELECT * FROM combine WHERE mch2_id = '101') a\n",
    "    INNER JOIN {catalog_name}.udp_wcm_gold_vcm_dwh.d_winare_dc_fresh_sku b\n",
    "        ON a.dc_id = b.dc_id AND a.product_id = b.product_id\n",
    "),\n",
    "win_plus AS (\n",
    "    SELECT\n",
    "        IF(a.dc_id = '1312' AND a.is_win_plus = 'YES', '1340', a.dc_id) dc_id,\n",
    "        a.* EXCEPT(dc_id)\n",
    "    FROM main a\n",
    "),\n",
    "buildstock_golive AS (\n",
    "    SELECT\n",
    "        IF(b.dc_bs_id IS NULL, a.dc_id, b.dc_bs_id) dc_id,\n",
    "        IF(b.dc_bs_id IS NULL, a.replenishment_mode, \"BS\") replenishment_mode,\n",
    "        a.* EXCEPT(dc_id, replenishment_mode)\n",
    "    FROM win_plus a\n",
    "    LEFT JOIN {catalog_name}.udp_wcm_gold_vcm_dwh.d_winare_buildstock_golive b USING (dc_id, product_id, business_unit)\n",
    "),\n",
    "flowthrough_golive AS (\n",
    "    SELECT\n",
    "        IF(b.dc_ft_id IS NULL, a.dc_id, b.dc_ft_id) dc_id,\n",
    "        IF(b.dc_ft_id IS NULL, a.replenishment_mode, \"FT\") replenishment_mode,\n",
    "        a.* EXCEPT(dc_id, replenishment_mode)\n",
    "    FROM buildstock_golive a\n",
    "    LEFT JOIN {catalog_name}.udp_wcm_gold_vcm_dwh.d_winare_flowthrough_golive b USING (dc_id, product_id, business_unit)\n",
    ")\n",
    "\n",
    "SELECT \n",
    "    a.dc_id,\n",
    "    b.store_name dc_name,\n",
    "    a.* EXCEPT(dc_id)\n",
    " FROM flowthrough_golive a\n",
    " LEFT JOIN {catalog_name}.udp_wcm_gold_vcm_dwh.d_store b ON a.dc_id = b.store_id;\n",
    " \"\"\")\n",
    " "
   ]
  },
  {
   "cell_type": "code",
   "execution_count": 0,
   "metadata": {
    "application/vnd.databricks.v1+cell": {
     "cellMetadata": {
      "byteLimit": 2048000,
      "rowLimit": 10000
     },
     "inputWidgets": {},
     "nuid": "c3c379cb-711d-4268-86b5-909187d7be75",
     "showTitle": false,
     "tableResultSettingsMap": {},
     "title": ""
    }
   },
   "outputs": [],
   "source": [
    "spark.sql(f\"\"\"\n",
    "CREATE TABLE IF NOT EXISTS {catalog_name}.udp_wcm_gold_vcm_dwh.d_store_sku_by_dc_biweekly_his\n",
    "(\n",
    "calday TIMESTAMP,\n",
    "dc_id string,\n",
    "dc_name string,\n",
    "replenishment_mode string,\n",
    "product_id string,\n",
    "business_unit string,\n",
    "store_id string,\n",
    "store_name string,\n",
    "is_win_plus string,\n",
    "business_model string,\n",
    "mien string,\n",
    "city string,\n",
    "mch2_id string,\n",
    "product_name string,\n",
    "manufacturer_id string,\n",
    "manufacturer_name string,\n",
    "assortment_type string,\n",
    "is_out string,\n",
    "dc_sku_status string\n",
    ")\n",
    "TBLPROPERTIES (\n",
    "  'DELTA.AUTOOPTIMIZE.OPTIMIZEWRITE' = 'TRUE',\n",
    "  'DELTA.AUTOOPTIMIZE.AUTOCOMPACT' = 'TRUE'\n",
    ")\n",
    "\"\"\")"
   ]
  },
  {
   "cell_type": "code",
   "execution_count": 0,
   "metadata": {
    "application/vnd.databricks.v1+cell": {
     "cellMetadata": {
      "byteLimit": 2048000,
      "rowLimit": 10000
     },
     "inputWidgets": {},
     "nuid": "1136775e-c8b4-43c1-a8ba-5ba6bc1fda8a",
     "showTitle": false,
     "tableResultSettingsMap": {},
     "title": ""
    }
   },
   "outputs": [],
   "source": [
    "spark.sql(f\"\"\"DELETE FROM {catalog_name}.udp_wcm_gold_vcm_dwh.d_store_sku_by_dc_biweekly_his WHERE calday = DATE(CURRENT_TIMESTAMP() + INTERVAL 7 HOURS);\"\"\")"
   ]
  },
  {
   "cell_type": "code",
   "execution_count": 0,
   "metadata": {
    "application/vnd.databricks.v1+cell": {
     "cellMetadata": {
      "byteLimit": 2048000,
      "rowLimit": 10000
     },
     "inputWidgets": {},
     "nuid": "22944aeb-18ff-42e5-b5ff-b3cdbf967515",
     "showTitle": false,
     "tableResultSettingsMap": {},
     "title": ""
    }
   },
   "outputs": [],
   "source": [
    "spark.sql(f\"\"\"\n",
    "INSERT INTO {catalog_name}.udp_wcm_gold_vcm_dwh.d_store_sku_by_dc_biweekly_his\n",
    "SELECT\n",
    "    DATE(CURRENT_TIMESTAMP() + INTERVAL 7 HOURS) calday,\n",
    "    dc_id,\n",
    "    dc_name,\n",
    "    replenishment_mode,\n",
    "    product_id,\n",
    "    business_unit,\n",
    "    store_id,\n",
    "    store_name,\n",
    "    is_win_plus,\n",
    "    business_model,\n",
    "    mien,\n",
    "    city,\n",
    "    mch2_id,\n",
    "    product_name,\n",
    "    manufacturer_id,\n",
    "    manufacturer_name,\n",
    "    assortment_type,\n",
    "    is_out,\n",
    "    dc_sku_status\n",
    "FROM {catalog_name}.udp_wcm_gold_vcm_dwh.d_store_sku_by_dc_biweekly\n",
    "\"\"\")"
   ]
  }
 ],
 "metadata": {
  "application/vnd.databricks.v1+notebook": {
   "computePreferences": null,
   "dashboards": [],
   "environmentMetadata": {
    "base_environment": "",
    "environment_version": "2"
   },
   "inputWidgetPreferences": null,
   "language": "python",
   "notebookMetadata": {
    "mostRecentlyExecutedCommandWithImplicitDF": {
     "commandId": 6410538414256885,
     "dataframes": [
      "_sqldf"
     ]
    },
    "pythonIndentUnit": 4
   },
   "notebookName": "d_store_sku_by_dc_biweekly",
   "widgets": {}
  },
  "language_info": {
   "name": "python"
  }
 },
 "nbformat": 4,
 "nbformat_minor": 0
}
