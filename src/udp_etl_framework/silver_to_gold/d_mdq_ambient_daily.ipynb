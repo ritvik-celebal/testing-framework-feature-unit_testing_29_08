{
 "cells": [
  {
   "cell_type": "code",
   "execution_count": 0,
   "metadata": {
    "application/vnd.databricks.v1+cell": {
     "cellMetadata": {
      "byteLimit": 2048000,
      "rowLimit": 10000
     },
     "inputWidgets": {},
     "nuid": "8420c115-74b1-4e5f-bc3f-49bd29dad7d7",
     "showTitle": false,
     "tableResultSettingsMap": {},
     "title": ""
    }
   },
   "outputs": [],
   "source": [
    "%run ../utils/common"
   ]
  },
  {
   "cell_type": "code",
   "execution_count": 0,
   "metadata": {
    "application/vnd.databricks.v1+cell": {
     "cellMetadata": {
      "byteLimit": 2048000,
      "rowLimit": 10000
     },
     "inputWidgets": {},
     "nuid": "0ef0e2c6-9ca0-4e0f-a7c5-6f662f53afce",
     "showTitle": false,
     "tableResultSettingsMap": {},
     "title": ""
    }
   },
   "outputs": [],
   "source": [
    "dbutils.widgets.text(\"environment\", \"\", \"\")\n",
    "environment = dbutils.widgets.get(\"environment\")"
   ]
  },
  {
   "cell_type": "code",
   "execution_count": 0,
   "metadata": {
    "application/vnd.databricks.v1+cell": {
     "cellMetadata": {
      "byteLimit": 2048000,
      "rowLimit": 10000
     },
     "inputWidgets": {},
     "nuid": "45873cbb-c159-4364-95be-1bb97b21127b",
     "showTitle": false,
     "tableResultSettingsMap": {},
     "title": ""
    }
   },
   "outputs": [],
   "source": [
    "catalog_name = settings[environment]['catalog_name']"
   ]
  },
  {
   "cell_type": "code",
   "execution_count": 0,
   "metadata": {
    "application/vnd.databricks.v1+cell": {
     "cellMetadata": {
      "byteLimit": 2048000,
      "rowLimit": 10000
     },
     "inputWidgets": {},
     "nuid": "35a26c4a-a36c-4c1d-9f74-1a5390cc484c",
     "showTitle": false,
     "tableResultSettingsMap": {},
     "title": ""
    }
   },
   "outputs": [],
   "source": [
    "spark.sql(f\"\"\"\n",
    "CREATE OR REPLACE TABLE {catalog_name}.udp_wcm_gold_vcm_dwh.d_mdq_ambient_daily \n",
    "TBLPROPERTIES (\n",
    "  'DELTA.AUTOOPTIMIZE.OPTIMIZEWRITE' = 'TRUE',\n",
    "  'DELTA.AUTOOPTIMIZE.AUTOCOMPACT' = 'TRUE'\n",
    ")\n",
    "AS \n",
    "WITH adhoc_dsd AS (\n",
    "    SELECT *\n",
    "    FROM {catalog_name}.udp_wcm_silver_dataportal.winlife_mdq_adhoc \n",
    "    QUALIFY ROW_NUMBER() OVER (PARTITION BY store_id, product_id ORDER BY proc_date DESC) = 1\n",
    "), \n",
    "adhoc_dc AS (\n",
    "    SELECT  \n",
    "        store_id,\n",
    "        product_id,\n",
    "        min_qty mdq\n",
    "    FROM {catalog_name}.udp_wcm_silver_dim.dc_flow_mdq_adhoc\n",
    "    QUALIFY ROW_NUMBER() OVER (PARTITION BY store_id, product_id ORDER BY proc_date DESC) = 1\n",
    "), \n",
    "prev AS (\n",
    "    SELECT *\n",
    "    FROM {catalog_name}.udp_wcm_gold_vcm_dwh.d_mdq_ambient_daily_hist\n",
    "    WHERE calday = (SELECT MAX(calday) FROM {catalog_name}.udp_wcm_gold_vcm_dwh.d_mdq_ambient_daily_hist WHERE calday < DATE(CURRENT_TIMESTAMP() + INTERVAL 7 HOURS)) \n",
    "),\n",
    "mdq AS (\n",
    "    SELECT      \n",
    "        a.store_id,\n",
    "        a.product_id,\n",
    "        IF(a1.store_id IS NULL, 'DSD', 'DC') replenishment_mode,\n",
    "        a.assortment_type,\n",
    "        a4.approval_status AS pog_mdq_approval_status,\n",
    "        CASE \n",
    "            WHEN a4.mdq IS NOT NULL THEN a4.mdq_source\n",
    "            WHEN a1.store_id IS NULL AND a2.mdq IS NOT NULL THEN 'DSD UPLOAD'\n",
    "            WHEN a1.store_id IS NOT NULL AND a3.mdq IS NOT NULL THEN 'DC UPLOAD'\n",
    "            WHEN a.mdq IS NOT NULL THEN 'AUTO MDQ' \n",
    "        END mdq_source,\n",
    "        IFNULL(a4.winare_mdq, IFNULL(IF(a1.store_id IS NULL, a2.mdq, a3.mdq), a.mdq)) mdq,-- WINARE MDQ\n",
    "        IFNULL(a4.external_report_mdq, IFNULL(IF(a1.store_id IS NULL, a2.mdq, a3.mdq), a.mdq)) external_report_mdq,\n",
    "        IFNULL(a4.mdq, IFNULL(IF(a1.store_id IS NULL, a2.mdq, a3.mdq), a.mdq)) internal_report_mdq,\n",
    "        IFNULL(IF(a1.store_id IS NULL, a2.mdq, a3.mdq), a.mdq) old_mdq\n",
    "    FROM {catalog_name}.udp_wcm_gold_vcm_dwh.d_mdq_auto_daily a\n",
    "    LEFT JOIN {catalog_name}.udp_wcm_gold_vcm_dwh.d_store_sku_by_dc a1 \n",
    "        USING (store_id, product_id)\n",
    "    LEFT JOIN adhoc_dsd a2 \n",
    "        ON a.store_id = a2.store_id AND a.product_id = a2.product_id\n",
    "    LEFT JOIN adhoc_dc a3 \n",
    "        ON a.store_id = a3.store_id AND a.product_id = a3.product_id\n",
    "    LEFT JOIN {catalog_name}.udp_wcm_gold_vcm_dwh.d_mdq_pog_store_sku a4 \n",
    "        ON a.store_id = a4.store_id AND a.product_id = a4.product_id\n",
    "),\n",
    "adhoc_win_the_south AS (\n",
    "    SELECT\n",
    "        a.store_id,\n",
    "        a.product_id,\n",
    "        a.replenishment_mode,\n",
    "        a.assortment_type,\n",
    "        a.pog_mdq_approval_status,\n",
    "        IF(b.store_id IS NOT NULL, 'MDQ - WIN THE SOUTH', a.mdq_source) mdq_source,\n",
    "        IF(b.store_id IS NOT NULL, b.mdq, a.mdq) mdq,\n",
    "        a.external_report_mdq,\n",
    "        IF(b.store_id IS NOT NULL, b.mdq, a.internal_report_mdq) internal_report_mdq,\n",
    "        a.old_mdq\n",
    "    FROM mdq a\n",
    "    LEFT JOIN (\n",
    "        SELECT b.store_id, a.product_id, a.mdq\n",
    "        FROM {catalog_name}.udp_wcm_silver_dataportal.d_mdq_sku_adhoc a\n",
    "        CROSS JOIN (\n",
    "            SELECT store_id\n",
    "            FROM {catalog_name}.udp_wcm_gold_vcm_dwh.d_store\n",
    "            WHERE region_domain_vn IN ('Miền Nam', 'Miền Tây') AND business_unit = '2000'\n",
    "        ) b\n",
    "        WHERE DATE(CURRENT_TIMESTAMP() + INTERVAL 7 HOURS) BETWEEN start_date AND end_date\n",
    "    ) b\n",
    "        ON a.store_id = b.store_id AND a.product_id = b.product_id\n",
    ")\n",
    "SELECT DISTINCT\n",
    "    a.*,\n",
    "    IF(IFNULL(a.mdq, 0) = 0, NULL, IFNULL(a1.mdq_age, 0) + 1) mdq_age,\n",
    "    CASE\n",
    "        WHEN a.mdq IS NULL THEN 'NOT AVAILABLE'\n",
    "        WHEN a.mdq IS NOT NULL AND a.mdq <> 0 THEN 'AVAILABLE'\n",
    "        WHEN a.mdq IS NOT NULL AND a.mdq = 0 THEN '0'\n",
    "    END mdq_available\n",
    "FROM adhoc_win_the_south a\n",
    "LEFT JOIN prev a1 USING (store_id, product_id)\n",
    ";\n",
    "\n",
    "\"\"\")"
   ]
  },
  {
   "cell_type": "code",
   "execution_count": 0,
   "metadata": {
    "application/vnd.databricks.v1+cell": {
     "cellMetadata": {
      "byteLimit": 2048000,
      "rowLimit": 10000
     },
     "inputWidgets": {},
     "nuid": "d65ec6dc-ed34-4c02-9c64-eaa1ac8bb71c",
     "showTitle": false,
     "tableResultSettingsMap": {},
     "title": ""
    }
   },
   "outputs": [],
   "source": [
    "spark.sql(f\"\"\"\n",
    "CREATE TABLE IF NOT EXISTS {catalog_name}.udp_wcm_gold_vcm_dwh.d_mdq_ambient_daily_hist\n",
    "(\n",
    "  calday DATE,\n",
    "  store_id STRING,\n",
    "  product_id STRING,\n",
    "  replenishment_mode STRING,\n",
    "  assortment_type STRING,\n",
    "  pog_mdq_approval_status STRING,\n",
    "  mdq_source STRING,\n",
    "  mdq FLOAT,\n",
    "  mdq_age BIGINT,\n",
    "  mdq_available STRING,\n",
    "  external_report_mdq FLOAT,\n",
    "  internal_report_mdq FLOAT,\n",
    "  old_mdq FLOAT\n",
    ")\n",
    "TBLPROPERTIES (\n",
    "  'DELTA.AUTOOPTIMIZE.OPTIMIZEWRITE' = 'TRUE',\n",
    "  'DELTA.AUTOOPTIMIZE.AUTOCOMPACT' = 'TRUE'\n",
    ")\n",
    "\"\"\")"
   ]
  },
  {
   "cell_type": "code",
   "execution_count": 0,
   "metadata": {
    "application/vnd.databricks.v1+cell": {
     "cellMetadata": {
      "byteLimit": 2048000,
      "rowLimit": 10000
     },
     "inputWidgets": {},
     "nuid": "56f07b72-702a-47c0-bdd3-e6645e5510ae",
     "showTitle": false,
     "tableResultSettingsMap": {},
     "title": ""
    }
   },
   "outputs": [],
   "source": [
    "spark.sql(f\"\"\"\n",
    "DELETE FROM {catalog_name}.udp_wcm_gold_vcm_dwh.d_mdq_ambient_daily_hist\n",
    "WHERE CALDAY = DATE(CURRENT_TIMESTAMP() + INTERVAL 7 HOURS);\n",
    "\"\"\")"
   ]
  },
  {
   "cell_type": "code",
   "execution_count": 0,
   "metadata": {
    "application/vnd.databricks.v1+cell": {
     "cellMetadata": {
      "byteLimit": 2048000,
      "rowLimit": 10000
     },
     "inputWidgets": {},
     "nuid": "a0b79d05-6546-40bc-967a-19c229076d11",
     "showTitle": false,
     "tableResultSettingsMap": {},
     "title": ""
    }
   },
   "outputs": [],
   "source": [
    "spark.sql(f\"\"\"\n",
    "INSERT INTO {catalog_name}.udp_wcm_gold_vcm_dwh.d_mdq_ambient_daily_hist\n",
    "SELECT \n",
    "    DATE(CURRENT_TIMESTAMP() + INTERVAL 7 HOURS) calday, \n",
    "    store_id,\n",
    "    product_id,\n",
    "    replenishment_mode,\n",
    "    assortment_type,\n",
    "    pog_mdq_approval_status,\n",
    "    mdq_source,\n",
    "    mdq,\n",
    "    mdq_age,\n",
    "    mdq_available,\n",
    "    external_report_mdq,\n",
    "    internal_report_mdq,\n",
    "    old_mdq\n",
    "FROM {catalog_name}.udp_wcm_gold_vcm_dwh.d_mdq_ambient_daily;\n",
    "\"\"\")"
   ]
  }
 ],
 "metadata": {
  "application/vnd.databricks.v1+notebook": {
   "computePreferences": null,
   "dashboards": [],
   "environmentMetadata": {
    "base_environment": "",
    "environment_version": "2"
   },
   "inputWidgetPreferences": null,
   "language": "python",
   "notebookMetadata": {
    "mostRecentlyExecutedCommandWithImplicitDF": {
     "commandId": 6673494183718509,
     "dataframes": [
      "_sqldf"
     ]
    },
    "pythonIndentUnit": 4
   },
   "notebookName": "d_mdq_ambient_daily",
   "widgets": {
    "environment": {
     "currentValue": "DEV",
     "nuid": "15dc1099-66ac-41e8-98e1-a2709406dbc4",
     "typedWidgetInfo": {
      "autoCreated": false,
      "defaultValue": "",
      "label": "",
      "name": "environment",
      "options": {
       "widgetDisplayType": "Text",
       "validationRegex": null
      },
      "parameterDataType": "String"
     },
     "widgetInfo": {
      "widgetType": "text",
      "defaultValue": "",
      "label": "",
      "name": "environment",
      "options": {
       "widgetType": "text",
       "autoCreated": null,
       "validationRegex": null
      }
     }
    }
   }
  },
  "language_info": {
   "name": "python"
  }
 },
 "nbformat": 4,
 "nbformat_minor": 0
}
