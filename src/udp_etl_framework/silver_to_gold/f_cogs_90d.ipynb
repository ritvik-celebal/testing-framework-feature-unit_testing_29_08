{
 "cells": [
  {
   "cell_type": "code",
   "execution_count": 0,
   "metadata": {
    "application/vnd.databricks.v1+cell": {
     "cellMetadata": {
      "byteLimit": 2048000,
      "rowLimit": 10000
     },
     "inputWidgets": {},
     "nuid": "7b558529-fce3-4a50-b31d-6bf9dba3233c",
     "showTitle": false,
     "tableResultSettingsMap": {},
     "title": ""
    }
   },
   "outputs": [],
   "source": [
    "%run ../utils/common"
   ]
  },
  {
   "cell_type": "code",
   "execution_count": 0,
   "metadata": {
    "application/vnd.databricks.v1+cell": {
     "cellMetadata": {
      "byteLimit": 2048000,
      "rowLimit": 10000
     },
     "inputWidgets": {},
     "nuid": "f4556488-a358-4dca-9e95-8586d2b1fdf1",
     "showTitle": false,
     "tableResultSettingsMap": {},
     "title": ""
    }
   },
   "outputs": [],
   "source": [
    "dbutils.widgets.text(\"environment\", \"\", \"\")\n",
    "dbutils.widgets.text(\"target_dataset\", \"VCM_DWH_PRD\")\n",
    "dbutils.widgets.text(\"target_table\", \"f_cogs_90d\")\n",
    "dbutils.widgets.text(\"metadata_schema\", \"udp_wcm_metadata_dev\")\n",
    "dbutils.widgets.text(\n",
    "    \"dependency_table\",\"VCM_DWH_PRD.F_COGS\"\n",
    ")"
   ]
  },
  {
   "cell_type": "code",
   "execution_count": 0,
   "metadata": {
    "application/vnd.databricks.v1+cell": {
     "cellMetadata": {
      "byteLimit": 2048000,
      "rowLimit": 10000
     },
     "inputWidgets": {},
     "nuid": "e4dae5d7-77a6-4834-9c6f-8eb78c115eb1",
     "showTitle": false,
     "tableResultSettingsMap": {},
     "title": ""
    }
   },
   "outputs": [],
   "source": [
    "catalog_name = settings[environment]['catalog_name']"
   ]
  },
  {
   "cell_type": "code",
   "execution_count": 0,
   "metadata": {
    "application/vnd.databricks.v1+cell": {
     "cellMetadata": {
      "byteLimit": 2048000,
      "rowLimit": 10000
     },
     "inputWidgets": {},
     "nuid": "9b3a445d-8d47-4235-aba0-953dc777a3f7",
     "showTitle": false,
     "tableResultSettingsMap": {},
     "title": ""
    }
   },
   "outputs": [],
   "source": [
    "dbutils.widgets.text(\"field_calday\", \"CALDAY\")\n",
    "dbutils.widgets.text(\"field_id\", \"HASH_ID\")"
   ]
  },
  {
   "cell_type": "code",
   "execution_count": 0,
   "metadata": {
    "application/vnd.databricks.v1+cell": {
     "cellMetadata": {
      "byteLimit": 2048000,
      "rowLimit": 10000
     },
     "inputWidgets": {},
     "nuid": "ee62b784-1659-405b-b9f3-9b538b0412fe",
     "showTitle": false,
     "tableResultSettingsMap": {},
     "title": ""
    }
   },
   "outputs": [],
   "source": [
    "field_calday = dbutils.widgets.get(\"field_calday\")\n",
    "field_id = dbutils.widgets.get(\"field_id\")\n",
    "\n",
    "print(f\"field_calday: {field_calday}\")\n",
    "print(f\"field_id: {field_id}\")"
   ]
  },
  {
   "cell_type": "code",
   "execution_count": 0,
   "metadata": {
    "application/vnd.databricks.v1+cell": {
     "cellMetadata": {
      "byteLimit": 2048000,
      "rowLimit": 10000
     },
     "inputWidgets": {},
     "nuid": "9799858e-4293-4279-b6fb-25dd31b8533d",
     "showTitle": false,
     "tableResultSettingsMap": {},
     "title": ""
    }
   },
   "outputs": [],
   "source": [
    "environment = dbutils.widgets.get(\"environment\")\n",
    "target_dataset = dbutils.widgets.get(\"target_dataset\")\n",
    "target_table = dbutils.widgets.get(\"target_table\")\n",
    "metadata_schema = dbutils.widgets.get(\"metadata_schema\")\n",
    "dependency_table = dbutils.widgets.get(\"dependency_table\")\n",
    "dependency_table = [x.strip().upper() for x in dependency_table.split(\",\")]\n",
    "dependency_table = \"'\" + \"','\".join(dependency_table) + \"'\"\n",
    "print(f\"environment: {environment}\")\n",
    "print(f\"target_dataset: {target_dataset}\")\n",
    "print(f\"target_table: {target_table}\")\n",
    "print(f\"catalog_name: {catalog_name}\")\n",
    "print(f\"metadata_schema: {metadata_schema}\")\n",
    "print(f\"dependency_table: {dependency_table}\")"
   ]
  },
  {
   "cell_type": "code",
   "execution_count": 0,
   "metadata": {
    "application/vnd.databricks.v1+cell": {
     "cellMetadata": {
      "byteLimit": 2048000,
      "rowLimit": 10000
     },
     "inputWidgets": {},
     "nuid": "fbe7f9e0-124d-49bd-b4e4-164e63861ef0",
     "showTitle": false,
     "tableResultSettingsMap": {},
     "title": ""
    }
   },
   "outputs": [],
   "source": [
    "%run \"../common/common_etl_load\""
   ]
  },
  {
   "cell_type": "code",
   "execution_count": 0,
   "metadata": {
    "application/vnd.databricks.v1+cell": {
     "cellMetadata": {
      "byteLimit": 2048000,
      "rowLimit": 10000
     },
     "inputWidgets": {},
     "nuid": "f3e75f83-037f-4afa-befd-0b137589d7f6",
     "showTitle": false,
     "tableResultSettingsMap": {},
     "title": ""
    }
   },
   "outputs": [],
   "source": [
    "spark.sql(f\"\"\"\n",
    "CREATE TABLE IF NOT EXISTS {catalog_name}.udp_wcm_gold_vcm_dwh.f_cogs_90d\n",
    "(\n",
    "    hash_id BIGINT,\n",
    "    calday DATE,\n",
    "    product_id STRING,\n",
    "    store_id STRING,\n",
    "    cogs_90d FLOAT,\n",
    "    cogs_b2b_90d FLOAT,\n",
    "    cogs_qty_90d FLOAT,\n",
    "    cogs_qty_b2b_90d FLOAT,\n",
    "    cogs_60d FLOAT,\n",
    "    cogs_b2b_60d FLOAT,\n",
    "    cogs_qty_60d FLOAT,\n",
    "    cogs_qty_b2b_60d FLOAT,\n",
    "    cogs_30d FLOAT,\n",
    "    cogs_b2b_30d FLOAT,\n",
    "    cogs_qty_30d FLOAT,\n",
    "    cogs_qty_b2b_30d FLOAT,\n",
    "    unit_soh_value FLOAT\n",
    ")\n",
    "TBLPROPERTIES (\n",
    "  'DELTA.AUTOOPTIMIZE.OPTIMIZEWRITE' = 'TRUE',\n",
    "  'DELTA.AUTOOPTIMIZE.AUTOCOMPACT' = 'TRUE'\n",
    ")\n",
    "\"\"\")"
   ]
  },
  {
   "cell_type": "code",
   "execution_count": 0,
   "metadata": {
    "application/vnd.databricks.v1+cell": {
     "cellMetadata": {
      "byteLimit": 2048000,
      "rowLimit": 10000
     },
     "inputWidgets": {},
     "nuid": "81b936cb-6c77-49b8-bc5e-b08390a8eaa3",
     "showTitle": false,
     "tableResultSettingsMap": {},
     "title": ""
    }
   },
   "outputs": [],
   "source": [
    "if CALDAY_IN_STR != '':\n",
    "    spark.sql(f\"\"\"\n",
    "    CREATE OR REPLACE TEMP VIEW temp_f_cogs_90d AS\n",
    "    WITH table_date AS (\n",
    "        SELECT EXPLODE(SEQUENCE(date({START_DATE}), date({END_DATE}), INTERVAL 1 DAY)) AS date_gen_c\n",
    "    ),\n",
    "    calculate_table AS (\n",
    "        SELECT\n",
    "            calday,\n",
    "            product_id,\n",
    "            store_id,\n",
    "            SUM(cost) AS cogs,\n",
    "            SUM(cost_b2b) AS cogs_b2b,\n",
    "            SUM(quantity) AS quantity,\n",
    "            SUM(quantity_b2b) AS quantity_b2b\n",
    "        FROM {catalog_name}.udp_wcm_gold_vcm_dwh.f_cogs\n",
    "        WHERE calday >= DATE_SUB(DATE({START_DATE}), 90)\n",
    "            AND calday <= DATE({END_DATE})\n",
    "            AND product_id != 'DUMMY'\n",
    "        GROUP BY \n",
    "            calday,\n",
    "            product_id,\n",
    "            store_id\n",
    "    ),\n",
    "    main AS (\n",
    "        SELECT\n",
    "            farm_fingerprint(CONCAT(\n",
    "                IFNULL(CAST(d.date_gen_c AS STRING), \"\"),\n",
    "                IFNULL(CAST(c.store_id AS STRING), \"\"),\n",
    "                IFNULL(CAST(c.product_id AS STRING), \"\")\n",
    "            )) AS hash_id,\n",
    "            d.date_gen_c AS calday,\n",
    "            c.product_id,\n",
    "            c.store_id,\n",
    "            SUM(c.cogs) AS cogs_90d,\n",
    "            SUM(c.cogs_b2b) AS cogs_b2b_90d,\n",
    "            SUM(c.quantity) AS cogs_qty_90d,\n",
    "            SUM(c.quantity_b2b) AS cogs_qty_b2b_90d,\n",
    "            SUM(IF(c.calday > DATE_SUB(DATE(d.date_gen_c), 60), c.cogs, 0)) AS cogs_60d,\n",
    "            SUM(IF(c.calday > DATE_SUB(DATE(d.date_gen_c), 60), c.cogs_b2b, 0)) AS cogs_b2b_60d,\n",
    "            SUM(IF(c.calday > DATE_SUB(DATE(d.date_gen_c), 60), c.quantity, 0)) AS cogs_qty_60d,\n",
    "            SUM(IF(c.calday > DATE_SUB(DATE(d.date_gen_c), 60), c.quantity_b2b, 0)) AS cogs_qty_b2b_60d,\n",
    "            SUM(IF(c.calday > DATE_SUB(DATE(d.date_gen_c), 30), c.cogs, 0)) AS cogs_30d,\n",
    "            SUM(IF(c.calday > DATE_SUB(DATE(d.date_gen_c), 30), c.cogs_b2b, 0)) AS cogs_b2b_30d,\n",
    "            SUM(IF(c.calday > DATE_SUB(DATE(d.date_gen_c), 30), c.quantity, 0)) AS cogs_qty_30d,\n",
    "            SUM(IF(c.calday > DATE_SUB(DATE(d.date_gen_c), 30), c.quantity_b2b, 0)) AS cogs_qty_b2b_30d\n",
    "        FROM table_date d\n",
    "        INNER JOIN calculate_table c\n",
    "            ON c.calday > DATE_SUB(DATE(d.date_gen_c), 90)\n",
    "                AND d.date_gen_c >= c.calday\n",
    "        GROUP BY\n",
    "            d.date_gen_c,\n",
    "            c.product_id,\n",
    "            c.store_id\n",
    "    )\n",
    "\n",
    "    SELECT\n",
    "    *,\n",
    "    IFNULL(\n",
    "        try_divide(cogs_30d, ROUND(cogs_qty_30d, 3)),\n",
    "        IFNULL(\n",
    "        try_divide(cogs_60d, ROUND(cogs_qty_60d, 3)),\n",
    "        try_divide(cogs_90d, ROUND(cogs_qty_90d, 3))\n",
    "        )\n",
    "    ) AS unit_soh_value\n",
    "    FROM main\n",
    "    \"\"\")"
   ]
  },
  {
   "cell_type": "code",
   "execution_count": 0,
   "metadata": {
    "application/vnd.databricks.v1+cell": {
     "cellMetadata": {
      "byteLimit": 2048000,
      "rowLimit": 10000
     },
     "inputWidgets": {},
     "nuid": "46a6f0bf-8ab5-40c5-84e3-0fc1db5fd880",
     "showTitle": false,
     "tableResultSettingsMap": {},
     "title": ""
    }
   },
   "outputs": [],
   "source": [
    "if CALDAY_IN_STR != '':\n",
    "    # Get the calday list string from temp table\n",
    "    calday_query = \"\"\"\n",
    "    SELECT\n",
    "        CONCAT(\"'\", CONCAT_WS(\"','\", COLLECT_SET(CAST(TO_DATE(calday, 'yyyy-MM-dd') AS STRING))), \"'\") AS calday_in_str\n",
    "    FROM temp_f_cogs_90d\n",
    "    \"\"\"\n",
    "\n",
    "    calday_df = spark.sql(calday_query)\n",
    "    calday_in_str = calday_df.collect()[0][0]\n",
    "\n",
    "    # Only run DELETE if the string is non-empty\n",
    "    if calday_in_str.strip(\"'\"):  # checks if there's any date inside the quotes\n",
    "        spark.sql(f\"\"\"\n",
    "        DELETE FROM {catalog_name}.udp_wcm_gold_vcm_dwh.f_cogs_90d\n",
    "        WHERE calday IN ({calday_in_str})\n",
    "        \"\"\")\n",
    "    else:\n",
    "        print(\"No valid CALDAYs found to delete.\") "
   ]
  },
  {
   "cell_type": "code",
   "execution_count": 0,
   "metadata": {
    "application/vnd.databricks.v1+cell": {
     "cellMetadata": {
      "byteLimit": 2048000,
      "rowLimit": 10000
     },
     "inputWidgets": {},
     "nuid": "04b54c92-2f60-4d5d-9fb3-03d52c4becdb",
     "showTitle": false,
     "tableResultSettingsMap": {},
     "title": ""
    }
   },
   "outputs": [],
   "source": [
    "if CALDAY_IN_STR != \"\":\n",
    "    # Insert rows from temp table into main table\n",
    "    INSERT_ROW = \", \".join(\n",
    "        spark.table(f\"{catalog_name}.udp_wcm_gold_vcm_dwh.f_cogs_90d\").columns\n",
    "    )\n",
    "    spark.sql(\n",
    "        f\"\"\"\n",
    "        INSERT INTO {catalog_name}.udp_wcm_gold_vcm_dwh.f_cogs_90d ({INSERT_ROW})\n",
    "        SELECT {INSERT_ROW} FROM temp_{target_table}\n",
    "    \"\"\"\n",
    "    ).display()\n",
    "else:\n",
    "    print(\n",
    "        f\"temp_{target_table} could't be created as no valid calday's found In common-etl so {catalog_name}.udp_wcm_gold_vcm_dwh.f_cogs_90d can't be inserted using calday's from temp_{target_table}\"\n",
    "    )"
   ]
  },
  {
   "cell_type": "code",
   "execution_count": 0,
   "metadata": {
    "application/vnd.databricks.v1+cell": {
     "cellMetadata": {
      "byteLimit": 2048000,
      "rowLimit": 10000
     },
     "inputWidgets": {},
     "nuid": "a7df0a86-98c2-4536-b53b-7eed71c937ec",
     "showTitle": false,
     "tableResultSettingsMap": {},
     "title": ""
    }
   },
   "outputs": [],
   "source": [
    "if CALDAY_IN_STR == '':\n",
    "    dbutils.notebook.exit(\"No valid calday's found In common-etl to insert data into Table: ETL_LOG_DEPENDENCIES and ETL_DELTA_TABLE and \")"
   ]
  },
  {
   "cell_type": "code",
   "execution_count": 0,
   "metadata": {
    "application/vnd.databricks.v1+cell": {
     "cellMetadata": {
      "byteLimit": 2048000,
      "rowLimit": 10000
     },
     "inputWidgets": {},
     "nuid": "b437bdef-b8e2-447e-b3ad-4f2d20be5e09",
     "showTitle": false,
     "tableResultSettingsMap": {},
     "title": ""
    }
   },
   "outputs": [],
   "source": [
    "%run \"../common/common_etl_update\""
   ]
  },
  {
   "cell_type": "code",
   "execution_count": 0,
   "metadata": {
    "application/vnd.databricks.v1+cell": {
     "cellMetadata": {
      "byteLimit": 2048000,
      "rowLimit": 10000
     },
     "inputWidgets": {},
     "nuid": "9dbaf5c8-8a87-4ab4-a355-c20ddc7c5e77",
     "showTitle": false,
     "tableResultSettingsMap": {},
     "title": ""
    }
   },
   "outputs": [],
   "source": [
    "spark.sql(f\"\"\"DROP VIEW IF EXISTS temp_{target_table}\"\"\")"
   ]
  }
 ],
 "metadata": {
  "application/vnd.databricks.v1+notebook": {
   "computePreferences": null,
   "dashboards": [],
   "environmentMetadata": {
    "base_environment": "",
    "environment_version": "2"
   },
   "inputWidgetPreferences": null,
   "language": "python",
   "notebookMetadata": {
    "mostRecentlyExecutedCommandWithImplicitDF": {
     "commandId": 6350561386716955,
     "dataframes": [
      "_sqldf"
     ]
    },
    "pythonIndentUnit": 4
   },
   "notebookName": "f_cogs_90d",
   "widgets": {
    "dependency_table": {
     "currentValue": "VCM_DWH_PRD.F_COGS",
     "nuid": "bb91c24a-2413-43fa-bb95-4975dce59989",
     "typedWidgetInfo": {
      "autoCreated": false,
      "defaultValue": "VCM_DWH_PRD.F_COGS",
      "label": null,
      "name": "dependency_table",
      "options": {
       "widgetDisplayType": "Text",
       "validationRegex": null
      },
      "parameterDataType": "String"
     },
     "widgetInfo": {
      "widgetType": "text",
      "defaultValue": "VCM_DWH_PRD.F_COGS",
      "label": null,
      "name": "dependency_table",
      "options": {
       "widgetType": "text",
       "autoCreated": null,
       "validationRegex": null
      }
     }
    },
    "environment": {
     "currentValue": "DEV",
     "nuid": "c83cf1dc-060a-442a-9b07-21950d908966",
     "typedWidgetInfo": {
      "autoCreated": false,
      "defaultValue": "",
      "label": "",
      "name": "environment",
      "options": {
       "widgetDisplayType": "Text",
       "validationRegex": null
      },
      "parameterDataType": "String"
     },
     "widgetInfo": {
      "widgetType": "text",
      "defaultValue": "",
      "label": "",
      "name": "environment",
      "options": {
       "widgetType": "text",
       "autoCreated": null,
       "validationRegex": null
      }
     }
    },
    "field_calday": {
     "currentValue": "CALDAY",
     "nuid": "045e2f1e-75f1-4d4f-9d09-a926e7d95947",
     "typedWidgetInfo": {
      "autoCreated": false,
      "defaultValue": "CALDAY",
      "label": null,
      "name": "field_calday",
      "options": {
       "widgetDisplayType": "Text",
       "validationRegex": null
      },
      "parameterDataType": "String"
     },
     "widgetInfo": {
      "widgetType": "text",
      "defaultValue": "CALDAY",
      "label": null,
      "name": "field_calday",
      "options": {
       "widgetType": "text",
       "autoCreated": false,
       "validationRegex": null
      }
     }
    },
    "field_id": {
     "currentValue": "HASH_ID",
     "nuid": "3a1ac305-134a-48ff-be14-a6ec2c86d18e",
     "typedWidgetInfo": {
      "autoCreated": false,
      "defaultValue": "HASH_ID",
      "label": null,
      "name": "field_id",
      "options": {
       "widgetDisplayType": "Text",
       "validationRegex": null
      },
      "parameterDataType": "String"
     },
     "widgetInfo": {
      "widgetType": "text",
      "defaultValue": "HASH_ID",
      "label": null,
      "name": "field_id",
      "options": {
       "widgetType": "text",
       "autoCreated": false,
       "validationRegex": null
      }
     }
    },
    "metadata_schema": {
     "currentValue": "udp_wcm_metadata_dev",
     "nuid": "9dcabb27-d0e3-48b1-b12c-4d8788114910",
     "typedWidgetInfo": {
      "autoCreated": false,
      "defaultValue": "udp_wcm_metadata_dev",
      "label": null,
      "name": "metadata_schema",
      "options": {
       "widgetDisplayType": "Text",
       "validationRegex": null
      },
      "parameterDataType": "String"
     },
     "widgetInfo": {
      "widgetType": "text",
      "defaultValue": "udp_wcm_metadata_dev",
      "label": null,
      "name": "metadata_schema",
      "options": {
       "widgetType": "text",
       "autoCreated": null,
       "validationRegex": null
      }
     }
    },
    "proc_date": {
     "currentValue": "2025-07-21",
     "nuid": "f7e98d3a-b9e6-450b-be09-5f7df9ca12fd",
     "typedWidgetInfo": {
      "autoCreated": false,
      "defaultValue": "2025-07-21",
      "label": null,
      "name": "proc_date",
      "options": {
       "widgetDisplayType": "Text",
       "validationRegex": null
      },
      "parameterDataType": "String"
     },
     "widgetInfo": {
      "widgetType": "text",
      "defaultValue": "2025-07-21",
      "label": null,
      "name": "proc_date",
      "options": {
       "widgetType": "text",
       "autoCreated": false,
       "validationRegex": null
      }
     }
    },
    "target_dataset": {
     "currentValue": "VCM_DWH_PRD",
     "nuid": "d2939306-5341-45f3-951c-0ea5dcf00c04",
     "typedWidgetInfo": {
      "autoCreated": false,
      "defaultValue": "VCM_DWH_PRD",
      "label": null,
      "name": "target_dataset",
      "options": {
       "widgetDisplayType": "Text",
       "validationRegex": null
      },
      "parameterDataType": "String"
     },
     "widgetInfo": {
      "widgetType": "text",
      "defaultValue": "VCM_DWH_PRD",
      "label": null,
      "name": "target_dataset",
      "options": {
       "widgetType": "text",
       "autoCreated": null,
       "validationRegex": null
      }
     }
    },
    "target_table": {
     "currentValue": "f_cogs_90d",
     "nuid": "3e1256ed-58e8-4552-a8ca-fc4ebaf4aa8f",
     "typedWidgetInfo": {
      "autoCreated": false,
      "defaultValue": "f_cogs_90d",
      "label": null,
      "name": "target_table",
      "options": {
       "widgetDisplayType": "Text",
       "validationRegex": null
      },
      "parameterDataType": "String"
     },
     "widgetInfo": {
      "widgetType": "text",
      "defaultValue": "f_cogs_90d",
      "label": null,
      "name": "target_table",
      "options": {
       "widgetType": "text",
       "autoCreated": null,
       "validationRegex": null
      }
     }
    }
   }
  },
  "language_info": {
   "name": "python"
  }
 },
 "nbformat": 4,
 "nbformat_minor": 0
}
