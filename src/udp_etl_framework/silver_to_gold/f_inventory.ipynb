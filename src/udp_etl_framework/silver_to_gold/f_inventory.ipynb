{
 "cells": [
  {
   "cell_type": "code",
   "execution_count": 0,
   "metadata": {
    "application/vnd.databricks.v1+cell": {
     "cellMetadata": {
      "byteLimit": 2048000,
      "rowLimit": 10000
     },
     "inputWidgets": {},
     "nuid": "1e38ac82-8f46-412d-9fc7-1fadd51f7b6a",
     "showTitle": false,
     "tableResultSettingsMap": {},
     "title": ""
    }
   },
   "outputs": [],
   "source": [
    "%run ../utils/common"
   ]
  },
  {
   "cell_type": "code",
   "execution_count": 0,
   "metadata": {
    "application/vnd.databricks.v1+cell": {
     "cellMetadata": {
      "byteLimit": 2048000,
      "rowLimit": 10000
     },
     "inputWidgets": {},
     "nuid": "687507b0-3b26-4cff-848e-0a4c044ccaa8",
     "showTitle": false,
     "tableResultSettingsMap": {},
     "title": ""
    }
   },
   "outputs": [],
   "source": [
    "dbutils.widgets.text(\"environment\", \"\", \"\")\n",
    "dbutils.widgets.text(\"target_dataset\", \"VCM_DWH_PRD\")\n",
    "dbutils.widgets.text(\"target_table\", \"f_inventory\")\n",
    "dbutils.widgets.text(\"metadata_schema\", \"udp_wcm_metadata_dev\")\n",
    "dbutils.widgets.text(\n",
    "    \"dependency_table\",\"VCM_DWH_PRD.F_STAGING_INVENTORY, VCM_STG_INF.SAP_0PLANT\"\n",
    ")"
   ]
  },
  {
   "cell_type": "code",
   "execution_count": 0,
   "metadata": {
    "application/vnd.databricks.v1+cell": {
     "cellMetadata": {
      "byteLimit": 2048000,
      "rowLimit": 10000
     },
     "inputWidgets": {},
     "nuid": "17509ee9-03a0-4f1a-a225-a3b9e638233e",
     "showTitle": false,
     "tableResultSettingsMap": {},
     "title": ""
    }
   },
   "outputs": [],
   "source": [
    "catalog_name = settings[environment]['catalog_name']"
   ]
  },
  {
   "cell_type": "code",
   "execution_count": 0,
   "metadata": {
    "application/vnd.databricks.v1+cell": {
     "cellMetadata": {
      "byteLimit": 2048000,
      "rowLimit": 10000
     },
     "inputWidgets": {},
     "nuid": "f89518f6-c79d-4f4e-8c23-c8f73eec3781",
     "showTitle": false,
     "tableResultSettingsMap": {},
     "title": ""
    }
   },
   "outputs": [],
   "source": [
    "dbutils.widgets.text(\"field_calday\", \"CALDAY\")\n",
    "dbutils.widgets.text(\"field_id\", \"HASH_ID\")"
   ]
  },
  {
   "cell_type": "code",
   "execution_count": 0,
   "metadata": {
    "application/vnd.databricks.v1+cell": {
     "cellMetadata": {
      "byteLimit": 2048000,
      "rowLimit": 10000
     },
     "inputWidgets": {},
     "nuid": "0e2ea250-7153-4298-ae30-d5b66a3934d4",
     "showTitle": false,
     "tableResultSettingsMap": {},
     "title": ""
    }
   },
   "outputs": [],
   "source": [
    "environment = dbutils.widgets.get(\"environment\")\n",
    "target_dataset = dbutils.widgets.get(\"target_dataset\")\n",
    "target_table = dbutils.widgets.get(\"target_table\")\n",
    "metadata_schema = dbutils.widgets.get(\"metadata_schema\")\n",
    "dependency_table = dbutils.widgets.get(\"dependency_table\")\n",
    "dependency_table = [x.strip().upper() for x in dependency_table.split(\",\")]\n",
    "dependency_table = \"'\" + \"','\".join(dependency_table) + \"'\"\n",
    "\n",
    "print(f\"environment: {environment}\")\n",
    "print(f\"target_dataset: {target_dataset}\")\n",
    "print(f\"target_table: {target_table}\")\n",
    "print(f\"catalog_name: {catalog_name}\")\n",
    "print(f\"metadata_schema: {metadata_schema}\")\n",
    "print(f\"dependency_table: {dependency_table}\")"
   ]
  },
  {
   "cell_type": "code",
   "execution_count": 0,
   "metadata": {
    "application/vnd.databricks.v1+cell": {
     "cellMetadata": {
      "byteLimit": 2048000,
      "rowLimit": 10000
     },
     "inputWidgets": {},
     "nuid": "b7092ae8-dd03-4ae0-b827-d7e5490bfdf1",
     "showTitle": false,
     "tableResultSettingsMap": {},
     "title": ""
    }
   },
   "outputs": [],
   "source": [
    "field_calday = dbutils.widgets.get(\"field_calday\")\n",
    "field_id = dbutils.widgets.get(\"field_id\")\n",
    "\n",
    "print(f\"field_calday: {field_calday}\")\n",
    "print(f\"field_id: {field_id}\")"
   ]
  },
  {
   "cell_type": "code",
   "execution_count": 0,
   "metadata": {
    "application/vnd.databricks.v1+cell": {
     "cellMetadata": {
      "byteLimit": 2048000,
      "rowLimit": 10000
     },
     "inputWidgets": {},
     "nuid": "113d479a-cc95-44bb-a039-7552f21cc890",
     "showTitle": false,
     "tableResultSettingsMap": {},
     "title": ""
    }
   },
   "outputs": [],
   "source": [
    "%run \"../common/common_etl_load\""
   ]
  },
  {
   "cell_type": "code",
   "execution_count": 0,
   "metadata": {
    "application/vnd.databricks.v1+cell": {
     "cellMetadata": {
      "byteLimit": 2048000,
      "rowLimit": 10000
     },
     "inputWidgets": {},
     "nuid": "dc612018-ffa0-4d0a-8dee-6894b5550216",
     "showTitle": false,
     "tableResultSettingsMap": {},
     "title": ""
    }
   },
   "outputs": [],
   "source": [
    "spark.sql(f\"\"\"\n",
    "CREATE TABLE IF NOT EXISTS {catalog_name}.udp_wcm_gold_vcm_dwh.f_inventory\n",
    "(\n",
    "  hash_id STRING,\n",
    "  calday DATE,\n",
    "  store_id STRING,\n",
    "  product_id STRING,\n",
    "  closing_stock_quantity FLOAT,\n",
    "  closing_stock_value FLOAT,\n",
    "  addr_numbr STRING\n",
    ")\"\"\")"
   ]
  },
  {
   "cell_type": "code",
   "execution_count": 0,
   "metadata": {
    "application/vnd.databricks.v1+cell": {
     "cellMetadata": {
      "byteLimit": 2048000,
      "rowLimit": 10000
     },
     "inputWidgets": {},
     "nuid": "5e58143b-8354-4a59-8c93-23b4bda81473",
     "showTitle": false,
     "tableResultSettingsMap": {},
     "title": ""
    }
   },
   "outputs": [],
   "source": [
    "if CALDAY_IN_STR != '':\n",
    "    spark.sql(f\"\"\"\n",
    "    CREATE OR REPLACE TEMP VIEW temp_f_inventory\n",
    "    AS\n",
    "    WITH table_date AS (\n",
    "            SELECT col AS date_gen\n",
    "            FROM EXPLODE(SEQUENCE(DATE {START_DATE}, DATE {END_DATE}, INTERVAL 1 DAY)) AS date_gen\n",
    "            WHERE col <= CURRENT_DATE()\n",
    "    ),\n",
    "\n",
    "    add_rec AS (\n",
    "    SELECT plant, addr_numbr FROM (\n",
    "        SELECT *, ROW_NUMBER() OVER (PARTITION BY plant ORDER BY END_DATE DESC) rn \n",
    "        FROM  {catalog_name}.udp_wcm_silver_sap_bw.sap_0plant\n",
    "        WHERE IF(addr_numbr='',NULL,addr_numbr) IS NOT NULL\n",
    "        )\n",
    "    WHERE rn = 1\n",
    "    ),\n",
    "\n",
    "    main AS (\n",
    "        SELECT * EXCEPT(rn, date_from, date_to)\n",
    "        FROM ( \n",
    "            SELECT \n",
    "                date_gen calday,\n",
    "                store_id,\n",
    "                product_id,\n",
    "                closing_stock_quantity,\n",
    "                closing_stock_value,\n",
    "                ROW_NUMBER() OVER (PARTITION BY store_id, product_id, CAST(closing_stock_quantity AS NUMERIC), CAST(closing_stock_value AS NUMERIC) ORDER BY date_gen ASC) rn,\n",
    "                date_from,\n",
    "                DATE_SUB(IFNULL(date_to, '2400-01-01'),1) date_to\n",
    "            FROM table_date \n",
    "            INNER JOIN (\n",
    "                SELECT\n",
    "                    calday,\n",
    "                    store_id,\n",
    "                    product_id,\n",
    "                    ROUND(SUM(closing_stock_quantity) OVER (PARTITION BY store_id, product_id ORDER BY calday ASC),3) closing_stock_quantity,\n",
    "                    SUM(closing_stock_value) OVER (PARTITION BY store_id, product_id ORDER BY calday ASC) closing_stock_value,\n",
    "                    calday date_from,\n",
    "                    LEAD(calday) OVER (PARTITION BY store_id, product_id ORDER BY calday ASC) date_to\n",
    "                FROM (\n",
    "                    SELECT calday, store_id, product_id, closing_stock_quantity, closing_stock_value \n",
    "                    FROM {catalog_name}.udp_wcm_gold_vcm_dwh.f_staging_inventory\n",
    "                    WHERE calday >=  {START_DATE} AND calday <= {END_DATE} AND calday <= CURRENT_DATE()\n",
    "                    \n",
    "                    UNION ALL\n",
    "                    \n",
    "                    SELECT calday, store_id, product_id, closing_stock_quantity, closing_stock_value \n",
    "                    FROM   {catalog_name}.udp_wcm_gold_vcm_dwh.f_inventory  \n",
    "                    WHERE calday = DATE_SUB( {START_DATE}, 1)\n",
    "                ) a\n",
    "            ) i\n",
    "            ON date_gen >= calday AND (date_gen < date_to OR date_to IS NULL)\n",
    "        ) a WHERE closing_stock_quantity != 0 OR closing_stock_value != 0 OR rn = 1\n",
    "    ),\n",
    "\n",
    "    wcm AS (\n",
    "        SELECT a.*, IFNULL(b.addr_numbr, c.addr_numbr) addr_numbr\n",
    "        FROM        main a\n",
    "        LEFT JOIN   add_rec b ON a.store_id = b.plant\n",
    "        LEFT JOIN   {catalog_name}.udp_wcm_gold_vcm_dwh.d_franchise_config c ON a.store_id = c.store_id\n",
    "    ),\n",
    "\n",
    "    franchise AS (\n",
    "        SELECT  \n",
    "            calday - 1 calday,\n",
    "            a.store_id,\n",
    "            a.article_id AS product_id,\n",
    "            a.stock_qty AS closing_stock_quantity,\n",
    "            IFNULL(a.cost_price, '0') * IFNULL(a.stock_qty, '0') AS closing_stock_value,\n",
    "            c.addr_numbr\n",
    "        FROM {catalog_name}.udp_wcm_silver_rop.fms_skustock a\n",
    "        JOIN {catalog_name}.udp_wcm_gold_vcm_dwh.d_franchise_config c ON a.store_id = c.store_id\n",
    "        WHERE DATE_SUB(a.calday, 1) BETWEEN DATE({START_DATE}) AND DATE({END_DATE}) AND a.stock_qty IS NOT NULL\n",
    "    ), \n",
    "    \n",
    "    total AS (\n",
    "        SELECT      calday,\n",
    "                    CASE WHEN c.store_id IS NOT NULL \n",
    "                    AND a.calday >= c.cutoff_date \n",
    "                    THEN c.store_id ELSE a.store_id END AS store_id,\n",
    "                    product_id,\n",
    "                    closing_stock_quantity,\n",
    "                    closing_stock_value,\n",
    "                    a.addr_numbr\n",
    "        FROM        wcm a\n",
    "        LEFT JOIN {catalog_name}.udp_wcm_gold_vcm_dwh.d_franchise_config c \n",
    "        ON a.store_id = c.ref_fc_store\n",
    "        UNION ALL\n",
    "        SELECT  calday,\n",
    "                store_id,\n",
    "                product_id,\n",
    "                closing_stock_quantity,\n",
    "                closing_stock_value,\n",
    "                addr_numbr\n",
    "        FROM    franchise\n",
    "    )\n",
    "    SELECT      \n",
    "        FARM_FINGERPRINT(CONCAT(\n",
    "            IFNULL(CAST(calday AS STRING), \"\"), \n",
    "            IFNULL(CAST(addr_numbr AS STRING), \"\"), \n",
    "            IFNULL(CAST(product_id AS STRING), \"\")\n",
    "    )) hash_id,\n",
    "    calday,\n",
    "    store_id,\n",
    "    product_id,\n",
    "    SUM(closing_stock_quantity) closing_stock_quantity,\n",
    "    SUM(closing_stock_value) closing_stock_value,\n",
    "    addr_numbr\n",
    "    FROM total\n",
    "    GROUP BY hash_id, calday, store_id, product_id, addr_numbr\n",
    "    \"\"\")"
   ]
  },
  {
   "cell_type": "code",
   "execution_count": 0,
   "metadata": {
    "application/vnd.databricks.v1+cell": {
     "cellMetadata": {
      "byteLimit": 2048000,
      "rowLimit": 10000
     },
     "inputWidgets": {},
     "nuid": "bcb85e30-c6f4-44c9-aadc-0d45a3733037",
     "showTitle": false,
     "tableResultSettingsMap": {},
     "title": ""
    }
   },
   "outputs": [],
   "source": [
    "if CALDAY_IN_STR != '':\n",
    "    # Get the calday list string from temp table\n",
    "    calday_query = \"\"\"\n",
    "    SELECT\n",
    "        CONCAT(\"'\", CONCAT_WS(\"','\", COLLECT_SET(CAST(TO_DATE(calday, 'yyyy-MM-dd') AS STRING))), \"'\") AS calday_in_str\n",
    "    FROM temp_f_inventory\n",
    "    \"\"\"\n",
    "\n",
    "    calday_df = spark.sql(calday_query)\n",
    "    calday_in_str = calday_df.collect()[0][0]\n",
    "\n",
    "    # Only run DELETE if the string is non-empt\n",
    "    if calday_in_str.strip(\"'\"):  # checks if there's any date inside the quotes\n",
    "        spark.sql(f\"\"\"\n",
    "        DELETE FROM {catalog_name}.udp_wcm_gold_vcm_dwh.f_inventory\n",
    "        WHERE calday IN ({calday_in_str})\n",
    "        \"\"\")\n",
    "    else:\n",
    "        print(\"No valid CALDAYs found to delete.\")\n",
    "        \n",
    "else:\n",
    "    print(f\"No valid calday's found In common-etl to create the view: temp_{target_table}\")"
   ]
  },
  {
   "cell_type": "code",
   "execution_count": 0,
   "metadata": {
    "application/vnd.databricks.v1+cell": {
     "cellMetadata": {
      "byteLimit": 2048000,
      "rowLimit": 10000
     },
     "inputWidgets": {},
     "nuid": "9b05abe0-5e3f-4245-9e3e-3d09ba67ac36",
     "showTitle": false,
     "tableResultSettingsMap": {},
     "title": ""
    }
   },
   "outputs": [],
   "source": [
    "if CALDAY_IN_STR != \"\":\n",
    "    # Insert rows from temp table into main table\n",
    "    INSERT_ROW = \", \".join(\n",
    "        spark.table(f\"{catalog_name}.udp_wcm_gold_vcm_dwh.f_inventory\").columns\n",
    "    )\n",
    "    spark.sql(\n",
    "        f\"\"\"\n",
    "        INSERT INTO {catalog_name}.udp_wcm_gold_vcm_dwh.f_inventory ({INSERT_ROW})\n",
    "        SELECT {INSERT_ROW} FROM temp_{target_table}\n",
    "    \"\"\"\n",
    "    ).display()\n",
    "else:\n",
    "    print(\n",
    "        f\"temp_{target_table} could't be created as no valid calday's found In common-etl so {catalog_name}.udp_wcm_gold_vcm_dwh.f_inventory can't be inserted using calday's from temp_{target_table}\"\n",
    "    )"
   ]
  },
  {
   "cell_type": "code",
   "execution_count": 0,
   "metadata": {
    "application/vnd.databricks.v1+cell": {
     "cellMetadata": {
      "byteLimit": 2048000,
      "rowLimit": 10000
     },
     "inputWidgets": {},
     "nuid": "e6c564f5-472f-4436-946f-29b17be80569",
     "showTitle": false,
     "tableResultSettingsMap": {},
     "title": ""
    }
   },
   "outputs": [],
   "source": [
    "spark.sql(f\"\"\"DROP VIEW IF EXISTS temp_f_inventory\"\"\")"
   ]
  },
  {
   "cell_type": "code",
   "execution_count": 0,
   "metadata": {
    "application/vnd.databricks.v1+cell": {
     "cellMetadata": {
      "byteLimit": 2048000,
      "rowLimit": 10000
     },
     "inputWidgets": {},
     "nuid": "20a4b213-dd98-45bb-a859-2d8cfa10684b",
     "showTitle": false,
     "tableResultSettingsMap": {},
     "title": ""
    }
   },
   "outputs": [],
   "source": [
    "if CALDAY_IN_STR == '':\n",
    "    dbutils.notebook.exit(\"No valid calday's found In common-etl to insert data into Table: ETL_LOG_DEPENDENCIES and ETL_DELTA_TABLE and \")"
   ]
  },
  {
   "cell_type": "code",
   "execution_count": 0,
   "metadata": {
    "application/vnd.databricks.v1+cell": {
     "cellMetadata": {
      "byteLimit": 2048000,
      "rowLimit": 10000
     },
     "inputWidgets": {},
     "nuid": "a978765c-4159-4aea-917f-53ee8eb7d9c7",
     "showTitle": false,
     "tableResultSettingsMap": {},
     "title": ""
    }
   },
   "outputs": [],
   "source": [
    "%run \"../common/common_etl_update\""
   ]
  }
 ],
 "metadata": {
  "application/vnd.databricks.v1+notebook": {
   "computePreferences": null,
   "dashboards": [],
   "environmentMetadata": {
    "base_environment": "",
    "environment_version": "2"
   },
   "inputWidgetPreferences": null,
   "language": "python",
   "notebookMetadata": {
    "mostRecentlyExecutedCommandWithImplicitDF": {
     "commandId": 6410538414243882,
     "dataframes": [
      "_sqldf"
     ]
    },
    "pythonIndentUnit": 4
   },
   "notebookName": "f_inventory",
   "widgets": {
    "dependency_table": {
     "currentValue": "VCM_DWH_PRD.F_STAGING_INVENTORY, VCM_STG_INF.SAP_0PLANT",
     "nuid": "6147ee9f-d5ba-4157-8145-417caf488a53",
     "typedWidgetInfo": {
      "autoCreated": false,
      "defaultValue": "VCM_DWH_PRD.F_STAGING_INVENTORY, VCM_STG_INF.SAP_0PLANT",
      "label": null,
      "name": "dependency_table",
      "options": {
       "widgetDisplayType": "Text",
       "validationRegex": null
      },
      "parameterDataType": "String"
     },
     "widgetInfo": {
      "widgetType": "text",
      "defaultValue": "VCM_DWH_PRD.F_STAGING_INVENTORY, VCM_STG_INF.SAP_0PLANT",
      "label": null,
      "name": "dependency_table",
      "options": {
       "widgetType": "text",
       "autoCreated": null,
       "validationRegex": null
      }
     }
    },
    "environment": {
     "currentValue": "DEV",
     "nuid": "9ae1cc06-5dde-4fb7-b2d3-bc6d595e2f1b",
     "typedWidgetInfo": {
      "autoCreated": false,
      "defaultValue": "",
      "label": "",
      "name": "environment",
      "options": {
       "widgetDisplayType": "Text",
       "validationRegex": null
      },
      "parameterDataType": "String"
     },
     "widgetInfo": {
      "widgetType": "text",
      "defaultValue": "",
      "label": "",
      "name": "environment",
      "options": {
       "widgetType": "text",
       "autoCreated": null,
       "validationRegex": null
      }
     }
    },
    "field_calday": {
     "currentValue": "CALDAY",
     "nuid": "725210a2-a700-4a84-bb49-b5e1444351de",
     "typedWidgetInfo": {
      "autoCreated": false,
      "defaultValue": "CALDAY",
      "label": null,
      "name": "field_calday",
      "options": {
       "widgetDisplayType": "Text",
       "validationRegex": null
      },
      "parameterDataType": "String"
     },
     "widgetInfo": {
      "widgetType": "text",
      "defaultValue": "CALDAY",
      "label": null,
      "name": "field_calday",
      "options": {
       "widgetType": "text",
       "autoCreated": null,
       "validationRegex": null
      }
     }
    },
    "field_id": {
     "currentValue": "HASH_ID",
     "nuid": "71e3b355-37d1-4274-9608-81f097363ab8",
     "typedWidgetInfo": {
      "autoCreated": false,
      "defaultValue": "HASH_ID",
      "label": null,
      "name": "field_id",
      "options": {
       "widgetDisplayType": "Text",
       "validationRegex": null
      },
      "parameterDataType": "String"
     },
     "widgetInfo": {
      "widgetType": "text",
      "defaultValue": "HASH_ID",
      "label": null,
      "name": "field_id",
      "options": {
       "widgetType": "text",
       "autoCreated": null,
       "validationRegex": null
      }
     }
    },
    "metadata_schema": {
     "currentValue": "udp_wcm_metadata_dev",
     "nuid": "df12caa0-3118-462e-a456-dd443e62e13f",
     "typedWidgetInfo": {
      "autoCreated": false,
      "defaultValue": "udp_wcm_metadata_dev",
      "label": null,
      "name": "metadata_schema",
      "options": {
       "widgetDisplayType": "Text",
       "validationRegex": null
      },
      "parameterDataType": "String"
     },
     "widgetInfo": {
      "widgetType": "text",
      "defaultValue": "udp_wcm_metadata_dev",
      "label": null,
      "name": "metadata_schema",
      "options": {
       "widgetType": "text",
       "autoCreated": null,
       "validationRegex": null
      }
     }
    },
    "proc_date": {
     "currentValue": "2025-07-21",
     "nuid": "dc9b9e58-ab14-418c-bce1-1a9133da6638",
     "typedWidgetInfo": {
      "autoCreated": false,
      "defaultValue": "2025-07-21",
      "label": null,
      "name": "proc_date",
      "options": {
       "widgetDisplayType": "Text",
       "validationRegex": null
      },
      "parameterDataType": "String"
     },
     "widgetInfo": {
      "widgetType": "text",
      "defaultValue": "2025-07-21",
      "label": null,
      "name": "proc_date",
      "options": {
       "widgetType": "text",
       "autoCreated": false,
       "validationRegex": null
      }
     }
    },
    "target_dataset": {
     "currentValue": "VCM_DWH_PRD",
     "nuid": "535abcbe-cda4-40cc-a6e7-0b41284046ca",
     "typedWidgetInfo": {
      "autoCreated": false,
      "defaultValue": "VCM_DWH_PRD",
      "label": null,
      "name": "target_dataset",
      "options": {
       "widgetDisplayType": "Text",
       "validationRegex": null
      },
      "parameterDataType": "String"
     },
     "widgetInfo": {
      "widgetType": "text",
      "defaultValue": "VCM_DWH_PRD",
      "label": null,
      "name": "target_dataset",
      "options": {
       "widgetType": "text",
       "autoCreated": null,
       "validationRegex": null
      }
     }
    },
    "target_table": {
     "currentValue": "f_inventory",
     "nuid": "f32ebcca-e766-415f-a86e-6a454b9ac904",
     "typedWidgetInfo": {
      "autoCreated": false,
      "defaultValue": "f_inventory",
      "label": null,
      "name": "target_table",
      "options": {
       "widgetDisplayType": "Text",
       "validationRegex": null
      },
      "parameterDataType": "String"
     },
     "widgetInfo": {
      "widgetType": "text",
      "defaultValue": "f_inventory",
      "label": null,
      "name": "target_table",
      "options": {
       "widgetType": "text",
       "autoCreated": null,
       "validationRegex": null
      }
     }
    }
   }
  },
  "language_info": {
   "name": "python"
  }
 },
 "nbformat": 4,
 "nbformat_minor": 0
}
