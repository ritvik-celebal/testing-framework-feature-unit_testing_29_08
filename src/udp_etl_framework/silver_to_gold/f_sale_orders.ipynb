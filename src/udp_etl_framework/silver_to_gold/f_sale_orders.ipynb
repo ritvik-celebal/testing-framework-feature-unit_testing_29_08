{
 "cells": [
  {
   "cell_type": "code",
   "execution_count": 0,
   "metadata": {
    "application/vnd.databricks.v1+cell": {
     "cellMetadata": {
      "byteLimit": 2048000,
      "rowLimit": 10000
     },
     "inputWidgets": {},
     "nuid": "649f3721-167c-4f7d-a688-7000b48739c9",
     "showTitle": false,
     "tableResultSettingsMap": {},
     "title": ""
    }
   },
   "outputs": [],
   "source": [
    "%run ../utils/common"
   ]
  },
  {
   "cell_type": "code",
   "execution_count": 0,
   "metadata": {
    "application/vnd.databricks.v1+cell": {
     "cellMetadata": {
      "byteLimit": 2048000,
      "rowLimit": 10000
     },
     "inputWidgets": {},
     "nuid": "757ba56d-8ab7-4a37-bc82-95d9d74fac4d",
     "showTitle": false,
     "tableResultSettingsMap": {},
     "title": ""
    }
   },
   "outputs": [],
   "source": [
    "dbutils.widgets.text(\"environment\", \"\", \"\")\n",
    "environment = dbutils.widgets.get(\"environment\")"
   ]
  },
  {
   "cell_type": "code",
   "execution_count": 0,
   "metadata": {
    "application/vnd.databricks.v1+cell": {
     "cellMetadata": {
      "byteLimit": 2048000,
      "rowLimit": 10000
     },
     "inputWidgets": {},
     "nuid": "2def6fdd-2777-438c-9030-9362bfae1d94",
     "showTitle": false,
     "tableResultSettingsMap": {},
     "title": ""
    }
   },
   "outputs": [],
   "source": [
    "catalog_name = settings[environment]['catalog_name']"
   ]
  },
  {
   "cell_type": "code",
   "execution_count": 0,
   "metadata": {
    "application/vnd.databricks.v1+cell": {
     "cellMetadata": {
      "byteLimit": 2048000,
      "rowLimit": 10000
     },
     "inputWidgets": {},
     "nuid": "a8e726f2-5ee9-4730-be78-0145a20b83c9",
     "showTitle": false,
     "tableResultSettingsMap": {},
     "title": ""
    }
   },
   "outputs": [],
   "source": [
    "spark.sql(f\"\"\"\n",
    "CREATE TABLE IF NOT EXISTS {catalog_name}.udp_wcm_gold_vcm_dwh.f_sale_orders\n",
    "(\n",
    "  source_client_id STRING,\n",
    "  channel STRING,\n",
    "  order_code STRING,\n",
    "  cart_id STRING,\n",
    "  status_name STRING,\n",
    "  site_code STRING,\n",
    "  article_id STRING,\n",
    "  product_barcode STRING,\n",
    "  unit_code STRING,\n",
    "  unit_price DOUBLE,\n",
    "  order_quantity DOUBLE,\n",
    "  delivered_quantity DOUBLE,\n",
    "  ordered_amount DOUBLE,\n",
    "  delivered_amount DOUBLE,\n",
    "  discount_per_amount DOUBLE,\n",
    "  net_order_amount DOUBLE,\n",
    "  vat DOUBLE,\n",
    "  is_pup_order BOOLEAN,\n",
    "  customer_phone STRING,\n",
    "  proc_date TIMESTAMP,\n",
    "  hash_id BIGINT,\n",
    "  order_date TIMESTAMP,\n",
    "  complete_date TIMESTAMP,\n",
    "  created_date TIMESTAMP,\n",
    "  pos_code STRING,\n",
    "  ordercode STRING,\n",
    "  customerphone STRING\n",
    ")\n",
    "TBLPROPERTIES (\n",
    "  'DELTA.AUTOOPTIMIZE.OPTIMIZEWRITE' = 'TRUE',\n",
    "  'DELTA.AUTOOPTIMIZE.AUTOCOMPACT' = 'TRUE'\n",
    ")\n",
    "\"\"\")"
   ]
  },
  {
   "cell_type": "code",
   "execution_count": 0,
   "metadata": {
    "application/vnd.databricks.v1+cell": {
     "cellMetadata": {
      "byteLimit": 2048000,
      "rowLimit": 10000
     },
     "inputWidgets": {},
     "nuid": "7fc40e5e-81af-4c27-8ecd-af127476ff38",
     "showTitle": false,
     "tableResultSettingsMap": {},
     "title": ""
    }
   },
   "outputs": [],
   "source": [
    "spark.sql(f\"\"\"\n",
    "CREATE OR REPLACE TEMP VIEW view_F_SALE_ORDERS AS\n",
    "  SELECT DISTINCT * EXCEPT(RN) FROM (\n",
    "    SELECT \n",
    "      * except(HASH_ID), \n",
    "      ROW_NUMBER() OVER (PARTITION BY CART_ID, PRODUCT_BARCODE ORDER BY PROC_DATE DESC) AS RN,\n",
    "      FARM_FINGERPRINT(CONCAT(\n",
    "        ifnull(CAST(CART_ID AS STRING), \"\"), \n",
    "        ifnull(CAST(PRODUCT_BARCODE AS STRING), \"\"),\n",
    "        ifnull(CAST(SITE_CODE AS STRING), \"\"),\n",
    "        ifnull(CAST(UNIT_CODE AS STRING), \"\")\n",
    "      )) AS HASH_ID\n",
    "    FROM {catalog_name}.udp_wcm_silver_rop.wp_sale_orders\n",
    "  ) A \n",
    "  WHERE A.RN = 1 \n",
    "    AND A.SITE_CODE IS NOT NULL \n",
    "    AND A.CREATED_DATE IS NOT NULL \n",
    "    AND A.ORDER_CODE IS NOT NULL \n",
    "    AND A.ARTICLE_ID IS NOT NULL;\n",
    "\"\"\")"
   ]
  },
  {
   "cell_type": "code",
   "execution_count": 0,
   "metadata": {
    "application/vnd.databricks.v1+cell": {
     "cellMetadata": {
      "byteLimit": 2048000,
      "rowLimit": 10000
     },
     "inputWidgets": {},
     "nuid": "c3a62268-48b9-44d6-a8a8-a27597c35d0b",
     "showTitle": false,
     "tableResultSettingsMap": {},
     "title": ""
    }
   },
   "outputs": [],
   "source": [
    "spark.sql(f\"\"\"\n",
    "MERGE INTO {catalog_name}.udp_wcm_gold_vcm_dwh.f_sale_orders AS main_tbl\n",
    "USING (\n",
    "  SELECT \n",
    "    source_client_id,\n",
    "    channel,\n",
    "    order_code,\n",
    "    cart_id,\n",
    "    status_name,\n",
    "    site_code,\n",
    "    article_id,\n",
    "    product_barcode,\n",
    "    unit_code,\n",
    "    unit_price,\n",
    "    order_quantity,\n",
    "    delivered_quantity,\n",
    "    ordered_amount,\n",
    "    delivered_amount,\n",
    "    discount_per_amount,\n",
    "    net_order_amount,\n",
    "    vat,\n",
    "    is_pup_order,\n",
    "    customer_phone,\n",
    "    to_timestamp(proc_date, 'yyyyMMddHHmmss') AS proc_date,\n",
    "    HASH_ID,\n",
    "    to_timestamp(order_date, 'yyyyMMddHHmmss') AS order_date,\n",
    "    to_timestamp(complete_date, 'yyyyMMddHHmmss') AS complete_date,\n",
    "    to_timestamp(created_date, 'yyyyMMddHHmmss') AS created_date,\n",
    "    pos_code\n",
    "  FROM view_F_SALE_ORDERS\n",
    ") AS temp_tbl\n",
    "ON main_tbl.HASH_ID = temp_tbl.HASH_ID\n",
    "\n",
    "WHEN MATCHED THEN\n",
    "  UPDATE SET\n",
    "    main_tbl.source_client_id = temp_tbl.source_client_id,\n",
    "    main_tbl.channel = temp_tbl.channel,\n",
    "    main_tbl.order_code = temp_tbl.order_code,\n",
    "    main_tbl.cart_id = temp_tbl.cart_id,\n",
    "    main_tbl.status_name = temp_tbl.status_name,\n",
    "    main_tbl.site_code = temp_tbl.site_code,\n",
    "    main_tbl.article_id = temp_tbl.article_id,\n",
    "    main_tbl.product_barcode = temp_tbl.product_barcode,\n",
    "    main_tbl.unit_code = temp_tbl.unit_code,\n",
    "    main_tbl.unit_price = temp_tbl.unit_price,\n",
    "    main_tbl.order_quantity = temp_tbl.order_quantity,\n",
    "    main_tbl.delivered_quantity = temp_tbl.delivered_quantity,\n",
    "    main_tbl.ordered_amount = temp_tbl.ordered_amount,\n",
    "    main_tbl.delivered_amount = temp_tbl.delivered_amount,\n",
    "    main_tbl.discount_per_amount = temp_tbl.discount_per_amount,\n",
    "    main_tbl.net_order_amount = temp_tbl.net_order_amount,\n",
    "    main_tbl.vat = temp_tbl.vat,\n",
    "    main_tbl.is_pup_order = temp_tbl.is_pup_order,\n",
    "    main_tbl.order_date = temp_tbl.order_date,\n",
    "    main_tbl.complete_date = temp_tbl.complete_date,\n",
    "    main_tbl.created_date = temp_tbl.created_date,\n",
    "    main_tbl.pos_code = temp_tbl.pos_code,\n",
    "    main_tbl.customer_phone = temp_tbl.customer_phone,\n",
    "    main_tbl.proc_date = temp_tbl.proc_date\n",
    "\n",
    "WHEN NOT MATCHED THEN\n",
    "  INSERT (\n",
    "    source_client_id,\n",
    "    channel,\n",
    "    order_code,\n",
    "    cart_id,\n",
    "    status_name,\n",
    "    site_code,\n",
    "    article_id,\n",
    "    product_barcode,\n",
    "    unit_code,\n",
    "    unit_price,\n",
    "    order_quantity,\n",
    "    delivered_quantity,\n",
    "    ordered_amount,\n",
    "    delivered_amount,\n",
    "    discount_per_amount,\n",
    "    net_order_amount,\n",
    "    vat,\n",
    "    is_pup_order,\n",
    "    order_date,\n",
    "    complete_date,\n",
    "    created_date,\n",
    "    pos_code,\n",
    "    customer_phone,\n",
    "    proc_date,\n",
    "    HASH_ID\n",
    "  )\n",
    "  VALUES (\n",
    "    temp_tbl.source_client_id,\n",
    "    temp_tbl.channel,\n",
    "    temp_tbl.order_code,\n",
    "    temp_tbl.cart_id,\n",
    "    temp_tbl.status_name,\n",
    "    temp_tbl.site_code,\n",
    "    temp_tbl.article_id,\n",
    "    temp_tbl.product_barcode,\n",
    "    temp_tbl.unit_code,\n",
    "    temp_tbl.unit_price,\n",
    "    temp_tbl.order_quantity,\n",
    "    temp_tbl.delivered_quantity,\n",
    "    temp_tbl.ordered_amount,\n",
    "    temp_tbl.delivered_amount,\n",
    "    temp_tbl.discount_per_amount,\n",
    "    temp_tbl.net_order_amount,\n",
    "    temp_tbl.vat,\n",
    "    temp_tbl.is_pup_order,\n",
    "    temp_tbl.order_date,\n",
    "    temp_tbl.complete_date,\n",
    "    temp_tbl.created_date,\n",
    "    temp_tbl.pos_code,\n",
    "    temp_tbl.customer_phone,\n",
    "    temp_tbl.proc_date,\n",
    "    temp_tbl.HASH_ID\n",
    "  );\n",
    "\"\"\")"
   ]
  }
 ],
 "metadata": {
  "application/vnd.databricks.v1+notebook": {
   "computePreferences": null,
   "dashboards": [],
   "environmentMetadata": {
    "base_environment": "",
    "environment_version": "2"
   },
   "inputWidgetPreferences": null,
   "language": "python",
   "notebookMetadata": {
    "mostRecentlyExecutedCommandWithImplicitDF": {
     "commandId": 4736130552746371,
     "dataframes": [
      "_sqldf"
     ]
    },
    "pythonIndentUnit": 4
   },
   "notebookName": "f_sale_orders",
   "widgets": {
    "environment": {
     "currentValue": "DEV",
     "nuid": "dc9f5d8c-54e7-4273-8c33-088cb79cdcdc",
     "typedWidgetInfo": {
      "autoCreated": false,
      "defaultValue": "",
      "label": "",
      "name": "environment",
      "options": {
       "widgetDisplayType": "Text",
       "validationRegex": null
      },
      "parameterDataType": "String"
     },
     "widgetInfo": {
      "widgetType": "text",
      "defaultValue": "",
      "label": "",
      "name": "environment",
      "options": {
       "widgetType": "text",
       "autoCreated": null,
       "validationRegex": null
      }
     }
    },
    "proc_date": {
     "currentValue": "2025-07-19",
     "nuid": "13757e33-ee08-48c7-b293-4144695c642f",
     "typedWidgetInfo": {
      "autoCreated": false,
      "defaultValue": "",
      "label": "",
      "name": "proc_date",
      "options": {
       "widgetDisplayType": "Text",
       "validationRegex": null
      },
      "parameterDataType": "String"
     },
     "widgetInfo": {
      "widgetType": "text",
      "defaultValue": "",
      "label": "",
      "name": "proc_date",
      "options": {
       "widgetType": "text",
       "autoCreated": null,
       "validationRegex": null
      }
     }
    }
   }
  },
  "language_info": {
   "name": "python"
  }
 },
 "nbformat": 4,
 "nbformat_minor": 0
}
