{
 "cells": [
  {
   "cell_type": "code",
   "execution_count": 0,
   "metadata": {
    "application/vnd.databricks.v1+cell": {
     "cellMetadata": {
      "byteLimit": 2048000,
      "rowLimit": 10000
     },
     "inputWidgets": {},
     "nuid": "a02b40db-6c31-4da2-a854-973d6b4fc859",
     "showTitle": false,
     "tableResultSettingsMap": {},
     "title": ""
    }
   },
   "outputs": [],
   "source": [
    "%run ../utils/common"
   ]
  },
  {
   "cell_type": "code",
   "execution_count": 0,
   "metadata": {
    "application/vnd.databricks.v1+cell": {
     "cellMetadata": {
      "byteLimit": 2048000,
      "rowLimit": 10000
     },
     "inputWidgets": {},
     "nuid": "573d7e0d-fe55-4bec-8886-602583044661",
     "showTitle": false,
     "tableResultSettingsMap": {},
     "title": ""
    }
   },
   "outputs": [],
   "source": [
    "dbutils.widgets.text(\"environment\", \"\", \"\")\n",
    "dbutils.widgets.text(\"target_dataset\", \"VCM_DMT_PRD\")\n",
    "dbutils.widgets.text(\"target_table\", \"a_billcnt_mch4\")\n",
    "dbutils.widgets.text(\"metadata_schema\", \"udp_wcm_metadata_dev\")\n",
    "dbutils.widgets.text(\n",
    "    \"dependency_table\",\"VCM_DWH_PRD.F_TRANSACTION_LINE, VCM_STG_INF.SAP_VCDEXT01, VCM_DMT_PRD.A_FINANCE_BILL_SLL_DETAIL\"\n",
    ")"
   ]
  },
  {
   "cell_type": "code",
   "execution_count": 0,
   "metadata": {
    "application/vnd.databricks.v1+cell": {
     "cellMetadata": {
      "byteLimit": 2048000,
      "rowLimit": 10000
     },
     "inputWidgets": {},
     "nuid": "81ab5460-26f7-4fd2-a4e7-69ccb1f8629e",
     "showTitle": false,
     "tableResultSettingsMap": {},
     "title": ""
    }
   },
   "outputs": [],
   "source": [
    "dbutils.widgets.text(\"field_calday\", \"CALDAY\")\n",
    "dbutils.widgets.text(\"field_id\", \"HASH_ID\")"
   ]
  },
  {
   "cell_type": "code",
   "execution_count": 0,
   "metadata": {
    "application/vnd.databricks.v1+cell": {
     "cellMetadata": {
      "byteLimit": 2048000,
      "rowLimit": 10000
     },
     "inputWidgets": {},
     "nuid": "bf14f3c6-a0dc-4596-8cff-cd2f24c2d25e",
     "showTitle": false,
     "tableResultSettingsMap": {},
     "title": ""
    }
   },
   "outputs": [],
   "source": [
    "dbutils.widgets.text(\"environment\", \"\", \"\")\n",
    "environment = dbutils.widgets.get(\"environment\")"
   ]
  },
  {
   "cell_type": "code",
   "execution_count": 0,
   "metadata": {
    "application/vnd.databricks.v1+cell": {
     "cellMetadata": {
      "byteLimit": 2048000,
      "rowLimit": 10000
     },
     "inputWidgets": {},
     "nuid": "92e000d3-62dc-4b68-a3a3-a90966598f46",
     "showTitle": false,
     "tableResultSettingsMap": {},
     "title": ""
    }
   },
   "outputs": [],
   "source": [
    "catalog_name = settings[environment]['catalog_name']"
   ]
  },
  {
   "cell_type": "code",
   "execution_count": 0,
   "metadata": {
    "application/vnd.databricks.v1+cell": {
     "cellMetadata": {
      "byteLimit": 2048000,
      "rowLimit": 10000
     },
     "inputWidgets": {},
     "nuid": "4dc8b83d-5fd6-4477-800e-14e5a44110b8",
     "showTitle": false,
     "tableResultSettingsMap": {},
     "title": ""
    }
   },
   "outputs": [],
   "source": [
    "environment = dbutils.widgets.get(\"environment\")\n",
    "target_dataset = dbutils.widgets.get(\"target_dataset\")\n",
    "target_table = dbutils.widgets.get(\"target_table\")\n",
    "metadata_schema = dbutils.widgets.get(\"metadata_schema\")\n",
    "dependency_table = dbutils.widgets.get(\"dependency_table\")\n",
    "dependency_table = [x.strip().upper() for x in dependency_table.split(\",\")]\n",
    "dependency_table = \"'\" + \"','\".join(dependency_table) + \"'\"\n",
    "\n",
    "print(f\"environment: {environment}\")\n",
    "print(f\"target_dataset: {target_dataset}\")\n",
    "print(f\"target_table: {target_table}\")\n",
    "print(f\"catalog_name: {catalog_name}\")\n",
    "print(f\"metadata_schema: {metadata_schema}\")\n",
    "print(f\"dependency_table: {dependency_table}\")"
   ]
  },
  {
   "cell_type": "code",
   "execution_count": 0,
   "metadata": {
    "application/vnd.databricks.v1+cell": {
     "cellMetadata": {
      "byteLimit": 2048000,
      "rowLimit": 10000
     },
     "inputWidgets": {},
     "nuid": "1743e45e-64d2-40a8-8ac7-e2fbbd8cab55",
     "showTitle": false,
     "tableResultSettingsMap": {},
     "title": ""
    }
   },
   "outputs": [],
   "source": [
    "field_calday = dbutils.widgets.get(\"field_calday\")\n",
    "field_id = dbutils.widgets.get(\"field_id\")\n",
    "\n",
    "print(f\"field_calday: {field_calday}\")\n",
    "print(f\"field_id: {field_id}\")"
   ]
  },
  {
   "cell_type": "code",
   "execution_count": 0,
   "metadata": {
    "application/vnd.databricks.v1+cell": {
     "cellMetadata": {
      "byteLimit": 2048000,
      "rowLimit": 10000
     },
     "inputWidgets": {},
     "nuid": "e7af5d32-7a69-4539-9c69-2721d49a63a8",
     "showTitle": false,
     "tableResultSettingsMap": {},
     "title": ""
    }
   },
   "outputs": [],
   "source": [
    "%run \"../common/common_etl_load\""
   ]
  },
  {
   "cell_type": "code",
   "execution_count": 0,
   "metadata": {
    "application/vnd.databricks.v1+cell": {
     "cellMetadata": {
      "byteLimit": 2048000,
      "rowLimit": 10000
     },
     "inputWidgets": {},
     "nuid": "2802c8b4-6ab9-4c9f-8916-86bdf0ac5f05",
     "showTitle": false,
     "tableResultSettingsMap": {},
     "title": ""
    }
   },
   "outputs": [],
   "source": [
    "spark.sql(f\"\"\"\n",
    "CREATE TABLE IF NOT EXISTS {catalog_name}.udp_wcm_gold_vcm_dmt.a_billcnt_mch4 (\n",
    "transaction_id STRING,\n",
    "calday DATE,\n",
    "store_id STRING,\n",
    "store_name STRING,\n",
    "mch4_id STRING,\n",
    "mch4_desc STRING,\n",
    "billcnt INT,\n",
    "billcnt_excl_sll INT,\n",
    "billcnt_promo INT,\n",
    "billcnt_store INT\n",
    ")\n",
    "TBLPROPERTIES (\n",
    "  'DELTA.AUTOOPTIMIZE.OPTIMIZEWRITE' = 'TRUE',\n",
    "  'DELTA.AUTOOPTIMIZE.AUTOCOMPACT' = 'TRUE'\n",
    ")\n",
    "\"\"\")"
   ]
  },
  {
   "cell_type": "code",
   "execution_count": 0,
   "metadata": {
    "application/vnd.databricks.v1+cell": {
     "cellMetadata": {
      "byteLimit": 2048000,
      "rowLimit": 10000
     },
     "inputWidgets": {},
     "nuid": "d78f985a-df55-4eb4-8c23-2118ab7844fb",
     "showTitle": false,
     "tableResultSettingsMap": {},
     "title": ""
    }
   },
   "outputs": [],
   "source": [
    "if CALDAY_IN_STR != '':\n",
    "    spark.sql(f\"\"\"\n",
    "    CREATE OR REPLACE TEMP VIEW temp_a_billcnt_mch4 AS\n",
    "    WITH transaction_sll AS (\n",
    "        SELECT\n",
    "            DISTINCT\n",
    "            calday,\n",
    "            plant AS store_id,\n",
    "            rpa_tnr AS transaction_no\n",
    "        FROM {catalog_name}.udp_wcm_silver_sap_bw.sap_vcdext01\n",
    "        WHERE _bic_zc_fgroup = 'OGID'\n",
    "            AND _bic_zc_fname = 'B2B'\n",
    "            AND _bic_zc_fvalue LIKE 'B2B%'\n",
    "    ),\n",
    "    store_txn AS (\n",
    "        SELECT\n",
    "            a.calday,\n",
    "            a.store_id,\n",
    "            b.mch4_id,\n",
    "            b.mch4_desc,\n",
    "            a.transaction_type,\n",
    "            COUNT(DISTINCT transaction_id) AS m_txn_cnt,\n",
    "            COUNT(DISTINCT IF(c.calday IS NULL AND c1.calday IS NULL, transaction_id, NULL)) AS m_txn_cnt_excl_sll,\n",
    "            COUNT(DISTINCT CASE WHEN promotion_sale > 0 THEN transaction_id END) AS m_txn_cnt_promo\n",
    "        FROM\n",
    "            {catalog_name}.udp_wcm_gold_vcm_dwh.f_transaction_line a\n",
    "            INNER JOIN {catalog_name}.udp_wcm_gold_vcm_dwh.d_product b ON a.product_id = b.product_id\n",
    "            LEFT JOIN {catalog_name}.udp_wcm_gold_vcm_dmt.a_finance_bill_sll_detail c ON a.calday = c.calday AND a.store_id = c.store_id AND a.product_id = c.product_id AND LTRIM('0', a.transaction_no) = LTRIM('0', c.transaction_no)\n",
    "            LEFT JOIN transaction_sll c1 ON a.calday = c1.calday AND a.store_id = c1.store_id AND LTRIM('0', a.transaction_no) = LTRIM('0', c1.transaction_no)\n",
    "        WHERE a.calday IN ({CALDAY_IN_STR})\n",
    "        GROUP BY 1,2,3,4,5\n",
    "    ),\n",
    "    bill_cnt_by_mch4 AS (\n",
    "        SELECT\n",
    "            calday,\n",
    "            a.store_id,\n",
    "            a.mch4_id,\n",
    "            a.mch4_desc,\n",
    "            SUM(b.bill_count * a.m_txn_cnt) AS billcnt_total,\n",
    "            SUM(b.bill_count * a.m_txn_cnt_excl_sll) AS billcnt_excl_sll,\n",
    "            SUM(b.bill_count * a.m_txn_cnt_promo) AS billcnt_promo\n",
    "        FROM\n",
    "            store_txn a\n",
    "            INNER JOIN {catalog_name}.udp_wcm_silver_dim.transaction_type b ON a.transaction_type = b.transaction_type\n",
    "        GROUP BY 1,2,3,4\n",
    "    )\n",
    "    SELECT\n",
    "        a.calday,\n",
    "        a.store_id,\n",
    "        b.store_name,\n",
    "        a.mch4_id,\n",
    "        a.mch4_desc,\n",
    "        a.billcnt_total AS billcnt,\n",
    "        a.billcnt_excl_sll,\n",
    "        a.billcnt_promo,\n",
    "        b.billcnt_total AS billcnt_store\n",
    "    FROM bill_cnt_by_mch4 a\n",
    "    LEFT JOIN {catalog_name}.udp_wcm_gold_vcm_dmt.a_billcnt_store b ON a.calday = b.calday AND a.store_id = b.store_id\n",
    "    \"\"\")\n",
    "else:\n",
    "    print(f\"No valid calday's found In common-etl to create the view: temp_{target_table}\")"
   ]
  },
  {
   "cell_type": "code",
   "execution_count": 0,
   "metadata": {
    "application/vnd.databricks.v1+cell": {
     "cellMetadata": {
      "byteLimit": 2048000,
      "rowLimit": 10000
     },
     "inputWidgets": {},
     "nuid": "fe65033b-55b5-4561-a6f7-b575256f308e",
     "showTitle": false,
     "tableResultSettingsMap": {},
     "title": ""
    }
   },
   "outputs": [],
   "source": [
    "if CALDAY_IN_STR != \"\":\n",
    "    # Get the calday list string from temp table\n",
    "    calday_query = \"\"\"\n",
    "    SELECT\n",
    "        CONCAT(\"'\", CONCAT_WS(\"','\", COLLECT_SET(CAST(TO_DATE(calday, 'yyyy-MM-dd') AS STRING))), \"'\") AS calday_in_str\n",
    "    FROM temp_a_billcnt_mch4\n",
    "    \"\"\"\n",
    "\n",
    "    calday_df = spark.sql(calday_query)\n",
    "    calday_in_str = calday_df.collect()[0][0]\n",
    "\n",
    "    # Only run DELETE if the string is non-empty\n",
    "    if calday_in_str.strip(\"'\"):  # checks if there's any date inside the quotes\n",
    "        spark.sql(f\"\"\"\n",
    "        DELETE FROM {catalog_name}.udp_wcm_gold_vcm_dmt.a_billcnt_mch4\n",
    "        WHERE calday IN ({calday_in_str})\n",
    "        \"\"\")\n",
    "    else:\n",
    "        print(\"No valid CALDAYs found to delete.\")\n",
    "else:\n",
    "    print(\n",
    "        f\"temp_{target_table} could't be created as no valid calday's found In common-etl so {catalog_name}.udp_wcm_gold_vcm_dwh.a_billcnt_store can't be deleted using calday's from temp_a_billcnt_store\"\n",
    "    )"
   ]
  },
  {
   "cell_type": "code",
   "execution_count": 0,
   "metadata": {
    "application/vnd.databricks.v1+cell": {
     "cellMetadata": {
      "byteLimit": 2048000,
      "rowLimit": 10000
     },
     "inputWidgets": {},
     "nuid": "492157d9-12ab-4717-b651-a59f54a65be9",
     "showTitle": false,
     "tableResultSettingsMap": {},
     "title": ""
    }
   },
   "outputs": [],
   "source": [
    "if CALDAY_IN_STR != \"\":\n",
    "    # Insert rows from temp table into main table\n",
    "    INSERT_ROW = \", \".join(\n",
    "        spark.table(f\"{catalog_name}.udp_wcm_gold_vcm_dmt.a_billcnt_mch4\").columns\n",
    "    )\n",
    "    spark.sql(\n",
    "        f\"\"\"\n",
    "        INSERT INTO {catalog_name}.udp_wcm_gold_vcm_dmt.a_billcnt_mch4 ({INSERT_ROW})\n",
    "        SELECT {INSERT_ROW} FROM temp_{target_table}\n",
    "    \"\"\"\n",
    "    ).display()\n",
    "else:\n",
    "    print(\n",
    "        f\"temp_{target_table} could't be created as no valid calday's found In common-etl so {catalog_name}.udp_wcm_gold_vcm_dmt.a_billcnt_mch4 can't be inserted using calday's from temp_{target_table}\"\n",
    "    )"
   ]
  },
  {
   "cell_type": "code",
   "execution_count": 0,
   "metadata": {
    "application/vnd.databricks.v1+cell": {
     "cellMetadata": {
      "byteLimit": 2048000,
      "rowLimit": 10000
     },
     "inputWidgets": {},
     "nuid": "d03125ca-f89b-4491-9493-2f9fba76ef5c",
     "showTitle": false,
     "tableResultSettingsMap": {},
     "title": ""
    }
   },
   "outputs": [],
   "source": [
    "if CALDAY_IN_STR == '':\n",
    "    dbutils.notebook.exit(\"No valid calday's found In common-etl to insert data into Table: ETL_LOG_DEPENDENCIES and ETL_DELTA_TABLE and \")"
   ]
  },
  {
   "cell_type": "code",
   "execution_count": 0,
   "metadata": {
    "application/vnd.databricks.v1+cell": {
     "cellMetadata": {
      "byteLimit": 2048000,
      "rowLimit": 10000
     },
     "inputWidgets": {},
     "nuid": "f53b8ca6-07d0-4bb5-b0cb-ae617061c334",
     "showTitle": false,
     "tableResultSettingsMap": {},
     "title": ""
    }
   },
   "outputs": [],
   "source": [
    "%run \"../common/common_etl_update\""
   ]
  }
 ],
 "metadata": {
  "application/vnd.databricks.v1+notebook": {
   "computePreferences": null,
   "dashboards": [],
   "environmentMetadata": {
    "base_environment": "",
    "environment_version": "2"
   },
   "inputWidgetPreferences": null,
   "language": "python",
   "notebookMetadata": {
    "mostRecentlyExecutedCommandWithImplicitDF": {
     "commandId": 6540195001598705,
     "dataframes": [
      "_sqldf"
     ]
    },
    "pythonIndentUnit": 4
   },
   "notebookName": "a_billcnt_mch4",
   "widgets": {}
  },
  "language_info": {
   "name": "python"
  }
 },
 "nbformat": 4,
 "nbformat_minor": 0
}
