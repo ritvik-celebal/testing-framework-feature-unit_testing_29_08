{
 "cells": [
  {
   "cell_type": "code",
   "execution_count": 0,
   "metadata": {
    "application/vnd.databricks.v1+cell": {
     "cellMetadata": {
      "byteLimit": 2048000,
      "rowLimit": 10000
     },
     "inputWidgets": {},
     "nuid": "06b0e7a4-b65e-4d2d-a3d1-a7b9d2e927e9",
     "showTitle": false,
     "tableResultSettingsMap": {},
     "title": ""
    }
   },
   "outputs": [],
   "source": [
    "%run ../utils/common"
   ]
  },
  {
   "cell_type": "code",
   "execution_count": 0,
   "metadata": {
    "application/vnd.databricks.v1+cell": {
     "cellMetadata": {
      "byteLimit": 2048000,
      "rowLimit": 10000
     },
     "inputWidgets": {},
     "nuid": "a5509b31-d173-49f6-8f2e-5d9d57188dbd",
     "showTitle": false,
     "tableResultSettingsMap": {},
     "title": ""
    }
   },
   "outputs": [],
   "source": [
    "dbutils.widgets.text(\"environment\", \"\", \"\")\n",
    "environment = dbutils.widgets.get(\"environment\")"
   ]
  },
  {
   "cell_type": "code",
   "execution_count": 0,
   "metadata": {
    "application/vnd.databricks.v1+cell": {
     "cellMetadata": {
      "byteLimit": 2048000,
      "rowLimit": 10000
     },
     "inputWidgets": {},
     "nuid": "b49738d2-3e1a-4061-94ca-9bf32579791f",
     "showTitle": false,
     "tableResultSettingsMap": {},
     "title": ""
    }
   },
   "outputs": [],
   "source": [
    "catalog_name = settings[environment]['catalog_name']\n"
   ]
  },
  {
   "cell_type": "code",
   "execution_count": 0,
   "metadata": {
    "application/vnd.databricks.v1+cell": {
     "cellMetadata": {
      "byteLimit": 2048000,
      "rowLimit": 10000
     },
     "inputWidgets": {},
     "nuid": "240c821c-2043-4419-b3d2-96ad384d5d82",
     "showTitle": false,
     "tableResultSettingsMap": {},
     "title": ""
    }
   },
   "outputs": [],
   "source": [
    "spark.sql(f\"\"\"\n",
    "CREATE OR REPLACE TABLE {catalog_name}.udp_wcm_gold_vcm_dwh.d_vmp_meat_deli_store_sku \n",
    "TBLPROPERTIES (\n",
    "  'DELTA.AUTOOPTIMIZE.OPTIMIZEWRITE' = 'TRUE',\n",
    "  'DELTA.AUTOOPTIMIZE.AUTOCOMPACT' = 'TRUE'\n",
    ")\n",
    "AS\n",
    "WITH \n",
    "store_mn AS (\n",
    "    SELECT *EXCEPT(rn) FROM (\n",
    "        SELECT \n",
    "            store_id,\n",
    "            type,\n",
    "            ROW_NUMBER() OVER (PARTITION BY store_id ORDER BY proc_date DESC) rn\n",
    "        FROM {catalog_name}.udp_wcm_silver_dim.vmp_meat_deli_store\n",
    "        WHERE proc_date = (SELECT MAX(proc_date) FROM {catalog_name}.udp_wcm_silver_dim.vmp_meat_deli_store)\n",
    "    ) a WHERE rn = 1\n",
    "),\n",
    "product_mn AS (\n",
    "    SELECT *EXCEPT(rn) FROM (\n",
    "        SELECT \n",
    "            product_id,\n",
    "            dvt base_uom,\n",
    "            tray,\n",
    "            type_n1,\n",
    "            type_n2,\n",
    "            type_n3,\n",
    "            type_n4,\n",
    "            type_n5,\n",
    "            type_n6,\n",
    "            ROW_NUMBER() OVER (PARTITION BY product_id ORDER BY proc_date DESC) rn\n",
    "        FROM {catalog_name}.udp_wcm_silver_dim.vmp_meat_deli_dmmh\n",
    "        WHERE proc_date = (SELECT MAX(proc_date) FROM {catalog_name}.udp_wcm_silver_dim.vmp_meat_deli_dmmh)\n",
    "    ) a WHERE rn = 1\n",
    "),\n",
    "store_mb AS (\n",
    "    SELECT *EXCEPT(rn) FROM (\n",
    "        SELECT \n",
    "            store_id,\n",
    "            type,\n",
    "            ROW_NUMBER() OVER (PARTITION BY store_id ORDER BY proc_date DESC) rn\n",
    "        FROM {catalog_name}.udp_wcm_silver_dim.mb_vmp_meat_deli_store\n",
    "        WHERE proc_date = (SELECT MAX(proc_date) FROM {catalog_name}.udp_wcm_silver_dim.mb_vmp_meat_deli_store)\n",
    "    ) a WHERE rn = 1\n",
    "),\n",
    "product_mb AS (\n",
    "    SELECT *EXCEPT(rn) FROM (\n",
    "        SELECT \n",
    "            product_id,\n",
    "            dvt base_uom,\n",
    "            tray,\n",
    "            type_n1,\n",
    "            type_n2,\n",
    "            type_n3,\n",
    "            type_n4,\n",
    "            type_n5,\n",
    "            type_n6,\n",
    "            ROW_NUMBER() OVER (PARTITION BY product_id ORDER BY proc_date DESC) rn\n",
    "        FROM {catalog_name}.udp_wcm_silver_dim.mb_vmp_meat_deli_dmmh\n",
    "        WHERE proc_date = (SELECT MAX(proc_date) FROM {catalog_name}.udp_wcm_silver_dim.mb_vmp_meat_deli_dmmh)\n",
    "    ) a WHERE rn = 1\n",
    ")\n",
    "SELECT store_id, product_id, type_n1 value, type FROM store_mn, product_mn WHERE store_mn.type = 'N1'\n",
    "UNION ALL\n",
    "SELECT store_id, product_id, type_n2 value, type FROM store_mn, product_mn WHERE store_mn.type = 'N2'\n",
    "UNION ALL\n",
    "SELECT store_id, product_id, type_n3 value, type FROM store_mn, product_mn WHERE store_mn.type = 'N3'\n",
    "UNION ALL\n",
    "SELECT store_id, product_id, type_n4 value, type FROM store_mn, product_mn WHERE store_mn.type = 'N4'\n",
    "UNION ALL\n",
    "SELECT store_id, product_id, type_n5 value, type FROM store_mn, product_mn WHERE store_mn.type = 'N5'\n",
    "UNION ALL\n",
    "SELECT store_id, product_id, type_n6 value, type FROM store_mn, product_mn WHERE store_mn.type = 'N6'\n",
    "\n",
    "UNION ALL\n",
    "SELECT store_id, product_id, type_n1 value, type FROM store_mb, product_mb WHERE store_mb.type = 'N1'\n",
    "UNION ALL\n",
    "SELECT store_id, product_id, type_n2 value, type FROM store_mb, product_mb WHERE store_mb.type = 'N2'\n",
    "UNION ALL\n",
    "SELECT store_id, product_id, type_n3 value, type FROM store_mb, product_mb WHERE store_mb.type = 'N3'\n",
    "UNION ALL\n",
    "SELECT store_id, product_id, type_n4 value, type FROM store_mb, product_mb WHERE store_mb.type = 'N4'\n",
    "UNION ALL\n",
    "SELECT store_id, product_id, type_n5 value, type FROM store_mb, product_mb WHERE store_mb.type = 'N5'\n",
    "UNION ALL\n",
    "SELECT store_id, product_id, type_n6 value, type FROM store_mb, product_mb WHERE store_mb.type = 'N6'\n",
    ";\n",
    "\"\"\")"
   ]
  }
 ],
 "metadata": {
  "application/vnd.databricks.v1+notebook": {
   "computePreferences": null,
   "dashboards": [],
   "environmentMetadata": {
    "base_environment": "",
    "environment_version": "2"
   },
   "inputWidgetPreferences": null,
   "language": "python",
   "notebookMetadata": {
    "mostRecentlyExecutedCommandWithImplicitDF": {
     "commandId": 6340711113773993,
     "dataframes": [
      "_sqldf"
     ]
    },
    "pythonIndentUnit": 4
   },
   "notebookName": "d_vmp_meat_deli_store_sku",
   "widgets": {
    "environment": {
     "currentValue": "DEV",
     "nuid": "60fa2d63-9f7b-44d5-aaee-c6252e77a9be",
     "typedWidgetInfo": {
      "autoCreated": false,
      "defaultValue": "",
      "label": "",
      "name": "environment",
      "options": {
       "widgetDisplayType": "Text",
       "validationRegex": null
      },
      "parameterDataType": "String"
     },
     "widgetInfo": {
      "widgetType": "text",
      "defaultValue": "",
      "label": "",
      "name": "environment",
      "options": {
       "widgetType": "text",
       "autoCreated": null,
       "validationRegex": null
      }
     }
    },
    "proc_date": {
     "currentValue": "2025-07-21",
     "nuid": "0cfbfb10-6fd9-4d8f-9182-6bf582f4781e",
     "typedWidgetInfo": {
      "autoCreated": false,
      "defaultValue": "",
      "label": "",
      "name": "proc_date",
      "options": {
       "widgetDisplayType": "Text",
       "validationRegex": null
      },
      "parameterDataType": "String"
     },
     "widgetInfo": {
      "widgetType": "text",
      "defaultValue": "",
      "label": "",
      "name": "proc_date",
      "options": {
       "widgetType": "text",
       "autoCreated": null,
       "validationRegex": null
      }
     }
    }
   }
  },
  "language_info": {
   "name": "python"
  }
 },
 "nbformat": 4,
 "nbformat_minor": 0
}
