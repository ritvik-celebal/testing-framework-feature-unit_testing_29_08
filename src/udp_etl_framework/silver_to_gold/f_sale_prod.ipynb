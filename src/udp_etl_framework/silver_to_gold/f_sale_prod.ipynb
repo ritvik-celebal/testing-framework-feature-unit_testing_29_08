{
 "cells": [
  {
   "cell_type": "code",
   "execution_count": 0,
   "metadata": {
    "application/vnd.databricks.v1+cell": {
     "cellMetadata": {
      "byteLimit": 2048000,
      "rowLimit": 10000
     },
     "inputWidgets": {},
     "nuid": "d8305d6e-39b1-40d7-bdd2-04e792b57e6a",
     "showTitle": false,
     "tableResultSettingsMap": {},
     "title": ""
    }
   },
   "outputs": [],
   "source": [
    "%run ../utils/common"
   ]
  },
  {
   "cell_type": "code",
   "execution_count": 0,
   "metadata": {
    "application/vnd.databricks.v1+cell": {
     "cellMetadata": {
      "byteLimit": 2048000,
      "rowLimit": 10000
     },
     "inputWidgets": {},
     "nuid": "35940e31-84c9-4b93-a322-52ed07b43416",
     "showTitle": false,
     "tableResultSettingsMap": {},
     "title": ""
    }
   },
   "outputs": [],
   "source": [
    "dbutils.widgets.text(\"environment\", \"\", \"\")\n",
    "dbutils.widgets.text(\"target_dataset\", \"VCM_DWH_PRD\") #udp_wcm_gold_vcm_dwh\n",
    "dbutils.widgets.text(\"target_table\", \"f_sale_prod\")\n",
    "dbutils.widgets.text(\"metadata_schema\", \"udp_wcm_metadata_dev\")\n",
    "dbutils.widgets.text(\n",
    "    \"dependency_table\",\"VCM_STG_INF.SAP_VCDPOSD13, VCM_STG_INF.SAP_VCDPOSD07\" #udp_wcm_silver_sap_bw.SAP_VCDPOSD13,udp_wcm_silver_sap_bw.SAP_VCDPOSD07\n",
    ")"
   ]
  },
  {
   "cell_type": "code",
   "execution_count": 0,
   "metadata": {
    "application/vnd.databricks.v1+cell": {
     "cellMetadata": {
      "byteLimit": 2048000,
      "rowLimit": 10000
     },
     "inputWidgets": {},
     "nuid": "ecf524c8-7080-4c4b-9d41-30fe71ff84cc",
     "showTitle": false,
     "tableResultSettingsMap": {},
     "title": ""
    }
   },
   "outputs": [],
   "source": [
    "catalog_name = settings[environment]['catalog_name']"
   ]
  },
  {
   "cell_type": "code",
   "execution_count": 0,
   "metadata": {
    "application/vnd.databricks.v1+cell": {
     "cellMetadata": {
      "byteLimit": 2048000,
      "rowLimit": 10000
     },
     "inputWidgets": {},
     "nuid": "b9a76054-26ee-4993-a2fc-21dfc3799621",
     "showTitle": false,
     "tableResultSettingsMap": {},
     "title": ""
    }
   },
   "outputs": [],
   "source": [
    "dbutils.widgets.text(\"field_calday\", \"CALDAY\")\n",
    "dbutils.widgets.text(\"field_id\", \"HASH_ID\")"
   ]
  },
  {
   "cell_type": "code",
   "execution_count": 0,
   "metadata": {
    "application/vnd.databricks.v1+cell": {
     "cellMetadata": {
      "byteLimit": 2048000,
      "rowLimit": 10000
     },
     "inputWidgets": {},
     "nuid": "df554dbb-352a-4fcb-8fcf-74daa4586fdf",
     "showTitle": false,
     "tableResultSettingsMap": {},
     "title": ""
    }
   },
   "outputs": [],
   "source": [
    "environment = dbutils.widgets.get(\"environment\")\n",
    "target_dataset = dbutils.widgets.get(\"target_dataset\")\n",
    "target_table = dbutils.widgets.get(\"target_table\")\n",
    "metadata_schema = dbutils.widgets.get(\"metadata_schema\")\n",
    "dependency_table = dbutils.widgets.get(\"dependency_table\")\n",
    "dependency_table = [x.strip().upper() for x in dependency_table.split(\",\")]\n",
    "dependency_table = \"'\" + \"','\".join(dependency_table) + \"'\"\n",
    "\n",
    "print(f\"environment: {environment}\")\n",
    "print(f\"target_dataset: {target_dataset}\")\n",
    "print(f\"target_table: {target_table}\")\n",
    "print(f\"catalog_name: {catalog_name}\")\n",
    "print(f\"metadata_schema: {metadata_schema}\")\n",
    "print(f\"dependency_table: {dependency_table}\")"
   ]
  },
  {
   "cell_type": "code",
   "execution_count": 0,
   "metadata": {
    "application/vnd.databricks.v1+cell": {
     "cellMetadata": {
      "byteLimit": 2048000,
      "rowLimit": 10000
     },
     "inputWidgets": {},
     "nuid": "ca1a6ec8-26ea-4731-8c09-526cf2584728",
     "showTitle": false,
     "tableResultSettingsMap": {},
     "title": ""
    }
   },
   "outputs": [],
   "source": [
    "field_calday = dbutils.widgets.get(\"field_calday\")\n",
    "field_id = dbutils.widgets.get(\"field_id\")\n",
    "\n",
    "print(f\"field_calday: {field_calday}\")\n",
    "print(f\"field_id: {field_id}\")"
   ]
  },
  {
   "cell_type": "code",
   "execution_count": 0,
   "metadata": {
    "application/vnd.databricks.v1+cell": {
     "cellMetadata": {
      "byteLimit": 2048000,
      "rowLimit": 10000
     },
     "inputWidgets": {},
     "nuid": "9f96fdf8-23ba-490c-a88b-6a576e231a65",
     "showTitle": false,
     "tableResultSettingsMap": {},
     "title": ""
    }
   },
   "outputs": [],
   "source": [
    "%run ../common/common_etl_load"
   ]
  },
  {
   "cell_type": "code",
   "execution_count": 0,
   "metadata": {
    "application/vnd.databricks.v1+cell": {
     "cellMetadata": {
      "byteLimit": 2048000,
      "implicitDf": true,
      "rowLimit": 10000
     },
     "inputWidgets": {},
     "nuid": "9a5cad69-37ff-47a3-8f36-30f62973e3c0",
     "showTitle": false,
     "tableResultSettingsMap": {},
     "title": ""
    }
   },
   "outputs": [],
   "source": [
    "spark.sql(f\"\"\"\n",
    "CREATE TABLE IF NOT EXISTS {catalog_name}.udp_wcm_gold_vcm_dwh.f_sale_prod\n",
    "(\n",
    "hash_id BIGINT,\n",
    "calday DATE,\n",
    "base_uom STRING,\n",
    "sales_unit STRING,\n",
    "transaction_index STRING,\n",
    "transaction_id STRING,\n",
    "product_id STRING,\n",
    "business_unit STRING,\n",
    "store_id STRING,\n",
    "promotion STRING,\n",
    "transaction_no STRING,\n",
    "transaction_type STRING,\n",
    "time_of_day BIGINT,\n",
    "sale_time BIGINT,\n",
    "credit_card_id STRING,\n",
    "payment_method STRING,\n",
    "department STRING,\n",
    "pos_number STRING,\n",
    "offer STRING,\n",
    "discount_type STRING,\n",
    "discount_type_group STRING,\n",
    "recordmode STRING,\n",
    "return_qty1 FLOAT,\n",
    "return_qty2 FLOAT,\n",
    "return_value FLOAT,\n",
    "promotion_qty FLOAT,\n",
    "base_sale_qty FLOAT,\n",
    "receipt_count FLOAT,\n",
    "sale_in_cost_value FLOAT,\n",
    "promotion_sale FLOAT,\n",
    "sale_qty FLOAT,\n",
    "sale_amount FLOAT,\n",
    "promotion_sale_l FLOAT,\n",
    "return_sale_l FLOAT,\n",
    "discount_item_no FLOAT,\n",
    "discount_value FLOAT,\n",
    "tax_amount FLOAT,\n",
    "tender_value FLOAT,\n",
    "vinid_card_no STRING,\n",
    "is_sll BOOLEAN,\n",
    "proc_date DATE\n",
    ")\n",
    "TBLPROPERTIES (\n",
    "  'DELTA.AUTOOPTIMIZE.OPTIMIZEWRITE' = 'TRUE',\n",
    "  'DELTA.AUTOOPTIMIZE.AUTOCOMPACT' = 'TRUE'\n",
    ")\n",
    "\"\"\")"
   ]
  },
  {
   "cell_type": "code",
   "execution_count": 0,
   "metadata": {
    "application/vnd.databricks.v1+cell": {
     "cellMetadata": {
      "byteLimit": 2048000,
      "rowLimit": 10000
     },
     "inputWidgets": {},
     "nuid": "d0a31587-6d8e-496f-af3f-44639689ed15",
     "showTitle": false,
     "tableResultSettingsMap": {},
     "title": ""
    }
   },
   "outputs": [],
   "source": [
    "if CALDAY_IN_STR != '':\n",
    "    spark.sql(f\"\"\"\n",
    "    CREATE OR REPLACE TEMP VIEW temp_f_sale_prod\n",
    "    AS\n",
    "    WITH vcdposd13_decimal AS (\n",
    "        SELECT\n",
    "            CAST((hash_id) AS BIGINT) AS hash_id,\n",
    "            SUM(ROUND(rpa_rqtyb,3)) AS return_qty1,\n",
    "            SUM(ROUND(rpa_rqtyv,3)) AS return_qty2,\n",
    "            SUM(rpa_retsal) AS return_value,\n",
    "            SUM(ROUND(rpa_prmqty,3)) AS promotion_qty,\n",
    "            SUM(ROUND(base_qty,3)) AS base_sale_qty,\n",
    "            SUM(rpa_cnr) AS receipt_count,\n",
    "            SUM(rpa_cst) AS sale_in_cost_value,\n",
    "            SUM(rpa_prmsal) AS promotion_sale,\n",
    "            SUM(ROUND(rpa_rlq,3)) AS sale_qty,\n",
    "            SUM(rpa_slc) AS sale_amount,\n",
    "            SUM(rpa_psl) AS promotion_sale_l,\n",
    "            SUM(rpa_rsl) AS return_sale_l,\n",
    "            SUM(rpa_cco) AS discount_item_no,\n",
    "            SUM(rpa_rea) AS discount_value,\n",
    "            SUM(rpa_tam) AS tax_amount,\n",
    "            SUM(rpa_tat) AS tender_value\n",
    "        FROM {catalog_name}.udp_wcm_silver_sap_bw.sap_vcdposd13\n",
    "        WHERE calday IN ({CALDAY_IN_STR})\n",
    "        GROUP BY hash_id  -- calday function\n",
    "    ),\n",
    "\n",
    "    vcdposd13_char AS (\n",
    "        SELECT\n",
    "            ROW_NUMBER() OVER (PARTITION BY hash_id ORDER BY reqtsn DESC, datapakid DESC, record DESC) AS rn,\n",
    "            CAST((hash_id) AS BIGINT) AS hash_id,\n",
    "            calday,\n",
    "            base_uom,\n",
    "            sales_unit,\n",
    "            rpa_tix AS transaction_index,\n",
    "            LPAD(CONCAT(DATE_FORMAT(calday,'yyyyMMdd'), plant, rpa_tix), 50, '0') AS transaction_id,\n",
    "            material AS product_id,\n",
    "            segment AS business_unit,\n",
    "            plant AS store_id,\n",
    "            rt_promo AS promotion,\n",
    "            rpa_tnr AS transaction_no,\n",
    "            rpa_ttc AS transaction_type,\n",
    "            rt_daytcl AS time_of_day,\n",
    "            rt_salhour AS sale_time,\n",
    "            rpa_pca AS credit_card_id,\n",
    "            rpa_tcd AS payment_method,\n",
    "            rpa_dep AS department,\n",
    "            rpa_wid AS pos_number,\n",
    "            rt_offer AS offer,\n",
    "            rpa_dtc AS discount_type,\n",
    "            rpa_dtg AS discount_type_group,\n",
    "            recordmode\n",
    "        FROM {catalog_name}.udp_wcm_silver_sap_bw.sap_vcdposd13  \n",
    "        WHERE calday IN ({CALDAY_IN_STR})-- calday function\n",
    "    ),\n",
    "\n",
    "    vcdposd13 AS (\n",
    "        SELECT a.*, b.* EXCEPT (hash_id) \n",
    "        FROM vcdposd13_char a \n",
    "        INNER JOIN vcdposd13_decimal b on a.hash_id=b.hash_id \n",
    "    ),\n",
    "\n",
    "    vcdposd07 AS (\n",
    "        SELECT\n",
    "            ROW_NUMBER() OVER (PARTITION BY hash_id ORDER BY reqtsn DESC, datapakid DESC, record DESC) AS rn,\n",
    "            *\n",
    "        FROM {catalog_name}.udp_wcm_silver_sap_bw.sap_vcdposd07\n",
    "        WHERE calday IN ({CALDAY_IN_STR})\n",
    "    ),\n",
    "\n",
    "    transaction_sll AS (\n",
    "        SELECT DISTINCT\n",
    "            calday,\n",
    "            plant AS store_id,\n",
    "            rpa_tnr AS transaction_no\n",
    "        FROM {catalog_name}.udp_wcm_silver_sap_bw.sap_vcdext01\n",
    "        WHERE _bic_zc_fgroup = 'OGID'\n",
    "        AND _bic_zc_fname = 'B2B'\n",
    "        AND _bic_zc_fvalue LIKE 'B2B%'\n",
    "        AND calday IN ({CALDAY_IN_STR})\n",
    "    )\n",
    "    SELECT \n",
    "        a.*,\n",
    "        a1.bic_zc_vinid AS vinid_card_no,\n",
    "        CAST(IF(b.transaction_no IS NOT NULL, 'True', 'False') AS BOOLEAN) AS is_sll,\n",
    "        proc_date\n",
    "    FROM (\n",
    "        SELECT * EXCEPT (rn) \n",
    "        FROM vcdposd13 \n",
    "        WHERE rn = 1\n",
    "    ) a\n",
    "    LEFT JOIN (\n",
    "        SELECT * EXCEPT (rn) \n",
    "        FROM vcdposd07 \n",
    "        WHERE rn = 1 AND bic_zk_loypnt > 0 AND rpa_slc > 0\n",
    "    ) a1 \n",
    "    ON a.calday = a1.calday \n",
    "    AND a.store_id = a1.plant \n",
    "    AND a.transaction_no = a1.rpa_tnr \n",
    "    AND a.pos_number = a1.rpa_wid\n",
    "    LEFT JOIN transaction_sll b\n",
    "    ON a.calday = b.calday \n",
    "    AND a.store_id = b.store_id\n",
    "    AND LTRIM('0',a.transaction_no) = LTRIM('0',b.transaction_no);\n",
    "    \"\"\")"
   ]
  },
  {
   "cell_type": "code",
   "execution_count": 0,
   "metadata": {
    "application/vnd.databricks.v1+cell": {
     "cellMetadata": {
      "byteLimit": 2048000,
      "rowLimit": 10000
     },
     "inputWidgets": {},
     "nuid": "9d035c75-91fc-4f3a-858b-a330ef2c7ed2",
     "showTitle": false,
     "tableResultSettingsMap": {},
     "title": ""
    }
   },
   "outputs": [],
   "source": [
    "if CALDAY_IN_STR != '':\n",
    "    # Get the calday list string from temp table\n",
    "    calday_query = \"\"\"\n",
    "    SELECT\n",
    "        CONCAT(\"'\", CONCAT_WS(\"','\", COLLECT_SET(CAST(TO_DATE(calday, 'yyyy-MM-dd') AS STRING))), \"'\") AS calday_in_str\n",
    "    FROM temp_f_sale_prod\n",
    "    \"\"\"\n",
    "\n",
    "    calday_df = spark.sql(calday_query)\n",
    "    calday_in_str = calday_df.collect()[0][0]\n",
    "\n",
    "    # Only run DELETE if the string is non-empty\n",
    "    if calday_in_str.strip(\"'\"):  # checks if there's any date inside the quotes\n",
    "        spark.sql(f\"\"\"\n",
    "        DELETE FROM {catalog_name}.udp_wcm_gold_vcm_dwh.f_sale_prod\n",
    "        WHERE calday IN ({calday_in_str})\n",
    "        \"\"\")\n",
    "    else:\n",
    "        print(\"No valid CALDAYs found to delete.\")\n",
    "        \n",
    "else:\n",
    "    print(f\"No valid calday's found In common-etl to create the view: temp_{target_table}\")"
   ]
  },
  {
   "cell_type": "code",
   "execution_count": 0,
   "metadata": {
    "application/vnd.databricks.v1+cell": {
     "cellMetadata": {
      "byteLimit": 2048000,
      "rowLimit": 10000
     },
     "inputWidgets": {},
     "nuid": "d19c6c0a-1a6e-4046-9647-a499bea7b1cd",
     "showTitle": false,
     "tableResultSettingsMap": {},
     "title": ""
    }
   },
   "outputs": [],
   "source": [
    "if CALDAY_IN_STR != \"\":\n",
    "    # Insert rows from temp table into main table\n",
    "    INSERT_ROW = \", \".join(\n",
    "        spark.table(f\"{catalog_name}.udp_wcm_gold_vcm_dwh.f_sale_prod\").columns\n",
    "    )\n",
    "    spark.sql(\n",
    "        f\"\"\"\n",
    "        INSERT INTO {catalog_name}.udp_wcm_gold_vcm_dwh.f_sale_prod ({INSERT_ROW})\n",
    "        SELECT {INSERT_ROW} FROM temp_{target_table}\n",
    "    \"\"\"\n",
    "    ).display()\n",
    "else:\n",
    "    print(\n",
    "        f\"temp_{target_table} could't be created as no valid calday's found In common-etl so {catalog_name}.udp_wcm_gold_vcm_dwh.f_sale_prod can't be inserted using calday's from temp_{target_table}\"\n",
    "    )"
   ]
  },
  {
   "cell_type": "code",
   "execution_count": 0,
   "metadata": {
    "application/vnd.databricks.v1+cell": {
     "cellMetadata": {
      "byteLimit": 2048000,
      "rowLimit": 10000
     },
     "inputWidgets": {},
     "nuid": "1ba29d18-7f5c-4b7e-be84-dcae6e57bd97",
     "showTitle": false,
     "tableResultSettingsMap": {},
     "title": ""
    }
   },
   "outputs": [],
   "source": [
    "if CALDAY_IN_STR == '':\n",
    "    dbutils.notebook.exit(\"No valid calday's found In common-etl to insert data into Table: ETL_LOG_DEPENDENCIES and ETL_DELTA_TABLE and \")"
   ]
  },
  {
   "cell_type": "code",
   "execution_count": 0,
   "metadata": {
    "application/vnd.databricks.v1+cell": {
     "cellMetadata": {
      "byteLimit": 2048000,
      "rowLimit": 10000
     },
     "inputWidgets": {},
     "nuid": "0ed5081f-6329-41c8-bb66-f3b21d820771",
     "showTitle": false,
     "tableResultSettingsMap": {},
     "title": ""
    }
   },
   "outputs": [],
   "source": [
    "spark.sql(f\"DROP VIEW IF EXISTS temp_f_sale_prod\")"
   ]
  }
 ],
 "metadata": {
  "application/vnd.databricks.v1+notebook": {
   "computePreferences": null,
   "dashboards": [],
   "environmentMetadata": {
    "base_environment": "",
    "environment_version": "2"
   },
   "inputWidgetPreferences": null,
   "language": "python",
   "notebookMetadata": {
    "mostRecentlyExecutedCommandWithImplicitDF": {
     "commandId": 7469597179156011,
     "dataframes": [
      "_sqldf"
     ]
    },
    "pythonIndentUnit": 4
   },
   "notebookName": "f_sale_prod",
   "widgets": {
    "dependency_table": {
     "currentValue": "VCM_STG_INF.SAP_VCDPOSD13, VCM_STG_INF.SAP_VCDPOSD07",
     "nuid": "d7db695e-b62b-49d2-b0bf-ccdf3406cf69",
     "typedWidgetInfo": {
      "autoCreated": false,
      "defaultValue": "VCM_STG_INF.SAP_VCDPOSD13, VCM_STG_INF.SAP_VCDPOSD07",
      "label": null,
      "name": "dependency_table",
      "options": {
       "widgetDisplayType": "Text",
       "validationRegex": null
      },
      "parameterDataType": "String"
     },
     "widgetInfo": {
      "widgetType": "text",
      "defaultValue": "VCM_STG_INF.SAP_VCDPOSD13, VCM_STG_INF.SAP_VCDPOSD07",
      "label": null,
      "name": "dependency_table",
      "options": {
       "widgetType": "text",
       "autoCreated": null,
       "validationRegex": null
      }
     }
    },
    "environment": {
     "currentValue": "DEV",
     "nuid": "e4d8625c-ac0c-4d0d-b3fd-7df2a0e5dd4b",
     "typedWidgetInfo": {
      "autoCreated": false,
      "defaultValue": "",
      "label": "",
      "name": "environment",
      "options": {
       "widgetDisplayType": "Text",
       "validationRegex": null
      },
      "parameterDataType": "String"
     },
     "widgetInfo": {
      "widgetType": "text",
      "defaultValue": "",
      "label": "",
      "name": "environment",
      "options": {
       "widgetType": "text",
       "autoCreated": null,
       "validationRegex": null
      }
     }
    },
    "field_calday": {
     "currentValue": "CALDAY",
     "nuid": "64d759f2-88d8-4d83-a041-f9fa3a0f335b",
     "typedWidgetInfo": {
      "autoCreated": false,
      "defaultValue": "CALDAY",
      "label": null,
      "name": "field_calday",
      "options": {
       "widgetDisplayType": "Text",
       "validationRegex": null
      },
      "parameterDataType": "String"
     },
     "widgetInfo": {
      "widgetType": "text",
      "defaultValue": "CALDAY",
      "label": null,
      "name": "field_calday",
      "options": {
       "widgetType": "text",
       "autoCreated": null,
       "validationRegex": null
      }
     }
    },
    "field_id": {
     "currentValue": "HASH_ID",
     "nuid": "496ebb94-de29-4a77-ad46-04af649e246d",
     "typedWidgetInfo": {
      "autoCreated": false,
      "defaultValue": "HASH_ID",
      "label": null,
      "name": "field_id",
      "options": {
       "widgetDisplayType": "Text",
       "validationRegex": null
      },
      "parameterDataType": "String"
     },
     "widgetInfo": {
      "widgetType": "text",
      "defaultValue": "HASH_ID",
      "label": null,
      "name": "field_id",
      "options": {
       "widgetType": "text",
       "autoCreated": null,
       "validationRegex": null
      }
     }
    },
    "metadata_schema": {
     "currentValue": "udp_wcm_metadata_dev",
     "nuid": "50e74405-2b52-4d35-a0c4-0b5fd576c096",
     "typedWidgetInfo": {
      "autoCreated": false,
      "defaultValue": "udp_wcm_metadata_dev",
      "label": null,
      "name": "metadata_schema",
      "options": {
       "widgetDisplayType": "Text",
       "validationRegex": null
      },
      "parameterDataType": "String"
     },
     "widgetInfo": {
      "widgetType": "text",
      "defaultValue": "udp_wcm_metadata_dev",
      "label": null,
      "name": "metadata_schema",
      "options": {
       "widgetType": "text",
       "autoCreated": false,
       "validationRegex": null
      }
     }
    },
    "proc_date": {
     "currentValue": "2025-07-21T15:11:38.345",
     "nuid": "f2c0fc30-989d-4a09-a3b8-6aa48b9124ec",
     "typedWidgetInfo": {
      "autoCreated": false,
      "defaultValue": "",
      "label": null,
      "name": "proc_date",
      "options": {
       "widgetDisplayType": "Text",
       "validationRegex": null
      },
      "parameterDataType": "String"
     },
     "widgetInfo": {
      "widgetType": "text",
      "defaultValue": "",
      "label": null,
      "name": "proc_date",
      "options": {
       "widgetType": "text",
       "autoCreated": null,
       "validationRegex": null
      }
     }
    },
    "target_dataset": {
     "currentValue": "VCM_DWH_PRD",
     "nuid": "4541f640-86bb-4477-8080-09dc13990554",
     "typedWidgetInfo": {
      "autoCreated": false,
      "defaultValue": "VCM_DWH_PRD",
      "label": null,
      "name": "target_dataset",
      "options": {
       "widgetDisplayType": "Text",
       "validationRegex": null
      },
      "parameterDataType": "String"
     },
     "widgetInfo": {
      "widgetType": "text",
      "defaultValue": "VCM_DWH_PRD",
      "label": null,
      "name": "target_dataset",
      "options": {
       "widgetType": "text",
       "autoCreated": null,
       "validationRegex": null
      }
     }
    },
    "target_table": {
     "currentValue": "f_sale_prod",
     "nuid": "370d80bb-5a62-4151-9ceb-1b170c16bf11",
     "typedWidgetInfo": {
      "autoCreated": false,
      "defaultValue": "f_sale_prod",
      "label": null,
      "name": "target_table",
      "options": {
       "widgetDisplayType": "Text",
       "validationRegex": null
      },
      "parameterDataType": "String"
     },
     "widgetInfo": {
      "widgetType": "text",
      "defaultValue": "f_sale_prod",
      "label": null,
      "name": "target_table",
      "options": {
       "widgetType": "text",
       "autoCreated": null,
       "validationRegex": null
      }
     }
    }
   }
  },
  "language_info": {
   "name": "python"
  }
 },
 "nbformat": 4,
 "nbformat_minor": 0
}
