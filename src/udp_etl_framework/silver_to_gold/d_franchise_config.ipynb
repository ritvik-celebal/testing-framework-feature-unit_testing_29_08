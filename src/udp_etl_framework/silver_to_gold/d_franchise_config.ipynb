{
 "cells": [
  {
   "cell_type": "code",
   "execution_count": 0,
   "metadata": {
    "application/vnd.databricks.v1+cell": {
     "cellMetadata": {
      "byteLimit": 2048000,
      "rowLimit": 10000
     },
     "inputWidgets": {},
     "nuid": "66f092b5-b527-4de8-b487-cddcce639289",
     "showTitle": false,
     "tableResultSettingsMap": {},
     "title": ""
    }
   },
   "outputs": [],
   "source": [
    "%run ../utils/common"
   ]
  },
  {
   "cell_type": "code",
   "execution_count": 0,
   "metadata": {
    "application/vnd.databricks.v1+cell": {
     "cellMetadata": {
      "byteLimit": 2048000,
      "rowLimit": 10000
     },
     "inputWidgets": {},
     "nuid": "7eb0926c-a822-4599-8eec-6d938192bb60",
     "showTitle": false,
     "tableResultSettingsMap": {},
     "title": ""
    }
   },
   "outputs": [],
   "source": [
    "dbutils.widgets.text(\"environment\", \"\", \"\")\n",
    "environment = dbutils.widgets.get(\"environment\")"
   ]
  },
  {
   "cell_type": "code",
   "execution_count": 0,
   "metadata": {
    "application/vnd.databricks.v1+cell": {
     "cellMetadata": {
      "byteLimit": 2048000,
      "rowLimit": 10000
     },
     "inputWidgets": {},
     "nuid": "d0800868-6ad0-4918-8b79-067fb14aa53b",
     "showTitle": false,
     "tableResultSettingsMap": {},
     "title": ""
    }
   },
   "outputs": [],
   "source": [
    "catalog_name = settings[environment]['catalog_name']"
   ]
  },
  {
   "cell_type": "code",
   "execution_count": 0,
   "metadata": {
    "application/vnd.databricks.v1+cell": {
     "cellMetadata": {
      "byteLimit": 2048000,
      "implicitDf": true,
      "rowLimit": 10000
     },
     "inputWidgets": {},
     "nuid": "dfd9b82e-ee52-4c05-933b-89eba4e438d0",
     "showTitle": false,
     "tableResultSettingsMap": {},
     "title": ""
    }
   },
   "outputs": [],
   "source": [
    "spark.sql(f\"\"\"\n",
    "CREATE OR REPLACE TABLE {catalog_name}.udp_wcm_gold_vcm_dwh.d_franchise_config \n",
    "TBLPROPERTIES (\n",
    "  'DELTA.AUTOOPTIMIZE.OPTIMIZEWRITE' = 'TRUE',\n",
    "  'DELTA.AUTOOPTIMIZE.AUTOCOMPACT' = 'TRUE'\n",
    ")\n",
    "AS\n",
    "WITH TEMP0 AS (\n",
    "    SELECT store_id, MIN(calday) cutoff_date FROM (\n",
    "      SELECT \n",
    "        cast(store_id as STRING), \n",
    "        DATE_ADD(calday, -1) AS calday \n",
    "      FROM {catalog_name}.udp_wcm_silver_rop.fms_skustock\n",
    "      WHERE store_id RLIKE 'F[0-9]' GROUP BY 1, 2 HAVING SUM(IFNULL(CAST(stock_qty AS FLOAT), 0)) != 0\n",
    "      UNION ALL \n",
    "      SELECT cast(store_id as STRING), calday FROM {catalog_name}.udp_wcm_silver_realtime.pos_wcm_saleout_tranline\n",
    "      WHERE store_id RLIKE 'F[0-9]' GROUP BY 1, 2 HAVING SUM(IFNULL(sale_qty,0)) != 0\n",
    "    ) A GROUP BY 1\n",
    "  )\n",
    "SELECT  A.*, \n",
    "  IFNULL(B.ref_fc_store, A.store_id) ref_fc_store, \n",
    "  B.supply_store, \n",
    "  IFNULL(B.addr_numbr, A.store_id) addr_numbr \n",
    "FROM TEMP0 A LEFT JOIN {catalog_name}.udp_wcm_gold_vcm_dwh.d_store B \n",
    "  ON try_cast(A.store_id as STRING) = try_cast(B.store_id as STRING)\n",
    "  \"\"\")"
   ]
  }
 ],
 "metadata": {
  "application/vnd.databricks.v1+notebook": {
   "computePreferences": null,
   "dashboards": [],
   "environmentMetadata": {
    "base_environment": "",
    "environment_version": "2"
   },
   "inputWidgetPreferences": null,
   "language": "python",
   "notebookMetadata": {
    "mostRecentlyExecutedCommandWithImplicitDF": {
     "commandId": 4736130552789604,
     "dataframes": [
      "_sqldf"
     ]
    },
    "pythonIndentUnit": 4
   },
   "notebookName": "d_franchise_config",
   "widgets": {
    "environment": {
     "currentValue": "DEV",
     "nuid": "e3a07bfa-8eb0-49c8-b994-9ebc873f3d0e",
     "typedWidgetInfo": {
      "autoCreated": false,
      "defaultValue": "",
      "label": "",
      "name": "environment",
      "options": {
       "widgetDisplayType": "Text",
       "validationRegex": null
      },
      "parameterDataType": "String"
     },
     "widgetInfo": {
      "widgetType": "text",
      "defaultValue": "",
      "label": "",
      "name": "environment",
      "options": {
       "widgetType": "text",
       "autoCreated": null,
       "validationRegex": null
      }
     }
    }
   }
  },
  "language_info": {
   "name": "python"
  }
 },
 "nbformat": 4,
 "nbformat_minor": 0
}
