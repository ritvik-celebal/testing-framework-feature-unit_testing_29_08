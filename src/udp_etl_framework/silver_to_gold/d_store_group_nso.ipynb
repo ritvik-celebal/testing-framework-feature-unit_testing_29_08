{
 "cells": [
  {
   "cell_type": "code",
   "execution_count": 0,
   "metadata": {
    "application/vnd.databricks.v1+cell": {
     "cellMetadata": {
      "byteLimit": 2048000,
      "rowLimit": 10000
     },
     "inputWidgets": {},
     "nuid": "da807155-a2ae-42ab-8855-4a51cc276c7f",
     "showTitle": false,
     "tableResultSettingsMap": {},
     "title": ""
    }
   },
   "outputs": [],
   "source": [
    "%run ../utils/common"
   ]
  },
  {
   "cell_type": "code",
   "execution_count": 0,
   "metadata": {
    "application/vnd.databricks.v1+cell": {
     "cellMetadata": {
      "byteLimit": 2048000,
      "rowLimit": 10000
     },
     "inputWidgets": {},
     "nuid": "d1f1c8a8-75f9-4f68-8e96-3af880c8090e",
     "showTitle": false,
     "tableResultSettingsMap": {},
     "title": ""
    }
   },
   "outputs": [],
   "source": [
    "dbutils.widgets.text(\"environment\", \"\", \"\")\n",
    "environment = dbutils.widgets.get(\"environment\")"
   ]
  },
  {
   "cell_type": "code",
   "execution_count": 0,
   "metadata": {
    "application/vnd.databricks.v1+cell": {
     "cellMetadata": {
      "byteLimit": 2048000,
      "rowLimit": 10000
     },
     "inputWidgets": {},
     "nuid": "ce143b79-4cd7-42ec-8caf-b4c80d157e06",
     "showTitle": false,
     "tableResultSettingsMap": {},
     "title": ""
    }
   },
   "outputs": [],
   "source": [
    "catalog_name = settings[environment]['catalog_name']"
   ]
  },
  {
   "cell_type": "code",
   "execution_count": 0,
   "metadata": {
    "application/vnd.databricks.v1+cell": {
     "cellMetadata": {
      "byteLimit": 2048000,
      "rowLimit": 10000
     },
     "inputWidgets": {},
     "nuid": "289d3509-7e50-499c-a9d0-53c0ae2b4ec6",
     "showTitle": false,
     "tableResultSettingsMap": {},
     "title": ""
    }
   },
   "outputs": [],
   "source": [
    "# Step 1: Get CALDAY (+7 hours offset)\n",
    "v_calday = spark.sql(\"SELECT DATE(CURRENT_TIMESTAMP() + INTERVAL 7 HOURS)\").collect()[0][0]\n",
    "\n",
    "v_last_wed_this_month = spark.sql(f\"\"\"\n",
    "SELECT MAX(CAST(datee AS DATE)) AS last_wed_this_month\n",
    "FROM (\n",
    "    SELECT explode(sequence(\n",
    "        date_trunc('month', DATE('{v_calday}')),\n",
    "        last_day(DATE('{v_calday}')),\n",
    "        interval 1 day\n",
    "    )) AS datee\n",
    ")\n",
    "WHERE dayofweek(datee) = 4\n",
    "\"\"\").collect()[0][0]\n",
    "\n",
    "v_last_wed_next_month = spark.sql(f\"\"\"\n",
    "SELECT MAX(CAST(datee AS DATE)) AS last_wed_next_month\n",
    "FROM (\n",
    "    SELECT explode(sequence(\n",
    "        date_trunc('month', add_months(DATE('{v_calday}'), 1)),\n",
    "        last_day(add_months(DATE('{v_calday}'), 1)),\n",
    "        interval 1 day\n",
    "    )) AS datee\n",
    ")\n",
    "WHERE dayofweek(datee) = 4\n",
    "\"\"\").collect()[0][0]\n",
    "\n",
    "\n",
    "v_available_to= spark.sql(f\"\"\"SELECT IF(DATE('{v_last_wed_this_month}') >= DATE_ADD( DATE('{v_calday}'),  30 ), DATE('{v_last_wed_this_month}'), DATE('{v_last_wed_next_month}'))\"\"\").collect()[0][0]\n"
   ]
  },
  {
   "cell_type": "code",
   "execution_count": 0,
   "metadata": {
    "application/vnd.databricks.v1+cell": {
     "cellMetadata": {
      "byteLimit": 2048000,
      "rowLimit": 10000
     },
     "inputWidgets": {},
     "nuid": "c67768e7-0ed2-4fa3-b291-a89c2434e861",
     "showTitle": false,
     "tableResultSettingsMap": {},
     "title": ""
    }
   },
   "outputs": [],
   "source": [
    "day_of_week = spark.sql(f\"SELECT dayofweek(DATE('{v_calday}'))\").collect()[0][0]\n",
    "if day_of_week==5:\n",
    "    spark.sql(f\"\"\"\n",
    "        CREATE OR REPLACE TABLE {catalog_name}.udp_wcm_gold_db_winare_fresh.d_store_group_nso\n",
    "        --CLUSTER BY store_id\n",
    "        --OPTIONS (DESCRIPTION = \"BẢNG SUGGEST TÍNH PHÂN LOẠI CỬA HÀNG THEO SỨC BÁN BÌNH QUÂN NGÀY\") \n",
    "        AS\n",
    "        WITH main AS (\n",
    "            SELECT\n",
    "                 DATE('{v_calday}') AS calday,\n",
    "                ds.business_unit,\n",
    "                ds.store_id,\n",
    "                ds.store_name,\n",
    "                ds.mien AS region,\n",
    "                CAST(NULL AS DOUBLE) AS base_sale_qty_avg,\n",
    "                CAST(NULL AS DOUBLE) AS sale_kg,\n",
    "                'N7' AS store_group_id,\n",
    "                'NO' AS is_adj,\n",
    "                CASE\n",
    "                    WHEN ds.business_unit = '1500' THEN 'Supermarket'\n",
    "                    WHEN ds.business_unit = '2000' AND ds.concept IN ('WiN', 'Rural') THEN ds.concept\n",
    "                    ELSE 'Urban'\n",
    "                END AS concept,\n",
    "                ds.qlkv,\n",
    "                ds.email_qlkv,\n",
    "                ds.is_win_plus,\n",
    "                ds.email_gdv,\n",
    "                ds.city,\n",
    "                ds.region_description AS province,\n",
    "                'YES' AS is_nso,\n",
    "                1 AS priority_order,\n",
    "                 DATE('{v_calday}') AS available_from,  \n",
    "                 DATE('{v_available_to}') AS available_to \n",
    "            FROM {catalog_name}.udp_wcm_gold_vcm_dwh.d_store ds\n",
    "            WHERE ds.store_status_desc IN ('Đang hoạt động', 'Sắp đóng cửa')\n",
    "            AND ds.business_unit = '2000'\n",
    "            AND ds.is_win_plus != 'YES'\n",
    "            AND SUBSTR(ds.store_id, 1, 2) <> 'GH'\n",
    "            AND ds.store_open_date IS NOT NULL\n",
    "            AND SUBSTR(ds.store_name,1,4) <> 'FWMP'\n",
    "            AND NOT EXISTS (SELECT 1 FROM {catalog_name}.udp_wcm_gold_db_winare_fresh.d_store_exclude_v2 WHERE UPPER(store_id) = UPPER(ds.store_id))\n",
    "            AND NOT EXISTS (SELECT 1 FROM {catalog_name}.udp_wcm_gold_db_winare_fresh.d_store_group_temp WHERE UPPER(store_id) = UPPER(ds.store_id))\n",
    "\n",
    "        )\n",
    "        SELECT * FROM main;\n",
    "    \"\"\")"
   ]
  }
 ],
 "metadata": {
  "application/vnd.databricks.v1+notebook": {
   "computePreferences": null,
   "dashboards": [],
   "environmentMetadata": {
    "base_environment": "",
    "environment_version": "2"
   },
   "inputWidgetPreferences": null,
   "language": "python",
   "notebookMetadata": {
    "mostRecentlyExecutedCommandWithImplicitDF": {
     "commandId": 6403329334324277,
     "dataframes": [
      "_sqldf"
     ]
    },
    "pythonIndentUnit": 4
   },
   "notebookName": "d_store_group_nso",
   "widgets": {
    "environment": {
     "currentValue": "DEV",
     "nuid": "e51b0a68-7e9f-405c-8c43-dd1660cd1535",
     "typedWidgetInfo": {
      "autoCreated": false,
      "defaultValue": "",
      "label": "",
      "name": "environment",
      "options": {
       "widgetDisplayType": "Text",
       "validationRegex": null
      },
      "parameterDataType": "String"
     },
     "widgetInfo": {
      "widgetType": "text",
      "defaultValue": "",
      "label": "",
      "name": "environment",
      "options": {
       "widgetType": "text",
       "autoCreated": null,
       "validationRegex": null
      }
     }
    },
    "layer": {
     "currentValue": "GOLD",
     "nuid": "5ab662d9-6ba9-4f71-b78c-3fa6640c0485",
     "typedWidgetInfo": {
      "autoCreated": false,
      "defaultValue": "",
      "label": null,
      "name": "layer",
      "options": {
       "widgetDisplayType": "Text",
       "validationRegex": null
      },
      "parameterDataType": "String"
     },
     "widgetInfo": {
      "widgetType": "text",
      "defaultValue": "",
      "label": null,
      "name": "layer",
      "options": {
       "widgetType": "text",
       "autoCreated": false,
       "validationRegex": null
      }
     }
    },
    "proc_date": {
     "currentValue": "2025-08-18",
     "nuid": "17a89d98-59c7-4e09-8da7-cfcdd2769eb2",
     "typedWidgetInfo": {
      "autoCreated": false,
      "defaultValue": "",
      "label": null,
      "name": "proc_date",
      "options": {
       "widgetDisplayType": "Text",
       "validationRegex": null
      },
      "parameterDataType": "String"
     },
     "widgetInfo": {
      "widgetType": "text",
      "defaultValue": "",
      "label": null,
      "name": "proc_date",
      "options": {
       "widgetType": "text",
       "autoCreated": null,
       "validationRegex": null
      }
     }
    }
   }
  },
  "language_info": {
   "name": "python"
  }
 },
 "nbformat": 4,
 "nbformat_minor": 0
}
