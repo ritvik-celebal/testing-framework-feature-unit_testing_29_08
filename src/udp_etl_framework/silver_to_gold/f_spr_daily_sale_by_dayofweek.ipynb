{
 "cells": [
  {
   "cell_type": "code",
   "execution_count": 0,
   "metadata": {
    "application/vnd.databricks.v1+cell": {
     "cellMetadata": {
      "byteLimit": 2048000,
      "rowLimit": 10000
     },
     "inputWidgets": {},
     "nuid": "06b0e7a4-b65e-4d2d-a3d1-a7b9d2e927e9",
     "showTitle": false,
     "tableResultSettingsMap": {},
     "title": ""
    }
   },
   "outputs": [],
   "source": [
    "%run ../utils/common"
   ]
  },
  {
   "cell_type": "code",
   "execution_count": 0,
   "metadata": {
    "application/vnd.databricks.v1+cell": {
     "cellMetadata": {
      "byteLimit": 2048000,
      "rowLimit": 10000
     },
     "inputWidgets": {},
     "nuid": "a5509b31-d173-49f6-8f2e-5d9d57188dbd",
     "showTitle": false,
     "tableResultSettingsMap": {},
     "title": ""
    }
   },
   "outputs": [],
   "source": [
    "dbutils.widgets.text(\"environment\", \"\", \"\")\n",
    "environment = dbutils.widgets.get(\"environment\")"
   ]
  },
  {
   "cell_type": "code",
   "execution_count": 0,
   "metadata": {
    "application/vnd.databricks.v1+cell": {
     "cellMetadata": {
      "byteLimit": 2048000,
      "rowLimit": 10000
     },
     "inputWidgets": {},
     "nuid": "b49738d2-3e1a-4061-94ca-9bf32579791f",
     "showTitle": false,
     "tableResultSettingsMap": {},
     "title": ""
    }
   },
   "outputs": [],
   "source": [
    "catalog_name = settings[environment]['catalog_name']"
   ]
  },
  {
   "cell_type": "code",
   "execution_count": 0,
   "metadata": {
    "application/vnd.databricks.v1+cell": {
     "cellMetadata": {
      "byteLimit": 2048000,
      "rowLimit": 10000
     },
     "inputWidgets": {},
     "nuid": "48c547a2-6361-4b7c-8595-6d21ba17cd46",
     "showTitle": false,
     "tableResultSettingsMap": {},
     "title": ""
    }
   },
   "outputs": [],
   "source": [
    "spark.sql(f\"\"\"\n",
    "CREATE OR REPLACE TABLE {catalog_name}.udp_wcm_gold_db_supra_fresh.f_spr_daily_sale_by_dayofweek\n",
    "--  CLUSTER BY store_id, product_id \n",
    "TBLPROPERTIES (\n",
    "  'DELTA.AUTOOPTIMIZE.OPTIMIZEWRITE' = 'TRUE',\n",
    "  'DELTA.AUTOOPTIMIZE.AUTOCOMPACT' = 'TRUE'\n",
    ")\n",
    "AS\n",
    "WITH \n",
    "main AS (\n",
    "    SELECT  \n",
    "        store_id,\n",
    "        product_id,\n",
    "        1 dayofweek,\n",
    "        fc_sold_qty_sun fc_sold_qty\n",
    "    FROM {catalog_name}.udp_wcm_gold_db_supra_fresh.f_spr_daily_sale\n",
    "\n",
    "    UNION ALL\n",
    "    SELECT  \n",
    "        store_id,\n",
    "        product_id,\n",
    "        2 dayofweek,\n",
    "        fc_sold_qty_mon fc_sold_qty\n",
    "    FROM {catalog_name}.udp_wcm_gold_db_supra_fresh.f_spr_daily_sale\n",
    "\n",
    "    UNION ALL\n",
    "    SELECT  \n",
    "        store_id,\n",
    "        product_id,\n",
    "        3 dayofweek,\n",
    "        fc_sold_qty_tue fc_sold_qty\n",
    "    FROM {catalog_name}.udp_wcm_gold_db_supra_fresh.f_spr_daily_sale\n",
    "\n",
    "    UNION ALL\n",
    "    SELECT  \n",
    "        store_id,\n",
    "        product_id,\n",
    "        4 dayofweek,\n",
    "        fc_sold_qty_wed fc_sold_qty\n",
    "    FROM {catalog_name}.udp_wcm_gold_db_supra_fresh.f_spr_daily_sale\n",
    "\n",
    "    UNION ALL\n",
    "    SELECT  \n",
    "        store_id,\n",
    "        product_id,\n",
    "        5 dayofweek,\n",
    "        fc_sold_qty_thu fc_sold_qty\n",
    "    FROM {catalog_name}.udp_wcm_gold_db_supra_fresh.f_spr_daily_sale\n",
    "\n",
    "    UNION ALL\n",
    "    SELECT  \n",
    "        store_id,\n",
    "        product_id,\n",
    "        6 dayofweek,\n",
    "        fc_sold_qty_fri fc_sold_qty\n",
    "    FROM {catalog_name}.udp_wcm_gold_db_supra_fresh.f_spr_daily_sale\n",
    "\n",
    "    UNION ALL\n",
    "    SELECT  \n",
    "        store_id,\n",
    "        product_id,\n",
    "        7 dayofweek,\n",
    "        fc_sold_qty_sat fc_sold_qty\n",
    "    FROM {catalog_name}.udp_wcm_gold_db_supra_fresh.f_spr_daily_sale\n",
    ")\n",
    "SELECT * FROM main;\n",
    "\"\"\")"
   ]
  }
 ],
 "metadata": {
  "application/vnd.databricks.v1+notebook": {
   "computePreferences": null,
   "dashboards": [],
   "environmentMetadata": {
    "base_environment": "",
    "environment_version": "2"
   },
   "inputWidgetPreferences": null,
   "language": "python",
   "notebookMetadata": {
    "mostRecentlyExecutedCommandWithImplicitDF": {
     "commandId": 6403329334306958,
     "dataframes": [
      "_sqldf"
     ]
    },
    "pythonIndentUnit": 4
   },
   "notebookName": "f_spr_daily_sale_by_dayofweek",
   "widgets": {
    "environment": {
     "currentValue": "DEV",
     "nuid": "a6b3771c-0293-4f19-8c8e-d3265306f6f8",
     "typedWidgetInfo": {
      "autoCreated": false,
      "defaultValue": "",
      "label": "",
      "name": "environment",
      "options": {
       "widgetDisplayType": "Text",
       "validationRegex": null
      },
      "parameterDataType": "String"
     },
     "widgetInfo": {
      "widgetType": "text",
      "defaultValue": "",
      "label": "",
      "name": "environment",
      "options": {
       "widgetType": "text",
       "autoCreated": null,
       "validationRegex": null
      }
     }
    },
    "proc_date": {
     "currentValue": "2025-07-21",
     "nuid": "0af0ac03-dcef-44b2-a224-fd9eecf0c920",
     "typedWidgetInfo": {
      "autoCreated": false,
      "defaultValue": "",
      "label": "",
      "name": "proc_date",
      "options": {
       "widgetDisplayType": "Text",
       "validationRegex": null
      },
      "parameterDataType": "String"
     },
     "widgetInfo": {
      "widgetType": "text",
      "defaultValue": "",
      "label": "",
      "name": "proc_date",
      "options": {
       "widgetType": "text",
       "autoCreated": null,
       "validationRegex": null
      }
     }
    }
   }
  },
  "language_info": {
   "name": "python"
  }
 },
 "nbformat": 4,
 "nbformat_minor": 0
}
