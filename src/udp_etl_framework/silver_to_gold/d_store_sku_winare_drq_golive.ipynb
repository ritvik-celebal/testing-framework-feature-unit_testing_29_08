{
 "cells": [
  {
   "cell_type": "code",
   "execution_count": 0,
   "metadata": {
    "application/vnd.databricks.v1+cell": {
     "cellMetadata": {
      "byteLimit": 2048000,
      "rowLimit": 10000
     },
     "inputWidgets": {},
     "nuid": "b36767e1-479d-4a49-aeca-7f26707f00ba",
     "showTitle": false,
     "tableResultSettingsMap": {},
     "title": ""
    }
   },
   "outputs": [],
   "source": [
    "%run ../utils/common"
   ]
  },
  {
   "cell_type": "code",
   "execution_count": 0,
   "metadata": {
    "application/vnd.databricks.v1+cell": {
     "cellMetadata": {
      "byteLimit": 2048000,
      "rowLimit": 10000
     },
     "inputWidgets": {},
     "nuid": "df2aec8b-917b-4798-8fc4-56343a25c827",
     "showTitle": false,
     "tableResultSettingsMap": {},
     "title": ""
    }
   },
   "outputs": [],
   "source": [
    "\n",
    "dbutils.widgets.text(\"environment\", \"\", \"\")\n",
    "environment = dbutils.widgets.get(\"environment\")"
   ]
  },
  {
   "cell_type": "code",
   "execution_count": 0,
   "metadata": {
    "application/vnd.databricks.v1+cell": {
     "cellMetadata": {
      "byteLimit": 2048000,
      "rowLimit": 10000
     },
     "inputWidgets": {},
     "nuid": "1b5fd06c-44e3-43cc-976c-8ae8e2509f63",
     "showTitle": false,
     "tableResultSettingsMap": {},
     "title": ""
    }
   },
   "outputs": [],
   "source": [
    "catalog_name = settings[environment]['catalog_name']"
   ]
  },
  {
   "cell_type": "code",
   "execution_count": 0,
   "metadata": {
    "application/vnd.databricks.v1+cell": {
     "cellMetadata": {
      "byteLimit": 2048000,
      "rowLimit": 10000
     },
     "inputWidgets": {},
     "nuid": "44a1fbce-297d-4926-bcc4-a1eb98229688",
     "showTitle": false,
     "tableResultSettingsMap": {},
     "title": ""
    }
   },
   "outputs": [],
   "source": [
    "spark.sql(f\"\"\"\n",
    "CREATE OR REPLACE TABLE {catalog_name}.udp_wcm_gold_db_winare_nonfresh_dc.d_store_sku_winare_drq_golive\n",
    "TBLPROPERTIES (\n",
    "  'DELTA.AUTOOPTIMIZE.OPTIMIZEWRITE' = 'TRUE',\n",
    "  'DELTA.AUTOOPTIMIZE.AUTOCOMPACT' = 'TRUE'\n",
    ")\n",
    "AS\n",
    "\n",
    "WITH sku AS (\n",
    "    SELECT DISTINCT product_id\n",
    "    FROM {catalog_name}.udp_wcm_gold_vcm_dwh.d_product\n",
    "    WHERE manufacturer_id IN ('1012', '1461') \n",
    "      AND brand_id <> '16009'\n",
    "),\n",
    "\n",
    "store AS (\n",
    "    SELECT DISTINCT store_id\n",
    "    FROM {catalog_name}.udp_wcm_gold_vcm_dwh.d_store\n",
    "    WHERE UPPER(concept) = 'WIN'\n",
    "      AND store_status_desc <> 'Đóng cửa'\n",
    "),\n",
    "\n",
    "revenue AS (\n",
    "    SELECT\n",
    "        a.calday,\n",
    "        a.store_id,\n",
    "        SUM(IFNULL(a.revenue.rev_amt_pos, 0)) AS rev_amt_pos\n",
    "    FROM {catalog_name}.udp_wcm_gold_vcm_dmt.a_store_sku_daily a\n",
    "    INNER JOIN store b USING(store_id)\n",
    "    WHERE a.calday >= DATE_ADD(DATE(CURRENT_TIMESTAMP() + INTERVAL 7 HOURS), -360)\n",
    "    GROUP BY 1, 2\n",
    "    HAVING rev_amt_pos >= 5000000\n",
    "),\n",
    "\n",
    "store_golive AS (\n",
    "    SELECT DISTINCT store_id\n",
    "    FROM revenue\n",
    "),\n",
    "\n",
    "store_sku_list AS (\n",
    "    SELECT\n",
    "        store_id, product_id\n",
    "    FROM store_golive\n",
    "    CROSS JOIN sku\n",
    ")\n",
    "\n",
    "SELECT store_id, product_id\n",
    "FROM store_sku_list\n",
    "\"\"\")\n"
   ]
  }
 ],
 "metadata": {
  "application/vnd.databricks.v1+notebook": {
   "computePreferences": null,
   "dashboards": [],
   "environmentMetadata": {
    "base_environment": "",
    "environment_version": "2"
   },
   "inputWidgetPreferences": null,
   "language": "python",
   "notebookMetadata": {
    "mostRecentlyExecutedCommandWithImplicitDF": {
     "commandId": 4736130552740649,
     "dataframes": [
      "_sqldf"
     ]
    },
    "pythonIndentUnit": 4
   },
   "notebookName": "d_store_sku_winare_drq_golive",
   "widgets": {
    "environment": {
     "currentValue": "DEV",
     "nuid": "2e0f6b2b-ebd3-44fb-8b4e-194cb65dd16c",
     "typedWidgetInfo": {
      "autoCreated": false,
      "defaultValue": "",
      "label": "",
      "name": "environment",
      "options": {
       "widgetDisplayType": "Text",
       "validationRegex": null
      },
      "parameterDataType": "String"
     },
     "widgetInfo": {
      "widgetType": "text",
      "defaultValue": "",
      "label": "",
      "name": "environment",
      "options": {
       "widgetType": "text",
       "autoCreated": null,
       "validationRegex": null
      }
     }
    },
    "proc_date": {
     "currentValue": "2025-06-28",
     "nuid": "b1d84b10-c154-4854-9f42-a04bfe598bde",
     "typedWidgetInfo": {
      "autoCreated": false,
      "defaultValue": "2025-06-28",
      "label": "",
      "name": "proc_date",
      "options": {
       "widgetDisplayType": "Text",
       "validationRegex": null
      },
      "parameterDataType": "String"
     },
     "widgetInfo": {
      "widgetType": "text",
      "defaultValue": "2025-06-28",
      "label": "",
      "name": "proc_date",
      "options": {
       "widgetType": "text",
       "autoCreated": false,
       "validationRegex": null
      }
     }
    }
   }
  },
  "language_info": {
   "name": "python"
  }
 },
 "nbformat": 4,
 "nbformat_minor": 0
}
