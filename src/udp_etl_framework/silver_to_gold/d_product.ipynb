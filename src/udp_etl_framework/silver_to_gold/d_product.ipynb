{
 "cells": [
  {
   "cell_type": "code",
   "execution_count": 0,
   "metadata": {
    "application/vnd.databricks.v1+cell": {
     "cellMetadata": {
      "byteLimit": 2048000,
      "rowLimit": 10000
     },
     "inputWidgets": {},
     "nuid": "af237230-9538-49df-8f70-d12e50c07a40",
     "showTitle": false,
     "tableResultSettingsMap": {},
     "title": ""
    }
   },
   "outputs": [],
   "source": [
    "%run ../utils/common"
   ]
  },
  {
   "cell_type": "code",
   "execution_count": 0,
   "metadata": {
    "application/vnd.databricks.v1+cell": {
     "cellMetadata": {
      "byteLimit": 2048000,
      "rowLimit": 10000
     },
     "inputWidgets": {},
     "nuid": "d7d90cb6-e4b9-4b8f-8d6f-d855690686ff",
     "showTitle": false,
     "tableResultSettingsMap": {},
     "title": ""
    }
   },
   "outputs": [],
   "source": [
    "dbutils.widgets.text(\"environment\", \"\", \"\")\n",
    "environment = dbutils.widgets.get(\"environment\")"
   ]
  },
  {
   "cell_type": "code",
   "execution_count": 0,
   "metadata": {
    "application/vnd.databricks.v1+cell": {
     "cellMetadata": {
      "byteLimit": 2048000,
      "rowLimit": 10000
     },
     "inputWidgets": {},
     "nuid": "fdd32870-9b80-4dfd-9b0b-e7170536a5e9",
     "showTitle": false,
     "tableResultSettingsMap": {},
     "title": ""
    }
   },
   "outputs": [],
   "source": [
    "catalog_name = settings[environment]['catalog_name']"
   ]
  },
  {
   "cell_type": "code",
   "execution_count": 0,
   "metadata": {
    "application/vnd.databricks.v1+cell": {
     "cellMetadata": {
      "byteLimit": 2048000,
      "rowLimit": 10000
     },
     "inputWidgets": {},
     "nuid": "b3c5db98-3645-4854-917a-0f44069d180e",
     "showTitle": false,
     "tableResultSettingsMap": {},
     "title": ""
    }
   },
   "outputs": [],
   "source": [
    "spark.sql(f\"\"\"\n",
    "CREATE TABLE IF NOT EXISTS {catalog_name}.udp_wcm_gold_vcm_dwh.d_product\n",
    "(\n",
    "  product_id STRING,\n",
    "  product_name STRING,\n",
    "  base_uom STRING,\n",
    "  createdon DATE,\n",
    "  eanupc STRING,\n",
    "  gross_content FLOAT,\n",
    "  gross_weight FLOAT,\n",
    "  height FLOAT,\n",
    "  length FLOAT,\n",
    "  width FLOAT,\n",
    "  product_cat STRING,\n",
    "  product_group STRING,\n",
    "  product_type STRING,\n",
    "  net_content FLOAT,\n",
    "  net_weight FLOAT,\n",
    "  order_unit STRING,\n",
    "  unit_dim STRING,\n",
    "  unit_of_wt STRING,\n",
    "  vendor STRING,\n",
    "  volume FLOAT,\n",
    "  volumeunit STRING,\n",
    "  external_product_group STRING,\n",
    "  mch1_id STRING,\n",
    "  mch2_id STRING,\n",
    "  mch3_id STRING,\n",
    "  mch4_id STRING,\n",
    "  mch5_id STRING,\n",
    "  mch6_id STRING,\n",
    "  mch1_name STRING,\n",
    "  mch2_name STRING,\n",
    "  mch3_name STRING,\n",
    "  mch4_name STRING,\n",
    "  mch5_name STRING,\n",
    "  mch6_name STRING,\n",
    "  mch1_desc STRING,\n",
    "  mch2_desc STRING,\n",
    "  mch3_desc STRING,\n",
    "  mch4_desc STRING,\n",
    "  mch5_desc STRING,\n",
    "  mch6_desc STRING,\n",
    "  total_shelf_life FLOAT,\n",
    "  remaining_shelf_life STRING,\n",
    "  box_size STRING,\n",
    "  model STRING,\n",
    "  attribute1 STRING,\n",
    "  eligible STRING,\n",
    "  warranty STRING,\n",
    "  valuation_class STRING,\n",
    "  promotion_upper_qty FLOAT,\n",
    "  manufacturer_id STRING,\n",
    "  manufacturer_name STRING,\n",
    "  manufacturer STRING,\n",
    "  sub_manufacturer_id STRING,\n",
    "  sub_manufacturer_name STRING,\n",
    "  brand_id STRING,\n",
    "  brand STRING,\n",
    "  brand_name STRING,\n",
    "  sub_brand_id STRING,\n",
    "  sub_brand_name STRING,\n",
    "  abc_indicator STRING,\n",
    "  changed_on DATE,\n",
    "  name STRING,\n",
    "  product_status STRING,\n",
    "  category_vmp_1 STRING,\n",
    "  category_vmp_2 STRING,\n",
    "  category_vmp_3 STRING,\n",
    "  temperature STRING,\n",
    "  planogram_char_001 STRING,\n",
    "  attribute3 STRING,\n",
    "  attribute4 STRING,\n",
    "  attribute12 STRING,\n",
    "  origin STRING,\n",
    "  country_of_origin STRING,\n",
    "  model_desc STRING,\n",
    "  vat_code STRING,\n",
    "  vat_desc STRING\n",
    ")\n",
    "TBLPROPERTIES (\n",
    "  'DELTA.AUTOOPTIMIZE.OPTIMIZEWRITE' = 'TRUE',\n",
    "  'DELTA.AUTOOPTIMIZE.AUTOCOMPACT' = 'TRUE'\n",
    ")\"\"\")"
   ]
  },
  {
   "cell_type": "code",
   "execution_count": 0,
   "metadata": {
    "application/vnd.databricks.v1+cell": {
     "cellMetadata": {
      "byteLimit": 2048000,
      "implicitDf": true,
      "rowLimit": 10000
     },
     "inputWidgets": {},
     "nuid": "052ee029-fa0c-47b9-9f9c-f01d276c2d09",
     "showTitle": false,
     "tableResultSettingsMap": {},
     "title": ""
    }
   },
   "outputs": [],
   "source": [
    "spark.sql(f\"\"\"\n",
    "CREATE OR REPLACE TEMP VIEW temp_d_product\n",
    "AS\n",
    "WITH\n",
    "material AS (\n",
    "    SELECT * EXCEPT(rn) \n",
    "    FROM (\n",
    "        SELECT *, \n",
    "                ROW_NUMBER() OVER (PARTITION BY material ORDER BY end_date DESC) rn \n",
    "        FROM {catalog_name}.udp_wcm_silver_sap_bw.sap_0material\n",
    "    ) WHERE rn = 1\n",
    "),\n",
    "t_material AS (\n",
    "    SELECT * EXCEPT(rn) \n",
    "    FROM (\n",
    "        SELECT *, ROW_NUMBER() OVER (PARTITION BY material ORDER BY end_date DESC) rn \n",
    "        FROM {catalog_name}.udp_wcm_silver_sap_bw.sap_tmaterial\n",
    "    ) a WHERE rn = 1\n",
    "),\n",
    "product AS (\n",
    "    SELECT \n",
    "        a.* EXCEPT(name),\n",
    "        b.txtmd name, \n",
    "        b.txtmd material_desc \n",
    "    FROM material a INNER JOIN t_material b ON a.material = b.material\n",
    "),\n",
    "main AS (\n",
    "    SELECT\n",
    "        m1.material product_id,\n",
    "        {catalog_name}.default.fn_normalize_name(material_desc) product_name,\n",
    "        m1.base_uom,\n",
    "        m1.createdon,\n",
    "        m1.eanupc,\n",
    "        m1.gross_cont gross_content,\n",
    "        m1.gross_wt gross_weight,\n",
    "        m1.height,\n",
    "        m1.lenght length,\n",
    "        m1.width,\n",
    "        m1.matl_cat product_cat,\n",
    "        m1.matl_group product_group,\n",
    "        m1.matl_type product_type,\n",
    "        m1.net_cont net_content,\n",
    "        m1.net_weight,\n",
    "        IFNULL(m1.po_unit, m1.base_uom) order_unit,\n",
    "        m1.unit_dim,\n",
    "        m1.unit_of_wt,\n",
    "        m1.vendor vendor,\n",
    "        m1.volume,\n",
    "        m1.volumeunit,\n",
    "        m1.extmatlgrp external_product_group,\n",
    "        m1._bic_zc_mchlv1 mch1_id,\n",
    "        m1._bic_zc_mchlv2 mch2_id,\n",
    "        m1._bic_zc_mchlv3 mch3_id,\n",
    "        m1._bic_zc_mchlv4 mch4_id,\n",
    "        m1._bic_zc_mchlv5 mch5_id,\n",
    "        m1.extmatlgrp mch6_id,\n",
    "        mch1_name, \n",
    "        mch2_name,\n",
    "        mch3_name, \n",
    "        mch4_name,\n",
    "        mch5_name, \n",
    "        mch6_name, \n",
    "        mch1_desc,\n",
    "        mch2_desc, \n",
    "        mch3_desc,    \n",
    "        mch4_desc,  \n",
    "        mch5_desc,\n",
    "        mch6_desc,\n",
    "        m1._bic_zc_shllif total_shelf_life,\n",
    "        m1._bic_zc_attr5 remaining_shelf_life,\n",
    "        m1._bic_zc_size box_size,\n",
    "        m1._bic_zc_model model,\n",
    "        m1._bic_zc_attr1 attribute1,\n",
    "        m1._bic_zc_eligbl eligible,\n",
    "        m1._bic_zc_warnty warranty,\n",
    "        val_class valuation_class,\n",
    "        m1._bic_zprtupqty promotion_upper_qty,\n",
    "        m1._bic_zc_manftr manufacturer_id,\n",
    "        dm.manufacturer_name,\n",
    "        dm.manufacturer_name manufacturer, \n",
    "        m1._bic_zc_subman sub_manufacturer_id,\n",
    "        dms.sub_manufacturer_name sub_manufacturer_name,\n",
    "        m1._bic_zc_brand brand_id,\n",
    "        m1._bic_zc_brand brand,\n",
    "        brand.brand_name,\n",
    "        m1._bic_zc_subbrd sub_brand_id,\n",
    "        sub_brand.sub_brand_name,\n",
    "        ai.abc_indicator_desc abc_indicator,\n",
    "        m1.aedat changed_on,\n",
    "        m1.name name,\n",
    "        m1._bic_zc_artsts product_status,\n",
    "        m1._bic_zc_cvmp1 category_vmp_1,\n",
    "        m1._bic_zc_cvmp2 category_vmp_2,\n",
    "        m1._bic_zc_cvmp3 category_vmp_3,\n",
    "        m1._bic_zc_tempre temperature,\n",
    "        m1._bic_zc_pla001 planogram_char_001,\n",
    "        m1._bic_zc_attr3 attribute3,\n",
    "        m1._bic_zc_attr4 attribute4,\n",
    "        m1._bic_zc_attr12 attribute12,\n",
    "        m1._bic_zc_origin origin,\n",
    "        m1.wm_coo country_of_origin,\n",
    "        CASE CAST(m1._bic_zc_model AS BIGINT)\n",
    "            WHEN 1 THEN 'NHR1'\n",
    "            WHEN 2 THEN 'NHR2'\n",
    "            WHEN 3 THEN 'NKTT'\n",
    "            WHEN 4 THEN 'Hàng thường'\n",
    "        END model_desc,\n",
    "        m1._bic_zc_attr11 vat_code,\n",
    "        CASE CAST(m1._bic_zc_attr11 AS BIGINT)\n",
    "            WHEN 1 THEN 'Không chịu thuế'\n",
    "            WHEN 2 THEN 'Thuế suất 0%'\n",
    "            WHEN 3 THEN 'Thuế suất 5%'\n",
    "            WHEN 4 THEN 'Thuế suất 10%'\n",
    "            WHEN 5 THEN 'Thuế suất 5% hàng tươi sống'\n",
    "            WHEN 6 THEN 'Thuế suất 8%'\n",
    "            WHEN 9 THEN 'Thuế suất 0% hàng tươi sống'\n",
    "        END vat_desc\n",
    "    FROM product m1\n",
    "        LEFT JOIN {catalog_name}.udp_wcm_gold_vcm_dwh.d_mch1 mch1 ON m1._bic_zc_mchlv1 = mch1.mch1_id\n",
    "        LEFT JOIN {catalog_name}.udp_wcm_gold_vcm_dwh.d_mch2 mch2 ON m1._bic_zc_mchlv2 = mch2.mch2_id\n",
    "        LEFT JOIN {catalog_name}.udp_wcm_gold_vcm_dwh.d_mch3 mch3 ON m1._bic_zc_mchlv3 = mch3.mch3_id\n",
    "        LEFT JOIN {catalog_name}.udp_wcm_gold_vcm_dwh.d_mch4 mch4 ON m1._bic_zc_mchlv4 = mch4.mch4_id\n",
    "        LEFT JOIN {catalog_name}.udp_wcm_gold_vcm_dwh.d_mch5 mch5 ON m1._bic_zc_mchlv5 = mch5.mch5_id\n",
    "        LEFT JOIN {catalog_name}.udp_wcm_gold_vcm_dwh.d_mch6 mch6 ON m1.extmatlgrp = mch6.mch6_id\n",
    "        LEFT JOIN {catalog_name}.udp_wcm_silver_dim.abc_indicator ai ON m1.abckey = ai.abc_indicator\n",
    "        LEFT JOIN {catalog_name}.udp_wcm_gold_vcm_dwh.d_manufacturer dm ON m1._bic_zc_manftr = dm.manufacturer_id\n",
    "        LEFT JOIN {catalog_name}.udp_wcm_gold_vcm_dwh.d_sub_manufacturer dms ON m1._bic_zc_subman = dms.sub_manufacturer_id\n",
    "        LEFT JOIN {catalog_name}.udp_wcm_gold_vcm_dwh.d_brand brand ON m1._bic_zc_brand = brand.brand_id\n",
    "        LEFT JOIN {catalog_name}.udp_wcm_gold_vcm_dwh.d_sub_brand sub_brand ON m1._bic_zc_subbrd = sub_brand.sub_brand_id\n",
    "),\n",
    "rank AS (\n",
    "    SELECT *,\n",
    "        ROW_NUMBER() OVER (PARTITION BY product_id ORDER BY changed_on DESC) rn\n",
    "    FROM main\n",
    ")\n",
    "SELECT * EXCEPT(rn)\n",
    "FROM rank\n",
    "WHERE rn = 1 \n",
    "          \"\"\")"
   ]
  },
  {
   "cell_type": "code",
   "execution_count": 0,
   "metadata": {
    "application/vnd.databricks.v1+cell": {
     "cellMetadata": {
      "byteLimit": 2048000,
      "rowLimit": 10000
     },
     "inputWidgets": {},
     "nuid": "bc212528-910f-4bca-815a-91396e2e24d7",
     "showTitle": false,
     "tableResultSettingsMap": {},
     "title": ""
    }
   },
   "outputs": [],
   "source": [
    "# Load the temp table schema\n",
    "df = spark.table(f\"{catalog_name}.udp_wcm_gold_vcm_dwh.d_product\")\n",
    "columns = df.columns\n",
    "\n",
    "# Create INSERT column list\n",
    "insert_columns = \", \".join(columns)\n",
    "\n",
    "# Create UPDATE SET clause\n",
    "update_set_clause = \", \".join([f\"main_tbl.{col} = temp_tbl.{col}\" for col in columns])\n",
    "\n",
    "# Construct the MERGE SQL\n",
    "merge_sql = f\"\"\"\n",
    "MERGE INTO {catalog_name}.udp_wcm_gold_vcm_dwh.d_product AS main_tbl\n",
    "USING temp_d_product AS temp_tbl\n",
    "ON main_tbl.product_id = temp_tbl.product_id\n",
    "WHEN MATCHED THEN \n",
    "  UPDATE SET {update_set_clause}\n",
    "WHEN NOT MATCHED THEN \n",
    "  INSERT ({insert_columns}) \n",
    "  VALUES ({', '.join(['temp_tbl.' + col for col in columns])})\n",
    "\"\"\"\n",
    "\n",
    "# Run the SQL\n",
    "spark.sql(merge_sql)"
   ]
  },
  {
   "cell_type": "code",
   "execution_count": 0,
   "metadata": {
    "application/vnd.databricks.v1+cell": {
     "cellMetadata": {
      "byteLimit": 2048000,
      "implicitDf": true,
      "rowLimit": 10000
     },
     "inputWidgets": {},
     "nuid": "1aa1cfeb-715e-4f14-8f92-4772a782ba24",
     "showTitle": false,
     "tableResultSettingsMap": {},
     "title": ""
    }
   },
   "outputs": [],
   "source": [
    "spark.sql(\"\"\"drop view if exists temp_d_product\"\"\")"
   ]
  }
 ],
 "metadata": {
  "application/vnd.databricks.v1+notebook": {
   "computePreferences": null,
   "dashboards": [],
   "environmentMetadata": {
    "base_environment": "",
    "environment_version": "2"
   },
   "inputWidgetPreferences": null,
   "language": "python",
   "notebookMetadata": {
    "mostRecentlyExecutedCommandWithImplicitDF": {
     "commandId": 6673494183706858,
     "dataframes": [
      "_sqldf"
     ]
    },
    "pythonIndentUnit": 4
   },
   "notebookName": "d_product",
   "widgets": {
    "environment": {
     "currentValue": "DEV",
     "nuid": "3f61a178-9a8b-45ea-8c85-1fde3680ce0c",
     "typedWidgetInfo": {
      "autoCreated": false,
      "defaultValue": "",
      "label": "",
      "name": "environment",
      "options": {
       "widgetDisplayType": "Text",
       "validationRegex": null
      },
      "parameterDataType": "String"
     },
     "widgetInfo": {
      "widgetType": "text",
      "defaultValue": "",
      "label": "",
      "name": "environment",
      "options": {
       "widgetType": "text",
       "autoCreated": null,
       "validationRegex": null
      }
     }
    }
   }
  },
  "language_info": {
   "name": "python"
  }
 },
 "nbformat": 4,
 "nbformat_minor": 0
}
