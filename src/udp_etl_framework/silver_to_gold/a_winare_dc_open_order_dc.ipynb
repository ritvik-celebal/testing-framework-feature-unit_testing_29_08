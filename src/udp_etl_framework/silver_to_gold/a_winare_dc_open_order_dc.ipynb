{
 "cells": [
  {
   "cell_type": "code",
   "execution_count": 0,
   "metadata": {
    "application/vnd.databricks.v1+cell": {
     "cellMetadata": {
      "byteLimit": 2048000,
      "rowLimit": 10000
     },
     "inputWidgets": {},
     "nuid": "b36767e1-479d-4a49-aeca-7f26707f00ba",
     "showTitle": false,
     "tableResultSettingsMap": {},
     "title": ""
    }
   },
   "outputs": [],
   "source": [
    "%run ../utils/common"
   ]
  },
  {
   "cell_type": "code",
   "execution_count": 0,
   "metadata": {
    "application/vnd.databricks.v1+cell": {
     "cellMetadata": {
      "byteLimit": 2048000,
      "rowLimit": 10000
     },
     "inputWidgets": {},
     "nuid": "df2aec8b-917b-4798-8fc4-56343a25c827",
     "showTitle": false,
     "tableResultSettingsMap": {},
     "title": ""
    }
   },
   "outputs": [],
   "source": [
    "\n",
    "dbutils.widgets.text(\"environment\", \"\", \"\")\n",
    "environment = dbutils.widgets.get(\"environment\")"
   ]
  },
  {
   "cell_type": "code",
   "execution_count": 0,
   "metadata": {
    "application/vnd.databricks.v1+cell": {
     "cellMetadata": {
      "byteLimit": 2048000,
      "rowLimit": 10000
     },
     "inputWidgets": {},
     "nuid": "1b5fd06c-44e3-43cc-976c-8ae8e2509f63",
     "showTitle": false,
     "tableResultSettingsMap": {},
     "title": ""
    }
   },
   "outputs": [],
   "source": [
    "catalog_name = settings[environment]['catalog_name']"
   ]
  },
  {
   "cell_type": "code",
   "execution_count": 0,
   "metadata": {
    "application/vnd.databricks.v1+cell": {
     "cellMetadata": {
      "byteLimit": 2048000,
      "rowLimit": 10000
     },
     "inputWidgets": {},
     "nuid": "e56044b7-7ac8-407a-81b9-375960c2ad5b",
     "showTitle": false,
     "tableResultSettingsMap": {},
     "title": ""
    }
   },
   "outputs": [],
   "source": [
    "pending_day= 14\n",
    "pending_day = spark.sql(f\"\"\"SELECT CASE\n",
    "    WHEN DATE(CURRENT_TIMESTAMP() + INTERVAL 7 HOURS) BETWEEN DATE '2025-05-08' AND DATE '2025-05-16' THEN {pending_day} + 3\n",
    "    ELSE {pending_day}\n",
    "  END AS pending_day\"\"\").collect()[0]['pending_day']\n"
   ]
  },
  {
   "cell_type": "code",
   "execution_count": 0,
   "metadata": {
    "application/vnd.databricks.v1+cell": {
     "cellMetadata": {
      "byteLimit": 2048000,
      "rowLimit": 10000
     },
     "inputWidgets": {},
     "nuid": "b303a649-c529-42a6-9c88-a8e9693378c1",
     "showTitle": false,
     "tableResultSettingsMap": {},
     "title": ""
    }
   },
   "outputs": [],
   "source": [
    "spark.sql(f\"\"\"\n",
    "CREATE OR REPLACE TABLE {catalog_name}.udp_wcm_gold_db_winare_nonfresh_dc.a_winare_dc_open_order_dc\n",
    "TBLPROPERTIES (\n",
    "  'DELTA.AUTOOPTIMIZE.OPTIMIZEWRITE' = 'TRUE',\n",
    "  'DELTA.AUTOOPTIMIZE.AUTOCOMPACT' = 'TRUE'\n",
    ")\n",
    " AS\n",
    "with supra AS (\n",
    "    SELECT DISTINCT dc_id \n",
    "    FROM {catalog_name}.udp_wcm_gold_db_winare_nonfresh_dc.d_cfg_winare_dc_golive \n",
    "    WHERE supra = 'YES'\n",
    "      AND replenishment_mode = 'BS'\n",
    "      AND dc_id = '0000'\n",
    "),\n",
    "\n",
    "open_order_sft AS (\n",
    "    SELECT\n",
    "        a.dc_id,\n",
    "        'YES' AS supra,\n",
    "        a.product_id,\n",
    "        NULL AS po_pending_day,\n",
    "        SUM(a.open_order) AS open_order\n",
    "    FROM {catalog_name}.udp_wcm_gold_vcm_dwh.f_inventory_sft a\n",
    "    WHERE a.calday = DATE(CURRENT_TIMESTAMP() + INTERVAL 7 HOURS)\n",
    "      AND a.dc_id IN (SELECT dc_id FROM supra)\n",
    "    GROUP BY 1,2,3,4\n",
    "),\n",
    "\n",
    "open_order_sap AS (\n",
    "    SELECT \n",
    "        a.store_id AS dc_id,\n",
    "        'NO' AS supra,\n",
    "        a.product_id,\n",
    "        {pending_day} AS po_pending_day,\n",
    "        IFNULL(SUM(a.po_qty * c.numerator / c.denomintr), 0) AS open_order\n",
    "    FROM {catalog_name}.udp_wcm_gold_vcm_dwh.f_po_item a\n",
    "    LEFT JOIN {catalog_name}.udp_wcm_gold_vcm_dwh.d_unit_conv c \n",
    "        ON a.product_id = c.material \n",
    "       AND a.po_unit = c.mat_unit\n",
    "    WHERE a.creation_date BETWEEN DATE_SUB(DATE(CURRENT_TIMESTAMP() + INTERVAL 7 HOURS), {pending_day}) \n",
    "                              AND DATE_SUB(DATE(CURRENT_TIMESTAMP() + INTERVAL 7 HOURS), 1)\n",
    "      AND (a.compl_del <> 'X' OR a.compl_del IS NULL)\n",
    "      AND a.po_gr_date IS NULL\n",
    "      AND a.gr_date IS NULL\n",
    "      AND (a.webportal_status NOT IN ('Đã hủy', 'Đã giao hàng') OR a.webportal_status IS NULL)\n",
    "      AND a.po_type_id = 'NB'\n",
    "      AND a.store_id NOT IN (SELECT dc_id FROM supra)\n",
    "    GROUP BY 1,2,3,4\n",
    "),\n",
    "open_order_union AS (\n",
    "    SELECT dc_id, supra, product_id, po_pending_day, open_order FROM open_order_sft\n",
    "    UNION ALL\n",
    "    SELECT dc_id, supra, product_id, po_pending_day, open_order FROM open_order_sap\n",
    ")\n",
    "\n",
    "SELECT \n",
    "    DATE(CURRENT_TIMESTAMP() + INTERVAL 7 HOURS) - 1 AS calday,\n",
    "    a.dc_id,\n",
    "    a.supra,\n",
    "    a.product_id,\n",
    "    a.po_pending_day,\n",
    "    a.open_order\n",
    "FROM open_order_union a\n",
    "\"\"\")\n"
   ]
  }
 ],
 "metadata": {
  "application/vnd.databricks.v1+notebook": {
   "computePreferences": null,
   "dashboards": [],
   "environmentMetadata": {
    "base_environment": "",
    "environment_version": "2"
   },
   "inputWidgetPreferences": null,
   "language": "python",
   "notebookMetadata": {
    "mostRecentlyExecutedCommandWithImplicitDF": {
     "commandId": 4736130552740649,
     "dataframes": [
      "_sqldf"
     ]
    },
    "pythonIndentUnit": 4
   },
   "notebookName": "a_winare_dc_open_order_dc",
   "widgets": {
    "environment": {
     "currentValue": "DEV",
     "nuid": "2e0f6b2b-ebd3-44fb-8b4e-194cb65dd16c",
     "typedWidgetInfo": {
      "autoCreated": false,
      "defaultValue": "",
      "label": "",
      "name": "environment",
      "options": {
       "widgetDisplayType": "Text",
       "validationRegex": null
      },
      "parameterDataType": "String"
     },
     "widgetInfo": {
      "widgetType": "text",
      "defaultValue": "",
      "label": "",
      "name": "environment",
      "options": {
       "widgetType": "text",
       "autoCreated": null,
       "validationRegex": null
      }
     }
    }
   }
  },
  "language_info": {
   "name": "python"
  }
 },
 "nbformat": 4,
 "nbformat_minor": 0
}
