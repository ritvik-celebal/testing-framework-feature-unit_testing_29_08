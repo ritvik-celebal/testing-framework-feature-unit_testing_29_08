{
 "cells": [
  {
   "cell_type": "code",
   "execution_count": 0,
   "metadata": {
    "application/vnd.databricks.v1+cell": {
     "cellMetadata": {
      "byteLimit": 2048000,
      "rowLimit": 10000
     },
     "inputWidgets": {},
     "nuid": "2a02257e-df92-4da6-936b-3703b15027da",
     "showTitle": false,
     "tableResultSettingsMap": {},
     "title": ""
    }
   },
   "outputs": [],
   "source": [
    "%run ../utils/common"
   ]
  },
  {
   "cell_type": "code",
   "execution_count": 0,
   "metadata": {
    "application/vnd.databricks.v1+cell": {
     "cellMetadata": {
      "byteLimit": 2048000,
      "rowLimit": 10000
     },
     "inputWidgets": {},
     "nuid": "67192903-71d9-45cc-9a78-52dbd5e32d9b",
     "showTitle": false,
     "tableResultSettingsMap": {},
     "title": ""
    }
   },
   "outputs": [],
   "source": [
    "dbutils.widgets.text(\"environment\", \"\", \"\")\n",
    "environment = dbutils.widgets.get(\"environment\")"
   ]
  },
  {
   "cell_type": "code",
   "execution_count": 0,
   "metadata": {
    "application/vnd.databricks.v1+cell": {
     "cellMetadata": {},
     "inputWidgets": {},
     "nuid": "c0971f5e-db74-4687-b9ae-f20143e282e0",
     "showTitle": false,
     "tableResultSettingsMap": {},
     "title": ""
    }
   },
   "outputs": [],
   "source": [
    "catalog_name = settings[environment]['catalog_name']"
   ]
  },
  {
   "cell_type": "code",
   "execution_count": 0,
   "metadata": {
    "application/vnd.databricks.v1+cell": {
     "cellMetadata": {
      "byteLimit": 2048000,
      "implicitDf": true,
      "rowLimit": 10000
     },
     "inputWidgets": {},
     "nuid": "21a4ab7c-cc19-4cb9-9bd4-bfb10b493840",
     "showTitle": false,
     "tableResultSettingsMap": {},
     "title": ""
    }
   },
   "outputs": [],
   "source": [
    "\n",
    "date=spark.sql(\"\"\"SELECT \n",
    "DATE_SUB(\n",
    "    DATE_TRUNC('MONTH', ADD_MONTHS(DATE(CURRENT_TIMESTAMP() + INTERVAL 7 HOURS), 1)), 7) +\n",
    "CASE \n",
    "    WHEN 4 - DAYOFWEEK(DATE_TRUNC('MONTH', ADD_MONTHS(DATE(CURRENT_TIMESTAMP() + INTERVAL 7 HOURS), 1))) < 0 \n",
    "         THEN 4 - DAYOFWEEK(DATE_TRUNC('MONTH', ADD_MONTHS(DATE(CURRENT_TIMESTAMP() + INTERVAL 7 HOURS), 1))) + 7\n",
    "    ELSE 4 - DAYOFWEEK(DATE_TRUNC('MONTH', ADD_MONTHS(DATE(CURRENT_TIMESTAMP() + INTERVAL 7 HOURS), 1)))\n",
    "END AS DATE\"\"\").collect()[0]['DATE']\n"
   ]
  },
  {
   "cell_type": "code",
   "execution_count": 0,
   "metadata": {
    "application/vnd.databricks.v1+cell": {
     "cellMetadata": {
      "byteLimit": 2048000,
      "rowLimit": 10000
     },
     "inputWidgets": {},
     "nuid": "e42c6212-4f66-4d9d-976c-37b9194bf4e4",
     "showTitle": false,
     "tableResultSettingsMap": {},
     "title": ""
    }
   },
   "outputs": [],
   "source": [
    "if date == spark.sql(\"SELECT DATE(CURRENT_TIMESTAMP() + INTERVAL 7 HOURS)\").collect()[0][0]:\n",
    "    spark.sql(f\"\"\"\n",
    "    CREATE OR REPLACE TABLE {catalog_name}.udp_wcm_gold_db_winare_fresh.d_store_group_temp\n",
    "    -- (\n",
    "    --     calday DATE --OPTIONS (DESCRIPTION = 'Ngày tính'),\n",
    "    --     business_unit STRING --OPTIONS (DESCRIPTION = 'Mã chuỗi siêu thị'),\n",
    "    --     store_id STRING --OPTIONS (DESCRIPTION = 'Mã cửa hàng'),\n",
    "    --     store_name STRING --OPTIONS (DESCRIPTION = 'Tên cửa hàng'),\n",
    "    --     concept STRING --OPTIONS (DESCRIPTION = 'Tên loại chuỗi cửa hàng'),\n",
    "    --     region STRING --OPTIONS (DESCRIPTION = 'Miền'),\n",
    "    --     base_sale_qty_avg DOUBLE --OPTIONS (DESCRIPTION = 'Số đơn vị bán bình quân ngày tính trong 4 tuần gần nhất'),\n",
    "    --     sale_kg DOUBLE --OPTIONS (DESCRIPTION = 'Quy đổi số kg rau củ quả bình quân ngày tính trong 4 tuần gần nhất'),\n",
    "    --     store_group_name STRING --OPTIONS (DESCRIPTION = 'Mô tả phân nhóm cửa hàng theo SALE_KG'),\n",
    "    --     store_group_id STRING --OPTIONS (DESCRIPTION = 'Phân nhóm cửa hàng theo SALE_KG')\n",
    "    -- )\n",
    "   -- CLUSTER BY store_id\n",
    "   -- OPTIONS ( DESCRIPTION = \"Bảng suggest tính phân loại cửa hàng theo sức bán bình quân ngày\" )\n",
    "    AS\n",
    "    WITH\n",
    "    store_sku AS (\n",
    "    SELECT\n",
    "      s.business_unit,\n",
    "      s.store_id,\n",
    "      s.store_name,\n",
    "      -- sku.product_id,\n",
    "      CASE\n",
    "        WHEN business_unit = '1500' THEN 'Supermarket'\n",
    "        WHEN business_unit = '2000' AND concept IN('WiN','Rural') THEN concept\n",
    "        ELSE 'Urban'\n",
    "      END AS concept,\n",
    "      s.mien AS region,\n",
    "      SUM(sku.revenue.base_sale_qty)/28 AS base_sale_qty_avg,\n",
    "      SUM(sku.revenue.base_sale_qty * pm.conversion_base_kg)/28 AS sale_kg\n",
    "    FROM {catalog_name}.udp_wcm_gold_vcm_dwh.d_store s\n",
    "    INNER JOIN {catalog_name}.udp_wcm_gold_vcm_dmt.a_store_sku_daily sku ON s.store_id = sku.store_id\n",
    "      AND sku.calday BETWEEN date_add(date_trunc('week', DATE(CURRENT_TIMESTAMP() + INTERVAL 7 HOURS)), - 7 * 4) AND date_add(date_trunc('week', DATE(CURRENT_TIMESTAMP() + INTERVAL 7 HOURS)), - 1)\n",
    "    JOIN {catalog_name}.udp_wcm_gold_db_winare_fresh.d_product_planning_mapping pm ON sku.product_id = pm.product_id\n",
    "    INNER JOIN {catalog_name}.udp_wcm_gold_vcm_dwh.d_product p ON sku.product_id = p.product_id AND p.mch3_id = '10103'\n",
    "    WHERE 1=1\n",
    "      AND s.business_unit = '2000'\n",
    "      AND s.store_status_desc IN ('Đang hoạt động', 'Sắp đóng cửa')\n",
    "    GROUP BY 1,2,3,4,5\n",
    "    ),\n",
    "    main AS (\n",
    "    SELECT\n",
    "      ss.business_unit,\n",
    "      ss.store_id,\n",
    "      ss.store_name,\n",
    "      ss.concept,\n",
    "      ss.region,\n",
    "      ss.base_sale_qty_avg,\n",
    "      ss.sale_kg,\n",
    "      cf.store_group_name,\n",
    "      cf.store_group_id\n",
    "    FROM store_sku ss\n",
    "    LEFT JOIN {catalog_name}.udp_wcm_gold_db_winare_fresh.d_cfg_store_group cf ON ss.concept = cf.concept\n",
    "      AND ss.sale_kg >= cf.min_qty AND ss.sale_kg < cf.max_qty\n",
    "    )\n",
    "    SELECT DATE(CURRENT_TIMESTAMP() + INTERVAL 7 HOURS) calday,\n",
    "      m.business_unit,\n",
    "      m.store_id,\n",
    "      m.store_name,\n",
    "      m.concept,\n",
    "      m.region,\n",
    "      m.base_sale_qty_avg,\n",
    "      m.sale_kg,\n",
    "      IFNULL(cf2.store_group_name, m.store_group_name) AS store_group_name,\n",
    "      IF(m.store_group_id IS NULL, 'N1', m.store_group_id) AS store_group_id\n",
    "      FROM main m\n",
    "      LEFT JOIN {catalog_name}.udp_wcm_gold_db_winare_fresh.d_cfg_store_group cf2 ON IF(m.store_group_id IS NULL, 'N1', m.store_group_id) = cf2.store_group_id\n",
    "      AND m.concept = cf2.concept AND cf2.store_group_id = 'N1'\n",
    "    ;\n",
    "\"\"\")"
   ]
  }
 ],
 "metadata": {
  "application/vnd.databricks.v1+notebook": {
   "computePreferences": null,
   "dashboards": [],
   "environmentMetadata": {
    "base_environment": "",
    "environment_version": "2"
   },
   "inputWidgetPreferences": null,
   "language": "python",
   "notebookMetadata": {
    "mostRecentlyExecutedCommandWithImplicitDF": {
     "commandId": -1,
     "dataframes": [
      "_sqldf"
     ]
    },
    "pythonIndentUnit": 4
   },
   "notebookName": "d_store_group_temp",
   "widgets": {
    "environment": {
     "currentValue": "DEV",
     "nuid": "849bcf3b-6927-440c-94eb-b09a2f19d0dd",
     "typedWidgetInfo": {
      "autoCreated": false,
      "defaultValue": "",
      "label": "",
      "name": "environment",
      "options": {
       "widgetDisplayType": "Text",
       "validationRegex": null
      },
      "parameterDataType": "String"
     },
     "widgetInfo": {
      "widgetType": "text",
      "defaultValue": "",
      "label": "",
      "name": "environment",
      "options": {
       "widgetType": "text",
       "autoCreated": null,
       "validationRegex": null
      }
     }
    },
    "proc_date": {
     "currentValue": "2025-08-03",
     "nuid": "ae6e68f6-2d7f-4f5d-99b3-e569e3b1e3b2",
     "typedWidgetInfo": {
      "autoCreated": false,
      "defaultValue": "",
      "label": "",
      "name": "proc_date",
      "options": {
       "widgetDisplayType": "Text",
       "validationRegex": null
      },
      "parameterDataType": "String"
     },
     "widgetInfo": {
      "widgetType": "text",
      "defaultValue": "",
      "label": "",
      "name": "proc_date",
      "options": {
       "widgetType": "text",
       "autoCreated": null,
       "validationRegex": null
      }
     }
    }
   }
  },
  "language_info": {
   "name": "python"
  }
 },
 "nbformat": 4,
 "nbformat_minor": 0
}
