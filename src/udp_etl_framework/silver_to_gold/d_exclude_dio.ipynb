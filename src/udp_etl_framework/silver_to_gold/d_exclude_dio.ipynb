{
 "cells": [
  {
   "cell_type": "code",
   "execution_count": 0,
   "metadata": {
    "application/vnd.databricks.v1+cell": {
     "cellMetadata": {
      "byteLimit": 2048000,
      "rowLimit": 10000
     },
     "inputWidgets": {},
     "nuid": "90caad49-065c-4b7c-81e6-e920e8838c3a",
     "showTitle": false,
     "tableResultSettingsMap": {},
     "title": ""
    }
   },
   "outputs": [],
   "source": [
    "%run ../utils/common"
   ]
  },
  {
   "cell_type": "code",
   "execution_count": 0,
   "metadata": {
    "application/vnd.databricks.v1+cell": {
     "cellMetadata": {
      "byteLimit": 2048000,
      "rowLimit": 10000
     },
     "inputWidgets": {},
     "nuid": "42eab640-e367-444b-a782-4131959d4a11",
     "showTitle": false,
     "tableResultSettingsMap": {},
     "title": ""
    }
   },
   "outputs": [],
   "source": [
    "dbutils.widgets.text(\"environment\", \"\", \"\")\n",
    "environment = dbutils.widgets.get(\"environment\")"
   ]
  },
  {
   "cell_type": "code",
   "execution_count": 0,
   "metadata": {
    "application/vnd.databricks.v1+cell": {
     "cellMetadata": {
      "byteLimit": 2048000,
      "rowLimit": 10000
     },
     "inputWidgets": {},
     "nuid": "6ae48ac7-e424-49d6-bc25-2d102d1592bb",
     "showTitle": false,
     "tableResultSettingsMap": {},
     "title": ""
    }
   },
   "outputs": [],
   "source": [
    "catalog_name = settings[environment]['catalog_name']"
   ]
  },
  {
   "cell_type": "code",
   "execution_count": 0,
   "metadata": {
    "application/vnd.databricks.v1+cell": {
     "cellMetadata": {
      "byteLimit": 2048000,
      "rowLimit": 10000
     },
     "inputWidgets": {},
     "nuid": "b7508242-9b86-490a-b962-642a52712c29",
     "showTitle": false,
     "tableResultSettingsMap": {},
     "title": ""
    }
   },
   "outputs": [],
   "source": [
    "spark.sql(f\"\"\"\n",
    "    CREATE OR REPLACE TABLE {catalog_name}.udp_wcm_gold_vcm_dwh.d_exclude_dio \n",
    "AS\n",
    " SELECT \n",
    "    store_id,\n",
    "    product_id, \n",
    "    note,\n",
    "    start_date,\n",
    "    end_date\n",
    "FROM (\n",
    "     SELECT \n",
    "        b.*,\n",
    "        ROW_NUMBER() OVER (PARTITION BY store_id,product_id,end_date ORDER BY proc_date) rn\n",
    "        FROM (\n",
    "            SELECT \n",
    "                a.*, \n",
    "                DENSE_RANK() OVER (PARTITION BY store_id,product_id  ORDER BY prior  ) rn1\n",
    "                FROM (\n",
    "                    SELECT  \n",
    "                        a.product_id, b.store_id, note, proc_date,start_date, end_date, 4 prior\n",
    "                        FROM {catalog_name}.udp_wcm_silver_dim.stg_vm_dio_exclude_by_all a \n",
    "                        CROSS JOIN {catalog_name}.udp_wcm_gold_vcm_dwh.d_store b \n",
    "                        WHERE b.business_unit = '1500'\n",
    "                    UNION ALL\n",
    "                    SELECT \n",
    "                        product_id, site store_id, note, proc_date, start_date, end_date, 5 prior \n",
    "                        FROM {catalog_name}.udp_wcm_silver_dim.stg_vm_dio_exclude_by_site\n",
    "                    UNION ALL\n",
    "                    SELECT \n",
    "                        product_id, b.store_id, note, proc_date, start_date, end_date, 6 prior  \n",
    "                        FROM {catalog_name}.udp_wcm_silver_dim.stg_vm_dio_exclude_by_region_sku a\n",
    "                        LEFT JOIN {catalog_name}.udp_wcm_gold_vcm_dwh.d_store b ON b.region_domain = a.region AND business_unit = '1500'\n",
    "                    UNION ALL\n",
    "                    SELECT  \n",
    "                        pr.product_id, b.store_id, NULL note, a.proc_date,start_date,end_date, 3 prior\n",
    "                        FROM {catalog_name}.udp_wcm_silver_dim.stg_vm_dio_exclude_by_mch3 a\n",
    "                        INNER JOIN {catalog_name}.udp_wcm_gold_vcm_dwh.d_product pr ON a.mch3_id = pr.mch3_id\n",
    "                        CROSS JOIN {catalog_name}.udp_wcm_gold_vcm_dwh.d_store b \n",
    "                        WHERE b.business_unit = '1500'\n",
    "                    UNION ALL\n",
    "                    SELECT  \n",
    "                        pr.product_id, b.store_id, NULL note, a.proc_date,start_date,end_date, 2 prior\n",
    "                        FROM {catalog_name}.udp_wcm_silver_dim.stg_vm_dio_exclude_by_mch4 a\n",
    "                        INNER JOIN {catalog_name}.udp_wcm_gold_vcm_dwh.d_product pr ON a.mch4_id = pr.mch4_id\n",
    "                        CROSS JOIN {catalog_name}.udp_wcm_gold_vcm_dwh.d_store b \n",
    "                        WHERE b.business_unit = '1500'\n",
    "                    UNION ALL\n",
    "                    SELECT  \n",
    "                        pr.product_id, b.store_id, NULL note, a.proc_date,start_date,end_date, 1 prior\n",
    "                        FROM {catalog_name}.udp_wcm_silver_dim.stg_vm_dio_exclude_by_mch5 a\n",
    "                        INNER JOIN {catalog_name}.udp_wcm_gold_vcm_dwh.d_product pr ON a.mch5_id = pr.mch5_id\n",
    "                        CROSS JOIN {catalog_name}.udp_wcm_gold_vcm_dwh.d_store b \n",
    "                        WHERE b.business_unit = '1500'\n",
    "                    ) a\n",
    "            ) b WHERE b.rn1 = 1\n",
    "    ) x WHERE x.rn = 1\n",
    ";\n",
    "\"\"\")"
   ]
  }
 ],
 "metadata": {
  "application/vnd.databricks.v1+notebook": {
   "computePreferences": null,
   "dashboards": [],
   "environmentMetadata": {
    "base_environment": "",
    "environment_version": "2"
   },
   "inputWidgetPreferences": null,
   "language": "python",
   "notebookMetadata": {
    "mostRecentlyExecutedCommandWithImplicitDF": {
     "commandId": 6673494183718805,
     "dataframes": [
      "_sqldf"
     ]
    },
    "pythonIndentUnit": 4
   },
   "notebookName": "d_exclude_dio",
   "widgets": {
    "environment": {
     "currentValue": "DEV",
     "nuid": "b4ae4d2e-96ea-4d1a-a502-f1da3b3e32a5",
     "typedWidgetInfo": {
      "autoCreated": false,
      "defaultValue": "",
      "label": "",
      "name": "environment",
      "options": {
       "widgetDisplayType": "Text",
       "validationRegex": null
      },
      "parameterDataType": "String"
     },
     "widgetInfo": {
      "widgetType": "text",
      "defaultValue": "",
      "label": "",
      "name": "environment",
      "options": {
       "widgetType": "text",
       "autoCreated": null,
       "validationRegex": null
      }
     }
    }
   }
  },
  "language_info": {
   "name": "python"
  }
 },
 "nbformat": 4,
 "nbformat_minor": 0
}
