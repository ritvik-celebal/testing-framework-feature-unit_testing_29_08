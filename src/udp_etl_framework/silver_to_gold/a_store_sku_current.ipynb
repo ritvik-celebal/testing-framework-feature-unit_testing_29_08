{
 "cells": [
  {
   "cell_type": "code",
   "execution_count": 0,
   "metadata": {
    "application/vnd.databricks.v1+cell": {
     "cellMetadata": {
      "byteLimit": 2048000,
      "rowLimit": 10000
     },
     "inputWidgets": {},
     "nuid": "3b410c70-78f4-470e-a126-1f04c9bce13e",
     "showTitle": false,
     "tableResultSettingsMap": {},
     "title": ""
    }
   },
   "outputs": [],
   "source": [
    "%run ../utils/common"
   ]
  },
  {
   "cell_type": "code",
   "execution_count": 0,
   "metadata": {
    "application/vnd.databricks.v1+cell": {
     "cellMetadata": {
      "byteLimit": 2048000,
      "rowLimit": 10000
     },
     "inputWidgets": {},
     "nuid": "259e6b39-d280-410f-8737-f7744a77beb9",
     "showTitle": false,
     "tableResultSettingsMap": {},
     "title": ""
    }
   },
   "outputs": [],
   "source": [
    "dbutils.widgets.text(\"environment\", \"\", \"\")\n",
    "environment = dbutils.widgets.get(\"environment\")"
   ]
  },
  {
   "cell_type": "code",
   "execution_count": 0,
   "metadata": {
    "application/vnd.databricks.v1+cell": {
     "cellMetadata": {
      "byteLimit": 2048000,
      "rowLimit": 10000
     },
     "inputWidgets": {},
     "nuid": "ef182310-e009-4a7f-9549-e6dd0761d3f7",
     "showTitle": false,
     "tableResultSettingsMap": {},
     "title": ""
    }
   },
   "outputs": [],
   "source": [
    "catalog_name = settings[environment]['catalog_name']"
   ]
  },
  {
   "cell_type": "code",
   "execution_count": 0,
   "metadata": {
    "application/vnd.databricks.v1+cell": {
     "cellMetadata": {
      "byteLimit": 2048000,
      "rowLimit": 10000
     },
     "inputWidgets": {},
     "nuid": "7310c3dd-878b-4e16-b852-d7bb1f732143",
     "showTitle": false,
     "tableResultSettingsMap": {},
     "title": ""
    }
   },
   "outputs": [],
   "source": [
    "spark.sql(f\"\"\"\n",
    "CREATE OR REPLACE TABLE {catalog_name}.udp_wcm_gold_vcm_dmt.a_store_sku_current\n",
    "CLUSTER BY (first_sale_stock_day, business_unit, store_id, product_id)\n",
    "AS\n",
    "SELECT \n",
    "    IFNULL(e.store_id, a.store_id) store_id,\n",
    "    IF(e.store_id IS NOT NULL, '6000', business_unit) AS business_unit,\n",
    "    b.product_id,\n",
    "    b.mch1_id,\n",
    "    b.mch2_id,\n",
    "    b.mch3_id,\n",
    "    b.mch4_id,\n",
    "    b.mch5_id,\n",
    "    b.mch6_id,\n",
    "    c.city,\n",
    "    c.addr_numbr,\n",
    "    MIN(IF(revenue.base_sale_qty > 0 OR stock.closing_stock_quantity > 0, calday, NULL)) first_sale_stock_day,\n",
    "    MIN(IF((IFNULL(revenue.base_sale_qty,0) != 0 OR IFNULL(stock.closing_stock_quantity,0) != 0) AND calday >= CAST((CURRENT_TIMESTAMP() + INTERVAL 7 HOURS) AS DATE) - 90, calday, NULL)) first_sale_stock_90day,\n",
    "    MIN(calday) first_issue_fact_day\n",
    "FROM {catalog_name}.udp_wcm_gold_vcm_dmt.a_store_sku_daily a\n",
    "JOIN {catalog_name}.udp_wcm_gold_vcm_dwh.d_product b USING (product_id)\n",
    "JOIN {catalog_name}.udp_wcm_gold_vcm_dwh.d_store c using (store_id)\n",
    "LEFT JOIN {catalog_name}.udp_wcm_gold_vcm_dwh.d_franchise_config e ON a.store_id = e.ref_fc_store\n",
    "WHERE calday >= '2019-10-01'\n",
    "GROUP BY 1,2,3,4,5,6,7,8,9,10,11\n",
    "\"\"\")"
   ]
  }
 ],
 "metadata": {
  "application/vnd.databricks.v1+notebook": {
   "computePreferences": null,
   "dashboards": [],
   "environmentMetadata": {
    "base_environment": "",
    "environment_version": "2"
   },
   "inputWidgetPreferences": null,
   "language": "python",
   "notebookMetadata": {
    "mostRecentlyExecutedCommandWithImplicitDF": {
     "commandId": 6385374847149852,
     "dataframes": [
      "_sqldf"
     ]
    },
    "pythonIndentUnit": 4
   },
   "notebookName": "a_store_sku_current",
   "widgets": {
    "environment": {
     "currentValue": "DEV",
     "nuid": "f1b57acd-7a04-49a5-8cbb-198fc294abfc",
     "typedWidgetInfo": {
      "autoCreated": false,
      "defaultValue": "",
      "label": "",
      "name": "environment",
      "options": {
       "widgetDisplayType": "Text",
       "validationRegex": null
      },
      "parameterDataType": "String"
     },
     "widgetInfo": {
      "widgetType": "text",
      "defaultValue": "",
      "label": "",
      "name": "environment",
      "options": {
       "widgetType": "text",
       "autoCreated": null,
       "validationRegex": null
      }
     }
    },
    "proc_date": {
     "currentValue": "2025-07-21",
     "nuid": "d786ecb2-0d6b-4a99-98b2-38021ec2f8e4",
     "typedWidgetInfo": {
      "autoCreated": false,
      "defaultValue": "2025-07-21",
      "label": null,
      "name": "proc_date",
      "options": {
       "widgetDisplayType": "Text",
       "validationRegex": null
      },
      "parameterDataType": "String"
     },
     "widgetInfo": {
      "widgetType": "text",
      "defaultValue": "2025-07-21",
      "label": null,
      "name": "proc_date",
      "options": {
       "widgetType": "text",
       "autoCreated": false,
       "validationRegex": null
      }
     }
    }
   }
  },
  "language_info": {
   "name": "python"
  }
 },
 "nbformat": 4,
 "nbformat_minor": 0
}
