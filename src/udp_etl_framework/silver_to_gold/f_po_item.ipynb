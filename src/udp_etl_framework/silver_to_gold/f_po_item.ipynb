{
 "cells": [
  {
   "cell_type": "code",
   "execution_count": 0,
   "metadata": {
    "application/vnd.databricks.v1+cell": {
     "cellMetadata": {
      "byteLimit": 2048000,
      "rowLimit": 10000
     },
     "inputWidgets": {},
     "nuid": "864b50a5-311b-448d-8e4f-5830830a8c98",
     "showTitle": false,
     "tableResultSettingsMap": {},
     "title": ""
    }
   },
   "outputs": [],
   "source": [
    "%run ../utils/common"
   ]
  },
  {
   "cell_type": "code",
   "execution_count": 0,
   "metadata": {
    "application/vnd.databricks.v1+cell": {
     "cellMetadata": {
      "byteLimit": 2048000,
      "rowLimit": 10000
     },
     "inputWidgets": {},
     "nuid": "fc854fc0-6029-46f9-9be5-23561c5420d3",
     "showTitle": false,
     "tableResultSettingsMap": {},
     "title": ""
    }
   },
   "outputs": [],
   "source": [
    "dbutils.widgets.text(\"environment\", \"\", \"\")\n",
    "dbutils.widgets.text(\"target_dataset\", \"VCM_DWH_PRD\") \n",
    "dbutils.widgets.text(\"target_table\", \"f_po_item\")\n",
    "dbutils.widgets.text(\"metadata_schema\", \"udp_wcm_metadata_dev\")\n",
    "dbutils.widgets.text(\n",
    "    \"dependency_table\",\"VCM_DWH_PRD.F_ORDER_REPORT, VCM_DWH_PRD.F_PO_DOCTYPE, VCM_DWH_PRD.F_MOVEMENT_PO, VCM_DWH_PRD.F_DISPATCH_PO\"\n",
    ")"
   ]
  },
  {
   "cell_type": "code",
   "execution_count": 0,
   "metadata": {
    "application/vnd.databricks.v1+cell": {
     "cellMetadata": {
      "byteLimit": 2048000,
      "rowLimit": 10000
     },
     "inputWidgets": {},
     "nuid": "79cc0910-800e-4744-87bc-3810498bbf89",
     "showTitle": false,
     "tableResultSettingsMap": {},
     "title": ""
    }
   },
   "outputs": [],
   "source": [
    "dbutils.widgets.text(\"field_calday\", \"CALDAY\")\n",
    "dbutils.widgets.text(\"field_id\", \"HASH_ID\")"
   ]
  },
  {
   "cell_type": "code",
   "execution_count": 0,
   "metadata": {
    "application/vnd.databricks.v1+cell": {
     "cellMetadata": {
      "byteLimit": 2048000,
      "rowLimit": 10000
     },
     "inputWidgets": {},
     "nuid": "d4c01832-9e9a-41c3-a473-332b46aa7ef4",
     "showTitle": false,
     "tableResultSettingsMap": {},
     "title": ""
    }
   },
   "outputs": [],
   "source": [
    "catalog_name = settings[environment]['catalog_name']"
   ]
  },
  {
   "cell_type": "code",
   "execution_count": 0,
   "metadata": {
    "application/vnd.databricks.v1+cell": {
     "cellMetadata": {
      "byteLimit": 2048000,
      "rowLimit": 10000
     },
     "inputWidgets": {},
     "nuid": "cdf9ba20-fb10-40ce-9a57-576fa8a2d1ef",
     "showTitle": false,
     "tableResultSettingsMap": {},
     "title": ""
    }
   },
   "outputs": [],
   "source": [
    "environment = dbutils.widgets.get(\"environment\")\n",
    "target_dataset = dbutils.widgets.get(\"target_dataset\")\n",
    "target_table = dbutils.widgets.get(\"target_table\")\n",
    "metadata_schema = dbutils.widgets.get(\"metadata_schema\")\n",
    "dependency_table = dbutils.widgets.get(\"dependency_table\")\n",
    "dependency_table = [x.strip().upper() for x in dependency_table.split(\",\")]\n",
    "dependency_table = \"'\" + \"','\".join(dependency_table) + \"'\"\n",
    "\n",
    "print(f\"environment: {environment}\")\n",
    "print(f\"target_dataset: {target_dataset}\")\n",
    "print(f\"target_table: {target_table}\")\n",
    "print(f\"catalog_name: {catalog_name}\")\n",
    "print(f\"metadata_schema: {metadata_schema}\")\n",
    "print(f\"dependency_table: {dependency_table}\")"
   ]
  },
  {
   "cell_type": "code",
   "execution_count": 0,
   "metadata": {
    "application/vnd.databricks.v1+cell": {
     "cellMetadata": {
      "byteLimit": 2048000,
      "rowLimit": 10000
     },
     "inputWidgets": {},
     "nuid": "6901e81b-3f26-4760-8163-4ad13dd7745a",
     "showTitle": false,
     "tableResultSettingsMap": {},
     "title": ""
    }
   },
   "outputs": [],
   "source": [
    "field_calday = dbutils.widgets.get(\"field_calday\")\n",
    "field_id = dbutils.widgets.get(\"field_id\")\n",
    "\n",
    "print(f\"field_calday: {field_calday}\")\n",
    "print(f\"field_id: {field_id}\")"
   ]
  },
  {
   "cell_type": "code",
   "execution_count": 0,
   "metadata": {
    "application/vnd.databricks.v1+cell": {
     "cellMetadata": {
      "byteLimit": 2048000,
      "rowLimit": 10000
     },
     "inputWidgets": {},
     "nuid": "d96d2c8a-aceb-4728-b702-9728550c542c",
     "showTitle": false,
     "tableResultSettingsMap": {},
     "title": ""
    }
   },
   "outputs": [],
   "source": [
    "%run \"../common/common_etl_load\""
   ]
  },
  {
   "cell_type": "code",
   "execution_count": 0,
   "metadata": {
    "application/vnd.databricks.v1+cell": {
     "cellMetadata": {
      "byteLimit": 2048000,
      "implicitDf": true,
      "rowLimit": 10000
     },
     "inputWidgets": {},
     "nuid": "ae256122-74e2-4578-98c9-2f71e3d64b38",
     "showTitle": false,
     "tableResultSettingsMap": {},
     "title": ""
    }
   },
   "outputs": [],
   "source": [
    "spark.sql(f\"\"\"\n",
    "CREATE TABLE IF NOT EXISTS {catalog_name}.udp_wcm_gold_vcm_dwh.f_po_item (\n",
    "  po_id STRING,\n",
    "  po_doc STRING,\n",
    "  po_item BIGINT,\n",
    "  product_id STRING,\n",
    "  product_name STRING,\n",
    "  doctype STRING,\n",
    "  store_id STRING,\n",
    "  dc_site STRING,\n",
    "  dc_id STRING,\n",
    "  bu_id STRING,\n",
    "  region STRING,\n",
    "  city STRING,\n",
    "  brand STRING,\n",
    "  manufacturer STRING,\n",
    "  vendor STRING,\n",
    "  merchant_name STRING,\n",
    "  mch3_name STRING,\n",
    "  po_type_id STRING,\n",
    "  po_type STRING,\n",
    "  po_status STRING,\n",
    "  po_unit STRING,\n",
    "  calday DATE,\n",
    "  creation_date DATE,\n",
    "  pur_reason STRING,\n",
    "  purch_org STRING,\n",
    "  pur_group STRING,\n",
    "  leadtime INT,\n",
    "  compl_del STRING,\n",
    "  base_unit STRING,\n",
    "  promotion_code STRING,\n",
    "  po_qty DOUBLE,\n",
    "  po_value FLOAT,\n",
    "  po_gr_date DATE,\n",
    "  gr_date DATE,\n",
    "  po_gr_qty DOUBLE,\n",
    "  gr_qty DOUBLE,\n",
    "  po_gr_value FLOAT,\n",
    "  gr_value DOUBLE,\n",
    "  po_gr_re_ind STRING,\n",
    "  po_gi_qty DOUBLE,\n",
    "  gi_value DOUBLE,\n",
    "  gi_from_date DATE,\n",
    "  gi_to_date DATE,\n",
    "  order_date_request DATE,\n",
    "  delivery_confirmation_date DATE,\n",
    "  webportal_status STRING,\n",
    "  delivery_method STRING,\n",
    "  sub_range_id STRING,\n",
    "  cluster STRING\n",
    ")\n",
    "USING delta\n",
    "TBLPROPERTIES (\n",
    "    'DELTA.AUTOOPTIMIZE.OPTIMIZEWRITE' = 'TRUE',\n",
    "    'DELTA.AUTOOPTIMIZE.AUTOCOMPACT' = 'TRUE'\n",
    "  ) \"\"\")"
   ]
  },
  {
   "cell_type": "code",
   "execution_count": 0,
   "metadata": {
    "application/vnd.databricks.v1+cell": {
     "cellMetadata": {
      "byteLimit": 2048000,
      "rowLimit": 10000
     },
     "inputWidgets": {},
     "nuid": "bf2df1c7-05d6-4194-aa43-4ff7c92f183d",
     "showTitle": false,
     "tableResultSettingsMap": {},
     "title": ""
    }
   },
   "outputs": [],
   "source": [
    "if CALDAY_IN_STR != '':\n",
    "    spark.sql(f\"\"\"\n",
    "    CREATE OR REPLACE TEMP VIEW temp_f_po_item\n",
    "    AS\n",
    "    WITH \n",
    "    orpt AS (\n",
    "    SELECT \n",
    "        delivery_date,\n",
    "        order_date_request,\n",
    "        delivery_confirmation_date,\n",
    "        webportal_status,\n",
    "        po_doc,\n",
    "        po_item\n",
    "    FROM {catalog_name}.udp_wcm_gold_vcm_dwh.f_order_report       \n",
    "    WHERE ORDER_DATE IN ({CALDAY_IN_STR})      \n",
    "    ),\n",
    "    fme AS (\n",
    "    SELECT \n",
    "        po_doc, \n",
    "        po_item, \n",
    "        MAX(gr_date) AS gr_date, \n",
    "        SUM(gr_qty) AS gr_qty,\n",
    "        SUM(gr_value) AS gr_value\n",
    "    FROM {catalog_name}.udp_wcm_gold_vcm_dwh.f_movement_po \n",
    "    GROUP BY po_doc, po_item\n",
    "    ),\n",
    "    gi AS (\n",
    "    SELECT\n",
    "        po_doc,\n",
    "        po_item,\n",
    "        MIN(calday) AS gi_from_date,\n",
    "        MAX(calday) AS gi_to_date,\n",
    "        SUM(gi_qty) AS gi_qty,\n",
    "        SUM(gi_value) AS gi_value\n",
    "    FROM {catalog_name}.udp_wcm_gold_vcm_dwh.f_dispatch_po \n",
    "    GROUP BY po_doc, po_item\n",
    "    ),\n",
    "    temp AS (\n",
    "    SELECT\n",
    "        po.po_id,\n",
    "        po.po_doc,\n",
    "        po.po_item,\n",
    "        po.product_id,\n",
    "        po.store_id,\n",
    "        po.dc_id,\n",
    "        po.bu_id,\n",
    "        po.vendor,\n",
    "        po.doctype,\n",
    "        po.po_status,\n",
    "        po.calday,\n",
    "        po.po_unit,\n",
    "        po.creation_date,\n",
    "        po.pur_reason,\n",
    "        po.purch_org,\n",
    "        po.pur_group,\n",
    "        orpt.delivery_date AS gr_date,\n",
    "        po.gr_re_ind,\n",
    "        po.compl_del,\n",
    "        po.base_unit,\n",
    "        po.promotion_code,\n",
    "        po.delivery_method,\n",
    "        orpt.order_date_request,\n",
    "        orpt.delivery_confirmation_date,\n",
    "        orpt.webportal_status,\n",
    "        po.po_value,\n",
    "        po.gr_value,\n",
    "        po.po_qty,\n",
    "        po.gr_qty\n",
    "    FROM {catalog_name}.udp_wcm_gold_vcm_dwh.f_po_doctype po\n",
    "        LEFT JOIN orpt ON (po.po_doc = orpt.po_doc AND po.po_item = orpt.po_item)\n",
    "    WHERE CALDAY IN ({CALDAY_IN_STR})\n",
    "    ),\n",
    "    main AS (\n",
    "    SELECT\n",
    "        temp.po_id,\n",
    "        temp.po_doc,\n",
    "        temp.po_item,\n",
    "        temp.doctype,\n",
    "        temp.product_id, \n",
    "        prod.product_name,\n",
    "        temp.store_id,\n",
    "        store.store_name AS dc_site, \n",
    "        temp.dc_id,\n",
    "        temp.bu_id, \n",
    "        store.region, \n",
    "        store.city, \n",
    "        prod.brand, \n",
    "        prod.manufacturer, \n",
    "        temp.vendor,  \n",
    "        prod.mch3_name, \n",
    "        temp.doctype AS po_type,\n",
    "        temp.po_status, \n",
    "        temp.calday,\n",
    "        temp.po_unit,\n",
    "        temp.creation_date, \n",
    "        temp.pur_reason,\n",
    "        temp.purch_org,\n",
    "        temp.pur_group,\n",
    "        7 AS leadtime,\n",
    "        temp.gr_date,\n",
    "        temp.gr_re_ind,\n",
    "        temp.compl_del,\n",
    "        temp.base_unit,\n",
    "        temp.promotion_code,\n",
    "        temp.delivery_method,\n",
    "        temp.po_value,\n",
    "        temp.gr_value,\n",
    "        temp.po_qty, \n",
    "        temp.gr_qty,\n",
    "        store.region_domain,\n",
    "        temp.order_date_request,\n",
    "        temp.delivery_confirmation_date,\n",
    "        temp.webportal_status\n",
    "    FROM temp\n",
    "        LEFT JOIN {catalog_name}.udp_wcm_gold_vcm_dwh.d_product prod ON (temp.product_id = prod.product_id)\n",
    "        LEFT JOIN {catalog_name}.udp_wcm_gold_vcm_dwh.d_store store ON (temp.store_id = store.store_id)\n",
    "    )\n",
    "    SELECT\n",
    "    main.po_id,\n",
    "    main.po_doc,\n",
    "    main.po_item,\n",
    "    main.product_id, \n",
    "    main.product_name,\n",
    "    main.doctype,\n",
    "    main.store_id,\n",
    "    main.dc_site, \n",
    "    main.dc_id,\n",
    "    main.bu_id, \n",
    "    main.region, \n",
    "    main.city, \n",
    "    main.brand, \n",
    "    main.manufacturer, \n",
    "    main.vendor, \n",
    "    vd.company_name AS merchant_name, \n",
    "    main.mch3_name,\n",
    "    main.po_type AS po_type_id,\n",
    "    potype.po_type_name AS po_type, \n",
    "    main.po_status,\n",
    "    main.po_unit, \n",
    "    main.calday, \n",
    "    main.creation_date, \n",
    "    main.pur_reason,\n",
    "    main.purch_org,\n",
    "    main.pur_group,\n",
    "    main.leadtime,\n",
    "    main.compl_del,\n",
    "    main.base_unit,\n",
    "    main.promotion_code,\n",
    "    ROUND(main.po_qty * IFNULL(uc.denomintr, 1) / IFNULL(uc.numerator, 1), 3) AS po_qty,\n",
    "    main.po_value,\n",
    "    main.gr_date AS po_gr_date,\n",
    "    fme.gr_date, \n",
    "    ROUND(main.gr_qty * IFNULL(uc.denomintr, 1) / IFNULL(uc.numerator, 1), 3) AS po_gr_qty,\n",
    "    ROUND(fme.gr_qty * IFNULL(uc.denomintr, 1) / IFNULL(uc.numerator, 1), 3) AS gr_qty, \n",
    "    main.gr_value AS po_gr_value,\n",
    "    fme.gr_value,\n",
    "    main.gr_re_ind AS po_gr_re_ind,\n",
    "    ROUND(gi.gi_qty * (IFNULL(pu.denomintr, 1) / IFNULL(pu.numerator, 1)), 3) AS po_gi_qty,\n",
    "    gi.gi_value,\n",
    "    gi.gi_from_date,\n",
    "    gi.gi_to_date,\n",
    "    main.order_date_request,\n",
    "    main.delivery_confirmation_date,\n",
    "    main.webportal_status,\n",
    "    main.delivery_method,\n",
    "    pir.subrange_id AS sub_range_id,\n",
    "    ac.cluster\n",
    "    FROM main\n",
    "    LEFT JOIN {catalog_name}.udp_wcm_gold_vcm_dwh.d_vendor_master vd ON main.vendor = vd.vendor_id\t\n",
    "    LEFT JOIN {catalog_name}.udp_wcm_gold_vcm_dwh.d_assortment_cluster ac \n",
    "        ON main.store_id = ac.store_id \n",
    "        AND main.product_id = ac.product_id \n",
    "        AND main.creation_date >= ac.start_date \n",
    "        AND main.creation_date <= ac.end_date\n",
    "    LEFT JOIN {catalog_name}.udp_wcm_gold_vcm_dwh.d_po_type potype ON main.po_type = potype.po_type\n",
    "    LEFT JOIN {catalog_name}.udp_wcm_gold_vcm_dwh.d_unit_conv uc \n",
    "        ON main.product_id = uc.material AND main.po_unit = uc.mat_unit\n",
    "    LEFT JOIN (\n",
    "        SELECT * FROM {catalog_name}.udp_wcm_silver_sap_bw.sap_pmat_unit \n",
    "        WHERE start_date <> end_date\n",
    "    ) pu \n",
    "        ON main.product_id = pu.material \n",
    "        AND main.po_unit = pu.mat_unit \n",
    "        AND IFNULL(main.gr_date, main.calday) >= pu.start_date \n",
    "        AND IFNULL(main.gr_date, main.calday) <= pu.end_date \n",
    "    LEFT JOIN fme ON main.po_doc = fme.po_doc AND main.po_item = fme.po_item\n",
    "    LEFT JOIN {catalog_name}.udp_wcm_gold_vcm_dwh.d_pir_current pir \n",
    "        ON LTRIM(main.vendor,'0') = pir.vendor_id \n",
    "        AND main.product_id = pir.product_id\n",
    "    LEFT JOIN gi ON main.po_doc = gi.po_doc AND main.po_item = gi.po_item\n",
    "    \"\"\")\n",
    "else:\n",
    "    print(\n",
    "        f\"temp_{target_table} could't be created as no valid calday's found In common-etl so {catalog_name}.udp_wcm_gold_vcm_dwh.f_po_item can't be deleted using calday's from temp_f_po_item\"\n",
    "    )"
   ]
  },
  {
   "cell_type": "code",
   "execution_count": 0,
   "metadata": {
    "application/vnd.databricks.v1+cell": {
     "cellMetadata": {
      "byteLimit": 2048000,
      "rowLimit": 10000
     },
     "inputWidgets": {},
     "nuid": "bc5d1651-cad3-4610-a0dc-3f6b69794c03",
     "showTitle": false,
     "tableResultSettingsMap": {},
     "title": ""
    }
   },
   "outputs": [],
   "source": [
    "if CALDAY_IN_STR != \"\":\n",
    "    # Get the calday list string from temp table\n",
    "    calday_query = f\"\"\"\n",
    "    SELECT\n",
    "        CONCAT(\"'\", CONCAT_WS(\"','\", COLLECT_SET(CAST(TO_DATE(calday, 'yyyy-MM-dd') AS STRING))), \"'\") AS calday_in_str\n",
    "    FROM temp_{target_table}\n",
    "    \"\"\"\n",
    "\n",
    "    calday_df = spark.sql(calday_query)\n",
    "    calday_in_str = calday_df.collect()[0][0]\n",
    "\n",
    "    # Only run DELETE if the string is non-empty\n",
    "    if calday_in_str.strip(\"'\"):  # checks if there's any date inside the quotes\n",
    "        spark.sql(\n",
    "            f\"\"\"\n",
    "        DELETE FROM {catalog_name}.udp_wcm_gold_vcm_dwh.f_po_item\n",
    "        WHERE calday IN ({calday_in_str})\n",
    "        \"\"\"\n",
    "        ).display()\n",
    "    else:\n",
    "        print(\"no valid calday's found to delete.\")\n",
    "else:\n",
    "    print(\n",
    "        f\"temp_{target_table} could't be created as no valid calday's found In common-etl so {catalog_name}.udp_wcm_gold_vcm_dwh.f_po_item can't be deleted using calday's from temp_f_po_item\"\n",
    "    )"
   ]
  },
  {
   "cell_type": "code",
   "execution_count": 0,
   "metadata": {
    "application/vnd.databricks.v1+cell": {
     "cellMetadata": {
      "byteLimit": 2048000,
      "rowLimit": 10000
     },
     "inputWidgets": {},
     "nuid": "5f9aab2a-8de9-4219-945a-58142cd3c7b8",
     "showTitle": false,
     "tableResultSettingsMap": {},
     "title": ""
    }
   },
   "outputs": [],
   "source": [
    "if CALDAY_IN_STR != \"\":\n",
    "    # Insert rows from temp table into main table\n",
    "    INSERT_ROW = \", \".join(\n",
    "        spark.table(f\"{catalog_name}.udp_wcm_gold_vcm_dwh.f_po_item\").columns\n",
    "    )\n",
    "    spark.sql(\n",
    "        f\"\"\"\n",
    "        INSERT INTO {catalog_name}.udp_wcm_gold_vcm_dwh.f_po_item ({INSERT_ROW})\n",
    "        SELECT {INSERT_ROW} FROM temp_{target_table}\n",
    "    \"\"\"\n",
    "    ).display()\n",
    "else:\n",
    "    print(\n",
    "        f\"temp_{target_table} could't be created as no valid calday's found In common-etl so {catalog_name}.udp_wcm_gold_vcm_dwh.f_po_item can't be inserted using calday's from temp_{target_table}\"\n",
    "    )"
   ]
  },
  {
   "cell_type": "code",
   "execution_count": 0,
   "metadata": {
    "application/vnd.databricks.v1+cell": {
     "cellMetadata": {
      "byteLimit": 2048000,
      "rowLimit": 10000
     },
     "inputWidgets": {},
     "nuid": "a4b408b7-2834-426b-8e12-feea1893dd9e",
     "showTitle": false,
     "tableResultSettingsMap": {},
     "title": ""
    }
   },
   "outputs": [],
   "source": [
    "if CALDAY_IN_STR == '':\n",
    "    dbutils.notebook.exit(\"No valid calday's found In common-etl to insert data into Table: ETL_LOG_DEPENDENCIES and ETL_DELTA_TABLE and \")"
   ]
  },
  {
   "cell_type": "code",
   "execution_count": 0,
   "metadata": {
    "application/vnd.databricks.v1+cell": {
     "cellMetadata": {
      "byteLimit": 2048000,
      "rowLimit": 10000
     },
     "inputWidgets": {},
     "nuid": "e6127bec-74f1-4573-bcfc-ab4bb755c4f4",
     "showTitle": false,
     "tableResultSettingsMap": {},
     "title": ""
    }
   },
   "outputs": [],
   "source": [
    "%run \"../common/common_etl_update\""
   ]
  }
 ],
 "metadata": {
  "application/vnd.databricks.v1+notebook": {
   "computePreferences": null,
   "dashboards": [],
   "environmentMetadata": {
    "base_environment": "",
    "environment_version": "2"
   },
   "inputWidgetPreferences": null,
   "language": "python",
   "notebookMetadata": {
    "mostRecentlyExecutedCommandWithImplicitDF": {
     "commandId": 4736130552803520,
     "dataframes": [
      "_sqldf"
     ]
    },
    "pythonIndentUnit": 4
   },
   "notebookName": "f_po_item",
   "widgets": {
    "dependency_table": {
     "currentValue": "VCM_DWH_PRD.F_ORDER_REPORT, VCM_DWH_PRD.F_PO_DOCTYPE, VCM_DWH_PRD.F_MOVEMENT_PO, VCM_DWH_PRD.F_DISPATCH_PO",
     "nuid": "0fc7d74f-9f32-4d3e-8937-d9c2d95714ad",
     "typedWidgetInfo": {
      "autoCreated": false,
      "defaultValue": "VCM_DWH_PRD.F_ORDER_REPORT, VCM_DWH_PRD.F_PO_DOCTYPE, VCM_DWH_PRD.F_MOVEMENT_PO, VCM_DWH_PRD.F_DISPATCH_PO",
      "label": null,
      "name": "dependency_table",
      "options": {
       "widgetDisplayType": "Text",
       "validationRegex": null
      },
      "parameterDataType": "String"
     },
     "widgetInfo": {
      "widgetType": "text",
      "defaultValue": "VCM_DWH_PRD.F_ORDER_REPORT, VCM_DWH_PRD.F_PO_DOCTYPE, VCM_DWH_PRD.F_MOVEMENT_PO, VCM_DWH_PRD.F_DISPATCH_PO",
      "label": null,
      "name": "dependency_table",
      "options": {
       "widgetType": "text",
       "autoCreated": false,
       "validationRegex": null
      }
     }
    },
    "environment": {
     "currentValue": "DEV",
     "nuid": "75d3f8f3-656c-4468-bd0b-c14be5e4bd90",
     "typedWidgetInfo": {
      "autoCreated": false,
      "defaultValue": "",
      "label": "",
      "name": "environment",
      "options": {
       "widgetDisplayType": "Text",
       "validationRegex": null
      },
      "parameterDataType": "String"
     },
     "widgetInfo": {
      "widgetType": "text",
      "defaultValue": "",
      "label": "",
      "name": "environment",
      "options": {
       "widgetType": "text",
       "autoCreated": false,
       "validationRegex": null
      }
     }
    },
    "metadata_schema": {
     "currentValue": "udp_wcm_metadata_dev",
     "nuid": "bbb5ff6f-ddc3-4ced-981a-90b38f55aa4b",
     "typedWidgetInfo": {
      "autoCreated": false,
      "defaultValue": "udp_wcm_metadata_dev",
      "label": null,
      "name": "metadata_schema",
      "options": {
       "widgetDisplayType": "Text",
       "validationRegex": null
      },
      "parameterDataType": "String"
     },
     "widgetInfo": {
      "widgetType": "text",
      "defaultValue": "udp_wcm_metadata_dev",
      "label": null,
      "name": "metadata_schema",
      "options": {
       "widgetType": "text",
       "autoCreated": false,
       "validationRegex": null
      }
     }
    },
    "target_dataset": {
     "currentValue": "VCM_DWH_PRD",
     "nuid": "97a58c6a-2ddb-4564-9340-5797861fe409",
     "typedWidgetInfo": {
      "autoCreated": false,
      "defaultValue": "VCM_DWH_PRD",
      "label": null,
      "name": "target_dataset",
      "options": {
       "widgetDisplayType": "Text",
       "validationRegex": null
      },
      "parameterDataType": "String"
     },
     "widgetInfo": {
      "widgetType": "text",
      "defaultValue": "VCM_DWH_PRD",
      "label": null,
      "name": "target_dataset",
      "options": {
       "widgetType": "text",
       "autoCreated": false,
       "validationRegex": null
      }
     }
    },
    "target_table": {
     "currentValue": "f_po_item",
     "nuid": "b876aeca-abe2-4bf6-af8c-8d8b8937e4df",
     "typedWidgetInfo": {
      "autoCreated": false,
      "defaultValue": "f_po_item",
      "label": null,
      "name": "target_table",
      "options": {
       "widgetDisplayType": "Text",
       "validationRegex": null
      },
      "parameterDataType": "String"
     },
     "widgetInfo": {
      "widgetType": "text",
      "defaultValue": "f_po_item",
      "label": null,
      "name": "target_table",
      "options": {
       "widgetType": "text",
       "autoCreated": false,
       "validationRegex": null
      }
     }
    }
   }
  },
  "language_info": {
   "name": "python"
  }
 },
 "nbformat": 4,
 "nbformat_minor": 0
}
