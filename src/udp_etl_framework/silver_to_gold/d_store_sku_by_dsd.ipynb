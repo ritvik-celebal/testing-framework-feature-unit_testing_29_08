{
 "cells": [
  {
   "cell_type": "code",
   "execution_count": 0,
   "metadata": {
    "application/vnd.databricks.v1+cell": {
     "cellMetadata": {
      "byteLimit": 2048000,
      "rowLimit": 10000
     },
     "inputWidgets": {},
     "nuid": "961d408f-26cd-45ed-ac85-46c1c92828ee",
     "showTitle": false,
     "tableResultSettingsMap": {},
     "title": ""
    }
   },
   "outputs": [],
   "source": [
    "%run ../utils/common"
   ]
  },
  {
   "cell_type": "code",
   "execution_count": 0,
   "metadata": {
    "application/vnd.databricks.v1+cell": {
     "cellMetadata": {
      "byteLimit": 2048000,
      "rowLimit": 10000
     },
     "inputWidgets": {},
     "nuid": "1c0c9839-01bd-48fc-8de5-03251e3b9220",
     "showTitle": false,
     "tableResultSettingsMap": {},
     "title": ""
    }
   },
   "outputs": [],
   "source": [
    "dbutils.widgets.text(\"environment\", \"\", \"\")\n",
    "environment = dbutils.widgets.get(\"environment\")"
   ]
  },
  {
   "cell_type": "code",
   "execution_count": 0,
   "metadata": {
    "application/vnd.databricks.v1+cell": {
     "cellMetadata": {
      "byteLimit": 2048000,
      "rowLimit": 10000
     },
     "inputWidgets": {},
     "nuid": "68fd6694-e147-411d-b88d-4500ac3b6d2e",
     "showTitle": false,
     "tableResultSettingsMap": {},
     "title": ""
    }
   },
   "outputs": [],
   "source": [
    "catalog_name = settings[environment]['catalog_name']"
   ]
  },
  {
   "cell_type": "code",
   "execution_count": 0,
   "metadata": {
    "application/vnd.databricks.v1+cell": {
     "cellMetadata": {
      "byteLimit": 2048000,
      "rowLimit": 10000
     },
     "inputWidgets": {},
     "nuid": "be7d729f-10d3-4799-8fe5-723158d49f99",
     "showTitle": false,
     "tableResultSettingsMap": {},
     "title": ""
    }
   },
   "outputs": [],
   "source": [
    "spark.sql(f\"\"\"\n",
    "CREATE OR REPLACE TABLE {catalog_name}.udp_wcm_gold_vcm_dwh.d_store_sku_by_dsd\n",
    "TBLPROPERTIES (\n",
    "  'DELTA.AUTOOPTIMIZE.OPTIMIZEWRITE' = 'TRUE',\n",
    "  'DELTA.AUTOOPTIMIZE.AUTOCOMPACT' = 'TRUE'\n",
    ")\n",
    "AS\n",
    "WITH \n",
    "asrt_list AS (\n",
    "    SELECT DISTINCT \n",
    "        a.store_id, \n",
    "        CASE\n",
    "            WHEN c.business_unit = '1500' THEN 'Supermarket'\n",
    "            WHEN c.business_unit = '2000' AND c.concept IN ('WiN','Rural') THEN c.concept\n",
    "            ELSE 'Urban'\n",
    "        END business_model,\n",
    "        a.product_id,\n",
    "        b.manufacturer_id\n",
    "    FROM {catalog_name}.udp_wcm_gold_vcm_dwh.d_assortment_active a\n",
    "        LEFT JOIN {catalog_name}.udp_wcm_gold_vcm_dwh.d_product b ON a.product_id = b.product_id\n",
    "        LEFT JOIN {catalog_name}.udp_wcm_gold_vcm_dwh.d_store c ON a.store_id = c.store_id\n",
    "    WHERE c.business_unit IN ('1500', '2000', '6000')\n",
    "        AND c.store_status_desc = \"Đang hoạt động\"\n",
    "        AND UPPER(c.store_name) NOT LIKE '[BLOCK]%'\n",
    "        AND UPPER(c.store_name) NOT LIKE 'OUTLET%' \n",
    "        AND UPPER(c.store_name) NOT LIKE '%HUB%' \n",
    "        AND UPPER(c.store_name) NOT LIKE '%ONLINE%'\n",
    "        AND UPPER(c.store_name) NOT LIKE '%KHO %'\n",
    "        AND UPPER(c.store_name) NOT LIKE '%B2B%'\n",
    "        AND a.store_id NOT LIKE 'GH%'\n",
    "        AND b.mch2_id IN ('102','201','202','203')\n",
    "),\n",
    "asm_kg AS (\n",
    "    SELECT DISTINCT st.business_unit, a.store_id, a.product_id\n",
    "    FROM {catalog_name}.udp_wcm_gold_vcm_dwh.d_assortment_scd a LEFT JOIN {catalog_name}.udp_wcm_gold_vcm_dwh.d_store st USING(store_id)\n",
    "    WHERE (\n",
    "            (st.business_unit = '2000' AND a.assortment IN ('VMP_KGMB', 'VMP_KGMN', 'WMP_THOIVU'))\n",
    "            OR (st.business_unit = '1500' AND (a.assortment LIKE 'KG\\\\_%' OR a.assortment LIKE 'VM\\\\_KG%'))\n",
    "            OR a.assortment LIKE 'KG_%'\n",
    "        )\n",
    "        AND a.status = 'ACTIVE'\n",
    "        AND DATE(start_date) <= DATE(CURRENT_TIMESTAMP() + INTERVAL 7 HOURS)\n",
    "        AND DATE(end_date) >= DATE(CURRENT_TIMESTAMP() + INTERVAL 7 HOURS)\n",
    "), \n",
    "main AS (\n",
    "    SELECT DISTINCT\n",
    "        b.business_unit,\n",
    "        a.store_id,\n",
    "        b.store_name,\n",
    "        a.business_model,\n",
    "        b.region_domain_vn mien,\n",
    "        b.city,\n",
    "        c.mch2_id,\n",
    "        a.product_id,\n",
    "        c.product_name,\n",
    "        a.manufacturer_id,\n",
    "        c.manufacturer_name,\n",
    "        d.core_range assortment_type\n",
    "    FROM asrt_list a \n",
    "    LEFT JOIN {catalog_name}.udp_wcm_gold_vcm_dwh.d_store b ON a.store_id = b.store_id\n",
    "    LEFT JOIN {catalog_name}.udp_wcm_gold_vcm_dwh.d_product c ON a.product_id = c.product_id\n",
    "    LEFT JOIN {catalog_name}.udp_wcm_gold_vcm_dwh.d_core_range_assortment d\n",
    "        ON a.store_id = d.store_id AND a.product_id = d.product_id\n",
    "    LEFT JOIN {catalog_name}.udp_wcm_gold_vcm_dwh.d_store_sku_by_dc e \n",
    "        ON a.store_id = e.store_id AND a.product_id = e.product_id\n",
    "    LEFT JOIN {catalog_name}.udp_wcm_gold_vcm_dwh.d_store_sku_by_dc_fresh e1\n",
    "    ON a.store_id = e1.store_id AND a.product_id = e1.product_id\n",
    "    LEFT JOIN asm_kg f\n",
    "        ON a.store_id = f.store_id AND a.product_id = f.product_id\n",
    "    WHERE e.store_id IS NULL AND f.store_id IS NULL AND\n",
    "     e1.store_id IS NULL\n",
    ")\n",
    "SELECT *\n",
    "FROM main;\n",
    "\"\"\")"
   ]
  },
  {
   "cell_type": "code",
   "execution_count": 0,
   "metadata": {
    "application/vnd.databricks.v1+cell": {
     "cellMetadata": {
      "byteLimit": 2048000,
      "rowLimit": 10000
     },
     "inputWidgets": {},
     "nuid": "72ab052e-908a-4d96-9a65-016a9c79e898",
     "showTitle": false,
     "tableResultSettingsMap": {},
     "title": ""
    }
   },
   "outputs": [],
   "source": [
    "spark.sql(f\"\"\"\n",
    "CREATE TABLE IF NOT EXISTS {catalog_name}.udp_wcm_gold_vcm_dwh.d_store_sku_by_dsd_his(\n",
    "    calday DATE,\n",
    "    business_unit STRING,\n",
    "    store_id STRING, \n",
    "    business_model STRING,\n",
    "    mch2_id STRING,\n",
    "    product_id STRING,\n",
    "    assortment_type STRING,\n",
    "    manufacturer_id STRING\n",
    ")\n",
    "TBLPROPERTIES (\n",
    "  'DELTA.AUTOOPTIMIZE.OPTIMIZEWRITE' = 'TRUE',\n",
    "  'DELTA.AUTOOPTIMIZE.AUTOCOMPACT' = 'TRUE'\n",
    ")\n",
    "\"\"\")"
   ]
  },
  {
   "cell_type": "code",
   "execution_count": 0,
   "metadata": {
    "application/vnd.databricks.v1+cell": {
     "cellMetadata": {
      "byteLimit": 2048000,
      "rowLimit": 10000
     },
     "inputWidgets": {},
     "nuid": "70c00221-d37c-4cd0-929e-6928c2558ca2",
     "showTitle": false,
     "tableResultSettingsMap": {},
     "title": ""
    }
   },
   "outputs": [],
   "source": [
    "spark.sql(f\"\"\"\n",
    "DELETE FROM {catalog_name}.udp_wcm_gold_vcm_dwh.d_store_sku_by_dsd_his \n",
    "WHERE calday = DATE(CURRENT_TIMESTAMP() + INTERVAL 7 HOURS);\n",
    "\"\"\")"
   ]
  },
  {
   "cell_type": "code",
   "execution_count": 0,
   "metadata": {
    "application/vnd.databricks.v1+cell": {
     "cellMetadata": {
      "byteLimit": 2048000,
      "rowLimit": 10000
     },
     "inputWidgets": {},
     "nuid": "572db239-9c85-4636-a717-935a2b6c104b",
     "showTitle": false,
     "tableResultSettingsMap": {},
     "title": ""
    }
   },
   "outputs": [],
   "source": [
    "spark.sql(f\"\"\"\n",
    "INSERT INTO {catalog_name}.udp_wcm_gold_vcm_dwh.d_store_sku_by_dsd_his\n",
    "SELECT\n",
    "    DATE(CURRENT_TIMESTAMP() + INTERVAL 7 HOURS) calday,\n",
    "    business_unit,\n",
    "    store_id,\n",
    "    business_model,\n",
    "    mch2_id,\n",
    "    product_id,\n",
    "    assortment_type,\n",
    "    manufacturer_id\n",
    "FROM {catalog_name}.udp_wcm_gold_vcm_dwh.d_store_sku_by_dsd;\n",
    "\"\"\")"
   ]
  }
 ],
 "metadata": {
  "application/vnd.databricks.v1+notebook": {
   "computePreferences": null,
   "dashboards": [],
   "environmentMetadata": {
    "base_environment": "",
    "environment_version": "2"
   },
   "inputWidgetPreferences": null,
   "language": "python",
   "notebookMetadata": {
    "mostRecentlyExecutedCommandWithImplicitDF": {
     "commandId": 6540195001592985,
     "dataframes": [
      "_sqldf"
     ]
    },
    "pythonIndentUnit": 4
   },
   "notebookName": "d_store_sku_by_dsd",
   "widgets": {
    "environment": {
     "currentValue": "DEV",
     "nuid": "02651692-608e-4df5-9b8c-8c20d11a6603",
     "typedWidgetInfo": {
      "autoCreated": false,
      "defaultValue": "",
      "label": "",
      "name": "environment",
      "options": {
       "widgetDisplayType": "Text",
       "validationRegex": null
      },
      "parameterDataType": "String"
     },
     "widgetInfo": {
      "widgetType": "text",
      "defaultValue": "",
      "label": "",
      "name": "environment",
      "options": {
       "widgetType": "text",
       "autoCreated": null,
       "validationRegex": null
      }
     }
    },
    "proc_date": {
     "currentValue": "2025-07-21",
     "nuid": "a07e4044-b67d-4401-b614-806fe1f86a64",
     "typedWidgetInfo": {
      "autoCreated": false,
      "defaultValue": "",
      "label": "",
      "name": "proc_date",
      "options": {
       "widgetDisplayType": "Text",
       "validationRegex": null
      },
      "parameterDataType": "String"
     },
     "widgetInfo": {
      "widgetType": "text",
      "defaultValue": "",
      "label": "",
      "name": "proc_date",
      "options": {
       "widgetType": "text",
       "autoCreated": null,
       "validationRegex": null
      }
     }
    }
   }
  },
  "language_info": {
   "name": "python"
  }
 },
 "nbformat": 4,
 "nbformat_minor": 0
}
