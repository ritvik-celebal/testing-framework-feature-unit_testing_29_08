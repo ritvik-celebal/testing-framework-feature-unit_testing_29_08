{
 "cells": [
  {
   "cell_type": "code",
   "execution_count": 0,
   "metadata": {
    "application/vnd.databricks.v1+cell": {
     "cellMetadata": {
      "byteLimit": 2048000,
      "rowLimit": 10000
     },
     "inputWidgets": {},
     "nuid": "06b0e7a4-b65e-4d2d-a3d1-a7b9d2e927e9",
     "showTitle": false,
     "tableResultSettingsMap": {},
     "title": ""
    }
   },
   "outputs": [],
   "source": [
    "%run ../utils/common"
   ]
  },
  {
   "cell_type": "code",
   "execution_count": 0,
   "metadata": {
    "application/vnd.databricks.v1+cell": {
     "cellMetadata": {
      "byteLimit": 2048000,
      "rowLimit": 10000
     },
     "inputWidgets": {},
     "nuid": "a5509b31-d173-49f6-8f2e-5d9d57188dbd",
     "showTitle": false,
     "tableResultSettingsMap": {},
     "title": ""
    }
   },
   "outputs": [],
   "source": [
    "dbutils.widgets.text(\"environment\", \"\", \"\")\n",
    "environment = dbutils.widgets.get(\"environment\")"
   ]
  },
  {
   "cell_type": "code",
   "execution_count": 0,
   "metadata": {
    "application/vnd.databricks.v1+cell": {
     "cellMetadata": {
      "byteLimit": 2048000,
      "rowLimit": 10000
     },
     "inputWidgets": {},
     "nuid": "b49738d2-3e1a-4061-94ca-9bf32579791f",
     "showTitle": false,
     "tableResultSettingsMap": {},
     "title": ""
    }
   },
   "outputs": [],
   "source": [
    "catalog_name = settings[environment]['catalog_name']"
   ]
  },
  {
   "cell_type": "code",
   "execution_count": 0,
   "metadata": {
    "application/vnd.databricks.v1+cell": {
     "cellMetadata": {
      "byteLimit": 2048000,
      "rowLimit": 10000
     },
     "inputWidgets": {},
     "nuid": "3e25f5c9-788d-4605-9946-4873d96ef3d6",
     "showTitle": false,
     "tableResultSettingsMap": {},
     "title": ""
    }
   },
   "outputs": [],
   "source": [
    "spark.sql(f\"\"\"\n",
    "CREATE TABLE IF NOT EXISTS {catalog_name}.udp_wcm_gold_vcm_finance_self_service.a_billcount_store_weekly\n",
    "(\n",
    "  calmonday DATE,\n",
    "  store_id STRING,\n",
    "  billcount INT,\n",
    "  billcount_mdl INT,\n",
    "  billcount_fresh INT,\n",
    "  billcount_mbs INT,\n",
    "  tpay_trans DOUBLE,\n",
    "  rev_amt_pos_mbs DOUBLE,\n",
    "  rev_amt_pos_mld_mbs DOUBLE\n",
    ")\n",
    "TBLPROPERTIES (\n",
    "  'DELTA.AUTOOPTIMIZE.OPTIMIZEWRITE' = 'TRUE',\n",
    "  'DELTA.AUTOOPTIMIZE.AUTOCOMPACT' = 'TRUE'\n",
    ")\"\"\")"
   ]
  },
  {
   "cell_type": "code",
   "execution_count": 0,
   "metadata": {
    "application/vnd.databricks.v1+cell": {
     "cellMetadata": {
      "byteLimit": 2048000,
      "rowLimit": 10000
     },
     "inputWidgets": {},
     "nuid": "d851c635-81ac-4ab7-9ecd-9b42da61e59d",
     "showTitle": false,
     "tableResultSettingsMap": {},
     "title": ""
    }
   },
   "outputs": [],
   "source": [
    "spark.sql(f\"\"\"\n",
    "DELETE FROM {catalog_name}.udp_wcm_gold_vcm_finance_self_service.a_billcount_store_weekly \n",
    "WHERE calmonday >= DATE(DATE_TRUNC('week', DATE(CURRENT_TIMESTAMP() + INTERVAL 7 HOURS)) - INTERVAL 4 WEEKS);\n",
    "\"\"\")\n",
    "spark.sql(f\"\"\"\n",
    "INSERT INTO {catalog_name}.udp_wcm_gold_vcm_finance_self_service.a_billcount_store_weekly\n",
    "WITH header AS (\n",
    "    -- DOANH THU CỦA HỘI VIÊN\n",
    "    SELECT DISTINCT LTRIM(transaction_no, '0') AS transaction_no \n",
    "    FROM {catalog_name}.udp_wcm_gold_vcm_dwh.f_transaction_loyalty a \n",
    "    WHERE calday >=  DATE(DATE_TRUNC('week', DATE(CURRENT_TIMESTAMP() + INTERVAL 7 HOURS)) - INTERVAL 4 WEEKS)\n",
    "),\n",
    "f_sale_prod AS (\n",
    "    SELECT\n",
    "        DATE_TRUNC('WEEK', calday) AS calmonday,\n",
    "        store_id,\n",
    "        product_id,\n",
    "        transaction_type,\n",
    "        LTRIM(transaction_no, '0') AS transaction_no,\n",
    "        SUM(sale_amount - tax_amount + CASE WHEN discount_type IN ('ZRTA', 'ZCRT') THEN discount_value ELSE 0 END) AS rev_amt_pos,\n",
    "        SUM(CASE WHEN payment_method IN ('TQRP', 'ZTPA') THEN tender_value ELSE 0 END) AS tpay_trans\n",
    "    FROM {catalog_name}.udp_wcm_gold_vcm_dwh.f_sale_prod\n",
    "    WHERE calday >=  DATE(DATE_TRUNC('week', DATE(CURRENT_TIMESTAMP() + INTERVAL 7 HOURS)) - INTERVAL 4 WEEKS)\n",
    "    GROUP BY 1, 2, 3, 4, 5\n",
    "),\n",
    "tpay AS (\n",
    "  SELECT\n",
    "    a.calmonday,\n",
    "    a.store_id,\n",
    "    SUM(tpay_trans) AS tpay_trans\n",
    "  FROM f_sale_prod a\n",
    "  LEFT JOIN {catalog_name}.udp_wcm_gold_vcm_dwh.d_store c ON a.store_id = c.store_id\n",
    "  WHERE c.business_unit = '1500'\n",
    "    AND c.store_id NOT LIKE '195%'\n",
    "  GROUP BY 1, 2\n",
    "),\n",
    "main AS (\n",
    "  SELECT\n",
    "    a.calmonday,\n",
    "    a.store_id,\n",
    "    COUNT(DISTINCT CASE WHEN b.bill_count = 1 THEN a.transaction_no END) - COUNT(DISTINCT CASE WHEN b.bill_count = -1 THEN a.transaction_no END) AS billcount,\n",
    "    COUNT(DISTINCT CASE WHEN b.bill_count = 1 AND product.manufacturer_id IN ('2325', '1915') THEN a.transaction_no END) - COUNT(DISTINCT CASE WHEN b.bill_count = -1 AND product.manufacturer_id IN ('2325', '1915') THEN a.transaction_no END) AS billcount_mdl,\n",
    "    COUNT(DISTINCT CASE WHEN b.bill_count = 1 AND product.mch2_id = '101' THEN a.transaction_no END) - COUNT(DISTINCT CASE WHEN b.bill_count = -1 AND product.mch2_id = '101' THEN a.transaction_no END) AS billcount_fresh,\n",
    "    COUNT(DISTINCT CASE WHEN b.bill_count = 1 AND header.transaction_no IS NOT NULL THEN a.transaction_no END) - COUNT(DISTINCT CASE WHEN b.bill_count = -1 AND header.transaction_no IS NOT NULL THEN a.transaction_no END) AS billcount_mbs,\n",
    "    SUM(CASE WHEN header.transaction_no IS NOT NULL THEN a.rev_amt_pos ELSE 0 END) AS rev_amt_pos_mbs,\n",
    "    SUM(CASE WHEN header.transaction_no IS NOT NULL AND product.manufacturer_id IN ('2325', '1915') THEN a.rev_amt_pos ELSE 0 END) AS rev_amt_pos_mld_mbs\n",
    "  FROM f_sale_prod a\n",
    "  INNER JOIN {catalog_name}.udp_wcm_silver_dim.transaction_type b ON a.transaction_type = b.transaction_type\n",
    "  LEFT JOIN {catalog_name}.udp_wcm_gold_vcm_dwh.d_product product ON a.product_id = product.product_id\n",
    "  LEFT JOIN {catalog_name}.udp_wcm_gold_vcm_dwh.d_store c ON a.store_id = c.store_id\n",
    "  LEFT JOIN header ON LTRIM(a.transaction_no, '0') = header.transaction_no\n",
    "  WHERE c.business_unit = '1500'\n",
    "    AND c.store_id NOT LIKE '195%'\n",
    "    AND product.mch2_id IN ('101', '102', '201', '202', '203')\n",
    "  GROUP BY 1, 2\n",
    ")\n",
    "SELECT \n",
    "    COALESCE(main.calmonday, tpay.calmonday) AS calmonday,\n",
    "    COALESCE(main.store_id, tpay.store_id) AS store_id,\n",
    "    main.billcount,\n",
    "    main.billcount_mdl,\n",
    "    main.billcount_fresh,\n",
    "    main.billcount_mbs,\n",
    "    tpay.tpay_trans,\n",
    "    main.rev_amt_pos_mbs,\n",
    "    main.rev_amt_pos_mld_mbs\n",
    "FROM main\n",
    "FULL OUTER JOIN tpay ON main.calmonday = tpay.calmonday AND main.store_id = tpay.store_id\n",
    "\"\"\")"
   ]
  }
 ],
 "metadata": {
  "application/vnd.databricks.v1+notebook": {
   "computePreferences": null,
   "dashboards": [],
   "environmentMetadata": {
    "base_environment": "",
    "environment_version": "2"
   },
   "inputWidgetPreferences": null,
   "language": "python",
   "notebookMetadata": {
    "mostRecentlyExecutedCommandWithImplicitDF": {
     "commandId": 7469597179135552,
     "dataframes": [
      "_sqldf"
     ]
    },
    "pythonIndentUnit": 4
   },
   "notebookName": "a_billcount_store_weekly",
   "widgets": {
    "environment": {
     "currentValue": "DEV",
     "nuid": "a6b3771c-0293-4f19-8c8e-d3265306f6f8",
     "typedWidgetInfo": {
      "autoCreated": false,
      "defaultValue": "",
      "label": "",
      "name": "environment",
      "options": {
       "widgetDisplayType": "Text",
       "validationRegex": null
      },
      "parameterDataType": "String"
     },
     "widgetInfo": {
      "widgetType": "text",
      "defaultValue": "",
      "label": "",
      "name": "environment",
      "options": {
       "widgetType": "text",
       "autoCreated": null,
       "validationRegex": null
      }
     }
    }
   }
  },
  "language_info": {
   "name": "python"
  }
 },
 "nbformat": 4,
 "nbformat_minor": 0
}
