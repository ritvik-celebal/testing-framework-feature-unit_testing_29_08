{
 "cells": [
  {
   "cell_type": "code",
   "execution_count": 0,
   "metadata": {
    "application/vnd.databricks.v1+cell": {
     "cellMetadata": {
      "byteLimit": 2048000,
      "rowLimit": 10000
     },
     "inputWidgets": {},
     "nuid": "b48d8bbe-7a3b-4f4c-8268-4089ec493f12",
     "showTitle": false,
     "tableResultSettingsMap": {},
     "title": ""
    }
   },
   "outputs": [],
   "source": [
    "%run ../utils/common"
   ]
  },
  {
   "cell_type": "code",
   "execution_count": 0,
   "metadata": {
    "application/vnd.databricks.v1+cell": {
     "cellMetadata": {
      "byteLimit": 2048000,
      "rowLimit": 10000
     },
     "inputWidgets": {},
     "nuid": "31ecc669-96b5-4220-b1c2-d1603bd997a2",
     "showTitle": false,
     "tableResultSettingsMap": {},
     "title": ""
    }
   },
   "outputs": [],
   "source": [
    "dbutils.widgets.text(\"environment\", \"\", \"\")\n",
    "environment = dbutils.widgets.get(\"environment\")"
   ]
  },
  {
   "cell_type": "code",
   "execution_count": 0,
   "metadata": {
    "application/vnd.databricks.v1+cell": {
     "cellMetadata": {
      "byteLimit": 2048000,
      "rowLimit": 10000
     },
     "inputWidgets": {},
     "nuid": "8ec2a6cb-deac-4607-848d-1e7852964beb",
     "showTitle": false,
     "tableResultSettingsMap": {},
     "title": ""
    }
   },
   "outputs": [],
   "source": [
    "catalog_name = settings[environment]['catalog_name']"
   ]
  },
  {
   "cell_type": "code",
   "execution_count": 0,
   "metadata": {
    "application/vnd.databricks.v1+cell": {
     "cellMetadata": {
      "byteLimit": 2048000,
      "rowLimit": 10000
     },
     "inputWidgets": {},
     "nuid": "40151690-0e8d-44f2-9758-f6c21aaeb50b",
     "showTitle": false,
     "tableResultSettingsMap": {},
     "title": ""
    }
   },
   "outputs": [],
   "source": [
    "spark.sql(f\"\"\"CREATE OR REPLACE TABLE {catalog_name}.udp_wcm_gold_vcm_dwh.d_assortment_article_scd \n",
    "TBLPROPERTIES (\n",
    "  'DELTA.AUTOOPTIMIZE.OPTIMIZEWRITE' = 'TRUE',\n",
    "  'DELTA.AUTOOPTIMIZE.AUTOCOMPACT' = 'TRUE'\n",
    ") AS\n",
    "WITH tmp AS (\n",
    "    SELECT \n",
    "        *,\n",
    "        LAG(date_to) OVER (PARTITION BY assortment, article, last_update_date ORDER BY date_to DESC) date_to2,\n",
    "        LAG(date_from) OVER (PARTITION BY assortment, article, last_update_date ORDER BY date_to DESC) date_from2,\n",
    "        FIRST_VALUE(date_to) OVER (PARTITION BY assortment, article, last_update_date ORDER BY date_to DESC) date_to_latest,\n",
    "        FIRST_VALUE(date_from) OVER (PARTITION BY assortment, article, last_update_date ORDER BY date_to DESC) date_from_latest\n",
    "    FROM {catalog_name}.udp_wcm_silver_sap_bw.sap_asm_article a\n",
    "),\n",
    "tmp2 AS (\n",
    "    SELECT \n",
    "        DISTINCT assortment, article, is_delete, lifnr AS vendor_id,\n",
    "        CASE WHEN date_to > date_from_latest AND date_to < date_to_latest THEN LEAST(date_from,date_from_latest) ELSE date_from END date_from,\n",
    "        CASE WHEN date_to > date_from_latest AND date_to < date_to_latest THEN date_to_latest ELSE date_to END date_to,\n",
    "        last_update_date\n",
    "    FROM tmp\n",
    "),\n",
    "tmp3 AS (\n",
    "    SELECT assortment, article, last_update_date, date_to, is_delete, vendor_id, MIN(date_from) date_from\n",
    "    FROM tmp2\n",
    "    GROUP BY 1,2,3,4,5,6\n",
    "),\n",
    "tmp4 AS (\n",
    "    SELECT \n",
    "        assortment, article, date_from, date_to, last_update_date, is_delete,vendor_id,\n",
    "        LEAD(last_update_date) OVER (PARTITION BY assortment, article ORDER BY last_update_date DESC, date_to DESC) prev_update_date,\n",
    "        LEAD(date_from) OVER (PARTITION BY assortment, article ORDER BY last_update_date DESC, date_to DESC) prev_date_from,\n",
    "        LEAD(date_to) OVER (PARTITION BY assortment, article ORDER BY last_update_date DESC, date_to DESC) prev_date_to,\n",
    "        LAG(last_update_date) OVER (PARTITION BY assortment, article ORDER BY last_update_date DESC, date_to DESC) next_update_date,\n",
    "        LAG(date_from) OVER (PARTITION BY assortment, article ORDER BY last_update_date DESC, date_to DESC) next_date_from,\n",
    "        LAG(date_to) OVER (PARTITION BY assortment, article ORDER BY last_update_date DESC, date_to DESC) next_date_to\n",
    "    FROM tmp3\n",
    "),\n",
    "tmp5 AS (\n",
    "    SELECT \n",
    "        assortment, article, is_delete, vendor_id, last_update_date,\n",
    "        IF(date_to IS NULL, NULL, LEAST(date_to,CASE WHEN next_date_from IS NOT NULL THEN DATE_SUB(next_date_from, 1) ELSE date_to END)) date_to,\n",
    "        date_from\n",
    "    FROM tmp4\n",
    ")\n",
    "SELECT    \n",
    "    a.assortment,\t\n",
    "    a.article product_id,\t\n",
    "    a.date_from start_date,\n",
    "    a.date_to end_date,\n",
    "    a.is_delete,\n",
    "    a.vendor_id,\n",
    "    IF(b.product_status LIKE 'Z%', 1, 0) block_by_article,\n",
    "    IF(c.status = 'ACTIVE', 0, 1) block_by_assortment,\n",
    "    IF(a.assortment NOT LIKE 'EX_%', 0, 1) block_by_ex,\n",
    "    a.last_update_date\n",
    "FROM tmp5 a\n",
    "LEFT JOIN {catalog_name}.udp_wcm_gold_vcm_dwh.d_product b ON a.article = b.product_id\n",
    "LEFT JOIN {catalog_name}.udp_wcm_gold_vcm_dwh.d_assortment_desc c ON a.assortment = c.assortment\n",
    "WHERE date_from <= date_to;\n",
    "\"\"\")"
   ]
  }
 ],
 "metadata": {
  "application/vnd.databricks.v1+notebook": {
   "computePreferences": null,
   "dashboards": [],
   "environmentMetadata": {
    "base_environment": "",
    "environment_version": "2"
   },
   "inputWidgetPreferences": null,
   "language": "python",
   "notebookMetadata": {
    "mostRecentlyExecutedCommandWithImplicitDF": {
     "commandId": 7469597179128572,
     "dataframes": [
      "_sqldf"
     ]
    },
    "pythonIndentUnit": 4
   },
   "notebookName": "d_assortment_article_scd",
   "widgets": {
    "environment": {
     "currentValue": "DEV",
     "nuid": "7a870c67-9f0c-40aa-951c-3b6ae5ed09a0",
     "typedWidgetInfo": {
      "autoCreated": false,
      "defaultValue": "",
      "label": "",
      "name": "environment",
      "options": {
       "widgetDisplayType": "Text",
       "validationRegex": null
      },
      "parameterDataType": "String"
     },
     "widgetInfo": {
      "widgetType": "text",
      "defaultValue": "",
      "label": "",
      "name": "environment",
      "options": {
       "widgetType": "text",
       "autoCreated": null,
       "validationRegex": null
      }
     }
    }
   }
  },
  "language_info": {
   "name": "python"
  }
 },
 "nbformat": 4,
 "nbformat_minor": 0
}
