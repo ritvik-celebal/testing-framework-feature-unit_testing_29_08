{
 "cells": [
  {
   "cell_type": "code",
   "execution_count": 0,
   "metadata": {
    "application/vnd.databricks.v1+cell": {
     "cellMetadata": {
      "byteLimit": 2048000,
      "rowLimit": 10000
     },
     "inputWidgets": {},
     "nuid": "8682bc4f-d241-4580-acbb-e2f7927696e8",
     "showTitle": false,
     "tableResultSettingsMap": {},
     "title": ""
    }
   },
   "outputs": [],
   "source": [
    "%run ../utils/common"
   ]
  },
  {
   "cell_type": "code",
   "execution_count": 0,
   "metadata": {
    "application/vnd.databricks.v1+cell": {
     "cellMetadata": {
      "byteLimit": 2048000,
      "rowLimit": 10000
     },
     "inputWidgets": {},
     "nuid": "7ad1d9e5-607f-4e7e-99f6-c168992072eb",
     "showTitle": false,
     "tableResultSettingsMap": {},
     "title": ""
    }
   },
   "outputs": [],
   "source": [
    "dbutils.widgets.text(\"environment\", \"\", \"\")\n",
    "environment = dbutils.widgets.get(\"environment\")"
   ]
  },
  {
   "cell_type": "code",
   "execution_count": 0,
   "metadata": {
    "application/vnd.databricks.v1+cell": {
     "cellMetadata": {
      "byteLimit": 2048000,
      "rowLimit": 10000
     },
     "inputWidgets": {},
     "nuid": "1dc15c2e-20db-43c0-82ec-4d83ccabbf48",
     "showTitle": false,
     "tableResultSettingsMap": {},
     "title": ""
    }
   },
   "outputs": [],
   "source": [
    "catalog_name = settings[environment]['catalog_name']"
   ]
  },
  {
   "cell_type": "code",
   "execution_count": 0,
   "metadata": {
    "application/vnd.databricks.v1+cell": {
     "cellMetadata": {},
     "inputWidgets": {},
     "nuid": "d776f63f-dca1-408b-9c02-a797b85f21b5",
     "showTitle": false,
     "tableResultSettingsMap": {},
     "title": ""
    }
   },
   "outputs": [],
   "source": [
    "regex_pattern = r'\\\\b\\\\d{10}\\\\b'"
   ]
  },
  {
   "cell_type": "code",
   "execution_count": 0,
   "metadata": {
    "application/vnd.databricks.v1+cell": {
     "cellMetadata": {
      "byteLimit": 2048000,
      "rowLimit": 10000
     },
     "inputWidgets": {},
     "nuid": "500599ad-c3b7-47d2-8855-7c1e65d366b2",
     "showTitle": false,
     "tableResultSettingsMap": {},
     "title": ""
    }
   },
   "outputs": [],
   "source": [
    "spark.sql(f\"\"\"\n",
    "create or replace table {catalog_name}.udp_wcm_gold_vcm_dwh.f_transaction_loyalty \n",
    "TBLPROPERTIES (\n",
    "  'DELTA.AUTOOPTIMIZE.OPTIMIZEWRITE' = 'TRUE',\n",
    "  'DELTA.AUTOOPTIMIZE.AUTOCOMPACT' = 'TRUE'\n",
    ")\n",
    "WITH winplus_phone AS (\n",
    "  SELECT order_code, customer_phone\n",
    "  from {catalog_name}.udp_wcm_gold_vcm_dwh.f_sale_orders\n",
    "  WHERE channel = 'WINPLUS' AND customer_phone IS NOT NULL\n",
    "  GROUP BY 1, 2\n",
    "),\n",
    "f_sale_prod AS (\n",
    "  SELECT transaction_no, calday, \n",
    "      transaction_type,\n",
    "      SUM(sale_amount) sale_amount,\n",
    "      SUM(rev_amt_pos) rev_amt_pos\n",
    "  FROM (\n",
    "      SELECT LTRIM('0' ,transaction_no) transaction_no,\n",
    "        calday,\n",
    "        product_id,\n",
    "        transaction_type,\n",
    "        SUM(sale_amount) sale_amount,\n",
    "        SUM(sale_amount - tax_amount + IF(discount_type IN ('ZRTA', 'ZCRT'), discount_value, 0)) rev_amt_pos\n",
    "      FROM {catalog_name}.udp_wcm_gold_vcm_dwh.f_sale_prod\n",
    "      WHERE calday >= '2022-07-01'\n",
    "        AND product_id IS NOT NULL\n",
    "      GROUP BY 1, 2, 3, 4\n",
    "  ) A\n",
    "  left join {catalog_name}.udp_wcm_gold_vcm_dwh.d_product product on a.product_id = product.product_id\n",
    "  WHERE product.mch2_id IN ('101', '102','201', '202', '203')\n",
    "  GROUP BY 1, 2, 3\n",
    "),\n",
    "list_transaction AS (\n",
    "  SELECT DISTINCT 'WINPLUS' source,\n",
    "    A.calday,\n",
    "    LTRIM('0', receipt_no) transaction_no,\n",
    "    mem.capilary_customer_id ordercustomerid,\n",
    "    B.customer_phone mobile_number,\n",
    "    A.store_id\n",
    "  FROM {catalog_name}.udp_wcm_gold_fin_winplus_ss.winplus_order_bill_header_vw A\n",
    "  LEFT JOIN winplus_phone B ON A.receipt_no = B.order_code\n",
    "  LEFT JOIN {catalog_name}.udp_wcm_gold_vcm_dwh.d_win_membership mem ON {catalog_name}.default.fn_clean_mobile_no(B.customer_phone) = mem.mobile_number\n",
    "  WHERE A.member_type IS NOT NULL\n",
    "    AND A.member_type <> '0'\n",
    "    AND A.customer_name <> 'UNKNOW'\n",
    "  UNION ALL\n",
    "  SELECT\n",
    "    'POS' source,\n",
    "    A.calday,\n",
    "    LTRIM('0', receipt_no) transaction_no,\n",
    "    B.capilary_customer_id customer_id,\n",
    "    A.mobile_number,\n",
    "    A.store_id\n",
    "  FROM {catalog_name}.udp_wcm_gold_vcm_dwh.f_saleout_bill_header A\n",
    "  LEFT JOIN {catalog_name}.udp_wcm_gold_vcm_dwh.d_win_membership B ON A.mobile_number = B.mobile_number\n",
    "  WHERE A.mobile_number IS NOT NULL\n",
    "    AND LENGTH(A.mobile_number) > 0\n",
    "    AND IF(\n",
    "  {catalog_name}.default.fn_clean_mobile_no(A.mobile_number) RLIKE '{regex_pattern}',\n",
    "  1,\n",
    "  0\n",
    ") = 1\n",
    "  UNION ALL\n",
    "  SELECT *\n",
    "  FROM (\n",
    "    WITH online_trans AS (\n",
    "      SELECT calday, receipt_no, ref_03_origin_trx_num\n",
    "      FROM {catalog_name}.udp_wcm_gold_vcm_dwh.f_saleout_bill_header\n",
    "      WHERE ref_03_origin_trx_num LIKE '17%'\n",
    "      GROUP BY 1, 2, 3\n",
    "    ),\n",
    "    lyt_orders AS (\n",
    "      SELECT LTRIM('0', order_id) orderid,\n",
    "          create_date createdate,\n",
    "          order_customer_id ordercustomerid,\n",
    "          sale_store_id salestoreid\n",
    "      FROM {catalog_name}.udp_wcm_silver_cx_loyalty.lyt_orders\n",
    "      WHERE CASE\n",
    "        WHEN TO_DATE(create_date,'yyyy-MM-dd HH:mm:ss.SSS') IS NOT NULL\n",
    "        THEN TO_DATE(create_date,'yyyy-MM-dd HH:mm:ss.SSS')\n",
    "        ELSE TO_DATE(create_date,'MM/dd/yyyy HH:mm:ss')\n",
    "      END >= '2022-07-01'\n",
    "        AND order_customer_id IS NOT NULL\n",
    "        AND LENGTH(order_customer_id) > 0\n",
    "      QUALIFY ROW_NUMBER() OVER (PARTITION BY orderid\n",
    "      ORDER BY CASE\n",
    "             WHEN TO_DATE(create_date,'yyyy-MM-dd HH:mm:ss.SSS') IS NOT NULL\n",
    "             THEN TO_DATE(create_date,'yyyy-MM-dd HH:mm:ss.SSS')\n",
    "             ELSE TO_DATE(create_date,'MM/dd/yyyy HH:mm:ss')\n",
    "           END DESC) = 1\n",
    "    )\n",
    "    SELECT DISTINCT\n",
    "      'ONLINE' source,\n",
    "      CASE\n",
    "        WHEN TO_DATE(createdate,'yyyy-MM-dd HH:mm:ss.SSS') IS NOT NULL\n",
    "        THEN TO_DATE(createdate,'yyyy-MM-dd HH:mm:ss.SSS')\n",
    "        ELSE TO_DATE(createdate,'MM/dd/yyyy HH:mm:ss')\n",
    "      END AS calday,\n",
    "      CASE\n",
    "          WHEN online_trans.receipt_no IS NOT NULL THEN online_trans.receipt_no\n",
    "          ELSE orderid\n",
    "      END transaction_no,\n",
    "      CASE\n",
    "          WHEN B.customer_id IS NOT NULL THEN B.capilary_customer_id\n",
    "          WHEN C.capilary_customer_id IS NOT NULL THEN C.capilary_customer_id\n",
    "      END customer_id,\n",
    "      CASE\n",
    "          WHEN B.customer_id IS NOT NULL THEN B.mobile_number\n",
    "          WHEN C.capilary_customer_id IS NOT NULL THEN C.mobile_number\n",
    "      END mobile_number,\n",
    "      A.salestoreid store_id\n",
    "    FROM lyt_orders A\n",
    "    LEFT JOIN {catalog_name}.udp_wcm_gold_vcm_dwh.d_win_membership B ON A.ordercustomerid = B.customer_id\n",
    "    LEFT JOIN {catalog_name}.udp_wcm_gold_vcm_dwh.d_win_membership C ON A.ordercustomerid = C.capilary_customer_id\n",
    "    LEFT JOIN online_trans ON A.orderid = online_trans.ref_03_origin_trx_num\n",
    "    )\n",
    ")\n",
    "SELECT A.*, B.transaction_type, B.sale_amount, B.rev_amt_pos\n",
    "FROM list_transaction A\n",
    "LEFT JOIN f_sale_prod B USING(transaction_no, calday)\n",
    "\"\"\")"
   ]
  }
 ],
 "metadata": {
  "application/vnd.databricks.v1+notebook": {
   "computePreferences": null,
   "dashboards": [],
   "environmentMetadata": {
    "base_environment": "",
    "environment_version": "2"
   },
   "inputWidgetPreferences": null,
   "language": "python",
   "notebookMetadata": {
    "mostRecentlyExecutedCommandWithImplicitDF": {
     "commandId": 6350561386715935,
     "dataframes": [
      "_sqldf"
     ]
    },
    "pythonIndentUnit": 4
   },
   "notebookName": "f_transaction_loyalty",
   "widgets": {}
  },
  "language_info": {
   "name": "python"
  }
 },
 "nbformat": 4,
 "nbformat_minor": 0
}
