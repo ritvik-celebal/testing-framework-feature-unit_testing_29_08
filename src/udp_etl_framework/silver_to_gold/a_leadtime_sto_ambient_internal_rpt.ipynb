{
 "cells": [
  {
   "cell_type": "code",
   "execution_count": 0,
   "metadata": {
    "application/vnd.databricks.v1+cell": {
     "cellMetadata": {
      "byteLimit": 2048000,
      "rowLimit": 10000
     },
     "inputWidgets": {},
     "nuid": "5b1eaca2-f9cc-4f39-9d0e-842b8efcf6d3",
     "showTitle": false,
     "tableResultSettingsMap": {},
     "title": ""
    }
   },
   "outputs": [],
   "source": [
    "%run ../utils/common"
   ]
  },
  {
   "cell_type": "code",
   "execution_count": 0,
   "metadata": {
    "application/vnd.databricks.v1+cell": {
     "cellMetadata": {
      "byteLimit": 2048000,
      "rowLimit": 10000
     },
     "inputWidgets": {},
     "nuid": "20685956-bd81-4aeb-ba8c-7826dbfc0899",
     "showTitle": false,
     "tableResultSettingsMap": {},
     "title": ""
    }
   },
   "outputs": [],
   "source": [
    "dbutils.widgets.text(\"environment\", \"\", \"\")\n",
    "environment = dbutils.widgets.get(\"environment\")"
   ]
  },
  {
   "cell_type": "code",
   "execution_count": 0,
   "metadata": {
    "application/vnd.databricks.v1+cell": {
     "cellMetadata": {
      "byteLimit": 2048000,
      "rowLimit": 10000
     },
     "inputWidgets": {},
     "nuid": "834cab5f-d91c-4474-af5a-0f4f8c2d95bd",
     "showTitle": false,
     "tableResultSettingsMap": {},
     "title": ""
    }
   },
   "outputs": [],
   "source": [
    "catalog_name = settings[environment]['catalog_name']"
   ]
  },
  {
   "cell_type": "code",
   "execution_count": 0,
   "metadata": {
    "application/vnd.databricks.v1+cell": {
     "cellMetadata": {
      "byteLimit": 2048000,
      "rowLimit": 10000
     },
     "inputWidgets": {},
     "nuid": "2af8aa69-7643-4c47-8726-90c5b3a989e8",
     "showTitle": false,
     "tableResultSettingsMap": {},
     "title": ""
    }
   },
   "outputs": [],
   "source": [
    "spark.sql(f\"\"\"\n",
    "CREATE OR REPLACE TABLE {catalog_name}.udp_wcm_gold_vcm_dmt.a_leadtime_sto_ambient_internal_rpt \n",
    "TBLPROPERTIES (\n",
    "  'DELTA.AUTOOPTIMIZE.OPTIMIZEWRITE' = 'TRUE',\n",
    "  'DELTA.AUTOOPTIMIZE.AUTOCOMPACT' = 'TRUE'\n",
    ")\n",
    "AS\n",
    "WITH\n",
    "all_sto AS (\n",
    "  SELECT\n",
    "    sto_type,\n",
    "    sto_number,\n",
    "    sto_item,\n",
    "    product_id,\n",
    "    start_date,\n",
    "    end_date,\n",
    "    store_id,\n",
    "    dc_id,\n",
    "    ontime_check,\n",
    "    IF(leadtime_actual IS NULL, NULL, GREATEST(0,leadtime_actual)) AS leadtime_actual,\n",
    "    leadtime_qual,\n",
    "    NULL AS do_qty,\n",
    "    SUM(sto_qty) AS sto_qty,\n",
    "    SUM(gi_qty) AS gi_qty,\n",
    "    SUM(infull_qty) AS gi_qty_infull,\n",
    "    SUM(ontime_qty) AS gi_qty_ontime\n",
    "  FROM {catalog_name}.udp_wcm_gold_vcm_dmt.a_leadtime_sto_ambient_bs_internal_rpt\n",
    "  WHERE ontime_check IN ('LATE', 'ONTIME', 'IN LEADTIME REQUIRED')\n",
    "  GROUP BY 1,2,3,4,5,6,7,8,9,10,11\n",
    "  UNION ALL\n",
    "  SELECT\n",
    "    sto_type,\n",
    "    sto_number,\n",
    "    sto_item,\n",
    "    product_id,\n",
    "    start_date,\n",
    "    end_date,\n",
    "    store_id,\n",
    "    dc_id,\n",
    "    ontime_check,\n",
    "    IF(leadtime_actual IS NULL, NULL, GREATEST(0,leadtime_actual)) AS leadtime_actual,\n",
    "    leadtime_qual,\n",
    "    SUM(do_qty) AS do_qty,\n",
    "    NULL AS sto_qty,\n",
    "    SUM(gi_qty) AS gi_qty,\n",
    "    SUM(infull_qty) AS gi_qty_infull,\n",
    "    SUM(ontime_qty) AS gi_qty_ontime\n",
    "  FROM {catalog_name}.udp_wcm_gold_vcm_dmt.a_leadtime_sto_ambient_ft_internal_rpt\n",
    "  WHERE ontime_check IN ('LATE', 'ONTIME', 'IN LEADTIME REQUIRED')\n",
    "  GROUP BY 1,2,3,4,5,6,7,8,9,10,11\n",
    ")\n",
    "SELECT * FROM all_sto\n",
    "\"\"\")"
   ]
  }
 ],
 "metadata": {
  "application/vnd.databricks.v1+notebook": {
   "computePreferences": null,
   "dashboards": [],
   "environmentMetadata": {
    "base_environment": "",
    "environment_version": "2"
   },
   "inputWidgetPreferences": null,
   "language": "python",
   "notebookMetadata": {
    "mostRecentlyExecutedCommandWithImplicitDF": {
     "commandId": -1,
     "dataframes": [
      "_sqldf"
     ]
    },
    "pythonIndentUnit": 4
   },
   "notebookName": "a_leadtime_sto_ambient_internal_rpt",
   "widgets": {
    "environment": {
     "currentValue": "DEV",
     "nuid": "459ff1d5-b9f5-4098-84ad-27a9887cd2fe",
     "typedWidgetInfo": {
      "autoCreated": false,
      "defaultValue": "",
      "label": "",
      "name": "environment",
      "options": {
       "widgetDisplayType": "Text",
       "validationRegex": null
      },
      "parameterDataType": "String"
     },
     "widgetInfo": {
      "widgetType": "text",
      "defaultValue": "",
      "label": "",
      "name": "environment",
      "options": {
       "widgetType": "text",
       "autoCreated": null,
       "validationRegex": null
      }
     }
    }
   }
  },
  "language_info": {
   "name": "python"
  }
 },
 "nbformat": 4,
 "nbformat_minor": 0
}
