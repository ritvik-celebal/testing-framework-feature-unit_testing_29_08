{
 "cells": [
  {
   "cell_type": "code",
   "execution_count": 0,
   "metadata": {
    "application/vnd.databricks.v1+cell": {
     "cellMetadata": {
      "byteLimit": 2048000,
      "rowLimit": 10000
     },
     "inputWidgets": {},
     "nuid": "b3edccd8-5935-45b3-a1c7-25d9e4d6eb4f",
     "showTitle": false,
     "tableResultSettingsMap": {},
     "title": ""
    }
   },
   "outputs": [],
   "source": [
    "%run ../utils/common"
   ]
  },
  {
   "cell_type": "code",
   "execution_count": 0,
   "metadata": {
    "application/vnd.databricks.v1+cell": {
     "cellMetadata": {
      "byteLimit": 2048000,
      "rowLimit": 10000
     },
     "inputWidgets": {},
     "nuid": "1d08d6eb-d5a9-4721-9a05-b8a40a2f41c2",
     "showTitle": false,
     "tableResultSettingsMap": {},
     "title": ""
    }
   },
   "outputs": [],
   "source": [
    "dbutils.widgets.text(\"target_dataset\", \"VCM_DMT_PRD\")\n",
    "dbutils.widgets.text(\"metadata_schema\", \"udp_wcm_metadata_dev\")\n",
    "dbutils.widgets.text(\"target_table\", \"a_dr_dio_rp_store_sku\")\n",
    "dbutils.widgets.text(\n",
    "    \"dependency_table\",\"VCM_DWH_PRD.F_DR_DIO_RAWDATA,VCM_DWH_PRD.F_DR_DIO_RAWDATA_00, VCM_DWH_PRD.D_STORE, VCM_DWH_PRD.D_PRODUCT, VCM_DWH_PRD.D_VENDOR_MASTER\"\n",
    ")"
   ]
  },
  {
   "cell_type": "code",
   "execution_count": 0,
   "metadata": {
    "application/vnd.databricks.v1+cell": {
     "cellMetadata": {
      "byteLimit": 2048000,
      "rowLimit": 10000
     },
     "inputWidgets": {},
     "nuid": "1764bb19-7505-4f91-85c4-a89c2a78c85e",
     "showTitle": false,
     "tableResultSettingsMap": {},
     "title": ""
    }
   },
   "outputs": [],
   "source": [
    "dbutils.widgets.text(\"field_calday\", \"CALDAY\")\n",
    "dbutils.widgets.text(\"field_id\", \"HASH_ID\")\n",
    "\n",
    "field_calday = dbutils.widgets.get(\"field_calday\")\n",
    "field_id = dbutils.widgets.get(\"field_id\")\n",
    "\n",
    "print(f\"field_calday: {field_calday}\")\n",
    "print(f\"field_id: {field_id}\")"
   ]
  },
  {
   "cell_type": "code",
   "execution_count": 0,
   "metadata": {
    "application/vnd.databricks.v1+cell": {
     "cellMetadata": {
      "byteLimit": 2048000,
      "rowLimit": 10000
     },
     "inputWidgets": {},
     "nuid": "59e2f04c-8403-4627-ac4e-3d674caaeb5b",
     "showTitle": false,
     "tableResultSettingsMap": {},
     "title": ""
    }
   },
   "outputs": [],
   "source": [
    "catalog_name = settings[environment]['catalog_name']"
   ]
  },
  {
   "cell_type": "code",
   "execution_count": 0,
   "metadata": {
    "application/vnd.databricks.v1+cell": {
     "cellMetadata": {
      "byteLimit": 2048000,
      "rowLimit": 10000
     },
     "inputWidgets": {},
     "nuid": "13e35286-c4d6-4512-b852-00b54537ffcb",
     "showTitle": false,
     "tableResultSettingsMap": {},
     "title": ""
    }
   },
   "outputs": [],
   "source": [
    "environment = dbutils.widgets.get(\"environment\")\n",
    "target_dataset = dbutils.widgets.get(\"target_dataset\")\n",
    "target_table = dbutils.widgets.get(\"target_table\")\n",
    "metadata_schema = dbutils.widgets.get(\"metadata_schema\")\n",
    "dependency_table = dbutils.widgets.get(\"dependency_table\")\n",
    "dependency_table = [x.strip().upper() for x in dependency_table.split(\",\")]\n",
    "dependency_table = \"'\" + \"','\".join(dependency_table) + \"'\"\n",
    "\n",
    "print(f\"environment: {environment}\")\n",
    "print(f\"target_dataset: {target_dataset}\")\n",
    "print(f\"target_table: {target_table}\")\n",
    "print(f\"catalog_name: {catalog_name}\")\n",
    "print(f\"metadata_schema: {metadata_schema}\")\n",
    "print(f\"dependency_table: {dependency_table}\")"
   ]
  },
  {
   "cell_type": "code",
   "execution_count": 0,
   "metadata": {
    "application/vnd.databricks.v1+cell": {
     "cellMetadata": {
      "byteLimit": 2048000,
      "rowLimit": 10000
     },
     "inputWidgets": {},
     "nuid": "1728b3c3-0d16-4c31-9d1c-8db2f9906359",
     "showTitle": false,
     "tableResultSettingsMap": {},
     "title": ""
    }
   },
   "outputs": [],
   "source": [
    "%run \"../common/common_etl_load\""
   ]
  },
  {
   "cell_type": "code",
   "execution_count": 0,
   "metadata": {
    "application/vnd.databricks.v1+cell": {
     "cellMetadata": {
      "byteLimit": 2048000,
      "rowLimit": 10000
     },
     "inputWidgets": {},
     "nuid": "26b8f67d-17b9-488b-b00e-9898c296d1e3",
     "showTitle": false,
     "tableResultSettingsMap": {},
     "title": ""
    }
   },
   "outputs": [],
   "source": [
    "spark.sql(f\"\"\"\n",
    "CREATE TABLE IF NOT EXISTS {catalog_name}.udp_wcm_gold_vcm_dmt.a_dr_dio_rp_store_sku\n",
    "(\n",
    "  calday DATE,\n",
    "  business_unit STRING,\n",
    "  tinh_tp STRING,\n",
    "  qlkv STRING,\n",
    "  mien STRING,\n",
    "  gdv STRING,\n",
    "  gdm STRING,\n",
    "  mch5_id STRING,\n",
    "  mch5_name STRING,\n",
    "  store_id STRING,\n",
    "  product_id STRING,\n",
    "  product_name STRING,\n",
    "  vendor_id STRING,\n",
    "  vendor STRING,\n",
    "  cluster STRING,\n",
    "  order_method STRING,\n",
    "  delivery_method STRING,\n",
    "  reporting_region STRING,\n",
    "  manufacturer STRING,\n",
    "  dr_type BIGINT,\n",
    "  dio_type BIGINT,\n",
    "  material_type STRING,\n",
    "  issue_sku BIGINT,\n",
    "  dr_sum BIGINT,\n",
    "  dr_count BIGINT,\n",
    "  closing_stock_value DOUBLE,\n",
    "  closing_stock_quantity DOUBLE,\n",
    "  cogs_90d DOUBLE,\n",
    "  cogs_b2b_90d DOUBLE,\n",
    "  sale_qty_90d DOUBLE,\n",
    "  sale_qty_b2b_90d DOUBLE,\n",
    "  cogs_30d DOUBLE,\n",
    "  cogs_b2b_30d DOUBLE,\n",
    "  sale_qty_30d DOUBLE,\n",
    "  sale_qty_b2b_30d DOUBLE\n",
    ")  \n",
    "TBLPROPERTIES (\n",
    "  'DELTA.AUTOOPTIMIZE.OPTIMIZEWRITE' = 'TRUE',\n",
    "  'DELTA.AUTOOPTIMIZE.AUTOCOMPACT' = 'TRUE'\n",
    ");\n",
    "\"\"\")"
   ]
  },
  {
   "cell_type": "code",
   "execution_count": 0,
   "metadata": {
    "application/vnd.databricks.v1+cell": {
     "cellMetadata": {
      "byteLimit": 2048000,
      "rowLimit": 10000
     },
     "inputWidgets": {},
     "nuid": "6dc0283a-d8e8-4fd4-90d6-cc64eed693aa",
     "showTitle": false,
     "tableResultSettingsMap": {},
     "title": ""
    }
   },
   "outputs": [],
   "source": [
    "if CALDAY_IN_STR != \"\":\n",
    "    spark.sql(\n",
    "        f\"\"\"\n",
    "    CREATE OR REPLACE TEMP VIEW temp_{target_table} AS\n",
    "    WITH \n",
    "    temp AS (\n",
    "        SELECT * EXCEPT(stt,rn) \n",
    "        FROM (\n",
    "            SELECT *, ROW_NUMBER() OVER (PARTITION BY date_gen,store_id,product_id ORDER BY stt) rn \n",
    "            FROM (\n",
    "                SELECT \n",
    "                    date_gen,\n",
    "                    store_id,\n",
    "                    product_id,\n",
    "                    vendor_id,\n",
    "                    cluster,\n",
    "                    order_method,\n",
    "                    delivery_method,\n",
    "                    issue_sku,\n",
    "                    material_type,\n",
    "                    dio_type,\n",
    "                    dr_type,                            \n",
    "                    dr,\n",
    "                    closing_stock_value,\n",
    "                    closing_stock_quantity,\n",
    "                    cogs_90d,\n",
    "                    cogs_b2b_90d,\n",
    "                    sale_qty_90d,\n",
    "                    sale_qty_b2b_90d,\n",
    "                    cogs_30d, \n",
    "                    cogs_b2b_30d, \n",
    "                    sale_qty_30d, \n",
    "                    sale_qty_b2b_30d,\n",
    "                    1 stt\n",
    "                FROM {catalog_name}.udp_wcm_gold_vcm_dwh.f_dr_dio_rawdata\n",
    "                WHERE date_gen IN ({CALDAY_IN_STR}) AND (closing_stock_value != 0 OR cogs_b2b_90d != 0 OR cogs_90d != 0 OR dr_type != 0 OR material_type IN ('Meat Deli','Fresh'))\n",
    "                \n",
    "                UNION ALL \n",
    "                SELECT \n",
    "                    date_gen,\n",
    "                    store_id,\n",
    "                    product_id,\n",
    "                    vendor_id,\n",
    "                    cluster,\n",
    "                    order_method,\n",
    "                    delivery_method,\n",
    "                    issue_sku,\n",
    "                    material_type,\n",
    "                    dio_type,\n",
    "                    dr_type,                            \n",
    "                    dr,\n",
    "                    closing_stock_value,\n",
    "                    closing_stock_quantity,\n",
    "                    cogs_90d,\n",
    "                    cogs_b2b_90d,\n",
    "                    sale_qty_90d,\n",
    "                    sale_qty_b2b_90d,\n",
    "                    cogs_30d, \n",
    "                    cogs_b2b_30d, \n",
    "                    sale_qty_30d, \n",
    "                    sale_qty_b2b_30d,\n",
    "                    2 stt\n",
    "                from {catalog_name}.udp_wcm_gold_vcm_dwh.f_dr_dio_rawdata_00\n",
    "                    WHERE date_gen IN ({CALDAY_IN_STR}) AND (closing_stock_value != 0 OR cogs_b2b_90d != 0 OR cogs_90d != 0 OR dr_type != 0 OR material_type IN ('Meat Deli','Fresh'))\n",
    "            ) a\n",
    "        ) a WHERE rn = 1\n",
    "    ),\n",
    "    FDD AS (\n",
    "        SELECT \n",
    "            a.*, \n",
    "            mch2_id,\n",
    "            ds.city tinh_tp,\n",
    "            ds.mien,\n",
    "            ds.qlkv,\n",
    "            ds.gdv,\n",
    "            ds.gdm,\n",
    "            ds.reporting_region,\n",
    "            ds.business_unit\n",
    "        FROM temp a\n",
    "            INNER JOIN {catalog_name}.udp_wcm_gold_vcm_dwh.d_store ds ON a.store_id = ds.store_id AND ds.store_status_id = \"OPEN\"\n",
    "            INNER JOIN {catalog_name}.udp_wcm_gold_vcm_dwh.d_product dp ON dp.product_id = a.product_id\n",
    "    )\n",
    "    SELECT\n",
    "        rp.date_gen calday,\n",
    "        rp.business_unit,\n",
    "        rp.tinh_tp,\n",
    "        rp.qlkv,\n",
    "        rp.mien,\n",
    "        rp.gdv,\n",
    "        rp.gdm,\n",
    "        dp.mch5_id,\n",
    "        dp.mch5_name,\n",
    "        rp.store_id,\n",
    "        rp.product_id,\n",
    "        dp.product_name,\n",
    "        rp.vendor_id,\n",
    "        vd.vendor_name vendor,\n",
    "        rp.cluster,\n",
    "        rp.order_method,\n",
    "        rp.delivery_method,\n",
    "        rp.reporting_region,\n",
    "        dp.manufacturer,\n",
    "        rp.dr_type,\n",
    "        rp.dio_type,\n",
    "        rp.material_type,\n",
    "        rp.issue_sku,\n",
    "        rp.dr_sum,\n",
    "        rp.dr_count,\n",
    "        rp.closing_stock_value,\n",
    "        rp.closing_stock_quantity,\n",
    "        rp.cogs_90d,\n",
    "        rp.cogs_b2b_90d,\n",
    "        rp.sale_qty_90d,\n",
    "        rp.sale_qty_b2b_90d,\n",
    "        rp.cogs_30d, \n",
    "        rp.cogs_b2b_30d, \n",
    "        rp.sale_qty_30d, \n",
    "        rp.sale_qty_b2b_30d\n",
    "    FROM (\n",
    "        SELECT\n",
    "            date_gen,\n",
    "            tinh_tp,\n",
    "            mien,\n",
    "            qlkv,\n",
    "            gdv,\n",
    "            gdm,\n",
    "            reporting_region,\n",
    "            business_unit,\n",
    "            product_id,\n",
    "            store_id,\n",
    "            cluster,\n",
    "            order_method,\n",
    "            delivery_method,\n",
    "            dr_type,\n",
    "            dio_type,\n",
    "            vendor_id,\n",
    "            issue_sku,\n",
    "            material_type,\n",
    "            COUNT(dr_type) dr_count,\n",
    "            SUM(IF(dr_type = 1,dr,0)) dr_sum,\n",
    "            SUM(closing_stock_value) closing_stock_value,\n",
    "            SUM(closing_stock_quantity) closing_stock_quantity,\n",
    "            SUM(cogs_90d) cogs_90d,\n",
    "            SUM(cogs_b2b_90d) cogs_b2b_90d,\n",
    "            SUM(sale_qty_90d) sale_qty_90d,\n",
    "            SUM(sale_qty_b2b_90d) sale_qty_b2b_90d,\n",
    "            SUM(cogs_30d) cogs_30d,\n",
    "            SUM(cogs_b2b_30d) cogs_b2b_30d,\n",
    "            SUM(sale_qty_30d) sale_qty_30d,\n",
    "            SUM(sale_qty_b2b_30d) sale_qty_b2b_30d\n",
    "        FROM FDD\n",
    "        GROUP BY 1,2,3,4,5,6,7,8,9,10,11,12,13,14,15,16,17,18\n",
    "    ) rp\n",
    "        LEFT JOIN {catalog_name}.udp_wcm_gold_vcm_dwh.d_product dp ON rp.product_id = dp.product_id\n",
    "        LEFT JOIN {catalog_name}.udp_wcm_gold_vcm_dwh.d_vendor_master vd ON rp.vendor_id = vd.vendor_id\n",
    "\"\"\")"
   ]
  },
  {
   "cell_type": "code",
   "execution_count": 0,
   "metadata": {
    "application/vnd.databricks.v1+cell": {
     "cellMetadata": {
      "byteLimit": 2048000,
      "rowLimit": 10000
     },
     "inputWidgets": {},
     "nuid": "67db24f8-6cb8-4be8-adad-734471168631",
     "showTitle": false,
     "tableResultSettingsMap": {},
     "title": ""
    }
   },
   "outputs": [],
   "source": [
    "if CALDAY_IN_STR != \"\":\n",
    "    # Get the calday list string from temp table\n",
    "    calday_query = f\"\"\"\n",
    "    SELECT\n",
    "        CONCAT(\"'\", CONCAT_WS(\"','\", COLLECT_SET(CAST(TO_DATE(calday, 'yyyy-MM-dd') AS STRING))), \"'\") AS calday_in_str\n",
    "    FROM temp_{target_table}\n",
    "    \"\"\"\n",
    "\n",
    "    calday_df = spark.sql(calday_query)\n",
    "    calday_in_str = calday_df.collect()[0][0]\n",
    "\n",
    "    # Only run DELETE if the string is non-empty\n",
    "    if calday_in_str.strip(\"'\"):  # checks if there's any date inside the quotes\n",
    "        spark.sql(\n",
    "            f\"\"\"\n",
    "        DELETE FROM {catalog_name}.udp_wcm_gold_vcm_dmt.a_dr_dio_rp_store_sku\n",
    "        WHERE calday IN ({calday_in_str})\n",
    "        \"\"\"\n",
    "        ).display()\n",
    "    else:\n",
    "        print(\"no valid calday's found to delete.\")\n",
    "else:\n",
    "    print(\n",
    "        f\"temp_{target_table} couldn't be created as no valid calday's found in common-etl so {catalog_name}.udp_wcm_gold_vcm_dmt.a_dr_dio_rp_store_sku can't be deleted using calday's from temp_{target_table}\"\n",
    "    )"
   ]
  },
  {
   "cell_type": "code",
   "execution_count": 0,
   "metadata": {
    "application/vnd.databricks.v1+cell": {
     "cellMetadata": {
      "byteLimit": 2048000,
      "rowLimit": 10000
     },
     "inputWidgets": {},
     "nuid": "75265bb5-77d0-4b4d-9380-a8aea96ca40d",
     "showTitle": false,
     "tableResultSettingsMap": {},
     "title": ""
    }
   },
   "outputs": [],
   "source": [
    "if CALDAY_IN_STR != \"\":\n",
    "    # Insert rows from temp table into main table\n",
    "    INSERT_ROW = \", \".join(\n",
    "        spark.table(f\"{catalog_name}.udp_wcm_gold_vcm_dmt.a_dr_dio_rp_store_sku\").columns\n",
    "    )\n",
    "    spark.sql(\n",
    "        f\"\"\"\n",
    "        INSERT INTO {catalog_name}.udp_wcm_gold_vcm_dmt.a_dr_dio_rp_store_sku ({INSERT_ROW})\n",
    "        SELECT {INSERT_ROW} FROM temp_{target_table}\n",
    "    \"\"\"\n",
    "    ).display()\n",
    "else:\n",
    "    print(\n",
    "        f\"temp_{target_table} couldn't be created as no valid calday's found in common-etl so {catalog_name}.udp_wcm_gold_vcm_dmt.a_dr_dio_rp_store_sku can't be inserted using calday's from temp_{target_table}\"\n",
    "    )"
   ]
  },
  {
   "cell_type": "code",
   "execution_count": 0,
   "metadata": {
    "application/vnd.databricks.v1+cell": {
     "cellMetadata": {
      "byteLimit": 2048000,
      "rowLimit": 10000
     },
     "inputWidgets": {},
     "nuid": "a8bd18ce-4ef5-4fea-bfdd-60bfe944482d",
     "showTitle": false,
     "tableResultSettingsMap": {},
     "title": ""
    }
   },
   "outputs": [],
   "source": [
    "spark.sql(f\"\"\"DROP VIEW IF EXISTS temp_{target_table}\"\"\")"
   ]
  }
 ],
 "metadata": {
  "application/vnd.databricks.v1+notebook": {
   "computePreferences": null,
   "dashboards": [],
   "environmentMetadata": {
    "base_environment": "",
    "environment_version": "2"
   },
   "inputWidgetPreferences": null,
   "language": "python",
   "notebookMetadata": {
    "mostRecentlyExecutedCommandWithImplicitDF": {
     "commandId": 6045741625411246,
     "dataframes": [
      "_sqldf"
     ]
    },
    "pythonIndentUnit": 4
   },
   "notebookName": "a_dr_dio_rp_store_sku",
   "widgets": {
    "catalog_name": {
     "currentValue": "udp_wcm_dev",
     "nuid": "99a3bfa3-f2bb-44b9-a5e5-71635fe1ae4e",
     "typedWidgetInfo": {
      "autoCreated": false,
      "defaultValue": "udp_wcm_dev",
      "label": null,
      "name": "catalog_name",
      "options": {
       "widgetDisplayType": "Text",
       "validationRegex": null
      },
      "parameterDataType": "String"
     },
     "widgetInfo": {
      "widgetType": "text",
      "defaultValue": "udp_wcm_dev",
      "label": null,
      "name": "catalog_name",
      "options": {
       "widgetType": "text",
       "autoCreated": null,
       "validationRegex": null
      }
     }
    },
    "dependency_table": {
     "currentValue": "VCM_DWH_PRD.f_dr_dio_rawdata,VCM_DWH_PRD.f_dr_dio_rawdata_00",
     "nuid": "c3ec5afd-40ec-41fa-9359-5a70d93075d6",
     "typedWidgetInfo": {
      "autoCreated": false,
      "defaultValue": "VCM_DWH_PRD.F_DR_DIO_RAWDATA,VCM_DWH_PRD.F_DR_DIO_RAWDATA_00, VCM_DWH_PRD.D_STORE, VCM_DWH_PRD.D_PRODUCT, VCM_DWH_PRD.D_VENDOR_MASTER",
      "label": null,
      "name": "dependency_table",
      "options": {
       "widgetDisplayType": "Text",
       "validationRegex": null
      },
      "parameterDataType": "String"
     },
     "widgetInfo": {
      "widgetType": "text",
      "defaultValue": "VCM_DWH_PRD.F_DR_DIO_RAWDATA,VCM_DWH_PRD.F_DR_DIO_RAWDATA_00, VCM_DWH_PRD.D_STORE, VCM_DWH_PRD.D_PRODUCT, VCM_DWH_PRD.D_VENDOR_MASTER",
      "label": null,
      "name": "dependency_table",
      "options": {
       "widgetType": "text",
       "autoCreated": null,
       "validationRegex": null
      }
     }
    },
    "environment": {
     "currentValue": "DEV",
     "nuid": "750345a3-8ef3-4de3-baf2-ef3c316a359a",
     "typedWidgetInfo": {
      "autoCreated": false,
      "defaultValue": "DEV",
      "label": null,
      "name": "environment",
      "options": {
       "widgetDisplayType": "Text",
       "validationRegex": null
      },
      "parameterDataType": "String"
     },
     "widgetInfo": {
      "widgetType": "text",
      "defaultValue": "DEV",
      "label": null,
      "name": "environment",
      "options": {
       "widgetType": "text",
       "autoCreated": null,
       "validationRegex": null
      }
     }
    },
    "field_calday": {
     "currentValue": "CALDAY",
     "nuid": "a1dcfdd1-2cc0-4ffc-bbbd-f8ba0706ff28",
     "typedWidgetInfo": {
      "autoCreated": false,
      "defaultValue": "CALDAY",
      "label": null,
      "name": "field_calday",
      "options": {
       "widgetDisplayType": "Text",
       "validationRegex": null
      },
      "parameterDataType": "String"
     },
     "widgetInfo": {
      "widgetType": "text",
      "defaultValue": "CALDAY",
      "label": null,
      "name": "field_calday",
      "options": {
       "widgetType": "text",
       "autoCreated": null,
       "validationRegex": null
      }
     }
    },
    "field_id": {
     "currentValue": "HASH_ID",
     "nuid": "cfa93542-c8a8-4869-a979-9a1dc72b380f",
     "typedWidgetInfo": {
      "autoCreated": false,
      "defaultValue": "HASH_ID",
      "label": null,
      "name": "field_id",
      "options": {
       "widgetDisplayType": "Text",
       "validationRegex": null
      },
      "parameterDataType": "String"
     },
     "widgetInfo": {
      "widgetType": "text",
      "defaultValue": "HASH_ID",
      "label": null,
      "name": "field_id",
      "options": {
       "widgetType": "text",
       "autoCreated": null,
       "validationRegex": null
      }
     }
    },
    "metadata_schema": {
     "currentValue": "udp_wcm_metadata_dev",
     "nuid": "8316862e-0b32-410b-a2c7-466a0f5d0d16",
     "typedWidgetInfo": {
      "autoCreated": false,
      "defaultValue": "udp_wcm_metadata_dev",
      "label": null,
      "name": "metadata_schema",
      "options": {
       "widgetDisplayType": "Text",
       "validationRegex": null
      },
      "parameterDataType": "String"
     },
     "widgetInfo": {
      "widgetType": "text",
      "defaultValue": "udp_wcm_metadata_dev",
      "label": null,
      "name": "metadata_schema",
      "options": {
       "widgetType": "text",
       "autoCreated": null,
       "validationRegex": null
      }
     }
    },
    "proc_date": {
     "currentValue": "2025-07-19",
     "nuid": "9d768618-4e76-4068-8691-6bfb02a230c7",
     "typedWidgetInfo": {
      "autoCreated": false,
      "defaultValue": "",
      "label": "",
      "name": "proc_date",
      "options": {
       "widgetDisplayType": "Text",
       "validationRegex": null
      },
      "parameterDataType": "String"
     },
     "widgetInfo": {
      "widgetType": "text",
      "defaultValue": "",
      "label": "",
      "name": "proc_date",
      "options": {
       "widgetType": "text",
       "autoCreated": null,
       "validationRegex": null
      }
     }
    },
    "target_dataset": {
     "currentValue": "VCM_DMT_PRD",
     "nuid": "f06d8fd3-402f-4c1c-b012-da518fc030b7",
     "typedWidgetInfo": {
      "autoCreated": false,
      "defaultValue": "VCM_DMT_PRD",
      "label": null,
      "name": "target_dataset",
      "options": {
       "widgetDisplayType": "Text",
       "validationRegex": null
      },
      "parameterDataType": "String"
     },
     "widgetInfo": {
      "widgetType": "text",
      "defaultValue": "VCM_DMT_PRD",
      "label": null,
      "name": "target_dataset",
      "options": {
       "widgetType": "text",
       "autoCreated": null,
       "validationRegex": null
      }
     }
    },
    "target_table": {
     "currentValue": "a_dr_dio_rp_store_sku",
     "nuid": "ba34dd40-d9f2-4ae8-a21f-c735f3a02880",
     "typedWidgetInfo": {
      "autoCreated": false,
      "defaultValue": "a_dr_dio_rp_store_sku",
      "label": null,
      "name": "target_table",
      "options": {
       "widgetDisplayType": "Text",
       "validationRegex": null
      },
      "parameterDataType": "String"
     },
     "widgetInfo": {
      "widgetType": "text",
      "defaultValue": "a_dr_dio_rp_store_sku",
      "label": null,
      "name": "target_table",
      "options": {
       "widgetType": "text",
       "autoCreated": null,
       "validationRegex": null
      }
     }
    }
   }
  },
  "language_info": {
   "name": "python"
  }
 },
 "nbformat": 4,
 "nbformat_minor": 0
}
