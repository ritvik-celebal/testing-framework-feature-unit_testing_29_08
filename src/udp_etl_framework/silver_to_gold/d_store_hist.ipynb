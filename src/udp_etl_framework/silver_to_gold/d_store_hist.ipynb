{
 "cells": [
  {
   "cell_type": "code",
   "execution_count": 0,
   "metadata": {
    "application/vnd.databricks.v1+cell": {
     "cellMetadata": {
      "byteLimit": 2048000,
      "rowLimit": 10000
     },
     "inputWidgets": {},
     "nuid": "af237230-9538-49df-8f70-d12e50c07a40",
     "showTitle": false,
     "tableResultSettingsMap": {},
     "title": ""
    }
   },
   "outputs": [],
   "source": [
    "%run ../utils/common"
   ]
  },
  {
   "cell_type": "code",
   "execution_count": 0,
   "metadata": {
    "application/vnd.databricks.v1+cell": {
     "cellMetadata": {
      "byteLimit": 2048000,
      "rowLimit": 10000
     },
     "inputWidgets": {},
     "nuid": "d7d90cb6-e4b9-4b8f-8d6f-d855690686ff",
     "showTitle": false,
     "tableResultSettingsMap": {},
     "title": ""
    }
   },
   "outputs": [],
   "source": [
    "dbutils.widgets.text(\"environment\", \"\", \"\")\n",
    "environment = dbutils.widgets.get(\"environment\")"
   ]
  },
  {
   "cell_type": "code",
   "execution_count": 0,
   "metadata": {
    "application/vnd.databricks.v1+cell": {
     "cellMetadata": {
      "byteLimit": 2048000,
      "rowLimit": 10000
     },
     "inputWidgets": {},
     "nuid": "fdd32870-9b80-4dfd-9b0b-e7170536a5e9",
     "showTitle": false,
     "tableResultSettingsMap": {},
     "title": ""
    }
   },
   "outputs": [],
   "source": [
    "catalog_name = settings[environment]['catalog_name']"
   ]
  },
  {
   "cell_type": "code",
   "execution_count": 0,
   "metadata": {
    "application/vnd.databricks.v1+cell": {
     "cellMetadata": {
      "byteLimit": 2048000,
      "rowLimit": 10000
     },
     "inputWidgets": {},
     "nuid": "f6e73417-a53f-4bd7-9d59-606d6357b160",
     "showTitle": false,
     "tableResultSettingsMap": {},
     "title": ""
    }
   },
   "outputs": [],
   "source": [
    "spark.sql(f\"\"\"\n",
    "CREATE TABLE IF NOT EXISTS {catalog_name}.udp_wcm_gold_vcm_dwh.d_store_hist\n",
    "(\n",
    "  calday DATE,\n",
    "  store_id STRING,\n",
    "  store_name STRING,\n",
    "  store_description STRING,\n",
    "  store_open_date DATE,\n",
    "  store_closed_date DATE,\n",
    "  business_unit STRING,\n",
    "  region STRING,\n",
    "  region_vn STRING,\n",
    "  city_vn STRING,\n",
    "  district STRING,\n",
    "  ward STRING,\n",
    "  address STRING,\n",
    "  addr_numbr STRING,\n",
    "  sap_pc STRING,\n",
    "  cua_hang_truong STRING,\n",
    "  sdt_cht STRING,\n",
    "  sdt_ch STRING,\n",
    "  email_ch STRING,\n",
    "  qlkv STRING,\n",
    "  sdt_qlkv STRING,\n",
    "  email_qlkv STRING,\n",
    "  gdv STRING,\n",
    "  email_gdv STRING,\n",
    "  gdm STRING,\n",
    "  email_gdm STRING,\n",
    "  latitude STRING,\n",
    "  longtitude STRING,\n",
    "  ground STRING,\n",
    "  front_m STRING,\n",
    "  area_m2 STRING,\n",
    "  biz_area_m2 STRING,\n",
    "  size_v STRING,\n",
    "  assortment_v STRING,\n",
    "  concept_id STRING,\n",
    "  concept STRING,\n",
    "  sap_concept STRING,\n",
    "  warehouse_size STRING,\n",
    "  lease_term STRING,\n",
    "  comp_code STRING,\n",
    "  sales_region STRING,\n",
    "  sales_district STRING,\n",
    "  distribution_channel STRING,\n",
    "  supply_region STRING,\n",
    "  reporting_business_unit STRING,\n",
    "  sales_area FLOAT,\n",
    "  rent_area FLOAT,\n",
    "  rent_amount FLOAT,\n",
    "  reporting_region STRING,\n",
    "  store_cat STRING,\n",
    "  store_cat_size STRING,\n",
    "  site_group_l2 STRING,\n",
    "  site_group_l3 STRING,\n",
    "  sub_region_1 STRING,\n",
    "  vm_region STRING,\n",
    "  kpi_flag STRING,\n",
    "  size_st STRING,\n",
    "  sales_area_text STRING,\n",
    "  ebitda_group STRING,\n",
    "  hub_hang_kho STRING,\n",
    "  store_status_desc STRING,\n",
    "  comment STRING,\n",
    "  last_updated_date DATE,\n",
    "  store_type STRING,\n",
    "  ref_dw_store STRING,\n",
    "  ref_fc_store STRING,\n",
    "  supply_store STRING,\n",
    "  ref_fc_code STRING,\n",
    "  city STRING,\n",
    "  mien STRING,\n",
    "  region_description STRING,\n",
    "  region_domain STRING,\n",
    "  region_domain_vn STRING,\n",
    "  store_status_id STRING,\n",
    "  is_win_plus STRING,\n",
    "  sap_region STRING,\n",
    "  sap_region_desc STRING,\n",
    "  block_status STRING\n",
    ")\n",
    "TBLPROPERTIES (\n",
    "  'DELTA.AUTOOPTIMIZE.OPTIMIZEWRITE' = 'TRUE',\n",
    "  'DELTA.AUTOOPTIMIZE.AUTOCOMPACT' = 'TRUE'\n",
    ")\n",
    "\"\"\")\n"
   ]
  },
  {
   "cell_type": "code",
   "execution_count": 0,
   "metadata": {
    "application/vnd.databricks.v1+cell": {
     "cellMetadata": {
      "byteLimit": 2048000,
      "rowLimit": 10000
     },
     "inputWidgets": {},
     "nuid": "d0052c03-da76-4eea-83b7-0d4a40aba757",
     "showTitle": false,
     "tableResultSettingsMap": {},
     "title": ""
    }
   },
   "outputs": [],
   "source": [
    "spark.sql(f\"\"\"\n",
    "DELETE FROM {catalog_name}.udp_wcm_gold_vcm_dwh.d_store_hist\n",
    "WHERE calday = DATE(current_timestamp() + INTERVAL 7 HOURS)\"\"\")"
   ]
  },
  {
   "cell_type": "code",
   "execution_count": 0,
   "metadata": {
    "application/vnd.databricks.v1+cell": {
     "cellMetadata": {
      "byteLimit": 2048000,
      "rowLimit": 10000
     },
     "inputWidgets": {},
     "nuid": "9e41f715-0559-464c-9733-ae389be93b8f",
     "showTitle": false,
     "tableResultSettingsMap": {},
     "title": ""
    }
   },
   "outputs": [],
   "source": [
    "spark.sql(f\"\"\" \n",
    "INSERT INTO {catalog_name}.udp_wcm_gold_vcm_dwh.d_store_hist\n",
    "SELECT\n",
    "  DATE(current_timestamp() + INTERVAL 7 HOURS) as calday,\n",
    "  store_id,\n",
    "  store_name,\n",
    "  store_description,\n",
    "  store_open_date,\n",
    "  store_closed_date,\n",
    "  business_unit,\n",
    "  region,\n",
    "  region_vn,\n",
    "  city_vn,\n",
    "  district,\n",
    "  ward,\n",
    "  address,\n",
    "  addr_numbr,\n",
    "  sap_pc,\n",
    "  cua_hang_truong,\n",
    "  sdt_cht,\n",
    "  sdt_ch,\n",
    "  email_ch,\n",
    "  qlkv,\n",
    "  sdt_qlkv,\n",
    "  email_qlkv,\n",
    "  gdv,\n",
    "  email_gdv,\n",
    "  gdm,\n",
    "  email_gdm,\n",
    "  latitude,\n",
    "  longtitude,\n",
    "  ground,\n",
    "  front_m,\n",
    "  area_m2,\n",
    "  biz_area_m2,\n",
    "  size_v,\n",
    "  assortment_v,\n",
    "  concept_id,\n",
    "  concept,\n",
    "  sap_concept,\n",
    "  warehouse_size,\n",
    "  lease_term,\n",
    "  comp_code,\n",
    "  sales_region,\n",
    "  sales_district,\n",
    "  distribution_channel,\n",
    "  supply_region,\n",
    "  reporting_business_unit,\n",
    "  sales_area,\n",
    "  rent_area,\n",
    "  rent_amount,\n",
    "  reporting_region,\n",
    "  store_cat,\n",
    "  store_cat_size,\n",
    "  site_group_l2,\n",
    "  site_group_l3,\n",
    "  sub_region_1,\n",
    "  vm_region,\n",
    "  kpi_flag,\n",
    "  size_st,\n",
    "  sales_area_text,\n",
    "  ebitda_group,\n",
    "  hub_hang_kho,\n",
    "  store_status_desc,\n",
    "  comment,\n",
    "  last_updated_date,\n",
    "  store_type,\n",
    "  ref_dw_store,\n",
    "  ref_fc_store,\n",
    "  supply_store,\n",
    "  ref_fc_code,\n",
    "  city,\n",
    "  mien,\n",
    "  region_description,\n",
    "  region_domain,\n",
    "  region_domain_vn,\n",
    "  store_status_id,\n",
    "  is_win_plus,\n",
    "  sap_region,\n",
    "  sap_region_desc,\n",
    "  block_status  FROM {catalog_name}.udp_wcm_gold_vcm_dwh.d_store \"\"\")"
   ]
  }
 ],
 "metadata": {
  "application/vnd.databricks.v1+notebook": {
   "computePreferences": null,
   "dashboards": [],
   "environmentMetadata": {
    "base_environment": "",
    "environment_version": "2"
   },
   "inputWidgetPreferences": null,
   "language": "python",
   "notebookMetadata": {
    "mostRecentlyExecutedCommandWithImplicitDF": {
     "commandId": 7469597179144884,
     "dataframes": [
      "_sqldf"
     ]
    },
    "pythonIndentUnit": 4
   },
   "notebookName": "d_store_hist",
   "widgets": {}
  },
  "language_info": {
   "name": "python"
  }
 },
 "nbformat": 4,
 "nbformat_minor": 0
}
