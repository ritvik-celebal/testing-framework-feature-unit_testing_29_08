{
 "cells": [
  {
   "cell_type": "code",
   "execution_count": 0,
   "metadata": {
    "application/vnd.databricks.v1+cell": {
     "cellMetadata": {
      "byteLimit": 2048000,
      "rowLimit": 10000
     },
     "inputWidgets": {},
     "nuid": "9736a1a9-5fd7-4be9-ab17-532148cfa6dc",
     "showTitle": false,
     "tableResultSettingsMap": {},
     "title": ""
    }
   },
   "outputs": [],
   "source": [
    "%run ../utils/common"
   ]
  },
  {
   "cell_type": "code",
   "execution_count": 0,
   "metadata": {
    "application/vnd.databricks.v1+cell": {
     "cellMetadata": {
      "byteLimit": 2048000,
      "rowLimit": 10000
     },
     "inputWidgets": {},
     "nuid": "0dde781d-4653-405e-91cb-d134dd26a831",
     "showTitle": false,
     "tableResultSettingsMap": {},
     "title": ""
    }
   },
   "outputs": [],
   "source": [
    "dbutils.widgets.text(\"environment\", \"\", \"\")\n",
    "environment = dbutils.widgets.get(\"environment\")"
   ]
  },
  {
   "cell_type": "code",
   "execution_count": 0,
   "metadata": {
    "application/vnd.databricks.v1+cell": {
     "cellMetadata": {
      "byteLimit": 2048000,
      "rowLimit": 10000
     },
     "inputWidgets": {},
     "nuid": "5d18e5ce-9f35-447e-b754-69bc2a45f4b2",
     "showTitle": false,
     "tableResultSettingsMap": {},
     "title": ""
    }
   },
   "outputs": [],
   "source": [
    "catalog_name = settings[environment]['catalog_name']\n"
   ]
  },
  {
   "cell_type": "code",
   "execution_count": 0,
   "metadata": {
    "application/vnd.databricks.v1+cell": {
     "cellMetadata": {
      "byteLimit": 2048000,
      "rowLimit": 10000
     },
     "inputWidgets": {},
     "nuid": "51996c6a-a645-4606-83df-c3bb533d97c1",
     "showTitle": false,
     "tableResultSettingsMap": {},
     "title": ""
    }
   },
   "outputs": [],
   "source": [
    "spark.sql(f\"\"\"\n",
    "CREATE TABLE IF NOT EXISTS {catalog_name}.udp_wcm_gold_vcm_dwh.d_mch4\n",
    "(    \n",
    "  mch4_id STRING,\n",
    "  mch4_name STRING,\n",
    "  mch4_desc STRING\n",
    ")\n",
    "TBLPROPERTIES (\n",
    "  'DELTA.AUTOOPTIMIZE.OPTIMIZEWRITE' = 'TRUE',\n",
    "  'DELTA.AUTOOPTIMIZE.AUTOCOMPACT' = 'TRUE'\n",
    ")\n",
    "  \n",
    ";\"\"\")"
   ]
  },
  {
   "cell_type": "code",
   "execution_count": 0,
   "metadata": {
    "application/vnd.databricks.v1+cell": {
     "cellMetadata": {
      "byteLimit": 2048000,
      "rowLimit": 10000
     },
     "inputWidgets": {},
     "nuid": "b087a53f-f74c-4995-a54c-4b4c22289201",
     "showTitle": false,
     "tableResultSettingsMap": {},
     "title": ""
    }
   },
   "outputs": [],
   "source": [
    "spark.sql(f\"\"\"\n",
    "CREATE OR REPLACE TEMP VIEW temp_d_mch4 AS\n",
    "SELECT \n",
    "a._bic_zc_mchlv4 mch4_id,\n",
    "a.txtsh mch4_name,\n",
    "a.txtmd mch4_desc\n",
    "FROM (\n",
    "    SELECT *, ROW_NUMBER() OVER (PARTITION BY _bic_zc_mchlv4 ORDER BY proc_date DESC) rn \n",
    "        FROM {catalog_name}.udp_wcm_silver_sap_bw.sap_zc_mchlv4\n",
    "        WHERE end_date = '2400-01-01'\n",
    "    ) a WHERE rn = 1\"\"\")"
   ]
  },
  {
   "cell_type": "code",
   "execution_count": 0,
   "metadata": {
    "application/vnd.databricks.v1+cell": {
     "cellMetadata": {
      "byteLimit": 2048000,
      "rowLimit": 10000
     },
     "inputWidgets": {},
     "nuid": "60814dc9-bafe-49a3-ab03-594508fd0d38",
     "showTitle": false,
     "tableResultSettingsMap": {},
     "title": ""
    }
   },
   "outputs": [],
   "source": [
    "spark.sql(f''' \n",
    "CREATE OR REPLACE TEMP VIEW sap_zc_d_mch4 AS\n",
    "    SELECT \n",
    "        a._bic_zc_mchlv4 mch4_id,  \n",
    "        a.txtmd mch4_name,\n",
    "        a.txtmd mch4_desc\n",
    "FROM (\n",
    "    SELECT *, ROW_NUMBER() OVER (PARTITION BY _bic_zc_mchlv4 ORDER BY proc_date DESC) rn \n",
    "        FROM {catalog_name}.udp_wcm_silver_sap_bw.sap_zc_mchlv4\n",
    "        WHERE end_date = '2400-01-01'\n",
    "    ) a WHERE rn = 1 \n",
    "\n",
    "          ''')"
   ]
  },
  {
   "cell_type": "code",
   "execution_count": 0,
   "metadata": {
    "application/vnd.databricks.v1+cell": {
     "cellMetadata": {
      "byteLimit": 2048000,
      "rowLimit": 10000
     },
     "inputWidgets": {},
     "nuid": "7ecbd8fa-a2d4-4200-a0ee-37894db9a7a8",
     "showTitle": false,
     "tableResultSettingsMap": {},
     "title": ""
    }
   },
   "outputs": [],
   "source": [
    "spark.sql(f\"\"\"\n",
    "MERGE INTO {catalog_name}.udp_wcm_gold_vcm_dwh.d_mch4 AS main_tbl\n",
    "USING temp_d_mch4 AS temp_tbl\n",
    "ON main_tbl.mch4_id = temp_tbl.mch4_id \n",
    "\n",
    "WHEN MATCHED THEN \n",
    "    UPDATE SET \n",
    "        main_tbl.mch4_name = temp_tbl.mch4_name,\n",
    "        main_tbl.mch4_desc = temp_tbl.mch4_desc\n",
    "\n",
    "WHEN NOT MATCHED THEN \n",
    "    INSERT (mch4_id, mch4_name, mch4_desc)\n",
    "    VALUES (temp_tbl.mch4_id, temp_tbl.mch4_name, temp_tbl.mch4_desc)\n",
    "    \"\"\")"
   ]
  },
  {
   "cell_type": "code",
   "execution_count": 0,
   "metadata": {
    "application/vnd.databricks.v1+cell": {
     "cellMetadata": {
      "byteLimit": 2048000,
      "implicitDf": true,
      "rowLimit": 10000
     },
     "inputWidgets": {},
     "nuid": "5d66dce3-c5dc-43a2-9b75-7641be4d39dd",
     "showTitle": false,
     "tableResultSettingsMap": {},
     "title": ""
    }
   },
   "outputs": [],
   "source": [
    "spark.sql(\"DROP VIEW IF EXISTS temp_d_mch4\")\n",
    "spark.sql(\"DROP VIEW IF EXISTS sap_zc_d_mch4\")"
   ]
  }
 ],
 "metadata": {
  "application/vnd.databricks.v1+notebook": {
   "computePreferences": null,
   "dashboards": [],
   "environmentMetadata": {
    "base_environment": "",
    "environment_version": "2"
   },
   "inputWidgetPreferences": null,
   "language": "python",
   "notebookMetadata": {
    "mostRecentlyExecutedCommandWithImplicitDF": {
     "commandId": 4736130552795285,
     "dataframes": [
      "_sqldf"
     ]
    },
    "pythonIndentUnit": 4
   },
   "notebookName": "d_mch4",
   "widgets": {
    "environment": {
     "currentValue": "DEV",
     "nuid": "1be448d7-ca2f-4c64-a197-b0d1bb8d1ded",
     "typedWidgetInfo": {
      "autoCreated": false,
      "defaultValue": "",
      "label": "",
      "name": "environment",
      "options": {
       "widgetDisplayType": "Text",
       "validationRegex": null
      },
      "parameterDataType": "String"
     },
     "widgetInfo": {
      "widgetType": "text",
      "defaultValue": "",
      "label": "",
      "name": "environment",
      "options": {
       "widgetType": "text",
       "autoCreated": null,
       "validationRegex": null
      }
     }
    }
   }
  },
  "language_info": {
   "name": "python"
  }
 },
 "nbformat": 4,
 "nbformat_minor": 0
}
