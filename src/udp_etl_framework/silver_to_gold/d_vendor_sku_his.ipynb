{
 "cells": [
  {
   "cell_type": "code",
   "execution_count": 0,
   "metadata": {
    "application/vnd.databricks.v1+cell": {
     "cellMetadata": {
      "byteLimit": 2048000,
      "rowLimit": 10000
     },
     "inputWidgets": {},
     "nuid": "961d408f-26cd-45ed-ac85-46c1c92828ee",
     "showTitle": false,
     "tableResultSettingsMap": {},
     "title": ""
    }
   },
   "outputs": [],
   "source": [
    "%run ../utils/common"
   ]
  },
  {
   "cell_type": "code",
   "execution_count": 0,
   "metadata": {
    "application/vnd.databricks.v1+cell": {
     "cellMetadata": {
      "byteLimit": 2048000,
      "rowLimit": 10000
     },
     "inputWidgets": {},
     "nuid": "1c0c9839-01bd-48fc-8de5-03251e3b9220",
     "showTitle": false,
     "tableResultSettingsMap": {},
     "title": ""
    }
   },
   "outputs": [],
   "source": [
    "dbutils.widgets.text(\"environment\", \"\", \"\")\n",
    "environment = dbutils.widgets.get(\"environment\")"
   ]
  },
  {
   "cell_type": "code",
   "execution_count": 0,
   "metadata": {
    "application/vnd.databricks.v1+cell": {
     "cellMetadata": {
      "byteLimit": 2048000,
      "rowLimit": 10000
     },
     "inputWidgets": {},
     "nuid": "68fd6694-e147-411d-b88d-4500ac3b6d2e",
     "showTitle": false,
     "tableResultSettingsMap": {},
     "title": ""
    }
   },
   "outputs": [],
   "source": [
    "catalog_name = settings[environment]['catalog_name']"
   ]
  },
  {
   "cell_type": "code",
   "execution_count": 0,
   "metadata": {
    "application/vnd.databricks.v1+cell": {
     "cellMetadata": {
      "byteLimit": 2048000,
      "rowLimit": 10000
     },
     "inputWidgets": {},
     "nuid": "7d8afe98-3abd-4b90-8178-3710af35db9f",
     "showTitle": false,
     "tableResultSettingsMap": {},
     "title": ""
    }
   },
   "outputs": [],
   "source": [
    "spark.sql(f\"\"\"\n",
    "CREATE TABLE IF NOT EXISTS {catalog_name}.udp_wcm_gold_vcm_dwh.d_vendor_sku_his (\n",
    "  calday DATE,\n",
    "  roll_out STRING,\n",
    "  region STRING,\n",
    "  mch3_id STRING,\n",
    "  mch3_name STRING,\n",
    "  product_id STRING,\n",
    "  product_name STRING,\n",
    "  manufacturer_id STRING,\n",
    "  manufacturer_name STRING,\n",
    "  sub_manufacturer_id STRING,\n",
    "  sub_manufacturer STRING,\n",
    "  uom STRING,\n",
    "  assortment STRING,\n",
    "  vendor_id STRING,\n",
    "  vendor_name STRING,\n",
    "  vendor_subrange STRING,\n",
    "  sell_price FLOAT)\n",
    "USING delta\n",
    "TBLPROPERTIES (\n",
    "  'DELTA.AUTOOPTIMIZE.OPTIMIZEWRITE' = 'TRUE',\n",
    "  'DELTA.AUTOOPTIMIZE.AUTOCOMPACT' = 'TRUE'\n",
    ")\n",
    "\"\"\")"
   ]
  },
  {
   "cell_type": "code",
   "execution_count": 0,
   "metadata": {
    "application/vnd.databricks.v1+cell": {
     "cellMetadata": {
      "byteLimit": 2048000,
      "rowLimit": 10000
     },
     "inputWidgets": {},
     "nuid": "73fdf800-3249-49f3-8ae5-b003993709dd",
     "showTitle": false,
     "tableResultSettingsMap": {},
     "title": ""
    }
   },
   "outputs": [],
   "source": [
    "spark.sql(f\"\"\"\n",
    "    DELETE FROM {catalog_name}.udp_wcm_gold_vcm_dwh.d_vendor_sku_his \n",
    "    WHERE calday = DATE(CURRENT_TIMESTAMP() + INTERVAL 7 HOURS)\n",
    "\"\"\")"
   ]
  },
  {
   "cell_type": "code",
   "execution_count": 0,
   "metadata": {
    "application/vnd.databricks.v1+cell": {
     "cellMetadata": {
      "byteLimit": 2048000,
      "rowLimit": 10000
     },
     "inputWidgets": {},
     "nuid": "092e571f-b363-411e-b87d-88dc71041845",
     "showTitle": false,
     "tableResultSettingsMap": {},
     "title": ""
    }
   },
   "outputs": [],
   "source": [
    "spark.sql(\n",
    "    f\"\"\"\n",
    "    INSERT INTO {catalog_name}.udp_wcm_gold_vcm_dwh.d_vendor_sku_his (calday, roll_out, region, mch3_id, mch3_name, product_id, product_name, manufacturer_id, manufacturer_name, sub_manufacturer, uom, assortment, vendor_id, vendor_name, vendor_subrange, sell_price)\n",
    "    SELECT \n",
    "        DATE(CURRENT_TIMESTAMP() + INTERVAL 7 HOURS) AS calday, \n",
    "        roll_out,\n",
    "        region,\n",
    "        mch3_id,\n",
    "        mch3_name,\n",
    "        product_id,\n",
    "        product_name,\n",
    "        manufacturer_id,\n",
    "        manufacturer_name,\n",
    "        -- sub_manufacturer_id,\n",
    "        sub_manufacturer,\n",
    "        uom,\n",
    "        assortment,\n",
    "        vendor_id,\n",
    "        vendor_name,\n",
    "        vendor_subrange,\n",
    "        sell_price\n",
    "    FROM {catalog_name}.udp_wcm_gold_vcm_dwh.d_vendor_sku\n",
    "    \"\"\"\n",
    ")"
   ]
  }
 ],
 "metadata": {
  "application/vnd.databricks.v1+notebook": {
   "computePreferences": null,
   "dashboards": [],
   "environmentMetadata": {
    "base_environment": "",
    "environment_version": "2"
   },
   "inputWidgetPreferences": null,
   "language": "python",
   "notebookMetadata": {
    "mostRecentlyExecutedCommandWithImplicitDF": {
     "commandId": 6410538414265067,
     "dataframes": [
      "_sqldf"
     ]
    },
    "pythonIndentUnit": 4
   },
   "notebookName": "d_vendor_sku_his",
   "widgets": {}
  },
  "language_info": {
   "name": "python"
  }
 },
 "nbformat": 4,
 "nbformat_minor": 0
}
