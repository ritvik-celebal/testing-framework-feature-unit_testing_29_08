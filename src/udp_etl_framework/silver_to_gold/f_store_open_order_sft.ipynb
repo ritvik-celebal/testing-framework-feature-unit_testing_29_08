{
 "cells": [
  {
   "cell_type": "code",
   "execution_count": 0,
   "metadata": {
    "application/vnd.databricks.v1+cell": {
     "cellMetadata": {},
     "inputWidgets": {},
     "nuid": "2f2aada0-faa1-45ac-af9b-fbe15867bf9e",
     "showTitle": false,
     "tableResultSettingsMap": {},
     "title": ""
    }
   },
   "outputs": [],
   "source": [
    "%run ../utils/common"
   ]
  },
  {
   "cell_type": "code",
   "execution_count": 0,
   "metadata": {
    "application/vnd.databricks.v1+cell": {
     "cellMetadata": {},
     "inputWidgets": {},
     "nuid": "2a5dc434-68e3-4d4f-bf68-adb163278368",
     "showTitle": false,
     "tableResultSettingsMap": {},
     "title": ""
    }
   },
   "outputs": [],
   "source": [
    "dbutils.widgets.text(\"environment\", \"\", \"\")\n",
    "environment = dbutils.widgets.get(\"environment\")"
   ]
  },
  {
   "cell_type": "code",
   "execution_count": 0,
   "metadata": {
    "application/vnd.databricks.v1+cell": {
     "cellMetadata": {},
     "inputWidgets": {},
     "nuid": "b0881e06-4aa2-41db-92b1-0ce2dd5967ba",
     "showTitle": false,
     "tableResultSettingsMap": {},
     "title": ""
    }
   },
   "outputs": [],
   "source": [
    "catalog_name = settings[environment]['catalog_name']"
   ]
  },
  {
   "cell_type": "code",
   "execution_count": 0,
   "metadata": {
    "application/vnd.databricks.v1+cell": {
     "cellMetadata": {
      "byteLimit": 2048000,
      "rowLimit": 10000
     },
     "inputWidgets": {},
     "nuid": "ad037738-407b-43d3-92d7-de1b19c1829a",
     "showTitle": false,
     "tableResultSettingsMap": {},
     "title": ""
    }
   },
   "outputs": [],
   "source": [
    "spark.sql(f'''\n",
    "CREATE OR REPLACE TABLE {catalog_name}.udp_wcm_gold_vcm_dwh.f_store_open_order_sft \n",
    "AS\n",
    "WITH DAT AS (\n",
    "    SELECT\n",
    "        dc_id,\n",
    "        store_id,\n",
    "        sku product_id,\n",
    "        DATE(calday) calday,\n",
    "        sft_so_processing_qty,\n",
    "        rkt_sto_instock_qty,\n",
    "        IFNULL(rkt_sto_instock_qty, 0) + IFNULL(sft_so_processing_qty, 0) open_order\n",
    "    FROM\n",
    "        {catalog_name}.udp_wcm_silver_realtime.sft_store_po_pending_inv\n",
    "    WHERE\n",
    "        client_code = 'WIN' AND\n",
    "        type = 'OPENING_STOCK'\n",
    "    QUALIFY ROW_NUMBER() OVER (PARTITION BY dc_id, store_id, sku, calday, type ORDER BY proc_date DESC) = 1\n",
    ")\n",
    "SELECT\n",
    "    dc_id,\n",
    "    store_id,\n",
    "    product_id,\n",
    "    calday,\n",
    "    SUM(sft_so_processing_qty) sft_so_processing_qty,\n",
    "    SUM(rkt_sto_instock_qty) rkt_sto_instock_qty,\n",
    "    SUM(open_order) open_order\n",
    "FROM DAT\n",
    "GROUP BY 1,2,3,4;''')"
   ]
  }
 ],
 "metadata": {
  "application/vnd.databricks.v1+notebook": {
   "computePreferences": null,
   "dashboards": [],
   "environmentMetadata": {
    "base_environment": "",
    "environment_version": "2"
   },
   "inputWidgetPreferences": null,
   "language": "python",
   "notebookMetadata": {
    "pythonIndentUnit": 4
   },
   "notebookName": "f_store_open_order_sft",
   "widgets": {}
  },
  "language_info": {
   "name": "python"
  }
 },
 "nbformat": 4,
 "nbformat_minor": 0
}
