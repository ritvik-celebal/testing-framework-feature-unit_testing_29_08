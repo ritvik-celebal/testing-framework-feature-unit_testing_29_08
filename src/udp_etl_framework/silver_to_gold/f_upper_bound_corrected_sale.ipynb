{
 "cells": [
  {
   "cell_type": "code",
   "execution_count": 0,
   "metadata": {
    "application/vnd.databricks.v1+cell": {
     "cellMetadata": {
      "byteLimit": 2048000,
      "rowLimit": 10000
     },
     "inputWidgets": {},
     "nuid": "006f39e6-3742-4cbd-87c7-ea9b1fe4f8e1",
     "showTitle": false,
     "tableResultSettingsMap": {},
     "title": ""
    }
   },
   "outputs": [],
   "source": [
    "%run ../utils/common"
   ]
  },
  {
   "cell_type": "code",
   "execution_count": 0,
   "metadata": {
    "application/vnd.databricks.v1+cell": {
     "cellMetadata": {
      "byteLimit": 2048000,
      "rowLimit": 10000
     },
     "inputWidgets": {},
     "nuid": "b1d04e80-5ed7-4b01-9643-239e4d80f33d",
     "showTitle": false,
     "tableResultSettingsMap": {},
     "title": ""
    }
   },
   "outputs": [],
   "source": [
    "dbutils.widgets.text(\"environment\", \"\", \"\")\n",
    "environment = dbutils.widgets.get(\"environment\")"
   ]
  },
  {
   "cell_type": "code",
   "execution_count": 0,
   "metadata": {
    "application/vnd.databricks.v1+cell": {
     "cellMetadata": {
      "byteLimit": 2048000,
      "rowLimit": 10000
     },
     "inputWidgets": {},
     "nuid": "8b9bb461-be1b-4c4b-b073-e4455955fc35",
     "showTitle": false,
     "tableResultSettingsMap": {},
     "title": ""
    }
   },
   "outputs": [],
   "source": [
    "catalog_name = settings[environment]['catalog_name']"
   ]
  },
  {
   "cell_type": "code",
   "execution_count": 0,
   "metadata": {
    "application/vnd.databricks.v1+cell": {
     "cellMetadata": {
      "byteLimit": 2048000,
      "implicitDf": true,
      "rowLimit": 10000
     },
     "inputWidgets": {},
     "nuid": "c07c1a37-7625-4f40-89de-ed27d66de316",
     "showTitle": false,
     "tableResultSettingsMap": {},
     "title": ""
    }
   },
   "outputs": [],
   "source": [
    "spark.sql(f\"\"\"\n",
    "CREATE TABLE IF NOT EXISTS {catalog_name}.udp_wcm_gold_vcm_dmt.f_upper_bound_corrected_sale \n",
    "(\n",
    "    calday DATE,                 \n",
    "    start_date STRING,        \n",
    "    end_date STRING,             \n",
    "    business_unit STRING,       \n",
    "    mch5_id STRING,              \n",
    "    mch5_desc STRING,           \n",
    "    pct_80 DOUBLE,              \n",
    "    pct_85 DOUBLE,            \n",
    "    pct_90 DOUBLE,               \n",
    "    pct_95 DOUBLE               \n",
    ")\n",
    "TBLPROPERTIES (\n",
    "  'DELTA.AUTOOPTIMIZE.OPTIMIZEWRITE' = 'TRUE',\n",
    "  'DELTA.AUTOOPTIMIZE.AUTOCOMPACT' = 'TRUE'\n",
    ")\n",
    "\"\"\")"
   ]
  },
  {
   "cell_type": "code",
   "execution_count": 0,
   "metadata": {
    "application/vnd.databricks.v1+cell": {
     "cellMetadata": {
      "byteLimit": 2048000,
      "rowLimit": 10000
     },
     "inputWidgets": {},
     "nuid": "441b48b5-bc86-4016-9564-9a41b4c13b49",
     "showTitle": false,
     "tableResultSettingsMap": {},
     "title": ""
    }
   },
   "outputs": [],
   "source": [
    "start_date = spark.sql(\"SELECT DATE_SUB(DATE_TRUNC('MONTH',DATE(CURRENT_DATE()) + INTERVAL 7 HOURS), 365)\").collect()[0][0]\n",
    "end_date = spark.sql(\"SELECT DATE_SUB(DATE_TRUNC('MONTH', DATE(CURRENT_DATE()) + INTERVAL 7 HOURS), 1)\").collect()[0][0]\n",
    "\n",
    "start_date = start_date.strftime('%Y-%m-%d')\n",
    "end_date = end_date.strftime('%Y-%m-%d')"
   ]
  },
  {
   "cell_type": "code",
   "execution_count": 0,
   "metadata": {
    "application/vnd.databricks.v1+cell": {
     "cellMetadata": {
      "byteLimit": 2048000,
      "rowLimit": 10000
     },
     "inputWidgets": {},
     "nuid": "edf59999-8358-4f4f-aa45-7c0c4ee49088",
     "showTitle": false,
     "tableResultSettingsMap": {},
     "title": ""
    }
   },
   "outputs": [],
   "source": [
    "spark.sql(f\"\"\"DELETE FROM {catalog_name}.udp_wcm_gold_vcm_dmt.f_upper_bound_corrected_sale where calday = DATE_SUB(CURRENT_DATE() + INTERVAL 7 HOURS, 1)\n",
    "\"\"\")"
   ]
  },
  {
   "cell_type": "code",
   "execution_count": 0,
   "metadata": {
    "application/vnd.databricks.v1+cell": {
     "cellMetadata": {
      "byteLimit": 2048000,
      "rowLimit": 10000
     },
     "inputWidgets": {},
     "nuid": "33b5a400-67a7-435f-90f9-fa434f9c6cb1",
     "showTitle": false,
     "tableResultSettingsMap": {},
     "title": ""
    }
   },
   "outputs": [],
   "source": [
    "spark.sql(f\"\"\"\n",
    "        INSERT INTO {catalog_name}.udp_wcm_gold_vcm_dmt.f_upper_bound_corrected_sale\n",
    "        WITH _DATA AS (\n",
    "            SELECT\n",
    "                a.calday, a.store_id, a.product_id,\n",
    "                b.business_unit, c.mch5_id, c.mch5_desc,\n",
    "                IFNULL(a.revenue.base_sale_qty, 0) base_sale_qty,\n",
    "                IFNULL(a.revenue.base_promotion_coupon_qty, 0) base_promotion_coupon_qty,\n",
    "                GREATEST(GREATEST(IFNULL(a.revenue.base_sale_qty, 0), 0) - GREATEST(IFNULL(a.revenue.base_promotion_coupon_qty, 0), 0) - GREATEST(IFNULL(a.revenue.base_sale_qty_sll, 0), 0), 0) normal_sale_qty\n",
    "            FROM {catalog_name}.udp_wcm_gold_vcm_dmt.a_store_sku_daily a\n",
    "            LEFT JOIN {catalog_name}.udp_wcm_gold_vcm_dwh.d_store b\n",
    "                ON a.store_id = b.store_id\n",
    "            LEFT JOIN {catalog_name}.udp_wcm_gold_vcm_dwh.d_product c\n",
    "                ON a.product_id = c.product_id\n",
    "            LEFT JOIN (\n",
    "                SELECT * \n",
    "                FROM {catalog_name}.udp_wcm_gold_vcm_dwh.d_time_lunar_v2\n",
    "                QUALIFY ROW_NUMBER() OVER(PARTITION BY lunar_year ORDER BY lunar_calday DESC) <= 28\n",
    "             ) d\n",
    "                ON a.calday = d.calday\n",
    "            WHERE a.calday >= '{start_date}' AND a.calday <= '{end_date}'\n",
    "                AND d.calday IS NULL\n",
    "                AND b.business_unit IS NOT NULL AND c.mch5_id IS NOT NULL\n",
    "        ),\n",
    "        MAIN AS (\n",
    "            SELECT\n",
    "                DISTINCT\n",
    "                business_unit, \n",
    "                mch5_id, \n",
    "                mch5_desc,\n",
    "                percentile(normal_sale_qty, 0.8) OVER(PARTITION BY business_unit, mch5_id) pct_80,\n",
    "                percentile(normal_sale_qty, 0.85) OVER(PARTITION BY business_unit, mch5_id) pct_85,\n",
    "                percentile(normal_sale_qty, 0.9) OVER(PARTITION BY business_unit, mch5_id) pct_90,\n",
    "                percentile(normal_sale_qty, 0.95) OVER(PARTITION BY business_unit, mch5_id) pct_95\n",
    "            FROM _DATA\n",
    "            WHERE normal_sale_qty > 0\n",
    "        )\n",
    "        SELECT\n",
    "            DATE(CURRENT_TIMESTAMP() + INTERVAL 7 HOURS) - 1 AS calday,\n",
    "            '{start_date}' AS start_date, \n",
    "            '{end_date}' AS end_date,\n",
    "            *\n",
    "        FROM MAIN;\n",
    "\"\"\")"
   ]
  }
 ],
 "metadata": {
  "application/vnd.databricks.v1+notebook": {
   "computePreferences": null,
   "dashboards": [],
   "environmentMetadata": {
    "base_environment": "",
    "environment_version": "2"
   },
   "inputWidgetPreferences": null,
   "language": "python",
   "notebookMetadata": {
    "mostRecentlyExecutedCommandWithImplicitDF": {
     "commandId": 6350561386697300,
     "dataframes": [
      "_sqldf"
     ]
    },
    "pythonIndentUnit": 4
   },
   "notebookName": "f_upper_bound_corrected_sale",
   "widgets": {
    "environment": {
     "currentValue": "DEV",
     "nuid": "97b36a15-51a3-4ba0-bc75-a2a44abad5e3",
     "typedWidgetInfo": {
      "autoCreated": false,
      "defaultValue": "",
      "label": "",
      "name": "environment",
      "options": {
       "widgetDisplayType": "Text",
       "validationRegex": null
      },
      "parameterDataType": "String"
     },
     "widgetInfo": {
      "widgetType": "text",
      "defaultValue": "",
      "label": "",
      "name": "environment",
      "options": {
       "widgetType": "text",
       "autoCreated": null,
       "validationRegex": null
      }
     }
    },
    "proc_date": {
     "currentValue": "2025-07-21",
     "nuid": "2b1cee23-1eb4-4272-a598-efb7c1ee3f73",
     "typedWidgetInfo": {
      "autoCreated": false,
      "defaultValue": "",
      "label": "",
      "name": "proc_date",
      "options": {
       "widgetDisplayType": "Text",
       "validationRegex": null
      },
      "parameterDataType": "String"
     },
     "widgetInfo": {
      "widgetType": "text",
      "defaultValue": "",
      "label": "",
      "name": "proc_date",
      "options": {
       "widgetType": "text",
       "autoCreated": null,
       "validationRegex": null
      }
     }
    }
   }
  },
  "language_info": {
   "name": "python"
  }
 },
 "nbformat": 4,
 "nbformat_minor": 0
}
