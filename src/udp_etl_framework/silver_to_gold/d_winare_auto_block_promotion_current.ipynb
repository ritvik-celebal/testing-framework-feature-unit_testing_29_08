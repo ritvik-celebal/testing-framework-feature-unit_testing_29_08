{
 "cells": [
  {
   "cell_type": "code",
   "execution_count": 0,
   "metadata": {
    "application/vnd.databricks.v1+cell": {
     "cellMetadata": {
      "byteLimit": 2048000,
      "rowLimit": 10000
     },
     "inputWidgets": {},
     "nuid": "55c35c7e-818d-4bf6-a30b-b6aff3e656ca",
     "showTitle": false,
     "tableResultSettingsMap": {},
     "title": ""
    }
   },
   "outputs": [],
   "source": [
    "%run ../utils/common"
   ]
  },
  {
   "cell_type": "code",
   "execution_count": 0,
   "metadata": {
    "application/vnd.databricks.v1+cell": {
     "cellMetadata": {
      "byteLimit": 2048000,
      "rowLimit": 10000
     },
     "inputWidgets": {},
     "nuid": "64fd2a0f-4359-4a63-a740-f689ff29500f",
     "showTitle": false,
     "tableResultSettingsMap": {},
     "title": ""
    }
   },
   "outputs": [],
   "source": [
    "dbutils.widgets.text(\"environment\", \"\", \"\")\n",
    "environment = dbutils.widgets.get(\"environment\")"
   ]
  },
  {
   "cell_type": "code",
   "execution_count": 0,
   "metadata": {
    "application/vnd.databricks.v1+cell": {
     "cellMetadata": {
      "byteLimit": 2048000,
      "rowLimit": 10000
     },
     "inputWidgets": {},
     "nuid": "65133297-6fe9-4f79-8eaa-76d94ebd5474",
     "showTitle": false,
     "tableResultSettingsMap": {},
     "title": ""
    }
   },
   "outputs": [],
   "source": [
    "catalog_name = settings[environment]['catalog_name']"
   ]
  },
  {
   "cell_type": "code",
   "execution_count": 0,
   "metadata": {
    "application/vnd.databricks.v1+cell": {
     "cellMetadata": {
      "byteLimit": 2048000,
      "rowLimit": 10000
     },
     "inputWidgets": {},
     "nuid": "a865d8f5-b2e1-4151-b9cb-a9a06b601b68",
     "showTitle": false,
     "tableResultSettingsMap": {},
     "title": ""
    }
   },
   "outputs": [],
   "source": [
    "spark.sql(f\"\"\"\n",
    "CREATE OR REPLACE TABLE {catalog_name}.udp_wcm_gold_db_winare_nonfresh_dc.d_winare_auto_block_promotion_current\n",
    "\n",
    "AS\n",
    "WITH main AS (\n",
    "    SELECT DISTINCT\n",
    "        a.promotion_id,\n",
    "        a.bonus_buy_id,\n",
    "        a.bonus_buy_note,\n",
    "        a.bonus_buy_profile,\n",
    "        a.promo_start_date,\n",
    "        a.promo_end_date,\n",
    "        a.store_id,\n",
    "        a.buy_item_id,\n",
    "        a.discount_product_id,\n",
    "        a.value_claimback,\n",
    "        a.form_claimback,\n",
    "        CASE\n",
    "            WHEN a.bonus_buy_profile = 'ZB01' AND a.promo_start_date - 7 <= DATE(CURRENT_TIMESTAMP() + INTERVAL 7 HOURS) AND DATE(CURRENT_TIMESTAMP() + INTERVAL 7 HOURS) <= a.promo_end_date THEN 1\n",
    "            ELSE 0\n",
    "        END block_sto,\n",
    "        CASE\n",
    "            WHEN a.bonus_buy_profile = 'ZB01' AND a.promo_start_date - 7 <= DATE(CURRENT_TIMESTAMP() + INTERVAL 7 HOURS) AND DATE(CURRENT_TIMESTAMP() + INTERVAL 7 HOURS) <= a.promo_end_date - 7 THEN 1\n",
    "            WHEN a.bonus_buy_profile = 'ZB10' AND a.promo_start_date - 18 <= DATE(CURRENT_TIMESTAMP() + INTERVAL 7 HOURS) AND DATE(CURRENT_TIMESTAMP() + INTERVAL 7 HOURS) <= a.promo_start_date - 7 THEN 1\n",
    "            ELSE 0\n",
    "        END block_po,\n",
    "        'STORE_SKU' `level`\n",
    "FROM {catalog_name}.udp_wcm_gold_vcm_dwh.d_promotion a\n",
    "LEFT JOIN {catalog_name}.udp_wcm_gold_vcm_dwh.d_store b USING (store_id)\n",
    "WHERE\n",
    "    b.store_status_desc = 'Đang hoạt động'\n",
    "    AND b.business_unit IN (\"1500\", \"2000\")\n",
    "    AND b.is_win_plus <> 'YES'\n",
    "    AND (\n",
    "        (\n",
    "            -- Free gift\n",
    "            a.bonus_buy_status IS NULL\n",
    "            AND a.bonus_buy_profile = 'ZB01'\n",
    "            AND LEFT(a.bonus_buy_note, 1) = 'B'\n",
    "            AND (a.promo_start_date - 7 <= DATE(CURRENT_TIMESTAMP() + INTERVAL 7 HOURS) AND DATE(CURRENT_TIMESTAMP() + INTERVAL 7 HOURS) <= a.promo_end_date)\n",
    "        )\n",
    "        OR\n",
    "        (\n",
    "            -- Single item discount\n",
    "            IFNULL(a.bonus_buy_status, '0') IN ('0', '1')\n",
    "            AND a.bonus_buy_profile = 'ZB10'\n",
    "            AND (a.promo_start_date - 18 <= DATE(CURRENT_TIMESTAMP() + INTERVAL 7 HOURS) AND DATE(CURRENT_TIMESTAMP() + INTERVAL 7 HOURS) <= a.promo_start_date - 7)\n",
    "        )\n",
    "    )\n",
    ")\n",
    "SELECT *\n",
    "FROM main;\n",
    "\n",
    "\"\"\")"
   ]
  }
 ],
 "metadata": {
  "application/vnd.databricks.v1+notebook": {
   "computePreferences": null,
   "dashboards": [],
   "environmentMetadata": {
    "base_environment": "",
    "environment_version": "2"
   },
   "inputWidgetPreferences": null,
   "language": "python",
   "notebookMetadata": {
    "mostRecentlyExecutedCommandWithImplicitDF": {
     "commandId": 6666120750895520,
     "dataframes": [
      "_sqldf"
     ]
    },
    "pythonIndentUnit": 4
   },
   "notebookName": "d_winare_auto_block_promotion_current",
   "widgets": {
    "environment": {
     "currentValue": "DEV",
     "nuid": "c1b74a07-9cb9-4f4f-ad61-f4e910a66d2c",
     "typedWidgetInfo": {
      "autoCreated": false,
      "defaultValue": "",
      "label": "",
      "name": "environment",
      "options": {
       "widgetDisplayType": "Text",
       "validationRegex": null
      },
      "parameterDataType": "String"
     },
     "widgetInfo": {
      "widgetType": "text",
      "defaultValue": "",
      "label": "",
      "name": "environment",
      "options": {
       "widgetType": "text",
       "autoCreated": null,
       "validationRegex": null
      }
     }
    },
    "proc_date": {
     "currentValue": "2025-06-28",
     "nuid": "a62df012-8aef-4045-b808-cd05aeacf947",
     "typedWidgetInfo": {
      "autoCreated": false,
      "defaultValue": "",
      "label": null,
      "name": "proc_date",
      "options": {
       "widgetDisplayType": "Text",
       "validationRegex": null
      },
      "parameterDataType": "String"
     },
     "widgetInfo": {
      "widgetType": "text",
      "defaultValue": "",
      "label": null,
      "name": "proc_date",
      "options": {
       "widgetType": "text",
       "autoCreated": null,
       "validationRegex": null
      }
     }
    }
   }
  },
  "language_info": {
   "name": "python"
  }
 },
 "nbformat": 4,
 "nbformat_minor": 0
}
