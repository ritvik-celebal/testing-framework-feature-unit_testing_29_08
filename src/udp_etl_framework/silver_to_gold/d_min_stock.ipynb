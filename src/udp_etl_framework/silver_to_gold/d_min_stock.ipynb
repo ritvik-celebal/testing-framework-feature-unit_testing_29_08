{
 "cells": [
  {
   "cell_type": "code",
   "execution_count": 0,
   "metadata": {
    "application/vnd.databricks.v1+cell": {
     "cellMetadata": {
      "byteLimit": 2048000,
      "rowLimit": 10000
     },
     "inputWidgets": {},
     "nuid": "56bc4c3f-3f50-40f0-be5c-2300e66dd1cd",
     "showTitle": false,
     "tableResultSettingsMap": {},
     "title": ""
    }
   },
   "outputs": [],
   "source": [
    "%run ../utils/common"
   ]
  },
  {
   "cell_type": "code",
   "execution_count": 0,
   "metadata": {
    "application/vnd.databricks.v1+cell": {
     "cellMetadata": {
      "byteLimit": 2048000,
      "rowLimit": 10000
     },
     "inputWidgets": {},
     "nuid": "38a99e61-62f9-4188-9e96-d66c8ef204dd",
     "showTitle": false,
     "tableResultSettingsMap": {},
     "title": ""
    }
   },
   "outputs": [],
   "source": [
    "dbutils.widgets.text(\"environment\", \"\", \"\")\n",
    "dbutils.widgets.text(\"target_dataset\", \"VCM_DWH_PRD\")\n",
    "dbutils.widgets.text(\"target_table\", \" \")\n",
    "dbutils.widgets.text(\"metadata_schema\", \"udp_wcm_metadata_dev\")\n",
    "dbutils.widgets.text(\n",
    "    \"dependency_table\",\"VCM_DWH_PRD.D_STORE, VCM_DWH_PRD.D_PRODUCT\"\n",
    ")\n",
    "dbutils.widgets.text(\"field_calday\", \"CALDAY\")\n",
    "dbutils.widgets.text(\"field_id\", \"HASH_ID\")\n"
   ]
  },
  {
   "cell_type": "code",
   "execution_count": 0,
   "metadata": {
    "application/vnd.databricks.v1+cell": {
     "cellMetadata": {
      "byteLimit": 2048000,
      "rowLimit": 10000
     },
     "inputWidgets": {},
     "nuid": "4a90d61c-2ded-4cc3-9105-79a24be2ba57",
     "showTitle": false,
     "tableResultSettingsMap": {},
     "title": ""
    }
   },
   "outputs": [],
   "source": [
    "dbutils.widgets.text(\"environment\", \"\", \"\")\n",
    "environment = dbutils.widgets.get(\"environment\")"
   ]
  },
  {
   "cell_type": "code",
   "execution_count": 0,
   "metadata": {
    "application/vnd.databricks.v1+cell": {
     "cellMetadata": {
      "byteLimit": 2048000,
      "rowLimit": 10000
     },
     "inputWidgets": {},
     "nuid": "7a495418-f7e4-4526-9fe7-fc533040d272",
     "showTitle": false,
     "tableResultSettingsMap": {},
     "title": ""
    }
   },
   "outputs": [],
   "source": [
    "catalog_name = settings[environment]['catalog_name']"
   ]
  },
  {
   "cell_type": "code",
   "execution_count": 0,
   "metadata": {
    "application/vnd.databricks.v1+cell": {
     "cellMetadata": {
      "byteLimit": 2048000,
      "rowLimit": 10000
     },
     "inputWidgets": {},
     "nuid": "e0afe43b-ebe7-4c57-b01f-a3d10195d525",
     "showTitle": false,
     "tableResultSettingsMap": {},
     "title": ""
    }
   },
   "outputs": [],
   "source": [
    "spark.sql(f\"\"\"\n",
    "CREATE OR REPLACE TABLE {catalog_name}.udp_wcm_gold_vcm_dwh.d_min_stock\n",
    "TBLPROPERTIES (\n",
    "  'DELTA.AUTOOPTIMIZE.OPTIMIZEWRITE' = 'TRUE',\n",
    "  'DELTA.AUTOOPTIMIZE.AUTOCOMPACT' = 'TRUE'\n",
    ") AS\n",
    "WITH\n",
    "min_stock AS (\n",
    "    SELECT\n",
    "        b.store_id,\n",
    "        c.product_id AS article,\n",
    "        c.base_uom,\n",
    "        CASE WHEN d.order_method = 'Centralize' THEN 'Eton' ELSE 'VCM' END AS order_method,\n",
    "        CASE WHEN d.order_method = 'Centralize' THEN 'Giao DC' ELSE 'Giao TT' END AS delivery_method,\n",
    "        a.proc_date,\n",
    "        SUM(a.qty) AS min_stock,\n",
    "        NULL AS asst,\n",
    "        'VM' AS source,\n",
    "        start_date,\n",
    "        end_date\n",
    "    FROM {catalog_name}.udp_wcm_silver_dim.stg_minimun_stock_for_dr_vm a\n",
    "    INNER JOIN {catalog_name}.udp_wcm_gold_vcm_dwh.d_store b ON a.size_st = b.size_st AND business_unit = '1500'\n",
    "    INNER JOIN {catalog_name}.udp_wcm_gold_vcm_dwh.d_product c ON a.mch5 = c.mch5_id\n",
    "    LEFT JOIN {catalog_name}.udp_wcm_silver_dim.sitemaster d ON b.store_id = d.store_id\n",
    "    LEFT JOIN {catalog_name}.udp_wcm_silver_dim.vm_product_flow_to_dh e \n",
    "        ON b.store_id = e.store_id\n",
    "        AND c.product_id = e.product_id\n",
    "    GROUP BY 1,2,3,4,5,6,9,10,11\n",
    "\n",
    "    UNION ALL\n",
    "\n",
    "    SELECT\n",
    "        store_id,\n",
    "        article,\n",
    "        base_uom,\n",
    "        order_method,\n",
    "        delivery_method,\n",
    "        proc_date,\n",
    "        min_stock,\n",
    "        asst,\n",
    "        'VMP' AS source,\n",
    "        start_date,\n",
    "        end_date\n",
    "    FROM {catalog_name}.udp_wcm_silver_dim.stg_min_stock_for_vmp\n",
    "\n",
    "    UNION ALL\n",
    "\n",
    "    SELECT\n",
    "        store_id,\n",
    "        article,\n",
    "        base_uom,\n",
    "        order_method,\n",
    "        delivery_method,\n",
    "        CAST(proc_date AS DATE) AS proc_date,\n",
    "        min_stock,\n",
    "        asst,\n",
    "        'KVI' AS source,\n",
    "        CAST('2020-09-22' AS DATE) AS start_date,\n",
    "        CAST('2400-01-01' AS DATE) AS end_date\n",
    "    FROM {catalog_name}.udp_wcm_silver_dim.min_stock_kvi_fresh\n",
    "    WHERE proc_date IN (\n",
    "        SELECT MAX(proc_date)\n",
    "        FROM {catalog_name}.udp_wcm_silver_dim.min_stock_kvi_fresh\n",
    "    )\n",
    "),\n",
    "\n",
    "ranked AS (\n",
    "    SELECT *,\n",
    "        ROW_NUMBER() OVER (PARTITION BY store_id, article, end_date ORDER BY proc_date DESC) AS rn\n",
    "    FROM min_stock\n",
    "),\n",
    "\n",
    "main AS (\n",
    "    SELECT \n",
    "        a.* EXCEPT(rn, proc_date, source),\n",
    "        IFNULL(b.source, a.source) AS source\n",
    "    FROM ranked a\n",
    "    LEFT JOIN (\n",
    "        SELECT DISTINCT \n",
    "            store_id,\n",
    "            article,\n",
    "            'KVI' AS source\n",
    "        FROM {catalog_name}.udp_wcm_silver_dim.min_stock_kvi_fresh\n",
    "        WHERE proc_date IN (\n",
    "            SELECT MAX(proc_date)\n",
    "            FROM {catalog_name}.udp_wcm_silver_dim.min_stock_kvi_fresh\n",
    "        )\n",
    "    ) b ON a.store_id = b.store_id AND a.article = b.article\n",
    "    WHERE rn = 1\n",
    "),\n",
    "\n",
    "period AS (\n",
    "    SELECT DISTINCT start_date, end_date, source\n",
    "    FROM main\n",
    "),\n",
    "\n",
    "last_period AS (\n",
    "    SELECT start_date, end_date, source,\n",
    "        LAG(start_date, 1) OVER (PARTITION BY source ORDER BY start_date) AS last_period\n",
    "    FROM period\n",
    "),\n",
    "\n",
    "main1 AS (\n",
    "    SELECT *,\n",
    "        LAG(m.start_date, 1) OVER (PARTITION BY store_id, article ORDER BY m.start_date) AS day_of_sale\n",
    "    FROM main m\n",
    ")\n",
    "\n",
    "SELECT m.*,\n",
    "    IF(m.day_of_sale = l.last_period, l.last_period, NULL) AS last_period\n",
    "FROM main1 m\n",
    "LEFT JOIN last_period l\n",
    "    ON m.start_date = l.start_date AND m.source = l.source\n",
    "\"\"\")"
   ]
  }
 ],
 "metadata": {
  "application/vnd.databricks.v1+notebook": {
   "computePreferences": null,
   "dashboards": [],
   "environmentMetadata": {
    "base_environment": "",
    "environment_version": "2"
   },
   "inputWidgetPreferences": null,
   "language": "python",
   "notebookMetadata": {
    "mostRecentlyExecutedCommandWithImplicitDF": {
     "commandId": 7469597179128720,
     "dataframes": [
      "_sqldf"
     ]
    },
    "pythonIndentUnit": 4
   },
   "notebookName": "d_min_stock",
   "widgets": {
    "dependency_table": {
     "currentValue": "VCM_DWH_PRD.D_STORE, VCM_DWH_PRD.D_PRODUCT",
     "nuid": "1078605f-a35f-4bb1-a22e-cf994d1a99dd",
     "typedWidgetInfo": {
      "autoCreated": false,
      "defaultValue": "VCM_DWH_PRD.D_STORE, VCM_DWH_PRD.D_PRODUCT",
      "label": null,
      "name": "dependency_table",
      "options": {
       "widgetDisplayType": "Text",
       "validationRegex": null
      },
      "parameterDataType": "String"
     },
     "widgetInfo": {
      "widgetType": "text",
      "defaultValue": "VCM_DWH_PRD.D_STORE, VCM_DWH_PRD.D_PRODUCT",
      "label": null,
      "name": "dependency_table",
      "options": {
       "widgetType": "text",
       "autoCreated": false,
       "validationRegex": null
      }
     }
    },
    "environment": {
     "currentValue": "DEV",
     "nuid": "143f5967-f778-46e4-889c-5ca9c4c65381",
     "typedWidgetInfo": {
      "autoCreated": false,
      "defaultValue": "",
      "label": "",
      "name": "environment",
      "options": {
       "widgetDisplayType": "Text",
       "validationRegex": null
      },
      "parameterDataType": "String"
     },
     "widgetInfo": {
      "widgetType": "text",
      "defaultValue": "",
      "label": "",
      "name": "environment",
      "options": {
       "widgetType": "text",
       "autoCreated": null,
       "validationRegex": null
      }
     }
    },
    "field_calday": {
     "currentValue": "CALDAY",
     "nuid": "57f00b13-d27e-4ff2-b858-5ffe49355834",
     "typedWidgetInfo": {
      "autoCreated": false,
      "defaultValue": "CALDAY",
      "label": null,
      "name": "field_calday",
      "options": {
       "widgetDisplayType": "Text",
       "validationRegex": null
      },
      "parameterDataType": "String"
     },
     "widgetInfo": {
      "widgetType": "text",
      "defaultValue": "CALDAY",
      "label": null,
      "name": "field_calday",
      "options": {
       "widgetType": "text",
       "autoCreated": false,
       "validationRegex": null
      }
     }
    },
    "field_id": {
     "currentValue": "HASH_ID",
     "nuid": "c5ae4ea3-8533-458b-980d-9543ab2ce8a6",
     "typedWidgetInfo": {
      "autoCreated": false,
      "defaultValue": "HASH_ID",
      "label": null,
      "name": "field_id",
      "options": {
       "widgetDisplayType": "Text",
       "validationRegex": null
      },
      "parameterDataType": "String"
     },
     "widgetInfo": {
      "widgetType": "text",
      "defaultValue": "HASH_ID",
      "label": null,
      "name": "field_id",
      "options": {
       "widgetType": "text",
       "autoCreated": false,
       "validationRegex": null
      }
     }
    },
    "metadata_schema": {
     "currentValue": "udp_wcm_metadata_dev",
     "nuid": "e09e8b7b-9469-41fa-a7b5-e3147a37e670",
     "typedWidgetInfo": {
      "autoCreated": false,
      "defaultValue": "udp_wcm_metadata_dev",
      "label": null,
      "name": "metadata_schema",
      "options": {
       "widgetDisplayType": "Text",
       "validationRegex": null
      },
      "parameterDataType": "String"
     },
     "widgetInfo": {
      "widgetType": "text",
      "defaultValue": "udp_wcm_metadata_dev",
      "label": null,
      "name": "metadata_schema",
      "options": {
       "widgetType": "text",
       "autoCreated": false,
       "validationRegex": null
      }
     }
    },
    "target_dataset": {
     "currentValue": "VCM_DWH_PRD",
     "nuid": "1613b89a-1cec-4303-b2d3-e5e698e19ccc",
     "typedWidgetInfo": {
      "autoCreated": false,
      "defaultValue": "VCM_DWH_PRD",
      "label": null,
      "name": "target_dataset",
      "options": {
       "widgetDisplayType": "Text",
       "validationRegex": null
      },
      "parameterDataType": "String"
     },
     "widgetInfo": {
      "widgetType": "text",
      "defaultValue": "VCM_DWH_PRD",
      "label": null,
      "name": "target_dataset",
      "options": {
       "widgetType": "text",
       "autoCreated": false,
       "validationRegex": null
      }
     }
    },
    "target_table": {
     "currentValue": " ",
     "nuid": "cff7c524-7193-4671-ba91-c6e8fcaca076",
     "typedWidgetInfo": {
      "autoCreated": false,
      "defaultValue": " ",
      "label": null,
      "name": "target_table",
      "options": {
       "widgetDisplayType": "Text",
       "validationRegex": null
      },
      "parameterDataType": "String"
     },
     "widgetInfo": {
      "widgetType": "text",
      "defaultValue": " ",
      "label": null,
      "name": "target_table",
      "options": {
       "widgetType": "text",
       "autoCreated": false,
       "validationRegex": null
      }
     }
    }
   }
  },
  "language_info": {
   "name": "python"
  }
 },
 "nbformat": 4,
 "nbformat_minor": 0
}
