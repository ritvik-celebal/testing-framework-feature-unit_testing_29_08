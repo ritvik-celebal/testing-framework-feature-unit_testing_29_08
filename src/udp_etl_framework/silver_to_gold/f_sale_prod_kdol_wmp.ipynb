{
 "cells": [
  {
   "cell_type": "code",
   "execution_count": 0,
   "metadata": {
    "application/vnd.databricks.v1+cell": {
     "cellMetadata": {
      "byteLimit": 2048000,
      "rowLimit": 10000
     },
     "inputWidgets": {},
     "nuid": "b4c9e010-93f9-4db1-99ac-6aae53593641",
     "showTitle": false,
     "tableResultSettingsMap": {},
     "title": ""
    }
   },
   "outputs": [],
   "source": [
    "%run ../utils/common"
   ]
  },
  {
   "cell_type": "code",
   "execution_count": 0,
   "metadata": {
    "application/vnd.databricks.v1+cell": {
     "cellMetadata": {
      "byteLimit": 2048000,
      "rowLimit": 10000
     },
     "inputWidgets": {},
     "nuid": "7105291b-bc3a-4f84-bfc6-f597bef862fe",
     "showTitle": false,
     "tableResultSettingsMap": {},
     "title": ""
    }
   },
   "outputs": [],
   "source": [
    "dbutils.widgets.text(\"environment\", \"DEV\")\n",
    "dbutils.widgets.text(\"target_dataset\", \"VCM_DWH_PRD\")\n",
    "dbutils.widgets.text(\"target_table\", \"f_sale_prod_kdol_wmp\")\n",
    "dbutils.widgets.text(\"metadata_schema\", \"udp_wcm_metadata_dev\")\n",
    "dbutils.widgets.text(\n",
    "    \"dependency_table\",\n",
    "    \"VCM_DWH_PRD.F_SALE_PROD, VCM_STG_INF.POS_WCM_SALEOUT_BILL_HEADER, VCM_STG_INF.POS_WCM_SALEOUT_TRANLINE\"\n",
    ")"
   ]
  },
  {
   "cell_type": "code",
   "execution_count": 0,
   "metadata": {
    "application/vnd.databricks.v1+cell": {
     "cellMetadata": {
      "byteLimit": 2048000,
      "rowLimit": 10000
     },
     "inputWidgets": {},
     "nuid": "241a3bb0-6dfb-4b65-af3a-fbd37a13266d",
     "showTitle": false,
     "tableResultSettingsMap": {},
     "title": ""
    }
   },
   "outputs": [],
   "source": [
    "dbutils.widgets.text(\"field_calday\", \"CALDAY\")\n",
    "dbutils.widgets.text(\"field_id\", \"HASH_ID\")"
   ]
  },
  {
   "cell_type": "code",
   "execution_count": 0,
   "metadata": {
    "application/vnd.databricks.v1+cell": {
     "cellMetadata": {
      "byteLimit": 2048000,
      "rowLimit": 10000
     },
     "inputWidgets": {},
     "nuid": "d3718af8-dcd0-4fd7-afd9-47c5b1a590f2",
     "showTitle": false,
     "tableResultSettingsMap": {},
     "title": ""
    }
   },
   "outputs": [],
   "source": [
    "dbutils.widgets.text(\"environment\", \"\", \"\")\n",
    "environment = dbutils.widgets.get(\"environment\")"
   ]
  },
  {
   "cell_type": "code",
   "execution_count": 0,
   "metadata": {
    "application/vnd.databricks.v1+cell": {
     "cellMetadata": {
      "byteLimit": 2048000,
      "rowLimit": 10000
     },
     "inputWidgets": {},
     "nuid": "1610d99b-fd64-4bf6-ab25-1d6c33c3c586",
     "showTitle": false,
     "tableResultSettingsMap": {},
     "title": ""
    }
   },
   "outputs": [],
   "source": [
    "catalog_name = settings[environment]['catalog_name']"
   ]
  },
  {
   "cell_type": "code",
   "execution_count": 0,
   "metadata": {
    "application/vnd.databricks.v1+cell": {
     "cellMetadata": {
      "byteLimit": 2048000,
      "rowLimit": 10000
     },
     "inputWidgets": {},
     "nuid": "4adba73a-7dc4-4303-9cc2-ec6ebf9736d1",
     "showTitle": false,
     "tableResultSettingsMap": {},
     "title": ""
    }
   },
   "outputs": [],
   "source": [
    "environment = dbutils.widgets.get(\"environment\")\n",
    "target_dataset = dbutils.widgets.get(\"target_dataset\")\n",
    "target_table = dbutils.widgets.get(\"target_table\")\n",
    "metadata_schema = dbutils.widgets.get(\"metadata_schema\")\n",
    "dependency_table = dbutils.widgets.get(\"dependency_table\")\n",
    "dependency_table = [x.strip() for x in dependency_table.split(\",\")]\n",
    "dependency_table = \"'\" + \"','\".join(dependency_table) + \"'\"\n",
    "print(f\"environment: {environment}\")\n",
    "print(f\"target_dataset: {target_dataset}\")\n",
    "print(f\"catalog_name: {catalog_name}\")\n",
    "print(f\"metadata_schema: {metadata_schema}\")\n",
    "print(f\"dependency_table: {dependency_table}\")"
   ]
  },
  {
   "cell_type": "code",
   "execution_count": 0,
   "metadata": {
    "application/vnd.databricks.v1+cell": {
     "cellMetadata": {
      "byteLimit": 2048000,
      "rowLimit": 10000
     },
     "inputWidgets": {},
     "nuid": "e19f4092-4371-44cb-bb69-13449fd4f334",
     "showTitle": false,
     "tableResultSettingsMap": {},
     "title": ""
    }
   },
   "outputs": [],
   "source": [
    "field_calday = dbutils.widgets.get(\"field_calday\")\n",
    "field_id = dbutils.widgets.get(\"field_id\")\n",
    "\n",
    "print(f\"field_calday: {field_calday}\")\n",
    "print(f\"field_id: {field_id}\")"
   ]
  },
  {
   "cell_type": "code",
   "execution_count": 0,
   "metadata": {
    "application/vnd.databricks.v1+cell": {
     "cellMetadata": {
      "byteLimit": 2048000,
      "rowLimit": 10000
     },
     "inputWidgets": {},
     "nuid": "ad17da03-cccb-4a1a-8f53-8d7daa29afc8",
     "showTitle": false,
     "tableResultSettingsMap": {},
     "title": ""
    }
   },
   "outputs": [],
   "source": [
    "%run \"../common/common_etl_load\""
   ]
  },
  {
   "cell_type": "code",
   "execution_count": 0,
   "metadata": {
    "application/vnd.databricks.v1+cell": {
     "cellMetadata": {
      "byteLimit": 2048000,
      "rowLimit": 10000
     },
     "inputWidgets": {},
     "nuid": "5e465d95-d42e-443d-a877-a867361bc4e5",
     "showTitle": false,
     "tableResultSettingsMap": {},
     "title": ""
    }
   },
   "outputs": [],
   "source": [
    "spark.sql(f\"\"\"\n",
    "CREATE TABLE IF NOT EXISTS {catalog_name}.udp_wcm_gold_vcm_dwh.f_sale_prod_kdol_wmp\n",
    "(\n",
    "  hash_id BIGINT,\n",
    "  calday DATE,\n",
    "  base_uom STRING,\n",
    "  sales_unit STRING,\n",
    "  transaction_index STRING,\n",
    "  transaction_id STRING,\n",
    "  product_id STRING,\n",
    "  business_unit STRING,\n",
    "  store_id STRING,\n",
    "  promotion STRING,\n",
    "  transaction_no STRING,\n",
    "  transaction_type STRING,\n",
    "  time_of_day INT,\n",
    "  sale_time INT,\n",
    "  credit_card_id STRING,\n",
    "  payment_method STRING,\n",
    "  department STRING,\n",
    "  pos_number STRING,\n",
    "  offer STRING,\n",
    "  discount_type STRING,\n",
    "  discount_type_group STRING,\n",
    "  recordmode STRING,\n",
    "  return_qty1 FLOAT,\n",
    "  return_qty2 FLOAT,\n",
    "  return_value FLOAT,\n",
    "  promotion_qty FLOAT,\n",
    "  base_sale_qty FLOAT,\n",
    "  receipt_count FLOAT,\n",
    "  sale_in_cost_value FLOAT,\n",
    "  promotion_sale FLOAT,\n",
    "  sale_qty FLOAT,\n",
    "  sale_amount FLOAT,\n",
    "  promotion_sale_l FLOAT,\n",
    "  return_sale_l FLOAT,\n",
    "  discount_item_no FLOAT,\n",
    "  discount_value FLOAT,\n",
    "  tax_amount FLOAT,\n",
    "  tender_value FLOAT,\n",
    "  vinid_card_no STRING,\n",
    "  brand STRING,\n",
    "  vinid_csn STRING,\n",
    "  original_transaction_id STRING,\n",
    "  channel STRING,\n",
    "  cx_transaction_id STRING\n",
    ")\n",
    "TBLPROPERTIES (\n",
    "  'DELTA.AUTOOPTIMIZE.OPTIMIZEWRITE' = 'TRUE',\n",
    "  'DELTA.AUTOOPTIMIZE.AUTOCOMPACT' = 'TRUE'\n",
    ") \n",
    "\"\"\")"
   ]
  },
  {
   "cell_type": "code",
   "execution_count": 0,
   "metadata": {
    "application/vnd.databricks.v1+cell": {
     "cellMetadata": {
      "byteLimit": 2048000,
      "rowLimit": 10000
     },
     "inputWidgets": {},
     "nuid": "d0aa0c28-6345-4dfb-8f18-2cfd7076eeb2",
     "showTitle": false,
     "tableResultSettingsMap": {},
     "title": ""
    }
   },
   "outputs": [],
   "source": [
    "if CALDAY_IN_STR != '':\n",
    "    spark.sql(f\"\"\"\n",
    "    CREATE OR REPLACE TEMP VIEW temp_f_sale_prod_kdol_wmp AS\n",
    "    WITH\n",
    "    order_online AS (\n",
    "        SELECT\n",
    "            receipt_no,\n",
    "            ARRAY_AGG(DISTINCT brand) brand\n",
    "        FROM {catalog_name}.udp_wcm_silver_realtime.pos_wcm_saleout_tranline \n",
    "        GROUP BY 1\n",
    "    ),\n",
    "    f_sale_prod AS (\n",
    "    SELECT * EXCEPT (is_sll) \n",
    "    FROM {catalog_name}.udp_wcm_gold_vcm_dwh.f_sale_prod\n",
    "    WHERE calday in ({CALDAY_IN_STR})\n",
    "    )\n",
    "\n",
    "    SELECT\n",
    "        c.*,\n",
    "        ARRAY_JOIN(a.brand, ',') brand,\n",
    "        b.vinid_csn,\n",
    "        b.header_ref_01 original_transaction_id,\n",
    "        b.header_ref_02 channel,\n",
    "        b.header_ref_03 cx_transaction_id\n",
    "    FROM\n",
    "        order_online a\n",
    "        LEFT JOIN {catalog_name}.udp_wcm_silver_realtime.pos_wcm_saleout_bill_header b ON a.receipt_no = b.receipt_no\n",
    "        LEFT JOIN f_sale_prod c ON a.receipt_no = LTRIM('0',c.transaction_no)\n",
    "    WHERE\n",
    "        c.calday IN ({CALDAY_IN_STR}) AND\n",
    "        (b.header_ref_02 IN ('Hotline','Shopee','Zalo','Winmart-Website','FaceBook') OR array_contains(a.brand, 'VMP'))\n",
    "    \"\"\")"
   ]
  },
  {
   "cell_type": "code",
   "execution_count": 0,
   "metadata": {
    "application/vnd.databricks.v1+cell": {
     "cellMetadata": {
      "byteLimit": 2048000,
      "implicitDf": true,
      "rowLimit": 10000
     },
     "inputWidgets": {},
     "nuid": "ae2b09d1-c05b-4237-a6c1-bb8c3aa24889",
     "showTitle": false,
     "tableResultSettingsMap": {},
     "title": ""
    }
   },
   "outputs": [],
   "source": [
    "if CALDAY_IN_STR != '':\n",
    "    # Get the calday list string from temp table\n",
    "    calday_query = \"\"\"\n",
    "    SELECT\n",
    "        CONCAT(\"'\", CONCAT_WS(\"','\", COLLECT_SET(CAST(TO_DATE(calday, 'yyyy-MM-dd') AS STRING))), \"'\") AS calday_in_str\n",
    "    FROM temp_f_sale_prod_kdol_wmp\n",
    "    \"\"\"\n",
    "    \n",
    "    calday_in_str_new = spark.sql(calday_query).collect()[0][0]\n",
    "    \n",
    "    if calday_in_str_new != '':\n",
    "        calday_in_str = calday_in_str_new\n",
    "    \n",
    "        # Only run DELETE if the string is non-empty\n",
    "        if calday_in_str.strip(\"'\"):  # checks if there's any date inside the quotes\n",
    "            spark.sql(f\"\"\"\n",
    "            DELETE FROM {catalog_name}.udp_wcm_gold_vcm_dwh.f_sale_prod_kdol_wmp\n",
    "            WHERE calday IN ({calday_in_str})\n",
    "            \"\"\")\n",
    "            # Insert rows from temp table into main table\n",
    "            INSERT_ROW = \", \".join(\n",
    "                spark.table(f\"{catalog_name}.udp_wcm_gold_vcm_dwh.f_sale_prod_kdol_wmp\").columns\n",
    "            )\n",
    "            spark.sql(f\"\"\"\n",
    "                INSERT INTO {catalog_name}.udp_wcm_gold_vcm_dwh.f_sale_prod_kdol_wmp ({INSERT_ROW})\n",
    "                SELECT {INSERT_ROW} FROM temp_{target_table}\n",
    "            \"\"\").display()\n",
    "        else:\n",
    "            print(\"No valid CALDAYs found to delete.\")\n",
    "            print(f\"temp_{target_table} could't be created as no valid calday's found In common-etl so {catalog_name}.udp_wcm_gold_vcm_dwh.f_sale_prod_kdol_wmp can't be inserted using calday's from temp_{target_table}\")"
   ]
  }
 ],
 "metadata": {
  "application/vnd.databricks.v1+notebook": {
   "computePreferences": null,
   "dashboards": [],
   "environmentMetadata": {
    "base_environment": "",
    "environment_version": "2"
   },
   "inputWidgetPreferences": null,
   "language": "python",
   "notebookMetadata": {
    "mostRecentlyExecutedCommandWithImplicitDF": {
     "commandId": 6385374847146491,
     "dataframes": [
      "_sqldf"
     ]
    },
    "pythonIndentUnit": 4
   },
   "notebookName": "f_sale_prod_kdol_wmp",
   "widgets": {
    "dependency_table": {
     "currentValue": "VCM_DWH_PRD.F_SALE_PROD, VCM_STG_INF.POS_WCM_SALEOUT_BILL_HEADER, VCM_STG_INF.POS_WCM_SALEOUT_TRANLINE",
     "nuid": "c35282c5-6826-4e8f-ad5f-7345b1bf8533",
     "typedWidgetInfo": {
      "autoCreated": false,
      "defaultValue": "VCM_DWH_PRD.F_SALE_PROD, VCM_STG_INF.POS_WCM_SALEOUT_BILL_HEADER, VCM_STG_INF.POS_WCM_SALEOUT_TRANLINE",
      "label": null,
      "name": "dependency_table",
      "options": {
       "widgetDisplayType": "Text",
       "validationRegex": null
      },
      "parameterDataType": "String"
     },
     "widgetInfo": {
      "widgetType": "text",
      "defaultValue": "VCM_DWH_PRD.F_SALE_PROD, VCM_STG_INF.POS_WCM_SALEOUT_BILL_HEADER, VCM_STG_INF.POS_WCM_SALEOUT_TRANLINE",
      "label": null,
      "name": "dependency_table",
      "options": {
       "widgetType": "text",
       "autoCreated": null,
       "validationRegex": null
      }
     }
    },
    "environment": {
     "currentValue": "DEV",
     "nuid": "e481cf80-eb49-4c83-a74c-797fac68b1a2",
     "typedWidgetInfo": {
      "autoCreated": false,
      "defaultValue": "",
      "label": "",
      "name": "environment",
      "options": {
       "widgetDisplayType": "Text",
       "validationRegex": null
      },
      "parameterDataType": "String"
     },
     "widgetInfo": {
      "widgetType": "text",
      "defaultValue": "",
      "label": "",
      "name": "environment",
      "options": {
       "widgetType": "text",
       "autoCreated": null,
       "validationRegex": null
      }
     }
    },
    "field_calday": {
     "currentValue": "CALDAY",
     "nuid": "03693c25-40e1-40b9-aa6f-7881ddf36d57",
     "typedWidgetInfo": {
      "autoCreated": false,
      "defaultValue": "CALDAY",
      "label": null,
      "name": "field_calday",
      "options": {
       "widgetDisplayType": "Text",
       "validationRegex": null
      },
      "parameterDataType": "String"
     },
     "widgetInfo": {
      "widgetType": "text",
      "defaultValue": "CALDAY",
      "label": null,
      "name": "field_calday",
      "options": {
       "widgetType": "text",
       "autoCreated": null,
       "validationRegex": null
      }
     }
    },
    "field_id": {
     "currentValue": "HASH_ID",
     "nuid": "dac7cb50-8d17-423f-989d-ac2172e0936e",
     "typedWidgetInfo": {
      "autoCreated": false,
      "defaultValue": "HASH_ID",
      "label": null,
      "name": "field_id",
      "options": {
       "widgetDisplayType": "Text",
       "validationRegex": null
      },
      "parameterDataType": "String"
     },
     "widgetInfo": {
      "widgetType": "text",
      "defaultValue": "HASH_ID",
      "label": null,
      "name": "field_id",
      "options": {
       "widgetType": "text",
       "autoCreated": null,
       "validationRegex": null
      }
     }
    },
    "metadata_schema": {
     "currentValue": "udp_wcm_metadata_dev",
     "nuid": "824c1748-ac2e-4b51-8feb-c7afa8d0e6ab",
     "typedWidgetInfo": {
      "autoCreated": false,
      "defaultValue": "udp_wcm_metadata_dev",
      "label": null,
      "name": "metadata_schema",
      "options": {
       "widgetDisplayType": "Text",
       "validationRegex": null
      },
      "parameterDataType": "String"
     },
     "widgetInfo": {
      "widgetType": "text",
      "defaultValue": "udp_wcm_metadata_dev",
      "label": null,
      "name": "metadata_schema",
      "options": {
       "widgetType": "text",
       "autoCreated": null,
       "validationRegex": null
      }
     }
    },
    "proc_date": {
     "currentValue": "2025-07-19",
     "nuid": "4a573a15-c561-4397-b6d6-64b260e5ce3d",
     "typedWidgetInfo": {
      "autoCreated": false,
      "defaultValue": "",
      "label": "",
      "name": "proc_date",
      "options": {
       "widgetDisplayType": "Text",
       "validationRegex": null
      },
      "parameterDataType": "String"
     },
     "widgetInfo": {
      "widgetType": "text",
      "defaultValue": "",
      "label": "",
      "name": "proc_date",
      "options": {
       "widgetType": "text",
       "autoCreated": null,
       "validationRegex": null
      }
     }
    },
    "target_dataset": {
     "currentValue": "VCM_DWH_PRD",
     "nuid": "73c8a3ee-7bdc-4f36-8624-75b6b0240557",
     "typedWidgetInfo": {
      "autoCreated": false,
      "defaultValue": "VCM_DWH_PRD",
      "label": null,
      "name": "target_dataset",
      "options": {
       "widgetDisplayType": "Text",
       "validationRegex": null
      },
      "parameterDataType": "String"
     },
     "widgetInfo": {
      "widgetType": "text",
      "defaultValue": "VCM_DWH_PRD",
      "label": null,
      "name": "target_dataset",
      "options": {
       "widgetType": "text",
       "autoCreated": null,
       "validationRegex": null
      }
     }
    },
    "target_table": {
     "currentValue": "f_sale_prod_kdol_wmp",
     "nuid": "d8917248-8780-4188-97bd-00bb8ea297fe",
     "typedWidgetInfo": {
      "autoCreated": false,
      "defaultValue": "f_sale_prod_kdol_wmp",
      "label": null,
      "name": "target_table",
      "options": {
       "widgetDisplayType": "Text",
       "validationRegex": null
      },
      "parameterDataType": "String"
     },
     "widgetInfo": {
      "widgetType": "text",
      "defaultValue": "f_sale_prod_kdol_wmp",
      "label": null,
      "name": "target_table",
      "options": {
       "widgetType": "text",
       "autoCreated": null,
       "validationRegex": null
      }
     }
    }
   }
  },
  "language_info": {
   "name": "python"
  }
 },
 "nbformat": 4,
 "nbformat_minor": 0
}
