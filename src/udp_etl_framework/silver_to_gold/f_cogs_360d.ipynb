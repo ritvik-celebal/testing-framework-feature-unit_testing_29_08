{
 "cells": [
  {
   "cell_type": "code",
   "execution_count": 0,
   "metadata": {
    "application/vnd.databricks.v1+cell": {
     "cellMetadata": {
      "byteLimit": 2048000,
      "rowLimit": 10000
     },
     "inputWidgets": {},
     "nuid": "17771897-c21c-447b-ba89-b81b1c710b53",
     "showTitle": false,
     "tableResultSettingsMap": {},
     "title": ""
    }
   },
   "outputs": [],
   "source": [
    "%run ../utils/common"
   ]
  },
  {
   "cell_type": "code",
   "execution_count": 0,
   "metadata": {
    "application/vnd.databricks.v1+cell": {
     "cellMetadata": {
      "byteLimit": 2048000,
      "rowLimit": 10000
     },
     "inputWidgets": {},
     "nuid": "6b48383a-6686-4168-9f2f-c3b23cf34ee6",
     "showTitle": false,
     "tableResultSettingsMap": {},
     "title": ""
    }
   },
   "outputs": [],
   "source": [
    "dbutils.widgets.text(\"environment\", \"\", \"\")\n",
    "dbutils.widgets.text(\"target_dataset\", \"VCM_DWH_PRD\")\n",
    "dbutils.widgets.text(\"target_table\", \"f_cogs_360d\")\n",
    "dbutils.widgets.text(\"metadata_schema\", \"udp_wcm_metadata_dev\")\n",
    "dbutils.widgets.text(\n",
    "    \"dependency_table\",\"VCM_DWH_PRD.F_COGS\"\n",
    ")"
   ]
  },
  {
   "cell_type": "code",
   "execution_count": 0,
   "metadata": {
    "application/vnd.databricks.v1+cell": {
     "cellMetadata": {
      "byteLimit": 2048000,
      "rowLimit": 10000
     },
     "inputWidgets": {},
     "nuid": "30029874-2f14-41a9-bc3d-e4df9b0fee07",
     "showTitle": false,
     "tableResultSettingsMap": {},
     "title": ""
    }
   },
   "outputs": [],
   "source": [
    "catalog_name = settings[environment]['catalog_name']"
   ]
  },
  {
   "cell_type": "code",
   "execution_count": 0,
   "metadata": {
    "application/vnd.databricks.v1+cell": {
     "cellMetadata": {
      "byteLimit": 2048000,
      "rowLimit": 10000
     },
     "inputWidgets": {},
     "nuid": "ec519d77-c1c1-4c7f-a75c-9becfb72abb7",
     "showTitle": false,
     "tableResultSettingsMap": {},
     "title": ""
    }
   },
   "outputs": [],
   "source": [
    "dbutils.widgets.text(\"field_calday\", \"CALDAY\")\n",
    "dbutils.widgets.text(\"field_id\", \"HASH_ID\")"
   ]
  },
  {
   "cell_type": "code",
   "execution_count": 0,
   "metadata": {
    "application/vnd.databricks.v1+cell": {
     "cellMetadata": {
      "byteLimit": 2048000,
      "rowLimit": 10000
     },
     "inputWidgets": {},
     "nuid": "1d955eac-7ea7-49f0-84c2-8cb7f397f271",
     "showTitle": false,
     "tableResultSettingsMap": {},
     "title": ""
    }
   },
   "outputs": [],
   "source": [
    "field_calday = dbutils.widgets.get(\"field_calday\")\n",
    "field_id = dbutils.widgets.get(\"field_id\")\n",
    "\n",
    "print(f\"field_calday: {field_calday}\")\n",
    "print(f\"field_id: {field_id}\")"
   ]
  },
  {
   "cell_type": "code",
   "execution_count": 0,
   "metadata": {
    "application/vnd.databricks.v1+cell": {
     "cellMetadata": {
      "byteLimit": 2048000,
      "rowLimit": 10000
     },
     "inputWidgets": {},
     "nuid": "fb4fa4c3-6f2b-4b11-a19a-6a0a58c3b284",
     "showTitle": false,
     "tableResultSettingsMap": {},
     "title": ""
    }
   },
   "outputs": [],
   "source": [
    "environment = dbutils.widgets.get(\"environment\")\n",
    "target_dataset = dbutils.widgets.get(\"target_dataset\")\n",
    "target_table = dbutils.widgets.get(\"target_table\")\n",
    "metadata_schema = dbutils.widgets.get(\"metadata_schema\")\n",
    "dependency_table = dbutils.widgets.get(\"dependency_table\")\n",
    "dependency_table = [x.strip().upper() for x in dependency_table.split(\",\")]\n",
    "dependency_table = \"'\" + \"','\".join(dependency_table) + \"'\"\n",
    "\n",
    "print(f\"environment: {environment}\")\n",
    "print(f\"target_dataset: {target_dataset}\")\n",
    "print(f\"target_table: {target_table}\")\n",
    "print(f\"catalog_name: {catalog_name}\")\n",
    "print(f\"metadata_schema: {metadata_schema}\")\n",
    "print(f\"dependency_table: {dependency_table}\")"
   ]
  },
  {
   "cell_type": "code",
   "execution_count": 0,
   "metadata": {
    "application/vnd.databricks.v1+cell": {
     "cellMetadata": {
      "byteLimit": 2048000,
      "rowLimit": 10000
     },
     "inputWidgets": {},
     "nuid": "8c052f1d-0112-4798-9dfa-46655ef39fb7",
     "showTitle": false,
     "tableResultSettingsMap": {},
     "title": ""
    }
   },
   "outputs": [],
   "source": [
    "%run \"../common/common_etl_load\""
   ]
  },
  {
   "cell_type": "code",
   "execution_count": 0,
   "metadata": {
    "application/vnd.databricks.v1+cell": {
     "cellMetadata": {
      "byteLimit": 2048000,
      "rowLimit": 10000
     },
     "inputWidgets": {},
     "nuid": "c3583c0c-7be9-419e-b310-2287fd8f6d0f",
     "showTitle": false,
     "tableResultSettingsMap": {},
     "title": ""
    }
   },
   "outputs": [],
   "source": [
    "spark.sql(f\"\"\"\n",
    "CREATE TABLE IF NOT EXISTS {catalog_name}.udp_wcm_gold_vcm_dwh.f_cogs_360d\n",
    "(\n",
    "  hash_id BIGINT,\n",
    "  calday DATE,\n",
    "  product_id STRING,\n",
    "  store_id STRING,\n",
    "  cogs_360d FLOAT,\n",
    "  cogs_b2b_360d FLOAT,\n",
    "  cogs_qty_360d FLOAT,\n",
    "  cogs_qty_b2b_360d FLOAT,\n",
    "  cogs_180d FLOAT,\n",
    "  cogs_b2b_180d FLOAT,\n",
    "  cogs_qty_180d FLOAT,\n",
    "  cogs_qty_b2b_180d FLOAT\n",
    ")\n",
    "TBLPROPERTIES (\n",
    "  'DELTA.AUTOOPTIMIZE.OPTIMIZEWRITE' = 'TRUE',\n",
    "  'DELTA.AUTOOPTIMIZE.AUTOCOMPACT' = 'TRUE'\n",
    ")\n",
    "\"\"\")"
   ]
  },
  {
   "cell_type": "code",
   "execution_count": 0,
   "metadata": {
    "application/vnd.databricks.v1+cell": {
     "cellMetadata": {
      "byteLimit": 2048000,
      "rowLimit": 10000
     },
     "inputWidgets": {},
     "nuid": "0f2e6974-0fa8-4734-91f6-e2c6378947ab",
     "showTitle": false,
     "tableResultSettingsMap": {},
     "title": ""
    }
   },
   "outputs": [],
   "source": [
    "spark.sql(f\"\"\"\n",
    "CREATE OR REPLACE TEMP VIEW temp_f_cogs_360d AS\n",
    "WITH\n",
    "table_date AS (\n",
    "    SELECT explode(sequence(\n",
    "        to_date({START_DATE}), \n",
    "        to_date({END_DATE})\n",
    "    )) AS date_gen_c\n",
    "),\n",
    "calculate_table AS (\n",
    "    SELECT\n",
    "        calday,\n",
    "        product_id,\n",
    "        store_id,\n",
    "        SUM(cost) cogs,\n",
    "        SUM(cost_b2b) cogs_b2b,\n",
    "        SUM(quantity) quantity,\n",
    "        SUM(quantity_b2b) quantity_b2b\n",
    "    FROM {catalog_name}.udp_wcm_gold_vcm_dwh.f_cogs\n",
    "    WHERE calday >= date_sub(to_date({START_DATE}), 360)\n",
    "        AND calday <= to_date({END_DATE})\n",
    "        AND product_id != 'DUMMY'\n",
    "    GROUP BY \n",
    "        calday,\n",
    "        product_id,\n",
    "        store_id\n",
    "),\n",
    "main AS (\n",
    "    SELECT\n",
    "        FARM_FINGERPRINT(CONCAT(\n",
    "            IFNULL(CAST(d.date_gen_c AS STRING), \"\"),\n",
    "            IFNULL(CAST(c.store_id AS STRING), \"\"),\n",
    "            IFNULL(CAST(c.product_id AS STRING), \"\")\n",
    "        )) hash_id,\n",
    "        d.date_gen_c calday,\n",
    "        c.product_id,\n",
    "        c.store_id,\n",
    "        SUM(c.cogs) cogs_360d,\n",
    "        SUM(c.cogs_b2b) cogs_b2b_360d,\n",
    "        SUM(c.quantity) cogs_qty_360d,\n",
    "        SUM(c.quantity_b2b) cogs_qty_b2b_360d,\n",
    "        SUM(IF(c.calday > date_sub(d.date_gen_c, 180), c.cogs, 0)) cogs_180d,\n",
    "        SUM(IF(c.calday > date_sub(d.date_gen_c, 180), c.cogs_b2b, 0)) cogs_b2b_180d,\n",
    "        SUM(IF(c.calday > date_sub(d.date_gen_c, 180), c.quantity, 0)) cogs_qty_180d,\n",
    "        SUM(IF(c.calday > date_sub(d.date_gen_c, 180), c.quantity_b2b, 0)) cogs_qty_b2b_180d\n",
    "    FROM table_date d\n",
    "    INNER JOIN calculate_table c\n",
    "        ON c.calday > date_sub(d.date_gen_c, 360)\n",
    "            AND d.date_gen_c >= c.calday\n",
    "    GROUP BY\n",
    "        d.date_gen_c,\n",
    "        c.product_id,\n",
    "        c.store_id\n",
    ")\n",
    "SELECT\n",
    "    *\n",
    "FROM main\n",
    "\"\"\")"
   ]
  },
  {
   "cell_type": "code",
   "execution_count": 0,
   "metadata": {
    "application/vnd.databricks.v1+cell": {
     "cellMetadata": {
      "byteLimit": 2048000,
      "rowLimit": 10000
     },
     "inputWidgets": {},
     "nuid": "c6907e07-532d-4c26-a2f3-cdc0c22af7f0",
     "showTitle": false,
     "tableResultSettingsMap": {},
     "title": ""
    }
   },
   "outputs": [],
   "source": [
    "# Get the calday list string from temp table\n",
    "calday_query = \"\"\"\n",
    "SELECT\n",
    "    CONCAT(\"'\", CONCAT_WS(\"','\", COLLECT_SET(CAST(TO_DATE(calday, 'yyyy-MM-dd') AS STRING))), \"'\") AS calday_in_str\n",
    "FROM temp_f_cogs_360d\n",
    "\"\"\"\n",
    "\n",
    "calday_df = spark.sql(calday_query)\n",
    "calday_in_str = calday_df.collect()[0][0]\n",
    "\n",
    "# Only run DELETE if the string is non-empty\n",
    "if calday_in_str.strip(\"'\"):  # checks if there's any date inside the quotes\n",
    "    spark.sql(f\"\"\"\n",
    "    DELETE FROM {catalog_name}.udp_wcm_gold_vcm_dwh.f_cogs_360d\n",
    "    WHERE calday IN ({calday_in_str})\n",
    "    \"\"\")\n",
    "else:\n",
    "    print(\"No valid CALDAYs found to delete.\")"
   ]
  },
  {
   "cell_type": "code",
   "execution_count": 0,
   "metadata": {
    "application/vnd.databricks.v1+cell": {
     "cellMetadata": {
      "byteLimit": 2048000,
      "rowLimit": 10000
     },
     "inputWidgets": {},
     "nuid": "b7f96244-dd32-4ff3-a8d0-755b8b9f1fef",
     "showTitle": false,
     "tableResultSettingsMap": {},
     "title": ""
    }
   },
   "outputs": [],
   "source": [
    "# Insert rows from temp table into main table\n",
    "spark.sql(f\"\"\"\n",
    "INSERT INTO {catalog_name}.udp_wcm_gold_vcm_dwh.f_cogs_360d\n",
    "(\n",
    "  hash_id,\n",
    "  calday,\n",
    "  product_id ,\n",
    "  store_id,\n",
    "  cogs_360d ,\n",
    "  cogs_b2b_360d,\n",
    "  cogs_qty_360d,\n",
    "  cogs_qty_b2b_360d,\n",
    "  cogs_180d ,\n",
    "  cogs_b2b_180d ,\n",
    "  cogs_qty_180d ,\n",
    "  cogs_qty_b2b_180d )\n",
    "SELECT \n",
    "  hash_id,\n",
    "  calday,\n",
    "  product_id ,\n",
    "  store_id,\n",
    "  cogs_360d ,\n",
    "  cogs_b2b_360d,\n",
    "  cogs_qty_360d,\n",
    "  cogs_qty_b2b_360d,\n",
    "  cogs_180d ,\n",
    "  cogs_b2b_180d ,\n",
    "  cogs_qty_180d ,\n",
    "  cogs_qty_b2b_180d\n",
    "FROM temp_f_cogs_360d\n",
    "\"\"\")"
   ]
  }
 ],
 "metadata": {
  "application/vnd.databricks.v1+notebook": {
   "computePreferences": null,
   "dashboards": [],
   "environmentMetadata": {
    "base_environment": "",
    "environment_version": "2"
   },
   "inputWidgetPreferences": null,
   "language": "python",
   "notebookMetadata": {
    "mostRecentlyExecutedCommandWithImplicitDF": {
     "commandId": 6350561386716931,
     "dataframes": [
      "_sqldf"
     ]
    },
    "pythonIndentUnit": 4
   },
   "notebookName": "f_cogs_360d",
   "widgets": {
    "dependency_table": {
     "currentValue": "VCM_DWH_PRD.F_COGS",
     "nuid": "06ca0451-c078-479e-9d02-886fca3f1ed0",
     "typedWidgetInfo": {
      "autoCreated": false,
      "defaultValue": "VCM_DWH_PRD.F_COGS",
      "label": null,
      "name": "dependency_table",
      "options": {
       "widgetDisplayType": "Text",
       "validationRegex": null
      },
      "parameterDataType": "String"
     },
     "widgetInfo": {
      "widgetType": "text",
      "defaultValue": "VCM_DWH_PRD.F_COGS",
      "label": null,
      "name": "dependency_table",
      "options": {
       "widgetType": "text",
       "autoCreated": null,
       "validationRegex": null
      }
     }
    },
    "environment": {
     "currentValue": "DEV",
     "nuid": "c1318625-c6cd-4332-a398-8fcde38388db",
     "typedWidgetInfo": {
      "autoCreated": false,
      "defaultValue": "",
      "label": "",
      "name": "environment",
      "options": {
       "widgetDisplayType": "Text",
       "validationRegex": null
      },
      "parameterDataType": "String"
     },
     "widgetInfo": {
      "widgetType": "text",
      "defaultValue": "",
      "label": "",
      "name": "environment",
      "options": {
       "widgetType": "text",
       "autoCreated": null,
       "validationRegex": null
      }
     }
    },
    "field_calday": {
     "currentValue": "CALDAY",
     "nuid": "1e76199e-f07c-4f61-b555-d3a527ca6f5c",
     "typedWidgetInfo": {
      "autoCreated": false,
      "defaultValue": "CALDAY",
      "label": null,
      "name": "field_calday",
      "options": {
       "widgetDisplayType": "Text",
       "validationRegex": null
      },
      "parameterDataType": "String"
     },
     "widgetInfo": {
      "widgetType": "text",
      "defaultValue": "CALDAY",
      "label": null,
      "name": "field_calday",
      "options": {
       "widgetType": "text",
       "autoCreated": null,
       "validationRegex": null
      }
     }
    },
    "field_id": {
     "currentValue": "HASH_ID",
     "nuid": "a81212b6-1807-4ca3-9645-6fe57bea5a24",
     "typedWidgetInfo": {
      "autoCreated": false,
      "defaultValue": "HASH_ID",
      "label": null,
      "name": "field_id",
      "options": {
       "widgetDisplayType": "Text",
       "validationRegex": null
      },
      "parameterDataType": "String"
     },
     "widgetInfo": {
      "widgetType": "text",
      "defaultValue": "HASH_ID",
      "label": null,
      "name": "field_id",
      "options": {
       "widgetType": "text",
       "autoCreated": null,
       "validationRegex": null
      }
     }
    },
    "metadata_schema": {
     "currentValue": "udp_wcm_metadata_dev",
     "nuid": "530237f8-5727-4e6a-b2ef-ba789121f2ac",
     "typedWidgetInfo": {
      "autoCreated": false,
      "defaultValue": "udp_wcm_metadata_dev",
      "label": null,
      "name": "metadata_schema",
      "options": {
       "widgetDisplayType": "Text",
       "validationRegex": null
      },
      "parameterDataType": "String"
     },
     "widgetInfo": {
      "widgetType": "text",
      "defaultValue": "udp_wcm_metadata_dev",
      "label": null,
      "name": "metadata_schema",
      "options": {
       "widgetType": "text",
       "autoCreated": null,
       "validationRegex": null
      }
     }
    },
    "proc_date": {
     "currentValue": "2025-07-21",
     "nuid": "8cb0aec2-f045-4b06-9df6-895dd0ec3af7",
     "typedWidgetInfo": {
      "autoCreated": false,
      "defaultValue": "2025-07-21",
      "label": null,
      "name": "proc_date",
      "options": {
       "widgetDisplayType": "Text",
       "validationRegex": null
      },
      "parameterDataType": "String"
     },
     "widgetInfo": {
      "widgetType": "text",
      "defaultValue": "2025-07-21",
      "label": null,
      "name": "proc_date",
      "options": {
       "widgetType": "text",
       "autoCreated": false,
       "validationRegex": null
      }
     }
    },
    "target_dataset": {
     "currentValue": "VCM_DWH_PRD",
     "nuid": "189673aa-740c-4998-8028-890940c72204",
     "typedWidgetInfo": {
      "autoCreated": false,
      "defaultValue": "VCM_DWH_PRD",
      "label": null,
      "name": "target_dataset",
      "options": {
       "widgetDisplayType": "Text",
       "validationRegex": null
      },
      "parameterDataType": "String"
     },
     "widgetInfo": {
      "widgetType": "text",
      "defaultValue": "VCM_DWH_PRD",
      "label": null,
      "name": "target_dataset",
      "options": {
       "widgetType": "text",
       "autoCreated": null,
       "validationRegex": null
      }
     }
    },
    "target_table": {
     "currentValue": "f_cogs_360d",
     "nuid": "e236f0a9-dca4-4f7b-bd87-e090006da105",
     "typedWidgetInfo": {
      "autoCreated": false,
      "defaultValue": "f_cogs_360d",
      "label": null,
      "name": "target_table",
      "options": {
       "widgetDisplayType": "Text",
       "validationRegex": null
      },
      "parameterDataType": "String"
     },
     "widgetInfo": {
      "widgetType": "text",
      "defaultValue": "f_cogs_360d",
      "label": null,
      "name": "target_table",
      "options": {
       "widgetType": "text",
       "autoCreated": null,
       "validationRegex": null
      }
     }
    }
   }
  },
  "language_info": {
   "name": "python"
  }
 },
 "nbformat": 4,
 "nbformat_minor": 0
}
