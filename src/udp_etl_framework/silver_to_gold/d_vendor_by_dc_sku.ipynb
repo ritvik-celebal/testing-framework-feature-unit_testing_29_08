{
 "cells": [
  {
   "cell_type": "code",
   "execution_count": 0,
   "metadata": {
    "application/vnd.databricks.v1+cell": {
     "cellMetadata": {
      "byteLimit": 2048000,
      "rowLimit": 10000
     },
     "inputWidgets": {},
     "nuid": "b3edccd8-5935-45b3-a1c7-25d9e4d6eb4f",
     "showTitle": false,
     "tableResultSettingsMap": {},
     "title": ""
    }
   },
   "outputs": [],
   "source": [
    "%run ../utils/common"
   ]
  },
  {
   "cell_type": "code",
   "execution_count": 0,
   "metadata": {
    "application/vnd.databricks.v1+cell": {
     "cellMetadata": {
      "byteLimit": 2048000,
      "rowLimit": 10000
     },
     "inputWidgets": {},
     "nuid": "1d08d6eb-d5a9-4721-9a05-b8a40a2f41c2",
     "showTitle": false,
     "tableResultSettingsMap": {},
     "title": ""
    }
   },
   "outputs": [],
   "source": [
    "dbutils.widgets.text(\"environment\", \"\", \"\")\n",
    "environment = dbutils.widgets.get(\"environment\")"
   ]
  },
  {
   "cell_type": "code",
   "execution_count": 0,
   "metadata": {
    "application/vnd.databricks.v1+cell": {
     "cellMetadata": {
      "byteLimit": 2048000,
      "rowLimit": 10000
     },
     "inputWidgets": {},
     "nuid": "59e2f04c-8403-4627-ac4e-3d674caaeb5b",
     "showTitle": false,
     "tableResultSettingsMap": {},
     "title": ""
    }
   },
   "outputs": [],
   "source": [
    "catalog_name = settings[environment]['catalog_name']"
   ]
  },
  {
   "cell_type": "code",
   "execution_count": 0,
   "metadata": {
    "application/vnd.databricks.v1+cell": {
     "cellMetadata": {
      "byteLimit": 2048000,
      "rowLimit": 10000
     },
     "inputWidgets": {},
     "nuid": "dea2c25b-43db-41d5-988a-677717d4ed4e",
     "showTitle": false,
     "tableResultSettingsMap": {},
     "title": ""
    }
   },
   "outputs": [],
   "source": [
    "spark.sql(f\"\"\"\n",
    "CREATE OR REPLACE TABLE {catalog_name}.udp_wcm_gold_vcm_dwh.d_vendor_by_dc_sku \n",
    "TBLPROPERTIES (\n",
    "  'DELTA.AUTOOPTIMIZE.OPTIMIZEWRITE' = 'TRUE',\n",
    "  'DELTA.AUTOOPTIMIZE.AUTOCOMPACT' = 'TRUE'\n",
    ")\n",
    "AS\n",
    "WITH\n",
    "sellin_price_cur AS (\n",
    "    SELECT\n",
    "        a.* EXCEPT(vendor_subrange),\n",
    "\t    IFNULL(IF(a.vendor_subrange = '' OR a.vendor_subrange IS NULL, c.subrange_id, a.vendor_subrange), '') vendor_subrange\n",
    "    FROM {catalog_name}.udp_wcm_gold_vcm_dwh.d_sellin_price_cur a\n",
    "        LEFT JOIN {catalog_name}.udp_wcm_gold_vcm_dwh.d_vendor_master b ON a.vendor = b.vendor_id\n",
    "        INNER JOIN {catalog_name}.udp_wcm_gold_vcm_dwh.d_pir_current c ON LTRIM('0', a.vendor) = c.vendor_id AND a.product_id = c.product_id\n",
    "        INNER JOIN {catalog_name}.udp_wcm_gold_vcm_dwh.d_product_unit d\n",
    "            ON a.product_id = d.product_id AND a.purchasing_unit = d.unit\n",
    "    WHERE IFNULL(b.block_company_code, 'Y') <> 'X' \n",
    "        AND IFNULL(b.block_purchasing_org, 'Y') <> 'X'\n",
    "        AND a.cond_table <> '913'\n",
    "),\n",
    "sellin_price AS (\n",
    "    SELECT \n",
    "        a.* EXCEPT(price_from, price_to), \n",
    "        price_from valid_from, \n",
    "        price_to valid_to,\n",
    "        CASE \n",
    "            WHEN TRIM(IFNULL(a.store_id, '') || IFNULL(a.supply_region, '') || IFNULL(a.site_region, '')) <> '' \n",
    "            THEN TRIM(IFNULL(a.store_id, '') || IFNULL(a.supply_region, '') || IFNULL(a.site_region, '')) \n",
    "        ELSE '1401' \n",
    "        END varkey,\n",
    "        pri.pri priority,\n",
    "        CASE\n",
    "            WHEN a.store_id IS NOT NULL THEN 1\n",
    "            WHEN a.site_region IS NOT NULL THEN 2\n",
    "            WHEN a.supply_region IS NOT NULL THEN 3\n",
    "            ELSE 4\n",
    "        END priority_level\n",
    "    FROM sellin_price_cur a \n",
    "        LEFT JOIN {catalog_name}.udp_wcm_silver_dim.sellin_pri pri ON pri.table = CAST(a.cond_table AS BIGINT)\n",
    "    WHERE IFNULL(a.info_type, '') <> '' \n",
    "        AND a.purchasing_org = '1401' \n",
    "        AND IFNULL(a.purchasing_group, '101') NOT IN ('601','602') \n",
    "),\n",
    "sellin_price_bysite_prev AS (\n",
    "\tSELECT \n",
    "\t\tsp.*,\n",
    "\t\tIFNULL(IFNULL(IFNULL(sp.store_id, st1.store_id), st2.store_id), st3.store_id) site\n",
    "\tFROM sellin_price sp \n",
    "\t\tLEFT JOIN {catalog_name}.udp_wcm_gold_vcm_dwh.d_store st1 ON sp.varkey = '1401'\n",
    "\t\tLEFT JOIN {catalog_name}.udp_wcm_gold_vcm_dwh.d_store st2 ON sp.varkey = st2.supply_region\n",
    "\t\tLEFT JOIN {catalog_name}.udp_wcm_gold_vcm_dwh.d_store st3 ON sp.varkey = st3.region\n",
    "),\n",
    "sup_region AS (\n",
    "    SELECT DISTINCT vendor\n",
    "    FROM {catalog_name}.udp_wcm_gold_vcm_dwh.d_sup_region\n",
    "),\n",
    "sellin_price_bysite AS (\n",
    "    SELECT DISTINCT *\n",
    "    FROM (\n",
    "        SELECT a.*\n",
    "        FROM sellin_price_bysite_prev a\n",
    "        LEFT JOIN {catalog_name}.udp_wcm_gold_vcm_dwh.d_sup_region b\n",
    "            ON LTRIM('0', a.vendor) = LTRIM('0', b.vendor)\n",
    "        WHERE b.vendor IS NULL\n",
    "        UNION ALL\n",
    "        \n",
    "        SELECT DISTINCT a.*\n",
    "        FROM sellin_price_bysite_prev a\n",
    "        INNER JOIN {catalog_name}.udp_wcm_gold_vcm_dwh.d_sup_region b\n",
    "            ON LTRIM('0', a.vendor) = LTRIM('0', b.vendor)\n",
    "        INNER JOIN {catalog_name}.udp_wcm_gold_vcm_dwh.d_store c\n",
    "            ON a.site = c.store_id AND c.supply_region = b.supply_region\n",
    "        WHERE a.priority_level IN (1, 2)\n",
    "        UNION ALL\n",
    "       \n",
    "        SELECT a.*\n",
    "        FROM sellin_price_bysite_prev a\n",
    "        INNER JOIN {catalog_name}.udp_wcm_gold_vcm_dwh.d_sup_region b\n",
    "            ON LTRIM('0', a.vendor) = LTRIM('0', b.vendor) AND a.supply_region = b.supply_region\n",
    "        WHERE a.priority_level = 3\n",
    "        UNION ALL\n",
    "        SELECT a.*\n",
    "        FROM sellin_price_bysite_prev a\n",
    "        INNER JOIN sup_region b\n",
    "            ON LTRIM('0', a.vendor) = LTRIM('0', b.vendor)\n",
    "        WHERE a.priority_level = 4\n",
    "    )\n",
    "),\n",
    "po AS (\n",
    "    SELECT DISTINCT \n",
    "        f.store_id, \n",
    "        f.product_id, \n",
    "        f.vendor,\n",
    "        f.po_unit,\n",
    "        FIRST_VALUE(f.po_id) OVER (PARTITION BY f.store_id, f.product_id, f.vendor, f.po_unit ORDER BY f.gr_date DESC) po_id,\n",
    "        FIRST_VALUE(f.gr_date) OVER (PARTITION BY f.store_id, f.product_id, f.vendor, f.po_unit ORDER BY f.gr_date DESC) max_grdate\n",
    "    FROM {catalog_name}.udp_wcm_gold_vcm_dwh.f_po_item f\n",
    "    WHERE f.vendor IS NOT NULL \n",
    "        AND UPPER(f.po_type) IN ('COLLECTIVE PO', 'STANDARD PO') \n",
    "        AND f.gr_qty > 0\n",
    "),\n",
    "po_by_province AS (\n",
    "    SELECT \n",
    "        DISTINCT\n",
    "        s.region,\n",
    "        f.product_id,\n",
    "        f.vendor,\n",
    "        f.po_unit,\n",
    "        FIRST_VALUE(f.po_id) OVER (PARTITION BY s.region, f.product_id, f.vendor, f.po_unit ORDER BY f.max_grdate DESC) po_id,\n",
    "        FIRST_VALUE(f.max_grdate) OVER (PARTITION BY s.region, f.product_id, f.vendor, f.po_unit ORDER BY f.max_grdate DESC) max_grdate\n",
    "    FROM po f\n",
    "    INNER JOIN {catalog_name}.udp_wcm_gold_vcm_dwh.d_store s\n",
    "        ON f.store_id = s.store_id\n",
    "    WHERE s.business_unit = '1100'\n",
    "),\n",
    "po_sub_mnf AS (\n",
    "    SELECT DISTINCT \n",
    "        f.store_id, \n",
    "        p.sub_manufacturer_id, \n",
    "        f.vendor,\n",
    "        FIRST_VALUE(f.po_id) OVER (PARTITION BY f.store_id, p.sub_manufacturer_id, f.vendor ORDER BY f.gr_date DESC) po_id_sub_mnf,\n",
    "        FIRST_VALUE(f.gr_date) OVER (PARTITION BY f.store_id, p.sub_manufacturer_id, f.vendor ORDER BY f.gr_date DESC) max_grdate_sub_mnf\n",
    "    FROM {catalog_name}.udp_wcm_gold_vcm_dwh.f_po_item f\n",
    "    LEFT JOIN {catalog_name}.udp_wcm_gold_vcm_dwh.d_product p\n",
    "        ON f.product_id = p.product_id\n",
    "    WHERE f.vendor IS NOT NULL \n",
    "        AND UPPER(f.po_type) IN ('COLLECTIVE PO', 'STANDARD PO') \n",
    "        AND f.gr_qty > 0\n",
    "),\n",
    "po_by_province_sub_mnf AS (\n",
    "    SELECT \n",
    "        DISTINCT\n",
    "        s.region,\n",
    "        f.sub_manufacturer_id,\n",
    "        f.vendor,\n",
    "        FIRST_VALUE(f.po_id_sub_mnf) OVER (PARTITION BY s.region, f.sub_manufacturer_id, f.vendor ORDER BY f.max_grdate_sub_mnf DESC) po_id_sub_mnf,\n",
    "        FIRST_VALUE(f.max_grdate_sub_mnf) OVER (PARTITION BY s.region, f.sub_manufacturer_id, f.vendor ORDER BY f.max_grdate_sub_mnf DESC) max_grdate_sub_mnf\n",
    "    FROM po_sub_mnf f\n",
    "    INNER JOIN {catalog_name}.udp_wcm_gold_vcm_dwh.d_store s\n",
    "        ON f.store_id = s.store_id\n",
    "    WHERE s.business_unit = '1100'\n",
    "),\n",
    "price AS (\n",
    "    SELECT DISTINCT \n",
    "        a.site as dc_id,\n",
    "        st.supply_region,\n",
    "        st.region,\n",
    "        a.product_id,\n",
    "        a.purchasing_unit as uom, \n",
    "        a.varkey as price_level,\n",
    "        a.priority_level,\n",
    "        a.sell_price,\n",
    "        a.valid_from, \n",
    "        a.valid_to,\n",
    "        a.vendor, \n",
    "        a.vendor_subrange, \n",
    "        a.priority as cond_pri,\n",
    "        IFNULL(p1.max_grdate, p2.max_grdate) as max_grdate,\n",
    "        IFNULL(p3.max_grdate_sub_mnf, p4.max_grdate_sub_mnf) as max_grdate_sub_mnf,\n",
    "        DENSE_RANK() OVER (PARTITION BY a.site, a.product_id, a.purchasing_unit ORDER BY a.priority, COALESCE(p1.max_grdate, p2.max_grdate, '2016-01-01') DESC, COALESCE(p3.max_grdate_sub_mnf, p4.max_grdate_sub_mnf, '2016-01-01') DESC, a.valid_from DESC) priority\n",
    "    FROM sellin_price_bysite a\n",
    "        LEFT JOIN {catalog_name}.udp_wcm_gold_vcm_dwh.d_store st ON st.store_id = a.site\n",
    "        LEFT JOIN {catalog_name}.udp_wcm_gold_vcm_dwh.d_product pd ON pd.product_id = a.product_id\n",
    "        LEFT JOIN po p1 ON p1.store_id = a.site AND p1.product_id = a.product_id AND p1.vendor = a.vendor AND p1.po_unit = a.purchasing_unit\n",
    "        LEFT JOIN po_by_province p2 ON p2.region = st.region AND p2.product_id = a.product_id AND p2.vendor = a.vendor AND p2.po_unit = a.purchasing_unit\n",
    "        LEFT JOIN po_sub_mnf p3 ON p3.store_id = a.site AND p3.sub_manufacturer_id = pd.sub_manufacturer_id AND p3.vendor = a.vendor\n",
    "        LEFT JOIN po_by_province_sub_mnf p4 ON p4.region = st.region AND p4.sub_manufacturer_id = pd.sub_manufacturer_id AND p4.vendor = a.vendor\n",
    "    WHERE \n",
    "        DATE(CURRENT_TIMESTAMP() + INTERVAL 7 HOURS) BETWEEN a.valid_from AND a.valid_to\n",
    "        AND st.store_status_id <> 'closed'\n",
    "        AND st.business_unit = '1100'\n",
    "),\n",
    "main AS (\n",
    "\tSELECT *\n",
    "\tFROM price\n",
    "\tWHERE IFNULL(priority, 1) = 1\n",
    "\t\tAND uom NOT IN ('KGM', 'LTR', 'MTR')\n",
    ")\n",
    "SELECT *\n",
    "FROM main;\n",
    "\"\"\")"
   ]
  }
 ],
 "metadata": {
  "application/vnd.databricks.v1+notebook": {
   "computePreferences": null,
   "dashboards": [],
   "environmentMetadata": {
    "base_environment": "",
    "environment_version": "2"
   },
   "inputWidgetPreferences": null,
   "language": "python",
   "notebookMetadata": {
    "mostRecentlyExecutedCommandWithImplicitDF": {
     "commandId": 4736130552786544,
     "dataframes": [
      "_sqldf"
     ]
    },
    "pythonIndentUnit": 4
   },
   "notebookName": "d_vendor_by_dc_sku",
   "widgets": {}
  },
  "language_info": {
   "name": "python"
  }
 },
 "nbformat": 4,
 "nbformat_minor": 0
}
