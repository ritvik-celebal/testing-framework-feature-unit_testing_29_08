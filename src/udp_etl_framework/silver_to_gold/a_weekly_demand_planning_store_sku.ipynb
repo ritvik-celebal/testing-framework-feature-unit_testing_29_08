{
 "cells": [
  {
   "cell_type": "code",
   "execution_count": 0,
   "metadata": {
    "application/vnd.databricks.v1+cell": {
     "cellMetadata": {
      "byteLimit": 2048000,
      "rowLimit": 10000
     },
     "inputWidgets": {},
     "nuid": "3707518f-121d-416a-897a-879e8e4c3f9c",
     "showTitle": false,
     "tableResultSettingsMap": {},
     "title": ""
    }
   },
   "outputs": [],
   "source": [
    "%run ../utils/common"
   ]
  },
  {
   "cell_type": "code",
   "execution_count": 0,
   "metadata": {
    "application/vnd.databricks.v1+cell": {
     "cellMetadata": {
      "byteLimit": 2048000,
      "rowLimit": 10000
     },
     "inputWidgets": {},
     "nuid": "ea2ac9a1-5a92-4298-a56a-de740be286cf",
     "showTitle": false,
     "tableResultSettingsMap": {},
     "title": ""
    }
   },
   "outputs": [],
   "source": [
    "dbutils.widgets.text(\"environment\", \"\", \"\")\n",
    "environment = dbutils.widgets.get(\"environment\")"
   ]
  },
  {
   "cell_type": "code",
   "execution_count": 0,
   "metadata": {
    "application/vnd.databricks.v1+cell": {
     "cellMetadata": {
      "byteLimit": 2048000,
      "rowLimit": 10000
     },
     "inputWidgets": {},
     "nuid": "6620542c-7135-482f-a4ff-6a87716d0930",
     "showTitle": false,
     "tableResultSettingsMap": {},
     "title": ""
    }
   },
   "outputs": [],
   "source": [
    "catalog_name = settings[environment]['catalog_name']"
   ]
  },
  {
   "cell_type": "code",
   "execution_count": 0,
   "metadata": {
    "application/vnd.databricks.v1+cell": {
     "cellMetadata": {
      "byteLimit": 2048000,
      "rowLimit": 10000
     },
     "inputWidgets": {},
     "nuid": "9572ec26-d2a1-4bc4-92f5-457f0ddad206",
     "showTitle": false,
     "tableResultSettingsMap": {},
     "title": ""
    }
   },
   "outputs": [],
   "source": [
    "spark.sql(f\"\"\"\n",
    "CREATE TABLE IF NOT EXISTS {catalog_name}.udp_wcm_gold_db_winare_nonfresh_dc.a_weekly_demand_planning_store_sku\n",
    "-- PARTITION BY calday CLUSTER BY dc_id, product_id \n",
    "TBLPROPERTIES (\n",
    "  'DELTA.AUTOOPTIMIZE.OPTIMIZEWRITE' = 'TRUE',\n",
    "  'DELTA.AUTOOPTIMIZE.AUTOCOMPACT' = 'TRUE'\n",
    ")\n",
    "AS\n",
    "WITH store_sku_list AS (\n",
    "    SELECT \n",
    "        calday, store_id, product_id, dc_id, business_unit, replenishment_mode, mdq, is_problem_article, IF(replenishment_mode = 'FT', 14, 4) safety_stock,\n",
    "        FIRST_VALUE(assortment_type) OVER (PARTITION BY dc_id, product_id ORDER BY \n",
    "            CASE\n",
    "                WHEN assortment_type = 'Core 1' THEN 1\n",
    "                WHEN assortment_type = 'HERO' THEN 2\n",
    "                WHEN assortment_type = 'Core 2' THEN 3\n",
    "                WHEN assortment_type = 'Core 3' THEN 4\n",
    "                WHEN assortment_type = 'HI_BEAUTY' THEN 5\n",
    "                ELSE 6\n",
    "            END, assortment_type\n",
    "        ) assortment_type\n",
    "    FROM {catalog_name}.udp_wcm_gold_vcm_db_inventory.d_mdq_store_dc_sku_daily_his\n",
    "    WHERE calday >= DATE_SUB( DATE(CURRENT_TIMESTAMP() + INTERVAL 7 HOURS)  , 14) AND business_unit IN ('1500', '2000') AND dc_id IS NOT NULL\n",
    "),\n",
    "_edq AS (\n",
    "    SELECT date_add(date(calday), 1) AS calday, store_id, product_id, edq\n",
    "    FROM {catalog_name}.udp_wcm_gold_db_winare_nonfresh_dc.d_edq_by_store_sku_current_his\n",
    "    WHERE calday >= DATE_SUB( DATE(CURRENT_TIMESTAMP() + INTERVAL 7 HOURS)  , 15) \n",
    "),\n",
    "_high_stock AS (\n",
    "    SELECT\n",
    "        date_add(date(calday), 1) AS calday,\n",
    "        store_id, \n",
    "        product_id,\n",
    "        concat_ws(', ', collect_list(reason)) AS reason\n",
    "    FROM {catalog_name}.udp_wcm_gold_db_winare_nonfresh_dc.d_cfg_winare_block_by_store_sku_current_his\n",
    "    WHERE UPPER(reason) LIKE 'HIGH STOCK%' AND calday >= DATE_SUB( DATE(CURRENT_TIMESTAMP() + INTERVAL 7 HOURS)  , 15)\n",
    "    GROUP BY 1,2,3\n",
    "),\n",
    "_block_promotion AS (\n",
    "    SELECT \n",
    "        date_add(date(calday), 1) AS calday, store_id, IF(bonus_buy_profile = 'ZB01', buy_item_id, discount_product_id) product_id, \n",
    "        concat_ws(', ', collect_set(concat(bonus_buy_id, '-', bonus_buy_profile))) AS bonus_buy_id,\n",
    "        SUM(block_sto) block_sto\n",
    "    FROM {catalog_name}.udp_wcm_gold_db_winare_nonfresh_dc.d_winare_auto_block_promotion_current_his\n",
    "    WHERE calday >= DATE_SUB( DATE(CURRENT_TIMESTAMP() + INTERVAL 7 HOURS)  , 15) \n",
    "    GROUP BY 1,2,3\n",
    "    HAVING block_sto = 1\n",
    "),\n",
    "dimension AS (\n",
    "    SELECT \n",
    "        a.*, IFNULL(b.edq, 0) edq, c.reason block_reason, c1.bonus_buy_id,\n",
    "        IF(a.replenishment_mode = 'BS' AND a.business_unit = '2000', 7, IF(a.replenishment_mode = 'FT' AND a.business_unit = '1500', d.dbo, 7)) targeted_dio_store,\n",
    "        IFNULL(e.sell_rate, 0) sell_rate,\n",
    "        IFNULL(e.sale_trend, 1) sale_trend,\n",
    "        IFNULL(e.seasonality_index, 1) seasonality_index,\n",
    "        IFNULL(f.closing_stock_qty, 0) closing_stock_qty,\n",
    "        IFNULL(g.open_order, 0) open_order,\n",
    "        h.mhu, i.pcb\n",
    "    FROM store_sku_list a\n",
    "    LEFT JOIN _edq b\n",
    "        ON a.store_id = b.store_id AND a.product_id = b.product_id AND a.calday = b.calday\n",
    "    LEFT JOIN _high_stock c\n",
    "        ON a.store_id = c.store_id AND a.product_id = c.product_id AND a.calday = c.calday\n",
    "    LEFT JOIN _block_promotion c1\n",
    "        ON a.store_id = c1.store_id AND a.product_id = c1.product_id AND a.calday = c1.calday\n",
    "    LEFT JOIN (SELECT * FROM {catalog_name}.udp_wcm_gold_db_winare_nonfresh_dc.d_dc_sku_list_his WHERE calday >= DATE_SUB( DATE(CURRENT_TIMESTAMP() + INTERVAL 7 HOURS)  , 15)) d\n",
    "        ON a.dc_id = d.dc_id AND a.product_id = d.product_id AND a.calday = d.calday + INTERVAL 1 DAY\n",
    "    LEFT JOIN (SELECT * FROM {catalog_name}.udp_wcm_gold_vcm_dmt.f_corrected_sellrate WHERE calday >= date_sub(date(current_timestamp() + INTERVAL 7 HOURS), 15)) e \n",
    "    ON a.store_id = e.store_id AND a.product_id = e.product_id AND a.calday = date_add(e.calday, 1)\n",
    "    LEFT JOIN (SELECT * FROM {catalog_name}.udp_wcm_gold_vcm_dwh.f_inventory_sapcar_daily WHERE calday >= DATE_SUB( DATE(CURRENT_TIMESTAMP() + INTERVAL 7 HOURS)  , 14)) f\n",
    "        ON a.store_id = f.store_id AND a.product_id = f.product_id AND a.calday = f.calday\n",
    "    LEFT JOIN (SELECT * FROM {catalog_name}.udp_wcm_gold_db_winare_nonfresh_dc.a_winare_dc_open_order_store_his WHERE calday >= DATE_SUB( DATE(CURRENT_TIMESTAMP() + INTERVAL 7 HOURS)  , 15)) g\n",
    "        ON a.store_id = g.store_id AND a.product_id = g.product_id AND a.calday = g.calday + INTERVAL 1 DAY\n",
    "    LEFT JOIN {catalog_name}.udp_wcm_gold_db_winare_nonfresh_dc.d_cfg_mhu_his h \n",
    "        ON a.product_id = h.product_id AND a.dc_id = h.dc_id AND a.business_unit = h.business_unit AND a.calday = h.calday + INTERVAL 1 DAY\n",
    "    LEFT JOIN {catalog_name}.udp_wcm_gold_db_winare_nonfresh_dc.d_cfg_pcb_his i \n",
    "        ON a.product_id = i.product_id AND a.dc_id = i.dc_id AND a.business_unit = i.business_unit AND a.calday = i.calday + INTERVAL 1 DAY\n",
    "),\n",
    "demand AS (\n",
    "    SELECT\n",
    "        *,\n",
    "        IF(IFNULL(mdq, 0) = 0 OR is_problem_article = 'YES' OR block_reason IS NOT NULL, 1, 0) is_block,\n",
    "        GREATEST(mdq + edq + (safety_stock + targeted_dio_store + 14) * sell_rate * sale_trend * seasonality_index - closing_stock_qty - open_order, 0) demand_store\n",
    "    FROM dimension\n",
    "),\n",
    "round_mhu AS (\n",
    "    SELECT\n",
    "        * EXCEPT(demand_store),\n",
    "        CEIL(\n",
    "        CASE \n",
    "            WHEN mhu IS NULL OR mhu = 0 THEN NULL\n",
    "            ELSE GREATEST(demand_store, 0) / mhu\n",
    "        END\n",
    "    ) * mhu AS demand_store\n",
    "            FROM demand\n",
    "),\n",
    "picking AS (\n",
    "    SELECT\n",
    "        *,\n",
    "        IF(IFNULL(pcb, 1) = 1, 'Piece', IF(demand_store / pcb = CAST(demand_store / pcb AS INT), 'Case', 'Piece')) picking_type\n",
    "    FROM round_mhu\n",
    ")\n",
    "SELECT *\n",
    "FROM picking;\"\"\")"
   ]
  }
 ],
 "metadata": {
  "application/vnd.databricks.v1+notebook": {
   "computePreferences": null,
   "dashboards": [],
   "environmentMetadata": {
    "base_environment": "",
    "environment_version": "2"
   },
   "inputWidgetPreferences": null,
   "language": "python",
   "notebookMetadata": {
    "mostRecentlyExecutedCommandWithImplicitDF": {
     "commandId": 8548190384266258,
     "dataframes": [
      "_sqldf"
     ]
    },
    "pythonIndentUnit": 4
   },
   "notebookName": "a_weekly_demand_planning_store_sku",
   "widgets": {
    "environment": {
     "currentValue": "DEV",
     "nuid": "23da7d6b-307a-4607-9e7b-8071d86095d5",
     "typedWidgetInfo": {
      "autoCreated": false,
      "defaultValue": "",
      "label": "",
      "name": "environment",
      "options": {
       "widgetDisplayType": "Text",
       "validationRegex": null
      },
      "parameterDataType": "String"
     },
     "widgetInfo": {
      "widgetType": "text",
      "defaultValue": "",
      "label": "",
      "name": "environment",
      "options": {
       "widgetType": "text",
       "autoCreated": null,
       "validationRegex": null
      }
     }
    }
   }
  },
  "language_info": {
   "name": "python"
  }
 },
 "nbformat": 4,
 "nbformat_minor": 0
}
