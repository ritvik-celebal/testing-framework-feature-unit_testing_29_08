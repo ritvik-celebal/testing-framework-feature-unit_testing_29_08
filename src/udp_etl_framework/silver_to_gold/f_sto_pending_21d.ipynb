{
 "cells": [
  {
   "cell_type": "code",
   "execution_count": 0,
   "metadata": {
    "application/vnd.databricks.v1+cell": {
     "cellMetadata": {
      "byteLimit": 2048000,
      "rowLimit": 10000
     },
     "inputWidgets": {},
     "nuid": "b36767e1-479d-4a49-aeca-7f26707f00ba",
     "showTitle": false,
     "tableResultSettingsMap": {},
     "title": ""
    }
   },
   "outputs": [],
   "source": [
    "%run ../utils/common"
   ]
  },
  {
   "cell_type": "code",
   "execution_count": 0,
   "metadata": {
    "application/vnd.databricks.v1+cell": {
     "cellMetadata": {
      "byteLimit": 2048000,
      "rowLimit": 10000
     },
     "inputWidgets": {},
     "nuid": "df2aec8b-917b-4798-8fc4-56343a25c827",
     "showTitle": false,
     "tableResultSettingsMap": {},
     "title": ""
    }
   },
   "outputs": [],
   "source": [
    "dbutils.widgets.text(\"environment\", \"\", \"\")\n",
    "environment = dbutils.widgets.get(\"environment\")"
   ]
  },
  {
   "cell_type": "code",
   "execution_count": 0,
   "metadata": {
    "application/vnd.databricks.v1+cell": {
     "cellMetadata": {
      "byteLimit": 2048000,
      "rowLimit": 10000
     },
     "inputWidgets": {},
     "nuid": "1b5fd06c-44e3-43cc-976c-8ae8e2509f63",
     "showTitle": false,
     "tableResultSettingsMap": {},
     "title": ""
    }
   },
   "outputs": [],
   "source": [
    "catalog_name = settings[environment]['catalog_name']"
   ]
  },
  {
   "cell_type": "code",
   "execution_count": 0,
   "metadata": {
    "application/vnd.databricks.v1+cell": {
     "cellMetadata": {
      "byteLimit": 2048000,
      "rowLimit": 10000
     },
     "inputWidgets": {},
     "nuid": "375fb95f-56da-462e-9fcb-1bae5dd72293",
     "showTitle": false,
     "tableResultSettingsMap": {},
     "title": ""
    }
   },
   "outputs": [],
   "source": [
    "spark.sql(f\"\"\"CREATE OR REPLACE TABLE {catalog_name}.udp_wcm_gold_vcm_dwh.f_sto_pending_21d \n",
    " TBLPROPERTIES (\n",
    "  'DELTA.AUTOOPTIMIZE.OPTIMIZEWRITE' = 'TRUE',\n",
    "  'DELTA.AUTOOPTIMIZE.AUTOCOMPACT' = 'TRUE'\n",
    ") AS\n",
    "WITH \n",
    "time_range AS (\n",
    "    SELECT EXPLODE(SEQUENCE(\n",
    "        DATE_SUB(DATE(CURRENT_TIMESTAMP() + INTERVAL 7 HOURS), 21),\n",
    "        DATE_SUB(DATE(CURRENT_TIMESTAMP() + INTERVAL 7 HOURS), 1),\n",
    "        INTERVAL 1 DAY\n",
    "    )) AS calday\n",
    "),\n",
    "pick_pack_spr AS (\n",
    "    SELECT \n",
    "        a.wh_site_id AS dc_id,\n",
    "        sku,\n",
    "        s.external_code AS sto_number,\n",
    "        SUM(a.base_qty) AS qty\n",
    "    FROM {catalog_name}.udp_wcm_silver_supra.f_in_out_transaction_spr a\n",
    "    INNER JOIN time_range tr ON tr.calday = DATE(a.tran_date)\n",
    "    LEFT JOIN {catalog_name}.udp_wcm_silver_supra.d_so_header_spr s ON s.so_code = a.object_code\n",
    "    WHERE a.object_code LIKE 'SO%' \n",
    "      AND a.object_type = 'SO' \n",
    "      AND a.job_type = 'SO_AUTOPP_PICKING'\n",
    "    GROUP BY 1,2,3\n",
    "),\n",
    "spr_dc AS (\n",
    "    SELECT DISTINCT dc_id FROM pick_pack_spr\n",
    "),\n",
    "dc_site AS (\n",
    "    SELECT \n",
    "        st.*, \n",
    "        CASE WHEN s.dc_id IS NOT NULL THEN 1 ELSE 0 END AS spr_dc\n",
    "    FROM {catalog_name}.udp_wcm_gold_vcm_dwh.d_store st\n",
    "    LEFT JOIN spr_dc s ON s.dc_id = st.store_id\n",
    "    WHERE st.business_unit = '1100' \n",
    "      AND st.store_status_id = 'OPEN'\n",
    "),\n",
    "po_allocation AS (\n",
    "    SELECT *\n",
    "    FROM {catalog_name}.udp_wcm_silver_sap_bw.sap_vccmmpo08\n",
    "    QUALIFY ROW_NUMBER() OVER (PARTITION BY ebeln, ebelp ORDER BY proc_date DESC) =1      \n",
    "  \n",
    "),\n",
    "flow_through AS (\n",
    "    SELECT ebeln AS po_doc, ebelp AS po_item\n",
    "    FROM po_allocation\n",
    "    WHERE abeln IS NOT NULL AND aurel = 3\n",
    "),\n",
    "sto AS (\n",
    "    SELECT \n",
    "        a.po_doc AS sto_number,\n",
    "        a.po_item AS sto_item,\n",
    "        a.product_id,\n",
    "        a.dc_id,\n",
    "        c.spr_dc,\n",
    "        a.creation_date AS calday,\n",
    "        SUM(a.po_qty) AS po_qty\n",
    "    FROM {catalog_name}.udp_wcm_gold_vcm_dwh.f_po_item a\n",
    "    INNER JOIN {catalog_name}.udp_wcm_gold_vcm_dwh.d_product b ON a.product_id = b.product_id\n",
    "    INNER JOIN dc_site c ON a.dc_id = c.store_id\n",
    "    INNER JOIN time_range tr ON tr.calday = a.creation_date\n",
    "    LEFT JOIN flow_through ft ON a.po_doc = ft.po_doc AND a.po_item = ft.po_item\n",
    "    WHERE a.po_type = 'Stock Transp. Order' \n",
    "      AND a.compl_del IS NULL \n",
    "      AND ft.po_doc IS NULL\n",
    "    GROUP BY 1,2,3,4,5,6\n",
    "),\n",
    "outbound AS (\n",
    "    SELECT  \n",
    "        plant AS dc_id,\n",
    "        oi_ebeln AS sto_number,\n",
    "        oi_ebelp AS sto_item,\n",
    "        material AS product_id,\n",
    "        SUM(CASE WHEN dcindic = 'H' THEN 1 ELSE -1 END * ABS(cpquabu)) AS gi_qty\n",
    "    FROM {catalog_name}.udp_wcm_silver_sap_bw.sap_vcdmmim03 m\n",
    "    INNER JOIN dc_site st ON st.store_id = m.plant\n",
    "    INNER JOIN time_range tr ON tr.calday = m.calday\n",
    "    WHERE movetype IN ('641','642','351','352') \n",
    "      AND stocktype = 'A'\n",
    "      AND m.segment IN ('1100', '1500', '2000')\n",
    "    GROUP BY 1,2,3,4\n",
    "),\n",
    "pick_pack_sap AS (\n",
    "    SELECT \n",
    "        p.dc_id,\n",
    "        p.product_id,\n",
    "        p.sto_number,\n",
    "        SUM(p.deliver_qty_base) AS qty\n",
    "    FROM {catalog_name}.udp_wcm_gold_vcm_dwh.f_delivery_order p\n",
    "    INNER JOIN dc_site st ON st.store_id = p.dc_id\n",
    "    INNER JOIN time_range tr ON tr.calday = p.calday\n",
    "    WHERE st.spr_dc = 0 AND p.sts_pick = 'C'\n",
    "    GROUP BY 1,2,3\n",
    "),\n",
    "pick_pack AS (\n",
    "    SELECT \n",
    "        dc_id, product_id, sto_number, SUM(qty) AS qty\n",
    "    FROM (\n",
    "        SELECT dc_id, product_id, qty, sto_number FROM pick_pack_sap\n",
    "        UNION ALL\n",
    "        SELECT dc_id, sku AS product_id, qty, sto_number FROM pick_pack_spr\n",
    "    ) all_pp\n",
    "    GROUP BY 1,2,3\n",
    ")\n",
    "\n",
    "SELECT \n",
    "    sto.calday,\n",
    "    sto.dc_id,\n",
    "    sto.spr_dc,\n",
    "    sto.sto_number,\n",
    "    sto.sto_item,\n",
    "    sto.product_id,\n",
    "    sto.po_qty,\n",
    "    IFNULL(outbound.gi_qty, 0) AS gi_qty,\n",
    "    IFNULL(pp.qty, 0) AS qty_picked\n",
    "FROM sto\n",
    "LEFT JOIN outbound \n",
    "    ON sto.sto_number = outbound.sto_number\n",
    "   AND sto.sto_item = outbound.sto_item\n",
    "   AND sto.product_id = outbound.product_id\n",
    "LEFT JOIN pick_pack pp \n",
    "    ON pp.sto_number = sto.sto_number\n",
    "   AND pp.dc_id = sto.dc_id\n",
    "   AND pp.product_id = sto.product_id\n",
    "WHERE IFNULL(outbound.gi_qty, 0) = 0\"\"\")"
   ]
  }
 ],
 "metadata": {
  "application/vnd.databricks.v1+notebook": {
   "computePreferences": null,
   "dashboards": [],
   "environmentMetadata": {
    "base_environment": "",
    "environment_version": "2"
   },
   "inputWidgetPreferences": null,
   "language": "python",
   "notebookMetadata": {
    "mostRecentlyExecutedCommandWithImplicitDF": {
     "commandId": 4736130552740649,
     "dataframes": [
      "_sqldf"
     ]
    },
    "pythonIndentUnit": 4
   },
   "notebookName": "f_sto_pending_21d",
   "widgets": {
    "environment": {
     "currentValue": "DEV",
     "nuid": "2e0f6b2b-ebd3-44fb-8b4e-194cb65dd16c",
     "typedWidgetInfo": {
      "autoCreated": false,
      "defaultValue": "",
      "label": "",
      "name": "environment",
      "options": {
       "widgetDisplayType": "Text",
       "validationRegex": null
      },
      "parameterDataType": "String"
     },
     "widgetInfo": {
      "widgetType": "text",
      "defaultValue": "",
      "label": "",
      "name": "environment",
      "options": {
       "widgetType": "text",
       "autoCreated": null,
       "validationRegex": null
      }
     }
    },
    "proc_date": {
     "currentValue": "2025-06-28",
     "nuid": "b54c67c1-d961-4d60-9735-6d6ce06a8c33",
     "typedWidgetInfo": {
      "autoCreated": false,
      "defaultValue": "",
      "label": "",
      "name": "proc_date",
      "options": {
       "widgetDisplayType": "Text",
       "validationRegex": null
      },
      "parameterDataType": "String"
     },
     "widgetInfo": {
      "widgetType": "text",
      "defaultValue": "",
      "label": "",
      "name": "proc_date",
      "options": {
       "widgetType": "text",
       "autoCreated": null,
       "validationRegex": null
      }
     }
    }
   }
  },
  "language_info": {
   "name": "python"
  }
 },
 "nbformat": 4,
 "nbformat_minor": 0
}
