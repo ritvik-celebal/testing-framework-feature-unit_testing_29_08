{
 "cells": [
  {
   "cell_type": "code",
   "execution_count": 0,
   "metadata": {
    "application/vnd.databricks.v1+cell": {
     "cellMetadata": {
      "byteLimit": 2048000,
      "rowLimit": 10000
     },
     "inputWidgets": {},
     "nuid": "3579a284-5f22-4aa7-bf21-3b2f2c887590",
     "showTitle": false,
     "tableResultSettingsMap": {},
     "title": ""
    }
   },
   "outputs": [],
   "source": [
    "%run ../utils/common"
   ]
  },
  {
   "cell_type": "code",
   "execution_count": 0,
   "metadata": {
    "application/vnd.databricks.v1+cell": {
     "cellMetadata": {
      "byteLimit": 2048000,
      "rowLimit": 10000
     },
     "inputWidgets": {},
     "nuid": "0aadab9f-13f3-44b9-be3e-7a38603acc67",
     "showTitle": false,
     "tableResultSettingsMap": {},
     "title": ""
    }
   },
   "outputs": [],
   "source": [
    "dbutils.widgets.text(\"environment\", \"\", \"\")\n",
    "environment = dbutils.widgets.get(\"environment\")"
   ]
  },
  {
   "cell_type": "code",
   "execution_count": 0,
   "metadata": {
    "application/vnd.databricks.v1+cell": {
     "cellMetadata": {
      "byteLimit": 2048000,
      "rowLimit": 10000
     },
     "inputWidgets": {},
     "nuid": "5a91b855-d398-4e3a-a597-896bffc24913",
     "showTitle": false,
     "tableResultSettingsMap": {},
     "title": ""
    }
   },
   "outputs": [],
   "source": [
    "catalog_name = settings[environment]['catalog_name']"
   ]
  },
  {
   "cell_type": "code",
   "execution_count": 0,
   "metadata": {
    "application/vnd.databricks.v1+cell": {
     "cellMetadata": {
      "byteLimit": 2048000,
      "rowLimit": 10000
     },
     "inputWidgets": {},
     "nuid": "6e23052e-afae-4f46-a501-9949d4072e25",
     "showTitle": false,
     "tableResultSettingsMap": {},
     "title": ""
    }
   },
   "outputs": [],
   "source": [
    "spark.sql(f\"\"\"\n",
    "CREATE TABLE IF NOT EXISTS {catalog_name}.udp_wcm_gold_vcm_dwh.f_cogs_min\n",
    "(\n",
    "  calday DATE,\n",
    "  store_id STRING,\n",
    "  product_id STRING,\n",
    "  cogs FLOAT,\n",
    "  cogs_30d FLOAT,\n",
    "  cogs_60d FLOAT,\n",
    "  cogs_90d FLOAT,\n",
    "  cogs_180d FLOAT,\n",
    "  cogs_360d FLOAT,\n",
    "  cost_per_unit FLOAT\n",
    ")\n",
    "\"\"\")"
   ]
  },
  {
   "cell_type": "code",
   "execution_count": 0,
   "metadata": {
    "application/vnd.databricks.v1+cell": {
     "cellMetadata": {
      "byteLimit": 2048000,
      "rowLimit": 10000
     },
     "inputWidgets": {},
     "nuid": "1296c2e0-e4fd-43c4-bb41-8f39532ad6a5",
     "showTitle": false,
     "tableResultSettingsMap": {},
     "title": ""
    }
   },
   "outputs": [],
   "source": [
    "start_date = (datetime.now() - timedelta(days=365)).date()\n",
    "end_date = datetime.now().date()\n",
    "start_date = start_date.strftime('%Y-%m-%d')\n",
    "end_date = end_date.strftime('%Y-%m-%d')\n",
    "print(start_date, end_date)"
   ]
  },
  {
   "cell_type": "code",
   "execution_count": 0,
   "metadata": {
    "application/vnd.databricks.v1+cell": {
     "cellMetadata": {
      "byteLimit": 2048000,
      "rowLimit": 10000
     },
     "inputWidgets": {},
     "nuid": "f3b2201d-fb95-4d63-9760-a3e615936814",
     "showTitle": false,
     "tableResultSettingsMap": {},
     "title": ""
    }
   },
   "outputs": [],
   "source": [
    "spark.sql(f\"\"\"\n",
    "CREATE OR REPLACE TEMP VIEW temp_f_cogs_min AS\n",
    "WITH _90d AS (\n",
    "    SELECT \n",
    "        IFNULL(a.calday, b.calday) calday,\n",
    "        IFNULL(a.store_id, b.store_id) store_id, \n",
    "        IFNULL(a.product_id, b.product_id) product_id,\n",
    "        CASE\n",
    "        WHEN ROUND(b.cogs_qty_30d, 3) = 0 OR b.cogs_qty_30d IS NULL THEN 0\n",
    "        ELSE b.cogs_30d / ROUND(b.cogs_qty_30d, 3)\n",
    "        END AS cogs_30d,\n",
    "        CASE\n",
    "        WHEN ROUND(b.cogs_qty_60d, 3) = 0 OR b.cogs_qty_60d IS NULL THEN 0\n",
    "        ELSE b.cogs_60d / ROUND(b.cogs_qty_60d, 3)\n",
    "        END AS cogs_60d,       \n",
    "        CASE\n",
    "        WHEN ROUND(b.cogs_qty_90d, 3) = 0 OR b.cogs_qty_90d IS NULL THEN 0\n",
    "        ELSE b.cogs_90d / ROUND(b.cogs_qty_90d, 3)\n",
    "        END AS cogs_90d,\n",
    "        CASE\n",
    "        WHEN ROUND(a.quantity, 3) = 0 OR a.quantity IS NULL THEN 0\n",
    "        ELSE a.cost / ROUND(a.quantity, 3)\n",
    "        END AS cogs\n",
    "    FROM (SELECT * FROM {catalog_name}.udp_wcm_gold_vcm_dwh.f_cogs WHERE calday BETWEEN DATE('{start_date}') AND DATE('{end_date}')) a\n",
    "    FULL JOIN (SELECT * FROM {catalog_name}.udp_wcm_gold_vcm_dwh.f_cogs_90d WHERE calday BETWEEN DATE('{start_date}') AND DATE('{end_date}')) b\n",
    "        USING(calday, store_id, product_id)\n",
    "),\n",
    "main AS (\n",
    "    SELECT \n",
    "        IFNULL(a.calday, b.calday) calday,\n",
    "        IFNULL(a.store_id, b.store_id) store_id, \n",
    "        IFNULL(a.product_id, b.product_id) product_id,\n",
    "        IFNULL(a.cogs, 0) cogs,\n",
    "        IFNULL(a.cogs_30d, 0) cogs_30d,\n",
    "        IFNULL(a.cogs_60d, 0) cogs_60d,\n",
    "        IFNULL(a.cogs_90d, 0) cogs_90d,\n",
    "        CASE\n",
    "        WHEN ROUND(b.cogs_qty_180d, 3) = 0 OR b.cogs_qty_180d IS NULL THEN 0\n",
    "        ELSE b.cogs_180d / ROUND(b.cogs_qty_180d, 3)\n",
    "        END AS cogs_180d,\n",
    "        CASE\n",
    "        WHEN ROUND(b.cogs_qty_360d, 3) = 0 OR b.cogs_qty_360d IS NULL THEN 0\n",
    "        ELSE b.cogs_360d / ROUND(b.cogs_qty_360d, 3)\n",
    "        END AS cogs_360d\n",
    "    FROM _90d a\n",
    "    FULL JOIN (SELECT * FROM {catalog_name}.udp_wcm_gold_vcm_dwh.f_cogs_360d WHERE calday BETWEEN DATE('{start_date}') AND DATE('{end_date}')) b\n",
    "        USING(calday, store_id, product_id)\n",
    ")\n",
    "SELECT \n",
    "    calday, store_id, product_id,\n",
    "    cogs, cogs_30d, cogs_60d, cogs_90d, cogs_180d, cogs_360d,\n",
    "    (\n",
    "        SELECT MIN(val) \n",
    "        FROM (SELECT EXPLODE(ARRAY(cogs, cogs_30d, cogs_60d, cogs_90d, cogs_180d, cogs_360d)) AS val)\n",
    "        WHERE val > 0\n",
    "    ) AS cost_per_unit\n",
    "FROM main\n",
    "\"\"\")"
   ]
  },
  {
   "cell_type": "code",
   "execution_count": 0,
   "metadata": {
    "application/vnd.databricks.v1+cell": {
     "cellMetadata": {
      "byteLimit": 2048000,
      "implicitDf": true,
      "rowLimit": 10000
     },
     "inputWidgets": {},
     "nuid": "541b1d34-215f-4881-8ba2-02a4671d3f00",
     "showTitle": false,
     "tableResultSettingsMap": {},
     "title": ""
    }
   },
   "outputs": [],
   "source": [
    "# Get the calday list string from temp table\n",
    "calday_query = \"\"\"\n",
    "SELECT\n",
    "    CONCAT(\"'\", CONCAT_WS(\"','\", COLLECT_SET(CAST(TO_DATE(calday, 'yyyy-MM-dd') AS STRING))), \"'\") AS calday_in_str\n",
    "FROM temp_f_cogs_min\n",
    "\"\"\"\n",
    "\n",
    "calday_df = spark.sql(calday_query)\n",
    "calday_in_str = calday_df.collect()[0][0]\n",
    "\n",
    "# Only run DELETE if the string is non-empty\n",
    "if calday_in_str.strip(\"'\"):  # checks if there's any date inside the quotes\n",
    "    spark.sql(f\"\"\"\n",
    "    DELETE FROM {catalog_name}.udp_wcm_gold_vcm_dwh.f_cogs_min\n",
    "    WHERE calday IN ({calday_in_str})\n",
    "    \"\"\")\n",
    "else:\n",
    "    print(\"No valid CALDAYs found to delete.\")"
   ]
  },
  {
   "cell_type": "code",
   "execution_count": 0,
   "metadata": {
    "application/vnd.databricks.v1+cell": {
     "cellMetadata": {
      "byteLimit": 2048000,
      "rowLimit": 10000
     },
     "inputWidgets": {},
     "nuid": "b88b8487-e2d2-456f-ba83-b16b8dcc34a3",
     "showTitle": false,
     "tableResultSettingsMap": {},
     "title": ""
    }
   },
   "outputs": [],
   "source": [
    "# Insert rows from temp table into main table\n",
    "spark.sql(f\"\"\"\n",
    "INSERT INTO {catalog_name}.udp_wcm_gold_vcm_dwh.f_cogs_min \n",
    "(calday,\n",
    "store_id,\n",
    "product_id,\n",
    "cogs,\n",
    "cogs_30d,\n",
    "cogs_60d,\n",
    "cogs_90d,\n",
    "cogs_180d,\n",
    "cogs_360d,\n",
    "cost_per_unit)\n",
    "SELECT \n",
    "    calday,\n",
    "    store_id,\n",
    "    product_id,\n",
    "    cogs,\n",
    "    cogs_30d,\n",
    "    cogs_60d,\n",
    "    cogs_90d,\n",
    "    cogs_180d,\n",
    "    cogs_360d,\n",
    "    cost_per_unit\n",
    "FROM temp_f_cogs_min\n",
    "\"\"\")"
   ]
  },
  {
   "cell_type": "code",
   "execution_count": 0,
   "metadata": {
    "application/vnd.databricks.v1+cell": {
     "cellMetadata": {
      "byteLimit": 2048000,
      "rowLimit": 10000
     },
     "inputWidgets": {},
     "nuid": "64f6b962-2d36-4ce3-93df-7bc299faa670",
     "showTitle": false,
     "tableResultSettingsMap": {},
     "title": ""
    }
   },
   "outputs": [],
   "source": [
    "spark.sql(f\"DROP VIEW IF EXISTS temp_f_cogs_min\")"
   ]
  }
 ],
 "metadata": {
  "application/vnd.databricks.v1+notebook": {
   "computePreferences": null,
   "dashboards": [],
   "environmentMetadata": {
    "base_environment": "",
    "environment_version": "2"
   },
   "inputWidgetPreferences": null,
   "language": "python",
   "notebookMetadata": {
    "mostRecentlyExecutedCommandWithImplicitDF": {
     "commandId": -1,
     "dataframes": [
      "_sqldf"
     ]
    },
    "pythonIndentUnit": 4
   },
   "notebookName": "f_cogs_min",
   "widgets": {}
  },
  "language_info": {
   "name": "python"
  }
 },
 "nbformat": 4,
 "nbformat_minor": 0
}
