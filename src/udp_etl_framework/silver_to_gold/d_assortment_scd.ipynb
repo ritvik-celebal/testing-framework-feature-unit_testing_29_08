{
 "cells": [
  {
   "cell_type": "code",
   "execution_count": 0,
   "metadata": {
    "application/vnd.databricks.v1+cell": {
     "cellMetadata": {
      "byteLimit": 2048000,
      "rowLimit": 10000
     },
     "inputWidgets": {},
     "nuid": "27f42d4b-6fd9-47b3-93f9-7395e8e6762a",
     "showTitle": false,
     "tableResultSettingsMap": {},
     "title": ""
    }
   },
   "outputs": [],
   "source": [
    "%run ../utils/common"
   ]
  },
  {
   "cell_type": "code",
   "execution_count": 0,
   "metadata": {
    "application/vnd.databricks.v1+cell": {
     "cellMetadata": {
      "byteLimit": 2048000,
      "rowLimit": 10000
     },
     "inputWidgets": {},
     "nuid": "a5509b31-d173-49f6-8f2e-5d9d57188dbd",
     "showTitle": false,
     "tableResultSettingsMap": {},
     "title": ""
    }
   },
   "outputs": [],
   "source": [
    "dbutils.widgets.text(\"environment\", \"\", \"\")\n",
    "environment = dbutils.widgets.get(\"environment\")"
   ]
  },
  {
   "cell_type": "code",
   "execution_count": 0,
   "metadata": {
    "application/vnd.databricks.v1+cell": {
     "cellMetadata": {
      "byteLimit": 2048000,
      "rowLimit": 10000
     },
     "inputWidgets": {},
     "nuid": "b49738d2-3e1a-4061-94ca-9bf32579791f",
     "showTitle": false,
     "tableResultSettingsMap": {},
     "title": ""
    }
   },
   "outputs": [],
   "source": [
    "catalog_name = settings[environment]['catalog_name']"
   ]
  },
  {
   "cell_type": "code",
   "execution_count": 0,
   "metadata": {
    "application/vnd.databricks.v1+cell": {
     "cellMetadata": {
      "byteLimit": 2048000,
      "rowLimit": 10000
     },
     "inputWidgets": {},
     "nuid": "8f06f0af-d31f-4446-895f-da4a2749404c",
     "showTitle": false,
     "tableResultSettingsMap": {
      "0": {
       "dataGridStateBlob": "{\"version\":1,\"tableState\":{\"columnPinning\":{\"left\":[\"#row_number#\"],\"right\":[]},\"columnSizing\":{},\"columnVisibility\":{}},\"settings\":{\"columns\":{}},\"syncTimestamp\":1755332338672}",
       "filterBlob": null,
       "queryPlanFiltersBlob": null,
       "tableResultIndex": 0
      }
     },
     "title": ""
    }
   },
   "outputs": [],
   "source": [
    "spark.sql(f\"\"\"   \n",
    " CREATE OR REPLACE TABLE {catalog_name}.udp_wcm_gold_vcm_dwh.d_assortment_scd \n",
    " TBLPROPERTIES (\n",
    "  'DELTA.AUTOOPTIMIZE.OPTIMIZEWRITE' = 'TRUE',\n",
    "  'DELTA.AUTOOPTIMIZE.AUTOCOMPACT' = 'TRUE'\n",
    ")\n",
    "AS\n",
    "WITH pmat_plant AS (\n",
    "    SELECT DISTINCT \n",
    "        plant store_id, \n",
    "        mat_plant product_id \n",
    "    FROM {catalog_name}.udp_wcm_silver_sap_bw.sap_pmat_plant\n",
    "    WHERE is_delete = 0\n",
    "),\n",
    "temp_0 AS (\n",
    "    SELECT \n",
    "        DISTINCT \n",
    "        a.store_id,\n",
    "        b.product_id,\n",
    "        a.assortment,\n",
    "        c.assortment_class,\n",
    "        c.assortment_class_desc,\n",
    "        b.vendor_id,\n",
    "        a.is_delete store_delete,\n",
    "        a.block_by_site,\n",
    "        b.is_delete product_delete,\n",
    "        b.block_by_article,\n",
    "        IF(a.last_update_date > b.last_update_date,a.last_update_date,b.last_update_date) last_update_date,\n",
    "        IF(p.store_id IS NULL, 0, 1) block_by_store_product,\n",
    "        IF(c.status = 'ACTIVE', 0, 1) block_by_assortment,\n",
    "        IF(c.name LIKE '1%' OR c.assortment IN ('VM_NVL','VMP_NVLMB','VMP_NVLMN'), 0, 1) block_by_assortment_ooa, \n",
    "        IF(a.assortment NOT LIKE 'EX_%', 0, 1) block_by_ex,\n",
    "        IF(a.start_date > b.start_date, a.start_date, b.start_date) date_from,\n",
    "        IF(a.end_date > b.end_date, b.end_date, a.end_date) date_to\n",
    "    FROM {catalog_name}.udp_wcm_gold_vcm_dwh.d_assortment_store_scd a\n",
    "        INNER JOIN {catalog_name}.udp_wcm_gold_vcm_dwh.d_assortment_article_scd b \n",
    "            ON a.assortment = b.assortment \n",
    "            AND a.end_date >= b.start_date \n",
    "            AND a.start_date <= b.end_date \n",
    "        INNER JOIN {catalog_name}.udp_wcm_gold_vcm_dwh.d_assortment_desc c ON a.assortment = c.assortment\n",
    "        LEFT JOIN pmat_plant p ON a.store_id = p.store_id AND b.product_id = p.product_id\n",
    "),\n",
    "temp_1 AS (\n",
    "    SELECT \n",
    "        *, IFNULL(LEAD(date_from) OVER (PARTITION BY assortment, product_id, store_id ORDER BY last_update_date, date_from),'9999-12-31') AS date_from_to \n",
    "    FROM temp_0\n",
    "),\n",
    "temp_2 AS (\n",
    "    SELECT \n",
    "        a.assortment,\t\n",
    "        a.assortment_class,\n",
    "        a.assortment_class_desc,\n",
    "        a.product_id,\t\n",
    "        a.store_id,\n",
    "        a.vendor_id,\n",
    "        a.date_from, \n",
    "        a.last_update_date,\n",
    "        IF(a.date_from_to < a.date_to, a.date_from_to, a.date_to) date_to,\n",
    "        a.store_delete,\n",
    "        a.block_by_site,\n",
    "        a.product_delete,\n",
    "        a.block_by_article,\n",
    "        a.block_by_store_product,\n",
    "        a.block_by_assortment,\n",
    "        a.block_by_ex,\n",
    "        a.block_by_assortment_ooa\n",
    "    FROM temp_1 a \n",
    "),\n",
    "temp_3 AS (\n",
    "    SELECT *, \n",
    "        LEAD(date_from) OVER (PARTITION BY assortment, product_id, store_id ORDER BY last_update_date) date_from_to, \n",
    "        LAG(date_to,1) OVER (PARTITION BY assortment, product_id, store_id ORDER BY last_update_date) date_lag_to_to, \n",
    "        LAG(date_from,1) OVER (PARTITION BY assortment, product_id, store_id ORDER BY last_update_date) date_lag_from\n",
    "    FROM temp_2\n",
    "),\n",
    "temp_4 AS (\n",
    "    SELECT \n",
    "        a.assortment,\t\n",
    "        a.assortment_class,\n",
    "        a.assortment_class_desc,\n",
    "        a.product_id,\t\n",
    "        a.store_id,\n",
    "        a.vendor_id,\n",
    "        a.date_from , \n",
    "        a.last_update_date,\n",
    "        a.date_to,\n",
    "        a.store_delete,\n",
    "        a.block_by_site,\n",
    "        a.product_delete,\n",
    "        a.block_by_article,\n",
    "        a.block_by_store_product,\n",
    "        a.block_by_assortment,\n",
    "        a.block_by_ex,\n",
    "        a.block_by_assortment_ooa,\n",
    "        IF(date_from = date_lag_to_to, NULL, date_from) date_from_new,\n",
    "        IF(date_to = date_from_to, NULL, date_to) date_to_new\n",
    "    FROM temp_3 a \n",
    "),\n",
    "temp_5 AS (\n",
    "    SELECT \n",
    "        *, LEAD(date_to) OVER (PARTITION BY assortment, product_id, store_id ORDER BY last_update_date) date_to_to \n",
    "    FROM temp_4 \n",
    "    WHERE date_from_new IS NOT NULL OR date_to_new IS NOT NULL\n",
    ")\n",
    "SELECT \n",
    "    a.assortment,\t\n",
    "    a.assortment_class,\n",
    "    a.assortment_class_desc,\n",
    "    a.store_id,\t\n",
    "    a.vendor_id,\n",
    "    a.product_id,\t\n",
    "    a.date_from_new start_date,\n",
    "    IFNULL(a.date_to_new,date_to_to) end_date,\n",
    "    a.store_delete,\n",
    "    a.block_by_site,\n",
    "    a.product_delete,\n",
    "    a.block_by_article,\n",
    "    a.block_by_store_product,\n",
    "    a.block_by_assortment,\n",
    "    a.block_by_assortment_ooa,\n",
    "    a.block_by_ex,\n",
    "    IF(\n",
    "        a.store_delete = 0 \n",
    "        AND a.product_delete = 0 \n",
    "        AND a.block_by_site = 0 \n",
    "        AND\ta.block_by_article = 0 \n",
    "        AND\ta.block_by_assortment = 0 \n",
    "        AND a.block_by_store_product = 0,\n",
    "        'ACTIVE',\n",
    "        IF(\n",
    "            (block_by_assortment = 0 OR block_by_ex = 1),\n",
    "            'INACTIVE',\n",
    "            'CLEARSTOCK'\n",
    "        )\n",
    "    ) status,\n",
    "    IF(\n",
    "        a.store_delete = 0 \n",
    "        AND a.product_delete = 0 \n",
    "        AND a.block_by_site = 0 \n",
    "        AND\ta.block_by_article = 0 \n",
    "        AND\ta.block_by_assortment_ooa = 0 \n",
    "        AND a.block_by_store_product = 0,\n",
    "        'ACTIVE', 'INACTIVE'\n",
    "    ) status_ooa\n",
    "FROM temp_5 a\n",
    "WHERE date_from_new IS NOT NULL\n",
    "\"\"\")"
   ]
  }
 ],
 "metadata": {
  "application/vnd.databricks.v1+notebook": {
   "computePreferences": null,
   "dashboards": [],
   "environmentMetadata": {
    "base_environment": "",
    "environment_version": "2"
   },
   "inputWidgetPreferences": null,
   "language": "python",
   "notebookMetadata": {
    "mostRecentlyExecutedCommandWithImplicitDF": {
     "commandId": -1,
     "dataframes": [
      "_sqldf"
     ]
    },
    "pythonIndentUnit": 4
   },
   "notebookName": "d_assortment_scd",
   "widgets": {
    "environment": {
     "currentValue": "DEV",
     "nuid": "a6b3771c-0293-4f19-8c8e-d3265306f6f8",
     "typedWidgetInfo": {
      "autoCreated": false,
      "defaultValue": "",
      "label": "",
      "name": "environment",
      "options": {
       "widgetDisplayType": "Text",
       "validationRegex": null
      },
      "parameterDataType": "String"
     },
     "widgetInfo": {
      "widgetType": "text",
      "defaultValue": "",
      "label": "",
      "name": "environment",
      "options": {
       "widgetType": "text",
       "autoCreated": null,
       "validationRegex": null
      }
     }
    }
   }
  },
  "language_info": {
   "name": "python"
  }
 },
 "nbformat": 4,
 "nbformat_minor": 0
}
