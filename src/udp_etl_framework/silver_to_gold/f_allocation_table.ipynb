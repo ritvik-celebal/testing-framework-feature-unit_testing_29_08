{
 "cells": [
  {
   "cell_type": "code",
   "execution_count": 0,
   "metadata": {
    "application/vnd.databricks.v1+cell": {
     "cellMetadata": {
      "byteLimit": 2048000,
      "rowLimit": 10000
     },
     "inputWidgets": {},
     "nuid": "8bc58630-7cdb-4b2c-8278-d3dcd7ef6009",
     "showTitle": false,
     "tableResultSettingsMap": {},
     "title": ""
    }
   },
   "outputs": [],
   "source": [
    "%run ../utils/common"
   ]
  },
  {
   "cell_type": "code",
   "execution_count": 0,
   "metadata": {
    "application/vnd.databricks.v1+cell": {
     "cellMetadata": {
      "byteLimit": 2048000,
      "rowLimit": 10000
     },
     "inputWidgets": {},
     "nuid": "05377829-9222-4529-b5e2-0ca8cdc514f0",
     "showTitle": false,
     "tableResultSettingsMap": {},
     "title": ""
    }
   },
   "outputs": [],
   "source": [
    "dbutils.widgets.text(\"environment\", \"\", \"\")\n",
    "environment = dbutils.widgets.get(\"environment\")"
   ]
  },
  {
   "cell_type": "code",
   "execution_count": 0,
   "metadata": {
    "application/vnd.databricks.v1+cell": {
     "cellMetadata": {
      "byteLimit": 2048000,
      "rowLimit": 10000
     },
     "inputWidgets": {},
     "nuid": "96f0bc3c-8c11-4985-9ba8-4337fea9bd48",
     "showTitle": false,
     "tableResultSettingsMap": {},
     "title": ""
    }
   },
   "outputs": [],
   "source": [
    "catalog_name = settings[environment]['catalog_name']"
   ]
  },
  {
   "cell_type": "code",
   "execution_count": 0,
   "metadata": {
    "application/vnd.databricks.v1+cell": {
     "cellMetadata": {
      "byteLimit": 2048000,
      "rowLimit": 10000
     },
     "inputWidgets": {},
     "nuid": "b36f05f7-f0d6-40de-8397-38cc92f25bda",
     "showTitle": false,
     "tableResultSettingsMap": {},
     "title": ""
    }
   },
   "outputs": [],
   "source": [
    "spark.sql(f\"\"\"\n",
    "CREATE OR REPLACE TABLE {catalog_name}.udp_wcm_gold_vcm_dwh.f_allocation_table\n",
    "TBLPROPERTIES (\n",
    "  'DELTA.AUTOOPTIMIZE.OPTIMIZEWRITE' = 'TRUE',\n",
    "  'DELTA.AUTOOPTIMIZE.AUTOCOMPACT' = 'TRUE'\n",
    ")  \n",
    "AS\n",
    "WITH sft AS (\n",
    "    SELECT b.external_code po_doc, a.external_code sto_number\n",
    "    FROM (\n",
    "        SELECT external_code, po_code\n",
    "        FROM {catalog_name}.udp_wcm_silver_realtime.supra_d_sto_header_spr\n",
    "        WHERE client_code = 'WIN'\n",
    "        QUALIFY ROW_NUMBER() OVER(PARTITION BY sto_code ORDER BY proc_date DESC) = 1\n",
    "    ) a\n",
    "    LEFT JOIN (\n",
    "        SELECT po_code, external_code\n",
    "        FROM {catalog_name}.udp_wcm_silver_realtime.d_po_header_spr\n",
    "        QUALIFY ROW_NUMBER() OVER (PARTITION BY po_code ORDER BY proc_date DESC) = 1\n",
    "    ) b\n",
    "        USING(po_code)\n",
    "    WHERE a.po_code IS NOT NULL\n",
    "),\n",
    "main AS (\n",
    "    SELECT\n",
    "        IFNULL(a.allocation_table, b.allocation_table) allocation_table, \n",
    "        IFNULL(a.allocation_item, b.allocation_item) allocation_item,\n",
    "        'SAP' wms,\n",
    "        a.po_doc, a.po_item, b.po_doc sto_number, b.po_item sto_item\n",
    "    FROM (SELECT * FROM {catalog_name}.udp_wcm_gold_vcm_dwh.f_allocation_table_sap WHERE po_doc LIKE '49%') a\n",
    "    FULL JOIN (SELECT * FROM {catalog_name}.udp_wcm_gold_vcm_dwh.f_allocation_table_sap WHERE po_doc LIKE '43%') b\n",
    "        USING(allocation_table, allocation_item)\n",
    "    UNION ALL\n",
    "    SELECT\n",
    "        NULL allocation_table, NULL allocation_item, 'SFT' wms,\n",
    "        po_doc, NULL po_item, sto_number, NULL sto_item\n",
    "    FROM sft\n",
    ")\n",
    "SELECT *\n",
    "FROM main;\n",
    "\"\"\")"
   ]
  }
 ],
 "metadata": {
  "application/vnd.databricks.v1+notebook": {
   "computePreferences": null,
   "dashboards": [],
   "environmentMetadata": {
    "base_environment": "",
    "environment_version": "2"
   },
   "inputWidgetPreferences": null,
   "language": "python",
   "notebookMetadata": {
    "mostRecentlyExecutedCommandWithImplicitDF": {
     "commandId": 6350561386719586,
     "dataframes": [
      "_sqldf"
     ]
    },
    "pythonIndentUnit": 4
   },
   "notebookName": "f_allocation_table",
   "widgets": {
    "environment": {
     "currentValue": "DEV",
     "nuid": "6476aa38-a6f8-4af5-b3e1-68cce9578802",
     "typedWidgetInfo": {
      "autoCreated": false,
      "defaultValue": "",
      "label": "",
      "name": "environment",
      "options": {
       "widgetDisplayType": "Text",
       "validationRegex": null
      },
      "parameterDataType": "String"
     },
     "widgetInfo": {
      "widgetType": "text",
      "defaultValue": "",
      "label": "",
      "name": "environment",
      "options": {
       "widgetType": "text",
       "autoCreated": null,
       "validationRegex": null
      }
     }
    }
   }
  },
  "language_info": {
   "name": "python"
  }
 },
 "nbformat": 4,
 "nbformat_minor": 0
}
