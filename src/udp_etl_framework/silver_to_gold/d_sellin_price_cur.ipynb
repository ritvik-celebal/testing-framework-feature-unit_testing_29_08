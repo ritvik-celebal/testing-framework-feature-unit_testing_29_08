{
 "cells": [
  {
   "cell_type": "code",
   "execution_count": 0,
   "metadata": {
    "application/vnd.databricks.v1+cell": {
     "cellMetadata": {
      "byteLimit": 2048000,
      "rowLimit": 10000
     },
     "inputWidgets": {},
     "nuid": "b3edccd8-5935-45b3-a1c7-25d9e4d6eb4f",
     "showTitle": false,
     "tableResultSettingsMap": {},
     "title": ""
    }
   },
   "outputs": [],
   "source": [
    "%run ../utils/common"
   ]
  },
  {
   "cell_type": "code",
   "execution_count": 0,
   "metadata": {
    "application/vnd.databricks.v1+cell": {
     "cellMetadata": {
      "byteLimit": 2048000,
      "rowLimit": 10000
     },
     "inputWidgets": {},
     "nuid": "1d08d6eb-d5a9-4721-9a05-b8a40a2f41c2",
     "showTitle": false,
     "tableResultSettingsMap": {},
     "title": ""
    }
   },
   "outputs": [],
   "source": [
    "dbutils.widgets.text(\"environment\", \"\", \"\")\n",
    "environment = dbutils.widgets.get(\"environment\")"
   ]
  },
  {
   "cell_type": "code",
   "execution_count": 0,
   "metadata": {
    "application/vnd.databricks.v1+cell": {
     "cellMetadata": {
      "byteLimit": 2048000,
      "rowLimit": 10000
     },
     "inputWidgets": {},
     "nuid": "59e2f04c-8403-4627-ac4e-3d674caaeb5b",
     "showTitle": false,
     "tableResultSettingsMap": {},
     "title": ""
    }
   },
   "outputs": [],
   "source": [
    "catalog_name = settings[environment]['catalog_name']"
   ]
  },
  {
   "cell_type": "code",
   "execution_count": 0,
   "metadata": {
    "application/vnd.databricks.v1+cell": {
     "cellMetadata": {
      "byteLimit": 2048000,
      "rowLimit": 10000
     },
     "inputWidgets": {},
     "nuid": "a629b2b4-42a3-4da1-98ab-4aceb7aadcef",
     "showTitle": false,
     "tableResultSettingsMap": {},
     "title": ""
    }
   },
   "outputs": [],
   "source": [
    "spark.sql(f\"\"\"\n",
    "CREATE OR REPLACE TABLE {catalog_name}.udp_wcm_gold_vcm_dwh.d_sellin_price_cur\n",
    "TBLPROPERTIES (\n",
    "  'DELTA.AUTOOPTIMIZE.OPTIMIZEWRITE' = 'TRUE',\n",
    "  'DELTA.AUTOOPTIMIZE.AUTOCOMPACT' = 'TRUE'\n",
    ")\n",
    "AS\n",
    "WITH \n",
    "-- CONVERT NAME\n",
    "temp AS (\n",
    "    SELECT \n",
    "        IF(warehouse_code = '', NULL, warehouse_code) store_id,\n",
    "        IF(merchant_sku = '', NULL, LTRIM('0', merchant_sku)) product_id,\n",
    "        CAST(sell_price AS DOUBLE) sell_price,\n",
    "        price_from,\n",
    "        price_to,\n",
    "        IF(delete_indicator = '', NULL, UPPER(delete_indicator)) delete_indicator,\n",
    "        IF(old_merchant_sku = '', NULL, old_merchant_sku) old_product_id,\n",
    "        IF(barcode = '', NULL, barcode) barcode,\n",
    "        IF(condition_type = '', NULL, condition_type) condition_type,\n",
    "        IF(promo_md_ind = '', NULL, promo_md_ind) promo_md_ind,\n",
    "        IF(purchasing_group = '', NULL, purchasing_group) purchasing_group,\n",
    "        IF(supply_region = '', NULL, supply_region) supply_region,\n",
    "        IF(cond_table = '', NULL, LTRIM('0', cond_table)) cond_table,\n",
    "        IF(vendor = '', NULL, vendor) vendor,\n",
    "        IF(vendor_subrange = '', NULL, vendor_subrange) vendor_subrange,\n",
    "        IF(site_region = '', NULL, site_region) site_region,\n",
    "        IF(info_type = '', NULL, info_type) info_type,\n",
    "        IF(purchasing_org = '', NULL, purchasing_org) purchasing_org,\n",
    "        IF(purchasing_unit = '', NULL, UPPER(purchasing_unit)) purchasing_unit,\n",
    "        IF(customer = '', NULL, customer) customer,\n",
    "        IF(customer_group = '', NULL, customer_group) customer_group,\n",
    "        IF(LTRIM('0', promotion) = '', NULL, promotion) promotion,\n",
    "        proc_date\n",
    "    FROM {catalog_name}.udp_wcm_silver_sap_erp.purchasing_price\n",
    "    WHERE proc_date >= '2024-01-15' -- CUTOFF TIME TO RESEND ALL DATA\n",
    "),\n",
    "-- GEN HASH KEY, VALUE & ID\n",
    "temp1 AS (\n",
    "    SELECT \n",
    "        farm_fingerprint(\n",
    "            CONCAT(\n",
    "                IFNULL(CAST(store_id AS STRING),''),\n",
    "                IFNULL(CAST(a.product_id AS STRING),''),\n",
    "                IFNULL(CAST(old_product_id AS STRING),''),\n",
    "                IFNULL(CAST(barcode AS STRING),''),\n",
    "                IFNULL(CAST(condition_type AS STRING),''),\n",
    "                IFNULL(CAST(promo_md_ind AS STRING),''),\n",
    "                IFNULL(CAST(purchasing_group AS STRING),''),\n",
    "                IFNULL(CAST(supply_region AS STRING),''),\n",
    "                IFNULL(CAST(cond_table AS STRING),''),\n",
    "                IFNULL(CAST(vendor AS STRING),''),\n",
    "                IFNULL(CAST(vendor_subrange AS STRING),''),\n",
    "                IFNULL(CAST(site_region AS STRING),''),\n",
    "                IFNULL(CAST(info_type AS STRING),''),\n",
    "                IFNULL(CAST(purchasing_org AS STRING),''),\n",
    "                IFNULL(CAST(purchasing_unit AS STRING),''),\n",
    "                IFNULL(CAST(customer AS STRING),''),\n",
    "                IFNULL(CAST(customer_group AS STRING),''),\n",
    "                IFNULL(CAST(promotion AS STRING),''),\n",
    "                IFNULL(CAST(price_from AS STRING),''),\n",
    "                IFNULL(CAST(price_to AS STRING),'')\n",
    "            )\n",
    "        ) hash_value,\n",
    "        CONCAT(\n",
    "            IFNULL(CAST(store_id AS STRING),''),\n",
    "            IFNULL(CAST(a.product_id AS STRING),''),\n",
    "            IFNULL(CAST(old_product_id AS STRING),''),\n",
    "            IFNULL(CAST(barcode AS STRING),''),\n",
    "            IFNULL(CAST(condition_type AS STRING),''),\n",
    "            IFNULL(CAST(promo_md_ind AS STRING),''),\n",
    "            IFNULL(CAST(purchasing_group AS STRING),''),\n",
    "            IFNULL(CAST(supply_region AS STRING),''),\n",
    "            IFNULL(CAST(cond_table AS STRING),''),\n",
    "            IFNULL(CAST(vendor AS STRING),''),\n",
    "            IFNULL(CAST(vendor_subrange AS STRING),''),\n",
    "            IFNULL(CAST(site_region AS STRING),''),\n",
    "            IFNULL(CAST(info_type AS STRING),''),\n",
    "            IFNULL(CAST(purchasing_org AS STRING),''),\n",
    "            IFNULL(CAST(purchasing_unit AS STRING),''),\n",
    "            IFNULL(CAST(customer AS STRING),''),\n",
    "            IFNULL(CAST(customer_group AS STRING),''),\n",
    "            IFNULL(CAST(promotion AS STRING),'')\n",
    "        ) hash_key,\n",
    "        CONCAT(\n",
    "            IFNULL(CAST(store_id AS STRING),''),\n",
    "            IFNULL(CAST(a.product_id AS STRING),''),\n",
    "            IFNULL(CAST(old_product_id AS STRING),''),\n",
    "            IFNULL(CAST(barcode AS STRING),''),\n",
    "            IFNULL(CAST(condition_type AS STRING),''),\n",
    "            IFNULL(CAST(promo_md_ind AS STRING),''),\n",
    "            IFNULL(CAST(purchasing_group AS STRING),''),\n",
    "            IFNULL(CAST(supply_region AS STRING),''),\n",
    "            IFNULL(CAST(cond_table AS STRING),''),\n",
    "            IFNULL(CAST(vendor AS STRING),''),\n",
    "            IFNULL(CAST(vendor_subrange AS STRING),''),\n",
    "            IFNULL(CAST(site_region AS STRING),''),\n",
    "            IFNULL(CAST(info_type AS STRING),''),\n",
    "            IFNULL(CAST(purchasing_org AS STRING),''),\n",
    "            IFNULL(CAST(purchasing_unit AS STRING),''),\n",
    "            IFNULL(CAST(customer AS STRING),''),\n",
    "            IFNULL(CAST(customer_group AS STRING),'')\n",
    "        ) hash_short_key,\n",
    "        farm_fingerprint(\n",
    "            CONCAT(\n",
    "                IFNULL(CAST(store_id AS STRING),''),\n",
    "                IFNULL(CAST(a.product_id AS STRING),''),\n",
    "                IFNULL(CAST(old_product_id AS STRING),''),\n",
    "                IFNULL(CAST(barcode AS STRING),''),\n",
    "                IFNULL(CAST(condition_type AS STRING),''),\n",
    "                IFNULL(CAST(promo_md_ind AS STRING),''),\n",
    "                IFNULL(CAST(purchasing_group AS STRING),''),\n",
    "                IFNULL(CAST(supply_region AS STRING),''),\n",
    "                IFNULL(CAST(cond_table AS STRING),''),\n",
    "                IFNULL(CAST(vendor AS STRING),''),\n",
    "                IFNULL(CAST(vendor_subrange AS STRING),''),\n",
    "                IFNULL(CAST(site_region AS STRING),''),\n",
    "                IFNULL(CAST(info_type AS STRING),''),\n",
    "                IFNULL(CAST(purchasing_org AS STRING),''),\n",
    "                IFNULL(CAST(purchasing_unit AS STRING),''),\n",
    "                IFNULL(CAST(customer AS STRING),''),\n",
    "                IFNULL(CAST(customer_group AS STRING),''),\n",
    "                IFNULL(CAST(promotion AS STRING),''),\n",
    "                IFNULL(CAST(price_from AS STRING),''),\n",
    "                IFNULL(CAST(price_to AS STRING),''),\n",
    "                IFNULL(CAST(sell_price AS STRING),'')\n",
    "                )\n",
    "            ) hash_id, \n",
    "        a.*\n",
    "    FROM temp a\n",
    "),\n",
    "-- REMOVE DUPLICATED\n",
    "temp2 AS (\n",
    "    SELECT *\n",
    "    FROM temp1\n",
    "    QUALIFY ROW_NUMBER() OVER (PARTITION BY hash_id ORDER BY proc_date DESC) = 1\n",
    "),\n",
    "-- GET LATEST INFO\n",
    "temp3 AS (\n",
    "    SELECT *\n",
    "    FROM (\n",
    "        SELECT *\n",
    "        FROM temp2\n",
    "        QUALIFY RANK() OVER (PARTITION BY hash_key ORDER BY (proc_date + INTERVAL 7 HOURS) DESC) = 1\n",
    "    )\n",
    "    WHERE DATE(CURRENT_TIMESTAMP() + INTERVAL 7 HOURS) BETWEEN price_from AND price_to\n",
    "),\n",
    "-- CALCULATE TIME DURATION\n",
    "-- REMOVE DELETED RECORDS\n",
    "temp4 AS (\n",
    "    SELECT \n",
    "        * EXCEPT(delete_indicator),\n",
    "        LEAD(price_from) OVER (PARTITION BY hash_key ORDER BY price_from ASC, price_to ASC, proc_date ASC) price_from_lead\n",
    "    FROM temp3\n",
    "    WHERE delete_indicator IS NULL\n",
    "),\n",
    "-- ENDING EXPIRED PRICE BY HASH_KEY\n",
    "temp5 AS (\n",
    "    SELECT \n",
    "        * EXCEPT(price_to, price_from_lead),\n",
    "LEAST(price_to, IFNULL(DATE_SUB(price_from_lead, 1), DATE '9999-12-31')) price_to\n",
    "    FROM temp4\n",
    "    WHERE price_from <> IFNULL(price_from_lead, '9999-12-31')\n",
    "),\n",
    "-- ENDING EXPIRED PRICE BY HASH_SHORT_KEY\n",
    "temp6 AS (\n",
    "    SELECT \n",
    "        *,\n",
    "        LEAD(price_from) OVER (PARTITION BY hash_short_key ORDER BY price_from ASC, price_to ASC, proc_date ASC) price_from_lead\n",
    "    FROM temp5\n",
    "),\n",
    "main AS (\n",
    "    SELECT \n",
    "        * EXCEPT(price_to),\n",
    "        LEAST(price_to, IFNULL(DATE_SUB(price_from_lead, 1), DATE '9999-12-31')) price_to\n",
    "    FROM temp6\n",
    "    WHERE price_from <> IFNULL(price_from_lead, '9999-12-31')\n",
    ")\n",
    "SELECT \n",
    "    hash_key,\n",
    "    hash_short_key,\n",
    "    hash_value,\n",
    "    hash_id,\n",
    "    store_id,\n",
    "    product_id,\n",
    "    sell_price,\n",
    "    price_from,\n",
    "    price_to,\n",
    "    old_product_id,\n",
    "    barcode,\n",
    "    condition_type,\n",
    "    promo_md_ind,\n",
    "    purchasing_group,\n",
    "    supply_region,\n",
    "    cond_table,\n",
    "    vendor,\n",
    "    vendor_subrange,\n",
    "    site_region,\n",
    "    info_type,\n",
    "    purchasing_org,\n",
    "    purchasing_unit,\n",
    "    customer,\n",
    "    customer_group,\n",
    "    promotion,\n",
    "    proc_date\n",
    "FROM main\n",
    "WHERE DATE(CURRENT_TIMESTAMP() + INTERVAL 7 HOURS) BETWEEN price_from AND price_to;\n",
    "\"\"\")"
   ]
  }
 ],
 "metadata": {
  "application/vnd.databricks.v1+notebook": {
   "computePreferences": null,
   "dashboards": [],
   "environmentMetadata": {
    "base_environment": "",
    "environment_version": "2"
   },
   "inputWidgetPreferences": null,
   "language": "python",
   "notebookMetadata": {
    "mostRecentlyExecutedCommandWithImplicitDF": {
     "commandId": 6673494183698626,
     "dataframes": [
      "_sqldf"
     ]
    },
    "pythonIndentUnit": 4
   },
   "notebookName": "d_sellin_price_cur",
   "widgets": {
    "environment": {
     "currentValue": "DEV",
     "nuid": "17cdd409-bec7-4179-ae6e-f961a878f995",
     "typedWidgetInfo": {
      "autoCreated": false,
      "defaultValue": "",
      "label": "",
      "name": "environment",
      "options": {
       "widgetDisplayType": "Text",
       "validationRegex": null
      },
      "parameterDataType": "String"
     },
     "widgetInfo": {
      "widgetType": "text",
      "defaultValue": "",
      "label": "",
      "name": "environment",
      "options": {
       "widgetType": "text",
       "autoCreated": false,
       "validationRegex": null
      }
     }
    }
   }
  },
  "language_info": {
   "name": "python"
  }
 },
 "nbformat": 4,
 "nbformat_minor": 0
}
