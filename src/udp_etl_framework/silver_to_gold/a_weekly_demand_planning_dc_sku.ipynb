{
 "cells": [
  {
   "cell_type": "code",
   "execution_count": 0,
   "metadata": {
    "application/vnd.databricks.v1+cell": {
     "cellMetadata": {
      "byteLimit": 2048000,
      "rowLimit": 10000
     },
     "inputWidgets": {},
     "nuid": "c0fe077a-1f96-4533-9390-f0bbc5466f69",
     "showTitle": false,
     "tableResultSettingsMap": {},
     "title": ""
    }
   },
   "outputs": [],
   "source": [
    "%run ../utils/common"
   ]
  },
  {
   "cell_type": "code",
   "execution_count": 0,
   "metadata": {
    "application/vnd.databricks.v1+cell": {
     "cellMetadata": {
      "byteLimit": 2048000,
      "rowLimit": 10000
     },
     "inputWidgets": {},
     "nuid": "60665ce6-ee89-4ea5-b800-a9e7f18c57e8",
     "showTitle": false,
     "tableResultSettingsMap": {},
     "title": ""
    }
   },
   "outputs": [],
   "source": [
    "dbutils.widgets.text(\"environment\", \"\", \"\")\n",
    "environment = dbutils.widgets.get(\"environment\")"
   ]
  },
  {
   "cell_type": "code",
   "execution_count": 0,
   "metadata": {
    "application/vnd.databricks.v1+cell": {
     "cellMetadata": {
      "byteLimit": 2048000,
      "rowLimit": 10000
     },
     "inputWidgets": {},
     "nuid": "0efcc442-667a-4304-8b15-02696d95e121",
     "showTitle": false,
     "tableResultSettingsMap": {},
     "title": ""
    }
   },
   "outputs": [],
   "source": [
    "catalog_name = settings[environment]['catalog_name']"
   ]
  },
  {
   "cell_type": "code",
   "execution_count": 0,
   "metadata": {
    "application/vnd.databricks.v1+cell": {
     "cellMetadata": {
      "byteLimit": 2048000,
      "rowLimit": 10000
     },
     "inputWidgets": {},
     "nuid": "6fb32a91-d76f-42a8-b4da-4f31bf7ad745",
     "showTitle": false,
     "tableResultSettingsMap": {},
     "title": ""
    }
   },
   "outputs": [],
   "source": [
    "spark.sql(f\"\"\"\n",
    "CREATE OR REPLACE TABLE {catalog_name}.udp_wcm_gold_db_winare_nonfresh_dc.a_weekly_demand_planning_dc_sku \n",
    "AS\n",
    "WITH _demand AS (\n",
    "    SELECT \n",
    "        calday, dc_id, product_id, assortment_type,\n",
    "        COUNT(DISTINCT IF(mdq > 0, store_id, NULL)) cnt_store_active,\n",
    "        COUNT(DISTINCT IF(block_reason IS NOT NULL, store_id, NULL)) cnt_store_block_kstk,\n",
    "        concat_ws(',', collect_set(block_reason)) block_reason_kstk,\n",
    "        COUNT(DISTINCT IF(is_problem_article = 'YES', store_id, NULL)) cnt_store_problem_article,\n",
    "        COUNT(DISTINCT IF(bonus_buy_id IS NOT NULL, store_id, NULL)) cnt_store_block_promotion,\n",
    "        SUM(IF(is_block = 1, 0, demand_store)) demand_store_with_block,\n",
    "        SUM(demand_store) demand_store_without_block\n",
    "    FROM {catalog_name}.udp_wcm_gold_db_winare_nonfresh_dc.a_weekly_demand_planning_store_sku\n",
    "    GROUP BY 1,2,3,4\n",
    "),\n",
    "_dr AS (\n",
    "    SELECT \n",
    "        calday + 1 calday, dc_id, product_id,\n",
    "        SUM(dr_internal) / NULLIF(SUM(dr_count_internal), 0) AS dr_internal,\n",
    "        --SAFE_DIVIDE(SUM(adj_dr_internal), SUM(dr_count_internal)) adj_dr_internal\n",
    "        SUM(adj_dr_internal) / NULLIF(SUM(dr_count_internal), 0) AS adj_dr_internal\n",
    "\n",
    "    FROM {catalog_name}.udp_wcm_gold_vcm_db_inventory.a_dc_store_nonfresh_daily\n",
    "    GROUP BY 1,2,3\n",
    "),\n",
    "main AS (\n",
    "    SELECT a.*, b.dr_internal, b.adj_dr_internal\n",
    "    FROM _demand a\n",
    "    LEFT JOIN _dr b\n",
    "        USING(calday, dc_id, product_id)\n",
    ")\n",
    "SELECT *\n",
    "FROM main;\n",
    "\"\"\")"
   ]
  }
 ],
 "metadata": {
  "application/vnd.databricks.v1+notebook": {
   "computePreferences": null,
   "dashboards": [],
   "environmentMetadata": {
    "base_environment": "",
    "environment_version": "2"
   },
   "inputWidgetPreferences": null,
   "language": "python",
   "notebookMetadata": {
    "mostRecentlyExecutedCommandWithImplicitDF": {
     "commandId": 8548190384268150,
     "dataframes": [
      "_sqldf"
     ]
    },
    "pythonIndentUnit": 4
   },
   "notebookName": "a_weekly_demand_planning_dc_sku",
   "widgets": {
    "environment": {
     "currentValue": "DEV",
     "nuid": "ed553df7-d623-489e-ac34-315b9f2d7362",
     "typedWidgetInfo": {
      "autoCreated": false,
      "defaultValue": "",
      "label": "",
      "name": "environment",
      "options": {
       "widgetDisplayType": "Text",
       "validationRegex": null
      },
      "parameterDataType": "String"
     },
     "widgetInfo": {
      "widgetType": "text",
      "defaultValue": "",
      "label": "",
      "name": "environment",
      "options": {
       "widgetType": "text",
       "autoCreated": null,
       "validationRegex": null
      }
     }
    }
   }
  },
  "language_info": {
   "name": "python"
  }
 },
 "nbformat": 4,
 "nbformat_minor": 0
}
