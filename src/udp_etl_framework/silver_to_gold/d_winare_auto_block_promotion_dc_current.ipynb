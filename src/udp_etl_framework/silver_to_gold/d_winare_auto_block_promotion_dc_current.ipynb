{
 "cells": [
  {
   "cell_type": "code",
   "execution_count": 0,
   "metadata": {
    "application/vnd.databricks.v1+cell": {
     "cellMetadata": {
      "byteLimit": 2048000,
      "rowLimit": 10000
     },
     "inputWidgets": {},
     "nuid": "b36767e1-479d-4a49-aeca-7f26707f00ba",
     "showTitle": false,
     "tableResultSettingsMap": {},
     "title": ""
    }
   },
   "outputs": [],
   "source": [
    "%run ../utils/common"
   ]
  },
  {
   "cell_type": "code",
   "execution_count": 0,
   "metadata": {
    "application/vnd.databricks.v1+cell": {
     "cellMetadata": {
      "byteLimit": 2048000,
      "rowLimit": 10000
     },
     "inputWidgets": {},
     "nuid": "df2aec8b-917b-4798-8fc4-56343a25c827",
     "showTitle": false,
     "tableResultSettingsMap": {},
     "title": ""
    }
   },
   "outputs": [],
   "source": [
    "\n",
    "dbutils.widgets.text(\"environment\", \"\", \"\")\n",
    "environment = dbutils.widgets.get(\"environment\")"
   ]
  },
  {
   "cell_type": "code",
   "execution_count": 0,
   "metadata": {
    "application/vnd.databricks.v1+cell": {
     "cellMetadata": {
      "byteLimit": 2048000,
      "rowLimit": 10000
     },
     "inputWidgets": {},
     "nuid": "1b5fd06c-44e3-43cc-976c-8ae8e2509f63",
     "showTitle": false,
     "tableResultSettingsMap": {},
     "title": ""
    }
   },
   "outputs": [],
   "source": [
    "catalog_name = settings[environment]['catalog_name']"
   ]
  },
  {
   "cell_type": "code",
   "execution_count": 0,
   "metadata": {
    "application/vnd.databricks.v1+cell": {
     "cellMetadata": {
      "byteLimit": 2048000,
      "rowLimit": 10000
     },
     "inputWidgets": {},
     "nuid": "476ffa79-0195-4819-bd80-345c6bce55b9",
     "showTitle": false,
     "tableResultSettingsMap": {},
     "title": ""
    }
   },
   "outputs": [],
   "source": [
    "spark.sql(f\"\"\"\n",
    "CREATE OR REPLACE TABLE {catalog_name}.udp_wcm_gold_db_winare_nonfresh_dc.d_winare_auto_block_promotion_dc_current\n",
    "TBLPROPERTIES (\n",
    "  'DELTA.AUTOOPTIMIZE.OPTIMIZEWRITE' = 'TRUE',\n",
    "  'DELTA.AUTOOPTIMIZE.AUTOCOMPACT' = 'TRUE'\n",
    ")\n",
    "AS\n",
    "\n",
    "WITH free_goods AS (\n",
    "    SELECT \n",
    "        a.*,\n",
    "        CASE \n",
    "            WHEN TRIM(IFNULL(a.store_id, '') || IFNULL(a.supply_region, '')) <> '' \n",
    "                THEN TRIM(IFNULL(a.store_id, '') || IFNULL(a.supply_region, '')) \n",
    "            ELSE '1401' \n",
    "        END AS varkey\n",
    "    FROM {catalog_name}.udp_wcm_gold_vcm_dwh.d_free_goods_promotion a\n",
    "    WHERE (\n",
    "        (a.valid_from - 7 <= DATE(CURRENT_TIMESTAMP() + INTERVAL 7 HOURS)\n",
    "         AND DATE(CURRENT_TIMESTAMP() + INTERVAL 7 HOURS) <= a.valid_from + 7\n",
    "         AND DATEDIFF(valid_to, valid_from) + 1 >= 7)\n",
    "        OR\n",
    "        (a.valid_from - 7 <= DATE(CURRENT_TIMESTAMP() + INTERVAL 7 HOURS)\n",
    "         AND DATE(CURRENT_TIMESTAMP() + INTERVAL 7 HOURS) <= a.valid_from + 3\n",
    "         AND DATEDIFF(valid_to, valid_from) + 1 < 7)\n",
    "    )\n",
    "),\n",
    "\n",
    "free_goods_by_site AS (\n",
    "    SELECT a.*\n",
    "    FROM (\n",
    "        SELECT\n",
    "            COALESCE(a.store_id, st2.store_id, st1.store_id) AS dc_id,\n",
    "            a.article AS product_id,\n",
    "            a.vendor_id,\n",
    "            a.valid_from,\n",
    "            a.valid_to,\n",
    "            a.promo_id,\n",
    "            a.promo_theme,\n",
    "            a.varkey\n",
    "        FROM free_goods a\n",
    "        LEFT JOIN {catalog_name}.udp_wcm_gold_vcm_dwh.d_store st1 ON a.varkey = '1401'\n",
    "        LEFT JOIN {catalog_name}.udp_wcm_gold_vcm_dwh.d_store st2 ON a.varkey = st2.supply_region\n",
    "    ) a\n",
    "    INNER JOIN (\n",
    "        SELECT DISTINCT dc_id\n",
    "        FROM {catalog_name}.udp_wcm_gold_db_winare_nonfresh_dc.d_cfg_winare_dc_golive\n",
    "    ) b ON a.dc_id = b.dc_id\n",
    "),\n",
    "\n",
    "promotion_price AS (\n",
    "    SELECT *,\n",
    "        CASE \n",
    "            WHEN TRIM(IFNULL(a.store_id, '') || IFNULL(a.supply_region, '')) <> '' \n",
    "                THEN TRIM(IFNULL(a.store_id, '') || IFNULL(a.supply_region, '')) \n",
    "            ELSE '1401' \n",
    "        END AS varkey\n",
    "    FROM {catalog_name}.udp_wcm_gold_db_winare_nonfresh_dc.d_sellin_price_promotion_block a\n",
    "),\n",
    "\n",
    "promotion_price_by_site AS (\n",
    "    SELECT a.*\n",
    "    FROM (\n",
    "        SELECT\n",
    "            COALESCE(a.store_id, st2.store_id, st1.store_id) AS dc_id,\n",
    "            a.product_id,\n",
    "            LTRIM('0',a.vendor) AS vendor_id,\n",
    "            a.price_from AS valid_from,\n",
    "            a.price_to AS valid_to,\n",
    "            a.promotion AS promo_id,\n",
    "            a.promo_theme,\n",
    "            a.varkey\n",
    "        FROM promotion_price a\n",
    "        LEFT JOIN {catalog_name}.udp_wcm_gold_vcm_dwh.d_store st1 ON a.varkey = '1401'\n",
    "        LEFT JOIN {catalog_name}.udp_wcm_gold_vcm_dwh.d_store st2 ON a.varkey = st2.supply_region\n",
    "    ) a\n",
    "    INNER JOIN (\n",
    "        SELECT DISTINCT dc_id\n",
    "        FROM {catalog_name}.udp_wcm_gold_db_winare_nonfresh_dc.d_cfg_winare_dc_golive\n",
    "    ) b ON a.dc_id = b.dc_id\n",
    ")\n",
    "\n",
    "SELECT *, 'FREE_GOOD' AS reason\n",
    "FROM free_goods_by_site\n",
    "\n",
    "UNION ALL\n",
    "\n",
    "SELECT *, \n",
    "    CASE \n",
    "        WHEN LEFT(promo_theme, 1) = 'B' THEN 'PROMO_PRICE_BOKEM' \n",
    "        ELSE 'PROMO_PRICE' \n",
    "    END AS reason\n",
    "FROM promotion_price_by_site\n",
    "\"\"\")\n"
   ]
  }
 ],
 "metadata": {
  "application/vnd.databricks.v1+notebook": {
   "computePreferences": null,
   "dashboards": [],
   "environmentMetadata": {
    "base_environment": "",
    "environment_version": "2"
   },
   "inputWidgetPreferences": null,
   "language": "python",
   "notebookMetadata": {
    "mostRecentlyExecutedCommandWithImplicitDF": {
     "commandId": 4736130552740649,
     "dataframes": [
      "_sqldf"
     ]
    },
    "pythonIndentUnit": 4
   },
   "notebookName": "d_winare_auto_block_promotion_dc_current",
   "widgets": {
    "environment": {
     "currentValue": "DEV",
     "nuid": "2e0f6b2b-ebd3-44fb-8b4e-194cb65dd16c",
     "typedWidgetInfo": {
      "autoCreated": false,
      "defaultValue": "",
      "label": "",
      "name": "environment",
      "options": {
       "widgetDisplayType": "Text",
       "validationRegex": null
      },
      "parameterDataType": "String"
     },
     "widgetInfo": {
      "widgetType": "text",
      "defaultValue": "",
      "label": "",
      "name": "environment",
      "options": {
       "widgetType": "text",
       "autoCreated": null,
       "validationRegex": null
      }
     }
    },
    "proc_date": {
     "currentValue": "2025-06-28",
     "nuid": "b1d84b10-c154-4854-9f42-a04bfe598bde",
     "typedWidgetInfo": {
      "autoCreated": false,
      "defaultValue": "2025-06-28",
      "label": "",
      "name": "proc_date",
      "options": {
       "widgetDisplayType": "Text",
       "validationRegex": null
      },
      "parameterDataType": "String"
     },
     "widgetInfo": {
      "widgetType": "text",
      "defaultValue": "2025-06-28",
      "label": "",
      "name": "proc_date",
      "options": {
       "widgetType": "text",
       "autoCreated": false,
       "validationRegex": null
      }
     }
    }
   }
  },
  "language_info": {
   "name": "python"
  }
 },
 "nbformat": 4,
 "nbformat_minor": 0
}
