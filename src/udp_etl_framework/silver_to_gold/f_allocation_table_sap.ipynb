{
 "cells": [
  {
   "cell_type": "code",
   "execution_count": 0,
   "metadata": {
    "application/vnd.databricks.v1+cell": {
     "cellMetadata": {
      "byteLimit": 2048000,
      "rowLimit": 10000
     },
     "inputWidgets": {},
     "nuid": "84d889b4-b312-468f-a2fe-29f2c756b0bb",
     "showTitle": false,
     "tableResultSettingsMap": {},
     "title": ""
    }
   },
   "outputs": [],
   "source": [
    "%run ../utils/common"
   ]
  },
  {
   "cell_type": "code",
   "execution_count": 0,
   "metadata": {
    "application/vnd.databricks.v1+cell": {
     "cellMetadata": {
      "byteLimit": 2048000,
      "rowLimit": 10000
     },
     "inputWidgets": {},
     "nuid": "4e3c6285-1925-4fd6-a9f4-7d83a771f96a",
     "showTitle": false,
     "tableResultSettingsMap": {},
     "title": ""
    }
   },
   "outputs": [],
   "source": [
    "dbutils.widgets.text(\"environment\", \"\", \"\")\n",
    "environment = dbutils.widgets.get(\"environment\")"
   ]
  },
  {
   "cell_type": "code",
   "execution_count": 0,
   "metadata": {
    "application/vnd.databricks.v1+cell": {
     "cellMetadata": {
      "byteLimit": 2048000,
      "rowLimit": 10000
     },
     "inputWidgets": {},
     "nuid": "2ae473ab-9215-4f99-8fd5-85f2d20e86f2",
     "showTitle": false,
     "tableResultSettingsMap": {},
     "title": ""
    }
   },
   "outputs": [],
   "source": [
    "catalog_name = settings[environment]['catalog_name']"
   ]
  },
  {
   "cell_type": "code",
   "execution_count": 0,
   "metadata": {
    "application/vnd.databricks.v1+cell": {
     "cellMetadata": {
      "byteLimit": 2048000,
      "rowLimit": 10000
     },
     "inputWidgets": {},
     "nuid": "699b5ed3-dea1-4918-ae14-7092c5547ccb",
     "showTitle": false,
     "tableResultSettingsMap": {},
     "title": ""
    }
   },
   "outputs": [],
   "source": [
    "spark.sql(f\"\"\"\n",
    "CREATE OR REPLACE TABLE {catalog_name}.udp_wcm_gold_vcm_dwh.f_allocation_table_sap\n",
    "TBLPROPERTIES (\n",
    "  'DELTA.AUTOOPTIMIZE.OPTIMIZEWRITE' = 'TRUE',\n",
    "  'DELTA.AUTOOPTIMIZE.AUTOCOMPACT' = 'TRUE'\n",
    ")  \n",
    "AS\n",
    "WITH main AS (\n",
    "    SELECT \n",
    "        a.po_doc,\n",
    "        a.po_item,\n",
    "        a.allocation_table,\n",
    "        a.allocation_item,\n",
    "        b.doctype\n",
    "    FROM (\n",
    "        SELECT \n",
    "            ebeln as po_doc, \n",
    "            ebelp as po_item, \n",
    "            abeln as allocation_table, \n",
    "            abelp as allocation_item\n",
    "        FROM {catalog_name}.udp_wcm_silver_sap_bw.sap_vccmmpo08\n",
    "        QUALIFY ROW_NUMBER() OVER (PARTITION BY ebeln, ebelp ORDER BY proc_date DESC) = 1\n",
    "    ) a\n",
    "    INNER JOIN (\n",
    "        SELECT \n",
    "            oi_ebeln,\n",
    "            oi_ebelp,\n",
    "            doctype,\n",
    "            item_del\n",
    "        FROM {catalog_name}.udp_wcm_silver_sap_bw.sap_vcdmmpo03\n",
    "        QUALIFY ROW_NUMBER() OVER (PARTITION BY oi_ebeln, oi_ebelp ORDER BY upd_date DESC, bic_zk_cretim DESC, sr_poqbu DESC) = 1\n",
    "    ) b\n",
    "        ON a.po_doc = b.oi_ebeln AND a.po_item = b.oi_ebelp\n",
    "    WHERE a.allocation_table IS NOT NULL AND (b.item_del != 'X' OR b.item_del IS NULL) \n",
    ")\n",
    "SELECT *\n",
    "FROM main;\n",
    "\"\"\")"
   ]
  }
 ],
 "metadata": {
  "application/vnd.databricks.v1+notebook": {
   "computePreferences": null,
   "dashboards": [],
   "environmentMetadata": {
    "base_environment": "",
    "environment_version": "2"
   },
   "inputWidgetPreferences": null,
   "language": "python",
   "notebookMetadata": {
    "mostRecentlyExecutedCommandWithImplicitDF": {
     "commandId": 6403329334355917,
     "dataframes": [
      "_sqldf"
     ]
    },
    "pythonIndentUnit": 4
   },
   "notebookName": "f_allocation_table_sap",
   "widgets": {
    "environment": {
     "currentValue": "DEV",
     "nuid": "c8c0d44e-1402-4d95-b4d8-7cb112b5319a",
     "typedWidgetInfo": {
      "autoCreated": false,
      "defaultValue": "",
      "label": "",
      "name": "environment",
      "options": {
       "widgetDisplayType": "Text",
       "validationRegex": null
      },
      "parameterDataType": "String"
     },
     "widgetInfo": {
      "widgetType": "text",
      "defaultValue": "",
      "label": "",
      "name": "environment",
      "options": {
       "widgetType": "text",
       "autoCreated": null,
       "validationRegex": null
      }
     }
    },
    "proc_date": {
     "currentValue": "2025-07-21",
     "nuid": "3ce4a156-4e9e-4bf9-8256-19a4b0a192ad",
     "typedWidgetInfo": {
      "autoCreated": false,
      "defaultValue": "",
      "label": null,
      "name": "proc_date",
      "options": {
       "widgetDisplayType": "Text",
       "validationRegex": null
      },
      "parameterDataType": "String"
     },
     "widgetInfo": {
      "widgetType": "text",
      "defaultValue": "",
      "label": null,
      "name": "proc_date",
      "options": {
       "widgetType": "text",
       "autoCreated": null,
       "validationRegex": null
      }
     }
    }
   }
  },
  "language_info": {
   "name": "python"
  }
 },
 "nbformat": 4,
 "nbformat_minor": 0
}
