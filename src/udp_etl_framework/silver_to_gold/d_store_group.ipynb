{
 "cells": [
  {
   "cell_type": "code",
   "execution_count": 0,
   "metadata": {
    "application/vnd.databricks.v1+cell": {
     "cellMetadata": {
      "byteLimit": 2048000,
      "rowLimit": 10000
     },
     "inputWidgets": {},
     "nuid": "75fe9fdd-d357-4cdc-bce1-7ec514dd8cee",
     "showTitle": false,
     "tableResultSettingsMap": {},
     "title": ""
    }
   },
   "outputs": [],
   "source": [
    "%run ../utils/common"
   ]
  },
  {
   "cell_type": "code",
   "execution_count": 0,
   "metadata": {
    "application/vnd.databricks.v1+cell": {
     "cellMetadata": {
      "byteLimit": 2048000,
      "rowLimit": 10000
     },
     "inputWidgets": {},
     "nuid": "83b3e682-d4bd-4678-a905-da46268837fe",
     "showTitle": false,
     "tableResultSettingsMap": {},
     "title": ""
    }
   },
   "outputs": [],
   "source": [
    "dbutils.widgets.text(\"environment\", \"\", \"\")\n",
    "environment = dbutils.widgets.get(\"environment\")"
   ]
  },
  {
   "cell_type": "code",
   "execution_count": 0,
   "metadata": {
    "application/vnd.databricks.v1+cell": {
     "cellMetadata": {},
     "inputWidgets": {},
     "nuid": "2befdbbd-7b4c-458c-ba0e-e38180f55ad3",
     "showTitle": false,
     "tableResultSettingsMap": {},
     "title": ""
    }
   },
   "outputs": [],
   "source": [
    "catalog_name = settings[environment]['catalog_name']"
   ]
  },
  {
   "cell_type": "code",
   "execution_count": 0,
   "metadata": {
    "application/vnd.databricks.v1+cell": {
     "cellMetadata": {
      "byteLimit": 2048000,
      "rowLimit": 10000
     },
     "inputWidgets": {},
     "nuid": "ce7d1d3a-9898-4582-b331-d09374c20fe4",
     "showTitle": false,
     "tableResultSettingsMap": {},
     "title": ""
    }
   },
   "outputs": [],
   "source": [
    "day_of_week = spark.sql(\"SELECT EXTRACT(DAYOFWEEK FROM DATE(CURRENT_TIMESTAMP() + INTERVAL 7 HOURS))\").collect()[0][0]"
   ]
  },
  {
   "cell_type": "code",
   "execution_count": 0,
   "metadata": {
    "application/vnd.databricks.v1+cell": {
     "cellMetadata": {
      "byteLimit": 2048000,
      "rowLimit": 10000
     },
     "inputWidgets": {},
     "nuid": "49105d93-9629-41bf-a0b9-2b2020a52dc4",
     "showTitle": false,
     "tableResultSettingsMap": {},
     "title": ""
    }
   },
   "outputs": [],
   "source": [
    "if day_of_week == 5: \n",
    "    spark.sql(f\"\"\"\n",
    "        CREATE OR REPLACE TABLE {catalog_name}.udp_wcm_gold_db_winare_fresh.d_store_group \n",
    "        --(\n",
    "        -- calday DATE,\n",
    "        -- business_unit STRING,\n",
    "        -- store_id STRING,\n",
    "        -- store_name STRING,\n",
    "        -- region STRING,\n",
    "        -- base_sale_qty_avg DOUBLE,\n",
    "        -- sale_kg DOUBLE,\n",
    "        -- store_group_id STRING,\n",
    "        -- is_adj STRING,\n",
    "        -- concept STRING,\n",
    "        -- qlkv STRING,\n",
    "        -- email_qlkv STRING,\n",
    "        -- is_win_plus STRING,\n",
    "        -- email_gdv STRING, --OPTIONS (DESCRIPTION = 'Email giám đốc vùng'),\n",
    "        -- city STRING, --OPTIONS (DESCRIPTION = 'Thành phố'),\n",
    "        -- province STRING, --OPTIONS (DESCRIPTION = 'Tỉnh'),\n",
    "        -- is_nso STRING, --OPTIONS (DESCRIPTION = 'Có phải NSO hay không, trả về YES/NO'),\n",
    "        -- origin_store_group_name STRING --OPTIONS (DESCRIPTION = 'Mô tả phân nhóm cửa hàng theo SALE_KG sau điều chỉnh')\n",
    "        --)\n",
    "    -- CLUSTER BY store_id\n",
    "    -- OPTIONS (DESCRIPTION = \"Bảng suggest tính phân loại cửa hàng theo sức bán bình quân ngày\")\n",
    "    AS\n",
    "    WITH main AS (\n",
    "        SELECT\n",
    "            ds.business_unit,\n",
    "            ds.store_id,\n",
    "            s.store_name,\n",
    "            s.region,\n",
    "            s.base_sale_qty_avg,\n",
    "            s.sale_kg,\n",
    "            store_group_id,\n",
    "            CASE\n",
    "                WHEN ds.business_unit = '1500' THEN 'Supermarket'\n",
    "                WHEN ds.business_unit = '2000' AND ds.concept IN('WiN','Rural') THEN ds.concept\n",
    "                ELSE 'Urban'\n",
    "            END AS concept,\n",
    "            ds.qlkv,\n",
    "            ds.email_qlkv,\n",
    "            ds.is_win_plus,\n",
    "            ds.email_gdv,\n",
    "            ds.city,\n",
    "            ds.region_description AS province,\n",
    "            'NO' AS is_nso,\n",
    "            2 AS priority_order\n",
    "        FROM {catalog_name}.udp_wcm_gold_db_winare_fresh.d_store_group_temp as s\n",
    "        LEFT JOIN {catalog_name}.udp_wcm_gold_vcm_dwh.d_store ds ON UPPER(s.store_id) = UPPER(ds.store_id)\n",
    "        WHERE 1=1\n",
    "            AND ds.store_status_desc IN ('Đang hoạt động', 'Sắp đóng cửa')\n",
    "            AND ds.business_unit = '2000'\n",
    "            AND ds.is_win_plus != 'YES'\n",
    "            AND SUBSTR(ds.store_id, 1, 2) <> 'GH'\n",
    "        UNION DISTINCT\n",
    "        SELECT business_unit,\n",
    "            store_id,\n",
    "            store_name,\n",
    "            region,\n",
    "            base_sale_qty_avg,\n",
    "            sale_kg,\n",
    "            store_group_id,\n",
    "            concept,\n",
    "            qlkv,\n",
    "            email_qlkv,\n",
    "            is_win_plus,\n",
    "            email_gdv,\n",
    "            city,\n",
    "            province,\n",
    "            is_nso,\n",
    "            priority_order\n",
    "        FROM {catalog_name}.udp_wcm_gold_db_winare_fresh.d_store_group_nso_his\n",
    "        WHERE available_to >= DATE(CURRENT_TIMESTAMP() + INTERVAL 7 HOURS)\n",
    "        QUALIFY ROW_NUMBER() OVER (PARTITION BY store_id ORDER BY proc_date DESC) = 1\n",
    "    )\n",
    "    , merge_list AS (\n",
    "        SELECT DATE(CURRENT_TIMESTAMP() + INTERVAL 7 HOURS) calday,\n",
    "            m.business_unit,\n",
    "            m.store_id,\n",
    "            m.store_name,\n",
    "            m.region,\n",
    "            m.base_sale_qty_avg,\n",
    "            m.sale_kg,\n",
    "            IF(adj.store_group_id IS NOT NULL AND m.store_group_id <> adj.store_group_id, adj.store_group_id, m.store_group_id) store_group_id,\n",
    "            IF(adj.store_group_id IS NOT NULL AND m.store_group_id <> adj.store_group_id, 'YES', 'NO') is_adj,\n",
    "            m.concept,\n",
    "            m.qlkv,\n",
    "            m.email_qlkv,\n",
    "            m.is_win_plus,\n",
    "            m.email_gdv,\n",
    "            m.city,\n",
    "            m.province,\n",
    "            m.is_nso\n",
    "        FROM main m\n",
    "        LEFT JOIN {catalog_name}.udp_wcm_gold_db_winare_fresh.d_store_storegroup_adj adj ON UPPER(m.store_id) = UPPER(adj.store_id) AND adj.effective_to >= DATE(CURRENT_TIMESTAMP() + INTERVAL 7 HOURS)\n",
    "        WHERE NOT EXISTS(SELECT 1 FROM {catalog_name}.udp_wcm_gold_db_winare_fresh.d_store_exclude_v2 WHERE UPPER(store_id) = UPPER(m.store_id))\n",
    "        QUALIFY ROW_NUMBER() OVER (PARTITION BY m.store_id ORDER BY m.priority_order) = 1\n",
    "    )\n",
    "    SELECT m.* ,\n",
    "        cf.store_group_name AS origin_store_group_name\n",
    "    FROM merge_list m\n",
    "    LEFT JOIN {catalog_name}.udp_wcm_gold_db_winare_fresh.d_cfg_store_group cf ON m.store_group_id = cf.store_group_id AND m.concept = cf.concept;\n",
    "\"\"\")"
   ]
  }
 ],
 "metadata": {
  "application/vnd.databricks.v1+notebook": {
   "computePreferences": null,
   "dashboards": [],
   "environmentMetadata": {
    "base_environment": "",
    "environment_version": "2"
   },
   "inputWidgetPreferences": null,
   "language": "python",
   "notebookMetadata": {
    "mostRecentlyExecutedCommandWithImplicitDF": {
     "commandId": 6403329334326547,
     "dataframes": [
      "_sqldf"
     ]
    },
    "pythonIndentUnit": 4
   },
   "notebookName": "d_store_group",
   "widgets": {
    "environment": {
     "currentValue": "DEV",
     "nuid": "e79fe695-a6aa-450f-81fc-0ca802cab318",
     "typedWidgetInfo": {
      "autoCreated": false,
      "defaultValue": "",
      "label": "",
      "name": "environment",
      "options": {
       "widgetDisplayType": "Text",
       "validationRegex": null
      },
      "parameterDataType": "String"
     },
     "widgetInfo": {
      "widgetType": "text",
      "defaultValue": "",
      "label": "",
      "name": "environment",
      "options": {
       "widgetType": "text",
       "autoCreated": null,
       "validationRegex": null
      }
     }
    }
   }
  },
  "language_info": {
   "name": "python"
  }
 },
 "nbformat": 4,
 "nbformat_minor": 0
}
