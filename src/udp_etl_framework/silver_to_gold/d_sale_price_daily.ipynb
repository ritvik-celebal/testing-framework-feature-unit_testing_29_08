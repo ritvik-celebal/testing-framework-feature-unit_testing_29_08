{
 "cells": [
  {
   "cell_type": "code",
   "execution_count": 0,
   "metadata": {
    "application/vnd.databricks.v1+cell": {
     "cellMetadata": {
      "byteLimit": 2048000,
      "rowLimit": 10000
     },
     "inputWidgets": {},
     "nuid": "774fd085-ff6f-47ab-9a10-1a3d2bb4b928",
     "showTitle": false,
     "tableResultSettingsMap": {},
     "title": ""
    }
   },
   "outputs": [],
   "source": [
    "%run ../utils/common"
   ]
  },
  {
   "cell_type": "code",
   "execution_count": 0,
   "metadata": {
    "application/vnd.databricks.v1+cell": {
     "cellMetadata": {
      "byteLimit": 2048000,
      "rowLimit": 10000
     },
     "inputWidgets": {},
     "nuid": "c4566a20-557a-4abb-ac56-aec7e17a0276",
     "showTitle": false,
     "tableResultSettingsMap": {},
     "title": ""
    }
   },
   "outputs": [],
   "source": [
    "dbutils.widgets.text(\"environment\", \"\", \"\")\n",
    "environment = dbutils.widgets.get(\"environment\")"
   ]
  },
  {
   "cell_type": "code",
   "execution_count": 0,
   "metadata": {
    "application/vnd.databricks.v1+cell": {
     "cellMetadata": {
      "byteLimit": 2048000,
      "rowLimit": 10000
     },
     "inputWidgets": {},
     "nuid": "30f7539e-2621-4ebe-a8f8-4d74ba3eef79",
     "showTitle": false,
     "tableResultSettingsMap": {},
     "title": ""
    }
   },
   "outputs": [],
   "source": [
    "catalog_name = settings[environment]['catalog_name']"
   ]
  },
  {
   "cell_type": "code",
   "execution_count": 0,
   "metadata": {
    "application/vnd.databricks.v1+cell": {
     "cellMetadata": {
      "byteLimit": 2048000,
      "rowLimit": 10000
     },
     "inputWidgets": {},
     "nuid": "917a4ef5-e8e8-41c4-9979-6958625d6809",
     "showTitle": false,
     "tableResultSettingsMap": {},
     "title": ""
    }
   },
   "outputs": [],
   "source": [
    "spark.sql(f\"\"\"\n",
    "CREATE OR REPLACE TABLE {catalog_name}.udp_wcm_gold_vcm_dwh.d_sale_price_daily\n",
    "TBLPROPERTIES (\n",
    "  'DELTA.AUTOOPTIMIZE.OPTIMIZEWRITE' = 'TRUE',\n",
    "  'DELTA.AUTOOPTIMIZE.AUTOCOMPACT' = 'TRUE'\n",
    ")\n",
    "AS\n",
    "WITH ranked_data AS (\n",
    "  SELECT\n",
    "    knumh cond_rec_num,\n",
    "    kappl app,\n",
    "    recordmode record_mode,\n",
    "    kopos seq_of_cond,\n",
    "    kschl cond_type,\n",
    "    knumt num_text,\n",
    "    stfkz scale_type,\n",
    "    kzbzg scale_indicator,\n",
    "    kstbm cond_scale_qty,\n",
    "    konms cond_scale_uom,\n",
    "    kstbw scale_value,\n",
    "    konws scale_currency,\n",
    "    krech cal_type_cond,\n",
    "    kbetr rate,\n",
    "    konwa rate_unit,\n",
    "    kpein cond_pricing_unit,\n",
    "    kmein cond_unit,\n",
    "    prsch price_level,\n",
    "    kumza numerator,\n",
    "    kumne denominator,\n",
    "    meins base_uom,\n",
    "    mxwrt lower_limit,\n",
    "    gkwrt upper_limit,\n",
    "    pkwrt planned_cond_value,\n",
    "    fkwrt,\n",
    "    rswrt,\n",
    "    kwaeh cond_currency,\n",
    "    ukbas planned_cond_basic,\n",
    "    kznep cond_excl_indicator,\n",
    "    kunnr customer_number,\n",
    "    lifnr,\n",
    "    mwsk1 tax_code,\n",
    "    loevm_ko del_indicator,\n",
    "    zaehk_ind cond_item_id,\n",
    "    bomat,\n",
    "    kbrue accr_amount,\n",
    "    kspae,\n",
    "    bosta,\n",
    "    knuma_pi,\n",
    "    knuma_ag sale_deal,\n",
    "    knuma_sq sale_quote,\n",
    "    valtg add_days,\n",
    "    valdt fix_date,\n",
    "    zterm,\n",
    "    anzauf,\n",
    "    mikbas,\n",
    "    mxkbas,\n",
    "    komxwrt max_value,\n",
    "    klf_stg,\n",
    "    klf_kal,\n",
    "    vkkal,\n",
    "    aktnr promotion,\n",
    "    knuma_bo agreement,\n",
    "    mwsk2 withholding_tax_code,\n",
    "    vertt,\n",
    "    vertn,\n",
    "    vbewa,\n",
    "    mdflg,\n",
    "    kfrst,\n",
    "    uasta status_bussiness,\n",
    "    ecrtt,\n",
    "    ecrtn,\n",
    "    ecewa flow_type,\n",
    "    waers currency_key,\n",
    "    ROW_NUMBER() OVER (PARTITION BY knumh, kappl ORDER BY proc_date) AS row_num\n",
    "  FROM {catalog_name}.udp_wcm_silver_sap_bw.sap_vccmmrb31\n",
    "  WHERE proc_date = (SELECT MAX(proc_date) FROM {catalog_name}.udp_wcm_silver_sap_bw.sap_vccmmrb31)\n",
    ")\n",
    "SELECT\n",
    "  cond_rec_num,\n",
    "  app,\n",
    "  record_mode,\n",
    "  seq_of_cond,\n",
    "  cond_type,\n",
    "  num_text,\n",
    "  scale_type,\n",
    "  scale_indicator,\n",
    "  cond_scale_qty,\n",
    "  cond_scale_uom,\n",
    "  scale_value,\n",
    "  scale_currency,\n",
    "  cal_type_cond,\n",
    "  rate,\n",
    "  rate_unit,\n",
    "  cond_pricing_unit,\n",
    "  cond_unit,\n",
    "  price_level,\n",
    "  numerator,\n",
    "  denominator,\n",
    "  base_uom,\n",
    "  lower_limit,\n",
    "  upper_limit,\n",
    "  planned_cond_value,\n",
    "  fkwrt,\n",
    "  rswrt,\n",
    "  cond_currency,\n",
    "  planned_cond_basic,\n",
    "  cond_excl_indicator,\n",
    "  customer_number,\n",
    "  lifnr,\n",
    "  tax_code,\n",
    "  del_indicator,\n",
    "  cond_item_id,\n",
    "  bomat,\n",
    "  accr_amount,\n",
    "  kspae,\n",
    "  bosta,\n",
    "  knuma_pi,\n",
    "  sale_deal,\n",
    "  sale_quote,\n",
    "  add_days,\n",
    "  fix_date,\n",
    "  zterm,\n",
    "  anzauf,\n",
    "  mikbas,\n",
    "  mxkbas,\n",
    "  max_value,\n",
    "  klf_stg,\n",
    "  klf_kal,\n",
    "  vkkal,\n",
    "  promotion,\n",
    "  agreement,\n",
    "  withholding_tax_code,\n",
    "  vertt,\n",
    "  vertn,\n",
    "  vbewa,\n",
    "  mdflg,\n",
    "  kfrst,\n",
    "  status_bussiness,\n",
    "  ecrtt,\n",
    "  ecrtn,\n",
    "  flow_type,\n",
    "  currency_key\n",
    "FROM ranked_data\n",
    "WHERE row_num = 1\n",
    "\"\"\")"
   ]
  }
 ],
 "metadata": {
  "application/vnd.databricks.v1+notebook": {
   "computePreferences": null,
   "dashboards": [],
   "environmentMetadata": {
    "base_environment": "",
    "environment_version": "2"
   },
   "inputWidgetPreferences": null,
   "language": "python",
   "notebookMetadata": {
    "mostRecentlyExecutedCommandWithImplicitDF": {
     "commandId": 6605737921190247,
     "dataframes": [
      "_sqldf"
     ]
    },
    "pythonIndentUnit": 4
   },
   "notebookName": "d_sale_price_daily",
   "widgets": {}
  },
  "language_info": {
   "name": "python"
  }
 },
 "nbformat": 4,
 "nbformat_minor": 0
}
