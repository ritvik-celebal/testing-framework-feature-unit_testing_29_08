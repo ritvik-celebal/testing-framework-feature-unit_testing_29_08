{
 "cells": [
  {
   "cell_type": "code",
   "execution_count": 0,
   "metadata": {
    "application/vnd.databricks.v1+cell": {
     "cellMetadata": {
      "byteLimit": 2048000,
      "rowLimit": 10000
     },
     "inputWidgets": {},
     "nuid": "cbdcc58a-f37b-45c7-8f16-643e52fda61e",
     "showTitle": false,
     "tableResultSettingsMap": {},
     "title": ""
    }
   },
   "outputs": [],
   "source": [
    "dbutils.widgets.text(\"proc_date\", \"\", \"\")\n",
    "proc_date = dbutils.widgets.get(\"proc_date\")"
   ]
  },
  {
   "cell_type": "code",
   "execution_count": 0,
   "metadata": {
    "application/vnd.databricks.v1+cell": {
     "cellMetadata": {
      "byteLimit": 2048000,
      "rowLimit": 10000
     },
     "inputWidgets": {},
     "nuid": "777c0658-b680-4208-922c-a589422127f8",
     "showTitle": false,
     "tableResultSettingsMap": {},
     "title": ""
    }
   },
   "outputs": [],
   "source": [
    "%run ../utils/common"
   ]
  },
  {
   "cell_type": "code",
   "execution_count": 0,
   "metadata": {
    "application/vnd.databricks.v1+cell": {
     "cellMetadata": {
      "byteLimit": 2048000,
      "rowLimit": 10000
     },
     "inputWidgets": {},
     "nuid": "c048c649-bf39-47e5-a246-0af4f016d936",
     "showTitle": false,
     "tableResultSettingsMap": {},
     "title": ""
    }
   },
   "outputs": [],
   "source": [
    "dbutils.widgets.text(\"environment\", \"\", \"\")\n",
    "environment = dbutils.widgets.get(\"environment\")"
   ]
  },
  {
   "cell_type": "code",
   "execution_count": 0,
   "metadata": {
    "application/vnd.databricks.v1+cell": {
     "cellMetadata": {
      "byteLimit": 2048000,
      "rowLimit": 10000
     },
     "inputWidgets": {},
     "nuid": "74498e3d-36a1-4797-9d11-9b6c08bb85d0",
     "showTitle": false,
     "tableResultSettingsMap": {},
     "title": ""
    }
   },
   "outputs": [],
   "source": [
    "catalog_name = settings[environment]['catalog_name']"
   ]
  },
  {
   "cell_type": "code",
   "execution_count": 0,
   "metadata": {
    "application/vnd.databricks.v1+cell": {
     "cellMetadata": {
      "byteLimit": 2048000,
      "rowLimit": 10000
     },
     "inputWidgets": {},
     "nuid": "85afd200-7909-41bb-9ccc-9a7d33e65c50",
     "showTitle": false,
     "tableResultSettingsMap": {},
     "title": ""
    }
   },
   "outputs": [],
   "source": [
    "spark.sql(f\"\"\"\n",
    "CREATE OR REPLACE TABLE  {catalog_name}.udp_wcm_gold_vcm_dwh.f_inventory_sft \n",
    "TBLPROPERTIES (\n",
    "  'DELTA.AUTOOPTIMIZE.OPTIMIZEWRITE' = 'TRUE',\n",
    "  'DELTA.AUTOOPTIMIZE.AUTOCOMPACT' = 'TRUE'\n",
    ") \n",
    "AS\n",
    "WITH dat AS (\n",
    "    SELECT  ROW_NUMBER() OVER (PARTITION BY wh_site_id, sku, calday, type ORDER BY proc_date DESC) rn,\n",
    "            wh_site_id dc_id,\n",
    "            sku product_id,\n",
    "            DATE(calday) calday,\n",
    "            rkt_available_qty,\n",
    "            sft_po_processing_qty,\n",
    "            sft_lost_qty,\n",
    "            sft_physical_lost_qty,\n",
    "            sft_available_qty,\n",
    "            sft_damage_qty,\n",
    "            sft_out_of_date_qty,\n",
    "            sft_nearing_expiration_date_qty,\n",
    "            sft_return_to_vendor_qty,\n",
    "            sft_pending_in_qty,\n",
    "            sft_not_sync_sap_pending_in_qty,\n",
    "            rkt_sto_instock_qty,\n",
    "            sft_after_packing_qty,\n",
    "            sft_instock_qty,\n",
    "            sft_pickable_qty,\n",
    "            IFNULL(sft_pending_in_qty, 0) - IFNULL(sft_not_sync_sap_pending_in_qty, 0) - IFNULL(sft_po_processing_qty, 0) open_order\n",
    "FROM    {catalog_name}.udp_wcm_silver_realtime.sft_stock\n",
    "WHERE   client_code = 'WIN' AND type = 'OPENING_STOCK'\n",
    ")\n",
    "SELECT * EXCEPT(rn) FROM dat WHERE rn=1;\n",
    "\"\"\")"
   ]
  }
 ],
 "metadata": {
  "application/vnd.databricks.v1+notebook": {
   "computePreferences": null,
   "dashboards": [],
   "environmentMetadata": {
    "base_environment": "",
    "environment_version": "2"
   },
   "inputWidgetPreferences": null,
   "language": "python",
   "notebookMetadata": {
    "pythonIndentUnit": 4
   },
   "notebookName": "f_inventory_sft",
   "widgets": {
    "environment": {
     "currentValue": "DEV",
     "nuid": "e7692ea0-6fa6-4c8e-9f1f-9ee3befb22f1",
     "typedWidgetInfo": {
      "autoCreated": false,
      "defaultValue": "",
      "label": "",
      "name": "environment",
      "options": {
       "widgetDisplayType": "Text",
       "validationRegex": null
      },
      "parameterDataType": "String"
     },
     "widgetInfo": {
      "widgetType": "text",
      "defaultValue": "",
      "label": "",
      "name": "environment",
      "options": {
       "widgetType": "text",
       "autoCreated": null,
       "validationRegex": null
      }
     }
    },
    "proc_date": {
     "currentValue": "2025-06-28",
     "nuid": "1467e373-f99d-4f0b-b138-af9060c4f5c7",
     "typedWidgetInfo": {
      "autoCreated": false,
      "defaultValue": "",
      "label": "",
      "name": "proc_date",
      "options": {
       "widgetDisplayType": "Text",
       "validationRegex": null
      },
      "parameterDataType": "String"
     },
     "widgetInfo": {
      "widgetType": "text",
      "defaultValue": "",
      "label": "",
      "name": "proc_date",
      "options": {
       "widgetType": "text",
       "autoCreated": null,
       "validationRegex": null
      }
     }
    }
   }
  },
  "language_info": {
   "name": "python"
  }
 },
 "nbformat": 4,
 "nbformat_minor": 0
}
