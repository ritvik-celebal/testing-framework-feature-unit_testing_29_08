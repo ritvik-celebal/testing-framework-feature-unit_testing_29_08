{
 "cells": [
  {
   "cell_type": "code",
   "execution_count": 0,
   "metadata": {
    "application/vnd.databricks.v1+cell": {
     "cellMetadata": {
      "byteLimit": 2048000,
      "rowLimit": 10000
     },
     "inputWidgets": {},
     "nuid": "a68a8398-c46d-46c0-8f7d-446bd4c9affd",
     "showTitle": false,
     "tableResultSettingsMap": {},
     "title": ""
    }
   },
   "outputs": [],
   "source": [
    "%run ../utils/common"
   ]
  },
  {
   "cell_type": "code",
   "execution_count": 0,
   "metadata": {
    "application/vnd.databricks.v1+cell": {
     "cellMetadata": {
      "byteLimit": 2048000,
      "rowLimit": 10000
     },
     "inputWidgets": {},
     "nuid": "308e65ca-5d76-4015-b598-bf08fc988264",
     "showTitle": false,
     "tableResultSettingsMap": {},
     "title": ""
    }
   },
   "outputs": [],
   "source": [
    "dbutils.widgets.text(\"environment\", \"DEV\")\n",
    "dbutils.widgets.text(\"target_dataset\", \"VCM_DWH_PRD\")\n",
    "dbutils.widgets.text(\"target_table\", \"f_inventory_00\")\n",
    "dbutils.widgets.text(\"metadata_schema\", \"udp_wcm_metadata_dev\")\n",
    "dbutils.widgets.text(\n",
    "    \"dependency_table\",\n",
    "    \"VCM_DWH_PRD.F_STAGING_INVENTORY\"\n",
    ")"
   ]
  },
  {
   "cell_type": "code",
   "execution_count": 0,
   "metadata": {
    "application/vnd.databricks.v1+cell": {
     "cellMetadata": {
      "byteLimit": 2048000,
      "rowLimit": 10000
     },
     "inputWidgets": {},
     "nuid": "a94a8bfb-e56d-4c95-adad-bdde76661b49",
     "showTitle": false,
     "tableResultSettingsMap": {},
     "title": ""
    }
   },
   "outputs": [],
   "source": [
    "dbutils.widgets.text(\"field_calday\", \"CALDAY\")\n",
    "dbutils.widgets.text(\"field_id\", \"HASH_ID\")"
   ]
  },
  {
   "cell_type": "code",
   "execution_count": 0,
   "metadata": {
    "application/vnd.databricks.v1+cell": {
     "cellMetadata": {
      "byteLimit": 2048000,
      "rowLimit": 10000
     },
     "inputWidgets": {},
     "nuid": "b48a999b-637b-4d88-b940-daf7a6aa7b32",
     "showTitle": false,
     "tableResultSettingsMap": {},
     "title": ""
    }
   },
   "outputs": [],
   "source": [
    "dbutils.widgets.text(\"environment\", \"\", \"\")\n",
    "environment = dbutils.widgets.get(\"environment\")"
   ]
  },
  {
   "cell_type": "code",
   "execution_count": 0,
   "metadata": {
    "application/vnd.databricks.v1+cell": {
     "cellMetadata": {
      "byteLimit": 2048000,
      "rowLimit": 10000
     },
     "inputWidgets": {},
     "nuid": "79be0f32-a38b-4940-962b-9aab1a4039d3",
     "showTitle": false,
     "tableResultSettingsMap": {},
     "title": ""
    }
   },
   "outputs": [],
   "source": [
    "catalog_name = settings[environment]['catalog_name']"
   ]
  },
  {
   "cell_type": "code",
   "execution_count": 0,
   "metadata": {
    "application/vnd.databricks.v1+cell": {
     "cellMetadata": {
      "byteLimit": 2048000,
      "rowLimit": 10000
     },
     "inputWidgets": {},
     "nuid": "0ee61b5e-dd24-4497-bc05-d8be4a5be20e",
     "showTitle": false,
     "tableResultSettingsMap": {},
     "title": ""
    }
   },
   "outputs": [],
   "source": [
    "environment = dbutils.widgets.get(\"environment\")\n",
    "target_dataset = dbutils.widgets.get(\"target_dataset\")\n",
    "target_table = dbutils.widgets.get(\"target_table\")\n",
    "metadata_schema = dbutils.widgets.get(\"metadata_schema\")\n",
    "dependency_table = dbutils.widgets.get(\"dependency_table\")\n",
    "dependency_table = [x.strip() for x in dependency_table.split(\",\")]\n",
    "dependency_table = \"'\" + \"','\".join(dependency_table) + \"'\"\n",
    "\n",
    "print(f\"environment: {environment}\")\n",
    "print(f\"target_dataset: {target_dataset}\")\n",
    "print(f\"catalog_name: {catalog_name}\")\n",
    "print(f\"metadata_schema: {metadata_schema}\")\n",
    "print(f\"dependency_table: {dependency_table}\")"
   ]
  },
  {
   "cell_type": "code",
   "execution_count": 0,
   "metadata": {
    "application/vnd.databricks.v1+cell": {
     "cellMetadata": {
      "byteLimit": 2048000,
      "rowLimit": 10000
     },
     "inputWidgets": {},
     "nuid": "f45ae76f-6fb0-460f-9d4d-25072eecbb98",
     "showTitle": false,
     "tableResultSettingsMap": {},
     "title": ""
    }
   },
   "outputs": [],
   "source": [
    "field_calday = dbutils.widgets.get(\"field_calday\")\n",
    "field_id = dbutils.widgets.get(\"field_id\")\n",
    "\n",
    "print(f\"field_calday: {field_calday}\")\n",
    "print(f\"field_id: {field_id}\")"
   ]
  },
  {
   "cell_type": "code",
   "execution_count": 0,
   "metadata": {
    "application/vnd.databricks.v1+cell": {
     "cellMetadata": {
      "byteLimit": 2048000,
      "rowLimit": 10000
     },
     "inputWidgets": {},
     "nuid": "01bd5705-5bfc-48a0-875d-1137c5b01275",
     "showTitle": false,
     "tableResultSettingsMap": {},
     "title": ""
    }
   },
   "outputs": [],
   "source": [
    "%run \"../common/common_etl_load\""
   ]
  },
  {
   "cell_type": "code",
   "execution_count": 0,
   "metadata": {
    "application/vnd.databricks.v1+cell": {
     "cellMetadata": {
      "byteLimit": 2048000,
      "implicitDf": true,
      "rowLimit": 10000
     },
     "inputWidgets": {},
     "nuid": "a8cf9fe7-c239-40b6-901b-d0f426381f0a",
     "showTitle": false,
     "tableResultSettingsMap": {},
     "title": ""
    }
   },
   "outputs": [],
   "source": [
    "spark.sql(\n",
    "    f\"\"\"\n",
    "CREATE TABLE IF NOT EXISTS {catalog_name}.udp_wcm_gold_vcm_dwh.f_inventory_00 (\n",
    "  hash_id BIGINT,\n",
    "  calday DATE,\n",
    "  store_id STRING,\n",
    "  product_id STRING,\n",
    "  closing_stock_quantity DOUBLE,\n",
    "  closing_stock_value DOUBLE)\n",
    "USING delta\n",
    "TBLPROPERTIES (\n",
    "  'DELTA.AUTOOPTIMIZE.OPTIMIZEWRITE' = 'TRUE',\n",
    "  'DELTA.AUTOOPTIMIZE.AUTOCOMPACT' = 'TRUE'\n",
    ")\"\"\"\n",
    ")"
   ]
  },
  {
   "cell_type": "code",
   "execution_count": 0,
   "metadata": {
    "application/vnd.databricks.v1+cell": {
     "cellMetadata": {
      "byteLimit": 2048000,
      "rowLimit": 10000
     },
     "inputWidgets": {},
     "nuid": "c81c45db-a4e6-442c-8693-1f30a4668751",
     "showTitle": false,
     "tableResultSettingsMap": {},
     "title": ""
    }
   },
   "outputs": [],
   "source": [
    "if CALDAY_IN_STR != \"\":\n",
    "    spark.sql(f\"\"\"\n",
    "CREATE OR REPLACE TEMP VIEW temp_f_inventory_00 AS\n",
    "WITH table_date AS (\n",
    "  SELECT date_gen\n",
    "  FROM (\n",
    "    SELECT explode(sequence(to_date({START_DATE}), current_date(), interval 1 day)) AS date_gen\n",
    "  ) AS seq_dates\n",
    "  WHERE date_gen <= current_date()\n",
    ")\n",
    "SELECT \n",
    "    hash_id,\n",
    "    calday,\n",
    "    store_id,\n",
    "    product_id,\n",
    "    closing_stock_quantity,\n",
    "    closing_stock_value\n",
    "FROM (\n",
    "    SELECT \n",
    "        farm_fingerprint(CONCAT(\n",
    "            IFNULL(CAST(date_gen AS STRING), \"\"), \n",
    "            IFNULL(CAST(store_id AS STRING), \"\"), \n",
    "            IFNULL(CAST(product_id AS STRING), \"\")\n",
    "        )) hash_id,\n",
    "        date_gen calday,\n",
    "        store_id,\n",
    "        product_id,\n",
    "        closing_stock_quantity,\n",
    "        closing_stock_value,\n",
    "        ROW_NUMBER() OVER (\n",
    "            PARTITION BY store_id, product_id, CAST(closing_stock_quantity AS DOUBLE), CAST(closing_stock_value AS DOUBLE) \n",
    "            ORDER BY date_gen ASC\n",
    "        ) AS rn,\n",
    "        date_from,\n",
    "        DATE_SUB(IFNULL(date_to, '2400-01-01'), 1) date_to\n",
    "    FROM table_date \n",
    "    INNER JOIN (\n",
    "        SELECT\n",
    "            calday,\n",
    "            store_id,\n",
    "            product_id,\n",
    "            SUM(closing_stock_quantity) OVER (PARTITION BY store_id, product_id ORDER BY calday ASC) closing_stock_quantity,\n",
    "            SUM(closing_stock_value) OVER (PARTITION BY store_id, product_id ORDER BY calday ASC) closing_stock_value,\n",
    "            calday date_from,\n",
    "            LEAD(calday) OVER (PARTITION BY store_id, product_id ORDER BY calday ASC) date_to\n",
    "        FROM (\n",
    "            SELECT calday, store_id, product_id, closing_stock_quantity, closing_stock_value \n",
    "            FROM {catalog_name}.udp_wcm_gold_vcm_dwh.f_staging_inventory \n",
    "            WHERE calday >= {START_DATE} AND calday <= {END_DATE} AND calday <= CURRENT_DATE()\n",
    "            UNION ALL\n",
    "            SELECT calday, store_id, product_id, closing_stock_quantity, closing_stock_value \n",
    "            FROM {catalog_name}.udp_wcm_gold_vcm_dwh.f_inventory \n",
    "            WHERE calday = DATE_SUB({START_DATE}, 1)\n",
    "            UNION ALL\n",
    "            SELECT calday, store_id, product_id, closing_stock_quantity, closing_stock_value \n",
    "            FROM {catalog_name}.udp_wcm_gold_vcm_dwh.f_inventory_00 \n",
    "            WHERE calday = DATE_SUB({START_DATE}, 1)\n",
    "        ) a\n",
    "    ) i \n",
    "    ON date_gen >= calday AND (date_gen < date_to OR date_to IS NULL)\n",
    ") a \n",
    "WHERE (closing_stock_quantity != 0 OR closing_stock_value != 0 OR rn = 1) = FALSE\n",
    "\"\"\")"
   ]
  },
  {
   "cell_type": "code",
   "execution_count": 0,
   "metadata": {
    "application/vnd.databricks.v1+cell": {
     "cellMetadata": {
      "byteLimit": 2048000,
      "rowLimit": 10000
     },
     "inputWidgets": {},
     "nuid": "3e1a047b-34d3-41e8-acb8-43795b6143fb",
     "showTitle": false,
     "tableResultSettingsMap": {},
     "title": ""
    }
   },
   "outputs": [],
   "source": [
    "if CALDAY_IN_STR != '':\n",
    "    # Get the calday list string from temp table\n",
    "    calday_query = \"\"\"\n",
    "    SELECT\n",
    "        CONCAT(\"'\", CONCAT_WS(\"','\", COLLECT_SET(CAST(TO_DATE(calday, 'yyyy-MM-dd') AS STRING))), \"'\") AS calday_in_str\n",
    "    FROM temp_f_inventory_00\n",
    "    \"\"\"\n",
    "    \n",
    "    calday_in_str_new = spark.sql(calday_query).collect()[0][0]\n",
    "    \n",
    "    if calday_in_str_new != '':\n",
    "        calday_in_str = calday_in_str_new\n",
    "    \n",
    "        # Only run DELETE if the string is non-empty\n",
    "        if calday_in_str.strip(\"'\"):  # checks if there's any date inside the quotes\n",
    "            spark.sql(f\"\"\"\n",
    "            DELETE FROM {catalog_name}.udp_wcm_gold_vcm_dwh.f_inventory_00\n",
    "            WHERE calday IN ({calday_in_str})\n",
    "            \"\"\")\n",
    "            # Insert rows from temp table into main table\n",
    "            INSERT_ROW = \", \".join(\n",
    "                spark.table(f\"{catalog_name}.udp_wcm_gold_vcm_dwh.f_inventory_00\").columns\n",
    "            )\n",
    "            spark.sql(f\"\"\"\n",
    "                INSERT INTO {catalog_name}.udp_wcm_gold_vcm_dwh.f_inventory_00 ({INSERT_ROW})\n",
    "                SELECT {INSERT_ROW} FROM temp_{target_table}\n",
    "            \"\"\").display()\n",
    "        else:\n",
    "            print(\"No valid CALDAYs found to delete.\")\n",
    "            print(f\"temp_{target_table} could't be created as no valid calday's found In common-etl so {catalog_name}.udp_wcm_gold_vcm_dwh.f_inventory_00 can't be inserted using calday's from temp_{target_table}\")"
   ]
  }
 ],
 "metadata": {
  "application/vnd.databricks.v1+notebook": {
   "computePreferences": null,
   "dashboards": [],
   "environmentMetadata": {
    "base_environment": "",
    "environment_version": "2"
   },
   "inputWidgetPreferences": null,
   "language": "python",
   "notebookMetadata": {
    "mostRecentlyExecutedCommandWithImplicitDF": {
     "commandId": 6350561386716578,
     "dataframes": [
      "_sqldf"
     ]
    },
    "pythonIndentUnit": 4
   },
   "notebookName": "f_inventory_00",
   "widgets": {
    "dependency_table": {
     "currentValue": "VCM_DWH_PRD.F_STAGING_INVENTORY",
     "nuid": "e594650d-e54a-4ed2-953f-807432f10d6d",
     "typedWidgetInfo": {
      "autoCreated": false,
      "defaultValue": "VCM_DWH_PRD.F_STAGING_INVENTORY",
      "label": null,
      "name": "dependency_table",
      "options": {
       "widgetDisplayType": "Text",
       "validationRegex": null
      },
      "parameterDataType": "String"
     },
     "widgetInfo": {
      "widgetType": "text",
      "defaultValue": "VCM_DWH_PRD.F_STAGING_INVENTORY",
      "label": null,
      "name": "dependency_table",
      "options": {
       "widgetType": "text",
       "autoCreated": false,
       "validationRegex": null
      }
     }
    },
    "environment": {
     "currentValue": "DEV",
     "nuid": "705ab71f-c5e0-4224-8ef8-b71823779501",
     "typedWidgetInfo": {
      "autoCreated": false,
      "defaultValue": "",
      "label": "",
      "name": "environment",
      "options": {
       "widgetDisplayType": "Text",
       "validationRegex": null
      },
      "parameterDataType": "String"
     },
     "widgetInfo": {
      "widgetType": "text",
      "defaultValue": "",
      "label": "",
      "name": "environment",
      "options": {
       "widgetType": "text",
       "autoCreated": null,
       "validationRegex": null
      }
     }
    },
    "field_calday": {
     "currentValue": "CALDAY",
     "nuid": "bda0b2d9-076a-4245-8eea-d2c57d790c66",
     "typedWidgetInfo": {
      "autoCreated": false,
      "defaultValue": "CALDAY",
      "label": null,
      "name": "field_calday",
      "options": {
       "widgetDisplayType": "Text",
       "validationRegex": null
      },
      "parameterDataType": "String"
     },
     "widgetInfo": {
      "widgetType": "text",
      "defaultValue": "CALDAY",
      "label": null,
      "name": "field_calday",
      "options": {
       "widgetType": "text",
       "autoCreated": null,
       "validationRegex": null
      }
     }
    },
    "field_id": {
     "currentValue": "HASH_ID",
     "nuid": "1c552d0c-09c6-443c-b3d4-832fe5b6031e",
     "typedWidgetInfo": {
      "autoCreated": false,
      "defaultValue": "HASH_ID",
      "label": null,
      "name": "field_id",
      "options": {
       "widgetDisplayType": "Text",
       "validationRegex": null
      },
      "parameterDataType": "String"
     },
     "widgetInfo": {
      "widgetType": "text",
      "defaultValue": "HASH_ID",
      "label": null,
      "name": "field_id",
      "options": {
       "widgetType": "text",
       "autoCreated": null,
       "validationRegex": null
      }
     }
    },
    "metadata_schema": {
     "currentValue": "udp_wcm_metadata_dev",
     "nuid": "1e9e1b02-e9c2-44f1-acad-72d2ff94d435",
     "typedWidgetInfo": {
      "autoCreated": false,
      "defaultValue": "udp_wcm_metadata_dev",
      "label": null,
      "name": "metadata_schema",
      "options": {
       "widgetDisplayType": "Text",
       "validationRegex": null
      },
      "parameterDataType": "String"
     },
     "widgetInfo": {
      "widgetType": "text",
      "defaultValue": "udp_wcm_metadata_dev",
      "label": null,
      "name": "metadata_schema",
      "options": {
       "widgetType": "text",
       "autoCreated": null,
       "validationRegex": null
      }
     }
    },
    "proc_date": {
     "currentValue": "2025-07-21",
     "nuid": "60c6bf54-ca74-4d3d-a0fb-17ae071bd5fb",
     "typedWidgetInfo": {
      "autoCreated": false,
      "defaultValue": "",
      "label": "",
      "name": "proc_date",
      "options": {
       "widgetDisplayType": "Text",
       "validationRegex": null
      },
      "parameterDataType": "String"
     },
     "widgetInfo": {
      "widgetType": "text",
      "defaultValue": "",
      "label": "",
      "name": "proc_date",
      "options": {
       "widgetType": "text",
       "autoCreated": null,
       "validationRegex": null
      }
     }
    },
    "target_dataset": {
     "currentValue": "VCM_DWH_PRD",
     "nuid": "ff1f0734-cf52-44c5-96a6-ef0e69818e07",
     "typedWidgetInfo": {
      "autoCreated": false,
      "defaultValue": "VCM_DWH_PRD",
      "label": null,
      "name": "target_dataset",
      "options": {
       "widgetDisplayType": "Text",
       "validationRegex": null
      },
      "parameterDataType": "String"
     },
     "widgetInfo": {
      "widgetType": "text",
      "defaultValue": "VCM_DWH_PRD",
      "label": null,
      "name": "target_dataset",
      "options": {
       "widgetType": "text",
       "autoCreated": null,
       "validationRegex": null
      }
     }
    },
    "target_table": {
     "currentValue": "f_inventory_00",
     "nuid": "abfb56ca-6c98-485c-95b1-ce7ce84ba677",
     "typedWidgetInfo": {
      "autoCreated": false,
      "defaultValue": "f_inventory_00",
      "label": null,
      "name": "target_table",
      "options": {
       "widgetDisplayType": "Text",
       "validationRegex": null
      },
      "parameterDataType": "String"
     },
     "widgetInfo": {
      "widgetType": "text",
      "defaultValue": "f_inventory_00",
      "label": null,
      "name": "target_table",
      "options": {
       "widgetType": "text",
       "autoCreated": null,
       "validationRegex": null
      }
     }
    }
   }
  },
  "language_info": {
   "name": "python"
  }
 },
 "nbformat": 4,
 "nbformat_minor": 0
}
