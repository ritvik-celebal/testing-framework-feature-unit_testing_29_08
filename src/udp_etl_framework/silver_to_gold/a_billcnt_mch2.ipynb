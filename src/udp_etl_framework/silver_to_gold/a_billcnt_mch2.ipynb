{
 "cells": [
  {
   "cell_type": "code",
   "execution_count": 0,
   "metadata": {
    "application/vnd.databricks.v1+cell": {
     "cellMetadata": {
      "byteLimit": 2048000,
      "rowLimit": 10000
     },
     "inputWidgets": {},
     "nuid": "6f8b657e-9862-4c98-890f-a947a0fbf786",
     "showTitle": false,
     "tableResultSettingsMap": {},
     "title": ""
    }
   },
   "outputs": [],
   "source": [
    "%run ../utils/common"
   ]
  },
  {
   "cell_type": "code",
   "execution_count": 0,
   "metadata": {
    "application/vnd.databricks.v1+cell": {
     "cellMetadata": {
      "byteLimit": 2048000,
      "rowLimit": 10000
     },
     "inputWidgets": {},
     "nuid": "268e921e-8497-4a87-8149-4099a1299406",
     "showTitle": false,
     "tableResultSettingsMap": {},
     "title": ""
    }
   },
   "outputs": [],
   "source": [
    "dbutils.widgets.text(\"environment\", \"\", \"\")\n",
    "dbutils.widgets.text(\"target_dataset\", \"VCM_DMT_PRD\")\n",
    "dbutils.widgets.text(\"target_table\", \"a_billcnt_mch2\")\n",
    "dbutils.widgets.text(\"metadata_schema\", \"udp_wcm_metadata_dev\")\n",
    "dbutils.widgets.text(\n",
    "    \"dependency_table\",\"VCM_DWH_PRD.F_TRANSACTION_LINE, VCM_STG_INF.SAP_VCDEXT01, VCM_DMT_PRD.A_FINANCE_BILL_SLL_DETAIL\"\n",
    ")"
   ]
  },
  {
   "cell_type": "code",
   "execution_count": 0,
   "metadata": {
    "application/vnd.databricks.v1+cell": {
     "cellMetadata": {
      "byteLimit": 2048000,
      "rowLimit": 10000
     },
     "inputWidgets": {},
     "nuid": "ca50feaa-f4e6-4bd6-b13b-32537170570f",
     "showTitle": false,
     "tableResultSettingsMap": {},
     "title": ""
    }
   },
   "outputs": [],
   "source": [
    "dbutils.widgets.text(\"field_calday\", \"CALDAY\")\n",
    "dbutils.widgets.text(\"field_id\", \"HASH_ID\")"
   ]
  },
  {
   "cell_type": "code",
   "execution_count": 0,
   "metadata": {
    "application/vnd.databricks.v1+cell": {
     "cellMetadata": {
      "byteLimit": 2048000,
      "rowLimit": 10000
     },
     "inputWidgets": {},
     "nuid": "a357d47a-aefb-4c76-9090-2347f4e988bb",
     "showTitle": false,
     "tableResultSettingsMap": {},
     "title": ""
    }
   },
   "outputs": [],
   "source": [
    "catalog_name = settings[environment]['catalog_name']"
   ]
  },
  {
   "cell_type": "code",
   "execution_count": 0,
   "metadata": {
    "application/vnd.databricks.v1+cell": {
     "cellMetadata": {
      "byteLimit": 2048000,
      "rowLimit": 10000
     },
     "inputWidgets": {},
     "nuid": "57e867c7-9415-4c26-af70-47f525c7e161",
     "showTitle": false,
     "tableResultSettingsMap": {},
     "title": ""
    }
   },
   "outputs": [],
   "source": [
    "environment = dbutils.widgets.get(\"environment\")\n",
    "target_dataset = dbutils.widgets.get(\"target_dataset\")\n",
    "target_table = dbutils.widgets.get(\"target_table\")\n",
    "metadata_schema = dbutils.widgets.get(\"metadata_schema\")\n",
    "dependency_table = dbutils.widgets.get(\"dependency_table\")\n",
    "dependency_table = [x.strip().upper() for x in dependency_table.split(\",\")]\n",
    "dependency_table = \"'\" + \"','\".join(dependency_table) + \"'\"\n",
    "\n",
    "print(f\"environment: {environment}\")\n",
    "print(f\"target_dataset: {target_dataset}\")\n",
    "print(f\"target_table: {target_table}\")\n",
    "print(f\"catalog_name: {catalog_name}\")\n",
    "print(f\"metadata_schema: {metadata_schema}\")\n",
    "print(f\"dependency_table: {dependency_table}\")"
   ]
  },
  {
   "cell_type": "code",
   "execution_count": 0,
   "metadata": {
    "application/vnd.databricks.v1+cell": {
     "cellMetadata": {
      "byteLimit": 2048000,
      "rowLimit": 10000
     },
     "inputWidgets": {},
     "nuid": "ce0f8e0e-256b-4a72-8d19-9f6cc65c0bff",
     "showTitle": false,
     "tableResultSettingsMap": {},
     "title": ""
    }
   },
   "outputs": [],
   "source": [
    "field_calday = dbutils.widgets.get(\"field_calday\")\n",
    "field_id = dbutils.widgets.get(\"field_id\")\n",
    "\n",
    "print(f\"field_calday: {field_calday}\")\n",
    "print(f\"field_id: {field_id}\")"
   ]
  },
  {
   "cell_type": "code",
   "execution_count": 0,
   "metadata": {
    "application/vnd.databricks.v1+cell": {
     "cellMetadata": {
      "byteLimit": 2048000,
      "implicitDf": true,
      "rowLimit": 10000
     },
     "inputWidgets": {},
     "nuid": "1cfed4b2-a8e8-4197-96d1-8273237d3708",
     "showTitle": false,
     "tableResultSettingsMap": {},
     "title": ""
    }
   },
   "outputs": [],
   "source": [
    "%run \"../common/common_etl_load\""
   ]
  },
  {
   "cell_type": "code",
   "execution_count": 0,
   "metadata": {
    "application/vnd.databricks.v1+cell": {
     "cellMetadata": {
      "byteLimit": 2048000,
      "rowLimit": 10000
     },
     "inputWidgets": {},
     "nuid": "7d9505ea-80dd-44e9-974b-aaef86b523a1",
     "showTitle": false,
     "tableResultSettingsMap": {},
     "title": ""
    }
   },
   "outputs": [],
   "source": [
    "spark.sql(f\"\"\"\n",
    "CREATE TABLE IF NOT EXISTS {catalog_name}.udp_wcm_gold_vcm_dmt.a_billcnt_mch2 (\n",
    "    calday DATE,\n",
    "    store_id STRING,\n",
    "    store_name STRING,\n",
    "    mch2_id STRING,\n",
    "    mch2_desc STRING,\n",
    "    billcnt BIGINT,\n",
    "    billcnt_excl_sll BIGINT,\n",
    "    billcnt_promo BIGINT,\n",
    "    billcnt_store BIGINT\n",
    ")\n",
    "TBLPROPERTIES (\n",
    "  'DELTA.AUTOOPTIMIZE.OPTIMIZEWRITE' = 'TRUE',\n",
    "  'DELTA.AUTOOPTIMIZE.AUTOCOMPACT' = 'TRUE'\n",
    ")\n",
    "\"\"\")"
   ]
  },
  {
   "cell_type": "code",
   "execution_count": 0,
   "metadata": {
    "application/vnd.databricks.v1+cell": {
     "cellMetadata": {
      "byteLimit": 2048000,
      "rowLimit": 10000
     },
     "inputWidgets": {},
     "nuid": "ff74aa3f-15a5-435f-8eca-46acea485484",
     "showTitle": false,
     "tableResultSettingsMap": {},
     "title": ""
    }
   },
   "outputs": [],
   "source": [
    "if CALDAY_IN_STR != '':\n",
    "    spark.sql(f\"\"\"\n",
    "        CREATE OR REPLACE TEMP VIEW temp_{target_table} AS\n",
    "        WITH \n",
    "        TRANSACTION_SLL AS (\n",
    "            SELECT\n",
    "                DISTINCT\n",
    "                calday,\n",
    "                plant store_id,\n",
    "                rpa_tnr transaction_no\n",
    "            FROM {catalog_name}.udp_wcm_silver_sap_bw.sap_vcdext01\n",
    "            WHERE _bic_zc_fgroup = 'OGID'\n",
    "                AND _bic_zc_fname = 'B2B'\n",
    "                AND _bic_zc_fvalue LIKE 'B2B%'\n",
    "        ),\n",
    "        STORE_TXN AS (\n",
    "            SELECT\n",
    "                a.calday,\n",
    "                a.store_id,\n",
    "                b.mch2_id,\n",
    "                b.mch2_desc,\n",
    "                a.transaction_type,\n",
    "                COUNT(DISTINCT transaction_id) m_txn_cnt,\n",
    "                COUNT(DISTINCT IF(c.calday IS NULL AND c1.calday IS NULL, transaction_id, NULL)) m_txn_cnt_excl_sll,\n",
    "                COUNT(DISTINCT CASE WHEN promotion_sale > 0 THEN transaction_id END) m_txn_cnt_promo\n",
    "            FROM\n",
    "                {catalog_name}.udp_wcm_gold_vcm_dwh.f_transaction_line a\n",
    "                INNER JOIN {catalog_name}.udp_wcm_gold_vcm_dwh.d_product b ON a.product_id = b.product_id\n",
    "                LEFT JOIN {catalog_name}.udp_wcm_gold_vcm_dmt.a_finance_bill_sll_detail c ON a.calday = c.calday AND a.store_id = c.store_id AND a.product_id = c.product_id AND  LTRIM('0', a.transaction_no) = LTRIM('0', c.transaction_no)\n",
    "                LEFT JOIN transaction_sll c1 ON a.calday = c1.calday AND a.store_id = c1.store_id AND LTRIM('0', a.transaction_no) = LTRIM('0', c1.transaction_no)\n",
    "            WHERE a.calday IN ({CALDAY_IN_STR})\n",
    "            GROUP BY 1,2,3,4,5\n",
    "        ),\n",
    "        BILL_CNT_BY_MCH2 AS (\n",
    "            SELECT\n",
    "                calday,\n",
    "                a.store_id,\n",
    "                a.mch2_id,\n",
    "                a.mch2_desc,\n",
    "                SUM(b.bill_count * a.m_txn_cnt) billcnt_total,\n",
    "                SUM(b.bill_count * a.m_txn_cnt_excl_sll) billcnt_excl_sll,\n",
    "                SUM(b.bill_count * a.m_txn_cnt_promo) billcnt_promo\n",
    "            FROM\n",
    "                store_txn a\n",
    "                INNER JOIN {catalog_name}.udp_wcm_silver_dim.transaction_type b ON a.transaction_type = b.transaction_type\n",
    "            GROUP BY 1,2,3,4\n",
    "        )\n",
    "        SELECT\n",
    "            a.calday,\n",
    "            a.store_id,\n",
    "            b.store_name,\n",
    "            a.mch2_id,\n",
    "            a.mch2_desc,\n",
    "            a.billcnt_total billcnt,\n",
    "            a.billcnt_excl_sll,\n",
    "            a.billcnt_promo,\n",
    "            b.billcnt_total billcnt_store\n",
    "        FROM bill_cnt_by_mch2 a\n",
    "        LEFT JOIN {catalog_name}.udp_wcm_gold_vcm_dmt.a_billcnt_store b ON a.calday = b.calday AND a.store_id = b.store_id\n",
    "    \"\"\")\n",
    "else:\n",
    "    print(f\"No valid calday's found In common-etl to create the view: temp_{target_table}\")"
   ]
  },
  {
   "cell_type": "code",
   "execution_count": 0,
   "metadata": {
    "application/vnd.databricks.v1+cell": {
     "cellMetadata": {
      "byteLimit": 2048000,
      "rowLimit": 10000
     },
     "inputWidgets": {},
     "nuid": "34d79b37-8299-4a64-b37e-da25d811885c",
     "showTitle": false,
     "tableResultSettingsMap": {},
     "title": ""
    }
   },
   "outputs": [],
   "source": [
    "if CALDAY_IN_STR != \"\":\n",
    "    # Get the calday list string from temp table\n",
    "    calday_query = f\"\"\"\n",
    "    SELECT\n",
    "        CONCAT(\"'\", CONCAT_WS(\"','\", COLLECT_SET(CAST(TO_DATE(calday, 'yyyy-MM-dd') AS STRING))), \"'\") AS calday_in_str\n",
    "    FROM temp_{target_table}\n",
    "    \"\"\"\n",
    "\n",
    "    calday_df = spark.sql(calday_query)\n",
    "    calday_in_str = calday_df.collect()[0][0]\n",
    "\n",
    "    # Only run DELETE if the string is non-empty\n",
    "    if calday_in_str.strip(\"'\"):  # checks if there's any date inside the quotes\n",
    "        spark.sql(\n",
    "            f\"\"\"\n",
    "        DELETE FROM {catalog_name}.udp_wcm_gold_vcm_dmt.a_billcnt_store\n",
    "        WHERE calday IN ({calday_in_str})\n",
    "        \"\"\"\n",
    "        ).display()\n",
    "    else:\n",
    "        print(\"no valid calday's found to delete.\")\n",
    "else:\n",
    "    print(\n",
    "        f\"temp_{target_table} could't be created as no valid calday's found In common-etl so {catalog_name}.udp_wcm_gold_vcm_dwh.{{target_table}} can't be deleted using calday's from temp_{target_table}\"\n",
    "    )"
   ]
  },
  {
   "cell_type": "code",
   "execution_count": 0,
   "metadata": {
    "application/vnd.databricks.v1+cell": {
     "cellMetadata": {
      "byteLimit": 2048000,
      "rowLimit": 10000
     },
     "inputWidgets": {},
     "nuid": "6b6c2e35-a288-4801-b9f7-71d34ca8298f",
     "showTitle": false,
     "tableResultSettingsMap": {},
     "title": ""
    }
   },
   "outputs": [],
   "source": [
    "if CALDAY_IN_STR != \"\":\n",
    "    # Insert rows from temp table into main table\n",
    "    INSERT_ROW = \", \".join(\n",
    "        spark.table(f\"{catalog_name}.udp_wcm_gold_vcm_dmt.a_billcnt_mch2\").columns\n",
    "    )\n",
    "    spark.sql(\n",
    "        f\"\"\"\n",
    "        INSERT INTO {catalog_name}.udp_wcm_gold_vcm_dmt.a_billcnt_mch2 ({INSERT_ROW})\n",
    "        SELECT {INSERT_ROW} FROM temp_{target_table}\n",
    "    \"\"\"\n",
    "    ).display()\n",
    "else:\n",
    "    print(\n",
    "        f\"temp_{target_table} could't be created as no valid calday's found In common-etl so {catalog_name}.udp_wcm_gold_vcm_dmt.a_billcnt_mch2 can't be inserted using calday's from temp_{target_table}\"\n",
    "    )"
   ]
  },
  {
   "cell_type": "code",
   "execution_count": 0,
   "metadata": {
    "application/vnd.databricks.v1+cell": {
     "cellMetadata": {
      "byteLimit": 2048000,
      "rowLimit": 10000
     },
     "inputWidgets": {},
     "nuid": "8d5fcf10-122e-448f-9f8a-51d2c7608cac",
     "showTitle": false,
     "tableResultSettingsMap": {},
     "title": ""
    }
   },
   "outputs": [],
   "source": [
    "if CALDAY_IN_STR == '':\n",
    "    dbutils.notebook.exit(\"No valid calday's found In common-etl to insert data into Table: ETL_LOG_DEPENDENCIES and ETL_DELTA_TABLE and \")"
   ]
  },
  {
   "cell_type": "code",
   "execution_count": 0,
   "metadata": {
    "application/vnd.databricks.v1+cell": {
     "cellMetadata": {
      "byteLimit": 2048000,
      "rowLimit": 10000
     },
     "inputWidgets": {},
     "nuid": "110a3e0c-219d-43e2-a268-eadd186cc158",
     "showTitle": false,
     "tableResultSettingsMap": {},
     "title": ""
    }
   },
   "outputs": [],
   "source": [
    "%run \"../common/common_etl_update\""
   ]
  }
 ],
 "metadata": {
  "application/vnd.databricks.v1+notebook": {
   "computePreferences": null,
   "dashboards": [],
   "environmentMetadata": {
    "base_environment": "",
    "environment_version": "2"
   },
   "inputWidgetPreferences": null,
   "language": "python",
   "notebookMetadata": {
    "mostRecentlyExecutedCommandWithImplicitDF": {
     "commandId": -1,
     "dataframes": [
      "_sqldf"
     ]
    },
    "pythonIndentUnit": 4
   },
   "notebookName": "a_billcnt_mch2",
   "widgets": {
    "dependency_table": {
     "currentValue": "VCM_DWH_PRD.F_TRANSACTION_LINE, VCM_STG_INF.SAP_VCDEXT01, VCM_DMT_PRD.A_FINANCE_BILL_SLL_DETAIL",
     "nuid": "9ae21b0b-ec7c-4b3b-8d0e-ef60451c05fa",
     "typedWidgetInfo": {
      "autoCreated": false,
      "defaultValue": "",
      "label": null,
      "name": "dependency_table",
      "options": {
       "widgetDisplayType": "Text",
       "validationRegex": null
      },
      "parameterDataType": "String"
     },
     "widgetInfo": {
      "widgetType": "text",
      "defaultValue": "",
      "label": null,
      "name": "dependency_table",
      "options": {
       "widgetType": "text",
       "autoCreated": null,
       "validationRegex": null
      }
     }
    },
    "environment": {
     "currentValue": "DEV",
     "nuid": "8ba2cc58-c0d3-46b5-981b-8f4b97c41a86",
     "typedWidgetInfo": {
      "autoCreated": false,
      "defaultValue": "",
      "label": "",
      "name": "environment",
      "options": {
       "widgetDisplayType": "Text",
       "validationRegex": null
      },
      "parameterDataType": "String"
     },
     "widgetInfo": {
      "widgetType": "text",
      "defaultValue": "",
      "label": "",
      "name": "environment",
      "options": {
       "widgetType": "text",
       "autoCreated": null,
       "validationRegex": null
      }
     }
    },
    "field_calday": {
     "currentValue": "CALDAY",
     "nuid": "fdca85b8-68aa-48fe-a1dc-4b71950f955c",
     "typedWidgetInfo": {
      "autoCreated": false,
      "defaultValue": "CALDAY",
      "label": null,
      "name": "field_calday",
      "options": {
       "widgetDisplayType": "Text",
       "validationRegex": null
      },
      "parameterDataType": "String"
     },
     "widgetInfo": {
      "widgetType": "text",
      "defaultValue": "CALDAY",
      "label": null,
      "name": "field_calday",
      "options": {
       "widgetType": "text",
       "autoCreated": null,
       "validationRegex": null
      }
     }
    },
    "field_id": {
     "currentValue": "HASH_ID",
     "nuid": "9b38af22-a2b0-4942-a4a2-dfff95f58283",
     "typedWidgetInfo": {
      "autoCreated": false,
      "defaultValue": "HASH_ID",
      "label": null,
      "name": "field_id",
      "options": {
       "widgetDisplayType": "Text",
       "validationRegex": null
      },
      "parameterDataType": "String"
     },
     "widgetInfo": {
      "widgetType": "text",
      "defaultValue": "HASH_ID",
      "label": null,
      "name": "field_id",
      "options": {
       "widgetType": "text",
       "autoCreated": null,
       "validationRegex": null
      }
     }
    },
    "metadata_schema": {
     "currentValue": "udp_wcm_metadata_dev",
     "nuid": "954366de-898b-43ce-9d63-7402f2a99538",
     "typedWidgetInfo": {
      "autoCreated": false,
      "defaultValue": "udp_wcm_metadata_dev",
      "label": null,
      "name": "metadata_schema",
      "options": {
       "widgetDisplayType": "Text",
       "validationRegex": null
      },
      "parameterDataType": "String"
     },
     "widgetInfo": {
      "widgetType": "text",
      "defaultValue": "udp_wcm_metadata_dev",
      "label": null,
      "name": "metadata_schema",
      "options": {
       "widgetType": "text",
       "autoCreated": null,
       "validationRegex": null
      }
     }
    },
    "target_dataset": {
     "currentValue": "VCM_DMT_PRD",
     "nuid": "7b957161-469e-4cc4-9806-5607824328ba",
     "typedWidgetInfo": {
      "autoCreated": false,
      "defaultValue": "udp_wcm_gold_vcm_dwh",
      "label": null,
      "name": "target_dataset",
      "options": {
       "widgetDisplayType": "Text",
       "validationRegex": null
      },
      "parameterDataType": "String"
     },
     "widgetInfo": {
      "widgetType": "text",
      "defaultValue": "udp_wcm_gold_vcm_dwh",
      "label": null,
      "name": "target_dataset",
      "options": {
       "widgetType": "text",
       "autoCreated": null,
       "validationRegex": null
      }
     }
    },
    "target_table": {
     "currentValue": "a_billcnt_mch2",
     "nuid": "9c4b2d8f-843c-4bdf-a528-a4c2d84a029b",
     "typedWidgetInfo": {
      "autoCreated": false,
      "defaultValue": "a_billcnt_mch2",
      "label": null,
      "name": "target_table",
      "options": {
       "widgetDisplayType": "Text",
       "validationRegex": null
      },
      "parameterDataType": "String"
     },
     "widgetInfo": {
      "widgetType": "text",
      "defaultValue": "a_billcnt_mch2",
      "label": null,
      "name": "target_table",
      "options": {
       "widgetType": "text",
       "autoCreated": null,
       "validationRegex": null
      }
     }
    }
   }
  },
  "language_info": {
   "name": "python"
  }
 },
 "nbformat": 4,
 "nbformat_minor": 0
}
