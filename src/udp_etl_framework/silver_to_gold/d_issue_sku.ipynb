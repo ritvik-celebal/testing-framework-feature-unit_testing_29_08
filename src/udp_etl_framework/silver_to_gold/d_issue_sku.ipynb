{
 "cells": [
  {
   "cell_type": "code",
   "execution_count": 0,
   "metadata": {
    "application/vnd.databricks.v1+cell": {
     "cellMetadata": {
      "byteLimit": 2048000,
      "rowLimit": 10000
     },
     "inputWidgets": {},
     "nuid": "c76b9eb5-5868-4f72-981a-25d4359949c8",
     "showTitle": false,
     "tableResultSettingsMap": {},
     "title": ""
    }
   },
   "outputs": [],
   "source": [
    "dbutils.widgets.text(\"proc_date\", \"\", \"\")\n",
    "environment = dbutils.widgets.get(\"proc_date\")"
   ]
  },
  {
   "cell_type": "code",
   "execution_count": 0,
   "metadata": {
    "application/vnd.databricks.v1+cell": {
     "cellMetadata": {
      "byteLimit": 2048000,
      "rowLimit": 10000
     },
     "inputWidgets": {},
     "nuid": "09ac5822-9a59-49d0-b079-405bc9c8781e",
     "showTitle": false,
     "tableResultSettingsMap": {},
     "title": ""
    }
   },
   "outputs": [],
   "source": [
    "%run ../utils/common"
   ]
  },
  {
   "cell_type": "code",
   "execution_count": 0,
   "metadata": {
    "application/vnd.databricks.v1+cell": {
     "cellMetadata": {
      "byteLimit": 2048000,
      "rowLimit": 10000
     },
     "inputWidgets": {},
     "nuid": "b9601ecc-ada5-4951-be26-cee599e930eb",
     "showTitle": false,
     "tableResultSettingsMap": {},
     "title": ""
    }
   },
   "outputs": [],
   "source": [
    "dbutils.widgets.text(\"environment\", \"\", \"\")\n",
    "environment = dbutils.widgets.get(\"environment\")"
   ]
  },
  {
   "cell_type": "code",
   "execution_count": 0,
   "metadata": {
    "application/vnd.databricks.v1+cell": {
     "cellMetadata": {
      "byteLimit": 2048000,
      "rowLimit": 10000
     },
     "inputWidgets": {},
     "nuid": "5e7cc099-7a8c-4c9e-a28f-4e52d9bbe109",
     "showTitle": false,
     "tableResultSettingsMap": {},
     "title": ""
    }
   },
   "outputs": [],
   "source": [
    "catalog_name = settings[environment]['catalog_name']"
   ]
  },
  {
   "cell_type": "code",
   "execution_count": 0,
   "metadata": {
    "application/vnd.databricks.v1+cell": {
     "cellMetadata": {},
     "inputWidgets": {},
     "nuid": "96421b81-1539-4d05-9cf3-8371b67b164c",
     "showTitle": false,
     "tableResultSettingsMap": {},
     "title": ""
    }
   },
   "outputs": [],
   "source": [
    "spark.conf.set(\"spark.sql.autoBroadcastJoinThreshold\", 314572800)"
   ]
  },
  {
   "cell_type": "code",
   "execution_count": 0,
   "metadata": {
    "application/vnd.databricks.v1+cell": {
     "cellMetadata": {
      "byteLimit": 2048000,
      "rowLimit": 10000
     },
     "inputWidgets": {},
     "nuid": "d9d3c126-1528-41e2-9d82-85f1866608bf",
     "showTitle": false,
     "tableResultSettingsMap": {},
     "title": ""
    }
   },
   "outputs": [],
   "source": [
    "catalog_name='udp_wcm_dev'"
   ]
  },
  {
   "cell_type": "code",
   "execution_count": 0,
   "metadata": {
    "application/vnd.databricks.v1+cell": {
     "cellMetadata": {
      "byteLimit": 2048000,
      "rowLimit": 10000
     },
     "inputWidgets": {},
     "nuid": "7b5b5488-ae47-4193-8a7a-9bc881d99378",
     "showTitle": false,
     "tableResultSettingsMap": {},
     "title": ""
    }
   },
   "outputs": [],
   "source": [
    "spark.sql(f\"\"\"\n",
    "CREATE OR REPLACE TABLE {catalog_name}.udp_wcm_gold_vcm_dwh.d_issue_sku \n",
    "TBLPROPERTIES (\n",
    "  'DELTA.AUTOOPTIMIZE.OPTIMIZEWRITE' = 'TRUE',\n",
    "  'DELTA.AUTOOPTIMIZE.AUTOCOMPACT' = 'TRUE'\n",
    ")\n",
    "AS\n",
    "WITH store AS (\n",
    "    SELECT \n",
    "        store_id, business_unit, city,  \n",
    "        CASE WHEN city IN ('THANH HÓA','NGHỆ AN','HÀ TĨNH','QUẢNG BÌNH') THEN 'North'\n",
    "            WHEN region_domain IN ('West','Central') THEN 'South'\n",
    "            ELSE region_domain \n",
    "        END region_domain\n",
    "    FROM {catalog_name}.udp_wcm_gold_vcm_dwh.d_store\n",
    "    WHERE store_status_id = 'OPEN'\n",
    ")\n",
    "SELECT \n",
    "    city, asst, product_id,`from`, `to`, proc_date,start_date,end_date\n",
    "    FROM (\n",
    "SELECT /*+ REPARTITION(1000) */ \n",
    "    b.*,\n",
    "    ROW_NUMBER() OVER (PARTITION BY city, product_id, asst, end_date ORDER BY city, product_id, asst, end_date DESC,`from` DESC, start_date DESC) rn1\n",
    "    FROM (\n",
    "        SELECT /*+ REPARTITION(1000) */ \n",
    "            a.*, \n",
    "            ROW_NUMBER() OVER (PARTITION BY city, product_id, asst, end_date ORDER BY city, product_id, asst, /*val, */ proc_date DESC,`to` DESC, end_date DESC) rn\n",
    "            FROM (\n",
    "                SELECT\n",
    "                    tinh city, asst, product_id, IFNULL(`from`,'1900-01-01') AS `from`, IFNULL(`to`,'2400-12-31') AS `to`, 1 val, proc_date,start_date, end_date\n",
    "                    FROM {catalog_name}.udp_wcm_silver_dim.stg_vmp_issue_sku_all_provinces a\n",
    "                    \n",
    "                UNION ALL\n",
    "                SELECT \n",
    "                    b.city, a.asst, a.product_id, a.`from`, a.`to`, a.val, \n",
    "                    a.proc_date, a.start_date, a.end_date\n",
    "                        FROM (\n",
    "                        SELECT \n",
    "                            asst, product_id, \n",
    "                            IFNULL(`from`,'1900-01-01') AS `from`, \n",
    "                            IFNULL(`to`,'2400-12-31')   AS `to`, \n",
    "                            2 val, proc_date, start_date, end_date, region\n",
    "                        FROM udp_wcm_dev.udp_wcm_silver_dim.stg_vmp_issue_sku_mb\n",
    "\n",
    "                        UNION ALL\n",
    "\n",
    "                        SELECT \n",
    "                            asst, product_id, \n",
    "                            IFNULL(`from`,'1900-01-01') AS `from`, \n",
    "                            IFNULL(`to`,'2400-12-31')   AS `to`, \n",
    "                            3 val, proc_date, start_date, end_date, region\n",
    "                        FROM udp_wcm_dev.udp_wcm_silver_dim.stg_vmp_issue_sku_mn\n",
    "                        ) a\n",
    "                        INNER JOIN store b \n",
    "                            ON a.region = b.region_domain\n",
    "                 \n",
    "        ) a \n",
    ")  b WHERE b.rn = 1 \n",
    ") x WHERE x.rn1 = 1 \n",
    ";\n",
    "\"\"\")"
   ]
  },
  {
   "cell_type": "code",
   "execution_count": 0,
   "metadata": {
    "application/vnd.databricks.v1+cell": {
     "cellMetadata": {},
     "inputWidgets": {},
     "nuid": "7c33f504-d7b8-4ab6-8b9f-f44f9b176fe2",
     "showTitle": false,
     "tableResultSettingsMap": {},
     "title": ""
    }
   },
   "outputs": [],
   "source": []
  }
 ],
 "metadata": {
  "application/vnd.databricks.v1+notebook": {
   "computePreferences": null,
   "dashboards": [],
   "environmentMetadata": {
    "base_environment": "",
    "environment_version": "2"
   },
   "inputWidgetPreferences": null,
   "language": "python",
   "notebookMetadata": {
    "mostRecentlyExecutedCommandWithImplicitDF": {
     "commandId": 6403329334356751,
     "dataframes": [
      "_sqldf"
     ]
    },
    "pythonIndentUnit": 4
   },
   "notebookName": "d_issue_sku",
   "widgets": {
    "environment": {
     "currentValue": "DEV",
     "nuid": "5fdd5b33-de4d-4477-9c4b-06dbeaa75f46",
     "typedWidgetInfo": {
      "autoCreated": false,
      "defaultValue": "",
      "label": "",
      "name": "environment",
      "options": {
       "widgetDisplayType": "Text",
       "validationRegex": null
      },
      "parameterDataType": "String"
     },
     "widgetInfo": {
      "widgetType": "text",
      "defaultValue": "",
      "label": "",
      "name": "environment",
      "options": {
       "widgetType": "text",
       "autoCreated": null,
       "validationRegex": null
      }
     }
    },
    "proc_date": {
     "currentValue": "2025-07-21",
     "nuid": "0a8ed988-6b2b-40b6-ad01-d524528ef036",
     "typedWidgetInfo": {
      "autoCreated": false,
      "defaultValue": "",
      "label": "",
      "name": "proc_date",
      "options": {
       "widgetDisplayType": "Text",
       "validationRegex": null
      },
      "parameterDataType": "String"
     },
     "widgetInfo": {
      "widgetType": "text",
      "defaultValue": "",
      "label": "",
      "name": "proc_date",
      "options": {
       "widgetType": "text",
       "autoCreated": null,
       "validationRegex": null
      }
     }
    }
   }
  },
  "language_info": {
   "name": "python"
  }
 },
 "nbformat": 4,
 "nbformat_minor": 0
}
