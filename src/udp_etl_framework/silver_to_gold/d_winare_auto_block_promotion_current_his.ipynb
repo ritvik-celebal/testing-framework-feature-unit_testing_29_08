{
 "cells": [
  {
   "cell_type": "code",
   "execution_count": 0,
   "metadata": {
    "application/vnd.databricks.v1+cell": {
     "cellMetadata": {},
     "inputWidgets": {},
     "nuid": "f8bc9ec5-8726-43b0-b24c-77cb6b00246a",
     "showTitle": false,
     "tableResultSettingsMap": {},
     "title": ""
    }
   },
   "outputs": [],
   "source": [
    "%run ../utils/common"
   ]
  },
  {
   "cell_type": "code",
   "execution_count": 0,
   "metadata": {
    "application/vnd.databricks.v1+cell": {
     "cellMetadata": {},
     "inputWidgets": {},
     "nuid": "f371237b-66bc-484b-a016-45378f721089",
     "showTitle": false,
     "tableResultSettingsMap": {},
     "title": ""
    }
   },
   "outputs": [],
   "source": [
    "dbutils.widgets.text(\"environment\", \"\", \"\")\n",
    "environment = dbutils.widgets.get(\"environment\")"
   ]
  },
  {
   "cell_type": "code",
   "execution_count": 0,
   "metadata": {
    "application/vnd.databricks.v1+cell": {
     "cellMetadata": {},
     "inputWidgets": {},
     "nuid": "b91bc00e-66a8-454c-8a52-158a0cb4e790",
     "showTitle": false,
     "tableResultSettingsMap": {},
     "title": ""
    }
   },
   "outputs": [],
   "source": [
    "catalog_name = settings[environment]['catalog_name']"
   ]
  },
  {
   "cell_type": "code",
   "execution_count": 0,
   "metadata": {
    "application/vnd.databricks.v1+cell": {
     "cellMetadata": {
      "byteLimit": 2048000,
      "rowLimit": 10000
     },
     "inputWidgets": {},
     "nuid": "a3ddca79-f44b-4e27-95e0-c3f13d49cce4",
     "showTitle": false,
     "tableResultSettingsMap": {},
     "title": ""
    }
   },
   "outputs": [],
   "source": [
    "spark.sql(f'''\n",
    "CREATE TABLE IF NOT EXISTS {catalog_name}.dp_wcm_gold_db_winare_nonfresh_dc.d_winare_auto_block_promotion_current_his\n",
    "(\n",
    "  calday DATE,\n",
    "  promotion_id STRING,\n",
    "  bonus_buy_id STRING,\n",
    "  bonus_buy_note STRING,\n",
    "  bonus_buy_profile STRING,\n",
    "  promo_start_date DATE,\n",
    "  promo_end_date DATE,\n",
    "  store_id STRING,\n",
    "  supply_region STRING,\n",
    "  buy_item_id STRING,\n",
    "  discount_product_id STRING,\n",
    "  value_claimback NUMERIC,\n",
    "  form_claimback STRING,\n",
    "  vendor_free_goods STRING,\n",
    "  vendor_price STRING,\n",
    "  block_sto BIGINT,\n",
    "  block_po BIGINT\n",
    ")\n",
    "TBLPROPERTIES (\n",
    "  'DELTA.AUTOOPTIMIZE.OPTIMIZEWRITE' = 'TRUE',\n",
    "  'DELTA.AUTOOPTIMIZE.AUTOCOMPACT' = 'TRUE'\n",
    ")\n",
    "''')"
   ]
  },
  {
   "cell_type": "code",
   "execution_count": 0,
   "metadata": {
    "application/vnd.databricks.v1+cell": {
     "cellMetadata": {
      "byteLimit": 2048000,
      "rowLimit": 10000
     },
     "inputWidgets": {},
     "nuid": "e95dc8d8-f7c1-4702-a205-b8beb173dac9",
     "showTitle": false,
     "tableResultSettingsMap": {},
     "title": ""
    }
   },
   "outputs": [],
   "source": [
    "spark.sql(f\"\"\"\n",
    "DELETE FROM {catalog_name}.udp_wcm_gold_db_winare_nonfresh_dc.d_winare_auto_block_promotion_current_his\n",
    "WHERE calday = DATE(CURRENT_TIMESTAMP() + INTERVAL 7 HOURS)-1;    \n",
    "\"\"\")"
   ]
  },
  {
   "cell_type": "code",
   "execution_count": 0,
   "metadata": {
    "application/vnd.databricks.v1+cell": {
     "cellMetadata": {
      "byteLimit": 2048000,
      "rowLimit": 10000
     },
     "inputWidgets": {},
     "nuid": "c3615a3b-59bd-4582-aea4-d0ea7b2f9358",
     "showTitle": false,
     "tableResultSettingsMap": {},
     "title": ""
    }
   },
   "outputs": [],
   "source": [
    "spark.sql(f\"\"\"\n",
    "INSERT INTO {catalog_name}.udp_wcm_gold_db_winare_nonfresh_dc.d_winare_auto_block_promotion_current_his\n",
    "SELECT \n",
    "DATE(CURRENT_TIMESTAMP() + INTERVAL 7 HOURS) -1 calday,\n",
    "    promotion_id,\n",
    "    bonus_buy_id,\n",
    "    bonus_buy_note,\n",
    "    bonus_buy_profile,\n",
    "    promo_start_date,\n",
    "    promo_end_date,\n",
    "    store_id,\n",
    "    CAST(NULL AS STRING) supply_region,\n",
    "    buy_item_id,\n",
    "    discount_product_id,\n",
    "    value_claimback,\n",
    "    form_claimback,\n",
    "    CAST(NULL AS STRING) vendor_free_goods,\n",
    "    CAST(NULL AS STRING) vendor_price,\n",
    "    block_sto,\n",
    "    block_po\n",
    "FROM {catalog_name}.udp_wcm_gold_db_winare_nonfresh_dc.d_winare_auto_block_promotion_current\n",
    "\"\"\")"
   ]
  }
 ],
 "metadata": {
  "application/vnd.databricks.v1+notebook": {
   "computePreferences": null,
   "dashboards": [],
   "environmentMetadata": {
    "base_environment": "",
    "environment_version": "2"
   },
   "inputWidgetPreferences": null,
   "language": "python",
   "notebookMetadata": {
    "mostRecentlyExecutedCommandWithImplicitDF": {
     "commandId": 8416419470633383,
     "dataframes": [
      "_sqldf"
     ]
    },
    "pythonIndentUnit": 4
   },
   "notebookName": "d_winare_auto_block_promotion_current_his",
   "widgets": {}
  },
  "language_info": {
   "name": "python"
  }
 },
 "nbformat": 4,
 "nbformat_minor": 0
}
