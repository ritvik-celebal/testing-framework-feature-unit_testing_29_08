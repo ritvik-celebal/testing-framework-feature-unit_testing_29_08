{
 "cells": [
  {
   "cell_type": "code",
   "execution_count": 0,
   "metadata": {
    "application/vnd.databricks.v1+cell": {
     "cellMetadata": {
      "byteLimit": 2048000,
      "rowLimit": 10000
     },
     "inputWidgets": {},
     "nuid": "024193b0-38a8-402f-a0d3-4b3129a7e866",
     "showTitle": false,
     "tableResultSettingsMap": {},
     "title": ""
    }
   },
   "outputs": [],
   "source": [
    "%run ../utils/common"
   ]
  },
  {
   "cell_type": "code",
   "execution_count": 0,
   "metadata": {
    "application/vnd.databricks.v1+cell": {
     "cellMetadata": {
      "byteLimit": 2048000,
      "rowLimit": 10000
     },
     "inputWidgets": {},
     "nuid": "820d7837-6b9f-4209-a04e-360673a27f04",
     "showTitle": false,
     "tableResultSettingsMap": {},
     "title": ""
    }
   },
   "outputs": [],
   "source": [
    "dbutils.widgets.text(\"environment\", \"\", \"\")\n",
    "environment = dbutils.widgets.get(\"environment\")"
   ]
  },
  {
   "cell_type": "code",
   "execution_count": 0,
   "metadata": {
    "application/vnd.databricks.v1+cell": {
     "cellMetadata": {
      "byteLimit": 2048000,
      "rowLimit": 10000
     },
     "inputWidgets": {},
     "nuid": "50e87431-1091-489b-9c94-7db7f1f1f00d",
     "showTitle": false,
     "tableResultSettingsMap": {},
     "title": ""
    }
   },
   "outputs": [],
   "source": [
    "catalog_name = settings[environment]['catalog_name']"
   ]
  },
  {
   "cell_type": "code",
   "execution_count": 0,
   "metadata": {
    "application/vnd.databricks.v1+cell": {
     "cellMetadata": {
      "byteLimit": 2048000,
      "rowLimit": 10000
     },
     "inputWidgets": {},
     "nuid": "44c3e915-16f3-4fcf-a5af-a40fab96adf5",
     "showTitle": false,
     "tableResultSettingsMap": {},
     "title": ""
    }
   },
   "outputs": [],
   "source": [
    "spark.sql(f\"\"\"\n",
    "CREATE OR REPLACE TABLE {catalog_name}.udp_wcm_gold_vcm_dwh.d_product_bom_winare\n",
    "TBLPROPERTIES (\n",
    "  'DELTA.AUTOOPTIMIZE.OPTIMIZEWRITE' = 'TRUE',\n",
    "  'DELTA.AUTOOPTIMIZE.AUTOCOMPACT' = 'TRUE'\n",
    ")\n",
    "AS\n",
    "WITH OLALA AS (\n",
    "    SELECT EXPLODE(ARRAY('10184193', '10184194', '10243668', '10243669', '10243670', '10243671')) AS material_no\n",
    "),\n",
    "BOM AS (\n",
    "    SELECT \n",
    "        CAST(material_no AS STRING) AS material_no, \n",
    "        base_uom, \n",
    "        base_quantity, \n",
    "        IFNULL(CASE WHEN CAST(bom_component AS DOUBLE) = CAST(CAST(bom_component AS DOUBLE) AS BIGINT) THEN CAST(CAST(bom_component AS BIGINT) AS STRING) ELSE TRIM(TRAILING '0' FROM(CAST(bom_component AS DECIMAL(38,10)))) END, \"\") AS bom_component,\n",
    "        component_quantity, \n",
    "        component_uom\n",
    "    FROM {catalog_name}.udp_wcm_silver_sap_car.master_bom\n",
    "    WHERE \n",
    "        proc_date IS NOT NULL\n",
    "        AND sapi_doc_no IN\n",
    "            (\n",
    "            SELECT DISTINCT sapi_doc_no \n",
    "            FROM {catalog_name}.udp_wcm_silver_sap_car.master_bom\n",
    "            WHERE proc_date IS NOT NULL AND bom_component IS NOT NULL\n",
    "            QUALIFY ROW_NUMBER() OVER (PARTITION BY material_no ORDER BY proc_date DESC) = 1\n",
    "            )\n",
    "),\n",
    "BOM_OLALA AS (\n",
    "    SELECT\n",
    "        a.material_no AS product_id, a.base_uom, a.base_quantity,\n",
    "        CASE WHEN UPPER(c.product_name) LIKE 'DUMMY%' OR UPPER(c.product_name) LIKE 'DUMY%' THEN b.material_no ELSE a.bom_component END AS component_id,\n",
    "        CASE WHEN UPPER(c.product_name) LIKE 'DUMMY%' OR UPPER(c.product_name) LIKE 'DUMY%' THEN c1.product_name ELSE c.product_name END AS component_name,\n",
    "        CASE WHEN UPPER(c.product_name) LIKE 'DUMMY%' OR UPPER(c.product_name) LIKE 'DUMY%' THEN a.base_quantity * a.component_quantity / (b.base_quantity * b.component_quantity) ELSE a.base_quantity * a.component_quantity END AS component_quantity,\n",
    "        CASE WHEN UPPER(c.product_name) LIKE 'DUMMY%' OR UPPER(c.product_name) LIKE 'DUMY%' THEN b.base_uom ELSE a.component_uom END AS component_uom\n",
    "    FROM (\n",
    "        SELECT *\n",
    "        FROM BOM WHERE material_no IN (SELECT material_no FROM OLALA)\n",
    "    ) a\n",
    "    LEFT JOIN (\n",
    "        SELECT *\n",
    "        FROM BOM WHERE material_no NOT IN (SELECT material_no FROM OLALA)\n",
    "    ) b\n",
    "        ON a.bom_component = b.bom_component\n",
    "    LEFT JOIN {catalog_name}.udp_wcm_gold_vcm_dwh.d_product c\n",
    "        ON a.bom_component = c.product_id\n",
    "    LEFT JOIN {catalog_name}.udp_wcm_gold_vcm_dwh.d_product c1\n",
    "        ON b.material_no = c1.product_id\n",
    ")\n",
    "SELECT \n",
    "    *,\n",
    "    CASE WHEN UPPER(component_name) LIKE 'HỘP ĐỰNG%' THEN 1 ELSE 0 END AS is_box\n",
    "FROM BOM_OLALA\n",
    "\"\"\")"
   ]
  }
 ],
 "metadata": {
  "application/vnd.databricks.v1+notebook": {
   "computePreferences": null,
   "dashboards": [],
   "environmentMetadata": {
    "base_environment": "",
    "environment_version": "2"
   },
   "inputWidgetPreferences": null,
   "language": "python",
   "notebookMetadata": {
    "mostRecentlyExecutedCommandWithImplicitDF": {
     "commandId": 6410538414284281,
     "dataframes": [
      "_sqldf"
     ]
    },
    "pythonIndentUnit": 4
   },
   "notebookName": "d_product_bom_winare",
   "widgets": {
    "environment": {
     "currentValue": "DEV",
     "nuid": "87724554-918d-4ffb-8bd7-0089c1b3d755",
     "typedWidgetInfo": {
      "autoCreated": false,
      "defaultValue": "",
      "label": "",
      "name": "environment",
      "options": {
       "widgetDisplayType": "Text",
       "validationRegex": null
      },
      "parameterDataType": "String"
     },
     "widgetInfo": {
      "widgetType": "text",
      "defaultValue": "",
      "label": "",
      "name": "environment",
      "options": {
       "widgetType": "text",
       "autoCreated": null,
       "validationRegex": null
      }
     }
    },
    "proc_date": {
     "currentValue": "2025-07-19",
     "nuid": "9180601d-59ea-446d-b3bf-eff4b8cf7a5c",
     "typedWidgetInfo": {
      "autoCreated": false,
      "defaultValue": "",
      "label": null,
      "name": "proc_date",
      "options": {
       "widgetDisplayType": "Text",
       "validationRegex": null
      },
      "parameterDataType": "String"
     },
     "widgetInfo": {
      "widgetType": "text",
      "defaultValue": "",
      "label": null,
      "name": "proc_date",
      "options": {
       "widgetType": "text",
       "autoCreated": null,
       "validationRegex": null
      }
     }
    }
   }
  },
  "language_info": {
   "name": "python"
  }
 },
 "nbformat": 4,
 "nbformat_minor": 0
}
