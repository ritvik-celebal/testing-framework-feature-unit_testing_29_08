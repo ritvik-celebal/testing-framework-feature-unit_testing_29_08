{
 "cells": [
  {
   "cell_type": "code",
   "execution_count": 0,
   "metadata": {
    "application/vnd.databricks.v1+cell": {
     "cellMetadata": {
      "byteLimit": 2048000,
      "rowLimit": 10000
     },
     "inputWidgets": {},
     "nuid": "a900d5e7-93ba-4252-95ea-be3ebc5670cb",
     "showTitle": false,
     "tableResultSettingsMap": {},
     "title": ""
    }
   },
   "outputs": [],
   "source": [
    "%run ../utils/common"
   ]
  },
  {
   "cell_type": "code",
   "execution_count": 0,
   "metadata": {
    "application/vnd.databricks.v1+cell": {
     "cellMetadata": {
      "byteLimit": 2048000,
      "rowLimit": 10000
     },
     "inputWidgets": {},
     "nuid": "ae9fa641-9ced-4cf6-96c2-736a6ce12e95",
     "showTitle": false,
     "tableResultSettingsMap": {},
     "title": ""
    }
   },
   "outputs": [],
   "source": [
    "dbutils.widgets.text(\"environment\", \"\", \"\")\n",
    "environment = dbutils.widgets.get(\"environment\")"
   ]
  },
  {
   "cell_type": "code",
   "execution_count": 0,
   "metadata": {
    "application/vnd.databricks.v1+cell": {
     "cellMetadata": {
      "byteLimit": 2048000,
      "rowLimit": 10000
     },
     "inputWidgets": {},
     "nuid": "2dc8d6ee-1a5e-4810-9293-06c42d04eee2",
     "showTitle": false,
     "tableResultSettingsMap": {},
     "title": ""
    }
   },
   "outputs": [],
   "source": [
    "catalog_name = settings[environment]['catalog_name']"
   ]
  },
  {
   "cell_type": "code",
   "execution_count": 0,
   "metadata": {
    "application/vnd.databricks.v1+cell": {
     "cellMetadata": {
      "byteLimit": 2048000,
      "rowLimit": 10000
     },
     "inputWidgets": {},
     "nuid": "242b1084-b77d-4a57-bf89-3c7f5e42a3ee",
     "showTitle": false,
     "tableResultSettingsMap": {},
     "title": ""
    }
   },
   "outputs": [],
   "source": [
    "spark.sql(f\"\"\"\n",
    "CREATE OR REPLACE TABLE {catalog_name}.udp_wcm_gold_vcm_dwh.f_inventory_sapcar_daily\n",
    "TBLPROPERTIES (\n",
    "  'DELTA.AUTOOPTIMIZE.OPTIMIZEWRITE' = 'TRUE',\n",
    "  'DELTA.AUTOOPTIMIZE.AUTOCOMPACT' = 'TRUE'\n",
    ")\n",
    " AS\n",
    "WITH\n",
    "sapcar_full_inventory AS (\n",
    "    SELECT * \n",
    "    FROM {catalog_name}.udp_wcm_silver_sap_car.sapcar_full_inventory \n",
    "    WHERE calday = DATE(CURRENT_TIMESTAMP() + INTERVAL 7 HOURS) \n",
    "      AND calhour < 7\n",
    "),\n",
    "total AS (\n",
    "    SELECT DISTINCT \n",
    "        FARM_FINGERPRINT(CONCAT(\n",
    "            IFNULL(CAST(IF(c.store_id IS NOT NULL AND a.calday >= c.cutoff_date, c.store_id, a.store_id) AS STRING), \"\"),\n",
    "            IFNULL(CAST(a.product_id AS STRING), \"\"),\n",
    "            IFNULL(CAST(a.calday AS STRING), \"\")\n",
    "        )) AS hash_id,\n",
    "        IF(c.store_id IS NOT NULL AND a.calday >= c.cutoff_date, c.store_id, a.store_id) AS store_id,\n",
    "        CAST(a.product_id AS STRING) AS product_id,\n",
    "        a.calday,\n",
    "        a.calhour,\n",
    "        a.closing_stock_qty\n",
    "    FROM sapcar_full_inventory a\n",
    "    LEFT JOIN {catalog_name}.udp_wcm_gold_vcm_dwh.d_franchise_config c \n",
    "        ON CAST(a.store_id AS STRING) = c.ref_fc_store\n",
    "\n",
    "    UNION ALL\n",
    "\n",
    "    SELECT \n",
    "        FARM_FINGERPRINT(CONCAT(\n",
    "            IFNULL(CAST(a.store_id AS STRING), \"\"),\n",
    "            IFNULL(CAST(a.article_id AS STRING), \"\"),\n",
    "            IFNULL(CAST(a.calday AS STRING), \"\")\n",
    "        )) AS hash_id,\n",
    "        a.store_id,\n",
    "        CAST(a.article_id AS STRING) AS product_id,\n",
    "        a.calday,\n",
    "        NULL AS calhour,\n",
    "        a.stock_qty AS closing_stock_qty\n",
    "    FROM {catalog_name}.udp_wcm_silver_rop.fms_skustock a  --franchise_skustock\n",
    "    \n",
    "    WHERE REGEXP_LIKE(a.store_id, r'F[0-9]')\n",
    "      AND a.calday =  DATE(CURRENT_TIMESTAMP() + INTERVAL 7 HOURS) \n",
    "      AND a.stock_qty IS NOT NULL\n",
    ")\n",
    "SELECT\n",
    "    hash_id,\n",
    "    store_id,\n",
    "    product_id,\n",
    "    calday,\n",
    "    calhour,\n",
    "    CAST(SUM(closing_stock_qty) AS DOUBLE) AS closing_stock_qty\n",
    "FROM total\n",
    "GROUP BY hash_id, calday, calhour, store_id, product_id\n",
    "\"\"\")"
   ]
  }
 ],
 "metadata": {
  "application/vnd.databricks.v1+notebook": {
   "computePreferences": null,
   "dashboards": [],
   "environmentMetadata": {
    "base_environment": "",
    "environment_version": "2"
   },
   "inputWidgetPreferences": null,
   "language": "python",
   "notebookMetadata": {
    "mostRecentlyExecutedCommandWithImplicitDF": {
     "commandId": 8416419470651629,
     "dataframes": [
      "_sqldf"
     ]
    },
    "pythonIndentUnit": 4
   },
   "notebookName": "f_inventory_sapcar_daily",
   "widgets": {
    "environment": {
     "currentValue": "DEV",
     "nuid": "ff53af1e-0837-4e5d-be5b-cdaa7bcc45df",
     "typedWidgetInfo": {
      "autoCreated": false,
      "defaultValue": "",
      "label": "",
      "name": "environment",
      "options": {
       "widgetDisplayType": "Text",
       "validationRegex": null
      },
      "parameterDataType": "String"
     },
     "widgetInfo": {
      "widgetType": "text",
      "defaultValue": "",
      "label": "",
      "name": "environment",
      "options": {
       "widgetType": "text",
       "autoCreated": null,
       "validationRegex": null
      }
     }
    },
    "proc_date": {
     "currentValue": "2025-06-28",
     "nuid": "07b4fdb0-6a9e-4e9e-949f-a3b425cc7262",
     "typedWidgetInfo": {
      "autoCreated": false,
      "defaultValue": "",
      "label": null,
      "name": "proc_date",
      "options": {
       "widgetDisplayType": "Text",
       "validationRegex": null
      },
      "parameterDataType": "String"
     },
     "widgetInfo": {
      "widgetType": "text",
      "defaultValue": "",
      "label": null,
      "name": "proc_date",
      "options": {
       "widgetType": "text",
       "autoCreated": null,
       "validationRegex": null
      }
     }
    }
   }
  },
  "language_info": {
   "name": "python"
  }
 },
 "nbformat": 4,
 "nbformat_minor": 0
}
