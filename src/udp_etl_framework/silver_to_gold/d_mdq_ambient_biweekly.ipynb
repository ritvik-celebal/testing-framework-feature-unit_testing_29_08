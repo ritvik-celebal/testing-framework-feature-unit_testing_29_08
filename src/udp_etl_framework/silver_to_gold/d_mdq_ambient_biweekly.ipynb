{
 "cells": [
  {
   "cell_type": "code",
   "execution_count": 0,
   "metadata": {
    "application/vnd.databricks.v1+cell": {
     "cellMetadata": {
      "byteLimit": 2048000,
      "rowLimit": 10000
     },
     "inputWidgets": {},
     "nuid": "8f30cfa3-6ba1-4a6f-9077-d14636d5f77e",
     "showTitle": false,
     "tableResultSettingsMap": {},
     "title": ""
    }
   },
   "outputs": [],
   "source": [
    "%run ../utils/common"
   ]
  },
  {
   "cell_type": "code",
   "execution_count": 0,
   "metadata": {
    "application/vnd.databricks.v1+cell": {
     "cellMetadata": {
      "byteLimit": 2048000,
      "rowLimit": 10000
     },
     "inputWidgets": {},
     "nuid": "c7f12c62-fed2-4e8a-8f9f-cb6e11083ffc",
     "showTitle": false,
     "tableResultSettingsMap": {},
     "title": ""
    }
   },
   "outputs": [],
   "source": [
    "dbutils.widgets.text(\"environment\", \"\", \"\")\n",
    "environment = dbutils.widgets.get(\"environment\")"
   ]
  },
  {
   "cell_type": "code",
   "execution_count": 0,
   "metadata": {
    "application/vnd.databricks.v1+cell": {
     "cellMetadata": {
      "byteLimit": 2048000,
      "rowLimit": 10000
     },
     "inputWidgets": {},
     "nuid": "ab667fec-53e9-4a07-8947-87c6b3660479",
     "showTitle": false,
     "tableResultSettingsMap": {},
     "title": ""
    }
   },
   "outputs": [],
   "source": [
    "catalog_name = settings[environment]['catalog_name']"
   ]
  },
  {
   "cell_type": "code",
   "execution_count": 0,
   "metadata": {
    "application/vnd.databricks.v1+cell": {
     "cellMetadata": {
      "byteLimit": 2048000,
      "rowLimit": 10000
     },
     "inputWidgets": {},
     "nuid": "2038e17b-73d6-4a49-976f-94bd422e7c38",
     "showTitle": false,
     "tableResultSettingsMap": {},
     "title": ""
    }
   },
   "outputs": [],
   "source": [
    "spark.sql(f\"\"\"\n",
    "CREATE OR REPLACE TABLE {catalog_name}.udp_wcm_gold_vcm_dwh.d_mdq_ambient_biweekly\n",
    "TBLPROPERTIES (\n",
    "  'DELTA.AUTOOPTIMIZE.OPTIMIZEWRITE' = 'TRUE',\n",
    "  'DELTA.AUTOOPTIMIZE.AUTOCOMPACT' = 'TRUE'\n",
    ") \n",
    "AS \n",
    "WITH adhoc_dsd AS (\n",
    "    SELECT *\n",
    "    FROM {catalog_name}.udp_wcm_silver_dataportal.winlife_mdq_adhoc\n",
    "    QUALIFY ROW_NUMBER() OVER (PARTITION BY store_id, product_id ORDER BY proc_date DESC) = 1\n",
    "), \n",
    "adhoc_dc AS (\n",
    "    SELECT  \n",
    "        store_id,\n",
    "        product_id,\n",
    "        min_qty mdq\n",
    "    FROM {catalog_name}.udp_wcm_silver_dim.dc_flow_mdq_adhoc\n",
    "    QUALIFY ROW_NUMBER() OVER (PARTITION BY store_id, product_id ORDER BY proc_date DESC) = 1\n",
    "), \n",
    "prev AS (\n",
    "    SELECT *\n",
    "    FROM {catalog_name}.udp_wcm_gold_vcm_dwh.d_mdq_ambient_biweekly_hist\n",
    "    WHERE calday = (SELECT MAX(calday) FROM {catalog_name}.udp_wcm_gold_vcm_dwh.d_mdq_ambient_biweekly_hist WHERE calday < DATE(CURRENT_TIMESTAMP() + INTERVAL 7 HOURS) ) \n",
    "),\n",
    "mdq AS (\n",
    "    SELECT      \n",
    "        a.store_id,\n",
    "        a.product_id,\n",
    "        IF(a1.store_id IS NULL, 'DSD', 'DC') replenishment_mode,\n",
    "        a.assortment_type,\n",
    "        a4.approval_status AS pog_mdq_approval_status,\n",
    "        CASE \n",
    "            WHEN a4.mdq IS NOT NULL THEN a4.mdq_source\n",
    "            WHEN a1.store_id IS NULL AND a2.mdq IS NOT NULL THEN 'DSD UPLOAD'\n",
    "            WHEN a1.store_id IS NOT NULL AND a3.mdq IS NOT NULL THEN 'DC UPLOAD'\n",
    "            WHEN a.mdq IS NOT NULL THEN 'AUTO MDQ' \n",
    "        END mdq_source,\n",
    "        IFNULL(a4.winare_mdq, IFNULL(IF(a1.store_id IS NULL, a2.mdq, a3.mdq), a.mdq)) mdq,-- WINARE MDQ\n",
    "        IFNULL(a4.external_report_mdq, IFNULL(IF(a1.store_id IS NULL, a2.mdq, a3.mdq), a.mdq)) external_report_mdq,\n",
    "        IFNULL(a4.mdq, IFNULL(IF(a1.store_id IS NULL, a2.mdq, a3.mdq), a.mdq)) internal_report_mdq,\n",
    "        IFNULL(IF(a1.store_id IS NULL, a2.mdq, a3.mdq), a.mdq) old_mdq\n",
    "    FROM {catalog_name}.udp_wcm_gold_vcm_dwh.d_mdq_auto_biweekly a\n",
    "    LEFT JOIN {catalog_name}.udp_wcm_gold_vcm_dwh.d_store_sku_by_dc_biweekly a1 \n",
    "        USING (store_id, product_id)\n",
    "    LEFT JOIN adhoc_dsd a2 \n",
    "        ON a.store_id = a2.store_id AND a.product_id = a2.product_id\n",
    "    LEFT JOIN adhoc_dc a3 \n",
    "        ON a.store_id = a3.store_id AND a.product_id = a3.product_id\n",
    "    LEFT JOIN {catalog_name}.udp_wcm_gold_vcm_dwh.d_mdq_pog_store_sku a4 \n",
    "        ON a.store_id = a4.store_id AND a.product_id = a4.product_id\n",
    "),\n",
    "adhoc_win_the_south AS (\n",
    "    SELECT\n",
    "        a.store_id,\n",
    "        a.product_id,\n",
    "        a.replenishment_mode,\n",
    "        a.assortment_type,\n",
    "        a.pog_mdq_approval_status,\n",
    "        IF(b.store_id IS NOT NULL, 'MDQ - WIN THE SOUTH', a.mdq_source) mdq_source,\n",
    "        IF(b.store_id IS NOT NULL, b.mdq, a.mdq) mdq,\n",
    "        a.external_report_mdq,\n",
    "        IF(b.store_id IS NOT NULL, b.mdq, a.internal_report_mdq) internal_report_mdq,\n",
    "        a.old_mdq\n",
    "    FROM mdq a\n",
    "    LEFT JOIN (\n",
    "        SELECT b.store_id, a.product_id, a.mdq\n",
    "        FROM {catalog_name}.udp_wcm_gold_vcm_dwh.d_mdq_sku_adhoc a\n",
    "        CROSS JOIN (\n",
    "            SELECT store_id\n",
    "            FROM {catalog_name}.udp_wcm_gold_vcm_dwh.d_store\n",
    "            WHERE region_domain_vn IN ('Miền Nam', 'Miền Tây') AND business_unit = '2000'\n",
    "        ) b\n",
    "        WHERE DATE(CURRENT_TIMESTAMP() + INTERVAL 7 HOURS) BETWEEN `start_date` AND `end_date`\n",
    "    ) b\n",
    "        ON a.store_id = b.store_id AND a.product_id = b.product_id\n",
    ")\n",
    "SELECT DISTINCT\n",
    "    a.*,\n",
    "    IF(IFNULL(a.mdq, 0) = 0, NULL, IFNULL(a1.mdq, 0) + 1) mdq_age,\n",
    "    CASE\n",
    "        WHEN a.mdq IS NULL THEN 'NOT AVAILABLE'\n",
    "        WHEN a.mdq IS NOT NULL AND a.mdq <> 0 THEN 'AVAILABLE'\n",
    "        WHEN a.mdq IS NOT NULL AND a.mdq = 0 THEN '0'\n",
    "    END mdq_available\n",
    "FROM adhoc_win_the_south a\n",
    "LEFT JOIN prev a1 USING (store_id, product_id)\n",
    ";\n",
    "\"\"\")"
   ]
  },
  {
   "cell_type": "code",
   "execution_count": 0,
   "metadata": {
    "application/vnd.databricks.v1+cell": {
     "cellMetadata": {
      "byteLimit": 2048000,
      "rowLimit": 10000
     },
     "inputWidgets": {},
     "nuid": "d6daa2a3-485c-4226-bc1f-33ea43ab17be",
     "showTitle": false,
     "tableResultSettingsMap": {},
     "title": ""
    }
   },
   "outputs": [],
   "source": [
    "spark.sql(f\"\"\"\n",
    "DELETE FROM {catalog_name}.udp_wcm_gold_vcm_dwh.d_mdq_ambient_biweekly_hist WHERE calday = DATE(CURRENT_TIMESTAMP() + INTERVAL 7 HOURS);\n",
    "\"\"\")"
   ]
  },
  {
   "cell_type": "code",
   "execution_count": 0,
   "metadata": {
    "application/vnd.databricks.v1+cell": {
     "cellMetadata": {
      "byteLimit": 2048000,
      "rowLimit": 10000
     },
     "inputWidgets": {},
     "nuid": "75f94557-90ca-4a61-b108-3688b0d1ee88",
     "showTitle": false,
     "tableResultSettingsMap": {},
     "title": ""
    }
   },
   "outputs": [],
   "source": [
    "spark.sql(f\"\"\"\n",
    "INSERT INTO {catalog_name}.udp_wcm_gold_vcm_dwh.d_mdq_ambient_biweekly_hist\n",
    "SELECT \n",
    "    DATE(CURRENT_TIMESTAMP() + INTERVAL 7 HOURS) calday, \n",
    "    store_id,\n",
    "    product_id,\n",
    "    replenishment_mode,\n",
    "    assortment_type,\n",
    "    pog_mdq_approval_status,\n",
    "    mdq_source,\n",
    "    mdq,\n",
    "    mdq_age,\n",
    "    mdq_available,\n",
    "    external_report_mdq,\n",
    "    internal_report_mdq,\n",
    "    old_mdq\n",
    "FROM {catalog_name}.udp_wcm_gold_vcm_dwh.d_mdq_ambient_biweekly;\n",
    "\"\"\")"
   ]
  }
 ],
 "metadata": {
  "application/vnd.databricks.v1+notebook": {
   "computePreferences": null,
   "dashboards": [],
   "environmentMetadata": {
    "base_environment": "",
    "environment_version": "2"
   },
   "inputWidgetPreferences": null,
   "language": "python",
   "notebookMetadata": {
    "mostRecentlyExecutedCommandWithImplicitDF": {
     "commandId": 6943459227472045,
     "dataframes": [
      "_sqldf"
     ]
    },
    "pythonIndentUnit": 4
   },
   "notebookName": "d_mdq_ambient_biweekly",
   "widgets": {
    "environment": {
     "currentValue": "DEV",
     "nuid": "16241a06-ed3a-4d78-8c68-b55f4868b5a3",
     "typedWidgetInfo": {
      "autoCreated": false,
      "defaultValue": "",
      "label": "",
      "name": "environment",
      "options": {
       "widgetDisplayType": "Text",
       "validationRegex": null
      },
      "parameterDataType": "String"
     },
     "widgetInfo": {
      "widgetType": "text",
      "defaultValue": "",
      "label": "",
      "name": "environment",
      "options": {
       "widgetType": "text",
       "autoCreated": null,
       "validationRegex": null
      }
     }
    },
    "proc_date": {
     "currentValue": "2025-07-21",
     "nuid": "bf85d4ca-bcb8-4ea7-9190-99859b11cdc1",
     "typedWidgetInfo": {
      "autoCreated": false,
      "defaultValue": "",
      "label": "",
      "name": "proc_date",
      "options": {
       "widgetDisplayType": "Text",
       "validationRegex": null
      },
      "parameterDataType": "String"
     },
     "widgetInfo": {
      "widgetType": "text",
      "defaultValue": "",
      "label": "",
      "name": "proc_date",
      "options": {
       "widgetType": "text",
       "autoCreated": null,
       "validationRegex": null
      }
     }
    }
   }
  },
  "language_info": {
   "name": "python"
  }
 },
 "nbformat": 4,
 "nbformat_minor": 0
}
