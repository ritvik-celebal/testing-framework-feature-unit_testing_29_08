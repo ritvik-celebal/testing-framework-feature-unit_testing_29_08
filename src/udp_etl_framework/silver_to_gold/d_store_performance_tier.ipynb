{
 "cells": [
  {
   "cell_type": "code",
   "execution_count": 0,
   "metadata": {
    "application/vnd.databricks.v1+cell": {
     "cellMetadata": {
      "byteLimit": 2048000,
      "rowLimit": 10000
     },
     "inputWidgets": {},
     "nuid": "fdeae2ec-3b18-4dd2-ab3c-47fccbfd4b30",
     "showTitle": false,
     "tableResultSettingsMap": {},
     "title": ""
    }
   },
   "outputs": [],
   "source": [
    "%run ../utils/common"
   ]
  },
  {
   "cell_type": "code",
   "execution_count": 0,
   "metadata": {
    "application/vnd.databricks.v1+cell": {
     "cellMetadata": {
      "byteLimit": 2048000,
      "implicitDf": true,
      "rowLimit": 10000
     },
     "inputWidgets": {},
     "nuid": "6194877c-c468-4cd3-994a-d69b7dd61f4a",
     "showTitle": false,
     "tableResultSettingsMap": {},
     "title": ""
    }
   },
   "outputs": [],
   "source": [
    "dbutils.widgets.text(\"environment\", \"\", \"\")\n",
    "environment = dbutils.widgets.get(\"environment\")"
   ]
  },
  {
   "cell_type": "code",
   "execution_count": 0,
   "metadata": {
    "application/vnd.databricks.v1+cell": {
     "cellMetadata": {
      "byteLimit": 2048000,
      "rowLimit": 10000
     },
     "inputWidgets": {},
     "nuid": "2e9f9501-c33e-44dc-9bb9-86216ec6b31f",
     "showTitle": false,
     "tableResultSettingsMap": {},
     "title": ""
    }
   },
   "outputs": [],
   "source": [
    "catalog_name = settings[environment]['catalog_name']"
   ]
  },
  {
   "cell_type": "code",
   "execution_count": 0,
   "metadata": {
    "application/vnd.databricks.v1+cell": {
     "cellMetadata": {
      "byteLimit": 2048000,
      "implicitDf": true,
      "rowLimit": 10000
     },
     "inputWidgets": {},
     "nuid": "daffad6f-cdda-4af1-a5b8-72d484e48b9d",
     "showTitle": false,
     "tableResultSettingsMap": {},
     "title": ""
    }
   },
   "outputs": [],
   "source": [
    "spark.sql(f\"\"\"\n",
    "CREATE OR REPLACE TABLE {catalog_name}.udp_wcm_gold_vcm_dmt.d_store_performance_tier\n",
    "TBLPROPERTIES (\n",
    "  'DELTA.AUTOOPTIMIZE.OPTIMIZEWRITE' = 'TRUE',\n",
    "  'DELTA.AUTOOPTIMIZE.AUTOCOMPACT' = 'TRUE'\n",
    ")\n",
    "AS \n",
    "WITH total_rev AS \n",
    "(\n",
    "  SELECT \n",
    "    calday,\n",
    "    store_id,\n",
    "    business_unit,\n",
    "    SUM(IF(business_unit = '1500', revenue.rev_amt, revenue.rev_amt_pos)) AS revenue\n",
    "  FROM {catalog_name}.udp_wcm_gold_vcm_dmt.a_store_sku_daily a\n",
    "  INNER JOIN {catalog_name}.udp_wcm_gold_vcm_dwh.d_store b USING (store_id)\n",
    "  INNER JOIN {catalog_name}.udp_wcm_gold_vcm_dwh.d_product c USING (product_id)\n",
    "  WHERE calday BETWEEN add_months(trunc(current_date(), 'MONTH'), -6) AND\n",
    "   date_sub(trunc(current_date(), 'MONTH'), 1)\n",
    "  AND business_unit IN ('1500', '2000')\n",
    "  AND mch2_id IN ('101', '102', '201', '202', '203')\n",
    "  GROUP BY ALL \n",
    "  HAVING SUM(IF(business_unit = '1500', revenue.rev_amt, revenue.rev_amt_pos))   <> 0\n",
    ")\n",
    ", rev_perday_bystore AS \n",
    "(\n",
    "  SELECT \n",
    "    store_id,\n",
    "    business_unit,\n",
    "    SUM(revenue) AS rev, \n",
    "    COUNT(calday) AS cnt_day,\n",
    "    TRY_DIVIDE(SUM(revenue), COUNT(calday)) AS rev_perday\n",
    "  FROM total_rev\n",
    "  GROUP BY 1, 2\n",
    ")\n",
    ", store_performance_tier AS \n",
    "(\n",
    "  SELECT \n",
    "    a.*,\n",
    "    CASE \n",
    "      WHEN business_unit = '1500' THEN 'NA'\n",
    "      WHEN rev_perday > 25 * 1E6 THEN 'N6'\n",
    "      WHEN rev_perday < 25 * 1E6 AND rev_perday >= 18.1 * 1E6 THEN 'N5'\n",
    "      WHEN rev_perday < 18 * 1E6 AND rev_perday >= 15.1 * 1E6 THEN 'N4'\n",
    "      WHEN rev_perday < 15 * 1E6 AND rev_perday >= 12.1 * 1E6 THEN 'N3'\n",
    "      WHEN rev_perday < 12 * 1E6 AND rev_perday >= 8.1 * 1E6 THEN 'N2'\n",
    "      ELSE 'N1'\n",
    "    END AS store_group\n",
    "  FROM rev_perday_bystore a\n",
    ")\n",
    "\n",
    "SELECT \n",
    "    *,\n",
    "    CASE \n",
    "      WHEN store_group = 'N6' THEN 'a. > 25 mil.'\n",
    "      WHEN store_group = 'N5' THEN 'b. 18 - 25 mil.'\n",
    "      WHEN store_group = 'N4' THEN 'c. 15 - 18 mil.'\n",
    "      WHEN store_group = 'N3' THEN 'd. 12 - 15 mil.'\n",
    "      WHEN store_group = 'N2' THEN 'e. 8 - 12 mil.'\n",
    "      WHEN store_group = 'N1' THEN 'f. < 8 mil.'\n",
    "      WHEN store_group = 'NA' THEN 'NA'\n",
    "    END AS performance_tier\n",
    "FROM store_performance_tier \"\"\")"
   ]
  }
 ],
 "metadata": {
  "application/vnd.databricks.v1+notebook": {
   "computePreferences": null,
   "dashboards": [],
   "environmentMetadata": {
    "base_environment": "",
    "environment_version": "2"
   },
   "inputWidgetPreferences": null,
   "language": "python",
   "notebookMetadata": {
    "mostRecentlyExecutedCommandWithImplicitDF": {
     "commandId": 6350561386723311,
     "dataframes": [
      "_sqldf"
     ]
    },
    "pythonIndentUnit": 4
   },
   "notebookName": "d_store_performance_tier",
   "widgets": {
    "environment": {
     "currentValue": "DEV",
     "nuid": "aedd6994-2eb9-450f-ba08-7a1199344949",
     "typedWidgetInfo": {
      "autoCreated": false,
      "defaultValue": "",
      "label": "",
      "name": "environment",
      "options": {
       "widgetDisplayType": "Text",
       "validationRegex": null
      },
      "parameterDataType": "String"
     },
     "widgetInfo": {
      "widgetType": "text",
      "defaultValue": "",
      "label": "",
      "name": "environment",
      "options": {
       "widgetType": "text",
       "autoCreated": null,
       "validationRegex": null
      }
     }
    },
    "proc_date": {
     "currentValue": "2025-07-21",
     "nuid": "7b04dfd6-220d-4c04-8d8d-dc50e7ab92a1",
     "typedWidgetInfo": {
      "autoCreated": false,
      "defaultValue": "",
      "label": "",
      "name": "proc_date",
      "options": {
       "widgetDisplayType": "Text",
       "validationRegex": null
      },
      "parameterDataType": "String"
     },
     "widgetInfo": {
      "widgetType": "text",
      "defaultValue": "",
      "label": "",
      "name": "proc_date",
      "options": {
       "widgetType": "text",
       "autoCreated": null,
       "validationRegex": null
      }
     }
    }
   }
  },
  "language_info": {
   "name": "python"
  }
 },
 "nbformat": 4,
 "nbformat_minor": 0
}
