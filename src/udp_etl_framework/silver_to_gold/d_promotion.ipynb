{
 "cells": [
  {
   "cell_type": "code",
   "execution_count": 0,
   "metadata": {
    "application/vnd.databricks.v1+cell": {
     "cellMetadata": {
      "byteLimit": 2048000,
      "rowLimit": 10000
     },
     "inputWidgets": {},
     "nuid": "5b945277-890a-4b38-8edb-b82ab5902c2c",
     "showTitle": false,
     "tableResultSettingsMap": {},
     "title": ""
    }
   },
   "outputs": [],
   "source": [
    "%run ../utils/common"
   ]
  },
  {
   "cell_type": "code",
   "execution_count": 0,
   "metadata": {
    "application/vnd.databricks.v1+cell": {
     "cellMetadata": {
      "byteLimit": 2048000,
      "rowLimit": 10000
     },
     "inputWidgets": {},
     "nuid": "606451d0-6f85-4923-acf6-d4098de5a3ce",
     "showTitle": false,
     "tableResultSettingsMap": {},
     "title": ""
    }
   },
   "outputs": [],
   "source": [
    "dbutils.widgets.text(\"environment\", \"\", \"\")\n",
    "environment = dbutils.widgets.get(\"environment\")"
   ]
  },
  {
   "cell_type": "code",
   "execution_count": 0,
   "metadata": {
    "application/vnd.databricks.v1+cell": {
     "cellMetadata": {
      "byteLimit": 2048000,
      "rowLimit": 10000
     },
     "inputWidgets": {},
     "nuid": "51c75d59-1274-4032-99da-853bceb78208",
     "showTitle": false,
     "tableResultSettingsMap": {},
     "title": ""
    }
   },
   "outputs": [],
   "source": [
    "catalog_name = settings[environment]['catalog_name']"
   ]
  },
  {
   "cell_type": "code",
   "execution_count": 0,
   "metadata": {
    "application/vnd.databricks.v1+cell": {
     "cellMetadata": {
      "byteLimit": 2048000,
      "rowLimit": 10000
     },
     "inputWidgets": {},
     "nuid": "2d4821c4-49e3-448c-b290-b67c2f2b785e",
     "showTitle": false,
     "tableResultSettingsMap": {},
     "title": ""
    }
   },
   "outputs": [],
   "source": [
    "spark.sql(f\"\"\"\n",
    "CREATE OR REPLACE TABLE {catalog_name}.udp_wcm_gold_vcm_dwh.d_promotion\n",
    "TBLPROPERTIES (\n",
    "  'DELTA.AUTOOPTIMIZE.OPTIMIZEWRITE' = 'TRUE',\n",
    "  'DELTA.AUTOOPTIMIZE.AUTOCOMPACT' = 'TRUE'\n",
    ")\n",
    "AS\n",
    "WITH avccmdm332 AS (\n",
    "SELECT bbynr, prqnr, matnr , matquan , matunit , disctype , grpgnr \n",
    "FROM  {catalog_name}.udp_wcm_silver_sap_bw.sap_avccmdm332\n",
    "QUALIFY ROW_NUMBER() OVER (PARTITION BY bbynr, prqnr, matnr ORDER BY end_date DESC) = 1\n",
    "),\n",
    "avccmdm342 AS (\n",
    "SELECT \n",
    " bbynr,\n",
    " status,\n",
    " aktnr ,\n",
    " buy_prqval_min,\n",
    " crdate as created_on\n",
    "FROM  {catalog_name}.udp_wcm_silver_sap_bw.sap_avccmdm342\n",
    "QUALIFY ROW_NUMBER() OVER (PARTITION BY bbynr ORDER BY end_date DESC) = 1\n",
    "),\n",
    "trt_promo AS (\n",
    "SELECT rt_promo, \n",
    "txtmd \n",
    "FROM {catalog_name}.udp_wcm_silver_sap_bw.sap_trt_promo\n",
    "QUALIFY ROW_NUMBER() OVER (PARTITION BY rt_promo ORDER BY end_date DESC) = 1\n",
    "),\n",
    "prt_promo AS (\n",
    "SELECT rt_promo, \n",
    "_bic_zbbuytype, \n",
    "_bic_zc_bbtype, \n",
    "_bic_zc_bbprof, \n",
    "_bic_zk_fm_km, \n",
    "_bic_zk_fm_th, \n",
    "_bic_zbbprtven , \n",
    "rt_promoct \n",
    "FROM {catalog_name}.udp_wcm_silver_sap_bw.sap_prt_promo\n",
    "QUALIFY ROW_NUMBER() OVER (PARTITION BY rt_promo ORDER BY end_date DESC) = 1\n",
    "),\n",
    "avccmdm321 AS (\n",
    "  SELECT *\n",
    "  FROM( SELECT * FROM {catalog_name}.udp_wcm_silver_sap_bw.sap_avccmdm321\n",
    "  QUALIFY \n",
    "    ROW_NUMBER() OVER (\n",
    "      PARTITION BY kappl, kschl, vkorg, vtweg, werks, bbynr, matnr, vrkme \n",
    "      ORDER BY proc_date DESC\n",
    "    ) = 1\n",
    "     )\n",
    "   QUALIFY RANK() OVER (\n",
    "      PARTITION BY kappl, bbynr, vkorg \n",
    "      ORDER BY DATE(proc_date) DESC\n",
    "    ) = 1\n",
    ")\n",
    ",\n",
    "avccmdm412 AS (\n",
    "SELECT * EXCEPT (bbynr), LTRIM('0',bbynr) AS bbynr \n",
    "FROM {catalog_name}.udp_wcm_silver_sap_bw.sap_avccmdm412\n",
    "QUALIFY ROW_NUMBER() OVER (PARTITION BY bbynr ORDER BY proc_date DESC) = 1\n",
    ")\n",
    "SELECT \n",
    "a.kschl AS discount_type,\n",
    "a.vkorg AS sale_org,\n",
    "a.vtweg AS distribution_channel,\n",
    "a.werks AS store_id,\n",
    "a.bbynr AS bonus_buy_id,\n",
    "c.status AS bonus_buy_status,\n",
    "c.created_on bonus_buy_created_on,\n",
    "a.matnr AS discount_product_id,\n",
    "a.vrkme AS discount_product_uom,\n",
    "a.datab AS promo_start_date,\n",
    "a.datbi AS promo_end_date,\n",
    "a.knumh AS condition_rec_no,\n",
    "a.vakey AS get_item_no,\n",
    "a.rewref AS condition_reference_no,\n",
    "a.bbyval AS bby_cond_value_fix,\n",
    "a.bbyper AS bby_cond_value_percent,\n",
    "a.bbycur AS bby_currency,\n",
    "a.kpein AS price_unit,\n",
    "a.kmein AS get_item_uom,\n",
    "a.grpnr AS product_group_no,\n",
    "a.stfkz AS scale_type_code,\n",
    "a.mquan AS get_item_qty,\n",
    "a.bbytype AS bby_type_code,\n",
    "a.filgr AS site_group_code,\n",
    "b.prqnr AS buy_item_no,\n",
    "b.matnr AS buy_item_id,\n",
    "b.grpgnr AS buy_item_grouping,\n",
    "b.matquan AS buy_item_qty,\n",
    "b.matunit AS buy_item_uom,\n",
    "b.disctype AS buy_discount_type,\n",
    "c.aktnr AS promotion_id,\n",
    "d.txtmd AS promotion_name,\n",
    "e.rt_promoct AS promotion_type,\n",
    "c.buy_prqval_min AS total_bill_value,\n",
    "e._bic_zc_bbtype AS bonus_buy_type,\n",
    "e._bic_zbbuytype AS bonus_buy_note,\n",
    "e._bic_zc_bbprof AS bonus_buy_profile,\n",
    "e._bic_zk_fm_km AS zk_fm_km,\n",
    "e._bic_zk_fm_th AS zk_fm_th,\n",
    "e._bic_zbbprtven AS zbbprtven,\n",
    "f.member_only,\n",
    "f.customer_type,\n",
    "f.limit_customer,\n",
    "f.vendor_promotion_id,\n",
    "f.pct_shared_by_vendor,\n",
    "f.apply_pnl,\n",
    "f.value_claimback,\n",
    "f.form_claimback\n",
    "FROM avccmdm321 a\n",
    "LEFT JOIN avccmdm332 b ON a.bbynr = b.bbynr\n",
    "LEFT JOIN avccmdm342 c ON a.bbynr = c.bbynr\n",
    "LEFT JOIN trt_promo d ON c.aktnr = d.rt_promo\n",
    "LEFT JOIN prt_promo e ON a.bbynr = e.rt_promo\n",
    "LEFT JOIN avccmdm412 f ON a.bbynr = f.bbynr\n",
    "\"\"\")"
   ]
  }
 ],
 "metadata": {
  "application/vnd.databricks.v1+notebook": {
   "computePreferences": null,
   "dashboards": [],
   "environmentMetadata": {
    "base_environment": "",
    "environment_version": "2"
   },
   "inputWidgetPreferences": null,
   "language": "python",
   "notebookMetadata": {
    "mostRecentlyExecutedCommandWithImplicitDF": {
     "commandId": 6540195001590056,
     "dataframes": [
      "_sqldf"
     ]
    },
    "pythonIndentUnit": 4
   },
   "notebookName": "d_promotion",
   "widgets": {
    "environment": {
     "currentValue": "DEV",
     "nuid": "2b5968f4-303a-4028-a6b3-90d8d74d18db",
     "typedWidgetInfo": {
      "autoCreated": false,
      "defaultValue": "",
      "label": "",
      "name": "environment",
      "options": {
       "widgetDisplayType": "Text",
       "validationRegex": null
      },
      "parameterDataType": "String"
     },
     "widgetInfo": {
      "widgetType": "text",
      "defaultValue": "",
      "label": "",
      "name": "environment",
      "options": {
       "widgetType": "text",
       "autoCreated": null,
       "validationRegex": null
      }
     }
    },
    "proc_date": {
     "currentValue": "2025-07-21",
     "nuid": "096ba2e4-ff20-4810-a476-9ed748b686ba",
     "typedWidgetInfo": {
      "autoCreated": false,
      "defaultValue": "",
      "label": "",
      "name": "proc_date",
      "options": {
       "widgetDisplayType": "Text",
       "validationRegex": null
      },
      "parameterDataType": "String"
     },
     "widgetInfo": {
      "widgetType": "text",
      "defaultValue": "",
      "label": "",
      "name": "proc_date",
      "options": {
       "widgetType": "text",
       "autoCreated": null,
       "validationRegex": null
      }
     }
    }
   }
  },
  "language_info": {
   "name": "python"
  }
 },
 "nbformat": 4,
 "nbformat_minor": 0
}
