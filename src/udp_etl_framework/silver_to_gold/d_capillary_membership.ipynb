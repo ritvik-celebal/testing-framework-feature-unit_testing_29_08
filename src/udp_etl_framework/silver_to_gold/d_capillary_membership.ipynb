{
 "cells": [
  {
   "cell_type": "code",
   "execution_count": 0,
   "metadata": {
    "application/vnd.databricks.v1+cell": {
     "cellMetadata": {
      "byteLimit": 2048000,
      "rowLimit": 10000
     },
     "inputWidgets": {},
     "nuid": "8b01bdfe-5a67-4f44-a07d-68459960b965",
     "showTitle": false,
     "tableResultSettingsMap": {},
     "title": ""
    }
   },
   "outputs": [],
   "source": [
    "%run ../utils/common"
   ]
  },
  {
   "cell_type": "code",
   "execution_count": 0,
   "metadata": {
    "application/vnd.databricks.v1+cell": {
     "cellMetadata": {
      "byteLimit": 2048000,
      "rowLimit": 10000
     },
     "inputWidgets": {},
     "nuid": "66eb57ad-0403-4d5b-a109-e84eb47b01b7",
     "showTitle": false,
     "tableResultSettingsMap": {},
     "title": ""
    }
   },
   "outputs": [],
   "source": [
    "dbutils.widgets.text(\"environment\", \"\", \"\")\n",
    "environment = dbutils.widgets.get(\"environment\")"
   ]
  },
  {
   "cell_type": "code",
   "execution_count": 0,
   "metadata": {
    "application/vnd.databricks.v1+cell": {
     "cellMetadata": {
      "byteLimit": 2048000,
      "rowLimit": 10000
     },
     "inputWidgets": {},
     "nuid": "3e7ad748-188f-45b4-8349-15a92b7a9990",
     "showTitle": false,
     "tableResultSettingsMap": {},
     "title": ""
    }
   },
   "outputs": [],
   "source": [
    "catalog_name = settings[environment]['catalog_name']"
   ]
  },
  {
   "cell_type": "code",
   "execution_count": 0,
   "metadata": {
    "application/vnd.databricks.v1+cell": {
     "cellMetadata": {
      "byteLimit": 2048000,
      "rowLimit": 10000
     },
     "inputWidgets": {},
     "nuid": "e8d16af8-dcb1-4dd8-a0ea-fbcf7d3aad8b",
     "showTitle": false,
     "tableResultSettingsMap": {},
     "title": ""
    }
   },
   "outputs": [],
   "source": [
    "%python\n",
    "spark.sql(f\"\"\"\n",
    "    CREATE OR REPLACE TABLE {catalog_name}.udp_wcm_gold_vcm_dwh.d_capillary_membership \n",
    "    TBLPROPERTIES (\n",
    "        'DELTA.AUTOOPTIMIZE.OPTIMIZEWRITE' = 'TRUE',\n",
    "        'DELTA.AUTOOPTIMIZE.AUTOCOMPACT' = 'TRUE'\n",
    "    )\n",
    "    AS\n",
    "    SELECT\n",
    "        TO_DATE(FROM_UTC_TIMESTAMP(CAST(created_at / 1000 AS TIMESTAMP), 'Asia/Kolkata')) AS CALDAY,\n",
    "        data.firstname fullname,\n",
    "        CAST(data.customerIdentifiers.instore.mobile AS STRING) mobile_number,\n",
    "        CAST(data.customerIdentifiers.customerId AS STRING) user_id,\n",
    "        UPPER(get(FILTER(data.extendedFields, x -> x.key = 'gender'), 0).value) gender,\n",
    "        CAST(get(FILTER(data.extendedFields, x -> x.key = 'dob_date'), 0).value AS DATE) dob,\n",
    "        get(FILTER(data.extendedFields, x -> x.key = 'acquisition_channel'), 0).value reg_source,\n",
    "        get(FILTER(data.customFields, x -> x.key = 'staff_id'), 0).value staff_id,\n",
    "        get(FILTER(data.customFields, x -> x.key = 'masan_customer_id'), 0).value customer_id,\n",
    "        get(FILTER(data.customFields, x -> x.key = 'masan_referral_code'), 0).value masan_referral_code,\n",
    "        UPPER(CASE data.enteredBy.store.code\n",
    "            WHEN 'masan.wintel.prod' THEN 'WINTEL'\n",
    "            WHEN 'masan.winmart.prod' THEN 'MASANWINMARTPROD'\n",
    "            WHEN 'masan.wincare.prod' THEN 'MASANWINCAREPROD'\n",
    "            WHEN 'masan.phuclongecom.prod' THEN 'MASANPHUCLONGECOMPROD'\n",
    "            WHEN 'masan.meatdeli.prod' THEN 'MASANMEATDELIPROD'\n",
    "            ELSE element_at(SPLIT('data.enteredBy.store.code', '\\\\.'),3)\n",
    "        END) store_id,\n",
    "        data.enteredBy.store.name store_name,\n",
    "        data.customerIdentifiers.customerId merchant_customer_id,\n",
    "        CASE data.enteredBy.store.code\n",
    "            WHEN 'masan.wintel.prod' THEN 'WINTEL'\n",
    "            WHEN 'masan.winmart.prod' THEN 'MASANWINMARTPROD'\n",
    "            WHEN 'masan.wincare.prod' THEN 'MASANWINCAREPROD'\n",
    "            WHEN 'masan.phuclongecom.prod' THEN 'MASANPHUCLONGECOMPROD'\n",
    "            WHEN 'masan.meatdeli.prod' THEN 'MASANMEATDELIPROD'\n",
    "            ELSE element_at(SPLIT('data.enteredBy.store.code', '\\\\.'),3)\n",
    "        END merchant_store_id,\n",
    "        data.enteredBy.store.name merchant_store_name,\n",
    "        DATE(CURRENT_TIMESTAMP() + interval 7 hours) as proc_date\n",
    "    FROM {catalog_name}.udp_wcm_silver_realtime.capillary_customer_add_event\n",
    "    WHERE data.enteredBy.store.code NOT IN ('masan.wintel.dev', 'masan.ecommerce')\n",
    "\"\"\")"
   ]
  }
 ],
 "metadata": {
  "application/vnd.databricks.v1+notebook": {
   "computePreferences": null,
   "dashboards": [],
   "environmentMetadata": {
    "base_environment": "",
    "environment_version": "2"
   },
   "inputWidgetPreferences": null,
   "language": "python",
   "notebookMetadata": {
    "mostRecentlyExecutedCommandWithImplicitDF": {
     "commandId": 6385374847146646,
     "dataframes": [
      "_sqldf"
     ]
    },
    "pythonIndentUnit": 4
   },
   "notebookName": "d_capillary_membership",
   "widgets": {
    "environment": {
     "currentValue": "DEV",
     "nuid": "ebd70f09-acb6-449d-a53d-3bfe0e62d0c4",
     "typedWidgetInfo": {
      "autoCreated": false,
      "defaultValue": "",
      "label": "",
      "name": "environment",
      "options": {
       "widgetDisplayType": "Text",
       "validationRegex": null
      },
      "parameterDataType": "String"
     },
     "widgetInfo": {
      "widgetType": "text",
      "defaultValue": "",
      "label": "",
      "name": "environment",
      "options": {
       "widgetType": "text",
       "autoCreated": null,
       "validationRegex": null
      }
     }
    },
    "proc_date": {
     "currentValue": "2025-07-",
     "nuid": "3278ac35-15a4-4c46-90bd-84824952930b",
     "typedWidgetInfo": {
      "autoCreated": false,
      "defaultValue": "",
      "label": "",
      "name": "proc_date",
      "options": {
       "widgetDisplayType": "Text",
       "validationRegex": null
      },
      "parameterDataType": "String"
     },
     "widgetInfo": {
      "widgetType": "text",
      "defaultValue": "",
      "label": "",
      "name": "proc_date",
      "options": {
       "widgetType": "text",
       "autoCreated": null,
       "validationRegex": null
      }
     }
    }
   }
  },
  "language_info": {
   "name": "python"
  }
 },
 "nbformat": 4,
 "nbformat_minor": 0
}
