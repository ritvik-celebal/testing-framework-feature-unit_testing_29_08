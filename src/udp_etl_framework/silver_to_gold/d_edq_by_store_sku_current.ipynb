{
 "cells": [
  {
   "cell_type": "code",
   "execution_count": 0,
   "metadata": {
    "application/vnd.databricks.v1+cell": {
     "cellMetadata": {
      "byteLimit": 2048000,
      "rowLimit": 10000
     },
     "inputWidgets": {},
     "nuid": "747cfd34-2dde-43f0-8666-2092cea58f93",
     "showTitle": false,
     "tableResultSettingsMap": {},
     "title": ""
    }
   },
   "outputs": [],
   "source": [
    "%run ../utils/common"
   ]
  },
  {
   "cell_type": "code",
   "execution_count": 0,
   "metadata": {
    "application/vnd.databricks.v1+cell": {
     "cellMetadata": {},
     "inputWidgets": {},
     "nuid": "992554d0-e127-4679-8e98-edf6546bd86a",
     "showTitle": false,
     "tableResultSettingsMap": {},
     "title": ""
    }
   },
   "outputs": [],
   "source": [
    "dbutils.widgets.text(\"environment\", \"\", \"\")\n",
    "environment = dbutils.widgets.get(\"environment\")"
   ]
  },
  {
   "cell_type": "code",
   "execution_count": 0,
   "metadata": {
    "application/vnd.databricks.v1+cell": {
     "cellMetadata": {},
     "inputWidgets": {},
     "nuid": "13eb64a9-1352-41ac-bb14-91996e42a080",
     "showTitle": false,
     "tableResultSettingsMap": {},
     "title": ""
    }
   },
   "outputs": [],
   "source": [
    "catalog_name = settings[environment]['catalog_name']"
   ]
  },
  {
   "cell_type": "code",
   "execution_count": 0,
   "metadata": {
    "application/vnd.databricks.v1+cell": {
     "cellMetadata": {
      "byteLimit": 2048000,
      "rowLimit": 10000
     },
     "inputWidgets": {},
     "nuid": "96b7ccb5-c23f-4172-a701-801ee63cb9ba",
     "showTitle": false,
     "tableResultSettingsMap": {},
     "title": ""
    }
   },
   "outputs": [],
   "source": [
    "spark.sql(f'''\n",
    "CREATE OR REPLACE TABLE {catalog_name}.udp_wcm_gold_db_winare_nonfresh_dc.d_edq_by_store_sku_current AS\n",
    "WITH\n",
    "edq_by_store AS (\n",
    "\tSELECT\n",
    "\t\tstore_id,\n",
    "\t\tproduct_id,\n",
    "\t\tedq,\n",
    "\t\treason\n",
    "\tFROM {catalog_name}.udp_wcm_gold_db_winare_nonfresh_dc.winare_edq_by_store\n",
    "\tWHERE DATE(CURRENT_TIMESTAMP() + INTERVAL 7 HOURS) BETWEEN from_date AND to_date\n",
    "),\n",
    "edq_by_city AS (\n",
    "\tSELECT\n",
    "\t\tb.store_id,\n",
    "\t\ta.product_id,\n",
    "\t\ta.edq,\n",
    "\t\ta.reason\n",
    "\tFROM\n",
    "\t\t{catalog_name}.udp_wcm_gold_db_winare_nonfresh_dc.winare_edq_by_city a\n",
    "\t\tLEFT JOIN {catalog_name}.udp_wcm_gold_vcm_dwh.d_store b USING(city)\n",
    "\tWHERE DATE(CURRENT_TIMESTAMP() + INTERVAL 7 HOURS) BETWEEN a.from_date AND a.to_date\n",
    "),\n",
    "edq_by_mien AS (\n",
    "\tSELECT\n",
    "\t\tb.store_id,\n",
    "\t\ta.product_id,\n",
    "\t\ta.edq,\n",
    "\t\ta.reason\n",
    "\tFROM\n",
    "\t\t{catalog_name}.udp_wcm_gold_db_winare_nonfresh_dc.winare_edq_by_mien a\n",
    "\t\tLEFT JOIN {catalog_name}.udp_wcm_gold_vcm_dwh.d_store b USING(mien)\n",
    "\tWHERE DATE(CURRENT_TIMESTAMP() + INTERVAL 7 HOURS) BETWEEN a.from_date AND a.to_date\n",
    "),\n",
    "store_sku AS (\n",
    "\tSELECT DISTINCT\n",
    "\t\tstore_id,\n",
    "\t\tproduct_id\n",
    "\tFROM (\n",
    "\t\tSELECT store_id, product_id FROM edq_by_store\n",
    "\t\tUNION ALL\n",
    "\t\tSELECT store_id, product_id FROM edq_by_city\n",
    "\t\tUNION ALL\n",
    "\t\tSELECT store_id, product_id FROM edq_by_mien\n",
    "\t)\n",
    ")\n",
    "SELECT\n",
    "    DATE(CURRENT_TIMESTAMP() + INTERVAL 7 HOURS) - 1 calday,\n",
    "    store_id,\n",
    "    product_id,\n",
    "    IFNULL(b.edq, IFNULL(c.edq, d.edq)) edq,\n",
    "    IF(b.edq IS NOT NULL, 'EDQ BY STORE', IF(c.edq IS NOT NULL, 'EDQ BY CITY',IF(d.edq IS NOT NULL, 'EDQ BY MIEN', 'NOT FOUND'))) note,\n",
    "\tIF(b.edq IS NOT NULL, b.reason, IF(c.edq IS NOT NULL, c.reason, IF(d.edq IS NOT NULL, d.reason, 'NOT FOUND'))) reason\n",
    "FROM\n",
    "    store_sku a\n",
    "    LEFT JOIN edq_by_store b USING(store_id,product_id)\n",
    "    LEFT JOIN edq_by_city c USING(store_id,product_id)\n",
    "    LEFT JOIN edq_by_mien d USING(store_id,product_id)\n",
    "''')"
   ]
  }
 ],
 "metadata": {
  "application/vnd.databricks.v1+notebook": {
   "computePreferences": null,
   "dashboards": [],
   "environmentMetadata": {
    "base_environment": "",
    "environment_version": "2"
   },
   "inputWidgetPreferences": null,
   "language": "python",
   "notebookMetadata": {
    "pythonIndentUnit": 4
   },
   "notebookName": "d_edq_by_store_sku_current",
   "widgets": {}
  },
  "language_info": {
   "name": "python"
  }
 },
 "nbformat": 4,
 "nbformat_minor": 0
}
