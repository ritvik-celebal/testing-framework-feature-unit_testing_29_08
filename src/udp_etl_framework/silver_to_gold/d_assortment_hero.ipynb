{
 "cells": [
  {
   "cell_type": "code",
   "execution_count": 0,
   "metadata": {
    "application/vnd.databricks.v1+cell": {
     "cellMetadata": {
      "byteLimit": 2048000,
      "rowLimit": 10000
     },
     "inputWidgets": {},
     "nuid": "06b0e7a4-b65e-4d2d-a3d1-a7b9d2e927e9",
     "showTitle": false,
     "tableResultSettingsMap": {},
     "title": ""
    }
   },
   "outputs": [],
   "source": [
    "%run ../utils/common"
   ]
  },
  {
   "cell_type": "code",
   "execution_count": 0,
   "metadata": {
    "application/vnd.databricks.v1+cell": {
     "cellMetadata": {
      "byteLimit": 2048000,
      "rowLimit": 10000
     },
     "inputWidgets": {},
     "nuid": "a5509b31-d173-49f6-8f2e-5d9d57188dbd",
     "showTitle": false,
     "tableResultSettingsMap": {},
     "title": ""
    }
   },
   "outputs": [],
   "source": [
    "dbutils.widgets.text(\"environment\", \"\", \"\")\n",
    "environment = dbutils.widgets.get(\"environment\")"
   ]
  },
  {
   "cell_type": "code",
   "execution_count": 0,
   "metadata": {
    "application/vnd.databricks.v1+cell": {
     "cellMetadata": {
      "byteLimit": 2048000,
      "rowLimit": 10000
     },
     "inputWidgets": {},
     "nuid": "b49738d2-3e1a-4061-94ca-9bf32579791f",
     "showTitle": false,
     "tableResultSettingsMap": {},
     "title": ""
    }
   },
   "outputs": [],
   "source": [
    "catalog_name = settings[environment]['catalog_name']"
   ]
  },
  {
   "cell_type": "code",
   "execution_count": 0,
   "metadata": {
    "application/vnd.databricks.v1+cell": {
     "cellMetadata": {
      "byteLimit": 2048000,
      "implicitDf": true,
      "rowLimit": 10000
     },
     "inputWidgets": {},
     "nuid": "c785649f-3762-4b00-b569-397af97bf7c7",
     "showTitle": false,
     "tableResultSettingsMap": {},
     "title": ""
    }
   },
   "outputs": [],
   "source": [
    "spark.sql(f\"\"\"\n",
    "CREATE OR REPLACE TABLE {catalog_name}.udp_wcm_gold_vcm_dwh.d_assortment_hero\n",
    "TBLPROPERTIES (\n",
    "  'DELTA.AUTOOPTIMIZE.OPTIMIZEWRITE' = 'TRUE',\n",
    "  'DELTA.AUTOOPTIMIZE.AUTOCOMPACT' = 'TRUE'\n",
    ")\n",
    "AS\n",
    "WITH asm_kg_tv AS (\n",
    "  SELECT DISTINCT\n",
    "    st.business_unit,\n",
    "    a.store_id,\n",
    "    a.product_id\n",
    "  FROM {catalog_name}.udp_wcm_gold_vcm_dwh.d_assortment_scd a\n",
    "  LEFT JOIN {catalog_name}.udp_wcm_gold_vcm_dwh.d_store st USING (store_id)\n",
    "  WHERE\n",
    "    (\n",
    "      (st.business_unit = '2000' AND a.assortment IN ('VMP_KGMB', 'VMP_KGMN', 'WMP_THOIVU')) OR\n",
    "      (st.business_unit = '1500' AND (a.assortment LIKE 'KG\\\\_%' OR a.assortment LIKE 'VM\\\\_KG%')) OR\n",
    "      a.assortment LIKE 'KG_%'\n",
    "    )\n",
    "    AND DATE(start_date) <= DATE(CURRENT_TIMESTAMP() + INTERVAL 7 HOURS)\n",
    "    AND DATE(end_date) >= DATE(CURRENT_TIMESTAMP() + INTERVAL 7 HOURS)\n",
    "    AND a.status = 'ACTIVE'\n",
    ")\n",
    "SELECT DISTINCT\n",
    "  a2.mien,\n",
    "  a2.business_unit,\n",
    "  a2.city,\n",
    "  a.store_id,\n",
    "  a2.store_name,\n",
    "  a.product_id,\n",
    "  a1.product_name,\n",
    "  a1.base_uom,\n",
    "  a1.manufacturer_id,\n",
    "  a1.manufacturer_name,\n",
    "  a1.mch2_id,\n",
    "  a1.mch3_id,\n",
    "  a1.mch4_id,\n",
    "  a1.mch5_id,\n",
    "  a.assortment,\n",
    "  CASE\n",
    "    WHEN a.assortment LIKE '%HERO1' THEN 'HERO1'\n",
    "    WHEN a.assortment LIKE '%HERO2' THEN 'HERO2'\n",
    "    WHEN a.assortment LIKE '%HERO' THEN 'HERO'\n",
    "  END AS assortment_class\n",
    "FROM {catalog_name}.udp_wcm_gold_vcm_dwh.d_assortment_scd a\n",
    "LEFT JOIN {catalog_name}.udp_wcm_gold_vcm_dwh.d_product a1 USING (product_id)\n",
    "LEFT JOIN {catalog_name}.udp_wcm_gold_vcm_dwh.d_store a2 USING (store_id)\n",
    "LEFT JOIN asm_kg_tv a3 USING (store_id, product_id)\n",
    "WHERE\n",
    "  a.end_date >= DATE(CURRENT_TIMESTAMP() + INTERVAL 7 HOURS)\n",
    "  AND a.status = 'ACTIVE'\n",
    "  AND a3.product_id IS NULL\n",
    "  AND ( a.assortment LIKE '%HERO%' OR a.assortment LIKE '%HERO')\n",
    "\"\"\")"
   ]
  }
 ],
 "metadata": {
  "application/vnd.databricks.v1+notebook": {
   "computePreferences": null,
   "dashboards": [],
   "environmentMetadata": {
    "base_environment": "",
    "environment_version": "2"
   },
   "inputWidgetPreferences": null,
   "language": "python",
   "notebookMetadata": {
    "mostRecentlyExecutedCommandWithImplicitDF": {
     "commandId": 7469597179133406,
     "dataframes": [
      "_sqldf"
     ]
    },
    "pythonIndentUnit": 4
   },
   "notebookName": "d_assortment_hero",
   "widgets": {
    "environment": {
     "currentValue": "DEV",
     "nuid": "a6b3771c-0293-4f19-8c8e-d3265306f6f8",
     "typedWidgetInfo": {
      "autoCreated": false,
      "defaultValue": "",
      "label": "",
      "name": "environment",
      "options": {
       "widgetDisplayType": "Text",
       "validationRegex": null
      },
      "parameterDataType": "String"
     },
     "widgetInfo": {
      "widgetType": "text",
      "defaultValue": "",
      "label": "",
      "name": "environment",
      "options": {
       "widgetType": "text",
       "autoCreated": null,
       "validationRegex": null
      }
     }
    }
   }
  },
  "language_info": {
   "name": "python"
  }
 },
 "nbformat": 4,
 "nbformat_minor": 0
}
