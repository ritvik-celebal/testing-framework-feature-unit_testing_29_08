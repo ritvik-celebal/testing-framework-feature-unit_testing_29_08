{
 "cells": [
  {
   "cell_type": "code",
   "execution_count": 0,
   "metadata": {
    "application/vnd.databricks.v1+cell": {
     "cellMetadata": {
      "byteLimit": 2048000,
      "rowLimit": 10000
     },
     "inputWidgets": {},
     "nuid": "0c52b578-ed79-4357-b5f2-0077687f67d6",
     "showTitle": false,
     "tableResultSettingsMap": {},
     "title": ""
    }
   },
   "outputs": [],
   "source": [
    "%run ../utils/common"
   ]
  },
  {
   "cell_type": "code",
   "execution_count": 0,
   "metadata": {
    "application/vnd.databricks.v1+cell": {
     "cellMetadata": {
      "byteLimit": 2048000,
      "rowLimit": 10000
     },
     "inputWidgets": {},
     "nuid": "358fd379-99b4-4954-a6f5-9f4032de2263",
     "showTitle": false,
     "tableResultSettingsMap": {},
     "title": ""
    }
   },
   "outputs": [],
   "source": [
    "dbutils.widgets.text(\"environment\", \"\", \"\")\n",
    "environment = dbutils.widgets.get(\"environment\")"
   ]
  },
  {
   "cell_type": "code",
   "execution_count": 0,
   "metadata": {
    "application/vnd.databricks.v1+cell": {
     "cellMetadata": {
      "byteLimit": 2048000,
      "rowLimit": 10000
     },
     "inputWidgets": {},
     "nuid": "da186a35-ab2e-4286-bcbd-d60594fbd82a",
     "showTitle": false,
     "tableResultSettingsMap": {},
     "title": ""
    }
   },
   "outputs": [],
   "source": [
    "catalog_name = settings[environment]['catalog_name']"
   ]
  },
  {
   "cell_type": "code",
   "execution_count": 0,
   "metadata": {
    "application/vnd.databricks.v1+cell": {
     "cellMetadata": {
      "byteLimit": 2048000,
      "rowLimit": 10000
     },
     "inputWidgets": {},
     "nuid": "ab49c729-840c-4b8f-a410-b32765067095",
     "showTitle": false,
     "tableResultSettingsMap": {},
     "title": ""
    }
   },
   "outputs": [],
   "source": [
    "spark.sql(f\"\"\"\n",
    "          CREATE OR REPLACE TABLE {catalog_name}.udp_wcm_gold_vcm_dwh.d_assortment_store\n",
    "          --PARTITION BY end_date CLUSTER BY store_id AS\n",
    "WITH \n",
    "temp AS (\n",
    "    SELECT * EXCEPT(rn) \n",
    "    FROM (\n",
    "        SELECT \n",
    "            a.site store_id,\n",
    "            a.assortment,\n",
    "            a.date_from start_date,\n",
    "            a.date_to end_date,\n",
    "            a.is_delete,\n",
    "            0 block_by_site,\n",
    "            IF(c.status = 'ACTIVE', 0, 1) block_by_assortment,\n",
    "            IF(a.assortment NOT LIKE 'EX_%', 0, 1) block_by_ex,\n",
    "            ROW_NUMBER()  OVER (PARTITION BY a.site, a.assortment ORDER BY aedat DESC) rn \n",
    "        FROM {catalog_name}.udp_wcm_silver_sap_bw.sap_assortment_site a\n",
    "            LEFT JOIN {catalog_name}.udp_wcm_gold_vcm_dwh.d_assortment_desc c ON a.assortment = c.assortment\n",
    "        UNION ALL\n",
    "        SELECT \n",
    "            a.locnr store_id,\n",
    "            a.asort assortment,\n",
    "            a.datab start_date,\n",
    "            a.datbi end_date,\n",
    "            0 is_delete,\n",
    "            0 block_by_site,\n",
    "            IF(c.status = 'ACTIVE', 0, 1) block_by_assortment,\n",
    "            IF(a.asort NOT LIKE 'EX_%', 0, 1) block_by_ex,\n",
    "            ROW_NUMBER()  OVER (PARTITION BY a.locnr, a.asort ORDER BY reqtsn DESC, datapakid DESC, record DESC) rn \n",
    "        FROM {catalog_name}.udp_wcm_silver_sap_bw.sap_vccmdm40 a\n",
    "            LEFT JOIN {catalog_name}.udp_wcm_gold_vcm_dwh.d_assortment_desc c ON a.asort = c.assortment\n",
    "    ) \n",
    "    WHERE rn = 1\n",
    ")\n",
    "SELECT * FROM temp;\n",
    "          \"\"\")"
   ]
  }
 ],
 "metadata": {
  "application/vnd.databricks.v1+notebook": {
   "computePreferences": null,
   "dashboards": [],
   "environmentMetadata": {
    "base_environment": "",
    "environment_version": "2"
   },
   "inputWidgetPreferences": null,
   "language": "python",
   "notebookMetadata": {
    "mostRecentlyExecutedCommandWithImplicitDF": {
     "commandId": 6385374847152496,
     "dataframes": [
      "_sqldf"
     ]
    },
    "pythonIndentUnit": 4
   },
   "notebookName": "d_assortment_store",
   "widgets": {
    "environment": {
     "currentValue": "DEV",
     "nuid": "e4e22d09-55b5-4b09-adba-a94d63c41d44",
     "typedWidgetInfo": {
      "autoCreated": false,
      "defaultValue": "",
      "label": "",
      "name": "environment",
      "options": {
       "widgetDisplayType": "Text",
       "validationRegex": null
      },
      "parameterDataType": "String"
     },
     "widgetInfo": {
      "widgetType": "text",
      "defaultValue": "",
      "label": "",
      "name": "environment",
      "options": {
       "widgetType": "text",
       "autoCreated": null,
       "validationRegex": null
      }
     }
    },
    "proc_date": {
     "currentValue": "2025-07-21",
     "nuid": "137009b7-95fe-40a6-8c8d-7f9860793084",
     "typedWidgetInfo": {
      "autoCreated": false,
      "defaultValue": "",
      "label": null,
      "name": "proc_date",
      "options": {
       "widgetDisplayType": "Text",
       "validationRegex": null
      },
      "parameterDataType": "String"
     },
     "widgetInfo": {
      "widgetType": "text",
      "defaultValue": "",
      "label": null,
      "name": "proc_date",
      "options": {
       "widgetType": "text",
       "autoCreated": null,
       "validationRegex": null
      }
     }
    }
   }
  },
  "language_info": {
   "name": "python"
  }
 },
 "nbformat": 4,
 "nbformat_minor": 0
}
