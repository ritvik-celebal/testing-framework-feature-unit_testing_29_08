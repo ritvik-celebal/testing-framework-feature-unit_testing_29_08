{
 "cells": [
  {
   "cell_type": "code",
   "execution_count": 0,
   "metadata": {
    "application/vnd.databricks.v1+cell": {
     "cellMetadata": {
      "byteLimit": 2048000,
      "rowLimit": 10000
     },
     "inputWidgets": {},
     "nuid": "af237230-9538-49df-8f70-d12e50c07a40",
     "showTitle": false,
     "tableResultSettingsMap": {},
     "title": ""
    }
   },
   "outputs": [],
   "source": [
    "%run ../utils/common"
   ]
  },
  {
   "cell_type": "code",
   "execution_count": 0,
   "metadata": {
    "application/vnd.databricks.v1+cell": {
     "cellMetadata": {
      "byteLimit": 2048000,
      "rowLimit": 10000
     },
     "inputWidgets": {},
     "nuid": "069c813d-963a-4631-ae57-7c2cce39d0ad",
     "showTitle": false,
     "tableResultSettingsMap": {},
     "title": ""
    }
   },
   "outputs": [],
   "source": [
    "catalog_name = settings[environment]['catalog_name']"
   ]
  },
  {
   "cell_type": "code",
   "execution_count": 0,
   "metadata": {
    "application/vnd.databricks.v1+cell": {
     "cellMetadata": {
      "byteLimit": 2048000,
      "rowLimit": 10000
     },
     "inputWidgets": {},
     "nuid": "b8c7ccc5-bb9e-4405-be7e-e505ce858ff8",
     "showTitle": false,
     "tableResultSettingsMap": {},
     "title": ""
    }
   },
   "outputs": [],
   "source": [
    "spark.sql(f\"\"\"\n",
    "CREATE TABLE IF NOT EXISTS {catalog_name}.udp_wcm_gold_vcm_dwh.d_mdq_pog_store_sku (\n",
    "  store_concept STRING,\n",
    "  store_id STRING,\n",
    "  product_id STRING,\n",
    "  assortment STRING,\n",
    "  assortment_class_desc STRING,\n",
    "  mdq STRING,\n",
    "  approval_status STRING,\n",
    "  winare_mdq STRING,\n",
    "  external_report_mdq STRING,\n",
    "  mdq_source STRING\n",
    ")\n",
    "USING DELTA\n",
    "TBLPROPERTIES (\n",
    "'DELTA.AUTOOPTIMIZE.OPTIMIZEWRITE' = 'TRUE',\n",
    "'DELTA.AUTOOPTIMIZE.AUTOCOMPACT' = 'TRUE'\n",
    ")\n",
    "\"\"\")"
   ]
  },
  {
   "cell_type": "code",
   "execution_count": 0,
   "metadata": {
    "application/vnd.databricks.v1+cell": {
     "cellMetadata": {
      "byteLimit": 2048000,
      "rowLimit": 10000
     },
     "inputWidgets": {},
     "nuid": "110cb811-ae19-473f-913d-1a3dc37315f8",
     "showTitle": false,
     "tableResultSettingsMap": {},
     "title": ""
    }
   },
   "outputs": [],
   "source": [
    "spark.sql(f\"\"\"\n",
    "CREATE OR REPLACE TABLE {catalog_name}.udp_wcm_gold_vcm_dwh.d_mdq_pog_store_sku\n",
    "AS\n",
    "WITH portal_concept_asm_sku AS (\n",
    "    SELECT DISTINCT\n",
    "        a1.store_concept,\n",
    "        a.store_id, \n",
    "        a.product_id,\n",
    "        a.assortment,\n",
    "        a.assortment_class_desc,\n",
    "        a1.mdq,\n",
    "        a1.approval_status,\n",
    "        IF(a1.approval_status = \"YES\", a1.mdq, NULL) AS winare_mdq,\n",
    "        IF(a1.applied_external_report = \"YES\", a1.mdq, NULL) AS external_report_mdq,\n",
    "        'POG MDQ' mdq_source\n",
    "    FROM {catalog_name}.udp_wcm_gold_vcm_dwh.d_mdq_pog a1\n",
    "    INNER JOIN {catalog_name}.udp_wcm_gold_vcm_dwh.d_assortment_scd a\n",
    "        ON a1.product_id = a.product_id \n",
    "        AND a.assortment LIKE 'UB0%'\n",
    "        AND NOT(UPPER(a.assortment) RLIKE 'HERO')\n",
    "        AND a1.core_range = a.assortment_class_desc\n",
    "    INNER JOIN {catalog_name}.udp_wcm_gold_vcm_dwh.d_store c \n",
    "        ON a.store_id = c.store_id\n",
    "    WHERE a.status = 'ACTIVE'\n",
    "        AND a1.store_concept = 'URBAN'\n",
    "        AND UPPER(IFNULL(c.concept, 'NULL')) <> 'RURAL'\n",
    "        AND c.business_unit = '2000'\n",
    "        AND DATE(CURRENT_TIMESTAMP() + INTERVAL 7 HOURS) BETWEEN DATE(a.start_date) AND DATE(a.end_date)\n",
    "    QUALIFY ROW_NUMBER() OVER(PARTITION BY a.store_id, a.product_id ORDER BY a.assortment_class_desc) = 1\n",
    "    UNION ALL\n",
    "    SELECT DISTINCT\n",
    "        a1.store_concept,\n",
    "        a.store_id, \n",
    "        a.product_id, \n",
    "        a.assortment,\n",
    "        a.assortment_class_desc,\n",
    "        a1.mdq,\n",
    "        a1.approval_status,\n",
    "        IF(a1.approval_status = \"YES\", a1.mdq, NULL) AS winare_mdq,\n",
    "        IF(a1.applied_external_report = \"YES\", a1.mdq, NULL) AS external_report_mdq,\n",
    "        'POG MDQ' mdq_source\n",
    "    FROM {catalog_name}.udp_wcm_gold_vcm_dwh.d_mdq_pog a1\n",
    "    INNER JOIN {catalog_name}.udp_wcm_gold_vcm_dwh.d_assortment_scd a\n",
    "        ON a1.product_id = a.product_id \n",
    "        AND  (UPPER(a.assortment) LIKE 'R%CORE%' OR UPPER(a.assortment) LIKE 'R%HERO%')\n",
    "        AND a1.core_range = a.assortment_class_desc\n",
    "    INNER JOIN {catalog_name}.udp_wcm_gold_vcm_dwh.d_store c\n",
    "        ON a.store_id = c.store_id\n",
    "    WHERE a.status = 'ACTIVE'\n",
    "        AND a1.store_concept = 'RURAL'\n",
    "        AND UPPER(c.concept) = 'RURAL'\n",
    "        AND c.business_unit = '2000'\n",
    "        AND DATE(CURRENT_TIMESTAMP() + INTERVAL 7 HOURS) BETWEEN DATE(a.start_date) AND DATE(a.end_date)\n",
    "    QUALIFY ROW_NUMBER() OVER(PARTITION BY a.store_id, a.product_id ORDER BY a.assortment_class_desc) = 1\n",
    "),\n",
    "portal_store_sku AS (\n",
    "    SELECT\n",
    "        IF(UPPER(IFNULL(b.concept, 'NULL')) = 'RURAL', 'RURAL', 'URBAN') store_concept,\n",
    "        a.store_id, \n",
    "        a.product_id,\n",
    "        c.assortment,\n",
    "        c.assortment_class_desc,\n",
    "        a.mdq,\n",
    "        a.approval_status,\n",
    "        IF(a.approval_status = \"YES\", a.mdq, NULL) AS winare_mdq,\n",
    "        NULL external_report_mdq,\n",
    "        'POG MDQ ADHOC' mdq_source\n",
    "    FROM {catalog_name}.udp_wcm_gold_vcm_dwh.d_mdq_store_sku_adhoc a\n",
    "    LEFT JOIN {catalog_name}.udp_wcm_gold_vcm_dwh.d_store b\n",
    "        USING(store_id)\n",
    "    INNER JOIN {catalog_name}.udp_wcm_gold_vcm_dwh.d_assortment_scd c\n",
    "        ON a.store_id = c.store_id \n",
    "            AND a.product_id = c.product_id\n",
    "    WHERE DATE(CURRENT_TIMESTAMP() + INTERVAL 7 HOURS) BETWEEN a.start_date AND a.end_date\n",
    "        AND DATE(CURRENT_TIMESTAMP() + INTERVAL 7 HOURS) BETWEEN DATE(c.start_date) AND DATE(c.end_date)\n",
    "    QUALIFY ROW_NUMBER() OVER(PARTITION BY a.store_id, a.product_id ORDER BY c.assortment_class_desc NULLS LAST) = 1\n",
    "),\n",
    "portal AS (\n",
    "    SELECT \n",
    "        IFNULL(b.store_concept, a.store_concept) store_concept,\n",
    "        IFNULL(b.store_id, a.store_id) store_id,\n",
    "        IFNULL(b.product_id, a.product_id) product_id,\n",
    "        IFNULL(b.assortment, a.assortment) assortment,\n",
    "        IFNULL(b.assortment_class_desc, a.assortment_class_desc) assortment_class_desc,\n",
    "        IFNULL(b.mdq, a.mdq) mdq,\n",
    "        IFNULL(b.approval_status, a.approval_status) approval_status,\n",
    "        IFNULL(b.winare_mdq, a.winare_mdq) winare_mdq,\n",
    "        IFNULL(b.external_report_mdq, a.external_report_mdq) external_report_mdq,\n",
    "        IFNULL(b.mdq_source, a.mdq_source) mdq_source\n",
    "    FROM portal_concept_asm_sku a\n",
    "    FULL JOIN portal_store_sku b\n",
    "        USING(store_id, product_id)\n",
    "),\n",
    "approve_core3 AS (\n",
    "    SELECT \n",
    "        a.store_concept,\n",
    "        a.store_id, \n",
    "        a.product_id, \n",
    "        a.assortment,\n",
    "        a.assortment_class_desc,\n",
    "        a.mdq,\n",
    "        CASE\n",
    "            WHEN a.assortment_class_desc = 'CORE3' AND a.approval_status = \"YES\" AND b.store_id IS NULL THEN \"YES\"\n",
    "            WHEN a.assortment_class_desc = 'CORE3' AND a.approval_status = \"YES\" AND b.store_id IS NOT NULL THEN \"NO\"\n",
    "            ELSE a.approval_status\n",
    "        END approval_status,\n",
    "        CASE\n",
    "            WHEN a.assortment_class_desc = 'CORE3' AND a.approval_status = \"YES\" AND b.store_id IS NULL THEN a.mdq\n",
    "            WHEN a.assortment_class_desc = 'CORE3' AND a.approval_status = \"YES\" AND b.store_id IS NOT NULL THEN NULL\n",
    "            ELSE a.winare_mdq\n",
    "        END winare_mdq,\n",
    "        a.external_report_mdq,\n",
    "        a.mdq_source\n",
    "    FROM portal a\n",
    "    LEFT JOIN (\n",
    "        SELECT store_id, product_id\n",
    "        FROM {catalog_name}.udp_wcm_gold_vcm_dwh.d_dynamic_assorment\n",
    "        WHERE is_keeping = 0\n",
    "    ) B\n",
    "        ON a.store_id = b.store_id AND a.product_id = b.product_id\n",
    "),\n",
    "main AS (\n",
    "    SELECT *\n",
    "    FROM approve_core3\n",
    ")\n",
    "SELECT *\n",
    "FROM main\n",
    "\"\"\")"
   ]
  },
  {
   "cell_type": "code",
   "execution_count": 0,
   "metadata": {
    "application/vnd.databricks.v1+cell": {
     "cellMetadata": {},
     "inputWidgets": {},
     "nuid": "f8cb4799-5e4e-4080-8385-770e74de3225",
     "showTitle": false,
     "tableResultSettingsMap": {},
     "title": ""
    }
   },
   "outputs": [],
   "source": [
    "spark.sql(f\"\"\"\n",
    "CREATE TABLE IF NOT EXISTS {catalog_name}.udp_wcm_gold_vcm_dwh.d_mdq_pog_store_sku_his (\n",
    "  calday DATE,\n",
    "  store_concept STRING,\n",
    "  store_id STRING,\n",
    "  product_id STRING,\n",
    "  assortment STRING,\n",
    "  assortment_class_desc STRING,\n",
    "  mdq DOUBLE,\n",
    "  approval_status STRING,\n",
    "  winare_mdq DOUBLE,\n",
    "  external_report_mdq DOUBLE,\n",
    "  mdq_source STRING\n",
    ")\n",
    "USING DELTA\n",
    "TBLPROPERTIES (\n",
    "'DELTA.AUTOOPTIMIZE.OPTIMIZEWRITE' = 'TRUE',\n",
    "'DELTA.AUTOOPTIMIZE.AUTOCOMPACT' = 'TRUE'\n",
    ");          \n",
    "\"\"\")"
   ]
  },
  {
   "cell_type": "code",
   "execution_count": 0,
   "metadata": {
    "application/vnd.databricks.v1+cell": {
     "cellMetadata": {},
     "inputWidgets": {},
     "nuid": "1c2eb1f0-a993-441d-97f6-364039e3acbf",
     "showTitle": false,
     "tableResultSettingsMap": {},
     "title": ""
    }
   },
   "outputs": [],
   "source": [
    "spark.sql(f\"\"\"\n",
    "DELETE FROM {catalog_name}.udp_wcm_gold_vcm_dwh.d_mdq_pog_store_sku_his WHERE calday = DATE(CURRENT_TIMESTAMP() + INTERVAL 7 HOURS);          \n",
    "\"\"\")"
   ]
  },
  {
   "cell_type": "code",
   "execution_count": 0,
   "metadata": {
    "application/vnd.databricks.v1+cell": {
     "cellMetadata": {},
     "inputWidgets": {},
     "nuid": "511ef40a-cade-426a-87bb-7f2965923cc1",
     "showTitle": false,
     "tableResultSettingsMap": {},
     "title": ""
    }
   },
   "outputs": [],
   "source": [
    "spark.sql(f\"\"\"\n",
    "INSERT INTO {catalog_name}.udp_wcm_gold_vcm_dwh.d_mdq_pog_store_sku_his\n",
    "SELECT\n",
    "    DATE(CURRENT_TIMESTAMP() + INTERVAL 7 HOURS) calday,\n",
    "    store_concept,\n",
    "    store_id,\n",
    "    product_id,\n",
    "    assortment,\n",
    "    assortment_class_desc,\n",
    "    mdq,\n",
    "    approval_status,\n",
    "    winare_mdq,\n",
    "    external_report_mdq,\n",
    "    mdq_source\n",
    "FROM {catalog_name}.udp_wcm_gold_vcm_dwh.d_mdq_pog_store_sku;\n",
    "\"\"\")"
   ]
  }
 ],
 "metadata": {
  "application/vnd.databricks.v1+notebook": {
   "computePreferences": null,
   "dashboards": [],
   "environmentMetadata": {
    "base_environment": "",
    "environment_version": "2"
   },
   "inputWidgetPreferences": null,
   "language": "python",
   "notebookMetadata": {
    "mostRecentlyExecutedCommandWithImplicitDF": {
     "commandId": 7469597179133035,
     "dataframes": [
      "_sqldf"
     ]
    },
    "pythonIndentUnit": 4
   },
   "notebookName": "d_mdq_pog_store_sku",
   "widgets": {
    "environment": {
     "currentValue": "DEV",
     "nuid": "3f61a178-9a8b-45ea-8c85-1fde3680ce0c",
     "typedWidgetInfo": {
      "autoCreated": false,
      "defaultValue": "",
      "label": "",
      "name": "environment",
      "options": {
       "widgetDisplayType": "Text",
       "validationRegex": null
      },
      "parameterDataType": "String"
     },
     "widgetInfo": {
      "widgetType": "text",
      "defaultValue": "",
      "label": "",
      "name": "environment",
      "options": {
       "widgetType": "text",
       "autoCreated": null,
       "validationRegex": null
      }
     }
    }
   }
  },
  "language_info": {
   "name": "python"
  }
 },
 "nbformat": 4,
 "nbformat_minor": 0
}
