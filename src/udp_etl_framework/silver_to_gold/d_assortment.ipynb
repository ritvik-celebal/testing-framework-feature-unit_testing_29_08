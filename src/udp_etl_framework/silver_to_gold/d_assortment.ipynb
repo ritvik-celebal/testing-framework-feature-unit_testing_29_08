{
 "cells": [
  {
   "cell_type": "code",
   "execution_count": 0,
   "metadata": {
    "application/vnd.databricks.v1+cell": {
     "cellMetadata": {
      "byteLimit": 2048000,
      "rowLimit": 10000
     },
     "inputWidgets": {},
     "nuid": "fa63f2ec-ed3c-415e-a515-1d5060dd7c77",
     "showTitle": false,
     "tableResultSettingsMap": {},
     "title": ""
    }
   },
   "outputs": [],
   "source": [
    "%run ../utils/common"
   ]
  },
  {
   "cell_type": "code",
   "execution_count": 0,
   "metadata": {
    "application/vnd.databricks.v1+cell": {
     "cellMetadata": {
      "byteLimit": 2048000,
      "rowLimit": 10000
     },
     "inputWidgets": {},
     "nuid": "68fde1fa-69ba-49ad-a78c-284446bf4cd6",
     "showTitle": false,
     "tableResultSettingsMap": {},
     "title": ""
    }
   },
   "outputs": [],
   "source": [
    "dbutils.widgets.text(\"environment\", \"\", \"\")\n",
    "environment = dbutils.widgets.get(\"environment\")"
   ]
  },
  {
   "cell_type": "code",
   "execution_count": 0,
   "metadata": {
    "application/vnd.databricks.v1+cell": {
     "cellMetadata": {
      "byteLimit": 2048000,
      "rowLimit": 10000
     },
     "inputWidgets": {},
     "nuid": "a7863c3e-af56-47ea-b4a8-af3eca65f0af",
     "showTitle": false,
     "tableResultSettingsMap": {},
     "title": ""
    }
   },
   "outputs": [],
   "source": [
    "catalog_name = settings[environment]['catalog_name']"
   ]
  },
  {
   "cell_type": "code",
   "execution_count": 0,
   "metadata": {
    "application/vnd.databricks.v1+cell": {
     "cellMetadata": {
      "byteLimit": 2048000,
      "rowLimit": 10000
     },
     "inputWidgets": {},
     "nuid": "588feb9f-1159-432f-9599-dabcdf6463ae",
     "showTitle": false,
     "tableResultSettingsMap": {},
     "title": ""
    }
   },
   "outputs": [],
   "source": [
    "spark.sql(\"SET spark.sql.shuffle.partitions = 400;\")\n",
    "spark.sql(f\"\"\"\n",
    "CREATE OR REPLACE TABLE {catalog_name}.udp_wcm_gold_vcm_dwh.d_assortment AS\n",
    "WITH main AS (\n",
    "    SELECT \n",
    "        store_id,\n",
    "        product_id, \n",
    "        dr,\n",
    "        note,\n",
    "        cluster asst,\n",
    "        start_date,\n",
    "        end_date\n",
    "    FROM (\n",
    "        SELECT \n",
    "            a.*, \n",
    "            ROW_NUMBER() OVER (PARTITION BY store_id, product_id, cluster, end_date ORDER BY proc_date) rn \n",
    "        FROM (\n",
    "            (SELECT \n",
    "                b.store_id, product_id, dr, note, cluster_asst cluster, proc_date, start_date, end_date\n",
    "            FROM \n",
    "                 (select /*+ REPARTITION(1000) */ product_id, dr, note, cluster_asst , proc_date, start_date, end_date from {catalog_name}.udp_wcm_silver_dim.stg_vmp_assortmentmb a) a\n",
    "                CROSS JOIN ( select b.store_id from {catalog_name}.udp_wcm_gold_vcm_dwh.d_store b where b.region_domain = 'North' AND business_unit = '2000') b\n",
    "                )\n",
    "            UNION ALL \n",
    "            (SELECT\n",
    "                b.store_id, product_id, dr,\n",
    "                CASE \n",
    "                    WHEN LOWER(a.region) RLIKE 'đà nẵng$|quảng nam$|quảng ngãi$|quảng trị$|thừa thiên huế$' THEN note_dng\n",
    "                ELSE note\n",
    "            END AS note,\n",
    "                            cluster_asst cluster, proc_date, start_date, end_date\n",
    "            FROM \n",
    "                ( select/*+ REPARTITION(1000) */ product_id, dr, region,note_dng, note, cluster_asst, proc_date, start_date, end_date from  {catalog_name}.udp_wcm_silver_dim.stg_vmp_assortmentmn a ) a\n",
    "                CROSS JOIN  ( select b.store_id from {catalog_name}.udp_wcm_gold_vcm_dwh.d_store b where b.region_domain <> 'North' AND business_unit = '2000') b\n",
    "                )\n",
    "            UNION ALL \n",
    "            (SELECT \n",
    "                store_id, product_id, 'Có tính' dr, NULL note, NULL cluster, proc_date, start_date, end_date\n",
    "            FROM {catalog_name}.udp_wcm_silver_dim.stg_vm_assortmentmn\n",
    "            )\n",
    "            UNION ALL \n",
    "            (SELECT \n",
    "                store_id, product_id, 'Có tính' dr, NULL note, NULL cluster, proc_date, start_date, end_date\n",
    "            FROM {catalog_name}.udp_wcm_silver_dim.stg_vm_assortmentmb a\n",
    "            )\n",
    "        ) a \n",
    "    ) x WHERE x.rn = 1\n",
    ") \n",
    "SELECT \n",
    "    *, LAG(start_date,1) OVER (PARTITION BY store_id,product_id ORDER BY start_date) day_of_sale \n",
    "FROM main;\n",
    "\"\"\")"
   ]
  }
 ],
 "metadata": {
  "application/vnd.databricks.v1+notebook": {
   "computePreferences": null,
   "dashboards": [],
   "environmentMetadata": {
    "base_environment": "",
    "environment_version": "2"
   },
   "inputWidgetPreferences": null,
   "language": "python",
   "notebookMetadata": {
    "mostRecentlyExecutedCommandWithImplicitDF": {
     "commandId": 6403329334326425,
     "dataframes": [
      "_sqldf"
     ]
    },
    "pythonIndentUnit": 4
   },
   "notebookName": "d_assortment",
   "widgets": {
    "environment": {
     "currentValue": "DEV",
     "nuid": "e6e235e6-77fa-4090-83bb-dfc1657f70b1",
     "typedWidgetInfo": {
      "autoCreated": false,
      "defaultValue": "",
      "label": "",
      "name": "environment",
      "options": {
       "widgetDisplayType": "Text",
       "validationRegex": null
      },
      "parameterDataType": "String"
     },
     "widgetInfo": {
      "widgetType": "text",
      "defaultValue": "",
      "label": "",
      "name": "environment",
      "options": {
       "widgetType": "text",
       "autoCreated": null,
       "validationRegex": null
      }
     }
    },
    "proc_date": {
     "currentValue": "2025-07-21",
     "nuid": "944567f0-3af4-4b68-aea0-1d1fa7e4a276",
     "typedWidgetInfo": {
      "autoCreated": false,
      "defaultValue": "2025-07-21",
      "label": null,
      "name": "proc_date",
      "options": {
       "widgetDisplayType": "Text",
       "validationRegex": null
      },
      "parameterDataType": "String"
     },
     "widgetInfo": {
      "widgetType": "text",
      "defaultValue": "2025-07-21",
      "label": null,
      "name": "proc_date",
      "options": {
       "widgetType": "text",
       "autoCreated": false,
       "validationRegex": null
      }
     }
    }
   }
  },
  "language_info": {
   "name": "python"
  }
 },
 "nbformat": 4,
 "nbformat_minor": 0
}
