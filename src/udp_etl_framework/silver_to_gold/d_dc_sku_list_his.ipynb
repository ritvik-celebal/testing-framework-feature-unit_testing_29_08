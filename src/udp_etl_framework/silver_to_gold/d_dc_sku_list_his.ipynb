{
 "cells": [
  {
   "cell_type": "code",
   "execution_count": 0,
   "metadata": {
    "application/vnd.databricks.v1+cell": {
     "cellMetadata": {
      "byteLimit": 2048000,
      "rowLimit": 10000
     },
     "inputWidgets": {},
     "nuid": "b36767e1-479d-4a49-aeca-7f26707f00ba",
     "showTitle": false,
     "tableResultSettingsMap": {},
     "title": ""
    }
   },
   "outputs": [],
   "source": [
    "%run ../utils/common"
   ]
  },
  {
   "cell_type": "code",
   "execution_count": 0,
   "metadata": {
    "application/vnd.databricks.v1+cell": {
     "cellMetadata": {
      "byteLimit": 2048000,
      "rowLimit": 10000
     },
     "inputWidgets": {},
     "nuid": "df2aec8b-917b-4798-8fc4-56343a25c827",
     "showTitle": false,
     "tableResultSettingsMap": {},
     "title": ""
    }
   },
   "outputs": [],
   "source": [
    "\n",
    "dbutils.widgets.text(\"environment\", \"\", \"\")\n",
    "environment = dbutils.widgets.get(\"environment\")"
   ]
  },
  {
   "cell_type": "code",
   "execution_count": 0,
   "metadata": {
    "application/vnd.databricks.v1+cell": {
     "cellMetadata": {
      "byteLimit": 2048000,
      "rowLimit": 10000
     },
     "inputWidgets": {},
     "nuid": "1b5fd06c-44e3-43cc-976c-8ae8e2509f63",
     "showTitle": false,
     "tableResultSettingsMap": {},
     "title": ""
    }
   },
   "outputs": [],
   "source": [
    "catalog_name = settings[environment]['catalog_name']"
   ]
  },
  {
   "cell_type": "code",
   "execution_count": 0,
   "metadata": {
    "application/vnd.databricks.v1+cell": {
     "cellMetadata": {
      "byteLimit": 2048000,
      "rowLimit": 10000
     },
     "inputWidgets": {},
     "nuid": "84b882e8-8b80-4a6b-b6d6-dde002344320",
     "showTitle": false,
     "tableResultSettingsMap": {},
     "title": ""
    }
   },
   "outputs": [],
   "source": [
    "spark.sql(f\"\"\"\n",
    "CREATE TABLE IF NOT EXISTS {catalog_name}.udp_wcm_gold_db_winare_nonfresh_dc.d_dc_sku_list_his (\n",
    "\tdc_id STRING,\n",
    "\tproduct_id STRING,\n",
    "\tdc_mode STRING,\n",
    "\twinare_type STRING,\n",
    "\torder_method STRING,\n",
    "\tregion STRING,\n",
    "\tvendor_id STRING,\n",
    "\tvendor_name STRING,\n",
    "\tvendor_subrange STRING,\n",
    "\tmov DOUBLE,\n",
    "\tmoq DOUBLE,\n",
    "\torder_schedule STRING,\n",
    "\tdbo DOUBLE,\n",
    "\tleadtime DOUBLE,\n",
    "\tsafety_stock INT,\n",
    "\torder_unit STRING,\n",
    "\twinare_dc_golive STRING,\n",
    "\tsupra STRING,\n",
    "\tcontact_name STRING,\n",
    "\tcontact_tel STRING,\n",
    "\tpo_pending_day DOUBLE,\n",
    "\tis_winare_block STRING,\n",
    "\tblock_reason STRING,\n",
    "\tblock_type STRING,\n",
    "\tcapacity DOUBLE,\n",
    "\tmanufacturer_id STRING,\n",
    "\tpriority INT,\n",
    "\tcore_range STRING,\n",
    "\tpcb DOUBLE,\n",
    "\tcheck_null STRING,\n",
    "\tcalday DATE\n",
    "\t)\n",
    "\tTBLPROPERTIES \n",
    "\t(\n",
    "\t\tDELTA.AUTOOPTIMIZE.OPTIMIZEWRITE = TRUE,\n",
    "\t\tDELTA.AUTOOPTIMIZE.AUTOCOMPACT = TRUE\n",
    "\t)\n",
    "\"\"\")"
   ]
  },
  {
   "cell_type": "code",
   "execution_count": 0,
   "metadata": {
    "application/vnd.databricks.v1+cell": {
     "cellMetadata": {
      "byteLimit": 2048000,
      "rowLimit": 10000
     },
     "inputWidgets": {},
     "nuid": "4c518344-607d-4166-96b3-f0d94055453e",
     "showTitle": false,
     "tableResultSettingsMap": {},
     "title": ""
    }
   },
   "outputs": [],
   "source": [
    "# DELETE for yesterday's date\n",
    "spark.sql(f\"\"\"\n",
    "DELETE FROM {catalog_name}.udp_wcm_gold_db_winare_nonfresh_dc.d_dc_sku_list_his\n",
    "WHERE calday = DATE_SUB(DATE(CURRENT_TIMESTAMP() + INTERVAL 7 HOURS), 1)\n",
    "\"\"\")\n"
   ]
  },
  {
   "cell_type": "code",
   "execution_count": 0,
   "metadata": {
    "application/vnd.databricks.v1+cell": {
     "cellMetadata": {
      "byteLimit": 2048000,
      "rowLimit": 10000
     },
     "inputWidgets": {},
     "nuid": "b319f6ca-3688-4728-b4ed-b156743c4d05",
     "showTitle": false,
     "tableResultSettingsMap": {},
     "title": ""
    }
   },
   "outputs": [],
   "source": [
    "\n",
    "spark.sql(f\"\"\"\n",
    "INSERT INTO {catalog_name}.udp_wcm_gold_db_winare_nonfresh_dc.d_dc_sku_list_his\n",
    "SELECT\n",
    "  dc_id,\n",
    "  product_id,\n",
    "  dc_mode,\n",
    "  winare_type,\n",
    "  order_method,\n",
    "  region,\n",
    "  vendor_id,\n",
    "  vendor_name,\n",
    "  vendor_subrange,\n",
    "  mov,\n",
    "  moq,\n",
    "  order_schedule,\n",
    "  dbo,\n",
    "  leadtime,\n",
    "  safety_stock,\n",
    "  order_unit,\n",
    "  winare_dc_golive,\n",
    "  supra,\n",
    "  contact_name,\n",
    "  contact_tel,\n",
    "  po_pending_day,\n",
    "  is_winare_block,\n",
    "  block_reason,\n",
    "  block_type,\n",
    "  capacity,\n",
    "  manufacturer_id,\n",
    "  priority,\n",
    "  core_range,\n",
    "  pcb,\n",
    "  check_null,\n",
    "  DATE_SUB(DATE(CURRENT_TIMESTAMP() + INTERVAL 7 HOURS) , 1) AS calday\n",
    "FROM {catalog_name}.udp_wcm_gold_db_winare_nonfresh_dc.d_dc_sku_list\n",
    "\"\"\")\n"
   ]
  }
 ],
 "metadata": {
  "application/vnd.databricks.v1+notebook": {
   "computePreferences": null,
   "dashboards": [],
   "environmentMetadata": {
    "base_environment": "",
    "environment_version": "2"
   },
   "inputWidgetPreferences": null,
   "language": "python",
   "notebookMetadata": {
    "mostRecentlyExecutedCommandWithImplicitDF": {
     "commandId": 398707775829432,
     "dataframes": [
      "_sqldf"
     ]
    },
    "pythonIndentUnit": 4
   },
   "notebookName": "d_dc_sku_list_his",
   "widgets": {
    "environment": {
     "currentValue": "DEV",
     "nuid": "2e0f6b2b-ebd3-44fb-8b4e-194cb65dd16c",
     "typedWidgetInfo": {
      "autoCreated": false,
      "defaultValue": "",
      "label": "",
      "name": "environment",
      "options": {
       "widgetDisplayType": "Text",
       "validationRegex": null
      },
      "parameterDataType": "String"
     },
     "widgetInfo": {
      "widgetType": "text",
      "defaultValue": "",
      "label": "",
      "name": "environment",
      "options": {
       "widgetType": "text",
       "autoCreated": null,
       "validationRegex": null
      }
     }
    },
    "proc_date": {
     "currentValue": "2025-06-28",
     "nuid": "b1d84b10-c154-4854-9f42-a04bfe598bde",
     "typedWidgetInfo": {
      "autoCreated": false,
      "defaultValue": "2025-06-28",
      "label": "",
      "name": "proc_date",
      "options": {
       "widgetDisplayType": "Text",
       "validationRegex": null
      },
      "parameterDataType": "String"
     },
     "widgetInfo": {
      "widgetType": "text",
      "defaultValue": "2025-06-28",
      "label": "",
      "name": "proc_date",
      "options": {
       "widgetType": "text",
       "autoCreated": false,
       "validationRegex": null
      }
     }
    }
   }
  },
  "language_info": {
   "name": "python"
  }
 },
 "nbformat": 4,
 "nbformat_minor": 0
}
