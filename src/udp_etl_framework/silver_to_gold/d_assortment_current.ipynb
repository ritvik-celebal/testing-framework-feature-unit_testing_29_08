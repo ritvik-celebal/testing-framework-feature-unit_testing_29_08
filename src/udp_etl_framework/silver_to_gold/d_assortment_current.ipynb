{
 "cells": [
  {
   "cell_type": "code",
   "execution_count": 0,
   "metadata": {
    "application/vnd.databricks.v1+cell": {
     "cellMetadata": {
      "byteLimit": 2048000,
      "rowLimit": 10000
     },
     "inputWidgets": {},
     "nuid": "9950b04a-1c65-4686-b093-a8e5ffb87726",
     "showTitle": false,
     "tableResultSettingsMap": {},
     "title": ""
    }
   },
   "outputs": [],
   "source": [
    "%run ../utils/common"
   ]
  },
  {
   "cell_type": "code",
   "execution_count": 0,
   "metadata": {
    "application/vnd.databricks.v1+cell": {
     "cellMetadata": {
      "byteLimit": 2048000,
      "rowLimit": 10000
     },
     "inputWidgets": {},
     "nuid": "5eed6927-2be2-4bb7-a628-f996886b60f0",
     "showTitle": false,
     "tableResultSettingsMap": {},
     "title": ""
    }
   },
   "outputs": [],
   "source": [
    "dbutils.widgets.text(\"environment\", \"\", \"\")\n",
    "environment = dbutils.widgets.get(\"environment\")"
   ]
  },
  {
   "cell_type": "code",
   "execution_count": 0,
   "metadata": {
    "application/vnd.databricks.v1+cell": {
     "cellMetadata": {
      "byteLimit": 2048000,
      "rowLimit": 10000
     },
     "inputWidgets": {},
     "nuid": "99234df0-ea42-47b1-a0d8-ca8872d45ce9",
     "showTitle": false,
     "tableResultSettingsMap": {},
     "title": ""
    }
   },
   "outputs": [],
   "source": [
    "catalog_name = settings[environment]['catalog_name']"
   ]
  },
  {
   "cell_type": "code",
   "execution_count": 0,
   "metadata": {
    "application/vnd.databricks.v1+cell": {
     "cellMetadata": {
      "byteLimit": 2048000,
      "rowLimit": 10000
     },
     "inputWidgets": {},
     "nuid": "b4d22925-6ecd-4e43-af3e-07ecb7081bdc",
     "showTitle": false,
     "tableResultSettingsMap": {},
     "title": ""
    }
   },
   "outputs": [],
   "source": [
    "spark.sql(f\"\"\"\n",
    "CREATE OR REPLACE TABLE {catalog_name}.udp_wcm_gold_vcm_dwh.d_assortment_current\n",
    "TBLPROPERTIES (\n",
    "  'DELTA.AUTOOPTIMIZE.OPTIMIZEWRITE' = 'TRUE',\n",
    "  'DELTA.AUTOOPTIMIZE.AUTOCOMPACT' = 'TRUE'\n",
    ")\n",
    "AS\n",
    "WITH ctl AS (\n",
    "    SELECT DISTINCT \n",
    "        store_id, product_id\n",
    "    FROM {catalog_name}.udp_wcm_gold_vcm_dwh.d_assortment_scd\n",
    "    WHERE date(start_date) <= DATE(CURRENT_TIMESTAMP() + INTERVAL 7 HOURS)\n",
    "      AND date(end_date) >= DATE(CURRENT_TIMESTAMP() + INTERVAL 7 HOURS)\n",
    "),\n",
    "ain AS (\n",
    "    SELECT DISTINCT \n",
    "        store_id, product_id\n",
    "    FROM {catalog_name}.udp_wcm_gold_vcm_dwh.d_assortment_scd\n",
    "    WHERE date(start_date) <= DATE(CURRENT_TIMESTAMP() + INTERVAL 7 HOURS)\n",
    "      AND date(end_date) >= DATE(CURRENT_TIMESTAMP() + INTERVAL 7 HOURS)\n",
    "      AND status = 'ACTIVE'\n",
    "),\n",
    "aou AS (\n",
    "    SELECT DISTINCT \n",
    "        store_id, product_id\n",
    "    FROM {catalog_name}.udp_wcm_gold_vcm_dwh.d_assortment_scd\n",
    "    WHERE date(start_date) <= DATE(CURRENT_TIMESTAMP() + INTERVAL 7 HOURS)\n",
    "      AND date(end_date) >= DATE(CURRENT_TIMESTAMP() + INTERVAL 7 HOURS)\n",
    "      AND status = 'INACTIVE'\n",
    "),\n",
    "clst AS (\n",
    "    SELECT DISTINCT \n",
    "        store_id, product_id\n",
    "    FROM {catalog_name}.udp_wcm_gold_vcm_dwh.d_assortment_scd\n",
    "    WHERE date(start_date) <= DATE(CURRENT_TIMESTAMP() + INTERVAL 7 HOURS)\n",
    "      AND date(end_date) >= DATE(CURRENT_TIMESTAMP() + INTERVAL 7 HOURS)\n",
    "      AND status = 'CLEARSTOCK'\n",
    "),\n",
    "ativ AS (\n",
    "    SELECT \n",
    "        ain.store_id, \n",
    "        ain.product_id\n",
    "    FROM ain\n",
    "    LEFT JOIN aou \n",
    "      ON ain.store_id = aou.store_id AND ain.product_id = aou.product_id\n",
    "    WHERE aou.store_id IS NULL\n",
    ")\n",
    "SELECT \n",
    "    st.business_unit,\n",
    "    IFNULL(st.region_domain_vn, '') AS mien, \n",
    "    IFNULL(st.city, '') AS city,\n",
    "    IFNULL(st.district, '') AS district,\n",
    "    ctl.store_id, \n",
    "    st.store_name,\n",
    "    ctl.product_id,\n",
    "    pr.product_name,\n",
    "    pr.manufacturer_id,\n",
    "    pr.manufacturer_name,\n",
    "    pr.mch2_id,\n",
    "    pr.mch3_id,\n",
    "    IF(ativ.product_id IS NOT NULL, 'ACTIVE', 'INACTIVE') AS status\n",
    "FROM ctl\n",
    "LEFT JOIN ativ \n",
    "  ON ctl.store_id = ativ.store_id AND ctl.product_id = ativ.product_id\n",
    "LEFT JOIN {catalog_name}.udp_wcm_gold_vcm_dwh.d_store st \n",
    "  ON ctl.store_id = st.store_id\n",
    "LEFT JOIN {catalog_name}.udp_wcm_gold_vcm_dwh.d_product pr \n",
    "  ON ctl.product_id = pr.product_id\n",
    "\"\"\")\n"
   ]
  }
 ],
 "metadata": {
  "application/vnd.databricks.v1+notebook": {
   "computePreferences": null,
   "dashboards": [],
   "environmentMetadata": {
    "base_environment": "",
    "environment_version": "2"
   },
   "inputWidgetPreferences": null,
   "language": "python",
   "notebookMetadata": {
    "mostRecentlyExecutedCommandWithImplicitDF": {
     "commandId": 4736130552745508,
     "dataframes": [
      "_sqldf"
     ]
    },
    "pythonIndentUnit": 4
   },
   "notebookName": "d_assortment_current",
   "widgets": {
    "environment": {
     "currentValue": "DEV",
     "nuid": "10fd6e90-9bf5-4b44-b9b2-e863107991ad",
     "typedWidgetInfo": {
      "autoCreated": false,
      "defaultValue": "",
      "label": "",
      "name": "environment",
      "options": {
       "widgetDisplayType": "Text",
       "validationRegex": null
      },
      "parameterDataType": "String"
     },
     "widgetInfo": {
      "widgetType": "text",
      "defaultValue": "",
      "label": "",
      "name": "environment",
      "options": {
       "widgetType": "text",
       "autoCreated": null,
       "validationRegex": null
      }
     }
    },
    "proc_date_str": {
     "currentValue": "2025-06-10",
     "nuid": "b7840ea9-d736-4f37-b988-233402143342",
     "typedWidgetInfo": {
      "autoCreated": false,
      "defaultValue": "",
      "label": null,
      "name": "proc_date_str",
      "options": {
       "widgetDisplayType": "Text",
       "validationRegex": null
      },
      "parameterDataType": "String"
     },
     "widgetInfo": {
      "widgetType": "text",
      "defaultValue": "",
      "label": null,
      "name": "proc_date_str",
      "options": {
       "widgetType": "text",
       "autoCreated": null,
       "validationRegex": null
      }
     }
    }
   }
  },
  "language_info": {
   "name": "python"
  }
 },
 "nbformat": 4,
 "nbformat_minor": 0
}
