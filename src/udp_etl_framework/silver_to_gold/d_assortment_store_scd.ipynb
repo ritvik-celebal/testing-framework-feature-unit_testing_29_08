{
 "cells": [
  {
   "cell_type": "code",
   "execution_count": 0,
   "metadata": {
    "application/vnd.databricks.v1+cell": {
     "cellMetadata": {
      "byteLimit": 2048000,
      "rowLimit": 10000
     },
     "inputWidgets": {},
     "nuid": "06b0e7a4-b65e-4d2d-a3d1-a7b9d2e927e9",
     "showTitle": false,
     "tableResultSettingsMap": {},
     "title": ""
    }
   },
   "outputs": [],
   "source": [
    "%run ../utils/common"
   ]
  },
  {
   "cell_type": "code",
   "execution_count": 0,
   "metadata": {
    "application/vnd.databricks.v1+cell": {
     "cellMetadata": {
      "byteLimit": 2048000,
      "rowLimit": 10000
     },
     "inputWidgets": {},
     "nuid": "a5509b31-d173-49f6-8f2e-5d9d57188dbd",
     "showTitle": false,
     "tableResultSettingsMap": {},
     "title": ""
    }
   },
   "outputs": [],
   "source": [
    "dbutils.widgets.text(\"environment\", \"\", \"\")\n",
    "environment = dbutils.widgets.get(\"environment\")"
   ]
  },
  {
   "cell_type": "code",
   "execution_count": 0,
   "metadata": {
    "application/vnd.databricks.v1+cell": {
     "cellMetadata": {
      "byteLimit": 2048000,
      "rowLimit": 10000
     },
     "inputWidgets": {},
     "nuid": "b49738d2-3e1a-4061-94ca-9bf32579791f",
     "showTitle": false,
     "tableResultSettingsMap": {},
     "title": ""
    }
   },
   "outputs": [],
   "source": [
    "catalog_name = settings[environment]['catalog_name']"
   ]
  },
  {
   "cell_type": "code",
   "execution_count": 0,
   "metadata": {
    "application/vnd.databricks.v1+cell": {
     "cellMetadata": {
      "byteLimit": 2048000,
      "rowLimit": 10000
     },
     "inputWidgets": {},
     "nuid": "3a5060e9-c221-4f29-bb89-371fd4fb258b",
     "showTitle": false,
     "tableResultSettingsMap": {},
     "title": ""
    }
   },
   "outputs": [],
   "source": [
    "spark.sql(f\"\"\"\n",
    "CREATE OR REPLACE TABLE {catalog_name}.udp_wcm_gold_vcm_dwh.d_assortment_store_scd \n",
    "TBLPROPERTIES (\n",
    "  'DELTA.AUTOOPTIMIZE.OPTIMIZEWRITE' = 'TRUE',\n",
    "  'DELTA.AUTOOPTIMIZE.AUTOCOMPACT' = 'TRUE'\n",
    ")\n",
    "AS\n",
    "WITH sap_assortment_site AS (\n",
    "    SELECT * \n",
    "    FROM {catalog_name}.udp_wcm_silver_sap_bw.sap_assortment_site \n",
    "    WHERE hash_id NOT IN (-1224047618379587442, -3290328116623744907)\n",
    ")\n",
    ",temp_1 AS (\n",
    "    SELECT \n",
    "        * EXCEPT(date_from_new), \n",
    "        COALESCE(LEAD(date_from) OVER (PARTITION BY assortment, store_id ORDER BY date_to,last_update_date), DATE('9999-12-31')) AS date_from_to, \n",
    "        COALESCE(LEAD(date_to) OVER (PARTITION BY assortment, store_id ORDER BY date_to,last_update_date), DATE('9999-12-31')) AS date_to_to, \n",
    "        COALESCE(LAG(date_from) OVER (PARTITION BY assortment, store_id ORDER BY date_to,last_update_date), date_from) AS date_lag_from_to, \n",
    "        COALESCE(LAG(date_to) OVER (PARTITION BY assortment, store_id ORDER BY date_to,last_update_date), date_to) AS date_lag_to_to \n",
    "    FROM (\n",
    "        SELECT \n",
    "            * EXCEPT(rn), \n",
    "            LEAD(date_from) OVER (PARTITION BY assortment, store_id ORDER BY date_to,last_update_date) AS date_from_new \n",
    "        FROM (\n",
    "            SELECT \n",
    "                assortment,\n",
    "                site AS store_id,\t\n",
    "                date_from,\t\n",
    "                date_to,\n",
    "                is_delete,\n",
    "                aedat AS last_update_date, \n",
    "                ROW_NUMBER() OVER (PARTITION BY assortment, site, lfdnr ORDER BY aedat DESC) AS rn\n",
    "            FROM sap_assortment_site\n",
    "            UNION ALL\n",
    "            SELECT \n",
    "                a.asort AS assortment,\n",
    "                a.locnr AS store_id,\n",
    "                a.datab AS date_from,\n",
    "                a.datbi AS date_to,\n",
    "                0 is_delete,\n",
    "                CAST(proc_date AS DATE) AS last_update_date,\n",
    "                ROW_NUMBER() OVER (PARTITION BY a.locnr, a.asort ORDER BY reqtsn DESC, datapakid DESC, record DESC) AS rn \n",
    "            FROM {catalog_name}.udp_wcm_silver_sap_bw.sap_vccmdm40 a\n",
    "        ) a \n",
    "        WHERE rn = 1 \n",
    "    ) a \n",
    "    WHERE date_from_new > date_from OR date_from_new IS NULL\n",
    ")\n",
    ",temp_2 AS (\n",
    "    SELECT \n",
    "        a.assortment,\t\n",
    "        a.store_id,\t\n",
    "        a.date_from, \n",
    "        a.last_update_date,\n",
    "        CASE WHEN a.date_from_to < a.date_to THEN a.date_from_to ELSE a.date_to END AS date_to,\n",
    "        a.is_delete\n",
    "    FROM temp_1 a\n",
    ")\n",
    ",temp_3 AS (\n",
    "    SELECT *, \n",
    "        LEAD(date_from) OVER (PARTITION BY assortment, store_id ORDER BY date_to, last_update_date) AS date_from_to, \n",
    "        LAG(date_to,1) OVER (PARTITION BY assortment, store_id ORDER BY date_to, last_update_date) AS date_lag_to_to, \n",
    "        LAG(date_from,1) OVER (PARTITION BY assortment, store_id ORDER BY date_to,last_update_date) AS date_lag_from\n",
    "    FROM temp_2\n",
    ")\n",
    ",temp_4 AS (\n",
    "    SELECT \n",
    "        a.assortment,\t\n",
    "        a.store_id,\t\n",
    "        date_from, \n",
    "        a.last_update_date,\n",
    "        date_to,\n",
    "        a.is_delete,\n",
    "        CASE WHEN date_from = date_lag_to_to THEN NULL ELSE date_from END AS date_from_new,\n",
    "        CASE WHEN date_to = date_from_to THEN NULL ELSE date_to END AS date_to_new\n",
    "    FROM temp_3 a \n",
    ")\n",
    ",temp_5 AS (\n",
    "    SELECT \n",
    "        *, LAG(date_from,1) OVER (PARTITION BY assortment, store_id ORDER BY date_to,last_update_date) AS date_from_to \n",
    "    FROM temp_4 \n",
    "    WHERE date_from_new IS NOT NULL OR date_to_new IS NOT NULL\n",
    ")\n",
    "SELECT\n",
    "    a.assortment,\t\n",
    "    a.store_id,\t\n",
    "    COALESCE(a.date_from_new, a.date_from_to) AS start_date,\n",
    "    a.date_to_new AS end_date,\n",
    "    a.is_delete,\n",
    "    0 block_by_site,\n",
    "    CASE WHEN c.status = 'ACTIVE' THEN 0 ELSE 1 END AS block_by_assortment,\n",
    "    CASE WHEN a.assortment NOT LIKE 'EX_%' THEN 0 ELSE 1 END AS block_by_ex,\n",
    "    a.last_update_date\n",
    "FROM temp_5 a\n",
    "    LEFT JOIN {catalog_name}.udp_wcm_gold_vcm_dwh.d_assortment_site_active b \n",
    "        ON a.assortment = b.assortment AND a.store_id = b.store_id\n",
    "    LEFT JOIN {catalog_name}.udp_wcm_gold_vcm_dwh.d_assortment_desc c \n",
    "        ON a.assortment = c.assortment\n",
    "WHERE a.date_to_new IS NOT NULL\n",
    "\"\"\")"
   ]
  }
 ],
 "metadata": {
  "application/vnd.databricks.v1+notebook": {
   "computePreferences": null,
   "dashboards": [],
   "environmentMetadata": {
    "base_environment": "",
    "environment_version": "2"
   },
   "inputWidgetPreferences": null,
   "language": "python",
   "notebookMetadata": {
    "mostRecentlyExecutedCommandWithImplicitDF": {
     "commandId": 6385374847153046,
     "dataframes": [
      "_sqldf"
     ]
    },
    "pythonIndentUnit": 4
   },
   "notebookName": "d_assortment_store_scd",
   "widgets": {
    "environment": {
     "currentValue": "DEV",
     "nuid": "a6b3771c-0293-4f19-8c8e-d3265306f6f8",
     "typedWidgetInfo": {
      "autoCreated": false,
      "defaultValue": "",
      "label": "",
      "name": "environment",
      "options": {
       "widgetDisplayType": "Text",
       "validationRegex": null
      },
      "parameterDataType": "String"
     },
     "widgetInfo": {
      "widgetType": "text",
      "defaultValue": "",
      "label": "",
      "name": "environment",
      "options": {
       "widgetType": "text",
       "autoCreated": null,
       "validationRegex": null
      }
     }
    }
   }
  },
  "language_info": {
   "name": "python"
  }
 },
 "nbformat": 4,
 "nbformat_minor": 0
}
