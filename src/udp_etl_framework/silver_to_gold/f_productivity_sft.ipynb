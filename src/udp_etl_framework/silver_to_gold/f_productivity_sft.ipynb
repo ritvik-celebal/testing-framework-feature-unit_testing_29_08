{
 "cells": [
  {
   "cell_type": "code",
   "execution_count": 0,
   "metadata": {
    "application/vnd.databricks.v1+cell": {
     "cellMetadata": {
      "byteLimit": 2048000,
      "rowLimit": 10000
     },
     "inputWidgets": {},
     "nuid": "4239a75f-42a4-4822-b08c-fc81a13ce3bc",
     "showTitle": false,
     "tableResultSettingsMap": {},
     "title": ""
    }
   },
   "outputs": [],
   "source": [
    "%run ../utils/common"
   ]
  },
  {
   "cell_type": "code",
   "execution_count": 0,
   "metadata": {
    "application/vnd.databricks.v1+cell": {
     "cellMetadata": {
      "byteLimit": 2048000,
      "rowLimit": 10000
     },
     "inputWidgets": {},
     "nuid": "598788bd-3b0d-4e0b-a946-5b17dedd3317",
     "showTitle": false,
     "tableResultSettingsMap": {},
     "title": ""
    }
   },
   "outputs": [],
   "source": [
    "dbutils.widgets.text(\"environment\", \"\", \"\")\n",
    "environment = dbutils.widgets.get(\"environment\")"
   ]
  },
  {
   "cell_type": "code",
   "execution_count": 0,
   "metadata": {
    "application/vnd.databricks.v1+cell": {
     "cellMetadata": {
      "byteLimit": 2048000,
      "rowLimit": 10000
     },
     "inputWidgets": {},
     "nuid": "306a5811-5aec-4071-9237-dd2912e9dbb4",
     "showTitle": false,
     "tableResultSettingsMap": {},
     "title": ""
    }
   },
   "outputs": [],
   "source": [
    "catalog_name = settings[environment]['catalog_name']"
   ]
  },
  {
   "cell_type": "code",
   "execution_count": 0,
   "metadata": {
    "application/vnd.databricks.v1+cell": {
     "cellMetadata": {},
     "inputWidgets": {},
     "nuid": "c3a74f8b-17c6-48d2-8643-c0b187582c61",
     "showTitle": false,
     "tableResultSettingsMap": {},
     "title": ""
    }
   },
   "outputs": [],
   "source": [
    "spark.sql(f\"\"\"         \n",
    "CREATE OR REPLACE TABLE {catalog_name}.udp_wcm_gold_vcm_dwh.f_productivity_sft\n",
    "\n",
    "--PARTITION BY DATE(START_TIME) \n",
    "\n",
    "TBLPROPERTIES (\n",
    "  'DELTA.AUTOOPTIMIZE.OPTIMIZEWRITE' = 'TRUE',\n",
    "  'DELTA.AUTOOPTIMIZE.AUTOCOMPACT' = 'TRUE'\n",
    ")\n",
    "\n",
    "AS\n",
    "WITH ranked_data AS (\n",
    "  SELECT\n",
    "    CLIENT_CODE,\n",
    "    WAREHOUSE_CODE,\n",
    "    WAREHOUSE_SITE_ID,\n",
    "    OBJECT_CODE,\n",
    "    REF_CODE,\n",
    "    JOB_TYPE,\n",
    "    IS_EVEN,\n",
    "    EMPLOYEE_ID,\n",
    "    EMPLOYEE_NAME,\n",
    "    START_TIME,\n",
    "    END_TIME,\n",
    "    TOTAL_SKU,\n",
    "    TOTAL_SKU_PROCESSED,\n",
    "    TOTAL_UNIT,\n",
    "    TOTAL_UNIT_PROCESSED,\n",
    "    ROW_NUMBER() OVER(PARTITION BY OBJECT_CODE, JOB_TYPE, REF_CODE, EMPLOYEE_ID ORDER BY PROC_DATE DESC) AS row_num\n",
    "  FROM {catalog_name}.udp_wcm_silver_eventhub.productivity_sft\n",
    ")\n",
    "SELECT\n",
    "  CLIENT_CODE,\n",
    "  WAREHOUSE_CODE,\n",
    "  WAREHOUSE_SITE_ID,\n",
    "  OBJECT_CODE,\n",
    "  REF_CODE,\n",
    "  JOB_TYPE,\n",
    "  IS_EVEN,\n",
    "  EMPLOYEE_ID,\n",
    "  EMPLOYEE_NAME,\n",
    "  START_TIME,\n",
    "  END_TIME,\n",
    "  TOTAL_SKU,\n",
    "  TOTAL_SKU_PROCESSED,\n",
    "  TOTAL_UNIT,\n",
    "  TOTAL_UNIT_PROCESSED\n",
    "FROM ranked_data\n",
    "WHERE row_num = 1\n",
    "\"\"\")"
   ]
  }
 ],
 "metadata": {
  "application/vnd.databricks.v1+notebook": {
   "computePreferences": null,
   "dashboards": [],
   "environmentMetadata": {
    "base_environment": "",
    "environment_version": "2"
   },
   "inputWidgetPreferences": null,
   "language": "python",
   "notebookMetadata": {
    "pythonIndentUnit": 4
   },
   "notebookName": "f_productivity_sft",
   "widgets": {}
  },
  "language_info": {
   "name": "python"
  }
 },
 "nbformat": 4,
 "nbformat_minor": 0
}
