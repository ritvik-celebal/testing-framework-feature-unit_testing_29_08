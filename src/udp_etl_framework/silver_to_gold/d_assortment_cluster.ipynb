{
 "cells": [
  {
   "cell_type": "code",
   "execution_count": 0,
   "metadata": {
    "application/vnd.databricks.v1+cell": {
     "cellMetadata": {
      "byteLimit": 2048000,
      "rowLimit": 10000
     },
     "inputWidgets": {},
     "nuid": "b989b2c1-d8c7-4ec6-8713-67338fec6114",
     "showTitle": false,
     "tableResultSettingsMap": {},
     "title": ""
    }
   },
   "outputs": [],
   "source": [
    "%run ../utils/common"
   ]
  },
  {
   "cell_type": "code",
   "execution_count": 0,
   "metadata": {
    "application/vnd.databricks.v1+cell": {
     "cellMetadata": {
      "byteLimit": 2048000,
      "rowLimit": 10000
     },
     "inputWidgets": {},
     "nuid": "4135f498-d9f6-4c7d-9e7a-ef4f5cd76d3d",
     "showTitle": false,
     "tableResultSettingsMap": {},
     "title": ""
    }
   },
   "outputs": [],
   "source": [
    "dbutils.widgets.text(\"environment\", \"\", \"\")\n",
    "environment = dbutils.widgets.get(\"environment\")"
   ]
  },
  {
   "cell_type": "code",
   "execution_count": 0,
   "metadata": {
    "application/vnd.databricks.v1+cell": {
     "cellMetadata": {
      "byteLimit": 2048000,
      "rowLimit": 10000
     },
     "inputWidgets": {},
     "nuid": "b4d6cf1f-28b1-4898-87e0-74b532f09165",
     "showTitle": false,
     "tableResultSettingsMap": {},
     "title": ""
    }
   },
   "outputs": [],
   "source": [
    "catalog_name = settings[environment]['catalog_name']"
   ]
  },
  {
   "cell_type": "code",
   "execution_count": 0,
   "metadata": {
    "application/vnd.databricks.v1+cell": {
     "cellMetadata": {
      "byteLimit": 2048000,
      "rowLimit": 10000
     },
     "inputWidgets": {},
     "nuid": "fcf9de8f-e5d7-4bdd-b37b-c14ee7ec59a1",
     "showTitle": false,
     "tableResultSettingsMap": {},
     "title": ""
    }
   },
   "outputs": [],
   "source": [
    "spark.sql(f\"\"\"\n",
    "CREATE OR REPLACE TABLE {catalog_name}.udp_wcm_gold_vcm_dwh.d_assortment_cluster \n",
    "TBLPROPERTIES (\n",
    "  'DELTA.AUTOOPTIMIZE.OPTIMIZEWRITE' = 'TRUE',\n",
    "  'DELTA.AUTOOPTIMIZE.AUTOCOMPACT' = 'TRUE'\n",
    ")\n",
    "AS\n",
    "WITH d_store AS\n",
    "(\n",
    "    SELECT * EXCEPT(ds.region_domain),\n",
    "            CASE WHEN ds.region_domain = 'West' THEN 'South' ELSE ds.region_domain END AS region_domain\n",
    "    FROM {catalog_name}.udp_wcm_gold_vcm_dwh.d_store ds\n",
    ")\n",
    "SELECT\n",
    "    store_id,\n",
    "    product_id,\n",
    "    cluster_sale AS cluster,\n",
    "    start_date,\n",
    "    end_date\n",
    "FROM (\n",
    "    SELECT\n",
    "        a.*,\n",
    "        ROW_NUMBER() OVER (PARTITION BY store_id,product_id,end_date ORDER BY proc_date) rn\n",
    "    FROM (\n",
    "        SELECT\n",
    "            store_id,product_id,cluster_sale,proc_date,start_date,end_date\n",
    "        FROM {catalog_name}.udp_wcm_silver_dim.stg_vm_danhmucnhomhangmn\n",
    "        UNION ALL \n",
    "        SELECT\n",
    "            store_id, product_id, cluster_sale, proc_date, start_date,end_date\n",
    "        FROM {catalog_name}.udp_wcm_silver_dim.stg_vm_danhmucnhomhangmb\n",
    "        UNION ALL \n",
    "        SELECT b.store_id, product_id,CLUSTER cluster_sale, proc_date,start_date,end_date\n",
    "        FROM \n",
    "            {catalog_name}.udp_wcm_silver_dim.stg_vmp_assortmentclustering a\n",
    "            LEFT JOIN d_store b ON b.region_domain = a.region AND business_unit = '2000'\n",
    "    ) a\n",
    ") x WHERE x.rn = 1\n",
    "\"\"\")"
   ]
  }
 ],
 "metadata": {
  "application/vnd.databricks.v1+notebook": {
   "computePreferences": null,
   "dashboards": [],
   "environmentMetadata": {
    "base_environment": "",
    "environment_version": "2"
   },
   "inputWidgetPreferences": null,
   "language": "python",
   "notebookMetadata": {
    "mostRecentlyExecutedCommandWithImplicitDF": {
     "commandId": 7469597179133096,
     "dataframes": [
      "_sqldf"
     ]
    },
    "pythonIndentUnit": 4
   },
   "notebookName": "d_assortment_cluster",
   "widgets": {
    "environment": {
     "currentValue": "DEV",
     "nuid": "5c0f18bf-9d27-4233-9707-2af63644bf92",
     "typedWidgetInfo": {
      "autoCreated": false,
      "defaultValue": "",
      "label": "",
      "name": "environment",
      "options": {
       "widgetDisplayType": "Text",
       "validationRegex": null
      },
      "parameterDataType": "String"
     },
     "widgetInfo": {
      "widgetType": "text",
      "defaultValue": "",
      "label": "",
      "name": "environment",
      "options": {
       "widgetType": "text",
       "autoCreated": null,
       "validationRegex": null
      }
     }
    }
   }
  },
  "language_info": {
   "name": "python"
  }
 },
 "nbformat": 4,
 "nbformat_minor": 0
}
