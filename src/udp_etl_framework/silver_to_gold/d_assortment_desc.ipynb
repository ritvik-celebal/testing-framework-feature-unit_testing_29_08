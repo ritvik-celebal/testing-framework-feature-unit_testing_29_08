{
 "cells": [
  {
   "cell_type": "code",
   "execution_count": 0,
   "metadata": {
    "application/vnd.databricks.v1+cell": {
     "cellMetadata": {
      "byteLimit": 2048000,
      "rowLimit": 10000
     },
     "inputWidgets": {},
     "nuid": "06b0e7a4-b65e-4d2d-a3d1-a7b9d2e927e9",
     "showTitle": false,
     "tableResultSettingsMap": {},
     "title": ""
    }
   },
   "outputs": [],
   "source": [
    "%run ../utils/common"
   ]
  },
  {
   "cell_type": "code",
   "execution_count": 0,
   "metadata": {
    "application/vnd.databricks.v1+cell": {
     "cellMetadata": {
      "byteLimit": 2048000,
      "rowLimit": 10000
     },
     "inputWidgets": {},
     "nuid": "a5509b31-d173-49f6-8f2e-5d9d57188dbd",
     "showTitle": false,
     "tableResultSettingsMap": {},
     "title": ""
    }
   },
   "outputs": [],
   "source": [
    "dbutils.widgets.text(\"environment\", \"\", \"\")\n",
    "environment = dbutils.widgets.get(\"environment\")"
   ]
  },
  {
   "cell_type": "code",
   "execution_count": 0,
   "metadata": {
    "application/vnd.databricks.v1+cell": {
     "cellMetadata": {
      "byteLimit": 2048000,
      "rowLimit": 10000
     },
     "inputWidgets": {},
     "nuid": "b49738d2-3e1a-4061-94ca-9bf32579791f",
     "showTitle": false,
     "tableResultSettingsMap": {},
     "title": ""
    }
   },
   "outputs": [],
   "source": [
    "catalog_name = settings[environment]['catalog_name']"
   ]
  },
  {
   "cell_type": "code",
   "execution_count": 0,
   "metadata": {
    "application/vnd.databricks.v1+cell": {
     "cellMetadata": {
      "byteLimit": 2048000,
      "rowLimit": 10000
     },
     "inputWidgets": {},
     "nuid": "90dc79f9-2a2f-4693-9311-bd648aa74853",
     "showTitle": false,
     "tableResultSettingsMap": {},
     "title": ""
    }
   },
   "outputs": [],
   "source": [
    "spark.sql(f\"\"\"\n",
    "CREATE OR REPLACE TABLE {catalog_name}.udp_wcm_gold_vcm_dwh.d_assortment_desc\n",
    "TBLPROPERTIES (\n",
    "  'DELTA.AUTOOPTIMIZE.OPTIMIZEWRITE' = 'TRUE',\n",
    "  'DELTA.AUTOOPTIMIZE.AUTOCOMPACT' = 'TRUE'\n",
    ")\n",
    " \n",
    "AS\n",
    "WITH \n",
    "assortment_sap AS (\n",
    "    SELECT * EXCEPT(rn) \n",
    "    FROM (\n",
    "        SELECT\n",
    "            rt_asort AS assortment, \n",
    "            txtlg AS name, \n",
    "            ROW_NUMBER() OVER (PARTITION BY rt_asort ORDER BY end_date DESC) AS rn \n",
    "        FROM {catalog_name}.udp_wcm_silver_sap_bw.sap_trt_asort\n",
    "    ) \n",
    "    WHERE rn = 1\n",
    "), \n",
    "assortment_site_active AS (\n",
    "    SELECT DISTINCT assortment \n",
    "    FROM {catalog_name}.udp_wcm_gold_vcm_dwh.d_assortment_site_active \n",
    "),\n",
    "main AS (\n",
    "    SELECT \n",
    "        assortment_sap.assortment,\n",
    "        name,\n",
    "        CASE \n",
    "            WHEN (name LIKE '1%' OR name LIKE '2%' OR name LIKE '3%') AND assortment_site_active.assortment IS NOT NULL THEN 'ACTIVE'\n",
    "            ELSE 'INACTIVE'\n",
    "        END AS status,\n",
    "        CASE \n",
    "            WHEN name LIKE '2%' THEN 'DC_ETON'\n",
    "            WHEN name LIKE '3%' THEN 'DC_WCM'\n",
    "            ELSE ''\n",
    "        END AS asrt_group\n",
    "    FROM assortment_sap \n",
    "    LEFT JOIN assortment_site_active ON assortment_sap.assortment = assortment_site_active.assortment\n",
    ")\n",
    "SELECT DISTINCT\n",
    "    main.assortment as assortment,\n",
    "    name,\n",
    "    status,\n",
    "    asrt_group,\n",
    "    a1.assortment_class,\n",
    "    a1.assortment_class_desc,\n",
    "    CASE\n",
    "        WHEN UPPER(main.assortment) RLIKE 'KVI|RUOU|THUOCLA' THEN 1\n",
    "        WHEN UPPER(main.assortment) LIKE '%CAOCAP%' THEN 2\n",
    "        WHEN UPPER(main.assortment) LIKE '%CORETQ%' THEN 3\n",
    "        WHEN UPPER(main.assortment) RLIKE 'HANOI|HCM|HN|HCM|CANTHO|HP|_DN|_NA|_TN|_NB|_TH|_BG|_CT|_BDINH|_NTRANG|_DLK|_PYEN|_LS' THEN 4\n",
    "        WHEN UPPER(main.assortment) RLIKE '_NTB|_MD|_BTB' THEN 7\n",
    "        WHEN UPPER(main.assortment) RLIKE 'M_B|M_N|MB|MN|MT|N_|B_|_S|T_|_N|_B' THEN 8\n",
    "        WHEN UPPER(main.assortment) RLIKE 'SOUTH|NORTH|NORT|SOUT' THEN 9\n",
    "        WHEN UPPER(main.assortment) RLIKE '_TQ' THEN 10\n",
    "        WHEN NOT RLIKE(UPPER(main.assortment), '^[0-9]+$') THEN 11\n",
    "        ELSE 12\n",
    "    END AS priority\n",
    "FROM main\n",
    "LEFT JOIN {catalog_name}.udp_wcm_gold_vcm_dwh.d_assortment_class a1 ON main.assortment = a1.assortment\n",
    "\"\"\")"
   ]
  }
 ],
 "metadata": {
  "application/vnd.databricks.v1+notebook": {
   "computePreferences": null,
   "dashboards": [],
   "environmentMetadata": {
    "base_environment": "",
    "environment_version": "2"
   },
   "inputWidgetPreferences": null,
   "language": "python",
   "notebookMetadata": {
    "mostRecentlyExecutedCommandWithImplicitDF": {
     "commandId": 7469597179162748,
     "dataframes": [
      "_sqldf"
     ]
    },
    "pythonIndentUnit": 4
   },
   "notebookName": "d_assortment_desc",
   "widgets": {
    "environment": {
     "currentValue": "DEV",
     "nuid": "a6b3771c-0293-4f19-8c8e-d3265306f6f8",
     "typedWidgetInfo": {
      "autoCreated": false,
      "defaultValue": "",
      "label": "",
      "name": "environment",
      "options": {
       "widgetDisplayType": "Text",
       "validationRegex": null
      },
      "parameterDataType": "String"
     },
     "widgetInfo": {
      "widgetType": "text",
      "defaultValue": "",
      "label": "",
      "name": "environment",
      "options": {
       "widgetType": "text",
       "autoCreated": null,
       "validationRegex": null
      }
     }
    }
   }
  },
  "language_info": {
   "name": "python"
  }
 },
 "nbformat": 4,
 "nbformat_minor": 0
}
