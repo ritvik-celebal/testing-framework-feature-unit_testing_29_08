{
 "cells": [
  {
   "cell_type": "code",
   "execution_count": 0,
   "metadata": {
    "application/vnd.databricks.v1+cell": {
     "cellMetadata": {},
     "inputWidgets": {},
     "nuid": "e9ef5499-8620-45c7-96d4-a4cd2a407f94",
     "showTitle": false,
     "tableResultSettingsMap": {},
     "title": ""
    }
   },
   "outputs": [],
   "source": [
    "%run ../utils/common"
   ]
  },
  {
   "cell_type": "code",
   "execution_count": 0,
   "metadata": {
    "application/vnd.databricks.v1+cell": {
     "cellMetadata": {
      "byteLimit": 2048000,
      "rowLimit": 10000
     },
     "inputWidgets": {},
     "nuid": "bc1c99f5-578c-41e2-b789-14dc7e6a983c",
     "showTitle": false,
     "tableResultSettingsMap": {},
     "title": ""
    }
   },
   "outputs": [],
   "source": [
    "dbutils.widgets.text(\"environment\", \"\", \"\")\n",
    "environment = dbutils.widgets.get(\"environment\")"
   ]
  },
  {
   "cell_type": "code",
   "execution_count": 0,
   "metadata": {
    "application/vnd.databricks.v1+cell": {
     "cellMetadata": {
      "byteLimit": 2048000,
      "rowLimit": 10000
     },
     "inputWidgets": {},
     "nuid": "deb9da64-d0bf-4215-a333-13a17e463ec9",
     "showTitle": false,
     "tableResultSettingsMap": {},
     "title": ""
    }
   },
   "outputs": [],
   "source": [
    "catalog_name = settings[environment]['catalog_name']"
   ]
  },
  {
   "cell_type": "code",
   "execution_count": 0,
   "metadata": {
    "application/vnd.databricks.v1+cell": {
     "cellMetadata": {
      "byteLimit": 2048000,
      "rowLimit": 10000
     },
     "inputWidgets": {},
     "nuid": "c1338625-e17e-47b0-a24d-14f3af70028f",
     "showTitle": false,
     "tableResultSettingsMap": {},
     "title": ""
    }
   },
   "outputs": [],
   "source": [
    "spark.sql(f\"\"\"\n",
    "CREATE OR REPLACE TABLE {catalog_name}.udp_wcm_gold_db_winare_nonfresh_dc.d_cfg_winare_block_by_store_sku \n",
    "TBLPROPERTIES (\n",
    "  'DELTA.AUTOOPTIMIZE.OPTIMIZEWRITE' = 'TRUE',\n",
    "  'DELTA.AUTOOPTIMIZE.AUTOCOMPACT' = 'TRUE'\n",
    ")\n",
    "AS\n",
    "-- BLOCK đích danh STORE, SKU\n",
    "SELECT * EXCEPT (proc_date, upload_time ,upload_user)\n",
    "FROM {catalog_name}.udp_wcm_silver_dataportal.d_cfg_winare_block_by_store_sku\n",
    "QUALIFY ROW_NUMBER() OVER (PARTITION BY store_id, product_id, reason ORDER BY proc_date DESC, upload_time DESC) = 1\n",
    "UNION ALL\n",
    "-- BLOCK theo giỏ hàng\n",
    "SELECT DISTINCT\n",
    "\ta.store_id,\n",
    "\ta.product_id,\n",
    "\t\"Block giỏ hàng\" reason,\n",
    "\tDATE(\"2000-01-01\") as valid_from,\n",
    "\tDATE(\"2030-12-31\") as valid_to\n",
    "FROM {catalog_name}.udp_wcm_gold_vcm_dwh.d_assortment_scd a\n",
    "WHERE\n",
    "\ta.assortment IN (SELECT assortment_basket FROM {catalog_name}.udp_wcm_gold_vcm_dwh.d_winare_block_by_assortment_basket)\n",
    "  \tAND a.status = 'ACTIVE'\n",
    "  \tAND (DATE(CURRENT_TIMESTAMP() + INTERVAL 7 HOURS) >= a.start_date AND DATE(CURRENT_TIMESTAMP() + INTERVAL 7 HOURS) <= a.end_date);\n",
    "\"\"\")"
   ]
  },
  {
   "cell_type": "code",
   "execution_count": 0,
   "metadata": {
    "application/vnd.databricks.v1+cell": {
     "cellMetadata": {},
     "inputWidgets": {},
     "nuid": "8fce0826-61af-4ae1-8b6a-c2268c1e09ab",
     "showTitle": false,
     "tableResultSettingsMap": {},
     "title": ""
    }
   },
   "outputs": [],
   "source": [
    "spark.sql(\"\"\"\n",
    "DELETE FROM {catalog_name}.udp_wcm_gold_db_winare_nonfresh_dc.d_cfg_winare_block_by_store_sku_current_his\n",
    "WHERE calday = DATE(CURRENT_TIMESTAMP() + INTERVAL 7 HOURS) - 1;\n",
    "\"\"\")"
   ]
  },
  {
   "cell_type": "code",
   "execution_count": 0,
   "metadata": {
    "application/vnd.databricks.v1+cell": {
     "cellMetadata": {},
     "inputWidgets": {},
     "nuid": "5b3668c2-b7a2-4864-9efa-3b2734bd3ef1",
     "showTitle": false,
     "tableResultSettingsMap": {},
     "title": ""
    }
   },
   "outputs": [],
   "source": [
    "spark.sql(\"\"\"\n",
    "INSERT INTO {catalog_name}.udp_wcm_gold_db_winare_nonfresh_dc.d_cfg_winare_block_by_store_sku_current_his\n",
    "SELECT\n",
    "\tDATE(CURRENT_TIMESTAMP() + INTERVAL 7 HOURS) - 1 calday,\n",
    "\tstore_id,\n",
    "\tproduct_id, \n",
    "\treason,\n",
    "\t`from`,\n",
    "\t`to`\n",
    "FROM {catalog_name}.udp_wcm_gold_db_winare_nonfresh_dc.d_cfg_winare_block_by_store_sku_current_his\n",
    "WHERE DATE(CURRENT_TIMESTAMP() + INTERVAL 7 HOURS) BETWEEN `from` AND `to`;\n",
    "\"\"\")"
   ]
  }
 ],
 "metadata": {
  "application/vnd.databricks.v1+notebook": {
   "computePreferences": null,
   "dashboards": [],
   "environmentMetadata": {
    "base_environment": "",
    "environment_version": "2"
   },
   "inputWidgetPreferences": null,
   "language": "python",
   "notebookMetadata": {
    "mostRecentlyExecutedCommandWithImplicitDF": {
     "commandId": 6673494183698846,
     "dataframes": [
      "_sqldf"
     ]
    },
    "pythonIndentUnit": 4
   },
   "notebookName": "d_cfg_winare_block_by_store_sku",
   "widgets": {
    "environment": {
     "currentValue": "DEV",
     "nuid": "2de4bde0-3eef-4293-a6d9-f3ad06246334",
     "typedWidgetInfo": {
      "autoCreated": false,
      "defaultValue": "",
      "label": "",
      "name": "environment",
      "options": {
       "widgetDisplayType": "Text",
       "validationRegex": null
      },
      "parameterDataType": "String"
     },
     "widgetInfo": {
      "widgetType": "text",
      "defaultValue": "",
      "label": "",
      "name": "environment",
      "options": {
       "widgetType": "text",
       "autoCreated": null,
       "validationRegex": null
      }
     }
    },
    "proc_date": {
     "currentValue": "2025-06-28",
     "nuid": "c0ef1183-3bc7-4f16-8b63-f4b7144d8c92",
     "typedWidgetInfo": {
      "autoCreated": false,
      "defaultValue": "",
      "label": null,
      "name": "proc_date",
      "options": {
       "widgetDisplayType": "Text",
       "validationRegex": null
      },
      "parameterDataType": "String"
     },
     "widgetInfo": {
      "widgetType": "text",
      "defaultValue": "",
      "label": null,
      "name": "proc_date",
      "options": {
       "widgetType": "text",
       "autoCreated": null,
       "validationRegex": null
      }
     }
    }
   }
  },
  "language_info": {
   "name": "python"
  }
 },
 "nbformat": 4,
 "nbformat_minor": 0
}
