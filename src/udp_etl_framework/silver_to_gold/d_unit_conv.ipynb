{
 "cells": [
  {
   "cell_type": "code",
   "execution_count": 0,
   "metadata": {
    "application/vnd.databricks.v1+cell": {
     "cellMetadata": {
      "byteLimit": 2048000,
      "rowLimit": 10000
     },
     "inputWidgets": {},
     "nuid": "2f4a1cc4-548d-424e-9930-fcc67bbffdd0",
     "showTitle": false,
     "tableResultSettingsMap": {},
     "title": ""
    }
   },
   "outputs": [],
   "source": [
    "%run ../utils/common"
   ]
  },
  {
   "cell_type": "code",
   "execution_count": 0,
   "metadata": {
    "application/vnd.databricks.v1+cell": {
     "cellMetadata": {
      "byteLimit": 2048000,
      "rowLimit": 10000
     },
     "inputWidgets": {},
     "nuid": "52570af0-3135-44f7-b974-fe3bd031abec",
     "showTitle": false,
     "tableResultSettingsMap": {},
     "title": ""
    }
   },
   "outputs": [],
   "source": [
    "dbutils.widgets.text(\"environment\", \"\", \"\")\n",
    "environment = dbutils.widgets.get(\"environment\")"
   ]
  },
  {
   "cell_type": "code",
   "execution_count": 0,
   "metadata": {
    "application/vnd.databricks.v1+cell": {
     "cellMetadata": {
      "byteLimit": 2048000,
      "rowLimit": 10000
     },
     "inputWidgets": {},
     "nuid": "171624c1-3333-4ac6-945e-39791de636ce",
     "showTitle": false,
     "tableResultSettingsMap": {},
     "title": ""
    }
   },
   "outputs": [],
   "source": [
    "catalog_name = settings[environment]['catalog_name']"
   ]
  },
  {
   "cell_type": "code",
   "execution_count": 0,
   "metadata": {
    "application/vnd.databricks.v1+cell": {
     "cellMetadata": {
      "byteLimit": 2048000,
      "rowLimit": 10000
     },
     "inputWidgets": {},
     "nuid": "2a346f5e-b3a3-40af-8322-57d363cf8f6b",
     "showTitle": false,
     "tableResultSettingsMap": {},
     "title": ""
    }
   },
   "outputs": [],
   "source": [
    "spark.sql(f\"\"\"\n",
    "CREATE TABLE IF NOT EXISTS {catalog_name}.udp_wcm_gold_vcm_dwh.d_unit_conv\n",
    "(\n",
    "  material STRING,\n",
    "  mat_unit STRING,\n",
    "  denomintr FLOAT,\n",
    "  eanupc STRING,\n",
    "  ean_numtyp STRING,\n",
    "  gross_wt FLOAT,\n",
    "  height FLOAT,\n",
    "  len FLOAT,\n",
    "  numerator FLOAT,\n",
    "  unit STRING,\n",
    "  unit_dim STRING,\n",
    "  unit_of_wt STRING,\n",
    "  volume FLOAT,\n",
    "  volumeunit STRING,\n",
    "  width FLOAT\n",
    ")\n",
    "TBLPROPERTIES (\n",
    "  'delta.autoOptimize.optimizeWrite' = 'true',\n",
    "  'delta.autoOptimize.autoCompact' = 'true'\n",
    ")\n",
    "\"\"\")"
   ]
  },
  {
   "cell_type": "code",
   "execution_count": 0,
   "metadata": {
    "application/vnd.databricks.v1+cell": {
     "cellMetadata": {
      "byteLimit": 2048000,
      "rowLimit": 10000
     },
     "inputWidgets": {},
     "nuid": "3ccc217f-c225-447e-afa2-7425bf7b37cd",
     "showTitle": false,
     "tableResultSettingsMap": {},
     "title": ""
    }
   },
   "outputs": [],
   "source": [
    "spark.sql(f\"\"\"\n",
    "CREATE OR REPLACE TEMP VIEW temp_d_unit_conv\n",
    "AS\n",
    "SELECT \n",
    "    material,\n",
    "    mat_unit,\n",
    "    denomintr,\n",
    "    eanupc,\n",
    "    ean_numtyp,\n",
    "    gross_wt,\n",
    "    height,\n",
    "    len,\n",
    "    numerator,\n",
    "    unit,\n",
    "    unit_dim,\n",
    "    unit_of_wt,\n",
    "    volume,\n",
    "    volumeunit,\n",
    "    width \n",
    "FROM (\n",
    "    SELECT \n",
    "        *, ROW_NUMBER() OVER (PARTITION BY material, mat_unit ORDER BY proc_date DESC) rn \n",
    "    FROM {catalog_name}.udp_wcm_silver_sap_bw.sap_0mat_unit\n",
    "    WHERE end_date = '2400-01-01'\n",
    ") a WHERE rn = 1\n",
    "\"\"\")"
   ]
  },
  {
   "cell_type": "code",
   "execution_count": 0,
   "metadata": {
    "application/vnd.databricks.v1+cell": {
     "cellMetadata": {
      "byteLimit": 2048000,
      "rowLimit": 10000
     },
     "inputWidgets": {},
     "nuid": "d0adf100-2795-4718-a89b-fad73de05ff7",
     "showTitle": false,
     "tableResultSettingsMap": {},
     "title": ""
    }
   },
   "outputs": [],
   "source": [
    "# Load the temp table schema\n",
    "df = spark.table(f\"{catalog_name}.udp_wcm_gold_vcm_dwh.d_unit_conv\")\n",
    "columns = df.columns\n",
    "\n",
    "# Create INSERT column list\n",
    "insert_columns = \", \".join(columns)\n",
    "\n",
    "# Create UPDATE SET clause\n",
    "update_set_clause = \", \".join([f\"main_tbl.{col} = temp_tbl.{col}\" for col in columns])\n",
    "\n",
    "# Construct the MERGE SQL\n",
    "merge_sql = f\"\"\"\n",
    "MERGE INTO {catalog_name}.udp_wcm_gold_vcm_dwh.d_unit_conv AS main_tbl\n",
    "USING temp_d_unit_conv AS temp_tbl\n",
    "ON main_tbl.material = temp_tbl.material AND main_tbl.mat_unit = temp_tbl.mat_unit\n",
    "WHEN MATCHED THEN \n",
    "  UPDATE SET {update_set_clause}\n",
    "WHEN NOT MATCHED THEN \n",
    "  INSERT ({insert_columns}) \n",
    "  VALUES ({insert_columns})\n",
    "\"\"\"\n",
    "\n",
    "# Run the SQL\n",
    "spark.sql(merge_sql)"
   ]
  }
 ],
 "metadata": {
  "application/vnd.databricks.v1+notebook": {
   "computePreferences": null,
   "dashboards": [],
   "environmentMetadata": {
    "base_environment": "",
    "environment_version": "2"
   },
   "inputWidgetPreferences": null,
   "language": "python",
   "notebookMetadata": {
    "mostRecentlyExecutedCommandWithImplicitDF": {
     "commandId": 6673494183716072,
     "dataframes": [
      "_sqldf"
     ]
    },
    "pythonIndentUnit": 4
   },
   "notebookName": "d_unit_conv",
   "widgets": {
    "environment": {
     "currentValue": "DEV",
     "nuid": "101222b0-d453-4807-bd3b-d6d51e8f276f",
     "typedWidgetInfo": {
      "autoCreated": false,
      "defaultValue": "",
      "label": "",
      "name": "environment",
      "options": {
       "widgetDisplayType": "Text",
       "validationRegex": null
      },
      "parameterDataType": "String"
     },
     "widgetInfo": {
      "widgetType": "text",
      "defaultValue": "",
      "label": "",
      "name": "environment",
      "options": {
       "widgetType": "text",
       "autoCreated": null,
       "validationRegex": null
      }
     }
    }
   }
  },
  "language_info": {
   "name": "python"
  }
 },
 "nbformat": 4,
 "nbformat_minor": 0
}
