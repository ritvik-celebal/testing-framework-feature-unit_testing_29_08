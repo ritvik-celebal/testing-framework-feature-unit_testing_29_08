{
 "cells": [
  {
   "cell_type": "code",
   "execution_count": 0,
   "metadata": {
    "application/vnd.databricks.v1+cell": {
     "cellMetadata": {},
     "inputWidgets": {},
     "nuid": "2779e9cf-a5a7-45f6-87d1-172e2a7ef05b",
     "showTitle": false,
     "tableResultSettingsMap": {},
     "title": ""
    }
   },
   "outputs": [],
   "source": [
    "%run ../utils/common"
   ]
  },
  {
   "cell_type": "code",
   "execution_count": 0,
   "metadata": {
    "application/vnd.databricks.v1+cell": {
     "cellMetadata": {},
     "inputWidgets": {},
     "nuid": "023dbc59-3afc-4c1e-b8a8-8fb7128efd9a",
     "showTitle": false,
     "tableResultSettingsMap": {},
     "title": ""
    }
   },
   "outputs": [],
   "source": [
    "dbutils.widgets.text(\"environment\", \"\", \"\")\n",
    "environment = dbutils.widgets.get(\"environment\")"
   ]
  },
  {
   "cell_type": "code",
   "execution_count": 0,
   "metadata": {
    "application/vnd.databricks.v1+cell": {
     "cellMetadata": {},
     "inputWidgets": {},
     "nuid": "12702cdd-6836-4522-9806-500cf6db69ad",
     "showTitle": false,
     "tableResultSettingsMap": {},
     "title": ""
    }
   },
   "outputs": [],
   "source": [
    "catalog_name = settings[environment]['catalog_name']"
   ]
  },
  {
   "cell_type": "code",
   "execution_count": 0,
   "metadata": {
    "application/vnd.databricks.v1+cell": {
     "cellMetadata": {
      "byteLimit": 2048000,
      "rowLimit": 10000
     },
     "inputWidgets": {},
     "nuid": "1f98747b-d80f-415e-8033-6e1b2af10cd3",
     "showTitle": false,
     "tableResultSettingsMap": {},
     "title": ""
    }
   },
   "outputs": [],
   "source": [
    "spark.sql(f'''\n",
    "CREATE OR REPLACE TABLE {catalog_name}.udp_wcm_gold_db_winare_nonfresh_dc.f_po_pending_fc AS \n",
    "SELECT      a.calday,    \n",
    "            TRY_CAST(a.creation_date as DATE)  creation_date,\n",
    "            a.store_id,    \n",
    "            a.article_id product_id,    \n",
    "            a.unit_code,    \n",
    "            a.quantity,\n",
    "            a.quantity * c.numerator/c.denomintR base_qty\n",
    "FROM        {catalog_name}.udp_wcm_silver_rop.franchise_popending a\n",
    "LEFT JOIN   {catalog_name}.udp_wcm_gold_vcm_dwh.d_unit_conv c ON a.article_id = c.material AND a.unit_code = c.mat_unit\n",
    "WHERE       proc_date = (SELECT MAX(proc_date) FROM {catalog_name}.udp_wcm_silver_rop.franchise_popending)\n",
    "            AND REGEXP_LIKE(store_id, '^F[0-9]') AND store_id LIKE 'F%'\n",
    "''')"
   ]
  }
 ],
 "metadata": {
  "application/vnd.databricks.v1+notebook": {
   "computePreferences": null,
   "dashboards": [],
   "environmentMetadata": {
    "base_environment": "",
    "environment_version": "2"
   },
   "inputWidgetPreferences": null,
   "language": "python",
   "notebookMetadata": {
    "pythonIndentUnit": 4
   },
   "notebookName": "f_po_pending_fc",
   "widgets": {}
  },
  "language_info": {
   "name": "python"
  }
 },
 "nbformat": 4,
 "nbformat_minor": 0
}
