{
 "cells": [
  {
   "cell_type": "code",
   "execution_count": 0,
   "metadata": {
    "application/vnd.databricks.v1+cell": {
     "cellMetadata": {
      "byteLimit": 2048000,
      "rowLimit": 10000
     },
     "inputWidgets": {},
     "nuid": "af237230-9538-49df-8f70-d12e50c07a40",
     "showTitle": false,
     "tableResultSettingsMap": {},
     "title": ""
    }
   },
   "outputs": [],
   "source": [
    "%run ../utils/common"
   ]
  },
  {
   "cell_type": "code",
   "execution_count": 0,
   "metadata": {
    "application/vnd.databricks.v1+cell": {
     "cellMetadata": {
      "byteLimit": 2048000,
      "rowLimit": 10000
     },
     "inputWidgets": {},
     "nuid": "32a0f3ee-298f-477e-a899-c58d28fbdfc0",
     "showTitle": false,
     "tableResultSettingsMap": {},
     "title": ""
    }
   },
   "outputs": [],
   "source": [
    "dbutils.widgets.text(\"environment\", \"\", \"\")\n",
    "dbutils.widgets.text(\"target_dataset\", \"VCM_DMT_PRD\")\n",
    "dbutils.widgets.text(\"target_table\", \"f_corrected_sellrate\")\n",
    "dbutils.widgets.text(\"metadata_schema\", \"udp_wcm_metadata_dev\")\n",
    "dbutils.widgets.text(\n",
    "    \"dependency_table\",\n",
    "    \"VCM_DMT_PRD.F_CORRECTED_SALE, VCM_DWH_PRD.D_FRANCHISE_CONFIG, VCM_DMT_PRD.F_SEASONALITY_INDEX_BY_WEEK, VCM_DB_INVENTORY.D_MDQ_STORE_DC_SKU_DAILY\"\n",
    ")\n"
   ]
  },
  {
   "cell_type": "code",
   "execution_count": 0,
   "metadata": {
    "application/vnd.databricks.v1+cell": {
     "cellMetadata": {
      "byteLimit": 2048000,
      "rowLimit": 10000
     },
     "inputWidgets": {},
     "nuid": "09f3fab4-cce0-450d-80e3-580b79a3df5a",
     "showTitle": false,
     "tableResultSettingsMap": {},
     "title": ""
    }
   },
   "outputs": [],
   "source": [
    "dbutils.widgets.text(\"field_calday\", \"CALDAY\")\n",
    "dbutils.widgets.text(\"field_id\", \"HASH_ID\")"
   ]
  },
  {
   "cell_type": "code",
   "execution_count": 0,
   "metadata": {
    "application/vnd.databricks.v1+cell": {
     "cellMetadata": {
      "byteLimit": 2048000,
      "rowLimit": 10000
     },
     "inputWidgets": {},
     "nuid": "4ac14dcf-ccfe-45d5-9179-6da27e52a4e0",
     "showTitle": false,
     "tableResultSettingsMap": {},
     "title": ""
    }
   },
   "outputs": [],
   "source": [
    "dbutils.widgets.text(\"proc_date\", \"\")"
   ]
  },
  {
   "cell_type": "code",
   "execution_count": 0,
   "metadata": {
    "application/vnd.databricks.v1+cell": {
     "cellMetadata": {
      "byteLimit": 2048000,
      "rowLimit": 10000
     },
     "inputWidgets": {},
     "nuid": "d7d90cb6-e4b9-4b8f-8d6f-d855690686ff",
     "showTitle": false,
     "tableResultSettingsMap": {},
     "title": ""
    }
   },
   "outputs": [],
   "source": [
    "dbutils.widgets.text(\"environment\", \"\", \"\")\n",
    "environment = dbutils.widgets.get(\"environment\")\n"
   ]
  },
  {
   "cell_type": "code",
   "execution_count": 0,
   "metadata": {
    "application/vnd.databricks.v1+cell": {
     "cellMetadata": {
      "byteLimit": 2048000,
      "rowLimit": 10000
     },
     "inputWidgets": {},
     "nuid": "ebc10f11-35a8-4a0d-9433-b46475311d9c",
     "showTitle": false,
     "tableResultSettingsMap": {},
     "title": ""
    }
   },
   "outputs": [],
   "source": [
    "catalog_name = settings[environment]['catalog_name']"
   ]
  },
  {
   "cell_type": "code",
   "execution_count": 0,
   "metadata": {
    "application/vnd.databricks.v1+cell": {
     "cellMetadata": {
      "byteLimit": 2048000,
      "rowLimit": 10000
     },
     "inputWidgets": {},
     "nuid": "50f23c95-265e-4f71-a8bb-ee2193fc4c65",
     "showTitle": false,
     "tableResultSettingsMap": {},
     "title": ""
    }
   },
   "outputs": [],
   "source": [
    "environment = dbutils.widgets.get(\"environment\")\n",
    "target_dataset = dbutils.widgets.get(\"target_dataset\")\n",
    "target_table = dbutils.widgets.get(\"target_table\")\n",
    "metadata_schema = dbutils.widgets.get(\"metadata_schema\")\n",
    "dependency_table = dbutils.widgets.get(\"dependency_table\")\n",
    "dependency_table = [x.strip().upper() for x in dependency_table.split(\",\")]\n",
    "dependency_table = \"'\" + \"','\".join(dependency_table) + \"'\"\n",
    "\n",
    "print(f\"environment: {environment}\")\n",
    "print(f\"target_dataset: {target_dataset}\")\n",
    "print(f\"target_table: {target_table}\")\n",
    "print(f\"catalog_name: {catalog_name}\")\n",
    "print(f\"metadata_schema: {metadata_schema}\")\n",
    "print(f\"dependency_table: {dependency_table}\")"
   ]
  },
  {
   "cell_type": "code",
   "execution_count": 0,
   "metadata": {
    "application/vnd.databricks.v1+cell": {
     "cellMetadata": {
      "byteLimit": 2048000,
      "rowLimit": 10000
     },
     "inputWidgets": {},
     "nuid": "c9bb7974-0768-49e4-b9e0-ac82ec7d5755",
     "showTitle": false,
     "tableResultSettingsMap": {},
     "title": ""
    }
   },
   "outputs": [],
   "source": [
    "field_calday = dbutils.widgets.get(\"field_calday\")\n",
    "field_id = dbutils.widgets.get(\"field_id\")\n",
    "\n",
    "print(f\"field_calday: {field_calday}\")\n",
    "print(f\"field_id: {field_id}\")"
   ]
  },
  {
   "cell_type": "code",
   "execution_count": 0,
   "metadata": {
    "application/vnd.databricks.v1+cell": {
     "cellMetadata": {
      "byteLimit": 2048000,
      "rowLimit": 10000
     },
     "inputWidgets": {},
     "nuid": "45b1d0a1-351e-4407-a718-d6bce3eaad59",
     "showTitle": false,
     "tableResultSettingsMap": {},
     "title": ""
    }
   },
   "outputs": [],
   "source": [
    "%run \"../common/common_etl_load\""
   ]
  },
  {
   "cell_type": "code",
   "execution_count": 0,
   "metadata": {
    "application/vnd.databricks.v1+cell": {
     "cellMetadata": {
      "byteLimit": 2048000,
      "rowLimit": 10000
     },
     "inputWidgets": {},
     "nuid": "c1fc6419-0910-4ee7-bcd6-75b9cd5eeca9",
     "showTitle": false,
     "tableResultSettingsMap": {},
     "title": ""
    }
   },
   "outputs": [],
   "source": [
    "spark.sql(f\"\"\"\n",
    "CREATE TABLE IF NOT EXISTS {catalog_name}.udp_wcm_gold_vcm_dmt.f_corrected_sellrate (\n",
    "  calday STRING,\n",
    "  store_id STRING,\n",
    "  product_id STRING,\n",
    "  note STRING,\n",
    "  ma30_corrected_base_sale_qty FLOAT,\n",
    "  ma60_corrected_base_sale_qty FLOAT,\n",
    "  ma07_corrected_base_sale_qty FLOAT,\n",
    "  sell_rate FLOAT,\n",
    "  sale_trend FLOAT,\n",
    "  core_range STRING,\n",
    "  is_adhoc STRING,\n",
    "  seasonality_index FLOAT\n",
    ")\n",
    "TBLPROPERTIES (\n",
    "  'DELTA.AUTOOPTIMIZE.OPTIMIZEWRITE' = 'TRUE',\n",
    "  'DELTA.AUTOOPTIMIZE.AUTOCOMPACT' = 'TRUE'\n",
    ")\n",
    "\"\"\")"
   ]
  },
  {
   "cell_type": "code",
   "execution_count": 0,
   "metadata": {
    "application/vnd.databricks.v1+cell": {
     "cellMetadata": {
      "byteLimit": 2048000,
      "rowLimit": 10000
     },
     "inputWidgets": {},
     "nuid": "22e6f43d-1316-4190-a87a-94a60cba2d1b",
     "showTitle": false,
     "tableResultSettingsMap": {},
     "title": ""
    }
   },
   "outputs": [],
   "source": [
    "if CALDAY_IN_STR != '':\n",
    "    spark.sql(\n",
    "        f\"\"\"\n",
    "CREATE OR REPLACE TEMP VIEW f_corrected_sellrate AS\n",
    "WITH sellrate_30day AS (\n",
    "    SELECT \n",
    "        a.store_id,\n",
    "        a.product_id,\n",
    "        AVG(IFNULL(a.corrected_base_sale_qty, 0)) AS ma30_corrected_base_sale_qty\n",
    "    FROM {catalog_name}.udp_wcm_gold_vcm_dmt.f_corrected_sale a\n",
    "    WHERE a.calday >= DATE(CURRENT_TIMESTAMP() + INTERVAL 7 HOURS) -30\n",
    "      AND a.calday <= DATE(CURRENT_TIMESTAMP() + INTERVAL 7 HOURS) -1\n",
    "    GROUP BY 1,2\n",
    "),\n",
    "sellrate_60day AS (\n",
    "    SELECT \n",
    "        a.store_id,\n",
    "        a.product_id,\n",
    "        AVG(IFNULL(a.corrected_base_sale_qty, 0)) AS ma60_corrected_base_sale_qty\n",
    "    FROM {catalog_name}.udp_wcm_gold_vcm_dmt.f_corrected_sale a\n",
    "    WHERE a.calday >= DATE(CURRENT_TIMESTAMP() + INTERVAL 7 HOURS) - 60\n",
    "      AND a.calday <= DATE(CURRENT_TIMESTAMP() + INTERVAL 7 HOURS) -1\n",
    "    GROUP BY 1,2\n",
    "),\n",
    "sellrate_7day AS (\n",
    "    SELECT \n",
    "        a.store_id,\n",
    "        a.product_id,\n",
    "        AVG(IFNULL(a.corrected_base_sale_qty, 0)) AS ma07_corrected_base_sale_qty\n",
    "    FROM {catalog_name}.udp_wcm_gold_vcm_dmt.f_corrected_sale a\n",
    "    WHERE a.calday >=DATE(CURRENT_TIMESTAMP() + INTERVAL 7 HOURS) - 7 \n",
    "      AND a.calday <= DATE(CURRENT_TIMESTAMP() + INTERVAL 7 HOURS) -1\n",
    "    GROUP BY 1,2\n",
    "),\n",
    "main AS (\n",
    "    SELECT      \n",
    "        a.calday,\n",
    "        IFNULL(a3.store_id, a.store_id) AS store_id,\n",
    "        a.product_id,\n",
    "        a.note,\n",
    "        a1.ma30_corrected_base_sale_qty,\n",
    "        a9.ma60_corrected_base_sale_qty,\n",
    "        a2.ma07_corrected_base_sale_qty,\n",
    "        CASE WHEN a.note = \"TEMPORARY INNACTIVE\" THEN 0 ELSE a1.ma30_corrected_base_sale_qty END AS sell_rate,\n",
    "        CASE    \n",
    "            WHEN IFNULL(CASE WHEN ma30_corrected_base_sale_qty = 0 THEN 0 ELSE ma07_corrected_base_sale_qty / ma30_corrected_base_sale_qty END, 0) = 0 THEN 1\n",
    "            ELSE CASE WHEN ma30_corrected_base_sale_qty = 0 THEN 0 ELSE ma07_corrected_base_sale_qty / ma30_corrected_base_sale_qty END\n",
    "        END AS sale_trend,\n",
    "        a5.core_range,\n",
    "        'NO' is_adhoc,\n",
    "        IFNULL(a10.seasonality_index,1) AS seasonality_index\n",
    "    FROM {catalog_name}.udp_wcm_gold_vcm_dmt.f_corrected_sale a\n",
    "    LEFT JOIN sellrate_30day a1 ON a.store_id = a1.store_id AND a.product_id = a1.product_id\n",
    "    LEFT JOIN sellrate_7day a2 ON a.store_id = a2.store_id AND a.product_id = a2.product_id\n",
    "    LEFT JOIN sellrate_60day a9 ON a.store_id = a9.store_id AND a.product_id = a9.product_id\n",
    "    LEFT JOIN {catalog_name}.udp_wcm_gold_vcm_dwh.d_store a4 ON a.store_id = a4.store_id\n",
    "    LEFT JOIN {catalog_name}.udp_wcm_gold_vcm_dwh.d_core_range_assortment a5 ON a.store_id = a5.store_id AND a.product_id = a5.product_id\n",
    "    LEFT JOIN {catalog_name}.udp_wcm_gold_vcm_dwh.d_product a6 ON a.product_id = a6.product_id\n",
    "    LEFT JOIN {catalog_name}.udp_wcm_gold_vcm_dwh.d_franchise_config a3 ON a.store_id = a3.ref_fc_store\n",
    "\n",
    "    LEFT JOIN (SELECT BUSINESS_UNIT, REGION, MCH5_ID, YEAR_WEEK_APPLY, SEASONALITY_INDEX\n",
    "            FROM {catalog_name}.udp_wcm_gold_vcm_dmt.f_seasonality_index_by_week\n",
    "            QUALIFY ROW_NUMBER() OVER(PARTITION BY BUSINESS_UNIT, REGION, MCH5_ID, YEAR_WEEK_APPLY ORDER BY RN) = 1\n",
    "        ) a10\n",
    "        ON CONCAT(DATE_FORMAT(DATE(CURRENT_TIMESTAMP() + INTERVAL 7 HOURS), 'yyyy'), '.', LPAD(CAST(EXTRACT(WEEK FROM DATE(CURRENT_TIMESTAMP() + INTERVAL 7 HOURS)) AS STRING), 2, '0')) = a10.year_week_apply\n",
    "\n",
    "        AND a10.BUSINESS_UNIT = a4.BUSINESS_UNIT\n",
    "        AND a10.REGION = a4.REGION_DOMAIN_VN\n",
    "        AND a6.MCH5_ID = a10.MCH5_ID\n",
    "    WHERE a.calday = DATE(CURRENT_TIMESTAMP() + INTERVAL 7 HOURS) - 1\n",
    "),\n",
    "adhoc AS (\n",
    "        SELECT\n",
    "            a.calday,\n",
    "            a.store_id,\n",
    "            a.product_id,\n",
    "            a.note,\n",
    "            a.ma30_corrected_base_sale_qty,\n",
    "            a.ma60_corrected_base_sale_qty,\n",
    "            a.ma07_corrected_base_sale_qty,\n",
    "            a.sell_rate,\n",
    "            a.sale_trend,\n",
    "            a.core_range,\n",
    "            IF(\n",
    "                DATE(current_timestamp() + INTERVAL 7 HOURS) BETWEEN \"2025-08-01\" AND \"2025-08-31\"\n",
    "                AND (b.mch4_id IN (\"1020609\", \"1020612\", \"2020101\") OR b.mch5_id IN (\"102010109\", \"102060207\", \"102060511\", \"102060401\", \"102030403\", \"202010205\", \"102050404\", \"102050403\")),\n",
    "                \"YES\",\n",
    "                a.is_adhoc\n",
    "            ) is_adhoc,\n",
    "            IF(\n",
    "                DATE(current_timestamp() + INTERVAL 7 HOURS) BETWEEN \"2025-08-01\" AND \"2025-08-31\"\n",
    "                AND (b.mch4_id IN (\"1020609\", \"1020612\", \"2020101\") OR b.mch5_id IN (\"102010109\", \"102060207\", \"102060511\", \"102060401\", \"102030403\", \"202010205\", \"102050404\", \"102050403\")),\n",
    "                LEAST(a.seasonality_index, 1),\n",
    "                a.seasonality_index\n",
    "            ) seasonality_index\n",
    "        FROM main a\n",
    "        LEFT JOIN {catalog_name}.udp_wcm_gold_vcm_dwh.d_product b\n",
    "            USING (product_id)\n",
    "    )\n",
    "    SELECT  \n",
    "        calday,\n",
    "        store_id,\n",
    "        product_id,\n",
    "        note,\n",
    "        ma30_corrected_base_sale_qty,\n",
    "        ma60_corrected_base_sale_qty,\n",
    "        ma07_corrected_base_sale_qty,\n",
    "        sell_rate,\n",
    "        sale_trend,\n",
    "        core_range,\n",
    "        is_adhoc,\n",
    "        seasonality_index\n",
    "    FROM adhoc\n",
    " \n",
    "    \"\"\"\n",
    "    )"
   ]
  },
  {
   "cell_type": "code",
   "execution_count": 0,
   "metadata": {
    "application/vnd.databricks.v1+cell": {
     "cellMetadata": {
      "byteLimit": 2048000,
      "rowLimit": 10000
     },
     "inputWidgets": {},
     "nuid": "7f0a18c5-231a-45b1-8f57-89477aee430a",
     "showTitle": false,
     "tableResultSettingsMap": {},
     "title": ""
    }
   },
   "outputs": [],
   "source": [
    "if CALDAY_IN_STR != '':\n",
    "    spark.sql(\n",
    "        f\"\"\"\n",
    "    DELETE FROM {catalog_name}.udp_wcm_gold_vcm_dmt.f_sale_trend_range \n",
    "    WHERE calday = DATE(CURRENT_TIMESTAMP() + INTERVAL 7 HOURS) - 1\n",
    "    AND EXTRACT(dayofweek FROM DATE(CURRENT_TIMESTAMP() + INTERVAL 7 HOURS)) = 2\n",
    "    \"\"\"\n",
    "    )\n",
    "\n",
    "    spark.sql(\n",
    "        f\"\"\"\n",
    "        INSERT INTO {catalog_name}.udp_wcm_gold_vcm_dmt.f_sale_trend_range\n",
    "        SELECT DISTINCT\n",
    "            DATE(CURRENT_TIMESTAMP() + INTERVAL 7 HOURS) - 1 calday,\n",
    "            PERCENTILE_CONT(0.05) WITHIN GROUP (ORDER BY IFNULL(c.sale_trend, 1)) OVER() pct_05,\n",
    "            PERCENTILE_CONT(0.10) WITHIN GROUP (ORDER BY IFNULL(c.sale_trend, 1)) OVER() pct_10,\n",
    "            PERCENTILE_CONT(0.15) WITHIN GROUP (ORDER BY IFNULL(c.sale_trend, 1)) OVER() pct_15,\n",
    "            PERCENTILE_CONT(0.20) WITHIN GROUP (ORDER BY IFNULL(c.sale_trend, 1)) OVER() pct_20,\n",
    "            PERCENTILE_CONT(0.80) WITHIN GROUP (ORDER BY IFNULL(c.sale_trend, 1)) OVER() pct_80,\n",
    "            PERCENTILE_CONT(0.85) WITHIN GROUP (ORDER BY IFNULL(c.sale_trend, 1)) OVER() pct_85,\n",
    "            PERCENTILE_CONT(0.90) WITHIN GROUP (ORDER BY IFNULL(c.sale_trend, 1)) OVER() pct_90,\n",
    "            PERCENTILE_CONT(0.95) WITHIN GROUP (ORDER BY IFNULL(c.sale_trend, 1)) OVER() pct_95\n",
    "        FROM {catalog_name}.udp_wcm_gold_vcm_db_inventory.d_mdq_store_dc_sku_daily\n",
    "         a\n",
    "        LEFT JOIN {catalog_name}.udp_wcm_gold_vcm_dwh.d_product b\n",
    "            USING(product_id)\n",
    "        LEFT JOIN f_corrected_sellrate c\n",
    "            USING(store_id, product_id)\n",
    "        WHERE b.mch2_id IN ('101','102','201','202','203')\n",
    "            AND a.replenishment_mode IS NOT NULL\n",
    "            AND EXTRACT(dayofweek FROM DATE(CURRENT_TIMESTAMP() + INTERVAL 7 HOURS)) = 2;\n",
    "    \"\"\"\n",
    "    )"
   ]
  },
  {
   "cell_type": "code",
   "execution_count": 0,
   "metadata": {
    "application/vnd.databricks.v1+cell": {
     "cellMetadata": {
      "byteLimit": 2048000,
      "rowLimit": 10000
     },
     "inputWidgets": {},
     "nuid": "bb155f55-888e-4022-88ab-6504753d33cc",
     "showTitle": false,
     "tableResultSettingsMap": {},
     "title": ""
    }
   },
   "outputs": [],
   "source": [
    "if CALDAY_IN_STR != '':\n",
    "    spark.sql(\n",
    "        f\"\"\"\n",
    "    DELETE FROM {catalog_name}.udp_wcm_gold_vcm_dmt.f_corrected_sellrate \n",
    "    WHERE calday = DATE(CURRENT_TIMESTAMP() + INTERVAL 7 HOURS) - 1;\n",
    "    \"\"\"\n",
    "    )\n",
    "    spark.sql(\n",
    "        f\"\"\"\n",
    "    INSERT INTO {catalog_name}.udp_wcm_gold_vcm_dmt.f_corrected_sellrate\n",
    "    SELECT  \n",
    "        a.calday,\n",
    "        a.store_id,\n",
    "        a.product_id,\n",
    "        a.note,\n",
    "        a.ma30_corrected_base_sale_qty,\n",
    "        a.ma60_corrected_base_sale_qty,\n",
    "        a.ma07_corrected_base_sale_qty,\n",
    "        a.sell_rate,\n",
    "        CASE\n",
    "            WHEN b.mch2_id IN ('101','102','201','202','203') AND a.sale_trend > IFNULL(c.upper_value, 1) THEN IFNULL(c.upper_value, 1)\n",
    "            WHEN b.mch2_id IN ('101','102','201','202','203') AND a.sale_trend < IFNULL(c.lower_value, 0) THEN IFNULL(c.lower_value, 0)\n",
    "            ELSE a.sale_trend\n",
    "        END sale_trend,\n",
    "        a.core_range,\n",
    "        a.is_adhoc,\n",
    "        a.seasonality_index\n",
    "    FROM f_corrected_sellrate a\n",
    "    LEFT JOIN {catalog_name}.udp_wcm_gold_vcm_dwh.d_product b\n",
    "        USING(product_id)\n",
    "    LEFT JOIN (\n",
    "        SELECT \n",
    "            pct_05 lower_value,\n",
    "            pct_80 upper_value\n",
    "        FROM {catalog_name}.udp_wcm_gold_vcm_dmt.f_sale_trend_range\n",
    "        WHERE calday = (SELECT MAX(calday) FROM {catalog_name}.udp_wcm_gold_vcm_dmt.f_sale_trend_range) AND DATE(CURRENT_TIMESTAMP() + INTERVAL 7 HOURS) >= '2024-08-05'\n",
    "    ) c ON 1=1\n",
    "    ;\n",
    "    \"\"\"\n",
    "    )"
   ]
  },
  {
   "cell_type": "code",
   "execution_count": 0,
   "metadata": {
    "application/vnd.databricks.v1+cell": {
     "cellMetadata": {
      "byteLimit": 2048000,
      "rowLimit": 10000
     },
     "inputWidgets": {},
     "nuid": "6d3b0e24-6f9a-415f-bd03-08f709a37202",
     "showTitle": false,
     "tableResultSettingsMap": {},
     "title": ""
    }
   },
   "outputs": [],
   "source": [
    "if CALDAY_IN_STR == '':\n",
    "    dbutils.notebook.exit(\"No valid calday's found In common-etl to insert data into Table: ETL_LOG_DEPENDENCIES and ETL_DELTA_TABLE and \")"
   ]
  },
  {
   "cell_type": "code",
   "execution_count": 0,
   "metadata": {
    "application/vnd.databricks.v1+cell": {
     "cellMetadata": {
      "byteLimit": 2048000,
      "rowLimit": 10000
     },
     "inputWidgets": {},
     "nuid": "25b57c41-fe89-4aee-8dd3-ad9da9bd32fe",
     "showTitle": false,
     "tableResultSettingsMap": {},
     "title": ""
    }
   },
   "outputs": [],
   "source": [
    "%run \"../common/common_etl_update\""
   ]
  }
 ],
 "metadata": {
  "application/vnd.databricks.v1+notebook": {
   "computePreferences": null,
   "dashboards": [],
   "environmentMetadata": {
    "base_environment": "",
    "environment_version": "2"
   },
   "inputWidgetPreferences": null,
   "language": "python",
   "notebookMetadata": {
    "mostRecentlyExecutedCommandWithImplicitDF": {
     "commandId": 7469597179143526,
     "dataframes": [
      "_sqldf"
     ]
    },
    "pythonIndentUnit": 4
   },
   "notebookName": "f_corrected_sellrate",
   "widgets": {
    "dependency_table": {
     "currentValue": "VCM_DMT_PRD.F_CORRECTED_SALE, VCM_DWH_PRD.D_FRANCHISE_CONFIG, VCM_DMT_PRD.F_SEASONALITY_INDEX_BY_WEEK, VCM_DB_INVENTORY.D_MDQ_STORE_DC_SKU_DAILY",
     "nuid": "56a91af5-3b15-4dd1-96b7-c913f613b227",
     "typedWidgetInfo": {
      "autoCreated": false,
      "defaultValue": "VCM_DMT_PRD.F_CORRECTED_SALE, VCM_DWH_PRD.D_FRANCHISE_CONFIG, VCM_DMT_PRD.F_SEASONALITY_INDEX_BY_WEEK, VCM_DB_INVENTORY.D_MDQ_STORE_DC_SKU_DAILY",
      "label": null,
      "name": "dependency_table",
      "options": {
       "widgetDisplayType": "Text",
       "validationRegex": null
      },
      "parameterDataType": "String"
     },
     "widgetInfo": {
      "widgetType": "text",
      "defaultValue": "VCM_DMT_PRD.F_CORRECTED_SALE, VCM_DWH_PRD.D_FRANCHISE_CONFIG, VCM_DMT_PRD.F_SEASONALITY_INDEX_BY_WEEK, VCM_DB_INVENTORY.D_MDQ_STORE_DC_SKU_DAILY",
      "label": null,
      "name": "dependency_table",
      "options": {
       "widgetType": "text",
       "autoCreated": false,
       "validationRegex": null
      }
     }
    },
    "environment": {
     "currentValue": "DEV",
     "nuid": "661e3397-72b7-4f15-ae8b-0755110e9be2",
     "typedWidgetInfo": {
      "autoCreated": false,
      "defaultValue": "",
      "label": "",
      "name": "environment",
      "options": {
       "widgetDisplayType": "Text",
       "validationRegex": null
      },
      "parameterDataType": "String"
     },
     "widgetInfo": {
      "widgetType": "text",
      "defaultValue": "",
      "label": "",
      "name": "environment",
      "options": {
       "widgetType": "text",
       "autoCreated": null,
       "validationRegex": null
      }
     }
    },
    "field_calday": {
     "currentValue": "CALDAY",
     "nuid": "20fd73c5-0ada-47f4-8123-7b622914a065",
     "typedWidgetInfo": {
      "autoCreated": false,
      "defaultValue": "CALDAY",
      "label": null,
      "name": "field_calday",
      "options": {
       "widgetDisplayType": "Text",
       "validationRegex": null
      },
      "parameterDataType": "String"
     },
     "widgetInfo": {
      "widgetType": "text",
      "defaultValue": "CALDAY",
      "label": null,
      "name": "field_calday",
      "options": {
       "widgetType": "text",
       "autoCreated": false,
       "validationRegex": null
      }
     }
    },
    "field_id": {
     "currentValue": "HASH_ID",
     "nuid": "531c9bba-96ca-4e9e-b36c-cf7045f38f07",
     "typedWidgetInfo": {
      "autoCreated": false,
      "defaultValue": "HASH_ID",
      "label": null,
      "name": "field_id",
      "options": {
       "widgetDisplayType": "Text",
       "validationRegex": null
      },
      "parameterDataType": "String"
     },
     "widgetInfo": {
      "widgetType": "text",
      "defaultValue": "HASH_ID",
      "label": null,
      "name": "field_id",
      "options": {
       "widgetType": "text",
       "autoCreated": false,
       "validationRegex": null
      }
     }
    },
    "metadata_schema": {
     "currentValue": "udp_wcm_metadata_dev",
     "nuid": "e76fa67a-8d83-43ef-94b9-d90baeae6944",
     "typedWidgetInfo": {
      "autoCreated": false,
      "defaultValue": "udp_wcm_metadata_dev",
      "label": null,
      "name": "metadata_schema",
      "options": {
       "widgetDisplayType": "Text",
       "validationRegex": null
      },
      "parameterDataType": "String"
     },
     "widgetInfo": {
      "widgetType": "text",
      "defaultValue": "udp_wcm_metadata_dev",
      "label": null,
      "name": "metadata_schema",
      "options": {
       "widgetType": "text",
       "autoCreated": false,
       "validationRegex": null
      }
     }
    },
    "proc_date": {
     "currentValue": "2025-07-21",
     "nuid": "9123ab7e-a04a-4358-8bf6-d6a24455df8b",
     "typedWidgetInfo": {
      "autoCreated": false,
      "defaultValue": "",
      "label": null,
      "name": "proc_date",
      "options": {
       "widgetDisplayType": "Text",
       "validationRegex": null
      },
      "parameterDataType": "String"
     },
     "widgetInfo": {
      "widgetType": "text",
      "defaultValue": "",
      "label": null,
      "name": "proc_date",
      "options": {
       "widgetType": "text",
       "autoCreated": false,
       "validationRegex": null
      }
     }
    },
    "target_dataset": {
     "currentValue": "VCM_DMT_PRD",
     "nuid": "4387ff12-9fe9-4ba7-8c0f-1369c6267e8a",
     "typedWidgetInfo": {
      "autoCreated": false,
      "defaultValue": "VCM_DMT_PRD",
      "label": null,
      "name": "target_dataset",
      "options": {
       "widgetDisplayType": "Text",
       "validationRegex": null
      },
      "parameterDataType": "String"
     },
     "widgetInfo": {
      "widgetType": "text",
      "defaultValue": "VCM_DMT_PRD",
      "label": null,
      "name": "target_dataset",
      "options": {
       "widgetType": "text",
       "autoCreated": false,
       "validationRegex": null
      }
     }
    },
    "target_table": {
     "currentValue": "f_corrected_sellrate",
     "nuid": "7569a158-9afe-43dd-9a33-02dcbd740b42",
     "typedWidgetInfo": {
      "autoCreated": false,
      "defaultValue": "f_corrected_sellrate",
      "label": null,
      "name": "target_table",
      "options": {
       "widgetDisplayType": "Text",
       "validationRegex": null
      },
      "parameterDataType": "String"
     },
     "widgetInfo": {
      "widgetType": "text",
      "defaultValue": "f_corrected_sellrate",
      "label": null,
      "name": "target_table",
      "options": {
       "widgetType": "text",
       "autoCreated": false,
       "validationRegex": null
      }
     }
    }
   }
  },
  "language_info": {
   "name": "python"
  }
 },
 "nbformat": 4,
 "nbformat_minor": 0
}
