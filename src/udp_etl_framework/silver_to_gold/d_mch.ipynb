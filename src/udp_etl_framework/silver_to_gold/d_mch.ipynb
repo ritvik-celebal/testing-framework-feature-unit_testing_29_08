{
 "cells": [
  {
   "cell_type": "code",
   "execution_count": 0,
   "metadata": {
    "application/vnd.databricks.v1+cell": {
     "cellMetadata": {
      "byteLimit": 2048000,
      "rowLimit": 10000
     },
     "inputWidgets": {},
     "nuid": "130808b7-0cc8-4924-8ff1-60e87fd52259",
     "showTitle": false,
     "tableResultSettingsMap": {},
     "title": ""
    }
   },
   "outputs": [],
   "source": [
    "%run ../utils/common"
   ]
  },
  {
   "cell_type": "code",
   "execution_count": 0,
   "metadata": {
    "application/vnd.databricks.v1+cell": {
     "cellMetadata": {
      "byteLimit": 2048000,
      "rowLimit": 10000
     },
     "inputWidgets": {},
     "nuid": "adad9940-2b09-4ad7-80d7-6f08b213007f",
     "showTitle": false,
     "tableResultSettingsMap": {},
     "title": ""
    }
   },
   "outputs": [],
   "source": [
    "dbutils.widgets.text(\"environment\", \"\", \"\")\n",
    "environment = dbutils.widgets.get(\"environment\")"
   ]
  },
  {
   "cell_type": "code",
   "execution_count": 0,
   "metadata": {
    "application/vnd.databricks.v1+cell": {
     "cellMetadata": {
      "byteLimit": 2048000,
      "rowLimit": 10000
     },
     "inputWidgets": {},
     "nuid": "32d5dc0e-b573-4ea0-841b-d158c3250481",
     "showTitle": false,
     "tableResultSettingsMap": {},
     "title": ""
    }
   },
   "outputs": [],
   "source": [
    "catalog_name = settings[environment]['catalog_name']"
   ]
  },
  {
   "cell_type": "code",
   "execution_count": 0,
   "metadata": {
    "application/vnd.databricks.v1+cell": {
     "cellMetadata": {
      "byteLimit": 2048000,
      "implicitDf": true,
      "rowLimit": 10000
     },
     "inputWidgets": {},
     "nuid": "f1704a4d-88ee-43fb-ad04-6bcfecd34774",
     "showTitle": false,
     "tableResultSettingsMap": {},
     "title": ""
    }
   },
   "outputs": [],
   "source": [
    "spark.sql(f\"\"\"\n",
    "CREATE OR REPLACE TABLE {catalog_name}.udp_wcm_gold_vcm_dwh.d_mch\n",
    "TBLPROPERTIES (\n",
    "  'DELTA.AUTOOPTIMIZE.OPTIMIZEWRITE' = 'TRUE',\n",
    "  'DELTA.AUTOOPTIMIZE.AUTOCOMPACT' = 'TRUE'\n",
    ")\n",
    "AS\n",
    "SELECT \n",
    "    mch1_id AS mch1_id,\n",
    "    mch2_id AS mch2_id,\n",
    "    mch3_id AS mch3_id,\n",
    "    mch4_id AS mch4_id,\n",
    "    mch5_id AS mch5_id,\n",
    "    mch6_id AS mch6_id,\n",
    "    mch1_name AS mch1_name,\n",
    "    mch2_name AS mch2_name,\n",
    "    mch3_name AS mch3_name,\n",
    "    mch4_name AS mch4_name,\n",
    "    mch5_name AS mch5_name,\n",
    "    mch6_name AS mch6_name,\n",
    "    mch1_desc AS mch1_desc,\n",
    "    mch2_desc AS mch2_desc,\n",
    "    mch3_desc AS mch3_desc,\n",
    "    mch4_desc AS mch4_desc,\n",
    "    mch5_desc AS mch5_desc,\n",
    "    mch6_desc AS mch6_desc\n",
    "\n",
    "FROM \n",
    "    {catalog_name}.udp_wcm_gold_vcm_dwh.d_mch1 mch1 \n",
    "    FULL JOIN {catalog_name}.udp_wcm_gold_vcm_dwh.d_mch2 mch2 ON mch1_id = SUBSTR(mch2_id,0,1)\n",
    "    FULL JOIN {catalog_name}.udp_wcm_gold_vcm_dwh.d_mch3 mch3 ON mch2_id = SUBSTR(mch3_id,0,3)\n",
    "    FULL JOIN {catalog_name}.udp_wcm_gold_vcm_dwh.d_mch4 mch4 ON mch3_id = SUBSTR(mch4_id,0,5)\n",
    "    FULL JOIN {catalog_name}.udp_wcm_gold_vcm_dwh.d_mch5 mch5 ON mch4_id = SUBSTR(mch5_id,0,7)\n",
    "    FULL JOIN {catalog_name}.udp_wcm_gold_vcm_dwh.d_mch6 mch6 ON mch5_id = SUBSTR(mch6_id,0,9)\n",
    "ORDER BY mch1_id, mch2_id, mch3_id, mch4_id, mch5_id, mch6_id;\n",
    "\"\"\")"
   ]
  }
 ],
 "metadata": {
  "application/vnd.databricks.v1+notebook": {
   "computePreferences": null,
   "dashboards": [],
   "environmentMetadata": {
    "base_environment": "",
    "environment_version": "2"
   },
   "inputWidgetPreferences": null,
   "language": "python",
   "notebookMetadata": {
    "mostRecentlyExecutedCommandWithImplicitDF": {
     "commandId": 6540195001600335,
     "dataframes": [
      "_sqldf"
     ]
    },
    "pythonIndentUnit": 4
   },
   "notebookName": "d_mch",
   "widgets": {
    "environment": {
     "currentValue": "DEV",
     "nuid": "9d341f9b-948e-4211-a9ad-e69d4582b4b5",
     "typedWidgetInfo": {
      "autoCreated": false,
      "defaultValue": "",
      "label": "",
      "name": "environment",
      "options": {
       "widgetDisplayType": "Text",
       "validationRegex": null
      },
      "parameterDataType": "String"
     },
     "widgetInfo": {
      "widgetType": "text",
      "defaultValue": "",
      "label": "",
      "name": "environment",
      "options": {
       "widgetType": "text",
       "autoCreated": null,
       "validationRegex": null
      }
     }
    }
   }
  },
  "language_info": {
   "name": "python"
  }
 },
 "nbformat": 4,
 "nbformat_minor": 0
}
