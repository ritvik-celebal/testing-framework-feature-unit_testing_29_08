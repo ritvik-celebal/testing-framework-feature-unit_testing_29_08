{
 "cells": [
  {
   "cell_type": "code",
   "execution_count": 0,
   "metadata": {
    "application/vnd.databricks.v1+cell": {
     "cellMetadata": {
      "byteLimit": 2048000,
      "rowLimit": 10000
     },
     "inputWidgets": {},
     "nuid": "d6e5e74f-1c00-4e77-953a-586db285407e",
     "showTitle": false,
     "tableResultSettingsMap": {},
     "title": ""
    }
   },
   "outputs": [],
   "source": [
    "%run ../utils/common"
   ]
  },
  {
   "cell_type": "code",
   "execution_count": 0,
   "metadata": {
    "application/vnd.databricks.v1+cell": {
     "cellMetadata": {
      "byteLimit": 2048000,
      "rowLimit": 10000
     },
     "inputWidgets": {},
     "nuid": "3f40655a-665f-452e-ad5c-369199fd210b",
     "showTitle": false,
     "tableResultSettingsMap": {},
     "title": ""
    }
   },
   "outputs": [],
   "source": [
    "dbutils.widgets.text(\"environment\", \"\", \"\")\n",
    "environment = dbutils.widgets.get(\"environment\")"
   ]
  },
  {
   "cell_type": "code",
   "execution_count": 0,
   "metadata": {
    "application/vnd.databricks.v1+cell": {
     "cellMetadata": {
      "byteLimit": 2048000,
      "rowLimit": 10000
     },
     "inputWidgets": {},
     "nuid": "962fed2f-7ea7-4a2e-966d-74da9e6e22b6",
     "showTitle": false,
     "tableResultSettingsMap": {},
     "title": ""
    }
   },
   "outputs": [],
   "source": [
    "catalog_name = settings[environment]['catalog_name']"
   ]
  },
  {
   "cell_type": "code",
   "execution_count": 0,
   "metadata": {
    "application/vnd.databricks.v1+cell": {
     "cellMetadata": {
      "byteLimit": 2048000,
      "rowLimit": 10000
     },
     "inputWidgets": {},
     "nuid": "a3cbe99d-1e5a-43ac-b38b-a275b1774d84",
     "showTitle": false,
     "tableResultSettingsMap": {},
     "title": ""
    }
   },
   "outputs": [],
   "source": [
    "spark.sql(f\"\"\"CREATE TABLE IF NOT EXISTS {catalog_name}.udp_wcm_gold_vcm_dwh.d_vendor_sku_biweekly (\n",
    "  calday DATE,\n",
    "  roll_out STRING,\n",
    "  region STRING,\n",
    "  mch3_id STRING,\n",
    "  mch3_name STRING,\n",
    "  product_id STRING,\n",
    "  product_name STRING,\n",
    "  manufacturer_id STRING,\n",
    "  manufacturer_name STRING,\n",
    "  sub_manufacturer STRING,\n",
    "  uom STRING,\n",
    "  assortment STRING,\n",
    "  vendor_id STRING,\n",
    "  vendor_name STRING,\n",
    "  vendor_subrange STRING,\n",
    "  is_out STRING\n",
    ")\n",
    "\n",
    "TBLPROPERTIES (\n",
    "  'DELTA.AUTOOPTIMIZE.OPTIMIZEWRITE' = 'TRUE',\n",
    "  'DELTA.AUTOOPTIMIZE.AUTOCOMPACT' = 'TRUE'\n",
    ")\"\"\")"
   ]
  },
  {
   "cell_type": "code",
   "execution_count": 0,
   "metadata": {
    "application/vnd.databricks.v1+cell": {
     "cellMetadata": {
      "byteLimit": 2048000,
      "rowLimit": 10000
     },
     "inputWidgets": {},
     "nuid": "daff5b2c-1b15-4051-9b72-45a56b30b536",
     "showTitle": false,
     "tableResultSettingsMap": {},
     "title": ""
    }
   },
   "outputs": [],
   "source": [
    "spark.sql(f\"\"\"\n",
    "          DELETE FROM {catalog_name}.udp_wcm_gold_vcm_dwh.d_vendor_sku_biweekly\n",
    "\tWHERE CALDAY = DATE(CURRENT_TIMESTAMP() + INTERVAL 7 HOURS)\n",
    "          \"\"\")"
   ]
  },
  {
   "cell_type": "code",
   "execution_count": 0,
   "metadata": {
    "application/vnd.databricks.v1+cell": {
     "cellMetadata": {
      "byteLimit": 2048000,
      "implicitDf": true,
      "rowLimit": 10000
     },
     "inputWidgets": {},
     "nuid": "57e99d5d-25bb-4082-9c6d-4266db917d70",
     "showTitle": false,
     "tableResultSettingsMap": {},
     "title": ""
    }
   },
   "outputs": [],
   "source": [
    "\n",
    "spark.sql(f\"\"\"INSERT INTO {catalog_name}.udp_wcm_gold_vcm_dwh.d_vendor_sku_biweekly\n",
    "\tSELECT \n",
    "\t\tcalday,\n",
    "\t\troll_out,\n",
    "\t\tregion,\n",
    "\t\tmch3_id,\n",
    "\t\tmch3_name,\n",
    "\t\tproduct_id,\n",
    "\t\tproduct_name,\n",
    "\t\tmanufacturer_id,\n",
    "\t\tmanufacturer_name,\n",
    "\t\tsub_manufacturer,\n",
    "\t\tuom,\n",
    "\t\tassortment,\n",
    "\t\tvendor_id,\n",
    "\t\tvendor_name,\n",
    "\t\tvendor_subrange,\n",
    "\t\t\"\" is_out\n",
    "\tFROM udp_wcm_dev.udp_wcm_gold_vcm_dwh.d_vendor_sku_his \n",
    "\tWHERE calday = DATE(CURRENT_TIMESTAMP() + INTERVAL 7 HOURS)\"\"\")"
   ]
  }
 ],
 "metadata": {
  "application/vnd.databricks.v1+notebook": {
   "computePreferences": null,
   "dashboards": [],
   "environmentMetadata": {
    "base_environment": "",
    "environment_version": "2"
   },
   "inputWidgetPreferences": null,
   "language": "python",
   "notebookMetadata": {
    "mostRecentlyExecutedCommandWithImplicitDF": {
     "commandId": 6403329334306831,
     "dataframes": [
      "_sqldf"
     ]
    },
    "pythonIndentUnit": 4
   },
   "notebookName": "d_vendor_sku_biweekly",
   "widgets": {
    "environment": {
     "currentValue": "DEV",
     "nuid": "63c38c53-5d52-4320-9a98-9b74dba81880",
     "typedWidgetInfo": {
      "autoCreated": false,
      "defaultValue": "",
      "label": "",
      "name": "environment",
      "options": {
       "widgetDisplayType": "Text",
       "validationRegex": null
      },
      "parameterDataType": "String"
     },
     "widgetInfo": {
      "widgetType": "text",
      "defaultValue": "",
      "label": "",
      "name": "environment",
      "options": {
       "widgetType": "text",
       "autoCreated": null,
       "validationRegex": null
      }
     }
    },
    "proc_date": {
     "currentValue": "2025-07-21",
     "nuid": "d942eab2-efb5-4155-b7d0-ff7cd27153d8",
     "typedWidgetInfo": {
      "autoCreated": false,
      "defaultValue": "",
      "label": "",
      "name": "proc_date",
      "options": {
       "widgetDisplayType": "Text",
       "validationRegex": null
      },
      "parameterDataType": "String"
     },
     "widgetInfo": {
      "widgetType": "text",
      "defaultValue": "",
      "label": "",
      "name": "proc_date",
      "options": {
       "widgetType": "text",
       "autoCreated": null,
       "validationRegex": null
      }
     }
    }
   }
  },
  "language_info": {
   "name": "python"
  }
 },
 "nbformat": 4,
 "nbformat_minor": 0
}
