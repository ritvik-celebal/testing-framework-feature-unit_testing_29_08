{
 "cells": [
  {
   "cell_type": "code",
   "execution_count": 0,
   "metadata": {
    "application/vnd.databricks.v1+cell": {
     "cellMetadata": {
      "byteLimit": 2048000,
      "rowLimit": 10000
     },
     "inputWidgets": {},
     "nuid": "008c3ec2-0cbd-46dd-baa5-74ef17ffb9c1",
     "showTitle": false,
     "tableResultSettingsMap": {},
     "title": ""
    }
   },
   "outputs": [],
   "source": [
    "%run ../utils/common"
   ]
  },
  {
   "cell_type": "code",
   "execution_count": 0,
   "metadata": {
    "application/vnd.databricks.v1+cell": {
     "cellMetadata": {
      "byteLimit": 2048000,
      "rowLimit": 10000
     },
     "inputWidgets": {},
     "nuid": "5afa1bcf-ee1e-478d-8ff2-66d68047997f",
     "showTitle": false,
     "tableResultSettingsMap": {},
     "title": ""
    }
   },
   "outputs": [],
   "source": [
    "dbutils.widgets.text(\"environment\", \"\", \"\")\n",
    "environment = dbutils.widgets.get(\"environment\")"
   ]
  },
  {
   "cell_type": "code",
   "execution_count": 0,
   "metadata": {
    "application/vnd.databricks.v1+cell": {
     "cellMetadata": {
      "byteLimit": 2048000,
      "rowLimit": 10000
     },
     "inputWidgets": {},
     "nuid": "857b6462-b8e6-43f5-a13a-d842d1032ba2",
     "showTitle": false,
     "tableResultSettingsMap": {},
     "title": ""
    }
   },
   "outputs": [],
   "source": [
    "catalog_name = settings[environment]['catalog_name']"
   ]
  },
  {
   "cell_type": "code",
   "execution_count": 0,
   "metadata": {
    "application/vnd.databricks.v1+cell": {
     "cellMetadata": {
      "byteLimit": 2048000,
      "rowLimit": 10000
     },
     "inputWidgets": {},
     "nuid": "78c03438-6386-487b-88e7-8e99611d278e",
     "showTitle": false,
     "tableResultSettingsMap": {},
     "title": ""
    }
   },
   "outputs": [],
   "source": [
    "spark.sql(f\"\"\"\n",
    "CREATE OR REPLACE TABLE {catalog_name}.udp_wcm_gold_vcm_dwh.d_store_sku_by_dc \n",
    "TBLPROPERTIES (\n",
    "  'DELTA.AUTOOPTIMIZE.OPTIMIZEWRITE' = 'TRUE',\n",
    "  'DELTA.AUTOOPTIMIZE.AUTOCOMPACT' = 'TRUE'\n",
    ")\n",
    "AS\n",
    "WITH\n",
    "asrt_list AS (\n",
    "    SELECT DISTINCT \n",
    "        a.store_id, \n",
    "        CASE\n",
    "            WHEN c.business_unit = '1500' THEN 'Supermarket'\n",
    "            WHEN c.business_unit = '2000' AND c.concept IN ('WiN','Rural') THEN c.concept\n",
    "            ELSE 'Urban'\n",
    "        END business_model,\n",
    "        a.product_id,\n",
    "        b.manufacturer_id\n",
    "    FROM {catalog_name}.udp_wcm_gold_vcm_dwh.d_assortment_active a\n",
    "        LEFT JOIN {catalog_name}.udp_wcm_gold_vcm_dwh.d_product b ON a.product_id = b.product_id\n",
    "        LEFT JOIN {catalog_name}.udp_wcm_gold_vcm_dwh.d_store c ON a.store_id = c.store_id\n",
    "    WHERE c.business_unit IN ('1500', '2000', '6000')\n",
    "        AND c.store_status_desc = \"Đang hoạt động\"\n",
    "        AND UPPER(c.store_name) NOT LIKE '[BLOCK]%'\n",
    "        AND UPPER(c.store_name) NOT LIKE 'OUTLET%' \n",
    "        AND UPPER(c.store_name) NOT LIKE '%HUB%' \n",
    "        AND UPPER(c.store_name) NOT LIKE '%ONLINE%'\n",
    "        AND UPPER(c.store_name) NOT LIKE '%KHO %'\n",
    "        AND UPPER(c.store_name) NOT LIKE '%B2B%'\n",
    "        AND a.store_id NOT LIKE 'GH%'\n",
    "),\n",
    "d_region_dc AS (\n",
    "    SELECT \n",
    "        dc_id,\n",
    "        region\n",
    "    FROM {catalog_name}.udp_wcm_gold_db_winare_nonfresh_dc.d_cfg_region_dc\n",
    "),\n",
    "dc_sku AS (\n",
    "    SELECT DISTINCT\n",
    "        c.dc_id,\n",
    "        a.product_id\n",
    "    FROM {catalog_name}.udp_wcm_gold_vcm_dwh.d_vendor_sku a\n",
    "        INNER JOIN d_region_dc c ON a.region = c.region\n",
    "),\n",
    "bu_city_mnf_bz_model_asm_dc_re_model AS (\n",
    "    SELECT DISTINCT \n",
    "        a.business_unit,\n",
    "        a.city,\n",
    "        a.manufacturer_id,\n",
    "        IF(c.sub_manufacturer_id IS NOT NULL, c.sub_manufacturer_id, b.sub_manufacturer_id) sub_manufacturer_id,\n",
    "        IF(c.sub_manufacturer_id IS NOT NULL, c.dc_id, a.dc_id) dc_id,\n",
    "        IF(c.sub_manufacturer_id IS NOT NULL, c.replenishment_mode, a.replenishment_mode) replenishment_mode,\n",
    "        IF(c.sub_manufacturer_id IS NOT NULL, c.xd_dc_id, a.xd_dc_id) xd_dc_id\n",
    "    FROM {catalog_name}.udp_wcm_gold_db_winare_nonfresh_dc.d_cfg_bu_city_mnf_dc_re_mode a \n",
    "    LEFT JOIN (\n",
    "        SELECT DISTINCT manufacturer_id, sub_manufacturer_id\n",
    "        FROM {catalog_name}.udp_wcm_gold_vcm_dwh.d_product\n",
    "    ) b\n",
    "        USING(manufacturer_id)\n",
    "    LEFT JOIN {catalog_name}.udp_wcm_gold_db_winare_nonfresh_dc.d_cfg_bu_city_mnf_submnf_dc_re_mode c -- Table to be created.\n",
    "        ON a.business_unit = c.business_unit \n",
    "            AND a.city = c.city \n",
    "            AND a.manufacturer_id = c.manufacturer_id \n",
    "            AND b.sub_manufacturer_id = c.sub_manufacturer_id\n",
    "),\n",
    "dc_sku_active AS (\n",
    "    SELECT DISTINCT \n",
    "        a.store_id AS dc_id,\n",
    "        a.product_id\n",
    "    FROM {catalog_name}.udp_wcm_gold_vcm_dwh.d_assortment_active a\n",
    "        LEFT JOIN {catalog_name}.udp_wcm_gold_vcm_dwh.d_store b ON a.store_id = b.store_id\n",
    "    WHERE b.business_unit = '1100'\n",
    "),\n",
    "main AS (\n",
    "    SELECT DISTINCT\n",
    "        a1.dc_id,\n",
    "        a1.xd_dc_id,\n",
    "        b.business_unit,\n",
    "        a.store_id,\n",
    "        b.store_name,\n",
    "        b.is_win_plus,\n",
    "        a.business_model,\n",
    "        b.region_domain_vn AS mien,\n",
    "        b.city,\n",
    "        c.mch2_id,\n",
    "        a.product_id,\n",
    "        c.product_name,\n",
    "        a.manufacturer_id,\n",
    "        c.manufacturer_name,\n",
    "        d.core_range AS assortment_type,\n",
    "        a1.replenishment_mode,\n",
    "        IF(a3.dc_id IS NULL, 'INACTIVE', 'ACTIVE') dc_sku_status\n",
    "    FROM asrt_list a \n",
    "        LEFT JOIN {catalog_name}.udp_wcm_gold_vcm_dwh.d_store b ON a.store_id = b.store_id\n",
    "        LEFT JOIN {catalog_name}.udp_wcm_gold_vcm_dwh.d_product c ON a.product_id = c.product_id\n",
    "        LEFT JOIN {catalog_name}.udp_wcm_gold_vcm_dwh.d_core_range_assortment d ON\n",
    "            a.store_id = d.store_id AND\n",
    "            a.product_id = d.product_id\n",
    "        LEFT JOIN bu_city_mnf_bz_model_asm_dc_re_model a1 ON    \n",
    "            b.business_unit = a1.business_unit AND\n",
    "            b.city = a1.city AND\n",
    "            c.manufacturer_id = a1.manufacturer_id AND\n",
    "            c.sub_manufacturer_id = a1.sub_manufacturer_id\n",
    "        LEFT JOIN dc_sku_active a3 ON a1.dc_id = a3.dc_id AND a.product_id = a3.product_id\n",
    "        LEFT JOIN dc_sku a4 ON a1.dc_id = a4.dc_id AND a.product_id = a4.product_id\n",
    "    WHERE a1.dc_id IS NOT NULL AND a4.product_id IS NOT NULL\n",
    "),\n",
    "win_plus AS (\n",
    "    SELECT\n",
    "        IF(a.dc_id = '1312' AND a.is_win_plus = 'yes', '1340', a.dc_id) AS dc_id,\n",
    "        a.* EXCEPT(dc_id)\n",
    "    FROM main a\n",
    "),\n",
    "buildstock_golive AS ( \n",
    "    SELECT\n",
    "        IF(b.dc_bs_id IS NULL, a.dc_id, b.dc_bs_id) AS dc_id,\n",
    "        IF(b.dc_bs_id IS NULL, a.replenishment_mode, 'bs') AS replenishment_mode,\n",
    "        a.* EXCEPT(dc_id, replenishment_mode)\n",
    "    FROM win_plus a\n",
    "    LEFT JOIN {catalog_name}.udp_wcm_gold_vcm_dwh.d_winare_buildstock_golive b USING (dc_id, product_id, business_unit)\n",
    "),\n",
    "flowthrough_golive AS (\n",
    "    SELECT\n",
    "        IF(b.dc_ft_id IS NULL, a.dc_id, b.dc_ft_id) dc_id,\n",
    "        IF(b.dc_ft_id IS NULL, a.replenishment_mode, 'FT') replenishment_mode,\n",
    "        a.* EXCEPT(dc_id, replenishment_mode)\n",
    "    FROM buildstock_golive a\n",
    "    LEFT JOIN {catalog_name}.udp_wcm_gold_vcm_dwh.d_winare_flowthrough_golive b USING (dc_id, product_id, business_unit)\n",
    ")\n",
    "SELECT \n",
    "    a.dc_id,\n",
    "    b.store_name dc_name,\n",
    "    a.* EXCEPT(dc_id)\n",
    "FROM flowthrough_golive a\n",
    "LEFT JOIN {catalog_name}.udp_wcm_gold_vcm_dwh.d_store b ON a.dc_id = b.store_id;\n",
    "\"\"\")"
   ]
  },
  {
   "cell_type": "code",
   "execution_count": 0,
   "metadata": {
    "application/vnd.databricks.v1+cell": {
     "cellMetadata": {
      "byteLimit": 2048000,
      "rowLimit": 10000
     },
     "inputWidgets": {},
     "nuid": "a684798e-fa81-40e7-a57c-9ecbc811d575",
     "showTitle": false,
     "tableResultSettingsMap": {},
     "title": ""
    }
   },
   "outputs": [],
   "source": [
    "spark.sql(f\"\"\"\n",
    "CREATE TABLE IF NOT EXISTS {catalog_name}.udp_wcm_gold_vcm_dwh.d_store_sku_by_dc_his(\n",
    " calday DATE,\n",
    " dc_id STRING, \n",
    " xd_dc_id STRING,\n",
    " business_unit STRING,\n",
    " store_id STRING, \n",
    " business_model STRING,\n",
    " mch2_id STRING, \n",
    " product_id STRING, \n",
    " assortment_type STRING, \n",
    " manufacturer_id STRING,\n",
    " replenishment_mode STRING,\n",
    " dc_sku_status STRING\n",
    ")\n",
    "TBLPROPERTIES (\n",
    "  'DELTA.AUTOOPTIMIZE.OPTIMIZEWRITE' = 'TRUE',\n",
    "  'DELTA.AUTOOPTIMIZE.AUTOCOMPACT' = 'TRUE'\n",
    ") \n",
    "\"\"\")"
   ]
  },
  {
   "cell_type": "code",
   "execution_count": 0,
   "metadata": {
    "application/vnd.databricks.v1+cell": {
     "cellMetadata": {
      "byteLimit": 2048000,
      "rowLimit": 10000
     },
     "inputWidgets": {},
     "nuid": "546c1d64-b957-43de-9641-46847670c924",
     "showTitle": false,
     "tableResultSettingsMap": {},
     "title": ""
    }
   },
   "outputs": [],
   "source": [
    "spark.sql(f\"\"\"\n",
    "DELETE FROM {catalog_name}.udp_wcm_gold_vcm_dwh.d_store_sku_by_dc_his \n",
    "    WHERE CALDAY = DATE(CURRENT_TIMESTAMP() + INTERVAL 7 HOURS);\n",
    "\"\"\")"
   ]
  },
  {
   "cell_type": "code",
   "execution_count": 0,
   "metadata": {
    "application/vnd.databricks.v1+cell": {
     "cellMetadata": {
      "byteLimit": 2048000,
      "rowLimit": 10000
     },
     "inputWidgets": {},
     "nuid": "48649ab9-baaa-4856-8b14-cfefd06bf7c2",
     "showTitle": false,
     "tableResultSettingsMap": {},
     "title": ""
    }
   },
   "outputs": [],
   "source": [
    "spark.sql(f\"\"\"\n",
    "INSERT INTO {catalog_name}.udp_wcm_gold_vcm_dwh.d_store_sku_by_dc_his\n",
    "SELECT\n",
    "    DATE(CURRENT_TIMESTAMP() + INTERVAL 7 HOURS) AS calday,\n",
    "    dc_id,\n",
    "    xd_dc_id,\n",
    "    business_unit,\n",
    "    store_id,\n",
    "    business_model,\n",
    "    mch2_id,\n",
    "    product_id,\n",
    "    assortment_type,\n",
    "    manufacturer_id,\n",
    "    replenishment_mode,\n",
    "    dc_sku_status\n",
    "FROM {catalog_name}.udp_wcm_gold_vcm_dwh.d_store_sku_by_dc;\n",
    "\"\"\")"
   ]
  },
  {
   "cell_type": "code",
   "execution_count": 0,
   "metadata": {
    "application/vnd.databricks.v1+cell": {
     "cellMetadata": {},
     "inputWidgets": {},
     "nuid": "92f21ae3-d077-441d-80b2-54411ec72faa",
     "showTitle": false,
     "tableResultSettingsMap": {},
     "title": ""
    }
   },
   "outputs": [],
   "source": [
    "dbutils.notebook.exit(\"success\")"
   ]
  }
 ],
 "metadata": {
  "application/vnd.databricks.v1+notebook": {
   "computePreferences": null,
   "dashboards": [],
   "environmentMetadata": {
    "base_environment": "",
    "environment_version": "2"
   },
   "inputWidgetPreferences": null,
   "language": "python",
   "notebookMetadata": {
    "mostRecentlyExecutedCommandWithImplicitDF": {
     "commandId": 6605737921178429,
     "dataframes": [
      "_sqldf"
     ]
    },
    "pythonIndentUnit": 4
   },
   "notebookName": "d_store_sku_by_dc",
   "widgets": {
    "environment": {
     "currentValue": "DEV",
     "nuid": "82802de3-55f9-4d98-a7e8-900095b2da14",
     "typedWidgetInfo": {
      "autoCreated": false,
      "defaultValue": "",
      "label": "",
      "name": "environment",
      "options": {
       "widgetDisplayType": "Text",
       "validationRegex": null
      },
      "parameterDataType": "String"
     },
     "widgetInfo": {
      "widgetType": "text",
      "defaultValue": "",
      "label": "",
      "name": "environment",
      "options": {
       "widgetType": "text",
       "autoCreated": null,
       "validationRegex": null
      }
     }
    }
   }
  },
  "language_info": {
   "name": "python"
  }
 },
 "nbformat": 4,
 "nbformat_minor": 0
}
