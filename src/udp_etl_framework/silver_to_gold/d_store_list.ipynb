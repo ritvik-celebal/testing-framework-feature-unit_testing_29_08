{
 "cells": [
  {
   "cell_type": "code",
   "execution_count": 0,
   "metadata": {
    "application/vnd.databricks.v1+cell": {
     "cellMetadata": {
      "byteLimit": 2048000,
      "rowLimit": 10000
     },
     "inputWidgets": {},
     "nuid": "9c65f0fa-f3b3-4aa7-8963-145b5f535fca",
     "showTitle": false,
     "tableResultSettingsMap": {},
     "title": ""
    }
   },
   "outputs": [],
   "source": [
    "%run ../utils/common"
   ]
  },
  {
   "cell_type": "code",
   "execution_count": 0,
   "metadata": {
    "application/vnd.databricks.v1+cell": {
     "cellMetadata": {
      "byteLimit": 2048000,
      "rowLimit": 10000
     },
     "inputWidgets": {},
     "nuid": "b795bcb4-05a6-49d4-a7a7-6d3896d17257",
     "showTitle": false,
     "tableResultSettingsMap": {},
     "title": ""
    }
   },
   "outputs": [],
   "source": [
    "dbutils.widgets.text(\"environment\", \"\", \"\")\n",
    "environment = dbutils.widgets.get(\"environment\")"
   ]
  },
  {
   "cell_type": "code",
   "execution_count": 0,
   "metadata": {
    "application/vnd.databricks.v1+cell": {
     "cellMetadata": {
      "byteLimit": 2048000,
      "rowLimit": 10000
     },
     "inputWidgets": {},
     "nuid": "d293949a-dc40-4060-9d38-16ee52c86515",
     "showTitle": false,
     "tableResultSettingsMap": {},
     "title": ""
    }
   },
   "outputs": [],
   "source": [
    "catalog_name = settings[environment]['catalog_name']"
   ]
  },
  {
   "cell_type": "code",
   "execution_count": 0,
   "metadata": {
    "application/vnd.databricks.v1+cell": {
     "cellMetadata": {
      "byteLimit": 2048000,
      "rowLimit": 10000
     },
     "inputWidgets": {},
     "nuid": "7513d8c3-c535-4458-8334-22c38e88750f",
     "showTitle": false,
     "tableResultSettingsMap": {},
     "title": ""
    }
   },
   "outputs": [],
   "source": [
    "spark.sql(f\"\"\"\n",
    "CREATE OR REPLACE TABLE {catalog_name}.udp_wcm_gold_wcm_dmt_winlife.d_store_list\n",
    "TBLPROPERTIES (\n",
    "  'DELTA.AUTOOPTIMIZE.OPTIMIZEWRITE' = 'TRUE',\n",
    "  'DELTA.AUTOOPTIMIZE.AUTOCOMPACT' = 'TRUE'\n",
    ") \n",
    "AS\n",
    "WITH dat AS (\n",
    "    SELECT * FROM {catalog_name}.udp_wcm_silver_dataportal.store_list_winlife\n",
    "    WHERE proc_date = (SELECT MAX(proc_date) FROM {catalog_name}.udp_wcm_silver_dataportal.store_list_winlife)\n",
    ")\n",
    "SELECT business_unit,\n",
    "    a.store_id, \n",
    "    IFNULL(a.store_name, '') store_name,\n",
    "    IFNULL(a.region_vn, '') region, \n",
    "    '' khu_vuc, \n",
    "    IFNULL(a.city, '') city,\n",
    "    IFNULL(a.cua_hang_truong, '') cua_hang_truong,\n",
    "    IFNULL(sdt_cht, '') sdt_di_dong,\n",
    "    IFNULL(sdt_ch, '') sdt_ch,\n",
    "    IFNULL(email_ch, '') email_ch,\n",
    "    IFNULL(a.qlkv, '') qlkv, \n",
    "    IFNULL(a.sdt_qlkv, '') sdt_qlkv,\n",
    "    IFNULL(a.email_qlkv, '') email_qlkv,\n",
    "    IFNULL(a.gdv, '') gdv, \n",
    "    IFNULL(a.gdm, '') gdm\n",
    "FROM {catalog_name}.udp_wcm_gold_vcm_dwh.d_store a \n",
    "INNER JOIN dat sw ON a.store_id = sw.store_id\n",
    "\"\"\")"
   ]
  }
 ],
 "metadata": {
  "application/vnd.databricks.v1+notebook": {
   "computePreferences": null,
   "dashboards": [],
   "environmentMetadata": {
    "base_environment": "",
    "environment_version": "2"
   },
   "inputWidgetPreferences": null,
   "language": "python",
   "notebookMetadata": {
    "mostRecentlyExecutedCommandWithImplicitDF": {
     "commandId": 6605737921188951,
     "dataframes": [
      "_sqldf"
     ]
    },
    "pythonIndentUnit": 4
   },
   "notebookName": "d_store_list",
   "widgets": {
    "environment": {
     "currentValue": "DEV",
     "nuid": "abd4c5c8-ed5b-4a7a-8d0d-b4d0f23c1d49",
     "typedWidgetInfo": {
      "autoCreated": false,
      "defaultValue": "",
      "label": "",
      "name": "environment",
      "options": {
       "widgetDisplayType": "Text",
       "validationRegex": null
      },
      "parameterDataType": "String"
     },
     "widgetInfo": {
      "widgetType": "text",
      "defaultValue": "",
      "label": "",
      "name": "environment",
      "options": {
       "widgetType": "text",
       "autoCreated": null,
       "validationRegex": null
      }
     }
    }
   }
  },
  "language_info": {
   "name": "python"
  }
 },
 "nbformat": 4,
 "nbformat_minor": 0
}
