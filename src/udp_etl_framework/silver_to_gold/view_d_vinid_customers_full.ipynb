{
 "cells": [
  {
   "cell_type": "code",
   "execution_count": 0,
   "metadata": {
    "application/vnd.databricks.v1+cell": {
     "cellMetadata": {
      "byteLimit": 2048000,
      "rowLimit": 10000
     },
     "inputWidgets": {},
     "nuid": "4b3bb5f7-8cc1-43a7-b403-f3dfb2d90a0b",
     "showTitle": false,
     "tableResultSettingsMap": {},
     "title": ""
    }
   },
   "outputs": [],
   "source": [
    "%run ../utils/common"
   ]
  },
  {
   "cell_type": "code",
   "execution_count": 0,
   "metadata": {
    "application/vnd.databricks.v1+cell": {
     "cellMetadata": {
      "byteLimit": 2048000,
      "rowLimit": 10000
     },
     "inputWidgets": {},
     "nuid": "e7f959cf-85e1-4c5f-9cec-185a3035a983",
     "showTitle": false,
     "tableResultSettingsMap": {},
     "title": ""
    }
   },
   "outputs": [],
   "source": [
    "dbutils.widgets.text(\"environment\", \"\", \"\")\n",
    "environment = dbutils.widgets.get(\"environment\")"
   ]
  },
  {
   "cell_type": "code",
   "execution_count": 0,
   "metadata": {
    "application/vnd.databricks.v1+cell": {
     "cellMetadata": {
      "byteLimit": 2048000,
      "rowLimit": 10000
     },
     "inputWidgets": {},
     "nuid": "9a486b70-7c35-4752-bd40-3696f8870b1a",
     "showTitle": false,
     "tableResultSettingsMap": {},
     "title": ""
    }
   },
   "outputs": [],
   "source": [
    "catalog_name = settings[environment]['catalog_name']"
   ]
  },
  {
   "cell_type": "code",
   "execution_count": 0,
   "metadata": {
    "application/vnd.databricks.v1+cell": {
     "cellMetadata": {
      "byteLimit": 2048000,
      "rowLimit": 10000
     },
     "inputWidgets": {},
     "nuid": "dc4c63c9-cfec-48b0-b488-e6a8904fa7fa",
     "showTitle": false,
     "tableResultSettingsMap": {},
     "title": ""
    }
   },
   "outputs": [],
   "source": [
    "spark.sql(f\"\"\"create or replace view {catalog_name}.udp_wcm_gold_vcm_dwh.view_d_vinid_customers_full\n",
    "          as \n",
    "          WITH CITY AS (\n",
    "  SELECT DISTINCT\n",
    "    C.city_name,\n",
    "    C.city_id\n",
    "  FROM\n",
    "    {catalog_name}.udp_wcm_silver_dim.cfg_city_district_ward as C\n",
    "),\n",
    "DIST AS (\n",
    "  SELECT DISTINCT\n",
    "    D.district_id,\n",
    "    D.district_name\n",
    "  FROM\n",
    "    {catalog_name}.udp_wcm_silver_dim.cfg_city_district_ward as D\n",
    "),\n",
    "WARD AS (\n",
    "  SELECT DISTINCT\n",
    "    W.ward_id,\n",
    "    W.ward_name\n",
    "  FROM\n",
    "    {catalog_name}.udp_wcm_silver_dim.cfg_city_district_ward as W\n",
    "),\n",
    "CUS_ADD AS (\n",
    "  SELECT\n",
    "    C.* EXCEPT (csn, full_address),\n",
    "    CONCAT(\n",
    "      C.full_address,\n",
    "      CASE\n",
    "        WHEN W.ward_name IS NOT NULL THEN CONCAT(',', W.ward_name)\n",
    "        ELSE ''\n",
    "      END,\n",
    "      CASE\n",
    "        WHEN D.district_name IS NOT NULL THEN CONCAT(',', D.district_name)\n",
    "        ELSE ''\n",
    "      END,\n",
    "      CASE\n",
    "        WHEN T.city_name IS NOT NULL THEN CONCAT(',', T.city_name)\n",
    "        ELSE ''\n",
    "      END\n",
    "    ) AS full_address,\n",
    "    CAST(csn AS STRING) AS csn,\n",
    "    T.city_name,\n",
    "    D.district_name,\n",
    "    W.ward_name\n",
    "  FROM\n",
    "    {catalog_name}.udp_wcm_silver_dim.d_vinid_customers C\n",
    "      LEFT JOIN CITY T\n",
    "        ON T.city_id = C.city\n",
    "      LEFT JOIN WARD W\n",
    "        ON W.ward_id = C.ward\n",
    "      LEFT JOIN DIST D\n",
    "        ON D.district_id = C.district\n",
    "),\n",
    "SAP_CUS AS (\n",
    "  SELECT\n",
    "    *,\n",
    "    CONCAT(\n",
    "      C.full_address, \" \", C.adress_2, \" \", A.ward_name, \" \", A.district_name, \" \", A.city_name\n",
    "    ) AS full_address_2\n",
    "  FROM\n",
    "    {catalog_name}.udp_wcm_silver_dim.d_customer C\n",
    "      LEFT JOIN {catalog_name}.udp_wcm_silver_dim.cfg_city_district_ward A\n",
    "        ON C.adress_3 = CAST(A.ward_id AS STRING)\n",
    ")\n",
    "SELECT\n",
    "  SC.csn,\n",
    "  SC.account_no AS vinid_card_number_8star,\n",
    "  COALESCE(vc.full_name, SC.full_name) AS full_name,\n",
    "  COALESCE(VC.dob, SC.dob) AS dob,\n",
    "  COALESCE(VC.gender, SC.gender) AS gender,\n",
    "  COALESCE(VC.mobile_number, SC.mobile_number) as mobile_number,\n",
    "  REPLACE(COALESCE(vc.full_address, SC.full_address_2), '\"', '') AS full_address,\n",
    "  COALESCE(VC.email_address, SC.email_address) AS email_address,\n",
    "  SC.adress_2 AS sap_adress_2,\n",
    "  SC.adress_3 AS sap_adress_3,\n",
    "  VC.cmnd_passport AS cmnd_passport,\n",
    "  VC.reg_date,\n",
    "  VC.city AS vid_city_id,\n",
    "  VC.city_name,\n",
    "  VC.district AS vid_district_id,\n",
    "  VC.district_name,\n",
    "  VC.ward AS vid_ward_id,\n",
    "  VC.ward_name,\n",
    "  VC.home_phone AS vid_home_phone,\n",
    "  VC.country AS vid_country,\n",
    "  VC.address2 AS vid_address2,\n",
    "  VC.address3 AS vid_address3,\n",
    "  VC.address4 AS vid_address4,\n",
    "  CAST(months_between(current_date(), COALESCE(vc.dob, SC.dob)) / 12 AS INT) AS age\n",
    "FROM\n",
    "  SAP_CUS SC\n",
    "    LEFT JOIN CUS_ADD as VC\n",
    "      ON SC.csn = VC.csn\n",
    "UNION ALL\n",
    "SELECT\n",
    "  VC.csn,\n",
    "  NULL AS vinid_card_number_8star,\n",
    "  vc.full_name AS full_name,\n",
    "  VC.dob AS dob,\n",
    "  VC.gender AS gender,\n",
    "  VC.mobile_number as mobile_number,\n",
    "  REPLACE(VC.full_address, '\"', '') AS full_address,\n",
    "  VC.email_address AS email_address,\n",
    "  NULL AS sap_adress_2,\n",
    "  NULL AS sap_adress_3,\n",
    "  VC.cmnd_passport AS cmnd_passport,\n",
    "  VC.reg_date,\n",
    "  VC.city AS vid_city_id,\n",
    "  VC.city_name,\n",
    "  VC.district AS vid_district_id,\n",
    "  VC.district_name,\n",
    "  VC.ward AS vid_ward_id,\n",
    "  VC.ward_name,\n",
    "  VC.home_phone AS vid_home_phone,\n",
    "  VC.country AS vid_country,\n",
    "  VC.address2 AS vid_address2,\n",
    "  VC.address3 AS vid_address3,\n",
    "  VC.address4 AS vid_address4,\n",
    "  CAST(months_between(current_date(), COALESCE(vc.dob, SC.dob)) / 12 AS INT) AS age\n",
    "FROM\n",
    "  CUS_ADD VC\n",
    "    LEFT JOIN SAP_CUS as SC\n",
    "      ON SC.csn = VC.csn\n",
    "WHERE\n",
    "  SC.csn IS NULL\"\"\")"
   ]
  }
 ],
 "metadata": {
  "application/vnd.databricks.v1+notebook": {
   "computePreferences": null,
   "dashboards": [],
   "environmentMetadata": {
    "base_environment": "",
    "environment_version": "2"
   },
   "inputWidgetPreferences": null,
   "language": "python",
   "notebookMetadata": {
    "pythonIndentUnit": 4
   },
   "notebookName": "view_d_vinid_customers_full",
   "widgets": {
    "environment": {
     "currentValue": "DEV",
     "nuid": "16b788ca-3121-4e30-a848-41e6954149dc",
     "typedWidgetInfo": {
      "autoCreated": false,
      "defaultValue": "",
      "label": "",
      "name": "environment",
      "options": {
       "widgetDisplayType": "Text",
       "validationRegex": null
      },
      "parameterDataType": "String"
     },
     "widgetInfo": {
      "widgetType": "text",
      "defaultValue": "",
      "label": "",
      "name": "environment",
      "options": {
       "widgetType": "text",
       "autoCreated": null,
       "validationRegex": null
      }
     }
    }
   }
  },
  "language_info": {
   "name": "python"
  }
 },
 "nbformat": 4,
 "nbformat_minor": 0
}
