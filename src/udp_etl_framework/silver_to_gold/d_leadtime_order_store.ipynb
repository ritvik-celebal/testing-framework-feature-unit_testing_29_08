{
 "cells": [
  {
   "cell_type": "code",
   "execution_count": 0,
   "metadata": {
    "application/vnd.databricks.v1+cell": {
     "cellMetadata": {
      "byteLimit": 2048000,
      "rowLimit": 10000
     },
     "inputWidgets": {},
     "nuid": "b36767e1-479d-4a49-aeca-7f26707f00ba",
     "showTitle": false,
     "tableResultSettingsMap": {},
     "title": ""
    }
   },
   "outputs": [],
   "source": [
    "%run ../utils/common"
   ]
  },
  {
   "cell_type": "code",
   "execution_count": 0,
   "metadata": {
    "application/vnd.databricks.v1+cell": {
     "cellMetadata": {
      "byteLimit": 2048000,
      "rowLimit": 10000
     },
     "inputWidgets": {},
     "nuid": "df2aec8b-917b-4798-8fc4-56343a25c827",
     "showTitle": false,
     "tableResultSettingsMap": {},
     "title": ""
    }
   },
   "outputs": [],
   "source": [
    "\n",
    "dbutils.widgets.text(\"environment\", \"\", \"\")\n",
    "environment = dbutils.widgets.get(\"environment\")"
   ]
  },
  {
   "cell_type": "code",
   "execution_count": 0,
   "metadata": {
    "application/vnd.databricks.v1+cell": {
     "cellMetadata": {
      "byteLimit": 2048000,
      "rowLimit": 10000
     },
     "inputWidgets": {},
     "nuid": "1b5fd06c-44e3-43cc-976c-8ae8e2509f63",
     "showTitle": false,
     "tableResultSettingsMap": {},
     "title": ""
    }
   },
   "outputs": [],
   "source": [
    "catalog_name = settings[environment]['catalog_name']"
   ]
  },
  {
   "cell_type": "code",
   "execution_count": 0,
   "metadata": {
    "application/vnd.databricks.v1+cell": {
     "cellMetadata": {
      "byteLimit": 2048000,
      "rowLimit": 10000
     },
     "inputWidgets": {},
     "nuid": "4e66a138-55a2-4672-a89d-26a21c9fd071",
     "showTitle": false,
     "tableResultSettingsMap": {},
     "title": ""
    }
   },
   "outputs": [],
   "source": [
    "spark.sql(f\"\"\"\n",
    "CREATE OR REPLACE TABLE {catalog_name}.udp_wcm_gold_db_winare_nonfresh_dc.d_leadtime_order_store\n",
    "TBLPROPERTIES (\n",
    "  'DELTA.AUTOOPTIMIZE.OPTIMIZEWRITE' = 'TRUE',\n",
    "  'DELTA.AUTOOPTIMIZE.AUTOCOMPACT' = 'TRUE'\n",
    ")\n",
    "AS\n",
    "WITH dc_golive AS (\n",
    "    SELECT DISTINCT dc_id\n",
    "    FROM {catalog_name}.udp_wcm_gold_db_winare_nonfresh_dc.d_cfg_winare_dc_golive\n",
    "),\n",
    "po_item AS (\n",
    "    SELECT DISTINCT\n",
    "        a.creation_date,\n",
    "        a.po_doc,\n",
    "        a.store_id,\n",
    "        a.dc_id,\n",
    "        a.gr_date,\n",
    "        DATEDIFF(a.gr_date, a.creation_date) AS leadtime\n",
    "    FROM {catalog_name}.udp_wcm_gold_vcm_dwh.f_po_item a\n",
    "    LEFT JOIN {catalog_name}.udp_wcm_gold_vcm_dwh.d_store b\n",
    "        ON a.store_id = b.store_id\n",
    "    WHERE a.creation_date BETWEEN ADD_MONTHS(DATE(CURRENT_TIMESTAMP() + INTERVAL 7 HOURS), -6)\n",
    "                             AND DATE_SUB(DATE(CURRENT_TIMESTAMP() + INTERVAL 7 HOURS), 1)\n",
    "      AND a.po_type = 'Stock Transp. Order'\n",
    "      AND DATEDIFF(a.gr_date, a.creation_date) >= 1\n",
    "      AND b.business_unit <> '1100'\n",
    "),\n",
    "po_percentile AS (\n",
    "    SELECT DISTINCT\n",
    "        store_id,\n",
    "        dc_id,\n",
    "        percentile_approx(DATEDIFF(gr_date, creation_date), 0.25) OVER (PARTITION BY store_id, dc_id) AS q1_leadtime,\n",
    "        percentile_approx(DATEDIFF(gr_date, creation_date), 0.5) OVER (PARTITION BY store_id, dc_id) AS q2_leadtime,\n",
    "        percentile_approx(DATEDIFF(gr_date, creation_date), 0.75) OVER (PARTITION BY store_id, dc_id) AS q3_leadtime\n",
    "    FROM po_item\n",
    "),\n",
    "min_max_avg AS (\n",
    "    SELECT\n",
    "        a.store_id,\n",
    "        a.dc_id,\n",
    "        AVG(DATEDIFF(gr_date, creation_date)) AS avg_leadtime,\n",
    "        MIN(DATEDIFF(gr_date, creation_date)) AS min_leadtime,\n",
    "        MAX(DATEDIFF(gr_date, creation_date)) AS max_leadtime,\n",
    "        COALESCE(STDDEV(DATEDIFF(gr_date, creation_date)), 0) AS stddev_leadtime\n",
    "    FROM po_item a\n",
    "    INNER JOIN dc_golive b ON a.dc_id = b.dc_id\n",
    "    GROUP BY 1, 2\n",
    ")\n",
    "SELECT \n",
    "    DATE_SUB(DATE(CURRENT_TIMESTAMP() + INTERVAL 7 HOURS), 1) AS calday,\n",
    "    a.store_id,\n",
    "    a.dc_id,\n",
    "    LEAST(GREATEST(CEIL(a.avg_leadtime), 1), 14) AS leadtime,\n",
    "    a.avg_leadtime,\n",
    "    a.min_leadtime,\n",
    "    a.max_leadtime,\n",
    "    a.stddev_leadtime,\n",
    "    b.q1_leadtime,\n",
    "    b.q2_leadtime,\n",
    "    b.q3_leadtime\n",
    "FROM min_max_avg a\n",
    "LEFT JOIN po_percentile b\n",
    "    ON a.store_id = b.store_id AND a.dc_id = b.dc_id\n",
    "\"\"\")"
   ]
  }
 ],
 "metadata": {
  "application/vnd.databricks.v1+notebook": {
   "computePreferences": null,
   "dashboards": [],
   "environmentMetadata": {
    "base_environment": "",
    "environment_version": "2"
   },
   "inputWidgetPreferences": null,
   "language": "python",
   "notebookMetadata": {
    "mostRecentlyExecutedCommandWithImplicitDF": {
     "commandId": 4736130552740649,
     "dataframes": [
      "_sqldf"
     ]
    },
    "pythonIndentUnit": 4
   },
   "notebookName": "d_leadtime_order_store",
   "widgets": {
    "environment": {
     "currentValue": "DEV",
     "nuid": "2e0f6b2b-ebd3-44fb-8b4e-194cb65dd16c",
     "typedWidgetInfo": {
      "autoCreated": false,
      "defaultValue": "",
      "label": "",
      "name": "environment",
      "options": {
       "widgetDisplayType": "Text",
       "validationRegex": null
      },
      "parameterDataType": "String"
     },
     "widgetInfo": {
      "widgetType": "text",
      "defaultValue": "",
      "label": "",
      "name": "environment",
      "options": {
       "widgetType": "text",
       "autoCreated": null,
       "validationRegex": null
      }
     }
    },
    "proc_date": {
     "currentValue": "2025-06-28",
     "nuid": "dc8a3daf-ac8b-4fd2-b943-4ee16d81cc9b",
     "typedWidgetInfo": {
      "autoCreated": false,
      "defaultValue": "",
      "label": "",
      "name": "proc_date",
      "options": {
       "widgetDisplayType": "Text",
       "validationRegex": null
      },
      "parameterDataType": "String"
     },
     "widgetInfo": {
      "widgetType": "text",
      "defaultValue": "",
      "label": "",
      "name": "proc_date",
      "options": {
       "widgetType": "text",
       "autoCreated": null,
       "validationRegex": null
      }
     }
    }
   }
  },
  "language_info": {
   "name": "python"
  }
 },
 "nbformat": 4,
 "nbformat_minor": 0
}
