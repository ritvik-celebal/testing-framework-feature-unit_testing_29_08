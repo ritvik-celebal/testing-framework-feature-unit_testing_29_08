{
 "cells": [
  {
   "cell_type": "code",
   "execution_count": 0,
   "metadata": {
    "application/vnd.databricks.v1+cell": {
     "cellMetadata": {
      "byteLimit": 2048000,
      "rowLimit": 10000
     },
     "inputWidgets": {},
     "nuid": "25c9928d-bbda-4b7c-933d-01ad7d51eff5",
     "showTitle": false,
     "tableResultSettingsMap": {},
     "title": ""
    }
   },
   "outputs": [],
   "source": [
    "%run ../utils/common"
   ]
  },
  {
   "cell_type": "code",
   "execution_count": 0,
   "metadata": {
    "application/vnd.databricks.v1+cell": {
     "cellMetadata": {
      "byteLimit": 2048000,
      "rowLimit": 10000
     },
     "inputWidgets": {},
     "nuid": "fc7e7bdf-509b-4a12-8411-aa7a48e1b108",
     "showTitle": false,
     "tableResultSettingsMap": {},
     "title": ""
    }
   },
   "outputs": [],
   "source": [
    "dbutils.widgets.text(\"environment\", \"\", \"\")\n",
    "environment = dbutils.widgets.get(\"environment\")"
   ]
  },
  {
   "cell_type": "code",
   "execution_count": 0,
   "metadata": {
    "application/vnd.databricks.v1+cell": {
     "cellMetadata": {
      "byteLimit": 2048000,
      "rowLimit": 10000
     },
     "inputWidgets": {},
     "nuid": "c47671b4-ddcf-47fd-8cb0-c095f9033066",
     "showTitle": false,
     "tableResultSettingsMap": {},
     "title": ""
    }
   },
   "outputs": [],
   "source": [
    "catalog_name = settings[environment]['catalog_name']"
   ]
  },
  {
   "cell_type": "code",
   "execution_count": 0,
   "metadata": {
    "application/vnd.databricks.v1+cell": {
     "cellMetadata": {
      "byteLimit": 2048000,
      "implicitDf": true,
      "rowLimit": 10000
     },
     "inputWidgets": {},
     "nuid": "112b9cd7-60e8-477c-8bb7-a840335f4cfb",
     "showTitle": false,
     "tableResultSettingsMap": {},
     "title": ""
    }
   },
   "outputs": [],
   "source": [
    "spark.sql(f\"\"\"\n",
    "CREATE TABLE IF NOT EXISTS {catalog_name}.udp_wcm_gold_vcm_finance_self_service.a_billcount_store_monthly (\n",
    "calmonth DATE,\n",
    "store_id STRING,\n",
    "billcount BIGINT,\n",
    "billcount_mdl BIGINT,\n",
    "billcount_fresh BIGINT,\n",
    "billcount_mbs BIGINT,\n",
    "tpay_trans FLOAT,\n",
    "rev_amt_pos_mbs FLOAT,\n",
    "rev_amt_pos_mld_mbs FLOAT\n",
    ")\n",
    "USING delta\n",
    "TBLPROPERTIES (\n",
    "  'delta.enableDeletionVectors' = 'true',\n",
    "  'delta.feature.deletionVectors' = 'supported')\"\"\")"
   ]
  },
  {
   "cell_type": "code",
   "execution_count": 0,
   "metadata": {
    "application/vnd.databricks.v1+cell": {
     "cellMetadata": {
      "byteLimit": 2048000,
      "rowLimit": 10000
     },
     "inputWidgets": {},
     "nuid": "ec461c87-fc26-4028-8daf-50592d7d3c09",
     "showTitle": false,
     "tableResultSettingsMap": {},
     "title": ""
    }
   },
   "outputs": [],
   "source": [
    "spark.sql(f\"\"\"\n",
    "DELETE FROM {catalog_name}.udp_wcm_gold_vcm_finance_self_service.a_billcount_store_monthly \n",
    "WHERE calmonth >= add_months(DATE_TRUNC('MONTH', DATE(CURRENT_TIMESTAMP() + INTERVAL 7 HOURS)), -1)\n",
    "\"\"\")"
   ]
  },
  {
   "cell_type": "code",
   "execution_count": 0,
   "metadata": {
    "application/vnd.databricks.v1+cell": {
     "cellMetadata": {
      "byteLimit": 2048000,
      "rowLimit": 10000
     },
     "inputWidgets": {},
     "nuid": "a144da53-d142-4eb0-811e-c1cfa42a574b",
     "showTitle": false,
     "tableResultSettingsMap": {},
     "title": ""
    }
   },
   "outputs": [],
   "source": [
    "spark.sql(f\"\"\"INSERT INTO {catalog_name}.udp_wcm_gold_vcm_finance_self_service.a_billcount_store_monthly\n",
    "WITH header AS (\n",
    "    select DISTINCT LTRIM(transaction_no, '0') transaction_no \n",
    "    from {catalog_name}.udp_wcm_gold_vcm_dwh.f_transaction_loyalty a \n",
    "    WHERE calday >= add_months(DATE_TRUNC('MONTH', DATE(CURRENT_TIMESTAMP() + INTERVAL 7 HOURS)), -1)\n",
    "),\n",
    "f_sale_prod AS (\n",
    "    SELECT\n",
    "        DATE_TRUNC('MONTH', calday) calmonth,\n",
    "        store_id,\n",
    "        product_id,\n",
    "        transaction_type,\n",
    "        LTRIM(transaction_no, '0') transaction_no,\n",
    "        SUM(sale_amount - tax_amount + IF(discount_type IN ('ZRTA', 'ZCRT'), discount_value, 0)) rev_amt_pos,\n",
    "        SUM(CASE WHEN payment_method IN ('TQRP', 'ZTPA') THEN tender_value ELSE 0 END) tpay_trans\n",
    "    FROM {catalog_name}.udp_wcm_gold_vcm_dwh.f_sale_prod\n",
    "    WHERE calday >= add_months(DATE_TRUNC('MONTH', DATE(CURRENT_TIMESTAMP() + INTERVAL 7 HOURS)), -1)\n",
    "    GROUP BY 1, 2, 3, 4, 5\n",
    "),\n",
    "tpay AS (\n",
    "  SELECT\n",
    "    a.calmonth,\n",
    "    a.store_id,\n",
    "    SUM(tpay_trans) tpay_trans\n",
    "FROM f_sale_prod a\n",
    "LEFT JOIN {catalog_name}.udp_wcm_gold_vcm_dwh.d_store c ON a.store_id = c.store_id\n",
    "WHERE c.business_unit ='1500'\n",
    "    AND c.store_id not like '195%'\n",
    "GROUP BY 1, 2\n",
    "),\n",
    "main AS (\n",
    "SELECT\n",
    "    a.calmonth, a.store_id,\n",
    "    COUNT(DISTINCT CASE WHEN b.bill_count = 1 THEN a.transaction_no END) - COUNT(DISTINCT CASE WHEN b.bill_count = -1 THEN a.transaction_no END) billcount,\n",
    "    COUNT(DISTINCT CASE WHEN b.bill_count = 1 AND product.manufacturer_id in ('2325', '1915') THEN a.transaction_no END) - COUNT(DISTINCT CASE WHEN b.bill_count = -1 AND product.manufacturer_id in ('2325', '1915') THEN a.transaction_no END) billcount_mdl,\n",
    "    COUNT(DISTINCT CASE WHEN b.bill_count = 1 AND product.mch2_id = '101' THEN a.transaction_no END) - COUNT(DISTINCT CASE WHEN b.bill_count = -1 AND product.mch2_id = '101' THEN a.transaction_no END) billcount_fresh,\n",
    "    COUNT(DISTINCT CASE WHEN b.bill_count = 1 AND header.transaction_no IS NOT NULL  THEN a.transaction_no END) - COUNT(DISTINCT CASE WHEN b.bill_count = -1 AND header.transaction_no IS NOT NULL THEN a.transaction_no END) billcount_mbs,\n",
    "    SUM(CASE WHEN header.transaction_no IS NOT NULL THEN a.rev_amt_pos ELSE 0 END) rev_amt_pos_mbs,\n",
    "    SUM(CASE WHEN header.transaction_no IS NOT NULL AND product.manufacturer_id IN ('2325', '1915') THEN a.rev_amt_pos ELSE 0 END) rev_amt_pos_mld_mbs\n",
    "FROM f_sale_prod a\n",
    "INNER JOIN {catalog_name}.udp_wcm_silver_dim.transaction_type b ON a.transaction_type = b.transaction_type\n",
    "LEFT JOIN {catalog_name}.udp_wcm_gold_vcm_dwh.d_product product ON a.product_id = product.product_id\n",
    "LEFT JOIN {catalog_name}.udp_wcm_gold_vcm_dwh.d_store c ON a.store_id = c.store_id\n",
    "LEFT JOIN header ON LTRIM(a.transaction_no, '0') = header.transaction_no\n",
    "WHERE c.business_unit ='1500'\n",
    "    AND c.store_id not like '195%'\n",
    "    AND product.mch2_id IN ('101', '102', '201', '202', '203')\n",
    "GROUP BY 1, 2\n",
    ")\n",
    "SELECT IFNULL(main.calmonth, tpay.calmonth) calmonth,\n",
    "    IFNULL(main.store_id, tpay.store_id) store_id,\n",
    "    main.billcount,\n",
    "    main.billcount_mdl,\n",
    "    main.billcount_fresh,\n",
    "    main.billcount_mbs,\n",
    "    tpay.tpay_trans,\n",
    "    main.rev_amt_pos_mbs,\n",
    "    main.rev_amt_pos_mld_mbs\n",
    "FROM main\n",
    "FULL JOIN  tpay USING (calmonth, store_id)\n",
    ";\n",
    "\"\"\")"
   ]
  }
 ],
 "metadata": {
  "application/vnd.databricks.v1+notebook": {
   "computePreferences": null,
   "dashboards": [],
   "environmentMetadata": {
    "base_environment": "",
    "environment_version": "2"
   },
   "inputWidgetPreferences": null,
   "language": "python",
   "notebookMetadata": {
    "mostRecentlyExecutedCommandWithImplicitDF": {
     "commandId": 7469597179135551,
     "dataframes": [
      "_sqldf"
     ]
    },
    "pythonIndentUnit": 4
   },
   "notebookName": "a_billcount_store_monthly",
   "widgets": {
    "environment": {
     "currentValue": "DEV",
     "nuid": "57a553a1-f46e-4295-a6c6-211099fb5977",
     "typedWidgetInfo": {
      "autoCreated": false,
      "defaultValue": "",
      "label": "",
      "name": "environment",
      "options": {
       "widgetDisplayType": "Text",
       "validationRegex": null
      },
      "parameterDataType": "String"
     },
     "widgetInfo": {
      "widgetType": "text",
      "defaultValue": "",
      "label": "",
      "name": "environment",
      "options": {
       "widgetType": "text",
       "autoCreated": null,
       "validationRegex": null
      }
     }
    }
   }
  },
  "language_info": {
   "name": "python"
  }
 },
 "nbformat": 4,
 "nbformat_minor": 0
}
