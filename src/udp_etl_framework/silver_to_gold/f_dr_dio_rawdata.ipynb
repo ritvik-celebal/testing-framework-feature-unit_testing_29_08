{
 "cells": [
  {
   "cell_type": "code",
   "execution_count": 0,
   "metadata": {
    "application/vnd.databricks.v1+cell": {
     "cellMetadata": {
      "byteLimit": 2048000,
      "rowLimit": 10000
     },
     "inputWidgets": {},
     "nuid": "0201d0d0-bafd-4046-a97e-c53ef256dad1",
     "showTitle": false,
     "tableResultSettingsMap": {},
     "title": ""
    }
   },
   "outputs": [],
   "source": [
    "%run ../utils/common"
   ]
  },
  {
   "cell_type": "code",
   "execution_count": 0,
   "metadata": {
    "application/vnd.databricks.v1+cell": {
     "cellMetadata": {
      "byteLimit": 2048000,
      "rowLimit": 10000
     },
     "inputWidgets": {},
     "nuid": "a040b79f-8cee-4381-9e6f-2a7f2ce293a1",
     "showTitle": false,
     "tableResultSettingsMap": {},
     "title": ""
    }
   },
   "outputs": [],
   "source": [
    "dbutils.widgets.text(\"environment\", \"DEV\")\n",
    "dbutils.widgets.text(\"target_dataset\", \"VCM_DWH_PRD\")\n",
    "dbutils.widgets.text(\"metadata_schema\", \"udp_wcm_metadata_dev\")\n",
    "dbutils.widgets.text(\"target_table\", \"f_dr_dio_rawdata\")\n",
    "dbutils.widgets.text(\n",
    "    \"dependency_table\",\"VCM_DWH_PRD.F_INVENTORY, VCM_DWH_PRD.F_COGS_90D, VCM_DWH_PRD.F_TRANSACTION_LINE\",\n",
    ")"
   ]
  },
  {
   "cell_type": "code",
   "execution_count": 0,
   "metadata": {
    "application/vnd.databricks.v1+cell": {
     "cellMetadata": {
      "byteLimit": 2048000,
      "rowLimit": 10000
     },
     "inputWidgets": {},
     "nuid": "0d0c9f42-95fb-4a97-8744-6d82fe67e48f",
     "showTitle": false,
     "tableResultSettingsMap": {},
     "title": ""
    }
   },
   "outputs": [],
   "source": [
    "dbutils.widgets.text(\"field_calday\", \"CALDAY\")\n",
    "dbutils.widgets.text(\"field_id\", \"HASH_ID\")"
   ]
  },
  {
   "cell_type": "code",
   "execution_count": 0,
   "metadata": {
    "application/vnd.databricks.v1+cell": {
     "cellMetadata": {
      "byteLimit": 2048000,
      "rowLimit": 10000
     },
     "inputWidgets": {},
     "nuid": "99bc92b8-71bc-4b9e-aeca-9797cb8219f1",
     "showTitle": false,
     "tableResultSettingsMap": {},
     "title": ""
    }
   },
   "outputs": [],
   "source": [
    "catalog_name = settings[environment]['catalog_name']"
   ]
  },
  {
   "cell_type": "code",
   "execution_count": 0,
   "metadata": {
    "application/vnd.databricks.v1+cell": {
     "cellMetadata": {
      "byteLimit": 2048000,
      "rowLimit": 10000
     },
     "inputWidgets": {},
     "nuid": "5b72d720-4f33-4e3e-9312-bb009dab9448",
     "showTitle": false,
     "tableResultSettingsMap": {},
     "title": ""
    }
   },
   "outputs": [],
   "source": [
    "environment = dbutils.widgets.get(\"environment\")\n",
    "target_dataset = dbutils.widgets.get(\"target_dataset\")\n",
    "target_table = dbutils.widgets.get(\"target_table\")\n",
    "metadata_schema = dbutils.widgets.get(\"metadata_schema\")\n",
    "dependency_table = dbutils.widgets.get(\"dependency_table\")\n",
    "dependency_table = [x.strip().upper() for x in dependency_table.split(\",\")]\n",
    "dependency_table = \"'\" + \"','\".join(dependency_table) + \"'\"\n",
    "\n",
    "print(f\"environment: {environment}\")\n",
    "print(f\"target_dataset: {target_dataset}\")\n",
    "print(f\"target_table: {target_table}\")\n",
    "print(f\"catalog_name: {catalog_name}\")\n",
    "print(f\"metadata_schema: {metadata_schema}\")\n",
    "print(f\"dependency_table: {dependency_table}\")"
   ]
  },
  {
   "cell_type": "code",
   "execution_count": 0,
   "metadata": {
    "application/vnd.databricks.v1+cell": {
     "cellMetadata": {
      "byteLimit": 2048000,
      "rowLimit": 10000
     },
     "inputWidgets": {},
     "nuid": "342f6bcb-1887-4f7e-a202-24f01e63dfca",
     "showTitle": false,
     "tableResultSettingsMap": {},
     "title": ""
    }
   },
   "outputs": [],
   "source": [
    "field_calday = dbutils.widgets.get(\"field_calday\")\n",
    "field_id = dbutils.widgets.get(\"field_id\")\n",
    "\n",
    "print(f\"field_calday: {field_calday}\")\n",
    "print(f\"field_id: {field_id}\")"
   ]
  },
  {
   "cell_type": "code",
   "execution_count": 0,
   "metadata": {
    "application/vnd.databricks.v1+cell": {
     "cellMetadata": {
      "byteLimit": 2048000,
      "rowLimit": 10000
     },
     "inputWidgets": {},
     "nuid": "7342f1e5-2bc0-487b-95bd-041fb7c6d427",
     "showTitle": false,
     "tableResultSettingsMap": {},
     "title": ""
    }
   },
   "outputs": [],
   "source": [
    "%run \"../common/common_etl_load\""
   ]
  },
  {
   "cell_type": "code",
   "execution_count": 0,
   "metadata": {
    "application/vnd.databricks.v1+cell": {
     "cellMetadata": {
      "byteLimit": 2048000,
      "implicitDf": true,
      "rowLimit": 10000
     },
     "inputWidgets": {},
     "nuid": "d14f485a-1563-4cb7-8af2-917c263ab0a3",
     "showTitle": false,
     "tableResultSettingsMap": {},
     "title": ""
    }
   },
   "outputs": [],
   "source": [
    "spark.sql(f\"\"\"CREATE TABLE IF NOT EXISTS {catalog_name}.udp_wcm_gold_vcm_dwh.f_dr_dio_rawdata (\n",
    "  hash_id BIGINT,\n",
    "  calday DATE,\n",
    "  date_gen DATE,\n",
    "  store_id STRING,\n",
    "  product_id STRING,\n",
    "  vendor_id STRING,\n",
    "  asst STRING,\n",
    "  order_method STRING,\n",
    "  delivery_method STRING,\n",
    "  dr_asst STRING,\n",
    "  note_asst STRING,\n",
    "  cluster STRING,\n",
    "  dr_type BIGINT,\n",
    "  dio_type BIGINT,\n",
    "  material_type STRING,\n",
    "  min_stock_type BIGINT,\n",
    "  issue_sku BIGINT,\n",
    "  dr BIGINT,\n",
    "  dr_promotion BIGINT,\n",
    "  dr_promotion_stt STRING,\n",
    "  min_stock DOUBLE,\n",
    "  closing_stock_quantity DOUBLE,\n",
    "  closing_stock_value DOUBLE,\n",
    "  sale_amount DOUBLE,\n",
    "  tax_amount DOUBLE,\n",
    "  sale_qty DOUBLE,\n",
    "  cogs_90d DOUBLE,\n",
    "  cogs_b2b_90d DOUBLE,\n",
    "  sale_qty_90d DOUBLE,\n",
    "  sale_qty_b2b_90d DOUBLE,\n",
    "  cogs_30d DOUBLE,\n",
    "  cogs_b2b_30d DOUBLE,\n",
    "  sale_qty_30d DOUBLE,\n",
    "  sale_qty_b2b_30d DOUBLE,\n",
    "  po_qty DOUBLE,\n",
    "  gr_qty DOUBLE)\n",
    "USING delta\n",
    "TBLPROPERTIES (\n",
    "  'DELTA.AUTOOPTIMIZE.OPTIMIZEWRITE' = 'TRUE',\n",
    "  'DELTA.AUTOOPTIMIZE.AUTOCOMPACT' = 'TRUE'\n",
    ")\n",
    "\"\"\")"
   ]
  },
  {
   "cell_type": "code",
   "execution_count": 0,
   "metadata": {
    "application/vnd.databricks.v1+cell": {
     "cellMetadata": {
      "byteLimit": 2048000,
      "rowLimit": 10000
     },
     "inputWidgets": {},
     "nuid": "5985d713-1481-45c6-8b79-b93ffeec8f61",
     "showTitle": false,
     "tableResultSettingsMap": {},
     "title": ""
    }
   },
   "outputs": [],
   "source": [
    "if CALDAY_IN_STR != \"\":\n",
    "    spark.sql(f\"\"\"\n",
    "\n",
    "    CREATE OR REPLACE TEMPORARY VIEW temp_{target_table} AS\n",
    "        WITH ASM_CALDAY AS (\n",
    "        SELECT DISTINCT calday FROM {catalog_name}.udp_wcm_gold_vcm_dwh.d_assortment_active_his\n",
    "        ORDER BY calday DESC\n",
    "        ),\n",
    "        ASM_CALDAY2 AS (\n",
    "        SELECT calday, \n",
    "        DATE_SUB(IFNULL(LEAD(calday) OVER (ORDER BY calday ASC),'3000-01-01'), 1) AS to_calday\n",
    "        FROM ASM_CALDAY\n",
    "        ),\n",
    "        ASM_BIWEEKLY AS (\n",
    "        SELECT \n",
    "            IF(a.calday = DATE('2022-08-22'),DATE('1900-01-01'),a.calday) AS calday, -- Ngay 22/08 moi apply nen bo 22/8/22 se apply cho nam 2022 neu co backdate\n",
    "            a.* EXCEPT(calday), a2.to_calday\n",
    "        FROM {catalog_name}.udp_wcm_gold_vcm_dwh.d_assortment_active_his a\n",
    "        INNER JOIN ASM_CALDAY2 a2 ON a.calday = a2.calday\n",
    "        ),\n",
    "        TEMP_0 AS (\n",
    "            SELECT \n",
    "                IF(a.calday IS NOT NULL, a.calday,\n",
    "                    IF(b.calday IS NOT NULL, b.calday,\n",
    "                        IF(c.calday IS NOT NULL, c.calday, \n",
    "                            IF(d.calday IS NOT NULL, d.calday, NULL)\n",
    "                        )    \n",
    "                    ) \n",
    "                ) calday,\n",
    "                IF(a.product_id IS NOT NULL, a.product_id,\n",
    "                    IF(b.product_id IS NOT NULL, b.product_id,\n",
    "                        IF(c.product_id IS NOT NULL, c.product_id, \n",
    "                            IF(d.product_id IS NOT NULL, d.product_id, NULL)\n",
    "                        )\n",
    "                    )    \n",
    "                ) product_id,\n",
    "                IF(a.store_id IS NOT NULL, a.store_id,\n",
    "                    IF(b.store_id IS NOT NULL, b.store_id,\n",
    "                        IF(c.store_id IS NOT NULL, c.store_id, \n",
    "                            IF(d.store_id IS NOT NULL, d.store_id, NULL)\n",
    "                        )\n",
    "                    )\n",
    "                ) store_id,\n",
    "                IFNULL(a.closing_stock_quantity,0) closing_stock_quantity,\n",
    "                IFNULL(a.closing_stock_value,0) closing_stock_value, \n",
    "                IFNULL(c.cogs_90d,0) cogs_90d,\n",
    "                IFNULL(c.cogs_b2b_90d,0) cogs_b2b_90d,\n",
    "                IFNULL(c.cogs_qty_90d,0) cogs_qty_90d,\n",
    "                IFNULL(c.cogs_qty_b2b_90d,0) cogs_qty_b2b_90d,\n",
    "                IFNULL(c.cogs_30d,0) cogs_30d,\n",
    "                IFNULL(c.cogs_b2b_30d,0) cogs_b2b_30d,\n",
    "                IFNULL(c.cogs_qty_30d,0) cogs_qty_30d,\n",
    "                IFNULL(c.cogs_qty_b2b_30d,0) cogs_qty_b2b_30d,\n",
    "                IFNULL(b.sale_amount,0) sale_amount,\n",
    "                IFNULL(b.tax_amount,0) tax_amount,\n",
    "                IFNULL(b.sale_qty,0) sale_qty,\n",
    "                IFNULL(d.po_qty,0) po_qty,\n",
    "                IFNULL(d.gr_qty,0) gr_qty\n",
    "            FROM (\n",
    "                SELECT * \n",
    "                FROM {catalog_name}.udp_wcm_gold_vcm_dwh.f_inventory\n",
    "                WHERE calday >= {START_DATE} AND calday <= {END_DATE} AND calday <= CURRENT_DATE()\n",
    "            ) a\n",
    "            FULL JOIN (\n",
    "                SELECT calday, store_id, product_id, SUM(sale_amount) sale_amount, SUM(tax_amount) tax_amount, SUM(sale_qty) sale_qty\n",
    "                FROM {catalog_name}.udp_wcm_gold_vcm_dwh.f_transaction_line\n",
    "                WHERE calday >= {START_DATE} AND calday <= {END_DATE} AND calday <= CURRENT_DATE()\n",
    "                GROUP BY calday, store_id, product_id\n",
    "            ) b ON \n",
    "                a.calday = b.calday \n",
    "                AND a.store_id = b.store_id \n",
    "                AND a.product_id = b.product_id\n",
    "            FULL JOIN (\n",
    "                SELECT * \n",
    "                FROM {catalog_name}.udp_wcm_gold_vcm_dwh.f_cogs_90d\n",
    "                WHERE calday >= {START_DATE} AND calday <= {END_DATE} AND calday <= CURRENT_DATE()\n",
    "            ) c ON \n",
    "                a.calday = c.calday \n",
    "                AND a.store_id = c.store_id \n",
    "                AND a.product_id = c.product_id\n",
    "            FULL JOIN (\n",
    "                SELECT calday, store_id, product_id, SUM(po_qty) po_qty, SUM(gr_qty) gr_qty\n",
    "                FROM {catalog_name}.udp_wcm_gold_vcm_dwh.f_po_item\n",
    "                WHERE calday >= {START_DATE} AND calday <= {END_DATE} AND calday <= CURRENT_DATE()\n",
    "                GROUP BY calday, store_id, product_id\n",
    "            ) d ON \n",
    "                a.calday = d.calday \n",
    "                AND a.store_id = d.store_id \n",
    "                AND a.product_id = d.product_id\n",
    "        ),\n",
    "        TEMP AS (\n",
    "            SELECT \n",
    "                a.calday,\n",
    "                a.product_id,\n",
    "                a.store_id,\n",
    "                SUM(a.closing_stock_quantity) closing_stock_quantity,\n",
    "                SUM(a.closing_stock_value) closing_stock_value, \n",
    "                SUM(a.cogs_90d) cogs_90d,\n",
    "                SUM(a.cogs_b2b_90d) cogs_b2b_90d,\n",
    "                SUM(a.cogs_qty_90d) cogs_qty_90d,\n",
    "                SUM(a.cogs_qty_b2b_90d) cogs_qty_b2b_90d,\n",
    "                SUM(a.cogs_30d) cogs_30d,\n",
    "                SUM(a.cogs_b2b_30d) cogs_b2b_30d,\n",
    "                SUM(a.cogs_qty_30d) cogs_qty_30d,\n",
    "                SUM(a.cogs_qty_b2b_30d) cogs_qty_b2b_30d,\n",
    "                SUM(a.sale_amount) sale_amount,\n",
    "                SUM(a.tax_amount) tax_amount,\n",
    "                SUM(a.sale_qty) sale_qty,\n",
    "                SUM(a.po_qty) po_qty,\n",
    "                SUM(a.gr_qty) gr_qty\n",
    "            FROM TEMP_0 a\n",
    "            GROUP BY 1,2,3\n",
    "        ),\n",
    "        MAIN AS (\n",
    "            SELECT \n",
    "                FARM_FINGERPRINT(CONCAT(\n",
    "                    IFNULL(CAST(a.calday AS STRING), \"\"), \n",
    "                    IFNULL(CAST(a.store_id AS STRING), \"\"), \n",
    "                    IFNULL(CAST(a.product_id AS STRING), \"\")\n",
    "                )) hash_id,\n",
    "                a.calday date_gen,\n",
    "                a.calday calday,\n",
    "                a.store_id store_id,        \n",
    "                a.product_id product_id,\n",
    "                a.vendor_id,\n",
    "                a.asst,\n",
    "                a.order_method,\n",
    "                a.delivery_method,\n",
    "                a.dr_asst,\n",
    "                a.note_asst,\n",
    "                a.cluster,\n",
    "                a.dr_type,    \n",
    "                a.dio_type,    \n",
    "                a.material_type,\n",
    "                CASE \n",
    "                    WHEN a.min_stock > 0 THEN 1\n",
    "                    WHEN a.min_stock = 0 THEN 0\n",
    "                    ELSE NULL\n",
    "                END min_stock_type,\n",
    "                a.issue_sku,            \n",
    "                a.dr,\n",
    "                a.dr_promotion,\n",
    "                CASE \n",
    "                WHEN dr_promotion = 1 THEN 'Đã Phủ'\n",
    "                WHEN dr_promotion = 0 THEN \n",
    "                    CASE \n",
    "                        WHEN gr_qty > 0 AND po_qty = 0 THEN 'Chưa phủ, chưa đặt hàng'\n",
    "                        WHEN gr_qty > 0 AND po_qty > 0 THEN 'Chưa phủ, đang chờ giao'\n",
    "                        WHEN gr_qty > 0 THEN 'Chưa phủ, CH đã bán hết'\n",
    "                    END\n",
    "                END dr_promotion_stt,\n",
    "                IFNULL(a.min_stock,0) min_stock,\n",
    "                IFNULL(a.closing_stock_quantity,0) closing_stock_quantity,\n",
    "                IFNULL(a.closing_stock_value,0) closing_stock_value,\n",
    "                IFNULL(a.sale_amount,0) sale_amount,\n",
    "                IFNULL(a.tax_amount,0) tax_amount,\n",
    "                IFNULL(a.sale_qty,0) sale_qty,\n",
    "                IFNULL(a.cogs_90d,0) cogs_90d,\n",
    "                IFNULL(a.cogs_b2b_90d,0) cogs_b2b_90d,\n",
    "                IFNULL(a.cogs_qty_90d,0) sale_qty_90d,\n",
    "                IFNULL(a.cogs_qty_b2b_90d,0) sale_qty_b2b_90d,\n",
    "                IFNULL(a.cogs_30d,0) cogs_30d,\n",
    "                IFNULL(a.cogs_b2b_30d,0) cogs_b2b_30d,\n",
    "                IFNULL(a.cogs_qty_30d,0) sale_qty_30d,\n",
    "                IFNULL(a.cogs_qty_b2b_30d,0) sale_qty_b2b_30d,\n",
    "                IFNULL(a.po_qty,0) po_qty,\n",
    "                IFNULL(a.gr_qty,0) gr_qty,\n",
    "                ROW_NUMBER() OVER (PARTITION BY a.calday, a.store_id, a.product_id ORDER BY 1) rn\n",
    "            FROM (\n",
    "            SELECT\n",
    "                i.calday,\n",
    "                i.store_id,\n",
    "                i.product_id,\n",
    "                i.closing_stock_quantity,\n",
    "                i.closing_stock_value,\n",
    "                i.cogs_90d,\n",
    "                i.cogs_b2b_90d,\n",
    "                i.cogs_qty_90d,\n",
    "                i.cogs_qty_b2b_90d,\n",
    "                i.cogs_30d,\n",
    "                i.cogs_b2b_30d,\n",
    "                i.cogs_qty_30d,\n",
    "                i.cogs_qty_b2b_30d,\n",
    "                i.sale_amount,\n",
    "                i.tax_amount,\n",
    "                i.sale_qty,\n",
    "                i.po_qty,\n",
    "                i.gr_qty,\n",
    "                a.asst,\n",
    "                \n",
    "                CASE \n",
    "                    WHEN ds.business_unit = '2000' THEN a.order_method\n",
    "                    WHEN ds.business_unit = '1500' THEN\n",
    "                        CASE \n",
    "                            WHEN ord.product_id IS NOT NULL THEN 'Eton' \n",
    "                            ELSE 'VCM' \n",
    "                        END\n",
    "                END order_method,\n",
    "                CASE \n",
    "                    WHEN ds.business_unit = '2000' THEN a.delivery_method\n",
    "                    WHEN ds.business_unit = '1500' THEN\n",
    "                        CASE \n",
    "                            WHEN ord.product_id IS NOT NULL THEN 'Giao DC' \n",
    "                            ELSE 'Giao TT' \n",
    "                        END\n",
    "                END delivery_method,    \n",
    "\n",
    "                das.dr dr_asst,\n",
    "                das.note note_asst,\n",
    "                dpv.vendor_id,\n",
    "                cltvm.cluster,\n",
    "                a.min_stock,\n",
    "                CASE\n",
    "                    WHEN ds.business_unit = '1500' THEN \n",
    "                        CASE\n",
    "                            WHEN vmss.product_id IS NOT NULL THEN 'Meat Deli'\n",
    "                            WHEN vmss.product_id IS NULL AND dp.mch2_id = '101' THEN 'Fresh'\n",
    "                            ELSE 'Ambient'\n",
    "                        END\n",
    "                    WHEN ds.business_unit = '2000' THEN \n",
    "                        CASE \n",
    "                            WHEN vmpds.store_id IS NOT NULL AND vmpds.value > 0 THEN 'Meat Deli'\n",
    "                            WHEN vmpds.store_id IS NULL AND dp.mch2_id = '101' THEN 'Fresh'\n",
    "                            ELSE 'Ambient'\n",
    "                        END\n",
    "                    ELSE 'Ambient' \n",
    "                END material_type, \n",
    "                CASE\n",
    "                WHEN act_asm.product_id IS NOT NULL THEN -- Active ASM\n",
    "                    CASE\n",
    "                    \n",
    "                    WHEN dp.mch2_id = '101' AND ds.business_unit = '1500' THEN IF(i.closing_stock_quantity > 0 OR i.sale_amount > 0,1,0)\n",
    "                    WHEN ds.business_unit = '2000' THEN\n",
    "                        CASE\n",
    "                        WHEN \n",
    "                            /*05 May 22: Tinh phu cho ca san pham Issue, cho phep filter tren bao cao\n",
    "                            ISSUE_ASM.PRODUCT_ID IS NULL AND ISSUE_ALL.PRODUCT_ID IS NULL -- Issue SKU */\n",
    "                            a.min_stock > 0 AND (a.day_of_sale_vmp IS NOT NULL OR i.calday >= '2024-03-19') --Từ ngày 19/03/2024 thì lấy theo logic A.MIN_STOCK > 0\n",
    "                        THEN 1\n",
    "                        ELSE 0\n",
    "                        END\n",
    "                    WHEN ds.business_unit = '1500' THEN\n",
    "                        CASE WHEN \n",
    "                                DATE_DIFF(i.calday, vm_bg.start_date) >= 14\n",
    "                                AND cltvm.cluster IN ('A', 'A+', 'B', 'Core') \n",
    "                                AND ex_sku.product_id IS NULL -- Khong nam trong Exclude\n",
    "                                AND dp.mch2_id IN ('102','201','202','203')\n",
    "                            THEN 1\n",
    "                            ELSE 0\n",
    "                        END\n",
    "                    END\n",
    "                ELSE\n",
    "                    0\n",
    "                END dr_type,\n",
    "                CASE \n",
    "                    WHEN dp.mch4_id = '1010104' THEN 0\n",
    "                    WHEN ds.business_unit = '1500' THEN\n",
    "                        CASE\n",
    "                            WHEN dp.mch2_id IN ('101', '102','201','202','203') THEN 1\n",
    "                            ELSE 0\n",
    "                        END\n",
    "                    ELSE 1\n",
    "                END dio_type,\n",
    "                CASE\n",
    "                    \n",
    "                    WHEN ds.business_unit = '2000' THEN\n",
    "                        IF(\n",
    "                            i.calday < '2024-03-19',    -- Trước 19/03/2024 lấy logic cũ\n",
    "                            CASE                        -- Logic cũ\n",
    "                                WHEN cr.product_id IS NOT NULL THEN\n",
    "                                    CASE\n",
    "                                        WHEN i.closing_stock_quantity >= 4  THEN 1\n",
    "                                    ELSE 0\n",
    "                                    END\n",
    "                                ELSE\n",
    "                                    CASE\n",
    "                                        WHEN i.closing_stock_quantity >= 4 and cltvm.cluster IN ('A+','A','Core')  THEN 1\n",
    "                                        WHEN i.closing_stock_quantity >= 2 and cltvm.cluster = 'B' THEN 1\n",
    "                                        WHEN i.closing_stock_quantity >= 1 and (cltvm.cluster in ('C','D','E') OR cltvm.cluster IS NULL) THEN 1\n",
    "                                    ELSE 0\n",
    "                                    END\n",
    "                            END,\n",
    "                            CASE                        -- Logic mới\n",
    "                                WHEN i.closing_stock_quantity >= a.min_stock\n",
    "                                THEN 1\n",
    "                                ELSE 0\n",
    "                            END\n",
    "                        )\n",
    "                    WHEN ds.business_unit = '1500' THEN\n",
    "                        CASE\n",
    "                            WHEN i.closing_stock_quantity > 0 THEN \n",
    "                                CASE \n",
    "                                    WHEN a.min_stock IS NULL OR a.min_stock <=0 THEN 1\n",
    "                                ELSE\n",
    "                                    CASE \n",
    "                                        WHEN i.closing_stock_quantity >= a.min_stock THEN 1\n",
    "                                        ELSE 0\n",
    "                                    END\n",
    "                                END\n",
    "                            ELSE 0    \n",
    "                        END\n",
    "                    ELSE NULL\n",
    "                END dr,\n",
    "                CASE WHEN promo.ma_dat_hang IS NOT NULL THEN\n",
    "                        CASE WHEN business_unit = '1500' THEN\n",
    "                                CASE\n",
    "                                    WHEN vmss.product_id IS NULL AND dp.mch2_id = '101' --'Fresh'\n",
    "                                        AND i.closing_stock_quantity > 0 OR i.sale_qty > 0 \n",
    "                                        THEN 1 \n",
    "                                    WHEN vmss.product_id IS NULL --'Ambient'\n",
    "                                        AND i.closing_stock_quantity > 0\n",
    "                                        THEN 1\n",
    "                                END\n",
    "                            WHEN ds.business_unit = '2000' THEN \n",
    "                                CASE \n",
    "                                    WHEN vmpds.store_id IS NULL AND dp.mch2_id = '101' --'Fresh'\n",
    "                                        AND i.closing_stock_quantity > 0 OR i.sale_qty > 0 \n",
    "                                        THEN 1\n",
    "                                    WHEN vmpds.store_id IS NULL --'Ambient'\n",
    "                                        AND i.closing_stock_quantity > 0\n",
    "                                        THEN 1\n",
    "                                END\n",
    "                            ELSE 0\n",
    "                        END\n",
    "                    ELSE NULL\n",
    "                END dr_promotion,\n",
    "                CASE \n",
    "                    WHEN (issue_asm.product_id IS NOT NULL OR issue_all.product_id IS NOT NULL) THEN 1\n",
    "                    ELSE 0\n",
    "                END issue_sku\n",
    "            FROM TEMP i\n",
    "        \n",
    "            LEFT JOIN (\n",
    "                SELECT \n",
    "                    store_id, article, asst, \n",
    "                    order_method, delivery_method, min_stock, source,\n",
    "                    start_date, end_date, \n",
    "                    --DAY_OF_SALE DAY_OF_SALE_VMP\n",
    "                    last_period day_of_sale_vmp\n",
    "                    FROM {catalog_name}.udp_wcm_gold_vcm_dwh.d_min_stock  \n",
    "                    WHERE end_date >= {START_DATE}\n",
    "            ) a ON \n",
    "                    i.store_id = a.store_id    \n",
    "                    AND i.product_id = a.article \n",
    "                    AND a.start_date <= i.calday \n",
    "                    AND a.end_date >= i.calday\n",
    "\n",
    "            LEFT JOIN (\n",
    "                SELECT \n",
    "                    product_id, asst, store_id, dr, note,\n",
    "                    day_of_sale day_of_sale_vm,\n",
    "                    start_date, end_date\n",
    "                    from {catalog_name}.udp_wcm_gold_vcm_dwh.d_assortment\n",
    "                    WHERE asst IS NOT NULL AND end_date >= {START_DATE}\n",
    "            ) das ON \n",
    "                    i.product_id = das.product_id \n",
    "                    AND a.asst = das.asst \n",
    "                    AND i.store_id = das.store_id    \n",
    "                    AND das.start_date <= i.calday \n",
    "                    AND das.end_date >= i.calday\n",
    "            \n",
    "            \n",
    "            LEFT JOIN ASM_BIWEEKLY AS act_asm\n",
    "                ON i.product_id = act_asm.product_id \n",
    "                AND i.store_id = act_asm.store_id\n",
    "                AND i.calday <= act_asm.to_calday\n",
    "                AND i.calday >= act_asm.calday\n",
    "            LEFT JOIN (\n",
    "                SELECT \n",
    "                    product_id, store_id,\n",
    "                    MIN(start_date) AS start_date\n",
    "                    from {catalog_name}.udp_wcm_gold_vcm_dwh.d_assortment_scd\n",
    "                    GROUP BY 1,2 \n",
    "                ) vm_bg\n",
    "                ON i.product_id = vm_bg.product_id \n",
    "                AND i.store_id = vm_bg.store_id\n",
    "\n",
    "            LEFT JOIN (\n",
    "                SELECT \n",
    "                    store_id, region_domain, business_unit, city, mien,\n",
    "                    (CASE \n",
    "                        WHEN reporting_region = \"01\" THEN \"North\"\n",
    "                        WHEN reporting_region = '02' THEN \"South\"\n",
    "                        WHEN reporting_region = '03' THEN \"Central\"\n",
    "                        WHEN reporting_region = '04' THEN \"West\"\n",
    "                        ELSE NULL \n",
    "                    END) region\n",
    "                    from {catalog_name}.udp_wcm_gold_vcm_dwh.d_store\n",
    "            ) ds ON \n",
    "                    i.store_id = ds.store_id\n",
    "\n",
    "            LEFT JOIN (\n",
    "                SELECT \n",
    "                    product_id, mch2_id, mch4_id\n",
    "                    from {catalog_name}.udp_wcm_gold_vcm_dwh.d_product\n",
    "            ) dp ON \n",
    "                    i.product_id = dp.product_id\n",
    "\n",
    "            LEFT JOIN (\n",
    "                SELECT \n",
    "                    store_id, product_id, cluster, start_date, end_date\n",
    "                    FROM {catalog_name}.udp_wcm_gold_vcm_dwh.d_assortment_cluster WHERE end_date >= {START_DATE}\n",
    "            ) CLTVM ON \n",
    "                    i.store_id = CLTVM.store_id\n",
    "                    AND i.product_id = CLTVM.product_id\n",
    "                    AND CLTVM.start_date <= i.calday \n",
    "                    AND CLTVM.end_date >= i.calday\n",
    "\n",
    "            LEFT JOIN (\n",
    "                SELECT \n",
    "                    product_id, start_date, end_date\n",
    "                    from {catalog_name}.udp_wcm_gold_vcm_dwh.d_corerange where end_date >= {START_DATE}\n",
    "            ) CR ON \n",
    "                    i.product_id = CR.product_id\n",
    "                    AND CR.start_date <= i.calday \n",
    "                    AND CR.end_date >= i.calday\n",
    "\n",
    "            LEFT JOIN (\n",
    "                SELECT \n",
    "                    city, product_id, asst, IFNULL(`from`,'1900-01-01') from_date, IFNULL(`to`,'2400-12-31') AS to_date, start_date, end_date \n",
    "                    FROM {catalog_name}.udp_wcm_gold_vcm_dwh.d_issue_sku\n",
    "                    WHERE asst IS NOT NULL AND END_DATE >= {START_DATE}\n",
    "            ) ISSUE_ASM ON \n",
    "                    i.product_id = ISSUE_ASM.product_id \n",
    "                    AND ds.city = ISSUE_ASM.city\n",
    "                    AND a.asst = ISSUE_ASM.asst  \n",
    "                    AND ISSUE_ASM.start_date <= i.calday \n",
    "                    AND ISSUE_ASM.end_date >= i.calday\n",
    "                    AND ISSUE_ASM.from_date <= i.calday\n",
    "                    AND ISSUE_ASM.to_date >= i.calday\n",
    "                    \n",
    "            LEFT JOIN (\n",
    "                SELECT \n",
    "                    city, product_id, asst, IFNULL(`from`,'1900-01-01') from_date, IFNULL(`to`,'2400-12-31') AS to_date, start_date, end_date \n",
    "                    FROM {catalog_name}.udp_wcm_gold_vcm_dwh.d_issue_sku\n",
    "                    WHERE asst IS NULL AND END_DATE >= {START_DATE}\n",
    "            ) ISSUE_ALL ON \n",
    "                    i.product_id = ISSUE_ALL.product_id \n",
    "                    AND ds.city = ISSUE_ALL.city\n",
    "                    AND ISSUE_ALL.start_date <= i.calday \n",
    "                    AND ISSUE_ALL.end_date >= i.calday\n",
    "                    AND ISSUE_ALL.from_date <= i.calday \n",
    "                    AND ISSUE_ALL.to_date >= i.calday\n",
    "\n",
    "            LEFT JOIN (\n",
    "                SELECT \n",
    "                    product_id, store_id, start_date, end_date\n",
    "                    from {catalog_name}.udp_wcm_gold_vcm_dwh.d_exclude_dr \n",
    "                    where end_date >= {START_DATE}\n",
    "            ) EX_SKU ON \n",
    "                    i.product_id = EX_SKU.product_id \n",
    "                    AND i.store_id = EX_SKU.store_id \n",
    "                    AND EX_SKU.start_date <= i.calday \n",
    "                    AND EX_SKU.end_date >= i.calday \n",
    "\n",
    "            LEFT JOIN (\n",
    "                SELECT \n",
    "                    product_id, store_id, vendor_id, start_date, end_date\n",
    "                    from {catalog_name}.udp_wcm_gold_vcm_dwh.d_product_vendor\n",
    "            ) DPV ON \n",
    "                    i.product_id = DPV.product_id \n",
    "                    AND i.store_id = DPV.store_id \n",
    "                    AND DPV.start_date <= i.calday \n",
    "                    AND DPV.end_date >= i.calday\n",
    "            \n",
    "            LEFT JOIN (\n",
    "                SELECT \n",
    "                    product_id, store_id, order_method, start_date, end_date\n",
    "                    FROM {catalog_name}.udp_wcm_gold_vcm_dwh.d_order_method\n",
    "                    WHERE END_DATE >= {START_DATE}\n",
    "            ) ORD ON \n",
    "                    i.product_id = ORD.product_id \n",
    "                    AND i.store_id = ORD.store_id \n",
    "                    AND ORD.start_date <= i.calday \n",
    "                    AND ORD.end_date >= i.calday\n",
    "            \n",
    "        \n",
    "            LEFT JOIN {catalog_name}.udp_wcm_gold_vcm_dwh.d_vm_meat_deli_store_sku vmss ON vmss.product_id = i.product_id AND vmss.store_id = i.store_id\n",
    "            LEFT JOIN {catalog_name}.udp_wcm_gold_vcm_dwh.d_vmp_meat_deli_store_sku vmpds ON vmpds.product_id = i.product_id AND vmpds.store_id = i.store_id\n",
    "            left join (select mien, ma_dat_hang from {catalog_name}.udp_wcm_gold_vcm_dwh.d_vm_vmp_promotion) promo on i.product_id = promo.ma_dat_hang and ds.mien = promo.mien\n",
    "            ) a\n",
    "        )\n",
    "        SELECT * EXCEPT(rn) FROM MAIN WHERE rn = 1; \n",
    "        \n",
    "\n",
    "            \"\"\")"
   ]
  },
  {
   "cell_type": "code",
   "execution_count": 0,
   "metadata": {
    "application/vnd.databricks.v1+cell": {
     "cellMetadata": {
      "byteLimit": 2048000,
      "rowLimit": 10000
     },
     "inputWidgets": {},
     "nuid": "e761f894-7181-4076-b1c3-170f89cc9e6e",
     "showTitle": false,
     "tableResultSettingsMap": {},
     "title": ""
    }
   },
   "outputs": [],
   "source": [
    "if CALDAY_IN_STR != \"\":\n",
    "    # Get the calday list string from temp table\n",
    "    calday_query = f\"\"\"\n",
    "    SELECT\n",
    "        CONCAT(\"'\", CONCAT_WS(\"','\", COLLECT_SET(CAST(TO_DATE(calday, 'yyyy-MM-dd') AS STRING))), \"'\") AS calday_in_str\n",
    "    FROM temp_{target_table}\n",
    "    \"\"\"\n",
    "\n",
    "    calday_df = spark.sql(calday_query)\n",
    "    calday_in_str = calday_df.collect()[0][0]\n",
    "\n",
    "    # Only run DELETE if the string is non-empty\n",
    "    if calday_in_str.strip(\"'\"):  # checks if there's any date inside the quotes\n",
    "        spark.sql(\n",
    "            f\"\"\"\n",
    "        DELETE FROM {catalog_name}.udp_wcm_gold_vcm_dwh.f_dr_dio_rawdata\n",
    "        WHERE date_gen IN ({calday_in_str})\n",
    "        \"\"\"\n",
    "        ).display()\n",
    "    else:\n",
    "        print(\"no valid calday's found to delete.\")\n",
    "else:\n",
    "    print(\n",
    "        f\"temp_{target_table} could't be created as no valid calday's found In common-etl so {catalog_name}.udp_wcm_gold_vcm_dwh.f_dispatch_po can't be deleted using calday's from temp_a_billcnt_store\"\n",
    "    )"
   ]
  },
  {
   "cell_type": "code",
   "execution_count": 0,
   "metadata": {
    "application/vnd.databricks.v1+cell": {
     "cellMetadata": {
      "byteLimit": 2048000,
      "rowLimit": 10000
     },
     "inputWidgets": {},
     "nuid": "e3c60b5c-6b52-4242-aed4-82427bd45b0f",
     "showTitle": false,
     "tableResultSettingsMap": {},
     "title": ""
    }
   },
   "outputs": [],
   "source": [
    "if CALDAY_IN_STR != \"\":\n",
    "    # Insert rows from temp table into main table\n",
    "    INSERT_ROW = \", \".join(\n",
    "        spark.table(f\"{catalog_name}.udp_wcm_gold_vcm_dwh.f_dr_dio_rawdata\").columns\n",
    "    )\n",
    "    spark.sql(\n",
    "        f\"\"\"\n",
    "        INSERT INTO {catalog_name}.udp_wcm_gold_vcm_dwh.f_dr_dio_rawdata ({INSERT_ROW})\n",
    "        SELECT {INSERT_ROW} FROM temp_{target_table}\n",
    "    \"\"\"\n",
    "    ).display()\n",
    "else:\n",
    "    print(\n",
    "        f\"temp_{target_table} could't be created as no valid calday's found In common-etl so {catalog_name}.udp_wcm_gold_vcm_dwh.f_dispatch_po can't be inserted using calday's from temp_{target_table}\"\n",
    "    )"
   ]
  },
  {
   "cell_type": "code",
   "execution_count": 0,
   "metadata": {
    "application/vnd.databricks.v1+cell": {
     "cellMetadata": {
      "byteLimit": 2048000,
      "rowLimit": 10000
     },
     "inputWidgets": {},
     "nuid": "e041d4fe-6479-47cb-92da-db1832947dc0",
     "showTitle": false,
     "tableResultSettingsMap": {},
     "title": ""
    }
   },
   "outputs": [],
   "source": [
    "spark.sql(f\"\"\"DROP VIEW IF EXISTS temp_{target_table}\"\"\")"
   ]
  }
 ],
 "metadata": {
  "application/vnd.databricks.v1+notebook": {
   "computePreferences": null,
   "dashboards": [],
   "environmentMetadata": {
    "base_environment": "",
    "environment_version": "2"
   },
   "inputWidgetPreferences": null,
   "language": "python",
   "notebookMetadata": {
    "mostRecentlyExecutedCommandWithImplicitDF": {
     "commandId": 6403329334306867,
     "dataframes": [
      "_sqldf"
     ]
    },
    "pythonIndentUnit": 4
   },
   "notebookName": "f_dr_dio_rawdata",
   "widgets": {
    "catalog_name": {
     "currentValue": "udp_wcm_dev",
     "nuid": "3fc71920-c9dc-4f13-bb1a-6272dc1cc223",
     "typedWidgetInfo": {
      "autoCreated": false,
      "defaultValue": "udp_wcm_dev",
      "label": null,
      "name": "catalog_name",
      "options": {
       "widgetDisplayType": "Text",
       "validationRegex": null
      },
      "parameterDataType": "String"
     },
     "widgetInfo": {
      "widgetType": "text",
      "defaultValue": "udp_wcm_dev",
      "label": null,
      "name": "catalog_name",
      "options": {
       "widgetType": "text",
       "autoCreated": null,
       "validationRegex": null
      }
     }
    },
    "dependency_table": {
     "currentValue": "VCM_DWH_PRD.F_INVENTORY, VCM_DWH_PRD.F_COGS_90D, VCM_DWH_PRD.F_TRANSACTION_LINE",
     "nuid": "98009403-99b1-426f-965a-1f6cbb7ff33d",
     "typedWidgetInfo": {
      "autoCreated": false,
      "defaultValue": "VCM_DWH_PRD.F_INVENTORY, VCM_DWH_PRD.F_COGS_90D, VCM_DWH_PRD.F_TRANSACTION_LINE",
      "label": null,
      "name": "dependency_table",
      "options": {
       "widgetDisplayType": "Text",
       "validationRegex": null
      },
      "parameterDataType": "String"
     },
     "widgetInfo": {
      "widgetType": "text",
      "defaultValue": "VCM_DWH_PRD.F_INVENTORY, VCM_DWH_PRD.F_COGS_90D, VCM_DWH_PRD.F_TRANSACTION_LINE",
      "label": null,
      "name": "dependency_table",
      "options": {
       "widgetType": "text",
       "autoCreated": null,
       "validationRegex": null
      }
     }
    },
    "environment": {
     "currentValue": "DEV",
     "nuid": "2a362bc6-9ba3-4fa1-87e8-46a15fc6a045",
     "typedWidgetInfo": {
      "autoCreated": false,
      "defaultValue": "DEV",
      "label": null,
      "name": "environment",
      "options": {
       "widgetDisplayType": "Text",
       "validationRegex": null
      },
      "parameterDataType": "String"
     },
     "widgetInfo": {
      "widgetType": "text",
      "defaultValue": "DEV",
      "label": null,
      "name": "environment",
      "options": {
       "widgetType": "text",
       "autoCreated": null,
       "validationRegex": null
      }
     }
    },
    "field_calday": {
     "currentValue": "CALDAY",
     "nuid": "8ef64490-ed4b-4c8d-b822-149907a77318",
     "typedWidgetInfo": {
      "autoCreated": false,
      "defaultValue": "CALDAY",
      "label": null,
      "name": "field_calday",
      "options": {
       "widgetDisplayType": "Text",
       "validationRegex": null
      },
      "parameterDataType": "String"
     },
     "widgetInfo": {
      "widgetType": "text",
      "defaultValue": "CALDAY",
      "label": null,
      "name": "field_calday",
      "options": {
       "widgetType": "text",
       "autoCreated": null,
       "validationRegex": null
      }
     }
    },
    "field_id": {
     "currentValue": "HASH_ID",
     "nuid": "aee5e93f-9c73-42ef-83a3-5dc809b35596",
     "typedWidgetInfo": {
      "autoCreated": false,
      "defaultValue": "HASH_ID",
      "label": null,
      "name": "field_id",
      "options": {
       "widgetDisplayType": "Text",
       "validationRegex": null
      },
      "parameterDataType": "String"
     },
     "widgetInfo": {
      "widgetType": "text",
      "defaultValue": "HASH_ID",
      "label": null,
      "name": "field_id",
      "options": {
       "widgetType": "text",
       "autoCreated": null,
       "validationRegex": null
      }
     }
    },
    "metadata_schema": {
     "currentValue": "udp_wcm_metadata_dev",
     "nuid": "132c3392-ee2a-418b-bdf6-d3780e1d6d9a",
     "typedWidgetInfo": {
      "autoCreated": false,
      "defaultValue": "udp_wcm_metadata_dev",
      "label": null,
      "name": "metadata_schema",
      "options": {
       "widgetDisplayType": "Text",
       "validationRegex": null
      },
      "parameterDataType": "String"
     },
     "widgetInfo": {
      "widgetType": "text",
      "defaultValue": "udp_wcm_metadata_dev",
      "label": null,
      "name": "metadata_schema",
      "options": {
       "widgetType": "text",
       "autoCreated": null,
       "validationRegex": null
      }
     }
    },
    "proc_date": {
     "currentValue": "2025-07-19",
     "nuid": "7f39b516-672f-46a2-aa3b-ad42c7a27b5a",
     "typedWidgetInfo": {
      "autoCreated": false,
      "defaultValue": "",
      "label": "",
      "name": "proc_date",
      "options": {
       "widgetDisplayType": "Text",
       "validationRegex": null
      },
      "parameterDataType": "String"
     },
     "widgetInfo": {
      "widgetType": "text",
      "defaultValue": "",
      "label": "",
      "name": "proc_date",
      "options": {
       "widgetType": "text",
       "autoCreated": null,
       "validationRegex": null
      }
     }
    },
    "target_dataset": {
     "currentValue": "VCM_DWH_PRD",
     "nuid": "6ca49f2c-eeb9-4b12-984f-59fdcde92e05",
     "typedWidgetInfo": {
      "autoCreated": false,
      "defaultValue": "VCM_DWH_PRD",
      "label": null,
      "name": "target_dataset",
      "options": {
       "widgetDisplayType": "Text",
       "validationRegex": null
      },
      "parameterDataType": "String"
     },
     "widgetInfo": {
      "widgetType": "text",
      "defaultValue": "VCM_DWH_PRD",
      "label": null,
      "name": "target_dataset",
      "options": {
       "widgetType": "text",
       "autoCreated": null,
       "validationRegex": null
      }
     }
    },
    "target_table": {
     "currentValue": "f_dr_dio_rawdata",
     "nuid": "c761bcf4-2bcd-4e2a-a1ad-b9a272a056ae",
     "typedWidgetInfo": {
      "autoCreated": false,
      "defaultValue": "f_dr_dio_rawdata",
      "label": null,
      "name": "target_table",
      "options": {
       "widgetDisplayType": "Text",
       "validationRegex": null
      },
      "parameterDataType": "String"
     },
     "widgetInfo": {
      "widgetType": "text",
      "defaultValue": "f_dr_dio_rawdata",
      "label": null,
      "name": "target_table",
      "options": {
       "widgetType": "text",
       "autoCreated": null,
       "validationRegex": null
      }
     }
    }
   }
  },
  "language_info": {
   "name": "python"
  }
 },
 "nbformat": 4,
 "nbformat_minor": 0
}
