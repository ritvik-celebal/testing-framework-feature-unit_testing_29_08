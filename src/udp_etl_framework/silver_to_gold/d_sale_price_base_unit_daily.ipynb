{
 "cells": [
  {
   "cell_type": "code",
   "execution_count": 0,
   "metadata": {
    "application/vnd.databricks.v1+cell": {
     "cellMetadata": {},
     "inputWidgets": {},
     "nuid": "e258971c-acef-4edc-beec-3e29df3b284f",
     "showTitle": false,
     "tableResultSettingsMap": {},
     "title": ""
    }
   },
   "outputs": [],
   "source": [
    "%run ../utils/common"
   ]
  },
  {
   "cell_type": "code",
   "execution_count": 0,
   "metadata": {
    "application/vnd.databricks.v1+cell": {
     "cellMetadata": {
      "byteLimit": 2048000,
      "rowLimit": 10000
     },
     "inputWidgets": {},
     "nuid": "d7d90cb6-e4b9-4b8f-8d6f-d855690686ff",
     "showTitle": false,
     "tableResultSettingsMap": {},
     "title": ""
    }
   },
   "outputs": [],
   "source": [
    "dbutils.widgets.text(\"environment\", \"\", \"\")\n",
    "environment = dbutils.widgets.get(\"environment\")"
   ]
  },
  {
   "cell_type": "code",
   "execution_count": 0,
   "metadata": {
    "application/vnd.databricks.v1+cell": {
     "cellMetadata": {},
     "inputWidgets": {},
     "nuid": "58d10a4a-1f71-4f01-a759-ee8407376ac2",
     "showTitle": false,
     "tableResultSettingsMap": {},
     "title": ""
    }
   },
   "outputs": [],
   "source": [
    "spark.conf.set(\"spark.sql.autoBroadcastJoinThreshold\", 314572800)"
   ]
  },
  {
   "cell_type": "code",
   "execution_count": 0,
   "metadata": {
    "application/vnd.databricks.v1+cell": {
     "cellMetadata": {
      "byteLimit": 2048000,
      "rowLimit": 10000
     },
     "inputWidgets": {},
     "nuid": "fdd32870-9b80-4dfd-9b0b-e7170536a5e9",
     "showTitle": false,
     "tableResultSettingsMap": {},
     "title": ""
    }
   },
   "outputs": [],
   "source": [
    "catalog_name = settings[environment]['catalog_name']"
   ]
  },
  {
   "cell_type": "code",
   "execution_count": 0,
   "metadata": {
    "application/vnd.databricks.v1+cell": {
     "cellMetadata": {
      "byteLimit": 2048000,
      "rowLimit": 10000
     },
     "inputWidgets": {},
     "nuid": "533ba677-6d1a-4683-9b18-c3b198c4d5e4",
     "showTitle": false,
     "tableResultSettingsMap": {},
     "title": ""
    }
   },
   "outputs": [],
   "source": [
    "spark.sql(f\"\"\"\n",
    "CREATE OR REPLACE TABLE {catalog_name}.udp_wcm_gold_vcm_dwh.d_sale_price_base_unit_daily\n",
    "CLUSTER BY (product_id)  \n",
    "TBLPROPERTIES (\n",
    "  'DELTA.AUTOOPTIMIZE.OPTIMIZEWRITE' = 'TRUE',\n",
    "  'DELTA.AUTOOPTIMIZE.AUTOCOMPACT' = 'TRUE'\n",
    ") AS\n",
    "WITH MAIN AS (\n",
    "  SELECT /*+ REPARTITION(1000), BROADCAST(b,c) */ \n",
    "    a.calday,\n",
    "    a.store_id,\n",
    "    a.product_id,\n",
    "    a.sale_unit,\n",
    "    b.numerator,\n",
    "    b.denomintr,\n",
    "    b.base_uom AS base_unit,\n",
    "    a.sale_price_type,\n",
    "    CASE\n",
    "      WHEN CAST(c.vat_code AS INT) IN (1,2,9) THEN 0\n",
    "      WHEN CAST(c.vat_code AS INT) IN (3,5) THEN 0.05\n",
    "      WHEN CAST(c.vat_code AS INT) IN (4) THEN 0.1\n",
    "      WHEN CAST(c.vat_code AS INT) IN (6) THEN 0.08\n",
    "      ELSE 0\n",
    "    END vat,\n",
    "    a.sale_price,\n",
    "    ROUND(a.sale_price * (CASE WHEN b.numerator = 0 THEN NULL ELSE b.denomintr / b.numerator END), 0) sale_price_base_unit,\n",
    "    CASE\n",
    "      WHEN a.sale_unit = b.base_uom THEN 1\n",
    "      WHEN b.numerator = b.denomintr THEN 2\n",
    "      WHEN b.unit IS NOT NULL THEN 3\n",
    "      ELSE 4\n",
    "    END priority\n",
    "  FROM\n",
    "    {catalog_name}.udp_wcm_gold_vcm_dwh.d_sale_price_store_sku_daily a\n",
    "    LEFT JOIN  {catalog_name}.udp_wcm_gold_vcm_dwh.d_product_unit b ON a.product_id = b.product_id AND a.sale_unit = b.unit\n",
    "    LEFT JOIN {catalog_name}.udp_wcm_gold_vcm_dwh.d_product c ON a.product_id = c.product_id\n",
    "  QUALIFY ROW_NUMBER() OVER (PARTITION BY calday, store_id, a.product_id ORDER BY priority, sale_price_base_unit DESC) = 1\n",
    ")\n",
    "\n",
    "SELECT\n",
    "calday, store_id, product_id, sale_unit, numerator, denomintr, base_unit, sale_price_type, vat, sale_price NUMERIC,sale_price_base_unit, CAST(ROUND(sale_price_base_unit / (1 + COALESCE(vat, 0)), 2) AS DOUBLE) AS sale_price_exc_vat, priority\n",
    "FROM MAIN;\n",
    "\"\"\")"
   ]
  }
 ],
 "metadata": {
  "application/vnd.databricks.v1+notebook": {
   "computePreferences": null,
   "dashboards": [],
   "environmentMetadata": {
    "base_environment": "",
    "environment_version": "2"
   },
   "inputWidgetPreferences": null,
   "language": "python",
   "notebookMetadata": {
    "mostRecentlyExecutedCommandWithImplicitDF": {
     "commandId": 8654508810635052,
     "dataframes": [
      "_sqldf"
     ]
    },
    "pythonIndentUnit": 4
   },
   "notebookName": "d_sale_price_base_unit_daily",
   "widgets": {}
  },
  "language_info": {
   "name": "python"
  }
 },
 "nbformat": 4,
 "nbformat_minor": 0
}
