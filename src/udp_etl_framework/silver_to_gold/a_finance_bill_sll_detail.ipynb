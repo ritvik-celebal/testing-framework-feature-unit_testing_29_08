{
 "cells": [
  {
   "cell_type": "code",
   "execution_count": 0,
   "metadata": {
    "application/vnd.databricks.v1+cell": {
     "cellMetadata": {
      "byteLimit": 2048000,
      "rowLimit": 10000
     },
     "inputWidgets": {},
     "nuid": "57c09ce9-14ad-4720-bc15-ddf987a702d8",
     "showTitle": false,
     "tableResultSettingsMap": {},
     "title": ""
    }
   },
   "outputs": [],
   "source": [
    "%run ../utils/common"
   ]
  },
  {
   "cell_type": "code",
   "execution_count": 0,
   "metadata": {
    "application/vnd.databricks.v1+cell": {
     "cellMetadata": {
      "byteLimit": 2048000,
      "rowLimit": 10000
     },
     "inputWidgets": {},
     "nuid": "960d9df5-80cf-4da7-b3b0-02d61f01372a",
     "showTitle": false,
     "tableResultSettingsMap": {},
     "title": ""
    }
   },
   "outputs": [],
   "source": [
    "dbutils.widgets.text(\"environment\", \"\", \"\")\n",
    "dbutils.widgets.text(\"target_dataset\", \"VCM_DMT_PRD\")\n",
    "dbutils.widgets.text(\"target_table\", \"a_finance_bill_sll_detail\")\n",
    "dbutils.widgets.text(\"metadata_schema\", \"udp_wcm_metadata_dev\")\n",
    "dbutils.widgets.text(\"dependency_table\",\n",
    "     \"VCM_DWH_PRD.D_PRODUCT, VCM_DWH_PRD.D_PROMOTION, VCM_DWH_PRD.D_STORE, VCM_DWH_PRD.D_WIN_MEMBERSHIP, VCM_DWH_PRD.F_COGS, VCM_DWH_PRD.F_SALE_PROD, VCM_DWH_PRD.F_SALEOUT_BILL_HEADER, VCM_STG_INF.POS_WCM_SALEOUT_PAYMENT\"\n",
    ")"
   ]
  },
  {
   "cell_type": "code",
   "execution_count": 0,
   "metadata": {
    "application/vnd.databricks.v1+cell": {
     "cellMetadata": {
      "byteLimit": 2048000,
      "rowLimit": 10000
     },
     "inputWidgets": {},
     "nuid": "034c1daf-6413-45a3-b653-f1a50b90a420",
     "showTitle": false,
     "tableResultSettingsMap": {},
     "title": ""
    }
   },
   "outputs": [],
   "source": [
    "dbutils.widgets.text(\"field_calday\", \"CALDAY\")\n",
    "dbutils.widgets.text(\"field_id\", \"HASH_ID\")"
   ]
  },
  {
   "cell_type": "code",
   "execution_count": 0,
   "metadata": {
    "application/vnd.databricks.v1+cell": {
     "cellMetadata": {
      "byteLimit": 2048000,
      "rowLimit": 10000
     },
     "inputWidgets": {},
     "nuid": "e2d95bdf-66df-497e-8f78-ef655e4a8e73",
     "showTitle": false,
     "tableResultSettingsMap": {},
     "title": ""
    }
   },
   "outputs": [],
   "source": [
    "catalog_name = settings[environment]['catalog_name']\n"
   ]
  },
  {
   "cell_type": "code",
   "execution_count": 0,
   "metadata": {
    "application/vnd.databricks.v1+cell": {
     "cellMetadata": {
      "byteLimit": 2048000,
      "rowLimit": 10000
     },
     "inputWidgets": {},
     "nuid": "c195f450-04b0-4e15-aa7e-80d33c7a706c",
     "showTitle": false,
     "tableResultSettingsMap": {},
     "title": ""
    }
   },
   "outputs": [],
   "source": [
    "environment = dbutils.widgets.get(\"environment\")\n",
    "target_dataset = dbutils.widgets.get(\"target_dataset\")\n",
    "target_table = dbutils.widgets.get(\"target_table\")\n",
    "metadata_schema = dbutils.widgets.get(\"metadata_schema\")\n",
    "dependency_table = dbutils.widgets.get(\"dependency_table\")\n",
    "dependency_table = [x.strip().upper() for x in dependency_table.split(\",\")]\n",
    "dependency_table = \"'\" + \"','\".join(dependency_table) + \"'\"\n",
    "\n",
    "print(f\"environment: {environment}\")\n",
    "print(f\"target_dataset: {target_dataset}\")\n",
    "print(f\"target_table: {target_table}\")\n",
    "print(f\"catalog_name: {catalog_name}\")\n",
    "print(f\"metadata_schema: {metadata_schema}\")\n",
    "print(f\"dependency_table: {dependency_table}\")"
   ]
  },
  {
   "cell_type": "code",
   "execution_count": 0,
   "metadata": {
    "application/vnd.databricks.v1+cell": {
     "cellMetadata": {
      "byteLimit": 2048000,
      "rowLimit": 10000
     },
     "inputWidgets": {},
     "nuid": "dc595b20-79b1-4c1c-a408-80b24fcad2df",
     "showTitle": false,
     "tableResultSettingsMap": {},
     "title": ""
    }
   },
   "outputs": [],
   "source": [
    "field_calday = dbutils.widgets.get(\"field_calday\")\n",
    "field_id = dbutils.widgets.get(\"field_id\")\n",
    "\n",
    "print(f\"field_calday: {field_calday}\")\n",
    "print(f\"field_id: {field_id}\")"
   ]
  },
  {
   "cell_type": "code",
   "execution_count": 0,
   "metadata": {
    "application/vnd.databricks.v1+cell": {
     "cellMetadata": {
      "byteLimit": 2048000,
      "rowLimit": 10000
     },
     "inputWidgets": {},
     "nuid": "350f7823-c171-4ee6-98d5-3f67603a36b9",
     "showTitle": false,
     "tableResultSettingsMap": {},
     "title": ""
    }
   },
   "outputs": [],
   "source": [
    "%run ../common/common_etl_load"
   ]
  },
  {
   "cell_type": "code",
   "execution_count": 0,
   "metadata": {
    "application/vnd.databricks.v1+cell": {
     "cellMetadata": {
      "byteLimit": 2048000,
      "rowLimit": 10000
     },
     "inputWidgets": {},
     "nuid": "429c5149-2640-40a8-ac7f-f37732317c18",
     "showTitle": false,
     "tableResultSettingsMap": {},
     "title": ""
    }
   },
   "outputs": [],
   "source": [
    "spark.sql(f\"\"\"\n",
    "CREATE  TABLE IF NOT EXISTS {catalog_name}.udp_wcm_gold_vcm_dmt.a_finance_bill_sll_detail\n",
    "(\n",
    "  dataset STRING,\n",
    "  business_unit STRING,\n",
    "  calday DATE,\n",
    "  transaction_index STRING,\n",
    "  bill_type STRING,\n",
    "  transaction_type STRING,\n",
    "  transaction_sale STRING,\n",
    "  transaction_no STRING,\n",
    "  product_id STRING,\n",
    "  product_name STRING,\n",
    "  mch2_id STRING,\n",
    "  mch2_name STRING,\n",
    "  mch3_name STRING,\n",
    "  mch4_name STRING,\n",
    "  store_id STRING,\n",
    "  store_name STRING,\n",
    "  data_line_type STRING,\n",
    "  promotion STRING,\n",
    "  payment_method STRING,\n",
    "  payment_method_description STRING,\n",
    "  tender_value FLOAT,\n",
    "  list_voucher_code STRING,\n",
    "  released_voucher_store_id BIGINT,\n",
    "  pos_number STRING,\n",
    "  so_the_vinid STRING,\n",
    "  base_unit STRING,\n",
    "  sales_unit STRING,\n",
    "  base_sale_qty FLOAT,\n",
    "  sale_qty FLOAT,\n",
    "  sale_amount FLOAT,\n",
    "  tax_amount FLOAT,\n",
    "  revenue FLOAT,\n",
    "  cogs FLOAT,\n",
    "  front_margin FLOAT,\n",
    "  frt_margin_prcnt FLOAT,\n",
    "  revenue_per_baseunit FLOAT,\n",
    "  total_prd_of_bill BIGINT,\n",
    "  total_bill_of_store_sku BIGINT,\n",
    "  vat FLOAT,\n",
    "  total_pro_excl_vat FLOAT,\n",
    "  zbbprtven FLOAT,\n",
    "  bonus_buy_id STRING,\n",
    "  wcm_promotion FLOAT,\n",
    "  online_offline STRING,\n",
    "  dautu_wcm STRING,\n",
    "  total_bill_amount FLOAT,\n",
    "  sale_mix_fresh_rextile_homeline FLOAT,\n",
    "  mbs_id STRING)\n",
    "  TBLPROPERTIES (\n",
    "  'DELTA.AUTOOPTIMIZE.OPTIMIZEWRITE' = 'TRUE',\n",
    "  'DELTA.AUTOOPTIMIZE.AUTOCOMPACT' = 'TRUE'\n",
    ")\n",
    "\"\"\")"
   ]
  },
  {
   "cell_type": "code",
   "execution_count": 0,
   "metadata": {
    "application/vnd.databricks.v1+cell": {
     "cellMetadata": {
      "byteLimit": 2048000,
      "rowLimit": 10000
     },
     "inputWidgets": {},
     "nuid": "15f9a52e-b458-4b36-8a4e-4e718bdf9c5d",
     "showTitle": false,
     "tableResultSettingsMap": {},
     "title": ""
    }
   },
   "outputs": [],
   "source": [
    "spark.sql(f\"\"\"\n",
    "CREATE OR REPLACE TEMP VIEW temp_a_finance_bill_sll_detail AS\n",
    "WITH\n",
    "  return_bill AS (\n",
    "    SELECT DISTINCT\n",
    "      a.receipt_no transaction_no,\n",
    "      a.ref_01_ref_bill\n",
    "    FROM\n",
    "      {catalog_name}.udp_wcm_gold_vcm_dwh.f_saleout_bill_header a\n",
    "      INNER JOIN (SELECT DISTINCT transaction_no FROM {catalog_name}.udp_wcm_gold_vcm_dmt.a_finance_bill_sll) b ON a.ref_01_ref_bill = LTRIM('0', b.transaction_no)\n",
    "    WHERE a.calday BETWEEN DATE(CURRENT_TIMESTAMP() + INTERVAL 7 HOURS) - 2 AND DATE(CURRENT_TIMESTAMP() + INTERVAL 7 HOURS) - 1\n",
    "  ),\n",
    "  f_sale_prod_tmp AS (\n",
    "    SELECT\n",
    "      a.hash_id, a.calday, a.base_uom, a.sales_unit, a.transaction_index, a.transaction_id, a.product_id, a.business_unit, a.store_id, a.promotion, a.transaction_no, a.transaction_type, a.time_of_day, a.sale_time, a.credit_card_id, a.payment_method, a.department, a.pos_number, a.offer, a.discount_type, a.discount_type_group, a.recordmode, a.return_qty1, a.return_qty2, a.return_value, a.promotion_qty, a.base_sale_qty, a.receipt_count, a.sale_in_cost_value, a.promotion_sale, a.sale_qty, a.sale_amount, a.promotion_sale_l, a.return_sale_l, a.discount_item_no, a.discount_value, a.tax_amount, a.tender_value, a.vinid_card_no, a.is_sll,\n",
    "      LTRIM('0',transaction_no) transaction_sale,\n",
    "      'BILL BÁN' bill_type,\n",
    "      CASE\n",
    "        WHEN (IFNULL(a.base_sale_qty, 0) <> 0 AND product_id IS NOT NULL) THEN 'SALE_LINE_ITEM'\n",
    "        WHEN IFNULL(a.tender_value, 0) <> 0 THEN 'PAYMENT'\n",
    "        WHEN discount_type = 'ZPRM' THEN 'PROMOTION'\n",
    "        WHEN discount_type IN ('ZRTA', 'ZCRT') THEN 'TAX_AMT_VIADISCOUNT'\n",
    "        ELSE 'OTHER'\n",
    "      END data_line_type\n",
    "    FROM\n",
    "      {catalog_name}.udp_wcm_gold_vcm_dwh.f_sale_prod a\n",
    "      INNER JOIN (SELECT DISTINCT transaction_no FROM {catalog_name}.udp_wcm_gold_vcm_dmt.a_finance_bill_sll WHERE dataset <> 'NA') b USING (transaction_no)\n",
    "    WHERE a.calday BETWEEN DATE(CURRENT_TIMESTAMP() + INTERVAL 7 HOURS) - 2 AND DATE(CURRENT_TIMESTAMP() + INTERVAL 7 HOURS) - 1\n",
    "    UNION ALL\n",
    "    SELECT\n",
    "       a.hash_id, a.calday, a.base_uom, a.sales_unit, a.transaction_index, a.transaction_id, a.product_id, a.business_unit, a.store_id, a.promotion, a.transaction_no, a.transaction_type, a.time_of_day, a.sale_time, a.credit_card_id, a.payment_method, a.department, a.pos_number, a.offer, a.discount_type, a.discount_type_group, a.recordmode, a.return_qty1, a.return_qty2, a.return_value, a.promotion_qty, a.base_sale_qty, a.receipt_count, a.sale_in_cost_value, a.promotion_sale, a.sale_qty, a.sale_amount, a.promotion_sale_l, a.return_sale_l, a.discount_item_no, a.discount_value, a.tax_amount, a.tender_value, a.vinid_card_no, a.is_sll,\n",
    "       b.ref_01_ref_bill transaction_sale,\n",
    "      'BILL TRẢ HÀNG' bill_type,\n",
    "      CASE\n",
    "        WHEN (IFNULL(a.base_sale_qty, 0) <> 0 AND product_id IS NOT NULL) THEN 'SALE_LINE_ITEM'\n",
    "        WHEN IFNULL(a.tender_value, 0) <> 0 THEN 'PAYMENT'\n",
    "        WHEN discount_type = 'ZPRM' THEN 'PROMOTION'\n",
    "        WHEN discount_type IN ('ZRTA', 'ZCRT') THEN 'TAX_AMT_VIADISCOUNT'\n",
    "        ELSE 'OTHER'\n",
    "      END data_line_type\n",
    "    FROM\n",
    "      {catalog_name}.udp_wcm_gold_vcm_dwh.f_sale_prod a\n",
    "      INNER JOIN return_bill b ON LTRIM('0',a.transaction_no) = b.transaction_no\n",
    "    WHERE a.calday BETWEEN DATE(CURRENT_TIMESTAMP() + INTERVAL 7 HOURS) - 2 AND DATE(CURRENT_TIMESTAMP() + INTERVAL 7 HOURS) - 1\n",
    "  ),\n",
    "  f_sale_prod AS (\n",
    "    SELECT a.* EXCEPT(tax_amount),\n",
    "           a.tax_amount - IF(a.data_line_type = 'SALE_LINE_ITEM',IFNULL(b.discount_value,0),0) tax_amount\n",
    "    FROM  (SELECT * FROM f_sale_prod_tmp WHERE data_line_type NOT IN ('OTHER','TAX_AMT_VIADISCOUNT')) a\n",
    "    LEFT JOIN\n",
    "          (SELECT\n",
    "            transaction_no,\n",
    "            product_id,\n",
    "            sales_unit,\n",
    "            SUM(discount_value) discount_value\n",
    "          FROM f_sale_prod_tmp WHERE data_line_type = 'TAX_AMT_VIADISCOUNT'\n",
    "          GROUP BY 1,2,3\n",
    "          ) b\n",
    "          USING (transaction_no,product_id,sales_unit)\n",
    "  ),\n",
    "  cogs AS (\n",
    "    SELECT\n",
    "      calday,\n",
    "      store_id,\n",
    "      product_id,\n",
    "      cogs_per_unit,\n",
    "      cost,\n",
    "      quantity\n",
    "    FROM {catalog_name}.udp_wcm_gold_vcm_dwh.f_cogs\n",
    "    WHERE calday BETWEEN DATE(CURRENT_TIMESTAMP() + INTERVAL 7 HOURS) - 2 AND DATE(CURRENT_TIMESTAMP() + INTERVAL 7 HOURS) - 1\n",
    "  ),\n",
    "  voucher_info AS (\n",
    "    SELECT\n",
    "      CONCAT('00000', receipt_no) transaction_no,\n",
    "      tender_type payment_method,\n",
    "      concat_ws(';', collect_list(ref_no)) list_voucher_code\n",
    "    FROM {catalog_name}.udp_wcm_silver_eventhub.pos_wcm_saleout_payment\n",
    "    WHERE\n",
    "      calday BETWEEN DATE(CURRENT_TIMESTAMP() + INTERVAL 7 HOURS) - 2 AND DATE(CURRENT_TIMESTAMP() + INTERVAL 7 HOURS) - 1\n",
    "      AND tender_type IN ('E-ZIVO','ZFIV','ZIVO','ZPVO','ZUFV','ZUVO','ZVIV')\n",
    "    GROUP BY 1, 2\n",
    "  ),\n",
    "  promo_tyledautu AS (\n",
    "    SELECT DISTINCT\n",
    "      bonus_buy_id,\n",
    "      store_id,\n",
    "      zbbprtven\n",
    "    FROM {catalog_name}.udp_wcm_gold_vcm_dwh.d_promotion\n",
    "    WHERE promo_end_date >= DATE(CURRENT_TIMESTAMP() + INTERVAL 7 HOURS) - 2 AND zbbprtven < 100\n",
    "  ),\n",
    "  bill_wcm_promo AS (\n",
    "    SELECT DISTINCT\n",
    "      transaction_no,\n",
    "      a.store_id,\n",
    "      bonus_buy_id,\n",
    "      zbbprtven\n",
    "    FROM\n",
    "      {catalog_name}.udp_wcm_gold_vcm_dwh.f_sale_prod a\n",
    "      INNER JOIN promo_tyledautu b ON a.promotion = b.bonus_buy_id AND a.store_id = b.store_id\n",
    "       LEFT JOIN {catalog_name}.udp_wcm_gold_vcm_dwh.d_product c ON a.product_id = c.product_id\n",
    "    WHERE\n",
    "      a.calday BETWEEN DATE(CURRENT_TIMESTAMP() + INTERVAL 7 HOURS) - 2 AND DATE(CURRENT_TIMESTAMP() + INTERVAL 7 HOURS) - 1\n",
    "      AND c.mch2_id IN ('102','202')\n",
    "      AND c.mch3_id NOT IN ('10204','10205')\n",
    "  ),\n",
    "  vat_per_sku AS (\n",
    "    SELECT DISTINCT\n",
    "      transaction_no,\n",
    "      product_id,\n",
    "      sales_unit,\n",
    "     ROUND(sum(tax_amount) / sum(sale_amount - tax_amount), 3) AS vat\n",
    "      FROM f_sale_prod\n",
    "      WHERE data_line_type = 'SALE_LINE_ITEM'\n",
    "      GROUP BY 1,2,3\n",
    "  ),\n",
    "  kdol_sale AS (\n",
    "    SELECT\n",
    "     DISTINCT LTRIM('0',transaction_no) transaction_no\n",
    "    FROM\n",
    "      {catalog_name}.udp_wcm_gold_vcm_db_online.f_sale_prod_kdol_flat_non_dichoho\n",
    "    WHERE  calday BETWEEN '2023-01-01' AND DATE(CURRENT_TIMESTAMP() + INTERVAL 7 HOURS) - 1\n",
    "  ),\n",
    "  final AS (\n",
    "    SELECT\n",
    "      IF(data_line_type <> 'SALE_LINE_ITEM','NA',IFNULL(a1.dataset,'NA')) dataset,\n",
    "      a.business_unit,\n",
    "      a.calday,\n",
    "      a.transaction_index,\n",
    "      a.bill_type,\n",
    "      a.transaction_type,\n",
    "      a.transaction_sale,\n",
    "      a.transaction_no,\n",
    "      a.product_id,\n",
    "      prd.product_name,\n",
    "      prd.mch2_id,\n",
    "      prd.mch2_desc mch2_name,\n",
    "      prd.mch3_desc mch3_name,\n",
    "      prd.mch4_desc mch4_name,\n",
    "      a.store_id,\n",
    "      st.store_name,\n",
    "      a.data_line_type,\n",
    "      a.promotion,\n",
    "      a.payment_method,\n",
    "      b.description AS payment_method_description,\n",
    "      a.tender_value,\n",
    "      v.list_voucher_code,\n",
    "      NULL released_voucher_store_id,\n",
    "      a.pos_number,\n",
    "      a.vinid_card_no so_the_vinid,\n",
    "      a.base_uom base_unit,\n",
    "      a.sales_unit,\n",
    "      a.base_sale_qty,\n",
    "      a.sale_qty,\n",
    "      a.sale_amount,\n",
    "      a.tax_amount,\n",
    "      a.sale_amount - a.tax_amount AS revenue,\n",
    "      c.cogs_per_unit * a.base_sale_qty cogs,\n",
    "      (a.sale_amount - a.tax_amount) - (c.cogs_per_unit * a.base_sale_qty) front_margin,\n",
    "     try_divide(\n",
    "    (a.sale_amount - a.tax_amount) - (c.cogs_per_unit * a.base_sale_qty),\n",
    "    a.sale_amount - a.tax_amount\n",
    ") AS frt_margin_prcnt,\n",
    "try_divide(\n",
    "    a.sale_amount - a.tax_amount,\n",
    "    a.base_sale_qty\n",
    ") AS revenue_per_baseunit,\n",
    "      a1.total_prd_of_bill,\n",
    "      a1.total_bill_of_store_sku,\n",
    "      a1.is_voucher,\n",
    "      a1.is_promo_wcm,\n",
    "      a1.is_vinid,\n",
    "      e.vat,\n",
    "      (-1) * IF(a.data_line_type = 'PROMOTION',discount_value / (1+IFNULL(e.vat,0)),0) total_pro_excl_vat,\n",
    "      d.zbbprtven, d.bonus_buy_id,\n",
    "      (-1) * IF(a.data_line_type = 'PROMOTION',discount_value / (1+IFNULL(e.vat,0)),0)*IFNULL(1-D.zbbprtven/100, 0) wcm_promotion,\n",
    "      IF(f.transaction_no IS NULL, 'OFFLINE', 'ONLINE') online_offline\n",
    "    FROM\n",
    "      f_sale_prod a\n",
    "      LEFT JOIN {catalog_name}.udp_wcm_gold_vcm_dmt.a_finance_bill_sll  a1 ON LTRIM('0',a.transaction_sale) = LTRIM('0',a1.transaction_no) AND a.product_id = a1.product_id\n",
    "      LEFT JOIN {catalog_name}.udp_wcm_gold_vcm_dwh.d_product prd ON a.product_id = prd.product_id\n",
    "      LEFT JOIN {catalog_name}.udp_wcm_gold_vcm_dwh.d_store st ON a.store_id = st.store_id\n",
    "      LEFT JOIN {catalog_name}.udp_wcm_silver_dim.payment_method b ON a.payment_method = b.payment_method\n",
    "      LEFT JOIN cogs c ON a.calday = c.calday AND a.store_id = c.store_id AND a.product_id = c.product_id\n",
    "      LEFT JOIN bill_wcm_promo d ON a.store_id = d.store_id AND a.transaction_no = d.transaction_no AND a.promotion = d.bonus_buy_id\n",
    "      LEFT JOIN voucher_info v ON a.transaction_no = v.transaction_no AND a.payment_method = v.payment_method\n",
    "      LEFT JOIN vat_per_sku e ON a.transaction_no = e.transaction_no AND a.product_id = e.product_id AND a.sales_unit = e.sales_unit\n",
    "      LEFT JOIN kdol_sale f ON LTRIM('0',a.transaction_sale) = LTRIM('0',f.transaction_no)\n",
    "    WHERE data_line_type <> 'OTHER'\n",
    "  )\n",
    "\n",
    "  SELECT\n",
    "    dataset,\n",
    "    a.* EXCEPT(is_voucher, is_vinid, is_promo_wcm,dataset),\n",
    "    CONCAT('IS_VOUCHER-', is_voucher,'; ','IS_VINID-',a.is_vinid,'; ','IS_PROMO_WCM-',is_promo_wcm) dautu_wcm,\n",
    "    SUM(sale_amount) OVER(PARTITION BY transaction_no) total_bill_amount,\n",
    "   try_divide(\n",
    "  SUM(CASE WHEN mch2_id IN ('101','201','203') THEN sale_amount ELSE 0 END)\n",
    "    OVER (PARTITION BY transaction_no),\n",
    "  SUM(sale_amount) OVER (PARTITION BY transaction_no)\n",
    ") AS sale_mix_fresh_rextile_homeline,\n",
    "    c.capilary_customer_id mbs_id\n",
    "  FROM\n",
    "    final a\n",
    "    LEFT JOIN {catalog_name}.udp_wcm_gold_vcm_dwh.f_saleout_bill_header  b ON LTRIM(a.transaction_sale) = b.receipt_no\n",
    "    LEFT JOIN {catalog_name}.udp_wcm_gold_vcm_dwh.d_win_membership c ON b.mobile_number = c.mobile_number;\n",
    "\"\"\")"
   ]
  },
  {
   "cell_type": "code",
   "execution_count": 0,
   "metadata": {
    "application/vnd.databricks.v1+cell": {
     "cellMetadata": {
      "byteLimit": 2048000,
      "rowLimit": 10000
     },
     "inputWidgets": {},
     "nuid": "30b2bb98-5002-417a-8653-b2648894cee9",
     "showTitle": false,
     "tableResultSettingsMap": {},
     "title": ""
    }
   },
   "outputs": [],
   "source": [
    "spark.sql(f\"\"\"\n",
    "DELETE FROM {catalog_name}.udp_wcm_gold_vcm_dmt.a_finance_bill_sll_detail\n",
    "WHERE calday BETWEEN DATE(CURRENT_TIMESTAMP() + INTERVAL 7 HOURS) - 2 AND DATE(CURRENT_TIMESTAMP() + INTERVAL 7 HOURS) - 1\"\"\")"
   ]
  },
  {
   "cell_type": "code",
   "execution_count": 0,
   "metadata": {
    "application/vnd.databricks.v1+cell": {
     "cellMetadata": {
      "byteLimit": 2048000,
      "rowLimit": 10000
     },
     "inputWidgets": {},
     "nuid": "1adf09c6-f4cd-42a9-9c4a-dceaa9f0f1ca",
     "showTitle": false,
     "tableResultSettingsMap": {},
     "title": ""
    }
   },
   "outputs": [],
   "source": [
    "spark.sql(f\"\"\"\n",
    "INSERT INTO {catalog_name}.udp_wcm_gold_vcm_dmt.a_finance_bill_sll_detail\n",
    "SELECT * FROM temp_a_finance_bill_sll_detail\n",
    "\"\"\")"
   ]
  },
  {
   "cell_type": "code",
   "execution_count": 0,
   "metadata": {
    "application/vnd.databricks.v1+cell": {
     "cellMetadata": {
      "byteLimit": 2048000,
      "rowLimit": 10000
     },
     "inputWidgets": {},
     "nuid": "d4196411-393a-4a6b-a826-8f0b09c19a1b",
     "showTitle": false,
     "tableResultSettingsMap": {},
     "title": ""
    }
   },
   "outputs": [],
   "source": [
    "%run \"../common/common_etl_update\""
   ]
  },
  {
   "cell_type": "code",
   "execution_count": 0,
   "metadata": {
    "application/vnd.databricks.v1+cell": {
     "cellMetadata": {
      "byteLimit": 2048000,
      "rowLimit": 10000
     },
     "inputWidgets": {},
     "nuid": "5cc6c502-669f-4b8d-9b5e-848a7b0b2960",
     "showTitle": false,
     "tableResultSettingsMap": {},
     "title": ""
    }
   },
   "outputs": [],
   "source": [
    "spark.sql(\"DROP VIEW IF EXISTS temp_a_finance_bill_sll_detail\")"
   ]
  }
 ],
 "metadata": {
  "application/vnd.databricks.v1+notebook": {
   "computePreferences": null,
   "dashboards": [],
   "environmentMetadata": {
    "base_environment": "",
    "environment_version": "2"
   },
   "inputWidgetPreferences": null,
   "language": "python",
   "notebookMetadata": {
    "mostRecentlyExecutedCommandWithImplicitDF": {
     "commandId": 6385374847150422,
     "dataframes": [
      "_sqldf"
     ]
    },
    "pythonIndentUnit": 4
   },
   "notebookName": "a_finance_bill_sll_detail",
   "widgets": {
    "dependency_table": {
     "currentValue": "VCM_DWH_PRD.D_PRODUCT, VCM_DWH_PRD.D_PROMOTION, VCM_DWH_PRD.D_STORE, VCM_DWH_PRD.D_WIN_MEMBERSHIP, VCM_DWH_PRD.F_COGS, VCM_DWH_PRD.F_SALE_PROD, VCM_DWH_PRD.F_SALEOUT_BILL_HEADER, VCM_STG_INF.POS_WCM_SALEOUT_PAYMENT",
     "nuid": "92c15718-d3c4-4d2d-9b41-0b7b1999eac3",
     "typedWidgetInfo": {
      "autoCreated": false,
      "defaultValue": "VCM_DWH_PRD.D_PRODUCT, VCM_DWH_PRD.D_PROMOTION, VCM_DWH_PRD.D_STORE, VCM_DWH_PRD.D_WIN_MEMBERSHIP, VCM_DWH_PRD.F_COGS, VCM_DWH_PRD.F_SALE_PROD, VCM_DWH_PRD.F_SALEOUT_BILL_HEADER, VCM_STG_INF.POS_WCM_SALEOUT_PAYMENT",
      "label": null,
      "name": "dependency_table",
      "options": {
       "widgetDisplayType": "Text",
       "validationRegex": null
      },
      "parameterDataType": "String"
     },
     "widgetInfo": {
      "widgetType": "text",
      "defaultValue": "VCM_DWH_PRD.D_PRODUCT, VCM_DWH_PRD.D_PROMOTION, VCM_DWH_PRD.D_STORE, VCM_DWH_PRD.D_WIN_MEMBERSHIP, VCM_DWH_PRD.F_COGS, VCM_DWH_PRD.F_SALE_PROD, VCM_DWH_PRD.F_SALEOUT_BILL_HEADER, VCM_STG_INF.POS_WCM_SALEOUT_PAYMENT",
      "label": null,
      "name": "dependency_table",
      "options": {
       "widgetType": "text",
       "autoCreated": null,
       "validationRegex": null
      }
     }
    },
    "environment": {
     "currentValue": "DEV",
     "nuid": "e6faa6f4-5dc9-4f68-8845-d27e71d1b953",
     "typedWidgetInfo": {
      "autoCreated": false,
      "defaultValue": "",
      "label": "",
      "name": "environment",
      "options": {
       "widgetDisplayType": "Text",
       "validationRegex": null
      },
      "parameterDataType": "String"
     },
     "widgetInfo": {
      "widgetType": "text",
      "defaultValue": "",
      "label": "",
      "name": "environment",
      "options": {
       "widgetType": "text",
       "autoCreated": null,
       "validationRegex": null
      }
     }
    },
    "field_calday": {
     "currentValue": "CALDAY",
     "nuid": "307de70f-e44e-423b-875f-3e586707a201",
     "typedWidgetInfo": {
      "autoCreated": false,
      "defaultValue": "CALDAY",
      "label": null,
      "name": "field_calday",
      "options": {
       "widgetDisplayType": "Text",
       "validationRegex": null
      },
      "parameterDataType": "String"
     },
     "widgetInfo": {
      "widgetType": "text",
      "defaultValue": "CALDAY",
      "label": null,
      "name": "field_calday",
      "options": {
       "widgetType": "text",
       "autoCreated": null,
       "validationRegex": null
      }
     }
    },
    "field_id": {
     "currentValue": "HASH_ID",
     "nuid": "254cbe25-a96d-4571-89c2-576cda24b63f",
     "typedWidgetInfo": {
      "autoCreated": false,
      "defaultValue": "HASH_ID",
      "label": null,
      "name": "field_id",
      "options": {
       "widgetDisplayType": "Text",
       "validationRegex": null
      },
      "parameterDataType": "String"
     },
     "widgetInfo": {
      "widgetType": "text",
      "defaultValue": "HASH_ID",
      "label": null,
      "name": "field_id",
      "options": {
       "widgetType": "text",
       "autoCreated": null,
       "validationRegex": null
      }
     }
    },
    "metadata_schema": {
     "currentValue": "udp_wcm_metadata_dev",
     "nuid": "5641d377-54c1-4f68-8d60-0f2709315c23",
     "typedWidgetInfo": {
      "autoCreated": false,
      "defaultValue": "udp_wcm_metadata_dev",
      "label": null,
      "name": "metadata_schema",
      "options": {
       "widgetDisplayType": "Text",
       "validationRegex": null
      },
      "parameterDataType": "String"
     },
     "widgetInfo": {
      "widgetType": "text",
      "defaultValue": "udp_wcm_metadata_dev",
      "label": null,
      "name": "metadata_schema",
      "options": {
       "widgetType": "text",
       "autoCreated": null,
       "validationRegex": null
      }
     }
    },
    "proc_date": {
     "currentValue": "2025-07-21",
     "nuid": "36f911ec-5cfd-4029-b8b5-feb12865f37e",
     "typedWidgetInfo": {
      "autoCreated": false,
      "defaultValue": "",
      "label": "",
      "name": "proc_date",
      "options": {
       "widgetDisplayType": "Text",
       "validationRegex": null
      },
      "parameterDataType": "String"
     },
     "widgetInfo": {
      "widgetType": "text",
      "defaultValue": "",
      "label": "",
      "name": "proc_date",
      "options": {
       "widgetType": "text",
       "autoCreated": null,
       "validationRegex": null
      }
     }
    },
    "target_dataset": {
     "currentValue": "VCM_DMT_PRD",
     "nuid": "867e4bb6-6655-4ef7-802b-b539d2ed6800",
     "typedWidgetInfo": {
      "autoCreated": false,
      "defaultValue": "VCM_DMT_PRD",
      "label": null,
      "name": "target_dataset",
      "options": {
       "widgetDisplayType": "Text",
       "validationRegex": null
      },
      "parameterDataType": "String"
     },
     "widgetInfo": {
      "widgetType": "text",
      "defaultValue": "VCM_DMT_PRD",
      "label": null,
      "name": "target_dataset",
      "options": {
       "widgetType": "text",
       "autoCreated": null,
       "validationRegex": null
      }
     }
    },
    "target_table": {
     "currentValue": "a_finance_bill_sll_detail",
     "nuid": "0f5cdd8f-dff7-4b24-8002-7ed8918b5660",
     "typedWidgetInfo": {
      "autoCreated": false,
      "defaultValue": "a_finance_bill_sll_detail",
      "label": null,
      "name": "target_table",
      "options": {
       "widgetDisplayType": "Text",
       "validationRegex": null
      },
      "parameterDataType": "String"
     },
     "widgetInfo": {
      "widgetType": "text",
      "defaultValue": "a_finance_bill_sll_detail",
      "label": null,
      "name": "target_table",
      "options": {
       "widgetType": "text",
       "autoCreated": null,
       "validationRegex": null
      }
     }
    }
   }
  },
  "language_info": {
   "name": "python"
  }
 },
 "nbformat": 4,
 "nbformat_minor": 0
}
