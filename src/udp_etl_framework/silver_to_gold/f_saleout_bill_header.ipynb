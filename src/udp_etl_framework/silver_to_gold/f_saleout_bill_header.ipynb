{
 "cells": [
  {
   "cell_type": "code",
   "execution_count": 0,
   "metadata": {
    "application/vnd.databricks.v1+cell": {
     "cellMetadata": {
      "byteLimit": 2048000,
      "rowLimit": 10000
     },
     "inputWidgets": {},
     "nuid": "10bcfb77-80f3-47bc-b092-ccb609566d76",
     "showTitle": false,
     "tableResultSettingsMap": {},
     "title": ""
    }
   },
   "outputs": [],
   "source": [
    "%run ../utils/common"
   ]
  },
  {
   "cell_type": "code",
   "execution_count": 0,
   "metadata": {
    "application/vnd.databricks.v1+cell": {
     "cellMetadata": {
      "byteLimit": 2048000,
      "rowLimit": 10000
     },
     "inputWidgets": {},
     "nuid": "d4dc6032-1c62-4298-b826-85297078f8e1",
     "showTitle": false,
     "tableResultSettingsMap": {},
     "title": ""
    }
   },
   "outputs": [],
   "source": [
    "dbutils.widgets.text(\"environment\", \"\", \"\")\n",
    "environment = dbutils.widgets.get(\"environment\")"
   ]
  },
  {
   "cell_type": "code",
   "execution_count": 0,
   "metadata": {
    "application/vnd.databricks.v1+cell": {
     "cellMetadata": {
      "byteLimit": 2048000,
      "rowLimit": 10000
     },
     "inputWidgets": {},
     "nuid": "b0177047-e4a2-4454-81d5-a7d799fd0d67",
     "showTitle": false,
     "tableResultSettingsMap": {},
     "title": ""
    }
   },
   "outputs": [],
   "source": [
    "catalog_name = settings[environment]['catalog_name']"
   ]
  },
  {
   "cell_type": "code",
   "execution_count": 0,
   "metadata": {
    "application/vnd.databricks.v1+cell": {
     "cellMetadata": {
      "byteLimit": 2048000,
      "rowLimit": 10000
     },
     "inputWidgets": {},
     "nuid": "3a9ec8a5-758d-47be-9c94-f8871faac8f6",
     "showTitle": false,
     "tableResultSettingsMap": {
      "0": {
       "dataGridStateBlob": "{\"version\":1,\"tableState\":{\"columnPinning\":{\"left\":[\"#row_number#\"],\"right\":[]},\"columnSizing\":{\"mobile_number_enc\":214},\"columnVisibility\":{}},\"settings\":{\"columns\":{}},\"syncTimestamp\":1755518729692}",
       "filterBlob": null,
       "queryPlanFiltersBlob": null,
       "tableResultIndex": 0
      }
     },
     "title": ""
    }
   },
   "outputs": [],
   "source": [
    "spark.sql(f\"\"\"\n",
    "CREATE OR REPLACE TABLE  {catalog_name}.udp_wcm_gold_vcm_dwh.f_saleout_bill_header AS \n",
    "WITH\n",
    "lty_bill AS (\n",
    "  SELECT\n",
    "    invoice AS receipt_no,\n",
    "    b.mobile_number AS member_card_no\n",
    "  FROM  {catalog_name}.udp_wcm_silver_cx_loyalty.lyt_transactions a\n",
    "  LEFT JOIN (\n",
    "    SELECT\n",
    "      e.id AS customer_id,\n",
    "      {catalog_name}.default.FN_CLEAN_MOBILE_NO(a.merchant_customer_id) AS mobile_number\n",
    "    FROM {catalog_name}.udp_wcm_silver_cx_loyalty.lyt_customer_merchant_rels a\n",
    "    INNER JOIN {catalog_name}.udp_wcm_gold_vcm_dwh.d_time b\n",
    "      ON DATE(FROM_UTC_TIMESTAMP(TRY_TO_TIMESTAMP(a.create_date), 'UTC+7')) = b.calday\n",
    "    LEFT JOIN  {catalog_name}.udp_wcm_silver_cx_loyalty.lyt_loyalty_customers e \n",
    "      ON a.csn = e.csn\n",
    "    WHERE\n",
    "      a.merchant_id = 'WIN'\n",
    "      AND DATE(FROM_UTC_TIMESTAMP(TRY_TO_TIMESTAMP(a.create_date), '+07:00')) <= '2023-12-05'\n",
    "      AND e.is_deleted <> 'true'\n",
    "      AND a.is_deleted <> 'true'\n",
    "    ) b ON a.customer_id = b.customer_id\n",
    "  WHERE pool_id = 'WIN' AND merchant_id = 'VCM'\n",
    "),\n",
    "winx_bill_props AS (\n",
    "  SELECT DISTINCT receipt_no, prop_value\n",
    "  FROM {catalog_name}.udp_wcm_silver_realtime.pos_wcm_saleout_bill_props\n",
    "  WHERE prop_name = 'winxmembercode'\n",
    ")\n",
    "SELECT\n",
    "  a.receipt_no,\n",
    "  pos_no,\n",
    "  store_id,\n",
    "  calday,\n",
    "  caltime,\n",
    "  IFNULL(a.member_card_no,b.member_card_no) mobile_number,\n",
    "  UNHEX(MD5(IFNULL(a.member_card_no,b.member_card_no))) mobile_number_enc,\n",
    "  vinid_csn,\n",
    "  header_ref_01 ref_01_ref_bill,\n",
    "  header_ref_02 ref_02_sale_channel,\n",
    "  header_ref_03 ref_03_origin_trx_num,\n",
    "  header_ref_04 ref_04,\n",
    "  header_ref_05 ref_05,\n",
    "  c.prop_value winx_member_code\n",
    "FROM {catalog_name}.udp_wcm_silver_realtime.pos_wcm_saleout_bill_header a\n",
    "LEFT JOIN lty_bill b ON a.receipt_no = b.receipt_no\n",
    "LEFT JOIN winx_bill_props c ON a.receipt_no = c.receipt_no\n",
    "\"\"\")\n"
   ]
  }
 ],
 "metadata": {
  "application/vnd.databricks.v1+notebook": {
   "computePreferences": null,
   "dashboards": [],
   "environmentMetadata": {
    "base_environment": "",
    "environment_version": "2"
   },
   "inputWidgetPreferences": null,
   "language": "python",
   "notebookMetadata": {
    "mostRecentlyExecutedCommandWithImplicitDF": {
     "commandId": 7469597179134866,
     "dataframes": [
      "_sqldf"
     ]
    },
    "pythonIndentUnit": 4
   },
   "notebookName": "f_saleout_bill_header",
   "widgets": {
    "environment": {
     "currentValue": "DEV",
     "nuid": "1061bb43-8009-494f-9486-490f79cc0dcd",
     "typedWidgetInfo": {
      "autoCreated": false,
      "defaultValue": "",
      "label": "",
      "name": "environment",
      "options": {
       "widgetDisplayType": "Text",
       "validationRegex": null
      },
      "parameterDataType": "String"
     },
     "widgetInfo": {
      "widgetType": "text",
      "defaultValue": "",
      "label": "",
      "name": "environment",
      "options": {
       "widgetType": "text",
       "autoCreated": null,
       "validationRegex": null
      }
     }
    },
    "layer": {
     "currentValue": "GOLD",
     "nuid": "d16db990-b191-42f5-bcde-c069b75302eb",
     "typedWidgetInfo": {
      "autoCreated": false,
      "defaultValue": "",
      "label": null,
      "name": "layer",
      "options": {
       "widgetDisplayType": "Text",
       "validationRegex": null
      },
      "parameterDataType": "String"
     },
     "widgetInfo": {
      "widgetType": "text",
      "defaultValue": "",
      "label": null,
      "name": "layer",
      "options": {
       "widgetType": "text",
       "autoCreated": null,
       "validationRegex": null
      }
     }
    },
    "proc_date": {
     "currentValue": "2025-07-13",
     "nuid": "b7cfdacd-d440-4cf3-bb34-e7546ec321af",
     "typedWidgetInfo": {
      "autoCreated": false,
      "defaultValue": "2025-07-13",
      "label": null,
      "name": "proc_date",
      "options": {
       "widgetDisplayType": "Text",
       "validationRegex": null
      },
      "parameterDataType": "String"
     },
     "widgetInfo": {
      "widgetType": "text",
      "defaultValue": "2025-07-13",
      "label": null,
      "name": "proc_date",
      "options": {
       "widgetType": "text",
       "autoCreated": null,
       "validationRegex": null
      }
     }
    }
   }
  },
  "language_info": {
   "name": "python"
  }
 },
 "nbformat": 4,
 "nbformat_minor": 0
}
