{
 "cells": [
  {
   "cell_type": "code",
   "execution_count": 0,
   "metadata": {
    "application/vnd.databricks.v1+cell": {
     "cellMetadata": {},
     "inputWidgets": {},
     "nuid": "9e3bc6ab-1f32-4c49-8b81-cb79fb717b2c",
     "showTitle": false,
     "tableResultSettingsMap": {},
     "title": ""
    }
   },
   "outputs": [],
   "source": [
    "%run ../utils/common"
   ]
  },
  {
   "cell_type": "code",
   "execution_count": 0,
   "metadata": {
    "application/vnd.databricks.v1+cell": {
     "cellMetadata": {
      "byteLimit": 2048000,
      "rowLimit": 10000
     },
     "inputWidgets": {},
     "nuid": "b0444d77-e4f9-4b56-9ec7-6033172b2a95",
     "showTitle": false,
     "tableResultSettingsMap": {},
     "title": ""
    }
   },
   "outputs": [],
   "source": [
    "dbutils.widgets.text(\"environment\", \"\", \"\")\n",
    "dbutils.widgets.text(\"target_dataset\", \"VCM_DWH_PRD\")\n",
    "dbutils.widgets.text(\"target_table\", \"f_staging_delivery_order\")\n",
    "dbutils.widgets.text(\"metadata_schema\", \"udp_wcm_metadata_dev\")\n",
    "dbutils.widgets.text(\n",
    "    \"dependency_table\",\"VCM_STG_INF.SAP_VCCSDDL52\"\n",
    ")"
   ]
  },
  {
   "cell_type": "code",
   "execution_count": 0,
   "metadata": {
    "application/vnd.databricks.v1+cell": {
     "cellMetadata": {
      "byteLimit": 2048000,
      "rowLimit": 10000
     },
     "inputWidgets": {},
     "nuid": "59cc9d99-c77c-44cc-8a29-8f7510a09198",
     "showTitle": false,
     "tableResultSettingsMap": {},
     "title": ""
    }
   },
   "outputs": [],
   "source": [
    "catalog_name = settings[environment]['catalog_name']"
   ]
  },
  {
   "cell_type": "code",
   "execution_count": 0,
   "metadata": {
    "application/vnd.databricks.v1+cell": {
     "cellMetadata": {
      "byteLimit": 2048000,
      "rowLimit": 10000
     },
     "inputWidgets": {},
     "nuid": "a42acc2f-ce59-4f34-a4d8-7b164c589663",
     "showTitle": false,
     "tableResultSettingsMap": {},
     "title": ""
    }
   },
   "outputs": [],
   "source": [
    "dbutils.widgets.text(\"field_calday\", \"CALDAY\")\n",
    "dbutils.widgets.text(\"field_id\", \"HASH_ID\")"
   ]
  },
  {
   "cell_type": "code",
   "execution_count": 0,
   "metadata": {
    "application/vnd.databricks.v1+cell": {
     "cellMetadata": {
      "byteLimit": 2048000,
      "rowLimit": 10000
     },
     "inputWidgets": {},
     "nuid": "eb2554a8-3432-4b03-ad30-afbb738a331e",
     "showTitle": false,
     "tableResultSettingsMap": {},
     "title": ""
    }
   },
   "outputs": [],
   "source": [
    "field_calday = dbutils.widgets.get(\"field_calday\")\n",
    "field_id = dbutils.widgets.get(\"field_id\")\n",
    "\n",
    "print(f\"field_calday: {field_calday}\")\n",
    "print(f\"field_id: {field_id}\")"
   ]
  },
  {
   "cell_type": "code",
   "execution_count": 0,
   "metadata": {
    "application/vnd.databricks.v1+cell": {
     "cellMetadata": {
      "byteLimit": 2048000,
      "rowLimit": 10000
     },
     "inputWidgets": {},
     "nuid": "46177186-bfe1-46c5-b383-5db52075c454",
     "showTitle": false,
     "tableResultSettingsMap": {},
     "title": ""
    }
   },
   "outputs": [],
   "source": [
    "environment = dbutils.widgets.get(\"environment\")\n",
    "target_dataset = dbutils.widgets.get(\"target_dataset\")\n",
    "target_table = dbutils.widgets.get(\"target_table\")\n",
    "metadata_schema = dbutils.widgets.get(\"metadata_schema\")\n",
    "dependency_table = dbutils.widgets.get(\"dependency_table\")\n",
    "dependency_table = [x.strip().upper() for x in dependency_table.split(\",\")]\n",
    "dependency_table = \"'\" + \"','\".join(dependency_table) + \"'\"\n",
    "\n",
    "print(f\"environment: {environment}\")\n",
    "print(f\"target_dataset: {target_dataset}\")\n",
    "print(f\"target_table: {target_table}\")\n",
    "print(f\"catalog_name: {catalog_name}\")\n",
    "print(f\"metadata_schema: {metadata_schema}\")\n",
    "print(f\"dependency_table: {dependency_table}\")"
   ]
  },
  {
   "cell_type": "code",
   "execution_count": 0,
   "metadata": {
    "application/vnd.databricks.v1+cell": {
     "cellMetadata": {},
     "inputWidgets": {},
     "nuid": "e173c84d-6b30-4ca9-bc52-d35e4ea7f968",
     "showTitle": false,
     "tableResultSettingsMap": {},
     "title": ""
    }
   },
   "outputs": [],
   "source": [
    "%run \"../common/common_etl_load\""
   ]
  },
  {
   "cell_type": "code",
   "execution_count": 0,
   "metadata": {
    "application/vnd.databricks.v1+cell": {
     "cellMetadata": {
      "byteLimit": 2048000,
      "rowLimit": 10000
     },
     "inputWidgets": {},
     "nuid": "252e1031-ed8f-4a8e-ba0c-a9a2d079b005",
     "showTitle": false,
     "tableResultSettingsMap": {},
     "title": ""
    }
   },
   "outputs": [],
   "source": [
    "spark.sql(f\"\"\"\n",
    "CREATE TABLE IF NOT EXISTS {catalog_name}.udp_wcm_gold_vcm_dwh.f_staging_delivery_order(\n",
    "    hash_id BIGINT, \n",
    "    calday DATE, \n",
    "    do_number STRING, \n",
    "    do_item STRING, \n",
    "    creation_date DATE, \n",
    "    gi_date DATE, \n",
    "    act_gi_dte DATE, \n",
    "    deleted_record STRING, \n",
    "    product_id STRING, \n",
    "    deliver_qty_sale DOUBLE,\n",
    "    sales_unit STRING, \n",
    "    deliver_qty_base DOUBLE,\n",
    "    base_unit STRING, \n",
    "    dc_id STRING, \n",
    "    sto_number STRING, \n",
    "    sto_item STRING, \n",
    "    sts_pick STRING, \n",
    "    osts_pick STRING, \n",
    "    tgoodmv_st STRING, \n",
    "    pick_conf STRING, \n",
    "    goodsmv_st STRING, \n",
    "    recordmode STRING, \n",
    "    unload_pt STRING, \n",
    "    imounl_pt STRING, \n",
    "    sales_dist STRING, \n",
    "    bill_block STRING, \n",
    "    incoterms STRING, \n",
    "    incoterms2 STRING, \n",
    "    imoincotm2 STRING, \n",
    "    cust_group STRING, \n",
    "    del_type STRING, \n",
    "    ship_date STRING, \n",
    "    creditor STRING, \n",
    "    del_block STRING, \n",
    "    load_pt STRING, \n",
    "    route STRING, \n",
    "    doc_categ STRING, \n",
    "    ch_on STRING, \n",
    "    rt_promo STRING, \n",
    "    batch STRING, \n",
    "    eanupc STRING, \n",
    "    createdby STRING, \n",
    "    crea_time STRING, \n",
    "    bilblk_dl STRING, \n",
    "    bus_area STRING, \n",
    "    pick_indc STRING, \n",
    "    cust_grp1 STRING, \n",
    "    cust_grp2 STRING, \n",
    "    cust_grp3 STRING, \n",
    "    cust_grp4 STRING, \n",
    "    cust_grp5 STRING, \n",
    "    consu_flag STRING, \n",
    "    whse_num STRING, \n",
    "    stor_loc STRING, \n",
    "    plant STRING, \n",
    "    strge_bin STRING, \n",
    "    strge_type STRING, \n",
    "    itm_type STRING, \n",
    "    forwagent STRING, \n",
    "    item_categ STRING, \n",
    "    per_resp STRING, \n",
    "    stat_date STRING, \n",
    "    prvdoc_ctg STRING, \n",
    "    imodoccat STRING, \n",
    "    wbs_elemt STRING, \n",
    "    del_wa_dh STRING, \n",
    "    calmonth STRING, \n",
    "    calquarter STRING, \n",
    "    calyear STRING, \n",
    "    fiscvarnt STRING, \n",
    "    fiscper STRING, \n",
    "    fiscyear STRING, \n",
    "    upd_date STRING, \n",
    "    no_del_it DOUBLE,\n",
    "    denomintr DOUBLE,\n",
    "    numerator DOUBLE,\n",
    "    shp_pr_tmf DOUBLE,\n",
    "    shp_pr_tmv DOUBLE\n",
    "    )\n",
    "    TBLPROPERTIES (\n",
    "  'DELTA.AUTOOPTIMIZE.OPTIMIZEWRITE' = 'TRUE',\n",
    "  'DELTA.AUTOOPTIMIZE.AUTOCOMPACT' = 'TRUE'\n",
    ")\n",
    "\"\"\")"
   ]
  },
  {
   "cell_type": "code",
   "execution_count": 0,
   "metadata": {
    "application/vnd.databricks.v1+cell": {
     "cellMetadata": {
      "byteLimit": 2048000,
      "rowLimit": 10000
     },
     "inputWidgets": {},
     "nuid": "bb11f3ca-22b7-4537-8986-311242da8b4c",
     "showTitle": false,
     "tableResultSettingsMap": {},
     "title": ""
    }
   },
   "outputs": [],
   "source": [
    "if CALDAY_IN_STR != '':\n",
    "    spark.sql(f\"\"\"\n",
    "    CREATE OR REPLACE TEMP VIEW temp_{target_table}  \n",
    "    AS\n",
    "        WITH temp AS (\n",
    "            SELECT\n",
    "                reqtsn,\n",
    "                datapakid,\n",
    "                record,\n",
    "                calday,\n",
    "                do_number,\n",
    "                do_item,\n",
    "                creation_date,\n",
    "                gi_date,\n",
    "                act_gi_dte,\n",
    "                deleted_record,\n",
    "                product_id,\n",
    "                deliver_qty_sale,\n",
    "                sales_unit,\n",
    "                deliver_qty_base,\n",
    "                base_unit,\n",
    "                dc_id,\n",
    "                sto_number,\n",
    "                sto_item,\n",
    "                sts_pick,\n",
    "                osts_pick,\n",
    "                tgoodmv_st,\n",
    "                pick_conf,\n",
    "                goodsmv_st,\n",
    "                recordmode,\n",
    "                unload_pt,\n",
    "                imounl_pt,\n",
    "                sales_dist,\n",
    "                bill_block,\n",
    "                incoterms,\n",
    "                incoterms2,\n",
    "                imoincotm2,\n",
    "                cust_group,\n",
    "                del_type,\n",
    "                ship_date,\n",
    "                creditor,\n",
    "                del_block,\n",
    "                load_pt,\n",
    "                route,\n",
    "                doc_categ,\n",
    "                ch_on,\n",
    "                rt_promo,\n",
    "                batch,\n",
    "                eanupc,\n",
    "                createdby,\n",
    "                crea_time,\n",
    "                bilblk_dl,\n",
    "                bus_area,\n",
    "                pick_indc,\n",
    "                cust_grp1,\n",
    "                cust_grp2,\n",
    "                cust_grp3,\n",
    "                cust_grp4,\n",
    "                cust_grp5,\n",
    "                consu_flag,\n",
    "                whse_num,\n",
    "                stor_loc,\n",
    "                plant,\n",
    "                strge_bin,\n",
    "                strge_type,\n",
    "                itm_type,\n",
    "                forwagent,\n",
    "                item_categ,\n",
    "                per_resp,\n",
    "                stat_date,\n",
    "                prvdoc_ctg,\n",
    "                imodoccat,\n",
    "                wbs_elemt,\n",
    "                del_wa_dh,\n",
    "                calmonth,\n",
    "                calquarter,\n",
    "                calyear,\n",
    "                fiscvarnt,\n",
    "                fiscper,\n",
    "                fiscyear,\n",
    "                upd_date,\n",
    "                no_del_it,\n",
    "                denomintr,\n",
    "                numerator,\n",
    "                shp_pr_tmf,\n",
    "                shp_pr_tmv\n",
    "            FROM {catalog_name}.udp_wcm_silver_sap_bw.sap_vccsddl52\n",
    "            WHERE calday IN ({CALDAY_IN_STR}) \n",
    "            QUALIFY ROW_NUMBER() OVER (PARTITION BY reqtsn, datapakid, record ORDER BY proc_date DESC) = 1 \n",
    "        ),\n",
    "        main as (\n",
    "            SELECT \n",
    "                CAST(farm_fingerprint(CONCAT(\n",
    "                    IFNULL(CAST(do_number AS STRING), \"\"),\n",
    "                    IFNULL(CAST(do_item AS STRING), \"\")\n",
    "                )) AS BIGINT) hash_id,\n",
    "                * EXCEPT(reqtsn, datapakid, record)\n",
    "            FROM temp\n",
    "            QUALIFY ROW_NUMBER() OVER (PARTITION BY hash_id ORDER BY reqtsn DESC, datapakid DESC, record DESC) = 1\n",
    "        )\n",
    "        SELECT *\n",
    "        FROM main;\n",
    "    \"\"\")\n",
    "\n",
    "else:\n",
    "    print(f\"No valid calday's found In common-etl to create the view: temp_{target_table}\")"
   ]
  },
  {
   "cell_type": "code",
   "execution_count": 0,
   "metadata": {
    "application/vnd.databricks.v1+cell": {
     "cellMetadata": {},
     "inputWidgets": {},
     "nuid": "196a669b-ad04-467e-befc-75cccf453cb7",
     "showTitle": false,
     "tableResultSettingsMap": {},
     "title": ""
    }
   },
   "outputs": [],
   "source": [
    "if CALDAY_IN_STR != '':\n",
    "    calday_query = f\"\"\"\n",
    "        SELECT \n",
    "            CONCAT(\"'\", CONCAT_WS(\"','\", COLLECT_SET(CAST(TO_DATE(calday, 'yyyy-MM-dd') AS STRING))), \"'\") AS calday_in_str\n",
    "        FROM temp_{target_table}\n",
    "        \"\"\"\n",
    "    calday_df = spark.sql(calday_query)\n",
    "    calday_in_str = calday_df.collect()[0][0]\n",
    "else:\n",
    "    print(f\"No valid calday's found In common-etl to create the view: temp_{target_table}\")"
   ]
  },
  {
   "cell_type": "code",
   "execution_count": 0,
   "metadata": {
    "application/vnd.databricks.v1+cell": {
     "cellMetadata": {
      "byteLimit": 2048000,
      "rowLimit": 10000
     },
     "inputWidgets": {},
     "nuid": "e4905e69-0699-42ce-9aeb-560c511353a0",
     "showTitle": false,
     "tableResultSettingsMap": {},
     "title": ""
    }
   },
   "outputs": [],
   "source": [
    "if CALDAY_IN_STR != '':\n",
    "    spark.sql(f\"\"\"DELETE FROM {catalog_name}.udp_wcm_gold_vcm_dwh.f_staging_delivery_order \n",
    "        WHERE hash_id IN (SELECT hash_id FROM temp_{target_table});\n",
    "\"\"\")"
   ]
  },
  {
   "cell_type": "code",
   "execution_count": 0,
   "metadata": {
    "application/vnd.databricks.v1+cell": {
     "cellMetadata": {
      "byteLimit": 2048000,
      "rowLimit": 10000
     },
     "inputWidgets": {},
     "nuid": "313d4a89-853a-4be1-861e-c4676caeaa83",
     "showTitle": false,
     "tableResultSettingsMap": {},
     "title": ""
    }
   },
   "outputs": [],
   "source": [
    "if CALDAY_IN_STR != \"\":\n",
    "    # Insert rows from temp table into main table\n",
    "    INSERT_ROW = \", \".join(\n",
    "        spark.table(f\"{catalog_name}.udp_wcm_gold_vcm_dwh.f_staging_delivery_order\").columns\n",
    "    )\n",
    "    spark.sql(\n",
    "        f\"\"\"\n",
    "        INSERT INTO {catalog_name}.udp_wcm_gold_vcm_dwh.f_staging_delivery_order ({INSERT_ROW})\n",
    "        SELECT {INSERT_ROW} FROM temp_{target_table}\n",
    "    \"\"\"\n",
    "    ).display()\n",
    "else:\n",
    "    print(\n",
    "        f\"temp_{target_table} could't be created as no valid calday's found In common-etl so {catalog_name}.udp_wcm_gold_vcm_dwh.f_staging_delivery_order can't be inserted using calday's from temp_{target_table}\"\n",
    "    )"
   ]
  },
  {
   "cell_type": "code",
   "execution_count": 0,
   "metadata": {
    "application/vnd.databricks.v1+cell": {
     "cellMetadata": {
      "byteLimit": 2048000,
      "rowLimit": 10000
     },
     "inputWidgets": {},
     "nuid": "6796b61c-df78-4a30-87ea-97cc6eafbe17",
     "showTitle": false,
     "tableResultSettingsMap": {},
     "title": ""
    }
   },
   "outputs": [],
   "source": [
    "if CALDAY_IN_STR == '':\n",
    "    dbutils.notebook.exit(\"No valid calday's found In common-etl to insert data into Table: ETL_LOG_DEPENDENCIES and ETL_DELTA_TABLE and \")"
   ]
  },
  {
   "cell_type": "code",
   "execution_count": 0,
   "metadata": {
    "application/vnd.databricks.v1+cell": {
     "cellMetadata": {
      "byteLimit": 2048000,
      "rowLimit": 10000
     },
     "inputWidgets": {},
     "nuid": "141141cf-f35b-4698-b476-0e083ef168e6",
     "showTitle": false,
     "tableResultSettingsMap": {},
     "title": ""
    }
   },
   "outputs": [],
   "source": [
    "%run \"../common/common_etl_update\""
   ]
  },
  {
   "cell_type": "code",
   "execution_count": 0,
   "metadata": {
    "application/vnd.databricks.v1+cell": {
     "cellMetadata": {},
     "inputWidgets": {},
     "nuid": "3721846e-cb20-4c7d-99f2-18cc35c1a176",
     "showTitle": false,
     "tableResultSettingsMap": {},
     "title": ""
    }
   },
   "outputs": [],
   "source": [
    "dbutils.notebook.exit(\"Success\")"
   ]
  }
 ],
 "metadata": {
  "application/vnd.databricks.v1+notebook": {
   "computePreferences": null,
   "dashboards": [],
   "environmentMetadata": {
    "base_environment": "",
    "environment_version": "2"
   },
   "inputWidgetPreferences": null,
   "language": "python",
   "notebookMetadata": {
    "mostRecentlyExecutedCommandWithImplicitDF": {
     "commandId": 6943459227474858,
     "dataframes": [
      "_sqldf"
     ]
    },
    "pythonIndentUnit": 4
   },
   "notebookName": "f_staging_delivery_order",
   "widgets": {}
  },
  "language_info": {
   "name": "python"
  }
 },
 "nbformat": 4,
 "nbformat_minor": 0
}
