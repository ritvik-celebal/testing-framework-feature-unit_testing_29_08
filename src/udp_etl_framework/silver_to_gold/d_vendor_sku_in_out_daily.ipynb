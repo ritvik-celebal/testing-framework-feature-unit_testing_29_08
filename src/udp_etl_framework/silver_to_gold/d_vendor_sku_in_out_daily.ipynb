{
 "cells": [
  {
   "cell_type": "code",
   "execution_count": 0,
   "metadata": {
    "application/vnd.databricks.v1+cell": {
     "cellMetadata": {
      "byteLimit": 2048000,
      "rowLimit": 10000
     },
     "inputWidgets": {},
     "nuid": "961d408f-26cd-45ed-ac85-46c1c92828ee",
     "showTitle": false,
     "tableResultSettingsMap": {},
     "title": ""
    }
   },
   "outputs": [],
   "source": [
    "%run ../utils/common"
   ]
  },
  {
   "cell_type": "code",
   "execution_count": 0,
   "metadata": {
    "application/vnd.databricks.v1+cell": {
     "cellMetadata": {
      "byteLimit": 2048000,
      "rowLimit": 10000
     },
     "inputWidgets": {},
     "nuid": "1c0c9839-01bd-48fc-8de5-03251e3b9220",
     "showTitle": false,
     "tableResultSettingsMap": {},
     "title": ""
    }
   },
   "outputs": [],
   "source": [
    "dbutils.widgets.text(\"environment\", \"\", \"\")\n",
    "environment = dbutils.widgets.get(\"environment\")"
   ]
  },
  {
   "cell_type": "code",
   "execution_count": 0,
   "metadata": {
    "application/vnd.databricks.v1+cell": {
     "cellMetadata": {
      "byteLimit": 2048000,
      "rowLimit": 10000
     },
     "inputWidgets": {},
     "nuid": "68fd6694-e147-411d-b88d-4500ac3b6d2e",
     "showTitle": false,
     "tableResultSettingsMap": {},
     "title": ""
    }
   },
   "outputs": [],
   "source": [
    "catalog_name = settings[environment]['catalog_name']"
   ]
  },
  {
   "cell_type": "code",
   "execution_count": 0,
   "metadata": {
    "application/vnd.databricks.v1+cell": {
     "cellMetadata": {
      "byteLimit": 2048000,
      "rowLimit": 10000
     },
     "inputWidgets": {},
     "nuid": "5265b868-a012-45ac-a6e9-b0465ecd5556",
     "showTitle": false,
     "tableResultSettingsMap": {},
     "title": ""
    }
   },
   "outputs": [],
   "source": [
    "spark.sql(f\"\"\"\n",
    "CREATE TABLE IF NOT EXISTS {catalog_name}.udp_wcm_gold_vcm_dwh.d_vendor_sku_in_out_daily\n",
    "(\n",
    "  calday DATE,\n",
    "  roll_out STRING,\n",
    "  region STRING,\n",
    "  mch3_id STRING,\n",
    "  mch3_name STRING,\n",
    "  product_id STRING,\n",
    "  product_name STRING,\n",
    "  manufacturer_id STRING,\n",
    "  manufacturer_name STRING,\n",
    "  sub_manufacturer STRING,\n",
    "  uom STRING,\n",
    "  assortment STRING,\n",
    "  vendor_id STRING,\n",
    "  vendor_name STRING,\n",
    "  vendor_subrange STRING,\n",
    "  in_out_type STRING\n",
    ")\n",
    "TBLPROPERTIES (\n",
    "  'DELTA.AUTOOPTIMIZE.OPTIMIZEWRITE' = 'TRUE',\n",
    "  'DELTA.AUTOOPTIMIZE.AUTOCOMPACT' = 'TRUE'\n",
    ");\n",
    "\"\"\")"
   ]
  },
  {
   "cell_type": "code",
   "execution_count": 0,
   "metadata": {
    "application/vnd.databricks.v1+cell": {
     "cellMetadata": {
      "byteLimit": 2048000,
      "rowLimit": 10000
     },
     "inputWidgets": {},
     "nuid": "92b83041-95ff-4569-84fe-2849e3e9e21c",
     "showTitle": false,
     "tableResultSettingsMap": {},
     "title": ""
    }
   },
   "outputs": [],
   "source": [
    "spark.sql(f\"\"\"\n",
    "DELETE FROM {catalog_name}.udp_wcm_gold_vcm_dwh.d_vendor_sku_in_out_daily\n",
    "WHERE CALDAY = date_sub(current_timestamp() + INTERVAL 7 HOUR, 1);   \n",
    "\"\"\")"
   ]
  },
  {
   "cell_type": "code",
   "execution_count": 0,
   "metadata": {
    "application/vnd.databricks.v1+cell": {
     "cellMetadata": {
      "byteLimit": 2048000,
      "rowLimit": 10000
     },
     "inputWidgets": {},
     "nuid": "ca8f934e-c477-4b42-9c44-bc3cfcaf14f3",
     "showTitle": false,
     "tableResultSettingsMap": {},
     "title": ""
    }
   },
   "outputs": [],
   "source": [
    "spark.sql(f\"\"\"\n",
    "CREATE OR REPLACE TEMP VIEW temp_d_vendor_sku_in_out_daily AS\n",
    "WITH \n",
    "temp0 AS (\n",
    "    SELECT DISTINCT region, product_id, calday\n",
    "    FROM {catalog_name}.udp_wcm_gold_vcm_dwh.d_vendor_sku_his\n",
    "    WHERE calday BETWEEN date_sub(current_timestamp() + INTERVAL 7 HOUR, 1) \n",
    "        AND DATE(current_timestamp() + INTERVAL 7 HOUR)\n",
    "),\n",
    "temp1 AS (\n",
    "    SELECT \n",
    "        *,\n",
    "        LEAD(calday) OVER (PARTITION BY region, product_id ORDER BY calday DESC) AS lead_calday,\n",
    "        LAG(calday) OVER (PARTITION BY region, product_id ORDER BY calday DESC) AS lag_calday\n",
    "    FROM temp0\n",
    ")\n",
    "SELECT \n",
    "    date_sub(current_timestamp() + INTERVAL 7 HOUR, 1) AS calday,\n",
    "    h.region,\n",
    "    h.product_id,\n",
    "    \n",
    "    'IN' AS in_out_type, h.roll_out, h.mch3_id, h.mch3_name, h.product_name, h.manufacturer_id, h.manufacturer_name, h.sub_manufacturer, h.uom, h.assortment, h.vendor_id, h.vendor_name, h.vendor_subrange\n",
    "FROM temp1 t\n",
    "INNER JOIN {catalog_name}.udp_wcm_gold_vcm_dwh.d_vendor_sku_his h \n",
    "    ON t.region = h.region \n",
    "    AND t.product_id = h.product_id\n",
    "    AND t.calday = h.calday\n",
    "WHERE t.calday = date(current_timestamp() + INTERVAL 7 HOUR)\n",
    "    AND lead_calday IS NULL\n",
    "\n",
    "UNION ALL\n",
    "\n",
    "SELECT \n",
    "    date_sub(current_timestamp() + INTERVAL 7 HOUR, 1) AS calday,\n",
    "    h.region,\n",
    "    h.product_id,\n",
    "    \n",
    "    'OUT' AS in_out_type, h.roll_out, h.mch3_id, h.mch3_name, h.product_name, h.manufacturer_id, h.manufacturer_name, h.sub_manufacturer, h.uom, h.assortment, h.vendor_id, h.vendor_name, h.vendor_subrange\n",
    "FROM temp1 t\n",
    "INNER JOIN {catalog_name}.udp_wcm_gold_vcm_dwh.d_vendor_sku_his h \n",
    "    ON t.region = h.region \n",
    "    AND t.product_id = h.product_id\n",
    "    AND t.calday = h.calday\n",
    "WHERE t.calday = date_sub(current_timestamp() + INTERVAL 7 HOUR, 1)\n",
    "    AND lag_calday IS NULL\n",
    "\"\"\")"
   ]
  },
  {
   "cell_type": "code",
   "execution_count": 0,
   "metadata": {
    "application/vnd.databricks.v1+cell": {
     "cellMetadata": {
      "byteLimit": 2048000,
      "implicitDf": true,
      "rowLimit": 10000
     },
     "inputWidgets": {},
     "nuid": "cf7f39a0-a10c-4bf3-9829-eae441bf707b",
     "showTitle": false,
     "tableResultSettingsMap": {},
     "title": ""
    }
   },
   "outputs": [],
   "source": [
    "spark.sql(f\"\"\"\n",
    "INSERT INTO {catalog_name}.udp_wcm_gold_vcm_dwh.d_vendor_sku_in_out_daily\n",
    "SELECT * FROM temp_d_vendor_sku_in_out_daily\n",
    "\"\"\")"
   ]
  }
 ],
 "metadata": {
  "application/vnd.databricks.v1+notebook": {
   "computePreferences": null,
   "dashboards": [],
   "environmentMetadata": {
    "base_environment": "",
    "environment_version": "2"
   },
   "inputWidgetPreferences": null,
   "language": "python",
   "notebookMetadata": {
    "mostRecentlyExecutedCommandWithImplicitDF": {
     "commandId": 6673494183700728,
     "dataframes": [
      "_sqldf"
     ]
    },
    "pythonIndentUnit": 4
   },
   "notebookName": "d_vendor_sku_in_out_daily",
   "widgets": {
    "environment": {
     "currentValue": "DEV",
     "nuid": "8698189d-25d6-4513-a5fb-b1334687b6d9",
     "typedWidgetInfo": {
      "autoCreated": false,
      "defaultValue": "",
      "label": "",
      "name": "environment",
      "options": {
       "widgetDisplayType": "Text",
       "validationRegex": null
      },
      "parameterDataType": "String"
     },
     "widgetInfo": {
      "widgetType": "text",
      "defaultValue": "",
      "label": "",
      "name": "environment",
      "options": {
       "widgetType": "text",
       "autoCreated": null,
       "validationRegex": null
      }
     }
    },
    "proc_date": {
     "currentValue": "2025-07-21",
     "nuid": "0ffa6cf2-b578-4c2b-9206-7fdd7c5bd69e",
     "typedWidgetInfo": {
      "autoCreated": false,
      "defaultValue": "",
      "label": "",
      "name": "proc_date",
      "options": {
       "widgetDisplayType": "Text",
       "validationRegex": null
      },
      "parameterDataType": "String"
     },
     "widgetInfo": {
      "widgetType": "text",
      "defaultValue": "",
      "label": "",
      "name": "proc_date",
      "options": {
       "widgetType": "text",
       "autoCreated": null,
       "validationRegex": null
      }
     }
    }
   }
  },
  "language_info": {
   "name": "python"
  }
 },
 "nbformat": 4,
 "nbformat_minor": 0
}
