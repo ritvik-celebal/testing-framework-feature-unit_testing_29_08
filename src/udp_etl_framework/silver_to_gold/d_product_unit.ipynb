{
 "cells": [
  {
   "cell_type": "code",
   "execution_count": 0,
   "metadata": {
    "application/vnd.databricks.v1+cell": {
     "cellMetadata": {
      "byteLimit": 2048000,
      "rowLimit": 10000
     },
     "inputWidgets": {},
     "nuid": "95114613-b948-408b-ba21-68c4b4e1e757",
     "showTitle": false,
     "tableResultSettingsMap": {},
     "title": ""
    }
   },
   "outputs": [],
   "source": [
    "%run ../utils/common"
   ]
  },
  {
   "cell_type": "code",
   "execution_count": 0,
   "metadata": {
    "application/vnd.databricks.v1+cell": {
     "cellMetadata": {
      "byteLimit": 2048000,
      "rowLimit": 10000
     },
     "inputWidgets": {},
     "nuid": "0d3bac09-ba17-4c94-97a6-e49a25d1ae80",
     "showTitle": false,
     "tableResultSettingsMap": {},
     "title": ""
    }
   },
   "outputs": [],
   "source": [
    "dbutils.widgets.text(\"environment\", \"\", \"\")\n",
    "environment = dbutils.widgets.get(\"environment\")"
   ]
  },
  {
   "cell_type": "code",
   "execution_count": 0,
   "metadata": {
    "application/vnd.databricks.v1+cell": {
     "cellMetadata": {
      "byteLimit": 2048000,
      "rowLimit": 10000
     },
     "inputWidgets": {},
     "nuid": "c1b1a491-30c2-45ed-8041-3e71d42c745b",
     "showTitle": false,
     "tableResultSettingsMap": {},
     "title": ""
    }
   },
   "outputs": [],
   "source": [
    "catalog_name = settings[environment]['catalog_name']"
   ]
  },
  {
   "cell_type": "code",
   "execution_count": 0,
   "metadata": {
    "application/vnd.databricks.v1+cell": {
     "cellMetadata": {
      "byteLimit": 2048000,
      "rowLimit": 10000
     },
     "inputWidgets": {},
     "nuid": "9f9c2027-e6f0-404b-92e2-cd0e7023dc19",
     "showTitle": false,
     "tableResultSettingsMap": {},
     "title": ""
    }
   },
   "outputs": [],
   "source": [
    "spark.sql(f\"\"\"\n",
    "CREATE OR REPLACE TABLE {catalog_name}.udp_wcm_gold_vcm_dwh.d_product_unit \n",
    "TBLPROPERTIES (\n",
    "  'DELTA.AUTOOPTIMIZE.OPTIMIZEWRITE' = 'TRUE',\n",
    "  'DELTA.AUTOOPTIMIZE.AUTOCOMPACT' = 'TRUE'\n",
    ")\n",
    " \n",
    "AS\n",
    "\n",
    "WITH prp AS (\n",
    "    SELECT \n",
    "        LTRIM('0', rpa_mean) AS material, \n",
    "        rpa_disqu AS mat_unit, \n",
    "        ARRAY_JOIN(COLLECT_LIST(eanupc), \";\") AS barcode_full\n",
    "    FROM {catalog_name}.udp_wcm_silver_sap_bw.sap_prpa_mean a \n",
    "    WHERE proc_date = (SELECT MAX(proc_date) FROM {catalog_name}.udp_wcm_silver_sap_bw.sap_prpa_mean)\n",
    "    GROUP BY material, mat_unit\n",
    "),\n",
    "temp AS (\n",
    "    SELECT \n",
    "        a.material product_id,\n",
    "        a.mat_unit unit,\n",
    "        a.eanupc barcode,\n",
    "        prp.barcode_full,\n",
    "        a.denomintr,\n",
    "        a.numerator,\n",
    "        a.gross_wt gross_weight,\n",
    "        a.unit_of_wt,\n",
    "        a.height,\n",
    "        a.len,\n",
    "        a.width,        \n",
    "        a.unit_dim,\n",
    "        a.volume,\n",
    "        a.volumeunit,\n",
    "        b.base_uom,\n",
    "        ROW_NUMBER() OVER (PARTITION BY a.material, a.mat_unit ORDER BY proc_date DESC) rn\n",
    "    FROM {catalog_name}.udp_wcm_silver_sap_bw.sap_pmat_unit a\n",
    "    LEFT JOIN {catalog_name}.udp_wcm_gold_vcm_dwh.d_product b ON a.material = b.product_id\n",
    "    LEFT JOIN prp ON a.material = prp.material AND a.mat_unit = prp.mat_unit\n",
    "    WHERE a.end_date = '2400-01-01'\n",
    ")\n",
    "SELECT * EXCEPT(rn) \n",
    "FROM temp\n",
    "WHERE rn = 1 AND product_id <> ''\n",
    " \"\"\")"
   ]
  }
 ],
 "metadata": {
  "application/vnd.databricks.v1+notebook": {
   "computePreferences": null,
   "dashboards": [],
   "environmentMetadata": {
    "base_environment": "",
    "environment_version": "2"
   },
   "inputWidgetPreferences": null,
   "language": "python",
   "notebookMetadata": {
    "mostRecentlyExecutedCommandWithImplicitDF": {
     "commandId": 6385374847135225,
     "dataframes": [
      "_sqldf"
     ]
    },
    "pythonIndentUnit": 4
   },
   "notebookName": "d_product_unit",
   "widgets": {
    "environment": {
     "currentValue": "DEV",
     "nuid": "48535237-1da9-42d1-9b3d-0c438bef049a",
     "typedWidgetInfo": {
      "autoCreated": false,
      "defaultValue": "",
      "label": "",
      "name": "environment",
      "options": {
       "widgetDisplayType": "Text",
       "validationRegex": null
      },
      "parameterDataType": "String"
     },
     "widgetInfo": {
      "widgetType": "text",
      "defaultValue": "",
      "label": "",
      "name": "environment",
      "options": {
       "widgetType": "text",
       "autoCreated": null,
       "validationRegex": null
      }
     }
    }
   }
  },
  "language_info": {
   "name": "python"
  }
 },
 "nbformat": 4,
 "nbformat_minor": 0
}
