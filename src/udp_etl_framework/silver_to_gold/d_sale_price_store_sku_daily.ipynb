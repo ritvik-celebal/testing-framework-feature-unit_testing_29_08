{
 "cells": [
  {
   "cell_type": "code",
   "execution_count": 0,
   "metadata": {
    "application/vnd.databricks.v1+cell": {
     "cellMetadata": {
      "byteLimit": 2048000,
      "rowLimit": 10000
     },
     "inputWidgets": {},
     "nuid": "15ae1e6c-e857-41f9-bb54-fec4207f97b0",
     "showTitle": false,
     "tableResultSettingsMap": {},
     "title": ""
    }
   },
   "outputs": [],
   "source": [
    "%run ../utils/common"
   ]
  },
  {
   "cell_type": "code",
   "execution_count": 0,
   "metadata": {
    "application/vnd.databricks.v1+cell": {
     "cellMetadata": {
      "byteLimit": 2048000,
      "rowLimit": 10000
     },
     "inputWidgets": {},
     "nuid": "02825571-9b9c-4e40-a84a-09558d9447a5",
     "showTitle": false,
     "tableResultSettingsMap": {},
     "title": ""
    }
   },
   "outputs": [],
   "source": [
    "dbutils.widgets.text(\"environment\", \"\", \"\")\n",
    "environment = dbutils.widgets.get(\"environment\")"
   ]
  },
  {
   "cell_type": "code",
   "execution_count": 0,
   "metadata": {
    "application/vnd.databricks.v1+cell": {
     "cellMetadata": {
      "byteLimit": 2048000,
      "rowLimit": 10000
     },
     "inputWidgets": {},
     "nuid": "b8d26d6b-de90-47ce-881a-58030806aecc",
     "showTitle": false,
     "tableResultSettingsMap": {},
     "title": ""
    }
   },
   "outputs": [],
   "source": [
    "catalog_name = settings[environment]['catalog_name']"
   ]
  },
  {
   "cell_type": "code",
   "execution_count": 0,
   "metadata": {
    "application/vnd.databricks.v1+cell": {
     "cellMetadata": {
      "byteLimit": 2048000,
      "rowLimit": 10000
     },
     "inputWidgets": {},
     "nuid": "1cd52b36-8095-46f2-a1e1-97c508c1359d",
     "showTitle": false,
     "tableResultSettingsMap": {},
     "title": ""
    }
   },
   "outputs": [],
   "source": [
    "spark.sql(f\"\"\"\n",
    "CREATE TABLE IF NOT EXISTS {catalog_name}.udp_wcm_gold_vcm_dwh.d_sale_price_store_sku_daily\n",
    "(\n",
    "    calday DATE,\n",
    "    store_id STRING,\n",
    "    product_id STRING,\n",
    "    sale_price DECIMAL(38,9),\n",
    "    sale_unit STRING,\n",
    "    app STRING,\n",
    "    cond_type STRING,\n",
    "    cond_no STRING,\n",
    "    sale_org STRING,\n",
    "    distribution_channel STRING,\n",
    "    valid_from DATE,\n",
    "    valid_to DATE,\n",
    "    sale_price_type STRING\n",
    ")\n",
    "TBLPROPERTIES (\n",
    "  'DELTA.AUTOOPTIMIZE.OPTIMIZEWRITE' = 'TRUE',\n",
    "  'DELTA.AUTOOPTIMIZE.AUTOCOMPACT' = 'TRUE'\n",
    ")\n",
    "\"\"\")\n"
   ]
  },
  {
   "cell_type": "code",
   "execution_count": 0,
   "metadata": {
    "application/vnd.databricks.v1+cell": {
     "cellMetadata": {
      "byteLimit": 2048000,
      "implicitDf": true,
      "rowLimit": 10000
     },
     "inputWidgets": {},
     "nuid": "611a4fdf-e035-4196-8b2c-5be078bfd5be",
     "showTitle": false,
     "tableResultSettingsMap": {},
     "title": ""
    }
   },
   "outputs": [],
   "source": [
    "spark.sql(f\"\"\"\n",
    "CREATE OR REPLACE TEMP VIEW temp_d_sale_price_store_sku_daily AS\n",
    "WITH\n",
    "STORE_ATTR AS (\n",
    "  SELECT a.*\n",
    "  FROM\n",
    "    {catalog_name}.udp_wcm_gold_vcm_dwh.d_sale_price_store_attr a\n",
    "    INNER JOIN (\n",
    "      SELECT\n",
    "        store_id,\n",
    "        CASE\n",
    "          WHEN business_unit = '1500' THEN '20'\n",
    "          WHEN business_unit = '2000' THEN '10'\n",
    "        END distribution_channel\n",
    "      FROM {catalog_name}.udp_wcm_gold_vcm_dwh.d_store\n",
    "      WHERE business_unit IN ('1500', '2000')\n",
    "    ) b ON a.store_id = b.store_id AND a.distribution_channel = b.distribution_channel\n",
    "),\n",
    "SALE_PRICE_SITE AS (\n",
    "  SELECT\n",
    "    a.app,\n",
    "    a.cond_type,\n",
    "    a.cond_no,\n",
    "    a.sale_org,\n",
    "    a.distribution_channel,\n",
    "    a.store_id,\n",
    "    a.product_id,\n",
    "    a.sale_unit,\n",
    "    a.valid_from,\n",
    "    a.valid_to,\n",
    "    'SITE' sale_price_type,\n",
    "    1 priority\n",
    "  FROM\n",
    "    {catalog_name}.udp_wcm_gold_vcm_dwh.d_sale_price_site a\n",
    "    INNER JOIN (\n",
    "      SELECT\n",
    "        store_id,\n",
    "        CASE\n",
    "          WHEN business_unit = '1500' THEN '20'\n",
    "          WHEN business_unit = '2000' THEN '10'\n",
    "        END distribution_channel\n",
    "      FROM {catalog_name}.udp_wcm_gold_vcm_dwh.d_store\n",
    "      WHERE business_unit IN ('1500', '2000')\n",
    "    ) b ON a.store_id = b.store_id AND a.distribution_channel = b.distribution_channel\n",
    "),\n",
    "SALE_PRICE_GROUP AS (\n",
    "  SELECT\n",
    "    b.app,\n",
    "    b.cond_type,\n",
    "    b.cond_no,\n",
    "    b.sale_org,\n",
    "    b.distribution_channel,\n",
    "    a.store_id,\n",
    "    b.product_id,\n",
    "    b.sale_unit,\n",
    "    b.valid_from,\n",
    "    b.valid_to,\n",
    "    'GROUP' sale_price_type,\n",
    "    2 priority\n",
    "  FROM\n",
    "    STORE_ATTR a\n",
    "    INNER JOIN {catalog_name}.udp_wcm_gold_vcm_dwh.d_sale_price_group b\n",
    "      ON a.sale_org = b.sale_org AND a.distribution_channel = b.distribution_channel AND a.price_group = b.price_group\n",
    "  WHERE\n",
    "    EXTRACT(YEAR FROM b.valid_to ) <> 7777\n",
    "    AND EXTRACT(YEAR FROM b.valid_from ) <> 7777\n",
    "    AND (DATE(CURRENT_TIMESTAMP() + INTERVAL 7 HOURS) BETWEEN valid_from AND valid_to)\n",
    "),\n",
    "SALE_PRICE_LIST AS (\n",
    "  SELECT\n",
    "    b.app,\n",
    "    b.cond_type,\n",
    "    b.cond_no,\n",
    "    b.sale_org,\n",
    "    b.distribution_channel,\n",
    "    a.store_id,\n",
    "    b.product_id,\n",
    "    b.sale_unit,\n",
    "    b.valid_from,\n",
    "    b.valid_to,\n",
    "    'LIST' sale_price_type,\n",
    "    3 priority\n",
    "  FROM\n",
    "    STORE_ATTR a\n",
    "    INNER JOIN {catalog_name}.udp_wcm_gold_vcm_dwh.d_sale_price_list b\n",
    "      ON a.sale_org = b.sale_org AND a.distribution_channel = b.distribution_channel AND a.price_list = b.price_list\n",
    "  WHERE\n",
    "    EXTRACT(YEAR FROM b.valid_to ) <> 7777  \n",
    "    AND EXTRACT(YEAR FROM b.valid_from ) <> 7777\n",
    "    AND (DATE(CURRENT_TIMESTAMP() + INTERVAL 7 HOURS) BETWEEN valid_from AND valid_to)\n",
    "),\n",
    "SALE_PRICE_CHANNEL AS (\n",
    "  SELECT\n",
    "    b.app,\n",
    "    b.cond_type,\n",
    "    b.cond_no,\n",
    "    b.sale_org,\n",
    "    b.distribution_channel,\n",
    "    a.store_id,\n",
    "    b.product_id,\n",
    "    b.sale_unit,\n",
    "    b.valid_from,\n",
    "    b.valid_to,\n",
    "    'CHANNEL' sale_price_type,\n",
    "    4 priority\n",
    "  FROM\n",
    "    STORE_ATTR a\n",
    "    INNER JOIN {catalog_name}.udp_wcm_gold_vcm_dwh.d_sale_price_channel b\n",
    "      ON a.sale_org = b.sale_org AND a.distribution_channel = b.distribution_channel\n",
    "  WHERE\n",
    "    EXTRACT(YEAR FROM b.valid_to ) <> 7777\n",
    "    AND EXTRACT(YEAR FROM b.valid_from ) <> 7777\n",
    "    AND (DATE(CURRENT_TIMESTAMP() + INTERVAL 7 HOURS) BETWEEN valid_from AND valid_to)\n",
    "),\n",
    "SALE_PRICE_COMBINE AS (\n",
    "  SELECT *\n",
    "  FROM (\n",
    "    SELECT * FROM SALE_PRICE_SITE\n",
    "    UNION ALL\n",
    "    SELECT * FROM SALE_PRICE_GROUP\n",
    "    UNION ALL\n",
    "    SELECT * FROM SALE_PRICE_LIST\n",
    "    UNION ALL\n",
    "    SELECT * FROM SALE_PRICE_CHANNEL\n",
    "  )\n",
    "  QUALIFY ROW_NUMBER() OVER (PARTITION BY app, cond_type, sale_org, distribution_channel, store_id, product_id, sale_unit ORDER BY priority) = 1\n",
    ")\n",
    "\n",
    "SELECT\n",
    "  DATE(CURRENT_TIMESTAMP() + INTERVAL 7 HOURS)  calday,\n",
    "  b.store_id,\n",
    "  b.product_id,\n",
    "  a.rate * 100 sale_price,\n",
    "  b.sale_unit,\n",
    "  b.app,\n",
    "  b.cond_type,\n",
    "  b.cond_no,\n",
    "  b.sale_org,\n",
    "  b.distribution_channel,\n",
    "  b.valid_from,\n",
    "  b.valid_to,\n",
    "  b.sale_price_type\n",
    "FROM\n",
    "{catalog_name}.udp_wcm_gold_vcm_dwh.d_sale_price_daily a\n",
    "  INNER JOIN SALE_PRICE_COMBINE b ON a.app = b.app AND a.cond_type = b.cond_type AND a.cond_rec_num = b.cond_no\n",
    "  INNER JOIN {catalog_name}.udp_wcm_gold_vcm_dwh.d_product c ON b.product_id = c.product_id\n",
    "WHERE\n",
    "  (a.del_indicator IS NULL OR a.del_indicator <> 'X')\n",
    "  AND a.rate IS NOT NULL\n",
    "\"\"\")"
   ]
  },
  {
   "cell_type": "code",
   "execution_count": 0,
   "metadata": {
    "application/vnd.databricks.v1+cell": {
     "cellMetadata": {
      "byteLimit": 2048000,
      "rowLimit": 10000
     },
     "inputWidgets": {},
     "nuid": "38690ea7-f00d-45b6-a901-842507bbf7bc",
     "showTitle": false,
     "tableResultSettingsMap": {},
     "title": ""
    }
   },
   "outputs": [],
   "source": [
    "spark.sql(f\"\"\"\n",
    "INSERT INTO {catalog_name}.udp_wcm_gold_vcm_dwh.d_sale_price_store_sku_daily\n",
    "SELECT * FROM temp_d_sale_price_store_sku_daily\"\"\")"
   ]
  },
  {
   "cell_type": "code",
   "execution_count": 0,
   "metadata": {
    "application/vnd.databricks.v1+cell": {
     "cellMetadata": {
      "byteLimit": 2048000,
      "rowLimit": 10000
     },
     "inputWidgets": {},
     "nuid": "28262b49-f844-4c65-a7fc-e1e645ed364d",
     "showTitle": false,
     "tableResultSettingsMap": {},
     "title": ""
    },
    "jupyter": {
     "outputs_hidden": true
    }
   },
   "outputs": [],
   "source": [
    "spark.sql(\"DROP VIEW IF EXISTS temp_d_sale_price_store_sku_daily\")"
   ]
  }
 ],
 "metadata": {
  "application/vnd.databricks.v1+notebook": {
   "computePreferences": null,
   "dashboards": [],
   "environmentMetadata": {
    "base_environment": "",
    "environment_version": "2"
   },
   "inputWidgetPreferences": null,
   "language": "python",
   "notebookMetadata": {
    "mostRecentlyExecutedCommandWithImplicitDF": {
     "commandId": 8579705638066199,
     "dataframes": [
      "_sqldf"
     ]
    },
    "pythonIndentUnit": 4
   },
   "notebookName": "d_sale_price_store_sku_daily",
   "widgets": {
    "environment": {
     "currentValue": "DEV",
     "nuid": "86575999-4c98-458d-9481-a72accd0dfd0",
     "typedWidgetInfo": {
      "autoCreated": false,
      "defaultValue": "",
      "label": "",
      "name": "environment",
      "options": {
       "widgetDisplayType": "Text",
       "validationRegex": null
      },
      "parameterDataType": "String"
     },
     "widgetInfo": {
      "widgetType": "text",
      "defaultValue": "",
      "label": "",
      "name": "environment",
      "options": {
       "widgetType": "text",
       "autoCreated": null,
       "validationRegex": null
      }
     }
    },
    "layer": {
     "currentValue": "",
     "nuid": "b7868298-056d-4b36-a999-80399df90d3a",
     "typedWidgetInfo": {
      "autoCreated": false,
      "defaultValue": "",
      "label": "",
      "name": "layer",
      "options": {
       "widgetDisplayType": "Text",
       "validationRegex": null
      },
      "parameterDataType": "String"
     },
     "widgetInfo": {
      "widgetType": "text",
      "defaultValue": "",
      "label": "",
      "name": "layer",
      "options": {
       "widgetType": "text",
       "autoCreated": null,
       "validationRegex": null
      }
     }
    },
    "proc_date": {
     "currentValue": "2025-07-21",
     "nuid": "9ed1fcc6-a3fc-48c6-b0af-10aa63da54b1",
     "typedWidgetInfo": {
      "autoCreated": false,
      "defaultValue": "",
      "label": "",
      "name": "proc_date",
      "options": {
       "widgetDisplayType": "Text",
       "validationRegex": null
      },
      "parameterDataType": "String"
     },
     "widgetInfo": {
      "widgetType": "text",
      "defaultValue": "",
      "label": "",
      "name": "proc_date",
      "options": {
       "widgetType": "text",
       "autoCreated": null,
       "validationRegex": null
      }
     }
    }
   }
  },
  "language_info": {
   "name": "python"
  }
 },
 "nbformat": 4,
 "nbformat_minor": 0
}
