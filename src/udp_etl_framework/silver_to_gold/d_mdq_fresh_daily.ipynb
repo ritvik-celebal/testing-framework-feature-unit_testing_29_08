{
 "cells": [
  {
   "cell_type": "code",
   "execution_count": 0,
   "metadata": {
    "application/vnd.databricks.v1+cell": {
     "cellMetadata": {
      "byteLimit": 2048000,
      "rowLimit": 10000
     },
     "inputWidgets": {},
     "nuid": "06b0e7a4-b65e-4d2d-a3d1-a7b9d2e927e9",
     "showTitle": false,
     "tableResultSettingsMap": {},
     "title": ""
    }
   },
   "outputs": [],
   "source": [
    "%run ../utils/common"
   ]
  },
  {
   "cell_type": "code",
   "execution_count": 0,
   "metadata": {
    "application/vnd.databricks.v1+cell": {
     "cellMetadata": {
      "byteLimit": 2048000,
      "rowLimit": 10000
     },
     "inputWidgets": {},
     "nuid": "a5509b31-d173-49f6-8f2e-5d9d57188dbd",
     "showTitle": false,
     "tableResultSettingsMap": {},
     "title": ""
    }
   },
   "outputs": [],
   "source": [
    "dbutils.widgets.text(\"environment\", \"\", \"\")\n",
    "environment = dbutils.widgets.get(\"environment\")"
   ]
  },
  {
   "cell_type": "code",
   "execution_count": 0,
   "metadata": {
    "application/vnd.databricks.v1+cell": {
     "cellMetadata": {
      "byteLimit": 2048000,
      "rowLimit": 10000
     },
     "inputWidgets": {},
     "nuid": "b49738d2-3e1a-4061-94ca-9bf32579791f",
     "showTitle": false,
     "tableResultSettingsMap": {},
     "title": ""
    }
   },
   "outputs": [],
   "source": [
    "catalog_name = settings[environment]['catalog_name']"
   ]
  },
  {
   "cell_type": "code",
   "execution_count": 0,
   "metadata": {
    "application/vnd.databricks.v1+cell": {
     "cellMetadata": {
      "byteLimit": 2048000,
      "rowLimit": 10000
     },
     "inputWidgets": {},
     "nuid": "fe4678cb-ea7e-43ee-b51a-73548f1b078a",
     "showTitle": false,
     "tableResultSettingsMap": {},
     "title": ""
    }
   },
   "outputs": [],
   "source": [
    "spark.sql(f\"\"\"\n",
    "CREATE OR REPLACE TABLE {catalog_name}.udp_wcm_gold_vcm_dwh.d_mdq_fresh_daily \n",
    "TBLPROPERTIES (\n",
    "  'DELTA.AUTOOPTIMIZE.OPTIMIZEWRITE' = 'TRUE',\n",
    "  'DELTA.AUTOOPTIMIZE.AUTOCOMPACT' = 'TRUE'\n",
    ") \n",
    "AS\n",
    "WITH \n",
    "TAB02 AS (\n",
    "    SELECT *\n",
    "    FROM {catalog_name}.udp_wcm_gold_vcm_dwh.d_assortment_active\n",
    "),\n",
    "ASRT_LIST AS (\n",
    "    SELECT DISTINCT \n",
    "        a.store_id, \n",
    "        a.product_id\n",
    "    FROM TAB02 a\n",
    "),\n",
    "SITE_ARTICLE AS (\n",
    "    SELECT \n",
    "        a.store_id, \n",
    "        a.product_id\n",
    "    FROM ASRT_LIST a\n",
    "        LEFT JOIN {catalog_name}.udp_wcm_gold_vcm_dwh.d_store b ON a.store_id = b.store_id\n",
    "    WHERE b.business_unit IN ('1500', '2000', '6000') \n",
    "        AND b.store_status_id <> 'CLOSED' \n",
    "        AND UPPER(b.store_name) NOT LIKE '[BLOCK]%'\n",
    "        AND UPPER(b.store_name) NOT LIKE 'OUTLET%' \n",
    "        AND UPPER(b.store_name) NOT LIKE '%HUB%' \n",
    "        AND UPPER(b.store_name) NOT LIKE '%ONLINE%'\n",
    "), \n",
    "MEATDELI AS (\n",
    "    SELECT * EXCEPT (rn)\n",
    "        FROM (\n",
    "            SELECT \n",
    "                ROW_NUMBER() OVER (PARTITION BY store_id, product_id ORDER BY proc_date DESC) rn,\n",
    "                store_id,\n",
    "                product_id,\n",
    "                'MEATDELI' order_channel,\n",
    "                base_uom,\n",
    "                mdq,\n",
    "                proc_date \n",
    "            FROM {catalog_name}.udp_wcm_silver_dim.eton_active_store_sku_meatdeli \n",
    "            WHERE DATE(proc_date) > '2021-06-20'\n",
    "        ) WHERE rn=1\n",
    ")\n",
    ", _3F AS (\n",
    "    SELECT * EXCEPT (rn)\n",
    "        FROM (\n",
    "            SELECT \n",
    "                ROW_NUMBER() OVER (PARTITION BY store_id, product_id ORDER BY proc_date DESC) rn,\n",
    "                store_id,\n",
    "                product_id,\n",
    "                '3F' order_channel,\n",
    "                base_uom,\n",
    "                mdq,\n",
    "                proc_date \n",
    "            FROM {catalog_name}.udp_wcm_silver_dim.eton_active_store_sku_3f  \n",
    "            WHERE DATE(proc_date) > '2021-06-20'\n",
    "        ) WHERE rn=1\n",
    ")\n",
    ", FRUIT AS (\n",
    "    SELECT * EXCEPT (rn)\n",
    "        FROM (\n",
    "            SELECT \n",
    "                ROW_NUMBER() OVER (PARTITION BY store_id, product_id ORDER BY proc_date DESC) rn,\n",
    "                store_id,\n",
    "                product_id,\n",
    "                'FRUIT' order_channel,\n",
    "                base_uom,\n",
    "                mdq,\n",
    "                proc_date \n",
    "            FROM {catalog_name}.udp_wcm_silver_dim.eton_active_store_sku_fruit \n",
    "            WHERE DATE(proc_date) > '2021-06-20'\n",
    "        ) WHERE rn=1\n",
    ")\n",
    ", CUTOFF AS (\n",
    "    SELECT DISTINCT\n",
    "        store_id, \n",
    "        product_id,\n",
    "        '' AS order_channel,\n",
    "        base_uom,\n",
    "        mdq,\n",
    "        CAST(DATE_ADD(start_date, 1) AS TIMESTAMP) proc_date\n",
    "    FROM {catalog_name}.udp_wcm_silver_dim.minstock_eton_fresh_scd_cutoff \n",
    ")\n",
    "SELECT  * EXCEPT (rn, proc_date),\n",
    "        CASE \n",
    "            WHEN a.mdq IS NULL THEN 'NOT AVAILABLE'\n",
    "            WHEN a.mdq IS NOT NULL AND a.mdq <> 0 THEN 'AVAILABLE'\n",
    "            WHEN a.mdq IS NOT NULL AND a.mdq = 0 THEN '0'\n",
    "        END mdq_available\n",
    "FROM    (\n",
    "    SELECT *, ROW_NUMBER() OVER (PARTITION BY store_id, product_id ORDER BY proc_date DESC) rn \n",
    "    FROM (\n",
    "        SELECT * FROM MEATDELI\n",
    "        UNION ALL\n",
    "        SELECT * FROM _3F\n",
    "        UNION ALL\n",
    "        SELECT * FROM CUTOFF\n",
    "        UNION ALL \n",
    "        SELECT * FROM FRUIT\n",
    "    ) \n",
    ") a\n",
    "JOIN    SITE_ARTICLE a1 USING (store_id, product_id)\n",
    "WHERE   a.rn=1 \n",
    ";\n",
    "\"\"\")"
   ]
  },
  {
   "cell_type": "code",
   "execution_count": 0,
   "metadata": {
    "application/vnd.databricks.v1+cell": {
     "cellMetadata": {
      "byteLimit": 2048000,
      "implicitDf": true,
      "rowLimit": 10000
     },
     "inputWidgets": {},
     "nuid": "8b3273c7-8308-4431-b9da-c63e69db8e32",
     "showTitle": false,
     "tableResultSettingsMap": {},
     "title": ""
    }
   },
   "outputs": [],
   "source": [
    "spark.sql(f\"\"\"\n",
    "CREATE TABLE IF NOT EXISTS {catalog_name}.udp_wcm_gold_vcm_dwh.d_mdq_fresh_daily_hist\n",
    "(\n",
    "calday DATE,\n",
    "store_id STRING,\n",
    "product_id STRING,\n",
    "mdq DOUBLE\n",
    ")\n",
    "TBLPROPERTIES (\n",
    "  'DELTA.AUTOOPTIMIZE.OPTIMIZEWRITE' = 'TRUE',\n",
    "  'DELTA.AUTOOPTIMIZE.AUTOCOMPACT' = 'TRUE'\n",
    ")\n",
    "\"\"\")"
   ]
  },
  {
   "cell_type": "code",
   "execution_count": 0,
   "metadata": {
    "application/vnd.databricks.v1+cell": {
     "cellMetadata": {
      "byteLimit": 2048000,
      "rowLimit": 10000
     },
     "inputWidgets": {},
     "nuid": "9630fc26-edd3-48d3-b678-05be1d6e8747",
     "showTitle": false,
     "tableResultSettingsMap": {},
     "title": ""
    }
   },
   "outputs": [],
   "source": [
    "spark.sql(f\"\"\"\n",
    "INSERT INTO {catalog_name}.udp_wcm_gold_vcm_dwh.D_MDQ_FRESH_DAILY_HIST\n",
    "SELECT DATE(CURRENT_TIMESTAMP() + INTERVAL 7 HOURS) AS calday, store_id, product_id, mdq FROM {catalog_name}.udp_wcm_gold_vcm_dwh.D_MDQ_FRESH_DAILY\n",
    ";\"\"\")"
   ]
  }
 ],
 "metadata": {
  "application/vnd.databricks.v1+notebook": {
   "computePreferences": null,
   "dashboards": [],
   "environmentMetadata": {
    "base_environment": "",
    "environment_version": "2"
   },
   "inputWidgetPreferences": null,
   "language": "python",
   "notebookMetadata": {
    "mostRecentlyExecutedCommandWithImplicitDF": {
     "commandId": -1,
     "dataframes": [
      "_sqldf"
     ]
    },
    "pythonIndentUnit": 4
   },
   "notebookName": "d_mdq_fresh_daily",
   "widgets": {
    "environment": {
     "currentValue": "DEV",
     "nuid": "a6b3771c-0293-4f19-8c8e-d3265306f6f8",
     "typedWidgetInfo": {
      "autoCreated": false,
      "defaultValue": "",
      "label": "",
      "name": "environment",
      "options": {
       "widgetDisplayType": "Text",
       "validationRegex": null
      },
      "parameterDataType": "String"
     },
     "widgetInfo": {
      "widgetType": "text",
      "defaultValue": "",
      "label": "",
      "name": "environment",
      "options": {
       "widgetType": "text",
       "autoCreated": null,
       "validationRegex": null
      }
     }
    }
   }
  },
  "language_info": {
   "name": "python"
  }
 },
 "nbformat": 4,
 "nbformat_minor": 0
}
