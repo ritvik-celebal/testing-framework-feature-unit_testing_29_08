{
 "cells": [
  {
   "cell_type": "code",
   "execution_count": 0,
   "metadata": {
    "application/vnd.databricks.v1+cell": {
     "cellMetadata": {
      "byteLimit": 2048000,
      "rowLimit": 10000
     },
     "inputWidgets": {},
     "nuid": "961d408f-26cd-45ed-ac85-46c1c92828ee",
     "showTitle": false,
     "tableResultSettingsMap": {},
     "title": ""
    }
   },
   "outputs": [],
   "source": [
    "%run ../utils/common"
   ]
  },
  {
   "cell_type": "code",
   "execution_count": 0,
   "metadata": {
    "application/vnd.databricks.v1+cell": {
     "cellMetadata": {
      "byteLimit": 2048000,
      "rowLimit": 10000
     },
     "inputWidgets": {},
     "nuid": "1c0c9839-01bd-48fc-8de5-03251e3b9220",
     "showTitle": false,
     "tableResultSettingsMap": {},
     "title": ""
    }
   },
   "outputs": [],
   "source": [
    "dbutils.widgets.text(\"environment\", \"\", \"\")\n",
    "environment = dbutils.widgets.get(\"environment\")"
   ]
  },
  {
   "cell_type": "code",
   "execution_count": 0,
   "metadata": {
    "application/vnd.databricks.v1+cell": {
     "cellMetadata": {
      "byteLimit": 2048000,
      "rowLimit": 10000
     },
     "inputWidgets": {},
     "nuid": "68fd6694-e147-411d-b88d-4500ac3b6d2e",
     "showTitle": false,
     "tableResultSettingsMap": {},
     "title": ""
    }
   },
   "outputs": [],
   "source": [
    "catalog_name = settings[environment]['catalog_name']"
   ]
  },
  {
   "cell_type": "code",
   "execution_count": 0,
   "metadata": {
    "application/vnd.databricks.v1+cell": {
     "cellMetadata": {
      "byteLimit": 2048000,
      "rowLimit": 10000
     },
     "inputWidgets": {},
     "nuid": "be7d729f-10d3-4799-8fe5-723158d49f99",
     "showTitle": false,
     "tableResultSettingsMap": {},
     "title": ""
    }
   },
   "outputs": [],
   "source": [
    "spark.sql(f\"\"\"CREATE OR REPLACE TABLE {catalog_name}.udp_wcm_gold_vcm_dwh.d_store_sku_by_dc_fresh\n",
    "TBLPROPERTIES (\n",
    "  'DELTA.AUTOOPTIMIZE.OPTIMIZEWRITE' = 'TRUE',\n",
    "  'DELTA.AUTOOPTIMIZE.AUTOCOMPACT' = 'TRUE'\n",
    ") \n",
    "AS \n",
    "WITH \n",
    "asrt_list AS (\n",
    "    SELECT DISTINCT \n",
    "        a.store_id,\n",
    "        a.product_id\n",
    "    FROM {catalog_name}.udp_wcm_gold_vcm_dwh.d_assortment_active a\n",
    "        LEFT JOIN {catalog_name}.udp_wcm_gold_vcm_dwh.d_product b ON a.product_id = b.product_id\n",
    "        LEFT JOIN {catalog_name}.udp_wcm_gold_vcm_dwh.d_store c ON a.store_id = c.store_id\n",
    "    WHERE c.business_unit IN ('1500', '2000', '6000')\n",
    "        AND c.store_status_desc = \"Đang hoạt động\"\n",
    "        AND UPPER(c.store_name) NOT LIKE '[BLOCK]%'\n",
    "        AND UPPER(c.store_name) NOT LIKE 'OUTLET%' \n",
    "        AND UPPER(c.store_name) NOT LIKE '%HUB%' \n",
    "        AND UPPER(c.store_name) NOT LIKE '%ONLINE%'\n",
    "        AND UPPER(c.store_name) NOT LIKE '%KHO %'\n",
    "        AND UPPER(c.store_name) NOT LIKE '%B2B%'\n",
    "        AND a.store_id NOT LIKE 'GH%'\n",
    "),\n",
    "region_dc AS (\n",
    "    SELECT \n",
    "        region, city,\n",
    "        CASE\n",
    "            WHEN UPPER(region) RLIKE r'WMT' THEN '1500'\n",
    "            WHEN UPPER(region) RLIKE r'WMT' THEN '2000'\n",
    "        END business_unit  \n",
    "    FROM {catalog_name}.udp_wcm_gold_vcm_dwh.d_cfg_region_dc_city\n",
    "    WHERE UPPER(region) RLIKE r'WMT'\n",
    "),\n",
    "main AS (\n",
    "    SELECT a.region, b.city, d.store_id, a.product_id, a.vendor_id, a.vendor_subrange, a.uom, a.sell_price\n",
    "    FROM {catalog_name}.udp_wcm_gold_vcm_dwh.d_vendor_sku a\n",
    "    INNER JOIN region_dc b\n",
    "        ON a.region = b.region\n",
    "    LEFT JOIN {catalog_name}.udp_wcm_gold_vcm_dwh.d_product c\n",
    "        ON a.product_id = c.product_id\n",
    "    LEFT JOIN {catalog_name}.udp_wcm_gold_vcm_dwh.d_store d\n",
    "        ON b.city = d.city AND b.business_unit = d.business_unit\n",
    "    INNER JOIN asrt_list e\n",
    "        ON d.store_id = e.store_id AND a.product_id = e.product_id\n",
    "    WHERE d.store_status_desc = \"Đang hoạt động\"\n",
    "        AND UPPER(d.store_name) NOT LIKE '[BLOCK]%'\n",
    "        AND UPPER(d.store_name) NOT LIKE 'OUTLET%' \n",
    "        AND UPPER(d.store_name) NOT LIKE '%HUB%' \n",
    "        AND UPPER(d.store_name) NOT LIKE '%ONLINE%'\n",
    "        AND UPPER(d.store_name) NOT LIKE '%KHO %'\n",
    "        AND UPPER(d.store_name) NOT LIKE '%B2B%'\n",
    "        AND d.store_id NOT LIKE 'GH%'\n",
    ")\n",
    "SELECT *\n",
    "FROM main\"\"\")"
   ]
  },
  {
   "cell_type": "code",
   "execution_count": 0,
   "metadata": {
    "application/vnd.databricks.v1+cell": {
     "cellMetadata": {
      "byteLimit": 2048000,
      "rowLimit": 10000
     },
     "inputWidgets": {},
     "nuid": "72ab052e-908a-4d96-9a65-016a9c79e898",
     "showTitle": false,
     "tableResultSettingsMap": {},
     "title": ""
    }
   },
   "outputs": [],
   "source": [
    "spark.sql(f\"\"\"\n",
    "CREATE TABLE IF NOT EXISTS {catalog_name}.udp_wcm_gold_vcm_dwh.d_store_sku_by_dc_fresh_his(\n",
    "    calday DATE,\n",
    "    region STRING,\n",
    "    city STRING,\n",
    "    store_id STRING,\n",
    "    product_id STRING,\n",
    "    vendor_id STRING, \n",
    "    vendor_subrange STRING , \n",
    "    uom STRING, \n",
    "    sell_price DOUBLE\n",
    ")\n",
    "TBLPROPERTIES (\n",
    "  'DELTA.AUTOOPTIMIZE.OPTIMIZEWRITE' = 'TRUE',\n",
    "  'DELTA.AUTOOPTIMIZE.AUTOCOMPACT' = 'TRUE'\n",
    ")\n",
    "\"\"\")"
   ]
  },
  {
   "cell_type": "code",
   "execution_count": 0,
   "metadata": {
    "application/vnd.databricks.v1+cell": {
     "cellMetadata": {
      "byteLimit": 2048000,
      "rowLimit": 10000
     },
     "inputWidgets": {},
     "nuid": "70c00221-d37c-4cd0-929e-6928c2558ca2",
     "showTitle": false,
     "tableResultSettingsMap": {},
     "title": ""
    }
   },
   "outputs": [],
   "source": [
    "spark.sql(f\"\"\"\n",
    "DELETE FROM {catalog_name}.udp_wcm_gold_vcm_dwh.d_store_sku_by_dc_fresh_his \n",
    "WHERE calday = DATE(CURRENT_TIMESTAMP() + INTERVAL 7 HOURS);\n",
    "\"\"\")"
   ]
  },
  {
   "cell_type": "code",
   "execution_count": 0,
   "metadata": {
    "application/vnd.databricks.v1+cell": {
     "cellMetadata": {
      "byteLimit": 2048000,
      "rowLimit": 10000
     },
     "inputWidgets": {},
     "nuid": "572db239-9c85-4636-a717-935a2b6c104b",
     "showTitle": false,
     "tableResultSettingsMap": {},
     "title": ""
    }
   },
   "outputs": [],
   "source": [
    "spark.sql(f\"\"\"\n",
    "INSERT INTO {catalog_name}.udp_wcm_gold_vcm_dwh.d_store_sku_by_dc_fresh_his\n",
    "SELECT\n",
    "    DATE(CURRENT_TIMESTAMP() + INTERVAL 7 HOURS) calday,\n",
    "    region,\n",
    "    city,\n",
    "    store_id,\n",
    "    product_id,\n",
    "    vendor_id, \n",
    "    vendor_subrange, \n",
    "    uom, \n",
    "    sell_price\n",
    "FROM {catalog_name}.udp_wcm_gold_vcm_dwh.d_store_sku_by_dc_fresh;\n",
    "\"\"\")"
   ]
  }
 ],
 "metadata": {
  "application/vnd.databricks.v1+notebook": {
   "computePreferences": null,
   "dashboards": [],
   "environmentMetadata": {
    "base_environment": "",
    "environment_version": "2"
   },
   "inputWidgetPreferences": null,
   "language": "python",
   "notebookMetadata": {
    "mostRecentlyExecutedCommandWithImplicitDF": {
     "commandId": 6403329334306990,
     "dataframes": [
      "_sqldf"
     ]
    },
    "pythonIndentUnit": 4
   },
   "notebookName": "d_store_sku_by_dc_fresh",
   "widgets": {
    "environment": {
     "currentValue": "DEV",
     "nuid": "de2e4573-71c9-4afe-81ba-ead62a661a65",
     "typedWidgetInfo": {
      "autoCreated": false,
      "defaultValue": "",
      "label": "",
      "name": "environment",
      "options": {
       "widgetDisplayType": "Text",
       "validationRegex": null
      },
      "parameterDataType": "String"
     },
     "widgetInfo": {
      "widgetType": "text",
      "defaultValue": "",
      "label": "",
      "name": "environment",
      "options": {
       "widgetType": "text",
       "autoCreated": null,
       "validationRegex": null
      }
     }
    },
    "proc_date": {
     "currentValue": "2025-07-21",
     "nuid": "1aaa92d7-8318-46a4-9ff8-bad92b6019d2",
     "typedWidgetInfo": {
      "autoCreated": false,
      "defaultValue": "",
      "label": "",
      "name": "proc_date",
      "options": {
       "widgetDisplayType": "Text",
       "validationRegex": null
      },
      "parameterDataType": "String"
     },
     "widgetInfo": {
      "widgetType": "text",
      "defaultValue": "",
      "label": "",
      "name": "proc_date",
      "options": {
       "widgetType": "text",
       "autoCreated": null,
       "validationRegex": null
      }
     }
    }
   }
  },
  "language_info": {
   "name": "python"
  }
 },
 "nbformat": 4,
 "nbformat_minor": 0
}
