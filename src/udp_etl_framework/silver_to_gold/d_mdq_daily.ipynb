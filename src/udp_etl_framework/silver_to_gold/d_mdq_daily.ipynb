{
 "cells": [
  {
   "cell_type": "code",
   "execution_count": 0,
   "metadata": {
    "application/vnd.databricks.v1+cell": {
     "cellMetadata": {
      "byteLimit": 2048000,
      "rowLimit": 10000
     },
     "inputWidgets": {},
     "nuid": "06b0e7a4-b65e-4d2d-a3d1-a7b9d2e927e9",
     "showTitle": false,
     "tableResultSettingsMap": {},
     "title": ""
    }
   },
   "outputs": [],
   "source": [
    "%run ../utils/common"
   ]
  },
  {
   "cell_type": "code",
   "execution_count": 0,
   "metadata": {
    "application/vnd.databricks.v1+cell": {
     "cellMetadata": {
      "byteLimit": 2048000,
      "rowLimit": 10000
     },
     "inputWidgets": {},
     "nuid": "a5509b31-d173-49f6-8f2e-5d9d57188dbd",
     "showTitle": false,
     "tableResultSettingsMap": {},
     "title": ""
    }
   },
   "outputs": [],
   "source": [
    "dbutils.widgets.text(\"environment\", \"\", \"\")\n",
    "environment = dbutils.widgets.get(\"environment\")"
   ]
  },
  {
   "cell_type": "code",
   "execution_count": 0,
   "metadata": {
    "application/vnd.databricks.v1+cell": {
     "cellMetadata": {
      "byteLimit": 2048000,
      "rowLimit": 10000
     },
     "inputWidgets": {},
     "nuid": "b49738d2-3e1a-4061-94ca-9bf32579791f",
     "showTitle": false,
     "tableResultSettingsMap": {},
     "title": ""
    }
   },
   "outputs": [],
   "source": [
    "catalog_name = settings[environment]['catalog_name']"
   ]
  },
  {
   "cell_type": "code",
   "execution_count": 0,
   "metadata": {
    "application/vnd.databricks.v1+cell": {
     "cellMetadata": {
      "byteLimit": 2048000,
      "rowLimit": 10000
     },
     "inputWidgets": {},
     "nuid": "e54a3255-6a6b-4a77-be74-bd7f6afc9bbd",
     "showTitle": false,
     "tableResultSettingsMap": {},
     "title": ""
    }
   },
   "outputs": [],
   "source": [
    "spark.sql(f\"\"\"\n",
    "CREATE OR REPLACE TABLE {catalog_name}.udp_wcm_gold_vcm_dwh.d_mdq_daily \n",
    "TBLPROPERTIES (\n",
    "  'DELTA.AUTOOPTIMIZE.OPTIMIZEWRITE' = 'TRUE',\n",
    "  'DELTA.AUTOOPTIMIZE.AUTOCOMPACT' = 'TRUE'\n",
    ")\n",
    "AS\n",
    "SELECT  store_id,\n",
    "        product_id,\n",
    "        mdq,\n",
    "        external_report_mdq,\n",
    "        internal_report_mdq,\n",
    "        old_mdq,\n",
    "        mdq_age,\n",
    "        mdq_available,\n",
    "        replenishment_mode,\n",
    "        'NON_FRESH' AS sku_type\n",
    "FROM    {catalog_name}.udp_wcm_gold_vcm_dwh.d_mdq_ambient_daily\n",
    "WHERE   product_id NOT IN (SELECT product_id FROM {catalog_name}.udp_wcm_gold_vcm_dwh.d_mdq_fresh_daily)\n",
    "UNION ALL\n",
    "SELECT  store_id,\n",
    "        product_id,\n",
    "        mdq,\n",
    "        mdq AS external_report_mdq,\n",
    "        mdq AS internal_report_mdq,\n",
    "        mdq AS old_mdq,\n",
    "        NULL AS mdq_age,\n",
    "        mdq_available,\n",
    "        NULL AS replenishment_mode,\n",
    "        'FRESH' AS sku_type\n",
    "FROM    {catalog_name}.udp_wcm_gold_vcm_dwh.d_mdq_fresh_daily;\n",
    "\"\"\")"
   ]
  }
 ],
 "metadata": {
  "application/vnd.databricks.v1+notebook": {
   "computePreferences": null,
   "dashboards": [],
   "environmentMetadata": {
    "base_environment": "",
    "environment_version": "2"
   },
   "inputWidgetPreferences": null,
   "language": "python",
   "notebookMetadata": {
    "mostRecentlyExecutedCommandWithImplicitDF": {
     "commandId": 6340711113773993,
     "dataframes": [
      "_sqldf"
     ]
    },
    "pythonIndentUnit": 4
   },
   "notebookName": "d_mdq_daily",
   "widgets": {
    "environment": {
     "currentValue": "DEV",
     "nuid": "a6b3771c-0293-4f19-8c8e-d3265306f6f8",
     "typedWidgetInfo": {
      "autoCreated": false,
      "defaultValue": "",
      "label": "",
      "name": "environment",
      "options": {
       "widgetDisplayType": "Text",
       "validationRegex": null
      },
      "parameterDataType": "String"
     },
     "widgetInfo": {
      "widgetType": "text",
      "defaultValue": "",
      "label": "",
      "name": "environment",
      "options": {
       "widgetType": "text",
       "autoCreated": null,
       "validationRegex": null
      }
     }
    }
   }
  },
  "language_info": {
   "name": "python"
  }
 },
 "nbformat": 4,
 "nbformat_minor": 0
}
