{
 "cells": [
  {
   "cell_type": "code",
   "execution_count": 0,
   "metadata": {
    "application/vnd.databricks.v1+cell": {
     "cellMetadata": {
      "byteLimit": 2048000,
      "rowLimit": 10000
     },
     "inputWidgets": {},
     "nuid": "f2acf0e1-2132-4ac1-b8ea-9470f2630076",
     "showTitle": false,
     "tableResultSettingsMap": {},
     "title": ""
    }
   },
   "outputs": [],
   "source": [
    "%run ../utils/common"
   ]
  },
  {
   "cell_type": "code",
   "execution_count": 0,
   "metadata": {
    "application/vnd.databricks.v1+cell": {
     "cellMetadata": {
      "byteLimit": 2048000,
      "rowLimit": 10000
     },
     "inputWidgets": {},
     "nuid": "80239969-4394-4c58-982c-6ec964f269ac",
     "showTitle": false,
     "tableResultSettingsMap": {},
     "title": ""
    }
   },
   "outputs": [],
   "source": [
    "dbutils.widgets.text(\"environment\", \"\", \"\")\n",
    "environment = dbutils.widgets.get(\"environment\")"
   ]
  },
  {
   "cell_type": "code",
   "execution_count": 0,
   "metadata": {
    "application/vnd.databricks.v1+cell": {
     "cellMetadata": {
      "byteLimit": 2048000,
      "rowLimit": 10000
     },
     "inputWidgets": {},
     "nuid": "8753327b-3550-4174-8033-4d8b7aa51802",
     "showTitle": false,
     "tableResultSettingsMap": {},
     "title": ""
    }
   },
   "outputs": [],
   "source": [
    "catalog_name = settings[environment]['catalog_name']"
   ]
  },
  {
   "cell_type": "code",
   "execution_count": 0,
   "metadata": {
    "application/vnd.databricks.v1+cell": {
     "cellMetadata": {
      "byteLimit": 2048000,
      "rowLimit": 10000
     },
     "inputWidgets": {},
     "nuid": "99c6537c-e9c2-4f13-b458-f62ebb6e037b",
     "showTitle": false,
     "tableResultSettingsMap": {},
     "title": ""
    }
   },
   "outputs": [],
   "source": [
    "spark.sql(f\"\"\"\n",
    "CREATE OR REPLACE TABLE {catalog_name}.udp_wcm_gold_db_supra_fresh.f_spr_daily_sale \n",
    "-- CLUSTER BY store_id, product_id \n",
    "TBLPROPERTIES (\n",
    "  'DELTA.AUTOOPTIMIZE.OPTIMIZEWRITE' = 'TRUE',\n",
    "  'DELTA.AUTOOPTIMIZE.AUTOCOMPACT' = 'TRUE'\n",
    ")\n",
    "AS\n",
    "WITH\n",
    "table_date AS (\n",
    "    SELECT EXPLODE(SEQUENCE(DATE_SUB(CURRENT_DATE(),  40 ), DATE_SUB(CURRENT_DATE(),  1 ))) date_gen\n",
    "),\n",
    "-- Bộ sản phẩm combo OLALA\n",
    "product_olala_bom AS (\n",
    "  SELECT DISTINCT\n",
    "    a.product_id,\n",
    "    a.component_id,\n",
    "    a.base_quantity,\n",
    "    a.component_quantity,\n",
    "    b.manufacturer_id\n",
    "  FROM\n",
    "    {catalog_name}.udp_wcm_gold_vcm_dwh.d_product_bom a\n",
    "    LEFT JOIN {catalog_name}.udp_wcm_gold_vcm_dwh.d_product b ON a.component_id = b.product_id\n",
    "  WHERE\n",
    "    b.brand_id = '15871' AND\n",
    "    b.manufacturer_id = '1915' AND\n",
    "    UPPER(mch4_desc) LIKE '%XÚC XÍCH%'\n",
    "),\n",
    "-- Danh sách Product MDL\n",
    "product_mdl AS (\n",
    "    SELECT *\n",
    "    FROM {catalog_name}.udp_wcm_gold_vcm_dwh.d_product\n",
    "    WHERE\n",
    "        product_id IN(SELECT DISTINCT product_id FROM {catalog_name}.udp_wcm_gold_vcm_db_supra_fresh.d_winare_mdl_special_sku_add)\n",
    "        OR manufacturer_id IN ('1915', '2325', '2640') \n",
    "        OR product_id IN (SELECT DISTINCT product_id FROM product_olala_bom)\n",
    "        OR (manufacturer_id ='1012' AND brand_name IN ('HEO CAO BỒI','PONNIE'))\n",
    "),\n",
    "asm_active AS (\n",
    "    SELECT\n",
    "        a.store_id,\n",
    "        a.product_id,\n",
    "        p.manufacturer_id,\n",
    "        IFNULL(IF(s.store_open_date > CURRENT_DATE - 14, 'YES', 'NO'),'NO') is_new_store,\n",
    "        s.city,\n",
    "        s.size_v,\n",
    "        MIN(a.start_date) asm_active_min_start_date\n",
    "    FROM\n",
    "        {catalog_name}.udp_wcm_gold_vcm_dwh.d_assortment_scd a\n",
    "        INNER JOIN {catalog_name}.udp_wcm_gold_vcm_dwh.d_store s ON a.store_id = s.store_id\n",
    "        INNER JOIN product_mdl p ON a.product_id = p.product_id\n",
    "    WHERE\n",
    "        a.status = 'ACTIVE'\n",
    "        AND s.business_unit in ('1500', '2000')\n",
    "        AND s.store_status_desc in (\"Đang hoat động\",\"Đang hoạt động\",\"Sắp đóng cửa\")\n",
    "        AND UPPER(s.store_name) NOT LIKE '[BLOCK]%'\n",
    "        AND UPPER(s.store_name) NOT LIKE 'OUTLET%'\n",
    "        AND UPPER(s.store_name) NOT LIKE '%HUB%'\n",
    "        AND UPPER(s.store_name) NOT LIKE '%ONLINE%'\n",
    "    GROUP BY 1,2,3,4,5,6\n",
    "),\n",
    "base_sale_qty AS (\n",
    "    SELECT\n",
    "        a.calday,\n",
    "        a.store_id,\n",
    "        IF(c.product_id IS NOT NULL, c.component_id, a.product_id) product_id,\n",
    "        IF(c.product_id IS NOT NULL, c.manufacturer_id, b.manufacturer_id) manufacturer_id,\n",
    "        SUM(a.base_sale_qty) base_sale_qty\n",
    "    FROM {catalog_name}.udp_wcm_gold_vcm_dwh.f_sale_prod a\n",
    "        LEFT JOIN product_mdl b ON a.product_id = b.product_id\n",
    "        LEFT JOIN product_olala_bom c ON a.product_id = c.product_id\n",
    "    WHERE calday >= DATE_SUB(CURRENT_DATE(),  40 ) AND calday < CURRENT_DATE()\n",
    "        AND a.product_id IS NOT NULL\n",
    "        AND b.manufacturer_id IS NOT NULL\n",
    "        AND b.product_id IS NOT NULL\n",
    "        AND (a.promotion NOT IN ('1000018319','1000062785') or a.promotion IS NULL)\n",
    "    GROUP BY 1,2,3,4\n",
    "),\n",
    "store_sku_full AS (\n",
    "    SELECT\n",
    "        date_gen calday,\n",
    "        a.store_id,\n",
    "        a.product_id,\n",
    "        a.manufacturer_id\n",
    "    FROM (\n",
    "        SELECT DISTINCT\n",
    "            store_id,\n",
    "            product_id,\n",
    "            manufacturer_id\n",
    "        FROM asm_active\n",
    "    ) a, table_date b\n",
    ")\n",
    ", temp_0 AS (\n",
    "    SELECT\n",
    "        a.calday,\n",
    "        a.store_id,\n",
    "        a.product_id,\n",
    "        IFNULL(b.manufacturer_id,a.manufacturer_id) AS manufacturer_id,\n",
    "        c.is_new_store,\n",
    "        c.city,\n",
    "        c.size_v,\n",
    "        IF(b.base_sale_qty IS NULL OR b.base_sale_qty <0, 0, b.base_sale_qty) base_sale_qty,\n",
    "        IFNULL(c.asm_active_min_start_date, DATE_SUB(CURRENT_DATE(),  40 )) asm_active_min_start_date,\n",
    "        d.dayofweek\n",
    "    FROM store_sku_full a\n",
    "        LEFT JOIN base_sale_qty b ON a.calday = b.calday AND a.store_id = b.store_id AND a.product_id = b.product_id\n",
    "        INNER JOIN asm_active c ON a.store_id = c.store_id AND a.product_id = c.product_id\n",
    "        LEFT JOIN {catalog_name}.udp_wcm_silver_dim.d_time d ON a.calday = d.calday\n",
    "),\n",
    "-- Adhoc tránh sale ngày bão\n",
    "adhoc_00 AS (\n",
    "  SELECT a.*\n",
    "  FROM\n",
    "    temp_0 a\n",
    "    LEFT JOIN {catalog_name}.udp_wcm_gold_vcm_dwh.d_store b ON a.store_id = b.store_id\n",
    "  WHERE NOT (\n",
    "    b.mien IN ('Miền Bắc', 'Miền Trung') AND\n",
    "    a.calday BETWEEN '2024-09-04' AND '2024-09-15'\n",
    "  )\n",
    "),\n",
    "adhoc_01 AS (\n",
    "  SELECT a.*\n",
    "  FROM adhoc_00 a\n",
    "  QUALIFY DENSE_RANK() OVER (PARTITION BY store_id ORDER BY a.calday DESC) <= 28\n",
    ")\n",
    ", temp_1 AS (\n",
    "    SELECT *, IF(calday >= asm_active_min_start_date, 1, 0) is_sum\n",
    "    FROM adhoc_01\n",
    ")\n",
    ", temp_2 AS (\n",
    "    SELECT\n",
    "        a.store_id,\n",
    "        a.product_id,\n",
    "        a.manufacturer_id,\n",
    "        b.base_uom base_unit,\n",
    "        a.asm_active_min_start_date,\n",
    "        a.is_new_store,\n",
    "        a.city,\n",
    "        a.size_v,\n",
    "        TRY_DIVIDE(SUM(base_sale_qty), COUNT(a.calday)) avg_sold_qty_28d,\n",
    "        TRY_DIVIDE(SUM(IF(is_new_store = \"NO\",base_sale_qty,0)), COUNT(IF(is_new_store = \"NO\", a.calday, NULL))) avg_sold_qty_28d_oldstore,\n",
    "        TRY_DIVIDE(SUM(IF(a.dayofweek = 2 AND is_new_store = \"NO\", base_sale_qty, 0)), COUNT(IF(a.dayofweek = 2 AND is_new_store = \"NO\", a.calday, NULL))) avg_sold_qty_4mon,\n",
    "        TRY_DIVIDE(SUM(IF(a.dayofweek = 3 AND is_new_store = \"NO\", base_sale_qty, 0)), COUNT(IF(a.dayofweek = 3 AND is_new_store = \"NO\", a.calday, NULL))) avg_sold_qty_4tue,\n",
    "        TRY_DIVIDE(SUM(IF(a.dayofweek = 4 AND is_new_store = \"NO\", base_sale_qty, 0)), COUNT(IF(a.dayofweek = 4 AND is_new_store = \"NO\", a.calday, NULL))) avg_sold_qty_4wed,\n",
    "        TRY_DIVIDE(SUM(IF(a.dayofweek = 5 AND is_new_store = \"NO\", base_sale_qty, 0)), COUNT(IF(a.dayofweek = 5 AND is_new_store = \"NO\", a.calday, NULL))) avg_sold_qty_4thu,\n",
    "        TRY_DIVIDE(SUM(IF(a.dayofweek = 6 AND is_new_store = \"NO\", base_sale_qty, 0)), COUNT(IF(a.dayofweek = 6 AND is_new_store = \"NO\", a.calday, NULL))) avg_sold_qty_4fri,\n",
    "        TRY_DIVIDE(SUM(IF(a.dayofweek = 7 AND is_new_store = \"NO\", base_sale_qty, 0)), COUNT(IF(a.dayofweek = 7 AND is_new_store = \"NO\", a.calday, NULL))) avg_sold_qty_4sat,\n",
    "        TRY_DIVIDE(SUM(IF(a.dayofweek = 1 AND is_new_store = \"NO\", base_sale_qty, 0)), COUNT(IF(a.dayofweek = 1 AND is_new_store = \"NO\", a.calday, NULL))) avg_sold_qty_4sun\n",
    "    FROM temp_1 a\n",
    "        LEFT JOIN {catalog_name}.udp_wcm_gold_vcm_dwh.d_product b ON a.product_id = b.product_id\n",
    "    WHERE is_sum = 1\n",
    "    GROUP BY 1,2,3,4,5,6,7,8\n",
    ")\n",
    ", avg_sold AS (\n",
    "    SELECT\n",
    "        store_id,\n",
    "        product_id,\n",
    "        manufacturer_id,\n",
    "        base_unit,\n",
    "        asm_active_min_start_date,\n",
    "        avg_sold_qty_28d,\n",
    "        avg_sold_qty_28d_oldstore,\n",
    "        is_new_store,\n",
    "        city,\n",
    "        size_v,\n",
    "        IFNULL(avg_sold_qty_4mon, avg_sold_qty_28d) avg_sold_qty_4mon,\n",
    "        IFNULL(avg_sold_qty_4tue, avg_sold_qty_28d) avg_sold_qty_4tue,\n",
    "        IFNULL(avg_sold_qty_4wed, avg_sold_qty_28d) avg_sold_qty_4wed,\n",
    "        IFNULL(avg_sold_qty_4thu, avg_sold_qty_28d) avg_sold_qty_4thu,\n",
    "        IFNULL(avg_sold_qty_4fri, avg_sold_qty_28d) avg_sold_qty_4fri,\n",
    "        IFNULL(avg_sold_qty_4sat, avg_sold_qty_28d) avg_sold_qty_4sat,\n",
    "        IFNULL(avg_sold_qty_4sun, avg_sold_qty_28d) avg_sold_qty_4sun\n",
    "    FROM temp_2\n",
    ")\n",
    ", avg_sold2 AS (\n",
    "\tSELECT\n",
    "\t\ta.*,\n",
    "\t\tTRY_DIVIDE(SUM(IF(is_new_store = \"NO\",avg_sold_qty_4mon,0)) OVER ( PARTITION BY store_id, manufacturer_id),SUM(avg_sold_qty_28d_oldstore) OVER ( PARTITION BY store_id, manufacturer_id )) fc_rate_mon,\n",
    "\t\tTRY_DIVIDE(SUM(IF(is_new_store = \"NO\",avg_sold_qty_4tue,0)) OVER ( PARTITION BY store_id, manufacturer_id),SUM(avg_sold_qty_28d_oldstore) OVER ( PARTITION BY store_id, manufacturer_id )) fc_rate_tue,\n",
    "\t\tTRY_DIVIDE(SUM(IF(is_new_store = \"NO\",avg_sold_qty_4wed,0)) OVER ( PARTITION BY store_id, manufacturer_id ),SUM(avg_sold_qty_28d_oldstore) OVER ( PARTITION BY store_id, manufacturer_id )) fc_rate_wed,\n",
    "\t\tTRY_DIVIDE(SUM(IF(is_new_store = \"NO\",avg_sold_qty_4thu,0)) OVER ( PARTITION BY store_id, manufacturer_id ),SUM(avg_sold_qty_28d_oldstore) OVER ( PARTITION BY store_id, manufacturer_id )) fc_rate_thu,\n",
    "\t\tTRY_DIVIDE(SUM(IF(is_new_store = \"NO\",avg_sold_qty_4fri,0)) OVER ( PARTITION BY store_id, manufacturer_id ),SUM(avg_sold_qty_28d_oldstore) OVER ( PARTITION BY store_id, manufacturer_id )) fc_rate_fri,\n",
    "\t\tTRY_DIVIDE(SUM(IF(is_new_store = \"NO\",avg_sold_qty_4sat,0)) OVER ( PARTITION BY store_id, manufacturer_id ),SUM(avg_sold_qty_28d_oldstore) OVER ( PARTITION BY store_id, manufacturer_id )) fc_rate_sat,\n",
    "\t\tTRY_DIVIDE(SUM(IF(is_new_store = \"NO\",avg_sold_qty_4sun,0)) OVER ( PARTITION BY store_id, manufacturer_id ),SUM(avg_sold_qty_28d_oldstore) OVER ( PARTITION BY store_id, manufacturer_id )) fc_rate_sun\n",
    "  FROM avg_sold a\n",
    ")\n",
    ", avg_sold3 AS (\n",
    "  SELECT \t*,\n",
    "      avg_sold_qty_28d * fc_rate_mon fc_sold_qty_mon,\n",
    "      avg_sold_qty_28d * fc_rate_tue fc_sold_qty_tue,\n",
    "      avg_sold_qty_28d * fc_rate_wed fc_sold_qty_wed,\n",
    "      avg_sold_qty_28d * fc_rate_thu fc_sold_qty_thu,\n",
    "      avg_sold_qty_28d * fc_rate_fri fc_sold_qty_fri,\n",
    "      avg_sold_qty_28d * fc_rate_sat fc_sold_qty_sat,\n",
    "      avg_sold_qty_28d * fc_rate_sun fc_sold_qty_sun\n",
    "  FROM avg_sold2)\n",
    ", sold_city AS (\n",
    "    SELECT\n",
    "        a.city, a.size_v,product_id,\n",
    "        AVG(avg_sold_qty_28d)  fc_sold_qty_28d_city,\n",
    "        AVG(a.fc_sold_qty_mon) fc_sold_qty_mon_city,\n",
    "        AVG(a.fc_sold_qty_tue) fc_sold_qty_tue_city,\n",
    "        AVG(a.fc_sold_qty_wed) fc_sold_qty_wed_city,\n",
    "        AVG(a.fc_sold_qty_thu) fc_sold_qty_thu_city,\n",
    "        AVG(a.fc_sold_qty_fri) fc_sold_qty_fri_city,\n",
    "        AVG(a.fc_sold_qty_sat) fc_sold_qty_sat_city,\n",
    "        AVG(a.fc_sold_qty_sun) fc_sold_qty_sun_city\n",
    "    FROM avg_sold3 a\n",
    "    WHERE is_new_store = 'NO'\n",
    "    GROUP BY 1,2,3\n",
    ")\n",
    ", avg_sold4 AS (\n",
    "  SELECT\n",
    "    a.* EXCEPT(fc_sold_qty_mon,fc_sold_qty_tue,fc_sold_qty_wed,fc_sold_qty_thu,fc_sold_qty_fri,fc_sold_qty_sat, fc_sold_qty_sun),\n",
    "      fc_sold_qty_mon fc_sold_qty_mon_0,\n",
    "      fc_sold_qty_tue fc_sold_qty_tue_0,\n",
    "      fc_sold_qty_wed fc_sold_qty_wed_0,\n",
    "      fc_sold_qty_thu fc_sold_qty_thu_0,\n",
    "      fc_sold_qty_fri fc_sold_qty_fri_0,\n",
    "      fc_sold_qty_sat fc_sold_qty_sat_0,\n",
    "      fc_sold_qty_sun fc_sold_qty_sun_0,\n",
    "      IF(is_new_store = 'NO',avg_sold_qty_28d, IF(IFNULL(fc_sold_qty_28d_city,0)=0,1,fc_sold_qty_28d_city)) fc_sold_qty_28d,\n",
    "      IF(is_new_store = 'NO',fc_sold_qty_mon, IF(IFNULL(fc_sold_qty_mon_city,0)=0,1,fc_sold_qty_mon_city))  fc_sold_qty_mon,\n",
    "      IF(is_new_store = 'NO',fc_sold_qty_tue, IF(IFNULL(fc_sold_qty_tue_city,0)=0,1,fc_sold_qty_tue_city))  fc_sold_qty_tue,\n",
    "      IF(is_new_store = 'NO',fc_sold_qty_wed, IF(IFNULL(fc_sold_qty_wed_city,0)=0,1,fc_sold_qty_wed_city))  fc_sold_qty_wed,\n",
    "      IF(is_new_store = 'NO',fc_sold_qty_thu, IF(IFNULL(fc_sold_qty_thu_city,0)=0,1,fc_sold_qty_thu_city))  fc_sold_qty_thu,\n",
    "      IF(is_new_store = 'NO',fc_sold_qty_fri, IF(IFNULL(fc_sold_qty_fri_city,0)=0,1,fc_sold_qty_fri_city))  fc_sold_qty_fri,\n",
    "      IF(is_new_store = 'NO',fc_sold_qty_sat, IF(IFNULL(fc_sold_qty_sat_city,0)=0,1,fc_sold_qty_sat_city))  fc_sold_qty_sat,\n",
    "      IF(is_new_store = 'NO',fc_sold_qty_sun, IF(IFNULL(fc_sold_qty_sun_city,0)=0,1,fc_sold_qty_sun_city))  fc_sold_qty_sun\n",
    "  FROM avg_sold3 a\n",
    "  LEFT JOIN sold_city c\n",
    "  ON a.city = c.city\n",
    "  AND a.product_id = c.product_id\n",
    "  AND a.size_v = c.size_v\n",
    ")\n",
    "SELECT * FROM avg_sold4 a\n",
    ";\n",
    "\"\"\")"
   ]
  }
 ],
 "metadata": {
  "application/vnd.databricks.v1+notebook": {
   "computePreferences": null,
   "dashboards": [],
   "environmentMetadata": {
    "base_environment": "",
    "environment_version": "2"
   },
   "inputWidgetPreferences": null,
   "language": "python",
   "notebookMetadata": {
    "mostRecentlyExecutedCommandWithImplicitDF": {
     "commandId": 6403329334326424,
     "dataframes": [
      "_sqldf"
     ]
    },
    "pythonIndentUnit": 4
   },
   "notebookName": "f_spr_daily_sale",
   "widgets": {
    "environment": {
     "currentValue": "DEV",
     "nuid": "098965fd-87ee-414b-a548-913ab9dd967d",
     "typedWidgetInfo": {
      "autoCreated": false,
      "defaultValue": "",
      "label": "",
      "name": "environment",
      "options": {
       "widgetDisplayType": "Text",
       "validationRegex": null
      },
      "parameterDataType": "String"
     },
     "widgetInfo": {
      "widgetType": "text",
      "defaultValue": "",
      "label": "",
      "name": "environment",
      "options": {
       "widgetType": "text",
       "autoCreated": null,
       "validationRegex": null
      }
     }
    },
    "proc_date": {
     "currentValue": "2025-06-28",
     "nuid": "14549bbb-feac-46b3-97d0-c34df4ede346",
     "typedWidgetInfo": {
      "autoCreated": false,
      "defaultValue": "",
      "label": null,
      "name": "proc_date",
      "options": {
       "widgetDisplayType": "Text",
       "validationRegex": null
      },
      "parameterDataType": "String"
     },
     "widgetInfo": {
      "widgetType": "text",
      "defaultValue": "",
      "label": null,
      "name": "proc_date",
      "options": {
       "widgetType": "text",
       "autoCreated": null,
       "validationRegex": null
      }
     }
    }
   }
  },
  "language_info": {
   "name": "python"
  }
 },
 "nbformat": 4,
 "nbformat_minor": 0
}
