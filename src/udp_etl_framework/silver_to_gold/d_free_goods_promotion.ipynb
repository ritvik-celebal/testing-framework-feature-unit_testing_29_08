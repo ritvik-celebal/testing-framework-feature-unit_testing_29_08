{
 "cells": [
  {
   "cell_type": "code",
   "execution_count": 0,
   "metadata": {
    "application/vnd.databricks.v1+cell": {
     "cellMetadata": {},
     "inputWidgets": {},
     "nuid": "18a5d303-b519-42ae-8fa5-432b885303f2",
     "showTitle": false,
     "tableResultSettingsMap": {},
     "title": ""
    }
   },
   "outputs": [],
   "source": [
    "%run ../utils/common"
   ]
  },
  {
   "cell_type": "code",
   "execution_count": 0,
   "metadata": {
    "application/vnd.databricks.v1+cell": {
     "cellMetadata": {},
     "inputWidgets": {},
     "nuid": "22c95fe1-1074-40d3-ad43-930ecaf0965a",
     "showTitle": false,
     "tableResultSettingsMap": {},
     "title": ""
    }
   },
   "outputs": [],
   "source": [
    "dbutils.widgets.text(\"environment\", \"\", \"\")\n",
    "environment = dbutils.widgets.get(\"environment\")"
   ]
  },
  {
   "cell_type": "code",
   "execution_count": 0,
   "metadata": {
    "application/vnd.databricks.v1+cell": {
     "cellMetadata": {},
     "inputWidgets": {},
     "nuid": "d1c12deb-2a48-4dc7-8b2b-0091e1ea501b",
     "showTitle": false,
     "tableResultSettingsMap": {},
     "title": ""
    }
   },
   "outputs": [],
   "source": [
    "catalog_name = settings[environment]['catalog_name']"
   ]
  },
  {
   "cell_type": "code",
   "execution_count": 0,
   "metadata": {
    "application/vnd.databricks.v1+cell": {
     "cellMetadata": {
      "byteLimit": 2048000,
      "rowLimit": 10000
     },
     "inputWidgets": {},
     "nuid": "9c487886-b655-4254-ba90-a38b29e84842",
     "showTitle": false,
     "tableResultSettingsMap": {},
     "title": ""
    }
   },
   "outputs": [],
   "source": [
    "spark.sql(f'''\n",
    "CREATE OR REPLACE TABLE {catalog_name}.udp_wcm_gold_vcm_dwh.d_free_goods_promotion \n",
    "--PARTITION BY valid_from CLUSTER BY article, add_article, vendor_id AS\n",
    "-- SITE LEVEL \n",
    "\n",
    "SELECT \n",
    "    a.lifnr vendor_id,\n",
    "    a.matnr article,\n",
    "    b.knrmm min_qty,\n",
    "    b.knrme free_goods_unit,\n",
    "    b.knrnm free_goods_qty,\n",
    "    b.knrzm add_qty,\n",
    "    b.knrez add_unit,\n",
    "    b.knrmat add_article,\n",
    "    CAST(NULL AS STRING) supply_region,\n",
    "    a.werks store_id,\n",
    "    a.datab valid_from,\n",
    "    a.datbi valid_to,\n",
    "    b.knr_ak promo_id,\n",
    "    prt.description promo_desc,\n",
    "    prt.theme promo_theme,\n",
    "    0 pri\n",
    "FROM {catalog_name}.udp_wcm_silver_sap_bw.sap_vccmdm37 a \n",
    "LEFT JOIN {catalog_name}.udp_wcm_silver_sap_bw.sap_vccmdm35 b ON b.knumh = a.knumh\n",
    "LEFT JOIN (SELECT DISTINCT rt_promo, FIRST_VALUE(txtmd) OVER (PARTITION BY rt_promo ORDER BY end_date DESC) txtmd FROM {catalog_name}.udp_wcm_silver_sap_bw.sap_trt_promo) pr ON pr.rt_promo = b.knr_ak\n",
    "LEFT JOIN (\n",
    "    SELECT DISTINCT \n",
    "        promotion, \n",
    "        FIRST_VALUE(theme) OVER (PARTITION BY promotion ORDER BY created_at DESC) theme,\n",
    "        FIRST_VALUE(description) OVER (PARTITION BY promotion ORDER BY created_at DESC) description \n",
    "    FROM {catalog_name}.udp_wcm_silver_sap_bw.sap_avccmdm472) prt ON prt.promotion = b.knr_ak\n",
    "LEFT JOIN (SELECT DISTINCT rt_promo, FIRST_VALUE(rt_promoct) OVER (PARTITION BY rt_promo ORDER BY end_date DESC) rt_promoct FROM {catalog_name}.udp_wcm_silver_sap_bw.sap_prt_promo) typ ON typ.rt_promo = b.knr_ak\n",
    "UNION ALL\n",
    "-- REGION LEVEL\n",
    "SELECT \n",
    "    a.lifnr vendor_id,\n",
    "    a.matnr article,\n",
    "    b.knrmm min_qty,\n",
    "    b.knrme free_goods_unit,\n",
    "    b.knrnm free_goods_qty,\n",
    "    b.knrzm add_qty,\n",
    "    b.knrez add_unit,\n",
    "    b.knrmat add_article,\n",
    "    a.zz_supply_region supply_region,\n",
    "    CAST(NULL AS STRING) site,\n",
    "    a.datab valid_from,\n",
    "    a.datbi valid_to,\n",
    "    b.knr_ak promo_id,\n",
    "    prt.description promo_desc,\n",
    "    prt.theme promo_theme,\n",
    "    1 pri\n",
    "FROM {catalog_name}.udp_wcm_silver_sap_bw.sap_vccmdm38 a \n",
    "LEFT JOIN {catalog_name}.udp_wcm_silver_sap_bw.sap_vccmdm35 b ON b.knumh = a.knumh\n",
    "LEFT JOIN (SELECT DISTINCT rt_promo, FIRST_VALUE(txtmd) OVER (PARTITION BY rt_promo ORDER BY end_date DESC) txtmd FROM {catalog_name}.udp_wcm_silver_sap_bw.sap_trt_promo) pr ON pr.rt_promo = b.knr_ak\n",
    "LEFT JOIN (\n",
    "    SELECT DISTINCT \n",
    "        promotion, \n",
    "        FIRST_VALUE(theme) OVER (PARTITION BY promotion ORDER BY created_at DESC) theme,\n",
    "        FIRST_VALUE(description) OVER (PARTITION BY promotion ORDER BY created_at DESC) description \n",
    "    FROM {catalog_name}.udp_wcm_silver_sap_bw.sap_avccmdm472) prt ON prt.promotion = b.knr_ak\n",
    "LEFT JOIN (SELECT DISTINCT rt_promo, FIRST_VALUE(rt_promoct) OVER (PARTITION BY rt_promo ORDER BY end_date DESC) rt_promoct FROM {catalog_name}.udp_wcm_silver_sap_bw.sap_prt_promo) typ ON typ.rt_promo = b.knr_ak\n",
    "UNION ALL\n",
    "-- FULL LEVEL\n",
    "SELECT \n",
    "    a.lifnr vendor_id,\n",
    "    a.matnr article,\n",
    "    b.knrmm min_qty,\n",
    "    b.knrme free_goods_unit,\n",
    "    b.knrnm free_goods_qty,\n",
    "    b.knrzm add_qty,\n",
    "    b.knrez add_unit,\n",
    "    b.knrmat add_article,\n",
    "    CAST(NULL AS STRING) supply_region,\n",
    "    CAST(NULL AS STRING) site,\n",
    "    a.datab valid_from,\n",
    "    a.datbi valid_to,\n",
    "    b.knr_ak promo_id,\n",
    "    prt.description promo_desc,\n",
    "    prt.theme promo_theme,\n",
    "    2 pri\n",
    "FROM {catalog_name}.udp_wcm_silver_sap_bw.sap_vccmdm36 a \n",
    "LEFT JOIN {catalog_name}.udp_wcm_silver_sap_bw.sap_vccmdm35 b ON b.knumh = a.knumh\n",
    "LEFT JOIN (SELECT DISTINCT rt_promo, FIRST_VALUE(txtmd) OVER (PARTITION BY rt_promo ORDER BY end_date DESC) txtmd FROM {catalog_name}.udp_wcm_silver_sap_bw.sap_trt_promo) pr ON pr.rt_promo = b.knr_ak\n",
    "LEFT JOIN (\n",
    "    SELECT DISTINCT \n",
    "        promotion, \n",
    "        FIRST_VALUE(theme) OVER (PARTITION BY promotion ORDER BY created_at DESC) theme,\n",
    "        FIRST_VALUE(description) OVER (PARTITION BY promotion ORDER BY created_at DESC) description \n",
    "    FROM {catalog_name}.udp_wcm_silver_sap_bw.sap_avccmdm472) prt ON prt.promotion = b.knr_ak\n",
    "LEFT JOIN (SELECT DISTINCT rt_promo, FIRST_VALUE(rt_promoct) OVER (PARTITION BY rt_promo ORDER BY end_date DESC) rt_promoct FROM {catalog_name}.udp_wcm_silver_sap_bw.sap_prt_promo) typ ON typ.rt_promo = b.knr_ak ''')"
   ]
  }
 ],
 "metadata": {
  "application/vnd.databricks.v1+notebook": {
   "computePreferences": null,
   "dashboards": [],
   "environmentMetadata": {
    "base_environment": "",
    "environment_version": "2"
   },
   "inputWidgetPreferences": null,
   "language": "python",
   "notebookMetadata": {
    "pythonIndentUnit": 4
   },
   "notebookName": "d_free_goods_promotion",
   "widgets": {}
  },
  "language_info": {
   "name": "python"
  }
 },
 "nbformat": 4,
 "nbformat_minor": 0
}
