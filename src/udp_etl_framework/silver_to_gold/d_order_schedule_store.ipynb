{
 "cells": [
  {
   "cell_type": "code",
   "execution_count": 0,
   "metadata": {
    "application/vnd.databricks.v1+cell": {
     "cellMetadata": {
      "byteLimit": 2048000,
      "rowLimit": 10000
     },
     "inputWidgets": {},
     "nuid": "e2a460ee-69c7-49ee-b0d1-d76b4390305f",
     "showTitle": false,
     "tableResultSettingsMap": {},
     "title": ""
    }
   },
   "outputs": [],
   "source": [
    "%run ../utils/common"
   ]
  },
  {
   "cell_type": "code",
   "execution_count": 0,
   "metadata": {
    "application/vnd.databricks.v1+cell": {
     "cellMetadata": {
      "byteLimit": 2048000,
      "rowLimit": 10000
     },
     "inputWidgets": {},
     "nuid": "45e71ef3-f55d-4e06-8033-03c50ed39b77",
     "showTitle": false,
     "tableResultSettingsMap": {},
     "title": ""
    }
   },
   "outputs": [],
   "source": [
    "dbutils.widgets.text(\"environment\", \"\", \"\")\n",
    "environment = dbutils.widgets.get(\"environment\")"
   ]
  },
  {
   "cell_type": "code",
   "execution_count": 0,
   "metadata": {
    "application/vnd.databricks.v1+cell": {
     "cellMetadata": {
      "byteLimit": 2048000,
      "rowLimit": 10000
     },
     "inputWidgets": {},
     "nuid": "91615caf-9c9d-4b47-9a9d-c292be63250f",
     "showTitle": false,
     "tableResultSettingsMap": {},
     "title": ""
    }
   },
   "outputs": [],
   "source": [
    "catalog_name = settings[environment]['catalog_name']"
   ]
  },
  {
   "cell_type": "code",
   "execution_count": 0,
   "metadata": {
    "application/vnd.databricks.v1+cell": {
     "cellMetadata": {
      "byteLimit": 2048000,
      "rowLimit": 10000
     },
     "inputWidgets": {},
     "nuid": "144a417a-a9e7-435e-99ba-deb5e91bb495",
     "showTitle": false,
     "tableResultSettingsMap": {},
     "title": ""
    }
   },
   "outputs": [],
   "source": [
    "spark.sql(f\"\"\"\n",
    "CREATE OR REPLACE TABLE {catalog_name}.udp_wcm_gold_db_winare_nonfresh_dc.d_order_schedule_store\n",
    "TBLPROPERTIES (\n",
    "  'DELTA.AUTOOPTIMIZE.OPTIMIZEWRITE' = 'TRUE',\n",
    "  'DELTA.AUTOOPTIMIZE.AUTOCOMPACT' = 'TRUE'\n",
    ")\n",
    "AS\n",
    "WITH d_portal_bu_dc_order_schedule AS (\n",
    "    SELECT\n",
    "        a.dc_id,\n",
    "        b.store_id,\n",
    "        a.order_schedule\n",
    "    FROM\n",
    "        {catalog_name}.udp_wcm_gold_vcm_dwh.d_portal_bu_dc_order_schedule a\n",
    "        LEFT JOIN {catalog_name}.udp_wcm_gold_vcm_dwh.d_store b ON a.business_unit = b.business_unit\n",
    "    WHERE b.store_status_desc = \"Đang hoạt động\"\n",
    ")\n",
    "SELECT DISTINCT\n",
    "    IFNULL(a.dc_id, b.dc_id) dc_id,\n",
    "    IFNULL(a.store_id, b.store_id) store_id,\n",
    "    IFNULL(a.order_schedule, b.order_schedule) order_schedule\n",
    "FROM\n",
    "    {catalog_name}.udp_wcm_gold_vcm_dwh.d_portal_dc_store_order_schedule a\n",
    "    FULL JOIN d_portal_bu_dc_order_schedule b ON a.dc_id = b.dc_id AND a.store_id = b.store_id;\n",
    "\"\"\")"
   ]
  }
 ],
 "metadata": {
  "application/vnd.databricks.v1+notebook": {
   "computePreferences": null,
   "dashboards": [],
   "environmentMetadata": {
    "base_environment": "",
    "environment_version": "2"
   },
   "inputWidgetPreferences": null,
   "language": "python",
   "notebookMetadata": {
    "pythonIndentUnit": 4
   },
   "notebookName": "d_order_schedule_store",
   "widgets": {
    "environment": {
     "currentValue": "DEV",
     "nuid": "04a907cb-d5c5-4747-bb89-a72f4fcc4536",
     "typedWidgetInfo": {
      "autoCreated": false,
      "defaultValue": "",
      "label": "",
      "name": "environment",
      "options": {
       "widgetDisplayType": "Text",
       "validationRegex": null
      },
      "parameterDataType": "String"
     },
     "widgetInfo": {
      "widgetType": "text",
      "defaultValue": "",
      "label": "",
      "name": "environment",
      "options": {
       "widgetType": "text",
       "autoCreated": null,
       "validationRegex": null
      }
     }
    }
   }
  },
  "language_info": {
   "name": "python"
  }
 },
 "nbformat": 4,
 "nbformat_minor": 0
}
