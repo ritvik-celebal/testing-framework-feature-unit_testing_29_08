{
 "cells": [
  {
   "cell_type": "code",
   "execution_count": 0,
   "metadata": {
    "application/vnd.databricks.v1+cell": {
     "cellMetadata": {
      "byteLimit": 2048000,
      "rowLimit": 10000
     },
     "inputWidgets": {},
     "nuid": "b36767e1-479d-4a49-aeca-7f26707f00ba",
     "showTitle": false,
     "tableResultSettingsMap": {},
     "title": ""
    }
   },
   "outputs": [],
   "source": [
    "%run ../utils/common"
   ]
  },
  {
   "cell_type": "code",
   "execution_count": 0,
   "metadata": {
    "application/vnd.databricks.v1+cell": {
     "cellMetadata": {
      "byteLimit": 2048000,
      "rowLimit": 10000
     },
     "inputWidgets": {},
     "nuid": "df2aec8b-917b-4798-8fc4-56343a25c827",
     "showTitle": false,
     "tableResultSettingsMap": {},
     "title": ""
    }
   },
   "outputs": [],
   "source": [
    "\n",
    "dbutils.widgets.text(\"environment\", \"\", \"\")\n",
    "environment = dbutils.widgets.get(\"environment\")"
   ]
  },
  {
   "cell_type": "code",
   "execution_count": 0,
   "metadata": {
    "application/vnd.databricks.v1+cell": {
     "cellMetadata": {
      "byteLimit": 2048000,
      "rowLimit": 10000
     },
     "inputWidgets": {},
     "nuid": "1b5fd06c-44e3-43cc-976c-8ae8e2509f63",
     "showTitle": false,
     "tableResultSettingsMap": {},
     "title": ""
    }
   },
   "outputs": [],
   "source": [
    "catalog_name = settings[environment]['catalog_name']"
   ]
  },
  {
   "cell_type": "code",
   "execution_count": 0,
   "metadata": {
    "application/vnd.databricks.v1+cell": {
     "cellMetadata": {
      "byteLimit": 2048000,
      "rowLimit": 10000
     },
     "inputWidgets": {},
     "nuid": "f6c8bf32-7c94-4bff-af98-47cec7dfbb2c",
     "showTitle": false,
     "tableResultSettingsMap": {},
     "title": ""
    }
   },
   "outputs": [],
   "source": [
    "spark.sql(f\"\"\"\n",
    "    CREATE OR REPLACE TABLE {catalog_name}.udp_wcm_gold_vcm_dmt.f_available_stock_dc \n",
    "    TBLPROPERTIES (\n",
    "  'DELTA.AUTOOPTIMIZE.OPTIMIZEWRITE' = 'TRUE',\n",
    "  'DELTA.AUTOOPTIMIZE.AUTOCOMPACT' = 'TRUE'\n",
    ")\n",
    "AS\n",
    "WITH \n",
    "f_sto_pending AS (\n",
    "    SELECT    \n",
    "        DATE(CURRENT_TIMESTAMP() + INTERVAL 7 HOURS) - 1 AS calday,\n",
    "        dc_id,\n",
    "        product_id,\n",
    "        spr_dc,\n",
    "        SUM(po_qty) AS po_qty,\n",
    "        SUM(gi_qty) AS gi_qty\n",
    "    FROM {catalog_name}.udp_wcm_gold_vcm_dwh.f_sto_pending_21d\n",
    "    WHERE IFNULL(gi_qty, 0) = 0 AND spr_dc = 0\n",
    "    GROUP BY 1,2,3,4\n",
    "), \n",
    "list_spr_dc AS (\n",
    "    SELECT DISTINCT dc_id \n",
    "    FROM {catalog_name}.udp_wcm_gold_db_winare_nonfresh_dc.d_cfg_winare_dc_golive \n",
    "    WHERE \n",
    "        supra = 'YES'\n",
    "        AND replenishment_mode = 'BS'\n",
    "        AND dc_id IN ('1291', '1312', '1358', '1362')\n",
    "), \n",
    "wcm_dc AS (\n",
    "    SELECT    \n",
    "        COALESCE(a.store_id, b.dc_id, c.store_id) AS dc_id,\n",
    "        COALESCE(a.product_id, b.product_id, c.product_id) AS product_id,\n",
    "        DATE(CURRENT_TIMESTAMP() + INTERVAL 7 HOURS) - 1 AS calday,\n",
    "        IFNULL(a.closing_stock_quantity, 0) AS stock_sloc2000_qty,\n",
    "        IFNULL(c.closing_stock_quantity, 0) AS stock_sloc3005_qty,\n",
    "        IFNULL(b.po_qty, 0) AS sto_pending_qty,\n",
    "        IFNULL(a.closing_stock_quantity, 0) - IFNULL(b.po_qty, 0) AS avaiable_stock_qty,\n",
    "        IFNULL(a.closing_stock_quantity, 0) AS physical_stock_qty,\n",
    "        CAST(NULL AS DOUBLE) AS lost_qty,\n",
    "        CAST(NULL AS DOUBLE) AS damage_qty,\n",
    "        CAST(NULL AS DOUBLE) AS out_of_date_qty,\n",
    "        CAST(NULL AS DOUBLE) AS nearing_expiration_date_qty,\n",
    "        CAST(NULL AS DOUBLE) AS return_to_vendor_qty,\n",
    "        0 AS spr_dc\n",
    "    FROM (\n",
    "        SELECT * \n",
    "        FROM {catalog_name}.udp_wcm_gold_vcm_dwh.f_inventory_sloc_2000 \n",
    "        WHERE calday = DATE(CURRENT_TIMESTAMP() + INTERVAL 7 HOURS) - 1\n",
    "    ) a\n",
    "    FULL OUTER JOIN f_sto_pending b \n",
    "        ON a.store_id = b.dc_id AND a.product_id = b.product_id\n",
    "    FULL OUTER JOIN (\n",
    "        SELECT * \n",
    "        FROM {catalog_name}.udp_wcm_gold_vcm_dwh.f_inventory_sloc_3005 \n",
    "        WHERE calday = DATE(CURRENT_TIMESTAMP() + INTERVAL 7 HOURS) - 1\n",
    "    ) c\n",
    "        ON IFNULL(a.store_id, b.dc_id) = c.store_id \n",
    "        AND IFNULL(a.product_id, b.product_id) = c.product_id\n",
    "    WHERE COALESCE(a.store_id, b.dc_id, c.store_id) IN (\n",
    "        SELECT store_id \n",
    "        FROM {catalog_name}.udp_wcm_gold_vcm_dwh.d_store \n",
    "        WHERE business_unit = '1100'\n",
    "    )\n",
    "    AND COALESCE(a.store_id, b.dc_id, c.store_id) NOT IN (\n",
    "        SELECT dc_id FROM list_spr_dc\n",
    "    )\n",
    "), \n",
    "spr_dc AS (\n",
    "    SELECT    \n",
    "        dc_id,\n",
    "        product_id,\n",
    "        DATE(CURRENT_TIMESTAMP() + INTERVAL 7 HOURS) - 1 AS calday,\n",
    "        CAST(NULL AS DOUBLE) AS stock_sloc2000_qty,\n",
    "        CAST(NULL AS DOUBLE) AS stock_sloc3005_qty,\n",
    "        CAST(NULL AS DOUBLE) AS sto_pending_qty,\n",
    "        rkt_available_qty AS avaiable_stock_qty,\n",
    "        sft_available_qty AS physical_stock_qty,\n",
    "        sft_lost_qty AS lost_qty,\n",
    "        sft_damage_qty AS damage_qty,\n",
    "        sft_out_of_date_qty AS out_of_date_qty,\n",
    "        sft_nearing_expiration_date_qty AS nearing_expiration_date_qty,\n",
    "        sft_return_to_vendor_qty AS return_to_vendor_qty,\n",
    "        1 AS spr_dc\n",
    "    FROM {catalog_name}.udp_wcm_gold_vcm_dwh.f_inventory_sft \n",
    "    WHERE calday = DATE(CURRENT_TIMESTAMP() + INTERVAL 7 HOURS)\n",
    "        AND dc_id IN (\n",
    "            SELECT dc_id FROM list_spr_dc\n",
    "        )\n",
    "), \n",
    "main AS (\n",
    "    SELECT * FROM wcm_dc\n",
    "    UNION ALL \n",
    "    SELECT * FROM spr_dc\n",
    ")\n",
    "\n",
    "SELECT \n",
    "    FARM_FINGERPRINT(CONCAT(\n",
    "        IFNULL(CAST(dc_id AS STRING), ''), \n",
    "        IFNULL(CAST(product_id AS STRING), ''),\n",
    "        IFNULL(CAST(calday AS STRING), '')\n",
    "    )) AS hash_id,\n",
    "    *,\n",
    "    CAST(NULL AS STRING) AS note\n",
    "FROM main\n",
    "\"\"\")\n"
   ]
  }
 ],
 "metadata": {
  "application/vnd.databricks.v1+notebook": {
   "computePreferences": null,
   "dashboards": [],
   "environmentMetadata": {
    "base_environment": "",
    "environment_version": "2"
   },
   "inputWidgetPreferences": null,
   "language": "python",
   "notebookMetadata": {
    "mostRecentlyExecutedCommandWithImplicitDF": {
     "commandId": 4736130552740649,
     "dataframes": [
      "_sqldf"
     ]
    },
    "pythonIndentUnit": 4
   },
   "notebookName": "f_available_stock_dc",
   "widgets": {
    "environment": {
     "currentValue": "DEV",
     "nuid": "2e0f6b2b-ebd3-44fb-8b4e-194cb65dd16c",
     "typedWidgetInfo": {
      "autoCreated": false,
      "defaultValue": "",
      "label": "",
      "name": "environment",
      "options": {
       "widgetDisplayType": "Text",
       "validationRegex": null
      },
      "parameterDataType": "String"
     },
     "widgetInfo": {
      "widgetType": "text",
      "defaultValue": "",
      "label": "",
      "name": "environment",
      "options": {
       "widgetType": "text",
       "autoCreated": null,
       "validationRegex": null
      }
     }
    },
    "proc_date": {
     "currentValue": "2025-06-28",
     "nuid": "b54c67c1-d961-4d60-9735-6d6ce06a8c33",
     "typedWidgetInfo": {
      "autoCreated": false,
      "defaultValue": "",
      "label": null,
      "name": "proc_date",
      "options": {
       "widgetDisplayType": "Text",
       "validationRegex": null
      },
      "parameterDataType": "String"
     },
     "widgetInfo": {
      "widgetType": "text",
      "defaultValue": "",
      "label": null,
      "name": "proc_date",
      "options": {
       "widgetType": "text",
       "autoCreated": null,
       "validationRegex": null
      }
     }
    }
   }
  },
  "language_info": {
   "name": "python"
  }
 },
 "nbformat": 4,
 "nbformat_minor": 0
}
