{
 "cells": [
  {
   "cell_type": "code",
   "execution_count": 0,
   "metadata": {
    "application/vnd.databricks.v1+cell": {
     "cellMetadata": {
      "byteLimit": 2048000,
      "rowLimit": 10000
     },
     "inputWidgets": {},
     "nuid": "cf99c0a3-cbda-409b-b2c3-52a922d20bf7",
     "showTitle": false,
     "tableResultSettingsMap": {},
     "title": ""
    }
   },
   "outputs": [],
   "source": [
    "dbutils.widgets.text(\"proc_date\", \"\")\n",
    "proc_date = dbutils.widgets.get(\"proc_date\")"
   ]
  },
  {
   "cell_type": "code",
   "execution_count": 0,
   "metadata": {
    "application/vnd.databricks.v1+cell": {
     "cellMetadata": {
      "byteLimit": 2048000,
      "rowLimit": 10000
     },
     "inputWidgets": {},
     "nuid": "a41b3d6e-509c-4213-bfee-6b8d4f06f571",
     "showTitle": false,
     "tableResultSettingsMap": {},
     "title": ""
    }
   },
   "outputs": [],
   "source": [
    "%run ../utils/common"
   ]
  },
  {
   "cell_type": "code",
   "execution_count": 0,
   "metadata": {
    "application/vnd.databricks.v1+cell": {
     "cellMetadata": {
      "byteLimit": 2048000,
      "rowLimit": 10000
     },
     "inputWidgets": {},
     "nuid": "ab5ee46f-c566-495f-8574-84e75057de2e",
     "showTitle": false,
     "tableResultSettingsMap": {},
     "title": ""
    }
   },
   "outputs": [],
   "source": [
    "dbutils.widgets.text(\"environment\", \"\", \"\")\n",
    "environment = dbutils.widgets.get(\"environment\")"
   ]
  },
  {
   "cell_type": "code",
   "execution_count": 0,
   "metadata": {
    "application/vnd.databricks.v1+cell": {
     "cellMetadata": {
      "byteLimit": 2048000,
      "rowLimit": 10000
     },
     "inputWidgets": {},
     "nuid": "e91d6cdf-3a79-4dc1-80ef-69642b9eedad",
     "showTitle": false,
     "tableResultSettingsMap": {},
     "title": ""
    }
   },
   "outputs": [],
   "source": [
    "catalog_name = settings[environment]['catalog_name']"
   ]
  },
  {
   "cell_type": "code",
   "execution_count": 0,
   "metadata": {
    "application/vnd.databricks.v1+cell": {
     "cellMetadata": {
      "byteLimit": 2048000,
      "rowLimit": 10000
     },
     "inputWidgets": {},
     "nuid": "0d01b0de-a984-42e3-a829-8a3a2ed991c9",
     "showTitle": false,
     "tableResultSettingsMap": {},
     "title": ""
    }
   },
   "outputs": [],
   "source": [
    "spark.sql(f\"\"\"\n",
    "CREATE OR REPLACE TABLE {catalog_name}.udp_wcm_gold_db_winare_nonfresh_dc.d_store_sku_pilot_machine_learning \n",
    "TBLPROPERTIES (\n",
    "  'DELTA.AUTOOPTIMIZE.OPTIMIZEWRITE' = 'TRUE',\n",
    "  'DELTA.AUTOOPTIMIZE.AUTOCOMPACT' = 'TRUE'\n",
    ")\n",
    "AS\n",
    "WITH list_store AS (\n",
    "    SELECT store_id, 'CONTROL' AS scenario\n",
    "    FROM VALUES\n",
    "    ('5971'), ('3812'), ('3357'), ('3800'), ('4120'), ('2AE1'), ('6678'), ('6547'), ('2AG1'), ('6938'),\n",
    "    ('6851'), ('5626'), ('6096'), ('6654'), ('4195'), ('2A85'), ('4471'), ('6934'), ('2AC7'), ('4182'),\n",
    "    ('6266'), ('6145'), ('3892'), ('4092'), ('3855'), ('6953'), ('6839')\n",
    "    AS t(store_id)\n",
    "    UNION ALL\n",
    "    SELECT store_id, 'ML' AS scenario\n",
    "    FROM VALUES\n",
    "    ('4318'), ('4240'), ('4084'), ('6549'), ('3579'), ('4310'), ('4299'), ('6475'), ('6918'), ('6458'),\n",
    "    ('6536'), ('4181'), ('4401'), ('4472'), ('3798'), ('5756'), ('6034'), ('5198'), ('3770'), ('4209'),\n",
    "    ('3671'), ('6773'), ('6842'), ('6943'), ('6113'), ('6234'), ('6472')\n",
    "    AS t(store_id)\n",
    "    UNION ALL\n",
    "    SELECT store_id, 'ML_INV_POLICY' AS scenario\n",
    "FROM VALUES\n",
    "  ('4485'), ('3669'), ('3919'), ('5212'), ('6582'), ('3847'), ('5419'), ('6715'), ('2A01'), ('6928'),\n",
    "  ('5330'), ('3808'), ('5194'), ('3920'), ('4204'), ('4228'), ('6693'), ('4399'), ('6002'), ('5776'),\n",
    "  ('4074'), ('3780'), ('3427'), ('2A19'), ('6716'), ('6290')\n",
    "AS t(store_id)\n",
    "),\n",
    "main AS (\n",
    "    SELECT \n",
    "        a.store_id, a.product_id,\n",
    "        b.scenario\n",
    "    FROM {catalog_name}.udp_wcm_gold_vcm_db_inventory.d_mdq_store_dc_sku_biweekly a\n",
    "    INNER JOIN list_store b\n",
    "        ON a.store_id = b.store_id\n",
    "    LEFT JOIN {catalog_name}.udp_wcm_gold_db_winare_nonfresh_dc.d_new_winare_store_sku_golive c\n",
    "        ON a.store_id = c.store_id AND a.product_id = c.product_id\n",
    "    LEFT JOIN {catalog_name}.udp_wcm_gold_db_winare_nonfresh_dc.d_store_sku_winare_promotion_golive d\n",
    "        ON a.product_id = d.product_id\n",
    "    WHERE a.city = 'BÌNH DƯƠNG'\n",
    "        AND a.dc_id = '1312'\n",
    "        AND c.store_id IS NULL\n",
    "        AND d.product_id IS NULL\n",
    "        AND IFNULL(a.mdq, 0) > 0\n",
    ")\n",
    "SELECT *\n",
    "FROM main;\n",
    "\"\"\")"
   ]
  }
 ],
 "metadata": {
  "application/vnd.databricks.v1+notebook": {
   "computePreferences": null,
   "dashboards": [],
   "environmentMetadata": {
    "base_environment": "",
    "environment_version": "2"
   },
   "inputWidgetPreferences": null,
   "language": "python",
   "notebookMetadata": {
    "pythonIndentUnit": 4
   },
   "notebookName": "d_store_sku_pilot_machine_learning",
   "widgets": {
    "environment": {
     "currentValue": "DEV",
     "nuid": "8a2fd212-6357-4b12-b182-0fd099730bef",
     "typedWidgetInfo": {
      "autoCreated": false,
      "defaultValue": "",
      "label": "",
      "name": "environment",
      "options": {
       "widgetDisplayType": "Text",
       "validationRegex": null
      },
      "parameterDataType": "String"
     },
     "widgetInfo": {
      "widgetType": "text",
      "defaultValue": "",
      "label": "",
      "name": "environment",
      "options": {
       "widgetType": "text",
       "autoCreated": null,
       "validationRegex": null
      }
     }
    },
    "proc_date": {
     "currentValue": "2025-06-28",
     "nuid": "5f6d38af-f4d8-41dc-bed1-121be81eb556",
     "typedWidgetInfo": {
      "autoCreated": false,
      "defaultValue": "",
      "label": null,
      "name": "proc_date",
      "options": {
       "widgetDisplayType": "Text",
       "validationRegex": null
      },
      "parameterDataType": "String"
     },
     "widgetInfo": {
      "widgetType": "text",
      "defaultValue": "",
      "label": null,
      "name": "proc_date",
      "options": {
       "widgetType": "text",
       "autoCreated": null,
       "validationRegex": null
      }
     }
    }
   }
  },
  "language_info": {
   "name": "python"
  }
 },
 "nbformat": 4,
 "nbformat_minor": 0
}
