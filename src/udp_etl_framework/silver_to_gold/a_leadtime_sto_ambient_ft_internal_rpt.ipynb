{
 "cells": [
  {
   "cell_type": "code",
   "execution_count": 0,
   "metadata": {
    "application/vnd.databricks.v1+cell": {
     "cellMetadata": {
      "byteLimit": 2048000,
      "rowLimit": 10000
     },
     "inputWidgets": {},
     "nuid": "947ca599-0acb-42ba-90ec-495a276f5492",
     "showTitle": false,
     "tableResultSettingsMap": {},
     "title": ""
    }
   },
   "outputs": [],
   "source": [
    "%run ../utils/common"
   ]
  },
  {
   "cell_type": "code",
   "execution_count": 0,
   "metadata": {
    "application/vnd.databricks.v1+cell": {
     "cellMetadata": {
      "byteLimit": 2048000,
      "rowLimit": 10000
     },
     "inputWidgets": {},
     "nuid": "5160bdce-0f03-40cc-b6eb-ec6a83f3824b",
     "showTitle": false,
     "tableResultSettingsMap": {},
     "title": ""
    }
   },
   "outputs": [],
   "source": [
    "dbutils.widgets.text(\"environment\", \"\", \"\")\n",
    "environment = dbutils.widgets.get(\"environment\")"
   ]
  },
  {
   "cell_type": "code",
   "execution_count": 0,
   "metadata": {
    "application/vnd.databricks.v1+cell": {
     "cellMetadata": {
      "byteLimit": 2048000,
      "rowLimit": 10000
     },
     "inputWidgets": {},
     "nuid": "3b395b63-0523-467f-8e9a-99c40cdd5bc1",
     "showTitle": false,
     "tableResultSettingsMap": {},
     "title": ""
    }
   },
   "outputs": [],
   "source": [
    "catalog_name = settings[environment]['catalog_name']"
   ]
  },
  {
   "cell_type": "code",
   "execution_count": 0,
   "metadata": {
    "application/vnd.databricks.v1+cell": {
     "cellMetadata": {
      "byteLimit": 2048000,
      "rowLimit": 10000
     },
     "inputWidgets": {},
     "nuid": "9656b1c3-affd-4a8d-b55f-788ae58b6257",
     "showTitle": false,
     "tableResultSettingsMap": {},
     "title": ""
    }
   },
   "outputs": [],
   "source": [
    "spark.sql(f\"\"\"\n",
    "CREATE OR REPLACE TABLE {catalog_name}.udp_wcm_gold_vcm_dmt.a_leadtime_sto_ambient_ft_internal_rpt\n",
    "TBLPROPERTIES (\n",
    "'DELTA.AUTOOPTIMIZE.OPTIMIZEWRITE' = 'TRUE',\n",
    "'DELTA.AUTOOPTIMIZE.AUTOCOMPACT' = 'TRUE'\n",
    " )  \n",
    "AS\n",
    "WITH\n",
    "raw_do_data AS(\n",
    "  SELECT\n",
    "    a.* EXCEPT(sto_item, deliver_qty_sale, sales_unit),\n",
    "    CAST (sto_item AS INT) sto_item,\n",
    "    deliver_qty_sale * \n",
    "CASE \n",
    "  WHEN COALESCE(b.denomintr, 1) != 0 \n",
    "  THEN COALESCE(b.numerator, 1) / COALESCE(b.denomintr, 1) \n",
    "  ELSE 1 \n",
    "END AS do_qty_base\n",
    "  FROM (\n",
    "    SELECT a.* FROM {catalog_name}.udp_wcm_gold_vcm_dwh.f_delivery_order a\n",
    "    WHERE\n",
    "      calday >= '2024-01-01'\n",
    "      AND IFNULL(deliver_qty_sale,0) <> 0\n",
    "    QUALIFY ROW_NUMBER () OVER (PARTITION BY sto_number, sto_item, do_number, do_item ORDER BY calday DESC, creation_date DESC, crea_time DESC) = 1) a\n",
    "    LEFT JOIN {catalog_name}.udp_wcm_gold_vcm_dwh.d_product_unit b ON a.product_id = b.product_id AND a.sales_unit = b.unit\n",
    "  WHERE calday >= (date_sub(CURRENT_TIMESTAMP() + INTERVAL 7 HOURS, (dayofweek(CURRENT_TIMESTAMP() + INTERVAL 7 HOURS) + 6) % 7)  - INTERVAL 26 WEEK)\n",
    "),\n",
    "do_data AS (\n",
    "  SELECT\n",
    "    a.sto_number,\n",
    "    a.sto_item,\n",
    "    a.product_id,\n",
    "    a.store_id,\n",
    "    a.creation_date do_creation_date,\n",
    "    a.act_gi_dte,\n",
    "    a.do_number,\n",
    "    a.do_item,\n",
    "    a.sts_pick,\n",
    "    a.dc_id,\n",
    "    IFNULL(a11.po_gr_date,a21.po_gr_date) po_gr_date,\n",
    "    CASE\n",
    "      WHEN a1.sto_number IS NOT NULL THEN 'FT_SAP'\n",
    "      WHEN a2.sto_number IS NOT NULL THEN 'FT_SFT'\n",
    "      ELSE 'BS'\n",
    "    END sto_type,\n",
    "    SUM(a.do_qty_base) do_qty,\n",
    "    SUM(a.deliver_qty_base) gi_qty\n",
    "  FROM\n",
    "    raw_do_data a\n",
    "    LEFT JOIN (SELECT * FROM {catalog_name}.udp_wcm_gold_vcm_dwh.f_allocation_table WHERE wms = 'SAP') a1 ON\n",
    "      a.sto_number = a1.sto_number\n",
    "      AND CAST(a.sto_item AS INT) = CAST(a1.sto_item AS INT)\n",
    "    LEFT JOIN (SELECT * FROM {catalog_name}.udp_wcm_gold_vcm_dwh.f_allocation_table WHERE wms = 'SFT') a2 ON\n",
    "      a.sto_number = a2.sto_number\n",
    "    LEFT JOIN (SELECT DISTINCT po_doc, po_item, po_gr_date FROM {catalog_name}.udp_wcm_gold_vcm_dwh.f_po_item\n",
    "              WHERE calday >= (date_sub(CURRENT_TIMESTAMP() + INTERVAL 7 HOURS, (dayofweek(CURRENT_TIMESTAMP() + INTERVAL 7 HOURS) + 6) % 7)  - INTERVAL 26 WEEK)) a11 ON\n",
    "      a1.po_doc = a11.po_doc AND a1.po_item = a11.po_item\n",
    "    LEFT JOIN (SELECT DISTINCT po_doc, po_gr_date FROM {catalog_name}.udp_wcm_gold_vcm_dwh.f_po_item\n",
    "              WHERE calday >= (date_sub(CURRENT_TIMESTAMP() + INTERVAL 7 HOURS, (dayofweek(CURRENT_TIMESTAMP() + INTERVAL 7 HOURS) + 6) % 7)  - INTERVAL 26 WEEK)) a21 ON\n",
    "      a2.po_doc = a21.po_doc\n",
    "  WHERE a.calday BETWEEN (date_sub(CURRENT_TIMESTAMP() + INTERVAL 7 HOURS, (dayofweek(CURRENT_TIMESTAMP() + INTERVAL 7 HOURS) + 6) % 7)  - INTERVAL 26 WEEK) AND DATE(CURRENT_TIMESTAMP() + INTERVAL 7 HOURS)\n",
    "  GROUP BY 1,2,3,4,5,6,7,8,9,10,11,12\n",
    "),\n",
    "ft AS (\n",
    "  SELECT\n",
    "     a.do_number,\n",
    "     a.do_item,\n",
    "     a.sto_number,\n",
    "     a.sto_item,\n",
    "     a.store_id,\n",
    "     a.product_id,\n",
    "     a.po_gr_date AS start_date,\n",
    "     a.act_gi_dte AS end_date,\n",
    "     a.dc_id,\n",
    "     a.sto_type,\n",
    "     a.sts_pick,\n",
    "     IFNULL(SUM(a.do_qty),0) do_qty,\n",
    "     IFNULL(SUM(a.gi_qty),0) gi_qty\n",
    "  FROM do_data a\n",
    "  WHERE sto_type IN('FT_SAP', 'FT_SFT')\n",
    "  GROUP BY 1,2,3,4,5,6,7,8,9,10,11\n",
    "),\n",
    "temp_wk AS (\n",
    "  SELECT DISTINCT\n",
    "    do_number,\n",
    "    do_item,\n",
    "    sto_type,\n",
    "    sto_number,\n",
    "    sto_item,\n",
    "    product_id,\n",
    "    end_date,\n",
    "    start_date,\n",
    "    store_id,\n",
    "    a.dc_id,\n",
    "    do_qty,\n",
    "    gi_qty,\n",
    "    sts_pick,\n",
    "    COUNT(IF(f.workingday = 0,1,NULL)) subtract_wkd,\n",
    "    COUNT(IF(g.dc_id IS NOT NULL AND g.stock_count_date = f.date,1,NULL)) subtract_stockcnt\n",
    "  FROM\n",
    "    ft a\n",
    "    LEFT JOIN {catalog_name}.udp_wcm_gold_vcm_dwh.d_working_day_cnt f ON a.end_date >= f.date AND a.start_date <=f.date\n",
    "    LEFT JOIN {catalog_name}.udp_wcm_gold_vcm_dmt.d_portal_stock_count_date_bydc g ON a.end_date >= g.stock_count_date AND a.start_date <=g.stock_count_date AND a.dc_id = CAST(g.dc_id AS STRING)\n",
    "  GROUP BY 1,2,3,4,5,6,7,8,9,10,11,12,13\n",
    "),\n",
    "ontime_check AS (\n",
    "  SELECT\n",
    "    a.*,\n",
    "    DATEDIFF(end_date, start_date) - (IFNULL(subtract_wkd,0) + IFNULL(subtract_stockcnt,0)) leadtime_actual,\n",
    "    CASE WHEN city IN ('HÀ NỘI','HỒ CHÍ MINH') AND manufacturer_id = '1000' THEN 4 ELSE 7 END leadtime_qual,\n",
    "    DATEDIFF(DATE(CURRENT_TIMESTAMP() + INTERVAL 7 HOURS), start_date) - (IFNULL(subtract_wkd,0) + IFNULL(subtract_stockcnt,0)) time_tilltoday\n",
    "  FROM\n",
    "    temp_wk a\n",
    "    INNER JOIN {catalog_name}.udp_wcm_gold_vcm_dwh.d_store USING (store_id)\n",
    "    INNER JOIN {catalog_name}.udp_wcm_gold_vcm_dwh.d_product USING (product_id)\n",
    "    INNER JOIN {catalog_name}.udp_wcm_gold_vcm_dwh.d_time d ON a.start_date = d.calday\n",
    "  WHERE\n",
    "    business_unit IN ('1500','2000')\n",
    "    AND mch2_id IN ('102','201','202','203')\n",
    "),\n",
    "summary AS (\n",
    "  SELECT\n",
    "    a.* ,\n",
    "    CASE \n",
    "    WHEN leadtime_actual IS NULL THEN \n",
    "        CASE \n",
    "            WHEN IF(GREATEST(0, leadtime_actual) = 0, NULL, GREATEST(0, leadtime_actual)) <= leadtime_qual THEN 'ONTIME'\n",
    "            WHEN start_date > end_date THEN 'NOT COUNT'\n",
    "            WHEN time_tilltoday <= leadtime_qual THEN 'IN LEADTIME REQUIRED'\n",
    "            ELSE 'LATE'\n",
    "        END\n",
    "    WHEN GREATEST(0, leadtime_actual) <= leadtime_qual THEN 'ONTIME'\n",
    "    WHEN start_date > end_date THEN 'NOT COUNT'\n",
    "    WHEN time_tilltoday <= leadtime_qual THEN 'IN LEADTIME REQUIRED'\n",
    "    ELSE 'LATE'\n",
    "    END AS ontime_check\n",
    "  FROM ontime_check a\n",
    ")\n",
    "SELECT a.*,\n",
    "    IF(end_date IS NOT NULL,gi_qty,0) infull_qty,\n",
    "    IF(ontime_check = 'ONTIME',gi_qty,0) ontime_qty\n",
    "FROM summary a;\n",
    "\"\"\")"
   ]
  }
 ],
 "metadata": {
  "application/vnd.databricks.v1+notebook": {
   "computePreferences": {
    "hardware": {
     "accelerator": null,
     "gpuPoolId": null,
     "memory": null
    }
   },
   "dashboards": [],
   "environmentMetadata": {
    "base_environment": "",
    "environment_version": "2"
   },
   "inputWidgetPreferences": null,
   "language": "python",
   "notebookMetadata": {
    "mostRecentlyExecutedCommandWithImplicitDF": {
     "commandId": 7469597179136861,
     "dataframes": [
      "_sqldf"
     ]
    },
    "pythonIndentUnit": 4
   },
   "notebookName": "a_leadtime_sto_ambient_ft_internal_rpt",
   "widgets": {
    "environment": {
     "currentValue": "DEV",
     "nuid": "5fd25837-1a0a-4e3d-8324-afbdd2f84177",
     "typedWidgetInfo": {
      "autoCreated": false,
      "defaultValue": "",
      "label": "",
      "name": "environment",
      "options": {
       "widgetDisplayType": "Text",
       "validationRegex": null
      },
      "parameterDataType": "String"
     },
     "widgetInfo": {
      "widgetType": "text",
      "defaultValue": "",
      "label": "",
      "name": "environment",
      "options": {
       "widgetType": "text",
       "autoCreated": null,
       "validationRegex": null
      }
     }
    }
   }
  },
  "language_info": {
   "name": "python"
  }
 },
 "nbformat": 4,
 "nbformat_minor": 0
}
