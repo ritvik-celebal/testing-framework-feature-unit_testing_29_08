{
 "cells": [
  {
   "cell_type": "code",
   "execution_count": 0,
   "metadata": {
    "application/vnd.databricks.v1+cell": {
     "cellMetadata": {
      "byteLimit": 2048000,
      "rowLimit": 10000
     },
     "inputWidgets": {},
     "nuid": "b0ab11aa-368e-466c-b3eb-01b7c42de5f5",
     "showTitle": false,
     "tableResultSettingsMap": {},
     "title": ""
    }
   },
   "outputs": [],
   "source": [
    "%run ../utils/common"
   ]
  },
  {
   "cell_type": "code",
   "execution_count": 0,
   "metadata": {
    "application/vnd.databricks.v1+cell": {
     "cellMetadata": {
      "byteLimit": 2048000,
      "rowLimit": 10000
     },
     "inputWidgets": {},
     "nuid": "c9ee0be6-ae0a-4fd6-a392-edff653357dc",
     "showTitle": false,
     "tableResultSettingsMap": {},
     "title": ""
    }
   },
   "outputs": [],
   "source": [
    "dbutils.widgets.text(\"environment\", \"\", \"\")\n",
    "environment = dbutils.widgets.get(\"environment\")"
   ]
  },
  {
   "cell_type": "code",
   "execution_count": 0,
   "metadata": {
    "application/vnd.databricks.v1+cell": {
     "cellMetadata": {
      "byteLimit": 2048000,
      "rowLimit": 10000
     },
     "inputWidgets": {},
     "nuid": "99063338-b75c-4df7-9b4d-29fbf17b6810",
     "showTitle": false,
     "tableResultSettingsMap": {},
     "title": ""
    }
   },
   "outputs": [],
   "source": [
    "catalog_name = settings[environment]['catalog_name']"
   ]
  },
  {
   "cell_type": "code",
   "execution_count": 0,
   "metadata": {
    "application/vnd.databricks.v1+cell": {
     "cellMetadata": {
      "byteLimit": 2048000,
      "rowLimit": 10000
     },
     "inputWidgets": {},
     "nuid": "69b0fec4-1d5a-4789-bc33-e384105d9050",
     "showTitle": false,
     "tableResultSettingsMap": {},
     "title": ""
    }
   },
   "outputs": [],
   "source": [
    "spark.sql(f\"\"\"\n",
    "CREATE OR REPLACE TABLE {catalog_name}.udp_wcm_gold_vcm_dwh.d_product_vendor \n",
    "TBLPROPERTIES (\n",
    "  'DELTA.AUTOOPTIMIZE.OPTIMIZEWRITE' = 'TRUE',\n",
    "  'DELTA.AUTOOPTIMIZE.AUTOCOMPACT' = 'TRUE'\n",
    ")\n",
    "AS\n",
    "WITH asm_mb AS (\n",
    "  SELECT * FROM (\n",
    "    SELECT ROW_NUMBER() OVER (PARTITION BY product_id, end_date ORDER BY proc_date) rn, *\n",
    "    FROM {catalog_name}.udp_wcm_silver_dim.stg_vmp_assortmentmb\n",
    "  ) WHERE rn=1\n",
    ")\n",
    ", asm_mn AS (\n",
    "  SELECT * FROM (\n",
    "    SELECT ROW_NUMBER() OVER (PARTITION BY product_id, end_date ORDER BY proc_date) rn, *\n",
    "    FROM {catalog_name}.udp_wcm_silver_dim.stg_vmp_assortmentmn\n",
    "  ) WHERE rn=1\n",
    ")\n",
    "SELECT\n",
    "    b.store_id,\n",
    "    product_id,\n",
    "    RIGHT(CONCAT('000000000', vendor_id), 10) vendor_id,\n",
    "    vendor_name,\n",
    "    start_date,\n",
    "    end_date\n",
    "FROM asm_mb a,{catalog_name}.udp_wcm_gold_vcm_dwh.d_store b \n",
    "WHERE b.region_domain = 'North' AND b.business_unit = '2000'\n",
    "UNION ALL\n",
    "SELECT\n",
    "    b.store_id,\n",
    "    product_id,\n",
    "    RIGHT(CONCAT('000000000', vendor_id), 10) vendor_id,\n",
    "    vendor_name,\n",
    "    start_date,\n",
    "    end_date\n",
    "FROM asm_mn a, {catalog_name}.udp_wcm_gold_vcm_dwh.d_store b \n",
    "WHERE b.region_domain <> 'North' AND business_unit = '2000';\n",
    "\"\"\")"
   ]
  }
 ],
 "metadata": {
  "application/vnd.databricks.v1+notebook": {
   "computePreferences": null,
   "dashboards": [],
   "environmentMetadata": {
    "base_environment": "",
    "environment_version": "2"
   },
   "inputWidgetPreferences": null,
   "language": "python",
   "notebookMetadata": {
    "mostRecentlyExecutedCommandWithImplicitDF": {
     "commandId": 4736130552803508,
     "dataframes": [
      "_sqldf"
     ]
    },
    "pythonIndentUnit": 4
   },
   "notebookName": "d_product_vendor",
   "widgets": {
    "environment": {
     "currentValue": "DEV",
     "nuid": "139e5ee8-b6fb-47d1-a514-dad531e583d7",
     "typedWidgetInfo": {
      "autoCreated": false,
      "defaultValue": "",
      "label": "",
      "name": "environment",
      "options": {
       "widgetDisplayType": "Text",
       "validationRegex": null
      },
      "parameterDataType": "String"
     },
     "widgetInfo": {
      "widgetType": "text",
      "defaultValue": "",
      "label": "",
      "name": "environment",
      "options": {
       "widgetType": "text",
       "autoCreated": null,
       "validationRegex": null
      }
     }
    }
   }
  },
  "language_info": {
   "name": "python"
  }
 },
 "nbformat": 4,
 "nbformat_minor": 0
}
