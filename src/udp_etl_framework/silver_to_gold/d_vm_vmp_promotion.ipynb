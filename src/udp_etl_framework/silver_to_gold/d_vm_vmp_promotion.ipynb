{
 "cells": [
  {
   "cell_type": "code",
   "execution_count": 0,
   "metadata": {
    "application/vnd.databricks.v1+cell": {
     "cellMetadata": {
      "byteLimit": 2048000,
      "rowLimit": 10000
     },
     "inputWidgets": {},
     "nuid": "7473a7b3-4212-4990-85c6-b6f66299a7a3",
     "showTitle": false,
     "tableResultSettingsMap": {},
     "title": ""
    }
   },
   "outputs": [],
   "source": [
    "%run ../utils/common"
   ]
  },
  {
   "cell_type": "code",
   "execution_count": 0,
   "metadata": {
    "application/vnd.databricks.v1+cell": {
     "cellMetadata": {
      "byteLimit": 2048000,
      "rowLimit": 10000
     },
     "inputWidgets": {},
     "nuid": "d2c7f6c3-3a59-496b-ad9e-b9f2ad6b7e05",
     "showTitle": false,
     "tableResultSettingsMap": {},
     "title": ""
    }
   },
   "outputs": [],
   "source": [
    "dbutils.widgets.text(\"environment\", \"\", \"\")\n",
    "environment = dbutils.widgets.get(\"environment\")"
   ]
  },
  {
   "cell_type": "code",
   "execution_count": 0,
   "metadata": {
    "application/vnd.databricks.v1+cell": {
     "cellMetadata": {
      "byteLimit": 2048000,
      "rowLimit": 10000
     },
     "inputWidgets": {},
     "nuid": "8b15d379-376c-4431-b3ea-0096a4d4347b",
     "showTitle": false,
     "tableResultSettingsMap": {},
     "title": ""
    }
   },
   "outputs": [],
   "source": [
    "catalog_name = settings[environment]['catalog_name']"
   ]
  },
  {
   "cell_type": "code",
   "execution_count": 0,
   "metadata": {
    "application/vnd.databricks.v1+cell": {
     "cellMetadata": {
      "byteLimit": 2048000,
      "rowLimit": 10000
     },
     "inputWidgets": {},
     "nuid": "55ee5cb9-590e-47ec-b540-b9d93a1a74fe",
     "showTitle": false,
     "tableResultSettingsMap": {},
     "title": ""
    }
   },
   "outputs": [],
   "source": [
    "spark.sql(f\"\"\"\n",
    "CREATE OR REPLACE TABLE {catalog_name}.udp_wcm_gold_vcm_dwh.d_vm_vmp_promotion \n",
    "TBLPROPERTIES (\n",
    "  'DELTA.AUTOOPTIMIZE.OPTIMIZEWRITE' = 'TRUE',\n",
    "  'DELTA.AUTOOPTIMIZE.AUTOCOMPACT' = 'TRUE'\n",
    ")\n",
    "AS\n",
    "WITH \n",
    "vmp_promotion AS ( \n",
    "    SELECT \n",
    "        '2000' AS business_unit, \n",
    "        * EXCEPT(rn, proc_date) \n",
    "    FROM (\n",
    "        SELECT \n",
    "            'Miền Bắc' AS mien, * EXCEPT(mien),\n",
    "            ROW_NUMBER() OVER (PARTITION BY ten_chuong_trinh, ma_dat_hang, ngay_bat_dau ORDER BY proc_date DESC) AS rn\n",
    "        FROM {catalog_name}.udp_wcm_silver_dim.mb_vmp_chuongtrinhkhuyemai\n",
    "        WHERE proc_date = (SELECT MAX(proc_date) FROM {catalog_name}.udp_wcm_silver_dim.mb_vmp_chuongtrinhkhuyemai)\n",
    "        UNION ALL\n",
    "        SELECT \n",
    "            'Miền Nam' AS mien, * EXCEPT(mien),\n",
    "            ROW_NUMBER() OVER (PARTITION BY ten_chuong_trinh, ma_dat_hang, ngay_bat_dau ORDER BY proc_date DESC) AS rn\n",
    "        FROM {catalog_name}.udp_wcm_silver_dim.mn_vmp_chuongtrinhkhuyemai\n",
    "        WHERE proc_date = (SELECT MAX(proc_date) FROM {catalog_name}.udp_wcm_silver_dim.mn_vmp_chuongtrinhkhuyemai)\n",
    "    ) a \n",
    "    WHERE a.rn = 1\n",
    "),\n",
    "vm_promotion AS ( \n",
    "    SELECT \n",
    "        '1500' AS business_unit, \n",
    "        * EXCEPT(rn, proc_date) \n",
    "    FROM (\n",
    "        SELECT \n",
    "            'Miền Bắc' AS mien, * EXCEPT(mien),\n",
    "            ROW_NUMBER() OVER (PARTITION BY ten_chuong_trinh, ma_dat_hang, ngay_bat_dau ORDER BY proc_date DESC) AS rn\n",
    "        FROM {catalog_name}.udp_wcm_silver_dim.mb_vm_chuongtrinhkhuyemai\n",
    "        WHERE proc_date = (SELECT MAX(proc_date) FROM {catalog_name}.udp_wcm_silver_dim.mb_vm_chuongtrinhkhuyemai)\n",
    "        UNION ALL\n",
    "        SELECT \n",
    "            'Miền Nam' AS mien, * EXCEPT(mien),\n",
    "            ROW_NUMBER() OVER (PARTITION BY ten_chuong_trinh, ma_dat_hang, ngay_bat_dau ORDER BY proc_date DESC) AS rn\n",
    "        FROM {catalog_name}.udp_wcm_silver_dim.mn_vm_chuongtrinhkhuyemai\n",
    "        WHERE proc_date = (SELECT MAX(proc_date) FROM {catalog_name}.udp_wcm_silver_dim.mn_vm_chuongtrinhkhuyemai)\n",
    "    ) a \n",
    "    WHERE a.rn = 1\n",
    ")\n",
    "SELECT * FROM vmp_promotion\n",
    "UNION ALL\n",
    "SELECT * FROM vm_promotion\n",
    ";\n",
    "\"\"\")\n"
   ]
  }
 ],
 "metadata": {
  "application/vnd.databricks.v1+notebook": {
   "computePreferences": null,
   "dashboards": [],
   "environmentMetadata": {
    "base_environment": "",
    "environment_version": "2"
   },
   "inputWidgetPreferences": null,
   "language": "python",
   "notebookMetadata": {
    "mostRecentlyExecutedCommandWithImplicitDF": {
     "commandId": 4736130552803554,
     "dataframes": [
      "_sqldf"
     ]
    },
    "pythonIndentUnit": 4
   },
   "notebookName": "d_vm_vmp_promotion",
   "widgets": {}
  },
  "language_info": {
   "name": "python"
  }
 },
 "nbformat": 4,
 "nbformat_minor": 0
}
