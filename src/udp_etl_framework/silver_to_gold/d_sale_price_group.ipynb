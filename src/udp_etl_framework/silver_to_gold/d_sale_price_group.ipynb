{
 "cells": [
  {
   "cell_type": "code",
   "execution_count": 0,
   "metadata": {
    "application/vnd.databricks.v1+cell": {
     "cellMetadata": {
      "byteLimit": 2048000,
      "rowLimit": 10000
     },
     "inputWidgets": {},
     "nuid": "8ca2dfc9-9111-4d91-825f-958f6758d2e8",
     "showTitle": false,
     "tableResultSettingsMap": {},
     "title": ""
    }
   },
   "outputs": [],
   "source": [
    "%run ../utils/common"
   ]
  },
  {
   "cell_type": "code",
   "execution_count": 0,
   "metadata": {
    "application/vnd.databricks.v1+cell": {
     "cellMetadata": {
      "byteLimit": 2048000,
      "rowLimit": 10000
     },
     "inputWidgets": {},
     "nuid": "173b0659-78ad-4fb2-a71a-b0e09dab96a7",
     "showTitle": false,
     "tableResultSettingsMap": {},
     "title": ""
    }
   },
   "outputs": [],
   "source": [
    "dbutils.widgets.text(\"environment\", \"\", \"\")\n",
    "environment = dbutils.widgets.get(\"environment\")"
   ]
  },
  {
   "cell_type": "code",
   "execution_count": 0,
   "metadata": {
    "application/vnd.databricks.v1+cell": {
     "cellMetadata": {
      "byteLimit": 2048000,
      "rowLimit": 10000
     },
     "inputWidgets": {},
     "nuid": "65b9061d-459f-41d5-aa71-1ea218159268",
     "showTitle": false,
     "tableResultSettingsMap": {},
     "title": ""
    }
   },
   "outputs": [],
   "source": [
    "catalog_name = settings[environment]['catalog_name']\n"
   ]
  },
  {
   "cell_type": "code",
   "execution_count": 0,
   "metadata": {
    "application/vnd.databricks.v1+cell": {
     "cellMetadata": {
      "byteLimit": 2048000,
      "implicitDf": true,
      "rowLimit": 10000
     },
     "inputWidgets": {},
     "nuid": "64b6e20e-6e62-4c6d-9fde-b86926a876ea",
     "showTitle": false,
     "tableResultSettingsMap": {},
     "title": ""
    }
   },
   "outputs": [],
   "source": [
    "spark.sql(f\"\"\"\n",
    "          \n",
    "CREATE OR REPLACE TABLE {catalog_name}.udp_wcm_gold_vcm_dwh.d_sale_price_group\n",
    "TBLPROPERTIES (\n",
    "  'DELTA.AUTOOPTIMIZE.OPTIMIZEWRITE' = 'TRUE',\n",
    "  'DELTA.AUTOOPTIMIZE.AUTOCOMPACT' = 'TRUE'\n",
    ")\n",
    "AS\n",
    "WITH ranked_data AS (\n",
    "  SELECT\n",
    "    kappl AS app,\n",
    "    kschl AS cond_type,\n",
    "    vkorg AS sale_org,\n",
    "    vtweg AS distribution_channel,\n",
    "    konda AS price_group,\n",
    "    matnr AS product_id,\n",
    "    vrkme AS sale_unit,\n",
    "    kfrst AS status_release,\n",
    "    datbi AS valid_to,\n",
    "    recordmode AS record_mode,\n",
    "    datab AS valid_from,\n",
    "    kbstat AS status_processing,\n",
    "    knumh AS cond_no,\n",
    "    ROW_NUMBER() OVER (PARTITION BY kappl, kschl, vkorg, vtweg, konda, matnr, vrkme, kfrst, datbi ORDER BY proc_date) AS row_num\n",
    "  FROM  {catalog_name}.udp_wcm_silver_sap_bw.sap_vccmmrb28\n",
    "  WHERE proc_date = (SELECT MAX(proc_date) FROM  {catalog_name}.udp_wcm_silver_sap_bw.sap_vccmmrb28)\n",
    ")\n",
    "SELECT\n",
    "  app,\n",
    "  cond_type,\n",
    "  sale_org,\n",
    "  distribution_channel,\n",
    "  price_group,\n",
    "  product_id,\n",
    "  sale_unit,\n",
    "  status_release,\n",
    "  valid_to,\n",
    "  record_mode,\n",
    "  valid_from,\n",
    "  status_processing,\n",
    "  cond_no\n",
    "FROM ranked_data\n",
    "WHERE row_num = 1;\n",
    "\n",
    "          \"\"\")"
   ]
  }
 ],
 "metadata": {
  "application/vnd.databricks.v1+notebook": {
   "computePreferences": null,
   "dashboards": [],
   "environmentMetadata": {
    "base_environment": "",
    "environment_version": "2"
   },
   "inputWidgetPreferences": null,
   "language": "python",
   "notebookMetadata": {
    "mostRecentlyExecutedCommandWithImplicitDF": {
     "commandId": 4736130552783896,
     "dataframes": [
      "_sqldf"
     ]
    },
    "pythonIndentUnit": 4
   },
   "notebookName": "d_sale_price_group",
   "widgets": {}
  },
  "language_info": {
   "name": "python"
  }
 },
 "nbformat": 4,
 "nbformat_minor": 0
}
