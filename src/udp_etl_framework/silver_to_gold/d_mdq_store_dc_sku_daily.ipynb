{
 "cells": [
  {
   "cell_type": "code",
   "execution_count": 0,
   "metadata": {
    "application/vnd.databricks.v1+cell": {
     "cellMetadata": {
      "byteLimit": 2048000,
      "rowLimit": 10000
     },
     "inputWidgets": {},
     "nuid": "c8ac1215-966a-44f1-bb94-acc26caee909",
     "showTitle": false,
     "tableResultSettingsMap": {},
     "title": ""
    }
   },
   "outputs": [],
   "source": [
    "%run ../utils/common"
   ]
  },
  {
   "cell_type": "code",
   "execution_count": 0,
   "metadata": {
    "application/vnd.databricks.v1+cell": {
     "cellMetadata": {
      "byteLimit": 2048000,
      "rowLimit": 10000
     },
     "inputWidgets": {},
     "nuid": "4a5e5486-d9bd-4629-a4df-d0c8d94b2ed0",
     "showTitle": false,
     "tableResultSettingsMap": {},
     "title": ""
    }
   },
   "outputs": [],
   "source": [
    "dbutils.widgets.text(\"environment\", \"\", \"\")\n",
    "environment = dbutils.widgets.get(\"environment\")"
   ]
  },
  {
   "cell_type": "code",
   "execution_count": 0,
   "metadata": {
    "application/vnd.databricks.v1+cell": {
     "cellMetadata": {
      "byteLimit": 2048000,
      "rowLimit": 10000
     },
     "inputWidgets": {},
     "nuid": "f4a2c91c-28f6-4d5e-997a-5337ab02f8d0",
     "showTitle": false,
     "tableResultSettingsMap": {},
     "title": ""
    }
   },
   "outputs": [],
   "source": [
    "catalog_name = settings[environment]['catalog_name']"
   ]
  },
  {
   "cell_type": "code",
   "execution_count": 0,
   "metadata": {
    "application/vnd.databricks.v1+cell": {
     "cellMetadata": {
      "byteLimit": 2048000,
      "rowLimit": 10000
     },
     "inputWidgets": {},
     "nuid": "0be550dd-9868-4f45-9142-56bf8d05b2cf",
     "showTitle": false,
     "tableResultSettingsMap": {},
     "title": ""
    }
   },
   "outputs": [],
   "source": [
    "spark.sql(f\"\"\"\n",
    "CREATE OR REPLACE TABLE {catalog_name}.udp_wcm_gold_vcm_db_inventory.d_mdq_store_dc_sku_daily\n",
    "TBLPROPERTIES (\n",
    "  'DELTA.AUTOOPTIMIZE.OPTIMIZEWRITE' = 'TRUE',\n",
    "  'DELTA.AUTOOPTIMIZE.AUTOCOMPACT' = 'TRUE'\n",
    ") \n",
    "AS\n",
    "WITH\n",
    "main AS (\n",
    "    SELECT      \n",
    "        a.business_unit,\n",
    "        a.store_id,\n",
    "        a.store_name,\n",
    "        a.business_model,\n",
    "        a.mien,\n",
    "        a.city,\n",
    "        a.mch2_id,\n",
    "        a2.mch3_id,\n",
    "        a2.mch4_id,\n",
    "        a.product_id,\n",
    "        a.product_name,\n",
    "        a.manufacturer_id,\n",
    "        a.manufacturer_name,\n",
    "        a1.mdq,\n",
    "        a1.external_report_mdq,\n",
    "        a1.internal_report_mdq,\n",
    "        a1.old_mdq,\n",
    "        a1.mdq_age,\n",
    "        a1.mdq_available,\n",
    "        a.dc_id,\n",
    "        a.dc_name,\n",
    "        a.replenishment_mode,\n",
    "        a.XD_DC_ID,\n",
    "        IFNULL(a1.sku_type, 'FRESH') sku_type,\n",
    "        a.assortment_type\n",
    "    FROM {catalog_name}.udp_wcm_gold_vcm_dwh.d_store_sku_by_dc a\n",
    "    LEFT JOIN {catalog_name}.udp_wcm_gold_vcm_dwh.d_mdq_daily a1 USING (store_id, product_id)\n",
    "    LEFT JOIN {catalog_name}.udp_wcm_gold_vcm_dwh.d_product a2 USING (product_id)\n",
    "    UNION ALL \n",
    "    SELECT      \n",
    "        a.business_unit,\n",
    "        a.store_id,\n",
    "        a.store_name,\n",
    "        a.business_model,\n",
    "        a.mien,\n",
    "        a.city,\n",
    "        a.mch2_id,\n",
    "        a2.mch3_id,\n",
    "        a2.mch4_id,\n",
    "        a.product_id,\n",
    "        a.product_name,\n",
    "        a.manufacturer_id,\n",
    "        a.manufacturer_name,\n",
    "        a1.mdq,\n",
    "        a1.external_report_mdq,\n",
    "        a1.internal_report_mdq,\n",
    "        a1.old_mdq,\n",
    "        a1.mdq_age,\n",
    "        a1.mdq_available,\n",
    "        NULL dc_id,\n",
    "        NULL dc_name,\n",
    "        'DSD' replenishment_mode,\n",
    "        NULL XD_DC_ID,\n",
    "        IFNULL(a1.sku_type, 'FRESH') sku_type,\n",
    "        a.assortment_type\n",
    "    FROM {catalog_name}.udp_wcm_gold_vcm_dwh.d_store_sku_by_dsd a\n",
    "    LEFT JOIN {catalog_name}.udp_wcm_gold_vcm_dwh.d_mdq_daily a1 USING (store_id, product_id)\n",
    "    LEFT JOIN {catalog_name}.udp_wcm_gold_vcm_dwh.d_product a2 USING (product_id)\n",
    "    UNION ALL\n",
    "    SELECT      \n",
    "        a.business_unit,\n",
    "        a.store_id,\n",
    "        a.store_name,\n",
    "        CASE\n",
    "            WHEN a.business_unit = '1500' THEN 'Supermarket'\n",
    "            WHEN a.business_unit = '2000' AND a.concept IN ('WiN','Rural') THEN a.concept\n",
    "            ELSE 'Urban'\n",
    "        END business_model,\n",
    "        a.mien,\n",
    "        a.city,\n",
    "        a2.mch2_id,\n",
    "        a2.mch3_id,\n",
    "        a2.mch4_id,\n",
    "        a2.product_id,\n",
    "        a2.product_name,\n",
    "        a2.manufacturer_id,\n",
    "        a2.manufacturer_name,\n",
    "        a1.mdq,\n",
    "        a1.external_report_mdq,\n",
    "        a1.internal_report_mdq,\n",
    "        a1.old_mdq,\n",
    "        a1.mdq_age,\n",
    "        a1.mdq_available,\n",
    "        NULL dc_id,\n",
    "        NULL dc_name,\n",
    "        NULL replenishment_mode,\n",
    "        NULL XD_DC_ID,\n",
    "        a1.sku_type,\n",
    "        NULL assortment_type\n",
    "    FROM {catalog_name}.udp_wcm_gold_vcm_dwh.d_mdq_daily a1 \n",
    "    LEFT JOIN {catalog_name}.udp_wcm_gold_vcm_dwh.d_store a USING (store_id)\n",
    "    LEFT JOIN {catalog_name}.udp_wcm_gold_vcm_dwh.d_product a2 USING (product_id)\n",
    "    WHERE a1.mdq IS NOT NULL \n",
    "        AND a1.sku_type = 'FRESH'\n",
    ")\n",
    "SELECT      \n",
    "    a.*,\n",
    "    IF(a1.sku IS NOT NULL, 'YES','NO') is_problem_article\n",
    "FROM main a\n",
    "LEFT JOIN {catalog_name}.udp_wcm_gold_vcm_dwh.d_store a2 USING (store_id)\n",
    "LEFT JOIN {catalog_name}.udp_wcm_gold_vcm_db_inventory.d_problem_article a1 ON a.business_unit = a1.business_unit \n",
    "    AND a2.region_vn = a1.area\n",
    "    AND a.product_id = a1.sku\n",
    ";\n",
    "\"\"\")"
   ]
  }
 ],
 "metadata": {
  "application/vnd.databricks.v1+notebook": {
   "computePreferences": null,
   "dashboards": [],
   "environmentMetadata": {
    "base_environment": "",
    "environment_version": "2"
   },
   "inputWidgetPreferences": null,
   "language": "python",
   "notebookMetadata": {
    "mostRecentlyExecutedCommandWithImplicitDF": {
     "commandId": 7469597179153230,
     "dataframes": [
      "_sqldf"
     ]
    },
    "pythonIndentUnit": 4
   },
   "notebookName": "d_mdq_store_dc_sku_daily",
   "widgets": {
    "environment": {
     "currentValue": "DEV",
     "nuid": "ba7d04d5-4386-413a-8b66-33237d902441",
     "typedWidgetInfo": {
      "autoCreated": false,
      "defaultValue": "",
      "label": "",
      "name": "environment",
      "options": {
       "widgetDisplayType": "Text",
       "validationRegex": null
      },
      "parameterDataType": "String"
     },
     "widgetInfo": {
      "widgetType": "text",
      "defaultValue": "",
      "label": "",
      "name": "environment",
      "options": {
       "widgetType": "text",
       "autoCreated": null,
       "validationRegex": null
      }
     }
    }
   }
  },
  "language_info": {
   "name": "python"
  }
 },
 "nbformat": 4,
 "nbformat_minor": 0
}
