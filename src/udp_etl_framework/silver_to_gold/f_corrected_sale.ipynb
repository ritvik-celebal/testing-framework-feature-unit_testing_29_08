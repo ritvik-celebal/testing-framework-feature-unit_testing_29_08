{
 "cells": [
  {
   "cell_type": "code",
   "execution_count": 0,
   "metadata": {
    "application/vnd.databricks.v1+cell": {
     "cellMetadata": {
      "byteLimit": 2048000,
      "rowLimit": 10000
     },
     "inputWidgets": {},
     "nuid": "59b9b5e8-ae3d-421f-b119-4a7404b951b6",
     "showTitle": false,
     "tableResultSettingsMap": {},
     "title": ""
    }
   },
   "outputs": [],
   "source": [
    "%run ../utils/common"
   ]
  },
  {
   "cell_type": "code",
   "execution_count": 0,
   "metadata": {
    "application/vnd.databricks.v1+cell": {
     "cellMetadata": {
      "byteLimit": 2048000,
      "rowLimit": 10000
     },
     "inputWidgets": {},
     "nuid": "9ab6693b-63f5-4964-8da9-84ccbe3ae987",
     "showTitle": false,
     "tableResultSettingsMap": {},
     "title": ""
    }
   },
   "outputs": [],
   "source": [
    "dbutils.widgets.text(\"environment\", \"DEV\")\n",
    "dbutils.widgets.text(\"target_dataset\", \"VCM_DMT_PRD\")\n",
    "dbutils.widgets.text(\"target_table\", \"f_corrected_sale\")\n",
    "dbutils.widgets.text(\"metadata_schema\", \"udp_wcm_metadata_dev\")\n",
    "dbutils.widgets.text(\n",
    "    \"dependency_table\",\"VCM_DMT_PRD.A_STORE_SKU_DAILY, VCM_DMT_PRD.A_STORE_SKU_CURRENT, VCM_DWH_PRD.D_PROMOTION_FREE_GIFT_CURRENT, VCM_DWH_PRD.F_COGS_MIN\"\n",
    ")"
   ]
  },
  {
   "cell_type": "code",
   "execution_count": 0,
   "metadata": {
    "application/vnd.databricks.v1+cell": {
     "cellMetadata": {
      "byteLimit": 2048000,
      "rowLimit": 10000
     },
     "inputWidgets": {},
     "nuid": "f362316a-8a3c-4cf6-b3a2-1428b246ab4d",
     "showTitle": false,
     "tableResultSettingsMap": {},
     "title": ""
    }
   },
   "outputs": [],
   "source": [
    "dbutils.widgets.text(\"field_calday\", \"CALDAY\")\n",
    "dbutils.widgets.text(\"field_id\", \"HASH_ID\")"
   ]
  },
  {
   "cell_type": "code",
   "execution_count": 0,
   "metadata": {
    "application/vnd.databricks.v1+cell": {
     "cellMetadata": {
      "byteLimit": 2048000,
      "rowLimit": 10000
     },
     "inputWidgets": {},
     "nuid": "661e84ab-662d-41c1-9ddf-2e197290a0ae",
     "showTitle": false,
     "tableResultSettingsMap": {},
     "title": ""
    }
   },
   "outputs": [],
   "source": [
    "catalog_name = settings[environment]['catalog_name']"
   ]
  },
  {
   "cell_type": "code",
   "execution_count": 0,
   "metadata": {
    "application/vnd.databricks.v1+cell": {
     "cellMetadata": {
      "byteLimit": 2048000,
      "rowLimit": 10000
     },
     "inputWidgets": {},
     "nuid": "8839fff3-3e60-419a-9ca3-be076b95face",
     "showTitle": false,
     "tableResultSettingsMap": {},
     "title": ""
    }
   },
   "outputs": [],
   "source": [
    "environment = dbutils.widgets.get(\"environment\")\n",
    "target_dataset = dbutils.widgets.get(\"target_dataset\")\n",
    "target_table = dbutils.widgets.get(\"target_table\")\n",
    "metadata_schema = dbutils.widgets.get(\"metadata_schema\")\n",
    "dependency_table = dbutils.widgets.get(\"dependency_table\")\n",
    "dependency_table = [x.strip().upper() for x in dependency_table.split(\",\")]\n",
    "dependency_table = \"'\" + \"','\".join(dependency_table) + \"'\"\n",
    "\n",
    "print(f\"environment: {environment}\")\n",
    "print(f\"target_dataset: {target_dataset}\")\n",
    "print(f\"target_table: {target_table}\")\n",
    "print(f\"catalog_name: {catalog_name}\")\n",
    "print(f\"metadata_schema: {metadata_schema}\")\n",
    "print(f\"dependency_table: {dependency_table}\")"
   ]
  },
  {
   "cell_type": "code",
   "execution_count": 0,
   "metadata": {
    "application/vnd.databricks.v1+cell": {
     "cellMetadata": {
      "byteLimit": 2048000,
      "rowLimit": 10000
     },
     "inputWidgets": {},
     "nuid": "1b0ae921-df23-4eae-b8da-6c8bfb89a478",
     "showTitle": false,
     "tableResultSettingsMap": {},
     "title": ""
    }
   },
   "outputs": [],
   "source": [
    "field_calday = dbutils.widgets.get(\"field_calday\")\n",
    "field_id = dbutils.widgets.get(\"field_id\")\n",
    "\n",
    "print(f\"field_calday: {field_calday}\")\n",
    "print(f\"field_id: {field_id}\")"
   ]
  },
  {
   "cell_type": "code",
   "execution_count": 0,
   "metadata": {
    "application/vnd.databricks.v1+cell": {
     "cellMetadata": {
      "byteLimit": 2048000,
      "implicitDf": true,
      "rowLimit": 10000
     },
     "inputWidgets": {},
     "nuid": "6920ca0d-cf7c-4fb8-b82d-24f46ad18fe3",
     "showTitle": false,
     "tableResultSettingsMap": {},
     "title": ""
    }
   },
   "outputs": [],
   "source": [
    "%run \"../common/common_etl_load\""
   ]
  },
  {
   "cell_type": "code",
   "execution_count": 0,
   "metadata": {
    "application/vnd.databricks.v1+cell": {
     "cellMetadata": {
      "byteLimit": 2048000,
      "rowLimit": 10000
     },
     "inputWidgets": {},
     "nuid": "887d21e6-8b2f-4163-8a35-3537acd6e6dc",
     "showTitle": false,
     "tableResultSettingsMap": {},
     "title": ""
    }
   },
   "outputs": [],
   "source": [
    "spark.sql(f\"\"\"\n",
    "CREATE TABLE IF NOT EXISTS {catalog_name}.udp_wcm_gold_vcm_dmt.f_corrected_sale\n",
    "(\n",
    "  first_sale_stock_day DATE,\n",
    "  inactive_range INT,\n",
    "  store_id STRING,\n",
    "  product_id STRING,\n",
    "  calday DATE,\n",
    "  base_sale_qty FLOAT,\n",
    "  promotion_qty FLOAT,\n",
    "  promotion_coupon_qty FLOAT,\n",
    "  closing_stock_qty FLOAT,\n",
    "  is_promotion INT,\n",
    "  is_oos INT,\n",
    "  upper_outlier FLOAT,\n",
    "  lower_outlier FLOAT,\n",
    "  is_outlier INT,\n",
    "  is_corrected INT,\n",
    "  avg_corrected_base_sale_qty_rollback_30day FLOAT,\n",
    "  corrected_base_sale_qty FLOAT,\n",
    "  note STRING,\n",
    "  addr_numbr STRING\n",
    ")\n",
    "TBLPROPERTIES (\n",
    "  'DELTA.AUTOOPTIMIZE.OPTIMIZEWRITE' = 'TRUE',\n",
    "  'DELTA.AUTOOPTIMIZE.AUTOCOMPACT' = 'TRUE'\n",
    ")\n",
    " \"\"\")"
   ]
  },
  {
   "cell_type": "code",
   "execution_count": 0,
   "metadata": {
    "application/vnd.databricks.v1+cell": {
     "cellMetadata": {
      "byteLimit": 2048000,
      "implicitDf": true,
      "rowLimit": 10000
     },
     "inputWidgets": {},
     "nuid": "e720915e-64e8-46c5-9cac-6e9d5b3e6188",
     "showTitle": false,
     "tableResultSettingsMap": {},
     "title": ""
    }
   },
   "outputs": [],
   "source": [
    "calday_list = spark.sql(f\"\"\"\n",
    "select EXPLODE(SEQUENCE(DATE(CURRENT_TIMESTAMP() + INTERVAL 7 HOURS) -7, DATE(CURRENT_TIMESTAMP() + INTERVAL 7 HOURS) - 1)) AS calday ORDER BY calday\"\"\").collect()\n",
    "print(calday_list)"
   ]
  },
  {
   "cell_type": "code",
   "execution_count": 0,
   "metadata": {
    "application/vnd.databricks.v1+cell": {
     "cellMetadata": {
      "byteLimit": 2048000,
      "implicitDf": true,
      "rowLimit": 10000
     },
     "inputWidgets": {},
     "nuid": "d5201844-0a81-4a46-9be1-787e90197952",
     "showTitle": false,
     "tableResultSettingsMap": {},
     "title": ""
    }
   },
   "outputs": [],
   "source": [
    "for target in calday_list:\n",
    "    spark.sql(f\"\"\" DELETE FROM {catalog_name}.udp_wcm_gold_vcm_dmt.f_corrected_sale WHERE calday = DATE('{target.calday}') \"\"\")\n",
    "\n",
    "    spark.sql(f\"\"\" \n",
    "              INSERT INTO {catalog_name}.udp_wcm_gold_vcm_dmt.f_corrected_sale\n",
    "              WITH\n",
    "              store_sku AS (\n",
    "                SELECT  DATE('{target.calday}') as calday, * FROM {catalog_name}.udp_wcm_gold_vcm_dmt.a_store_sku_current WHERE first_sale_stock_day IS NOT NULL \n",
    "                AND ( date('{target.calday}')) >= first_sale_stock_day\n",
    "              ),\n",
    "              percentiles AS (\n",
    "                  SELECT a.store_id, a.product_id, MAX(a.q1) q1, MAX(a.q3) q3\n",
    "                  FROM (\n",
    "                    SELECT \n",
    "                     store_id, product_id,\n",
    "                        PERCENTILE(corrected_base_sale_qty, array(0.25))[0] AS q1,\n",
    "                        PERCENTILE(corrected_base_sale_qty, array(0.75))[0] AS q3\n",
    "                    FROM {catalog_name}.udp_wcm_gold_vcm_dmt.f_corrected_sale\n",
    "                    WHERE calday BETWEEN DATE_SUB( DATE('{target.calday}'),180) AND DATE_SUB( DATE('{target.calday}'),1) GROUP BY 1,2\n",
    "            ) a \n",
    "            GROUP BY 1,2\n",
    "            ),\n",
    "            outliers AS (\n",
    "            SELECT    \n",
    "                a.*,\n",
    "                IF(IFNULL(b.cost_per_unit, 0) > 300000, GREATEST(a.q3 + 1.5*(a.q3-a.q1), 0), GREATEST(a.q3 + 1.5*(a.q3-a.q1), IFNULL(e.pct_95, 0))) upper_outlier,\n",
    "                a.q1 - 1.5*(a.q3-a.q1) lower_outlier\n",
    "            FROM percentiles a\n",
    "            LEFT JOIN (SELECT store_id, product_id, cost_per_unit  FROM {catalog_name}.udp_wcm_gold_vcm_dwh.f_cogs_min WHERE CALDAY = DATE('{target.calday}')) b\n",
    "                ON a.store_id = b.store_id AND a.product_id = b.product_id\n",
    "            LEFT JOIN {catalog_name}.udp_wcm_gold_vcm_dwh.d_store c\n",
    "                ON a.store_id = c.store_id\n",
    "            LEFT JOIN {catalog_name}.udp_wcm_gold_vcm_dwh.d_product d\n",
    "                ON a.product_id = d.product_id\n",
    "            LEFT JOIN (\n",
    "                SELECT * \n",
    "                FROM {catalog_name}.udp_wcm_gold_vcm_dmt.f_upper_bound_corrected_sale \n",
    "                WHERE calday = (SELECT MAX(calday) FROM {catalog_name}.udp_wcm_gold_vcm_dmt.f_upper_bound_corrected_sale)\n",
    "            ) e\n",
    "                ON c.business_unit = e.business_unit AND d.mch5_id = e.mch5_id\n",
    "        ),\n",
    "        avg_corrected_base_sale_qty_rollback_30day AS (\n",
    "            SELECT     \n",
    "                store_id,\n",
    "                product_id,\n",
    "                AVG(IFNULL(corrected_base_sale_qty,0)) avg_corrected_base_sale_qty_rollback_30day\n",
    "            FROM {catalog_name}.udp_wcm_gold_vcm_dmt.f_corrected_sale\n",
    "            WHERE calday BETWEEN DATE_SUB( DATE('{target.calday}'),30) AND DATE_SUB( DATE('{target.calday}'),1)\n",
    "            GROUP BY 1,2\n",
    "        ),\n",
    "        a_store_sku_daily_prev AS (\n",
    "            SELECT\n",
    "                calday, store_id, product_id,\n",
    "                IFNULL(revenue.base_sale_qty, 0) - IFNULL(revenue.base_sale_qty_sll, 0) base_sale_qty, \n",
    "                IFNULL(revenue.base_promotion_qty, 0) base_promotion_qty,\n",
    "                IFNULL(revenue.base_promotion_coupon_qty, 0) base_promotion_coupon_qty,\n",
    "                IFNULL(stock.closing_stock_quantity, 0) closing_stock_quantity\n",
    "            FROM {catalog_name}.udp_wcm_gold_vcm_dmt.a_store_sku_daily\n",
    "            WHERE calday = DATE('{target.calday}') \n",
    "        ),\n",
    "        a_store_sku_daily_olala AS (\n",
    "            SELECT \n",
    "                a.calday, a.store_id, b.component_id product_id,\n",
    "                a.base_sale_qty * (b.component_quantity / b.base_quantity) + a.base_promotion_qty * (b.component_quantity / b.base_quantity) base_sale_qty,\n",
    "                0 base_promotion_qty,\n",
    "                0 base_promotion_coupon_qty,\n",
    "                0 closing_stock_quantity\n",
    "            FROM a_store_sku_daily_prev a\n",
    "            INNER JOIN {catalog_name}.udp_wcm_gold_vcm_dwh.d_product_bom_winare b\n",
    "                ON a.product_id = b.product_id\n",
    "            WHERE b.is_box = 0\n",
    "        ),\n",
    "        a_store_sku_daily AS (\n",
    "            SELECT\n",
    "                calday, store_id, product_id,\n",
    "                SUM(base_sale_qty) base_sale_qty,\n",
    "                SUM(base_promotion_qty) base_promotion_qty,\n",
    "                SUM(base_promotion_coupon_qty) base_promotion_coupon_qty,\n",
    "                SUM(closing_stock_quantity) closing_stock_quantity\n",
    "            FROM (\n",
    "                SELECT * FROM a_store_sku_daily_prev\n",
    "                UNION ALL\n",
    "                SELECT * FROM a_store_sku_daily_olala\n",
    "            )\n",
    "            GROUP BY 1,2,3\n",
    "        ),\n",
    "        full_store_sku AS (\n",
    "            SELECT    \n",
    "                cat.calday,\n",
    "                cat.store_id,\n",
    "                cat.addr_numbr,\n",
    "                cat.product_id,\n",
    "                cat.first_sale_stock_day,\n",
    "                IF(IFNULL(a.base_sale_qty, 0) <= 0, 0, a.base_sale_qty) base_sale_qty,\n",
    "                IF(IFNULL(a.base_promotion_qty, 0) <= 0, 0, a.base_promotion_qty) promotion_qty,\n",
    "                IF(IFNULL(a.base_promotion_coupon_qty, 0) <= 0, 0, a.base_promotion_coupon_qty) promotion_coupon_qty,\n",
    "                IFNULL(a.closing_stock_quantity, 0) closing_stock_qty\n",
    "            FROM store_sku cat\n",
    "            LEFT JOIN ( \n",
    "                SELECT \n",
    "                    * EXCEPT(fc.store_id, a.store_id), \n",
    "                    IFNULL(fc.store_id, a.store_id) as store_id \n",
    "                FROM a_store_sku_daily a\n",
    "                LEFT JOIN {catalog_name}.udp_wcm_gold_vcm_dwh.d_franchise_config fc ON a.store_id = fc.ref_fc_store\n",
    "            ) a\n",
    "                USING (store_id, product_id)\n",
    "        ),\n",
    "        sale_stock_check AS (\n",
    "            SELECT\t  \t\n",
    "                a.*,\n",
    "                IF(a.promotion_coupon_qty > 0.5 * a.base_sale_qty OR (b.STORE_ID IS NOT NULL AND a.base_sale_qty > 0), 1, 0) is_promotion,\n",
    "                IF(a.base_sale_qty = 0 AND a.closing_stock_qty <= 0, 1, 0) is_oos\n",
    "            FROM full_store_sku a\n",
    "            LEFT JOIN (SELECT * FROM {catalog_name}.udp_wcm_gold_vcm_dwh.d_promotion_free_gift_current_his WHERE calday = DATE('{target.calday}')) b\n",
    "                USING(store_id, product_id)\n",
    "        ),\n",
    "        check_outlier AS (\n",
    "            SELECT    \n",
    "                a.*,\n",
    "                IF(DATE('{target.calday}') >= DATE_ADD(a.first_sale_stock_day, 30), upper_outlier, NULL) upper_outlier,\n",
    "                IF(DATE('{target.calday}') >= DATE_ADD(a.first_sale_stock_day, 30), lower_outlier, NULL) lower_outlier,\n",
    "                IF(DATE('{target.calday}') >= DATE_ADD(a.first_sale_stock_day,30), IF(base_sale_qty > upper_outlier, 1, 0), NULL) is_outlier              \n",
    "            FROM sale_stock_check a\n",
    "            LEFT JOIN outliers b\n",
    "                USING (store_id, product_id)\n",
    "        ),\n",
    "        check_inactive AS (\n",
    "            SELECT\t\t\n",
    "                a.store_id,\n",
    "                a.product_id,\n",
    "                SUM(is_oos) inactive_range\n",
    "            FROM (\n",
    "                SELECT calday, store_id, product_id, is_oos \n",
    "                FROM {catalog_name}.udp_wcm_gold_vcm_dmt.f_corrected_sale\n",
    "                WHERE calday BETWEEN DATE('{target.calday}') - 29 AND DATE('{target.calday}') - 1\n",
    "                UNION ALL \n",
    "                SELECT calday, store_id, product_id, is_oos \n",
    "                FROM sale_stock_check\n",
    "            ) a\n",
    "            GROUP BY\t\n",
    "                a.store_id,\n",
    "                a.product_id\n",
    "        ),\n",
    "        check_corrected AS (\n",
    "            SELECT\t\n",
    "                *,\n",
    "                IF(DATE('{target.calday}') >= DATE_ADD(first_sale_stock_day, 30),\n",
    "                IF(is_promotion = 1 OR is_oos = 1 OR is_outlier = 1, 1, 0),\n",
    "                IF(is_promotion = 1 OR is_oos = 1, 1, 0)) is_corrected\n",
    "            FROM check_outlier\n",
    "        )\n",
    "        SELECT    \n",
    "            a.first_sale_stock_day, b.inactive_range, a.* EXCEPT(first_sale_stock_day, addr_numbr),\n",
    "            IF(b.inactive_range >= 30, 0, c.avg_corrected_base_sale_qty_rollback_30day) avg_corrected_base_sale_qty_rollback_30day,\n",
    "            CASE\t\n",
    "                WHEN DATE('{target.calday}') < DATE_ADD(a.first_sale_stock_day, 30) AND d.product_id IS NULL THEN 0.03 \n",
    "                WHEN b.inactive_range >= 30 THEN 0\n",
    "                WHEN is_promotion = 1 OR is_oos = 1 THEN IFNULL(c.avg_corrected_base_sale_qty_rollback_30day, 0)\n",
    "                WHEN is_outlier = 1 THEN a.upper_outlier\n",
    "                ELSE base_sale_qty \n",
    "            END corrected_base_sale_qty,\n",
    "            CASE\t\n",
    "                WHEN DATE('{target.calday}') < DATE_ADD(a.first_sale_stock_day,30) AND d.product_id IS NULL THEN \"INITIAL CORRECTED SALES\"\n",
    "                WHEN b.inactive_range >= 30 THEN \"TEMPORARY INNACTIVE\"\n",
    "                ELSE NULL \n",
    "            END note,\n",
    "            addr_numbr\n",
    "        FROM check_corrected a\n",
    "        LEFT JOIN avg_corrected_base_sale_qty_rollback_30day c USING (store_id, product_id)\n",
    "        LEFT JOIN CHECK_INACTIVE b ON a.store_id = b.store_id AND a.product_id = b.product_id\n",
    "        LEFT JOIN (SELECT DISTINCT component_id AS product_id FROM {catalog_name}.udp_wcm_gold_vcm_dwh.d_product_bom_winare WHERE is_box = 1) d ON a.product_id = d.product_id\n",
    "                \"\"\")\n",
    "    "
   ]
  },
  {
   "cell_type": "code",
   "execution_count": 0,
   "metadata": {
    "application/vnd.databricks.v1+cell": {
     "cellMetadata": {
      "byteLimit": 2048000,
      "rowLimit": 10000
     },
     "inputWidgets": {},
     "nuid": "a1759a9a-5d15-40dd-857b-f49108cebd25",
     "showTitle": false,
     "tableResultSettingsMap": {},
     "title": ""
    }
   },
   "outputs": [],
   "source": [
    "%run \"../common/common_etl_update\""
   ]
  }
 ],
 "metadata": {
  "application/vnd.databricks.v1+notebook": {
   "computePreferences": null,
   "dashboards": [],
   "environmentMetadata": {
    "base_environment": "",
    "environment_version": "2"
   },
   "inputWidgetPreferences": null,
   "language": "python",
   "notebookMetadata": {
    "mostRecentlyExecutedCommandWithImplicitDF": {
     "commandId": -1,
     "dataframes": [
      "_sqldf"
     ]
    },
    "pythonIndentUnit": 4
   },
   "notebookName": "f_corrected_sale",
   "widgets": {}
  },
  "language_info": {
   "name": "python"
  }
 },
 "nbformat": 4,
 "nbformat_minor": 0
}
