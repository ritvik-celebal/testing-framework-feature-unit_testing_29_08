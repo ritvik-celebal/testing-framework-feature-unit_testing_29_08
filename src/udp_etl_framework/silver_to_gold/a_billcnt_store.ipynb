{
 "cells": [
  {
   "cell_type": "code",
   "execution_count": 0,
   "metadata": {
    "application/vnd.databricks.v1+cell": {
     "cellMetadata": {
      "byteLimit": 2048000,
      "rowLimit": 10000
     },
     "inputWidgets": {},
     "nuid": "1210141c-1b3e-4841-9953-c15623a3053a",
     "showTitle": false,
     "tableResultSettingsMap": {},
     "title": ""
    }
   },
   "outputs": [],
   "source": [
    "%run ../utils/common"
   ]
  },
  {
   "cell_type": "code",
   "execution_count": 0,
   "metadata": {
    "application/vnd.databricks.v1+cell": {
     "cellMetadata": {
      "byteLimit": 2048000,
      "rowLimit": 10000
     },
     "inputWidgets": {},
     "nuid": "ea46e0ec-0495-40f5-bdd1-c5bf6c0251d3",
     "showTitle": false,
     "tableResultSettingsMap": {},
     "title": ""
    }
   },
   "outputs": [],
   "source": [
    "dbutils.widgets.text(\"environment\", \"DEV\")\n",
    "dbutils.widgets.text(\"target_dataset\", \"VCM_DMT_PRD\")\n",
    "dbutils.widgets.text(\"catalog_name\", \"udp_wcm_dev\")\n",
    "dbutils.widgets.text(\"metadata_schema\", \"udp_wcm_metadata_dev\")\n",
    "dbutils.widgets.text(\"target_table\", \"a_billcnt_store\")\n",
    "dbutils.widgets.text(\n",
    "    \"dependency_table\",\"VCM_DWH_PRD.F_TRANSACTION_LINE, VCM_STG_INF.SAP_VCDEXT01, VCM_DMT_PRD.A_FINANCE_BILL_SLL_DETAIL\"\n",
    ")"
   ]
  },
  {
   "cell_type": "code",
   "execution_count": 0,
   "metadata": {
    "application/vnd.databricks.v1+cell": {
     "cellMetadata": {
      "byteLimit": 2048000,
      "rowLimit": 10000
     },
     "inputWidgets": {},
     "nuid": "2dd95f45-7351-4f39-bbfc-36a9c64c5feb",
     "showTitle": false,
     "tableResultSettingsMap": {},
     "title": ""
    }
   },
   "outputs": [],
   "source": [
    "dbutils.widgets.text(\"field_calday\", \"CALDAY\")\n",
    "dbutils.widgets.text(\"field_id\", \"HASH_ID\")"
   ]
  },
  {
   "cell_type": "code",
   "execution_count": 0,
   "metadata": {
    "application/vnd.databricks.v1+cell": {
     "cellMetadata": {
      "byteLimit": 2048000,
      "rowLimit": 10000
     },
     "inputWidgets": {},
     "nuid": "eed16efa-3170-490b-a044-b741cb61a14d",
     "showTitle": false,
     "tableResultSettingsMap": {},
     "title": ""
    }
   },
   "outputs": [],
   "source": [
    "catalog_name = settings[environment]['catalog_name']"
   ]
  },
  {
   "cell_type": "code",
   "execution_count": 0,
   "metadata": {
    "application/vnd.databricks.v1+cell": {
     "cellMetadata": {
      "byteLimit": 2048000,
      "rowLimit": 10000
     },
     "inputWidgets": {},
     "nuid": "d5cb8e40-e538-4bb4-bbfd-fffa15e10afc",
     "showTitle": false,
     "tableResultSettingsMap": {},
     "title": ""
    }
   },
   "outputs": [],
   "source": [
    "environment = dbutils.widgets.get(\"environment\")\n",
    "target_dataset = dbutils.widgets.get(\"target_dataset\")\n",
    "target_table = dbutils.widgets.get(\"target_table\")\n",
    "metadata_schema = dbutils.widgets.get(\"metadata_schema\")\n",
    "dependency_table = dbutils.widgets.get(\"dependency_table\")\n",
    "dependency_table = [x.strip().upper() for x in dependency_table.split(\",\")]\n",
    "dependency_table = \"'\" + \"','\".join(dependency_table) + \"'\"\n",
    "\n",
    "print(f\"environment: {environment}\")\n",
    "print(f\"target_dataset: {target_dataset}\")\n",
    "print(f\"target_table: {target_table}\")\n",
    "print(f\"catalog_name: {catalog_name}\")\n",
    "print(f\"metadata_schema: {metadata_schema}\")\n",
    "print(f\"dependency_table: {dependency_table}\")"
   ]
  },
  {
   "cell_type": "code",
   "execution_count": 0,
   "metadata": {
    "application/vnd.databricks.v1+cell": {
     "cellMetadata": {
      "byteLimit": 2048000,
      "rowLimit": 10000
     },
     "inputWidgets": {},
     "nuid": "c8899065-411c-4e3c-ad16-e8eca08c230b",
     "showTitle": false,
     "tableResultSettingsMap": {},
     "title": ""
    }
   },
   "outputs": [],
   "source": [
    "field_calday = dbutils.widgets.get(\"field_calday\")\n",
    "field_id = dbutils.widgets.get(\"field_id\")\n",
    "\n",
    "print(f\"field_calday: {field_calday}\")\n",
    "print(f\"field_id: {field_id}\")"
   ]
  },
  {
   "cell_type": "code",
   "execution_count": 0,
   "metadata": {
    "application/vnd.databricks.v1+cell": {
     "cellMetadata": {
      "byteLimit": 2048000,
      "rowLimit": 10000
     },
     "inputWidgets": {},
     "nuid": "6cb08385-8d60-409d-b4bb-66880bead871",
     "showTitle": false,
     "tableResultSettingsMap": {},
     "title": ""
    }
   },
   "outputs": [],
   "source": [
    "%run \"../common/common_etl_load\""
   ]
  },
  {
   "cell_type": "code",
   "execution_count": 0,
   "metadata": {
    "application/vnd.databricks.v1+cell": {
     "cellMetadata": {
      "byteLimit": 2048000,
      "rowLimit": 10000
     },
     "inputWidgets": {},
     "nuid": "20c73340-fb2f-4a47-9390-e846a0d3d1ec",
     "showTitle": false,
     "tableResultSettingsMap": {},
     "title": ""
    }
   },
   "outputs": [],
   "source": [
    "spark.sql(f\"\"\"\n",
    "CREATE TABLE IF NOT EXISTS {catalog_name}.udp_wcm_gold_vcm_dmt.a_billcnt_store(\n",
    "calday DATE,\n",
    "store_id STRING,\n",
    "store_name STRING,\n",
    "billcnt_total BIGINT,\n",
    "billcnt_excl_sll BIGINT,\n",
    "billcnt_promo BIGINT,\n",
    "billcnt_promo_5mch BIGINT\n",
    ")\n",
    "TBLPROPERTIES (\n",
    "  'DELTA.AUTOOPTIMIZE.OPTIMIZEWRITE' = 'TRUE',\n",
    "  'DELTA.AUTOOPTIMIZE.AUTOCOMPACT' = 'TRUE'\n",
    ")\n",
    "\"\"\")"
   ]
  },
  {
   "cell_type": "code",
   "execution_count": 0,
   "metadata": {
    "application/vnd.databricks.v1+cell": {
     "cellMetadata": {
      "byteLimit": 2048000,
      "rowLimit": 10000
     },
     "inputWidgets": {},
     "nuid": "dc99e877-4cd8-4c14-97b7-c2f687f60c1f",
     "showTitle": false,
     "tableResultSettingsMap": {},
     "title": ""
    }
   },
   "outputs": [],
   "source": [
    "if CALDAY_IN_STR != '':\n",
    "    spark.sql(f\"\"\"\n",
    "    create or replace TEMP VIEW temp_a_billcnt_store as\n",
    "    WITH \n",
    "    transaction_sll AS (\n",
    "        SELECT\n",
    "            DISTINCT\n",
    "            calday,\n",
    "            plant store_id,\n",
    "            rpa_tnr transaction_no\n",
    "        FROM {catalog_name}.udp_wcm_silver_sap_bw.sap_vcdext01\n",
    "        WHERE _bic_zc_fgroup = 'OGID'\n",
    "            AND _bic_zc_fname = 'B2B'\n",
    "            AND _bic_zc_fvalue LIKE 'B2B%'\n",
    "    ),\n",
    "    store_txn AS (\n",
    "        SELECT\n",
    "            a.calday,\n",
    "            a.store_id,\n",
    "            a.transaction_type,\n",
    "            COUNT(DISTINCT transaction_id) m_txn_cnt,\n",
    "            COUNT(DISTINCT IF(b.calday IS NULL AND c1.calday IS NULL, transaction_id, NULL)) m_txn_cnt_excl_sll,\n",
    "            COUNT(DISTINCT IF(b.calday IS NULL AND c1.calday IS NULL AND product.mch2_id IN ('101', '102', '201', '202', '203'), transaction_id, NULL))m_txn_cnt_excl_sll_5mch,\n",
    "            COUNT(DISTINCT CASE WHEN promotion_sale > 0 THEN transaction_id END) m_txn_cnt_promo,\n",
    "            COUNT(DISTINCT CASE WHEN promotion_sale > 0\n",
    "                                    AND product.mch2_id IN ('101', '102', '201', '202', '203')\n",
    "                                    THEN transaction_id END) m_txn_cnt_promo_5mch\n",
    "        FROM {catalog_name}.udp_wcm_gold_vcm_dwh.f_transaction_line a\n",
    "        LEFT JOIN {catalog_name}.udp_wcm_gold_vcm_dwh.d_product product ON a.product_id = product.product_id\n",
    "        LEFT JOIN {catalog_name}.udp_wcm_gold_vcm_dmt.a_finance_bill_sll_detail b ON a.calday = b.calday AND a.store_id = b.store_id AND a.product_id = b.product_id AND LTRIM('0', a.transaction_no) = LTRIM('0', b.transaction_no)\n",
    "        LEFT JOIN transaction_sll c1 ON a.calday = c1.calday AND a.store_id = c1.store_id AND LTRIM('0', a.transaction_no) = LTRIM('0', c1.transaction_no)\n",
    "        WHERE a.CALDAY IN ({CALDAY_IN_STR})\n",
    "        GROUP BY 1,2,3\n",
    "    ),\n",
    "    bill_cnt_by_str AS (\n",
    "        SELECT\n",
    "            calday,\n",
    "            a.store_id,\n",
    "            c.store_name,\n",
    "            SUM(b.bill_count * a.m_txn_cnt) billcnt_total,\n",
    "            SUM(b.bill_count * a.m_txn_cnt_excl_sll) billcnt_excl_sll,\n",
    "            SUM(b.bill_count * a.m_txn_cnt_excl_sll_5mch) billcnt_excl_sll_5mch,\n",
    "            SUM(b.bill_count * a.m_txn_cnt_promo) billcnt_promo,\n",
    "            SUM(b.bill_count * a.m_txn_cnt_promo_5mch) billcnt_promo_5mch\n",
    "        FROM \n",
    "            store_txn a\n",
    "            INNER JOIN {catalog_name}.udp_wcm_silver_dim.transaction_type b ON a.transaction_type = b.transaction_type\n",
    "            INNER JOIN {catalog_name}.udp_wcm_gold_vcm_dwh.d_store c ON a.store_id = c.store_id\n",
    "        GROUP BY 1,2,3\n",
    "    )\n",
    "    SELECT * FROM bill_cnt_by_str\n",
    "    \"\"\")\n",
    "else:\n",
    "    print(f\"No valid calday's found In common-etl to create the view: temp_a_billcnt_store\")"
   ]
  },
  {
   "cell_type": "code",
   "execution_count": 0,
   "metadata": {
    "application/vnd.databricks.v1+cell": {
     "cellMetadata": {
      "byteLimit": 2048000,
      "rowLimit": 10000
     },
     "inputWidgets": {},
     "nuid": "cbb77664-631f-467f-860a-cf1d0d4988c6",
     "showTitle": false,
     "tableResultSettingsMap": {},
     "title": ""
    }
   },
   "outputs": [],
   "source": [
    "# Get the calday list string from temp table\n",
    "calday_query = f\"\"\"\n",
    "SELECT\n",
    "    CONCAT(\"'\", CONCAT_WS(\"','\", COLLECT_SET(CAST(TO_DATE(calday, 'yyyy-MM-dd') AS STRING))), \"'\") AS calday_in_str\n",
    "FROM temp_a_billcnt_store\n",
    "\"\"\"\n",
    "\n",
    "calday_df = spark.sql(calday_query)\n",
    "calday_in_str = calday_df.collect()[0][0]\n",
    "\n",
    "# Only run DELETE if the string is non-empty\n",
    "if calday_in_str.strip(\"'\"):  # checks if there's any date inside the quotes\n",
    "    spark.sql(f\"\"\"\n",
    "    DELETE FROM {catalog_name}.udp_wcm_gold_vcm_dmt.a_billcnt_store\n",
    "    WHERE calday IN ({calday_in_str})\n",
    "    \"\"\")\n",
    "else:\n",
    "    print(\"No valid CALDAYs found to delete.\")"
   ]
  },
  {
   "cell_type": "code",
   "execution_count": 0,
   "metadata": {
    "application/vnd.databricks.v1+cell": {
     "cellMetadata": {
      "byteLimit": 2048000,
      "rowLimit": 10000
     },
     "inputWidgets": {},
     "nuid": "5ed1735c-186b-4e85-bc19-4954b014daf0",
     "showTitle": false,
     "tableResultSettingsMap": {},
     "title": ""
    }
   },
   "outputs": [],
   "source": [
    "if CALDAY_IN_STR != \"\":\n",
    "    # Insert rows from temp table into main table\n",
    "    INSERT_ROW = \", \".join(\n",
    "        spark.table(f\"{catalog_name}.udp_wcm_gold_vcm_dmt.a_billcnt_store\").columns\n",
    "    )\n",
    "    spark.sql(\n",
    "        f\"\"\"\n",
    "        INSERT INTO {catalog_name}.udp_wcm_gold_vcm_dmt.a_billcnt_store ({INSERT_ROW})\n",
    "        SELECT {INSERT_ROW} FROM temp_{target_table}\n",
    "    \"\"\"\n",
    "    )\n",
    "else:\n",
    "    print(\n",
    "        f\"temp_{target_table} could't be created as no valid calday's found In common-etl so {catalog_name}.udp_wcm_gold_vcm_dmt.a_billcnt_store can't be inserted using calday's from temp_{target_table}\"\n",
    "    )"
   ]
  },
  {
   "cell_type": "code",
   "execution_count": 0,
   "metadata": {
    "application/vnd.databricks.v1+cell": {
     "cellMetadata": {
      "byteLimit": 2048000,
      "rowLimit": 10000
     },
     "inputWidgets": {},
     "nuid": "4da0b1c7-81a8-4c4c-9a73-4af96296f6ca",
     "showTitle": false,
     "tableResultSettingsMap": {},
     "title": ""
    }
   },
   "outputs": [],
   "source": [
    "if CALDAY_IN_STR == '':\n",
    "    dbutils.notebook.exit(\"No valid calday's found In common-etl to insert data into Table: ETL_LOG_DEPENDENCIES and ETL_DELTA_TABLE and \")"
   ]
  },
  {
   "cell_type": "code",
   "execution_count": 0,
   "metadata": {
    "application/vnd.databricks.v1+cell": {
     "cellMetadata": {
      "byteLimit": 2048000,
      "rowLimit": 10000
     },
     "inputWidgets": {},
     "nuid": "e69d70b6-f9ec-49ce-b70a-f9502101d92e",
     "showTitle": false,
     "tableResultSettingsMap": {},
     "title": ""
    }
   },
   "outputs": [],
   "source": [
    "%run \"../common/common_etl_update\""
   ]
  },
  {
   "cell_type": "code",
   "execution_count": 0,
   "metadata": {
    "application/vnd.databricks.v1+cell": {
     "cellMetadata": {
      "byteLimit": 2048000,
      "rowLimit": 10000
     },
     "inputWidgets": {},
     "nuid": "6b2b0ea4-ede6-4cdc-a0b7-96d8f8c4272a",
     "showTitle": false,
     "tableResultSettingsMap": {},
     "title": ""
    }
   },
   "outputs": [],
   "source": [
    "spark.sql(f\"\"\"DROP VIEW IF EXISTS temp_{target_table}\"\"\")"
   ]
  }
 ],
 "metadata": {
  "application/vnd.databricks.v1+notebook": {
   "computePreferences": null,
   "dashboards": [],
   "environmentMetadata": {
    "base_environment": "",
    "environment_version": "2"
   },
   "inputWidgetPreferences": null,
   "language": "python",
   "notebookMetadata": {
    "mostRecentlyExecutedCommandWithImplicitDF": {
     "commandId": 6673494183708184,
     "dataframes": [
      "_sqldf"
     ]
    },
    "pythonIndentUnit": 4
   },
   "notebookName": "a_billcnt_store",
   "widgets": {
    "catalog_name": {
     "currentValue": "udp_wcm_dev",
     "nuid": "6f17cd13-7e9b-4b81-acaa-0a6de240d0a5",
     "typedWidgetInfo": {
      "autoCreated": false,
      "defaultValue": "udp_wcm_dev",
      "label": null,
      "name": "catalog_name",
      "options": {
       "widgetDisplayType": "Text",
       "validationRegex": null
      },
      "parameterDataType": "String"
     },
     "widgetInfo": {
      "widgetType": "text",
      "defaultValue": "udp_wcm_dev",
      "label": null,
      "name": "catalog_name",
      "options": {
       "widgetType": "text",
       "autoCreated": null,
       "validationRegex": null
      }
     }
    },
    "dependency_table": {
     "currentValue": "VCM_DWH_PRD.F_TRANSACTION_LINE, VCM_STG_INF.SAP_VCDEXT01, VCM_DMT_PRD.A_FINANCE_BILL_SLL_DETAIL",
     "nuid": "54f3173e-9fb0-4b9c-b79d-f18c5cd92612",
     "typedWidgetInfo": {
      "autoCreated": false,
      "defaultValue": "VCM_DWH_PRD.F_TRANSACTION_LINE, VCM_STG_INF.SAP_VCDEXT01, VCM_DMT_PRD.A_FINANCE_BILL_SLL_DETAIL",
      "label": null,
      "name": "dependency_table",
      "options": {
       "widgetDisplayType": "Text",
       "validationRegex": null
      },
      "parameterDataType": "String"
     },
     "widgetInfo": {
      "widgetType": "text",
      "defaultValue": "VCM_DWH_PRD.F_TRANSACTION_LINE, VCM_STG_INF.SAP_VCDEXT01, VCM_DMT_PRD.A_FINANCE_BILL_SLL_DETAIL",
      "label": null,
      "name": "dependency_table",
      "options": {
       "widgetType": "text",
       "autoCreated": null,
       "validationRegex": null
      }
     }
    },
    "environment": {
     "currentValue": "DEV",
     "nuid": "1a8c72a1-07f3-4e1d-b449-6c8686c0316a",
     "typedWidgetInfo": {
      "autoCreated": false,
      "defaultValue": "DEV",
      "label": null,
      "name": "environment",
      "options": {
       "widgetDisplayType": "Text",
       "validationRegex": null
      },
      "parameterDataType": "String"
     },
     "widgetInfo": {
      "widgetType": "text",
      "defaultValue": "DEV",
      "label": null,
      "name": "environment",
      "options": {
       "widgetType": "text",
       "autoCreated": null,
       "validationRegex": null
      }
     }
    },
    "field_calday": {
     "currentValue": "CALDAY",
     "nuid": "0b5b366f-1b7c-4316-b0bd-1c1d30c38614",
     "typedWidgetInfo": {
      "autoCreated": false,
      "defaultValue": "CALDAY",
      "label": null,
      "name": "field_calday",
      "options": {
       "widgetDisplayType": "Text",
       "validationRegex": null
      },
      "parameterDataType": "String"
     },
     "widgetInfo": {
      "widgetType": "text",
      "defaultValue": "CALDAY",
      "label": null,
      "name": "field_calday",
      "options": {
       "widgetType": "text",
       "autoCreated": null,
       "validationRegex": null
      }
     }
    },
    "field_id": {
     "currentValue": "HASH_ID",
     "nuid": "b75045a5-f7f6-4d80-b024-8f76aa87a583",
     "typedWidgetInfo": {
      "autoCreated": false,
      "defaultValue": "HASH_ID",
      "label": null,
      "name": "field_id",
      "options": {
       "widgetDisplayType": "Text",
       "validationRegex": null
      },
      "parameterDataType": "String"
     },
     "widgetInfo": {
      "widgetType": "text",
      "defaultValue": "HASH_ID",
      "label": null,
      "name": "field_id",
      "options": {
       "widgetType": "text",
       "autoCreated": null,
       "validationRegex": null
      }
     }
    },
    "metadata_schema": {
     "currentValue": "udp_wcm_metadata_dev",
     "nuid": "64944521-2b61-4db8-818c-5ca694723305",
     "typedWidgetInfo": {
      "autoCreated": false,
      "defaultValue": "udp_wcm_metadata_dev",
      "label": null,
      "name": "metadata_schema",
      "options": {
       "widgetDisplayType": "Text",
       "validationRegex": null
      },
      "parameterDataType": "String"
     },
     "widgetInfo": {
      "widgetType": "text",
      "defaultValue": "udp_wcm_metadata_dev",
      "label": null,
      "name": "metadata_schema",
      "options": {
       "widgetType": "text",
       "autoCreated": null,
       "validationRegex": null
      }
     }
    },
    "proc_date": {
     "currentValue": "2025-07-21",
     "nuid": "50bbb2f2-00cb-4ca7-b2f1-d40b2247c406",
     "typedWidgetInfo": {
      "autoCreated": false,
      "defaultValue": "",
      "label": "",
      "name": "proc_date",
      "options": {
       "widgetDisplayType": "Text",
       "validationRegex": null
      },
      "parameterDataType": "String"
     },
     "widgetInfo": {
      "widgetType": "text",
      "defaultValue": "",
      "label": "",
      "name": "proc_date",
      "options": {
       "widgetType": "text",
       "autoCreated": null,
       "validationRegex": null
      }
     }
    },
    "target_dataset": {
     "currentValue": "VCM_DMT_PRD",
     "nuid": "9e6b5b9a-fef4-4060-90bb-1e5f0316b1cd",
     "typedWidgetInfo": {
      "autoCreated": false,
      "defaultValue": "VCM_DMT_PRD",
      "label": null,
      "name": "target_dataset",
      "options": {
       "widgetDisplayType": "Text",
       "validationRegex": null
      },
      "parameterDataType": "String"
     },
     "widgetInfo": {
      "widgetType": "text",
      "defaultValue": "VCM_DMT_PRD",
      "label": null,
      "name": "target_dataset",
      "options": {
       "widgetType": "text",
       "autoCreated": null,
       "validationRegex": null
      }
     }
    },
    "target_table": {
     "currentValue": "a_billcnt_store",
     "nuid": "c97b1c38-de64-45df-8285-da9da7aac9d5",
     "typedWidgetInfo": {
      "autoCreated": false,
      "defaultValue": "a_billcnt_store",
      "label": null,
      "name": "target_table",
      "options": {
       "widgetDisplayType": "Text",
       "validationRegex": null
      },
      "parameterDataType": "String"
     },
     "widgetInfo": {
      "widgetType": "text",
      "defaultValue": "a_billcnt_store",
      "label": null,
      "name": "target_table",
      "options": {
       "widgetType": "text",
       "autoCreated": null,
       "validationRegex": null
      }
     }
    }
   }
  },
  "language_info": {
   "name": "python"
  }
 },
 "nbformat": 4,
 "nbformat_minor": 0
}
