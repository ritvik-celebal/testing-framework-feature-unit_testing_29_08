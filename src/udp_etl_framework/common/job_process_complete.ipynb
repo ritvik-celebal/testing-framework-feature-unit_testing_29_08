{
 "cells": [
  {
   "cell_type": "code",
   "execution_count": 0,
   "metadata": {
    "application/vnd.databricks.v1+cell": {
     "cellMetadata": {
      "byteLimit": 2048000,
      "rowLimit": 10000
     },
     "inputWidgets": {},
     "nuid": "3a82f2c9-3ba0-435e-b032-d3566700a236",
     "showTitle": false,
     "tableResultSettingsMap": {},
     "title": ""
    }
   },
   "outputs": [],
   "source": [
    "%run ../utils/common"
   ]
  },
  {
   "cell_type": "code",
   "execution_count": 0,
   "metadata": {
    "application/vnd.databricks.v1+cell": {
     "cellMetadata": {
      "byteLimit": 2048000,
      "rowLimit": 10000
     },
     "inputWidgets": {},
     "nuid": "544fcfb2-38cf-453b-972d-d3b0cf8581de",
     "showTitle": false,
     "tableResultSettingsMap": {},
     "title": ""
    }
   },
   "outputs": [],
   "source": [
    "config = open(\"../configs/config.json\")\n",
    "settings = json.load(config)"
   ]
  },
  {
   "cell_type": "code",
   "execution_count": 0,
   "metadata": {
    "application/vnd.databricks.v1+cell": {
     "cellMetadata": {
      "byteLimit": 2048000,
      "rowLimit": 10000
     },
     "inputWidgets": {},
     "nuid": "a608187b-abad-43f9-9e71-e72999792df1",
     "showTitle": false,
     "tableResultSettingsMap": {},
     "title": ""
    }
   },
   "outputs": [],
   "source": [
    "dbutils.widgets.text(\"environment\", \"\")\n",
    "dbutils.widgets.text(\"job_name\", \"\")\n",
    "\n",
    "environment = dbutils.widgets.get(\"environment\")\n",
    "job_name = dbutils.widgets.get(\"job_name\").strip()\n",
    "\n",
    "\n",
    "print(environment)\n",
    "print(job_name)"
   ]
  },
  {
   "cell_type": "code",
   "execution_count": 0,
   "metadata": {
    "application/vnd.databricks.v1+cell": {
     "cellMetadata": {
      "byteLimit": 2048000,
      "rowLimit": 10000
     },
     "inputWidgets": {},
     "nuid": "3bf4a9c8-4b68-46e8-9ceb-f822a14513a5",
     "showTitle": false,
     "tableResultSettingsMap": {},
     "title": ""
    }
   },
   "outputs": [],
   "source": [
    "catalog = settings[environment]['catalog_name']\n",
    "catalog"
   ]
  },
  {
   "cell_type": "code",
   "execution_count": 0,
   "metadata": {
    "application/vnd.databricks.v1+cell": {
     "cellMetadata": {
      "byteLimit": 2048000,
      "rowLimit": 10000
     },
     "inputWidgets": {},
     "nuid": "6fcb0820-28f6-4390-8de0-05252f7c0193",
     "showTitle": false,
     "tableResultSettingsMap": {},
     "title": ""
    }
   },
   "outputs": [],
   "source": [
    "TBL_META_JOB_RUNS = f\"{catalog}.default.meta_job_runs\"\n",
    "TBL_META_JOB_RUNS"
   ]
  },
  {
   "cell_type": "code",
   "execution_count": 0,
   "metadata": {
    "application/vnd.databricks.v1+cell": {
     "cellMetadata": {
      "byteLimit": 2048000,
      "rowLimit": 10000
     },
     "inputWidgets": {},
     "nuid": "9c3f97e6-c801-415d-bf13-12c13f3dd8d4",
     "showTitle": false,
     "tableResultSettingsMap": {},
     "title": ""
    }
   },
   "outputs": [],
   "source": [
    "# Constants\n",
    "IN_PROGRESS = 'IN_PROGRESS'\n",
    "COMPLETED = 'COMPLETED'\n",
    "FAILED = 'FAILED'"
   ]
  },
  {
   "cell_type": "code",
   "execution_count": 0,
   "metadata": {
    "application/vnd.databricks.v1+cell": {
     "cellMetadata": {
      "byteLimit": 2048000,
      "rowLimit": 10000
     },
     "inputWidgets": {},
     "nuid": "65e5f545-eb04-4799-8176-10d3f8f4d967",
     "showTitle": false,
     "tableResultSettingsMap": {},
     "title": ""
    }
   },
   "outputs": [],
   "source": [
    "df = (\n",
    "    spark\n",
    "    .table(TBL_META_JOB_RUNS)\n",
    "    .filter((F.trim(\"job_name\") == job_name) & (col(\"status\") == f\"{IN_PROGRESS}\"))\n",
    "    .orderBy(F.desc(\"updated_at\"))\n",
    "    .limit(1)\n",
    ")\n",
    "\n",
    "print(df.show())\n",
    "\n",
    "if df.count() == 0:\n",
    "    raise ValueError(f\"No IN_PROGRESS record found for job_name: {job_name}\")"
   ]
  },
  {
   "cell_type": "code",
   "execution_count": 0,
   "metadata": {
    "application/vnd.databricks.v1+cell": {
     "cellMetadata": {
      "byteLimit": 2048000,
      "rowLimit": 10000
     },
     "inputWidgets": {},
     "nuid": "4d73d565-46bb-461a-b297-e88826904425",
     "showTitle": false,
     "tableResultSettingsMap": {},
     "title": ""
    }
   },
   "outputs": [],
   "source": [
    "# from pytz import timezone as pytz_timezone\n",
    "vn_tz = pytz_timezone(\"Asia/Ho_Chi_Minh\")\n",
    "current_local_time = datetime.now(vn_tz)\n",
    "\n",
    "updated_at = current_local_time\n",
    "print(updated_at)"
   ]
  },
  {
   "cell_type": "code",
   "execution_count": 0,
   "metadata": {
    "application/vnd.databricks.v1+cell": {
     "cellMetadata": {
      "byteLimit": 2048000,
      "rowLimit": 10000
     },
     "inputWidgets": {},
     "nuid": "a2a3dc96-c064-4519-bf53-a39b34654d7a",
     "showTitle": false,
     "tableResultSettingsMap": {},
     "title": ""
    }
   },
   "outputs": [],
   "source": [
    "row = df.collect()[0]\n",
    "row"
   ]
  },
  {
   "cell_type": "code",
   "execution_count": 0,
   "metadata": {
    "application/vnd.databricks.v1+cell": {
     "cellMetadata": {
      "byteLimit": 2048000,
      "rowLimit": 10000
     },
     "inputWidgets": {},
     "nuid": "c9972f33-e2ec-4241-b4cb-e2092a1d69d2",
     "showTitle": false,
     "tableResultSettingsMap": {},
     "title": ""
    }
   },
   "outputs": [],
   "source": [
    "# Create a temporary view with new values\n",
    "update_df = spark.createDataFrame([{\n",
    "    \"job_name\": row[\"job_name\"],\n",
    "    \"proc_time\": row[\"proc_time\"],\n",
    "    \"updated_at\": updated_at,\n",
    "    \"status\": COMPLETED\n",
    "}])\n",
    "update_df.createOrReplaceTempView(\"update_view\")\n",
    "\n",
    "# Perform the update using MERGE\n",
    "spark.sql(f\"\"\"\n",
    "MERGE INTO {TBL_META_JOB_RUNS} target\n",
    "USING update_view source\n",
    "ON target.job_name = source.job_name\n",
    "   AND target.proc_time = source.proc_time\n",
    "   AND target.status = '{IN_PROGRESS}'\n",
    "WHEN MATCHED THEN UPDATE SET\n",
    "  target.updated_at = source.updated_at,\n",
    "  target.status = source.status\n",
    "\"\"\")\n",
    "\n",
    "print(f\"Job '{job_name}' marked as COMPLETE with updated_at: {updated_at} and process_date: {row['proc_time']}\")"
   ]
  }
 ],
 "metadata": {
  "application/vnd.databricks.v1+notebook": {
   "computePreferences": null,
   "dashboards": [],
   "environmentMetadata": {
    "base_environment": "",
    "environment_version": "2"
   },
   "inputWidgetPreferences": null,
   "language": "python",
   "notebookMetadata": {
    "mostRecentlyExecutedCommandWithImplicitDF": {
     "commandId": 6340711113748757,
     "dataframes": [
      "_sqldf"
     ]
    },
    "pythonIndentUnit": 4
   },
   "notebookName": "job_process_complete",
   "widgets": {
    "environment": {
     "currentValue": "DEV",
     "nuid": "7cb4d4e8-6e2f-4f1b-a649-4ec1badcd5c7",
     "typedWidgetInfo": {
      "autoCreated": false,
      "defaultValue": "",
      "label": null,
      "name": "environment",
      "options": {
       "widgetDisplayType": "Text",
       "validationRegex": null
      },
      "parameterDataType": "String"
     },
     "widgetInfo": {
      "widgetType": "text",
      "defaultValue": "",
      "label": null,
      "name": "environment",
      "options": {
       "widgetType": "text",
       "autoCreated": null,
       "validationRegex": null
      }
     }
    },
    "job_name": {
     "currentValue": "dwh_dim_fact_udp_pipeline",
     "nuid": "5dc14228-35f6-41aa-b764-8eeec52bc862",
     "typedWidgetInfo": {
      "autoCreated": false,
      "defaultValue": "",
      "label": null,
      "name": "job_name",
      "options": {
       "widgetDisplayType": "Text",
       "validationRegex": null
      },
      "parameterDataType": "String"
     },
     "widgetInfo": {
      "widgetType": "text",
      "defaultValue": "",
      "label": null,
      "name": "job_name",
      "options": {
       "widgetType": "text",
       "autoCreated": null,
       "validationRegex": null
      }
     }
    }
   }
  },
  "language_info": {
   "name": "python"
  }
 },
 "nbformat": 4,
 "nbformat_minor": 0
}
