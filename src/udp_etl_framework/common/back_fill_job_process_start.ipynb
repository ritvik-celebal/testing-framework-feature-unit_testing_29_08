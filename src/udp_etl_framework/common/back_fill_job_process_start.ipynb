{
 "cells": [
  {
   "cell_type": "code",
   "execution_count": 0,
   "metadata": {
    "application/vnd.databricks.v1+cell": {
     "cellMetadata": {},
     "inputWidgets": {},
     "nuid": "3327b738-9422-4333-97c8-0326aed38a45",
     "showTitle": false,
     "tableResultSettingsMap": {},
     "title": ""
    }
   },
   "outputs": [],
   "source": [
    "%run ../utils/common"
   ]
  },
  {
   "cell_type": "code",
   "execution_count": 0,
   "metadata": {
    "application/vnd.databricks.v1+cell": {
     "cellMetadata": {
      "byteLimit": 2048000,
      "rowLimit": 10000
     },
     "inputWidgets": {},
     "nuid": "a608187b-abad-43f9-9e71-e72999792df1",
     "showTitle": false,
     "tableResultSettingsMap": {},
     "title": ""
    }
   },
   "outputs": [],
   "source": [
    "dbutils.widgets.text(\"environment\", \"\", \"\")\n",
    "dbutils.widgets.text(\"job_name\", \"\")\n",
    "dbutils.widgets.text(\"back_fill\", \"N\")\n",
    "dbutils.widgets.text(\"proc_time\", \"\")\n",
    "dbutils.widgets.text(\"cron_pattern\", \"\")\n",
    "\n",
    "environment = dbutils.widgets.get(\"environment\")\n",
    "job_name = dbutils.widgets.get(\"job_name\")\n",
    "back_fill = dbutils.widgets.get(\"back_fill\")\n",
    "proc_time_str = dbutils.widgets.get(\"proc_time\")\n",
    "cron_pattern = dbutils.widgets.get(\"cron_pattern\")"
   ]
  },
  {
   "cell_type": "code",
   "execution_count": 0,
   "metadata": {
    "application/vnd.databricks.v1+cell": {
     "cellMetadata": {
      "byteLimit": 2048000,
      "rowLimit": 10000
     },
     "inputWidgets": {},
     "nuid": "4aad8c6d-d534-4187-a442-f4d97f795dea",
     "showTitle": false,
     "tableResultSettingsMap": {},
     "title": ""
    }
   },
   "outputs": [],
   "source": [
    "config = open(\"../configs/config.json\")\n",
    "settings = json.load(config)"
   ]
  },
  {
   "cell_type": "code",
   "execution_count": 0,
   "metadata": {
    "application/vnd.databricks.v1+cell": {
     "cellMetadata": {
      "byteLimit": 2048000,
      "rowLimit": 10000
     },
     "inputWidgets": {},
     "nuid": "1e14b7a0-5732-4fcc-85e3-2d09fc6d154b",
     "showTitle": false,
     "tableResultSettingsMap": {},
     "title": ""
    }
   },
   "outputs": [],
   "source": [
    "catalog_name = settings[environment]['catalog_name']\n",
    "catalog_name"
   ]
  },
  {
   "cell_type": "code",
   "execution_count": 0,
   "metadata": {
    "application/vnd.databricks.v1+cell": {
     "cellMetadata": {
      "byteLimit": 2048000,
      "rowLimit": 10000
     },
     "inputWidgets": {},
     "nuid": "14c9161b-a14d-416a-a5d0-a077118176a1",
     "showTitle": false,
     "tableResultSettingsMap": {},
     "title": ""
    }
   },
   "outputs": [],
   "source": [
    "IN_PROGRESS = \"IN_PROGRESS\"\n",
    "COMPLETED = \"COMPLETED\"\n",
    "FAILED = \"FAILED\""
   ]
  },
  {
   "cell_type": "code",
   "execution_count": 0,
   "metadata": {
    "application/vnd.databricks.v1+cell": {
     "cellMetadata": {
      "byteLimit": 2048000,
      "rowLimit": 10000
     },
     "inputWidgets": {},
     "nuid": "99aef7bb-b687-42bc-ad98-7c3aea1d4e45",
     "showTitle": false,
     "tableResultSettingsMap": {},
     "title": ""
    }
   },
   "outputs": [],
   "source": [
    "TBL_META_JOB_RUNS = f\"{catalog_name}.default.meta_job_runs\"\n",
    "TBL_META_JOB_RUNS"
   ]
  },
  {
   "cell_type": "code",
   "execution_count": 0,
   "metadata": {
    "application/vnd.databricks.v1+cell": {
     "cellMetadata": {
      "byteLimit": 2048000,
      "rowLimit": 10000
     },
     "inputWidgets": {},
     "nuid": "eff2c61b-8c43-4016-ae93-02366579dff0",
     "showTitle": false,
     "tableResultSettingsMap": {},
     "title": ""
    }
   },
   "outputs": [],
   "source": [
    "%python\n",
    "spark.sql(f\"\"\"\n",
    "CREATE TABLE IF NOT EXISTS {catalog_name}.default.meta_job_runs ( \n",
    "    inserted_at TIMESTAMP,\n",
    "    updated_at TIMESTAMP,\n",
    "    job_name STRING,\n",
    "    proc_time TIMESTAMP,\n",
    "    cron_pattern STRING,\n",
    "    status STRING\n",
    "  )\n",
    "\"\"\")"
   ]
  },
  {
   "cell_type": "code",
   "execution_count": 0,
   "metadata": {
    "application/vnd.databricks.v1+cell": {
     "cellMetadata": {},
     "inputWidgets": {},
     "nuid": "98a7beca-048f-476e-9360-63b439f591a3",
     "showTitle": false,
     "tableResultSettingsMap": {},
     "title": ""
    }
   },
   "outputs": [],
   "source": [
    "proc_time = proc_date"
   ]
  },
  {
   "cell_type": "code",
   "execution_count": 0,
   "metadata": {
    "application/vnd.databricks.v1+cell": {
     "cellMetadata": {},
     "inputWidgets": {},
     "nuid": "4f76a32e-dcfc-4262-8c4f-49beebfe5bce",
     "showTitle": false,
     "tableResultSettingsMap": {},
     "title": ""
    }
   },
   "outputs": [],
   "source": [
    "%python\n",
    "from datetime import datetime\n",
    "\n",
    "fmtd_proc_date = proc_date.strftime(\"%Y-%m-%d\")\n",
    "\n",
    "if back_fill == \"Y\":\n",
    "    dbutils.jobs.taskValues.set(\"proc_date\", fmtd_proc_date)\n",
    "    dbutils.notebook.exit()\n",
    "\n",
    "# Incremental Runs\n",
    "df = spark.table(TBL_META_JOB_RUNS).filter(col(\"job_name\") == job_name)\n",
    "\n",
    "if df.count() == 0:\n",
    "    print(f\"No entry for job '{job_name}', inserting with status '{IN_PROGRESS}'\")\n",
    "    record = {\n",
    "        \"inserted_at\": proc_time,\n",
    "        \"updated_at\": proc_time,\n",
    "        \"job_name\": job_name,\n",
    "        \"proc_time\": proc_time,\n",
    "        \"cron_pattern\": cron_pattern,\n",
    "        \"status\": IN_PROGRESS,\n",
    "    }\n",
    "    spark.createDataFrame([record]).write.mode(\"append\").format(\"delta\").saveAsTable(TBL_META_JOB_RUNS)\n",
    "else:\n",
    "    # Update all 'COMPLETED' entries to 'IN_PROGRESS' with new proc_date\n",
    "    print(f\"Updating all COMPLETED records for job '{job_name}' to '{IN_PROGRESS}'\")\n",
    "\n",
    "    query = f\"\"\"\n",
    "    SELECT * FROM {TBL_META_JOB_RUNS}\n",
    "    WHERE job_name = '{job_name}' AND status = '{IN_PROGRESS}'\n",
    "    \"\"\"\n",
    "    df_in_progress = spark.sql(query)\n",
    "\n",
    "    if df_in_progress.count() > 0:\n",
    "        raise ValueError(f\"Job {job_name} already has an {IN_PROGRESS} state. Skipping run\")\n",
    "    else:\n",
    "        query = f\"\"\"\n",
    "        UPDATE {TBL_META_JOB_RUNS}\n",
    "        SET \n",
    "            updated_at = '{proc_time}',\n",
    "            proc_time = '{proc_time}',\n",
    "            status = '{IN_PROGRESS}'\n",
    "        WHERE job_name = '{job_name}' \n",
    "        \"\"\"\n",
    "        print(query)\n",
    "        spark.sql(query)\n",
    "        print(f\"Job {job_name} is marked '{IN_PROGRESS}\")\n",
    "\n",
    "# Pass the updated proc_date to the next notebook\n",
    "dbutils.jobs.taskValues.set(\"proc_date\", fmtd_proc_date)"
   ]
  }
 ],
 "metadata": {
  "application/vnd.databricks.v1+notebook": {
   "computePreferences": null,
   "dashboards": [],
   "environmentMetadata": {
    "base_environment": "",
    "environment_version": "2"
   },
   "inputWidgetPreferences": null,
   "language": "python",
   "notebookMetadata": {
    "mostRecentlyExecutedCommandWithImplicitDF": {
     "commandId": 6340711113754714,
     "dataframes": [
      "_sqldf"
     ]
    },
    "pythonIndentUnit": 4
   },
   "notebookName": "back_fill_job_process_start",
   "widgets": {
    "back_fill": {
     "currentValue": "N",
     "nuid": "65eebc09-8a69-4bf1-9650-6287d9cbc478",
     "typedWidgetInfo": {
      "autoCreated": false,
      "defaultValue": "N",
      "label": null,
      "name": "back_fill",
      "options": {
       "widgetDisplayType": "Text",
       "validationRegex": null
      },
      "parameterDataType": "String"
     },
     "widgetInfo": {
      "widgetType": "text",
      "defaultValue": "N",
      "label": null,
      "name": "back_fill",
      "options": {
       "widgetType": "text",
       "autoCreated": null,
       "validationRegex": null
      }
     }
    },
    "cron_pattern": {
     "currentValue": "11 * * * ",
     "nuid": "3d674864-47ca-400b-bcd1-0a53cd565178",
     "typedWidgetInfo": {
      "autoCreated": false,
      "defaultValue": "",
      "label": null,
      "name": "cron_pattern",
      "options": {
       "widgetDisplayType": "Text",
       "validationRegex": null
      },
      "parameterDataType": "String"
     },
     "widgetInfo": {
      "widgetType": "text",
      "defaultValue": "",
      "label": null,
      "name": "cron_pattern",
      "options": {
       "widgetType": "text",
       "autoCreated": null,
       "validationRegex": null
      }
     }
    },
    "environment": {
     "currentValue": "DEV",
     "nuid": "b2fbd509-a4c6-467a-bfb5-1a2b0b0642d1",
     "typedWidgetInfo": {
      "autoCreated": false,
      "defaultValue": "",
      "label": "",
      "name": "environment",
      "options": {
       "widgetDisplayType": "Text",
       "validationRegex": null
      },
      "parameterDataType": "String"
     },
     "widgetInfo": {
      "widgetType": "text",
      "defaultValue": "",
      "label": "",
      "name": "environment",
      "options": {
       "widgetType": "text",
       "autoCreated": null,
       "validationRegex": null
      }
     }
    },
    "job_name": {
     "currentValue": "sap_bw_raw_to_silver_data_load",
     "nuid": "5dc14228-35f6-41aa-b764-8eeec52bc862",
     "typedWidgetInfo": {
      "autoCreated": false,
      "defaultValue": "",
      "label": null,
      "name": "job_name",
      "options": {
       "widgetDisplayType": "Text",
       "validationRegex": null
      },
      "parameterDataType": "String"
     },
     "widgetInfo": {
      "widgetType": "text",
      "defaultValue": "",
      "label": null,
      "name": "job_name",
      "options": {
       "widgetType": "text",
       "autoCreated": null,
       "validationRegex": null
      }
     }
    },
    "proc_time": {
     "currentValue": "2025-06-16T00:00:00.000",
     "nuid": "e1c7ccf1-a0c2-4f02-9ccd-2b95a44d537b",
     "typedWidgetInfo": {
      "autoCreated": false,
      "defaultValue": "",
      "label": null,
      "name": "proc_time",
      "options": {
       "widgetDisplayType": "Text",
       "validationRegex": null
      },
      "parameterDataType": "String"
     },
     "widgetInfo": {
      "widgetType": "text",
      "defaultValue": "",
      "label": null,
      "name": "proc_time",
      "options": {
       "widgetType": "text",
       "autoCreated": null,
       "validationRegex": null
      }
     }
    }
   }
  },
  "language_info": {
   "name": "python"
  }
 },
 "nbformat": 4,
 "nbformat_minor": 0
}
