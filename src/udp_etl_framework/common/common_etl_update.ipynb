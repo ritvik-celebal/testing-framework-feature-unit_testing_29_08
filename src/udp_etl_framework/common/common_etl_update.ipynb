{
 "cells": [
  {
   "cell_type": "code",
   "execution_count": 0,
   "metadata": {
    "application/vnd.databricks.v1+cell": {
     "cellMetadata": {
      "byteLimit": 2048000,
      "rowLimit": 10000
     },
     "inputWidgets": {},
     "nuid": "76a55a63-461a-47e9-8a1d-995a8927ec47",
     "showTitle": false,
     "tableResultSettingsMap": {},
     "title": ""
    }
   },
   "outputs": [],
   "source": [
    "from pyspark.sql.functions import *\n",
    "from pyspark.sql.types import *"
   ]
  },
  {
   "cell_type": "code",
   "execution_count": 0,
   "metadata": {
    "application/vnd.databricks.v1+cell": {
     "cellMetadata": {
      "byteLimit": 2048000,
      "rowLimit": 10000
     },
     "inputWidgets": {},
     "nuid": "638f9cdc-d109-4f71-982e-49511c2a42b8",
     "showTitle": false,
     "tableResultSettingsMap": {},
     "title": ""
    }
   },
   "outputs": [],
   "source": [
    "# Insert rows from temp dependency view into ETL_LOG_DEPENDENCIES\n",
    "INSERT_ROW = \", \".join(\n",
    "    spark.table(f\"{catalog_name}.{metadata_schema}.ETL_LOG_DEPENDENCIES\").columns\n",
    ")\n",
    "\n",
    "print((f\"\"\"\n",
    "    INSERT INTO {catalog_name}.{metadata_schema}.ETL_LOG_DEPENDENCIES ({INSERT_ROW})\n",
    "    SELECT {INSERT_ROW} FROM {target_table}_DEPENDENCIES\n",
    "\"\"\"))\n",
    "\n",
    "spark.sql(f\"\"\"\n",
    "    INSERT INTO {catalog_name}.{metadata_schema}.ETL_LOG_DEPENDENCIES ({INSERT_ROW})\n",
    "    SELECT {INSERT_ROW} FROM {target_table}_DEPENDENCIES\n",
    "\"\"\")\n"
   ]
  },
  {
   "cell_type": "code",
   "execution_count": 0,
   "metadata": {
    "application/vnd.databricks.v1+cell": {
     "cellMetadata": {},
     "inputWidgets": {},
     "nuid": "db4e928b-351b-4b6a-931a-7f6d7f1c9220",
     "showTitle": false,
     "tableResultSettingsMap": {},
     "title": ""
    }
   },
   "outputs": [],
   "source": [
    "spark.read.table(\"udp_wcm_dev.udp_Wcm_metadata_dev.ETL_LOG_DEPENDENCIES\")"
   ]
  },
  {
   "cell_type": "code",
   "execution_count": 0,
   "metadata": {
    "application/vnd.databricks.v1+cell": {
     "cellMetadata": {
      "byteLimit": 2048000,
      "rowLimit": 10000
     },
     "inputWidgets": {},
     "nuid": "380c2750-6065-4114-a274-2163a8b80ca5",
     "showTitle": false,
     "tableResultSettingsMap": {},
     "title": ""
    }
   },
   "outputs": [],
   "source": [
    "max_proc_date = spark.sql(\n",
    "    f\"select max(proc_date) from {catalog_name}.{metadata_schema}.ETL_LOG_DEPENDENCIES\"\n",
    ").head()[0]\n",
    "curr_rec_etl_dep_df = spark.sql(\n",
    "    f\"select * from {catalog_name}.{metadata_schema}.ETL_LOG_DEPENDENCIES where proc_date = '{max_proc_date}'\"\n",
    ")\n",
    "curr_rec_etl_dep_df.display()"
   ]
  },
  {
   "cell_type": "code",
   "execution_count": 0,
   "metadata": {
    "application/vnd.databricks.v1+cell": {
     "cellMetadata": {
      "byteLimit": 2048000,
      "rowLimit": 10000
     },
     "inputWidgets": {},
     "nuid": "9871ed66-e360-4b8c-8938-d43870a0271f",
     "showTitle": false,
     "tableResultSettingsMap": {},
     "title": ""
    }
   },
   "outputs": [],
   "source": [
    "# Insert rows into ETL_DELTA_TABLE\n",
    "spark.sql(\n",
    "    f\"\"\"\n",
    "    INSERT INTO {catalog_name}.{metadata_schema}.ETL_DELTA_TABLE\n",
    "    SELECT \n",
    "        current_timestamp() + INTERVAL 7 HOURS AS PROC_DATE\n",
    "        , \"{CALDAY_IN_STR}\" AS CALDAY_IN_STR\n",
    "        , \"{target_dataset}\" AS DATASET_AFFECT\n",
    "        , \"{target_table}\" AS TABLE_AFFECT\n",
    "        , \"{field_calday}\" FIELD_CALDAY\n",
    "        , \"{field_id}\" FIELD_ID\n",
    "        , 1 STATUS\n",
    "        , CAST(\"{START_DATE_D}\" AS DATE) AS START_DATE_D\n",
    "        , CAST(\"{END_DATE_D}\" AS DATE) AS END_DATE_D\n",
    "        , \"{TABLE_ETL}\" AS TABLE_ETL\n",
    "\"\"\"\n",
    ")"
   ]
  },
  {
   "cell_type": "code",
   "execution_count": 0,
   "metadata": {
    "application/vnd.databricks.v1+cell": {
     "cellMetadata": {
      "byteLimit": 2048000,
      "rowLimit": 10000
     },
     "inputWidgets": {},
     "nuid": "07092a45-934c-4459-9abd-20adc6de08ee",
     "showTitle": false,
     "tableResultSettingsMap": {},
     "title": ""
    }
   },
   "outputs": [],
   "source": [
    "max_proc_date = spark.sql(\n",
    "    f\"select max(proc_date) from {catalog_name}.{metadata_schema}.ETL_DELTA_TABLE\"\n",
    ").head()[0]\n",
    "curr_rec_etl_del_df = spark.sql(\n",
    "    f\"select * from {catalog_name}.{metadata_schema}.ETL_DELTA_TABLE where proc_date = '{max_proc_date}'\"\n",
    ")\n",
    "curr_rec_etl_del_df.display()"
   ]
  }
 ],
 "metadata": {
  "application/vnd.databricks.v1+notebook": {
   "computePreferences": null,
   "dashboards": [],
   "environmentMetadata": {
    "base_environment": "",
    "environment_version": "2"
   },
   "inputWidgetPreferences": null,
   "language": "python",
   "notebookMetadata": {
    "mostRecentlyExecutedCommandWithImplicitDF": {
     "commandId": 7469597179163045,
     "dataframes": [
      "_sqldf"
     ]
    },
    "pythonIndentUnit": 4
   },
   "notebookName": "common_etl_update",
   "widgets": {}
  },
  "language_info": {
   "name": "python"
  }
 },
 "nbformat": 4,
 "nbformat_minor": 0
}
