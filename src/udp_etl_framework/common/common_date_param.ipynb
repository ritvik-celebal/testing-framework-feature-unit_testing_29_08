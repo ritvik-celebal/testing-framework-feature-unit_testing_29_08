{
 "cells": [
  {
   "cell_type": "code",
   "execution_count": 0,
   "metadata": {
    "application/vnd.databricks.v1+cell": {
     "cellMetadata": {},
     "inputWidgets": {},
     "nuid": "a6cfed7e-3492-45cb-bd38-59a75c8b0e60",
     "showTitle": false,
     "tableResultSettingsMap": {},
     "title": ""
    }
   },
   "outputs": [],
   "source": [
    "\"\"\"\n",
    "The `common_date_param` task provides the `proc_time` (a timestamp value) dynamically \n",
    "to the silver and gold layer notebooks, especially for backfill data loads.\n",
    "\n",
    "- In the silver layer, `proc_time` is used in timestamp format to load data as per requirements.\n",
    "- In the gold layer, the format is `YYYY-MM-DD`, as it is more suitable for filtering based \n",
    "  on database parameters, according to the current client architecture.\n",
    "\n",
    "This task (`common_date_param`) is executed before the silver and gold layer tasks. \n",
    "It passes the `proc_time` value as a job parameter to both layers, ensuring consistent \n",
    "usage of the same time value across silver and gold processing.\n",
    "\"\"\"\n"
   ]
  },
  {
   "cell_type": "code",
   "execution_count": 0,
   "metadata": {
    "application/vnd.databricks.v1+cell": {
     "cellMetadata": {},
     "inputWidgets": {},
     "nuid": "faf81919-2672-449a-938e-1096cc4aa01c",
     "showTitle": false,
     "tableResultSettingsMap": {},
     "title": ""
    }
   },
   "outputs": [],
   "source": [
    "from datetime import datetime"
   ]
  },
  {
   "cell_type": "code",
   "execution_count": 0,
   "metadata": {
    "application/vnd.databricks.v1+cell": {
     "cellMetadata": {
      "byteLimit": 2048000,
      "rowLimit": 10000
     },
     "inputWidgets": {},
     "nuid": "c8e2277c-a6ea-4cde-ab45-5acbbeae2766",
     "showTitle": false,
     "tableResultSettingsMap": {},
     "title": ""
    }
   },
   "outputs": [],
   "source": [
    "dbutils.widgets.text(\"layer\", \"\")\n",
    "dbutils.widgets.text(\"proc_date\", \"\")"
   ]
  },
  {
   "cell_type": "code",
   "execution_count": 0,
   "metadata": {
    "application/vnd.databricks.v1+cell": {
     "cellMetadata": {
      "byteLimit": 2048000,
      "rowLimit": 10000
     },
     "inputWidgets": {},
     "nuid": "3201434b-250b-45eb-a0a7-dee1d83718ca",
     "showTitle": false,
     "tableResultSettingsMap": {},
     "title": ""
    }
   },
   "outputs": [],
   "source": [
    "next_layer = dbutils.widgets.get(\"layer\")\n",
    "proc_time = dbutils.widgets.get(\"proc_date\")\n",
    "print(next_layer, proc_time)"
   ]
  },
  {
   "cell_type": "code",
   "execution_count": 0,
   "metadata": {
    "application/vnd.databricks.v1+cell": {
     "cellMetadata": {
      "byteLimit": 2048000,
      "rowLimit": 10000
     },
     "inputWidgets": {},
     "nuid": "faa99524-62a5-4736-8a33-23bf23e85729",
     "showTitle": false,
     "tableResultSettingsMap": {},
     "title": ""
    }
   },
   "outputs": [],
   "source": [
    "if len(proc_time)>10:\n",
    "    proc_time = proc_time\n",
    "else:\n",
    "    proc_time = datetime.strptime(proc_time, '%Y-%m-%d').strftime('%Y-%m-%dT%H:%M:%S.%f')[:-3]"
   ]
  },
  {
   "cell_type": "code",
   "execution_count": 0,
   "metadata": {
    "application/vnd.databricks.v1+cell": {
     "cellMetadata": {
      "byteLimit": 2048000,
      "rowLimit": 10000
     },
     "inputWidgets": {},
     "nuid": "a1776b1b-3056-46fd-80b5-432e39137f6b",
     "showTitle": false,
     "tableResultSettingsMap": {},
     "title": ""
    }
   },
   "outputs": [],
   "source": [
    "proc_date = None\n",
    "\n",
    "if next_layer == \"silver\":\n",
    "    proc_date = proc_time \n",
    "elif next_layer == \"gold\":\n",
    "    proc_date_ts = datetime.strptime(proc_time, '%Y-%m-%dT%H:%M:%S.%f')\n",
    "    proc_date = proc_date_ts.date()\n",
    "    proc_date = proc_date.strftime('%Y-%m-%d')\n",
    "    proc_date"
   ]
  }
 ],
 "metadata": {
  "application/vnd.databricks.v1+notebook": {
   "computePreferences": null,
   "dashboards": [],
   "environmentMetadata": {
    "base_environment": "",
    "environment_version": "2"
   },
   "inputWidgetPreferences": null,
   "language": "python",
   "notebookMetadata": {
    "pythonIndentUnit": 4
   },
   "notebookName": "common_date_param",
   "widgets": {
    "layer": {
     "currentValue": "silver",
     "nuid": "d24f179b-cdd9-4d7f-a71c-d7a3142804d1",
     "typedWidgetInfo": {
      "autoCreated": false,
      "defaultValue": "",
      "label": null,
      "name": "layer",
      "options": {
       "widgetDisplayType": "Text",
       "validationRegex": null
      },
      "parameterDataType": "String"
     },
     "widgetInfo": {
      "widgetType": "text",
      "defaultValue": "",
      "label": null,
      "name": "layer",
      "options": {
       "widgetType": "text",
       "autoCreated": null,
       "validationRegex": null
      }
     }
    },
    "proc_date": {
     "currentValue": "2025-06-11T15:11:38.345",
     "nuid": "1d9c7e6f-ffe0-4721-89cd-f0f6295c78ed",
     "typedWidgetInfo": {
      "autoCreated": false,
      "defaultValue": "",
      "label": null,
      "name": "proc_date",
      "options": {
       "widgetDisplayType": "Text",
       "validationRegex": null
      },
      "parameterDataType": "String"
     },
     "widgetInfo": {
      "widgetType": "text",
      "defaultValue": "",
      "label": null,
      "name": "proc_date",
      "options": {
       "widgetType": "text",
       "autoCreated": null,
       "validationRegex": null
      }
     }
    }
   }
  },
  "language_info": {
   "name": "python"
  }
 },
 "nbformat": 4,
 "nbformat_minor": 0
}
