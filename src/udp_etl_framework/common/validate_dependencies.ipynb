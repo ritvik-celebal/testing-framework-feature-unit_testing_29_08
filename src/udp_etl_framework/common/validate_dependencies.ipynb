{
 "cells": [
  {
   "cell_type": "code",
   "execution_count": 0,
   "metadata": {
    "application/vnd.databricks.v1+cell": {
     "cellMetadata": {
      "byteLimit": 2048000,
      "rowLimit": 10000
     },
     "inputWidgets": {},
     "nuid": "3a84f074-be71-4b3c-8f1e-4f79d8b0b9e2",
     "showTitle": false,
     "tableResultSettingsMap": {},
     "title": ""
    }
   },
   "outputs": [],
   "source": [
    "%run ../utils/common"
   ]
  },
  {
   "cell_type": "code",
   "execution_count": 0,
   "metadata": {
    "application/vnd.databricks.v1+cell": {
     "cellMetadata": {
      "byteLimit": 2048000,
      "rowLimit": 10000
     },
     "inputWidgets": {},
     "nuid": "021f50d3-280a-43f7-935a-394a89a1646b",
     "showTitle": false,
     "tableResultSettingsMap": {},
     "title": ""
    }
   },
   "outputs": [],
   "source": [
    "# Create input widgets\n",
    "dbutils.widgets.text(\"job_name\", \"\", \"\")\n",
    "dbutils.widgets.text(\"env\", \"\", \"\")\n",
    "dbutils.widgets.text(\"proc_date\", \"\", \"\")"
   ]
  },
  {
   "cell_type": "code",
   "execution_count": 0,
   "metadata": {
    "application/vnd.databricks.v1+cell": {
     "cellMetadata": {
      "byteLimit": 2048000,
      "rowLimit": 10000
     },
     "inputWidgets": {},
     "nuid": "faf47a93-e078-4980-aaba-f4bd50707ff0",
     "showTitle": false,
     "tableResultSettingsMap": {},
     "title": ""
    }
   },
   "outputs": [],
   "source": [
    "job_name = dbutils.widgets.get(\"job_name\")\n",
    "env = dbutils.widgets.get(\"env\")\n",
    "proc_date = dbutils.widgets.get(\"proc_date\")  # Expect format: 'yyyy-MM-dd'\n",
    "\n",
    "print(job_name)\n",
    "print(env)\n",
    "print(proc_date)"
   ]
  },
  {
   "cell_type": "code",
   "execution_count": 0,
   "metadata": {
    "application/vnd.databricks.v1+cell": {
     "cellMetadata": {
      "byteLimit": 2048000,
      "implicitDf": true,
      "rowLimit": 10000
     },
     "inputWidgets": {},
     "nuid": "909fd095-3e1b-47cc-83c2-b926eb4fdce6",
     "showTitle": false,
     "tableResultSettingsMap": {},
     "title": ""
    }
   },
   "outputs": [],
   "source": [
    "spark.sql(f\"\"\"\n",
    "update udp_wcm_dev.default.ref_dag_dependencies\n",
    "SET dep_cron_pattern = '5 4 * * *'\n",
    "WHERE pipeline = 'dwh_dim_fact_udp_pipeline' \"\"\")"
   ]
  },
  {
   "cell_type": "code",
   "execution_count": 0,
   "metadata": {
    "application/vnd.databricks.v1+cell": {
     "cellMetadata": {
      "byteLimit": 2048000,
      "rowLimit": 10000
     },
     "inputWidgets": {},
     "nuid": "b38e7b2e-5903-456b-832d-06cec8865770",
     "showTitle": false,
     "tableResultSettingsMap": {},
     "title": ""
    }
   },
   "outputs": [],
   "source": [
    "catalog = settings[env][\"catalog_name\"]\n",
    "catalog"
   ]
  },
  {
   "cell_type": "code",
   "execution_count": 0,
   "metadata": {
    "application/vnd.databricks.v1+cell": {
     "cellMetadata": {
      "byteLimit": 2048000,
      "implicitDf": true,
      "rowLimit": 10000
     },
     "inputWidgets": {},
     "nuid": "dd064c21-29df-4fe9-8ef9-eaaa49017625",
     "showTitle": false,
     "tableResultSettingsMap": {},
     "title": ""
    }
   },
   "outputs": [],
   "source": [
    "df = spark.sql(f\"\"\"\n",
    "  SELECT *\n",
    "  FROM (SELECT * FROM {catalog_name}.default.ref_dag_dependencies WHERE pipeline = '{job_name}') AS dep\n",
    "  JOIN {catalog_name}.default.meta_job_runs AS job_runs\n",
    "  ON dep.depends_on = job_runs.job_name \n",
    "\"\"\")\n",
    "\n",
    "display(df)"
   ]
  },
  {
   "cell_type": "code",
   "execution_count": 0,
   "metadata": {
    "application/vnd.databricks.v1+cell": {
     "cellMetadata": {
      "byteLimit": 2048000,
      "rowLimit": 10000
     },
     "inputWidgets": {},
     "nuid": "85d77039-c0a3-40f5-a7d0-d73665122eb0",
     "showTitle": false,
     "tableResultSettingsMap": {},
     "title": ""
    }
   },
   "outputs": [],
   "source": [
    "from datetime import datetime\n",
    "\n",
    "proc_date = {proc_date}\n",
    "\n",
    "# Parse full datetime\n",
    "proc_date = datetime.fromisoformat(proc_date)\n",
    "\n",
    "# Get only the date\n",
    "proc_date = proc_date.date()\n",
    "\n",
    "print(proc_date)  # Output: 2025-05-27\n",
    "\n",
    "# # Parse full datetime\n",
    "# proc_date = datetime.fromisoformat(proc_date)\n",
    "\n",
    "# # Get only the date\n",
    "# date_only = proc_date.date()\n",
    "\n",
    "\n",
    "\n"
   ]
  },
  {
   "cell_type": "code",
   "execution_count": 0,
   "metadata": {
    "application/vnd.databricks.v1+cell": {
     "cellMetadata": {
      "byteLimit": 2048000,
      "rowLimit": 10000
     },
     "inputWidgets": {},
     "nuid": "1f0166d9-dcbc-4422-973a-adb5360e6ca9",
     "showTitle": false,
     "tableResultSettingsMap": {},
     "title": ""
    }
   },
   "outputs": [],
   "source": [
    "proc_ts = datetime.strptime(proc_date, '%Y-%m-%d')\n",
    "proc_dt = proc_ts.date()\n",
    "proc_dt"
   ]
  },
  {
   "cell_type": "code",
   "execution_count": 0,
   "metadata": {
    "application/vnd.databricks.v1+cell": {
     "cellMetadata": {
      "byteLimit": 2048000,
      "rowLimit": 10000
     },
     "inputWidgets": {},
     "nuid": "726bfad9-b828-4b6e-b235-24e70edf5ddd",
     "showTitle": false,
     "tableResultSettingsMap": {},
     "title": ""
    }
   },
   "outputs": [],
   "source": [
    "rows = df.collect()\n",
    "\n",
    "for row in rows:\n",
    "    cron_schedule = classify_cron_job(row.dep_cron_pattern)\n",
    "    print(f\"cron_schedule: {cron_schedule}\")\n",
    "\n",
    "    if cron_schedule == \"Daily\":\n",
    "        expected_run_dt = proc_ts.date() - timedelta(days=1)\n",
    "        actual_run_dt = row.proc_time.date()\n",
    "\n",
    "        if actual_run_dt >= expected_run_dt:\n",
    "            raise ValueError(f\"{row.depends_on} did not run on {expected_run_dt}\")\n",
    "        else:\n",
    "            print(f\"{row.depends_on} passed, last run: {actual_run_dt}\")\n",
    "\n",
    "    elif cron_schedule == \"Hourly\":\n",
    "        cron = croniter(row.dep_cron_pattern, proc_ts)\n",
    "        expected_run_ts = cron.get_prev(datetime)\n",
    "        expected_run_ts = expected_run_ts.replace(second=0, microsecond=0)\n",
    "\n",
    "        actual_run_ts = row.proc_time.replace(second=0, microsecond=0)\n",
    "\n",
    "        if expected_run_ts != actual_run_ts:\n",
    "            raise ValueError(f\"{row.depends_on} did not run on {expected_run_ts}\")\n",
    "        else:\n",
    "            print(f\"{row.depends_on} passed: last run: {actual_run_ts}\")\n",
    "\n",
    "    else:\n",
    "        raise ValueError(\"No implementation for schedule other than Daily, Hourly\")\n",
    "\n",
    "print(f\"All dependencies passed for job: {job_name}\")"
   ]
  }
 ],
 "metadata": {
  "application/vnd.databricks.v1+notebook": {
   "computePreferences": null,
   "dashboards": [],
   "environmentMetadata": {
    "base_environment": "",
    "environment_version": "2"
   },
   "inputWidgetPreferences": null,
   "language": "python",
   "notebookMetadata": {
    "mostRecentlyExecutedCommandWithImplicitDF": {
     "commandId": 6340711113807698,
     "dataframes": [
      "_sqldf"
     ]
    },
    "pythonIndentUnit": 4
   },
   "notebookName": "validate_dependencies",
   "widgets": {
    "env": {
     "currentValue": "DEV",
     "nuid": "279a61d2-02f4-4a10-ac1d-16a55d652a49",
     "typedWidgetInfo": {
      "autoCreated": false,
      "defaultValue": "",
      "label": "",
      "name": "env",
      "options": {
       "widgetDisplayType": "Text",
       "validationRegex": null
      },
      "parameterDataType": "String"
     },
     "widgetInfo": {
      "widgetType": "text",
      "defaultValue": "",
      "label": "",
      "name": "env",
      "options": {
       "widgetType": "text",
       "autoCreated": null,
       "validationRegex": null
      }
     }
    },
    "job_name": {
     "currentValue": "db_finance_pipeline_hourly",
     "nuid": "f9191cf1-49a6-4e92-b4df-e49f7bc51e7b",
     "typedWidgetInfo": {
      "autoCreated": false,
      "defaultValue": "",
      "label": "",
      "name": "job_name",
      "options": {
       "widgetDisplayType": "Text",
       "validationRegex": null
      },
      "parameterDataType": "String"
     },
     "widgetInfo": {
      "widgetType": "text",
      "defaultValue": "",
      "label": "",
      "name": "job_name",
      "options": {
       "widgetType": "text",
       "autoCreated": null,
       "validationRegex": null
      }
     }
    },
    "proc_date": {
     "currentValue": "2025-05-25",
     "nuid": "e9afe8fb-c7f0-4c3a-b431-7e8a34bef622",
     "typedWidgetInfo": {
      "autoCreated": false,
      "defaultValue": "",
      "label": "",
      "name": "proc_date",
      "options": {
       "widgetDisplayType": "Text",
       "validationRegex": null
      },
      "parameterDataType": "String"
     },
     "widgetInfo": {
      "widgetType": "text",
      "defaultValue": "",
      "label": "",
      "name": "proc_date",
      "options": {
       "widgetType": "text",
       "autoCreated": null,
       "validationRegex": null
      }
     }
    }
   }
  },
  "language_info": {
   "name": "python"
  }
 },
 "nbformat": 4,
 "nbformat_minor": 0
}
