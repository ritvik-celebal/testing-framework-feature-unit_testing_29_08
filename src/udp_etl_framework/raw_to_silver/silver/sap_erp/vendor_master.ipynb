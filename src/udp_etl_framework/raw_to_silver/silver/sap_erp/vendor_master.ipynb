{
 "cells": [
  {
   "cell_type": "code",
   "execution_count": 0,
   "metadata": {
    "application/vnd.databricks.v1+cell": {
     "cellMetadata": {
      "byteLimit": 2048000,
      "rowLimit": 10000
     },
     "inputWidgets": {},
     "nuid": "126487e0-5678-4ffa-8bd9-760dc6a70e80",
     "showTitle": false,
     "tableResultSettingsMap": {},
     "title": ""
    }
   },
   "outputs": [],
   "source": [
    "dbutils.widgets.text(\"proc_date\", \"\")\n",
    "proc_date = dbutils.widgets.get(\"proc_date\")"
   ]
  },
  {
   "cell_type": "code",
   "execution_count": 0,
   "metadata": {
    "application/vnd.databricks.v1+cell": {
     "cellMetadata": {
      "byteLimit": 2048000,
      "rowLimit": 10000
     },
     "inputWidgets": {},
     "nuid": "07987497-1732-465f-b79f-918bbd4f647f",
     "showTitle": false,
     "tableResultSettingsMap": {},
     "title": ""
    }
   },
   "outputs": [],
   "source": [
    "%run ../../../utils/common"
   ]
  },
  {
   "cell_type": "code",
   "execution_count": 0,
   "metadata": {
    "application/vnd.databricks.v1+cell": {
     "cellMetadata": {
      "byteLimit": 2048000,
      "rowLimit": 10000
     },
     "inputWidgets": {},
     "nuid": "e274a978-5c3d-4cec-85a6-00a6c0578679",
     "showTitle": false,
     "tableResultSettingsMap": {},
     "title": ""
    }
   },
   "outputs": [],
   "source": [
    "dbutils.widgets.text(\"proc_date\", \"\")\n",
    "proc_date = dbutils.widgets.get(\"proc_date\")"
   ]
  },
  {
   "cell_type": "code",
   "execution_count": 0,
   "metadata": {
    "application/vnd.databricks.v1+cell": {
     "cellMetadata": {
      "byteLimit": 2048000,
      "rowLimit": 10000
     },
     "inputWidgets": {},
     "nuid": "8cea0f2c-ca17-4eed-959d-83d7bcb1923b",
     "showTitle": false,
     "tableResultSettingsMap": {},
     "title": ""
    }
   },
   "outputs": [],
   "source": [
    "dbutils.widgets.text(\"environment\", \"\", \"\")\n",
    "environment = dbutils.widgets.get(\"environment\")"
   ]
  },
  {
   "cell_type": "code",
   "execution_count": 0,
   "metadata": {
    "application/vnd.databricks.v1+cell": {
     "cellMetadata": {
      "byteLimit": 2048000,
      "rowLimit": 10000
     },
     "inputWidgets": {},
     "nuid": "f4a1eb15-eef3-4dfc-a90a-9f548f47320a",
     "showTitle": false,
     "tableResultSettingsMap": {},
     "title": ""
    }
   },
   "outputs": [],
   "source": [
    "catalog_name = settings[environment]['catalog_name']"
   ]
  },
  {
   "cell_type": "code",
   "execution_count": 0,
   "metadata": {
    "application/vnd.databricks.v1+cell": {
     "cellMetadata": {
      "byteLimit": 2048000,
      "rowLimit": 10000
     },
     "inputWidgets": {},
     "nuid": "b4b1dd98-a2b7-4d25-b5e9-f00fb0b86c41",
     "showTitle": false,
     "tableResultSettingsMap": {},
     "title": ""
    }
   },
   "outputs": [],
   "source": [
    "create_temp_view_with_clean_columns(\n",
    "    spark,\n",
    "    catalog_name,\n",
    "    'udp_wcm_bronze_sap_erp',\n",
    "    'vendor_master',\n",
    "    proc_date,\n",
    "    'temp_vendor_master'\n",
    ")"
   ]
  },
  {
   "cell_type": "code",
   "execution_count": 0,
   "metadata": {
    "application/vnd.databricks.v1+cell": {
     "cellMetadata": {
      "byteLimit": 2048000,
      "rowLimit": 10000
     },
     "inputWidgets": {},
     "nuid": "dd082101-8ba7-489d-bc44-0b155edb4445",
     "showTitle": false,
     "tableResultSettingsMap": {},
     "title": ""
    }
   },
   "outputs": [],
   "source": [
    "spark.sql(f\"\"\"\n",
    "CREATE TABLE IF NOT EXISTS {catalog_name}.udp_wcm_silver_sap_erp.vendor_master\n",
    "(\n",
    "  merchant_code STRING,\n",
    "  merchant_name STRING,\n",
    "  company_name STRING,\n",
    "  merchant_description STRING,\n",
    "  fax STRING,\n",
    "  email STRING,\n",
    "  website STRING,\n",
    "  bank_owner STRING,\n",
    "  bank_name STRING,\n",
    "  bank_number STRING,\n",
    "  bank_branch STRING,\n",
    "  tax_code STRING,\n",
    "  merchant_status STRING,\n",
    "  merchant_type STRING,\n",
    "  parent_merchant_id STRING,\n",
    "  warehouse_id STRING,\n",
    "  warehouse_name STRING,\n",
    "  warehouse_status STRING,\n",
    "  warehouse_description STRING,\n",
    "  warehouse_province_id STRING,\n",
    "  warehouse_district_id STRING,\n",
    "  warehouse_village_id STRING,\n",
    "  warehouse_road_id STRING,\n",
    "  warehouse_address_detail STRING,\n",
    "  warehouse_phone_number STRING,\n",
    "  warehouse_code STRING,\n",
    "  warehouse_type STRING,\n",
    "  warehouse_email STRING,\n",
    "  merchant_address_type STRING,\n",
    "  merchant_address_provin_id STRING,\n",
    "  merchant_address_district_id STRING,\n",
    "  merchant_address_village_id STRING,\n",
    "  merchant_address_road_id STRING,\n",
    "  merchant_address_detail STRING,\n",
    "  block_company_code STRING,\n",
    "  block_purchasing_org STRING,\n",
    "  mov DOUBLE,\n",
    "  proc_date TIMESTAMP,\n",
    "  file_creation_ts TIMESTAMP\n",
    ")\n",
    "TBLPROPERTIES (\n",
    "  'DELTA.AUTOOPTIMIZE.OPTIMIZEWRITE' = 'TRUE',\n",
    "  'DELTA.AUTOOPTIMIZE.AUTOCOMPACT' = 'TRUE'\n",
    ")\n",
    "\"\"\")"
   ]
  },
  {
   "cell_type": "code",
   "execution_count": 0,
   "metadata": {
    "application/vnd.databricks.v1+cell": {
     "cellMetadata": {
      "byteLimit": 2048000,
      "rowLimit": 10000
     },
     "inputWidgets": {},
     "nuid": "275e432b-7c41-46ed-aff1-6a437e4cd97d",
     "showTitle": false,
     "tableResultSettingsMap": {},
     "title": ""
    }
   },
   "outputs": [],
   "source": [
    "spark.sql(f\"\"\"\n",
    "    DELETE FROM {catalog_name}.udp_wcm_silver_sap_erp.vendor_master\n",
    "    WHERE PROC_DATE = DATE('{proc_date}')\n",
    "\"\"\")"
   ]
  },
  {
   "cell_type": "code",
   "execution_count": 0,
   "metadata": {
    "application/vnd.databricks.v1+cell": {
     "cellMetadata": {
      "byteLimit": 2048000,
      "implicitDf": true,
      "rowLimit": 10000
     },
     "inputWidgets": {},
     "nuid": "b150fd4a-2f42-43a1-8db2-b53b53704472",
     "showTitle": false,
     "tableResultSettingsMap": {},
     "title": ""
    }
   },
   "outputs": [],
   "source": [
    "spark.sql(f\"\"\"\n",
    "INSERT INTO {catalog_name}.udp_wcm_silver_sap_erp.vendor_master\n",
    "SELECT \n",
    "    CAST(CASE WHEN merchantcode IS NULL OR TRIM(merchantcode) = '' THEN NULL ELSE merchantcode END AS STRING) AS merchant_code,\n",
    "    CAST(CASE WHEN merchantname IS NULL OR TRIM(merchantname) = '' THEN NULL ELSE merchantname END AS STRING) AS merchant_name,\n",
    "    CAST(CASE WHEN companyname IS NULL OR TRIM(companyname) = '' THEN NULL ELSE companyname END AS STRING) AS company_name,\n",
    "    CAST(CASE WHEN merchantdescription IS NULL OR TRIM(merchantdescription) = '' THEN NULL ELSE merchantdescription END AS STRING) AS merchant_description,\n",
    "    CAST(CASE WHEN fax IS NULL OR TRIM(fax) = '' THEN NULL ELSE fax END AS STRING) AS fax,\n",
    "    CAST(CASE WHEN email IS NULL OR TRIM(email) = '' THEN NULL ELSE email END AS STRING) AS email,\n",
    "    CAST(CASE WHEN website IS NULL OR TRIM(website) = '' THEN NULL ELSE website END AS STRING) AS website,\n",
    "    CAST(CASE WHEN bankowner IS NULL OR TRIM(bankowner) = '' THEN NULL ELSE bankowner END AS STRING) AS bank_owner,\n",
    "    CAST(CASE WHEN bankname IS NULL OR TRIM(bankname) = '' THEN NULL ELSE bankname END AS STRING) AS bank_name,\n",
    "    CAST(CASE WHEN banknumber IS NULL OR TRIM(banknumber) = '' THEN NULL ELSE banknumber END AS STRING) AS bank_number,\n",
    "    CAST(CASE WHEN bankbranch IS NULL OR TRIM(bankbranch) = '' THEN NULL ELSE bankbranch END AS STRING) AS bank_branch,\n",
    "    CAST(CASE WHEN taxcode IS NULL OR TRIM(taxcode) = '' THEN NULL ELSE taxcode END AS STRING) AS tax_code,\n",
    "    CAST(CASE WHEN merchantstatus IS NULL OR TRIM(merchantstatus) = '' THEN NULL ELSE merchantstatus END AS STRING) AS merchant_status,\n",
    "    CAST(CASE WHEN merchanttype IS NULL OR TRIM(merchanttype) = '' THEN NULL ELSE merchanttype END AS STRING) AS merchant_type,\n",
    "    CAST(CASE WHEN parentmerchantid IS NULL OR TRIM(parentmerchantid) = '' THEN NULL ELSE parentmerchantid END AS STRING) AS parent_merchant_id,\n",
    "    CAST(CASE WHEN warehouseid IS NULL OR TRIM(warehouseid) = '' THEN NULL ELSE warehouseid END AS STRING) AS warehouse_id,\n",
    "    CAST(CASE WHEN warehousename IS NULL OR TRIM(warehousename) = '' THEN NULL ELSE warehousename END AS STRING) AS warehouse_name,\n",
    "    CAST(CASE WHEN warehousestatus IS NULL OR TRIM(warehousestatus) = '' THEN NULL ELSE warehousestatus END AS STRING) AS warehouse_status,\n",
    "    CAST(CASE WHEN warehousedescription IS NULL OR TRIM(warehousedescription) = '' THEN NULL ELSE warehousedescription END AS STRING) AS warehouse_description,\n",
    "    CAST(CASE WHEN warehouseprovinceid IS NULL OR TRIM(warehouseprovinceid) = '' THEN NULL ELSE warehouseprovinceid END AS STRING) AS warehouse_province_id,\n",
    "    CAST(CASE WHEN warehousedistrictid IS NULL OR TRIM(warehousedistrictid) = '' THEN NULL ELSE warehousedistrictid END AS STRING) AS warehouse_district_id,\n",
    "    CAST(CASE WHEN warehousevillageid IS NULL OR TRIM(warehousevillageid) = '' THEN NULL ELSE warehousevillageid END AS STRING) AS warehouse_village_id,\n",
    "    CAST(CASE WHEN warehouseroadid IS NULL OR TRIM(warehouseroadid) = '' THEN NULL ELSE warehouseroadid END AS STRING) AS warehouse_road_id,\n",
    "    CAST(CASE WHEN warehouseaddressdetail IS NULL OR TRIM(warehouseaddressdetail) = '' THEN NULL ELSE warehouseaddressdetail END AS STRING) AS warehouse_address_detail,\n",
    "    CAST(CASE WHEN warehousephonenumber IS NULL OR TRIM(warehousephonenumber) = '' THEN NULL ELSE warehousephonenumber END AS STRING) AS warehouse_phone_number,\n",
    "    CAST(CASE WHEN warehousecode IS NULL OR TRIM(warehousecode) = '' THEN NULL ELSE warehousecode END AS STRING) AS warehouse_code,\n",
    "    CAST(CASE WHEN warehousetype IS NULL OR TRIM(warehousetype) = '' THEN NULL ELSE warehousetype END AS STRING) AS warehouse_type,\n",
    "    CAST(CASE WHEN warehouseemail IS NULL OR TRIM(warehouseemail) = '' THEN NULL ELSE warehouseemail END AS STRING) AS warehouse_email,\n",
    "    CAST(CASE WHEN merchantaddresstype IS NULL OR TRIM(merchantaddresstype) = '' THEN NULL ELSE merchantaddresstype END AS STRING) AS merchant_address_type,\n",
    "    CAST(CASE WHEN merchantaddressprovinid IS NULL OR TRIM(merchantaddressprovinid) = '' THEN NULL ELSE merchantaddressprovinid END AS STRING) AS merchant_address_provin_id,\n",
    "    CAST(CASE WHEN merchantaddressdistrictid IS NULL OR TRIM(merchantaddressdistrictid) = '' THEN NULL ELSE merchantaddressdistrictid END AS STRING) AS merchant_address_district_id,\n",
    "    CAST(CASE WHEN merchantaddressvillageid IS NULL OR TRIM(merchantaddressvillageid) = '' THEN NULL ELSE merchantaddressvillageid END AS STRING) AS merchant_address_village_id,\n",
    "    CAST(CASE WHEN merchantaddressroadid IS NULL OR TRIM(merchantaddressroadid) = '' THEN NULL ELSE merchantaddressroadid END AS STRING) AS merchant_address_road_id,\n",
    "    CAST(CASE WHEN merchantaddressdetail IS NULL OR TRIM(merchantaddressdetail) = '' THEN NULL ELSE merchantaddressdetail END AS STRING) AS merchant_address_detail,\n",
    "    CAST(CASE WHEN blockcompanycode IS NULL OR TRIM(blockcompanycode) = '' THEN NULL ELSE blockcompanycode END AS STRING) AS block_company_code,\n",
    "    CAST(CASE WHEN blockpurchasingorg IS NULL OR TRIM(blockpurchasingorg) = '' THEN NULL ELSE blockpurchasingorg END AS STRING) AS block_purchasing_org,\n",
    "    CASE WHEN mov IS NULL OR TRIM(CAST(mov AS STRING)) = '' THEN NULL ELSE CAST(mov AS DOUBLE) END AS mov,\n",
    "    CAST(to_timestamp(proc_date, 'yyyy-MM-dd') AS TIMESTAMP) AS proc_date,\n",
    "    CAST(file_creation_ts AS TIMESTAMP) AS file_creation_ts\n",
    "FROM (\n",
    "    SELECT \n",
    "        vendor.*, \n",
    "        vendor.warehouses.warehouse.*, \n",
    "        vendor.merchantaddresses.merchantaddress.*,\n",
    "        file_creation_ts,\n",
    "        proc_date\n",
    "    FROM temp_vendor_master\n",
    ");\"\"\")"
   ]
  }
 ],
 "metadata": {
  "application/vnd.databricks.v1+notebook": {
   "computePreferences": null,
   "dashboards": [],
   "environmentMetadata": {
    "base_environment": "",
    "environment_version": "2"
   },
   "inputWidgetPreferences": null,
   "language": "python",
   "notebookMetadata": {
    "mostRecentlyExecutedCommandWithImplicitDF": {
     "commandId": 6350561386721373,
     "dataframes": [
      "_sqldf"
     ]
    },
    "pythonIndentUnit": 4
   },
   "notebookName": "vendor_master",
   "widgets": {
    "environment": {
     "currentValue": "DEV",
     "nuid": "1082a043-d375-464f-83b3-de9f6d8273f5",
     "typedWidgetInfo": {
      "autoCreated": false,
      "defaultValue": "",
      "label": "",
      "name": "environment",
      "options": {
       "widgetDisplayType": "Text",
       "validationRegex": null
      },
      "parameterDataType": "String"
     },
     "widgetInfo": {
      "widgetType": "text",
      "defaultValue": "",
      "label": "",
      "name": "environment",
      "options": {
       "widgetType": "text",
       "autoCreated": null,
       "validationRegex": null
      }
     }
    },
    "proc_date": {
     "currentValue": "2025-07-17",
     "nuid": "8b8660c4-3ebd-4e4c-9c1a-e4af6792a41a",
     "typedWidgetInfo": {
      "autoCreated": false,
      "defaultValue": "",
      "label": null,
      "name": "proc_date",
      "options": {
       "widgetDisplayType": "Text",
       "validationRegex": null
      },
      "parameterDataType": "String"
     },
     "widgetInfo": {
      "widgetType": "text",
      "defaultValue": "",
      "label": null,
      "name": "proc_date",
      "options": {
       "widgetType": "text",
       "autoCreated": null,
       "validationRegex": null
      }
     }
    }
   }
  },
  "language_info": {
   "name": "python"
  }
 },
 "nbformat": 4,
 "nbformat_minor": 0
}
