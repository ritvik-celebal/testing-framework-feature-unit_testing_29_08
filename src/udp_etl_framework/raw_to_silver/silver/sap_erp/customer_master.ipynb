{
 "cells": [
  {
   "cell_type": "code",
   "execution_count": 0,
   "metadata": {
    "application/vnd.databricks.v1+cell": {
     "cellMetadata": {
      "byteLimit": 2048000,
      "rowLimit": 10000
     },
     "inputWidgets": {},
     "nuid": "0f40eb69-f90e-4bcb-a566-7287c5417c33",
     "showTitle": false,
     "tableResultSettingsMap": {},
     "title": ""
    }
   },
   "outputs": [],
   "source": [
    "dbutils.widgets.text(\"layer\",\"\")\n",
    "layer = dbutils.widgets.get(\"layer\")"
   ]
  },
  {
   "cell_type": "code",
   "execution_count": 0,
   "metadata": {
    "application/vnd.databricks.v1+cell": {
     "cellMetadata": {
      "byteLimit": 2048000,
      "rowLimit": 10000
     },
     "inputWidgets": {},
     "nuid": "807f5cea-f3e4-437c-a0dd-4627a0c7057f",
     "showTitle": false,
     "tableResultSettingsMap": {},
     "title": ""
    }
   },
   "outputs": [],
   "source": [
    "%run ../../../utils/common"
   ]
  },
  {
   "cell_type": "code",
   "execution_count": 0,
   "metadata": {
    "application/vnd.databricks.v1+cell": {
     "cellMetadata": {
      "byteLimit": 2048000,
      "rowLimit": 10000
     },
     "inputWidgets": {},
     "nuid": "ae9fa641-9ced-4cf6-96c2-736a6ce12e95",
     "showTitle": false,
     "tableResultSettingsMap": {},
     "title": ""
    }
   },
   "outputs": [],
   "source": [
    "dbutils.widgets.text(\"environment\", \"\", \"\")\n",
    "environment = dbutils.widgets.get(\"environment\")"
   ]
  },
  {
   "cell_type": "code",
   "execution_count": 0,
   "metadata": {
    "application/vnd.databricks.v1+cell": {
     "cellMetadata": {
      "byteLimit": 2048000,
      "rowLimit": 10000
     },
     "inputWidgets": {},
     "nuid": "2dc8d6ee-1a5e-4810-9293-06c42d04eee2",
     "showTitle": false,
     "tableResultSettingsMap": {},
     "title": ""
    }
   },
   "outputs": [],
   "source": [
    "catalog_name = settings[environment]['catalog_name']"
   ]
  },
  {
   "cell_type": "code",
   "execution_count": 0,
   "metadata": {
    "application/vnd.databricks.v1+cell": {
     "cellMetadata": {
      "byteLimit": 2048000,
      "rowLimit": 10000
     },
     "inputWidgets": {},
     "nuid": "ccc3081e-6e08-45ed-b453-c55b6671d500",
     "showTitle": false,
     "tableResultSettingsMap": {},
     "title": ""
    }
   },
   "outputs": [],
   "source": [
    "proc_date_str = str(proc_date)[:10]"
   ]
  },
  {
   "cell_type": "code",
   "execution_count": 0,
   "metadata": {
    "application/vnd.databricks.v1+cell": {
     "cellMetadata": {
      "byteLimit": 2048000,
      "implicitDf": true,
      "rowLimit": 10000
     },
     "inputWidgets": {},
     "nuid": "09990cb7-bf8b-4da6-8efe-714a6816f2c8",
     "showTitle": false,
     "tableResultSettingsMap": {},
     "title": ""
    }
   },
   "outputs": [],
   "source": [
    "spark.sql(f\"\"\"\n",
    "CREATE TABLE IF NOT EXISTS {catalog_name}.udp_wcm_silver_sap_erp.customers_master\n",
    "(\n",
    "  id STRING,\n",
    "  name STRING,\n",
    "  type STRING,\n",
    "  phone_no STRING,\n",
    "  mobile STRING,\n",
    "  province_id STRING,\n",
    "  district_id STRING,\n",
    "  ward_id STRING,\n",
    "  street_id STRING,\n",
    "  house_no STRING,\n",
    "  address STRING,\n",
    "  contact_name STRING,\n",
    "  region STRING,\n",
    "  channel STRING,\n",
    "  sales_district STRING,\n",
    "  search_term1 STRING,\n",
    "  search_term2 STRING,\n",
    "  sales_organization STRING,\n",
    "  distribution_channel STRING,\n",
    "  division STRING,\n",
    "  price_list STRING,\n",
    "  price_group STRING,\n",
    "  customer_group STRING,\n",
    "  partner_function STRING,\n",
    "  customer_partner STRING,\n",
    "  address_number STRING,\n",
    "  proc_date TIMESTAMP,\n",
    "  filename STRING,\n",
    "  hash_id BIGINT,\n",
    "  file_creation_ts TIMESTAMP\n",
    ")\n",
    "TBLPROPERTIES (\n",
    "  'DELTA.AUTOOPTIMIZE.OPTIMIZEWRITE' = 'TRUE',\n",
    "  'DELTA.AUTOOPTIMIZE.AUTOCOMPACT' = 'TRUE'\n",
    ")\n",
    "\"\"\"\n",
    ")"
   ]
  },
  {
   "cell_type": "code",
   "execution_count": 0,
   "metadata": {
    "application/vnd.databricks.v1+cell": {
     "cellMetadata": {
      "byteLimit": 2048000,
      "rowLimit": 10000
     },
     "inputWidgets": {},
     "nuid": "dba3529e-795b-4332-8189-2529d92ba2d1",
     "showTitle": false,
     "tableResultSettingsMap": {},
     "title": ""
    }
   },
   "outputs": [],
   "source": [
    "create_temp_view_with_clean_columns(\n",
    "    spark,\n",
    "    catalog_name,\n",
    "    'udp_wcm_bronze_sap_erp',\n",
    "    'sap_customers_master',\n",
    "    proc_date,\n",
    "    'temp_sap_customers_master'\n",
    ")"
   ]
  },
  {
   "cell_type": "code",
   "execution_count": 0,
   "metadata": {
    "application/vnd.databricks.v1+cell": {
     "cellMetadata": {
      "byteLimit": 2048000,
      "rowLimit": 10000
     },
     "inputWidgets": {},
     "nuid": "e7851949-6f0b-4845-8ecd-fe1791a1ea5f",
     "showTitle": false,
     "tableResultSettingsMap": {},
     "title": ""
    }
   },
   "outputs": [],
   "source": [
    "spark.sql(f\"\"\"\n",
    "CREATE OR REPLACE TEMP VIEW temp_customer_master AS\n",
    "        SELECT *,\n",
    "        farm_fingerprint(CONCAT(\n",
    "            COALESCE(CAST(id AS STRING), ''),\n",
    "            COALESCE(CAST(name AS STRING), ''),\n",
    "            COALESCE(CAST(type AS STRING), ''),\n",
    "            COALESCE(CAST(phone_no AS STRING), ''),\n",
    "            COALESCE(CAST(mobile AS STRING), ''),\n",
    "            COALESCE(CAST(province_id AS STRING), ''),\n",
    "            COALESCE(CAST(district_id AS STRING), ''),\n",
    "            COALESCE(CAST(ward_id AS STRING), ''),\n",
    "            COALESCE(CAST(street_id AS STRING), ''),\n",
    "            COALESCE(CAST(house_no AS STRING), ''),\n",
    "            COALESCE(CAST(address AS STRING), ''),\n",
    "            COALESCE(CAST(contact_name AS STRING), ''),\n",
    "            COALESCE(CAST(region AS STRING), ''),\n",
    "            COALESCE(CAST(channel AS STRING), ''),\n",
    "            COALESCE(CAST(sales_district AS STRING), ''),\n",
    "            COALESCE(CAST(search_term1 AS STRING), ''),\n",
    "            COALESCE(CAST(search_term2 AS STRING), ''),\n",
    "            COALESCE(CAST(sales_organization AS STRING), ''),\n",
    "            COALESCE(CAST(distribution_channel AS STRING), ''),\n",
    "            COALESCE(CAST(division AS STRING), ''),\n",
    "            COALESCE(CAST(price_list AS STRING), ''),\n",
    "            COALESCE(CAST(price_group AS STRING), ''),\n",
    "            COALESCE(CAST(customer_group AS STRING), ''),\n",
    "            COALESCE(CAST(partner_function AS STRING), ''),\n",
    "            COALESCE(CAST(customer_partner AS STRING), ''),\n",
    "            COALESCE(CAST(address_number AS STRING), '')\n",
    "    )) AS hash_id \n",
    "    FROM (\n",
    "            SELECT \n",
    "                id,\n",
    "                CAST(name AS STRING) AS name,\n",
    "                CAST(type AS STRING) AS type,\n",
    "                CAST(phoneno AS STRING) AS phone_no,\n",
    "                CAST(mobile AS STRING) AS mobile,\n",
    "                CAST(provinceid AS STRING) AS province_id,\n",
    "                CAST(districtid AS STRING) AS district_id,\n",
    "                CAST(wardid AS STRING) AS ward_id,\n",
    "                CAST(streetid AS STRING) AS street_id,\n",
    "                CAST(housen0 AS STRING) AS house_no,\n",
    "                CAST(address AS STRING) AS address,\n",
    "                CAST(contactname AS STRING) AS contact_name,\n",
    "                CAST(region AS STRING) AS region,\n",
    "                CAST(channel AS STRING) AS channel,\n",
    "                CAST(salesdistrict AS STRING) AS sales_district,\n",
    "                CAST(searchterm1 AS STRING) AS search_term1,\n",
    "                CAST(searchterm2 AS STRING) AS search_term2,\n",
    "                CAST(salesdatatable.salesdata.salesorganization AS STRING) AS sales_organization,\n",
    "                CAST(salesdatatable.salesdata.distributionchannel AS STRING) AS distribution_channel,\n",
    "                CAST(salesdatatable.salesdata.division AS STRING) AS division,\n",
    "                CAST(salesdatatable.salesdata.pricelist AS STRING) AS price_list,\n",
    "                CAST(salesdatatable.salesdata.pricegroup AS STRING) AS price_group,\n",
    "                CAST(salesdatatable.salesdata.customergroup AS STRING) AS customer_group,\n",
    "                CAST(partnerrolestable.partnerroles.partnerfunction AS STRING) AS partner_function,\n",
    "                REGEXP_REPLACE(partnerrolestable.partnerroles.customerpartner, '^0+', '') AS customer_partner,\n",
    "                REGEXP_REPLACE(addressnumber, '^0+', '') AS address_number,\n",
    "                TO_TIMESTAMP(\n",
    "                CONCAT(\n",
    "                SPLIT(REPLACE(SPLIT(filename, '_')[3], '.xml', ''), '-')[0],\n",
    "                SPLIT(REPLACE(SPLIT(filename, '_')[3], '.xml', ''), '-')[1]\n",
    "              ),\n",
    "              'yyyyMMddHHmmss'\n",
    "            ) AS proc_date,\n",
    "            filename,\n",
    "            file_creation_ts\n",
    "            FROM (\n",
    "                SELECT  \n",
    "                    customer_master.*, proc_date,filename,file_creation_ts\n",
    "                FROM temp_sap_customers_master\n",
    "            )\n",
    "            LATERAL VIEW EXPLODE(salesdata) salesdatatable AS salesdata\n",
    "            LATERAL VIEW EXPLODE(partnerroles) partnerrolestable AS partnerroles \n",
    "        )\n",
    "    \"\"\")"
   ]
  },
  {
   "cell_type": "code",
   "execution_count": 0,
   "metadata": {
    "application/vnd.databricks.v1+cell": {
     "cellMetadata": {
      "byteLimit": 2048000,
      "rowLimit": 10000
     },
     "inputWidgets": {},
     "nuid": "f607dbea-1935-4a0c-8ef5-11667b4ad39a",
     "showTitle": false,
     "tableResultSettingsMap": {},
     "title": ""
    }
   },
   "outputs": [],
   "source": [
    "spark.sql(f\"\"\"\n",
    "MERGE INTO {catalog_name}.udp_wcm_silver_sap_erp.customers_master AS target\n",
    "USING temp_customer_master AS source\n",
    "ON target.hash_id = source.hash_id and target.proc_date = source.proc_date\n",
    "WHEN NOT MATCHED THEN\n",
    "    INSERT *\n",
    "\"\"\")"
   ]
  }
 ],
 "metadata": {
  "application/vnd.databricks.v1+notebook": {
   "computePreferences": null,
   "dashboards": [],
   "environmentMetadata": {
    "base_environment": "",
    "environment_version": "2"
   },
   "inputWidgetPreferences": null,
   "language": "python",
   "notebookMetadata": {
    "mostRecentlyExecutedCommandWithImplicitDF": {
     "commandId": 6045741625408093,
     "dataframes": [
      "_sqldf"
     ]
    },
    "pythonIndentUnit": 4
   },
   "notebookName": "customer_master",
   "widgets": {
    "environment": {
     "currentValue": "DEV",
     "nuid": "ff53af1e-0837-4e5d-be5b-cdaa7bcc45df",
     "typedWidgetInfo": {
      "autoCreated": false,
      "defaultValue": "",
      "label": "",
      "name": "environment",
      "options": {
       "widgetDisplayType": "Text",
       "validationRegex": null
      },
      "parameterDataType": "String"
     },
     "widgetInfo": {
      "widgetType": "text",
      "defaultValue": "",
      "label": "",
      "name": "environment",
      "options": {
       "widgetType": "text",
       "autoCreated": null,
       "validationRegex": null
      }
     }
    },
    "layer": {
     "currentValue": "SILVER",
     "nuid": "39b5a605-2fda-4853-9206-fe414f49d7a2",
     "typedWidgetInfo": {
      "autoCreated": false,
      "defaultValue": "",
      "label": null,
      "name": "layer",
      "options": {
       "widgetDisplayType": "Text",
       "validationRegex": null
      },
      "parameterDataType": "String"
     },
     "widgetInfo": {
      "widgetType": "text",
      "defaultValue": "",
      "label": null,
      "name": "layer",
      "options": {
       "widgetType": "text",
       "autoCreated": null,
       "validationRegex": null
      }
     }
    },
    "proc_date": {
     "currentValue": "2025-07-21",
     "nuid": "07b4fdb0-6a9e-4e9e-949f-a3b425cc7262",
     "typedWidgetInfo": {
      "autoCreated": false,
      "defaultValue": "",
      "label": null,
      "name": "proc_date",
      "options": {
       "widgetDisplayType": "Text",
       "validationRegex": null
      },
      "parameterDataType": "String"
     },
     "widgetInfo": {
      "widgetType": "text",
      "defaultValue": "",
      "label": null,
      "name": "proc_date",
      "options": {
       "widgetType": "text",
       "autoCreated": null,
       "validationRegex": null
      }
     }
    }
   }
  },
  "language_info": {
   "name": "python"
  }
 },
 "nbformat": 4,
 "nbformat_minor": 0
}
