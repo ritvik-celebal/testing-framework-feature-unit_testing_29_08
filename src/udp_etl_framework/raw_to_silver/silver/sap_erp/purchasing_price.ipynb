{
 "cells": [
  {
   "cell_type": "code",
   "execution_count": 0,
   "metadata": {
    "application/vnd.databricks.v1+cell": {
     "cellMetadata": {
      "byteLimit": 2048000,
      "rowLimit": 10000
     },
     "inputWidgets": {},
     "nuid": "6af568b7-46be-4d2d-805a-df82fd774747",
     "showTitle": false,
     "tableResultSettingsMap": {},
     "title": ""
    }
   },
   "outputs": [],
   "source": [
    "dbutils.widgets.text(\"proc_date\", \"\")\n",
    "proc_date = dbutils.widgets.get(\"proc_date\")"
   ]
  },
  {
   "cell_type": "code",
   "execution_count": 0,
   "metadata": {
    "application/vnd.databricks.v1+cell": {
     "cellMetadata": {
      "byteLimit": 2048000,
      "rowLimit": 10000
     },
     "inputWidgets": {},
     "nuid": "37624975-aadb-43a3-9345-ae1736148432",
     "showTitle": false,
     "tableResultSettingsMap": {},
     "title": ""
    }
   },
   "outputs": [],
   "source": [
    "%run ../../../utils/common"
   ]
  },
  {
   "cell_type": "code",
   "execution_count": 0,
   "metadata": {
    "application/vnd.databricks.v1+cell": {
     "cellMetadata": {
      "byteLimit": 2048000,
      "rowLimit": 10000
     },
     "inputWidgets": {},
     "nuid": "074a4b55-9c6f-4e0b-ab7f-d0fab6e3145c",
     "showTitle": false,
     "tableResultSettingsMap": {},
     "title": ""
    }
   },
   "outputs": [],
   "source": [
    "dbutils.widgets.text(\"environment\", \"\", \"\")\n",
    "environment = dbutils.widgets.get(\"environment\")"
   ]
  },
  {
   "cell_type": "code",
   "execution_count": 0,
   "metadata": {
    "application/vnd.databricks.v1+cell": {
     "cellMetadata": {
      "byteLimit": 2048000,
      "rowLimit": 10000
     },
     "inputWidgets": {},
     "nuid": "9283978e-b8ed-4145-8a93-389eb661c575",
     "showTitle": false,
     "tableResultSettingsMap": {},
     "title": ""
    }
   },
   "outputs": [],
   "source": [
    "catalog_name = settings[environment]['catalog_name']"
   ]
  },
  {
   "cell_type": "code",
   "execution_count": 0,
   "metadata": {
    "application/vnd.databricks.v1+cell": {
     "cellMetadata": {
      "byteLimit": 2048000,
      "rowLimit": 10000
     },
     "inputWidgets": {},
     "nuid": "e4a01c2e-a473-4f2b-bbe0-ffc497dc0dd3",
     "showTitle": false,
     "tableResultSettingsMap": {},
     "title": ""
    }
   },
   "outputs": [],
   "source": [
    "proc_date_str = str(proc_date)[:10]"
   ]
  },
  {
   "cell_type": "code",
   "execution_count": 0,
   "metadata": {
    "application/vnd.databricks.v1+cell": {
     "cellMetadata": {
      "byteLimit": 2048000,
      "rowLimit": 10000
     },
     "inputWidgets": {},
     "nuid": "4fa40880-cbcb-44f1-8d51-ff4c4f8736db",
     "showTitle": false,
     "tableResultSettingsMap": {},
     "title": ""
    }
   },
   "outputs": [],
   "source": [
    "spark.sql(f\"\"\"\n",
    "CREATE TABLE IF NOT EXISTS {catalog_name}.udp_wcm_silver_sap_erp.purchasing_price\n",
    "(\n",
    "  hash_value BIGINT,\n",
    "  hash_id BIGINT,\n",
    "  warehouse_code STRING,\n",
    "  merchant_sku STRING,\n",
    "  sell_price Double,\n",
    "  price_from DATE,\n",
    "  price_to DATE,\n",
    "  delete_indicator STRING,\n",
    "  old_merchant_sku STRING,\n",
    "  barcode STRING,\n",
    "  condition_type STRING,\n",
    "  promo_md_ind STRING,\n",
    "  purchasing_group STRING,\n",
    "  supply_region STRING,\n",
    "  cond_table STRING,\n",
    "  vendor STRING,\n",
    "  vendor_subrange STRING,\n",
    "  site_region STRING,\n",
    "  info_type STRING,\n",
    "  purchasing_org STRING,\n",
    "  purchasing_unit STRING,\n",
    "  customer STRING,\n",
    "  customer_group STRING,\n",
    "  promotion STRING,\n",
    "  proc_date TIMESTAMP,\n",
    "  start_date DATE,\n",
    "  end_date DATE,\n",
    "  file_creation_ts TIMESTAMP\n",
    ")\n",
    "TBLPROPERTIES (\n",
    "  'DELTA.AUTOOPTIMIZE.OPTIMIZEWRITE' = 'TRUE',\n",
    "  'DELTA.AUTOOPTIMIZE.AUTOCOMPACT' = 'TRUE'\n",
    ")\n",
    "\"\"\")"
   ]
  },
  {
   "cell_type": "code",
   "execution_count": 0,
   "metadata": {
    "application/vnd.databricks.v1+cell": {
     "cellMetadata": {
      "byteLimit": 2048000,
      "rowLimit": 10000
     },
     "inputWidgets": {},
     "nuid": "2d3e2809-cd63-41d5-bfb0-77b61d677192",
     "showTitle": false,
     "tableResultSettingsMap": {},
     "title": ""
    }
   },
   "outputs": [],
   "source": [
    "spark.sql(f\"\"\"\n",
    "          CREATE OR REPLACE TEMP VIEW purchasing_price AS\n",
    "    WITH temp AS (\n",
    "        SELECT\n",
    "            CAST(selling_price_tbl.warehousecode AS STRING) AS warehouse_code,\n",
    "            LTRIM('0', CAST(selling_price_tbl.merchantsku AS STRING)) AS merchant_sku,\n",
    "            CAST(selling_price_tbl.sellprice AS DOUBLE) AS sell_price,\n",
    "            CASE\n",
    "                WHEN selling_price_tbl.pricefrom IN ('00000000', '') THEN NULL\n",
    "                ELSE TO_DATE(selling_price_tbl.pricefrom, 'yyyyMMdd')\n",
    "            END AS price_from,\n",
    "            CASE\n",
    "                WHEN selling_price_tbl.priceto IN ('00000000', '') THEN NULL\n",
    "                ELSE TO_DATE(selling_price_tbl.priceto, 'yyyyMMdd')\n",
    "            END AS price_to,\n",
    "            UPPER(NULLIF(selling_price_tbl.delete_indicator, '')) AS delete_indicator,\n",
    "            CAST(selling_price_tbl.oldmerchantsku AS STRING) AS old_merchant_sku,\n",
    "            NULLIF(selling_price_tbl.barcode, '') AS barcode,\n",
    "            NULLIF(selling_price_tbl.conditiontype, '') AS condition_type,\n",
    "            NULLIF(selling_price_tbl.promo_md_ind, '') AS promo_md_ind,\n",
    "            NULLIF(selling_price_tbl.purchasinggroup, '') AS purchasing_group,\n",
    "            NULLIF(selling_price_tbl.supplyregion, '') AS supply_region,\n",
    "            LTRIM('0', CAST(selling_price_tbl.condtable AS STRING)) AS cond_table,\n",
    "            NULLIF(selling_price_tbl.vendor, '') AS vendor,\n",
    "            NULLIF(selling_price_tbl.vendorsubrange, '') AS vendor_subrange,\n",
    "            NULLIF(selling_price_tbl.siteregion, '') AS site_region,\n",
    "            CAST(selling_price_tbl.infotype AS STRING) AS info_type,\n",
    "            CAST(selling_price_tbl.purchasingorg AS STRING) AS purchasing_org,\n",
    "            UPPER(NULLIF(selling_price_tbl.purchaseunit, '')) AS purchasing_unit,\n",
    "            NULLIF(selling_price_tbl.customer, '') AS customer,\n",
    "            NULLIF(selling_price_tbl.customergroup, '') AS customer_group,\n",
    "            LTRIM('0', CAST(selling_price_tbl.promotion AS STRING)) AS promotion,\n",
    "            FROM_UTC_TIMESTAMP(\n",
    "            TO_TIMESTAMP(\n",
    "              CONCAT(\n",
    "                SPLIT(REPLACE(SPLIT(filename, '_')[4], '.xml', ''), '-')[0],\n",
    "                SPLIT(REPLACE(SPLIT(filename, '_')[4], '.xml', ''), '-')[1]\n",
    "              ),\n",
    "              'yyyyMMddHHmmss'\n",
    "            ),\n",
    "            'Asia/Bangkok'\n",
    "            ) AS proc_date,\n",
    "            filename,\n",
    "            file_creation_ts\n",
    "        FROM {catalog_name}.udp_wcm_bronze_sap_erp.purchasing_price \n",
    "        LATERAL VIEW EXPLODE(selling_price) AS selling_price_tbl\n",
    "        WHERE DATE(proc_date) = '{proc_date_str}'\n",
    "    ),\n",
    "    deduped AS (\n",
    "        SELECT * FROM (\n",
    "            SELECT *, \n",
    "                   ROW_NUMBER() OVER (\n",
    "                       PARTITION BY warehouse_code, merchant_sku, old_merchant_sku, barcode, condition_type,\n",
    "                                    promo_md_ind, purchasing_group, supply_region, cond_table, vendor,\n",
    "                                    vendor_subrange, site_region, info_type, purchasing_org, purchasing_unit,\n",
    "                                    customer, customer_group, promotion, DATE(proc_date), price_from, price_to,filename,file_creation_ts\n",
    "                       ORDER BY proc_date DESC\n",
    "                   ) AS rn\n",
    "            FROM temp\n",
    "        ) t\n",
    "        WHERE rn = 1\n",
    "    ),\n",
    "    main AS (\n",
    "        SELECT\n",
    "            farm_fingerprint(\n",
    "                CONCAT(\n",
    "                    COALESCE(warehouse_code, ''),\n",
    "                    COALESCE(merchant_sku, ''),\n",
    "                    COALESCE(old_merchant_sku, ''),\n",
    "                    COALESCE(barcode, ''),\n",
    "                    COALESCE(condition_type, ''),\n",
    "                    COALESCE(promo_md_ind, ''),\n",
    "                    COALESCE(purchasing_group, ''),\n",
    "                    COALESCE(supply_region, ''),\n",
    "                    COALESCE(cond_table, ''),\n",
    "                    COALESCE(vendor, ''),\n",
    "                    COALESCE(vendor_subrange, ''),\n",
    "                    COALESCE(site_region, ''),\n",
    "                    COALESCE(info_type, ''),\n",
    "                    COALESCE(purchasing_org, ''),\n",
    "                    COALESCE(purchasing_unit, ''),\n",
    "                    COALESCE(customer, ''),\n",
    "                    COALESCE(customer_group, ''),\n",
    "                    COALESCE(promotion, '')\n",
    "                )\n",
    "            ) AS hash_value,\n",
    "            farm_fingerprint(\n",
    "                CONCAT(\n",
    "                    COALESCE(warehouse_code, ''),\n",
    "                    COALESCE(merchant_sku, ''),\n",
    "                    COALESCE(CAST(sell_price AS STRING), ''),\n",
    "                    COALESCE(CAST(price_from AS STRING), ''),\n",
    "                    COALESCE(CAST(price_to AS STRING), ''),\n",
    "                    COALESCE(delete_indicator, ''),\n",
    "                    COALESCE(old_merchant_sku, ''),\n",
    "                    COALESCE(barcode, ''),\n",
    "                    COALESCE(condition_type, ''),\n",
    "                    COALESCE(promo_md_ind, ''),\n",
    "                    COALESCE(purchasing_group, ''),\n",
    "                    COALESCE(supply_region, ''),\n",
    "                    COALESCE(cond_table, ''),\n",
    "                    COALESCE(vendor, ''),\n",
    "                    COALESCE(vendor_subrange, ''),\n",
    "                    COALESCE(site_region, ''),\n",
    "                    COALESCE(info_type, ''),\n",
    "                    COALESCE(purchasing_org, ''),\n",
    "                    COALESCE(purchasing_unit, ''),\n",
    "                    COALESCE(customer, ''),\n",
    "                    COALESCE(customer_group, ''),\n",
    "                    COALESCE(promotion, '')\n",
    "                )\n",
    "            ) AS hash_id,\n",
    "            *,\n",
    "            DATE(proc_date) AS start_date\n",
    "        FROM deduped\n",
    "    ),\n",
    "    main_2 AS (\n",
    "        SELECT *,\n",
    "               LAG(hash_id, 1) OVER (PARTITION BY hash_value ORDER BY proc_date) AS hash_id_prev\n",
    "        FROM main\n",
    "    ),\n",
    "    main_3 AS (\n",
    "        SELECT * \n",
    "        FROM main_2 \n",
    "        WHERE hash_id != hash_id_prev OR hash_id_prev IS NULL\n",
    "    ),\n",
    "    main_4 AS (\n",
    "        SELECT *,\n",
    "               LEAD(DATE(proc_date), 1) OVER (PARTITION BY hash_value ORDER BY proc_date ASC) AS end_date\n",
    "        FROM main_3\n",
    "    )\n",
    "    SELECT \n",
    "        * EXCEPT(end_date),\n",
    "        COALESCE(DATE_SUB(end_date, 1), DATE('2400-01-01')) AS end_date\n",
    "    FROM main_4\n",
    "\"\"\")"
   ]
  },
  {
   "cell_type": "code",
   "execution_count": 0,
   "metadata": {
    "application/vnd.databricks.v1+cell": {
     "cellMetadata": {
      "byteLimit": 2048000,
      "rowLimit": 10000
     },
     "inputWidgets": {},
     "nuid": "ad085cfe-6e65-4fd0-8bb0-38a1462189d8",
     "showTitle": false,
     "tableResultSettingsMap": {},
     "title": ""
    }
   },
   "outputs": [],
   "source": [
    "spark.sql(f\"\"\"\n",
    "MERGE INTO {catalog_name}.udp_wcm_silver_sap_erp.purchasing_price inf_tbl\n",
    "    USING (\n",
    "        SELECT hash_value, hash_id, start_date \n",
    "        FROM purchasing_price\n",
    "        WHERE end_date = DATE '2400-01-01' \n",
    "    ) tmp_tbl\n",
    "    ON inf_tbl.hash_value = tmp_tbl.hash_value \n",
    "        AND inf_tbl.hash_id != tmp_tbl.hash_id \n",
    "        AND inf_tbl.end_date = DATE '2400-01-01'\n",
    "    WHEN MATCHED THEN UPDATE SET inf_tbl.end_date = DATE_SUB(tmp_tbl.start_date, 1)\n",
    "    \"\"\")"
   ]
  },
  {
   "cell_type": "code",
   "execution_count": 0,
   "metadata": {
    "application/vnd.databricks.v1+cell": {
     "cellMetadata": {
      "byteLimit": 2048000,
      "rowLimit": 10000
     },
     "inputWidgets": {},
     "nuid": "4044b790-e470-4bbb-9eed-f2064fec91b0",
     "showTitle": false,
     "tableResultSettingsMap": {},
     "title": ""
    }
   },
   "outputs": [],
   "source": [
    "spark.sql(f\"\"\"\n",
    "MERGE INTO {catalog_name}.udp_wcm_silver_sap_erp.purchasing_price inf_tbl\n",
    "    USING purchasing_price tmp_tbl\n",
    "    ON inf_tbl.hash_id = tmp_tbl.hash_id \n",
    "        AND inf_tbl.proc_date = tmp_tbl.proc_date\n",
    "    WHEN NOT MATCHED THEN INSERT * \"\"\")"
   ]
  }
 ],
 "metadata": {
  "application/vnd.databricks.v1+notebook": {
   "computePreferences": null,
   "dashboards": [],
   "environmentMetadata": {
    "base_environment": "",
    "environment_version": "2"
   },
   "inputWidgetPreferences": null,
   "language": "python",
   "notebookMetadata": {
    "mostRecentlyExecutedCommandWithImplicitDF": {
     "commandId": 6329452208610870,
     "dataframes": [
      "_sqldf"
     ]
    },
    "pythonIndentUnit": 4
   },
   "notebookName": "purchasing_price",
   "widgets": {
    "environment": {
     "currentValue": "DEV",
     "nuid": "709e98e3-2f71-44b8-a58c-9232587c4698",
     "typedWidgetInfo": {
      "autoCreated": false,
      "defaultValue": "",
      "label": "",
      "name": "environment",
      "options": {
       "widgetDisplayType": "Text",
       "validationRegex": null
      },
      "parameterDataType": "String"
     },
     "widgetInfo": {
      "widgetType": "text",
      "defaultValue": "",
      "label": "",
      "name": "environment",
      "options": {
       "widgetType": "text",
       "autoCreated": null,
       "validationRegex": null
      }
     }
    },
    "proc_date": {
     "currentValue": "2025-07-16",
     "nuid": "c62b2a00-3641-4a35-ac2b-1181d5618415",
     "typedWidgetInfo": {
      "autoCreated": false,
      "defaultValue": "",
      "label": null,
      "name": "proc_date",
      "options": {
       "widgetDisplayType": "Text",
       "validationRegex": null
      },
      "parameterDataType": "String"
     },
     "widgetInfo": {
      "widgetType": "text",
      "defaultValue": "",
      "label": null,
      "name": "proc_date",
      "options": {
       "widgetType": "text",
       "autoCreated": null,
       "validationRegex": null
      }
     }
    }
   }
  },
  "language_info": {
   "name": "python"
  }
 },
 "nbformat": 4,
 "nbformat_minor": 0
}
