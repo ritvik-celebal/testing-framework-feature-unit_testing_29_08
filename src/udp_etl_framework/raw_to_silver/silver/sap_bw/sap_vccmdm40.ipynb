{
 "cells": [
  {
   "cell_type": "code",
   "execution_count": 0,
   "metadata": {
    "application/vnd.databricks.v1+cell": {
     "cellMetadata": {},
     "inputWidgets": {},
     "nuid": "e750941e-dff1-4207-bd74-78a86c05107c",
     "showTitle": false,
     "tableResultSettingsMap": {},
     "title": ""
    }
   },
   "outputs": [],
   "source": [
    "dbutils.widgets.text(\"proc_date\", \"\")\n",
    "proc_date = dbutils.widgets.get(\"proc_date\")"
   ]
  },
  {
   "cell_type": "code",
   "execution_count": 0,
   "metadata": {
    "application/vnd.databricks.v1+cell": {
     "cellMetadata": {
      "byteLimit": 2048000,
      "rowLimit": 10000
     },
     "inputWidgets": {},
     "nuid": "c61ce195-20cf-4ef9-9e27-8b51d826751d",
     "showTitle": false,
     "tableResultSettingsMap": {},
     "title": ""
    }
   },
   "outputs": [],
   "source": [
    "%run ../../../utils/common"
   ]
  },
  {
   "cell_type": "code",
   "execution_count": 0,
   "metadata": {
    "application/vnd.databricks.v1+cell": {
     "cellMetadata": {
      "byteLimit": 2048000,
      "rowLimit": 10000
     },
     "inputWidgets": {},
     "nuid": "e2692ff4-5ea0-43d3-b437-d27dfce37d03",
     "showTitle": false,
     "tableResultSettingsMap": {},
     "title": ""
    }
   },
   "outputs": [],
   "source": [
    "dbutils.widgets.text(\"environment\", \"\", \"\")\n",
    "environment = dbutils.widgets.get(\"environment\")"
   ]
  },
  {
   "cell_type": "code",
   "execution_count": 0,
   "metadata": {
    "application/vnd.databricks.v1+cell": {
     "cellMetadata": {
      "byteLimit": 2048000,
      "rowLimit": 10000
     },
     "inputWidgets": {},
     "nuid": "1ec54fc2-915d-405b-8c17-85351041387b",
     "showTitle": false,
     "tableResultSettingsMap": {},
     "title": ""
    }
   },
   "outputs": [],
   "source": [
    "catalog_name = settings[environment]['catalog_name']"
   ]
  },
  {
   "cell_type": "code",
   "execution_count": 0,
   "metadata": {
    "application/vnd.databricks.v1+cell": {
     "cellMetadata": {},
     "inputWidgets": {},
     "nuid": "755a9a9f-ee38-4b2d-91c3-3574e84ae749",
     "showTitle": false,
     "tableResultSettingsMap": {},
     "title": ""
    }
   },
   "outputs": [],
   "source": [
    "create_temp_view_with_clean_columns(\n",
    "    spark,\n",
    "    catalog_name,\n",
    "    'udp_wcm_bronze_sap_bw',\n",
    "    'sap_bw_wcm_vccmdm40',\n",
    "    proc_date,\n",
    "    'temp_sap_vccmdm40'\n",
    ")"
   ]
  },
  {
   "cell_type": "code",
   "execution_count": 0,
   "metadata": {
    "application/vnd.databricks.v1+cell": {
     "cellMetadata": {
      "byteLimit": 2048000,
      "rowLimit": 10000
     },
     "inputWidgets": {},
     "nuid": "cbc98789-bd48-4672-ba5c-1018ff72207f",
     "showTitle": false,
     "tableResultSettingsMap": {},
     "title": ""
    }
   },
   "outputs": [],
   "source": [
    "spark.sql(f\"\"\"\n",
    "CREATE TABLE IF NOT EXISTS {catalog_name}.udp_wcm_silver_sap_bw.sap_vccmdm40\n",
    "(\n",
    "  hash_id BIGINT,\n",
    "  reqtsn STRING,\n",
    "  datapakid STRING,\n",
    "  record INT,\n",
    "  recordmode STRING,\n",
    "  asort STRING,\n",
    "  lfdnr STRING,\n",
    "  locnr STRING,\n",
    "  kunnr STRING,\n",
    "  vkorg STRING,\n",
    "  vtweg STRING,\n",
    "  spart STRING,\n",
    "  sonut STRING,\n",
    "  datab DATE,\n",
    "  datbi DATE,\n",
    "  rangf STRING,\n",
    "  ligrd STRING,\n",
    "  ernam STRING,\n",
    "  erzet STRING,\n",
    "  aenam STRING,\n",
    "  aedat DATE,\n",
    "  aezet STRING,\n",
    "  proc_date DATE,\n",
    "  file_creation_ts TIMESTAMP\n",
    ")\n",
    "TBLPROPERTIES (\n",
    "  'DELTA.AUTOOPTIMIZE.OPTIMIZEWRITE' = 'TRUE',\n",
    "  'DELTA.AUTOOPTIMIZE.AUTOCOMPACT' = 'TRUE'\n",
    ")\n",
    "\"\"\")"
   ]
  },
  {
   "cell_type": "code",
   "execution_count": 0,
   "metadata": {
    "application/vnd.databricks.v1+cell": {
     "cellMetadata": {
      "byteLimit": 2048000,
      "rowLimit": 10000
     },
     "inputWidgets": {},
     "nuid": "2093ec9b-c508-48ba-9ae9-78c95bb20b35",
     "showTitle": false,
     "tableResultSettingsMap": {},
     "title": ""
    }
   },
   "outputs": [],
   "source": [
    "spark.sql(f\"\"\"\n",
    "    CREATE OR REPLACE TEMP VIEW sap_vccmdm40 AS\n",
    "    SELECT\n",
    "        farm_fingerprint(CONCAT(\n",
    "            COALESCE(CAST(recordmode AS STRING), \"\"), \n",
    "            COALESCE(CAST(asort AS STRING), \"\"),\n",
    "            COALESCE(CAST(lfdnr AS STRING), \"\")\n",
    "        )) AS hash_id,\n",
    "        reqtsn,\n",
    "        datapakid,\n",
    "        record,\n",
    "        {catalog_name}.DEFAULT.fn_CLEAN_SAP_STRING(recordmode) AS recordmode,\n",
    "        {catalog_name}.DEFAULT.fn_CLEAN_SAP_STRING(asort) AS asort,\n",
    "        {catalog_name}.DEFAULT.fn_CLEAN_SAP_STRING(lfdnr) AS lfdnr,\n",
    "        {catalog_name}.DEFAULT.fn_CLEAN_SAP_STRING(locnr) AS locnr,\n",
    "        {catalog_name}.DEFAULT.fn_CLEAN_SAP_STRING(kunnr) AS kunnr,\n",
    "        {catalog_name}.DEFAULT.fn_CLEAN_SAP_STRING(vkorg) AS vkorg,\n",
    "        {catalog_name}.DEFAULT.fn_CLEAN_SAP_STRING(vtweg) AS vtweg,\n",
    "        {catalog_name}.DEFAULT.fn_CLEAN_SAP_STRING(spart) AS spart,\n",
    "        {catalog_name}.DEFAULT.fn_CLEAN_SAP_STRING(sonut) AS sonut,\n",
    "        TO_DATE({catalog_name}.DEFAULT.fn_CLEAN_SAP_STRING(datab), \"yyyyMMdd\") AS datab,\n",
    "        TO_DATE({catalog_name}.DEFAULT.fn_CLEAN_SAP_STRING(datbi), \"yyyyMMdd\") AS datbi,\n",
    "        {catalog_name}.DEFAULT.fn_CLEAN_SAP_STRING(rangf) AS rangf,\n",
    "        {catalog_name}.DEFAULT.fn_CLEAN_SAP_STRING(ligrd) AS ligrd,\n",
    "        {catalog_name}.DEFAULT.fn_CLEAN_SAP_STRING(ernam) AS ernam,\n",
    "        TO_TIMESTAMP({catalog_name}.DEFAULT.fn_CLEAN_SAP_STRING(erzet), \"HHmmss\") AS erzet,\n",
    "        {catalog_name}.DEFAULT.fn_CLEAN_SAP_STRING(aenam) AS aenam,\n",
    "        TO_DATE({catalog_name}.DEFAULT.fn_CLEAN_SAP_STRING(aedat), \"yyyyMMdd\") AS aedat,\n",
    "        {catalog_name}.DEFAULT.fn_CLEAN_SAP_STRING(aezet) AS aezet,\n",
    "        proc_date,\n",
    "        file_creation_ts\n",
    "    FROM (\n",
    "        SELECT * EXCEPT(rn) \n",
    "        FROM (\n",
    "            SELECT * , proc_date, ROW_NUMBER() OVER (PARTITION BY reqtsn, datapakid, record ORDER BY proc_date DESC) AS rn \n",
    "            FROM temp_sap_vccmdm40\n",
    "        ) a \n",
    "        WHERE rn = 1\n",
    "    ) a;\n",
    "    \"\"\")"
   ]
  },
  {
   "cell_type": "code",
   "execution_count": 0,
   "metadata": {
    "application/vnd.databricks.v1+cell": {
     "cellMetadata": {
      "byteLimit": 2048000,
      "rowLimit": 10000
     },
     "inputWidgets": {},
     "nuid": "c72b67d9-e681-4b5e-aa75-409a0734a4dd",
     "showTitle": false,
     "tableResultSettingsMap": {},
     "title": ""
    }
   },
   "outputs": [],
   "source": [
    "spark.sql(f\"\"\"\n",
    "    MERGE INTO {catalog_name}.udp_wcm_silver_sap_bw.sap_vccmdm40 AS main_tbl\n",
    "    USING SAP_VCCMDM40 AS temp_tbl\n",
    "    ON main_tbl.HASH_ID = temp_tbl.HASH_ID\n",
    "    AND main_tbl.REQTSN = temp_tbl.REQTSN\n",
    "    AND main_tbl.DATAPAKID = temp_tbl.DATAPAKID\n",
    "    AND main_tbl.RECORD = temp_tbl.RECORD\n",
    "    WHEN NOT MATCHED THEN \n",
    "    INSERT * \"\"\")"
   ]
  }
 ],
 "metadata": {
  "application/vnd.databricks.v1+notebook": {
   "computePreferences": null,
   "dashboards": [],
   "environmentMetadata": {
    "base_environment": "",
    "environment_version": "2"
   },
   "inputWidgetPreferences": null,
   "language": "python",
   "notebookMetadata": {
    "mostRecentlyExecutedCommandWithImplicitDF": {
     "commandId": 6410538414266479,
     "dataframes": [
      "_sqldf"
     ]
    },
    "pythonIndentUnit": 4
   },
   "notebookName": "sap_vccmdm40",
   "widgets": {
    "environment": {
     "currentValue": "DEV",
     "nuid": "b86d1834-1e79-4268-b9cb-ea21cb55e4df",
     "typedWidgetInfo": {
      "autoCreated": false,
      "defaultValue": "",
      "label": "",
      "name": "environment",
      "options": {
       "widgetDisplayType": "Text",
       "validationRegex": null
      },
      "parameterDataType": "String"
     },
     "widgetInfo": {
      "widgetType": "text",
      "defaultValue": "",
      "label": "",
      "name": "environment",
      "options": {
       "widgetType": "text",
       "autoCreated": null,
       "validationRegex": null
      }
     }
    },
    "proc_date": {
     "currentValue": "2025-05-31",
     "nuid": "4dfcb97b-ca16-40d9-934b-d85e790df020",
     "typedWidgetInfo": {
      "autoCreated": false,
      "defaultValue": "",
      "label": null,
      "name": "proc_date",
      "options": {
       "widgetDisplayType": "Text",
       "validationRegex": null
      },
      "parameterDataType": "String"
     },
     "widgetInfo": {
      "widgetType": "text",
      "defaultValue": "",
      "label": null,
      "name": "proc_date",
      "options": {
       "widgetType": "text",
       "autoCreated": null,
       "validationRegex": null
      }
     }
    }
   }
  },
  "language_info": {
   "name": "python"
  }
 },
 "nbformat": 4,
 "nbformat_minor": 0
}
