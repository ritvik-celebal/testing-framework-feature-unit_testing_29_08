{
 "cells": [
  {
   "cell_type": "code",
   "execution_count": 0,
   "metadata": {
    "application/vnd.databricks.v1+cell": {
     "cellMetadata": {
      "byteLimit": 2048000,
      "rowLimit": 10000
     },
     "inputWidgets": {},
     "nuid": "1f0aadb1-79d2-43a3-bc77-41dc9e996432",
     "showTitle": false,
     "tableResultSettingsMap": {},
     "title": ""
    }
   },
   "outputs": [],
   "source": [
    "dbutils.widgets.text(\"proc_date\", \"\")\n",
    "proc_date = dbutils.widgets.get(\"proc_date\")"
   ]
  },
  {
   "cell_type": "code",
   "execution_count": 0,
   "metadata": {
    "application/vnd.databricks.v1+cell": {
     "cellMetadata": {
      "byteLimit": 2048000,
      "rowLimit": 10000
     },
     "inputWidgets": {},
     "nuid": "646b5289-a069-4624-a90f-d9183372122c",
     "showTitle": false,
     "tableResultSettingsMap": {},
     "title": ""
    }
   },
   "outputs": [],
   "source": [
    "%run ../../../utils/common"
   ]
  },
  {
   "cell_type": "code",
   "execution_count": 0,
   "metadata": {
    "application/vnd.databricks.v1+cell": {
     "cellMetadata": {
      "byteLimit": 2048000,
      "rowLimit": 10000
     },
     "inputWidgets": {},
     "nuid": "3bc75960-afa1-4c07-a529-6734240002f1",
     "showTitle": false,
     "tableResultSettingsMap": {},
     "title": ""
    }
   },
   "outputs": [],
   "source": [
    "dbutils.widgets.text(\"environment\", \"\", \"\")\n",
    "environment = dbutils.widgets.get(\"environment\")"
   ]
  },
  {
   "cell_type": "code",
   "execution_count": 0,
   "metadata": {
    "application/vnd.databricks.v1+cell": {
     "cellMetadata": {
      "byteLimit": 2048000,
      "rowLimit": 10000
     },
     "inputWidgets": {},
     "nuid": "6f9d84ba-baeb-4565-a35e-da7eab95e8ff",
     "showTitle": false,
     "tableResultSettingsMap": {},
     "title": ""
    }
   },
   "outputs": [],
   "source": [
    "catalog_name = settings[environment]['catalog_name']"
   ]
  },
  {
   "cell_type": "code",
   "execution_count": 0,
   "metadata": {
    "application/vnd.databricks.v1+cell": {
     "cellMetadata": {
      "byteLimit": 2048000,
      "rowLimit": 10000
     },
     "inputWidgets": {},
     "nuid": "748edfeb-2ccf-4e13-87a9-d3a2fff59988",
     "showTitle": false,
     "tableResultSettingsMap": {},
     "title": ""
    }
   },
   "outputs": [],
   "source": [
    "create_temp_view_with_clean_columns(\n",
    "    spark,\n",
    "    catalog_name,\n",
    "    'udp_wcm_bronze_sap_bw',\n",
    "    'sap_bw_wcm_zc_manftr',\n",
    "    proc_date,\n",
    "    'temp_sap_zc_manftr'\n",
    ")"
   ]
  },
  {
   "cell_type": "code",
   "execution_count": 0,
   "metadata": {
    "application/vnd.databricks.v1+cell": {
     "cellMetadata": {
      "byteLimit": 2048000,
      "rowLimit": 10000
     },
     "inputWidgets": {},
     "nuid": "d1acf2f5-578d-4717-a06f-1b7e73632679",
     "showTitle": false,
     "tableResultSettingsMap": {},
     "title": ""
    }
   },
   "outputs": [],
   "source": [
    "spark.sql(f\"\"\"\n",
    "CREATE TABLE IF NOT EXISTS {catalog_name}.udp_wcm_silver_sap_bw.sap_zc_manftr\n",
    "( \n",
    "  hash_id BIGINT,\n",
    "  _bic_zc_manftr STRING,\n",
    "  langu STRING,\n",
    "  txtmd STRING,\n",
    "  proc_date DATE,\n",
    "  file_creation_ts TIMESTAMP,\n",
    "  start_date DATE,\n",
    "  end_date DATE\n",
    ")\n",
    "TBLPROPERTIES (\n",
    "  'DELTA.AUTOOPTIMIZE.OPTIMIZEWRITE' = 'true',\n",
    "  'DELTA.AUTOOPTIMIZE.AUTOCOMPACT' = 'true'\n",
    ")\n",
    "\"\"\")"
   ]
  },
  {
   "cell_type": "code",
   "execution_count": 0,
   "metadata": {
    "application/vnd.databricks.v1+cell": {
     "cellMetadata": {
      "byteLimit": 2048000,
      "rowLimit": 10000
     },
     "inputWidgets": {},
     "nuid": "cbf72c7f-ad08-4995-b0dc-46f66d3c171d",
     "showTitle": false,
     "tableResultSettingsMap": {},
     "title": ""
    }
   },
   "outputs": [],
   "source": [
    "spark.sql(f\"\"\"\n",
    "CREATE OR REPLACE TEMP VIEW sap_zc_manftr AS\n",
    "WITH temp AS (\n",
    "    SELECT * EXCEPT(rn)\n",
    "    FROM (\n",
    "        SELECT *, \n",
    "               ROW_NUMBER() OVER (\n",
    "                   PARTITION BY _bic_zc_manftr, DATE(proc_date) \n",
    "                   ORDER BY proc_date\n",
    "               ) AS rn\n",
    "        FROM (\n",
    "            SELECT \n",
    "                LTRIM('0', _bic_zc_manftr) AS _bic_zc_manftr, \n",
    "                langu, \n",
    "                txtmd, \n",
    "                proc_date,\n",
    "                file_creation_ts\n",
    "            FROM temp_sap_zc_manftr\n",
    "        ) a\n",
    "    ) a\n",
    "    WHERE rn = 1\n",
    "),\n",
    "main AS (\n",
    "    SELECT \n",
    "        FARM_FINGERPRINT(CONCAT(\n",
    "            COALESCE(CAST(_bic_zc_manftr AS STRING), \"\"), \n",
    "            COALESCE(CAST(langu AS STRING), \"\"),\n",
    "            COALESCE(CAST(txtmd AS STRING), \"\")\n",
    "        )) AS hash_id,\n",
    "        *,\n",
    "        DATE(proc_date) AS start_date\n",
    "    FROM temp\n",
    "),\n",
    "main_2 AS (\n",
    "    SELECT *,\n",
    "           LAG(hash_id, 1) OVER (\n",
    "               PARTITION BY _bic_zc_manftr \n",
    "               ORDER BY proc_date\n",
    "           ) AS hash_id_prev\n",
    "    FROM main\n",
    "),\n",
    "main_3 AS (\n",
    "    SELECT * EXCEPT(hash_id_prev)\n",
    "    FROM main_2\n",
    "    WHERE hash_id != hash_id_prev OR hash_id_prev IS NULL\n",
    "),\n",
    "main_4 AS (\n",
    "    SELECT *,\n",
    "           LEAD(DATE(proc_date)) OVER (\n",
    "               PARTITION BY _bic_zc_manftr \n",
    "               ORDER BY proc_date ASC\n",
    "           ) AS end_date\n",
    "    FROM main_3\n",
    ")\n",
    "SELECT \n",
    "    * EXCEPT(end_date),\n",
    "    COALESCE(DATE_ADD(end_date, -1), '2400-01-01') AS end_date\n",
    "FROM main_4\n",
    "\"\"\")\n"
   ]
  },
  {
   "cell_type": "code",
   "execution_count": 0,
   "metadata": {
    "application/vnd.databricks.v1+cell": {
     "cellMetadata": {
      "byteLimit": 2048000,
      "rowLimit": 10000
     },
     "inputWidgets": {},
     "nuid": "43ecaf10-21d9-4a91-8802-efe2fb58c873",
     "showTitle": false,
     "tableResultSettingsMap": {},
     "title": ""
    }
   },
   "outputs": [],
   "source": [
    "spark.sql(f\"\"\"\n",
    "MERGE INTO {catalog_name}.udp_wcm_silver_sap_bw.sap_zc_manftr inf_tbl\n",
    "USING (\n",
    "\t\tselect _bic_zc_manftr, hash_id, start_date from sap_zc_manftr \n",
    "\t\t\twhere end_date = DATE '2400-01-01' \n",
    ") tmp_tbl\n",
    "ON inf_tbl._bic_zc_manftr = tmp_tbl._bic_zc_manftr AND inf_tbl.hash_id != tmp_tbl.hash_id AND inf_tbl.end_date = DATE '2400-01-01'\n",
    "WHEN MATCHED THEN UPDATE SET inf_tbl.end_date = date_add(tmp_tbl.start_date,-1) \"\"\")"
   ]
  },
  {
   "cell_type": "code",
   "execution_count": 0,
   "metadata": {
    "application/vnd.databricks.v1+cell": {
     "cellMetadata": {
      "byteLimit": 2048000,
      "rowLimit": 10000
     },
     "inputWidgets": {},
     "nuid": "d5201dbb-98ff-4a48-9073-e1bbd788b396",
     "showTitle": false,
     "tableResultSettingsMap": {},
     "title": ""
    }
   },
   "outputs": [],
   "source": [
    "spark.sql(f\"\"\"\n",
    "\tMERGE INTO {catalog_name}.udp_wcm_silver_sap_bw.sap_zc_manftr inf_tbl\n",
    "\t\tUSING sap_zc_manftr tmp_tbl\n",
    "\t\tON inf_tbl.hash_id = tmp_tbl.hash_id  AND inf_tbl.end_date = DATE '2400-01-01'\n",
    "\t\tWHEN NOT MATCHED THEN INSERT * \"\"\")"
   ]
  }
 ],
 "metadata": {
  "application/vnd.databricks.v1+notebook": {
   "computePreferences": null,
   "dashboards": [],
   "environmentMetadata": {
    "base_environment": "",
    "environment_version": "2"
   },
   "inputWidgetPreferences": null,
   "language": "python",
   "notebookMetadata": {
    "mostRecentlyExecutedCommandWithImplicitDF": {
     "commandId": 6410538414260304,
     "dataframes": [
      "_sqldf"
     ]
    },
    "pythonIndentUnit": 4
   },
   "notebookName": "sap_zc_manftr",
   "widgets": {
    "environment": {
     "currentValue": "DEV",
     "nuid": "d4a8fec1-75a8-452d-93a8-d901b7b267df",
     "typedWidgetInfo": {
      "autoCreated": false,
      "defaultValue": "",
      "label": "",
      "name": "environment",
      "options": {
       "widgetDisplayType": "Text",
       "validationRegex": null
      },
      "parameterDataType": "String"
     },
     "widgetInfo": {
      "widgetType": "text",
      "defaultValue": "",
      "label": "",
      "name": "environment",
      "options": {
       "widgetType": "text",
       "autoCreated": null,
       "validationRegex": null
      }
     }
    },
    "proc_date": {
     "currentValue": "2025-05-31",
     "nuid": "f803bd07-7f86-469f-ba1c-027580edbe68",
     "typedWidgetInfo": {
      "autoCreated": false,
      "defaultValue": "",
      "label": null,
      "name": "proc_date",
      "options": {
       "widgetDisplayType": "Text",
       "validationRegex": null
      },
      "parameterDataType": "String"
     },
     "widgetInfo": {
      "widgetType": "text",
      "defaultValue": "",
      "label": null,
      "name": "proc_date",
      "options": {
       "widgetType": "text",
       "autoCreated": null,
       "validationRegex": null
      }
     }
    }
   }
  },
  "language_info": {
   "name": "python"
  }
 },
 "nbformat": 4,
 "nbformat_minor": 0
}
