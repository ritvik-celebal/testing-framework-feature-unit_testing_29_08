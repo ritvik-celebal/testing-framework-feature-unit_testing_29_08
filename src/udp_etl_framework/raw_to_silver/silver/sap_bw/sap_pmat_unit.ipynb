{
 "cells": [
  {
   "cell_type": "code",
   "execution_count": 0,
   "metadata": {
    "application/vnd.databricks.v1+cell": {
     "cellMetadata": {
      "byteLimit": 2048000,
      "rowLimit": 10000
     },
     "inputWidgets": {},
     "nuid": "647d9f43-52c0-46d5-b18f-165efa33c466",
     "showTitle": false,
     "tableResultSettingsMap": {},
     "title": ""
    }
   },
   "outputs": [],
   "source": [
    "dbutils.widgets.text(\"proc_date\", \"\")\n",
    "proc_date = dbutils.widgets.get(\"proc_date\")"
   ]
  },
  {
   "cell_type": "code",
   "execution_count": 0,
   "metadata": {
    "application/vnd.databricks.v1+cell": {
     "cellMetadata": {
      "byteLimit": 2048000,
      "rowLimit": 10000
     },
     "inputWidgets": {},
     "nuid": "0a7feeca-09a3-4ae7-9fad-5ee667936f6f",
     "showTitle": false,
     "tableResultSettingsMap": {},
     "title": ""
    }
   },
   "outputs": [],
   "source": [
    "%run ../../../utils/common"
   ]
  },
  {
   "cell_type": "code",
   "execution_count": 0,
   "metadata": {
    "application/vnd.databricks.v1+cell": {
     "cellMetadata": {
      "byteLimit": 2048000,
      "rowLimit": 10000
     },
     "inputWidgets": {},
     "nuid": "8b016d62-f491-4e36-b45f-9604b455775b",
     "showTitle": false,
     "tableResultSettingsMap": {},
     "title": ""
    }
   },
   "outputs": [],
   "source": [
    "dbutils.widgets.text(\"environment\", \"\", \"\")\n",
    "environment = dbutils.widgets.get(\"environment\")"
   ]
  },
  {
   "cell_type": "code",
   "execution_count": 0,
   "metadata": {
    "application/vnd.databricks.v1+cell": {
     "cellMetadata": {
      "byteLimit": 2048000,
      "rowLimit": 10000
     },
     "inputWidgets": {},
     "nuid": "13878052-ae09-483b-a12d-6684ce5f11ac",
     "showTitle": false,
     "tableResultSettingsMap": {},
     "title": ""
    }
   },
   "outputs": [],
   "source": [
    "catalog_name = settings[environment]['catalog_name']"
   ]
  },
  {
   "cell_type": "code",
   "execution_count": 0,
   "metadata": {
    "application/vnd.databricks.v1+cell": {
     "cellMetadata": {},
     "inputWidgets": {},
     "nuid": "345aa379-a230-4ca3-84be-8cba5a4f36f2",
     "showTitle": false,
     "tableResultSettingsMap": {},
     "title": ""
    }
   },
   "outputs": [],
   "source": [
    "create_temp_view_with_clean_columns(\n",
    "    spark,\n",
    "    catalog_name,\n",
    "    'udp_wcm_bronze_sap_bw',\n",
    "    'sap_bw_wcm_pmat_unit',\n",
    "    proc_date,\n",
    "    'temp_sap_pmat_unit'\n",
    ")"
   ]
  },
  {
   "cell_type": "code",
   "execution_count": 0,
   "metadata": {
    "application/vnd.databricks.v1+cell": {
     "cellMetadata": {
      "byteLimit": 2048000,
      "rowLimit": 10000
     },
     "inputWidgets": {},
     "nuid": "e5c96e8e-67ac-45d7-8d03-05107daaea71",
     "showTitle": false,
     "tableResultSettingsMap": {},
     "title": ""
    }
   },
   "outputs": [],
   "source": [
    "spark.sql(f\"\"\" \n",
    "CREATE TABLE IF NOT EXISTS {catalog_name}.udp_wcm_silver_sap_bw.sap_pmat_unit\n",
    "(\n",
    "  hash_id BIGINT,\n",
    "  material STRING,\n",
    "  mat_unit STRING,\n",
    "  denomintr FLOAT,\n",
    "  eanupc STRING,\n",
    "  ean_numtyp STRING,\n",
    "  gross_wt FLOAT,\n",
    "  height FLOAT,\n",
    "  len FLOAT,\n",
    "  numerator FLOAT,\n",
    "  unit STRING,\n",
    "  unit_dim STRING,\n",
    "  unit_of_wt STRING,\n",
    "  volume FLOAT,\n",
    "  volumeunit STRING,\n",
    "  width FLOAT,\n",
    "  proc_date DATE,\n",
    "  file_creation_ts TIMESTAMP,\n",
    "  start_date DATE,\n",
    "  end_date DATE\n",
    ")\n",
    "TBLPROPERTIES (\n",
    "  'DELTA.AUTOOPTIMIZE.OPTIMIZEWRITE' = 'true',\n",
    "  'DELTA.AUTOOPTIMIZE.AUTOCOMPACT' = 'true'\n",
    ")\n",
    "\"\"\")"
   ]
  },
  {
   "cell_type": "code",
   "execution_count": 0,
   "metadata": {
    "application/vnd.databricks.v1+cell": {
     "cellMetadata": {
      "byteLimit": 2048000,
      "rowLimit": 10000
     },
     "inputWidgets": {},
     "nuid": "366339f4-fec2-4ee1-b3e0-d01da81ae4da",
     "showTitle": false,
     "tableResultSettingsMap": {},
     "title": ""
    }
   },
   "outputs": [],
   "source": [
    "spark.sql(f\"\"\" CREATE OR REPLACE TEMP VIEW sap_pmat_unit\n",
    "AS\n",
    "WITH temp AS (\n",
    "SELECT * EXCEPT(rn) FROM (\n",
    "    SELECT *, ROW_NUMBER() OVER (PARTITION BY material, mat_unit ORDER BY proc_date DESC) rn FROM (\n",
    "        SELECT \n",
    "            LTRIM('0', material) material,\n",
    "            CASE WHEN mat_unit = '' THEN NULL ELSE mat_unit END AS mat_unit,\n",
    "            denomintr,\n",
    "            CASE WHEN eanupc = '' THEN NULL ELSE eanupc END AS eanupc,\n",
    "            CASE WHEN ean_numtyp = '' THEN NULL ELSE ean_numtyp END AS ean_numtyp,\n",
    "            gross_wt,\n",
    "            height,\n",
    "            len,\n",
    "            numerator,\n",
    "            CASE WHEN unit = '' THEN NULL ELSE unit END AS unit,\n",
    "            CASE WHEN unit_dim = '' THEN NULL ELSE unit_dim END AS unit_dim,\n",
    "            CASE WHEN unit_of_wt = '' THEN NULL ELSE unit_of_wt END AS unit_of_wt,\n",
    "            volume,\n",
    "            CASE WHEN volumeunit = '' THEN NULL ELSE volumeunit END AS volumeunit,\n",
    "            width,\n",
    "            proc_date,\n",
    "            file_creation_ts\n",
    "        FROM temp_sap_pmat_unit \n",
    "        ) a\n",
    "    ) a WHERE rn = 1\n",
    "),\n",
    "main AS (\n",
    "    SELECT \n",
    "        farm_fingerprint(\n",
    "            CONCAT(\n",
    "                    IFNULL(CAST(material AS STRING), \"\"), \n",
    "                    IFNULL(CAST(mat_unit AS STRING), \"\"), \n",
    "                    IFNULL(CASE WHEN CAST(denomintr AS DOUBLE) = CAST(CAST(denomintr AS DOUBLE) AS BIGINT) THEN CAST(CAST(denomintr AS BIGINT) AS STRING) ELSE TRIM(TRAILING '0' FROM(CAST(denomintr AS DECIMAL(38,10)))) END, \"\"),\n",
    "                    IFNULL(CAST(eanupc AS STRING), \"\"), \n",
    "                    IFNULL(CAST(ean_numtyp AS STRING), \"\"), \n",
    "                    IFNULL(CASE WHEN CAST(gross_wt AS DOUBLE) = CAST(CAST(gross_wt AS DOUBLE) AS BIGINT) THEN CAST(CAST(gross_wt AS BIGINT) AS STRING) ELSE TRIM(TRAILING '0' FROM(CAST(gross_wt AS DECIMAL(38,10)))) END, \"\"),\n",
    "                    IFNULL(CASE WHEN CAST(height AS DOUBLE) = CAST(CAST(height AS DOUBLE) AS BIGINT) THEN CAST(CAST(height AS BIGINT) AS STRING) ELSE TRIM(TRAILING '0' FROM(CAST(height AS DECIMAL(38,10)))) END, \"\"),\n",
    "                    IFNULL(CASE WHEN CAST(len AS DOUBLE) = CAST(CAST(len AS DOUBLE) AS BIGINT) THEN CAST(CAST(len AS BIGINT) AS STRING) ELSE TRIM(TRAILING '0' FROM(CAST(len AS DECIMAL(38,10)))) END, \"\"),\n",
    "                    IFNULL(CASE WHEN CAST(numerator AS DOUBLE) = CAST(CAST(numerator AS DOUBLE) AS BIGINT) THEN CAST(CAST(numerator AS BIGINT) AS STRING) ELSE TRIM(TRAILING '0' FROM(CAST(numerator AS DECIMAL(38,10)))) END, \"\"),\n",
    "                    IFNULL(CAST(unit AS STRING), \"\"), \n",
    "                    IFNULL(CAST(unit_dim AS STRING), \"\"), \n",
    "                    IFNULL(CAST(unit_of_wt AS STRING), \"\"), \n",
    "                    IFNULL(CASE WHEN CAST(volume AS DOUBLE) = CAST(CAST(volume AS DOUBLE) AS BIGINT) THEN CAST(CAST(volume AS BIGINT) AS STRING) ELSE TRIM(TRAILING '0' FROM(CAST(volume AS DECIMAL(38,10)))) END, \"\"),\n",
    "                    IFNULL(CAST(volumeunit AS STRING), \"\"), \n",
    "                    IFNULL(CASE WHEN CAST(width AS DOUBLE) = CAST(CAST(width AS DOUBLE) AS BIGINT) THEN CAST(CAST(width AS BIGINT) AS STRING) ELSE TRIM(TRAILING '0' FROM(CAST(width AS DECIMAL(38,10)))) END, \"\")\n",
    "            )\n",
    "        ) hash_id,\n",
    "        *, DATE(proc_date) start_date \n",
    "    FROM temp\n",
    "),\n",
    "main_2 AS (\n",
    "    SELECT *, \n",
    "        LAG(hash_id) OVER (PARTITION BY material, mat_unit ORDER BY proc_date) hash_id_prev \n",
    "    FROM main\n",
    "),\n",
    "main_3 AS (\n",
    "    SELECT * EXCEPT(hash_id_prev) \n",
    "    FROM main_2 \n",
    "    WHERE (hash_id != hash_id_prev OR hash_id_prev IS NULL)\n",
    "),\n",
    "main_4 AS (\n",
    "    SELECT *, \n",
    "        LEAD(DATE(proc_date)) OVER (PARTITION BY material, mat_unit ORDER BY proc_date) end_date \n",
    "    FROM main_3\n",
    ")\n",
    "SELECT \n",
    "* EXCEPT(end_date), \n",
    "    IFNULL(DATE_ADD(end_date, -1), '2400-01-01') end_date \n",
    "FROM main_4;\n",
    "\"\"\")"
   ]
  },
  {
   "cell_type": "code",
   "execution_count": 0,
   "metadata": {
    "application/vnd.databricks.v1+cell": {
     "cellMetadata": {
      "byteLimit": 2048000,
      "rowLimit": 10000
     },
     "inputWidgets": {},
     "nuid": "0b41582f-81e9-466f-a50e-9c33cce3e581",
     "showTitle": false,
     "tableResultSettingsMap": {},
     "title": ""
    }
   },
   "outputs": [],
   "source": [
    "spark.sql(f\"\"\" MERGE INTO {catalog_name}.udp_wcm_silver_sap_bw.sap_pmat_unit inf_tbl\n",
    "USING (\n",
    "    SELECT material, mat_unit, hash_id, start_date FROM sap_pmat_unit\n",
    "        WHERE end_date = '2400-01-01' \n",
    ") tmp_tbl\n",
    "ON inf_tbl.material = tmp_tbl.material AND inf_tbl.mat_unit = tmp_tbl.mat_unit AND inf_tbl.hash_id != tmp_tbl.hash_id AND inf_tbl.end_date = '2400-01-01'\n",
    "WHEN MATCHED THEN UPDATE SET inf_tbl.end_date = DATE_ADD(tmp_tbl.start_date, -1);\n",
    "\"\"\")"
   ]
  },
  {
   "cell_type": "code",
   "execution_count": 0,
   "metadata": {
    "application/vnd.databricks.v1+cell": {
     "cellMetadata": {
      "byteLimit": 2048000,
      "rowLimit": 10000
     },
     "inputWidgets": {},
     "nuid": "ec7e46dd-5cdb-4317-bade-c9f6834ece30",
     "showTitle": false,
     "tableResultSettingsMap": {},
     "title": ""
    }
   },
   "outputs": [],
   "source": [
    "spark.sql(f\"\"\" MERGE INTO {catalog_name}.udp_wcm_silver_sap_bw.sap_pmat_unit inf_tbl\n",
    "USING sap_pmat_unit tmp_tbl\n",
    "ON inf_tbl.hash_id = tmp_tbl.hash_id AND inf_tbl.end_date = '2400-01-01'\n",
    "WHEN NOT MATCHED THEN INSERT *;\n",
    "\"\"\")"
   ]
  }
 ],
 "metadata": {
  "application/vnd.databricks.v1+notebook": {
   "computePreferences": null,
   "dashboards": [],
   "environmentMetadata": {
    "base_environment": "",
    "environment_version": "2"
   },
   "inputWidgetPreferences": null,
   "language": "python",
   "notebookMetadata": {
    "mostRecentlyExecutedCommandWithImplicitDF": {
     "commandId": 8416419470663300,
     "dataframes": [
      "_sqldf"
     ]
    },
    "pythonIndentUnit": 4
   },
   "notebookName": "sap_pmat_unit",
   "widgets": {
    "environment": {
     "currentValue": "DEV",
     "nuid": "a84db9fa-0dae-4f80-ac8d-20a1cd7962a8",
     "typedWidgetInfo": {
      "autoCreated": false,
      "defaultValue": "",
      "label": "",
      "name": "environment",
      "options": {
       "widgetDisplayType": "Text",
       "validationRegex": null
      },
      "parameterDataType": "String"
     },
     "widgetInfo": {
      "widgetType": "text",
      "defaultValue": "",
      "label": "",
      "name": "environment",
      "options": {
       "widgetType": "text",
       "autoCreated": null,
       "validationRegex": null
      }
     }
    },
    "proc_date": {
     "currentValue": "2025-07-15",
     "nuid": "138ef82f-bbc6-4e1f-a8d0-622fdb693d26",
     "typedWidgetInfo": {
      "autoCreated": false,
      "defaultValue": "",
      "label": null,
      "name": "proc_date",
      "options": {
       "widgetDisplayType": "Text",
       "validationRegex": null
      },
      "parameterDataType": "String"
     },
     "widgetInfo": {
      "widgetType": "text",
      "defaultValue": "",
      "label": null,
      "name": "proc_date",
      "options": {
       "widgetType": "text",
       "autoCreated": null,
       "validationRegex": null
      }
     }
    }
   }
  },
  "language_info": {
   "name": "python"
  }
 },
 "nbformat": 4,
 "nbformat_minor": 0
}
