{
 "cells": [
  {
   "cell_type": "code",
   "execution_count": 0,
   "metadata": {
    "application/vnd.databricks.v1+cell": {
     "cellMetadata": {
      "byteLimit": 2048000,
      "rowLimit": 10000
     },
     "inputWidgets": {},
     "nuid": "63103a46-1099-4596-82d1-91b98917329a",
     "showTitle": false,
     "tableResultSettingsMap": {},
     "title": ""
    }
   },
   "outputs": [],
   "source": [
    "dbutils.widgets.text(\"proc_date\", \"\")\n",
    "proc_date = dbutils.widgets.get(\"proc_date\")"
   ]
  },
  {
   "cell_type": "code",
   "execution_count": 0,
   "metadata": {
    "application/vnd.databricks.v1+cell": {
     "cellMetadata": {
      "byteLimit": 2048000,
      "rowLimit": 10000
     },
     "inputWidgets": {},
     "nuid": "de3692e9-3b38-4e01-bbe7-993701458361",
     "showTitle": false,
     "tableResultSettingsMap": {},
     "title": ""
    }
   },
   "outputs": [],
   "source": [
    "%run ../../../utils/common"
   ]
  },
  {
   "cell_type": "code",
   "execution_count": 0,
   "metadata": {
    "application/vnd.databricks.v1+cell": {
     "cellMetadata": {
      "byteLimit": 2048000,
      "rowLimit": 10000
     },
     "inputWidgets": {},
     "nuid": "a18397fb-35a6-483c-a394-b917fcce9e6c",
     "showTitle": false,
     "tableResultSettingsMap": {},
     "title": ""
    }
   },
   "outputs": [],
   "source": [
    "dbutils.widgets.text(\"environment\", \"\", \"\")\n",
    "environment = dbutils.widgets.get(\"environment\")"
   ]
  },
  {
   "cell_type": "code",
   "execution_count": 0,
   "metadata": {
    "application/vnd.databricks.v1+cell": {
     "cellMetadata": {
      "byteLimit": 2048000,
      "rowLimit": 10000
     },
     "inputWidgets": {},
     "nuid": "8e7f44dc-a572-42f4-902d-0c012533417b",
     "showTitle": false,
     "tableResultSettingsMap": {},
     "title": ""
    }
   },
   "outputs": [],
   "source": [
    "catalog_name = settings[environment]['catalog_name']"
   ]
  },
  {
   "cell_type": "code",
   "execution_count": 0,
   "metadata": {
    "application/vnd.databricks.v1+cell": {
     "cellMetadata": {
      "byteLimit": 2048000,
      "rowLimit": 10000
     },
     "inputWidgets": {},
     "nuid": "26e85e83-490c-4573-9fed-c5c131dfe24e",
     "showTitle": false,
     "tableResultSettingsMap": {},
     "title": ""
    }
   },
   "outputs": [],
   "source": [
    "create_temp_view_with_clean_columns(\n",
    "    spark,\n",
    "    catalog_name,\n",
    "    'udp_wcm_bronze_sap_bw',\n",
    "    'sap_bw_wcm_0material',\n",
    "    proc_date,\n",
    "    'temp_sap_0material'\n",
    ")"
   ]
  },
  {
   "cell_type": "code",
   "execution_count": 0,
   "metadata": {
    "application/vnd.databricks.v1+cell": {
     "cellMetadata": {
      "byteLimit": 2048000,
      "rowLimit": 10000
     },
     "inputWidgets": {},
     "nuid": "23103017-8351-458d-a971-6312aceb9c6d",
     "showTitle": false,
     "tableResultSettingsMap": {},
     "title": ""
    }
   },
   "outputs": [],
   "source": [
    "spark.sql(f\"\"\"CREATE TABLE IF NOT EXISTS {catalog_name}.udp_wcm_silver_sap_bw.sap_0material \n",
    "(\n",
    "  hash_id BIGINT,\n",
    "  material STRING,\n",
    "  base_uom STRING,\n",
    "  basic_matl STRING,\n",
    "  createdon DATE,\n",
    "  division STRING,\n",
    "  eanupc STRING,\n",
    "  extmatlgrp STRING,\n",
    "  gross_cont DOUBLE,\n",
    "  gross_wt DOUBLE,\n",
    "  height DOUBLE,\n",
    "  ind_sector STRING,\n",
    "  lenght DOUBLE,\n",
    "  manufactor STRING,\n",
    "  manu_matnr STRING,\n",
    "  matl_cat STRING,\n",
    "  matl_group STRING,\n",
    "  matl_type STRING,\n",
    "  net_cont DOUBLE,\n",
    "  net_weight DOUBLE,\n",
    "  po_unit STRING,\n",
    "  rpa_wgh1 STRING,\n",
    "  rpa_wgh2 STRING,\n",
    "  rpa_wgh3 STRING,\n",
    "  rpa_wgh4 STRING,\n",
    "  rt_sups STRING,\n",
    "  size_dim STRING,\n",
    "  std_descr STRING,\n",
    "  unit_dim STRING,\n",
    "  unit_of_wt STRING,\n",
    "  vendor STRING,\n",
    "  volume DOUBLE,\n",
    "  volumeunit STRING,\n",
    "  width DOUBLE,\n",
    "  _bic_zc_mchlv1 STRING,\n",
    "  _bic_zc_mchlv2 STRING,\n",
    "  _bic_zc_mchlv3 STRING,\n",
    "  _bic_zc_mchlv4 STRING,\n",
    "  _bic_zc_mchlv5 STRING,\n",
    "  _bic_zc_brand STRING,\n",
    "  _bic_zc_model STRING,\n",
    "  _bic_zc_attrs STRING,\n",
    "  _bic_zc_attr2 STRING,\n",
    "  _bic_zc_size STRING,\n",
    "  _bic_zc_color STRING,\n",
    "  _bic_zc_attr1 STRING,\n",
    "  _bic_zc_eligbl STRING,\n",
    "  _bic_zc_warnty STRING,\n",
    "  val_class STRING,\n",
    "  _bic_zprtupqty DOUBLE,\n",
    "  _bic_zc_manftr STRING,\n",
    "  _bic_zc_subman STRING,\n",
    "  abckey STRING,\n",
    "  createdby STRING,\n",
    "  aedat DATE,\n",
    "  changedby STRING,\n",
    "  name STRING,\n",
    "  _bic_zc_cvmp1 STRING,\n",
    "  _bic_zc_cvmp2 STRING,\n",
    "  _bic_zc_cvmp3 STRING,\n",
    "  _bic_zc_tempre STRING,\n",
    "  _bic_zc_pla001 STRING,\n",
    "  _bic_zc_attr3 STRING,\n",
    "  _bic_zc_attr4 STRING,\n",
    "  _bic_zc_origin STRING,\n",
    "  _bic_zc_artsts STRING,\n",
    "  wm_coo STRING,\n",
    "  _bic_zc_subbrd STRING,\n",
    "  _bic_zc_shllif DOUBLE,\n",
    "  _bic_zc_attr5 STRING,\n",
    "  _bic_zc_attr12 STRING,\n",
    "  _bic_zc_mstde STRING,\n",
    "  proc_date DATE,\n",
    "  start_date DATE,\n",
    "  end_date DATE,\n",
    "  _bic_zc_attr11 STRING,\n",
    "  file_creation_ts TIMESTAMP\n",
    ")\n",
    "TBLPROPERTIES (\n",
    "  'DELTA.AUTOOPTIMIZE.OPTIMIZEWRITE' = 'true',\n",
    "  'DELTA.AUTOOPTIMIZE.AUTOCOMPACT' = 'true'\n",
    ")\n",
    "\"\"\")"
   ]
  },
  {
   "cell_type": "code",
   "execution_count": 0,
   "metadata": {
    "application/vnd.databricks.v1+cell": {
     "cellMetadata": {
      "byteLimit": 2048000,
      "rowLimit": 10000
     },
     "inputWidgets": {},
     "nuid": "47b3ab95-630c-4871-a0ae-fe9aa95e6f4a",
     "showTitle": false,
     "tableResultSettingsMap": {},
     "title": ""
    }
   },
   "outputs": [],
   "source": [
    "spark.sql(f\"\"\"CREATE OR REPLACE TEMP VIEW sap_0material\n",
    "    AS\n",
    "    WITH temp AS (\n",
    "    SELECT * EXCEPT(rn) FROM (\n",
    "        SELECT *, ROW_NUMBER() OVER (PARTITION BY material,DATE(proc_date) ORDER BY proc_date) rn FROM (\n",
    "            SELECT \n",
    "                LTRIM('0',material) material,\n",
    "                IF (base_uom = '', NULL, base_uom ) AS base_uom,\n",
    "                IF (basic_matl = '', NULL, basic_matl ) AS basic_matl,\n",
    "                TO_DATE(IF(createdon = '00000000','20160101', createdon) , 'yyyyMMdd') AS createdon,\n",
    "                IF (division = '', NULL, division ) AS division,\n",
    "                IF (eanupc = '', NULL, eanupc ) AS eanupc,\n",
    "                IF (extmatlgrp = '', NULL, extmatlgrp ) AS extmatlgrp,\n",
    "                CAST(gross_cont AS FLOAT) gross_cont,\n",
    "                gross_wt,\n",
    "                height,\n",
    "                IF (ind_sector = '', NULL, ind_sector ) AS ind_sector,\n",
    "                lenght,\n",
    "                IF (manufactor = '', NULL, manufactor ) AS manufactor,\n",
    "                IF (manu_matnr = '', NULL, manu_matnr ) AS manu_matnr,\n",
    "                IF (matl_cat = '', NULL, matl_cat ) AS matl_cat,\n",
    "                IF (matl_group = '', NULL, matl_group ) AS matl_group,\n",
    "                IF (matl_type = '', NULL, matl_type ) AS matl_type,\n",
    "                net_cont,\n",
    "                net_weight,\n",
    "                IF (po_unit = '', NULL, po_unit ) AS po_unit,\n",
    "                IF (rpa_wgh1 = '', NULL, rpa_wgh1 ) AS rpa_wgh1,\n",
    "                IF (rpa_wgh2 = '', NULL, rpa_wgh2 ) AS rpa_wgh2,\n",
    "                IF (rpa_wgh3 = '', NULL, rpa_wgh3 ) AS rpa_wgh3,\n",
    "                IF (rpa_wgh4 = '', NULL, rpa_wgh4 ) AS rpa_wgh4,\n",
    "                IF (rt_sups = '', NULL, rt_sups ) AS rt_sups,\n",
    "                IF (size_dim = '', NULL, size_dim ) AS size_dim,\n",
    "                IF (std_descr = '', NULL, std_descr ) AS std_descr,\n",
    "                IF (unit_dim = '', NULL, unit_dim ) AS unit_dim,\n",
    "                IF (unit_of_wt = '', NULL, unit_of_wt ) AS unit_of_wt,\n",
    "                IF (vendor = '', NULL, vendor ) AS vendor,\n",
    "                volume,\n",
    "                IF (volumeunit = '', NULL, volumeunit ) AS volumeunit,\n",
    "                width,\n",
    "                IF (_bic_zc_mchlv1 = '', NULL, _bic_zc_mchlv1 ) AS _bic_zc_mchlv1,\n",
    "                IF (_bic_zc_mchlv2 = '', NULL, _bic_zc_mchlv2 ) AS _bic_zc_mchlv2,\n",
    "                IF (_bic_zc_mchlv3 = '', NULL, _bic_zc_mchlv3 ) AS _bic_zc_mchlv3,\n",
    "                IF (_bic_zc_mchlv4 = '', NULL, _bic_zc_mchlv4 ) AS _bic_zc_mchlv4,\n",
    "                IF (_bic_zc_mchlv5 = '', NULL, _bic_zc_mchlv5 ) AS _bic_zc_mchlv5,\n",
    "                IF (_bic_zc_brand = '', NULL, LTRIM('0',_bic_zc_brand) ) AS _bic_zc_brand,\n",
    "                IF (_bic_zc_model = '', NULL, LTRIM('0',_bic_zc_model) ) AS _bic_zc_model,\n",
    "                IF (_bic_zc_attrs = '', NULL, _bic_zc_attrs ) AS _bic_zc_attrs,\n",
    "                IF (_bic_zc_attr2 = '', NULL, LTRIM('0',_bic_zc_attr2) ) AS _bic_zc_attr2,\n",
    "                IF (_bic_zc_size = '', NULL, LTRIM('0',_bic_zc_size) ) AS _bic_zc_size,\n",
    "                IF (_bic_zc_color = '', NULL, _bic_zc_color ) AS _bic_zc_color,\n",
    "                IF (_bic_zc_attr1 = '', NULL, _bic_zc_attr1 ) AS _bic_zc_attr1,\n",
    "                IF (_bic_zc_eligbl = '', NULL, _bic_zc_eligbl ) AS _bic_zc_eligbl,\n",
    "                IF (_bic_zc_warnty = '', NULL, _bic_zc_warnty ) AS _bic_zc_warnty,\n",
    "                IF (val_class = '', NULL, val_class ) AS val_class,\n",
    "                _bic_zprtupqty,\n",
    "                IF (_bic_zc_manftr = '', NULL, LTRIM('0',_bic_zc_manftr) ) AS _bic_zc_manftr,\n",
    "                IF (_bic_zc_subman = '', NULL, LTRIM('0',_bic_zc_subman) ) AS _bic_zc_subman,\n",
    "                IF (abckey = '', NULL, abckey ) AS abckey,\n",
    "                IF (createdby = '', NULL, createdby ) AS createdby,\n",
    "                TO_DATE(IF (aedat = '00000000', '20160101', aedat ), 'yyyyMMdd') AS aedat,\n",
    "                IF (changedby = '', NULL, changedby ) AS changedby,\n",
    "                IF (name = '', NULL, name ) AS name,\n",
    "                IF (_bic_zc_cvmp1 = '', NULL, _bic_zc_cvmp1 ) AS _bic_zc_cvmp1,\n",
    "                IF (_bic_zc_cvmp2 = '', NULL, _bic_zc_cvmp2 ) AS _bic_zc_cvmp2,\n",
    "                IF (_bic_zc_cvmp3 = '', NULL, _bic_zc_cvmp3 ) AS _bic_zc_cvmp3,\n",
    "                IF (_bic_zc_tempre = '', NULL, _bic_zc_tempre ) AS _bic_zc_tempre,\n",
    "                IF (_bic_zc_pla001 = '', NULL, _bic_zc_pla001 ) AS _bic_zc_pla001,\n",
    "                IF (_bic_zc_attr3 = '', NULL, LTRIM('0',_bic_zc_attr3) ) AS _bic_zc_attr3,\n",
    "                IF (_bic_zc_attr4 = '', NULL, LTRIM('0',_bic_zc_attr4) ) AS _bic_zc_attr4,\n",
    "                IF (_bic_zc_origin = '', NULL, _bic_zc_origin ) AS _bic_zc_origin,\n",
    "                IF (_bic_zc_artsts = '', NULL, _bic_zc_artsts ) AS _bic_zc_artsts,\n",
    "                IF (wm_coo = '', NULL, wm_coo ) AS wm_coo,\n",
    "                IF (_bic_zc_subbrd = '', NULL, LTRIM('0',_bic_zc_subbrd) ) AS _bic_zc_subbrd,\n",
    "                _bic_zc_shllif,\n",
    "                IF (_bic_zc_attr5 = '', NULL, LTRIM('0',_bic_zc_attr5) ) AS _bic_zc_attr5,\n",
    "                IF (_bic_zc_attr5 = '', NULL, LTRIM('0',_bic_zc_attr12) ) AS _bic_zc_attr12,\n",
    "                IF (_bic_zc_mstde = '', NULL, _bic_zc_mstde ) AS _bic_zc_mstde,\n",
    "                IF (_bic_zc_attr11 = '', NULL, LTRIM('0',_bic_zc_attr11) ) AS _bic_zc_attr11,\n",
    "                proc_date,\n",
    "                file_creation_ts\n",
    "                    FROM temp_sap_0material\n",
    "                    WHERE material LIKE '%0000000000%' \n",
    "            ) a\n",
    "    ) a WHERE rn = 1\n",
    "    ),\n",
    "    main AS (\n",
    "    SELECT farm_fingerprint(CONCAT(\n",
    "                        IFNULL(CAST(material AS STRING), \"\"), \n",
    "                        IFNULL(CAST(base_uom AS STRING), \"\"), \n",
    "                        IFNULL(CAST(basic_matl AS STRING), \"\"), \n",
    "                        IFNULL(CAST(createdon AS STRING), \"\"), \n",
    "                        IFNULL(CAST(division AS STRING), \"\"), \n",
    "                        IFNULL(CAST(eanupc AS STRING), \"\"), \n",
    "                        IFNULL(CAST(extmatlgrp AS STRING), \"\"), \n",
    "                        IFNULL(CASE WHEN CAST(gross_cont AS DOUBLE) = CAST(CAST(gross_cont AS DOUBLE) AS BIGINT) THEN CAST(CAST(gross_cont AS BIGINT) AS STRING) ELSE TRIM(TRAILING '0' FROM(CAST(gross_cont AS DECIMAL(38,10)))) END, \"\"),\n",
    "                        IFNULL(CASE WHEN CAST(gross_wt AS DOUBLE) = CAST(CAST(gross_wt AS DOUBLE) AS BIGINT) THEN CAST(CAST(gross_wt AS BIGINT) AS STRING) ELSE TRIM(TRAILING '0' FROM(CAST(gross_wt AS DECIMAL(38,10)))) END, \"\"),\n",
    "                        IFNULL(CASE WHEN CAST(height AS DOUBLE) = CAST(CAST(height AS DOUBLE) AS BIGINT) THEN CAST(CAST(height AS BIGINT) AS STRING) ELSE TRIM(TRAILING '0' FROM(CAST(height AS DECIMAL(38,10)))) END, \"\"),\n",
    "                        IFNULL(CAST(ind_sector AS STRING), \"\"), \n",
    "                        IFNULL(CASE WHEN CAST(lenght AS DOUBLE) = CAST(CAST(lenght AS DOUBLE) AS BIGINT) THEN CAST(CAST(lenght AS BIGINT) AS STRING) ELSE TRIM(TRAILING '0' FROM(CAST(lenght AS DECIMAL(38,10)))) END, \"\"),\n",
    "                        IFNULL(CAST(manufactor AS STRING), \"\"), \n",
    "                        IFNULL(CAST(manu_matnr AS STRING), \"\"), \n",
    "                        IFNULL(CAST(matl_cat AS STRING), \"\"), \n",
    "                        IFNULL(CAST(matl_group AS STRING), \"\"), \n",
    "                        IFNULL(CAST(matl_type AS STRING), \"\"), \n",
    "                        IFNULL(CASE WHEN CAST(net_cont AS DOUBLE) = CAST(CAST(net_cont AS DOUBLE) AS BIGINT) THEN CAST(CAST(net_cont AS BIGINT) AS STRING) ELSE TRIM(TRAILING '0' FROM(CAST(net_cont AS DECIMAL(38,10)))) END, \"\"),\n",
    "                         IFNULL(CASE WHEN CAST(net_weight AS DOUBLE) = CAST(CAST(net_weight AS DOUBLE) AS BIGINT) THEN CAST(CAST(net_weight AS BIGINT) AS STRING) ELSE TRIM(TRAILING '0' FROM(CAST(net_weight AS DECIMAL(38,10)))) END, \"\"),\n",
    "                        IFNULL(CAST(po_unit AS STRING), \"\"), \n",
    "                        IFNULL(CAST(rpa_wgh1 AS STRING), \"\"), \n",
    "                        IFNULL(CAST(rpa_wgh2 AS STRING), \"\"), \n",
    "                        IFNULL(CAST(rpa_wgh3 AS STRING), \"\"), \n",
    "                        IFNULL(CAST(rpa_wgh4 AS STRING), \"\"), \n",
    "                        IFNULL(CAST(rt_sups AS STRING), \"\"), \n",
    "                        IFNULL(CAST(size_dim AS STRING), \"\"), \n",
    "                        IFNULL(CAST(std_descr AS STRING), \"\"), \n",
    "                        IFNULL(CAST(unit_dim AS STRING), \"\"), \n",
    "                        IFNULL(CAST(unit_of_wt AS STRING), \"\"), \n",
    "                        IFNULL(CAST(vendor AS STRING), \"\"), \n",
    "                        IFNULL(CASE WHEN CAST(volume AS DOUBLE) = CAST(CAST(volume AS DOUBLE) AS BIGINT) THEN CAST(CAST(volume AS BIGINT) AS STRING) ELSE TRIM(TRAILING '0' FROM(CAST(volume AS DECIMAL(38,10)))) END, \"\"),\n",
    "                        IFNULL(CAST(volumeunit AS STRING), \"\"), \n",
    "                        IFNULL(CASE WHEN CAST(width AS DOUBLE) = CAST(CAST(width AS DOUBLE) AS BIGINT) THEN CAST(CAST(width AS BIGINT) AS STRING) ELSE TRIM(TRAILING '0' FROM(CAST(width AS DECIMAL(38,10)))) END, \"\"),\n",
    "                        IFNULL(CAST(_bic_zc_mchlv1 AS STRING), \"\"), \n",
    "                        IFNULL(CAST(_bic_zc_mchlv2 AS STRING), \"\"), \n",
    "                        IFNULL(CAST(_bic_zc_mchlv3 AS STRING), \"\"), \n",
    "                        IFNULL(CAST(_bic_zc_mchlv4 AS STRING), \"\"), \n",
    "                        IFNULL(CAST(_bic_zc_mchlv5 AS STRING), \"\"), \n",
    "                        IFNULL(CAST(_bic_zc_brand AS STRING), \"\"), \n",
    "                        IFNULL(CAST(_bic_zc_model AS STRING), \"\"), \n",
    "                        IFNULL(CAST(_bic_zc_attrs AS STRING), \"\"), \n",
    "                        IFNULL(CAST(_bic_zc_attr2 AS STRING), \"\"), \n",
    "                        IFNULL(CAST(_bic_zc_size AS STRING), \"\"), \n",
    "                        IFNULL(CAST(_bic_zc_color AS STRING), \"\"), \n",
    "                        IFNULL(CAST(_bic_zc_attr1 AS STRING), \"\"), \n",
    "                        IFNULL(CAST(_bic_zc_eligbl AS STRING), \"\"), \n",
    "                        IFNULL(CAST(_bic_zc_warnty AS STRING), \"\"), \n",
    "                        IFNULL(CAST(val_class AS STRING), \"\"), \n",
    "                        IFNULL(CASE WHEN CAST(_bic_zprtupqty AS DOUBLE) = CAST(CAST(_bic_zprtupqty AS DOUBLE) AS BIGINT) THEN CAST(CAST(_bic_zprtupqty AS BIGINT) AS STRING) ELSE TRIM(TRAILING '0' FROM(CAST(_bic_zprtupqty AS DECIMAL(38,10)))) END, \"\"),\n",
    "                        IFNULL(CAST(_bic_zc_manftr AS STRING), \"\"), \n",
    "                        IFNULL(CAST(_bic_zc_subman AS STRING), \"\"), \n",
    "                        IFNULL(CAST(abckey AS STRING), \"\"), \n",
    "                        IFNULL(CAST(createdby AS STRING), \"\"), \n",
    "                        IFNULL(CAST(aedat AS STRING), \"\"), \n",
    "                        IFNULL(CAST(changedby AS STRING), \"\"), \n",
    "                        IFNULL(CAST(name AS STRING), \"\"), \n",
    "                        IFNULL(CAST(_bic_zc_cvmp1 AS STRING), \"\"), \n",
    "                        IFNULL(CAST(_bic_zc_cvmp2 AS STRING), \"\"), \n",
    "                        IFNULL(CAST(_bic_zc_cvmp3 AS STRING), \"\"), \n",
    "                        IFNULL(CAST(_bic_zc_tempre AS STRING), \"\"), \n",
    "                        IFNULL(CAST(_bic_zc_pla001 AS STRING), \"\"), \n",
    "                        IFNULL(CAST(_bic_zc_attr3 AS STRING), \"\"), \n",
    "                        IFNULL(CAST(_bic_zc_attr4 AS STRING), \"\"), \n",
    "                        IFNULL(CAST(_bic_zc_origin AS STRING), \"\"), \n",
    "                        IFNULL(CAST(_bic_zc_artsts AS STRING), \"\"), \n",
    "                        IFNULL(CAST(wm_coo AS STRING), \"\"), \n",
    "                        IFNULL(CAST(_bic_zc_subbrd AS STRING), \"\"), \n",
    "                        IFNULL(CASE WHEN CAST(_bic_zc_shllif AS DOUBLE) = CAST(CAST(_bic_zc_shllif AS DOUBLE) AS BIGINT) THEN CAST(CAST(_bic_zc_shllif AS BIGINT) AS STRING) ELSE TRIM(TRAILING '0' FROM(CAST(_bic_zc_shllif AS DECIMAL(38,10)))) END, \"\"),\n",
    "                        IFNULL(CAST(_bic_zc_attr5 AS STRING), \"\"), \n",
    "                        IFNULL(CAST(_bic_zc_attr12 AS STRING), \"\"), \n",
    "                        IFNULL(CAST(_bic_zc_mstde AS STRING), \"\")\n",
    "            )) hash_id,*, DATE(proc_date) start_date FROM temp\n",
    "    ),\n",
    "    main_2 AS (\n",
    "        SELECT * \n",
    "        , LAG(hash_id,1) OVER (PARTITION BY material ORDER BY proc_date) hash_id_prev \n",
    "            FROM main\n",
    "    ),\n",
    "    main_3 AS (\n",
    "        SELECT * EXCEPT(hash_id_prev) FROM main_2 WHERE (hash_id != hash_id_prev OR hash_id_prev IS NULL)\n",
    "    ),\n",
    "    main_4 AS (\n",
    "        SELECT *, LEAD(DATE(proc_date)) OVER (PARTITION BY material ORDER BY proc_date ASC) end_date FROM main_3\n",
    "    )\n",
    "    SELECT * EXCEPT(end_date, _bic_zc_attr11), IFNULL(DATE_ADD(end_date,-1), '2400-01-01') end_date, _bic_zc_attr11 FROM main_4; \"\"\")"
   ]
  },
  {
   "cell_type": "code",
   "execution_count": 0,
   "metadata": {
    "application/vnd.databricks.v1+cell": {
     "cellMetadata": {
      "byteLimit": 2048000,
      "rowLimit": 10000
     },
     "inputWidgets": {},
     "nuid": "2685c5a3-92b7-4f7c-95b4-512cb065a1ac",
     "showTitle": false,
     "tableResultSettingsMap": {},
     "title": ""
    }
   },
   "outputs": [],
   "source": [
    "spark.sql(f\"\"\"MERGE INTO {catalog_name}.udp_wcm_silver_sap_bw.sap_0material  inf_tbl\n",
    "    USING (\n",
    "        SELECT material, hash_id, start_date FROM sap_0material\n",
    "        WHERE end_date = '2400-01-01'\n",
    "    ) tmp_tbl\n",
    "    ON inf_tbl.material = tmp_tbl.material AND inf_tbl.hash_id != tmp_tbl.hash_id AND inf_tbl.end_date = '2400-01-01'\n",
    "    WHEN MATCHED THEN UPDATE SET inf_tbl.end_date = DATE_ADD(tmp_tbl.start_date,-1);\n",
    "    \"\"\")\n"
   ]
  },
  {
   "cell_type": "code",
   "execution_count": 0,
   "metadata": {
    "application/vnd.databricks.v1+cell": {
     "cellMetadata": {
      "byteLimit": 2048000,
      "rowLimit": 10000
     },
     "inputWidgets": {},
     "nuid": "b2ea4009-3abf-42c4-bf73-981f54966bda",
     "showTitle": false,
     "tableResultSettingsMap": {},
     "title": ""
    }
   },
   "outputs": [],
   "source": [
    "spark.sql(f\"\"\" MERGE INTO {catalog_name}.udp_wcm_silver_sap_bw.sap_0material  inf_tbl\n",
    "    USING sap_0material tmp_tbl\n",
    "    ON inf_tbl.hash_id = tmp_tbl.hash_id \n",
    "    AND inf_tbl.end_date = '2400-01-01'\n",
    "    WHEN NOT MATCHED THEN INSERT *;\n",
    "    \"\"\")"
   ]
  }
 ],
 "metadata": {
  "application/vnd.databricks.v1+notebook": {
   "computePreferences": null,
   "dashboards": [],
   "environmentMetadata": {
    "base_environment": "",
    "environment_version": "2"
   },
   "inputWidgetPreferences": null,
   "language": "python",
   "notebookMetadata": {
    "mostRecentlyExecutedCommandWithImplicitDF": {
     "commandId": 6350561386722218,
     "dataframes": [
      "_sqldf"
     ]
    },
    "pythonIndentUnit": 4
   },
   "notebookName": "sap_0material",
   "widgets": {
    "environment": {
     "currentValue": "DEV",
     "nuid": "dcdd8aa0-04b1-46a8-9353-f3d3af17593e",
     "typedWidgetInfo": {
      "autoCreated": false,
      "defaultValue": "",
      "label": "",
      "name": "environment",
      "options": {
       "widgetDisplayType": "Text",
       "validationRegex": null
      },
      "parameterDataType": "String"
     },
     "widgetInfo": {
      "widgetType": "text",
      "defaultValue": "",
      "label": "",
      "name": "environment",
      "options": {
       "widgetType": "text",
       "autoCreated": null,
       "validationRegex": null
      }
     }
    },
    "proc_date": {
     "currentValue": "2025-07-15",
     "nuid": "fac58c96-a090-496f-829c-e78e5cf26285",
     "typedWidgetInfo": {
      "autoCreated": false,
      "defaultValue": "",
      "label": null,
      "name": "proc_date",
      "options": {
       "widgetDisplayType": "Text",
       "validationRegex": null
      },
      "parameterDataType": "String"
     },
     "widgetInfo": {
      "widgetType": "text",
      "defaultValue": "",
      "label": null,
      "name": "proc_date",
      "options": {
       "widgetType": "text",
       "autoCreated": null,
       "validationRegex": null
      }
     }
    }
   }
  },
  "language_info": {
   "name": "python"
  }
 },
 "nbformat": 4,
 "nbformat_minor": 0
}
