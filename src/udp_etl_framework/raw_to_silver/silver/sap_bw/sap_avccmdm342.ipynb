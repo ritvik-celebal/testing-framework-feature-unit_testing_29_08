{
 "cells": [
  {
   "cell_type": "code",
   "execution_count": 0,
   "metadata": {
    "application/vnd.databricks.v1+cell": {
     "cellMetadata": {
      "byteLimit": 2048000,
      "rowLimit": 10000
     },
     "inputWidgets": {},
     "nuid": "309b97da-cb70-40ba-8423-074da7f1fcab",
     "showTitle": false,
     "tableResultSettingsMap": {},
     "title": ""
    }
   },
   "outputs": [],
   "source": [
    "dbutils.widgets.text(\"proc_date\", \"\")\n",
    "proc_date = dbutils.widgets.get(\"proc_date\")"
   ]
  },
  {
   "cell_type": "code",
   "execution_count": 0,
   "metadata": {
    "application/vnd.databricks.v1+cell": {
     "cellMetadata": {
      "byteLimit": 2048000,
      "rowLimit": 10000
     },
     "inputWidgets": {},
     "nuid": "9df6cbba-c407-4f23-a804-2266d0dcee9a",
     "showTitle": false,
     "tableResultSettingsMap": {},
     "title": ""
    }
   },
   "outputs": [],
   "source": [
    "%run ../../../utils/common"
   ]
  },
  {
   "cell_type": "code",
   "execution_count": 0,
   "metadata": {
    "application/vnd.databricks.v1+cell": {
     "cellMetadata": {
      "byteLimit": 2048000,
      "rowLimit": 10000
     },
     "inputWidgets": {},
     "nuid": "fadb22e0-8cc3-4ae9-b13f-c2daa19640f9",
     "showTitle": false,
     "tableResultSettingsMap": {},
     "title": ""
    }
   },
   "outputs": [],
   "source": [
    "dbutils.widgets.text(\"environment\", \"\", \"\")\n",
    "environment = dbutils.widgets.get(\"environment\")"
   ]
  },
  {
   "cell_type": "code",
   "execution_count": 0,
   "metadata": {
    "application/vnd.databricks.v1+cell": {
     "cellMetadata": {
      "byteLimit": 2048000,
      "rowLimit": 10000
     },
     "inputWidgets": {},
     "nuid": "6ef69041-97b8-42b1-a2f1-6b72a6daa817",
     "showTitle": false,
     "tableResultSettingsMap": {},
     "title": ""
    }
   },
   "outputs": [],
   "source": [
    "catalog_name = settings[environment]['catalog_name']"
   ]
  },
  {
   "cell_type": "code",
   "execution_count": 0,
   "metadata": {
    "application/vnd.databricks.v1+cell": {
     "cellMetadata": {},
     "inputWidgets": {},
     "nuid": "cf0dbbde-62d4-4aa0-a372-4b148461bc0a",
     "showTitle": false,
     "tableResultSettingsMap": {},
     "title": ""
    }
   },
   "outputs": [],
   "source": [
    "create_temp_view_with_clean_columns(\n",
    "    spark,\n",
    "    catalog_name,\n",
    "    'udp_wcm_bronze_sap_bw',\n",
    "    'sap_bw_wcm_avccmdm342',\n",
    "    proc_date,\n",
    "    'temp_sap_avccmdm342'\n",
    ")"
   ]
  },
  {
   "cell_type": "code",
   "execution_count": 0,
   "metadata": {
    "application/vnd.databricks.v1+cell": {
     "cellMetadata": {
      "byteLimit": 2048000,
      "rowLimit": 10000
     },
     "inputWidgets": {},
     "nuid": "4348858a-f5d5-432f-90cb-8eb75c4e7af8",
     "showTitle": false,
     "tableResultSettingsMap": {},
     "title": ""
    }
   },
   "outputs": [],
   "source": [
    "spark.sql(f\"\"\"\n",
    "CREATE TABLE IF NOT EXISTS {catalog_name}.udp_wcm_silver_sap_bw.sap_avccmdm342 (\n",
    "hash_id BIGINT,\n",
    "bbynr STRING,\n",
    "recordmode STRING,\n",
    "crdate DATE,\n",
    "crname STRING,\n",
    "chdate DATE,\n",
    "chname STRING,\n",
    "categ STRING,\n",
    "type STRING,\n",
    "point STRING,\n",
    "maxcount STRING,\n",
    "bprof STRING,\n",
    "datab DATE,\n",
    "datbi DATE,\n",
    "aktnr STRING,\n",
    "buycon STRING,\n",
    "getcon STRING,\n",
    "crappl STRING,\n",
    "crdocn STRING,\n",
    "status STRING,\n",
    "bbycurh STRING,\n",
    "offer_id STRING,\n",
    "newmain STRING,\n",
    "limitnr FLOAT,\n",
    "buy_prqval_min FLOAT,\n",
    "buy_prqcur STRING,\n",
    "synch_to_promo STRING,\n",
    "zzudtime STRING,\n",
    "proc_date DATE,\n",
    "start_date DATE,\n",
    "end_date DATE,\n",
    "file_creation_ts TIMESTAMP\n",
    ")\n",
    "TBLPROPERTIES (\n",
    "  'DELTA.AUTOOPTIMIZE.OPTIMIZEWRITE' = 'TRUE',\n",
    "  'DELTA.AUTOOPTIMIZE.AUTOCOMPACT' = 'TRUE'\n",
    ")\n",
    "\"\"\")"
   ]
  },
  {
   "cell_type": "code",
   "execution_count": 0,
   "metadata": {
    "application/vnd.databricks.v1+cell": {
     "cellMetadata": {
      "byteLimit": 2048000,
      "rowLimit": 10000
     },
     "inputWidgets": {},
     "nuid": "6f4cf593-5f57-43ae-a6c6-149b38fce518",
     "showTitle": false,
     "tableResultSettingsMap": {},
     "title": ""
    }
   },
   "outputs": [],
   "source": [
    "spark.sql(f\"\"\"\n",
    "CREATE OR REPLACE TEMP VIEW sap_avccmdm342 AS\n",
    "WITH temp AS (\n",
    "    SELECT * EXCEPT(rn) FROM (\n",
    "        SELECT *, ROW_NUMBER() OVER (PARTITION BY bbynr, DATE(proc_date) ORDER BY proc_date) rn from (\n",
    "        SELECT\n",
    "            IF(bbynr = '', NULL, LTRIM('0', bbynr)) AS bbynr,\n",
    "            IF(recordmode = '', NULL, recordmode) AS recordmode,\n",
    "            TO_DATE(IF(crdate IN ('', '00000000'), NULL, crdate), 'yyyyMMdd') AS crdate,\n",
    "            IF(crname = '', NULL, crname) AS crname,\n",
    "            TO_DATE(IF(chdate IN ('', '00000000'), NULL, chdate), 'yyyyMMdd') AS chdate,\n",
    "            IF(chname = '', NULL, chname) AS chname,\n",
    "            IF(categ = '', NULL, categ) AS categ,\n",
    "            IF(type = '', NULL, type) AS type,\n",
    "            IF(point = '', NULL, point) AS point,\n",
    "            IF(maxcount = '', NULL, maxcount) AS maxcount,\n",
    "            IF(bprof = '', NULL, bprof) AS bprof,\n",
    "            TO_DATE(IF(datab IN ('', '00000000'), NULL, datab), 'yyyyMMdd') AS datab,\n",
    "            TO_DATE(IF(datbi IN ('', '00000000'), NULL, datbi), 'yyyyMMdd') AS datbi,\n",
    "            IF(aktnr = '', NULL, aktnr) AS aktnr,\n",
    "            IF(buycon = '', NULL, buycon) AS buycon,\n",
    "            IF(getcon = '', NULL, getcon) AS getcon,\n",
    "            IF(crappl = '', NULL, crappl) AS crappl,\n",
    "            IF(crdocn = '', NULL, crdocn) AS crdocn,\n",
    "            IF(status = '', NULL, status) AS status,\n",
    "            IF(bbycurh = '', NULL, bbycurh) AS bbycurh,\n",
    "            IF(offer_id = '', NULL, offer_id) AS offer_id,\n",
    "            IF(newmain = '', NULL, newmain) AS newmain,\n",
    "            limitnr,\n",
    "            buy_prqval_min,\n",
    "            IF(buy_prqcur = '', NULL, buy_prqcur) AS buy_prqcur,\n",
    "            IF(synch_to_promo = '', NULL, synch_to_promo) AS synch_to_promo,\n",
    "            IF(zzudtime = '', NULL, zzudtime) AS zzudtime,\n",
    "            proc_date,\n",
    "            file_creation_ts\n",
    "        FROM temp_sap_avccmdm342\n",
    "        ) a\n",
    "    ) a WHERE rn = 1\n",
    "),\n",
    "main AS (\n",
    "    SELECT farm_fingerprint(CONCAT(\n",
    "        IFNULL(CAST(bbynr AS STRING), \"\"),\n",
    "        IFNULL(CAST(recordmode AS STRING), \"\"),\n",
    "        IFNULL(CAST(crdate AS STRING), \"\"),\n",
    "        IFNULL(CAST(crname AS STRING), \"\"),\n",
    "        IFNULL(CAST(chdate AS STRING), \"\"),\n",
    "        IFNULL(CAST(chname AS STRING), \"\"),\n",
    "        IFNULL(CAST(categ AS STRING), \"\"),\n",
    "        IFNULL(CAST(type AS STRING), \"\"),\n",
    "        IFNULL(CAST(point AS STRING), \"\"),\n",
    "        IFNULL(CAST(maxcount AS STRING), \"\"),\n",
    "        IFNULL(CAST(bprof AS STRING), \"\"),\n",
    "        IFNULL(CAST(datab AS STRING), \"\"),\n",
    "        IFNULL(CAST(datbi AS STRING), \"\"),\n",
    "        IFNULL(CAST(aktnr AS STRING), \"\"),\n",
    "        IFNULL(CAST(buycon AS STRING), \"\"),\n",
    "        IFNULL(CAST(getcon AS STRING), \"\"),\n",
    "        IFNULL(CAST(crappl AS STRING), \"\"),\n",
    "        IFNULL(CAST(crdocn AS STRING), \"\"),\n",
    "        IFNULL(CAST(status AS STRING), \"\"),\n",
    "        IFNULL(CAST(bbycurh AS STRING), \"\"),\n",
    "        IFNULL(CAST(offer_id AS STRING), \"\"),\n",
    "        IFNULL(CAST(newmain AS STRING), \"\"),\n",
    "        IFNULL(CASE WHEN CAST(limitnr AS DOUBLE) = CAST(CAST(limitnr AS DOUBLE) AS BIGINT) THEN CAST(CAST(limitnr AS BIGINT) AS STRING) ELSE TRIM(TRAILING '0' FROM(CAST(limitnr AS DECIMAL(38,10)))) END, \"\"),\n",
    "        IFNULL(CASE WHEN CAST(buy_prqval_min AS DOUBLE) = CAST(CAST(buy_prqval_min AS DOUBLE) AS BIGINT) THEN CAST(CAST(buy_prqval_min AS BIGINT) AS STRING) ELSE TRIM(TRAILING '0' FROM(CAST(buy_prqval_min AS DECIMAL(38,10)))) END, \"\"),\n",
    "        IFNULL(CAST(buy_prqcur AS STRING), \"\"),\n",
    "        IFNULL(CAST(synch_to_promo AS STRING), \"\"),\n",
    "        IFNULL(CAST(zzudtime AS STRING), \"\")\n",
    "    )) AS hash_id, *, DATE(proc_date) AS start_date\n",
    "    FROM temp\n",
    "),\n",
    "main_2 AS (\n",
    "    SELECT *, LAG(hash_id, 1) OVER (PARTITION BY bbynr ORDER BY proc_date) AS hash_id_prev \n",
    "    FROM main\n",
    "),\n",
    "main_3 AS (\n",
    "    SELECT * EXCEPT(hash_id_prev) \n",
    "    FROM main_2 \n",
    "    WHERE (hash_id != hash_id_prev OR hash_id_prev IS NULL)\n",
    "),\n",
    "main_4 AS (\n",
    "    SELECT *, LEAD(DATE(proc_date)) OVER (PARTITION BY bbynr ORDER BY proc_date ASC) AS end_date \n",
    "    FROM main_3\n",
    ")\n",
    "SELECT * EXCEPT(end_date), IFNULL(date_add(end_date, -1), '2400-01-01') AS end_date \n",
    "FROM main_4\n",
    "\"\"\")"
   ]
  },
  {
   "cell_type": "code",
   "execution_count": 0,
   "metadata": {
    "application/vnd.databricks.v1+cell": {
     "cellMetadata": {
      "byteLimit": 2048000,
      "rowLimit": 10000
     },
     "inputWidgets": {},
     "nuid": "d0c39196-d993-4ec5-84f8-e419c8cd77ca",
     "showTitle": false,
     "tableResultSettingsMap": {},
     "title": ""
    }
   },
   "outputs": [],
   "source": [
    "spark.sql(f\"\"\"\n",
    "MERGE INTO {catalog_name}.udp_wcm_silver_sap_bw.sap_avccmdm342 inf_tbl\n",
    "USING (\n",
    "    SELECT bbynr, hash_id, start_date FROM sap_avccmdm342\n",
    "        WHERE end_date = DATE '2400-01-01'\n",
    ") tmp_tbl\n",
    "ON inf_tbl.bbynr = tmp_tbl.bbynr AND inf_tbl.hash_id != tmp_tbl.hash_id AND inf_tbl.end_date = DATE '2400-01-01'\n",
    "WHEN MATCHED THEN UPDATE SET inf_tbl.end_date = DATE_ADD(tmp_tbl.start_date,-1)\n",
    "\"\"\")"
   ]
  },
  {
   "cell_type": "code",
   "execution_count": 0,
   "metadata": {
    "application/vnd.databricks.v1+cell": {
     "cellMetadata": {
      "byteLimit": 2048000,
      "rowLimit": 10000
     },
     "inputWidgets": {},
     "nuid": "47b4476d-fc57-497e-8181-c53a4315b39b",
     "showTitle": false,
     "tableResultSettingsMap": {},
     "title": ""
    }
   },
   "outputs": [],
   "source": [
    "spark.sql(f\"\"\"\n",
    "MERGE INTO {catalog_name}.udp_wcm_silver_sap_bw.sap_avccmdm342 inf_tbl\n",
    "\tUSING sap_avccmdm342 tmp_tbl\n",
    "\tON inf_tbl.hash_id = tmp_tbl.hash_id  AND inf_tbl.end_date = DATE '2400-01-01'\n",
    "\tWHEN NOT MATCHED THEN INSERT *\n",
    " \"\"\")"
   ]
  },
  {
   "cell_type": "code",
   "execution_count": 0,
   "metadata": {
    "application/vnd.databricks.v1+cell": {
     "cellMetadata": {
      "byteLimit": 2048000,
      "rowLimit": 10000
     },
     "inputWidgets": {},
     "nuid": "ff839b43-4906-4e04-b17d-04e166c92c64",
     "showTitle": false,
     "tableResultSettingsMap": {},
     "title": ""
    }
   },
   "outputs": [],
   "source": [
    "spark.sql(\"DROP VIEW IF EXISTS temp_sap_avccmdm342\")\n",
    "spark.sql(\"DROP VIEW IF EXISTS sap_avccmdm342\")"
   ]
  }
 ],
 "metadata": {
  "application/vnd.databricks.v1+notebook": {
   "computePreferences": {
    "hardware": {
     "accelerator": null,
     "gpuPoolId": null,
     "memory": "HIGH"
    }
   },
   "dashboards": [],
   "environmentMetadata": {
    "base_environment": "",
    "environment_version": "2"
   },
   "inputWidgetPreferences": null,
   "language": "python",
   "notebookMetadata": {
    "mostRecentlyExecutedCommandWithImplicitDF": {
     "commandId": 6410538414282945,
     "dataframes": [
      "_sqldf"
     ]
    },
    "pythonIndentUnit": 4
   },
   "notebookName": "sap_avccmdm342",
   "widgets": {
    "environment": {
     "currentValue": "DEV",
     "nuid": "8cea9c98-92c7-4746-99f8-272c34744ddf",
     "typedWidgetInfo": {
      "autoCreated": false,
      "defaultValue": "",
      "label": "",
      "name": "environment",
      "options": {
       "widgetDisplayType": "Text",
       "validationRegex": null
      },
      "parameterDataType": "String"
     },
     "widgetInfo": {
      "widgetType": "text",
      "defaultValue": "",
      "label": "",
      "name": "environment",
      "options": {
       "widgetType": "text",
       "autoCreated": null,
       "validationRegex": null
      }
     }
    },
    "proc_date": {
     "currentValue": "2025-07-15",
     "nuid": "348de53e-f213-43e8-be20-c8858b64d93e",
     "typedWidgetInfo": {
      "autoCreated": false,
      "defaultValue": "",
      "label": null,
      "name": "proc_date",
      "options": {
       "widgetDisplayType": "Text",
       "validationRegex": null
      },
      "parameterDataType": "String"
     },
     "widgetInfo": {
      "widgetType": "text",
      "defaultValue": "",
      "label": null,
      "name": "proc_date",
      "options": {
       "widgetType": "text",
       "autoCreated": null,
       "validationRegex": null
      }
     }
    }
   }
  },
  "language_info": {
   "name": "python"
  }
 },
 "nbformat": 4,
 "nbformat_minor": 0
}
