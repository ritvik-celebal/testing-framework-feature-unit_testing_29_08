{
 "cells": [
  {
   "cell_type": "code",
   "execution_count": 0,
   "metadata": {
    "application/vnd.databricks.v1+cell": {
     "cellMetadata": {
      "byteLimit": 2048000,
      "rowLimit": 10000
     },
     "inputWidgets": {},
     "nuid": "f46fec56-2adf-4cda-a449-ddb7f2129368",
     "showTitle": false,
     "tableResultSettingsMap": {},
     "title": ""
    }
   },
   "outputs": [],
   "source": [
    "dbutils.widgets.text(\"proc_date\", \"\")\n",
    "proc_date = dbutils.widgets.get(\"proc_date\")"
   ]
  },
  {
   "cell_type": "code",
   "execution_count": 0,
   "metadata": {
    "application/vnd.databricks.v1+cell": {
     "cellMetadata": {
      "byteLimit": 2048000,
      "rowLimit": 10000
     },
     "inputWidgets": {},
     "nuid": "c61ce195-20cf-4ef9-9e27-8b51d826751d",
     "showTitle": false,
     "tableResultSettingsMap": {},
     "title": ""
    }
   },
   "outputs": [],
   "source": [
    "%run ../../../utils/common"
   ]
  },
  {
   "cell_type": "code",
   "execution_count": 0,
   "metadata": {
    "application/vnd.databricks.v1+cell": {
     "cellMetadata": {
      "byteLimit": 2048000,
      "rowLimit": 10000
     },
     "inputWidgets": {},
     "nuid": "e2692ff4-5ea0-43d3-b437-d27dfce37d03",
     "showTitle": false,
     "tableResultSettingsMap": {},
     "title": ""
    }
   },
   "outputs": [],
   "source": [
    "dbutils.widgets.text(\"environment\", \"\", \"\")\n",
    "environment = dbutils.widgets.get(\"environment\")"
   ]
  },
  {
   "cell_type": "code",
   "execution_count": 0,
   "metadata": {
    "application/vnd.databricks.v1+cell": {
     "cellMetadata": {
      "byteLimit": 2048000,
      "rowLimit": 10000
     },
     "inputWidgets": {},
     "nuid": "1ec54fc2-915d-405b-8c17-85351041387b",
     "showTitle": false,
     "tableResultSettingsMap": {},
     "title": ""
    }
   },
   "outputs": [],
   "source": [
    "catalog_name = settings[environment]['catalog_name']"
   ]
  },
  {
   "cell_type": "code",
   "execution_count": 0,
   "metadata": {
    "application/vnd.databricks.v1+cell": {
     "cellMetadata": {},
     "inputWidgets": {},
     "nuid": "32ed7b82-f948-48e9-bec4-f95daf5a08ff",
     "showTitle": false,
     "tableResultSettingsMap": {},
     "title": ""
    }
   },
   "outputs": [],
   "source": [
    "create_temp_view_with_clean_columns(\n",
    "    spark,\n",
    "    catalog_name,\n",
    "    'udp_wcm_bronze_sap_bw',\n",
    "    'sap_bw_wcm_avcdmdmm142',\n",
    "    proc_date,\n",
    "    'temp_sap_avcdmdmm142'\n",
    ")"
   ]
  },
  {
   "cell_type": "code",
   "execution_count": 0,
   "metadata": {
    "application/vnd.databricks.v1+cell": {
     "cellMetadata": {
      "byteLimit": 2048000,
      "rowLimit": 10000
     },
     "inputWidgets": {},
     "nuid": "cbc98789-bd48-4672-ba5c-1018ff72207f",
     "showTitle": false,
     "tableResultSettingsMap": {},
     "title": ""
    }
   },
   "outputs": [],
   "source": [
    "spark.sql(f\"\"\"\n",
    "CREATE TABLE IF NOT EXISTS {catalog_name}.udp_wcm_silver_sap_bw.sap_avcdmdmm142\n",
    "(\n",
    "  objek STRING,\n",
    "  mafid STRING,\n",
    "  klart STRING,\n",
    "  clint STRING,\n",
    "  adzhl STRING,\n",
    "  recordmode STRING,\n",
    "  zaehl BIGINT,\n",
    "  statu STRING,\n",
    "  stdcl STRING,\n",
    "  rekri STRING,\n",
    "  aennr STRING,\n",
    "  datuv STRING,\n",
    "  lkenz STRING,\n",
    "  datub STRING,\n",
    "  class STRING,\n",
    "  statu_h STRING,\n",
    "  klagr STRING,\n",
    "  bgrse STRING,\n",
    "  bgrkl STRING,\n",
    "  bgrkp STRING,\n",
    "  aname STRING,\n",
    "  adatu DATE,\n",
    "  vname STRING,\n",
    "  vdatu DATE,\n",
    "  vondt DATE,\n",
    "  bisdt DATE,\n",
    "  anzuo STRING,\n",
    "  praus STRING,\n",
    "  sicht STRING,\n",
    "  doknr STRING,\n",
    "  dokar STRING,\n",
    "  doktl STRING,\n",
    "  dokvr STRING,\n",
    "  dinkz STRING,\n",
    "  nnorm STRING,\n",
    "  normn STRING,\n",
    "  normb STRING,\n",
    "  nrmt1 STRING,\n",
    "  nrmt2 STRING,\n",
    "  ausgd DATE,\n",
    "  versd DATE,\n",
    "  versi STRING,\n",
    "  leist STRING,\n",
    "  verwe STRING,\n",
    "  spart STRING,\n",
    "  lref3 STRING,\n",
    "  wwskz STRING,\n",
    "  wwssi STRING,\n",
    "  potpr STRING,\n",
    "  clobk STRING,\n",
    "  clmul STRING,\n",
    "  cview STRING,\n",
    "  disst STRING,\n",
    "  meins STRING,\n",
    "  clmod STRING,\n",
    "  vwstl STRING,\n",
    "  vwpla STRING,\n",
    "  clalt STRING,\n",
    "  lbrei STRING,\n",
    "  bname STRING,\n",
    "  maxbl STRING,\n",
    "  knobj STRING,\n",
    "  locla STRING,\n",
    "  katalog STRING,\n",
    "  kdokaz STRING,\n",
    "  genrkz STRING,\n",
    "  proc_date DATE,\n",
    "  file_creation_ts TIMESTAMP\n",
    ")\n",
    "TBLPROPERTIES (\n",
    "  'DELTA.AUTOOPTIMIZE.OPTIMIZEWRITE' = 'true',\n",
    "  'DELTA.AUTOOPTIMIZE.AUTOCOMPACT' = 'true'\n",
    ")\n",
    "\"\"\")"
   ]
  },
  {
   "cell_type": "code",
   "execution_count": 0,
   "metadata": {
    "application/vnd.databricks.v1+cell": {
     "cellMetadata": {
      "byteLimit": 2048000,
      "rowLimit": 10000
     },
     "inputWidgets": {},
     "nuid": "d4fa7d8a-5b3d-42c7-9974-fede3f47a9dd",
     "showTitle": false,
     "tableResultSettingsMap": {},
     "title": ""
    }
   },
   "outputs": [],
   "source": [
    "spark.sql(f\"\"\"\n",
    "    DELETE FROM {catalog_name}.udp_wcm_silver_sap_bw.sap_avcdmdmm142\n",
    "    WHERE PROC_DATE = DATE('{proc_date}')\n",
    "\"\"\")"
   ]
  },
  {
   "cell_type": "code",
   "execution_count": 0,
   "metadata": {
    "application/vnd.databricks.v1+cell": {
     "cellMetadata": {
      "byteLimit": 2048000,
      "rowLimit": 10000
     },
     "inputWidgets": {},
     "nuid": "8abe6b45-99cd-4bd2-847a-e2f8810486d6",
     "showTitle": false,
     "tableResultSettingsMap": {},
     "title": ""
    }
   },
   "outputs": [],
   "source": [
    "spark.sql(f\"\"\"\n",
    "INSERT INTO {catalog_name}.udp_wcm_silver_sap_bw.sap_avcdmdmm142\n",
    "SELECT  \n",
    "        {catalog_name}.default.fn_CLEAN_SAP_STRING(objek) AS objek,\n",
    "        {catalog_name}.default.fn_CLEAN_SAP_STRING(mafid) AS mafid,\n",
    "        {catalog_name}.default.fn_CLEAN_SAP_STRING(klart) AS klart,\n",
    "        {catalog_name}.default.fn_CLEAN_SAP_STRING(clint) AS clint,\n",
    "        {catalog_name}.default.fn_CLEAN_SAP_STRING(adzhl) AS adzhl,\n",
    "        {catalog_name}.default.fn_CLEAN_SAP_STRING(recordmode) AS recordmode,\n",
    "        zaehl AS zaehl,\n",
    "        {catalog_name}.default.fn_CLEAN_SAP_STRING(statu) AS statu,\n",
    "        {catalog_name}.default.fn_CLEAN_SAP_STRING(stdcl) AS stdcl,\n",
    "        {catalog_name}.default.fn_CLEAN_SAP_STRING(rekri) AS rekri,\n",
    "        {catalog_name}.default.fn_CLEAN_SAP_STRING(aennr) AS aennr,\n",
    "        {catalog_name}.default.fn_CLEAN_SAP_STRING(datuv) AS datuv,\n",
    "        {catalog_name}.default.fn_CLEAN_SAP_STRING(lkenz) AS lkenz,\n",
    "        {catalog_name}.default.fn_CLEAN_SAP_STRING(datub) AS datub,\n",
    "        {catalog_name}.default.fn_CLEAN_SAP_STRING(class) AS class,\n",
    "        {catalog_name}.default.fn_CLEAN_SAP_STRING(statu_h) AS statu_h,\n",
    "        {catalog_name}.default.fn_CLEAN_SAP_STRING(klagr) AS klagr,\n",
    "        {catalog_name}.default.fn_CLEAN_SAP_STRING(bgrse) AS bgrse,\n",
    "        {catalog_name}.default.fn_CLEAN_SAP_STRING(bgrkl) AS bgrkl,\n",
    "        {catalog_name}.default.fn_CLEAN_SAP_STRING(bgrkp) AS bgrkp,\n",
    "        {catalog_name}.default.fn_CLEAN_SAP_STRING(aname) AS aname,\n",
    "        CASE WHEN adatu = '00000000' THEN NULL ELSE to_date({catalog_name}.default.fn_CLEAN_SAP_STRING(adatu),'yyyyMMdd') END AS adatu,\n",
    "        {catalog_name}.default.fn_CLEAN_SAP_STRING(vname) AS vname,\n",
    "        CASE WHEN vdatu = '00000000' THEN NULL ELSE to_date({catalog_name}.default.fn_CLEAN_SAP_STRING(vdatu),'yyyyMMdd') END AS vdatu,\n",
    "        CASE WHEN vondt = '00000000' THEN NULL ELSE to_date({catalog_name}.default.fn_CLEAN_SAP_STRING(vondt),'yyyyMMdd') END AS vondt,\n",
    "        CASE WHEN bisdt = '00000000' THEN NULL ELSE to_date({catalog_name}.default.fn_CLEAN_SAP_STRING(bisdt),'yyyyMMdd') END AS bisdt,\n",
    "        {catalog_name}.default.fn_CLEAN_SAP_STRING(anzuo) AS anzuo,\n",
    "        {catalog_name}.default.fn_CLEAN_SAP_STRING(praus) AS praus,\n",
    "        {catalog_name}.default.fn_CLEAN_SAP_STRING(sicht) AS sicht,\n",
    "        {catalog_name}.default.fn_CLEAN_SAP_STRING(doknr) AS doknr,\n",
    "        {catalog_name}.default.fn_CLEAN_SAP_STRING(dokar) AS dokar,\n",
    "        {catalog_name}.default.fn_CLEAN_SAP_STRING(doktl) AS doktl,\n",
    "        {catalog_name}.default.fn_CLEAN_SAP_STRING(dokvr) AS dokvr,\n",
    "        {catalog_name}.default.fn_CLEAN_SAP_STRING(dinkz) AS dinkz,\n",
    "        {catalog_name}.default.fn_CLEAN_SAP_STRING(nnorm) AS nnorm,\n",
    "        {catalog_name}.default.fn_CLEAN_SAP_STRING(normn) AS normn,\n",
    "        {catalog_name}.default.fn_CLEAN_SAP_STRING(normb) AS normb,\n",
    "        {catalog_name}.default.fn_CLEAN_SAP_STRING(nrmt1) AS nrmt1,\n",
    "        {catalog_name}.default.fn_CLEAN_SAP_STRING(nrmt2) AS nrmt2,\n",
    "        CASE WHEN ausgd = '00000000' THEN NULL ELSE to_date({catalog_name}.default.fn_CLEAN_SAP_STRING(ausgd),'yyyyMMdd') END AS ausgd,\n",
    "        CASE WHEN versd = '00000000' THEN NULL ELSE to_date({catalog_name}.default.fn_CLEAN_SAP_STRING(versd),'yyyyMMdd') END AS versd,\n",
    "        {catalog_name}.default.fn_CLEAN_SAP_STRING(versi) AS versi,\n",
    "        {catalog_name}.default.fn_CLEAN_SAP_STRING(leist) AS leist,\n",
    "        {catalog_name}.default.fn_CLEAN_SAP_STRING(verwe) AS verwe,\n",
    "        {catalog_name}.default.fn_CLEAN_SAP_STRING(spart) AS spart,\n",
    "        {catalog_name}.default.fn_CLEAN_SAP_STRING(lref3) AS lref3,\n",
    "        {catalog_name}.default.fn_CLEAN_SAP_STRING(wwskz) AS wwskz,\n",
    "        {catalog_name}.default.fn_CLEAN_SAP_STRING(wwssi) AS wwssi,\n",
    "        {catalog_name}.default.fn_CLEAN_SAP_STRING(potpr) AS potpr,\n",
    "        {catalog_name}.default.fn_CLEAN_SAP_STRING(clobk) AS clobk,\n",
    "        {catalog_name}.default.fn_CLEAN_SAP_STRING(clmul) AS clmul,\n",
    "        {catalog_name}.default.fn_CLEAN_SAP_STRING(cview) AS cview,\n",
    "        {catalog_name}.default.fn_CLEAN_SAP_STRING(disst) AS disst,\n",
    "        {catalog_name}.default.fn_CLEAN_SAP_STRING(meins) AS meins,\n",
    "        {catalog_name}.default.fn_CLEAN_SAP_STRING(clmod) AS clmod,\n",
    "        {catalog_name}.default.fn_CLEAN_SAP_STRING(vwstl) AS vwstl,\n",
    "        {catalog_name}.default.fn_CLEAN_SAP_STRING(vwpla) AS vwpla,\n",
    "        {catalog_name}.default.fn_CLEAN_SAP_STRING(clalt) AS clalt,\n",
    "        {catalog_name}.default.fn_CLEAN_SAP_STRING(lbrei) AS lbrei,\n",
    "        {catalog_name}.default.fn_CLEAN_SAP_STRING(bname) AS bname,\n",
    "        {catalog_name}.default.fn_CLEAN_SAP_STRING(maxbl) AS maxbl,\n",
    "        {catalog_name}.default.fn_CLEAN_SAP_STRING(knobj) AS knobj,\n",
    "        {catalog_name}.default.fn_CLEAN_SAP_STRING(locla) AS locla,\n",
    "        {catalog_name}.default.fn_CLEAN_SAP_STRING(katalog) AS katalog,\n",
    "        {catalog_name}.default.fn_CLEAN_SAP_STRING(kdokaz) AS kdokaz,\n",
    "        {catalog_name}.default.fn_CLEAN_SAP_STRING(genrkz) AS genrkz,\n",
    "        proc_date,\n",
    "        file_creation_ts\n",
    "FROM temp_sap_avcdmdmm142\n",
    "\"\"\")"
   ]
  }
 ],
 "metadata": {
  "application/vnd.databricks.v1+notebook": {
   "computePreferences": null,
   "dashboards": [],
   "environmentMetadata": {
    "base_environment": "",
    "environment_version": "2"
   },
   "inputWidgetPreferences": null,
   "language": "python",
   "notebookMetadata": {
    "mostRecentlyExecutedCommandWithImplicitDF": {
     "commandId": 8270155323833112,
     "dataframes": [
      "_sqldf"
     ]
    },
    "pythonIndentUnit": 4
   },
   "notebookName": "sap_avcdmdmm142",
   "widgets": {
    "environment": {
     "currentValue": "DEV",
     "nuid": "b86d1834-1e79-4268-b9cb-ea21cb55e4df",
     "typedWidgetInfo": {
      "autoCreated": false,
      "defaultValue": "",
      "label": "",
      "name": "environment",
      "options": {
       "widgetDisplayType": "Text",
       "validationRegex": null
      },
      "parameterDataType": "String"
     },
     "widgetInfo": {
      "widgetType": "text",
      "defaultValue": "",
      "label": "",
      "name": "environment",
      "options": {
       "widgetType": "text",
       "autoCreated": null,
       "validationRegex": null
      }
     }
    },
    "proc_date": {
     "currentValue": "2025-07-15",
     "nuid": "4dfcb97b-ca16-40d9-934b-d85e790df020",
     "typedWidgetInfo": {
      "autoCreated": false,
      "defaultValue": "",
      "label": null,
      "name": "proc_date",
      "options": {
       "widgetDisplayType": "Text",
       "validationRegex": null
      },
      "parameterDataType": "String"
     },
     "widgetInfo": {
      "widgetType": "text",
      "defaultValue": "",
      "label": null,
      "name": "proc_date",
      "options": {
       "widgetType": "text",
       "autoCreated": null,
       "validationRegex": null
      }
     }
    }
   }
  },
  "language_info": {
   "name": "python"
  }
 },
 "nbformat": 4,
 "nbformat_minor": 0
}
