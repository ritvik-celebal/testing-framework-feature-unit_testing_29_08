{
 "cells": [
  {
   "cell_type": "code",
   "execution_count": 0,
   "metadata": {
    "application/vnd.databricks.v1+cell": {
     "cellMetadata": {},
     "inputWidgets": {},
     "nuid": "f08dfbaa-8969-4c6c-8004-b9d466b4cf02",
     "showTitle": false,
     "tableResultSettingsMap": {},
     "title": ""
    }
   },
   "outputs": [],
   "source": [
    "dbutils.widgets.text(\"proc_date\", \"\")\n",
    "proc_date = dbutils.widgets.get(\"proc_date\")"
   ]
  },
  {
   "cell_type": "code",
   "execution_count": 0,
   "metadata": {
    "application/vnd.databricks.v1+cell": {
     "cellMetadata": {
      "byteLimit": 2048000,
      "rowLimit": 10000
     },
     "inputWidgets": {},
     "nuid": "50ffefbd-d0d4-423e-ba3b-57454ef4e615",
     "showTitle": false,
     "tableResultSettingsMap": {},
     "title": ""
    }
   },
   "outputs": [],
   "source": [
    "%run ../../../utils/common"
   ]
  },
  {
   "cell_type": "code",
   "execution_count": 0,
   "metadata": {
    "application/vnd.databricks.v1+cell": {
     "cellMetadata": {
      "byteLimit": 2048000,
      "rowLimit": 10000
     },
     "inputWidgets": {},
     "nuid": "954703a3-193e-4430-9cb5-155a6e7213d7",
     "showTitle": false,
     "tableResultSettingsMap": {},
     "title": ""
    }
   },
   "outputs": [],
   "source": [
    "dbutils.widgets.text(\"environment\", \"\", \"\")\n",
    "environment = dbutils.widgets.get(\"environment\")"
   ]
  },
  {
   "cell_type": "code",
   "execution_count": 0,
   "metadata": {
    "application/vnd.databricks.v1+cell": {
     "cellMetadata": {
      "byteLimit": 2048000,
      "rowLimit": 10000
     },
     "inputWidgets": {},
     "nuid": "68ffd6be-da62-462f-a077-12216bcb3c71",
     "showTitle": false,
     "tableResultSettingsMap": {},
     "title": ""
    }
   },
   "outputs": [],
   "source": [
    "catalog_name = settings[environment]['catalog_name']"
   ]
  },
  {
   "cell_type": "code",
   "execution_count": 0,
   "metadata": {
    "application/vnd.databricks.v1+cell": {
     "cellMetadata": {},
     "inputWidgets": {},
     "nuid": "4d68e4c2-d01f-46dd-a065-12b08c47f52f",
     "showTitle": false,
     "tableResultSettingsMap": {},
     "title": ""
    }
   },
   "outputs": [],
   "source": [
    "create_temp_view_with_clean_columns(\n",
    "    spark,\n",
    "    catalog_name,\n",
    "    'udp_wcm_bronze_sap_bw',\n",
    "    'sap_bw_wcm_tmaterial',\n",
    "    proc_date,\n",
    "    'temp_sap_tmaterial'\n",
    ")"
   ]
  },
  {
   "cell_type": "code",
   "execution_count": 0,
   "metadata": {
    "application/vnd.databricks.v1+cell": {
     "cellMetadata": {
      "byteLimit": 2048000,
      "rowLimit": 10000
     },
     "inputWidgets": {},
     "nuid": "cce55c70-e407-45fb-867e-862c548d8830",
     "showTitle": false,
     "tableResultSettingsMap": {},
     "title": ""
    }
   },
   "outputs": [],
   "source": [
    "spark.sql(f\"\"\"\n",
    "CREATE TABLE IF NOT EXISTS {catalog_name}.udp_wcm_silver_sap_bw.sap_tmaterial\n",
    "(\n",
    "  hash_id BIGINT,\n",
    "  material STRING,\n",
    "  langu STRING,\n",
    "  txtmd STRING,\n",
    "  proc_date DATE,\n",
    "  file_creation_ts TIMESTAMP,\n",
    "  start_date DATE,\n",
    "  end_date DATE\n",
    ")\n",
    "TBLPROPERTIES (\n",
    "  'DELTA.AUTOOPTIMIZE.OPTIMIZEWRITE' = 'true',\n",
    "  'DELTA.AUTOOPTIMIZE.AUTOCOMPACT' = 'true'\n",
    ")\n",
    " \"\"\")"
   ]
  },
  {
   "cell_type": "code",
   "execution_count": 0,
   "metadata": {
    "application/vnd.databricks.v1+cell": {
     "cellMetadata": {
      "byteLimit": 2048000,
      "rowLimit": 10000
     },
     "inputWidgets": {},
     "nuid": "d8fa1ad3-7ac7-4b89-af19-563783ee2d64",
     "showTitle": false,
     "tableResultSettingsMap": {},
     "title": ""
    }
   },
   "outputs": [],
   "source": [
    "spark.sql(f\"\"\"\n",
    "  CREATE OR REPLACE TEMP VIEW sap_tmaterial AS\n",
    "  WITH temp (material, langu, txtmd, proc_date, file_creation_ts) AS (\n",
    "    SELECT material, langu, txtmd, proc_date, file_creation_ts\n",
    "    FROM (\n",
    "      SELECT *, ROW_NUMBER() OVER (PARTITION BY material, DATE(proc_date) ORDER BY proc_date) AS rn \n",
    "      FROM (\n",
    "        SELECT \n",
    "          LTRIM('0', material) AS material, \n",
    "          langu, \n",
    "          txtmd, \n",
    "          proc_date,\n",
    "          file_creation_ts\n",
    "        FROM temp_sap_tmaterial\n",
    "      ) a\n",
    "    ) a \n",
    "    WHERE rn = 1\n",
    "  ),\n",
    "  main (hash_id, material, langu, txtmd, proc_date, file_creation_ts, start_date) AS (\n",
    "    SELECT \n",
    "      farm_fingerprint(CONCAT(\n",
    "        IFNULL(CAST(material AS STRING), \"\"), \n",
    "        IFNULL(CAST(langu AS STRING), \"\"), \n",
    "        IFNULL(CAST(txtmd AS STRING), \"\")\n",
    "      )) AS hash_id,\n",
    "      material, langu, txtmd, proc_date, file_creation_ts, DATE(proc_date) AS start_date \n",
    "    FROM temp\n",
    "  ),\n",
    "  main_2 (hash_id, material, langu, txtmd, proc_date, file_creation_ts, start_date, hash_id_prev) AS (\n",
    "    SELECT \n",
    "      hash_id, material, langu, txtmd, proc_date, file_creation_ts, start_date, \n",
    "      LAG(hash_id, 1) OVER (PARTITION BY material ORDER BY proc_date) AS hash_id_prev \n",
    "    FROM main\n",
    "  ),\n",
    "  main_3 (hash_id, material, langu, txtmd, proc_date, file_creation_ts, start_date) AS (\n",
    "    SELECT hash_id, material, langu, txtmd, proc_date, file_creation_ts, start_date \n",
    "    FROM main_2 \n",
    "    WHERE (hash_id != hash_id_prev OR hash_id_prev IS NULL)\n",
    "  ),\n",
    "  main_4 (hash_id, material, langu, txtmd, proc_date, file_creation_ts, start_date, end_date) AS (\n",
    "    SELECT \n",
    "      hash_id, material, langu, txtmd, proc_date, file_creation_ts, start_date, \n",
    "      LEAD(DATE(proc_date)) OVER (PARTITION BY material ORDER BY proc_date ASC) AS end_date \n",
    "    FROM main_3\n",
    "  )\n",
    "  SELECT \n",
    "    hash_id, material, langu, txtmd, proc_date, start_date, \n",
    "    IFNULL(DATE_SUB(end_date, 1), '2400-01-01') AS end_date,\n",
    "    file_creation_ts\n",
    "  FROM main_4\n",
    "\"\"\")"
   ]
  },
  {
   "cell_type": "code",
   "execution_count": 0,
   "metadata": {
    "application/vnd.databricks.v1+cell": {
     "cellMetadata": {
      "byteLimit": 2048000,
      "rowLimit": 10000
     },
     "inputWidgets": {},
     "nuid": "f7478d0b-28ee-4959-8e92-43befc018871",
     "showTitle": false,
     "tableResultSettingsMap": {},
     "title": ""
    }
   },
   "outputs": [],
   "source": [
    "spark.sql(f\"\"\"\n",
    "  MERGE INTO {catalog_name}.udp_wcm_silver_sap_bw.sap_tmaterial AS inf_tbl\n",
    "  USING (\n",
    "    SELECT material, hash_id, start_date \n",
    "    FROM sap_tmaterial \n",
    "    WHERE end_date = '2400-01-01'\n",
    "  ) AS tmp_tbl\n",
    "  ON inf_tbl.material = tmp_tbl.material \n",
    "    AND inf_tbl.hash_id != tmp_tbl.hash_id \n",
    "    AND inf_tbl.end_date = '2400-01-01'\n",
    "  WHEN MATCHED THEN \n",
    "    UPDATE SET inf_tbl.end_date = date_Add(tmp_tbl.start_date,-1)\"\"\")"
   ]
  },
  {
   "cell_type": "code",
   "execution_count": 0,
   "metadata": {
    "application/vnd.databricks.v1+cell": {
     "cellMetadata": {
      "byteLimit": 2048000,
      "rowLimit": 10000
     },
     "inputWidgets": {},
     "nuid": "f1abcb3a-2a8b-46a7-8382-a9b9e6890378",
     "showTitle": false,
     "tableResultSettingsMap": {},
     "title": ""
    }
   },
   "outputs": [],
   "source": [
    "spark.sql(f\"\"\"\n",
    "  MERGE INTO {catalog_name}.udp_wcm_silver_sap_bw.sap_tmaterial AS inf_tbl\n",
    "  USING sap_tmaterial AS tmp_tbl\n",
    "  ON inf_tbl.hash_id = tmp_tbl.hash_id \n",
    "    AND inf_tbl.end_date = '2400-01-01'\n",
    "  WHEN NOT MATCHED THEN \n",
    "    INSERT (\n",
    "      hash_id, material, langu, txtmd, proc_date, start_date, end_date, file_creation_ts\n",
    "    ) \n",
    "    VALUES (\n",
    "      tmp_tbl.hash_id, tmp_tbl.material, tmp_tbl.langu, tmp_tbl.txtmd, tmp_tbl.proc_date,\n",
    "      tmp_tbl.start_date, tmp_tbl.end_date, tmp_tbl.file_creation_ts\n",
    "    )\n",
    "\"\"\")"
   ]
  }
 ],
 "metadata": {
  "application/vnd.databricks.v1+notebook": {
   "computePreferences": null,
   "dashboards": [],
   "environmentMetadata": {
    "base_environment": "",
    "environment_version": "2"
   },
   "inputWidgetPreferences": null,
   "language": "python",
   "notebookMetadata": {
    "mostRecentlyExecutedCommandWithImplicitDF": {
     "commandId": 6410538414267007,
     "dataframes": [
      "_sqldf"
     ]
    },
    "pythonIndentUnit": 4
   },
   "notebookName": "sap_tmaterial",
   "widgets": {
    "environment": {
     "currentValue": "DEV",
     "nuid": "3b639958-49a0-470e-b66f-39a135f80c1e",
     "typedWidgetInfo": {
      "autoCreated": false,
      "defaultValue": "",
      "label": "",
      "name": "environment",
      "options": {
       "widgetDisplayType": "Text",
       "validationRegex": null
      },
      "parameterDataType": "String"
     },
     "widgetInfo": {
      "widgetType": "text",
      "defaultValue": "",
      "label": "",
      "name": "environment",
      "options": {
       "widgetType": "text",
       "autoCreated": null,
       "validationRegex": null
      }
     }
    },
    "proc_date": {
     "currentValue": "2025-05-31",
     "nuid": "905dd728-0dde-43f6-b045-90f688ac1bc3",
     "typedWidgetInfo": {
      "autoCreated": false,
      "defaultValue": "",
      "label": null,
      "name": "proc_date",
      "options": {
       "widgetDisplayType": "Text",
       "validationRegex": null
      },
      "parameterDataType": "String"
     },
     "widgetInfo": {
      "widgetType": "text",
      "defaultValue": "",
      "label": null,
      "name": "proc_date",
      "options": {
       "widgetType": "text",
       "autoCreated": null,
       "validationRegex": null
      }
     }
    }
   }
  },
  "language_info": {
   "name": "python"
  }
 },
 "nbformat": 4,
 "nbformat_minor": 0
}
