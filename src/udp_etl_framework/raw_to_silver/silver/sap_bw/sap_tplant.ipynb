{
 "cells": [
  {
   "cell_type": "code",
   "execution_count": 0,
   "metadata": {
    "application/vnd.databricks.v1+cell": {
     "cellMetadata": {
      "byteLimit": 2048000,
      "rowLimit": 10000
     },
     "inputWidgets": {},
     "nuid": "e7ee9df0-8d74-4554-b468-941617d319e0",
     "showTitle": false,
     "tableResultSettingsMap": {},
     "title": ""
    }
   },
   "outputs": [],
   "source": [
    "dbutils.widgets.text(\"proc_date\", \"\")\n",
    "proc_date = dbutils.widgets.get(\"proc_date\")"
   ]
  },
  {
   "cell_type": "code",
   "execution_count": 0,
   "metadata": {
    "application/vnd.databricks.v1+cell": {
     "cellMetadata": {
      "byteLimit": 2048000,
      "rowLimit": 10000
     },
     "inputWidgets": {},
     "nuid": "82d1fac8-a7bb-4ffd-b2cf-ccb546497c57",
     "showTitle": false,
     "tableResultSettingsMap": {},
     "title": ""
    }
   },
   "outputs": [],
   "source": [
    "%run ../../../utils/common"
   ]
  },
  {
   "cell_type": "code",
   "execution_count": 0,
   "metadata": {
    "application/vnd.databricks.v1+cell": {
     "cellMetadata": {
      "byteLimit": 2048000,
      "rowLimit": 10000
     },
     "inputWidgets": {},
     "nuid": "bb1604a3-da23-438d-a214-17cdbd16293d",
     "showTitle": false,
     "tableResultSettingsMap": {},
     "title": ""
    }
   },
   "outputs": [],
   "source": [
    "dbutils.widgets.text(\"environment\", \"\", \"\")\n",
    "environment = dbutils.widgets.get(\"environment\")"
   ]
  },
  {
   "cell_type": "code",
   "execution_count": 0,
   "metadata": {
    "application/vnd.databricks.v1+cell": {
     "cellMetadata": {
      "byteLimit": 2048000,
      "rowLimit": 10000
     },
     "inputWidgets": {},
     "nuid": "44fcaf6a-0a24-4792-bf66-c6e9b5d47c78",
     "showTitle": false,
     "tableResultSettingsMap": {},
     "title": ""
    }
   },
   "outputs": [],
   "source": [
    "catalog_name = settings[environment]['catalog_name']"
   ]
  },
  {
   "cell_type": "code",
   "execution_count": 0,
   "metadata": {
    "application/vnd.databricks.v1+cell": {
     "cellMetadata": {},
     "inputWidgets": {},
     "nuid": "019ac4ce-dc57-496a-b348-1629864f1506",
     "showTitle": false,
     "tableResultSettingsMap": {},
     "title": ""
    }
   },
   "outputs": [],
   "source": [
    "create_temp_view_with_clean_columns(\n",
    "    spark,\n",
    "    catalog_name,\n",
    "    'udp_wcm_bronze_sap_bw',\n",
    "    'sap_bw_wcm_tplant',\n",
    "    proc_date,\n",
    "    'temp_sap_tplant'\n",
    ")"
   ]
  },
  {
   "cell_type": "code",
   "execution_count": 0,
   "metadata": {
    "application/vnd.databricks.v1+cell": {
     "cellMetadata": {
      "byteLimit": 2048000,
      "rowLimit": 10000
     },
     "inputWidgets": {},
     "nuid": "ce3132be-dfa2-41f0-a543-08770f20b10d",
     "showTitle": false,
     "tableResultSettingsMap": {},
     "title": ""
    }
   },
   "outputs": [],
   "source": [
    "spark.sql(f\"\"\"\n",
    "CREATE TABLE IF NOT EXISTS {catalog_name}.udp_wcm_silver_sap_bw.sap_tplant\n",
    "(\n",
    "  hash_id BIGINT,\n",
    "  plant STRING,\n",
    "  txtsh STRING,\n",
    "  txtmd STRING,\n",
    "  file_creation_ts TIMESTAMP,\n",
    "  proc_date DATE,\n",
    "  start_date DATE,\n",
    "  end_date DATE\n",
    ")\n",
    "\n",
    "TBLPROPERTIES (\n",
    "  'DELTA.AUTOOPTIMIZE.OPTIMIZEWRITE' = 'true',\n",
    "  'DELTA.AUTOOPTIMIZE.AUTOCOMPACT' = 'true'\n",
    ")\n",
    "\"\"\")"
   ]
  },
  {
   "cell_type": "code",
   "execution_count": 0,
   "metadata": {
    "application/vnd.databricks.v1+cell": {
     "cellMetadata": {
      "byteLimit": 2048000,
      "implicitDf": true,
      "rowLimit": 10000
     },
     "inputWidgets": {},
     "nuid": "2aa2a03d-d852-4f56-985f-dbabdc4431cf",
     "showTitle": false,
     "tableResultSettingsMap": {},
     "title": ""
    }
   },
   "outputs": [],
   "source": [
    "spark.sql(f\"\"\"\n",
    "CREATE OR REPLACE TEMP VIEW sap_tplant AS\n",
    "WITH temp AS (\n",
    "  SELECT * EXCEPT(rn)\n",
    "  FROM (\n",
    "    SELECT *, ROW_NUMBER() OVER (PARTITION BY plant, DATE(proc_date) ORDER BY proc_date) AS rn\n",
    "    FROM (\n",
    "      SELECT * FROM temp_sap_tplant WHERE proc_date = DATE('{proc_date}')\n",
    "    ) a\n",
    "  ) a\n",
    "  WHERE rn = 1\n",
    "),\n",
    "main AS (\n",
    "  SELECT \n",
    "    farm_fingerprint(CONCAT(\n",
    "      coalesce(CAST(plant AS STRING), \"\"), \n",
    "      coalesce(CAST(txtsh AS STRING), \"\"), \n",
    "      coalesce(CAST(txtmd AS STRING), \"\")\n",
    "    )) AS hash_id, \n",
    "    *, \n",
    "    DATE(proc_date) AS start_date\n",
    "  FROM temp\n",
    "),\n",
    "main_2 AS (\n",
    "  SELECT *, LAG(hash_id, 1) OVER (PARTITION BY plant ORDER BY proc_date) AS hash_id_prev\n",
    "  FROM main\n",
    "),\n",
    "main_3 AS (\n",
    "  SELECT * EXCEPT(hash_id_prev)\n",
    "  FROM main_2\n",
    "  WHERE hash_id != hash_id_prev OR hash_id_prev IS NULL\n",
    "),\n",
    "main_4 AS (\n",
    "  SELECT *, LEAD(DATE(proc_date)) OVER (PARTITION BY plant ORDER BY proc_date ASC) AS end_date\n",
    "  FROM main_3\n",
    ")\n",
    "SELECT \n",
    "  * EXCEPT(end_date), \n",
    "  coalesce(date_add(end_date, -1), '2400-01-01') AS end_date\n",
    "FROM main_4\n",
    "\"\"\")"
   ]
  },
  {
   "cell_type": "code",
   "execution_count": 0,
   "metadata": {
    "application/vnd.databricks.v1+cell": {
     "cellMetadata": {
      "byteLimit": 2048000,
      "rowLimit": 10000
     },
     "inputWidgets": {},
     "nuid": "0bf05eb0-ae4f-49ff-8697-f1204400d4f5",
     "showTitle": false,
     "tableResultSettingsMap": {},
     "title": ""
    }
   },
   "outputs": [],
   "source": [
    "spark.sql(f\"\"\"\n",
    "  MERGE INTO {catalog_name}.udp_wcm_silver_sap_bw.sap_tplant AS inf_tbl\n",
    "  USING (\n",
    "    SELECT plant, hash_id, start_date\n",
    "    FROM sap_tplant\n",
    "    WHERE end_date = '2400-01-01'\n",
    "  ) AS tmp_tbl\n",
    "  ON inf_tbl.plant = tmp_tbl.plant AND inf_tbl.hash_id != tmp_tbl.hash_id AND inf_tbl.end_date = '2400-01-01'\n",
    "  WHEN MATCHED THEN UPDATE \n",
    "  SET inf_tbl.end_date = DATE_ADD(tmp_tbl.start_date, -1)\"\"\")\n"
   ]
  },
  {
   "cell_type": "code",
   "execution_count": 0,
   "metadata": {
    "application/vnd.databricks.v1+cell": {
     "cellMetadata": {
      "byteLimit": 2048000,
      "rowLimit": 10000
     },
     "inputWidgets": {},
     "nuid": "5da5dc60-fb71-424d-bdc0-f27fb5a0b5f1",
     "showTitle": false,
     "tableResultSettingsMap": {},
     "title": ""
    }
   },
   "outputs": [],
   "source": [
    "spark.sql(f\"\"\"\n",
    "  MERGE INTO {catalog_name}.udp_wcm_silver_sap_bw.sap_tplant AS inf_tbl\n",
    "  USING sap_tplant AS tmp_tbl\n",
    "  ON inf_tbl.hash_id = tmp_tbl.hash_id \n",
    "  AND inf_tbl.end_date = '2400-01-01'\n",
    "  WHEN NOT MATCHED THEN INSERT * \"\"\")"
   ]
  }
 ],
 "metadata": {
  "application/vnd.databricks.v1+notebook": {
   "computePreferences": null,
   "dashboards": [],
   "environmentMetadata": {
    "base_environment": "",
    "environment_version": "2"
   },
   "inputWidgetPreferences": null,
   "language": "python",
   "notebookMetadata": {
    "mostRecentlyExecutedCommandWithImplicitDF": {
     "commandId": 8416419470650957,
     "dataframes": [
      "_sqldf"
     ]
    },
    "pythonIndentUnit": 4
   },
   "notebookName": "sap_tplant",
   "widgets": {
    "environment": {
     "currentValue": "DEV",
     "nuid": "e382c888-7cf0-411d-978f-c61e13944fbe",
     "typedWidgetInfo": {
      "autoCreated": false,
      "defaultValue": "",
      "label": "",
      "name": "environment",
      "options": {
       "widgetDisplayType": "Text",
       "validationRegex": null
      },
      "parameterDataType": "String"
     },
     "widgetInfo": {
      "widgetType": "text",
      "defaultValue": "",
      "label": "",
      "name": "environment",
      "options": {
       "widgetType": "text",
       "autoCreated": null,
       "validationRegex": null
      }
     }
    },
    "proc_date": {
     "currentValue": "2025-07-15",
     "nuid": "21e815dd-2e9e-4060-a038-bcc8138b8986",
     "typedWidgetInfo": {
      "autoCreated": false,
      "defaultValue": "",
      "label": null,
      "name": "proc_date",
      "options": {
       "widgetDisplayType": "Text",
       "validationRegex": null
      },
      "parameterDataType": "String"
     },
     "widgetInfo": {
      "widgetType": "text",
      "defaultValue": "",
      "label": null,
      "name": "proc_date",
      "options": {
       "widgetType": "text",
       "autoCreated": null,
       "validationRegex": null
      }
     }
    }
   }
  },
  "language_info": {
   "name": "python"
  }
 },
 "nbformat": 4,
 "nbformat_minor": 0
}
