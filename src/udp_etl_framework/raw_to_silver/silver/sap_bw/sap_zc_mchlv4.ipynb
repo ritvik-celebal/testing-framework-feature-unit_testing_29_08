{
 "cells": [
  {
   "cell_type": "code",
   "execution_count": 0,
   "metadata": {
    "application/vnd.databricks.v1+cell": {
     "cellMetadata": {
      "byteLimit": 2048000,
      "rowLimit": 10000
     },
     "inputWidgets": {},
     "nuid": "513e8bf8-8317-4a6e-bc18-9dec1b21e688",
     "showTitle": false,
     "tableResultSettingsMap": {},
     "title": ""
    }
   },
   "outputs": [],
   "source": [
    "dbutils.widgets.text(\"proc_date\", \"\")\n",
    "proc_date = dbutils.widgets.get(\"proc_date\")"
   ]
  },
  {
   "cell_type": "code",
   "execution_count": 0,
   "metadata": {
    "application/vnd.databricks.v1+cell": {
     "cellMetadata": {
      "byteLimit": 2048000,
      "rowLimit": 10000
     },
     "inputWidgets": {},
     "nuid": "e167af76-8b7c-4890-a5e6-3884d75a7e6a",
     "showTitle": false,
     "tableResultSettingsMap": {},
     "title": ""
    }
   },
   "outputs": [],
   "source": [
    "%run ../../../utils/common"
   ]
  },
  {
   "cell_type": "code",
   "execution_count": 0,
   "metadata": {
    "application/vnd.databricks.v1+cell": {
     "cellMetadata": {
      "byteLimit": 2048000,
      "rowLimit": 10000
     },
     "inputWidgets": {},
     "nuid": "81d4cd24-0658-4823-8ad1-e060db98345d",
     "showTitle": false,
     "tableResultSettingsMap": {},
     "title": ""
    }
   },
   "outputs": [],
   "source": [
    "dbutils.widgets.text(\"environment\", \"\", \"\")\n",
    "environment = dbutils.widgets.get(\"environment\")"
   ]
  },
  {
   "cell_type": "code",
   "execution_count": 0,
   "metadata": {
    "application/vnd.databricks.v1+cell": {
     "cellMetadata": {
      "byteLimit": 2048000,
      "rowLimit": 10000
     },
     "inputWidgets": {},
     "nuid": "5a794322-0199-4182-984c-603bc8968481",
     "showTitle": false,
     "tableResultSettingsMap": {},
     "title": ""
    }
   },
   "outputs": [],
   "source": [
    "catalog_name = settings[environment]['catalog_name']"
   ]
  },
  {
   "cell_type": "code",
   "execution_count": 0,
   "metadata": {
    "application/vnd.databricks.v1+cell": {
     "cellMetadata": {
      "byteLimit": 2048000,
      "rowLimit": 10000
     },
     "inputWidgets": {},
     "nuid": "a1391194-f02c-4d9a-b225-46c73a68eb72",
     "showTitle": false,
     "tableResultSettingsMap": {},
     "title": ""
    }
   },
   "outputs": [],
   "source": [
    "create_temp_view_with_clean_columns(\n",
    "    spark,\n",
    "    catalog_name,\n",
    "    'udp_wcm_bronze_sap_bw',\n",
    "    'sap_bw_wcm_zc_mchlv4',\n",
    "    proc_date,\n",
    "    'temp_sap_zc_mchlv4'\n",
    ")"
   ]
  },
  {
   "cell_type": "code",
   "execution_count": 0,
   "metadata": {
    "application/vnd.databricks.v1+cell": {
     "cellMetadata": {
      "byteLimit": 2048000,
      "rowLimit": 10000
     },
     "inputWidgets": {},
     "nuid": "098ede78-7996-4931-b74a-28877557aed6",
     "showTitle": false,
     "tableResultSettingsMap": {},
     "title": ""
    }
   },
   "outputs": [],
   "source": [
    "spark.sql(f\"\"\"\n",
    "CREATE TABLE IF NOT EXISTS {catalog_name}.udp_wcm_silver_sap_bw.sap_zc_mchlv4\n",
    "( \n",
    "  hash_id BIGINT,\n",
    "  _bic_zc_mchlv4 STRING,\n",
    "  txtmd STRING,\n",
    "  file_creation_ts TIMESTAMP,\n",
    "  proc_date DATE,\n",
    "  start_date DATE,\n",
    "  end_date DATE\n",
    "\n",
    ")\n",
    "TBLPROPERTIES (\n",
    "  'DELTA.AUTOOPTIMIZE.OPTIMIZEWRITE' = 'TRUE',\n",
    "  'DELTA.AUTOOPTIMIZE.AUTOCOMPACT' = 'TRUE'\n",
    ") \n",
    "\"\"\")"
   ]
  },
  {
   "cell_type": "code",
   "execution_count": 0,
   "metadata": {
    "application/vnd.databricks.v1+cell": {
     "cellMetadata": {
      "byteLimit": 2048000,
      "rowLimit": 10000
     },
     "inputWidgets": {},
     "nuid": "f6a70cce-b165-4972-8434-af92f3c36abc",
     "showTitle": false,
     "tableResultSettingsMap": {},
     "title": ""
    }
   },
   "outputs": [],
   "source": [
    "spark.sql(f\"\"\"\n",
    "    CREATE OR REPLACE TEMP VIEW sap_zc_mchlv4\n",
    "    AS\n",
    "    WITH temp AS (\n",
    "        SELECT * EXCEPT(rn) FROM (\n",
    "            SELECT *, ROW_NUMBER() OVER (PARTITION BY _bic_zc_mchlv4, DATE(proc_date) ORDER BY proc_date) rn FROM (\n",
    "                SELECT * FROM temp_sap_zc_mchlv4\n",
    "            ) a\n",
    "        ) b WHERE b.rn = 1\n",
    "    ),\n",
    "    main AS (\n",
    "        SELECT FARM_FINGERPRINT(CONCAT(\n",
    "                    COALESCE(CAST(_bic_zc_mchlv4 AS STRING), \"\"), \n",
    "                    COALESCE(CAST(txtsh AS STRING), \"\"),\n",
    "                    COALESCE(CAST(txtmd AS STRING), \"\")\n",
    "                )) hash_id,\n",
    "                *,\n",
    "                DATE(proc_date) start_date \n",
    "        FROM temp\n",
    "    ),\n",
    "    main_2 AS (\n",
    "        SELECT *, \n",
    "               LAG(hash_id, 1) OVER (PARTITION BY _bic_zc_mchlv4 ORDER BY proc_date) hash_id_prev \n",
    "        FROM main\n",
    "    ),\n",
    "    main_3 AS (\n",
    "        SELECT * EXCEPT(hash_id_prev) \n",
    "        FROM main_2 \n",
    "        WHERE (hash_id != hash_id_prev OR hash_id_prev IS NULL)\n",
    "    ),\n",
    "    main_4 AS (\n",
    "        SELECT *, \n",
    "               LEAD(DATE(proc_date)) OVER (PARTITION BY _bic_zc_mchlv4 ORDER BY proc_date ASC) end_date \n",
    "        FROM main_3\n",
    "    )\n",
    "    SELECT \n",
    "        * EXCEPT(end_date), \n",
    "        COALESCE(DATE_ADD(end_date, -1), '2400-01-01') AS end_date \n",
    "    FROM main_4\n",
    "\"\"\")"
   ]
  },
  {
   "cell_type": "code",
   "execution_count": 0,
   "metadata": {
    "application/vnd.databricks.v1+cell": {
     "cellMetadata": {
      "byteLimit": 2048000,
      "rowLimit": 10000
     },
     "inputWidgets": {},
     "nuid": "d776721a-3ed0-4314-ae16-694981feabce",
     "showTitle": false,
     "tableResultSettingsMap": {},
     "title": ""
    }
   },
   "outputs": [],
   "source": [
    "spark.sql(f\"\"\"\n",
    "\tMERGE INTO {catalog_name}.udp_wcm_silver_sap_bw.sap_zc_mchlv4 inf_tbl\n",
    "\tUSING (\n",
    "\t\tSELECT _bic_zc_mchlv4, hash_id, start_date FROM sap_zc_mchlv4\n",
    "\t\t\tWHERE end_date = DATE '2400-01-01' \n",
    "\t) tmp_tbl\n",
    "\tON inf_tbl._bic_zc_mchlv4 = tmp_tbl._bic_zc_mchlv4 AND inf_tbl.hash_id != tmp_tbl.hash_id AND inf_tbl.end_date = DATE '2400-01-01'\n",
    "\tWHEN MATCHED THEN UPDATE SET inf_tbl.end_date = DATE_ADD(tmp_tbl.start_date, -1) \"\"\")"
   ]
  },
  {
   "cell_type": "code",
   "execution_count": 0,
   "metadata": {
    "application/vnd.databricks.v1+cell": {
     "cellMetadata": {
      "byteLimit": 2048000,
      "rowLimit": 10000
     },
     "inputWidgets": {},
     "nuid": "664d4baf-839b-4c6a-989a-63d68e919aba",
     "showTitle": false,
     "tableResultSettingsMap": {},
     "title": ""
    }
   },
   "outputs": [],
   "source": [
    "spark.sql(f\"\"\"\n",
    "\tMERGE INTO {catalog_name}.udp_wcm_silver_sap_bw.sap_zc_mchlv4 inf_tbl\n",
    "\t\tUSING sap_zc_mchlv4 tmp_tbl\n",
    "\t\tON inf_tbl.hash_id = tmp_tbl.hash_id  AND inf_tbl.end_date = DATE '2400-01-01'\n",
    "\t\tWHEN NOT MATCHED THEN INSERT * \"\"\")"
   ]
  }
 ],
 "metadata": {
  "application/vnd.databricks.v1+notebook": {
   "computePreferences": null,
   "dashboards": [],
   "environmentMetadata": {
    "base_environment": "",
    "environment_version": "2"
   },
   "inputWidgetPreferences": null,
   "language": "python",
   "notebookMetadata": {
    "mostRecentlyExecutedCommandWithImplicitDF": {
     "commandId": 4736130552782454,
     "dataframes": [
      "_sqldf"
     ]
    },
    "pythonIndentUnit": 4
   },
   "notebookName": "sap_zc_mchlv4",
   "widgets": {
    "environment": {
     "currentValue": "DEV",
     "nuid": "4f238d50-2259-4a7c-920f-e19441602dcd",
     "typedWidgetInfo": {
      "autoCreated": false,
      "defaultValue": "",
      "label": "",
      "name": "environment",
      "options": {
       "widgetDisplayType": "Text",
       "validationRegex": null
      },
      "parameterDataType": "String"
     },
     "widgetInfo": {
      "widgetType": "text",
      "defaultValue": "",
      "label": "",
      "name": "environment",
      "options": {
       "widgetType": "text",
       "autoCreated": null,
       "validationRegex": null
      }
     }
    },
    "proc_date": {
     "currentValue": "2025-05-29",
     "nuid": "767acef4-6fb9-4d83-841f-cad584d30e9e",
     "typedWidgetInfo": {
      "autoCreated": false,
      "defaultValue": "",
      "label": null,
      "name": "proc_date",
      "options": {
       "widgetDisplayType": "Text",
       "validationRegex": null
      },
      "parameterDataType": "String"
     },
     "widgetInfo": {
      "widgetType": "text",
      "defaultValue": "",
      "label": null,
      "name": "proc_date",
      "options": {
       "widgetType": "text",
       "autoCreated": null,
       "validationRegex": null
      }
     }
    }
   }
  },
  "language_info": {
   "name": "python"
  }
 },
 "nbformat": 4,
 "nbformat_minor": 0
}
