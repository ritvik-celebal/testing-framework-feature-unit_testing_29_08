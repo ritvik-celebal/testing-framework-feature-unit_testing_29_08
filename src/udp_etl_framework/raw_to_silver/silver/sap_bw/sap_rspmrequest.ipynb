{
 "cells": [
  {
   "cell_type": "code",
   "execution_count": 0,
   "metadata": {
    "application/vnd.databricks.v1+cell": {
     "cellMetadata": {
      "byteLimit": 2048000,
      "rowLimit": 10000
     },
     "inputWidgets": {},
     "nuid": "05d3aa3e-550b-46e4-b879-0a5790f0e8f0",
     "showTitle": false,
     "tableResultSettingsMap": {},
     "title": ""
    }
   },
   "outputs": [],
   "source": [
    "dbutils.widgets.text(\"proc_date\", \"\")\n",
    "proc_date = dbutils.widgets.get(\"proc_date\")"
   ]
  },
  {
   "cell_type": "code",
   "execution_count": 0,
   "metadata": {
    "application/vnd.databricks.v1+cell": {
     "cellMetadata": {
      "byteLimit": 2048000,
      "rowLimit": 10000
     },
     "inputWidgets": {},
     "nuid": "a06d3b2a-f6b2-4c42-83bd-f2d96309769b",
     "showTitle": false,
     "tableResultSettingsMap": {},
     "title": ""
    }
   },
   "outputs": [],
   "source": [
    "%run ../../../utils/common"
   ]
  },
  {
   "cell_type": "code",
   "execution_count": 0,
   "metadata": {
    "application/vnd.databricks.v1+cell": {
     "cellMetadata": {
      "byteLimit": 2048000,
      "rowLimit": 10000
     },
     "inputWidgets": {},
     "nuid": "f2acc32f-83c3-4db8-a7d3-adfa4924dc6e",
     "showTitle": false,
     "tableResultSettingsMap": {},
     "title": ""
    }
   },
   "outputs": [],
   "source": [
    "dbutils.widgets.text(\"environment\", \"\", \"\")\n",
    "environment = dbutils.widgets.get(\"environment\")"
   ]
  },
  {
   "cell_type": "code",
   "execution_count": 0,
   "metadata": {
    "application/vnd.databricks.v1+cell": {
     "cellMetadata": {
      "byteLimit": 2048000,
      "rowLimit": 10000
     },
     "inputWidgets": {},
     "nuid": "b17d351f-b35c-4239-8097-f29ba6daed0c",
     "showTitle": false,
     "tableResultSettingsMap": {},
     "title": ""
    }
   },
   "outputs": [],
   "source": [
    "catalog_name = settings[environment]['catalog_name']"
   ]
  },
  {
   "cell_type": "code",
   "execution_count": 0,
   "metadata": {
    "application/vnd.databricks.v1+cell": {
     "cellMetadata": {},
     "inputWidgets": {},
     "nuid": "e7db926e-e9f8-4b2d-9e5d-90cd2f5466fa",
     "showTitle": false,
     "tableResultSettingsMap": {},
     "title": ""
    }
   },
   "outputs": [],
   "source": [
    "create_temp_view_with_clean_columns(\n",
    "    spark,\n",
    "    catalog_name,\n",
    "    'udp_wcm_bronze_sap_bw',\n",
    "    'sap_bw_wcm_rspmrequest',\n",
    "    proc_date,\n",
    "    'temp_sap_rspmrequest'\n",
    ")"
   ]
  },
  {
   "cell_type": "code",
   "execution_count": 0,
   "metadata": {
    "application/vnd.databricks.v1+cell": {
     "cellMetadata": {
      "byteLimit": 2048000,
      "rowLimit": 10000
     },
     "inputWidgets": {},
     "nuid": "67d2c742-d24d-40bf-b014-381fd9d413e8",
     "showTitle": false,
     "tableResultSettingsMap": {},
     "title": ""
    }
   },
   "outputs": [],
   "source": [
    "spark.sql(f\"\"\"\n",
    "CREATE TABLE IF NOT EXISTS {catalog_name}.udp_wcm_silver_sap_bw.sap_rspmrequest\n",
    "(\n",
    "  hash_id BIGINT,\n",
    "  request_tsn STRING,\n",
    "  storage STRING,\n",
    "  last_operation_type STRING,\n",
    "  last_process_tsn STRING,\n",
    "  last_time_stamp STRING,\n",
    "  records BIGINT,\n",
    "  creation_end_time STRING,\n",
    "  request_status STRING,\n",
    "  request_status_before_deletion STRING,\n",
    "  request_is_in_process STRING,\n",
    "  tlogo STRING,\n",
    "  datatarget STRING,\n",
    "  syst_date STRING,\n",
    "  syst_time STRING,\n",
    "  housekeeping_status STRING,\n",
    "  uname STRING,\n",
    "  source STRING,\n",
    "  proc_date DATE,\n",
    "  file_creation_ts TIMESTAMP\n",
    ")\n",
    "TBLPROPERTIES (\n",
    "  'DELTA.AUTOOPTIMIZE.OPTIMIZEWRITE' = 'TRUE',\n",
    "  'DELTA.AUTOOPTIMIZE.AUTOCOMPACT' = 'TRUE'\n",
    ")\"\"\")"
   ]
  },
  {
   "cell_type": "code",
   "execution_count": 0,
   "metadata": {
    "application/vnd.databricks.v1+cell": {
     "cellMetadata": {
      "byteLimit": 2048000,
      "rowLimit": 10000
     },
     "inputWidgets": {},
     "nuid": "b9d4e4e3-9d23-4913-9c30-2ed6ccd6f869",
     "showTitle": false,
     "tableResultSettingsMap": {},
     "title": ""
    }
   },
   "outputs": [],
   "source": [
    "spark.sql(f\"\"\"\n",
    "CREATE OR REPLACE TEMP VIEW temp_view AS\n",
    "SELECT\n",
    "    request_tsn,\n",
    "    storage,\n",
    "    last_operation_type,\n",
    "    last_process_tsn,\n",
    "    last_time_stamp,\n",
    "    records,\n",
    "    creation_end_time,\n",
    "    request_status,\n",
    "    request_status_before_deletion,\n",
    "    request_is_in_process,\n",
    "    tlogo,\n",
    "    datatarget,         \n",
    "    syst_date,\n",
    "    syst_time,\n",
    "    housekeeping_status,\n",
    "    uname,\n",
    "    source, \n",
    "    proc_date,\n",
    "    file_creation_ts,\n",
    "    farm_fingerprint(CONCAT(\n",
    "        IFNULL(CAST(request_tsn AS STRING), \"\"),\n",
    "        IFNULL(CAST(storage AS STRING), \"\"),\n",
    "        IFNULL(CAST(last_operation_type AS STRING), \"\"),\n",
    "        IFNULL(CAST(last_process_tsn AS STRING), \"\"),\n",
    "        IFNULL(CAST(last_time_stamp AS STRING), \"\"),\n",
    "        IFNULL(CAST(records AS STRING), \"\"),\n",
    "        IFNULL(CAST(creation_end_time AS STRING), \"\"),\n",
    "        IFNULL(CAST(request_status AS STRING), \"\"),\n",
    "        IFNULL(CAST(request_status_before_deletion AS STRING), \"\"),\n",
    "        IFNULL(CAST(request_is_in_process AS STRING), \"\"),\n",
    "        IFNULL(CAST(tlogo AS STRING), \"\"),\n",
    "        IFNULL(CAST(datatarget AS STRING), \"\"),\n",
    "        IFNULL(CAST(syst_date AS STRING), \"\"),\n",
    "        IFNULL(CAST(syst_time AS STRING), \"\"),\n",
    "        IFNULL(CAST(housekeeping_status AS STRING), \"\"),\n",
    "        IFNULL(CAST(uname AS STRING), \"\"),\n",
    "        IFNULL(CAST(uname AS STRING), \"\"),\n",
    "        IFNULL(CAST(source AS STRING), \"\")\n",
    "    )) AS hash_id\n",
    "FROM temp_sap_rspmrequest\n",
    "\"\"\")"
   ]
  },
  {
   "cell_type": "code",
   "execution_count": 0,
   "metadata": {
    "application/vnd.databricks.v1+cell": {
     "cellMetadata": {
      "byteLimit": 2048000,
      "rowLimit": 10000
     },
     "inputWidgets": {},
     "nuid": "b45b2e4f-5d8b-49e8-a545-827162f4a9e9",
     "showTitle": false,
     "tableResultSettingsMap": {},
     "title": ""
    }
   },
   "outputs": [],
   "source": [
    "spark.sql(f\"\"\"\n",
    "MERGE INTO {catalog_name}.udp_wcm_silver_sap_bw.sap_rspmrequest main_tbl\n",
    "USING temp_view temp_tbl\n",
    "ON main_tbl.hash_id = temp_tbl.hash_id\n",
    "WHEN NOT MATCHED THEN INSERT *\n",
    "\"\"\")"
   ]
  }
 ],
 "metadata": {
  "application/vnd.databricks.v1+notebook": {
   "computePreferences": null,
   "dashboards": [],
   "environmentMetadata": {
    "base_environment": "",
    "environment_version": "2"
   },
   "inputWidgetPreferences": null,
   "language": "python",
   "notebookMetadata": {
    "mostRecentlyExecutedCommandWithImplicitDF": {
     "commandId": -1,
     "dataframes": [
      "_sqldf"
     ]
    },
    "pythonIndentUnit": 4
   },
   "notebookName": "sap_rspmrequest",
   "widgets": {
    "environment": {
     "currentValue": "DEV",
     "nuid": "db3ba562-9b72-43b9-8858-a96c16795fed",
     "typedWidgetInfo": {
      "autoCreated": false,
      "defaultValue": "",
      "label": "",
      "name": "environment",
      "options": {
       "widgetDisplayType": "Text",
       "validationRegex": null
      },
      "parameterDataType": "String"
     },
     "widgetInfo": {
      "widgetType": "text",
      "defaultValue": "",
      "label": "",
      "name": "environment",
      "options": {
       "widgetType": "text",
       "autoCreated": null,
       "validationRegex": null
      }
     }
    },
    "proc_date": {
     "currentValue": "2025-07-16",
     "nuid": "baed8ac0-2694-41b0-9c7d-ad5b09a50571",
     "typedWidgetInfo": {
      "autoCreated": false,
      "defaultValue": "",
      "label": null,
      "name": "proc_date",
      "options": {
       "widgetDisplayType": "Text",
       "validationRegex": null
      },
      "parameterDataType": "String"
     },
     "widgetInfo": {
      "widgetType": "text",
      "defaultValue": "",
      "label": null,
      "name": "proc_date",
      "options": {
       "widgetType": "text",
       "autoCreated": null,
       "validationRegex": null
      }
     }
    }
   }
  },
  "language_info": {
   "name": "python"
  }
 },
 "nbformat": 4,
 "nbformat_minor": 0
}
