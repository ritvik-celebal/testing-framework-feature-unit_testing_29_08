{
 "cells": [
  {
   "cell_type": "code",
   "execution_count": 0,
   "metadata": {
    "application/vnd.databricks.v1+cell": {
     "cellMetadata": {},
     "inputWidgets": {},
     "nuid": "644e140c-05d3-41c7-8311-4e2ad8ca5bdc",
     "showTitle": false,
     "tableResultSettingsMap": {},
     "title": ""
    }
   },
   "outputs": [],
   "source": [
    "dbutils.widgets.text(\"proc_date\", \"\", \"\")\n",
    "proc_date = dbutils.widgets.get(\"proc_date\")"
   ]
  },
  {
   "cell_type": "code",
   "execution_count": 0,
   "metadata": {
    "application/vnd.databricks.v1+cell": {
     "cellMetadata": {},
     "inputWidgets": {},
     "nuid": "83220b64-5ebc-4101-9da0-2231b73a9a1f",
     "showTitle": false,
     "tableResultSettingsMap": {},
     "title": ""
    }
   },
   "outputs": [],
   "source": [
    "%run ../../../utils/common"
   ]
  },
  {
   "cell_type": "code",
   "execution_count": 0,
   "metadata": {
    "application/vnd.databricks.v1+cell": {
     "cellMetadata": {},
     "inputWidgets": {},
     "nuid": "6855fd17-e8dc-4340-927e-b859a7edb489",
     "showTitle": false,
     "tableResultSettingsMap": {},
     "title": ""
    }
   },
   "outputs": [],
   "source": [
    "dbutils.widgets.text(\"environment\", \"\", \"\")\n",
    "environment = dbutils.widgets.get(\"environment\")"
   ]
  },
  {
   "cell_type": "code",
   "execution_count": 0,
   "metadata": {
    "application/vnd.databricks.v1+cell": {
     "cellMetadata": {},
     "inputWidgets": {},
     "nuid": "4436cbe8-cb4d-41c8-a1c0-6725c6592bb1",
     "showTitle": false,
     "tableResultSettingsMap": {},
     "title": ""
    }
   },
   "outputs": [],
   "source": [
    "catalog_name = settings[environment]['catalog_name']"
   ]
  },
  {
   "cell_type": "code",
   "execution_count": 0,
   "metadata": {
    "application/vnd.databricks.v1+cell": {
     "cellMetadata": {},
     "inputWidgets": {},
     "nuid": "c8814af3-8aa1-4d38-a3e0-15648c8864a3",
     "showTitle": false,
     "tableResultSettingsMap": {},
     "title": ""
    }
   },
   "outputs": [],
   "source": [
    "create_temp_view_with_clean_columns(\n",
    "    spark,\n",
    "    catalog_name,\n",
    "    'udp_wcm_bronze_sap_bw',\n",
    "    'sap_bw_wcm_vccmdm35',\n",
    "    proc_date,\n",
    "    'temp_sap_vccmdm35'\n",
    ")"
   ]
  },
  {
   "cell_type": "code",
   "execution_count": 0,
   "metadata": {
    "application/vnd.databricks.v1+cell": {
     "cellMetadata": {},
     "inputWidgets": {},
     "nuid": "cd62cf9e-eba0-44b9-98bb-c2dcfd87b999",
     "showTitle": false,
     "tableResultSettingsMap": {},
     "title": ""
    }
   },
   "outputs": [],
   "source": [
    "spark.sql(f\"\"\"\n",
    "CREATE TABLE {catalog_name}.udp_wcm_silver_sap_bw.sap_vccmdm35\n",
    "(\n",
    "  hash_id BIGINT,\n",
    "  recordmode STRING,\n",
    "  knumh STRING,\n",
    "  knrmm DOUBLE,\n",
    "  knrnm DOUBLE,\n",
    "  knrme STRING,\n",
    "  knrzm DOUBLE,\n",
    "  knrez STRING,\n",
    "  kappl STRING,\n",
    "  kschl STRING,\n",
    "  knrmat STRING,\n",
    "  knrrr STRING,\n",
    "  knrdd STRING,\n",
    "  knr_ak STRING,\n",
    "  kotabnr STRING,\n",
    "  vakey STRING,\n",
    "  proc_date DATE\n",
    ")\n",
    "TBLPROPERTIES (\n",
    "  'DELTA.AUTOOPTIMIZE.OPTIMIZEWRITE' = 'TRUE',\n",
    "  'DELTA.AUTOOPTIMIZE.AUTOCOMPACT' = 'TRUE'\n",
    ") \n",
    "-- PARTITION BY DATE(proc_date);\n",
    "\"\"\")"
   ]
  },
  {
   "cell_type": "code",
   "execution_count": 0,
   "metadata": {
    "application/vnd.databricks.v1+cell": {
     "cellMetadata": {},
     "inputWidgets": {},
     "nuid": "f856428a-0269-4e06-96b3-7d3b5ce49a17",
     "showTitle": false,
     "tableResultSettingsMap": {},
     "title": ""
    }
   },
   "outputs": [],
   "source": [
    "spark.sql(f\"\"\"\n",
    "CREATE OR REPLACE TEMP VIEW temp_sap_vccmdm35 \n",
    "AS\n",
    "WITH temp AS (\n",
    "SELECT  reqtsn\n",
    "        ,datapakid\n",
    "        ,record\n",
    "        ,recordmode\n",
    "        ,IF(knumh     = '',NULL,LTRIM('0', knumh)   ) knumh\n",
    "        ,knrmm\n",
    "        ,knrnm\n",
    "        ,IF(knrme     = '',NULL,knrme   ) knrme\n",
    "        ,knrzm\n",
    "        ,IF(knrez     = '',NULL,knrez   ) knrez\n",
    "        ,IF(kappl     = '',NULL,kappl   ) kappl\n",
    "        ,IF(kschl     = '',NULL,kschl   ) kschl\n",
    "        ,IF(knrmat     = '',NULL,LTRIM('0', knrmat)   ) knrmat\n",
    "        ,IF(knrrr     = '',NULL,LTRIM('0', knrrr)   ) knrrr\n",
    "        ,IF(knrdd     = '',NULL,LTRIM('0', knrdd)   ) knrdd\n",
    "        ,IF(knr_ak     = '',NULL,LTRIM('0', knr_ak)   ) knr_ak\n",
    "        ,IF(kotabnr     = '',NULL,LTRIM('0', kotabnr)   ) kotabnr\n",
    "        ,IF(vakey     = '',NULL,vakey   ) vakey\n",
    "        ,proc_date\n",
    "         FROM (\n",
    "                    SELECT * EXCEPT(rn) FROM (\n",
    "                        SELECT *, ROW_NUMBER() OVER (PARTITION BY reqtsn, datapakid, record ORDER BY proc_date DESC) rn FROM  temp_sap_vccmdm35 \n",
    "                    ) a WHERE rn = 1 \n",
    "                ) a\n",
    "),\n",
    "main AS (\n",
    "SELECT FARM_FINGERPRINT(CONCAT(\n",
    "            IFNULL(CAST(knumh AS STRING), \"\")\n",
    "        )) hash_id,\n",
    "        * FROM temp\n",
    "),\n",
    "main_2 AS (\n",
    "    SELECT * \n",
    "    , ROW_NUMBER() OVER (PARTITION BY hash_id ORDER BY reqtsn DESC,datapakid DESC,record  DESC) rn \n",
    "        FROM main\n",
    ")\n",
    "SELECT * EXCEPT(rn,reqtsn,datapakid,record) FROM main_2 WHERE rn = 1;\n",
    "\"\"\")"
   ]
  },
  {
   "cell_type": "code",
   "execution_count": 0,
   "metadata": {
    "application/vnd.databricks.v1+cell": {
     "cellMetadata": {},
     "inputWidgets": {},
     "nuid": "615fb159-b9b6-4119-a489-a4587ecf4f9b",
     "showTitle": false,
     "tableResultSettingsMap": {},
     "title": ""
    }
   },
   "outputs": [],
   "source": [
    "spark.sql(f\"\"\"\n",
    "MERGE INTO {catalog_name}.udp_wcm_silver_sap_bw.sap_vccmdm35 main_tbl\n",
    "USING SAP_VCCMDM35 AS temp_tbl\n",
    "ON main_tbl.hash_id = temp_tbl.hash_id \n",
    "WHEN NOT MATCHED THEN INSERT *\n",
    "\"\"\")"
   ]
  }
 ],
 "metadata": {
  "application/vnd.databricks.v1+notebook": {
   "computePreferences": null,
   "dashboards": [],
   "environmentMetadata": {
    "base_environment": "",
    "environment_version": "2"
   },
   "inputWidgetPreferences": null,
   "language": "python",
   "notebookMetadata": {
    "mostRecentlyExecutedCommandWithImplicitDF": {
     "commandId": 6666120750894391,
     "dataframes": [
      "_sqldf"
     ]
    },
    "pythonIndentUnit": 4
   },
   "notebookName": "sap_vccmdm35",
   "widgets": {}
  },
  "language_info": {
   "name": "python"
  }
 },
 "nbformat": 4,
 "nbformat_minor": 0
}
