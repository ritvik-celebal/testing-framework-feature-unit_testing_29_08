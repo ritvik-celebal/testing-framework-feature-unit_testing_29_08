{
 "cells": [
  {
   "cell_type": "code",
   "execution_count": 0,
   "metadata": {
    "application/vnd.databricks.v1+cell": {
     "cellMetadata": {
      "byteLimit": 2048000,
      "rowLimit": 10000
     },
     "inputWidgets": {},
     "nuid": "9944dc18-4cf0-4a06-abe3-eb58198095dc",
     "showTitle": false,
     "tableResultSettingsMap": {},
     "title": ""
    }
   },
   "outputs": [],
   "source": [
    "dbutils.widgets.text(\"proc_date\", \"\")\n",
    "proc_date = dbutils.widgets.get(\"proc_date\")"
   ]
  },
  {
   "cell_type": "code",
   "execution_count": 0,
   "metadata": {
    "application/vnd.databricks.v1+cell": {
     "cellMetadata": {
      "byteLimit": 2048000,
      "rowLimit": 10000
     },
     "inputWidgets": {},
     "nuid": "cfb1f13a-9031-48a4-82f0-7da577d91ccf",
     "showTitle": false,
     "tableResultSettingsMap": {},
     "title": ""
    }
   },
   "outputs": [],
   "source": [
    "%run ../../../utils/common"
   ]
  },
  {
   "cell_type": "code",
   "execution_count": 0,
   "metadata": {
    "application/vnd.databricks.v1+cell": {
     "cellMetadata": {
      "byteLimit": 2048000,
      "rowLimit": 10000
     },
     "inputWidgets": {},
     "nuid": "6c3da5bf-af4b-414d-8f6a-9efcbe957f6e",
     "showTitle": false,
     "tableResultSettingsMap": {},
     "title": ""
    }
   },
   "outputs": [],
   "source": [
    "dbutils.widgets.text(\"environment\", \"\", \"\")\n",
    "environment = dbutils.widgets.get(\"environment\")"
   ]
  },
  {
   "cell_type": "code",
   "execution_count": 0,
   "metadata": {
    "application/vnd.databricks.v1+cell": {
     "cellMetadata": {
      "byteLimit": 2048000,
      "rowLimit": 10000
     },
     "inputWidgets": {},
     "nuid": "f8cae328-74ca-4b9f-b787-564915ad9489",
     "showTitle": false,
     "tableResultSettingsMap": {},
     "title": ""
    }
   },
   "outputs": [],
   "source": [
    "catalog_name = settings[environment]['catalog_name']\n",
    "print(catalog_name)"
   ]
  },
  {
   "cell_type": "code",
   "execution_count": 0,
   "metadata": {
    "application/vnd.databricks.v1+cell": {
     "cellMetadata": {
      "byteLimit": 2048000,
      "rowLimit": 10000
     },
     "inputWidgets": {},
     "nuid": "e310b350-eb3f-49e6-99e5-eb17bef0bf99",
     "showTitle": false,
     "tableResultSettingsMap": {},
     "title": ""
    }
   },
   "outputs": [],
   "source": [
    "create_temp_view_with_clean_columns(\n",
    "    spark,\n",
    "    catalog_name,\n",
    "    'udp_wcm_bronze_sap_bw',\n",
    "    'sap_bw_wcm_0plant',\n",
    "    proc_date,\n",
    "    'temp_sap_0plant'\n",
    ")"
   ]
  },
  {
   "cell_type": "code",
   "execution_count": 0,
   "metadata": {
    "application/vnd.databricks.v1+cell": {
     "cellMetadata": {
      "byteLimit": 2048000,
      "rowLimit": 10000
     },
     "inputWidgets": {},
     "nuid": "db1b3331-1e32-47ba-8a6b-a31345664108",
     "showTitle": false,
     "tableResultSettingsMap": {},
     "title": ""
    }
   },
   "outputs": [],
   "source": [
    "spark.sql(f\"\"\"\n",
    "CREATE TABLE IF NOT EXISTS {catalog_name}.udp_wcm_silver_sap_bw.sap_0plant\n",
    "(\n",
    "  hash_id BIGINT,\n",
    "  plant STRING,\n",
    "  country STRING,\n",
    "  distr_chan STRING,\n",
    "  factcal_id STRING,\n",
    "  latitude FLOAT,\n",
    "  loc_currcy STRING,\n",
    "  longitude FLOAT,\n",
    "  plantcat STRING,\n",
    "  postal_cd STRING,\n",
    "  postcd_gis STRING,\n",
    "  purch_org STRING,\n",
    "  region STRING,\n",
    "  rt_custpl STRING,\n",
    "  salesorg STRING,\n",
    "  sales_dist STRING,\n",
    "  comp_code STRING,\n",
    "  _bic_zc_sup_rg STRING,\n",
    "  _bic_zc_region STRING,\n",
    "  _bic_zc_saunit STRING,\n",
    "  segment STRING,\n",
    "  _bic_zk_saqty FLOAT,\n",
    "  _bic_zk_reaqty FLOAT,\n",
    "  _bic_zk_numflr FLOAT,\n",
    "  currency STRING,\n",
    "  _bic_zk_renamt FLOAT,\n",
    "  _bic_zc_stoloc STRING,\n",
    "  crm_delblk STRING,\n",
    "  _bic_zc_catsiz STRING,\n",
    "  _bic_zc_posout STRING,\n",
    "  _bic_zc_posin STRING,\n",
    "  _bic_zc_rptsgm STRING,\n",
    "  _bic_zc_catage STRING,\n",
    "  _bic_zc_stosts STRING,\n",
    "  _bic_zc_kpists STRING,\n",
    "  street STRING,\n",
    "  name STRING,\n",
    "  name2 STRING,\n",
    "  city STRING,\n",
    "  email_addr STRING,\n",
    "  addr_numbr STRING,\n",
    "  fax_number STRING,\n",
    "  tel_number STRING,\n",
    "  _bic_zc_sitel2 STRING,\n",
    "  _bic_zc_sitel3 STRING,\n",
    "  _bic_zc_gplant STRING,\n",
    "  _bic_zc_dcgr01 STRING,\n",
    "  _bic_zc_subrg1 STRING,\n",
    "  proc_date STRING,\n",
    "  file_creation_ts TIMESTAMP,\n",
    "  rt_lbldatf DATE,\n",
    "  rt_lbldatt DATE,\n",
    "  rt_lcldat DATE,\n",
    "  rt_lopdat DATE,\n",
    "  aedat DATE,\n",
    "  start_date DATE,\n",
    "  end_date DATE\n",
    ") \n",
    "TBLPROPERTIES (\n",
    "  'DELTA.AUTOOPTIMIZE.OPTIMIZEWRITE' = 'true',\n",
    "  'DELTA.AUTOOPTIMIZE.AUTOCOMPACT' = 'true'\n",
    ")\n",
    "\"\"\")"
   ]
  },
  {
   "cell_type": "code",
   "execution_count": 0,
   "metadata": {
    "application/vnd.databricks.v1+cell": {
     "cellMetadata": {
      "byteLimit": 2048000,
      "rowLimit": 10000
     },
     "inputWidgets": {},
     "nuid": "0e81f25f-ea9d-4d7b-bf2e-f10772b5cce8",
     "showTitle": false,
     "tableResultSettingsMap": {},
     "title": ""
    }
   },
   "outputs": [],
   "source": [
    "spark.sql(\"\"\"\n",
    "CREATE OR REPLACE TEMP VIEW sap_0plant AS\n",
    "WITH temp AS (\n",
    "    SELECT * EXCEPT(rn) FROM (\n",
    "        SELECT *, ROW_NUMBER() OVER (PARTITION BY plant, DATE(proc_date) ORDER BY proc_date) AS rn\n",
    "        FROM (\n",
    "            SELECT\n",
    "                plant,\n",
    "                IF(country = '', NULL, country) AS country,\n",
    "                IF(distr_chan = '', NULL, distr_chan) AS distr_chan,\n",
    "                CAST(NULL AS STRING) AS factcal_id,\n",
    "                latitude,\n",
    "                IF(loc_currcy = '', NULL, loc_currcy) AS loc_currcy,\n",
    "                longitude,\n",
    "                CAST(NULL AS STRING) AS plantcat,\n",
    "                CAST(NULL AS STRING) AS postal_cd,\n",
    "                IF(postcd_gis = '', NULL, postcd_gis) AS postcd_gis,\n",
    "                IF(purch_org = '', NULL, purch_org) AS purch_org,\n",
    "                IF(region = '', NULL, region) AS region,\n",
    "                IF(rt_custpl = '', NULL, LTRIM('0', rt_custpl)) AS rt_custpl,\n",
    "                IF(salesorg = '', NULL, LTRIM('0', salesorg)) AS salesorg,\n",
    "                IF(sales_dist = '', NULL, sales_dist) AS sales_dist,\n",
    "                IF(comp_code = '', NULL, LTRIM('0', comp_code)) AS comp_code,\n",
    "                IF(_bic_zc_sup_rg = '', NULL, _bic_zc_sup_rg) AS _bic_zc_sup_rg,\n",
    "                IF(_bic_zc_region = '', NULL, _bic_zc_region) AS _bic_zc_region,\n",
    "                IF(_bic_zc_saunit = '', NULL, _bic_zc_saunit) AS _bic_zc_saunit,\n",
    "                IF(segment = '', NULL, LTRIM('0', segment)) AS segment,\n",
    "                _bic_zk_saqty as _bic_zk_saqty,\n",
    "                _bic_zk_reaqty as _bic_zk_reaqty,\n",
    "                _bic_zk_numflr as _bic_zk_numflr,\n",
    "                IF(currency = '', NULL, currency) AS currency,\n",
    "                _bic_zk_renamt as _bic_zk_renamt,\n",
    "                IF(_bic_zc_stoloc = '', NULL, _bic_zc_stoloc) AS _bic_zc_stoloc,\n",
    "                IF(crm_delblk = '', NULL, crm_delblk) AS crm_delblk,\n",
    "                IF(_bic_zc_catsiz = '', NULL, _bic_zc_catsiz) AS _bic_zc_catsiz,\n",
    "                IF(_bic_zc_posout = '', NULL, _bic_zc_posout) AS _bic_zc_posout,\n",
    "                IF(_bic_zc_posin = '', NULL, _bic_zc_posin) AS _bic_zc_posin,\n",
    "                IF(_bic_zc_rptsgm = '', NULL, LTRIM('0', _bic_zc_rptsgm)) AS _bic_zc_rptsgm,\n",
    "                IF(_bic_zc_catage = '', NULL, _bic_zc_catage) AS _bic_zc_catage,\n",
    "                IF(_bic_zc_stosts = '', NULL, _bic_zc_stosts) AS _bic_zc_stosts,\n",
    "                IF(_bic_zc_kpists = '', NULL, _bic_zc_kpists) AS _bic_zc_kpists,\n",
    "                IF(street = '', NULL, street) AS street,\n",
    "                IF(name = '', NULL, name) AS name,\n",
    "                IF(name2 = '', NULL, name2) AS name2,\n",
    "                IF(city = '', NULL, city) AS city,\n",
    "                IF(email_addr = '', NULL, email_addr) AS email_addr,\n",
    "                IF(addr_numbr = '', NULL, addr_numbr) AS addr_numbr,\n",
    "                IF(fax_number = '', NULL, fax_number) AS fax_number,\n",
    "                IF(tel_number = '', NULL, tel_number) AS tel_number,\n",
    "                IF(_bic_zc_sitel2 = '', NULL, _bic_zc_sitel2) AS _bic_zc_sitel2,\n",
    "                IF(_bic_zc_sitel3 = '', NULL, _bic_zc_sitel3) AS _bic_zc_sitel3,\n",
    "                IF(_bic_zc_gplant = '', NULL, _bic_zc_gplant) AS _bic_zc_gplant,\n",
    "                IF(_bic_zc_dcgr01 = '', NULL, _bic_zc_dcgr01) AS _bic_zc_dcgr01,\n",
    "                IF(_bic_zc_subrg1 = '', NULL, _bic_zc_subrg1) AS _bic_zc_subrg1,\n",
    "                proc_date,\n",
    "                file_creation_ts,\n",
    "                TO_DATE(IF(rt_lbldatf='00000000', NULL, rt_lbldatf), 'yyyyMMdd') AS rt_lbldatf,\n",
    "                TO_DATE(IF(rt_lbldatt='00000000', NULL, rt_lbldatt), 'yyyyMMdd') AS rt_lbldatt,\n",
    "                TO_DATE(IF(rt_lcldat='00000000', NULL, rt_lcldat), 'yyyyMMdd') AS rt_lcldat,\n",
    "                TO_DATE(IF(rt_lopdat= '00000000', NULL, rt_lopdat), 'yyyyMMdd') AS rt_lopdat,\n",
    "                TO_DATE(IF(aedat= '00000000', NULL, aedat), 'yyyyMMdd') AS aedat\n",
    "            FROM temp_sap_0plant\n",
    "        ) a\n",
    "    ) a WHERE rn = 1\n",
    "),\n",
    "main AS (\n",
    "    SELECT\n",
    "        farm_fingerprint(CONCAT(\n",
    "            IFNULL(CAST(plant AS STRING), \"\"), \n",
    "            IFNULL(CAST(country AS STRING), \"\"), \n",
    "            IFNULL(CAST(distr_chan AS STRING), \"\"), \n",
    "            IFNULL(CAST(factcal_id AS STRING), \"\"), \n",
    "            IFNULL(CASE WHEN CAST(latitude AS DOUBLE) = CAST(CAST(latitude AS DOUBLE) AS BIGINT) THEN CAST(CAST(latitude AS BIGINT) AS STRING) ELSE TRIM(TRAILING '0' FROM(CAST(latitude AS DECIMAL(38,10)))) END, \"\"), \n",
    "            IFNULL(CAST(loc_currcy AS STRING), \"\"), \n",
    "           IFNULL(CASE WHEN CAST(longitude AS DOUBLE) = CAST(CAST(longitude AS DOUBLE) AS BIGINT) THEN CAST(CAST(longitude AS BIGINT) AS STRING) ELSE TRIM(TRAILING '0' FROM(CAST(longitude AS DECIMAL(38,10)))) END, \"\"), \n",
    "            IFNULL(CAST(plantcat AS STRING), \"\"), \n",
    "            IFNULL(CAST(postal_cd AS STRING), \"\"), \n",
    "            IFNULL(CAST(postcd_gis AS STRING), \"\"), \n",
    "            IFNULL(CAST(purch_org AS STRING), \"\"), \n",
    "            IFNULL(CAST(region AS STRING), \"\"), \n",
    "            IFNULL(CAST(rt_custpl AS STRING), \"\"), \n",
    "            IFNULL(CAST(rt_lbldatf AS STRING), \"\"), \n",
    "            IFNULL(CAST(rt_lbldatt AS STRING), \"\"), \n",
    "            IFNULL(CAST(rt_lcldat AS STRING), \"\"), \n",
    "            IFNULL(CAST(rt_lopdat AS STRING), \"\"), \n",
    "            IFNULL(CAST(salesorg AS STRING), \"\"), \n",
    "            IFNULL(CAST(sales_dist AS STRING), \"\"), \n",
    "            IFNULL(CAST(comp_code AS STRING), \"\"), \n",
    "            IFNULL(CAST(_bic_zc_sup_rg AS STRING), \"\"), \n",
    "            IFNULL(CAST(_bic_zc_region AS STRING), \"\"), \n",
    "            IFNULL(CAST(_bic_zc_saunit AS STRING), \"\"), \n",
    "            IFNULL(CAST(segment AS STRING), \"\"), \n",
    "            IFNULL(CASE WHEN CAST(_bic_zk_saqty AS DOUBLE) = CAST(CAST(_bic_zk_saqty AS DOUBLE) AS BIGINT) THEN CAST(CAST(_bic_zk_saqty AS BIGINT) AS STRING) ELSE TRIM(TRAILING '0' FROM(CAST(_bic_zk_saqty AS DECIMAL(38,10)))) END, \"\"), \n",
    "            IFNULL(CASE WHEN CAST(_bic_zk_reaqty AS DOUBLE) = CAST(CAST(_bic_zk_reaqty AS DOUBLE) AS BIGINT) THEN CAST(CAST(_bic_zk_reaqty AS BIGINT) AS STRING) ELSE TRIM(TRAILING '0' FROM(CAST(_bic_zk_reaqty AS DECIMAL(38,10)))) END, \"\"), \n",
    "            IFNULL(CASE WHEN CAST(_bic_zk_numflr AS DOUBLE) = CAST(CAST(_bic_zk_numflr AS DOUBLE) AS BIGINT) THEN CAST(CAST(_bic_zk_numflr AS BIGINT) AS STRING) ELSE TRIM(TRAILING '0' FROM(CAST(_bic_zk_numflr AS DECIMAL(38,10)))) END, \"\"), \n",
    "            IFNULL(CAST(currency AS STRING), \"\"), \n",
    "            IFNULL(CASE WHEN CAST(_bic_zk_renamt AS DOUBLE) = CAST(CAST(_bic_zk_renamt AS DOUBLE) AS BIGINT) THEN CAST(CAST(_bic_zk_renamt AS BIGINT) AS STRING) ELSE TRIM(TRAILING '0' FROM(CAST(_bic_zk_renamt AS DECIMAL(38,10)))) END, \"\"), \n",
    "            IFNULL(CAST(_bic_zc_stoloc AS STRING), \"\"), \n",
    "            IFNULL(CAST(crm_delblk AS STRING), \"\"), \n",
    "            IFNULL(CAST(_bic_zc_catsiz AS STRING), \"\"), \n",
    "            IFNULL(CAST(_bic_zc_posout AS STRING), \"\"), \n",
    "            IFNULL(CAST(_bic_zc_posin AS STRING), \"\"), \n",
    "            IFNULL(CAST(_bic_zc_rptsgm AS STRING), \"\"), \n",
    "            IFNULL(CAST(_bic_zc_catage AS STRING), \"\"), \n",
    "            IFNULL(CAST(_bic_zc_stosts AS STRING), \"\"), \n",
    "            IFNULL(CAST(_bic_zc_kpists AS STRING), \"\"), \n",
    "            IFNULL(CAST(street AS STRING), \"\"), \n",
    "            IFNULL(CAST(name AS STRING), \"\"), \n",
    "            IFNULL(CAST(name2 AS STRING), \"\"), \n",
    "            IFNULL(CAST(city AS STRING), \"\"), \n",
    "            IFNULL(CAST(email_addr AS STRING), \"\"), \n",
    "            IFNULL(CAST(addr_numbr AS STRING), \"\"), \n",
    "            IFNULL(CAST(fax_number AS STRING), \"\"), \n",
    "            IFNULL(CAST(tel_number AS STRING), \"\"), \n",
    "            IFNULL(CAST(aedat AS STRING), \"\"), \n",
    "            IFNULL(CAST(_bic_zc_sitel2 AS STRING), \"\"), \n",
    "            IFNULL(CAST(_bic_zc_sitel3 AS STRING), \"\"), \n",
    "            IFNULL(CAST(_bic_zc_gplant AS STRING), \"\"), \n",
    "            IFNULL(CAST(_bic_zc_dcgr01 AS STRING), \"\"), \n",
    "            IFNULL(CAST(_bic_zc_subrg1 AS STRING), \"\"), \n",
    "            IFNULL(CAST(rt_lbldatf AS STRING), \"\"), \n",
    "            IFNULL(CAST(rt_lbldatt AS STRING), \"\"), \n",
    "            IFNULL(CAST(rt_lcldat AS STRING), \"\"), \n",
    "            IFNULL(CAST(rt_lopdat AS STRING), \"\")\n",
    "        )) AS hash_id,\n",
    "        *,\n",
    "        DATE(proc_date) AS start_date\n",
    "    FROM temp\n",
    "),\n",
    "main_2 AS (\n",
    "    SELECT *, LAG(hash_id, 1) OVER (PARTITION BY plant ORDER BY proc_date) AS hash_id_prev\n",
    "    FROM main\n",
    "),\n",
    "main_3 AS (\n",
    "    SELECT * EXCEPT(hash_id_prev)\n",
    "    FROM main_2\n",
    "    WHERE hash_id != hash_id_prev OR hash_id_prev IS NULL\n",
    "),\n",
    "main_4 AS (\n",
    "    SELECT *,\n",
    "        LEAD(DATE(proc_date)) OVER (PARTITION BY plant ORDER BY proc_date ASC) AS end_date\n",
    "    FROM main_3\n",
    ")\n",
    "SELECT * EXCEPT(end_date),\n",
    "    IFNULL(DATE_ADD(end_date, -1), DATE('2400-01-01')) AS end_date\n",
    "FROM main_4\n",
    "\"\"\")"
   ]
  },
  {
   "cell_type": "code",
   "execution_count": 0,
   "metadata": {
    "application/vnd.databricks.v1+cell": {
     "cellMetadata": {
      "byteLimit": 2048000,
      "rowLimit": 10000
     },
     "inputWidgets": {},
     "nuid": "099b6c64-c894-4dea-96aa-b7b85e289194",
     "showTitle": false,
     "tableResultSettingsMap": {},
     "title": ""
    }
   },
   "outputs": [],
   "source": [
    "spark.sql(f\"\"\"\n",
    "MERGE INTO {catalog_name}.udp_wcm_silver_sap_bw.sap_0plant inf_tbl\n",
    "USING (\n",
    "    SELECT plant, hash_id, start_date \n",
    "    FROM sap_0plant\n",
    "    WHERE end_date = '2400-01-01'\n",
    ") tmp_tbl\n",
    "ON inf_tbl.plant = tmp_tbl.plant AND inf_tbl.hash_id != tmp_tbl.hash_id AND inf_tbl.end_date = '2400-01-01'\n",
    "WHEN MATCHED THEN UPDATE SET inf_tbl.end_date = DATE_SUB(tmp_tbl.start_date, 1) \"\"\")"
   ]
  },
  {
   "cell_type": "code",
   "execution_count": 0,
   "metadata": {
    "application/vnd.databricks.v1+cell": {
     "cellMetadata": {
      "byteLimit": 2048000,
      "rowLimit": 10000
     },
     "inputWidgets": {},
     "nuid": "85e0a827-df00-47b9-8c5f-eae5c3cd5bcb",
     "showTitle": false,
     "tableResultSettingsMap": {},
     "title": ""
    }
   },
   "outputs": [],
   "source": [
    "spark.sql(f\"\"\"\n",
    "MERGE INTO {catalog_name}.udp_wcm_silver_sap_bw.sap_0plant inf_tbl\n",
    "USING sap_0plant tmp_tbl\n",
    "ON inf_tbl.hash_id = tmp_tbl.hash_id AND inf_tbl.end_date = '2400-01-01'\n",
    "WHEN NOT MATCHED THEN INSERT * \"\"\")"
   ]
  }
 ],
 "metadata": {
  "application/vnd.databricks.v1+notebook": {
   "computePreferences": null,
   "dashboards": [],
   "environmentMetadata": {
    "base_environment": "",
    "environment_version": "2"
   },
   "inputWidgetPreferences": null,
   "language": "python",
   "notebookMetadata": {
    "mostRecentlyExecutedCommandWithImplicitDF": {
     "commandId": 6350561386722490,
     "dataframes": [
      "_sqldf"
     ]
    },
    "pythonIndentUnit": 4
   },
   "notebookName": "sap_0plant",
   "widgets": {
    "environment": {
     "currentValue": "DEV",
     "nuid": "367bc921-e480-42d3-bebf-5a64b481b156",
     "typedWidgetInfo": {
      "autoCreated": false,
      "defaultValue": "",
      "label": "",
      "name": "environment",
      "options": {
       "widgetDisplayType": "Text",
       "validationRegex": null
      },
      "parameterDataType": "String"
     },
     "widgetInfo": {
      "widgetType": "text",
      "defaultValue": "",
      "label": "",
      "name": "environment",
      "options": {
       "widgetType": "text",
       "autoCreated": null,
       "validationRegex": null
      }
     }
    },
    "proc_date": {
     "currentValue": "2025-07-15",
     "nuid": "1f0e1e4c-20b9-4059-a9e3-abb30e0207d6",
     "typedWidgetInfo": {
      "autoCreated": false,
      "defaultValue": "",
      "label": null,
      "name": "proc_date",
      "options": {
       "widgetDisplayType": "Text",
       "validationRegex": null
      },
      "parameterDataType": "String"
     },
     "widgetInfo": {
      "widgetType": "text",
      "defaultValue": "",
      "label": null,
      "name": "proc_date",
      "options": {
       "widgetType": "text",
       "autoCreated": null,
       "validationRegex": null
      }
     }
    }
   }
  },
  "language_info": {
   "name": "python"
  }
 },
 "nbformat": 4,
 "nbformat_minor": 0
}
