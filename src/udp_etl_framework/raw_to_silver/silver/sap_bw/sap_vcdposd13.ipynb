{
 "cells": [
  {
   "cell_type": "code",
   "execution_count": 0,
   "metadata": {
    "application/vnd.databricks.v1+cell": {
     "cellMetadata": {},
     "inputWidgets": {},
     "nuid": "388fa0e5-ae47-4cb9-8897-886ab5a13ca0",
     "showTitle": false,
     "tableResultSettingsMap": {},
     "title": ""
    }
   },
   "outputs": [],
   "source": [
    "dbutils.widgets.text(\"proc_date\", \"\")\n",
    "proc_date = dbutils.widgets.get(\"proc_date\")"
   ]
  },
  {
   "cell_type": "code",
   "execution_count": 0,
   "metadata": {
    "application/vnd.databricks.v1+cell": {
     "cellMetadata": {
      "byteLimit": 2048000,
      "rowLimit": 10000
     },
     "inputWidgets": {},
     "nuid": "9fb10ef9-aeca-4e5c-8f03-e90ed7b5decd",
     "showTitle": false,
     "tableResultSettingsMap": {},
     "title": ""
    }
   },
   "outputs": [],
   "source": [
    "%run ../../../utils/common"
   ]
  },
  {
   "cell_type": "code",
   "execution_count": 0,
   "metadata": {
    "application/vnd.databricks.v1+cell": {
     "cellMetadata": {
      "byteLimit": 2048000,
      "rowLimit": 10000
     },
     "inputWidgets": {},
     "nuid": "d18cdc21-7302-4ab3-8b88-b2285f6186c4",
     "showTitle": false,
     "tableResultSettingsMap": {},
     "title": ""
    }
   },
   "outputs": [],
   "source": [
    "dbutils.widgets.text(\"environment\", \"\", \"\")\n",
    "environment = dbutils.widgets.get(\"environment\")"
   ]
  },
  {
   "cell_type": "code",
   "execution_count": 0,
   "metadata": {
    "application/vnd.databricks.v1+cell": {
     "cellMetadata": {
      "byteLimit": 2048000,
      "rowLimit": 10000
     },
     "inputWidgets": {},
     "nuid": "c22a2b44-3894-42f5-89d2-84bb05200c4a",
     "showTitle": false,
     "tableResultSettingsMap": {},
     "title": ""
    }
   },
   "outputs": [],
   "source": [
    "catalog_name = settings[environment]['catalog_name']"
   ]
  },
  {
   "cell_type": "code",
   "execution_count": 0,
   "metadata": {
    "application/vnd.databricks.v1+cell": {
     "cellMetadata": {},
     "inputWidgets": {},
     "nuid": "0832314c-6013-42fc-b49b-5b4d669f9523",
     "showTitle": false,
     "tableResultSettingsMap": {},
     "title": ""
    }
   },
   "outputs": [],
   "source": [
    "create_temp_view_with_clean_columns(\n",
    "    spark,\n",
    "    catalog_name,\n",
    "    'udp_wcm_bronze_sap_bw',\n",
    "    'sap_bw_wcm_vccposd50',\n",
    "    proc_date,\n",
    "    'temp_sap_vcdposd13'\n",
    ")"
   ]
  },
  {
   "cell_type": "code",
   "execution_count": 0,
   "metadata": {
    "application/vnd.databricks.v1+cell": {
     "cellMetadata": {
      "byteLimit": 2048000,
      "implicitDf": true,
      "rowLimit": 10000
     },
     "inputWidgets": {},
     "nuid": "b1e8e455-0769-4d7a-8ab4-4f5ffe991730",
     "showTitle": false,
     "tableResultSettingsMap": {},
     "title": ""
    }
   },
   "outputs": [],
   "source": [
    "spark.sql(f\"\"\"\n",
    "CREATE TABLE IF NOT EXISTS {catalog_name}.udp_wcm_silver_sap_bw.sap_vcdposd13\n",
    "( \n",
    "hash_id BIGINT,\n",
    "reqtsn STRING,\n",
    "datapakid STRING,\n",
    "record INT,\n",
    "recordmode STRING,\n",
    "calday DATE,\n",
    "weekday1 STRING,\n",
    "calweek STRING,\n",
    "calmonth STRING,\n",
    "calyear STRING,\n",
    "calmonth2 STRING,\n",
    "calquart1 STRING,\n",
    "halfyear1 STRING,\n",
    "rt_locatio STRING,\n",
    "consumer STRING,\n",
    "rpa_rrc STRING,\n",
    "rpa_rrg STRING,\n",
    "rpa_trc STRING,\n",
    "rpa_drc STRING,\n",
    "rpa_drg STRING,\n",
    "rpa_did STRING,\n",
    "rpa_dqu STRING,\n",
    "base_uom STRING,\n",
    "sales_unit STRING,\n",
    "doc_currcy STRING,\n",
    "loc_currcy STRING,\n",
    "rpa_tix STRING,\n",
    "bic_zpos_tnr STRING,\n",
    "material STRING,\n",
    "segment STRING,\n",
    "plant STRING,\n",
    "rt_promo STRING,\n",
    "rpa_tnr STRING,\n",
    "rpa_ttc STRING,\n",
    "rt_daytcl INT,\n",
    "rt_salhour INT,\n",
    "matl_group STRING,\n",
    "rpa_pca STRING,\n",
    "rpa_tcd STRING,\n",
    "rpa_dep STRING,\n",
    "rpa_wid STRING,\n",
    "rt_offer STRING,\n",
    "rpa_dtc STRING,\n",
    "rpa_dtg STRING,\n",
    "rpa_rqtyb FLOAT,\n",
    "rpa_rqtyv FLOAT,\n",
    "rpa_retsal FLOAT,\n",
    "rpa_prmqty FLOAT,\n",
    "base_qty FLOAT,\n",
    "rpa_cnr FLOAT,\n",
    "rpa_cst FLOAT,\n",
    "rpa_prmsal FLOAT,\n",
    "rpa_rlq FLOAT,\n",
    "rpa_slc FLOAT,\n",
    "rpa_psl FLOAT,\n",
    "rpa_rsl FLOAT,\n",
    "rpa_cco FLOAT,\n",
    "rpa_rea FLOAT,\n",
    "rpa_tam FLOAT,\n",
    "rpa_tat FLOAT,\n",
    "proc_date DATE,\n",
    "file_creation_ts TIMESTAMP\n",
    ")\n",
    "TBLPROPERTIES (\n",
    "  'DELTA.AUTOOPTIMIZE.OPTIMIZEWRITE' = 'true',\n",
    "  'DELTA.AUTOOPTIMIZE.AUTOCOMPACT' = 'true'\n",
    ")\n",
    "\"\"\")"
   ]
  },
  {
   "cell_type": "code",
   "execution_count": 0,
   "metadata": {
    "application/vnd.databricks.v1+cell": {
     "cellMetadata": {
      "byteLimit": 2048000,
      "rowLimit": 10000
     },
     "inputWidgets": {},
     "nuid": "77c2357d-7ed4-4eb1-83e5-16863c058f3e",
     "showTitle": false,
     "tableResultSettingsMap": {},
     "title": ""
    }
   },
   "outputs": [],
   "source": [
    "spark.sql(f\"\"\"\n",
    "CREATE OR REPLACE TEMP VIEW sap_vcdposd13 AS \n",
    "    SELECT \n",
    "        farm_fingerprint(CONCAT(\n",
    "            IFNULL(CAST(recordmode AS STRING), \"\"),\n",
    "            IFNULL(CAST(calday AS STRING), \"\"),\n",
    "            IFNULL(CAST(weekday1 AS STRING), \"\"),\n",
    "            IFNULL(CAST(calweek AS STRING), \"\"),\n",
    "            IFNULL(CAST(calmonth AS STRING), \"\"),\n",
    "            IFNULL(CAST(calyear AS STRING), \"\"),\n",
    "            IFNULL(CAST(calmonth2 AS STRING), \"\"),\n",
    "            IFNULL(CAST(calquart1 AS STRING), \"\"),\n",
    "            IFNULL(CAST(halfyear1 AS STRING), \"\"),\n",
    "            IFNULL(CAST(base_uom AS STRING), \"\"),\n",
    "            IFNULL(CAST(sales_unit AS STRING), \"\"),\n",
    "            IFNULL(CAST(doc_currcy AS STRING), \"\"),\n",
    "            IFNULL(CAST(loc_currcy AS STRING), \"\"),\n",
    "            IFNULL(CAST(rpa_tix AS STRING), \"\"),\n",
    "            IFNULL(CAST(_bic_zpos_tnr AS STRING), \"\"),\n",
    "            IFNULL(CAST(material AS STRING), \"\"),\n",
    "            IFNULL(CAST(segment AS STRING), \"\"),\n",
    "            IFNULL(CAST(plant AS STRING), \"\"),\n",
    "            IFNULL(CAST(rt_locatio AS STRING), \"\"),\n",
    "            IFNULL(CAST(consumer AS STRING), \"\"),\n",
    "            IFNULL(CAST(rt_promo AS STRING), \"\"),\n",
    "            IFNULL(CAST(rpa_tnr AS STRING), \"\"),\n",
    "            IFNULL(CAST(rpa_rrc AS STRING), \"\"),\n",
    "            IFNULL(CAST(rpa_ttc AS STRING), \"\"),\n",
    "            IFNULL(CAST(rpa_rrg AS STRING), \"\"),\n",
    "            IFNULL(CAST(rpa_trc AS STRING), \"\"),\n",
    "            IFNULL(CAST(rt_daytcl AS STRING), \"\"),\n",
    "            IFNULL(CAST(rt_salhour AS STRING), \"\"),\n",
    "            IFNULL(CAST(matl_group AS STRING), \"\"),\n",
    "            IFNULL(CAST(rpa_pca AS STRING), \"\"),\n",
    "            IFNULL(CAST(rpa_tcd AS STRING), \"\"),\n",
    "            IFNULL(CAST(rpa_dep AS STRING), \"\"),\n",
    "            IFNULL(CAST(rpa_wid AS STRING), \"\"),\n",
    "            IFNULL(CAST(rt_offer AS STRING), \"\"),\n",
    "            IFNULL(CAST(rpa_drc AS STRING), \"\"),\n",
    "            IFNULL(CAST(rpa_drg AS STRING), \"\"),\n",
    "            IFNULL(CAST(rpa_did AS STRING), \"\"),\n",
    "            IFNULL(CAST(rpa_dtc AS STRING), \"\"),\n",
    "            IFNULL(CAST(rpa_dtg AS STRING), \"\"),\n",
    "            IFNULL(CAST(rpa_dqu AS STRING), \"\")\n",
    "        )) AS hash_id,\n",
    "        reqtsn,\n",
    "        datapakid,\n",
    "        record,\n",
    "        recordmode,\n",
    "        CASE WHEN calday = '00000000' THEN NULL ELSE TO_DATE(calday, 'yyyyMMdd') END AS calday,\n",
    "        weekday1,\n",
    "        calweek,\n",
    "        calmonth,\n",
    "        calyear,\n",
    "        calmonth2,\n",
    "        calquart1,\n",
    "        halfyear1,\n",
    "        CASE WHEN rpa_pca = '' THEN NULL ELSE rt_locatio END AS rt_locatio,\n",
    "        CASE WHEN consumer = '' THEN NULL ELSE consumer END AS consumer,\n",
    "        CASE WHEN rpa_rrc = '' THEN NULL ELSE rpa_rrc END AS rpa_rrc,\n",
    "        CASE WHEN rpa_rrg = '' THEN NULL ELSE rpa_rrg END AS rpa_rrg,\n",
    "        CASE WHEN rpa_trc = '' THEN NULL ELSE rpa_trc END AS rpa_trc,\n",
    "        CASE WHEN rpa_drc = '' THEN NULL ELSE rpa_drc END AS rpa_drc,\n",
    "        CASE WHEN rpa_drg = '' THEN NULL ELSE rpa_drg END AS rpa_drg,\n",
    "        CASE WHEN rpa_did = '' THEN NULL ELSE rpa_did END AS rpa_did,\n",
    "        CASE WHEN rpa_dqu = '' THEN NULL ELSE rpa_dqu END AS rpa_dqu,\n",
    "        CASE WHEN base_uom = '' THEN NULL ELSE base_uom END AS base_uom,\n",
    "        CASE WHEN sales_unit = '' THEN NULL ELSE sales_unit END AS sales_unit,\n",
    "        CASE WHEN doc_currcy = '' THEN NULL ELSE doc_currcy END AS doc_currcy,\n",
    "        CASE WHEN loc_currcy = '' THEN NULL ELSE loc_currcy END AS loc_currcy,\n",
    "        CASE WHEN rpa_tix = '' THEN NULL ELSE rpa_tix END AS rpa_tix,\n",
    "        CASE WHEN _bic_zpos_tnr = '' THEN NULL ELSE _bic_zpos_tnr END AS bic_zpos_tnr,\n",
    "        CASE WHEN material = '' THEN NULL ELSE LTRIM('0', material) END AS material,\n",
    "        CASE WHEN segment = '' THEN NULL ELSE LTRIM('0', segment) END AS segment,\n",
    "        CASE WHEN plant = '' THEN NULL ELSE plant END AS plant,\n",
    "        CASE WHEN rt_promo = '' THEN NULL ELSE rt_promo END AS rt_promo,\n",
    "        CASE WHEN rpa_tnr = '' THEN NULL ELSE rpa_tnr END AS rpa_tnr,\n",
    "        CASE WHEN rpa_ttc = '' THEN NULL ELSE rpa_ttc END AS rpa_ttc,\n",
    "        CAST(rt_daytcl AS BIGINT) AS rt_daytcl,\n",
    "        CAST(rt_salhour AS BIGINT) AS rt_salhour,\n",
    "        CASE WHEN matl_group = '' THEN NULL ELSE matl_group END AS matl_group,\n",
    "        CASE WHEN rpa_pca = '' THEN NULL ELSE rpa_pca END AS rpa_pca,\n",
    "        CASE WHEN rpa_tcd = '' THEN NULL ELSE rpa_tcd END AS rpa_tcd,\n",
    "        CASE WHEN rpa_dep = '' THEN NULL ELSE rpa_dep END AS rpa_dep,\n",
    "        CASE WHEN rpa_wid = '' THEN NULL ELSE rpa_wid END AS rpa_wid,\n",
    "        CASE WHEN rt_offer = '' THEN NULL ELSE rt_offer END AS rt_offer,\n",
    "        CASE WHEN rpa_dtc = '' THEN NULL ELSE rpa_dtc END AS rpa_dtc,\n",
    "        CASE WHEN rpa_dtg = '' THEN NULL ELSE rpa_dtg END AS rpa_dtg,\n",
    "        rpa_rqtyb,\n",
    "        rpa_rqtyv,\n",
    "        rpa_retsal * 100 AS rpa_retsal,\n",
    "        rpa_prmqty,\n",
    "        base_qty,\n",
    "        rpa_cnr,\n",
    "        rpa_cst,\n",
    "        rpa_prmsal * 100 AS rpa_prmsal,\n",
    "        rpa_rlq,\n",
    "        rpa_slc * 100 AS rpa_slc,\n",
    "        rpa_psl * 100 AS rpa_psl,\n",
    "        rpa_rsl * 100 AS rpa_rsl,\n",
    "        rpa_cco,\n",
    "        rpa_rea * 100 AS rpa_rea,\n",
    "        rpa_tam * 100 AS rpa_tam,\n",
    "        rpa_tat * 100 AS rpa_tat,\n",
    "        proc_date AS proc_date,\n",
    "        file_creation_ts\n",
    "    FROM (\n",
    "        SELECT * EXCEPT(rn) FROM (\n",
    "            SELECT *, ROW_NUMBER() OVER (\n",
    "                PARTITION BY reqtsn, datapakid, record ORDER BY proc_date DESC\n",
    "            ) rn\n",
    "            FROM temp_sap_vcdposd13\n",
    "        ) a WHERE rn = 1\n",
    "    ) a\n",
    "\"\"\")\n"
   ]
  },
  {
   "cell_type": "code",
   "execution_count": 0,
   "metadata": {
    "application/vnd.databricks.v1+cell": {
     "cellMetadata": {
      "byteLimit": 2048000,
      "rowLimit": 10000
     },
     "inputWidgets": {},
     "nuid": "6809f32d-958d-4a6a-b430-b587f47e7baf",
     "showTitle": false,
     "tableResultSettingsMap": {},
     "title": ""
    }
   },
   "outputs": [],
   "source": [
    "spark.sql(f\"\"\"\n",
    "    MERGE INTO {catalog_name}.udp_wcm_silver_sap_bw.sap_vcdposd13 main_tbl \n",
    "    USING sap_vcdposd13 temp_tbl \n",
    "    ON main_tbl.hash_id = temp_tbl.hash_id \n",
    "    AND main_tbl.reqtsn = temp_tbl.reqtsn \n",
    "    AND main_tbl.datapakid = temp_tbl.datapakid\n",
    "    AND main_tbl.record = temp_tbl.record\n",
    "    WHEN NOT MATCHED THEN INSERT *;\n",
    "\"\"\")"
   ]
  }
 ],
 "metadata": {
  "application/vnd.databricks.v1+notebook": {
   "computePreferences": null,
   "dashboards": [],
   "environmentMetadata": {
    "base_environment": "",
    "environment_version": "2"
   },
   "inputWidgetPreferences": null,
   "language": "python",
   "notebookMetadata": {
    "mostRecentlyExecutedCommandWithImplicitDF": {
     "commandId": 6410538414280872,
     "dataframes": [
      "_sqldf"
     ]
    },
    "pythonIndentUnit": 4
   },
   "notebookName": "sap_vcdposd13",
   "widgets": {
    "environment": {
     "currentValue": "DEV",
     "nuid": "df8a63f7-bb4f-414b-996d-8fea2bcf85d6",
     "typedWidgetInfo": {
      "autoCreated": false,
      "defaultValue": "",
      "label": "",
      "name": "environment",
      "options": {
       "widgetDisplayType": "Text",
       "validationRegex": null
      },
      "parameterDataType": "String"
     },
     "widgetInfo": {
      "widgetType": "text",
      "defaultValue": "",
      "label": "",
      "name": "environment",
      "options": {
       "widgetType": "text",
       "autoCreated": null,
       "validationRegex": null
      }
     }
    },
    "proc_date": {
     "currentValue": "2025-06-10",
     "nuid": "9a4cb828-0723-4542-8cd3-85e5dd300b67",
     "typedWidgetInfo": {
      "autoCreated": false,
      "defaultValue": "",
      "label": null,
      "name": "proc_date",
      "options": {
       "widgetDisplayType": "Text",
       "validationRegex": null
      },
      "parameterDataType": "String"
     },
     "widgetInfo": {
      "widgetType": "text",
      "defaultValue": "",
      "label": null,
      "name": "proc_date",
      "options": {
       "widgetType": "text",
       "autoCreated": null,
       "validationRegex": null
      }
     }
    }
   }
  },
  "language_info": {
   "name": "python"
  }
 },
 "nbformat": 4,
 "nbformat_minor": 0
}
