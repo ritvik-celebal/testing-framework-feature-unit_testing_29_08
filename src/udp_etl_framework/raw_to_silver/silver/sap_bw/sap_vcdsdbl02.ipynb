{
 "cells": [
  {
   "cell_type": "code",
   "execution_count": 0,
   "metadata": {
    "application/vnd.databricks.v1+cell": {
     "cellMetadata": {
      "byteLimit": 2048000,
      "rowLimit": 10000
     },
     "inputWidgets": {},
     "nuid": "25510320-f41c-41e0-87b7-d692be0a6539",
     "showTitle": false,
     "tableResultSettingsMap": {},
     "title": ""
    }
   },
   "outputs": [],
   "source": [
    "dbutils.widgets.text(\"proc_date\", \"\")\n",
    "proc_date = dbutils.widgets.get(\"proc_date\")"
   ]
  },
  {
   "cell_type": "code",
   "execution_count": 0,
   "metadata": {
    "application/vnd.databricks.v1+cell": {
     "cellMetadata": {
      "byteLimit": 2048000,
      "rowLimit": 10000
     },
     "inputWidgets": {},
     "nuid": "c61ce195-20cf-4ef9-9e27-8b51d826751d",
     "showTitle": false,
     "tableResultSettingsMap": {},
     "title": ""
    }
   },
   "outputs": [],
   "source": [
    "%run ../../../utils/common"
   ]
  },
  {
   "cell_type": "code",
   "execution_count": 0,
   "metadata": {
    "application/vnd.databricks.v1+cell": {
     "cellMetadata": {
      "byteLimit": 2048000,
      "rowLimit": 10000
     },
     "inputWidgets": {},
     "nuid": "6c0eab74-cb16-48c4-835a-15e05fcee35c",
     "showTitle": false,
     "tableResultSettingsMap": {},
     "title": ""
    }
   },
   "outputs": [],
   "source": [
    "dbutils.widgets.text(\"environment\", \"\", \"\")\n",
    "environment = dbutils.widgets.get(\"environment\")"
   ]
  },
  {
   "cell_type": "code",
   "execution_count": 0,
   "metadata": {
    "application/vnd.databricks.v1+cell": {
     "cellMetadata": {
      "byteLimit": 2048000,
      "rowLimit": 10000
     },
     "inputWidgets": {},
     "nuid": "1ec54fc2-915d-405b-8c17-85351041387b",
     "showTitle": false,
     "tableResultSettingsMap": {},
     "title": ""
    }
   },
   "outputs": [],
   "source": [
    "catalog_name = settings[environment]['catalog_name']"
   ]
  },
  {
   "cell_type": "code",
   "execution_count": 0,
   "metadata": {
    "application/vnd.databricks.v1+cell": {
     "cellMetadata": {
      "byteLimit": 2048000,
      "rowLimit": 10000
     },
     "inputWidgets": {},
     "nuid": "7b52c9b4-c747-401d-805b-6b55c0060e8c",
     "showTitle": false,
     "tableResultSettingsMap": {},
     "title": ""
    }
   },
   "outputs": [],
   "source": [
    "create_temp_view_with_clean_columns(\n",
    "    spark,\n",
    "    catalog_name,\n",
    "    'udp_wcm_bronze_sap_bw',\n",
    "    'sap_bw_wcm_vccsdbl52',\n",
    "    proc_date,\n",
    "    'temp_sap_vcdsdbl02'\n",
    ")"
   ]
  },
  {
   "cell_type": "code",
   "execution_count": 0,
   "metadata": {
    "application/vnd.databricks.v1+cell": {
     "cellMetadata": {
      "byteLimit": 2048000,
      "rowLimit": 10000
     },
     "inputWidgets": {},
     "nuid": "cbc98789-bd48-4672-ba5c-1018ff72207f",
     "showTitle": false,
     "tableResultSettingsMap": {},
     "title": ""
    }
   },
   "outputs": [],
   "source": [
    "spark.sql(f\"\"\"\n",
    "CREATE TABLE IF NOT EXISTS {catalog_name}.udp_wcm_silver_sap_bw.sap_vcdsdbl02\n",
    "( \n",
    "  hash_id BIGINT,\n",
    "  recordmode STRING,\n",
    "  supp_plant STRING,\n",
    "  bill_type STRING,\n",
    "  segment STRING,\n",
    "  profit_ctr STRING,\n",
    "  rt_promo STRING,\n",
    "  co_area STRING,\n",
    "  bill_num STRING,\n",
    "  bill_item BIGINT,\n",
    "  sold_to STRING,\n",
    "  ship_to STRING,\n",
    "  billtoprty STRING,\n",
    "  payer STRING,\n",
    "  bp_grp STRING,\n",
    "  comp_code STRING,\n",
    "  cp_categ STRING,\n",
    "  distr_chan STRING,\n",
    "  division STRING,\n",
    "  salesemply INT,\n",
    "  salesorg STRING,\n",
    "  sales_grp STRING,\n",
    "  sales_off STRING,\n",
    "  material STRING,\n",
    "  crm_prod STRING,\n",
    "  prod_categ STRING,\n",
    "  matl_group STRING,\n",
    "  plant STRING,\n",
    "  bic_zc_stype STRING,\n",
    "  ship_point STRING,\n",
    "  deb_cred STRING,\n",
    "  imodoccat STRING,\n",
    "  doc_class STRING,\n",
    "  doc_number STRING,\n",
    "  s_ord_item INT,\n",
    "  alloc_nmbr STRING,\n",
    "  refer_itm INT,\n",
    "  refer_doc STRING,\n",
    "  doc_date DATE,\n",
    "  apo_deldat DATE,\n",
    "  gn_r3_ssy STRING,\n",
    "  calday DATE,\n",
    "  fiscvarnt STRING,\n",
    "  upd_date DATE,\n",
    "  stat_curr STRING,\n",
    "  doc_currcy STRING,\n",
    "  base_uom STRING,\n",
    "  tax_amount FLOAT,\n",
    "  bil_i_cnt FLOAT,\n",
    "  net_val_s FLOAT,\n",
    "  netval_inv FLOAT,\n",
    "  quant_b FLOAT,\n",
    "  cost_val_s FLOAT,\n",
    "  cost FLOAT,\n",
    "  gr_wt_kg FLOAT,\n",
    "  nt_wt_kg FLOAT,\n",
    "  volume_cdm FLOAT,\n",
    "  subtot_1s FLOAT,\n",
    "  subtot_2s FLOAT,\n",
    "  subtot_3s FLOAT,\n",
    "  subtot_4s FLOAT,\n",
    "  subtot_5s FLOAT,\n",
    "  subtot_6s FLOAT,\n",
    "  proc_date DATE,\n",
    "  file_creation_ts TIMESTAMP\n",
    ")\n",
    "TBLPROPERTIES (\n",
    " 'DELTA.AUTOOPTIMIZE.OPTIMIZEWRITE' = 'TRUE',\n",
    "  'DELTA.AUTOOPTIMIZE.AUTOCOMPACT' = 'TRUE'\n",
    ")\n",
    "\"\"\"\n",
    ")"
   ]
  },
  {
   "cell_type": "code",
   "execution_count": 0,
   "metadata": {
    "application/vnd.databricks.v1+cell": {
     "cellMetadata": {
      "byteLimit": 2048000,
      "implicitDf": true,
      "rowLimit": 10000
     },
     "inputWidgets": {},
     "nuid": "48b93a1b-8a9d-4f45-9b43-937809d9461d",
     "showTitle": true,
     "tableResultSettingsMap": {},
     "title": "_"
    }
   },
   "outputs": [],
   "source": [
    "spark.sql(f\"\"\"\n",
    "CREATE OR REPLACE TEMP VIEW sap_vcdsdbl02 AS\n",
    "WITH temp AS (\n",
    "SELECT \n",
    "        reqtsn,\n",
    "        datapakid,\n",
    "        record,\n",
    "        recordmode,\n",
    "        CASE WHEN supp_plant = '' THEN NULL ELSE supp_plant END AS supp_plant,\n",
    "        bill_type,\n",
    "        CASE WHEN REGEXP(segment,'^[0-9]+$') THEN CAST(CAST(segment AS BIGINT) AS STRING) ELSE segment END AS segment,\n",
    "        CASE WHEN profit_ctr = '' THEN NULL ELSE profit_ctr END AS profit_ctr,\n",
    "        CASE WHEN rt_promo = '' THEN NULL ELSE rt_promo END AS rt_promo,\n",
    "        CASE WHEN co_area = ''  THEN NULL ELSE co_area END AS co_area,\n",
    "        CASE WHEN bill_num = ''  THEN NULL ELSE bill_num END AS bill_num,\n",
    "        CAST(bill_item AS BIGINT) bill_item,\n",
    "        CASE WHEN sold_to = ''  THEN NULL ELSE sold_to END AS sold_to,\n",
    "        CASE WHEN ship_to = ''  THEN NULL ELSE ship_to END AS ship_to,\n",
    "        CASE WHEN billtoprty = ''  THEN NULL ELSE billtoprty END AS billtoprty,\n",
    "        CASE WHEN payer = ''  THEN NULL ELSE payer END AS payer,\n",
    "        CASE WHEN bp_grp = ''  THEN NULL ELSE bp_grp END AS bp_grp,\n",
    "        CASE WHEN comp_code = ''  THEN NULL ELSE comp_code END AS comp_code,\n",
    "        CASE WHEN cp_categ = ''  THEN NULL ELSE cp_categ END AS cp_categ,\n",
    "        CASE WHEN distr_chan = ''  THEN NULL ELSE distr_chan END AS distr_chan,\n",
    "        CASE WHEN division = ''  THEN NULL ELSE division END AS division,\n",
    "        CAST(salesemply AS BIGINT) salesemply,\n",
    "        CASE WHEN salesorg = ''  THEN NULL ELSE salesorg END AS salesorg,\n",
    "        CASE WHEN sales_grp = ''  THEN NULL ELSE sales_grp END AS sales_grp,\n",
    "        CASE WHEN sales_off = ''  THEN NULL ELSE sales_off END AS sales_off,\n",
    "        CASE WHEN REGEXP(material,'^[0-9]+$') THEN CAST(CAST(material AS BIGINT) AS STRING) ELSE material END AS material,\n",
    "        CASE WHEN crm_prod = ''  THEN NULL ELSE crm_prod END AS crm_prod,\n",
    "        CASE WHEN prod_categ = ''  THEN NULL ELSE prod_categ END AS prod_categ,\n",
    "        CASE WHEN matl_group = ''  THEN NULL ELSE matl_group END AS matl_group,\n",
    "        CASE WHEN plant = ''  THEN NULL ELSE plant END AS plant,\n",
    "        CASE WHEN _bic_zc_stype = ''  THEN NULL ELSE _bic_zc_stype END AS bic_zc_stype,\n",
    "        CASE WHEN ship_point = ''  THEN NULL ELSE ship_point END AS ship_point,\n",
    "        CASE WHEN deb_cred = ''  THEN NULL ELSE deb_cred END AS deb_cred,\n",
    "        CASE WHEN imodoccat = ''  THEN NULL ELSE imodoccat END AS imodoccat,\n",
    "        CASE WHEN doc_class = ''  THEN NULL ELSE doc_class END AS doc_class,\n",
    "        CASE WHEN doc_number = ''  THEN NULL ELSE doc_number END AS doc_number,\n",
    "        CAST(s_ord_item AS BIGINT) s_ord_item,\n",
    "        CASE WHEN alloc_nmbr = ''  THEN NULL ELSE alloc_nmbr END AS alloc_nmbr,\n",
    "        CAST(refer_itm AS BIGINT) refer_itm,\n",
    "        CASE WHEN refer_doc = ''  THEN NULL ELSE refer_doc END AS refer_doc,\n",
    "        CASE WHEN doc_date = '00000000'  THEN NULL ELSE TO_DATE(doc_date,'yyyyMMdd') END AS doc_date,\n",
    "        CASE WHEN apo_deldat = '00000000'  THEN NULL ELSE TO_DATE(apo_deldat,'yyyyMMdd') END AS apo_deldat,\n",
    "        CASE WHEN gn_r3_ssy = ''  THEN NULL ELSE gn_r3_ssy END AS gn_r3_ssy,\n",
    "        CASE WHEN calday = '00000000'  THEN NULL ELSE TO_DATE(calday,'yyyyMMdd') END AS calday,\n",
    "        CASE WHEN fiscvarnt = ''  THEN NULL ELSE fiscvarnt END AS fiscvarnt,\n",
    "        CASE WHEN upd_date = '00000000'  THEN NULL ELSE TO_DATE(upd_date, 'yyyyMMdd') END AS upd_date,\n",
    "        CASE WHEN stat_curr = ''  THEN NULL ELSE stat_curr END AS stat_curr,\n",
    "        CASE WHEN doc_currcy = ''  THEN NULL ELSE doc_currcy END AS doc_currcy,\n",
    "        CASE WHEN base_uom = ''  THEN NULL ELSE base_uom END AS base_uom,\n",
    "        tax_amount * 100 tax_amount,\n",
    "        bil_i_cnt,\n",
    "        net_val_s * 100 net_val_s,\n",
    "        netval_inv * 100 netval_inv,\n",
    "        quant_b,\n",
    "        cost_val_s * 100 cost_val_s,\n",
    "        cost * 100 cost,\n",
    "        gr_wt_kg,\n",
    "        nt_wt_kg,\n",
    "        volume_cdm,\n",
    "        subtot_1_s * 100 subtot_1s,\n",
    "        subtot_2_s * 100 subtot_2s,\n",
    "        subtot_3_s * 100 subtot_3s,\n",
    "        subtot_4_s * 100 subtot_4s,\n",
    "        subtot_5_s * 100 subtot_5s,\n",
    "        subtot_6_s * 100 subtot_6s,\n",
    "        proc_date,\n",
    "        file_creation_ts\n",
    "         FROM (\n",
    "            SELECT * EXCEPT(rn) FROM (\n",
    "                SELECT * EXCEPT(proc_date),proc_date AS proc_date, ROW_NUMBER() OVER (PARTITION BY reqtsn, datapakid, record ORDER BY proc_date DESC) rn FROM  temp_sap_vcdsdbl02\n",
    "            ) a WHERE rn = 1 \n",
    "        ) a\n",
    "),\n",
    "main AS (\n",
    "SELECT farm_fingerprint(CONCAT(\n",
    "            IFNULL(CAST(bill_num AS STRING), \"\"),\n",
    "            IFNULL(CAST(bill_item AS STRING), \"\"),\n",
    "            IFNULL(CAST(calday AS STRING), \"\")\n",
    "        )) hash_id,\n",
    "        * FROM temp\n",
    "),\n",
    "main_2 AS (\n",
    "    SELECT * \n",
    "    , ROW_NUMBER() OVER (PARTITION BY hash_id ORDER BY reqtsn DESC,datapakid DESC,record  DESC) rn \n",
    "        FROM main\n",
    ")\n",
    "SELECT \n",
    "* EXCEPT(rn,reqtsn,datapakid,record) FROM main_2 WHERE rn = 1\"\"\")"
   ]
  },
  {
   "cell_type": "code",
   "execution_count": 0,
   "metadata": {
    "application/vnd.databricks.v1+cell": {
     "cellMetadata": {
      "byteLimit": 2048000,
      "rowLimit": 10000
     },
     "inputWidgets": {},
     "nuid": "ec0a7970-d074-4c65-ac5f-9ba5d94003ea",
     "showTitle": false,
     "tableResultSettingsMap": {},
     "title": ""
    }
   },
   "outputs": [],
   "source": [
    "spark.sql(\n",
    "    f\"\"\"\n",
    "MERGE INTO {catalog_name}.udp_wcm_silver_sap_bw.sap_vcdsdbl02 main_tbl\n",
    "USING sap_vcdsdbl02 temp_tbl\n",
    "ON main_tbl.hash_id = temp_tbl.hash_id  \n",
    "WHEN MATCHED THEN \n",
    "UPDATE SET \n",
    "    main_tbl.recordmode = temp_tbl.recordmode,\n",
    "    main_tbl.supp_plant = temp_tbl.supp_plant,\n",
    "    main_tbl.bill_type = temp_tbl.bill_type,\n",
    "    main_tbl.segment = temp_tbl.segment,\n",
    "    main_tbl.profit_ctr = temp_tbl.profit_ctr,\n",
    "    main_tbl.rt_promo = temp_tbl.rt_promo,\n",
    "    main_tbl.co_area = temp_tbl.co_area,\n",
    "    main_tbl.bill_num = temp_tbl.bill_num,\n",
    "    main_tbl.bill_item = temp_tbl.bill_item,\n",
    "    main_tbl.sold_to = temp_tbl.sold_to,\n",
    "    main_tbl.ship_to = temp_tbl.ship_to,\n",
    "    main_tbl.billtoprty = temp_tbl.billtoprty,\n",
    "    main_tbl.payer = temp_tbl.payer,\n",
    "    main_tbl.bp_grp = temp_tbl.bp_grp,\n",
    "    main_tbl.comp_code = temp_tbl.comp_code,\n",
    "    main_tbl.cp_categ = temp_tbl.cp_categ,\n",
    "    main_tbl.distr_chan = temp_tbl.distr_chan,\n",
    "    main_tbl.division = temp_tbl.division,\n",
    "    main_tbl.salesemply = temp_tbl.salesemply,\n",
    "    main_tbl.salesorg = temp_tbl.salesorg,\n",
    "    main_tbl.sales_grp = temp_tbl.sales_grp,\n",
    "    main_tbl.sales_off = temp_tbl.sales_off,\n",
    "    main_tbl.material = temp_tbl.material,\n",
    "    main_tbl.crm_prod = temp_tbl.crm_prod,\n",
    "    main_tbl.prod_categ = temp_tbl.prod_categ,\n",
    "    main_tbl.matl_group = temp_tbl.matl_group,\n",
    "    main_tbl.plant = temp_tbl.plant,\n",
    "    main_tbl.bic_zc_stype = temp_tbl.bic_zc_stype,\n",
    "    main_tbl.ship_point = temp_tbl.ship_point,\n",
    "    main_tbl.deb_cred = temp_tbl.deb_cred,\n",
    "    main_tbl.imodoccat = temp_tbl.imodoccat,\n",
    "    main_tbl.doc_class = temp_tbl.doc_class,\n",
    "    main_tbl.doc_number = temp_tbl.doc_number,\n",
    "    main_tbl.s_ord_item = temp_tbl.s_ord_item,\n",
    "    main_tbl.alloc_nmbr = temp_tbl.alloc_nmbr,\n",
    "    main_tbl.refer_itm = temp_tbl.refer_itm,\n",
    "    main_tbl.refer_doc = temp_tbl.refer_doc,\n",
    "    main_tbl.doc_date = temp_tbl.doc_date,\n",
    "    main_tbl.apo_deldat = temp_tbl.apo_deldat,\n",
    "    main_tbl.gn_r3_ssy = temp_tbl.gn_r3_ssy,\n",
    "    main_tbl.calday = temp_tbl.calday,\n",
    "    main_tbl.fiscvarnt = temp_tbl.fiscvarnt,\n",
    "    main_tbl.upd_date = temp_tbl.upd_date,\n",
    "    main_tbl.stat_curr = temp_tbl.stat_curr,\n",
    "    main_tbl.doc_currcy = temp_tbl.doc_currcy,\n",
    "    main_tbl.base_uom = temp_tbl.base_uom,\n",
    "    main_tbl.tax_amount = temp_tbl.tax_amount,\n",
    "    main_tbl.bil_i_cnt = temp_tbl.bil_i_cnt,\n",
    "    main_tbl.net_val_s = temp_tbl.net_val_s,\n",
    "    main_tbl.netval_inv = temp_tbl.netval_inv,\n",
    "    main_tbl.quant_b = temp_tbl.quant_b,\n",
    "    main_tbl.cost_val_s = temp_tbl.cost_val_s,\n",
    "    main_tbl.cost = temp_tbl.cost,\n",
    "    main_tbl.gr_wt_kg = temp_tbl.gr_wt_kg,\n",
    "    main_tbl.nt_wt_kg = temp_tbl.nt_wt_kg,\n",
    "    main_tbl.volume_cdm = temp_tbl.volume_cdm,\n",
    "    main_tbl.subtot_1s = temp_tbl.subtot_1s,\n",
    "    main_tbl.subtot_2s = temp_tbl.subtot_2s,\n",
    "    main_tbl.subtot_3s = temp_tbl.subtot_3s,\n",
    "    main_tbl.subtot_4s = temp_tbl.subtot_4s,\n",
    "    main_tbl.subtot_5s = temp_tbl.subtot_5s,\n",
    "    main_tbl.subtot_6s = temp_tbl.subtot_6s,\n",
    "    main_tbl.proc_date = temp_tbl.proc_date,\n",
    "    main_tbl.file_creation_ts = temp_tbl.file_creation_ts\n",
    "WHEN NOT MATCHED THEN \n",
    "INSERT (\n",
    "    hash_id, recordmode, supp_plant, bill_type, segment, profit_ctr, rt_promo, co_area, bill_num, bill_item, sold_to, ship_to, billtoprty, payer, bp_grp, comp_code, cp_categ, distr_chan, division, salesemply, salesorg, sales_grp, sales_off, material, crm_prod, prod_categ, matl_group, plant, bic_zc_stype, ship_point, deb_cred, imodoccat, doc_class, doc_number, s_ord_item, alloc_nmbr, refer_itm, refer_doc, doc_date, apo_deldat, gn_r3_ssy, calday, fiscvarnt, upd_date, stat_curr, doc_currcy, base_uom, tax_amount, bil_i_cnt, net_val_s, netval_inv, quant_b, cost_val_s, cost, gr_wt_kg, nt_wt_kg, volume_cdm, subtot_1s, subtot_2s, subtot_3s, subtot_4s, subtot_5s, subtot_6s, proc_date, file_creation_ts\n",
    ") VALUES (\n",
    "    temp_tbl.hash_id, temp_tbl.recordmode, temp_tbl.supp_plant, temp_tbl.bill_type, temp_tbl.segment, temp_tbl.profit_ctr, temp_tbl.rt_promo, temp_tbl.co_area, temp_tbl.bill_num, temp_tbl.bill_item, temp_tbl.sold_to, temp_tbl.ship_to, temp_tbl.billtoprty, temp_tbl.payer, temp_tbl.bp_grp, temp_tbl.comp_code, temp_tbl.cp_categ, temp_tbl.distr_chan, temp_tbl.division, temp_tbl.salesemply, temp_tbl.salesorg, temp_tbl.sales_grp, temp_tbl.sales_off, temp_tbl.material, temp_tbl.crm_prod, temp_tbl.prod_categ, temp_tbl.matl_group, temp_tbl.plant, temp_tbl.bic_zc_stype, temp_tbl.ship_point, temp_tbl.deb_cred, temp_tbl.imodoccat, temp_tbl.doc_class, temp_tbl.doc_number, temp_tbl.s_ord_item, temp_tbl.alloc_nmbr, temp_tbl.refer_itm, temp_tbl.refer_doc, temp_tbl.doc_date, temp_tbl.apo_deldat, temp_tbl.gn_r3_ssy, temp_tbl.calday, temp_tbl.fiscvarnt, temp_tbl.upd_date, temp_tbl.stat_curr, temp_tbl.doc_currcy, temp_tbl.base_uom, temp_tbl.tax_amount, temp_tbl.bil_i_cnt, temp_tbl.net_val_s, temp_tbl.netval_inv, temp_tbl.quant_b, temp_tbl.cost_val_s, temp_tbl.cost, temp_tbl.gr_wt_kg, temp_tbl.nt_wt_kg, temp_tbl.volume_cdm, temp_tbl.subtot_1s, temp_tbl.subtot_2s, temp_tbl.subtot_3s, temp_tbl.subtot_4s, temp_tbl.subtot_5s, temp_tbl.subtot_6s, temp_tbl.proc_date, temp_tbl.file_creation_ts\n",
    ")\n",
    "\"\"\"\n",
    ")"
   ]
  }
 ],
 "metadata": {
  "application/vnd.databricks.v1+notebook": {
   "computePreferences": null,
   "dashboards": [],
   "environmentMetadata": {
    "base_environment": "",
    "environment_version": "2"
   },
   "inputWidgetPreferences": null,
   "language": "python",
   "notebookMetadata": {
    "mostRecentlyExecutedCommandWithImplicitDF": {
     "commandId": 6605737921189649,
     "dataframes": [
      "_sqldf"
     ]
    },
    "pythonIndentUnit": 4
   },
   "notebookName": "sap_vcdsdbl02",
   "widgets": {
    "environment": {
     "currentValue": "DEV",
     "nuid": "b86d1834-1e79-4268-b9cb-ea21cb55e4df",
     "typedWidgetInfo": {
      "autoCreated": false,
      "defaultValue": "",
      "label": "",
      "name": "environment",
      "options": {
       "widgetDisplayType": "Text",
       "validationRegex": null
      },
      "parameterDataType": "String"
     },
     "widgetInfo": {
      "widgetType": "text",
      "defaultValue": "",
      "label": "",
      "name": "environment",
      "options": {
       "widgetType": "text",
       "autoCreated": null,
       "validationRegex": null
      }
     }
    },
    "proc_date": {
     "currentValue": "2025-06-05",
     "nuid": "4dfcb97b-ca16-40d9-934b-d85e790df020",
     "typedWidgetInfo": {
      "autoCreated": false,
      "defaultValue": "",
      "label": null,
      "name": "proc_date",
      "options": {
       "widgetDisplayType": "Text",
       "validationRegex": null
      },
      "parameterDataType": "String"
     },
     "widgetInfo": {
      "widgetType": "text",
      "defaultValue": "",
      "label": null,
      "name": "proc_date",
      "options": {
       "widgetType": "text",
       "autoCreated": null,
       "validationRegex": null
      }
     }
    }
   }
  },
  "language_info": {
   "name": "python"
  }
 },
 "nbformat": 4,
 "nbformat_minor": 0
}
