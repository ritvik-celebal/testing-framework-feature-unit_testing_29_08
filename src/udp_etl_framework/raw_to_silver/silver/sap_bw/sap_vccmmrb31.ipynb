{
 "cells": [
  {
   "cell_type": "code",
   "execution_count": 0,
   "metadata": {
    "application/vnd.databricks.v1+cell": {
     "cellMetadata": {},
     "inputWidgets": {},
     "nuid": "468bb6d1-9359-415e-829b-d6e184b73533",
     "showTitle": false,
     "tableResultSettingsMap": {},
     "title": ""
    }
   },
   "outputs": [],
   "source": [
    "dbutils.widgets.text(\"proc_date\", \"\")\n",
    "proc_date = dbutils.widgets.get(\"proc_date\")"
   ]
  },
  {
   "cell_type": "code",
   "execution_count": 0,
   "metadata": {
    "application/vnd.databricks.v1+cell": {
     "cellMetadata": {},
     "inputWidgets": {},
     "nuid": "1dbd0aa9-6e94-48a5-b850-d2242f99c825",
     "showTitle": false,
     "tableResultSettingsMap": {},
     "title": ""
    }
   },
   "outputs": [],
   "source": [
    "%run ../../../utils/common"
   ]
  },
  {
   "cell_type": "code",
   "execution_count": 0,
   "metadata": {
    "application/vnd.databricks.v1+cell": {
     "cellMetadata": {
      "byteLimit": 2048000,
      "rowLimit": 10000
     },
     "inputWidgets": {},
     "nuid": "408400f5-39a8-4a09-8b66-cadeb06bf226",
     "showTitle": false,
     "tableResultSettingsMap": {},
     "title": ""
    }
   },
   "outputs": [],
   "source": [
    "dbutils.widgets.text(\"environment\", \"\")\n",
    "environment = dbutils.widgets.get(\"environment\")"
   ]
  },
  {
   "cell_type": "code",
   "execution_count": 0,
   "metadata": {
    "application/vnd.databricks.v1+cell": {
     "cellMetadata": {
      "byteLimit": 2048000,
      "rowLimit": 10000
     },
     "inputWidgets": {},
     "nuid": "334d25a7-be30-4917-b464-f04bfc9b0439",
     "showTitle": false,
     "tableResultSettingsMap": {},
     "title": ""
    }
   },
   "outputs": [],
   "source": [
    "catalog_name = settings[environment]['catalog_name']"
   ]
  },
  {
   "cell_type": "code",
   "execution_count": 0,
   "metadata": {
    "application/vnd.databricks.v1+cell": {
     "cellMetadata": {},
     "inputWidgets": {},
     "nuid": "809bff68-2f85-4755-9929-c5f13cf15e24",
     "showTitle": false,
     "tableResultSettingsMap": {},
     "title": ""
    }
   },
   "outputs": [],
   "source": [
    "create_temp_view_with_clean_columns(\n",
    "    spark,\n",
    "    catalog_name,\n",
    "    'udp_wcm_bronze_sap_bw',\n",
    "    'sap_bw_wcm_vccmmrb31',\n",
    "    proc_date,\n",
    "    'temp_sap_vccmmrb31'\n",
    ")"
   ]
  },
  {
   "cell_type": "code",
   "execution_count": 0,
   "metadata": {
    "application/vnd.databricks.v1+cell": {
     "cellMetadata": {
      "byteLimit": 2048000,
      "rowLimit": 10000
     },
     "inputWidgets": {},
     "nuid": "03902765-50b4-484d-b71d-39476a2d6e3b",
     "showTitle": false,
     "tableResultSettingsMap": {},
     "title": ""
    }
   },
   "outputs": [],
   "source": [
    "spark.sql(f\"\"\"\n",
    "CREATE TABLE IF NOT EXISTS {catalog_name}.udp_wcm_silver_sap_bw.sap_vccmmrb31 (\n",
    "    knumh STRING,\n",
    "    kappl STRING,\n",
    "    recordmode STRING,\n",
    "    kopos STRING,\n",
    "    kschl STRING,\n",
    "    knumt STRING,\n",
    "    stfkz STRING,\n",
    "    kzbzg STRING,\n",
    "    kstbm DOUBLE,\n",
    "    konms STRING,\n",
    "    kstbw DOUBLE,\n",
    "    konws STRING,\n",
    "    krech STRING,\n",
    "    kbetr DOUBLE,\n",
    "    konwa STRING,\n",
    "    kpein DOUBLE,\n",
    "    kmein STRING,\n",
    "    prsch STRING,\n",
    "    kumza DOUBLE,\n",
    "    kumne DOUBLE,\n",
    "    meins STRING,\n",
    "    mxwrt DOUBLE,\n",
    "    gkwrt DOUBLE,\n",
    "    pkwrt DOUBLE,\n",
    "    fkwrt DOUBLE,\n",
    "    rswrt DOUBLE,\n",
    "    kwaeh STRING,\n",
    "    ukbas DOUBLE,\n",
    "    kznep STRING,\n",
    "    kunnr STRING,\n",
    "    lifnr STRING,\n",
    "    mwsk1 STRING,\n",
    "    loevm_ko STRING,\n",
    "    zaehk_ind STRING,\n",
    "    bomat STRING,\n",
    "    kbrue DOUBLE,\n",
    "    kspae STRING,\n",
    "    bosta STRING,\n",
    "    knuma_pi STRING,\n",
    "    knuma_ag STRING,\n",
    "    knuma_sq STRING,\n",
    "    valtg STRING,\n",
    "    valdt STRING,\n",
    "    zterm STRING,\n",
    "    anzauf STRING,\n",
    "    mikbas DOUBLE,\n",
    "    mxkbas DOUBLE,\n",
    "    komxwrt DOUBLE,\n",
    "    klf_stg STRING,\n",
    "    klf_kal STRING,\n",
    "    vkkal STRING,\n",
    "    aktnr STRING,\n",
    "    knuma_bo STRING,\n",
    "    mwsk2 STRING,\n",
    "    vertt STRING,\n",
    "    vertn STRING,\n",
    "    vbewa STRING,\n",
    "    mdflg STRING,\n",
    "    kfrst STRING,\n",
    "    uasta STRING,\n",
    "    ecrtt STRING,\n",
    "    ecrtn STRING,\n",
    "    ecewa STRING,\n",
    "    waers STRING,\n",
    "    proc_date DATE,\n",
    "    file_creation_ts TIMESTAMP\n",
    ")\n",
    "TBLPROPERTIES (\n",
    "    'DELTA.AUTOOPTIMIZE.OPTIMIZEWRITE' = 'true',\n",
    "    'DELTA.AUTOOPTIMIZE.AUTOCOMPACT' = 'true'\n",
    ")\n",
    "\"\"\")"
   ]
  },
  {
   "cell_type": "code",
   "execution_count": 0,
   "metadata": {
    "application/vnd.databricks.v1+cell": {
     "cellMetadata": {
      "byteLimit": 2048000,
      "rowLimit": 10000
     },
     "inputWidgets": {},
     "nuid": "28c244d7-9f18-4d2b-bb3c-37d044c34d00",
     "showTitle": false,
     "tableResultSettingsMap": {},
     "title": ""
    }
   },
   "outputs": [],
   "source": [
    "spark.sql(f\"\"\"\n",
    "INSERT INTO {catalog_name}.udp_wcm_silver_sap_bw.sap_vccmmrb31\n",
    "SELECT\n",
    "  knumh,\n",
    "  kappl,\n",
    "  recordmode,\n",
    "  kopos,\n",
    "  kschl,\n",
    "  knumt,\n",
    "  stfkz,\n",
    "  kzbzg,\n",
    "  kstbm,\n",
    "  konms,\n",
    "  kstbw,\n",
    "  konws,\n",
    "  krech,\n",
    "  kbetr,\n",
    "  konwa,\n",
    "  kpein,\n",
    "  kmein,\n",
    "  prsch,\n",
    "  kumza,\n",
    "  kumne,\n",
    "  meins,\n",
    "  mxwrt,\n",
    "  gkwrt,\n",
    "  pkwrt,\n",
    "  fkwrt,\n",
    "  rswrt,\n",
    "  kwaeh,\n",
    "  ukbas,\n",
    "  kznep,\n",
    "  kunnr,\n",
    "  lifnr,\n",
    "  mwsk1,\n",
    "  loevm_ko,\n",
    "  zaehk_ind,\n",
    "  bomat,\n",
    "  kbrue,\n",
    "  kspae,\n",
    "  bosta,\n",
    "  knuma_pi,\n",
    "  knuma_ag,\n",
    "  knuma_sq,\n",
    "  valtg,\n",
    "  valdt,\n",
    "  zterm,\n",
    "  anzauf,\n",
    "  mikbas,\n",
    "  mxkbas,\n",
    "  komxwrt,\n",
    "  klf_stg,\n",
    "  klf_kal,\n",
    "  vkkal,\n",
    "  aktnr,\n",
    "  knuma_bo,\n",
    "  mwsk2,\n",
    "  vertt,\n",
    "  vertn,\n",
    "  vbewa,\n",
    "  mdflg,\n",
    "  kfrst,\n",
    "  uasta,\n",
    "  ecrtt,\n",
    "  ecrtn,\n",
    "  ecewa,\n",
    "  waers,\n",
    "  datapak_id,\n",
    "  proc_date,\n",
    "  file_creation_ts\n",
    "FROM temp_sap_vccmmrb31;\n",
    "\"\"\")"
   ]
  }
 ],
 "metadata": {
  "application/vnd.databricks.v1+notebook": {
   "computePreferences": null,
   "dashboards": [],
   "environmentMetadata": {
    "base_environment": "",
    "environment_version": "2"
   },
   "inputWidgetPreferences": null,
   "language": "python",
   "notebookMetadata": {
    "mostRecentlyExecutedCommandWithImplicitDF": {
     "commandId": 6410538414267269,
     "dataframes": [
      "_sqldf"
     ]
    },
    "pythonIndentUnit": 4
   },
   "notebookName": "sap_vccmmrb31",
   "widgets": {
    "environment": {
     "currentValue": "DEV",
     "nuid": "959206cb-2155-4d47-ad9b-174d215797f0",
     "typedWidgetInfo": {
      "autoCreated": false,
      "defaultValue": "",
      "label": null,
      "name": "environment",
      "options": {
       "widgetDisplayType": "Text",
       "validationRegex": null
      },
      "parameterDataType": "String"
     },
     "widgetInfo": {
      "widgetType": "text",
      "defaultValue": "",
      "label": null,
      "name": "environment",
      "options": {
       "widgetType": "text",
       "autoCreated": null,
       "validationRegex": null
      }
     }
    },
    "proc_date": {
     "currentValue": "2025-05-31",
     "nuid": "de0e3e36-83ec-48a8-a0df-f4b89a20ed2f",
     "typedWidgetInfo": {
      "autoCreated": false,
      "defaultValue": "",
      "label": null,
      "name": "proc_date",
      "options": {
       "widgetDisplayType": "Text",
       "validationRegex": null
      },
      "parameterDataType": "String"
     },
     "widgetInfo": {
      "widgetType": "text",
      "defaultValue": "",
      "label": null,
      "name": "proc_date",
      "options": {
       "widgetType": "text",
       "autoCreated": null,
       "validationRegex": null
      }
     }
    }
   }
  },
  "language_info": {
   "name": "python"
  }
 },
 "nbformat": 4,
 "nbformat_minor": 0
}
