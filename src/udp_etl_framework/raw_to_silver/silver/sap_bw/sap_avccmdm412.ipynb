{
 "cells": [
  {
   "cell_type": "code",
   "execution_count": 0,
   "metadata": {
    "application/vnd.databricks.v1+cell": {
     "cellMetadata": {
      "byteLimit": 2048000,
      "rowLimit": 10000
     },
     "inputWidgets": {},
     "nuid": "cc085dc5-9d43-42f6-9f03-553fc7a9391f",
     "showTitle": false,
     "tableResultSettingsMap": {},
     "title": ""
    }
   },
   "outputs": [],
   "source": [
    "dbutils.widgets.text(\"proc_date\", \"\")\n",
    "proc_date = dbutils.widgets.get(\"proc_date\")"
   ]
  },
  {
   "cell_type": "code",
   "execution_count": 0,
   "metadata": {
    "application/vnd.databricks.v1+cell": {
     "cellMetadata": {
      "byteLimit": 2048000,
      "rowLimit": 10000
     },
     "inputWidgets": {},
     "nuid": "2e051e5e-0b07-4b1e-93bd-d2e855750d74",
     "showTitle": false,
     "tableResultSettingsMap": {},
     "title": ""
    }
   },
   "outputs": [],
   "source": [
    "%run ../../../utils/common"
   ]
  },
  {
   "cell_type": "code",
   "execution_count": 0,
   "metadata": {
    "application/vnd.databricks.v1+cell": {
     "cellMetadata": {
      "byteLimit": 2048000,
      "rowLimit": 10000
     },
     "inputWidgets": {},
     "nuid": "b3345666-2a67-44f6-a2c2-295a0d0676e3",
     "showTitle": false,
     "tableResultSettingsMap": {},
     "title": ""
    }
   },
   "outputs": [],
   "source": [
    "dbutils.widgets.text(\"environment\", \"\", \"\")\n",
    "environment = dbutils.widgets.get(\"environment\")"
   ]
  },
  {
   "cell_type": "code",
   "execution_count": 0,
   "metadata": {
    "application/vnd.databricks.v1+cell": {
     "cellMetadata": {
      "byteLimit": 2048000,
      "rowLimit": 10000
     },
     "inputWidgets": {},
     "nuid": "bcf5b017-b2eb-4eaa-907a-693f43c775e3",
     "showTitle": false,
     "tableResultSettingsMap": {},
     "title": ""
    }
   },
   "outputs": [],
   "source": [
    "catalog_name = settings[environment]['catalog_name']"
   ]
  },
  {
   "cell_type": "code",
   "execution_count": 0,
   "metadata": {
    "application/vnd.databricks.v1+cell": {
     "cellMetadata": {},
     "inputWidgets": {},
     "nuid": "0f0cfdde-03db-4f03-a7ad-8f736d00355b",
     "showTitle": false,
     "tableResultSettingsMap": {},
     "title": ""
    }
   },
   "outputs": [],
   "source": [
    "create_temp_view_with_clean_columns(\n",
    "    spark,\n",
    "    catalog_name,\n",
    "    'udp_wcm_bronze_sap_bw',\n",
    "    'sap_bw_wcm_avccmdm412',\n",
    "    proc_date,\n",
    "    'temp_sap_avccmdm412'\n",
    ")"
   ]
  },
  {
   "cell_type": "code",
   "execution_count": 0,
   "metadata": {
    "application/vnd.databricks.v1+cell": {
     "cellMetadata": {
      "byteLimit": 2048000,
      "rowLimit": 10000
     },
     "inputWidgets": {},
     "nuid": "ea1fbf9c-5c62-4770-93d2-f7e34ef4b30e",
     "showTitle": false,
     "tableResultSettingsMap": {},
     "title": ""
    }
   },
   "outputs": [],
   "source": [
    "spark.sql(f\"\"\"\n",
    "CREATE OR REPLACE TABLE {catalog_name}.udp_wcm_silver_sap_bw.sap_avccmdm412\n",
    "USING DELTA TBLPROPERTIES (\n",
    "    delta.autoOptimize.optimizeWrite = true,\n",
    "    delta.autoOptimize.autoCompact = true\n",
    ")\n",
    "AS\n",
    "SELECT \n",
    "    bbynr,\n",
    "    ersda AS created_on,\n",
    "    ernam AS created_by,\n",
    "    laeda AS date_of_last_change,\n",
    "    aenam AS changed_by,\n",
    "    zhapzeit_start AS happy_hour_start,\n",
    "    zhapzeit_end AS happy_hour_end,\n",
    "    zmonday AS zmonday,\n",
    "    ztuesday AS ztuesday,\n",
    "    zwednesday AS zwednesday,\n",
    "    zthursday AS zthursday,\n",
    "    zfriday AS zfriday,\n",
    "    zsaturday AS zsaturday,\n",
    "    zsunday AS zsunday,\n",
    "    zmember AS member_only,\n",
    "    custyp AS customer_type,\n",
    "    zprior AS promotion_priority,\n",
    "    zstock AS cash_flow_statement,\n",
    "    limcus AS limit_customer,\n",
    "    zccno AS credit_card_number,\n",
    "    zbank AS bank,\n",
    "    zcard_type AS card_type,\n",
    "    zdate AS date,\n",
    "    zcombination AS discount_origin_price,\n",
    "    zold_promo AS old_promotion_id,\n",
    "    zbbtype AS bonus_buy_note,\n",
    "    zpromo_vendor AS vendor_promotion,\n",
    "    zpromo_ven_per AS pct_shared_by_vendor,\n",
    "    zaktnr AS vendor_promotion_id,\n",
    "    zapplyadr AS apply_pnl,\n",
    "    zfont_th AS pct_font_th,\n",
    "    zfont_km AS pct_font_km,\n",
    "    zclaim_gt AS value_claimback,\n",
    "    zclaim_ht AS form_claimback,\n",
    "    buy_prqcur AS prerequisite_currency,\n",
    "    proc_date,\n",
    "    file_creation_ts\n",
    "FROM temp_sap_avccmdm412\n",
    "\"\"\")"
   ]
  }
 ],
 "metadata": {
  "application/vnd.databricks.v1+notebook": {
   "computePreferences": {
    "hardware": {
     "accelerator": null,
     "gpuPoolId": null,
     "memory": "HIGH"
    }
   },
   "dashboards": [],
   "environmentMetadata": {
    "base_environment": "",
    "environment_version": "2"
   },
   "inputWidgetPreferences": null,
   "language": "python",
   "notebookMetadata": {
    "mostRecentlyExecutedCommandWithImplicitDF": {
     "commandId": 6410538414264727,
     "dataframes": [
      "_sqldf"
     ]
    },
    "pythonIndentUnit": 4
   },
   "notebookName": "sap_avccmdm412",
   "widgets": {
    "environment": {
     "currentValue": "DEV",
     "nuid": "cb429980-a0b4-44a4-8fcf-2b868d529c12",
     "typedWidgetInfo": {
      "autoCreated": false,
      "defaultValue": "",
      "label": "",
      "name": "environment",
      "options": {
       "widgetDisplayType": "Text",
       "validationRegex": null
      },
      "parameterDataType": "String"
     },
     "widgetInfo": {
      "widgetType": "text",
      "defaultValue": "",
      "label": "",
      "name": "environment",
      "options": {
       "widgetType": "text",
       "autoCreated": null,
       "validationRegex": null
      }
     }
    },
    "proc_date": {
     "currentValue": "2025-07-16",
     "nuid": "13d2ca07-a597-4aab-b841-627ec61f340a",
     "typedWidgetInfo": {
      "autoCreated": false,
      "defaultValue": "",
      "label": null,
      "name": "proc_date",
      "options": {
       "widgetDisplayType": "Text",
       "validationRegex": null
      },
      "parameterDataType": "String"
     },
     "widgetInfo": {
      "widgetType": "text",
      "defaultValue": "",
      "label": null,
      "name": "proc_date",
      "options": {
       "widgetType": "text",
       "autoCreated": null,
       "validationRegex": null
      }
     }
    }
   }
  },
  "language_info": {
   "name": "python"
  }
 },
 "nbformat": 4,
 "nbformat_minor": 0
}
