{
 "cells": [
  {
   "cell_type": "code",
   "execution_count": 0,
   "metadata": {
    "application/vnd.databricks.v1+cell": {
     "cellMetadata": {
      "byteLimit": 2048000,
      "rowLimit": 10000
     },
     "inputWidgets": {},
     "nuid": "dc36a94b-af27-4387-b4b1-34ffe0bba872",
     "showTitle": false,
     "tableResultSettingsMap": {},
     "title": ""
    }
   },
   "outputs": [],
   "source": [
    "dbutils.widgets.text(\"proc_date\", \"\")\n",
    "proc_date = dbutils.widgets.get(\"proc_date\")"
   ]
  },
  {
   "cell_type": "code",
   "execution_count": 0,
   "metadata": {
    "application/vnd.databricks.v1+cell": {
     "cellMetadata": {
      "byteLimit": 2048000,
      "rowLimit": 10000
     },
     "inputWidgets": {},
     "nuid": "21cdd544-0de8-4f7a-8cbe-5aa9a1cc8d90",
     "showTitle": false,
     "tableResultSettingsMap": {},
     "title": ""
    }
   },
   "outputs": [],
   "source": [
    "%run ../../../utils/common"
   ]
  },
  {
   "cell_type": "code",
   "execution_count": 0,
   "metadata": {
    "application/vnd.databricks.v1+cell": {
     "cellMetadata": {
      "byteLimit": 2048000,
      "rowLimit": 10000
     },
     "inputWidgets": {},
     "nuid": "99711821-e213-4487-b974-16fca5f1742e",
     "showTitle": false,
     "tableResultSettingsMap": {},
     "title": ""
    }
   },
   "outputs": [],
   "source": [
    "dbutils.widgets.text(\"environment\", \"\")\n",
    "environment = dbutils.widgets.get(\"environment\")"
   ]
  },
  {
   "cell_type": "code",
   "execution_count": 0,
   "metadata": {
    "application/vnd.databricks.v1+cell": {
     "cellMetadata": {
      "byteLimit": 2048000,
      "rowLimit": 10000
     },
     "inputWidgets": {},
     "nuid": "bca6c56f-55bb-462e-b359-ddebd9192cd8",
     "showTitle": false,
     "tableResultSettingsMap": {},
     "title": ""
    }
   },
   "outputs": [],
   "source": [
    "catalog_name = settings[environment]['catalog_name']"
   ]
  },
  {
   "cell_type": "code",
   "execution_count": 0,
   "metadata": {
    "application/vnd.databricks.v1+cell": {
     "cellMetadata": {
      "byteLimit": 2048000,
      "rowLimit": 10000
     },
     "inputWidgets": {},
     "nuid": "c0f7d19a-e8d7-4a5d-ae71-f52cd7234a18",
     "showTitle": false,
     "tableResultSettingsMap": {},
     "title": ""
    }
   },
   "outputs": [],
   "source": [
    "create_temp_view_with_clean_columns(\n",
    "    spark,\n",
    "    catalog_name,\n",
    "    'udp_wcm_bronze_sap_bw',\n",
    "    'sap_bw_wcm_zc_mchlv3',\n",
    "    proc_date,\n",
    "    'temp_sap_zc_mchlv3'\n",
    ")"
   ]
  },
  {
   "cell_type": "code",
   "execution_count": 0,
   "metadata": {
    "application/vnd.databricks.v1+cell": {
     "cellMetadata": {
      "byteLimit": 2048000,
      "rowLimit": 10000
     },
     "inputWidgets": {},
     "nuid": "562d2e0f-7325-4e45-97cf-cad9e1292bd5",
     "showTitle": false,
     "tableResultSettingsMap": {},
     "title": ""
    }
   },
   "outputs": [],
   "source": [
    "spark.sql(f\"\"\"\n",
    "CREATE TABLE IF NOT EXISTS {catalog_name}.udp_wcm_silver_sap_bw.sap_zc_mchlv3\n",
    "(\n",
    "  hash_id BIGINT,\n",
    "  _bic_zc_mchlv3 STRING,\n",
    "  txtsh STRING,\n",
    "  txtmd STRING,\n",
    "  file_creation_ts TIMESTAMP,\n",
    "  proc_date DATE,\n",
    "  start_date DATE,\n",
    "  end_date DATE\n",
    ") \n",
    "TBLPROPERTIES (\n",
    "  'DELTA.AUTOOPTIMIZE.OPTIMIZEWRITE' = 'true',\n",
    "  'DELTA.AUTOOPTIMIZE.AUTOCOMPACT' = 'true'\n",
    ")\n",
    "\"\"\")"
   ]
  },
  {
   "cell_type": "code",
   "execution_count": 0,
   "metadata": {
    "application/vnd.databricks.v1+cell": {
     "cellMetadata": {
      "byteLimit": 2048000,
      "rowLimit": 10000
     },
     "inputWidgets": {},
     "nuid": "5876bd74-adea-47e9-aeb5-9d7fa1524175",
     "showTitle": false,
     "tableResultSettingsMap": {},
     "title": ""
    }
   },
   "outputs": [],
   "source": [
    "spark.sql(f\"\"\"\n",
    "\tCREATE OR REPLACE TEMP VIEW sap_zc_mchlv3\n",
    "\tAS\n",
    "\tWITH temp AS (\n",
    "\tSELECT * EXCEPT(rn) FROM (\n",
    "\t\tSELECT *, ROW_NUMBER() OVER (PARTITION BY _bic_zc_mchlv3, proc_date ORDER BY proc_date) rn FROM (\n",
    "\t\tSELECT * FROM temp_sap_zc_mchlv3\n",
    "\t\t) a\n",
    "\t) a WHERE rn = 1\n",
    "\t),\n",
    "\tmain AS (\n",
    "\tSELECT farm_fingerprint(CONCAT(\n",
    "\t\t\t\tIFNULL(CAST(_bic_zc_mchlv3 AS STRING), \"\"), \n",
    "\t\t\t\tIFNULL(CAST(txtsh AS STRING), \"\"),\n",
    "\t\t\t\tIFNULL(CAST(txtmd AS STRING), \"\")\n",
    "\t\t\t)) hash_id,*, DATE(proc_date) start_date FROM temp\n",
    "\t),\n",
    "\tmain_2 AS (\n",
    "\t\tSELECT * \n",
    "\t\t, LAG(hash_id,1) OVER (PARTITION BY _bic_zc_mchlv3 ORDER BY proc_date) hash_id_prev \n",
    "\t\t\tFROM main\n",
    "\t),\n",
    "\tmain_3 AS (\n",
    "\t\tSELECT * EXCEPT(hash_id_prev) FROM main_2 WHERE (hash_id != hash_id_prev OR hash_id_prev IS NULL)\n",
    "\t),\n",
    "\tmain_4 AS (\n",
    "\t\tSELECT *, LEAD(DATE(proc_date)) OVER (PARTITION BY _bic_zc_mchlv3 ORDER BY proc_date ASC) end_date FROM main_3\n",
    "\t)\n",
    "\tSELECT \n",
    "\t* EXCEPT(end_date), IFNULL(DATE_ADD(end_date,-1), '2400-01-01') end_date FROM main_4\n",
    "\t\"\"\")"
   ]
  },
  {
   "cell_type": "code",
   "execution_count": 0,
   "metadata": {
    "application/vnd.databricks.v1+cell": {
     "cellMetadata": {
      "byteLimit": 2048000,
      "rowLimit": 10000
     },
     "inputWidgets": {},
     "nuid": "ffcdd8af-4c71-435e-9c25-209399a06c76",
     "showTitle": false,
     "tableResultSettingsMap": {},
     "title": ""
    }
   },
   "outputs": [],
   "source": [
    "spark.sql(f\"\"\"\n",
    "\tMERGE INTO {catalog_name}.udp_wcm_silver_sap_bw.sap_zc_mchlv3 inf_tbl\n",
    "\tUSING (\n",
    "\t\tselect _bic_zc_mchlv3, hash_id, start_date from sap_zc_mchlv3 \n",
    "\t\t\twhere end_date = DATE '2400-01-01' \n",
    "\t) tmp_tbl\n",
    "\tON inf_tbl._bic_zc_mchlv3 = tmp_tbl._bic_zc_mchlv3 AND inf_tbl.hash_id != tmp_tbl.hash_id AND inf_tbl.end_date = DATE '2400-01-01'\n",
    "\tWHEN MATCHED THEN UPDATE SET inf_tbl.end_date = date_add(tmp_tbl.start_date,-1) \"\"\")"
   ]
  },
  {
   "cell_type": "code",
   "execution_count": 0,
   "metadata": {
    "application/vnd.databricks.v1+cell": {
     "cellMetadata": {
      "byteLimit": 2048000,
      "rowLimit": 10000
     },
     "inputWidgets": {},
     "nuid": "7eaca9f9-3bf2-4cd4-9570-fdcfbc733501",
     "showTitle": false,
     "tableResultSettingsMap": {},
     "title": ""
    }
   },
   "outputs": [],
   "source": [
    "spark.sql(f\"\"\"\n",
    "\tMERGE INTO {catalog_name}.udp_wcm_silver_sap_bw.sap_zc_mchlv3 inf_tbl\n",
    "\t\tUSING sap_zc_mchlv3 tmp_tbl\n",
    "\t\tON inf_tbl.hash_id = tmp_tbl.hash_id  AND inf_tbl.end_date = DATE '2400-01-01'\n",
    "\t\tWHEN NOT MATCHED THEN INSERT * \"\"\")"
   ]
  }
 ],
 "metadata": {
  "application/vnd.databricks.v1+notebook": {
   "computePreferences": null,
   "dashboards": [],
   "environmentMetadata": {
    "base_environment": "",
    "environment_version": "2"
   },
   "inputWidgetPreferences": null,
   "language": "python",
   "notebookMetadata": {
    "mostRecentlyExecutedCommandWithImplicitDF": {
     "commandId": 4736130552782562,
     "dataframes": [
      "_sqldf"
     ]
    },
    "pythonIndentUnit": 4
   },
   "notebookName": "sap_zc_mchlv3",
   "widgets": {
    "environment": {
     "currentValue": "DEV",
     "nuid": "04010510-d357-48aa-90b2-a015fe22da77",
     "typedWidgetInfo": {
      "autoCreated": false,
      "defaultValue": "",
      "label": null,
      "name": "environment",
      "options": {
       "widgetDisplayType": "Text",
       "validationRegex": null
      },
      "parameterDataType": "String"
     },
     "widgetInfo": {
      "widgetType": "text",
      "defaultValue": "",
      "label": null,
      "name": "environment",
      "options": {
       "widgetType": "text",
       "autoCreated": null,
       "validationRegex": null
      }
     }
    },
    "proc_date": {
     "currentValue": "2025-05-29",
     "nuid": "f94bbcd1-0586-4d9d-a144-f7f40154afb1",
     "typedWidgetInfo": {
      "autoCreated": false,
      "defaultValue": "",
      "label": null,
      "name": "proc_date",
      "options": {
       "widgetDisplayType": "Text",
       "validationRegex": null
      },
      "parameterDataType": "String"
     },
     "widgetInfo": {
      "widgetType": "text",
      "defaultValue": "",
      "label": null,
      "name": "proc_date",
      "options": {
       "widgetType": "text",
       "autoCreated": null,
       "validationRegex": null
      }
     }
    }
   }
  },
  "language_info": {
   "name": "python"
  }
 },
 "nbformat": 4,
 "nbformat_minor": 0
}
