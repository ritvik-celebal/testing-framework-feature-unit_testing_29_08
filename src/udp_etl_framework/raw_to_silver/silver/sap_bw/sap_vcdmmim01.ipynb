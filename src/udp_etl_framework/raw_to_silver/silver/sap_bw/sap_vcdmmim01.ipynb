{
 "cells": [
  {
   "cell_type": "code",
   "execution_count": 0,
   "metadata": {
    "application/vnd.databricks.v1+cell": {
     "cellMetadata": {
      "byteLimit": 2048000,
      "rowLimit": 10000
     },
     "inputWidgets": {},
     "nuid": "4cbf6f27-201f-4ded-b044-a50d7703069e",
     "showTitle": false,
     "tableResultSettingsMap": {},
     "title": ""
    }
   },
   "outputs": [],
   "source": [
    "dbutils.widgets.text(\"proc_date\", \"\")\n",
    "proc_date = dbutils.widgets.get(\"proc_date\")"
   ]
  },
  {
   "cell_type": "code",
   "execution_count": 0,
   "metadata": {
    "application/vnd.databricks.v1+cell": {
     "cellMetadata": {
      "byteLimit": 2048000,
      "rowLimit": 10000
     },
     "inputWidgets": {},
     "nuid": "d9d2539f-6ca2-4b3b-91c8-fb2df8fb4503",
     "showTitle": false,
     "tableResultSettingsMap": {},
     "title": ""
    }
   },
   "outputs": [],
   "source": [
    "%run ../../../utils/common"
   ]
  },
  {
   "cell_type": "code",
   "execution_count": 0,
   "metadata": {
    "application/vnd.databricks.v1+cell": {
     "cellMetadata": {
      "byteLimit": 2048000,
      "rowLimit": 10000
     },
     "inputWidgets": {},
     "nuid": "6c0eab74-cb16-48c4-835a-15e05fcee35c",
     "showTitle": false,
     "tableResultSettingsMap": {},
     "title": ""
    }
   },
   "outputs": [],
   "source": [
    "dbutils.widgets.text(\"environment\", \"\", \"\")\n",
    "environment = dbutils.widgets.get(\"environment\")"
   ]
  },
  {
   "cell_type": "code",
   "execution_count": 0,
   "metadata": {
    "application/vnd.databricks.v1+cell": {
     "cellMetadata": {
      "byteLimit": 2048000,
      "rowLimit": 10000
     },
     "inputWidgets": {},
     "nuid": "1ec54fc2-915d-405b-8c17-85351041387b",
     "showTitle": false,
     "tableResultSettingsMap": {},
     "title": ""
    }
   },
   "outputs": [],
   "source": [
    "catalog_name = settings[environment]['catalog_name']"
   ]
  },
  {
   "cell_type": "code",
   "execution_count": 0,
   "metadata": {
    "application/vnd.databricks.v1+cell": {
     "cellMetadata": {},
     "inputWidgets": {},
     "nuid": "0a341e6b-250d-4c08-8d30-f29462dea8ab",
     "showTitle": false,
     "tableResultSettingsMap": {},
     "title": ""
    }
   },
   "outputs": [],
   "source": [
    "create_temp_view_with_clean_columns(\n",
    "    spark,\n",
    "    catalog_name,\n",
    "    'udp_wcm_bronze_sap_bw',\n",
    "    'sap_bw_wcm_vccmmim51',\n",
    "    proc_date,\n",
    "    'temp_sap_vccmmim51'\n",
    ")"
   ]
  },
  {
   "cell_type": "code",
   "execution_count": 0,
   "metadata": {
    "application/vnd.databricks.v1+cell": {
     "cellMetadata": {
      "byteLimit": 2048000,
      "rowLimit": 10000
     },
     "inputWidgets": {},
     "nuid": "cbc98789-bd48-4672-ba5c-1018ff72207f",
     "showTitle": false,
     "tableResultSettingsMap": {},
     "title": ""
    }
   },
   "outputs": [],
   "source": [
    "spark.sql(f\"\"\"\n",
    "CREATE TABLE IF NOT EXISTS {catalog_name}.udp_wcm_silver_sap_bw.sap_vcdmmim01\n",
    "(\n",
    "  hash_id BIGINT,\n",
    "  material STRING,\n",
    "  stor_loc STRING,\n",
    "  stocktype STRING,\n",
    "  stockcat STRING,\n",
    "  comp_code STRING,\n",
    "  zc_ltstgr DATE,\n",
    "  vendor STRING,\n",
    "  customer STRING,\n",
    "  calday DATE,\n",
    "  upd_date DATE,\n",
    "  segment STRING,\n",
    "  plant STRING,\n",
    "  base_uom STRING,\n",
    "  zk_tp_qty DOUBLE,\n",
    "  zk_ltstgr DOUBLE,\n",
    "  rec_tots_tck DOUBLE,\n",
    "  iss_tots_tck DOUBLE,\n",
    "  rec_val_stck DOUBLE,\n",
    "  iss_val_stck DOUBLE,\n",
    "  rec_cns_stck DOUBLE,\n",
    "  iss_cns_stck DOUBLE,\n",
    "  proc_date DATE,\n",
    "  file_creation_ts TIMESTAMP\n",
    ") \n",
    "TBLPROPERTIES (\n",
    "  'DELTA.AUTOOPTIMIZE.OPTIMIZEWRITE' = 'TRUE',\n",
    "  'DELTA.AUTOOPTIMIZE.AUTOCOMPACT' = 'TRUE'\n",
    ")\n",
    "\"\"\")"
   ]
  },
  {
   "cell_type": "code",
   "execution_count": 0,
   "metadata": {
    "application/vnd.databricks.v1+cell": {
     "cellMetadata": {
      "byteLimit": 2048000,
      "rowLimit": 10000
     },
     "inputWidgets": {},
     "nuid": "03f64b55-0a65-4f83-84a3-d480f27ec70f",
     "showTitle": false,
     "tableResultSettingsMap": {},
     "title": ""
    }
   },
   "outputs": [],
   "source": [
    "spark.sql(f\"\"\"\n",
    "    CREATE OR REPLACE TEMP VIEW sap_vcdmmim01 AS\n",
    "    WITH main AS (\n",
    "                SELECT \n",
    "                    reqtsn, datapakid, record,\n",
    "                    CASE WHEN material RLIKE '^[0-9]+$' THEN CAST(CAST(material AS BIGINT) AS STRING) ELSE material END AS material,\n",
    "                    CASE WHEN stor_loc = '' THEN NULL ELSE stor_loc END AS stor_loc,\n",
    "                    CASE WHEN stocktype = '' THEN NULL ELSE stocktype END AS stocktype,\n",
    "                    CASE WHEN stockcat = '' THEN NULL ELSE stockcat END AS stockcat,\n",
    "                    CASE WHEN comp_code = '' THEN NULL ELSE comp_code END AS comp_code,\n",
    "                    CASE WHEN _bic_zc_ltstgr = '00000000' THEN NULL ELSE TO_DATE(_bic_zc_ltstgr, 'yyyyMMdd') END AS zc_ltstgr,\n",
    "                    CASE WHEN vendor = '' THEN NULL ELSE vendor END AS vendor,\n",
    "                    CASE WHEN customer = '' THEN NULL ELSE customer END AS customer,\n",
    "                    CASE WHEN calday = '00000000' THEN NULL ELSE TO_DATE(calday, 'yyyyMMdd') END AS calday,\n",
    "                    CASE WHEN upd_date = '00000000' THEN NULL ELSE TO_DATE(upd_date, 'yyyyMMdd') END AS upd_date,\n",
    "                    CASE WHEN segment = '' THEN NULL ELSE CAST(CAST(segment AS BIGINT) AS STRING) END AS segment,\n",
    "                    CASE WHEN plant = '' THEN NULL ELSE LTRIM('0',plant) END AS plant,\n",
    "                    CASE WHEN base_uom = '' THEN NULL ELSE base_uom END AS base_uom,\n",
    "                    SUM(_bic_zk_tp_qty) AS zk_tp_qty,\n",
    "                    SUM(_bic_zk_ltstgr) AS zk_ltstgr,\n",
    "                    SUM(rectotstck) AS rectotstck,\n",
    "                    SUM(isstotstck) AS isstotstck,\n",
    "                    SUM(recvalstck) AS recvalstck,\n",
    "                    SUM(issvalstck) AS issvalstck,\n",
    "                    SUM(reccnsstck) AS reccnsstck,\n",
    "                    SUM(isscnsstck) AS isscnsstck,\n",
    "                    MAX(proc_date) AS proc_date,\n",
    "                    MAX(file_creation_ts) AS file_creation_ts\n",
    "                FROM (\n",
    "                    SELECT * except (rn) FROM (\n",
    "                        SELECT *, ROW_NUMBER() OVER (PARTITION BY reqtsn, datapakid, record ORDER BY proc_date DESC) AS rn \n",
    "                        FROM temp_sap_vccmmim51\n",
    "                    ) a WHERE rn = 1 \n",
    "                ) a\n",
    "                GROUP BY reqtsn, datapakid, record, material, stor_loc, stocktype, stockcat, comp_code, \n",
    "                        _bic_zc_ltstgr, vendor, customer, calday, upd_date, segment, plant, base_uom\n",
    "            )\n",
    "            SELECT\n",
    "            FARM_FINGERPRINT(CONCAT(\n",
    "                COALESCE(CAST(reqtsn AS STRING), \"\"),\n",
    "                COALESCE(CAST(datapakid AS STRING), \"\"),\n",
    "                COALESCE(CAST(record AS STRING), \"\"),\n",
    "                COALESCE(CAST(material AS STRING), \"\"),\n",
    "                COALESCE(CAST(stor_loc AS STRING), \"\"),\n",
    "                COALESCE(CAST(stocktype AS STRING), \"\"),\n",
    "                COALESCE(CAST(stockcat AS STRING), \"\"),\n",
    "                COALESCE(CAST(comp_code AS STRING), \"\"),\n",
    "                COALESCE(CAST(zc_ltstgr AS STRING), \"\"),\n",
    "                COALESCE(CAST(vendor AS STRING), \"\"),\n",
    "                COALESCE(CAST(customer AS STRING), \"\"),\n",
    "                COALESCE(CAST(calday AS STRING), \"\"),\n",
    "                COALESCE(CAST(upd_date AS STRING), \"\"),\n",
    "                COALESCE(CAST(segment AS STRING), \"\"),\n",
    "                COALESCE(CAST(plant AS STRING), \"\"),\n",
    "                COALESCE(CAST(base_uom AS STRING), \"\")\n",
    "            )) AS hash_id,\n",
    "            * EXCEPT (reqtsn, datapakid, record), reqtsn, datapakid, record\n",
    "            FROM main\"\"\")"
   ]
  },
  {
   "cell_type": "code",
   "execution_count": 0,
   "metadata": {
    "application/vnd.databricks.v1+cell": {
     "cellMetadata": {
      "byteLimit": 2048000,
      "rowLimit": 10000
     },
     "inputWidgets": {},
     "nuid": "2123e85e-1f1f-4cc8-b34e-b152e51cfc56",
     "showTitle": false,
     "tableResultSettingsMap": {},
     "title": ""
    }
   },
   "outputs": [],
   "source": [
    "calday_query = f\"\"\"\n",
    "SELECT\n",
    "    CONCAT(\"'\", CONCAT_WS(\"','\", COLLECT_SET(CAST(TO_DATE(calday, 'yyyy-MM-dd') AS STRING))), \"'\") AS calday_in_str\n",
    "FROM sap_vcdmmim01\n",
    "\"\"\"\n",
    "calday_df = spark.sql(calday_query)\n",
    "calday_in_str = calday_df.collect()[0][0]\n",
    "print(calday_in_str)"
   ]
  },
  {
   "cell_type": "code",
   "execution_count": 0,
   "metadata": {
    "application/vnd.databricks.v1+cell": {
     "cellMetadata": {
      "byteLimit": 2048000,
      "rowLimit": 10000
     },
     "inputWidgets": {},
     "nuid": "e9569757-013b-46ac-be34-74b17c3e62fe",
     "showTitle": false,
     "tableResultSettingsMap": {},
     "title": ""
    }
   },
   "outputs": [],
   "source": [
    "spark.sql(f\"\"\"\n",
    "MERGE INTO {catalog_name}.udp_wcm_silver_sap_bw.sap_vcdmmim01 main_tbl\n",
    "USING sap_vcdmmim01 temp_tbl\n",
    "ON main_tbl.hash_id = temp_tbl.hash_id\n",
    "AND main_tbl.calday IN ({calday_in_str})\n",
    "WHEN NOT MATCHED THEN INSERT *\n",
    "\"\"\")"
   ]
  }
 ],
 "metadata": {
  "application/vnd.databricks.v1+notebook": {
   "computePreferences": null,
   "dashboards": [],
   "environmentMetadata": {
    "base_environment": "",
    "environment_version": "2"
   },
   "inputWidgetPreferences": null,
   "language": "python",
   "notebookMetadata": {
    "mostRecentlyExecutedCommandWithImplicitDF": {
     "commandId": 6605737921180844,
     "dataframes": [
      "_sqldf"
     ]
    },
    "pythonIndentUnit": 4
   },
   "notebookName": "sap_vcdmmim01",
   "widgets": {
    "environment": {
     "currentValue": "DEV",
     "nuid": "b86d1834-1e79-4268-b9cb-ea21cb55e4df",
     "typedWidgetInfo": {
      "autoCreated": false,
      "defaultValue": "",
      "label": "",
      "name": "environment",
      "options": {
       "widgetDisplayType": "Text",
       "validationRegex": null
      },
      "parameterDataType": "String"
     },
     "widgetInfo": {
      "widgetType": "text",
      "defaultValue": "",
      "label": "",
      "name": "environment",
      "options": {
       "widgetType": "text",
       "autoCreated": null,
       "validationRegex": null
      }
     }
    },
    "proc_date": {
     "currentValue": "2025-07-17",
     "nuid": "4dfcb97b-ca16-40d9-934b-d85e790df020",
     "typedWidgetInfo": {
      "autoCreated": false,
      "defaultValue": "",
      "label": null,
      "name": "proc_date",
      "options": {
       "widgetDisplayType": "Text",
       "validationRegex": null
      },
      "parameterDataType": "String"
     },
     "widgetInfo": {
      "widgetType": "text",
      "defaultValue": "",
      "label": null,
      "name": "proc_date",
      "options": {
       "widgetType": "text",
       "autoCreated": null,
       "validationRegex": null
      }
     }
    }
   }
  },
  "language_info": {
   "name": "python"
  }
 },
 "nbformat": 4,
 "nbformat_minor": 0
}
