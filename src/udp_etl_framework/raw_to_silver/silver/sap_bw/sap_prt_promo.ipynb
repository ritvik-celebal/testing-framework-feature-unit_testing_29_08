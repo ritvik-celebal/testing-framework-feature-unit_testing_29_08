{
 "cells": [
  {
   "cell_type": "code",
   "execution_count": 0,
   "metadata": {
    "application/vnd.databricks.v1+cell": {
     "cellMetadata": {
      "byteLimit": 2048000,
      "rowLimit": 10000
     },
     "inputWidgets": {},
     "nuid": "9b56702d-924d-4323-a902-f19f1dec5b9f",
     "showTitle": false,
     "tableResultSettingsMap": {},
     "title": ""
    }
   },
   "outputs": [],
   "source": [
    "dbutils.widgets.text(\"proc_date\", \"\")\n",
    "proc_date = dbutils.widgets.get(\"proc_date\")"
   ]
  },
  {
   "cell_type": "code",
   "execution_count": 0,
   "metadata": {
    "application/vnd.databricks.v1+cell": {
     "cellMetadata": {
      "byteLimit": 2048000,
      "rowLimit": 10000
     },
     "inputWidgets": {},
     "nuid": "4a6639ed-e483-48e1-a8d0-68db6c5ce9c7",
     "showTitle": false,
     "tableResultSettingsMap": {},
     "title": ""
    }
   },
   "outputs": [],
   "source": [
    "%run ../../../utils/common"
   ]
  },
  {
   "cell_type": "code",
   "execution_count": 0,
   "metadata": {
    "application/vnd.databricks.v1+cell": {
     "cellMetadata": {
      "byteLimit": 2048000,
      "rowLimit": 10000
     },
     "inputWidgets": {},
     "nuid": "d2491e51-8098-4754-8427-d0deaf9997b2",
     "showTitle": false,
     "tableResultSettingsMap": {},
     "title": ""
    }
   },
   "outputs": [],
   "source": [
    "dbutils.widgets.text(\"environment\", \"\", \"\")\n",
    "environment = dbutils.widgets.get(\"environment\")"
   ]
  },
  {
   "cell_type": "code",
   "execution_count": 0,
   "metadata": {
    "application/vnd.databricks.v1+cell": {
     "cellMetadata": {
      "byteLimit": 2048000,
      "rowLimit": 10000
     },
     "inputWidgets": {},
     "nuid": "f16e575c-08f0-4e87-ad42-08a8b36c59a8",
     "showTitle": false,
     "tableResultSettingsMap": {},
     "title": ""
    }
   },
   "outputs": [],
   "source": [
    "catalog_name = settings[environment]['catalog_name']"
   ]
  },
  {
   "cell_type": "code",
   "execution_count": 0,
   "metadata": {
    "application/vnd.databricks.v1+cell": {
     "cellMetadata": {},
     "inputWidgets": {},
     "nuid": "fcde67a8-f1ed-48b5-8281-c6513b94f4d6",
     "showTitle": false,
     "tableResultSettingsMap": {},
     "title": ""
    }
   },
   "outputs": [],
   "source": [
    "create_temp_view_with_clean_columns(\n",
    "    spark,\n",
    "    catalog_name,\n",
    "    'udp_wcm_bronze_sap_bw',\n",
    "    'sap_bw_wcm_prt_promo',\n",
    "    proc_date,\n",
    "    'temp_sap_prt_promo'\n",
    ")"
   ]
  },
  {
   "cell_type": "code",
   "execution_count": 0,
   "metadata": {
    "application/vnd.databricks.v1+cell": {
     "cellMetadata": {
      "byteLimit": 2048000,
      "rowLimit": 10000
     },
     "inputWidgets": {},
     "nuid": "53641e6b-b56d-4acc-8cca-7b34351d1090",
     "showTitle": false,
     "tableResultSettingsMap": {},
     "title": ""
    }
   },
   "outputs": [],
   "source": [
    "spark.sql(f\"\"\"\n",
    "CREATE TABLE IF NOT EXISTS {catalog_name}.udp_wcm_silver_sap_bw.sap_prt_promo\n",
    "(\n",
    "    hash_id BIGINT,\n",
    "    rt_promo STRING,\n",
    "    objvers STRING,\n",
    "    changed STRING,\n",
    "    rt_promoct STRING,\n",
    "    rt_promoty STRING,\n",
    "    rt_prslfrm DATE,\n",
    "    rt_prslto DATE,\n",
    "    rt_prcreap STRING,\n",
    "    _bic_zbbuytype STRING,\n",
    "    _bic_zbbprtven DOUBLE,\n",
    "    _bic_zc_bbprof STRING,\n",
    "    _bic_zc_bbtype STRING,\n",
    "    _bic_zc_vpromo STRING,\n",
    "    _bic_zc_bbstat STRING,\n",
    "    loc_currcy STRING,\n",
    "    _bic_zk_fm_km DOUBLE,\n",
    "    _bic_zk_fm_th DOUBLE,\n",
    "    _bic_zk_claim DOUBLE,\n",
    "    _bic_zc_claimt STRING,\n",
    "    proc_date DATE,\n",
    "    start_date DATE,\n",
    "    end_date DATE,\n",
    "    file_creation_ts TIMESTAMP\n",
    "    )\n",
    "TBLPROPERTIES \n",
    "(\n",
    "\tDELTA.AUTOOPTIMIZE.OPTIMIZEWRITE = TRUE,\n",
    "\tDELTA.AUTOOPTIMIZE.AUTOCOMPACT = TRUE\n",
    ")\n",
    "\"\"\")"
   ]
  },
  {
   "cell_type": "code",
   "execution_count": 0,
   "metadata": {
    "application/vnd.databricks.v1+cell": {
     "cellMetadata": {
      "byteLimit": 2048000,
      "rowLimit": 10000
     },
     "inputWidgets": {},
     "nuid": "c7a300d9-f04e-4796-b3e9-518a56fbb907",
     "showTitle": false,
     "tableResultSettingsMap": {},
     "title": ""
    }
   },
   "outputs": [],
   "source": [
    "spark.sql(f\"\"\"\n",
    "CREATE OR REPLACE TEMP VIEW sap_prt_promo\n",
    "AS\n",
    "WITH temp AS (\n",
    "SELECT * EXCEPT(rn) FROM (\n",
    "        SELECT *, ROW_NUMBER() OVER (PARTITION BY rt_promo, DATE(proc_date) ORDER BY proc_date) rn FROM (\n",
    "                SELECT IF(rt_promo = '', NULL, LTRIM('0',rt_promo)) AS rt_promo,\n",
    "                        IF(objvers = '', NULL, objvers) AS objvers,\n",
    "                        IF(changed = '', NULL, changed ) AS changed,\n",
    "                        IF(rt_promoct = '', NULL, rt_promoct ) AS rt_promoct,\n",
    "                        IF(rt_promoty = '', NULL, LTRIM('0',rt_promoty)) AS rt_promoty,\n",
    "                        TO_DATE(IF(rt_prslfrm = '00000000', '20160101', rt_prslfrm), 'yyyyMMdd') AS rt_prslfrm,\n",
    "                        TO_DATE(IF(rt_prslto = '00000000', '20160101', rt_prslto), 'yyyyMMdd') AS rt_prslto,\n",
    "                        IF(rt_prcreap = '', NULL, rt_prcreap ) AS rt_prcreap,\n",
    "                        IF(_bic_zbbuytype = '', NULL, _bic_zbbuytype ) AS _bic_zbbuytype,\n",
    "                        COALESCE(NULLIF(CASE \n",
    "                        WHEN ABS(_bic_zbbprtven) < 1E-10 THEN '0'\n",
    "                        WHEN _bic_zbbprtven = CAST(_bic_zbbprtven AS DECIMAL(38,0)) THEN CAST(CAST(_bic_zbbprtven AS DECIMAL(38,0)) AS STRING) \n",
    "                        ELSE CAST(_bic_zbbprtven AS STRING) \n",
    "                        END, 'None'), '') AS _bic_zbbprtven,\n",
    "                        IF(_bic_zc_bbprof = '', NULL, _bic_zc_bbprof ) AS _bic_zc_bbprof,\n",
    "                        IF(_bic_zc_bbtype = '', NULL, _bic_zc_bbtype ) AS _bic_zc_bbtype,\n",
    "                        IF(_bic_zc_vpromo = '', NULL, _bic_zc_vpromo ) AS _bic_zc_vpromo,\n",
    "                        IF(_bic_zc_bbstat = '', NULL, _bic_zc_bbstat ) AS _bic_zc_bbstat,\n",
    "                        IF(loc_currcy = '', NULL, loc_currcy ) AS loc_currcy,\n",
    "                        COALESCE(NULLIF(CASE \n",
    "                        WHEN ABS(_bic_zk_fm_km) < 1E-10 THEN '0'\n",
    "                        WHEN _bic_zk_fm_km = CAST(_bic_zk_fm_km AS DECIMAL(38,18)) THEN CAST(CAST(_bic_zk_fm_km AS DECIMAL(38,18)) AS STRING) \n",
    "                        ELSE CAST(_bic_zk_fm_km AS STRING) \n",
    "                        END, 'None'), '') AS _bic_zk_fm_km,\n",
    "                        COALESCE(NULLIF(CASE \n",
    "                        WHEN ABS(_bic_zk_fm_th) < 1E-10 THEN '0'\n",
    "                        WHEN _bic_zk_fm_th = CAST(_bic_zk_fm_th AS DECIMAL(38,18)) THEN CAST(CAST(_bic_zk_fm_th AS DECIMAL(38,18)) AS STRING) \n",
    "                        ELSE CAST(_bic_zk_fm_th AS STRING) \n",
    "                        END, 'None'), '') AS _bic_zk_fm_th,\n",
    "                        COALESCE(NULLIF(CASE \n",
    "                        WHEN ABS(_bic_zk_claim) < 1E-10 THEN '0'\n",
    "                        WHEN _bic_zk_claim = CAST(_bic_zk_claim AS DECIMAL(38,18)) THEN CAST(CAST(_bic_zk_claim AS DECIMAL(38,18)) AS STRING) \n",
    "                        ELSE CAST(_bic_zk_claim AS STRING) \n",
    "                        END, 'None'), '') AS _bic_zk_claim,\n",
    "                        IF(_bic_zc_claimt = '', NULL, _bic_zc_claimt ) AS _bic_zc_claimt,\n",
    "                        proc_date AS proc_date,\n",
    "                        file_creation_ts\n",
    "                        FROM temp_sap_prt_promo\n",
    "        ) a\n",
    ") a WHERE rn = 1\n",
    "),\n",
    "main AS (\n",
    "SELECT farm_fingerprint(CONCAT(\n",
    "                    IFNULL(CAST(rt_promo AS STRING), \"\"), \n",
    "                    IFNULL(CAST(objvers AS STRING), \"\"), \n",
    "                    IFNULL(CAST(changed AS STRING), \"\"), \n",
    "                    IFNULL(CAST(rt_promoct AS STRING), \"\"),\n",
    "                    IFNULL(CAST(rt_promoty AS STRING), \"\"),\n",
    "                    IFNULL(CAST(rt_prslfrm AS STRING), \"\"),\n",
    "                    IFNULL(CAST(rt_prslto AS STRING), \"\"),\n",
    "                    IFNULL(CAST(rt_prcreap AS STRING), \"\"),\n",
    "                    IFNULL(CAST(_bic_zbbuytype AS STRING), \"\"),\n",
    "                    IFNULL(CASE WHEN CAST(_bic_zbbprtven AS DOUBLE) = CAST(CAST(_bic_zbbprtven AS DOUBLE) AS BIGINT) THEN CAST(CAST(_bic_zbbprtven AS BIGINT) AS STRING) ELSE TRIM(TRAILING '0' FROM(CAST(_bic_zbbprtven AS DECIMAL(38,10)))) END, \"\"),\n",
    "                    IFNULL(CAST(_bic_zc_bbprof AS STRING), \"\"),\n",
    "                    IFNULL(CAST(_bic_zc_bbtype AS STRING), \"\"),\n",
    "                    IFNULL(CAST(_bic_zc_vpromo AS STRING), \"\"),\n",
    "                    IFNULL(CAST(_bic_zc_bbstat AS STRING), \"\"),\n",
    "                    IFNULL(CAST(loc_currcy AS STRING), \"\"),\n",
    "                   IFNULL(CASE WHEN CAST(_bic_zk_fm_km AS DOUBLE) = CAST(CAST(_bic_zk_fm_km AS DOUBLE) AS BIGINT) THEN CAST(CAST(_bic_zk_fm_km AS BIGINT) AS STRING) ELSE TRIM(TRAILING '0' FROM(CAST(_bic_zk_fm_km AS DECIMAL(38,10)))) END, \"\"),\n",
    "                   IFNULL(CASE WHEN CAST(_bic_zk_fm_th AS DOUBLE) = CAST(CAST(_bic_zk_fm_th AS DOUBLE) AS BIGINT) THEN CAST(CAST(_bic_zk_fm_th AS BIGINT) AS STRING) ELSE TRIM(TRAILING '0' FROM(CAST(_bic_zk_fm_th AS DECIMAL(38,10)))) END, \"\") ,\n",
    "                    IFNULL(CASE WHEN CAST(_bic_zk_claim AS DOUBLE) = CAST(CAST(_bic_zk_claim AS DOUBLE) AS BIGINT) THEN CAST(CAST(_bic_zk_claim AS BIGINT) AS STRING) ELSE TRIM(TRAILING '0' FROM(CAST(_bic_zk_claim AS DECIMAL(38,10)))) END, \"\") ,\n",
    "                    IFNULL(CAST(_bic_zc_claimt AS STRING), \"\")\n",
    "\t\t)) hash_id\n",
    "        ,* \n",
    "        , DATE(proc_date) start_date FROM temp\n",
    "),\n",
    "main_2 AS (\n",
    "SELECT * \n",
    "\t, LAG(hash_id, 1) OVER (PARTITION BY rt_promo ORDER BY proc_date) hash_id_prev \n",
    "\t\tFROM main\n",
    "),\n",
    "main_3 AS (\n",
    "SELECT * EXCEPT(hash_id_prev) FROM main_2 WHERE (hash_id != hash_id_prev OR hash_id_prev IS NULL)\n",
    "),\n",
    "main_4 AS (\n",
    "SELECT *, LEAD(DATE(proc_date)) OVER (PARTITION BY rt_promo ORDER BY proc_date ASC) end_date FROM main_3\n",
    ")\n",
    "SELECT * EXCEPT(end_date), IFNULL(date_add(end_date, -1), '2400-01-01') end_date FROM main_4\n",
    "\"\"\")"
   ]
  },
  {
   "cell_type": "code",
   "execution_count": 0,
   "metadata": {
    "application/vnd.databricks.v1+cell": {
     "cellMetadata": {
      "byteLimit": 2048000,
      "rowLimit": 10000
     },
     "inputWidgets": {},
     "nuid": "6f2c9078-be1b-4ce6-bd7f-4ee920ad44d9",
     "showTitle": false,
     "tableResultSettingsMap": {},
     "title": ""
    }
   },
   "outputs": [],
   "source": [
    "spark.sql(f\"\"\"\n",
    "MERGE INTO {catalog_name}.udp_wcm_silver_sap_bw.sap_prt_promo inf_tbl\n",
    "USING (\n",
    "    SELECT rt_promo, hash_id, start_date FROM sap_prt_promo\n",
    "        WHERE end_date = DATE '2400-01-01' \n",
    ") tmp_tbl\n",
    "ON inf_tbl.rt_promo = tmp_tbl.rt_promo AND inf_tbl.hash_id != tmp_tbl.hash_id AND inf_tbl.end_date = DATE '2400-01-01'\n",
    "WHEN MATCHED THEN UPDATE SET inf_tbl.end_date = date_add(tmp_tbl.start_date, -1);\n",
    "\"\"\")"
   ]
  },
  {
   "cell_type": "code",
   "execution_count": 0,
   "metadata": {
    "application/vnd.databricks.v1+cell": {
     "cellMetadata": {
      "byteLimit": 2048000,
      "rowLimit": 10000
     },
     "inputWidgets": {},
     "nuid": "56f0d28f-5c9d-469d-a870-895898878fc3",
     "showTitle": false,
     "tableResultSettingsMap": {},
     "title": ""
    }
   },
   "outputs": [],
   "source": [
    "spark.sql(f\"\"\"\n",
    "MERGE INTO {catalog_name}.udp_wcm_silver_sap_bw.sap_prt_promo inf_tbl\n",
    "\tUSING sap_prt_promo tmp_tbl\n",
    "\tON inf_tbl.hash_id = tmp_tbl.hash_id  \n",
    "\tAND inf_tbl.end_date = DATE '2400-01-01'\n",
    "\tWHEN NOT MATCHED THEN INSERT *;\n",
    "\"\"\")"
   ]
  }
 ],
 "metadata": {
  "application/vnd.databricks.v1+notebook": {
   "computePreferences": {
    "hardware": {
     "accelerator": null,
     "gpuPoolId": null,
     "memory": "HIGH"
    }
   },
   "dashboards": [],
   "environmentMetadata": {
    "base_environment": "",
    "environment_version": "2"
   },
   "inputWidgetPreferences": null,
   "language": "python",
   "notebookMetadata": {
    "mostRecentlyExecutedCommandWithImplicitDF": {
     "commandId": -1,
     "dataframes": [
      "_sqldf"
     ]
    },
    "pythonIndentUnit": 4
   },
   "notebookName": "sap_prt_promo",
   "widgets": {
    "environment": {
     "currentValue": "DEV",
     "nuid": "a3251add-b1b3-40b0-bea3-b3fcbd977fa1",
     "typedWidgetInfo": {
      "autoCreated": false,
      "defaultValue": "",
      "label": "",
      "name": "environment",
      "options": {
       "widgetDisplayType": "Text",
       "validationRegex": null
      },
      "parameterDataType": "String"
     },
     "widgetInfo": {
      "widgetType": "text",
      "defaultValue": "",
      "label": "",
      "name": "environment",
      "options": {
       "widgetType": "text",
       "autoCreated": null,
       "validationRegex": null
      }
     }
    },
    "proc_date": {
     "currentValue": "2025-07-15",
     "nuid": "a657d0a0-1cb2-4713-b44c-5456a1269f6a",
     "typedWidgetInfo": {
      "autoCreated": false,
      "defaultValue": "",
      "label": null,
      "name": "proc_date",
      "options": {
       "widgetDisplayType": "Text",
       "validationRegex": null
      },
      "parameterDataType": "String"
     },
     "widgetInfo": {
      "widgetType": "text",
      "defaultValue": "",
      "label": null,
      "name": "proc_date",
      "options": {
       "widgetType": "text",
       "autoCreated": null,
       "validationRegex": null
      }
     }
    }
   }
  },
  "language_info": {
   "name": "python"
  }
 },
 "nbformat": 4,
 "nbformat_minor": 0
}
