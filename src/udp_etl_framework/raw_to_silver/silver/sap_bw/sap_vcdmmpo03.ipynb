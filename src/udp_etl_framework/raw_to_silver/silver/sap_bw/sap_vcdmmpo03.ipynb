{
 "cells": [
  {
   "cell_type": "code",
   "execution_count": 0,
   "metadata": {
    "application/vnd.databricks.v1+cell": {
     "cellMetadata": {
      "byteLimit": 2048000,
      "rowLimit": 10000
     },
     "inputWidgets": {},
     "nuid": "5ee22e8e-e070-4b4f-b8bc-8ba1faeef37a",
     "showTitle": false,
     "tableResultSettingsMap": {},
     "title": ""
    }
   },
   "outputs": [],
   "source": [
    "dbutils.widgets.text(\"proc_date\", \"\")\n",
    "proc_date = dbutils.widgets.get(\"proc_date\")"
   ]
  },
  {
   "cell_type": "code",
   "execution_count": 0,
   "metadata": {
    "application/vnd.databricks.v1+cell": {
     "cellMetadata": {
      "byteLimit": 2048000,
      "rowLimit": 10000
     },
     "inputWidgets": {},
     "nuid": "1d40285e-3d2d-4240-b3d1-fe499bf3e37b",
     "showTitle": false,
     "tableResultSettingsMap": {},
     "title": ""
    }
   },
   "outputs": [],
   "source": [
    "%run ../../../utils/common"
   ]
  },
  {
   "cell_type": "code",
   "execution_count": 0,
   "metadata": {
    "application/vnd.databricks.v1+cell": {
     "cellMetadata": {
      "byteLimit": 2048000,
      "rowLimit": 10000
     },
     "inputWidgets": {},
     "nuid": "4dc3df09-fd95-48e8-91f5-0e513f8325e0",
     "showTitle": false,
     "tableResultSettingsMap": {},
     "title": ""
    }
   },
   "outputs": [],
   "source": [
    "dbutils.widgets.text(\"environment\", \"\", \"\")\n",
    "environment = dbutils.widgets.get(\"environment\")"
   ]
  },
  {
   "cell_type": "code",
   "execution_count": 0,
   "metadata": {
    "application/vnd.databricks.v1+cell": {
     "cellMetadata": {
      "byteLimit": 2048000,
      "rowLimit": 10000
     },
     "inputWidgets": {},
     "nuid": "e90ca0ca-dfaf-4dc2-a1d5-9afdc2bcddfc",
     "showTitle": false,
     "tableResultSettingsMap": {},
     "title": ""
    }
   },
   "outputs": [],
   "source": [
    "catalog_name = settings[environment]['catalog_name']"
   ]
  },
  {
   "cell_type": "code",
   "execution_count": 0,
   "metadata": {
    "application/vnd.databricks.v1+cell": {
     "cellMetadata": {
      "byteLimit": 2048000,
      "rowLimit": 10000
     },
     "inputWidgets": {},
     "nuid": "af9e2580-db40-4673-a3a2-29c3c4d47787",
     "showTitle": false,
     "tableResultSettingsMap": {},
     "title": ""
    }
   },
   "outputs": [],
   "source": [
    "create_temp_view_with_clean_columns(\n",
    "    spark,\n",
    "    catalog_name,\n",
    "    'udp_wcm_bronze_sap_bw',\n",
    "    'sap_bw_wcm_vcdmmpo53',\n",
    "    proc_date,\n",
    "    'temp_sap_vcdmmpo03'\n",
    ")"
   ]
  },
  {
   "cell_type": "code",
   "execution_count": 0,
   "metadata": {
    "application/vnd.databricks.v1+cell": {
     "cellMetadata": {
      "byteLimit": 2048000,
      "rowLimit": 10000
     },
     "inputWidgets": {},
     "nuid": "62cc37dc-c5fc-4191-8f9f-45a7785dca08",
     "showTitle": false,
     "tableResultSettingsMap": {},
     "title": ""
    }
   },
   "outputs": [],
   "source": [
    "spark.sql(f\"\"\"\n",
    "CREATE TABLE IF NOT EXISTS {catalog_name}.udp_wcm_silver_sap_bw.sap_vcdmmpo03\n",
    "(\n",
    "    hash_id BIGINT,\n",
    "    recordmode STRING,\n",
    "    rt_promo STRING,\n",
    "    bic_zc_ebelp DOUBLE,\n",
    "    bic_zc_ebeln STRING,\n",
    "    refer_itm DOUBLE,\n",
    "    comp_code STRING,\n",
    "    oi_ebeln STRING,\n",
    "    oi_ebelp BIGINT,\n",
    "    sched_line BIGINT,\n",
    "    doctype STRING,\n",
    "    doc_cat STRING,\n",
    "    itm_cat STRING,\n",
    "    item_del STRING,\n",
    "    ret_itm STRING,\n",
    "    purch_org STRING,\n",
    "    pur_group STRING,\n",
    "    vendor STRING,\n",
    "    matl_group STRING,\n",
    "    material STRING,\n",
    "    plant STRING,\n",
    "    gr_re_ind STRING,\n",
    "    final_inv STRING,\n",
    "    compl_del STRING,\n",
    "    gr_base_iv STRING,\n",
    "    eval_r_s STRING,\n",
    "    po_status STRING,\n",
    "    pur_reason STRING,\n",
    "    prod_descr STRING,\n",
    "    contract STRING,\n",
    "    cont_item DOUBLE,\n",
    "    ct_flag STRING,\n",
    "    requisit STRING,\n",
    "    supp_plant STRING,\n",
    "    stor_loc STRING,\n",
    "    inv_party STRING,\n",
    "    batch STRING,\n",
    "    gn_r3_ssy STRING,\n",
    "    log_sys_be STRING,\n",
    "    calday DATE,\n",
    "    calmonth BIGINT,\n",
    "    calquarter BIGINT,\n",
    "    calyear BIGINT,\n",
    "    fiscvarnt STRING,\n",
    "    fiscper BIGINT,\n",
    "    fiscyear BIGINT,\n",
    "    entry_date DATE,\n",
    "    pstng_date DATE,\n",
    "    sched_date DATE,\n",
    "    scl_deldat DATE,\n",
    "    stat_date DATE,\n",
    "    val_end DATE,\n",
    "    val_start DATE,\n",
    "    upd_date DATE,\n",
    "    order_curr STRING,\n",
    "    loc_currcy STRING,\n",
    "    po_unit STRING,\n",
    "    base_uom STRING,\n",
    "    bic_zk_cretim STRING,\n",
    "    bic_zk_credat DATE,\n",
    "    po_itemlns DOUBLE,\n",
    "    sr_povoc DOUBLE,\n",
    "    sr_povlc DOUBLE,\n",
    "    sr_poqbu DOUBLE,\n",
    "    sr_grvoc DOUBLE,\n",
    "    sr_grvlc DOUBLE,\n",
    "    sr_grqbu DOUBLE,\n",
    "    sr_ivvlc DOUBLE,\n",
    "    sr_ivvoc DOUBLE,\n",
    "    sr_ivqbu DOUBLE,\n",
    "    proc_date DATE,\n",
    "    segment STRING,\n",
    "    file_creation_ts TIMESTAMP\n",
    ")\n",
    "TBLPROPERTIES (\n",
    "    'delta.autoOptimize.optimizeWrite' = 'true',\n",
    "    'delta.autoOptimize.autoCompact' = 'true'\n",
    ")\n",
    "\"\"\")"
   ]
  },
  {
   "cell_type": "code",
   "execution_count": 0,
   "metadata": {
    "application/vnd.databricks.v1+cell": {
     "cellMetadata": {
      "byteLimit": 2048000,
      "rowLimit": 10000
     },
     "inputWidgets": {},
     "nuid": "904bbbd5-2d86-4854-bc07-137e0243ea55",
     "showTitle": false,
     "tableResultSettingsMap": {},
     "title": ""
    }
   },
   "outputs": [],
   "source": [
    "spark.sql(f\"\"\"\n",
    "CREATE OR REPLACE TEMP VIEW sap_vcdmmpo03 AS\n",
    "WITH temp AS (\n",
    "SELECT \n",
    "        reqtsn,\n",
    "        datapakid,\n",
    "        record,\n",
    "        recordmode,\n",
    "        rt_promo,\n",
    "        CAST(_bic_zc_ebelp AS DOUBLE) bic_zc_ebelp,\n",
    "        IF(_bic_zc_ebeln = '', NULL,_bic_zc_ebeln) bic_zc_ebeln,\n",
    "        CAST(refer_itm AS DOUBLE) refer_itm,\n",
    "        IF(segment = '', NULL,LTRIM('0',segment)) segment,\n",
    "        IF(comp_code = '', NULL,comp_code) comp_code,\n",
    "        IF(oi_ebeln = '', NULL,oi_ebeln) oi_ebeln,\n",
    "        CAST(oi_ebelp AS BIGINT) oi_ebelp,\n",
    "        CAST(sched_line AS BIGINT) sched_line,\n",
    "        IF(doctype = '', NULL,doctype) doctype,\n",
    "        IF(doc_cat = '', NULL,doc_cat) doc_cat,\n",
    "        IF(itm_cat = '', NULL,itm_cat) itm_cat,\n",
    "        IF(item_del = '', NULL,item_del) item_del,\n",
    "        IF(ret_itm = '', NULL,ret_itm) ret_itm,\n",
    "        IF(purch_org = '', NULL,purch_org) purch_org,\n",
    "        IF(pur_group = '', NULL,pur_group) pur_group,\n",
    "        IF(vendor = '', NULL,vendor) vendor,\n",
    "        IF(matl_group = '', NULL,matl_group) matl_group,\n",
    "        IF(REGEXP_LIKE(material,'^[0-9]+$') ,CAST(CAST(material AS BIGINT) AS STRING),material) material,\n",
    "        IF(plant = '', NULL,plant) plant,\n",
    "        IF(gr_re_ind = '', NULL,gr_re_ind) gr_re_ind,\n",
    "        IF(final_inv = '', NULL,final_inv) final_inv,\n",
    "        IF(compl_del = '', NULL,compl_del) compl_del,\n",
    "        IF(gr_base_iv = '', NULL,gr_base_iv) gr_base_iv,\n",
    "        IF(eval_r_s = '', NULL,eval_r_s) eval_r_s,\n",
    "        IF(po_status = '', NULL,po_status) po_status,\n",
    "        IF(pur_reason = '', NULL,pur_reason) pur_reason,\n",
    "        IF(prod_descr = '', NULL,prod_descr) prod_descr,\n",
    "        IF(contract = '', NULL,contract) contract,\n",
    "        CAST(cont_item AS BIGINT) cont_item,\n",
    "        IF(ct_flag = '', NULL,ct_flag) ct_flag,\n",
    "        IF(requisit = '', NULL,requisit) requisit,\n",
    "        IF(supp_plant = '', NULL,supp_plant) supp_plant,\n",
    "        IF(stor_loc = '', NULL,stor_loc) stor_loc,\n",
    "        IF(inv_party = '', NULL,inv_party) inv_party,\n",
    "        IF(batch = '', NULL,batch) batch,\n",
    "        IF(gn_r3_ssy = '', NULL,gn_r3_ssy) gn_r3_ssy,\n",
    "        IF(log_sys_be = '', NULL,log_sys_be) log_sys_be,\n",
    "        IF(calday = '00000000',NULL,TO_DATE(calday,'yyyyMMdd')) AS calday,\n",
    "        CAST(calmonth AS BIGINT) calmonth,\n",
    "        CAST(calquarter AS BIGINT) calquarter,\n",
    "        CAST(calyear AS BIGINT) calyear,\n",
    "        fiscvarnt,\n",
    "        CAST(fiscper AS BIGINT) fiscper,\n",
    "        CAST(fiscyear AS BIGINT) fiscyear,\n",
    "        IF(entry_date = '00000000',NULL,TO_DATE(entry_date,'yyyyMMdd')) entry_date,\n",
    "        IF(pstng_date = '00000000',NULL,TO_DATE(pstng_date,'yyyyMMdd')) pstng_date,\n",
    "        IF(sched_date = '00000000',NULL,TO_DATE(sched_date,'yyyyMMdd')) sched_date,\n",
    "        IF(scl_deldat = '00000000',NULL,TO_DATE(scl_deldat,'yyyyMMdd')) scl_deldat,\n",
    "        IF(stat_date = '00000000',NULL,TO_DATE(stat_date,'yyyyMMdd')) stat_date,\n",
    "        IF(val_end = '00000000',NULL,TO_DATE(val_end,'yyyyMMdd')) val_end,\n",
    "        IF(val_start = '00000000',NULL,TO_DATE(val_start,'yyyyMMdd')) val_start,\n",
    "        IF(upd_date = '00000000',NULL,TO_DATE(upd_date,'yyyyMMdd')) upd_date,\n",
    "        IF(order_curr = '', NULL,order_curr) order_curr,\n",
    "        IF(loc_currcy = '', NULL,loc_currcy) loc_currcy,\n",
    "        IF(po_unit = '', NULL,po_unit) po_unit,\n",
    "        IF(base_uom = '', NULL,base_uom) base_uom,\n",
    "        IF(_bic_zk_cretim = '000000',NULL,TO_TIMESTAMP(_bic_zk_cretim,'HHmmSS')) bic_zk_cretim,\n",
    "        IF(_bic_zk_credat = '00000000',NULL,TO_DATE(_bic_zk_credat,'yyyyMMdd')) bic_zk_credat,\n",
    "        po_itemlns,\n",
    "        sr_povoc * 100 sr_povoc,\n",
    "        sr_povlc * 100 sr_povlc,\n",
    "        sr_poqbu,\n",
    "        sr_grvoc * 100 sr_grvoc,\n",
    "        sr_grvlc * 100 sr_grvlc,\n",
    "        sr_grqbu,\n",
    "        sr_ivvlc * 100 sr_ivvlc,\n",
    "        sr_ivvoc * 100 sr_ivvoc,\n",
    "        sr_ivqbu,\n",
    "        proc_date,\n",
    "        file_creation_ts\n",
    "         FROM (\n",
    "                    SELECT * EXCEPT(rn) FROM (\n",
    "                        SELECT *, ROW_NUMBER() OVER (PARTITION BY reqtsn, datapakid, record ORDER BY proc_date DESC) rn \n",
    "\t\t\t\t\t\t\t\t\t\t\t\tFROM  temp_sap_vcdmmpo03 \n",
    "                    ) a WHERE rn = 1\n",
    "                ) \n",
    "),\n",
    "  main AS (\n",
    "  SELECT farm_fingerprint(CONCAT(\n",
    "  \t\t\tIFNULL(CAST(oi_ebeln AS STRING), \"\"),\n",
    " \t\t\tIFNULL(CAST(oi_ebelp AS STRING), \"\"),\n",
    " \t\t\tIFNULL(CAST(sched_line AS STRING), \"\")\n",
    "  \t\t)) hash_id,\n",
    "          * FROM temp\n",
    "  ),\n",
    "  main_2 AS (\n",
    "  \tSELECT * \n",
    "  \t, ROW_NUMBER() OVER (PARTITION BY hash_id ORDER BY reqtsn DESC,datapakid DESC,record  DESC) rn \n",
    "  \t\tFROM main\n",
    "  )\n",
    "  SELECT \n",
    "  * EXCEPT(rn,reqtsn,datapakid,record) FROM main_2 WHERE rn = 1;\n",
    "  \"\"\")"
   ]
  },
  {
   "cell_type": "code",
   "execution_count": 0,
   "metadata": {
    "application/vnd.databricks.v1+cell": {
     "cellMetadata": {
      "byteLimit": 2048000,
      "rowLimit": 10000
     },
     "inputWidgets": {},
     "nuid": "e36896f7-6ef5-4b11-9921-c165fe49aa9f",
     "showTitle": false,
     "tableResultSettingsMap": {},
     "title": ""
    }
   },
   "outputs": [],
   "source": [
    "calday_query = f\"\"\"\n",
    "SELECT\n",
    "    CONCAT(\"'\", CONCAT_WS(\"','\", COLLECT_SET(CAST(TO_DATE(calday, 'yyyy-MM-dd') AS STRING))), \"'\") AS calday_in_str\n",
    "FROM sap_vcdmmpo03\n",
    "\"\"\"\n",
    "calday_df = spark.sql(calday_query)\n",
    "calday_in_str = calday_df.collect()[0][0]\n",
    "print(calday_in_str)"
   ]
  },
  {
   "cell_type": "code",
   "execution_count": 0,
   "metadata": {
    "application/vnd.databricks.v1+cell": {
     "cellMetadata": {
      "byteLimit": 2048000,
      "rowLimit": 10000
     },
     "inputWidgets": {},
     "nuid": "89f433bc-f895-43d5-a372-258da8df4926",
     "showTitle": false,
     "tableResultSettingsMap": {},
     "title": ""
    }
   },
   "outputs": [],
   "source": [
    "source_columns = spark.table(\"sap_vcdmmpo03\").columns\n",
    "insert_columns = \", \".join(source_columns)"
   ]
  },
  {
   "cell_type": "code",
   "execution_count": 0,
   "metadata": {
    "application/vnd.databricks.v1+cell": {
     "cellMetadata": {
      "byteLimit": 2048000,
      "rowLimit": 10000
     },
     "inputWidgets": {},
     "nuid": "b3f13d41-a590-4c06-92cb-f3c2693d9d5c",
     "showTitle": false,
     "tableResultSettingsMap": {},
     "title": ""
    }
   },
   "outputs": [],
   "source": [
    "spark.sql(f\"\"\"\n",
    "DELETE FROM {catalog_name}.udp_wcm_silver_sap_bw.sap_vcdmmpo03 \n",
    "WHERE calday IN ({calday_in_str}) AND hash_id IN (select  hash_id from sap_vcdmmpo03)\n",
    "\"\"\")"
   ]
  },
  {
   "cell_type": "code",
   "execution_count": 0,
   "metadata": {
    "application/vnd.databricks.v1+cell": {
     "cellMetadata": {
      "byteLimit": 2048000,
      "rowLimit": 10000
     },
     "inputWidgets": {},
     "nuid": "71bd832a-10a1-4ea6-9552-d70ac1f95f1f",
     "showTitle": false,
     "tableResultSettingsMap": {},
     "title": ""
    }
   },
   "outputs": [],
   "source": [
    "spark.sql(f\"\"\"\n",
    "INSERT INTO {catalog_name}.udp_wcm_silver_sap_bw.sap_vcdmmpo03 ({insert_columns})  \n",
    "SELECT {insert_columns} FROM sap_vcdmmpo03;\n",
    "\"\"\")"
   ]
  }
 ],
 "metadata": {
  "application/vnd.databricks.v1+notebook": {
   "computePreferences": null,
   "dashboards": [],
   "environmentMetadata": {
    "base_environment": "",
    "environment_version": "2"
   },
   "inputWidgetPreferences": null,
   "language": "python",
   "notebookMetadata": {
    "mostRecentlyExecutedCommandWithImplicitDF": {
     "commandId": 7367573557492982,
     "dataframes": [
      "_sqldf"
     ]
    },
    "pythonIndentUnit": 4
   },
   "notebookName": "sap_vcdmmpo03",
   "widgets": {
    "environment": {
     "currentValue": "DEV",
     "nuid": "954925ad-1430-4ed6-980a-5e7e2b2b20d9",
     "typedWidgetInfo": {
      "autoCreated": false,
      "defaultValue": "",
      "label": "",
      "name": "environment",
      "options": {
       "widgetDisplayType": "Text",
       "validationRegex": null
      },
      "parameterDataType": "String"
     },
     "widgetInfo": {
      "widgetType": "text",
      "defaultValue": "",
      "label": "",
      "name": "environment",
      "options": {
       "widgetType": "text",
       "autoCreated": null,
       "validationRegex": null
      }
     }
    },
    "proc_date": {
     "currentValue": "2025-07-15",
     "nuid": "53b06347-2aad-4fa1-9cc2-7310607766cd",
     "typedWidgetInfo": {
      "autoCreated": false,
      "defaultValue": "",
      "label": null,
      "name": "proc_date",
      "options": {
       "widgetDisplayType": "Text",
       "validationRegex": null
      },
      "parameterDataType": "String"
     },
     "widgetInfo": {
      "widgetType": "text",
      "defaultValue": "",
      "label": null,
      "name": "proc_date",
      "options": {
       "widgetType": "text",
       "autoCreated": null,
       "validationRegex": null
      }
     }
    }
   }
  },
  "language_info": {
   "name": "python"
  }
 },
 "nbformat": 4,
 "nbformat_minor": 0
}
