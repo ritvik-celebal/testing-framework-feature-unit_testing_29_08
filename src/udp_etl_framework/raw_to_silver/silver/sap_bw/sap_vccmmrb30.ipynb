{
 "cells": [
  {
   "cell_type": "code",
   "execution_count": 0,
   "metadata": {
    "application/vnd.databricks.v1+cell": {
     "cellMetadata": {},
     "inputWidgets": {},
     "nuid": "26ed6aee-b74b-46e0-9aa8-00bffb6dd25f",
     "showTitle": false,
     "tableResultSettingsMap": {},
     "title": ""
    }
   },
   "outputs": [],
   "source": [
    "dbutils.widgets.text(\"proc_date\", \"\")\n",
    "proc_date = dbutils.widgets.get(\"proc_date\")"
   ]
  },
  {
   "cell_type": "code",
   "execution_count": 0,
   "metadata": {
    "application/vnd.databricks.v1+cell": {
     "cellMetadata": {
      "byteLimit": 2048000,
      "rowLimit": 10000
     },
     "inputWidgets": {},
     "nuid": "8cea517d-28e5-4cee-b3a1-a76d2f34c1f1",
     "showTitle": false,
     "tableResultSettingsMap": {},
     "title": ""
    }
   },
   "outputs": [],
   "source": [
    "%run ../../../utils/common"
   ]
  },
  {
   "cell_type": "code",
   "execution_count": 0,
   "metadata": {
    "application/vnd.databricks.v1+cell": {
     "cellMetadata": {
      "byteLimit": 2048000,
      "rowLimit": 10000
     },
     "inputWidgets": {},
     "nuid": "7833bb04-67c8-429f-a4cc-6091d05d80fb",
     "showTitle": false,
     "tableResultSettingsMap": {},
     "title": ""
    }
   },
   "outputs": [],
   "source": [
    "dbutils.widgets.text(\"environment\", \"\")\n",
    "environment = dbutils.widgets.get(\"environment\")"
   ]
  },
  {
   "cell_type": "code",
   "execution_count": 0,
   "metadata": {
    "application/vnd.databricks.v1+cell": {
     "cellMetadata": {
      "byteLimit": 2048000,
      "rowLimit": 10000
     },
     "inputWidgets": {},
     "nuid": "db2b844e-ddc4-4ec1-b179-7e0a73ca0293",
     "showTitle": false,
     "tableResultSettingsMap": {},
     "title": ""
    }
   },
   "outputs": [],
   "source": [
    "catalog_name = settings[environment]['catalog_name']"
   ]
  },
  {
   "cell_type": "code",
   "execution_count": 0,
   "metadata": {
    "application/vnd.databricks.v1+cell": {
     "cellMetadata": {},
     "inputWidgets": {},
     "nuid": "05420b7b-41a3-4e6f-b243-d887b57a6e0e",
     "showTitle": false,
     "tableResultSettingsMap": {},
     "title": ""
    }
   },
   "outputs": [],
   "source": [
    "create_temp_view_with_clean_columns(\n",
    "    spark,\n",
    "    catalog_name,\n",
    "    'udp_wcm_bronze_sap_bw',\n",
    "    'sap_bw_wcm_vccmmrb30',\n",
    "    proc_date,\n",
    "    'temp_sap_vccmmrb30'\n",
    ")"
   ]
  },
  {
   "cell_type": "code",
   "execution_count": 0,
   "metadata": {
    "application/vnd.databricks.v1+cell": {
     "cellMetadata": {
      "byteLimit": 2048000,
      "implicitDf": true,
      "rowLimit": 10000
     },
     "inputWidgets": {},
     "nuid": "ff0dbcbc-55c0-4b1b-87df-95f446518a24",
     "showTitle": false,
     "tableResultSettingsMap": {},
     "title": ""
    }
   },
   "outputs": [],
   "source": [
    "spark.sql(f\"\"\"\n",
    "CREATE TABLE IF NOT EXISTS {catalog_name}.udp_wcm_silver_sap_bw.sap_vccmmrb30\n",
    "( \n",
    "\tkappl STRING\n",
    "\t,kschl STRING\n",
    "\t,vkorg STRING\n",
    "\t,vtweg STRING\n",
    "\t,matnr STRING\n",
    "\t,vrkme STRING\n",
    "\t,datbi DATE\n",
    "\t,recordmode STRING\n",
    "\t,datab DATE\n",
    "\t,knumh STRING\n",
    "\t,proc_date DATE\n",
    "\t,file_creation_ts TIMESTAMP\n",
    "\n",
    "\t)\n",
    " TBLPROPERTIES (\n",
    "  'DELTA.AUTOOPTIMIZE.OPTIMIZEWRITE' = 'true',\n",
    "  'DELTA.AUTOOPTIMIZE.AUTOCOMPACT' = 'true'\n",
    ")\n",
    " \"\"\")"
   ]
  },
  {
   "cell_type": "code",
   "execution_count": 0,
   "metadata": {
    "application/vnd.databricks.v1+cell": {
     "cellMetadata": {
      "byteLimit": 2048000,
      "implicitDf": true,
      "rowLimit": 10000
     },
     "inputWidgets": {},
     "nuid": "caa5c7b5-48a6-494d-8b87-442ca82835a6",
     "showTitle": false,
     "tableResultSettingsMap": {},
     "title": ""
    }
   },
   "outputs": [],
   "source": [
    "spark.sql(f\"\"\"\n",
    "INSERT INTO {catalog_name}.udp_wcm_silver_sap_bw.sap_vccmmrb30\n",
    "SELECT\n",
    "  kappl AS kappl,\n",
    "  kschl AS kschl,\n",
    "  vkorg AS vkorg,\n",
    "  vtweg AS vtweg,\n",
    "  LTRIM('0',matnr) AS matnr,\n",
    "  vrkme AS vrkme,\n",
    "  TO_DATE(DATBI, 'yyyyMMdd') AS datbi,\n",
    "  recordmode AS recordmode,\n",
    "  TO_DATE(DATAB, 'yyyyMMdd') AS datab,\n",
    "  knumh AS knumh,\n",
    "  proc_date,\n",
    "  file_creation_ts\n",
    "\n",
    "FROM temp_sap_vccmmrb30\n",
    "\"\"\")"
   ]
  }
 ],
 "metadata": {
  "application/vnd.databricks.v1+notebook": {
   "computePreferences": null,
   "dashboards": [],
   "environmentMetadata": {
    "base_environment": "",
    "environment_version": "2"
   },
   "inputWidgetPreferences": null,
   "language": "python",
   "notebookMetadata": {
    "mostRecentlyExecutedCommandWithImplicitDF": {
     "commandId": 6410538414265527,
     "dataframes": [
      "_sqldf"
     ]
    },
    "pythonIndentUnit": 4
   },
   "notebookName": "sap_vccmmrb30",
   "widgets": {
    "environment": {
     "currentValue": "DEV",
     "nuid": "5c77cbf0-480e-494c-a76b-217d767297d0",
     "typedWidgetInfo": {
      "autoCreated": false,
      "defaultValue": "",
      "label": null,
      "name": "environment",
      "options": {
       "widgetDisplayType": "Text",
       "validationRegex": null
      },
      "parameterDataType": "String"
     },
     "widgetInfo": {
      "widgetType": "text",
      "defaultValue": "",
      "label": null,
      "name": "environment",
      "options": {
       "widgetType": "text",
       "autoCreated": null,
       "validationRegex": null
      }
     }
    },
    "proc_date": {
     "currentValue": "2025-05-31",
     "nuid": "21babee4-af42-42ba-b5a6-ca46c3c6e538",
     "typedWidgetInfo": {
      "autoCreated": false,
      "defaultValue": "",
      "label": null,
      "name": "proc_date",
      "options": {
       "widgetDisplayType": "Text",
       "validationRegex": null
      },
      "parameterDataType": "String"
     },
     "widgetInfo": {
      "widgetType": "text",
      "defaultValue": "",
      "label": null,
      "name": "proc_date",
      "options": {
       "widgetType": "text",
       "autoCreated": null,
       "validationRegex": null
      }
     }
    }
   }
  },
  "language_info": {
   "name": "python"
  }
 },
 "nbformat": 4,
 "nbformat_minor": 0
}
