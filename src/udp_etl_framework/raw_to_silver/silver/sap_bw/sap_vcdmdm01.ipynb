{
 "cells": [
  {
   "cell_type": "code",
   "execution_count": 0,
   "metadata": {
    "application/vnd.databricks.v1+cell": {
     "cellMetadata": {},
     "inputWidgets": {},
     "nuid": "8853c4ee-b335-43c9-8e5d-165eb56daf7f",
     "showTitle": false,
     "tableResultSettingsMap": {},
     "title": ""
    }
   },
   "outputs": [],
   "source": [
    "dbutils.widgets.text(\"proc_date\", \"\")\n",
    "proc_date = dbutils.widgets.get(\"proc_date\")"
   ]
  },
  {
   "cell_type": "code",
   "execution_count": 0,
   "metadata": {
    "application/vnd.databricks.v1+cell": {
     "cellMetadata": {
      "byteLimit": 2048000,
      "rowLimit": 10000
     },
     "inputWidgets": {},
     "nuid": "d55d73bd-c0b5-414c-9ddc-df70719c9a54",
     "showTitle": false,
     "tableResultSettingsMap": {},
     "title": ""
    }
   },
   "outputs": [],
   "source": [
    "%run ../../../utils/common"
   ]
  },
  {
   "cell_type": "code",
   "execution_count": 0,
   "metadata": {
    "application/vnd.databricks.v1+cell": {
     "cellMetadata": {
      "byteLimit": 2048000,
      "rowLimit": 10000
     },
     "inputWidgets": {},
     "nuid": "7aa019c5-80ea-4765-bf7e-faaece4fc4e4",
     "showTitle": false,
     "tableResultSettingsMap": {},
     "title": ""
    }
   },
   "outputs": [],
   "source": [
    "dbutils.widgets.text(\"environment\", \"\", \"\")\n",
    "environment = dbutils.widgets.get(\"environment\")"
   ]
  },
  {
   "cell_type": "code",
   "execution_count": 0,
   "metadata": {
    "application/vnd.databricks.v1+cell": {
     "cellMetadata": {
      "byteLimit": 2048000,
      "rowLimit": 10000
     },
     "inputWidgets": {},
     "nuid": "6e7fff38-e6ff-4368-bf15-6f524fb6b57b",
     "showTitle": false,
     "tableResultSettingsMap": {},
     "title": ""
    }
   },
   "outputs": [],
   "source": [
    "catalog_name = settings[environment]['catalog_name']"
   ]
  },
  {
   "cell_type": "code",
   "execution_count": 0,
   "metadata": {
    "application/vnd.databricks.v1+cell": {
     "cellMetadata": {},
     "inputWidgets": {},
     "nuid": "1497bf4c-3d7c-4244-977d-7485eaf77da8",
     "showTitle": false,
     "tableResultSettingsMap": {},
     "title": ""
    }
   },
   "outputs": [],
   "source": [
    "create_temp_view_with_clean_columns(\n",
    "    spark,\n",
    "    catalog_name,\n",
    "    'udp_wcm_bronze_sap_bw',\n",
    "    'sap_bw_wcm_vcdmdm01',\n",
    "    proc_date,\n",
    "    'temp_sap_vcdmdm01'\n",
    ")"
   ]
  },
  {
   "cell_type": "code",
   "execution_count": 0,
   "metadata": {
    "application/vnd.databricks.v1+cell": {
     "cellMetadata": {
      "byteLimit": 2048000,
      "rowLimit": 10000
     },
     "inputWidgets": {},
     "nuid": "be294712-4e1b-4fb6-a08d-22d48becc582",
     "showTitle": false,
     "tableResultSettingsMap": {},
     "title": ""
    }
   },
   "outputs": [],
   "source": [
    "spark.sql(f\"\"\"\n",
    "CREATE TABLE IF NOT EXISTS {catalog_name}.udp_wcm_silver_sap_bw.sap_vcdmdm01\n",
    "(\n",
    "customer STRING, \n",
    "sales_organization STRING, \n",
    "distribution_channel STRING, \n",
    "division STRING, \n",
    "recode_mode STRING, \n",
    "site STRING, \n",
    "address STRING, \n",
    "title STRING, \n",
    "central_order STRING, \n",
    "express_station STRING, \n",
    "train_station STRING, \n",
    "int_location_1 STRING, \n",
    "int_location_2 STRING, \n",
    "author_group STRING, \n",
    "industry STRING, \n",
    "check_digit STRING, \n",
    "data_line STRING, \n",
    "created_at STRING, \n",
    "created_by STRING, \n",
    "unloading_points STRING, \n",
    "central_billing STRING, \n",
    "fiscal_address STRING, \n",
    "working_times STRING, \n",
    "alternative_payer STRING, \n",
    "group_key STRING, \n",
    "account_group STRING, \n",
    "customer_classific STRING, \n",
    "country STRING, \n",
    "vendor STRING, \n",
    "central_delivery STRING, \n",
    "location_code STRING, \n",
    "central_deletion STRING, \n",
    "name1 STRING, \n",
    "name2 STRING,\n",
    "name3 STRING, \n",
    "name4 STRING, \n",
    "nielsen_indicator STRING, \n",
    "city STRING, \n",
    "district STRING, \n",
    "po_box STRING, \n",
    "pb_postal_code STRING, \n",
    "postal_code STRING, \n",
    "region STRING, \n",
    "country_code STRING, \n",
    "city_code STRING, \n",
    "regional_market STRING, \n",
    "search_term STRING, \n",
    "central_posting STRING, \n",
    "language_key STRING, \n",
    "tax_num_1 STRING, \n",
    "tax_num_2 STRING, \n",
    "sale_equal_tax STRING, \n",
    "liable_vat STRING, \n",
    "street STRING, \n",
    "telebox STRING, \n",
    "telephone_1 STRING, \n",
    "telephone_2 STRING, \n",
    "fax_num STRING, \n",
    "teletex_num STRING, \n",
    "telex_num STRING, \n",
    "transport_zone STRING, \n",
    "onetime_account STRING, \n",
    "alt_payer STRING, \n",
    "trading_partner STRING, \n",
    "knvv_created_by STRING, \n",
    "knvv_created_at STRING, \n",
    "knvv_author_group STRING, \n",
    "knvv_del_indecator STRING, \n",
    "customer_stats_group STRING, \n",
    "knvv_order_block STRING, \n",
    "customer_price_procedure STRING, \n",
    "customer_group STRING, \n",
    "sale_district STRING, \n",
    "price_group STRING, \n",
    "price_list STRING, \n",
    "order_probability STRING, \n",
    "incoterm_1 STRING, \n",
    "incoterm_2 STRING, \n",
    "delivery_block STRING, \n",
    "complete_delivery STRING, \n",
    "max_part_delivery DECIMAL(38,9), \n",
    "part_div STRING, \n",
    "order_combination STRING, \n",
    "batch_allowed STRING, \n",
    "delivery_priority STRING, \n",
    "account STRING, \n",
    "shipping_condition STRING, \n",
    "knvv_billing_block STRING, \n",
    "manual_invoice STRING, \n",
    "invoicing_date STRING, \n",
    "invoice_schedule STRING, \n",
    "cost_estimate STRING, \n",
    "max_cost_estimate DECIMAL(38,9), \n",
    "currency STRING, \n",
    "abc_classification STRING, \n",
    "account_assignment_group STRING, \n",
    "payment_term STRING, \n",
    "delivering_site STRING, \n",
    "sale_group STRING, \n",
    "sale_office STRING, \n",
    "item_proposal STRING, \n",
    "vat_registration STRING, \n",
    "competitor STRING, \n",
    "sale_partner STRING, \n",
    "prospect STRING, \n",
    "customer_type_4 STRING, \n",
    "default_sold_to STRING, \n",
    "legal_status STRING, \n",
    "industry_code_1 STRING, \n",
    "industry_code_2 STRING, \n",
    "industry_code_3 STRING, \n",
    "industry_code_4 STRING, \n",
    "industry_code_5 STRING, \n",
    "initial_contact STRING, \n",
    "sale_year STRING, \n",
    "sale_currency STRING, \n",
    "employee STRING, \n",
    "year_employee STRING, \n",
    "attribute_1 STRING, \n",
    "attribute_2 STRING, \n",
    "attribute_3 STRING, \n",
    "attribute_4 STRING, \n",
    "attribute_5 STRING, \n",
    "attribute_6 STRING, \n",
    "attribute_7 STRING, \n",
    "attribute_8 STRING, \n",
    "attribute_9 STRING, \n",
    "attribute_10 STRING, \n",
    "natural_person STRING, \n",
    "annual_sale DECIMAL(38,9),\n",
    "business_purpose_1 STRING, \n",
    "business_purpose_2 STRING, \n",
    "proc_date DATE,\n",
    "file_creation_ts TIMESTAMP\n",
    ") \n",
    "TBLPROPERTIES \n",
    "(\n",
    "\tDELTA.AUTOOPTIMIZE.OPTIMIZEWRITE = TRUE,\n",
    "\tDELTA.AUTOOPTIMIZE.AUTOCOMPACT = TRUE\n",
    ")\n",
    "\"\"\")"
   ]
  },
  {
   "cell_type": "code",
   "execution_count": 0,
   "metadata": {
    "application/vnd.databricks.v1+cell": {
     "cellMetadata": {
      "byteLimit": 2048000,
      "rowLimit": 10000
     },
     "inputWidgets": {},
     "nuid": "a4f603d2-a4ca-424e-89e5-6ec73646eb5e",
     "showTitle": false,
     "tableResultSettingsMap": {},
     "title": ""
    }
   },
   "outputs": [],
   "source": [
    "spark.sql(f\"\"\"\n",
    "CREATE OR REPLACE TEMP VIEW sap_vcdmdm01 AS\n",
    "SELECT\n",
    "  kunnr AS customer,\n",
    "  vkorg AS sales_organization,\n",
    "  vtweg AS distribution_channel,\n",
    "  spart AS division,\n",
    "  recordmode AS recode_mode,\n",
    "  werks AS site,\n",
    "  adrnr AS address,\n",
    "  anred AS title,\n",
    "  aufsd AS central_order,\n",
    "  bahne AS express_station,\n",
    "  bahns AS train_station,\n",
    "  bbbnr AS int_location_1,\n",
    "  bbsnr AS int_location_2,\n",
    "  begru AS author_group,\n",
    "  brsch AS industry,\n",
    "  bubkz AS check_digit,\n",
    "  datlt AS data_line,\n",
    "  erdat AS created_at,\n",
    "  ernam AS created_by,\n",
    "  exabl AS unloading_points,\n",
    "  faksd AS central_billing,\n",
    "  fiskn AS fiscal_address,\n",
    "  knazk AS working_times,\n",
    "  knrza AS alternative_payer,\n",
    "  konzs AS group_key,\n",
    "  ktokd AS account_group,\n",
    "  kukla AS customer_classific,\n",
    "  land1 AS country,\n",
    "  lifnr AS vendor,\n",
    "  lifsd AS central_delivery,\n",
    "  locco AS location_code,\n",
    "  loevm AS central_deletion,\n",
    "  name1,\n",
    "  name2,\n",
    "  name3,\n",
    "  name4,\n",
    "  niels AS nielsen_indicator,\n",
    "  ort01 AS city,\n",
    "  ort02 AS district,\n",
    "  pfach AS po_box,\n",
    "  pstl2 AS pb_postal_code,\n",
    "  pstlz AS postal_code,\n",
    "  regio AS region,\n",
    "  counc AS country_code,\n",
    "  cityc AS city_code,\n",
    "  rpmkr AS regional_market,\n",
    "  sortl AS search_term,\n",
    "  sperr AS central_posting,\n",
    "  spras AS language_key,\n",
    "  stcd1 AS tax_num_1,\n",
    "  stcd2 AS tax_num_2,\n",
    "  stkza AS sale_equal_tax,\n",
    "  stkzu AS liable_vat,\n",
    "  stras AS street,\n",
    "  telbx AS telebox,\n",
    "  telf1 AS telephone_1,\n",
    "  telf2 AS telephone_2,\n",
    "  telfx AS fax_num,\n",
    "  teltx AS teletex_num,\n",
    "  telx1 AS telex_num,\n",
    "  lzone AS transport_zone,\n",
    "  xcpdk AS onetime_account,\n",
    "  xzemp AS alt_payer,\n",
    "  vbund AS trading_partner,\n",
    "  ernam_knvv AS knvv_created_by,\n",
    "  erdat_knvv AS knvv_created_at,\n",
    "  begru_knvv AS knvv_author_group,\n",
    "  loevm_knvv AS knvv_del_indecator,\n",
    "  versg AS customer_stats_group,\n",
    "  aufsd_knvv AS knvv_order_block,\n",
    "  kalks AS customer_price_procedure,\n",
    "  kdgrp AS customer_group,\n",
    "  bzirk AS sale_district,\n",
    "  konda AS price_group,\n",
    "  pltyp AS price_list,\n",
    "  awahr AS order_probability,\n",
    "  inco1 AS incoterm_1,\n",
    "  inco2 AS incoterm_2,\n",
    "  lifsd_knvv AS delivery_block,\n",
    "  autlf AS complete_delivery,\n",
    "  antlf AS max_part_delivery,\n",
    "  kztlf AS part_div,\n",
    "  kzazu AS order_combination,\n",
    "  chspl AS batch_allowed,\n",
    "  lprio AS delivery_priority,\n",
    "  eikto AS account,\n",
    "  vsbed AS shipping_condition,\n",
    "  faksd_knvv AS knvv_billing_block,\n",
    "  mrnkz AS manual_invoice,\n",
    "  perfk AS invoicing_date,\n",
    "  perrl AS invoice_schedule,\n",
    "  kvakz AS cost_estimate,\n",
    "  kvawt AS max_cost_estimate,\n",
    "  waers AS currency,\n",
    "  klabc AS abc_classification,\n",
    "  ktgrd AS account_assignment_group,\n",
    "  zterm AS payment_term,\n",
    "  vwerk AS delivering_site,\n",
    "  vkgrp AS sale_group,\n",
    "  vkbur AS sale_office,\n",
    "  vsort AS item_proposal,\n",
    "  stceg AS vat_registration,\n",
    "  dear1 AS competitor,\n",
    "  dear2 AS sale_partner,\n",
    "  dear3 AS prospect,\n",
    "  dear4 AS customer_type_4,\n",
    "  dear5 AS default_sold_to,\n",
    "  gform AS legal_status,\n",
    "  bran1 AS industry_code_1,\n",
    "  bran2 AS industry_code_2,\n",
    "  bran3 AS industry_code_3,\n",
    "  bran4 AS industry_code_4,\n",
    "  bran5 AS industry_code_5,\n",
    "  ekont AS initial_contact,\n",
    "  umjah AS sale_year,\n",
    "  uwaer AS sale_currency,\n",
    "  jmzah AS employee,\n",
    "  jmjah AS year_employee,\n",
    "  katr1 AS attribute_1,\n",
    "  katr2 AS attribute_2,\n",
    "  katr3 AS attribute_3,\n",
    "  katr4 AS attribute_4,\n",
    "  katr5 AS attribute_5,\n",
    "  katr6 AS attribute_6,\n",
    "  katr7 AS attribute_7,\n",
    "  katr8 AS attribute_8,\n",
    "  katr9 AS attribute_9,\n",
    "  katr10 AS attribute_10,\n",
    "  stkzn AS natural_person,\n",
    "  umsa1 AS annual_sale,\n",
    "  cvp_xblck AS business_purpose_1,\n",
    "  cvp_xblck_v AS business_purpose_2,\n",
    "  proc_date,\n",
    "  file_creation_ts \n",
    "FROM temp_sap_vcdmdm01;\n",
    "\"\"\")\n"
   ]
  },
  {
   "cell_type": "code",
   "execution_count": 0,
   "metadata": {
    "application/vnd.databricks.v1+cell": {
     "cellMetadata": {},
     "inputWidgets": {},
     "nuid": "2cab859d-a7f5-4955-a318-492d11843f2a",
     "showTitle": false,
     "tableResultSettingsMap": {},
     "title": ""
    }
   },
   "outputs": [],
   "source": [
    "spark.sql(f\"\"\"\n",
    "DELETE FROM {catalog_name}.udp_wcm_silver_sap_bw.sap_vcdmdm01\n",
    "WHERE proc_date = '{proc_date}'\n",
    "\"\"\")"
   ]
  },
  {
   "cell_type": "code",
   "execution_count": 0,
   "metadata": {
    "application/vnd.databricks.v1+cell": {
     "cellMetadata": {
      "byteLimit": 2048000,
      "rowLimit": 10000
     },
     "inputWidgets": {},
     "nuid": "ad4577fd-cb9e-4327-9819-2af6d0196cd0",
     "showTitle": false,
     "tableResultSettingsMap": {},
     "title": ""
    }
   },
   "outputs": [],
   "source": [
    "spark.sql(f\"\"\"\n",
    "INSERT INTO {catalog_name}.udp_wcm_silver_sap_bw.sap_vcdmdm01\n",
    "SELECT * FROM sap_vcdmdm01\n",
    "\"\"\")"
   ]
  }
 ],
 "metadata": {
  "application/vnd.databricks.v1+notebook": {
   "computePreferences": null,
   "dashboards": [],
   "environmentMetadata": {
    "base_environment": "",
    "environment_version": "2"
   },
   "inputWidgetPreferences": null,
   "language": "python",
   "notebookMetadata": {
    "mostRecentlyExecutedCommandWithImplicitDF": {
     "commandId": 6410538414279181,
     "dataframes": [
      "_sqldf"
     ]
    },
    "pythonIndentUnit": 4
   },
   "notebookName": "sap_vcdmdm01",
   "widgets": {
    "environment": {
     "currentValue": "DEV",
     "nuid": "4e4ee8d6-a249-46d6-962b-0661278d573c",
     "typedWidgetInfo": {
      "autoCreated": false,
      "defaultValue": "",
      "label": "",
      "name": "environment",
      "options": {
       "widgetDisplayType": "Text",
       "validationRegex": null
      },
      "parameterDataType": "String"
     },
     "widgetInfo": {
      "widgetType": "text",
      "defaultValue": "",
      "label": "",
      "name": "environment",
      "options": {
       "widgetType": "text",
       "autoCreated": null,
       "validationRegex": null
      }
     }
    },
    "proc_date": {
     "currentValue": "2025-05-29",
     "nuid": "05d9d11e-fd99-4803-a5d3-3a914371ad36",
     "typedWidgetInfo": {
      "autoCreated": false,
      "defaultValue": "",
      "label": null,
      "name": "proc_date",
      "options": {
       "widgetDisplayType": "Text",
       "validationRegex": null
      },
      "parameterDataType": "String"
     },
     "widgetInfo": {
      "widgetType": "text",
      "defaultValue": "",
      "label": null,
      "name": "proc_date",
      "options": {
       "widgetType": "text",
       "autoCreated": null,
       "validationRegex": null
      }
     }
    }
   }
  },
  "language_info": {
   "name": "python"
  }
 },
 "nbformat": 4,
 "nbformat_minor": 0
}
