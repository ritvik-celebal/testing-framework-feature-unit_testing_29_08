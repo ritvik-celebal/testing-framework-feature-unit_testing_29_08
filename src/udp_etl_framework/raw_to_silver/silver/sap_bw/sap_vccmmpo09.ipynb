{
 "cells": [
  {
   "cell_type": "code",
   "execution_count": 0,
   "metadata": {
    "application/vnd.databricks.v1+cell": {
     "cellMetadata": {},
     "inputWidgets": {},
     "nuid": "fb15447f-17bd-49dd-8b84-18a5f4c0c707",
     "showTitle": false,
     "tableResultSettingsMap": {},
     "title": ""
    }
   },
   "outputs": [],
   "source": [
    "dbutils.widgets.text(\"proc_date\", \"\")\n",
    "proc_date = dbutils.widgets.get(\"proc_date\")"
   ]
  },
  {
   "cell_type": "code",
   "execution_count": 0,
   "metadata": {
    "application/vnd.databricks.v1+cell": {
     "cellMetadata": {},
     "inputWidgets": {},
     "nuid": "2fb20f48-a032-46ef-8636-bc71e7008a48",
     "showTitle": false,
     "tableResultSettingsMap": {},
     "title": ""
    }
   },
   "outputs": [],
   "source": [
    "%run ../../../utils/common"
   ]
  },
  {
   "cell_type": "code",
   "execution_count": 0,
   "metadata": {
    "application/vnd.databricks.v1+cell": {
     "cellMetadata": {
      "byteLimit": 2048000,
      "rowLimit": 10000
     },
     "inputWidgets": {},
     "nuid": "3a4f6fc1-a5e8-4158-8347-8a51f66a1ec5",
     "showTitle": false,
     "tableResultSettingsMap": {},
     "title": ""
    }
   },
   "outputs": [],
   "source": [
    "dbutils.widgets.text(\"environment\", \"\", \"\")\n",
    "environment = dbutils.widgets.get(\"environment\")"
   ]
  },
  {
   "cell_type": "code",
   "execution_count": 0,
   "metadata": {
    "application/vnd.databricks.v1+cell": {
     "cellMetadata": {
      "byteLimit": 2048000,
      "rowLimit": 10000
     },
     "inputWidgets": {},
     "nuid": "fec8ca4c-b930-45fb-b88c-29e9838a3840",
     "showTitle": false,
     "tableResultSettingsMap": {},
     "title": ""
    }
   },
   "outputs": [],
   "source": [
    "catalog_name = settings[environment]['catalog_name']"
   ]
  },
  {
   "cell_type": "code",
   "execution_count": 0,
   "metadata": {
    "application/vnd.databricks.v1+cell": {
     "cellMetadata": {},
     "inputWidgets": {},
     "nuid": "3ce9825d-9c85-42cb-98bd-3f061f279283",
     "showTitle": false,
     "tableResultSettingsMap": {},
     "title": ""
    }
   },
   "outputs": [],
   "source": [
    "create_temp_view_with_clean_columns(\n",
    "    spark,\n",
    "    catalog_name,\n",
    "    'udp_wcm_bronze_sap_bw',\n",
    "    'sap_bw_wcm_vccmmpo09',\n",
    "    proc_date,\n",
    "    'temp_sap_vccmmpo09'\n",
    ")"
   ]
  },
  {
   "cell_type": "code",
   "execution_count": 0,
   "metadata": {
    "application/vnd.databricks.v1+cell": {
     "cellMetadata": {
      "byteLimit": 2048000,
      "rowLimit": 10000
     },
     "inputWidgets": {},
     "nuid": "db934e14-ef2c-4cf7-8d7c-6e840a127519",
     "showTitle": false,
     "tableResultSettingsMap": {},
     "title": ""
    }
   },
   "outputs": [],
   "source": [
    "spark.sql(f\"\"\"\n",
    "CREATE TABLE IF NOT EXISTS {catalog_name}.udp_wcm_silver_sap_bw.sap_vccmmpo09\n",
    "( \n",
    "  hash_id BIGINT,\n",
    "  hash_value BIGINT,\n",
    "  pir STRING,\n",
    "  articleno STRING,\n",
    "  category STRING,\n",
    "  vendor STRING,\n",
    "  subrange STRING,\n",
    "  availbleto DATE,\n",
    "  delete_indicator STRING,\n",
    "  start_date DATE,\n",
    "  end_date DATE,\n",
    "  created_on STRING,\n",
    "  created_by STRING,\n",
    "  search_term STRING,\n",
    "  order_unit STRING,\n",
    "  numerator DOUBLE,\n",
    "  denominator DOUBLE,\n",
    "  vendor_article_no STRING,\n",
    "  salesperson STRING,\n",
    "  telephone_1 STRING,\n",
    "  first_reminder_exped DOUBLE,\n",
    "  second_reminder_exped DOUBLE,\n",
    "  third_reminder_exped DOUBLE,\n",
    "  certificate_number STRING,\n",
    "  country_of_origin STRING,\n",
    "  certificate_category STRING,\n",
    "  number STRING,\n",
    "  base_unit_of_measure STRING,\n",
    "  region STRING,\n",
    "  variable_purchase_order_unit STRING,\n",
    "  vsr_sort_seq_number STRING,\n",
    "  vendor_mdse_catgry STRING,\n",
    "  return_agreement STRING,\n",
    "  available_from STRING,\n",
    "  prior_vendor STRING,\n",
    "  points DOUBLE,\n",
    "  points_unit STRING,\n",
    "  regular_vendor STRING,\n",
    "  proc_date DATE,\n",
    "  file_creation_ts TIMESTAMP\n",
    ")\n",
    "TBLPROPERTIES (\n",
    "  'DELTA.AUTOOPTIMIZE.OPTIMIZEWRITE' = 'true',\n",
    "  'DELTA.AUTOOPTIMIZE.AUTOCOMPACT' = 'true'\n",
    ")\n",
    "\"\"\")"
   ]
  },
  {
   "cell_type": "code",
   "execution_count": 0,
   "metadata": {
    "application/vnd.databricks.v1+cell": {
     "cellMetadata": {
      "byteLimit": 2048000,
      "implicitDf": true,
      "rowLimit": 10000
     },
     "inputWidgets": {},
     "nuid": "185c83fb-473c-4df4-bd80-9d355b783d03",
     "showTitle": false,
     "tableResultSettingsMap": {},
     "title": ""
    }
   },
   "outputs": [],
   "source": [
    "spark.sql(f\"\"\"\n",
    "CREATE OR REPLACE TEMP VIEW sap_vccmmpo09 AS\n",
    "WITH temp AS (\n",
    "    SELECT * EXCEPT(rn) FROM (\n",
    "        SELECT *, ROW_NUMBER() OVER (PARTITION BY pir, articleno, vendor, category ORDER BY proc_date DESC) rn\n",
    "        FROM (\n",
    "            SELECT\n",
    "                IF(infnr = '', NULL, infnr) AS pir,\n",
    "                LTRIM('0', matnr) AS articleno,\n",
    "                IF(matkl = '', NULL, matkl) AS category,\n",
    "                LTRIM('0', lifnr) AS vendor,\n",
    "                IF(ltsnr = '', NULL, ltsnr) AS subrange,\n",
    "                CASE\n",
    "                    WHEN lifbi = '00000000' THEN NULL\n",
    "                    ELSE TO_DATE(lifbi, 'yyyyMMdd')\n",
    "                END AS availbleto,\n",
    "                IF(loekz = '', NULL, loekz) AS delete_indicator,\n",
    "                erdat AS created_on,\n",
    "                ernam AS created_by,\n",
    "                sortl AS search_term,\n",
    "                meins AS order_unit,\n",
    "                CAST(umrez AS INT) AS numerator,\n",
    "                CAST(umren AS INT) AS denominator,\n",
    "                idnlf AS vendor_article_no,\n",
    "                verkf AS salesperson,\n",
    "                telf1 AS telephone_1,\n",
    "                CAST(mahn1 AS INT) AS first_reminder_exped,\n",
    "                CAST(mahn2 AS INT) AS second_reminder_exped,\n",
    "                CAST(mahn3 AS INT) AS third_reminder_exped,\n",
    "                urznr AS certificate_number,\n",
    "                urzla AS country_of_origin,\n",
    "                urztp AS certificate_category,\n",
    "                urzzt AS number,\n",
    "                lmein AS base_unit_of_measure,\n",
    "                regio AS region,\n",
    "                vabme AS variable_purchase_order_unit,\n",
    "                ltssf AS vsr_sort_seq_number,\n",
    "                wglif AS vendor_mdse_catgry,\n",
    "                rueck AS return_agreement,\n",
    "                lifab AS available_from,\n",
    "                kolif AS prior_vendor,\n",
    "                CAST(anzpu AS INT) AS points,\n",
    "                punei AS points_unit,\n",
    "                relif AS regular_vendor,\n",
    "                proc_date,\n",
    "                file_creation_ts\n",
    "            FROM (\n",
    "                SELECT * EXCEPT(rn) FROM (\n",
    "                    SELECT *,\n",
    "                    proc_date,\n",
    "                    ROW_NUMBER() OVER (PARTITION BY reqtsn, datapakid, record ORDER BY proc_date DESC) rn\n",
    "                    FROM temp_sap_vccmmpo09\n",
    "                ) a WHERE rn = 1\n",
    "            )\n",
    "        ) a\n",
    "    ) a WHERE rn = 1\n",
    "),\n",
    "main AS (\n",
    "    SELECT\n",
    "        farm_fingerprint(CONCAT(\n",
    "            IFNULL(CAST(pir AS STRING), ''),\n",
    "            IFNULL(CAST(articleno AS STRING), ''),\n",
    "            IFNULL(CAST(vendor AS STRING), ''),\n",
    "            IFNULL(CAST(category AS STRING), '')\n",
    "        )) hash_id,\n",
    "        farm_fingerprint(CONCAT(\n",
    "            IFNULL(CAST(pir AS STRING), ''),\n",
    "            IFNULL(CAST(articleno AS STRING), ''),\n",
    "            IFNULL(CAST(vendor AS STRING), ''),\n",
    "            IFNULL(CAST(category AS STRING), ''),\n",
    "            IFNULL(CAST(subrange AS STRING), ''),\n",
    "            IFNULL(CAST(availbleto AS STRING), ''),\n",
    "            IFNULL(CAST(delete_indicator AS STRING), ''),\n",
    "            IFNULL(CAST(created_on AS STRING), ''),\n",
    "            IFNULL(CAST(created_by AS STRING), ''),\n",
    "            IFNULL(CAST(search_term AS STRING), ''),\n",
    "            IFNULL(CAST(order_unit AS STRING), ''), \n",
    "            IFNULL(CASE WHEN CAST(numerator AS DOUBLE) = CAST(CAST(numerator AS DOUBLE) AS BIGINT) THEN CAST(CAST(numerator AS BIGINT) AS STRING) ELSE TRIM(TRAILING '0' FROM(CAST(numerator AS DECIMAL(38,10)))) END, \"\"),\n",
    "            IFNULL(CASE WHEN CAST(denominator AS DOUBLE) = CAST(CAST(denominator AS DOUBLE) AS BIGINT) THEN CAST(CAST(denominator AS BIGINT) AS STRING) ELSE TRIM(TRAILING '0' FROM(CAST(denominator AS DECIMAL(38,10)))) END, \"\"),\n",
    "            IFNULL(CAST(vendor_article_no AS STRING), ''),\n",
    "            IFNULL(CAST(salesperson AS STRING), ''),\n",
    "            IFNULL(CAST(telephone_1 AS STRING), ''),\n",
    "            IFNULL(CASE WHEN CAST(first_reminder_exped AS DOUBLE) = CAST(CAST(first_reminder_exped AS DOUBLE) AS BIGINT) THEN CAST(CAST(first_reminder_exped AS BIGINT) AS STRING) ELSE TRIM(TRAILING '0' FROM(CAST(first_reminder_exped AS DECIMAL(38,10)))) END, \"\"),\n",
    "            IFNULL(CASE WHEN CAST(second_reminder_exped AS DOUBLE) = CAST(CAST(second_reminder_exped AS DOUBLE) AS BIGINT) THEN CAST(CAST(second_reminder_exped AS BIGINT) AS STRING) ELSE TRIM(TRAILING '0' FROM(CAST(second_reminder_exped AS DECIMAL(38,10)))) END, \"\"),\n",
    "            IFNULL(CASE WHEN CAST(third_reminder_exped AS DOUBLE) = CAST(CAST(third_reminder_exped AS DOUBLE) AS BIGINT) THEN CAST(CAST(third_reminder_exped AS BIGINT) AS STRING) ELSE TRIM(TRAILING '0' FROM(CAST(third_reminder_exped AS DECIMAL(38,10)))) END, \"\"),\n",
    "            IFNULL(CAST(certificate_number AS STRING), ''),\n",
    "            IFNULL(CAST(country_of_origin AS STRING), ''),\n",
    "            IFNULL(CAST(certificate_category AS STRING), ''),\n",
    "            IFNULL(CAST(number AS STRING), ''),\n",
    "            IFNULL(CAST(base_unit_of_measure AS STRING), ''),\n",
    "            IFNULL(CAST(region AS STRING), ''),\n",
    "            IFNULL(CAST(variable_purchase_order_unit AS STRING), ''),\n",
    "            IFNULL(CAST(vsr_sort_seq_number AS STRING), ''),\n",
    "            IFNULL(CAST(vendor_mdse_catgry AS STRING), ''),\n",
    "            IFNULL(CAST(return_agreement AS STRING), ''),\n",
    "            IFNULL(CAST(available_from AS STRING), ''),\n",
    "            IFNULL(CAST(prior_vendor AS STRING), ''),\n",
    "            IFNULL(CASE WHEN CAST(points AS DOUBLE) = CAST(CAST(points AS DOUBLE) AS BIGINT) THEN CAST(CAST(points AS BIGINT) AS STRING) ELSE TRIM(TRAILING '0' FROM(CAST(points AS DECIMAL(38,10)))) END, \"\"),\n",
    "            IFNULL(CAST(points_unit AS STRING), ''),\n",
    "            IFNULL(CAST(regular_vendor AS STRING), '')\n",
    "        )) hash_value,\n",
    "        pir,\n",
    "        articleno,\n",
    "        category,\n",
    "        vendor,\n",
    "        subrange,\n",
    "        availbleto,\n",
    "        delete_indicator,\n",
    "        DATE(proc_date) AS start_date,\n",
    "        DATE('2400-01-01') AS end_date,\n",
    "        created_on,\n",
    "        created_by,\n",
    "        search_term,\n",
    "        order_unit,\n",
    "        numerator,\n",
    "        denominator,\n",
    "        vendor_article_no,\n",
    "        salesperson,\n",
    "        telephone_1,\n",
    "        first_reminder_exped,\n",
    "        second_reminder_exped,\n",
    "        third_reminder_exped,\n",
    "        certificate_number,\n",
    "        country_of_origin,\n",
    "        certificate_category,\n",
    "        number,\n",
    "        base_unit_of_measure,\n",
    "        region,\n",
    "        variable_purchase_order_unit,\n",
    "        vsr_sort_seq_number,\n",
    "        vendor_mdse_catgry,\n",
    "        return_agreement,\n",
    "        available_from,\n",
    "        prior_vendor,\n",
    "        points,\n",
    "        points_unit,\n",
    "        regular_vendor,\n",
    "        proc_date,\n",
    "        file_creation_ts\n",
    "    FROM temp\n",
    ")\n",
    "SELECT * FROM main;\n",
    "\"\"\")"
   ]
  },
  {
   "cell_type": "code",
   "execution_count": 0,
   "metadata": {
    "application/vnd.databricks.v1+cell": {
     "cellMetadata": {
      "byteLimit": 2048000,
      "rowLimit": 10000
     },
     "inputWidgets": {},
     "nuid": "a01e697c-6030-467c-bafc-c36b087a7b0c",
     "showTitle": false,
     "tableResultSettingsMap": {},
     "title": ""
    }
   },
   "outputs": [],
   "source": [
    "spark.sql(f\"\"\"\n",
    "MERGE INTO {catalog_name}.udp_wcm_silver_sap_bw.sap_vccmmpo09 AS main_tbl\n",
    "USING sap_vccmmpo09 AS temp_tbl\n",
    "ON main_tbl.hash_value != temp_tbl.hash_value\n",
    "   AND main_tbl.hash_id = temp_tbl.hash_id\n",
    "   AND main_tbl.end_date >= CURRENT_DATE\n",
    "WHEN MATCHED THEN\n",
    "UPDATE SET main_tbl.end_date = DATE_ADD(temp_tbl.start_date, -1);\n",
    "\n",
    "\"\"\")"
   ]
  },
  {
   "cell_type": "code",
   "execution_count": 0,
   "metadata": {
    "application/vnd.databricks.v1+cell": {
     "cellMetadata": {
      "byteLimit": 2048000,
      "rowLimit": 10000
     },
     "inputWidgets": {},
     "nuid": "bec92936-eb5b-4ad5-9845-a6cfcb55838e",
     "showTitle": false,
     "tableResultSettingsMap": {},
     "title": ""
    }
   },
   "outputs": [],
   "source": [
    "spark.sql(\n",
    "    f\"\"\"\n",
    "        MERGE INTO {catalog_name}.udp_wcm_silver_sap_bw.sap_vccmmpo09 AS main_tbl\n",
    "        USING sap_vccmmpo09 AS temp_tbl\n",
    "        ON main_tbl.hash_id = temp_tbl.hash_id\n",
    "        AND main_tbl.hash_value = temp_tbl.hash_value\n",
    "        AND main_tbl.end_date >= CURRENT_DATE\n",
    "        WHEN NOT MATCHED THEN INSERT *;\n",
    "\"\"\")"
   ]
  }
 ],
 "metadata": {
  "application/vnd.databricks.v1+notebook": {
   "computePreferences": null,
   "dashboards": [],
   "environmentMetadata": {
    "base_environment": "",
    "environment_version": "2"
   },
   "inputWidgetPreferences": null,
   "language": "python",
   "notebookMetadata": {
    "mostRecentlyExecutedCommandWithImplicitDF": {
     "commandId": 6410538414265926,
     "dataframes": [
      "_sqldf"
     ]
    },
    "pythonIndentUnit": 4
   },
   "notebookName": "sap_vccmmpo09",
   "widgets": {
    "environment": {
     "currentValue": "DEV",
     "nuid": "03a140f6-daaf-402f-8c22-f831f2fda0ba",
     "typedWidgetInfo": {
      "autoCreated": false,
      "defaultValue": "",
      "label": "",
      "name": "environment",
      "options": {
       "widgetDisplayType": "Text",
       "validationRegex": null
      },
      "parameterDataType": "String"
     },
     "widgetInfo": {
      "widgetType": "text",
      "defaultValue": "",
      "label": "",
      "name": "environment",
      "options": {
       "widgetType": "text",
       "autoCreated": null,
       "validationRegex": null
      }
     }
    },
    "proc_date": {
     "currentValue": "2025-05-31",
     "nuid": "be675cee-d259-4fd0-8811-0eece011247b",
     "typedWidgetInfo": {
      "autoCreated": false,
      "defaultValue": "",
      "label": null,
      "name": "proc_date",
      "options": {
       "widgetDisplayType": "Text",
       "validationRegex": null
      },
      "parameterDataType": "String"
     },
     "widgetInfo": {
      "widgetType": "text",
      "defaultValue": "",
      "label": null,
      "name": "proc_date",
      "options": {
       "widgetType": "text",
       "autoCreated": null,
       "validationRegex": null
      }
     }
    }
   }
  },
  "language_info": {
   "name": "python"
  }
 },
 "nbformat": 4,
 "nbformat_minor": 0
}
