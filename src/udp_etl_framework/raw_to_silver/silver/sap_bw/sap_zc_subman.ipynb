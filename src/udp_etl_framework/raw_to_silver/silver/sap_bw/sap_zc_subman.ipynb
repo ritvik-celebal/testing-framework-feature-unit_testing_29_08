{
 "cells": [
  {
   "cell_type": "code",
   "execution_count": 0,
   "metadata": {
    "application/vnd.databricks.v1+cell": {
     "cellMetadata": {
      "byteLimit": 2048000,
      "rowLimit": 10000
     },
     "inputWidgets": {},
     "nuid": "ae4d4e16-b754-4fad-84e7-983b33cc599c",
     "showTitle": false,
     "tableResultSettingsMap": {},
     "title": ""
    }
   },
   "outputs": [],
   "source": [
    "dbutils.widgets.text(\"proc_date\", \"\")\n",
    "proc_date = dbutils.widgets.get(\"proc_date\")"
   ]
  },
  {
   "cell_type": "code",
   "execution_count": 0,
   "metadata": {
    "application/vnd.databricks.v1+cell": {
     "cellMetadata": {
      "byteLimit": 2048000,
      "rowLimit": 10000
     },
     "inputWidgets": {},
     "nuid": "d55d73bd-c0b5-414c-9ddc-df70719c9a54",
     "showTitle": false,
     "tableResultSettingsMap": {},
     "title": ""
    },
    "jupyter": {
     "outputs_hidden": true
    }
   },
   "outputs": [],
   "source": [
    "%run ../../../utils/common"
   ]
  },
  {
   "cell_type": "code",
   "execution_count": 0,
   "metadata": {
    "application/vnd.databricks.v1+cell": {
     "cellMetadata": {
      "byteLimit": 2048000,
      "rowLimit": 10000
     },
     "inputWidgets": {},
     "nuid": "86d68068-9ab5-4f7c-856f-86ec9bb6a660",
     "showTitle": false,
     "tableResultSettingsMap": {},
     "title": ""
    }
   },
   "outputs": [],
   "source": [
    "dbutils.widgets.text(\"environment\", \"\", \"\")\n",
    "environment = dbutils.widgets.get(\"environment\")"
   ]
  },
  {
   "cell_type": "code",
   "execution_count": 0,
   "metadata": {
    "application/vnd.databricks.v1+cell": {
     "cellMetadata": {
      "byteLimit": 2048000,
      "rowLimit": 10000
     },
     "inputWidgets": {},
     "nuid": "07f3b1fc-aa2f-4163-b130-fb20f5de7425",
     "showTitle": false,
     "tableResultSettingsMap": {},
     "title": ""
    }
   },
   "outputs": [],
   "source": [
    "catalog_name = settings[environment]['catalog_name']"
   ]
  },
  {
   "cell_type": "code",
   "execution_count": 0,
   "metadata": {
    "application/vnd.databricks.v1+cell": {
     "cellMetadata": {
      "byteLimit": 2048000,
      "rowLimit": 10000
     },
     "inputWidgets": {},
     "nuid": "4a2e0a89-3ef6-43af-938d-f5735ec8dbbe",
     "showTitle": false,
     "tableResultSettingsMap": {},
     "title": ""
    }
   },
   "outputs": [],
   "source": [
    "create_temp_view_with_clean_columns(\n",
    "    spark,\n",
    "    catalog_name,\n",
    "    'udp_wcm_bronze_sap_bw',\n",
    "    'sap_bw_wcm_zc_subman',\n",
    "    proc_date,\n",
    "    'temp_sap_zc_subman'\n",
    ")"
   ]
  },
  {
   "cell_type": "code",
   "execution_count": 0,
   "metadata": {
    "application/vnd.databricks.v1+cell": {
     "cellMetadata": {
      "byteLimit": 2048000,
      "rowLimit": 10000
     },
     "inputWidgets": {},
     "nuid": "58a19b4c-00ec-4b2a-9509-1bdacb8204e1",
     "showTitle": false,
     "tableResultSettingsMap": {},
     "title": ""
    }
   },
   "outputs": [],
   "source": [
    "spark.sql(f\"\"\"\n",
    "CREATE TABLE IF NOT EXISTS {catalog_name}.udp_wcm_silver_sap_bw.sap_zc_subman\n",
    "(\n",
    "  hash_id BIGINT,\n",
    "  _bic_zc_subman STRING,\n",
    "  langu STRING,\n",
    "  txtmd STRING,\n",
    "  proc_date DATE,\n",
    "  file_creation_ts TIMESTAMP,\n",
    "  start_Date DATE,\n",
    "  end_date DATE\n",
    ")TBLPROPERTIES (\n",
    "  'DELTA.AUTOOPTIMIZE.OPTIMIZEWRITE' = 'true',\n",
    "  'DELTA.AUTOOPTIMIZE.AUTOCOMPACT' = 'true'\n",
    ")\"\"\")"
   ]
  },
  {
   "cell_type": "code",
   "execution_count": 0,
   "metadata": {
    "application/vnd.databricks.v1+cell": {
     "cellMetadata": {
      "byteLimit": 2048000,
      "rowLimit": 10000
     },
     "inputWidgets": {},
     "nuid": "4bb4e011-fb2a-4b68-87bd-7f46d9d279e9",
     "showTitle": false,
     "tableResultSettingsMap": {},
     "title": ""
    }
   },
   "outputs": [],
   "source": [
    "spark.sql(f\"\"\"\n",
    "    CREATE OR REPLACE TEMP VIEW sap_zc_subman \n",
    "    AS\n",
    "    WITH temp  AS (\n",
    "        SELECT * EXCEPT(rn) \n",
    "        FROM (\n",
    "            SELECT *, ROW_NUMBER() OVER (PARTITION BY _bic_zc_subman, DATE(proc_date) ORDER BY proc_date) AS rn \n",
    "            FROM (\n",
    "                SELECT LTRIM('0', _bic_zc_subman) AS _bic_zc_subman, langu, txtmd, proc_date AS proc_date, file_creation_ts\n",
    "                FROM temp_sap_zc_subman\n",
    "            ) a\n",
    "        ) a \n",
    "        WHERE rn = 1\n",
    "    ),\n",
    "        main AS (\n",
    "        SELECT \n",
    "            FARM_FINGERPRINT(CONCAT(\n",
    "                COALESCE(CAST(_bic_zc_subman AS STRING), \"\"), \n",
    "                COALESCE(CAST(langu AS STRING), \"\"),\n",
    "                COALESCE(CAST(txtmd AS STRING), \"\")\n",
    "            )) AS hash_id,\n",
    "            *,\n",
    "            DATE(proc_date) AS start_date \n",
    "        FROM temp\n",
    "    ),\n",
    "    main_2 AS (\n",
    "        SELECT \n",
    "            *, \n",
    "            LAG(hash_id, 1) OVER (PARTITION BY _bic_zc_subman ORDER BY proc_date) AS hash_id_prev \n",
    "        FROM main\n",
    "    ),\n",
    "    main_3 AS (\n",
    "        SELECT * EXCEPT(hash_id_prev) \n",
    "        FROM main_2 \n",
    "        WHERE (hash_id != hash_id_prev OR hash_id_prev IS NULL)\n",
    "    ),\n",
    "    main_4 AS (\n",
    "        SELECT \n",
    "            *, \n",
    "            LEAD(DATE(proc_date)) OVER (PARTITION BY _bic_zc_subman ORDER BY proc_date ASC) AS end_date \n",
    "        FROM main_3\n",
    "    )\n",
    "    SELECT \n",
    "        * EXCEPT(end_date), \n",
    "        IFNULL(DATE_SUB(end_date, 1), '2400-01-01') AS end_date \n",
    "    FROM main_4 \n",
    "\"\"\")\n"
   ]
  },
  {
   "cell_type": "code",
   "execution_count": 0,
   "metadata": {
    "application/vnd.databricks.v1+cell": {
     "cellMetadata": {
      "byteLimit": 2048000,
      "rowLimit": 10000
     },
     "inputWidgets": {},
     "nuid": "67e4cff0-458a-45bf-8004-5aba5ede7cb4",
     "showTitle": false,
     "tableResultSettingsMap": {},
     "title": ""
    }
   },
   "outputs": [],
   "source": [
    "spark.sql(f\"\"\"\n",
    "    MERGE INTO {catalog_name}.udp_wcm_silver_sap_bw.sap_zc_subman inf_tbl\n",
    "    USING (\n",
    "        SELECT _bic_zc_subman, hash_id, start_date \n",
    "        FROM sap_zc_subman \n",
    "        WHERE end_date = '2400-01-01'\n",
    "    ) tmp_tbl\n",
    "    ON inf_tbl._bic_zc_subman = tmp_tbl._bic_zc_subman \n",
    "    AND inf_tbl.hash_id != tmp_tbl.hash_id \n",
    "    AND inf_tbl.end_date = '2400-01-01'\n",
    "    WHEN MATCHED THEN \n",
    "        UPDATE SET inf_tbl.end_date = DATE_SUB(tmp_tbl.start_date, 1)\n",
    "\"\"\")"
   ]
  },
  {
   "cell_type": "code",
   "execution_count": 0,
   "metadata": {
    "application/vnd.databricks.v1+cell": {
     "cellMetadata": {
      "byteLimit": 2048000,
      "rowLimit": 10000
     },
     "inputWidgets": {},
     "nuid": "4a27e3fe-c69a-4d65-9036-b41ff997f3fe",
     "showTitle": false,
     "tableResultSettingsMap": {},
     "title": ""
    }
   },
   "outputs": [],
   "source": [
    "spark.sql(f\"\"\"\n",
    "    MERGE INTO {catalog_name}.udp_wcm_silver_sap_bw.sap_zc_subman inf_tbl\n",
    "        USING  sap_zc_subman tmp_tbl\n",
    "        ON inf_tbl.hash_id = tmp_tbl.hash_id  AND inf_tbl.end_date = DATE '2400-01-01'\n",
    "        WHEN NOT MATCHED THEN INSERT * \n",
    "    \"\"\")"
   ]
  }
 ],
 "metadata": {
  "application/vnd.databricks.v1+notebook": {
   "computePreferences": null,
   "dashboards": [],
   "environmentMetadata": {
    "base_environment": "",
    "environment_version": "2"
   },
   "inputWidgetPreferences": null,
   "language": "python",
   "notebookMetadata": {
    "mostRecentlyExecutedCommandWithImplicitDF": {
     "commandId": 4736130552810349,
     "dataframes": [
      "_sqldf"
     ]
    },
    "pythonIndentUnit": 4
   },
   "notebookName": "sap_zc_subman",
   "widgets": {
    "environment": {
     "currentValue": "DEV",
     "nuid": "4e4ee8d6-a249-46d6-962b-0661278d573c",
     "typedWidgetInfo": {
      "autoCreated": false,
      "defaultValue": "",
      "label": "",
      "name": "environment",
      "options": {
       "widgetDisplayType": "Text",
       "validationRegex": null
      },
      "parameterDataType": "String"
     },
     "widgetInfo": {
      "widgetType": "text",
      "defaultValue": "",
      "label": "",
      "name": "environment",
      "options": {
       "widgetType": "text",
       "autoCreated": null,
       "validationRegex": null
      }
     }
    },
    "proc_date": {
     "currentValue": "2025-07-20",
     "nuid": "59347c40-a111-402e-b617-34d87628d966",
     "typedWidgetInfo": {
      "autoCreated": false,
      "defaultValue": "",
      "label": null,
      "name": "proc_date",
      "options": {
       "widgetDisplayType": "Text",
       "validationRegex": null
      },
      "parameterDataType": "String"
     },
     "widgetInfo": {
      "widgetType": "text",
      "defaultValue": "",
      "label": null,
      "name": "proc_date",
      "options": {
       "widgetType": "text",
       "autoCreated": null,
       "validationRegex": null
      }
     }
    }
   }
  },
  "language_info": {
   "name": "python"
  }
 },
 "nbformat": 4,
 "nbformat_minor": 0
}
