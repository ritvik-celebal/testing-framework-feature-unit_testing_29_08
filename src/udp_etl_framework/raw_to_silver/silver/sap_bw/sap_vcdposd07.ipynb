{
 "cells": [
  {
   "cell_type": "code",
   "execution_count": 0,
   "metadata": {
    "application/vnd.databricks.v1+cell": {
     "cellMetadata": {
      "byteLimit": 2048000,
      "rowLimit": 10000
     },
     "inputWidgets": {},
     "nuid": "ef4a068c-c5c6-4191-9af9-d3f854967d3e",
     "showTitle": false,
     "tableResultSettingsMap": {},
     "title": ""
    }
   },
   "outputs": [],
   "source": [
    "dbutils.widgets.text(\"proc_date\", \"\")\n",
    "proc_date = dbutils.widgets.get(\"proc_date\")"
   ]
  },
  {
   "cell_type": "code",
   "execution_count": 0,
   "metadata": {
    "application/vnd.databricks.v1+cell": {
     "cellMetadata": {
      "byteLimit": 2048000,
      "rowLimit": 10000
     },
     "inputWidgets": {},
     "nuid": "b8df1ac3-df86-4154-89db-267aa9259201",
     "showTitle": false,
     "tableResultSettingsMap": {},
     "title": ""
    }
   },
   "outputs": [],
   "source": [
    "%run ../../../utils/common"
   ]
  },
  {
   "cell_type": "code",
   "execution_count": 0,
   "metadata": {
    "application/vnd.databricks.v1+cell": {
     "cellMetadata": {
      "byteLimit": 2048000,
      "rowLimit": 10000
     },
     "inputWidgets": {},
     "nuid": "1504e0f3-85d1-4923-bd1e-522acb3d507b",
     "showTitle": false,
     "tableResultSettingsMap": {},
     "title": ""
    }
   },
   "outputs": [],
   "source": [
    "dbutils.widgets.text(\"environment\", \"\", \"\")\n",
    "environment = dbutils.widgets.get(\"environment\")"
   ]
  },
  {
   "cell_type": "code",
   "execution_count": 0,
   "metadata": {
    "application/vnd.databricks.v1+cell": {
     "cellMetadata": {
      "byteLimit": 2048000,
      "rowLimit": 10000
     },
     "inputWidgets": {},
     "nuid": "cabc4d76-36a7-4426-8fd0-9ec73032bd16",
     "showTitle": false,
     "tableResultSettingsMap": {},
     "title": ""
    }
   },
   "outputs": [],
   "source": [
    "catalog_name = settings[environment]['catalog_name']"
   ]
  },
  {
   "cell_type": "code",
   "execution_count": 0,
   "metadata": {
    "application/vnd.databricks.v1+cell": {
     "cellMetadata": {},
     "inputWidgets": {},
     "nuid": "ea5949bf-b14c-440b-99c9-00d6509c8916",
     "showTitle": false,
     "tableResultSettingsMap": {},
     "title": ""
    }
   },
   "outputs": [],
   "source": [
    "create_temp_view_with_clean_columns(\n",
    "    spark,\n",
    "    catalog_name,\n",
    "    'udp_wcm_bronze_sap_bw',\n",
    "    'sap_bw_wcm_vccposd51',\n",
    "    proc_date,\n",
    "    'temp_sap_vcdposd07'\n",
    ")"
   ]
  },
  {
   "cell_type": "code",
   "execution_count": 0,
   "metadata": {
    "application/vnd.databricks.v1+cell": {
     "cellMetadata": {
      "byteLimit": 2048000,
      "implicitDf": true,
      "rowLimit": 10000
     },
     "inputWidgets": {},
     "nuid": "13e4b3f3-cd5c-4d95-9c45-27983c9be5e0",
     "showTitle": false,
     "tableResultSettingsMap": {},
     "title": ""
    }
   },
   "outputs": [],
   "source": [
    "spark.sql(f\"\"\"\n",
    "CREATE TABLE IF NOT EXISTS {catalog_name}.udp_wcm_silver_sap_bw.sap_vcdposd07 \n",
    "(\n",
    "\thash_id BIGINT\n",
    "\t,reqtsn STRING\n",
    "\t,datapakid STRING\n",
    "\t,record INT\n",
    "\t,recordmode STRING\n",
    "\t,calday DATE\n",
    "\t,weekday1 STRING\n",
    "\t,calweek STRING\n",
    "\t,calmonth STRING\n",
    "\t,calyear STRING\n",
    "\t,calmonth2 STRING\n",
    "\t,calquart1 STRING\n",
    "\t,halfyear1 STRING\n",
    "\t,fiscyear STRING\n",
    "\t,fiscvarnt STRING\n",
    "\t,fiscper STRING\n",
    "\t,fiscper3 STRING\n",
    "\t,loc_currcy STRING\n",
    "\t,rt_locatio STRING\n",
    "\t,segment STRING\n",
    "\t,plant STRING\n",
    "\t,bic_zc_loypg STRING\n",
    "\t,bic_zc_loynbr STRING\n",
    "\t,bic_zc_vinid STRING\n",
    "\t,rpa_wid STRING\n",
    "\t,rpa_tnr STRING\n",
    "\t,rpa_ttc STRING\n",
    "\t,bic_zk_loypnt INT\n",
    "\t,rpa_slc FLOAT\n",
    "\t,proc_date DATE\n",
    "\t,file_creation_ts TIMESTAMP\n",
    ")\n",
    " TBLPROPERTIES (\n",
    "  'DELTA.AUTOOPTIMIZE.OPTIMIZEWRITE' = 'true',\n",
    "  'DELTA.AUTOOPTIMIZE.AUTOCOMPACT' = 'true'\n",
    ")\n",
    "\"\"\")"
   ]
  },
  {
   "cell_type": "code",
   "execution_count": 0,
   "metadata": {
    "application/vnd.databricks.v1+cell": {
     "cellMetadata": {
      "byteLimit": 2048000,
      "implicitDf": true,
      "rowLimit": 10000
     },
     "inputWidgets": {},
     "nuid": "23e48598-a7e9-406b-a8cd-573f7908a40d",
     "showTitle": false,
     "tableResultSettingsMap": {},
     "title": ""
    }
   },
   "outputs": [],
   "source": [
    "spark.sql(f\"\"\"\n",
    "CREATE OR REPLACE TEMP VIEW sap_vcdposd07 AS \n",
    "select \n",
    "    farm_fingerprint(CONCAT(\n",
    "                ifnull(CAST(recordmode AS STRING), \"\"),\n",
    "                ifnull(CAST(calday AS STRING), \"\"),\n",
    "                ifnull(CAST(weekday1 AS STRING), \"\"),\n",
    "                ifnull(CAST(calweek AS STRING), \"\"),\n",
    "                ifnull(CAST(calmonth AS STRING), \"\"),\n",
    "                ifnull(CAST(calyear AS STRING), \"\"),\n",
    "                ifnull(CAST(fiscvarnt AS STRING), \"\"),\n",
    "                ifnull(CAST(fiscper AS STRING), \"\"),\n",
    "                ifnull(CAST(calmonth2 AS STRING), \"\"),\n",
    "                ifnull(CAST(calquart1 AS STRING), \"\"),\n",
    "                ifnull(CAST(halfyear1 AS STRING), \"\"),\n",
    "                ifnull(CAST(fiscyear AS STRING), \"\"),\n",
    "                ifnull(CAST(fiscper3 AS STRING), \"\"),\n",
    "                ifnull(CAST(loc_currcy AS STRING), \"\"),\n",
    "                ifnull(CAST(segment AS STRING), \"\"),\n",
    "                ifnull(CAST(plant AS STRING), \"\"),\n",
    "                ifnull(CAST(rt_locatio AS STRING), \"\"),\n",
    "                ifnull(CAST(_bic_zc_loypg AS STRING), \"\"),\n",
    "                ifnull(CAST(_bic_zc_loynbr AS STRING), \"\"),\n",
    "                ifnull(CAST(_bic_zc_vinid AS STRING), \"\"),\n",
    "                ifnull(CAST(rpa_wid AS STRING), \"\"),\n",
    "                ifnull(CAST(rpa_tnr AS STRING), \"\"),\n",
    "                ifnull(CAST(rpa_ttc AS STRING), \"\")\n",
    "            )) hash_id,\n",
    "            reqtsn,\n",
    "            datapakid,\n",
    "            record,\n",
    "            recordmode,\n",
    "            CASE WHEN calday = '00000000' THEN NULL ELSE to_date(calday, 'yyyyMMdd') END AS calday,\n",
    "            weekday1,\n",
    "            calweek,\n",
    "            calmonth,\n",
    "            calyear,\n",
    "            calmonth2,\n",
    "            calquart1,\n",
    "            halfyear1,\n",
    "            fiscyear,\n",
    "            CASE WHEN fiscvarnt = '' THEN NULL ELSE fiscvarnt END AS fiscvarnt,\n",
    "            CASE WHEN fiscper = '' THEN NULL ELSE fiscper END AS fiscper,\n",
    "            CASE WHEN fiscper3 = '' THEN NULL ELSE fiscper3 END AS fiscper3,\n",
    "            CASE WHEN loc_currcy = '' THEN NULL ELSE loc_currcy END AS loc_currcy,\n",
    "            CASE WHEN rt_locatio = '' THEN NULL ELSE rt_locatio END AS rt_locatio,\n",
    "            LTRIM('0', segment) AS segment,\n",
    "            CASE WHEN plant = '' THEN NULL ELSE plant END AS plant,\n",
    "            CASE WHEN _bic_zc_loypg = '' THEN NULL ELSE _bic_zc_loypg END AS bic_zc_loypg,\n",
    "            CASE WHEN _bic_zc_loynbr = '' THEN NULL ELSE _bic_zc_loynbr END AS bic_zc_loynbr,\n",
    "            CASE WHEN _bic_zc_vinid = '' THEN NULL ELSE _bic_zc_vinid END AS bic_zc_vinid,\n",
    "            CASE WHEN rpa_wid = '' THEN NULL ELSE rpa_wid END AS rpa_wid,\n",
    "            CASE WHEN rpa_tnr = '' THEN NULL ELSE rpa_tnr END AS rpa_tnr,\n",
    "            CASE WHEN rpa_ttc = '' THEN NULL ELSE rpa_ttc END AS rpa_ttc,\n",
    "            _bic_zk_loypnt AS bic_zk_loypnt,\n",
    "            rpa_slc * 100 AS rpa_slc,\n",
    "            proc_date AS proc_date,\n",
    "            file_creation_ts\n",
    "        from (\n",
    "                select * except(rn) from (\n",
    "                    select *, ROW_NUMBER() OVER (PARTITION BY reqtsn, datapakid, record ORDER BY proc_date DESC) rn from temp_sap_vcdposd07\n",
    "                ) a where rn = 1 \n",
    "            ) a\n",
    "\"\"\")\n"
   ]
  },
  {
   "cell_type": "code",
   "execution_count": 0,
   "metadata": {
    "application/vnd.databricks.v1+cell": {
     "cellMetadata": {
      "byteLimit": 2048000,
      "rowLimit": 10000
     },
     "inputWidgets": {},
     "nuid": "5d713ab3-3a99-4e3b-9885-a927934a18f3",
     "showTitle": false,
     "tableResultSettingsMap": {},
     "title": ""
    }
   },
   "outputs": [],
   "source": [
    "spark.sql(f\"\"\"\n",
    "    MERGE INTO {catalog_name}.udp_wcm_silver_sap_bw.sap_vcdposd07 main_tbl\n",
    "    USING sap_vcdposd07 temp_tbl \n",
    "    ON main_tbl.hash_id = temp_tbl.hash_id\n",
    "        AND main_tbl.reqtsn = temp_tbl.reqtsn \n",
    "        AND main_tbl.datapakid = temp_tbl.datapakid\n",
    "        AND main_tbl.record = temp_tbl.record\n",
    "    WHEN NOT MATCHED THEN INSERT *;\n",
    "\"\"\")"
   ]
  }
 ],
 "metadata": {
  "application/vnd.databricks.v1+notebook": {
   "computePreferences": null,
   "dashboards": [],
   "environmentMetadata": {
    "base_environment": "",
    "environment_version": "2"
   },
   "inputWidgetPreferences": null,
   "language": "python",
   "notebookMetadata": {
    "mostRecentlyExecutedCommandWithImplicitDF": {
     "commandId": 7367573557485462,
     "dataframes": [
      "_sqldf"
     ]
    },
    "pythonIndentUnit": 4
   },
   "notebookName": "sap_vcdposd07",
   "widgets": {
    "environment": {
     "currentValue": "DEV",
     "nuid": "a5df77de-0927-4395-b7b7-b9a2c494090b",
     "typedWidgetInfo": {
      "autoCreated": false,
      "defaultValue": "",
      "label": "",
      "name": "environment",
      "options": {
       "widgetDisplayType": "Text",
       "validationRegex": null
      },
      "parameterDataType": "String"
     },
     "widgetInfo": {
      "widgetType": "text",
      "defaultValue": "",
      "label": "",
      "name": "environment",
      "options": {
       "widgetType": "text",
       "autoCreated": null,
       "validationRegex": null
      }
     }
    },
    "proc_date": {
     "currentValue": "2025-07-17",
     "nuid": "81552b0c-9944-4964-b347-65247110e340",
     "typedWidgetInfo": {
      "autoCreated": false,
      "defaultValue": "",
      "label": null,
      "name": "proc_date",
      "options": {
       "widgetDisplayType": "Text",
       "validationRegex": null
      },
      "parameterDataType": "String"
     },
     "widgetInfo": {
      "widgetType": "text",
      "defaultValue": "",
      "label": null,
      "name": "proc_date",
      "options": {
       "widgetType": "text",
       "autoCreated": null,
       "validationRegex": null
      }
     }
    }
   }
  },
  "language_info": {
   "name": "python"
  }
 },
 "nbformat": 4,
 "nbformat_minor": 0
}
