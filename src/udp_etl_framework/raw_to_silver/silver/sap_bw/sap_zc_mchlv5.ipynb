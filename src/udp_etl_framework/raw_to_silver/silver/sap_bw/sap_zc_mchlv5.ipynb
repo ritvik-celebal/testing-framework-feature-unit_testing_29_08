{
 "cells": [
  {
   "cell_type": "code",
   "execution_count": 0,
   "metadata": {
    "application/vnd.databricks.v1+cell": {
     "cellMetadata": {
      "byteLimit": 2048000,
      "rowLimit": 10000
     },
     "inputWidgets": {},
     "nuid": "f71d05d7-7e99-4651-9759-e535661d8e0c",
     "showTitle": false,
     "tableResultSettingsMap": {},
     "title": ""
    }
   },
   "outputs": [],
   "source": [
    "dbutils.widgets.text(\"proc_date\", \"\")\n",
    "proc_date = dbutils.widgets.get(\"proc_date\")"
   ]
  },
  {
   "cell_type": "code",
   "execution_count": 0,
   "metadata": {
    "application/vnd.databricks.v1+cell": {
     "cellMetadata": {
      "byteLimit": 2048000,
      "rowLimit": 10000
     },
     "inputWidgets": {},
     "nuid": "82d1fac8-a7bb-4ffd-b2cf-ccb546497c57",
     "showTitle": false,
     "tableResultSettingsMap": {},
     "title": ""
    }
   },
   "outputs": [],
   "source": [
    "%run ../../../utils/common"
   ]
  },
  {
   "cell_type": "code",
   "execution_count": 0,
   "metadata": {
    "application/vnd.databricks.v1+cell": {
     "cellMetadata": {
      "byteLimit": 2048000,
      "rowLimit": 10000
     },
     "inputWidgets": {},
     "nuid": "f45409a9-12b7-49dc-b755-c0ebeafb437a",
     "showTitle": false,
     "tableResultSettingsMap": {},
     "title": ""
    }
   },
   "outputs": [],
   "source": [
    "dbutils.widgets.text(\"environment\", \"\", \"\")\n",
    "environment = dbutils.widgets.get(\"environment\")"
   ]
  },
  {
   "cell_type": "code",
   "execution_count": 0,
   "metadata": {
    "application/vnd.databricks.v1+cell": {
     "cellMetadata": {
      "byteLimit": 2048000,
      "rowLimit": 10000
     },
     "inputWidgets": {},
     "nuid": "44fcaf6a-0a24-4792-bf66-c6e9b5d47c78",
     "showTitle": false,
     "tableResultSettingsMap": {},
     "title": ""
    }
   },
   "outputs": [],
   "source": [
    "catalog_name = settings[environment]['catalog_name']"
   ]
  },
  {
   "cell_type": "code",
   "execution_count": 0,
   "metadata": {
    "application/vnd.databricks.v1+cell": {
     "cellMetadata": {
      "byteLimit": 2048000,
      "rowLimit": 10000
     },
     "inputWidgets": {},
     "nuid": "f6646d55-d0ff-44ab-beb9-0f4b12f13f8e",
     "showTitle": false,
     "tableResultSettingsMap": {},
     "title": ""
    }
   },
   "outputs": [],
   "source": [
    "create_temp_view_with_clean_columns(\n",
    "    spark,\n",
    "    catalog_name,\n",
    "    'udp_wcm_bronze_sap_bw',\n",
    "    'sap_bw_wcm_zc_mchlv5',\n",
    "    proc_date,\n",
    "    'temp_sap_zc_mchlv5'\n",
    ")"
   ]
  },
  {
   "cell_type": "code",
   "execution_count": 0,
   "metadata": {
    "application/vnd.databricks.v1+cell": {
     "cellMetadata": {
      "byteLimit": 2048000,
      "rowLimit": 10000
     },
     "inputWidgets": {},
     "nuid": "9deb87fc-bb89-4753-a812-19a03dc2dfaf",
     "showTitle": false,
     "tableResultSettingsMap": {},
     "title": ""
    }
   },
   "outputs": [],
   "source": [
    "spark.sql(f\"\"\"\n",
    "CREATE TABLE IF NOT EXISTS {catalog_name}.udp_wcm_silver_sap_bw.sap_zc_mchlv5\n",
    "( \n",
    "  hash_id BIGINT,\n",
    "  _bic_zc_mchlv5 STRING,\n",
    "  txtmd STRING,\n",
    "  txtsh STRING,\n",
    "  proc_date DATE,\n",
    "  start_date DATE,\n",
    "  end_date DATE,\n",
    "  file_creation_ts TIMESTAMP\n",
    ") \n",
    "TBLPROPERTIES (\n",
    "  'DELTA.AUTOOPTIMIZE.OPTIMIZEWRITE' = 'TRUE',\n",
    "  'DELTA.AUTOOPTIMIZE.AUTOCOMPACT' = 'TRUE'\n",
    ")\n",
    "\"\"\")"
   ]
  },
  {
   "cell_type": "code",
   "execution_count": 0,
   "metadata": {
    "application/vnd.databricks.v1+cell": {
     "cellMetadata": {
      "byteLimit": 2048000,
      "implicitDf": true,
      "rowLimit": 10000
     },
     "inputWidgets": {},
     "nuid": "2aa2a03d-d852-4f56-985f-dbabdc4431cf",
     "showTitle": true,
     "tableResultSettingsMap": {},
     "title": ""
    },
    "jupyter": {
     "outputs_hidden": true
    }
   },
   "outputs": [],
   "source": [
    "spark.sql(f\"\"\"\n",
    "CREATE OR REPLACE TEMP VIEW sap_zc_mchlv5\n",
    "AS\n",
    "WITH temp AS (\n",
    "SELECT * EXCEPT(rn) FROM (\n",
    "\tSELECT *, ROW_NUMBER() OVER (PARTITION BY _bic_zc_mchlv5,DATE(proc_date) ORDER BY proc_date) rn FROM (\n",
    "\tSELECT * FROM temp_sap_zc_mchlv5\n",
    "\t) a\n",
    ") a WHERE rn = 1\n",
    "),\n",
    "main AS (\n",
    "SELECT FARM_FINGERPRINT(CONCAT(\n",
    "\t\t\tIFNULL(CAST(_bic_zc_mchlv5 AS STRING), \"\"), \n",
    "\t\t\tIFNULL(CAST(txtsh AS STRING), \"\"),\n",
    "\t\t\tIFNULL(CAST(txtmd AS STRING), \"\")\n",
    "\t\t)) hash_id,*, DATE(proc_date) start_date from temp\n",
    "),\n",
    "main_2 AS (\n",
    "    SELECT * , LAG(hash_id, 1) OVER (PARTITION BY _bic_zc_mchlv5 ORDER BY proc_date) hash_id_prev \n",
    "    FROM main\n",
    "),\n",
    "main_3 AS (\n",
    "    SELECT * EXCEPT(hash_id_prev) FROM main_2 WHERE (hash_id != hash_id_prev OR hash_id_prev IS NULL)\n",
    "),\n",
    "main_4 AS (\n",
    "    SELECT *, LEAD(DATE(proc_date)) OVER (PARTITION BY _bic_zc_mchlv5 ORDER BY proc_date ASC) end_date FROM main_3\n",
    ")\n",
    "SELECT * EXCEPT(end_date), IFNULL(DATE_ADD(end_date, -1), '2400-01-01') end_date FROM main_4\n",
    ";\n",
    "\"\"\")"
   ]
  },
  {
   "cell_type": "code",
   "execution_count": 0,
   "metadata": {
    "application/vnd.databricks.v1+cell": {
     "cellMetadata": {
      "byteLimit": 2048000,
      "rowLimit": 10000
     },
     "inputWidgets": {},
     "nuid": "d612c469-9355-4eef-a603-8e3a7075c8e0",
     "showTitle": false,
     "tableResultSettingsMap": {},
     "title": ""
    }
   },
   "outputs": [],
   "source": [
    "spark.sql(f\"\"\"\n",
    "MERGE INTO {catalog_name}.udp_wcm_silver_sap_bw.sap_zc_mchlv5 inf_tbl\n",
    "USING (\n",
    "    SELECT _bic_zc_mchlv5, hash_id, start_date FROM sap_zc_mchlv5\n",
    "    WHERE end_date = cast('2400-01-01' AS DATE)\n",
    ") tmp_tbl\n",
    "ON inf_tbl._bic_zc_mchlv5 = tmp_tbl._bic_zc_mchlv5 AND inf_tbl.hash_id != tmp_tbl.hash_id AND inf_tbl.end_date = DATE '2400-01-01'\n",
    "WHEN MATCHED THEN UPDATE SET inf_tbl.end_date = DATE_ADD(tmp_tbl.start_date, -1)\n",
    "\"\"\")"
   ]
  },
  {
   "cell_type": "code",
   "execution_count": 0,
   "metadata": {
    "application/vnd.databricks.v1+cell": {
     "cellMetadata": {
      "byteLimit": 2048000,
      "rowLimit": 10000
     },
     "inputWidgets": {},
     "nuid": "dc4f1f43-57b3-4bc1-a180-48d41a5ef78c",
     "showTitle": false,
     "tableResultSettingsMap": {},
     "title": ""
    }
   },
   "outputs": [],
   "source": [
    "%python\n",
    "spark.sql(f\"\"\"\n",
    "MERGE INTO {catalog_name}.udp_wcm_silver_sap_bw.sap_zc_mchlv5 inf_tbl\n",
    "\tUSING sap_zc_mchlv5 tmp_tbl\n",
    "\tON inf_tbl.hash_id = tmp_tbl.hash_id  AND inf_tbl.end_date = DATE '2400-01-01'\n",
    "\tWHEN NOT MATCHED THEN INSERT *;\n",
    " \"\"\")"
   ]
  }
 ],
 "metadata": {
  "application/vnd.databricks.v1+notebook": {
   "computePreferences": null,
   "dashboards": [],
   "environmentMetadata": {
    "base_environment": "",
    "environment_version": "2"
   },
   "inputWidgetPreferences": null,
   "language": "python",
   "notebookMetadata": {
    "mostRecentlyExecutedCommandWithImplicitDF": {
     "commandId": 6410538414264016,
     "dataframes": [
      "_sqldf"
     ]
    },
    "pythonIndentUnit": 4
   },
   "notebookName": "sap_zc_mchlv5",
   "widgets": {
    "environment": {
     "currentValue": "DEV",
     "nuid": "cdaffe51-2257-4208-93d8-d92da6580a44",
     "typedWidgetInfo": {
      "autoCreated": false,
      "defaultValue": "",
      "label": "",
      "name": "environment",
      "options": {
       "widgetDisplayType": "Text",
       "validationRegex": null
      },
      "parameterDataType": "String"
     },
     "widgetInfo": {
      "widgetType": "text",
      "defaultValue": "",
      "label": "",
      "name": "environment",
      "options": {
       "widgetType": "text",
       "autoCreated": null,
       "validationRegex": null
      }
     }
    },
    "proc_date": {
     "currentValue": "2025-05-31",
     "nuid": "21e815dd-2e9e-4060-a038-bcc8138b8986",
     "typedWidgetInfo": {
      "autoCreated": false,
      "defaultValue": "",
      "label": null,
      "name": "proc_date",
      "options": {
       "widgetDisplayType": "Text",
       "validationRegex": null
      },
      "parameterDataType": "String"
     },
     "widgetInfo": {
      "widgetType": "text",
      "defaultValue": "",
      "label": null,
      "name": "proc_date",
      "options": {
       "widgetType": "text",
       "autoCreated": null,
       "validationRegex": null
      }
     }
    }
   }
  },
  "language_info": {
   "name": "python"
  }
 },
 "nbformat": 4,
 "nbformat_minor": 0
}
