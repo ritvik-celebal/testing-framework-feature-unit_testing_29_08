{
 "cells": [
  {
   "cell_type": "code",
   "execution_count": 0,
   "metadata": {
    "application/vnd.databricks.v1+cell": {
     "cellMetadata": {
      "byteLimit": 2048000,
      "rowLimit": 10000
     },
     "inputWidgets": {},
     "nuid": "1e9a5342-5f01-4c2b-8e71-df7952387cf5",
     "showTitle": false,
     "tableResultSettingsMap": {},
     "title": ""
    }
   },
   "outputs": [],
   "source": [
    "dbutils.widgets.text(\"proc_date\", \"\")\n",
    "proc_date = dbutils.widgets.get(\"proc_date\")"
   ]
  },
  {
   "cell_type": "code",
   "execution_count": 0,
   "metadata": {
    "application/vnd.databricks.v1+cell": {
     "cellMetadata": {
      "byteLimit": 2048000,
      "rowLimit": 10000
     },
     "inputWidgets": {},
     "nuid": "66493174-29fa-462f-bb3a-4ed6c6f5cc62",
     "showTitle": false,
     "tableResultSettingsMap": {},
     "title": ""
    }
   },
   "outputs": [],
   "source": [
    "%run ../../../utils/common"
   ]
  },
  {
   "cell_type": "code",
   "execution_count": 0,
   "metadata": {
    "application/vnd.databricks.v1+cell": {
     "cellMetadata": {
      "byteLimit": 2048000,
      "rowLimit": 10000
     },
     "inputWidgets": {},
     "nuid": "fac20f26-f37c-4c94-88ab-be8ecefb7266",
     "showTitle": false,
     "tableResultSettingsMap": {},
     "title": ""
    }
   },
   "outputs": [],
   "source": [
    "dbutils.widgets.text(\"environment\", \"\", \"\")\n",
    "environment = dbutils.widgets.get(\"environment\")"
   ]
  },
  {
   "cell_type": "code",
   "execution_count": 0,
   "metadata": {
    "application/vnd.databricks.v1+cell": {
     "cellMetadata": {
      "byteLimit": 2048000,
      "rowLimit": 10000
     },
     "inputWidgets": {},
     "nuid": "de411890-299f-408c-8bbb-273208f25b89",
     "showTitle": false,
     "tableResultSettingsMap": {},
     "title": ""
    }
   },
   "outputs": [],
   "source": [
    "catalog_name = settings[environment]['catalog_name']"
   ]
  },
  {
   "cell_type": "code",
   "execution_count": 0,
   "metadata": {
    "application/vnd.databricks.v1+cell": {
     "cellMetadata": {},
     "inputWidgets": {},
     "nuid": "db105b8a-23cf-4323-95cf-30657214c354",
     "showTitle": false,
     "tableResultSettingsMap": {},
     "title": ""
    }
   },
   "outputs": [],
   "source": [
    "create_temp_view_with_clean_columns(\n",
    "    spark,\n",
    "    catalog_name,\n",
    "    'udp_wcm_bronze_sap_bw',\n",
    "    'sap_bw_wcm_vccsddl51',\n",
    "    proc_date,\n",
    "    'temp_sap_vccsddl51'\n",
    ")"
   ]
  },
  {
   "cell_type": "code",
   "execution_count": 0,
   "metadata": {
    "application/vnd.databricks.v1+cell": {
     "cellMetadata": {
      "byteLimit": 2048000,
      "rowLimit": 10000
     },
     "inputWidgets": {},
     "nuid": "316589b4-020c-4402-8b54-81684868787c",
     "showTitle": false,
     "tableResultSettingsMap": {},
     "title": ""
    }
   },
   "outputs": [],
   "source": [
    "spark.sql(f\"\"\"\n",
    "CREATE TABLE IF NOT EXISTS {catalog_name}.udp_wcm_silver_sap_bw.sap_vccsddl51(    \n",
    "    hash_id BIGINT,\n",
    "    calday DATE,\n",
    "    do_number STRING,\n",
    "    dc_id STRING,\n",
    "    store_id STRING,\n",
    "    plan_gi_date DATE,\n",
    "    actual_gi_dte DATE,\n",
    "    proc_date DATE,\n",
    "    file_creation_ts TIMESTAMP\n",
    ")\n",
    "TBLPROPERTIES \n",
    "(\n",
    "\tDELTA.AUTOOPTIMIZE.OPTIMIZEWRITE = TRUE,\n",
    "\tDELTA.AUTOOPTIMIZE.AUTOCOMPACT = TRUE\n",
    ")\n",
    "\"\"\")"
   ]
  },
  {
   "cell_type": "code",
   "execution_count": 0,
   "metadata": {
    "application/vnd.databricks.v1+cell": {
     "cellMetadata": {
      "byteLimit": 2048000,
      "rowLimit": 10000
     },
     "inputWidgets": {},
     "nuid": "3ed378f2-242f-4450-9a1d-e580567f620f",
     "showTitle": false,
     "tableResultSettingsMap": {},
     "title": ""
    }
   },
   "outputs": [],
   "source": [
    "spark.sql(f\"\"\"\n",
    "MERGE INTO {catalog_name}.udp_wcm_silver_sap_bw.sap_vccsddl51 main_tbl \n",
    "USING (\n",
    "    WITH main AS (\n",
    "        SELECT \n",
    "            ROW_NUMBER() OVER (PARTITION BY deliv_numb ORDER BY reqtsn DESC, datapakid DESC, record DESC) rn,\n",
    "            file_creation_ts,\n",
    "            date_format(to_date(calday, 'yyyyMMdd'), 'yyyy-MM-dd') AS calday,\n",
    "            deliv_numb AS do_number,\n",
    "            ship_point AS dc_id,\n",
    "            LTRIM('0', ship_to) AS store_id,\n",
    "            date_format(to_date(gi_date, 'yyyyMMdd'), 'yyyy-MM-dd') AS plan_gi_date,\n",
    "            date_format(to_date(act_gi_dte, 'yyyyMMdd'), 'yyyy-MM-dd') AS actual_gi_date,\n",
    "            proc_date\n",
    "        FROM (\n",
    "            SELECT * EXCEPT(rn) FROM (\n",
    "                SELECT *, ROW_NUMBER() OVER (\n",
    "                    PARTITION BY reqtsn, datapakid, record \n",
    "                    ORDER BY proc_date DESC\n",
    "                ) rn \n",
    "                FROM temp_sap_vccsddl51\n",
    "            ) a WHERE rn = 1 \n",
    "        ) a\n",
    "    )\n",
    "    SELECT \n",
    "        farm_fingerprint(CONCAT(\n",
    "            COALESCE(CAST(calday AS STRING), \"\"),\n",
    "            COALESCE(CAST(do_number AS STRING), \"\"),\n",
    "            COALESCE(CAST(dc_id AS STRING), \"\"),\n",
    "            COALESCE(CAST(store_id AS STRING), \"\"),\n",
    "            COALESCE(CAST(plan_gi_date AS STRING), \"\"),\n",
    "            COALESCE(CAST(actual_gi_date AS STRING), \"\")\n",
    "        )) AS hash_id,\n",
    "        * EXCEPT (rn)\n",
    "    FROM main \n",
    "    WHERE rn = 1\n",
    ") temp_tbl\n",
    "ON main_tbl.hash_id = temp_tbl.hash_id\n",
    "WHEN NOT MATCHED THEN INSERT (\n",
    "    hash_id,\n",
    "    calday,\n",
    "    do_number,     \n",
    "    dc_id,     \n",
    "    store_id,        \n",
    "    plan_gi_date,        \n",
    "    actual_gi_date,     \n",
    "    proc_date,\n",
    "    file_creation_ts\n",
    ")\n",
    "VALUES (\n",
    "    temp_tbl.hash_id,\n",
    "    temp_tbl.calday,\n",
    "    temp_tbl.do_number,\n",
    "    temp_tbl.dc_id,\n",
    "    temp_tbl.store_id,\n",
    "    temp_tbl.plan_gi_date,\n",
    "    temp_tbl.actual_gi_date,\n",
    "    temp_tbl.proc_date,\n",
    "    temp_tbl.file_creation_ts\n",
    ")\n",
    "\"\"\")"
   ]
  }
 ],
 "metadata": {
  "application/vnd.databricks.v1+notebook": {
   "computePreferences": null,
   "dashboards": [],
   "environmentMetadata": {
    "base_environment": "",
    "environment_version": "2"
   },
   "inputWidgetPreferences": null,
   "language": "python",
   "notebookMetadata": {
    "mostRecentlyExecutedCommandWithImplicitDF": {
     "commandId": 5018199432984479,
     "dataframes": [
      "_sqldf"
     ]
    },
    "pythonIndentUnit": 4
   },
   "notebookName": "sap_vccsddl51",
   "widgets": {
    "environment": {
     "currentValue": "DEV",
     "nuid": "220101f8-a038-42c4-8b9c-f879710f084e",
     "typedWidgetInfo": {
      "autoCreated": false,
      "defaultValue": "",
      "label": "",
      "name": "environment",
      "options": {
       "widgetDisplayType": "Text",
       "validationRegex": null
      },
      "parameterDataType": "String"
     },
     "widgetInfo": {
      "widgetType": "text",
      "defaultValue": "",
      "label": "",
      "name": "environment",
      "options": {
       "widgetType": "text",
       "autoCreated": null,
       "validationRegex": null
      }
     }
    },
    "proc_date": {
     "currentValue": "2025-07-15",
     "nuid": "ff623fbe-9c6b-45d7-86cb-05d4e92a8504",
     "typedWidgetInfo": {
      "autoCreated": false,
      "defaultValue": "",
      "label": null,
      "name": "proc_date",
      "options": {
       "widgetDisplayType": "Text",
       "validationRegex": null
      },
      "parameterDataType": "String"
     },
     "widgetInfo": {
      "widgetType": "text",
      "defaultValue": "",
      "label": null,
      "name": "proc_date",
      "options": {
       "widgetType": "text",
       "autoCreated": null,
       "validationRegex": null
      }
     }
    }
   }
  },
  "language_info": {
   "name": "python"
  }
 },
 "nbformat": 4,
 "nbformat_minor": 0
}
