{
 "cells": [
  {
   "cell_type": "code",
   "execution_count": 0,
   "metadata": {
    "application/vnd.databricks.v1+cell": {
     "cellMetadata": {
      "byteLimit": 2048000,
      "rowLimit": 10000
     },
     "inputWidgets": {},
     "nuid": "729b9ecd-5def-4e0c-a8d0-2bb117c6bb00",
     "showTitle": false,
     "tableResultSettingsMap": {},
     "title": ""
    }
   },
   "outputs": [],
   "source": [
    "dbutils.widgets.text(\"proc_date\", \"\")\n",
    "proc_date = dbutils.widgets.get(\"proc_date\")"
   ]
  },
  {
   "cell_type": "code",
   "execution_count": 0,
   "metadata": {
    "application/vnd.databricks.v1+cell": {
     "cellMetadata": {
      "byteLimit": 2048000,
      "rowLimit": 10000
     },
     "inputWidgets": {},
     "nuid": "2d3f794f-67e9-4c61-a08e-80e299a6d1f4",
     "showTitle": false,
     "tableResultSettingsMap": {},
     "title": ""
    }
   },
   "outputs": [],
   "source": [
    "%run ../../../utils/common"
   ]
  },
  {
   "cell_type": "code",
   "execution_count": 0,
   "metadata": {
    "application/vnd.databricks.v1+cell": {
     "cellMetadata": {
      "byteLimit": 2048000,
      "rowLimit": 10000
     },
     "inputWidgets": {},
     "nuid": "2cff57a0-72df-4edb-b205-0df168965547",
     "showTitle": false,
     "tableResultSettingsMap": {},
     "title": ""
    }
   },
   "outputs": [],
   "source": [
    "dbutils.widgets.text(\"environment\", \"\", \"\")\n",
    "environment = dbutils.widgets.get(\"environment\")"
   ]
  },
  {
   "cell_type": "code",
   "execution_count": 0,
   "metadata": {
    "application/vnd.databricks.v1+cell": {
     "cellMetadata": {
      "byteLimit": 2048000,
      "rowLimit": 10000
     },
     "inputWidgets": {},
     "nuid": "297c7dfc-6462-4f3e-b78c-6b92dbd16a1a",
     "showTitle": false,
     "tableResultSettingsMap": {},
     "title": ""
    }
   },
   "outputs": [],
   "source": [
    "catalog_name = settings[environment]['catalog_name']"
   ]
  },
  {
   "cell_type": "code",
   "execution_count": 0,
   "metadata": {
    "application/vnd.databricks.v1+cell": {
     "cellMetadata": {},
     "inputWidgets": {},
     "nuid": "da716b7c-9f4a-4ca3-b604-ddf0e9ce701a",
     "showTitle": false,
     "tableResultSettingsMap": {},
     "title": ""
    }
   },
   "outputs": [],
   "source": [
    "create_temp_view_with_clean_columns(\n",
    "    spark,\n",
    "    catalog_name,\n",
    "    'udp_wcm_bronze_sap_bw',\n",
    "    'sap_bw_wcm_prpa_mean',\n",
    "    proc_date,\n",
    "    'temp_prpa_mean'\n",
    ")"
   ]
  },
  {
   "cell_type": "code",
   "execution_count": 0,
   "metadata": {
    "application/vnd.databricks.v1+cell": {
     "cellMetadata": {
      "byteLimit": 2048000,
      "rowLimit": 10000
     },
     "inputWidgets": {},
     "nuid": "04d820f0-b6f3-404f-9297-2f516f5419ef",
     "showTitle": false,
     "tableResultSettingsMap": {},
     "title": ""
    }
   },
   "outputs": [],
   "source": [
    "spark.sql(f\"\"\" CREATE TABLE IF NOT EXISTS {catalog_name}.udp_wcm_silver_sap_bw.sap_prpa_mean\n",
    "(\n",
    "  hash_id BIGINT,\n",
    "  rpa_lfnum STRING,\n",
    "  rpa_disqu STRING,\n",
    "  rpa_mean STRING,\n",
    "  eanupc STRING,\n",
    "  ean_numtyp STRING,\n",
    "  rpa_hpean STRING,\n",
    "  proc_date DATE,\n",
    "  start_date DATE,\n",
    "  end_date DATE,\n",
    "  file_creation_ts TIMESTAMP\n",
    ")\n",
    "TBLPROPERTIES (\n",
    "  'delta.autoOptimize.optimizeWrite' = 'true',\n",
    "  'delta.autoOptimize.autoCompact' = 'true'\n",
    ")\"\"\")"
   ]
  },
  {
   "cell_type": "code",
   "execution_count": 0,
   "metadata": {
    "application/vnd.databricks.v1+cell": {
     "cellMetadata": {
      "byteLimit": 2048000,
      "rowLimit": 10000
     },
     "inputWidgets": {},
     "nuid": "c18b677f-bdda-4be6-8601-f1e94dd2e2db",
     "showTitle": false,
     "tableResultSettingsMap": {},
     "title": ""
    }
   },
   "outputs": [],
   "source": [
    "spark.sql(f\"\"\"\n",
    "CREATE OR REPLACE TEMP VIEW sap_prpa_mean\n",
    "AS\n",
    "WITH temp AS (\n",
    "SELECT * EXCEPT(rn) FROM (\n",
    "    SELECT *, ROW_NUMBER() OVER (PARTITION BY rpa_lfnum, rpa_disqu, rpa_mean, DATE(proc_date) ORDER BY proc_date) rn FROM (\n",
    "        SELECT \n",
    "                CASE WHEN rpa_lfnum = '' THEN NULL ELSE rpa_lfnum END AS rpa_lfnum,\n",
    "                CASE WHEN rpa_disqu = '' THEN NULL ELSE rpa_disqu END AS rpa_disqu,\n",
    "                CASE WHEN rpa_mean = '' THEN NULL ELSE rpa_mean END AS rpa_mean,\n",
    "                CASE WHEN eanupc = '' THEN NULL ELSE eanupc END AS eanupc,\n",
    "                CASE WHEN ean_numtyp = '' THEN NULL ELSE ean_numtyp END AS ean_numtyp,\n",
    "                CASE WHEN rpa_hpean = '' THEN NULL ELSE rpa_hpean END AS rpa_hpean,\n",
    "                proc_date,\n",
    "                file_creation_ts,\n",
    "                objvers,\n",
    "                changed\n",
    "        FROM temp_prpa_mean\n",
    "        WHERE objvers = 'A'\n",
    "            AND rpa_lfnum IS NOT NULL \n",
    "            AND rpa_disqu IS NOT NULL \n",
    "            AND rpa_mean IS NOT NULL\n",
    "        ) a\n",
    "    ) a WHERE rn = 1\n",
    "),\n",
    "main AS (\n",
    "    SELECT \n",
    "        farm_fingerprint(\n",
    "            CONCAT(\n",
    "                    IFNULL(CAST(rpa_lfnum AS STRING), \"\"), \n",
    "                    IFNULL(CAST(rpa_disqu AS STRING), \"\"), \n",
    "                    IFNULL(CAST(rpa_mean AS STRING), \"\"), \n",
    "                    IFNULL(CAST(eanupc AS STRING), \"\"), \n",
    "                    IFNULL(CAST(ean_numtyp AS STRING), \"\"), \n",
    "                    IFNULL(CAST(rpa_hpean AS STRING), \"\")\n",
    "            )\n",
    "        ) hash_id,\n",
    "        *, DATE(proc_date) start_date \n",
    "    FROM temp\n",
    "),\n",
    "main_2 AS (\n",
    "    SELECT *, \n",
    "        LAG(hash_id,1) OVER (PARTITION BY rpa_lfnum, rpa_disqu, rpa_mean ORDER BY proc_date) hash_id_prev \n",
    "    FROM main\n",
    "),\n",
    "main_3 AS (\n",
    "    SELECT * EXCEPT(hash_id_prev) \n",
    "    FROM main_2 \n",
    "    WHERE (hash_id != hash_id_prev OR hash_id_prev IS NULL)\n",
    "),\n",
    "main_4 AS (\n",
    "    SELECT *, \n",
    "        LEAD(DATE(proc_date)) OVER (PARTITION BY rpa_lfnum, rpa_disqu, rpa_mean ORDER BY proc_date ASC) end_date \n",
    "    FROM main_3\n",
    ")\n",
    "SELECT \n",
    "* EXCEPT(end_date)\n",
    "    ,IFNULL(DATE_ADD(end_date,-1), '2400-01-01') end_date\n",
    "\n",
    "FROM main_4;\n",
    "\"\"\")"
   ]
  },
  {
   "cell_type": "code",
   "execution_count": 0,
   "metadata": {
    "application/vnd.databricks.v1+cell": {
     "cellMetadata": {
      "byteLimit": 2048000,
      "rowLimit": 10000
     },
     "inputWidgets": {},
     "nuid": "f51a6e2e-34f4-4a2c-a93d-9a59c51a8f6a",
     "showTitle": false,
     "tableResultSettingsMap": {},
     "title": ""
    }
   },
   "outputs": [],
   "source": [
    "spark.sql(f\"\"\" \n",
    "MERGE INTO {catalog_name}.udp_wcm_silver_sap_bw.sap_prpa_mean inf_tbl\n",
    "USING (\n",
    "    SELECT \n",
    "        rpa_lfnum, \n",
    "        rpa_disqu, \n",
    "        rpa_mean,  \n",
    "        hash_id,\n",
    "        start_date \n",
    "    FROM sap_prpa_mean \n",
    "    WHERE end_date = DATE('2400-01-01') \n",
    ") tmp_tbl ON \n",
    "    inf_tbl.rpa_lfnum = tmp_tbl.rpa_lfnum \n",
    "    AND inf_tbl.rpa_disqu = tmp_tbl.rpa_disqu \n",
    "    AND inf_tbl.rpa_mean = tmp_tbl.rpa_mean \n",
    "    AND inf_tbl.hash_id != tmp_tbl.hash_id \n",
    "    AND inf_tbl.end_date = DATE('2400-01-01')\n",
    "WHEN MATCHED THEN UPDATE \n",
    "SET inf_tbl.end_date = DATE_ADD(tmp_tbl.start_date,-1);\n",
    "\"\"\")"
   ]
  },
  {
   "cell_type": "code",
   "execution_count": 0,
   "metadata": {
    "application/vnd.databricks.v1+cell": {
     "cellMetadata": {
      "byteLimit": 2048000,
      "rowLimit": 10000
     },
     "inputWidgets": {},
     "nuid": "a81d28d3-f142-4583-bb73-2d160b9538cb",
     "showTitle": false,
     "tableResultSettingsMap": {},
     "title": ""
    }
   },
   "outputs": [],
   "source": [
    "spark.sql(f\"\"\"\n",
    "MERGE INTO  {catalog_name}.udp_wcm_silver_sap_bw.sap_prpa_mean inf_tbl\n",
    "    USING sap_prpa_mean tmp_tbl\n",
    "    ON inf_tbl.hash_id = tmp_tbl.hash_id AND inf_tbl.end_date = DATE('2400-01-01')\n",
    "WHEN NOT MATCHED THEN INSERT *;\n",
    "\"\"\")"
   ]
  }
 ],
 "metadata": {
  "application/vnd.databricks.v1+notebook": {
   "computePreferences": null,
   "dashboards": [],
   "environmentMetadata": {
    "base_environment": "",
    "environment_version": "2"
   },
   "inputWidgetPreferences": null,
   "language": "python",
   "notebookMetadata": {
    "mostRecentlyExecutedCommandWithImplicitDF": {
     "commandId": 6673494183686647,
     "dataframes": [
      "_sqldf"
     ]
    },
    "pythonIndentUnit": 4
   },
   "notebookName": "sap_prpa_mean",
   "widgets": {
    "environment": {
     "currentValue": "DEV",
     "nuid": "bf94a958-43c1-4007-a9d8-a4bb06e419cc",
     "typedWidgetInfo": {
      "autoCreated": false,
      "defaultValue": "",
      "label": "",
      "name": "environment",
      "options": {
       "widgetDisplayType": "Text",
       "validationRegex": null
      },
      "parameterDataType": "String"
     },
     "widgetInfo": {
      "widgetType": "text",
      "defaultValue": "",
      "label": "",
      "name": "environment",
      "options": {
       "widgetType": "text",
       "autoCreated": null,
       "validationRegex": null
      }
     }
    },
    "proc_date": {
     "currentValue": "2025-07-17",
     "nuid": "dae37dde-89c5-46ee-a1ca-35d1e1c456bd",
     "typedWidgetInfo": {
      "autoCreated": false,
      "defaultValue": "",
      "label": null,
      "name": "proc_date",
      "options": {
       "widgetDisplayType": "Text",
       "validationRegex": null
      },
      "parameterDataType": "String"
     },
     "widgetInfo": {
      "widgetType": "text",
      "defaultValue": "",
      "label": null,
      "name": "proc_date",
      "options": {
       "widgetType": "text",
       "autoCreated": null,
       "validationRegex": null
      }
     }
    }
   }
  },
  "language_info": {
   "name": "python"
  }
 },
 "nbformat": 4,
 "nbformat_minor": 0
}
