{
 "cells": [
  {
   "cell_type": "code",
   "execution_count": 0,
   "metadata": {
    "application/vnd.databricks.v1+cell": {
     "cellMetadata": {},
     "inputWidgets": {},
     "nuid": "b9a3d6ab-0b10-4498-858c-1349d613eadb",
     "showTitle": false,
     "tableResultSettingsMap": {},
     "title": ""
    }
   },
   "outputs": [],
   "source": [
    "dbutils.widgets.text(\"proc_date\", \"\")\n",
    "proc_date = dbutils.widgets.get(\"proc_date\")"
   ]
  },
  {
   "cell_type": "code",
   "execution_count": 0,
   "metadata": {
    "application/vnd.databricks.v1+cell": {
     "cellMetadata": {
      "byteLimit": 2048000,
      "rowLimit": 10000
     },
     "inputWidgets": {},
     "nuid": "f1516188-b3c0-4155-8a0e-b302b24de45d",
     "showTitle": false,
     "tableResultSettingsMap": {},
     "title": ""
    }
   },
   "outputs": [],
   "source": [
    "%run ../../../utils/common"
   ]
  },
  {
   "cell_type": "code",
   "execution_count": 0,
   "metadata": {
    "application/vnd.databricks.v1+cell": {
     "cellMetadata": {
      "byteLimit": 2048000,
      "rowLimit": 10000
     },
     "inputWidgets": {},
     "nuid": "b97f7bb4-6da1-4a3c-be70-c1deb70cb7f3",
     "showTitle": false,
     "tableResultSettingsMap": {},
     "title": ""
    }
   },
   "outputs": [],
   "source": [
    "dbutils.widgets.text(\"environment\", \"\", \"\")\n",
    "environment = dbutils.widgets.get(\"environment\")"
   ]
  },
  {
   "cell_type": "code",
   "execution_count": 0,
   "metadata": {
    "application/vnd.databricks.v1+cell": {
     "cellMetadata": {
      "byteLimit": 2048000,
      "rowLimit": 10000
     },
     "inputWidgets": {},
     "nuid": "8f19c946-a685-4ddb-9cbc-7b0bcc5112c5",
     "showTitle": false,
     "tableResultSettingsMap": {},
     "title": ""
    }
   },
   "outputs": [],
   "source": [
    "catalog_name = settings[environment]['catalog_name']"
   ]
  },
  {
   "cell_type": "code",
   "execution_count": 0,
   "metadata": {
    "application/vnd.databricks.v1+cell": {
     "cellMetadata": {
      "byteLimit": 2048000,
      "rowLimit": 10000
     },
     "inputWidgets": {},
     "nuid": "1b2f751c-ba29-41f9-9df3-ee594c0888a5",
     "showTitle": false,
     "tableResultSettingsMap": {},
     "title": ""
    }
   },
   "outputs": [],
   "source": [
    "spark.sql(f\"\"\"\n",
    "CREATE TABLE IF NOT EXISTS {catalog_name}.udp_wcm_silver_sap_bw.sap_avccmdm332 (\n",
    "\thash_id BIGINT\n",
    "\t,bbynr STRING\n",
    "\t,prqnr STRING\n",
    "\t,matposnr STRING\n",
    "\t,recordmode STRING\n",
    "\t,prqtype STRING\n",
    "\t,grpgnr STRING\n",
    "\t,matnr STRING\n",
    "\t,matquan DOUBLE\n",
    "\t,matunit STRING\n",
    "\t,sumflag STRING\n",
    "\t,disctype STRING\n",
    "\t,prqval_min DOUBLE\n",
    "\t,prqcur STRING\n",
    "\t,stgrp STRING\n",
    "\t,proc_date DATE\n",
    "\t,start_date DATE\n",
    "\t,end_date DATE\n",
    "\t,file_creation_ts TIMESTAMP\n",
    "\t)\n",
    " TBLPROPERTIES \n",
    "(\n",
    "\tDELTA.AUTOOPTIMIZE.OPTIMIZEWRITE = TRUE,\n",
    "\tDELTA.AUTOOPTIMIZE.AUTOCOMPACT = TRUE\n",
    ")\n",
    " \"\"\")"
   ]
  },
  {
   "cell_type": "code",
   "execution_count": 0,
   "metadata": {
    "application/vnd.databricks.v1+cell": {
     "cellMetadata": {},
     "inputWidgets": {},
     "nuid": "6c8e3650-f139-419e-bb6a-f0534d6fce17",
     "showTitle": false,
     "tableResultSettingsMap": {},
     "title": ""
    }
   },
   "outputs": [],
   "source": [
    "create_temp_view_with_clean_columns(\n",
    "    spark,\n",
    "    catalog_name,\n",
    "    'udp_wcm_bronze_sap_bw',\n",
    "    'sap_bw_wcm_avccmdm332',\n",
    "    proc_date,\n",
    "    'temp_sap_avccmdm332'\n",
    ")"
   ]
  },
  {
   "cell_type": "code",
   "execution_count": 0,
   "metadata": {
    "application/vnd.databricks.v1+cell": {
     "cellMetadata": {
      "byteLimit": 2048000,
      "rowLimit": 10000
     },
     "inputWidgets": {},
     "nuid": "3a439580-52bf-4e6f-908a-5349178d8604",
     "showTitle": false,
     "tableResultSettingsMap": {},
     "title": ""
    }
   },
   "outputs": [],
   "source": [
    "spark.sql(f\"\"\"\n",
    "CREATE OR REPLACE TEMP VIEW sap_avccmdm332 AS\n",
    "WITH temp AS (\n",
    "  SELECT * EXCEPT(rn) FROM (\n",
    "    SELECT *, ROW_NUMBER() OVER (\n",
    "      PARTITION BY bbynr, prqnr, matposnr, DATE(proc_date)\n",
    "      ORDER BY proc_date\n",
    "    ) rn FROM (\n",
    "      SELECT \n",
    "        IF(bbynr = '', NULL, LTRIM('0',bbynr)) AS bbynr,\n",
    "        IF(prqnr = '', NULL, prqnr) AS prqnr,\n",
    "        IF(matposnr = '', NULL, matposnr) AS matposnr,\n",
    "        IF(recordmode = '', NULL, recordmode) AS recordmode,\n",
    "        IF(prqtype = '', NULL, prqtype) AS prqtype,\n",
    "        IF(grpgnr = '', NULL, grpgnr) AS grpgnr,\n",
    "        IF(matnr = '', NULL, LTRIM('0',matnr)) AS matnr,\n",
    "        COALESCE(NULLIF(CASE \n",
    "            WHEN ABS(matquan) < 1E-10 THEN '0'\n",
    "            WHEN matquan = CAST(matquan AS DECIMAL(38,0)) THEN CAST(CAST(matquan AS DECIMAL(38,0)) AS STRING) \n",
    "            ELSE CAST(matquan AS STRING) \n",
    "        END, 'None'), '') AS matquan,\n",
    "        IF(matunit = '', NULL, matunit) AS matunit,\n",
    "        IF(sumflag = '', NULL, sumflag) AS sumflag,\n",
    "        IF(disctype = '', NULL, disctype) AS disctype,\n",
    "        COALESCE(NULLIF(CASE \n",
    "            WHEN ABS(prqval_min) < 1E-10 THEN '0'\n",
    "            WHEN prqval_min = CAST(prqval_min AS DECIMAL(38,0)) THEN CAST(CAST(prqval_min AS DECIMAL(38,0)) AS STRING) \n",
    "            ELSE CAST(prqval_min AS STRING) \n",
    "        END, 'None'), '') AS prqval_min,\n",
    "        IF(prqcur = '', NULL, prqcur) AS prqcur,\n",
    "        IF(stgrp = '', NULL, stgrp) AS stgrp,\n",
    "        proc_date,\n",
    "        file_creation_ts\n",
    "      FROM temp_sap_avccmdm332\n",
    "    ) a\n",
    "  ) a WHERE rn = 1\n",
    "),\n",
    "main AS (\n",
    "  SELECT \n",
    "    farm_fingerprint(CONCAT(\n",
    "        COALESCE(NULLIF(REPLACE(LTRIM('0', CAST(bbynr AS STRING)), 'None', ''), ''), ''),\n",
    "        COALESCE(NULLIF(prqnr, 'None'), ''),\n",
    "        COALESCE(NULLIF(matposnr, 'None'), ''),\n",
    "        COALESCE(NULLIF(recordmode, 'None'), ''),\n",
    "        COALESCE(NULLIF(prqtype, 'None'), ''),\n",
    "        COALESCE(NULLIF(grpgnr, 'None'), ''),\n",
    "        COALESCE(NULLIF(LTRIM('0', CAST(matnr AS STRING)), 'None'), ''),\n",
    "        IFNULL(CASE WHEN CAST(matquan AS DOUBLE) = CAST(CAST(matquan AS DOUBLE) AS BIGINT) THEN CAST(CAST(matquan AS BIGINT) AS STRING) ELSE TRIM(TRAILING '0' FROM(CAST(matquan AS DECIMAL(38,10)))) END, \"\"),\n",
    "        COALESCE(NULLIF(matunit, 'None'), ''),\n",
    "        COALESCE(NULLIF(sumflag, 'None'), ''),\n",
    "        COALESCE(NULLIF(disctype, 'None'), ''),\n",
    "        IFNULL(CASE WHEN CAST(prqval_min AS DOUBLE) = CAST(CAST(prqval_min AS DOUBLE) AS BIGINT) THEN CAST(CAST(prqval_min AS BIGINT) AS STRING) ELSE TRIM(TRAILING '0' FROM(CAST(prqval_min AS DECIMAL(38,10)))) END, \"\"),\n",
    "        COALESCE(NULLIF(prqcur, 'None'), ''),\n",
    "        COALESCE(NULLIF(stgrp, 'None'), '')\n",
    "    )) AS hash_id,\n",
    "    *,\n",
    "    DATE(proc_date) AS start_date\n",
    "  FROM temp\n",
    "),\n",
    "main_2 AS (\n",
    "  SELECT *,\n",
    "    LAG(hash_id, 1) OVER (\n",
    "      PARTITION BY bbynr, prqnr, matposnr\n",
    "      ORDER BY proc_date\n",
    "    ) AS hash_id_prev\n",
    "  FROM main\n",
    "),\n",
    "main_3 AS (\n",
    "  SELECT * EXCEPT(hash_id_prev)\n",
    "  FROM main_2\n",
    "  WHERE (hash_id != hash_id_prev OR hash_id_prev IS NULL)\n",
    "),\n",
    "main_4 AS (\n",
    "  SELECT *,\n",
    "    LEAD(DATE(proc_date)) OVER (\n",
    "      PARTITION BY bbynr\n",
    "      ORDER BY proc_date ASC\n",
    "    ) AS end_date\n",
    "  FROM main_3\n",
    ")\n",
    "SELECT * EXCEPT(end_date),\n",
    "  IFNULL(DATE_ADD(end_date, -1), DATE('2400-01-01')) AS end_date\n",
    "FROM main_4\n",
    "\"\"\")"
   ]
  },
  {
   "cell_type": "code",
   "execution_count": 0,
   "metadata": {
    "application/vnd.databricks.v1+cell": {
     "cellMetadata": {
      "byteLimit": 2048000,
      "rowLimit": 10000
     },
     "inputWidgets": {},
     "nuid": "8069d12b-1cce-4e9f-897b-6720f7f9cf2d",
     "showTitle": false,
     "tableResultSettingsMap": {},
     "title": ""
    }
   },
   "outputs": [],
   "source": [
    "spark.sql(f\"\"\"\n",
    "MERGE INTO {catalog_name}.udp_wcm_silver_sap_bw.sap_avccmdm332 inf_tbl\n",
    "USING (\n",
    "    select bbynr, prqnr, matposnr, hash_id, start_date from sap_avccmdm332\n",
    "        where end_date = DATE '2400-01-01' \n",
    ") tmp_tbl\n",
    "ON inf_tbl.bbynr = tmp_tbl.bbynr \n",
    "AND inf_tbl.matposnr = tmp_tbl.matposnr \n",
    "AND inf_tbl.prqnr = tmp_tbl.prqnr \n",
    "AND inf_tbl.hash_id != tmp_tbl.hash_id \n",
    "AND inf_tbl.end_date = DATE '2400-01-01'\n",
    "WHEN MATCHED THEN UPDATE SET inf_tbl.end_date = date_add(tmp_tbl.start_date,-1);\n",
    "\"\"\")"
   ]
  },
  {
   "cell_type": "code",
   "execution_count": 0,
   "metadata": {
    "application/vnd.databricks.v1+cell": {
     "cellMetadata": {
      "byteLimit": 2048000,
      "rowLimit": 10000
     },
     "inputWidgets": {},
     "nuid": "8952901a-5ebe-41d7-94d8-ea7287ccf161",
     "showTitle": false,
     "tableResultSettingsMap": {},
     "title": ""
    }
   },
   "outputs": [],
   "source": [
    "columns = [col.name for col in spark.table(f\"{catalog_name}.udp_wcm_silver_sap_bw.sap_avccmdm332\").schema]\n",
    "\n",
    "spark.sql(f\"\"\"\n",
    "MERGE INTO {catalog_name}.udp_wcm_silver_sap_bw.sap_avccmdm332 inf_tbl\n",
    "USING sap_avccmdm332 tmp_tbl\n",
    "ON inf_tbl.hash_id = tmp_tbl.hash_id \n",
    "   AND inf_tbl.matposnr = tmp_tbl.matposnr \n",
    "   AND inf_tbl.prqnr = tmp_tbl.prqnr \n",
    "   AND inf_tbl.end_date = DATE '2400-01-01'\n",
    "WHEN NOT MATCHED THEN INSERT ({', '.join(columns)})\n",
    "VALUES ({', '.join([f'tmp_tbl.{col}' for col in columns])});\n",
    "\"\"\")\n"
   ]
  }
 ],
 "metadata": {
  "application/vnd.databricks.v1+notebook": {
   "computePreferences": null,
   "dashboards": [],
   "environmentMetadata": {
    "base_environment": "",
    "environment_version": "2"
   },
   "inputWidgetPreferences": null,
   "language": "python",
   "notebookMetadata": {
    "mostRecentlyExecutedCommandWithImplicitDF": {
     "commandId": 8416419470663171,
     "dataframes": [
      "_sqldf"
     ]
    },
    "pythonIndentUnit": 4
   },
   "notebookName": "sap_avccmdm332",
   "widgets": {
    "environment": {
     "currentValue": "DEV",
     "nuid": "08fb5dfc-de39-477b-80f0-ed7d09c299d1",
     "typedWidgetInfo": {
      "autoCreated": false,
      "defaultValue": "",
      "label": "",
      "name": "environment",
      "options": {
       "widgetDisplayType": "Text",
       "validationRegex": null
      },
      "parameterDataType": "String"
     },
     "widgetInfo": {
      "widgetType": "text",
      "defaultValue": "",
      "label": "",
      "name": "environment",
      "options": {
       "widgetType": "text",
       "autoCreated": null,
       "validationRegex": null
      }
     }
    },
    "proc_date": {
     "currentValue": "2025-06-01",
     "nuid": "2609441b-7b5a-475d-aedc-ff55a35a2a96",
     "typedWidgetInfo": {
      "autoCreated": false,
      "defaultValue": "",
      "label": null,
      "name": "proc_date",
      "options": {
       "widgetDisplayType": "Text",
       "validationRegex": null
      },
      "parameterDataType": "String"
     },
     "widgetInfo": {
      "widgetType": "text",
      "defaultValue": "",
      "label": null,
      "name": "proc_date",
      "options": {
       "widgetType": "text",
       "autoCreated": null,
       "validationRegex": null
      }
     }
    }
   }
  },
  "language_info": {
   "name": "python"
  }
 },
 "nbformat": 4,
 "nbformat_minor": 0
}
