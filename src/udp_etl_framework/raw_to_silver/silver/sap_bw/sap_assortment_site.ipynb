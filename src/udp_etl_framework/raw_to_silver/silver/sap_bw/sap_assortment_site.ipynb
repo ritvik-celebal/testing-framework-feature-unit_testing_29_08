{
 "cells": [
  {
   "cell_type": "code",
   "execution_count": 0,
   "metadata": {
    "application/vnd.databricks.v1+cell": {
     "cellMetadata": {
      "byteLimit": 2048000,
      "rowLimit": 10000
     },
     "inputWidgets": {},
     "nuid": "6ebd6658-7094-4095-a209-6c90d64588a1",
     "showTitle": false,
     "tableResultSettingsMap": {},
     "title": ""
    }
   },
   "outputs": [],
   "source": [
    "dbutils.widgets.text(\"proc_date\", \"\")\n",
    "proc_date = dbutils.widgets.get(\"proc_date\")"
   ]
  },
  {
   "cell_type": "code",
   "execution_count": 0,
   "metadata": {
    "application/vnd.databricks.v1+cell": {
     "cellMetadata": {
      "byteLimit": 2048000,
      "rowLimit": 10000
     },
     "inputWidgets": {},
     "nuid": "c61ce195-20cf-4ef9-9e27-8b51d826751d",
     "showTitle": false,
     "tableResultSettingsMap": {},
     "title": ""
    }
   },
   "outputs": [],
   "source": [
    "%run ../../../utils/common"
   ]
  },
  {
   "cell_type": "code",
   "execution_count": 0,
   "metadata": {
    "application/vnd.databricks.v1+cell": {
     "cellMetadata": {
      "byteLimit": 2048000,
      "rowLimit": 10000
     },
     "inputWidgets": {},
     "nuid": "e2692ff4-5ea0-43d3-b437-d27dfce37d03",
     "showTitle": false,
     "tableResultSettingsMap": {},
     "title": ""
    }
   },
   "outputs": [],
   "source": [
    "dbutils.widgets.text(\"environment\", \"\", \"\")\n",
    "environment = dbutils.widgets.get(\"environment\")"
   ]
  },
  {
   "cell_type": "code",
   "execution_count": 0,
   "metadata": {
    "application/vnd.databricks.v1+cell": {
     "cellMetadata": {
      "byteLimit": 2048000,
      "rowLimit": 10000
     },
     "inputWidgets": {},
     "nuid": "1ec54fc2-915d-405b-8c17-85351041387b",
     "showTitle": false,
     "tableResultSettingsMap": {},
     "title": ""
    }
   },
   "outputs": [],
   "source": [
    "catalog_name = settings[environment]['catalog_name']"
   ]
  },
  {
   "cell_type": "code",
   "execution_count": 0,
   "metadata": {
    "application/vnd.databricks.v1+cell": {
     "cellMetadata": {},
     "inputWidgets": {},
     "nuid": "ef43ff32-735d-4518-8d52-f2c4792e5a68",
     "showTitle": false,
     "tableResultSettingsMap": {},
     "title": ""
    }
   },
   "outputs": [],
   "source": [
    "create_temp_view_with_clean_columns(\n",
    "    spark,\n",
    "    catalog_name,\n",
    "    'udp_wcm_bronze_sap_bw',\n",
    "    'sap_bw_wcm_vcdmdmm09',\n",
    "    proc_date,\n",
    "    'temp_sap_assortment_site'\n",
    ")"
   ]
  },
  {
   "cell_type": "code",
   "execution_count": 0,
   "metadata": {
    "application/vnd.databricks.v1+cell": {
     "cellMetadata": {
      "byteLimit": 2048000,
      "rowLimit": 10000
     },
     "inputWidgets": {},
     "nuid": "dd6c4a68-4460-4dea-a29a-8ba77faa1410",
     "showTitle": false,
     "tableResultSettingsMap": {},
     "title": ""
    }
   },
   "outputs": [],
   "source": [
    "spark.sql(f\"\"\"\n",
    "CREATE TABLE IF NOT EXISTS {catalog_name}.udp_wcm_silver_sap_bw.sap_assortment_site \n",
    "(\t\n",
    "\thash_id BIGINT\n",
    "\t,assortment STRING\n",
    "\t,lfdnr STRING\n",
    "\t,site STRING\n",
    "\t,date_from DATE\n",
    "\t,date_to DATE\n",
    "\t,aedat DATE\n",
    "\t,proc_date DATE\n",
    "\t,file_creation_ts TIMESTAMP\n",
    "\t,start_date DATE\n",
    "\t,end_date DATE\n",
    "\t,is_delete INT\n",
    "\t)\n",
    "TBLPROPERTIES (\n",
    "  'DELTA.AUTOOPTIMIZE.OPTIMIZEWRITE' = 'TRUE',\n",
    "  'DELTA.AUTOOPTIMIZE.AUTOCOMPACT' = 'TRUE'\n",
    ")\n",
    " \"\"\")"
   ]
  },
  {
   "cell_type": "code",
   "execution_count": 0,
   "metadata": {
    "application/vnd.databricks.v1+cell": {
     "cellMetadata": {
      "byteLimit": 2048000,
      "rowLimit": 10000
     },
     "inputWidgets": {},
     "nuid": "9f3b05a3-76d7-404b-9324-6d2fc7838b1d",
     "showTitle": false,
     "tableResultSettingsMap": {},
     "title": ""
    }
   },
   "outputs": [],
   "source": [
    "spark.sql(f\"\"\"\n",
    "    CREATE OR REPLACE TEMP VIEW sap_assortment_site\n",
    "    AS\n",
    "    WITH temp AS (\n",
    "    SELECT * EXCEPT(rn) FROM (\n",
    "        SELECT *, ROW_NUMBER() OVER (PARTITION BY assortment, site, date_from, date_to ,DATE(proc_date) ORDER BY proc_date) rn FROM (\n",
    "            SELECT LTRIM('0',asort) AS assortment\n",
    "            ,LTRIM('0',lfdnr) AS lfdnr\n",
    "            ,LTRIM('0',locnr) AS site\n",
    "            ,TO_DATE(datab, 'yyyyMMdd') AS date_from\n",
    "            ,TO_DATE(datbi, 'yyyyMMdd') AS date_to\n",
    "            ,TO_DATE(aedat, 'yyyyMMdd') AS aedat\n",
    "            ,proc_date\n",
    "            ,file_creation_ts\n",
    "            FROM temp_sap_assortment_site ) a\n",
    "        ) WHERE rn = 1\n",
    "    ) \n",
    "    ,main AS (\n",
    "    SELECT farm_fingerprint(CONCAT(\n",
    "                COALESCE(CAST(assortment AS STRING), \"\"),\n",
    "                COALESCE(CAST(lfdnr AS STRING), \"\"),\n",
    "                COALESCE(CAST(site AS STRING), \"\"),\n",
    "                COALESCE(CAST(date_from AS STRING), \"\"),\n",
    "                COALESCE(CAST(date_to AS STRING), \"\")\n",
    "            )) hash_id,*, DATE(proc_date) start_date FROM temp\n",
    "    ),\n",
    "    main_2 AS (\n",
    "        SELECT *\n",
    "        , LAG(hash_id,1) OVER (PARTITION BY assortment, site, date_from, date_to ORDER BY proc_date) hash_id_prev\n",
    "            FROM main\n",
    "    ),\n",
    "    main_3 AS (\n",
    "        SELECT * EXCEPT(hash_id_prev) FROM main_2 WHERE (hash_id != hash_id_prev OR hash_id_prev IS NULL)\n",
    "    ),\n",
    "    main_4 AS (\n",
    "        SELECT *\n",
    "        , LEAD(DATE(proc_date)) OVER (PARTITION BY assortment, site, date_from, date_to ORDER BY proc_date ASC) end_date\n",
    "        , MAX(aedat) OVER (PARTITION BY assortment, site) max_aedat FROM main_3\n",
    "    )\n",
    "    SELECT \n",
    "    * EXCEPT(end_date, max_aedat)\n",
    "    , COALESCE(DATE_ADD(end_date,-1)\n",
    "    ,CASE WHEN max_aedat = aedat THEN '2400-01-01' ELSE TO_DATE(proc_date) END) AS end_date\n",
    "    ,CASE WHEN max_aedat = aedat THEN 0 ELSE 1 END AS is_delete FROM main_4\n",
    "    \"\"\")"
   ]
  },
  {
   "cell_type": "code",
   "execution_count": 0,
   "metadata": {
    "application/vnd.databricks.v1+cell": {
     "cellMetadata": {
      "byteLimit": 2048000,
      "rowLimit": 10000
     },
     "inputWidgets": {},
     "nuid": "725141bf-1862-4444-8577-9b64c51b4169",
     "showTitle": false,
     "tableResultSettingsMap": {},
     "title": ""
    }
   },
   "outputs": [],
   "source": [
    "spark.sql(f\"\"\"\n",
    "    UPDATE {catalog_name}.udp_wcm_silver_sap_bw.sap_assortment_site\n",
    "    SET is_delete = 1,\n",
    "        proc_date = DATE_FROM_UNIX_DATE({proc_date}),\n",
    "        end_date = DATE_FROM_UNIX_DATE({proc_date})\n",
    "    WHERE assortment || '_' || site NOT IN (\n",
    "        SELECT assortment || '_' || site FROM sap_assortment_site\n",
    "    ) AND is_delete = 0;\n",
    "\"\"\")"
   ]
  },
  {
   "cell_type": "code",
   "execution_count": 0,
   "metadata": {
    "application/vnd.databricks.v1+cell": {
     "cellMetadata": {
      "byteLimit": 2048000,
      "rowLimit": 10000
     },
     "inputWidgets": {},
     "nuid": "fcb2c915-ede4-419e-ad2f-eae388e85cd2",
     "showTitle": false,
     "tableResultSettingsMap": {},
     "title": ""
    }
   },
   "outputs": [],
   "source": [
    "spark.sql(f\"\"\"\n",
    "    MERGE INTO {catalog_name}.udp_wcm_silver_sap_bw.sap_assortment_site inf_tbl\n",
    "    USING (\n",
    "        SELECT assortment , lfdnr, site, date_from, date_to, hash_id, start_date \n",
    "        FROM sap_assortment_site\n",
    "        WHERE end_date = DATE '2400-01-01'\n",
    "    ) tmp_tbl\n",
    "    ON inf_tbl.assortment = tmp_tbl.assortment\n",
    "    AND  inf_tbl.lfdnr = tmp_tbl.lfdnr\n",
    "    AND inf_tbl.site = tmp_tbl.site\n",
    "    AND inf_tbl.date_from = tmp_tbl.date_from \n",
    "    AND inf_tbl.date_to = tmp_tbl.date_to \n",
    "    AND inf_tbl.hash_id != tmp_tbl.hash_id \n",
    "    AND inf_tbl.end_date = DATE '2400-01-01'\n",
    "    WHEN MATCHED THEN \n",
    "    UPDATE SET inf_tbl.end_date = DATE_ADD(tmp_tbl.start_date, -1), is_delete = 0;\n",
    "\"\"\")"
   ]
  },
  {
   "cell_type": "code",
   "execution_count": 0,
   "metadata": {
    "application/vnd.databricks.v1+cell": {
     "cellMetadata": {
      "byteLimit": 2048000,
      "rowLimit": 10000
     },
     "inputWidgets": {},
     "nuid": "05dc381b-d08d-471a-b538-d0b62aaf765a",
     "showTitle": false,
     "tableResultSettingsMap": {},
     "title": ""
    }
   },
   "outputs": [],
   "source": [
    "spark.sql(f\"\"\"\n",
    "    MERGE INTO {catalog_name}.udp_wcm_silver_sap_bw.sap_assortment_site inf_tbl\n",
    "    USING sap_assortment_site tmp_tbl\n",
    "    ON inf_tbl.hash_id = tmp_tbl.hash_id\n",
    "    AND inf_tbl.end_date = DATE '2400-01-01'\n",
    "    WHEN NOT MATCHED THEN \n",
    "    INSERT *;\n",
    "\"\"\")"
   ]
  }
 ],
 "metadata": {
  "application/vnd.databricks.v1+notebook": {
   "computePreferences": null,
   "dashboards": [],
   "environmentMetadata": {
    "base_environment": "",
    "environment_version": "2"
   },
   "inputWidgetPreferences": null,
   "language": "python",
   "notebookMetadata": {
    "mostRecentlyExecutedCommandWithImplicitDF": {
     "commandId": 8416419470663152,
     "dataframes": [
      "_sqldf"
     ]
    },
    "pythonIndentUnit": 4
   },
   "notebookName": "sap_assortment_site",
   "widgets": {
    "environment": {
     "currentValue": "DEV",
     "nuid": "b86d1834-1e79-4268-b9cb-ea21cb55e4df",
     "typedWidgetInfo": {
      "autoCreated": false,
      "defaultValue": "",
      "label": "",
      "name": "environment",
      "options": {
       "widgetDisplayType": "Text",
       "validationRegex": null
      },
      "parameterDataType": "String"
     },
     "widgetInfo": {
      "widgetType": "text",
      "defaultValue": "",
      "label": "",
      "name": "environment",
      "options": {
       "widgetType": "text",
       "autoCreated": null,
       "validationRegex": null
      }
     }
    },
    "proc_date": {
     "currentValue": "2025-07-20",
     "nuid": "4dfcb97b-ca16-40d9-934b-d85e790df020",
     "typedWidgetInfo": {
      "autoCreated": false,
      "defaultValue": "",
      "label": null,
      "name": "proc_date",
      "options": {
       "widgetDisplayType": "Text",
       "validationRegex": null
      },
      "parameterDataType": "String"
     },
     "widgetInfo": {
      "widgetType": "text",
      "defaultValue": "",
      "label": null,
      "name": "proc_date",
      "options": {
       "widgetType": "text",
       "autoCreated": null,
       "validationRegex": null
      }
     }
    }
   }
  },
  "language_info": {
   "name": "python"
  }
 },
 "nbformat": 4,
 "nbformat_minor": 0
}
