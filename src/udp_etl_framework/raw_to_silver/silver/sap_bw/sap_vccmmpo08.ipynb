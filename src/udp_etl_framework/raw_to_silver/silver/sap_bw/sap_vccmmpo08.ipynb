{
 "cells": [
  {
   "cell_type": "code",
   "execution_count": 0,
   "metadata": {
    "application/vnd.databricks.v1+cell": {
     "cellMetadata": {
      "byteLimit": 2048000,
      "rowLimit": 10000
     },
     "inputWidgets": {},
     "nuid": "88481b26-7cae-46d4-972e-2fea0f351cb4",
     "showTitle": false,
     "tableResultSettingsMap": {},
     "title": ""
    }
   },
   "outputs": [],
   "source": [
    "dbutils.widgets.text(\"proc_date\", \"\")\n",
    "proc_date = dbutils.widgets.get(\"proc_date\")"
   ]
  },
  {
   "cell_type": "code",
   "execution_count": 0,
   "metadata": {
    "application/vnd.databricks.v1+cell": {
     "cellMetadata": {
      "byteLimit": 2048000,
      "rowLimit": 10000
     },
     "inputWidgets": {},
     "nuid": "d8fc62e6-ec65-48c1-8b3e-f65353a27e75",
     "showTitle": false,
     "tableResultSettingsMap": {},
     "title": ""
    }
   },
   "outputs": [],
   "source": [
    "%run ../../../utils/common"
   ]
  },
  {
   "cell_type": "code",
   "execution_count": 0,
   "metadata": {
    "application/vnd.databricks.v1+cell": {
     "cellMetadata": {
      "byteLimit": 2048000,
      "rowLimit": 10000
     },
     "inputWidgets": {},
     "nuid": "46e27720-f99d-4f84-802a-d17c86e9fda6",
     "showTitle": false,
     "tableResultSettingsMap": {},
     "title": ""
    }
   },
   "outputs": [],
   "source": [
    "dbutils.widgets.text(\"environment\", \"\", \"\")\n",
    "environment = dbutils.widgets.get(\"environment\")"
   ]
  },
  {
   "cell_type": "code",
   "execution_count": 0,
   "metadata": {
    "application/vnd.databricks.v1+cell": {
     "cellMetadata": {
      "byteLimit": 2048000,
      "rowLimit": 10000
     },
     "inputWidgets": {},
     "nuid": "588a6fae-991a-4dd6-9758-62028d99fe73",
     "showTitle": false,
     "tableResultSettingsMap": {},
     "title": ""
    }
   },
   "outputs": [],
   "source": [
    "catalog_name = settings[environment]['catalog_name']"
   ]
  },
  {
   "cell_type": "code",
   "execution_count": 0,
   "metadata": {
    "application/vnd.databricks.v1+cell": {
     "cellMetadata": {},
     "inputWidgets": {},
     "nuid": "7b4dcf65-8098-49c2-8626-47d66b339021",
     "showTitle": false,
     "tableResultSettingsMap": {},
     "title": ""
    }
   },
   "outputs": [],
   "source": [
    "create_temp_view_with_clean_columns(\n",
    "    spark,\n",
    "    catalog_name,\n",
    "    'udp_wcm_bronze_sap_bw',\n",
    "    'sap_bw_wcm_vccmmpo08',\n",
    "    proc_date,\n",
    "    'temp_sap_vccmmpo08'\n",
    ")"
   ]
  },
  {
   "cell_type": "code",
   "execution_count": 0,
   "metadata": {
    "application/vnd.databricks.v1+cell": {
     "cellMetadata": {
      "byteLimit": 2048000,
      "rowLimit": 10000
     },
     "inputWidgets": {},
     "nuid": "17e999d4-7ece-4e59-827c-c9f7d2441324",
     "showTitle": false,
     "tableResultSettingsMap": {},
     "title": ""
    }
   },
   "outputs": [],
   "source": [
    "spark.sql(f\"\"\"\n",
    "CREATE TABLE IF NOT EXISTS {catalog_name}.udp_wcm_silver_sap_bw.sap_vccmmpo08\n",
    "( \n",
    "  hash_id BIGINT,\n",
    "  recordmode STRING,\n",
    "  rocancel STRING,\n",
    "  ebeln STRING,\n",
    "  ebelp INT,\n",
    "  abeln STRING,\n",
    "  abelp INT,\n",
    "  aurel INT,\n",
    "  proc_date DATE,\n",
    "  file_creation_ts TIMESTAMP\n",
    ")\n",
    "TBLPROPERTIES (\n",
    "  'DELTA.AUTOOPTIMIZE.OPTIMIZEWRITE' = 'true',\n",
    "  'DELTA.AUTOOPTIMIZE.AUTOCOMPACT' = 'true'\n",
    ")\n",
    "\"\"\")"
   ]
  },
  {
   "cell_type": "code",
   "execution_count": 0,
   "metadata": {
    "application/vnd.databricks.v1+cell": {
     "cellMetadata": {
      "byteLimit": 2048000,
      "rowLimit": 10000
     },
     "inputWidgets": {},
     "nuid": "0dcbe65d-3631-4672-9828-3215b63d8a8d",
     "showTitle": false,
     "tableResultSettingsMap": {},
     "title": ""
    }
   },
   "outputs": [],
   "source": [
    "spark.sql(\n",
    "    \"\"\"CREATE OR REPLACE TEMP VIEW sap_vccmpo08 AS\n",
    "    WITH dat AS (\n",
    "        SELECT  CASE WHEN recordmode ='' THEN NULL ELSE recordmode END AS recordmode,\t\n",
    "                CASE WHEN rocancel ='' THEN NULL ELSE rocancel END AS rocancel,\n",
    "                CASE WHEN ebeln='' THEN NULL ELSE ebeln END AS ebeln,\n",
    "                TRY_CAST(LTRIM('0',ebelp) AS INTEGER) AS ebelp,\t\n",
    "                CASE WHEN abeln='' THEN NULL ELSE LTRIM('0',abeln) END AS abeln,\t\n",
    "                TRY_CAST(LTRIM('0',abelp) AS INTEGER) AS abelp,\t\n",
    "                TRY_CAST(LTRIM('0',aurel) AS INTEGER) AS aurel,\t\n",
    "                proc_date,\n",
    "                file_creation_ts\n",
    "        FROM    (\n",
    "                    SELECT * EXCEPT(rn) FROM (\n",
    "                        SELECT *, ROW_NUMBER() OVER (PARTITION BY reqtsn, datapakid, record ORDER BY proc_date DESC) rn FROM temp_sap_vccmmpo08  \n",
    "                    ) a WHERE rn = 1 \n",
    "                ) a\n",
    "    )\n",
    "    SELECT \n",
    "        FARM_FINGERPRINT(CONCAT(\n",
    "                coalesce(CAST(recordmode AS STRING), \"\"), \n",
    "                coalesce(CAST(rocancel AS STRING), \"\"),\n",
    "                coalesce(CAST(ebeln AS STRING), \"\"),\n",
    "                coalesce(CAST(ebelp AS STRING), \"\"),\n",
    "                coalesce(CAST(abeln AS STRING), \"\"),\n",
    "                coalesce(CAST(abelp AS STRING), \"\"),\n",
    "                coalesce(CAST(aurel AS STRING), \"\")\n",
    "            )) AS hash_id,\n",
    "        *\n",
    "    FROM dat\n",
    ";\n",
    "\"\"\"\n",
    ")"
   ]
  },
  {
   "cell_type": "code",
   "execution_count": 0,
   "metadata": {
    "application/vnd.databricks.v1+cell": {
     "cellMetadata": {
      "byteLimit": 2048000,
      "rowLimit": 10000
     },
     "inputWidgets": {},
     "nuid": "b4b322cb-5b85-4321-9e34-0c3a7fa647aa",
     "showTitle": false,
     "tableResultSettingsMap": {},
     "title": ""
    }
   },
   "outputs": [],
   "source": [
    "spark.sql(f\"\"\"\n",
    "MERGE INTO {catalog_name}.udp_wcm_silver_sap_bw.sap_vccmmpo08 main_tbl\n",
    "USING sap_vccmpo08 temp_tbl\n",
    "ON main_tbl.hash_id = temp_tbl.hash_id\n",
    "WHEN NOT MATCHED THEN INSERT *;\n",
    "\"\"\")"
   ]
  }
 ],
 "metadata": {
  "application/vnd.databricks.v1+notebook": {
   "computePreferences": null,
   "dashboards": [],
   "environmentMetadata": {
    "base_environment": "",
    "environment_version": "2"
   },
   "inputWidgetPreferences": null,
   "language": "python",
   "notebookMetadata": {
    "mostRecentlyExecutedCommandWithImplicitDF": {
     "commandId": 8416419470665583,
     "dataframes": [
      "_sqldf"
     ]
    },
    "pythonIndentUnit": 4
   },
   "notebookName": "sap_vccmmpo08",
   "widgets": {
    "environment": {
     "currentValue": "DEV",
     "nuid": "ace018e8-f1ff-4f3a-b37a-0bf3364b4e4e",
     "typedWidgetInfo": {
      "autoCreated": false,
      "defaultValue": "",
      "label": "",
      "name": "environment",
      "options": {
       "widgetDisplayType": "Text",
       "validationRegex": null
      },
      "parameterDataType": "String"
     },
     "widgetInfo": {
      "widgetType": "text",
      "defaultValue": "",
      "label": "",
      "name": "environment",
      "options": {
       "widgetType": "text",
       "autoCreated": null,
       "validationRegex": null
      }
     }
    },
    "proc_date": {
     "currentValue": "2025-07-17",
     "nuid": "83b9830a-cd2e-4dbd-afad-2722f6e22f0b",
     "typedWidgetInfo": {
      "autoCreated": false,
      "defaultValue": "",
      "label": null,
      "name": "proc_date",
      "options": {
       "widgetDisplayType": "Text",
       "validationRegex": null
      },
      "parameterDataType": "String"
     },
     "widgetInfo": {
      "widgetType": "text",
      "defaultValue": "",
      "label": null,
      "name": "proc_date",
      "options": {
       "widgetType": "text",
       "autoCreated": null,
       "validationRegex": null
      }
     }
    }
   }
  },
  "language_info": {
   "name": "python"
  }
 },
 "nbformat": 4,
 "nbformat_minor": 0
}
