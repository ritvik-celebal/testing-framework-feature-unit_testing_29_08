{
 "cells": [
  {
   "cell_type": "code",
   "execution_count": 0,
   "metadata": {
    "application/vnd.databricks.v1+cell": {
     "cellMetadata": {},
     "inputWidgets": {},
     "nuid": "0d4ab39f-0127-404d-87e7-886a12e29df3",
     "showTitle": false,
     "tableResultSettingsMap": {},
     "title": ""
    }
   },
   "outputs": [],
   "source": [
    "dbutils.widgets.text(\"proc_date\", \"\")\n",
    "proc_date = dbutils.widgets.get(\"proc_date\")"
   ]
  },
  {
   "cell_type": "code",
   "execution_count": 0,
   "metadata": {
    "application/vnd.databricks.v1+cell": {
     "cellMetadata": {
      "byteLimit": 2048000,
      "rowLimit": 10000
     },
     "inputWidgets": {},
     "nuid": "c61ce195-20cf-4ef9-9e27-8b51d826751d",
     "showTitle": false,
     "tableResultSettingsMap": {},
     "title": ""
    }
   },
   "outputs": [],
   "source": [
    "%run ../../../utils/common"
   ]
  },
  {
   "cell_type": "code",
   "execution_count": 0,
   "metadata": {
    "application/vnd.databricks.v1+cell": {
     "cellMetadata": {
      "byteLimit": 2048000,
      "rowLimit": 10000
     },
     "inputWidgets": {},
     "nuid": "6c0eab74-cb16-48c4-835a-15e05fcee35c",
     "showTitle": false,
     "tableResultSettingsMap": {},
     "title": ""
    }
   },
   "outputs": [],
   "source": [
    "dbutils.widgets.text(\"environment\", \"\", \"\")\n",
    "environment = dbutils.widgets.get(\"environment\")"
   ]
  },
  {
   "cell_type": "code",
   "execution_count": 0,
   "metadata": {
    "application/vnd.databricks.v1+cell": {
     "cellMetadata": {
      "byteLimit": 2048000,
      "rowLimit": 10000
     },
     "inputWidgets": {},
     "nuid": "1ec54fc2-915d-405b-8c17-85351041387b",
     "showTitle": false,
     "tableResultSettingsMap": {},
     "title": ""
    }
   },
   "outputs": [],
   "source": [
    "catalog_name = settings[environment]['catalog_name']"
   ]
  },
  {
   "cell_type": "code",
   "execution_count": 0,
   "metadata": {
    "application/vnd.databricks.v1+cell": {
     "cellMetadata": {
      "byteLimit": 2048000,
      "rowLimit": 10000
     },
     "inputWidgets": {},
     "nuid": "cbc98789-bd48-4672-ba5c-1018ff72207f",
     "showTitle": false,
     "tableResultSettingsMap": {},
     "title": ""
    }
   },
   "outputs": [],
   "source": [
    "spark.sql(f\"\"\"\n",
    "CREATE TABLE IF NOT EXISTS {catalog_name}.udp_wcm_silver_sap_bw.sap_vccmdm36 (\n",
    "\thash_id BIGINT,\n",
    "  recordmode STRING,\n",
    "  knumh STRING,\n",
    "  kappl STRING,\n",
    "  kschl STRING,\n",
    "  lifnr STRING,\n",
    "  matnr STRING,\n",
    "  ekorg STRING,\n",
    "  esokz STRING,\n",
    "  bstme STRING,\n",
    "  datbi DATE,\n",
    "  datab DATE,\n",
    "  proc_date DATE\n",
    "\t)\n",
    "\tTBLPROPERTIES \n",
    "\t(\n",
    "\t\tDELTA.AUTOOPTIMIZE.OPTIMIZEWRITE = TRUE,\n",
    "\t\tDELTA.AUTOOPTIMIZE.AUTOCOMPACT = TRUE\n",
    "\t)\n",
    "\"\"\")"
   ]
  },
  {
   "cell_type": "code",
   "execution_count": 0,
   "metadata": {
    "application/vnd.databricks.v1+cell": {
     "cellMetadata": {},
     "inputWidgets": {},
     "nuid": "4bb1fe99-739b-4d51-b7fe-0dc5c6a05e74",
     "showTitle": false,
     "tableResultSettingsMap": {},
     "title": ""
    }
   },
   "outputs": [],
   "source": [
    "create_temp_view_with_clean_columns(\n",
    "    spark,\n",
    "    catalog_name,\n",
    "    'udp_wcm_bronze_sap_bw',\n",
    "    'sap_bw_wcm_vccmdm36',\n",
    "    proc_date,\n",
    "    'temp_sap_vccmdm36'\n",
    ")"
   ]
  },
  {
   "cell_type": "code",
   "execution_count": 0,
   "metadata": {
    "application/vnd.databricks.v1+cell": {
     "cellMetadata": {
      "byteLimit": 2048000,
      "implicitDf": true,
      "rowLimit": 10000
     },
     "inputWidgets": {},
     "nuid": "48b93a1b-8a9d-4f45-9b43-937809d9461d",
     "showTitle": false,
     "tableResultSettingsMap": {},
     "title": ""
    }
   },
   "outputs": [],
   "source": [
    "spark.sql(f\"\"\"\n",
    "CREATE OR REPLACE TEMP VIEW sap_vccmdm36 AS\n",
    "WITH temp AS (\n",
    "    SELECT \n",
    "        reqtsn,\n",
    "        datapakid,\n",
    "        record,\n",
    "        recordmode,\n",
    "        CASE WHEN knumh = '' THEN NULL ELSE LTRIM('0',knumh) END AS knumh,\n",
    "        CASE WHEN kappl = '' THEN NULL ELSE kappl END AS kappl,\n",
    "        CASE WHEN kschl = '' THEN NULL ELSE kschl END AS kschl,\n",
    "        CASE WHEN lifnr = '' THEN NULL ELSE LTRIM('0',lifnr) END AS lifnr,\n",
    "        CASE WHEN matnr = '' THEN NULL ELSE LTRIM('0',matnr) END AS matnr,\n",
    "        CASE WHEN ekorg = '' THEN NULL ELSE ekorg END AS ekorg,\n",
    "        CASE WHEN esokz = '' THEN NULL ELSE esokz END AS esokz,\n",
    "        CASE WHEN bstme = '' THEN NULL ELSE bstme END AS bstme,\n",
    "        CASE \n",
    "            WHEN datbi = '' OR datbi = '20183112' THEN NULL \n",
    "            ELSE TO_DATE(datbi, 'yyyyMMdd') \n",
    "        END AS datbi,\n",
    "        CASE \n",
    "            WHEN datab = '' OR datab = '20183112' THEN NULL \n",
    "            ELSE TO_DATE(datab, 'yyyyMMdd') \n",
    "        END AS datab,\n",
    "        proc_date\n",
    "    FROM (\n",
    "        SELECT * EXCEPT(rn) FROM (\n",
    "            SELECT *, ROW_NUMBER() OVER (PARTITION BY reqtsn, datapakid, record ORDER BY proc_date DESC) AS rn \n",
    "            FROM temp_sap_vccmdm36\n",
    "        ) a WHERE rn = 1\n",
    "    ) a\n",
    "),\n",
    "main AS (\n",
    "    SELECT \n",
    "        FARM_FINGERPRINT(CONCAT_WS('',\n",
    "            COALESCE(CAST(kappl AS STRING), ''),\n",
    "            COALESCE(CAST(kschl AS STRING), ''),\n",
    "            COALESCE(CAST(lifnr AS STRING), ''),\n",
    "            COALESCE(CAST(matnr AS STRING), ''),\n",
    "            COALESCE(CAST(ekorg AS STRING), ''),\n",
    "            COALESCE(CAST(esokz AS STRING), ''),\n",
    "            COALESCE(CAST(bstme AS STRING), ''),\n",
    "            COALESCE(CAST(datbi AS STRING), '')\n",
    "        )) AS hash_id,\n",
    "        *\n",
    "    FROM temp\n",
    "),\n",
    "main_2 AS (\n",
    "    SELECT *, \n",
    "           ROW_NUMBER() OVER (PARTITION BY hash_id ORDER BY reqtsn DESC, datapakid DESC, record DESC) AS rn\n",
    "    FROM main\n",
    ")\n",
    "SELECT * EXCEPT(rn, reqtsn, datapakid, record)\n",
    "FROM main_2\n",
    "WHERE rn = 1\n",
    "\"\"\")\n"
   ]
  },
  {
   "cell_type": "code",
   "execution_count": 0,
   "metadata": {
    "application/vnd.databricks.v1+cell": {
     "cellMetadata": {
      "byteLimit": 2048000,
      "rowLimit": 10000
     },
     "inputWidgets": {},
     "nuid": "660fb493-cb66-4c04-bed5-0ca8b413d13b",
     "showTitle": false,
     "tableResultSettingsMap": {},
     "title": ""
    },
    "jupyter": {
     "outputs_hidden": true
    }
   },
   "outputs": [],
   "source": [
    "spark.sql(f\"\"\"\n",
    "MERGE INTO {catalog_name}.udp_wcm_silver_sap_bw.sap_vccmdm36 main_tbl\n",
    "USING sap_vccmdm36 temp_tbl\n",
    "ON main_tbl.hash_id = temp_tbl.hash_id \n",
    "WHEN MATCHED THEN UPDATE SET *\n",
    "WHEN NOT MATCHED THEN INSERT *;\n",
    "\"\"\")"
   ]
  }
 ],
 "metadata": {
  "application/vnd.databricks.v1+notebook": {
   "computePreferences": null,
   "dashboards": [],
   "environmentMetadata": {
    "base_environment": "",
    "environment_version": "2"
   },
   "inputWidgetPreferences": null,
   "language": "python",
   "notebookMetadata": {
    "mostRecentlyExecutedCommandWithImplicitDF": {
     "commandId": 6666120750894348,
     "dataframes": [
      "_sqldf"
     ]
    },
    "pythonIndentUnit": 4
   },
   "notebookName": "sap_vccmdm36",
   "widgets": {
    "environment": {
     "currentValue": "DEV",
     "nuid": "b86d1834-1e79-4268-b9cb-ea21cb55e4df",
     "typedWidgetInfo": {
      "autoCreated": false,
      "defaultValue": "",
      "label": "",
      "name": "environment",
      "options": {
       "widgetDisplayType": "Text",
       "validationRegex": null
      },
      "parameterDataType": "String"
     },
     "widgetInfo": {
      "widgetType": "text",
      "defaultValue": "",
      "label": "",
      "name": "environment",
      "options": {
       "widgetType": "text",
       "autoCreated": null,
       "validationRegex": null
      }
     }
    },
    "proc_date": {
     "currentValue": "2025-06-28",
     "nuid": "4dfcb97b-ca16-40d9-934b-d85e790df020",
     "typedWidgetInfo": {
      "autoCreated": false,
      "defaultValue": "",
      "label": null,
      "name": "proc_date",
      "options": {
       "widgetDisplayType": "Text",
       "validationRegex": null
      },
      "parameterDataType": "String"
     },
     "widgetInfo": {
      "widgetType": "text",
      "defaultValue": "",
      "label": null,
      "name": "proc_date",
      "options": {
       "widgetType": "text",
       "autoCreated": null,
       "validationRegex": null
      }
     }
    }
   }
  },
  "language_info": {
   "name": "python"
  }
 },
 "nbformat": 4,
 "nbformat_minor": 0
}
