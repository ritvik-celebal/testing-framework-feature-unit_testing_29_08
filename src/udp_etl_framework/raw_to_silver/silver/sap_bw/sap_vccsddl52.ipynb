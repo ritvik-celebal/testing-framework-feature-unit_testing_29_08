{
 "cells": [
  {
   "cell_type": "code",
   "execution_count": 0,
   "metadata": {
    "application/vnd.databricks.v1+cell": {
     "cellMetadata": {
      "byteLimit": 2048000,
      "rowLimit": 10000
     },
     "inputWidgets": {},
     "nuid": "b5b1ea65-94b5-48ec-81c4-075f608c7f68",
     "showTitle": false,
     "tableResultSettingsMap": {},
     "title": ""
    }
   },
   "outputs": [],
   "source": [
    "dbutils.widgets.text(\"proc_date\", \"\")\n",
    "proc_date = dbutils.widgets.get(\"proc_date\")"
   ]
  },
  {
   "cell_type": "code",
   "execution_count": 0,
   "metadata": {
    "application/vnd.databricks.v1+cell": {
     "cellMetadata": {
      "byteLimit": 2048000,
      "rowLimit": 10000
     },
     "inputWidgets": {},
     "nuid": "88a8cf0b-94f0-4849-a8f5-fafceb60147c",
     "showTitle": false,
     "tableResultSettingsMap": {},
     "title": ""
    }
   },
   "outputs": [],
   "source": [
    "%run ../../../utils/common"
   ]
  },
  {
   "cell_type": "code",
   "execution_count": 0,
   "metadata": {
    "application/vnd.databricks.v1+cell": {
     "cellMetadata": {
      "byteLimit": 2048000,
      "rowLimit": 10000
     },
     "inputWidgets": {},
     "nuid": "464cfda9-aa6f-4dad-8387-95f1d2b43ce4",
     "showTitle": false,
     "tableResultSettingsMap": {},
     "title": ""
    }
   },
   "outputs": [],
   "source": [
    "dbutils.widgets.text(\"environment\", \"\", \"\")\n",
    "environment = dbutils.widgets.get(\"environment\")"
   ]
  },
  {
   "cell_type": "code",
   "execution_count": 0,
   "metadata": {
    "application/vnd.databricks.v1+cell": {
     "cellMetadata": {
      "byteLimit": 2048000,
      "rowLimit": 10000
     },
     "inputWidgets": {},
     "nuid": "cf12821a-9d87-41ba-b595-b195ab2dce30",
     "showTitle": false,
     "tableResultSettingsMap": {},
     "title": ""
    }
   },
   "outputs": [],
   "source": [
    "catalog_name = settings[environment]['catalog_name']"
   ]
  },
  {
   "cell_type": "code",
   "execution_count": 0,
   "metadata": {
    "application/vnd.databricks.v1+cell": {
     "cellMetadata": {},
     "inputWidgets": {},
     "nuid": "de0ddfa6-547d-4110-b838-126cea17b7d9",
     "showTitle": false,
     "tableResultSettingsMap": {},
     "title": ""
    }
   },
   "outputs": [],
   "source": [
    "create_temp_view_with_clean_columns(\n",
    "    spark,\n",
    "    catalog_name,\n",
    "    'udp_wcm_bronze_sap_bw',\n",
    "    'sap_bw_wcm_vccsddl52',\n",
    "    proc_date,\n",
    "    'temp_sap_vccsddl52'\n",
    ")"
   ]
  },
  {
   "cell_type": "code",
   "execution_count": 0,
   "metadata": {
    "application/vnd.databricks.v1+cell": {
     "cellMetadata": {
      "byteLimit": 2048000,
      "rowLimit": 10000
     },
     "inputWidgets": {},
     "nuid": "fcfb7459-645d-47cf-91e9-79706e032946",
     "showTitle": false,
     "tableResultSettingsMap": {},
     "title": ""
    }
   },
   "outputs": [],
   "source": [
    "spark.sql(f\"\"\"\n",
    "CREATE TABLE IF NOT EXISTS {catalog_name}.udp_wcm_silver_sap_bw.sap_vccsddl52(\n",
    "    hash_id BIGINT,\n",
    "    reqtsn STRING,\n",
    "    datapakid STRING,\n",
    "    record BIGINT,\n",
    "    calday DATE,\n",
    "    do_number STRING,\n",
    "    do_item STRING,\n",
    "    creation_date DATE,\n",
    "    gi_date DATE,\n",
    "    act_gi_dte DATE,\n",
    "    deleted_record STRING,\n",
    "    product_id STRING,\n",
    "    deliver_qty_sale DECIMAL(38,9),\n",
    "    sales_unit STRING,\n",
    "    deliver_qty_base DECIMAL(38,9),\n",
    "    base_unit STRING,\n",
    "    dc_id STRING,\n",
    "    sto_number STRING,\n",
    "    sto_item STRING,\n",
    "    sts_pick STRING,\n",
    "    osts_pick STRING,\n",
    "    tgoodmv_st STRING,\n",
    "    pick_conf STRING,\n",
    "    goodsmv_st STRING,\n",
    "    recordmode STRING,\n",
    "    unload_pt STRING,\n",
    "    imounl_pt STRING,\n",
    "    sales_dist STRING,\n",
    "    bill_block STRING,\n",
    "    incoterms STRING,\n",
    "    incoterms2 STRING,\n",
    "    imoincotm2 STRING,\n",
    "    cust_group STRING,\n",
    "    del_type STRING,\n",
    "    ship_date STRING,\n",
    "    creditor STRING,\n",
    "    del_block STRING,\n",
    "    load_pt STRING,\n",
    "    route STRING,\n",
    "    doc_categ STRING,\n",
    "    ch_on STRING,\n",
    "    rt_promo STRING,\n",
    "    batch STRING,\n",
    "    eanupc STRING,\n",
    "    createdby STRING,\n",
    "    crea_time STRING,\n",
    "    bilblk_dl STRING,\n",
    "    bus_area STRING,\n",
    "    pick_indc STRING,\n",
    "    cust_grp1 STRING,\n",
    "    cust_grp2 STRING,\n",
    "    cust_grp3 STRING,\n",
    "    cust_grp4 STRING,\n",
    "    cust_grp5 STRING,\n",
    "    consu_flag STRING,\n",
    "    whse_num STRING,\n",
    "    stor_loc STRING,\n",
    "    plant STRING,\n",
    "    strge_bin STRING,\n",
    "    strge_type STRING,\n",
    "    itm_type STRING,\n",
    "    forwagent STRING,\n",
    "    item_categ STRING,\n",
    "    per_resp STRING,\n",
    "    stat_date STRING,\n",
    "    prvdoc_ctg STRING,\n",
    "    imodoccat STRING,\n",
    "    wbs_elemt STRING,\n",
    "    del_wa_dh STRING,\n",
    "    calmonth STRING,\n",
    "    calquarter STRING,\n",
    "    calyear STRING,\n",
    "    fiscvarnt STRING,\n",
    "    fiscper STRING,\n",
    "    fiscyear STRING,\n",
    "    upd_date STRING,\n",
    "    no_del_it DECIMAL(38,9),\n",
    "    denomintr DECIMAL(38,9),\n",
    "    numerator DECIMAL(38,9),\n",
    "    shp_pr_tmf DECIMAL(38,9),\n",
    "    shp_pr_tmv DECIMAL(38,9),\n",
    "    proc_date DATE,\n",
    "    file_creation_ts TIMESTAMP\n",
    ")\n",
    "TBLPROPERTIES (\n",
    "  'DELTA.AUTOOPTIMIZE.OPTIMIZEWRITE' = 'TRUE',\n",
    "  'DELTA.AUTOOPTIMIZE.AUTOCOMPACT' = 'TRUE'\n",
    ") \n",
    "\"\"\")"
   ]
  },
  {
   "cell_type": "code",
   "execution_count": 0,
   "metadata": {
    "application/vnd.databricks.v1+cell": {
     "cellMetadata": {
      "byteLimit": 2048000,
      "rowLimit": 10000
     },
     "inputWidgets": {},
     "nuid": "4b59bd6e-941f-4623-9176-7797ed87ca3e",
     "showTitle": false,
     "tableResultSettingsMap": {},
     "title": ""
    }
   },
   "outputs": [],
   "source": [
    "spark.sql(f\"\"\"\n",
    "    MERGE INTO {catalog_name}.udp_wcm_silver_sap_bw.sap_vccsddl52 main_tbl USING (\n",
    "    WITH main AS (\n",
    "        SELECT\n",
    "            reqtsn,\n",
    "            datapakid,\n",
    "            record,\n",
    "            TO_DATE(calday, 'yyyyMMdd') AS calday,\n",
    "            deliv_numb AS do_number,\n",
    "            deliv_item AS do_item,\n",
    "            TO_DATE(createdon, 'yyyyMMdd') AS creation_date,\n",
    "            TO_DATE(gi_date, 'yyyyMMdd') AS gi_date,\n",
    "            try_cast(act_gi_dte as DATE) AS act_gi_dte,\n",
    "            IF(recordmode = 'R', 'Y', NULL) deleted_record,\n",
    "            LTRIM('0', material) product_id,    \n",
    "            dlv_qty deliver_qty_sale,\n",
    "            sales_unit,\n",
    "            act_dl_qty deliver_qty_base,\n",
    "            base_uom base_unit,\n",
    "            ship_point dc_id,\n",
    "            refer_doc sto_number,\n",
    "            refer_itm sto_item,\n",
    "            IF(sts_pick = '', NULL, sts_pick) sts_pick,\n",
    "            IF(osts_pick = '', NULL, osts_pick) osts_pick,\n",
    "            IF(tgoodmv_st = '', NULL, tgoodmv_st) tgoodmv_st,\n",
    "            IF(pick_conf = '', NULL, pick_conf) pick_conf,\n",
    "            IF(goodsmv_st = '', NULL, goodsmv_st) goodsmv_st,\n",
    "            recordmode,\n",
    "            unload_pt,\n",
    "            imounl_pt,\n",
    "            sales_dist,\n",
    "            bill_block,\n",
    "            incoterms,\n",
    "            incoterms2,\n",
    "            imoincotm2,\n",
    "            cust_group,\n",
    "            del_type,\n",
    "            ship_date,\n",
    "            creditor,\n",
    "            del_block,\n",
    "            load_pt,\n",
    "            route,\n",
    "            doc_categ,\n",
    "            ch_on,\n",
    "            rt_promo,\n",
    "            batch,\n",
    "            eanupc,\n",
    "            createdby,\n",
    "            crea_time,\n",
    "            bilblk_dl,\n",
    "            bus_area,\n",
    "            pick_indc,\n",
    "            cust_grp1,\n",
    "            cust_grp2,\n",
    "            cust_grp3,\n",
    "            cust_grp4,\n",
    "            cust_grp5,\n",
    "            consu_flag,\n",
    "            whse_num,\n",
    "            stor_loc,\n",
    "            plant,\n",
    "            strge_bin,\n",
    "            strge_type,\n",
    "            itm_type,\n",
    "            forwagent,\n",
    "            item_categ,\n",
    "            per_resp,\n",
    "            stat_date,\n",
    "            prvdoc_ctg,\n",
    "            imodoccat,\n",
    "            wbs_elemt,\n",
    "            del_wa_dh,\n",
    "            calmonth,\n",
    "            calquarter,\n",
    "            calyear,\n",
    "            fiscvarnt,\n",
    "            fiscper,\n",
    "            fiscyear,\n",
    "            upd_date,\n",
    "            no_del_it,\n",
    "            denomintr,\n",
    "            numerator,\n",
    "            shp_pr_tmf,\n",
    "            shp_pr_tmv,\n",
    "            proc_date,\n",
    "            file_creation_ts\n",
    "        FROM temp_sap_vccsddl52\n",
    "        QUALIFY ROW_NUMBER() OVER (PARTITION BY reqtsn, datapakid, record ORDER BY proc_date DESC) = 1 \n",
    "    )\n",
    "    SELECT \n",
    "        farm_fingerprint(CONCAT(\n",
    "            IFNULL(CAST(calday AS STRING), \"\"),\n",
    "            IFNULL(CAST(creation_date AS STRING), \"\"),\n",
    "            IFNULL(CAST(gi_date AS STRING), \"\"),\n",
    "            IFNULL(CAST(act_gi_dte AS STRING), \"\"),\n",
    "            IFNULL(CAST(do_number AS STRING), \"\"),\n",
    "            IFNULL(CAST(do_item AS STRING), \"\"),\n",
    "            IFNULL(CAST(product_id AS STRING), \"\"),\n",
    "            IFNULL(CAST(sales_unit AS STRING), \"\"),\n",
    "            IFNULL(CAST(base_unit AS STRING), \"\"),\n",
    "            IFNULL(CASE WHEN CAST(deliver_qty_sale AS DOUBLE) = CAST(CAST(deliver_qty_sale AS DOUBLE) AS BIGINT) THEN CAST(CAST(deliver_qty_sale AS BIGINT) AS STRING) ELSE TRIM(TRAILING '0' FROM(CAST(deliver_qty_sale AS DECIMAL(38,10)))) END, \"\"),\n",
    "            IFNULL(CASE WHEN CAST(deliver_qty_base AS DOUBLE) = CAST(CAST(deliver_qty_base AS DOUBLE) AS BIGINT) THEN CAST(CAST(deliver_qty_base AS BIGINT) AS STRING) ELSE TRIM(TRAILING '0' FROM(CAST(deliver_qty_base AS DECIMAL(38,10)))) END, \"\"),\n",
    "            IFNULL(CAST(dc_id AS STRING), \"\"),\n",
    "            IFNULL(CAST(sto_number AS STRING), \"\"),\n",
    "            IFNULL(CAST(sto_item AS STRING), \"\"),\n",
    "            IFNULL(CAST(sts_pick AS STRING), \"\"),\n",
    "            IFNULL(CAST(osts_pick AS STRING), \"\"),\n",
    "            IFNULL(CAST(goodsmv_st AS STRING), \"\"),\n",
    "            IFNULL(CAST(tgoodmv_st AS STRING), \"\"),\n",
    "            IFNULL(CAST(deleted_record AS STRING), \"\")\n",
    "        )) hash_id,\n",
    "        *\n",
    "    FROM main\n",
    ") temp_tbl\n",
    "ON main_tbl.hash_id = temp_tbl.hash_id\n",
    "WHEN NOT MATCHED THEN INSERT *\n",
    "\"\"\")"
   ]
  }
 ],
 "metadata": {
  "application/vnd.databricks.v1+notebook": {
   "computePreferences": null,
   "dashboards": [],
   "environmentMetadata": {
    "base_environment": "",
    "environment_version": "2"
   },
   "inputWidgetPreferences": null,
   "language": "python",
   "notebookMetadata": {
    "mostRecentlyExecutedCommandWithImplicitDF": {
     "commandId": 8654508810636671,
     "dataframes": [
      "_sqldf"
     ]
    },
    "pythonIndentUnit": 4
   },
   "notebookName": "sap_vccsddl52",
   "widgets": {
    "environment": {
     "currentValue": "DEV",
     "nuid": "cc9004ff-ffe1-4a16-b618-b65082f57d33",
     "typedWidgetInfo": {
      "autoCreated": false,
      "defaultValue": "",
      "label": "",
      "name": "environment",
      "options": {
       "widgetDisplayType": "Text",
       "validationRegex": null
      },
      "parameterDataType": "String"
     },
     "widgetInfo": {
      "widgetType": "text",
      "defaultValue": "",
      "label": "",
      "name": "environment",
      "options": {
       "widgetType": "text",
       "autoCreated": null,
       "validationRegex": null
      }
     }
    },
    "proc_date": {
     "currentValue": "2025-07-16",
     "nuid": "cce0f082-42e8-4ff1-b815-cab15be4c7f4",
     "typedWidgetInfo": {
      "autoCreated": false,
      "defaultValue": "",
      "label": null,
      "name": "proc_date",
      "options": {
       "widgetDisplayType": "Text",
       "validationRegex": null
      },
      "parameterDataType": "String"
     },
     "widgetInfo": {
      "widgetType": "text",
      "defaultValue": "",
      "label": null,
      "name": "proc_date",
      "options": {
       "widgetType": "text",
       "autoCreated": null,
       "validationRegex": null
      }
     }
    }
   }
  },
  "language_info": {
   "name": "python"
  }
 },
 "nbformat": 4,
 "nbformat_minor": 0
}
