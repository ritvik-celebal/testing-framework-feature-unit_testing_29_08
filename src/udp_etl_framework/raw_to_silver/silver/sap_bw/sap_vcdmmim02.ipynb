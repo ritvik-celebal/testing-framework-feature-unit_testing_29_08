{
 "cells": [
  {
   "cell_type": "code",
   "execution_count": 0,
   "metadata": {
    "application/vnd.databricks.v1+cell": {
     "cellMetadata": {
      "byteLimit": 2048000,
      "rowLimit": 10000
     },
     "inputWidgets": {},
     "nuid": "3c7cb975-560e-4a38-b8ae-cae34dade3f8",
     "showTitle": false,
     "tableResultSettingsMap": {},
     "title": ""
    }
   },
   "outputs": [],
   "source": [
    "dbutils.widgets.text(\"proc_date\", \"\")\n",
    "proc_date = dbutils.widgets.get(\"proc_date\")"
   ]
  },
  {
   "cell_type": "code",
   "execution_count": 0,
   "metadata": {
    "application/vnd.databricks.v1+cell": {
     "cellMetadata": {
      "byteLimit": 2048000,
      "rowLimit": 10000
     },
     "inputWidgets": {},
     "nuid": "f589f175-1f00-4426-9b6a-160eb37cc108",
     "showTitle": false,
     "tableResultSettingsMap": {},
     "title": ""
    }
   },
   "outputs": [],
   "source": [
    "%run ../../../utils/common"
   ]
  },
  {
   "cell_type": "code",
   "execution_count": 0,
   "metadata": {
    "application/vnd.databricks.v1+cell": {
     "cellMetadata": {
      "byteLimit": 2048000,
      "rowLimit": 10000
     },
     "inputWidgets": {},
     "nuid": "335b7831-bcda-459e-b018-8a03456746a1",
     "showTitle": false,
     "tableResultSettingsMap": {},
     "title": ""
    }
   },
   "outputs": [],
   "source": [
    "dbutils.widgets.text(\"environment\", \"\", \"\")\n",
    "environment = dbutils.widgets.get(\"environment\")"
   ]
  },
  {
   "cell_type": "code",
   "execution_count": 0,
   "metadata": {
    "application/vnd.databricks.v1+cell": {
     "cellMetadata": {
      "byteLimit": 2048000,
      "rowLimit": 10000
     },
     "inputWidgets": {},
     "nuid": "3970485c-702b-4231-9b27-7f1b80a54870",
     "showTitle": false,
     "tableResultSettingsMap": {},
     "title": ""
    }
   },
   "outputs": [],
   "source": [
    "catalog_name = settings[environment]['catalog_name']"
   ]
  },
  {
   "cell_type": "code",
   "execution_count": 0,
   "metadata": {
    "application/vnd.databricks.v1+cell": {
     "cellMetadata": {},
     "inputWidgets": {},
     "nuid": "80adba38-7191-4ab2-99ae-bb1d5dbd5b18",
     "showTitle": false,
     "tableResultSettingsMap": {},
     "title": ""
    }
   },
   "outputs": [],
   "source": [
    "create_temp_view_with_clean_columns(\n",
    "    spark,\n",
    "    catalog_name,\n",
    "    'udp_wcm_bronze_sap_bw',\n",
    "    'sap_bw_wcm_vccmmim52',\n",
    "    proc_date,\n",
    "    'temp_sap_vccmmim52'\n",
    ")"
   ]
  },
  {
   "cell_type": "code",
   "execution_count": 0,
   "metadata": {
    "application/vnd.databricks.v1+cell": {
     "cellMetadata": {
      "byteLimit": 2048000,
      "implicitDf": true,
      "rowLimit": 10000
     },
     "inputWidgets": {},
     "nuid": "55231ad8-1593-47c6-a52c-a4295b6eaacd",
     "showTitle": false,
     "tableResultSettingsMap": {},
     "title": ""
    }
   },
   "outputs": [],
   "source": [
    "spark.sql(f\"\"\"\n",
    "CREATE TABLE IF NOT EXISTS {catalog_name}.udp_wcm_silver_sap_bw.sap_vcdmmim02 \n",
    "(\n",
    "   hash_id BIGINT,\n",
    "   stor_loc STRING,\n",
    "   comp_code STRING,\n",
    "   zc_ltstgr DATE,\n",
    "   material STRING,\n",
    "   plant STRING,\n",
    "   stockcat STRING,\n",
    "   vendor STRING,\n",
    "   customer STRING,\n",
    "   dataorigin STRING,\n",
    "   movetype STRING,\n",
    "   calday DATE,\n",
    "   upd_date DATE,\n",
    "   loc_currcy STRING,\n",
    "   zk_tp_val DOUBLE,\n",
    "   zk_ltstgr INT,\n",
    "   issvs_val DOUBLE,\n",
    "   recvs_val DOUBLE,\n",
    "   proc_date DATE,\n",
    "   file_creation_ts TIMESTAMP\n",
    ")\n",
    "TBLPROPERTIES (\n",
    "  'DELTA.AUTOOPTIMIZE.OPTIMIZEWRITE' = 'TRUE',\n",
    "  'DELTA.AUTOOPTIMIZE.AUTOCOMPACT' = 'TRUE'\n",
    ")\n",
    "\"\"\")"
   ]
  },
  {
   "cell_type": "code",
   "execution_count": 0,
   "metadata": {
    "application/vnd.databricks.v1+cell": {
     "cellMetadata": {
      "byteLimit": 2048000,
      "rowLimit": 10000
     },
     "inputWidgets": {},
     "nuid": "09ea5a85-0789-49e5-b33f-ccafef9ec8b6",
     "showTitle": false,
     "tableResultSettingsMap": {},
     "title": ""
    }
   },
   "outputs": [],
   "source": [
    "spark.sql(f\"\"\"\n",
    "CREATE OR REPLACE TEMP VIEW sap_vcdmmim02 AS\n",
    "WITH main AS (\n",
    "SELECT \n",
    "reqtsn,\n",
    "datapakid,\n",
    "record,\n",
    "CASE WHEN stor_loc = '' THEN null ELSE stor_loc END AS stor_loc,\n",
    "CASE WHEN comp_code = '' THEN null ELSE comp_code END AS comp_code,\n",
    "CASE WHEN _bic_zc_ltstgr = '00000000' THEN null ELSE TO_DATE(_bic_zc_ltstgr,\"yyyyMMdd\") END AS zc_ltstgr, --\n",
    "CASE WHEN REGEXP(material,'^[0-9]+$') THEN CAST(CAST(material AS BIGINT) AS STRING) ELSE material END AS material,\n",
    "CASE WHEN plant = '' THEN null ELSE LTRIM('0',plant) END AS plant,\n",
    "CASE WHEN stockcat = '' THEN null ELSE stockcat END AS stockcat,\n",
    "CASE WHEN vendor = '' THEN null ELSE vendor END AS vendor,\n",
    "CASE WHEN customer = '' THEN null ELSE customer END AS customer,\n",
    "CASE WHEN dataorigin = '' THEN null ELSE dataorigin END AS dataorigin,\n",
    "CASE WHEN movetype = '' THEN null ELSE movetype END AS movetype,\n",
    "CASE WHEN calday = '00000000' THEN null ELSE TO_DATE(calday,\"yyyyMMdd\") END AS calday,\n",
    "CASE WHEN upd_date = '00000000' THEN null ELSE TO_DATE(upd_date,\"yyyyMMdd\") END AS upd_date,\n",
    "CASE WHEN loc_currcy = '' THEN null ELSE loc_currcy END AS loc_currcy,\n",
    "SUM(_bic_zk_tp_val * 100) AS zk_tp_val,\n",
    "SUM(CAST(_bic_zk_ltstgr AS BIGINT)) AS zk_ltstgr,\n",
    "SUM(issvs_val * 100) AS issvs_val,\n",
    "SUM(recvs_val * 100) AS recvs_val,\n",
    "MAX(proc_date) AS proc_date,\n",
    "MAX(file_creation_ts) as file_creation_ts\n",
    "FROM (\n",
    "    SELECT * EXCEPT(rn) FROM (\n",
    "        SELECT *, ROW_NUMBER() OVER (PARTITION BY reqtsn, datapakid, record ORDER BY proc_date DESC) rn \n",
    "        FROM temp_sap_vccmmim52 \n",
    "    ) a WHERE rn = 1 \n",
    ") a\n",
    "GROUP BY\n",
    "    reqtsn,\n",
    "    datapakid,\n",
    "    record,\n",
    "    stor_loc,\n",
    "    comp_code,\n",
    "    _bic_zc_ltstgr,\n",
    "    material,\n",
    "    plant,\n",
    "    stockcat,\n",
    "    vendor,\n",
    "    customer,\n",
    "    dataorigin,\n",
    "    movetype,\n",
    "    calday,\n",
    "    upd_date,\n",
    "    loc_currcy\n",
    ")\n",
    "SELECT \n",
    "farm_fingerprint(CONCAT(\n",
    "    IFNULL(CAST(reqtsn AS STRING), \"\"),\n",
    "    IFNULL(CAST(datapakid AS STRING), \"\"),\n",
    "    IFNULL(CAST(record AS STRING), \"\"),\n",
    "    IFNULL(CAST(stor_loc AS STRING), \"\"),\n",
    "    IFNULL(CAST(comp_code AS STRING), \"\"),\n",
    "    IFNULL(CAST(zc_ltstgr AS STRING), \"\"),\n",
    "    IFNULL(CAST(material AS STRING), \"\"),\n",
    "    IFNULL(CAST(plant AS STRING), \"\"),\n",
    "    IFNULL(CAST(stockcat AS STRING), \"\"),\n",
    "    IFNULL(CAST(vendor AS STRING), \"\"),\n",
    "    IFNULL(CAST(customer AS STRING), \"\"),\n",
    "    IFNULL(CAST(dataorigin AS STRING), \"\"),\n",
    "    IFNULL(CAST(movetype AS STRING), \"\"),\n",
    "    IFNULL(CAST(calday AS STRING), \"\"),\n",
    "    IFNULL(CAST(upd_date AS STRING), \"\"),\n",
    "    IFNULL(CAST(loc_currcy AS STRING), \"\")\n",
    ")) AS hash_id,\n",
    "reqtsn,\n",
    "datapakid,\n",
    "record,\n",
    "stor_loc,\n",
    "comp_code,\n",
    "zc_ltstgr,\n",
    "material,\n",
    "plant,\n",
    "stockcat,\n",
    "vendor,\n",
    "customer,\n",
    "dataorigin,\n",
    "movetype,\n",
    "calday,\n",
    "upd_date,\n",
    "loc_currcy,\n",
    "zk_tp_val,\n",
    "zk_ltstgr,\n",
    "issvs_val,\n",
    "recvs_val,\n",
    "proc_date,\n",
    "file_creation_ts\n",
    "FROM main\n",
    "\"\"\"\n",
    ")"
   ]
  },
  {
   "cell_type": "code",
   "execution_count": 0,
   "metadata": {
    "application/vnd.databricks.v1+cell": {
     "cellMetadata": {
      "byteLimit": 2048000,
      "rowLimit": 10000
     },
     "inputWidgets": {},
     "nuid": "33c54f59-7edd-471e-b677-88273a5882c8",
     "showTitle": false,
     "tableResultSettingsMap": {},
     "title": ""
    }
   },
   "outputs": [],
   "source": [
    "calday_query = f\"\"\"\n",
    "SELECT\n",
    "    CONCAT(\"'\", CONCAT_WS(\"','\", COLLECT_SET(CAST(TO_DATE(calday, 'yyyy-MM-dd') AS STRING))), \"'\") AS calday_in_str\n",
    "FROM {catalog_name}.udp_wcm_silver_sap_bw.sap_vcdmmim02\n",
    "WHERE proc_date = date_sub(TO_DATE('{proc_date}', 'yyyy-MM-dd'), 1)\n",
    "\"\"\"\n",
    "calday_df = spark.sql(calday_query)\n",
    "calday_in_str = calday_df.collect()[0][0]\n",
    "\n",
    "print(calday_in_str)"
   ]
  },
  {
   "cell_type": "code",
   "execution_count": 0,
   "metadata": {
    "application/vnd.databricks.v1+cell": {
     "cellMetadata": {
      "byteLimit": 2048000,
      "rowLimit": 10000
     },
     "inputWidgets": {},
     "nuid": "6990765d-0046-4da7-aea0-03b245ef163d",
     "showTitle": false,
     "tableResultSettingsMap": {},
     "title": ""
    }
   },
   "outputs": [],
   "source": [
    "silver_count = spark.sql(f\"SELECT COUNT(*) FROM {catalog_name}.udp_wcm_silver_sap_bw.sap_vcdmmim02\").collect()[0][0]\n",
    "if silver_count == 0:\n",
    "    spark.sql(f\"\"\"\n",
    "    MERGE INTO {catalog_name}.udp_wcm_silver_sap_bw.sap_vcdmmim02 main_tbl\n",
    "    USING sap_vcdmmim02 temp_tbl\n",
    "    ON main_tbl.hash_id = temp_tbl.hash_id \n",
    "    WHEN NOT MATCHED THEN INSERT * \n",
    "    \"\"\").display()\n",
    "elif len(calday_in_str) > 0 and calday_in_str != \"''\":\n",
    "    spark.sql(f\"\"\"\n",
    "    MERGE INTO {catalog_name}.udp_wcm_silver_sap_bw.sap_vcdmmim02 main_tbl\n",
    "    USING sap_vcdmmim02 temp_tbl\n",
    "    ON main_tbl.hash_id = temp_tbl.hash_id \n",
    "    AND main_tbl.calday IN ({calday_in_str})\n",
    "    WHEN NOT MATCHED THEN INSERT * \n",
    "    \"\"\").display()\n",
    "else:\n",
    "    print(\"calday_in_str is empty. Please provide valid date values.\")"
   ]
  }
 ],
 "metadata": {
  "application/vnd.databricks.v1+notebook": {
   "computePreferences": {
    "hardware": {
     "accelerator": null,
     "gpuPoolId": null,
     "memory": null
    }
   },
   "dashboards": [],
   "environmentMetadata": {
    "base_environment": "/Workspace/Shared/udp_etl_framework_v1/udp_etl_framework_v1/src/udp_etl_framework/artifacts/dependency.yaml",
    "environment_version": "2"
   },
   "inputWidgetPreferences": null,
   "language": "python",
   "notebookMetadata": {
    "mostRecentlyExecutedCommandWithImplicitDF": {
     "commandId": -1,
     "dataframes": [
      "_sqldf"
     ]
    },
    "pythonIndentUnit": 4
   },
   "notebookName": "sap_vcdmmim02",
   "widgets": {
    "environment": {
     "currentValue": "DEV",
     "nuid": "3a425f58-d9d8-47da-b0a2-ad7da57226a5",
     "typedWidgetInfo": {
      "autoCreated": false,
      "defaultValue": "",
      "label": "",
      "name": "environment",
      "options": {
       "widgetDisplayType": "Text",
       "validationRegex": null
      },
      "parameterDataType": "String"
     },
     "widgetInfo": {
      "widgetType": "text",
      "defaultValue": "",
      "label": "",
      "name": "environment",
      "options": {
       "widgetType": "text",
       "autoCreated": null,
       "validationRegex": null
      }
     }
    },
    "proc_date": {
     "currentValue": "2025-07-17",
     "nuid": "e0b07648-fdc7-4fbe-9d64-fd5ab752a55f",
     "typedWidgetInfo": {
      "autoCreated": false,
      "defaultValue": "",
      "label": null,
      "name": "proc_date",
      "options": {
       "widgetDisplayType": "Text",
       "validationRegex": null
      },
      "parameterDataType": "String"
     },
     "widgetInfo": {
      "widgetType": "text",
      "defaultValue": "",
      "label": null,
      "name": "proc_date",
      "options": {
       "widgetType": "text",
       "autoCreated": null,
       "validationRegex": null
      }
     }
    }
   }
  },
  "language_info": {
   "name": "python"
  }
 },
 "nbformat": 4,
 "nbformat_minor": 0
}
