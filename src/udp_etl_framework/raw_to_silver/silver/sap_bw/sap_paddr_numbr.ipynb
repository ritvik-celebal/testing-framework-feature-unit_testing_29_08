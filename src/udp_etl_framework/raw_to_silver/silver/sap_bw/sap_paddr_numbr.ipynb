{
 "cells": [
  {
   "cell_type": "code",
   "execution_count": 0,
   "metadata": {
    "application/vnd.databricks.v1+cell": {
     "cellMetadata": {
      "byteLimit": 2048000,
      "rowLimit": 10000
     },
     "inputWidgets": {},
     "nuid": "f0a859f0-203e-4d23-8a9c-795525074c29",
     "showTitle": false,
     "tableResultSettingsMap": {},
     "title": ""
    }
   },
   "outputs": [],
   "source": [
    "dbutils.widgets.text(\"proc_date\", \"\")\n",
    "proc_date = dbutils.widgets.get(\"proc_date\")"
   ]
  },
  {
   "cell_type": "code",
   "execution_count": 0,
   "metadata": {
    "application/vnd.databricks.v1+cell": {
     "cellMetadata": {
      "byteLimit": 2048000,
      "rowLimit": 10000
     },
     "inputWidgets": {},
     "nuid": "c61ce195-20cf-4ef9-9e27-8b51d826751d",
     "showTitle": false,
     "tableResultSettingsMap": {},
     "title": ""
    }
   },
   "outputs": [],
   "source": [
    "%run ../../../utils/common"
   ]
  },
  {
   "cell_type": "code",
   "execution_count": 0,
   "metadata": {
    "application/vnd.databricks.v1+cell": {
     "cellMetadata": {
      "byteLimit": 2048000,
      "rowLimit": 10000
     },
     "inputWidgets": {},
     "nuid": "6c0eab74-cb16-48c4-835a-15e05fcee35c",
     "showTitle": false,
     "tableResultSettingsMap": {},
     "title": ""
    }
   },
   "outputs": [],
   "source": [
    "dbutils.widgets.text(\"environment\", \"\", \"\")\n",
    "environment = dbutils.widgets.get(\"environment\")"
   ]
  },
  {
   "cell_type": "code",
   "execution_count": 0,
   "metadata": {
    "application/vnd.databricks.v1+cell": {
     "cellMetadata": {
      "byteLimit": 2048000,
      "rowLimit": 10000
     },
     "inputWidgets": {},
     "nuid": "1ec54fc2-915d-405b-8c17-85351041387b",
     "showTitle": false,
     "tableResultSettingsMap": {},
     "title": ""
    }
   },
   "outputs": [],
   "source": [
    "catalog_name = settings[environment]['catalog_name']"
   ]
  },
  {
   "cell_type": "code",
   "execution_count": 0,
   "metadata": {
    "application/vnd.databricks.v1+cell": {
     "cellMetadata": {},
     "inputWidgets": {},
     "nuid": "f1fa761e-0e52-4c55-a01a-4e02bc3da94e",
     "showTitle": false,
     "tableResultSettingsMap": {},
     "title": ""
    }
   },
   "outputs": [],
   "source": [
    "create_temp_view_with_clean_columns(\n",
    "    spark,\n",
    "    catalog_name,\n",
    "    'udp_wcm_bronze_sap_bw',\n",
    "    'sap_bw_wcm_paddr_numbr',\n",
    "    proc_date,\n",
    "    'temp_sap_paddr_numbr'\n",
    ")"
   ]
  },
  {
   "cell_type": "code",
   "execution_count": 0,
   "metadata": {
    "application/vnd.databricks.v1+cell": {
     "cellMetadata": {
      "byteLimit": 2048000,
      "rowLimit": 10000
     },
     "inputWidgets": {},
     "nuid": "cbc98789-bd48-4672-ba5c-1018ff72207f",
     "showTitle": false,
     "tableResultSettingsMap": {},
     "title": ""
    }
   },
   "outputs": [],
   "source": [
    "spark.sql(f\"\"\"\n",
    "CREATE TABLE IF NOT EXISTS {catalog_name}.udp_wcm_silver_sap_bw.sap_paddr_numbr\n",
    "(\n",
    "  hash_id BIGINT,\n",
    "  addr_numbr STRING,\n",
    "  email_addr STRING,\n",
    "  name40 STRING,\n",
    "  street60 STRING,\n",
    "  str_suppl2 STRING,\n",
    "  str_suppl3 STRING,\n",
    "  str_suppl4 STRING,\n",
    "  city_1 STRING,\n",
    "  city_2 STRING,\n",
    "  proc_date DATE,\n",
    "  start_date DATE,\n",
    "  end_date DATE,\n",
    "  file_creation_ts TIMESTAMP\n",
    ")\n",
    "TBLPROPERTIES (\n",
    "  'DELTA.AUTOOPTIMIZE.OPTIMIZEWRITE' = 'true',\n",
    "  'DELTA.AUTOOPTIMIZE.AUTOCOMPACT' = 'true'\n",
    ")\n",
    "\"\"\")"
   ]
  },
  {
   "cell_type": "code",
   "execution_count": 0,
   "metadata": {
    "application/vnd.databricks.v1+cell": {
     "cellMetadata": {
      "byteLimit": 2048000,
      "implicitDf": true,
      "rowLimit": 10000
     },
     "inputWidgets": {},
     "nuid": "48b93a1b-8a9d-4f45-9b43-937809d9461d",
     "showTitle": false,
     "tableResultSettingsMap": {},
     "title": ""
    }
   },
   "outputs": [],
   "source": [
    "spark.sql(f\"\"\"\n",
    "CREATE OR REPLACE TEMP VIEW sap_paddr_numbr\n",
    "AS\n",
    "WITH \n",
    "temp AS (\n",
    "SELECT * EXCEPT(rn) \n",
    "FROM (\n",
    "    SELECT *, ROW_NUMBER() OVER (PARTITION BY addr_numbr,DATE(proc_date) ORDER BY proc_date) rn \n",
    "    FROM (\n",
    "        SELECT \n",
    "            LTRIM('0',_bic_zc_adnumb) addr_numbr,\n",
    "            IF(email_addr = '', NULL, email_addr) email_addr,\n",
    "            IF(name40 = '', NULL, name40) name40,\n",
    "            IF(street60 = '', NULL, street60) street60,\n",
    "            IF(str_suppl2 = '', NULL, str_suppl2) str_suppl2,\n",
    "            IF(str_suppl3 = '', NULL, str_suppl3) str_suppl3,\n",
    "            IF(str_suppl4 = '', NULL, str_suppl4) str_suppl4,\n",
    "            IF(city_1 = '', NULL, city_1) city_1,\n",
    "            IF(city_2 = '', NULL, city_2) city_2,\n",
    "            proc_date,\n",
    "            file_creation_ts\n",
    "        FROM  temp_sap_paddr_numbr\n",
    "        ) a\n",
    "    ) a WHERE rn = 1\n",
    "),\n",
    "main AS (\n",
    "    SELECT \n",
    "        FARM_FINGERPRINT(CONCAT(\n",
    "            IFNULL(CAST(addr_numbr AS STRING), \"\"), \n",
    "            IFNULL(CAST(email_addr AS STRING), \"\"), \n",
    "            IFNULL(CAST(name40 AS STRING), \"\"), \n",
    "            IFNULL(CAST(street60 AS STRING), \"\"), \n",
    "            IFNULL(CAST(str_suppl2 AS STRING), \"\"), \n",
    "            IFNULL(CAST(str_suppl3 AS STRING), \"\"), \n",
    "            IFNULL(CAST(str_suppl4 AS STRING), \"\"), \n",
    "            IFNULL(CAST(city_1 AS STRING), \"\"), \n",
    "            IFNULL(CAST(city_2 AS STRING), \"\")\n",
    "        )) hash_id, \n",
    "        *, \n",
    "        DATE(proc_date) start_date \n",
    "    FROM temp\n",
    "),\n",
    "main_2 AS (\n",
    "    SELECT *, LAG(hash_id,1) OVER (PARTITION BY addr_numbr ORDER BY proc_date) hash_id_prev \n",
    "    FROM main\n",
    "),\n",
    "main_3 AS (\n",
    "    SELECT * EXCEPT(hash_id_prev) \n",
    "    FROM main_2 \n",
    "    WHERE (hash_id != hash_id_prev OR hash_id_prev IS NULL)\n",
    "),\n",
    "main_4 AS (\n",
    "    SELECT *, LEAD(DATE(proc_date)) OVER (PARTITION BY addr_numbr ORDER BY proc_date ASC) end_date \n",
    "    FROM main_3\n",
    ")\n",
    "SELECT \n",
    "    * EXCEPT(end_date), \n",
    "    IFNULL(DATE_ADD(end_date,-1), '2400-01-01') end_date \n",
    "FROM main_4 \"\"\")"
   ]
  },
  {
   "cell_type": "code",
   "execution_count": 0,
   "metadata": {
    "application/vnd.databricks.v1+cell": {
     "cellMetadata": {
      "byteLimit": 2048000,
      "rowLimit": 10000
     },
     "inputWidgets": {},
     "nuid": "2a0647a5-406e-45dd-9ee0-ebdfe5502748",
     "showTitle": false,
     "tableResultSettingsMap": {},
     "title": ""
    }
   },
   "outputs": [],
   "source": [
    "spark.sql(f\"\"\"\n",
    "MERGE INTO {catalog_name}.udp_wcm_silver_sap_bw.sap_paddr_numbr inf_tbl\n",
    "USING (\n",
    "    SELECT addr_numbr, hash_id, start_date \n",
    "    FROM sap_paddr_numbr\n",
    "    WHERE end_date = CAST('2400-01-01' AS DATE)\n",
    ") tmp_tbl \n",
    "ON inf_tbl.addr_numbr = tmp_tbl.addr_numbr \n",
    "    AND inf_tbl.hash_id != tmp_tbl.hash_id \n",
    "    AND inf_tbl.end_date = CAST('2400-01-01' AS DATE)\n",
    "WHEN MATCHED THEN UPDATE SET inf_tbl.end_date = DATE_ADD(tmp_tbl.start_date,-1)\"\"\")"
   ]
  },
  {
   "cell_type": "code",
   "execution_count": 0,
   "metadata": {
    "application/vnd.databricks.v1+cell": {
     "cellMetadata": {
      "byteLimit": 2048000,
      "rowLimit": 10000
     },
     "inputWidgets": {},
     "nuid": "4dedef5f-52bb-464a-a320-8ee2b37e118f",
     "showTitle": false,
     "tableResultSettingsMap": {},
     "title": ""
    }
   },
   "outputs": [],
   "source": [
    "spark.sql(f\"\"\"\n",
    "MERGE INTO {catalog_name}.udp_wcm_silver_sap_bw.sap_paddr_numbr inf_tbl\n",
    "USING sap_paddr_numbr tmp_tbl \n",
    "ON inf_tbl.hash_id = tmp_tbl.hash_id  AND inf_tbl.end_date = DATE('2400-01-01')\n",
    "WHEN NOT MATCHED THEN INSERT * \"\"\")"
   ]
  }
 ],
 "metadata": {
  "application/vnd.databricks.v1+notebook": {
   "computePreferences": {
    "hardware": {
     "accelerator": null,
     "gpuPoolId": null,
     "memory": "HIGH"
    }
   },
   "dashboards": [],
   "environmentMetadata": {
    "base_environment": "",
    "environment_version": "2"
   },
   "inputWidgetPreferences": null,
   "language": "python",
   "notebookMetadata": {
    "mostRecentlyExecutedCommandWithImplicitDF": {
     "commandId": 7367573557493377,
     "dataframes": [
      "_sqldf"
     ]
    },
    "pythonIndentUnit": 4
   },
   "notebookName": "sap_paddr_numbr",
   "widgets": {
    "environment": {
     "currentValue": "DEV",
     "nuid": "b86d1834-1e79-4268-b9cb-ea21cb55e4df",
     "typedWidgetInfo": {
      "autoCreated": false,
      "defaultValue": "",
      "label": "",
      "name": "environment",
      "options": {
       "widgetDisplayType": "Text",
       "validationRegex": null
      },
      "parameterDataType": "String"
     },
     "widgetInfo": {
      "widgetType": "text",
      "defaultValue": "",
      "label": "",
      "name": "environment",
      "options": {
       "widgetType": "text",
       "autoCreated": null,
       "validationRegex": null
      }
     }
    },
    "proc_date": {
     "currentValue": "2025-07-15",
     "nuid": "4dfcb97b-ca16-40d9-934b-d85e790df020",
     "typedWidgetInfo": {
      "autoCreated": false,
      "defaultValue": "",
      "label": null,
      "name": "proc_date",
      "options": {
       "widgetDisplayType": "Text",
       "validationRegex": null
      },
      "parameterDataType": "String"
     },
     "widgetInfo": {
      "widgetType": "text",
      "defaultValue": "",
      "label": null,
      "name": "proc_date",
      "options": {
       "widgetType": "text",
       "autoCreated": null,
       "validationRegex": null
      }
     }
    }
   }
  },
  "language_info": {
   "name": "python"
  }
 },
 "nbformat": 4,
 "nbformat_minor": 0
}
