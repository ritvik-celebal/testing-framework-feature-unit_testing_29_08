{
 "cells": [
  {
   "cell_type": "code",
   "execution_count": 0,
   "metadata": {
    "application/vnd.databricks.v1+cell": {
     "cellMetadata": {
      "byteLimit": 2048000,
      "rowLimit": 10000
     },
     "inputWidgets": {},
     "nuid": "9584fd31-6051-455a-b3e4-5ca1962667c7",
     "showTitle": false,
     "tableResultSettingsMap": {},
     "title": ""
    }
   },
   "outputs": [],
   "source": [
    "dbutils.widgets.text(\"proc_date\", \"\")\n",
    "proc_date = dbutils.widgets.get(\"proc_date\")"
   ]
  },
  {
   "cell_type": "code",
   "execution_count": 0,
   "metadata": {
    "application/vnd.databricks.v1+cell": {
     "cellMetadata": {
      "byteLimit": 2048000,
      "rowLimit": 10000
     },
     "inputWidgets": {},
     "nuid": "d55d73bd-c0b5-414c-9ddc-df70719c9a54",
     "showTitle": false,
     "tableResultSettingsMap": {},
     "title": ""
    }
   },
   "outputs": [],
   "source": [
    "%run ../../../utils/common"
   ]
  },
  {
   "cell_type": "code",
   "execution_count": 0,
   "metadata": {
    "application/vnd.databricks.v1+cell": {
     "cellMetadata": {
      "byteLimit": 2048000,
      "rowLimit": 10000
     },
     "inputWidgets": {},
     "nuid": "70d3b269-b1d7-4a35-9a03-503a8c9877d5",
     "showTitle": false,
     "tableResultSettingsMap": {},
     "title": ""
    }
   },
   "outputs": [],
   "source": [
    "dbutils.widgets.text(\"environment\", \"\", \"\")\n",
    "environment = dbutils.widgets.get(\"environment\")"
   ]
  },
  {
   "cell_type": "code",
   "execution_count": 0,
   "metadata": {
    "application/vnd.databricks.v1+cell": {
     "cellMetadata": {
      "byteLimit": 2048000,
      "rowLimit": 10000
     },
     "inputWidgets": {},
     "nuid": "6e7fff38-e6ff-4368-bf15-6f524fb6b57b",
     "showTitle": false,
     "tableResultSettingsMap": {},
     "title": ""
    }
   },
   "outputs": [],
   "source": [
    "catalog_name = settings[environment]['catalog_name']"
   ]
  },
  {
   "cell_type": "code",
   "execution_count": 0,
   "metadata": {
    "application/vnd.databricks.v1+cell": {
     "cellMetadata": {
      "byteLimit": 2048000,
      "rowLimit": 10000
     },
     "inputWidgets": {},
     "nuid": "e04fa29d-5d32-4add-8ec1-b580ea3b09b3",
     "showTitle": false,
     "tableResultSettingsMap": {},
     "title": ""
    }
   },
   "outputs": [],
   "source": [
    "create_temp_view_with_clean_columns(\n",
    "    spark,\n",
    "    catalog_name,\n",
    "    'udp_wcm_bronze_sap_bw',\n",
    "    'sap_bw_wcm_vcdmdmm13',\n",
    "    proc_date,\n",
    "    'temp_sap_asm_article'\n",
    ")"
   ]
  },
  {
   "cell_type": "code",
   "execution_count": 0,
   "metadata": {
    "application/vnd.databricks.v1+cell": {
     "cellMetadata": {
      "byteLimit": 2048000,
      "rowLimit": 10000
     },
     "inputWidgets": {},
     "nuid": "be294712-4e1b-4fb6-a08d-22d48becc582",
     "showTitle": false,
     "tableResultSettingsMap": {},
     "title": ""
    }
   },
   "outputs": [],
   "source": [
    "spark.sql(f\"\"\"\n",
    "  CREATE TABLE IF NOT EXISTS {catalog_name}.udp_wcm_silver_sap_bw.sap_asm_article\n",
    "  (\n",
    "  hash_id BIGINT,\n",
    "  assortment STRING,\n",
    "  article STRING,\n",
    "  date_from DATE,\n",
    "  date_to DATE,\n",
    "  lfdnr STRING,\n",
    "  strnr STRING,\n",
    "  vrkme STRING,\n",
    "  pflkn STRING,\n",
    "  last_update_date DATE,\n",
    "  sstat STRING,\n",
    "  lifnr STRING,\n",
    "  proc_date DATE,\n",
    "  is_delete BIGINT,\n",
    "  ursac STRING,\n",
    "  file_creation_ts TIMESTAMP\n",
    "  )\n",
    "  TBLPROPERTIES (\n",
    "  'DELTA.AUTOOPTIMIZE.OPTIMIZEWRITE' = 'TRUE',\n",
    "  'DELTA.AUTOOPTIMIZE.AUTOCOMPACT' = 'TRUE'\n",
    ")\n",
    "  \"\"\"\n",
    ")"
   ]
  },
  {
   "cell_type": "code",
   "execution_count": 0,
   "metadata": {
    "application/vnd.databricks.v1+cell": {
     "cellMetadata": {
      "byteLimit": 2048000,
      "rowLimit": 10000
     },
     "inputWidgets": {},
     "nuid": "f3240b68-bce5-48f0-a207-288c04179d02",
     "showTitle": false,
     "tableResultSettingsMap": {},
     "title": ""
    }
   },
   "outputs": [],
   "source": [
    "spark.sql(f\"\"\"CREATE OR REPLACE TEMP VIEW sap_asm_article AS\n",
    "SELECT\n",
    "  FARM_FINGERPRINT(CONCAT(\n",
    "    COALESCE(CAST(filia AS STRING), \"\"),\n",
    "    COALESCE(CAST(artnr AS STRING), \"\"),\n",
    "    COALESCE(CAST(datab AS STRING), \"\"),\n",
    "    COALESCE(CAST(datbi AS STRING), \"\"),\n",
    "    COALESCE(CAST(lfdnr AS STRING), \"\"),\n",
    "    COALESCE(CAST(vrkme AS STRING), \"\"),\n",
    "    COALESCE(CAST(ursac AS STRING), \"\")\n",
    "  )) AS hash_id,\n",
    "  LTRIM('0', filia) AS assortment,\n",
    "  LTRIM('0', artnr) AS article,\n",
    "  TO_DATE(IF(datab = '99991231', '24000101', datab), 'yyyyMMdd') AS date_from,\n",
    "  TO_DATE(IF(datbi = '99991231', '24000101', datbi), 'yyyyMMdd') AS date_to,\n",
    "  IF (lfdnr = '', NULL, lfdnr) AS lfdnr,\n",
    "  IF (strnr = '', NULL ,LTRIM('0', strnr)) AS strnr,\n",
    "  IF (vrkme = '', NULL, vrkme) AS vrkme,\n",
    "  IF (pflkn = '', NULL, pflkn) AS pflkn,\n",
    "  TO_DATE(IF(datae = '99991231', '24000101', datae), 'yyyyMMdd') AS last_update_date,\n",
    "  IF (sstat = '', NULL,sstat) AS sstat,\n",
    "  IF (lifnr = '', NULL, LTRIM('0', lifnr)) AS lifnr,\n",
    "  proc_date,\n",
    "  IF (datae = MAX(datae) OVER (PARTITION BY filia, artnr, ursac), 0, 1) AS is_delete,\n",
    "  IF (ursac = '', NULL, LTRIM('0', ursac)) AS ursac,\n",
    "  file_creation_ts\n",
    "FROM temp_sap_asm_article ;\n",
    "\"\"\")"
   ]
  },
  {
   "cell_type": "code",
   "execution_count": 0,
   "metadata": {
    "application/vnd.databricks.v1+cell": {
     "cellMetadata": {
      "byteLimit": 2048000,
      "rowLimit": 10000
     },
     "inputWidgets": {},
     "nuid": "41868147-c7df-42bb-ab02-c9fbf895eb03",
     "showTitle": false,
     "tableResultSettingsMap": {},
     "title": ""
    }
   },
   "outputs": [],
   "source": [
    "spark.sql(f\"\"\"DELETE FROM {catalog_name}.udp_wcm_silver_sap_bw.sap_asm_article WHERE hash_id IN (SELECT hash_id FROM sap_asm_article);\"\"\")"
   ]
  },
  {
   "cell_type": "code",
   "execution_count": 0,
   "metadata": {
    "application/vnd.databricks.v1+cell": {
     "cellMetadata": {
      "byteLimit": 2048000,
      "rowLimit": 10000
     },
     "inputWidgets": {},
     "nuid": "2c91bc4f-1e56-4f1c-80ec-53de21806c86",
     "showTitle": false,
     "tableResultSettingsMap": {},
     "title": ""
    }
   },
   "outputs": [],
   "source": [
    "spark.sql(f\"\"\" INSERT INTO {catalog_name}.udp_wcm_silver_sap_bw.sap_asm_article SELECT * FROM sap_asm_article\"\"\")"
   ]
  }
 ],
 "metadata": {
  "application/vnd.databricks.v1+notebook": {
   "computePreferences": null,
   "dashboards": [],
   "environmentMetadata": {
    "base_environment": "",
    "environment_version": "2"
   },
   "inputWidgetPreferences": null,
   "language": "python",
   "notebookMetadata": {
    "mostRecentlyExecutedCommandWithImplicitDF": {
     "commandId": -1,
     "dataframes": [
      "_sqldf"
     ]
    },
    "pythonIndentUnit": 4
   },
   "notebookName": "sap_asm_article",
   "widgets": {
    "environment": {
     "currentValue": "DEV",
     "nuid": "4e4ee8d6-a249-46d6-962b-0661278d573c",
     "typedWidgetInfo": {
      "autoCreated": false,
      "defaultValue": "",
      "label": "",
      "name": "environment",
      "options": {
       "widgetDisplayType": "Text",
       "validationRegex": null
      },
      "parameterDataType": "String"
     },
     "widgetInfo": {
      "widgetType": "text",
      "defaultValue": "",
      "label": "",
      "name": "environment",
      "options": {
       "widgetType": "text",
       "autoCreated": null,
       "validationRegex": null
      }
     }
    },
    "proc_date": {
     "currentValue": "2025-06-02",
     "nuid": "05d9d11e-fd99-4803-a5d3-3a914371ad36",
     "typedWidgetInfo": {
      "autoCreated": false,
      "defaultValue": "",
      "label": null,
      "name": "proc_date",
      "options": {
       "widgetDisplayType": "Text",
       "validationRegex": null
      },
      "parameterDataType": "String"
     },
     "widgetInfo": {
      "widgetType": "text",
      "defaultValue": "",
      "label": null,
      "name": "proc_date",
      "options": {
       "widgetType": "text",
       "autoCreated": null,
       "validationRegex": null
      }
     }
    }
   }
  },
  "language_info": {
   "name": "python"
  }
 },
 "nbformat": 4,
 "nbformat_minor": 0
}
