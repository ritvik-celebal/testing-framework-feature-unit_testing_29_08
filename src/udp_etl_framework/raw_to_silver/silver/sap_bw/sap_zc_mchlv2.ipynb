{
 "cells": [
  {
   "cell_type": "code",
   "execution_count": 0,
   "metadata": {
    "application/vnd.databricks.v1+cell": {
     "cellMetadata": {
      "byteLimit": 2048000,
      "rowLimit": 10000
     },
     "inputWidgets": {},
     "nuid": "1b42a143-7e62-40c1-9fef-2d7a46e3df54",
     "showTitle": false,
     "tableResultSettingsMap": {},
     "title": ""
    }
   },
   "outputs": [],
   "source": [
    "dbutils.widgets.text(\"proc_date\", \"\")\n",
    "proc_date = dbutils.widgets.get(\"proc_date\")"
   ]
  },
  {
   "cell_type": "code",
   "execution_count": 0,
   "metadata": {
    "application/vnd.databricks.v1+cell": {
     "cellMetadata": {
      "byteLimit": 2048000,
      "rowLimit": 10000
     },
     "inputWidgets": {},
     "nuid": "d55d73bd-c0b5-414c-9ddc-df70719c9a54",
     "showTitle": false,
     "tableResultSettingsMap": {},
     "title": ""
    }
   },
   "outputs": [],
   "source": [
    "%run ../../../utils/common"
   ]
  },
  {
   "cell_type": "code",
   "execution_count": 0,
   "metadata": {
    "application/vnd.databricks.v1+cell": {
     "cellMetadata": {
      "byteLimit": 2048000,
      "rowLimit": 10000
     },
     "inputWidgets": {},
     "nuid": "52d5b9af-3ec1-4735-90bf-e47239c4cd72",
     "showTitle": false,
     "tableResultSettingsMap": {},
     "title": ""
    }
   },
   "outputs": [],
   "source": [
    "dbutils.widgets.text(\"environment\", \"\")\n",
    "environment = dbutils.widgets.get(\"environment\")"
   ]
  },
  {
   "cell_type": "code",
   "execution_count": 0,
   "metadata": {
    "application/vnd.databricks.v1+cell": {
     "cellMetadata": {
      "byteLimit": 2048000,
      "rowLimit": 10000
     },
     "inputWidgets": {},
     "nuid": "07f3b1fc-aa2f-4163-b130-fb20f5de7425",
     "showTitle": false,
     "tableResultSettingsMap": {},
     "title": ""
    }
   },
   "outputs": [],
   "source": [
    "catalog_name = settings[environment]['catalog_name']"
   ]
  },
  {
   "cell_type": "code",
   "execution_count": 0,
   "metadata": {
    "application/vnd.databricks.v1+cell": {
     "cellMetadata": {
      "byteLimit": 2048000,
      "rowLimit": 10000
     },
     "inputWidgets": {},
     "nuid": "a8ffe6dd-953f-4e4f-b010-d5adf5853d79",
     "showTitle": false,
     "tableResultSettingsMap": {},
     "title": ""
    }
   },
   "outputs": [],
   "source": [
    "create_temp_view_with_clean_columns(\n",
    "    spark,\n",
    "    catalog_name,\n",
    "    'udp_wcm_bronze_sap_bw',\n",
    "    'sap_bw_wcm_zc_mchlv2',\n",
    "    proc_date,\n",
    "    'temp_sap_zc_mchlv2'\n",
    ")"
   ]
  },
  {
   "cell_type": "code",
   "execution_count": 0,
   "metadata": {
    "application/vnd.databricks.v1+cell": {
     "cellMetadata": {
      "byteLimit": 2048000,
      "rowLimit": 10000
     },
     "inputWidgets": {},
     "nuid": "be294712-4e1b-4fb6-a08d-22d48becc582",
     "showTitle": false,
     "tableResultSettingsMap": {},
     "title": ""
    }
   },
   "outputs": [],
   "source": [
    "spark.sql(f\"\"\"\n",
    "CREATE TABLE IF NOT EXISTS {catalog_name}.udp_wcm_silver_sap_bw.sap_zc_mchlv2\n",
    "( \n",
    "  hash_id BIGINT,\n",
    "  _bic_zc_mchlv2 STRING,\n",
    "  txtsh STRING,\n",
    "  txtmd STRING,\n",
    "  file_creation_ts TIMESTAMP,\n",
    "  proc_date DATE,\n",
    "  start_Date DATE,\n",
    "  end_date DATE\n",
    ") \n",
    "TBLPROPERTIES (\n",
    "  'DELTA.AUTOOPTIMIZE.OPTIMIZEWRITE' = 'TRUE',\n",
    "  'DELTA.AUTOOPTIMIZE.AUTOCOMPACT' = 'TRUE'\n",
    ")\n",
    "\"\"\")"
   ]
  },
  {
   "cell_type": "code",
   "execution_count": 0,
   "metadata": {
    "application/vnd.databricks.v1+cell": {
     "cellMetadata": {
      "byteLimit": 2048000,
      "rowLimit": 10000
     },
     "inputWidgets": {},
     "nuid": "2a39a26a-5354-4b2a-b0d1-e615d2b021df",
     "showTitle": false,
     "tableResultSettingsMap": {},
     "title": ""
    }
   },
   "outputs": [],
   "source": [
    "spark.sql(f\"\"\"\n",
    "\tCREATE OR REPLACE TEMP VIEW sap_zc_mchlv2\n",
    "\tAS\n",
    "\tWITH temp AS (\n",
    "\t\tSELECT * EXCEPT(rn) FROM (\n",
    "\t\t\tSELECT *, ROW_NUMBER() OVER (PARTITION BY _bic_zc_mchlv2, DATE(proc_date) ORDER BY proc_date) rn FROM (\n",
    "\t\t\t\tSELECT * FROM temp_sap_zc_mchlv2 \n",
    "\t\t\t) a\n",
    "\t\t) a WHERE rn = 1\n",
    "\t),\n",
    "\tmain AS (\n",
    "\t\tSELECT \n",
    "\t\t\tfarm_fingerprint(CONCAT(\n",
    "\t\t\t\tifnull(CAST(_bic_zc_mchlv2 AS STRING), \"\"), \n",
    "\t\t\t\tifnull(CAST(txtsh AS STRING), \"\"),\n",
    "\t\t\t\tifnull(CAST(txtmd AS STRING), \"\")\n",
    "\t\t\t)) hash_id,\n",
    "\t\t\t*, \n",
    "\t\t\tDATE(proc_date) start_date \n",
    "\t\tFROM temp\n",
    "\t),\n",
    "\tmain_2 AS (\n",
    "\t\tSELECT *, \n",
    "\t\t\tLAG(hash_id, 1) OVER (PARTITION BY _bic_zc_mchlv2 ORDER BY proc_date) hash_id_prev \n",
    "\t\tFROM main\n",
    "\t),\n",
    "\tmain_3 AS (\n",
    "\t\tSELECT * EXCEPT(hash_id_prev) \n",
    "\t\tFROM main_2 \n",
    "\t\tWHERE (hash_id != hash_id_prev OR hash_id_prev IS NULL)\n",
    "\t),\n",
    "\tmain_4 AS (\n",
    "\t\tSELECT *, \n",
    "\t\t\tLEAD(DATE(proc_date)) OVER (PARTITION BY _bic_zc_mchlv2 ORDER BY proc_date ASC) end_date \n",
    "\t\tFROM main_3\n",
    "\t)\n",
    "\tSELECT\n",
    "\t\t* EXCEPT(end_date), \n",
    "\t\tIFNULL(DATE_ADD(end_date, -1), '2400-01-01') end_date \n",
    "\tFROM main_4\n",
    "\"\"\")"
   ]
  },
  {
   "cell_type": "code",
   "execution_count": 0,
   "metadata": {
    "application/vnd.databricks.v1+cell": {
     "cellMetadata": {
      "byteLimit": 2048000,
      "rowLimit": 10000
     },
     "inputWidgets": {},
     "nuid": "73c62a93-0594-48d2-8aac-180995fd6d56",
     "showTitle": false,
     "tableResultSettingsMap": {},
     "title": ""
    }
   },
   "outputs": [],
   "source": [
    "spark.sql(f\"\"\"\n",
    "\tMERGE INTO {catalog_name}.udp_wcm_silver_sap_bw.sap_zc_mchlv2 inf_tbl\n",
    "\tUSING (\t\n",
    "\t\tSELECT _bic_zc_mchlv2, hash_id, start_date FROM sap_zc_mchlv2\n",
    "\t\t\tWHERE end_date = DATE '2400-01-01' \n",
    "\t) tmp_tbl\n",
    "\tON inf_tbl._bic_zc_mchlv2 = tmp_tbl._bic_zc_mchlv2 AND inf_tbl.hash_id != tmp_tbl.hash_id AND inf_tbl.end_date = DATE '2400-01-01'\n",
    "\tWHEN MATCHED THEN UPDATE SET inf_tbl.end_date = DATE_ADD(tmp_tbl.start_date,-1)\"\"\")"
   ]
  },
  {
   "cell_type": "code",
   "execution_count": 0,
   "metadata": {
    "application/vnd.databricks.v1+cell": {
     "cellMetadata": {
      "byteLimit": 2048000,
      "rowLimit": 10000
     },
     "inputWidgets": {},
     "nuid": "0f4036e6-9f8b-437e-bcad-06a2e22dae61",
     "showTitle": false,
     "tableResultSettingsMap": {},
     "title": ""
    }
   },
   "outputs": [],
   "source": [
    "spark.sql(f\"\"\"\n",
    "\tMERGE INTO {catalog_name}.udp_wcm_silver_sap_bw.sap_zc_mchlv2 inf_tbl\n",
    "\t\tUSING sap_zc_mchlv2 tmp_tbl\n",
    "\t\tON inf_tbl.hash_id = tmp_tbl.hash_id  AND inf_tbl.end_date = DATE '2400-01-01'\n",
    "\t\tWHEN NOT MATCHED THEN INSERT * \"\"\")"
   ]
  }
 ],
 "metadata": {
  "application/vnd.databricks.v1+notebook": {
   "computePreferences": null,
   "dashboards": [],
   "environmentMetadata": {
    "base_environment": "",
    "environment_version": "2"
   },
   "inputWidgetPreferences": null,
   "language": "python",
   "notebookMetadata": {
    "mostRecentlyExecutedCommandWithImplicitDF": {
     "commandId": 4733040628653189,
     "dataframes": [
      "_sqldf"
     ]
    },
    "pythonIndentUnit": 4
   },
   "notebookName": "sap_zc_mchlv2",
   "widgets": {
    "environment": {
     "currentValue": "DEV",
     "nuid": "4e4ee8d6-a249-46d6-962b-0661278d573c",
     "typedWidgetInfo": {
      "autoCreated": false,
      "defaultValue": "",
      "label": null,
      "name": "environment",
      "options": {
       "widgetDisplayType": "Text",
       "validationRegex": null
      },
      "parameterDataType": "String"
     },
     "widgetInfo": {
      "widgetType": "text",
      "defaultValue": "",
      "label": null,
      "name": "environment",
      "options": {
       "widgetType": "text",
       "autoCreated": null,
       "validationRegex": null
      }
     }
    },
    "proc_date": {
     "currentValue": "2025-05-31",
     "nuid": "3b30c778-b2bf-4c57-b441-d6a17d521c85",
     "typedWidgetInfo": {
      "autoCreated": false,
      "defaultValue": "",
      "label": null,
      "name": "proc_date",
      "options": {
       "widgetDisplayType": "Text",
       "validationRegex": null
      },
      "parameterDataType": "String"
     },
     "widgetInfo": {
      "widgetType": "text",
      "defaultValue": "",
      "label": null,
      "name": "proc_date",
      "options": {
       "widgetType": "text",
       "autoCreated": null,
       "validationRegex": null
      }
     }
    }
   }
  },
  "language_info": {
   "name": "python"
  }
 },
 "nbformat": 4,
 "nbformat_minor": 0
}
