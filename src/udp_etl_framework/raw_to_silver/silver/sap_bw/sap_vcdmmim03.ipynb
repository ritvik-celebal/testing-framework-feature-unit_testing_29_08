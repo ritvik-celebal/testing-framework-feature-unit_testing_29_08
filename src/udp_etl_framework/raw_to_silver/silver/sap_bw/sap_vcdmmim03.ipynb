{
 "cells": [
  {
   "cell_type": "code",
   "execution_count": 0,
   "metadata": {
    "application/vnd.databricks.v1+cell": {
     "cellMetadata": {
      "byteLimit": 2048000,
      "rowLimit": 10000
     },
     "inputWidgets": {},
     "nuid": "9dbf9f49-b3cf-41c1-81a8-11f94b278fe0",
     "showTitle": false,
     "tableResultSettingsMap": {},
     "title": ""
    }
   },
   "outputs": [],
   "source": [
    "dbutils.widgets.text(\"proc_date\", \"\")\n",
    "proc_date = dbutils.widgets.get(\"proc_date\")"
   ]
  },
  {
   "cell_type": "code",
   "execution_count": 0,
   "metadata": {
    "application/vnd.databricks.v1+cell": {
     "cellMetadata": {
      "byteLimit": 2048000,
      "rowLimit": 10000
     },
     "inputWidgets": {},
     "nuid": "b1355133-e17f-4a30-a7cd-bd4b2be78e68",
     "showTitle": false,
     "tableResultSettingsMap": {},
     "title": ""
    }
   },
   "outputs": [],
   "source": [
    "%run ../../../utils/common"
   ]
  },
  {
   "cell_type": "code",
   "execution_count": 0,
   "metadata": {
    "application/vnd.databricks.v1+cell": {
     "cellMetadata": {
      "byteLimit": 2048000,
      "rowLimit": 10000
     },
     "inputWidgets": {},
     "nuid": "05a4e061-d6de-4e74-b9b0-8cb1db9c6477",
     "showTitle": false,
     "tableResultSettingsMap": {},
     "title": ""
    }
   },
   "outputs": [],
   "source": [
    "dbutils.widgets.text(\"environment\", \"\", \"\")\n",
    "environment = dbutils.widgets.get(\"environment\")"
   ]
  },
  {
   "cell_type": "code",
   "execution_count": 0,
   "metadata": {
    "application/vnd.databricks.v1+cell": {
     "cellMetadata": {
      "byteLimit": 2048000,
      "rowLimit": 10000
     },
     "inputWidgets": {},
     "nuid": "b36c83b9-988c-4220-b42f-771e083af70f",
     "showTitle": false,
     "tableResultSettingsMap": {},
     "title": ""
    }
   },
   "outputs": [],
   "source": [
    "catalog_name = settings[environment]['catalog_name']"
   ]
  },
  {
   "cell_type": "code",
   "execution_count": 0,
   "metadata": {
    "application/vnd.databricks.v1+cell": {
     "cellMetadata": {
      "byteLimit": 2048000,
      "rowLimit": 10000
     },
     "inputWidgets": {},
     "nuid": "bb7bb27e-b0cf-4075-b681-9f9296c425bd",
     "showTitle": false,
     "tableResultSettingsMap": {},
     "title": ""
    }
   },
   "outputs": [],
   "source": [
    "create_temp_view_with_clean_columns(\n",
    "    spark,\n",
    "    catalog_name,\n",
    "    'udp_wcm_bronze_sap_bw',\n",
    "    'sap_bw_wcm_vccmmim53',\n",
    "    proc_date,\n",
    "    'temp_sap_vcdmmim03'\n",
    ")"
   ]
  },
  {
   "cell_type": "code",
   "execution_count": 0,
   "metadata": {
    "application/vnd.databricks.v1+cell": {
     "cellMetadata": {
      "byteLimit": 2048000,
      "rowLimit": 10000
     },
     "inputWidgets": {},
     "nuid": "cc4d080b-d1b3-4e07-a436-a596648f8667",
     "showTitle": false,
     "tableResultSettingsMap": {},
     "title": ""
    }
   },
   "outputs": [],
   "source": [
    "spark.sql(f\"\"\"\n",
    "CREATE TABLE IF NOT EXISTS {catalog_name}.udp_wcm_silver_sap_bw.sap_vcdmmim03\n",
    "(\n",
    "  hash_id BIGINT,\n",
    "  recordmode STRING,\n",
    "  segment STRING,\n",
    "  zc_ltstgr DATE,\n",
    "  doc_year BIGINT,\n",
    "  bwcounter BIGINT,\n",
    "  mat_doc STRING,\n",
    "  mat_item BIGINT,\n",
    "  plant STRING,\n",
    "  stor_loc STRING,\n",
    "  strge_bin STRING,\n",
    "  whse_num STRING,\n",
    "  strge_type STRING,\n",
    "  move_plant STRING,\n",
    "  material STRING,\n",
    "  vendor STRING,\n",
    "  customer STRING,\n",
    "  batch STRING,\n",
    "  stocktype STRING,\n",
    "  stockcat STRING,\n",
    "  stockrelev STRING,\n",
    "  val_type STRING,\n",
    "  val_class STRING,\n",
    "  bwapplnm STRING,\n",
    "  processkey BIGINT,\n",
    "  movetype STRING,\n",
    "  indspecstk STRING,\n",
    "  valspecst STRING,\n",
    "  matmrea BIGINT,\n",
    "  dcindic STRING,\n",
    "  storno STRING,\n",
    "  comp_code STRING,\n",
    "  bus_area STRING,\n",
    "  co_area STRING,\n",
    "  profit_ctr STRING,\n",
    "  oi_ebeln STRING,\n",
    "  oi_ebelp BIGINT,\n",
    "  doc_number STRING,\n",
    "  s_ord_item BIGINT,\n",
    "  sched_line BIGINT,\n",
    "  coorder STRING,\n",
    "  wbs_elemt STRING,\n",
    "  chrt_accts STRING,\n",
    "  account STRING,\n",
    "  rt_promo STRING,\n",
    "  gn_r3_ssy STRING,\n",
    "  calday DATE,\n",
    "  calyear BIGINT,\n",
    "  fiscvarnt STRING,\n",
    "  doc_date DATE,\n",
    "  upd_date DATE,\n",
    "  base_uom STRING,\n",
    "  loc_currcy STRING,\n",
    "  zk_tp_qty DOUBLE,\n",
    "  zk_tp_val DOUBLE,\n",
    "  value_lc DOUBLE,\n",
    "  zk_ltstgr BIGINT,\n",
    "  cpquabu DOUBLE,\n",
    "  cppvlc DOUBLE,\n",
    "  cpsvlc DOUBLE,\n",
    "  cpstlc DOUBLE,\n",
    "  cpnoitems STRING,\n",
    "  proc_date DATE,\n",
    "  costcenter STRING,\n",
    "  file_creation_ts TIMESTAMP\n",
    ")\n",
    "TBLPROPERTIES (\n",
    "  'delta.autoOptimize.optimizeWrite' = 'TRUE',\n",
    "  'delta.autoOptimize.autoCompact' = 'TRUE'\n",
    ")\"\"\")\n"
   ]
  },
  {
   "cell_type": "code",
   "execution_count": 0,
   "metadata": {
    "application/vnd.databricks.v1+cell": {
     "cellMetadata": {
      "byteLimit": 2048000,
      "rowLimit": 10000
     },
     "inputWidgets": {},
     "nuid": "c3425c67-e5d6-43fd-8f5a-f265187d123b",
     "showTitle": false,
     "tableResultSettingsMap": {},
     "title": ""
    }
   },
   "outputs": [],
   "source": [
    "spark.sql(f\"\"\"\n",
    "CREATE OR REPLACE TEMP VIEW sap_vcdmmim03 AS\n",
    "WITH temp AS (\n",
    "  SELECT  reqtsn,\n",
    "          datapakid,\n",
    "          record,\n",
    "          recordmode,\n",
    "          IF(segment = '', NULL, CAST(CAST(segment AS BIGINT) AS STRING)) segment,\n",
    "          IF(_bic_zc_ltstgr = '00000000', NULL, TO_DATE(_bic_zc_ltstgr, 'yyyyMMdd')) zc_ltstgr,\n",
    "          CAST(doc_year AS BIGINT) doc_year,\n",
    "          CAST(bwcounter AS BIGINT) bwcounter,\n",
    "          IF(mat_doc = '', NULL, mat_doc) mat_doc,\n",
    "          CAST(mat_item AS BIGINT) mat_item,\n",
    "          IF(plant = '', NULL, LTRIM('0', plant)) plant,\n",
    "          IF(stor_loc = '', NULL, stor_loc) stor_loc,\n",
    "          IF(strge_bin = '', NULL, strge_bin) strge_bin,\n",
    "          IF(whse_num = '', NULL, whse_num) whse_num,\n",
    "          IF(strge_type = '', NULL, strge_type) strge_type,\n",
    "          IF(move_plant = '', NULL, move_plant) move_plant,\n",
    "          IF(REGEXP_LIKE(material, '^[0-9]+$'), CAST(CAST(material AS BIGINT) AS STRING), material) material,\n",
    "          IF(vendor = '', NULL, vendor) vendor,\n",
    "          IF(customer = '', NULL, customer) customer,\n",
    "          IF(batch = '', NULL, batch) batch,\n",
    "          IF(stocktype = '', NULL, stocktype) stocktype,\n",
    "          IF(stockcat = '', NULL, stockcat) stockcat,\n",
    "          IF(stockrelev = '', NULL, stockrelev) stockrelev,\n",
    "          IF(val_type = '', NULL, val_type) val_type,\n",
    "          IF(val_class = '', NULL, val_class) val_class,\n",
    "          IF(bwapplnm = '', NULL, bwapplnm) bwapplnm,\n",
    "          CAST(processkey AS BIGINT) processkey,\n",
    "          IF(movetype = '', NULL, movetype) movetype,\n",
    "          IF(indspecstk = '', NULL, indspecstk) indspecstk,\n",
    "          IF(valspecst = '', NULL, valspecst) valspecst,\n",
    "          CAST(matmrea AS BIGINT) matmrea,\n",
    "          IF(dcindic = '', NULL, dcindic) dcindic,\n",
    "          IF(storno = '', NULL, storno) storno,\n",
    "          IF(comp_code = '', NULL, comp_code) comp_code,\n",
    "          IF(bus_area = '', NULL, bus_area) bus_area,\n",
    "          IF(co_area = '', NULL, co_area) co_area,\n",
    "          IF(costcenter = '', NULL, LTRIM('0', costcenter)) costcenter,\n",
    "          IF(REGEXP_LIKE(profit_ctr, '^[0-9]+$'), CAST(CAST(profit_ctr AS BIGINT) AS STRING),IF(profit_ctr = '', NULL, profit_ctr)) profit_ctr,\n",
    "          IF(oi_ebeln = '', NULL, oi_ebeln) oi_ebeln,\n",
    "          CAST(oi_ebelp AS BIGINT) oi_ebelp,\n",
    "          IF(doc_number = '', NULL, doc_number) doc_number,\n",
    "          CAST(s_ord_item AS BIGINT) s_ord_item,\n",
    "          CAST(sched_line AS BIGINT) sched_line,\n",
    "          IF(coorder = '', NULL, coorder) coorder,\n",
    "          IF(wbs_elemt = '', NULL, wbs_elemt) wbs_elemt,\n",
    "          IF(chrt_accts = '', NULL, chrt_accts) chrt_accts,\n",
    "          IF(account = '', NULL, account) account,\n",
    "          IF(rt_promo = '', NULL, rt_promo) rt_promo,\n",
    "          IF(gn_r3_ssy = '', NULL, gn_r3_ssy) gn_r3_ssy,\n",
    "          IF(calday = '00000000', NULL, TO_DATE(calday, 'yyyyMMdd')) calday,\n",
    "          IF(fiscvarnt = '', NULL, fiscvarnt) fiscvarnt,\n",
    "          IF(doc_date = '00000000', NULL, TO_DATE(doc_date, 'yyyyMMdd')) doc_date,\n",
    "          IF(upd_date = '00000000', NULL, TO_DATE(upd_date, 'yyyyMMdd')) upd_date,\n",
    "          IF(base_uom = '', NULL, base_uom) base_uom,\n",
    "          IF(loc_currcy = '', NULL, loc_currcy) loc_currcy,\n",
    "          _bic_zk_tp_qty zk_tp_qty,\n",
    "          _bic_zk_tp_val * 100 zk_tp_val,\n",
    "          value_lc * 100 value_lc,\n",
    "          CAST(_bic_zk_ltstgr AS BIGINT) zk_ltstgr,\n",
    "          cpquabu,\n",
    "          cppvlc * 100 cppvlc,\n",
    "          cpsvlc * 100 cpsvlc,\n",
    "          cpstlc * 100 cpstlc,\n",
    "          CAST(cpnoitems AS STRING) cpnoitems,\n",
    "          proc_date,\n",
    "          file_creation_ts\n",
    "  FROM (\n",
    "    SELECT * EXCEPT(rn) FROM (\n",
    "      SELECT *, ROW_NUMBER() OVER (PARTITION BY reqtsn, datapakid, record ORDER BY proc_date DESC) rn\n",
    "      FROM temp_sap_vcdmmim03\n",
    "    ) a\n",
    "    WHERE rn = 1\n",
    "  ) a\n",
    "),\n",
    "main AS (\n",
    "  SELECT\n",
    "    farm_fingerprint(CONCAT(\n",
    "      IFNULL(CAST(fiscvarnt AS STRING), ''),\n",
    "      IFNULL(CAST(doc_year AS STRING), ''),\n",
    "      IFNULL(CAST(mat_doc AS STRING), ''),\n",
    "      IFNULL(CAST(mat_item AS STRING), ''),\n",
    "      IFNULL(CAST(bwcounter AS STRING), '')\n",
    "    )) AS hash_id,\n",
    "    *\n",
    "  FROM temp\n",
    "),\n",
    "main_2 AS (\n",
    "  SELECT *,\n",
    "         ROW_NUMBER() OVER (PARTITION BY hash_id ORDER BY reqtsn DESC, datapakid DESC, record DESC) rn\n",
    "  FROM main\n",
    ")\n",
    "SELECT\n",
    "  * EXCEPT(rn, reqtsn, datapakid, record)\n",
    "FROM main_2\n",
    "WHERE rn = 1\n",
    "\"\"\")"
   ]
  },
  {
   "cell_type": "code",
   "execution_count": 0,
   "metadata": {
    "application/vnd.databricks.v1+cell": {
     "cellMetadata": {
      "byteLimit": 2048000,
      "rowLimit": 10000
     },
     "inputWidgets": {},
     "nuid": "7ec0457d-174f-48bb-8620-19f4a7ab6d61",
     "showTitle": false,
     "tableResultSettingsMap": {},
     "title": ""
    }
   },
   "outputs": [],
   "source": [
    "calday_query = f\"\"\"\n",
    "SELECT\n",
    "    CONCAT(\"'\", CONCAT_WS(\"','\", COLLECT_SET(CAST(TO_DATE(calday, 'yyyy-MM-dd') AS STRING))), \"'\") AS calday_in_str\n",
    "FROM sap_vcdmmim03\n",
    "\"\"\"\n",
    "calday_df = spark.sql(calday_query)\n",
    "calday_in_str = calday_df.collect()[0][0]\n",
    "print(calday_in_str)"
   ]
  },
  {
   "cell_type": "code",
   "execution_count": 0,
   "metadata": {
    "application/vnd.databricks.v1+cell": {
     "cellMetadata": {
      "byteLimit": 2048000,
      "rowLimit": 10000
     },
     "inputWidgets": {},
     "nuid": "56515f1b-60de-4f60-857d-e8dc3188b475",
     "showTitle": false,
     "tableResultSettingsMap": {},
     "title": ""
    }
   },
   "outputs": [],
   "source": [
    "exclude_columns = [\"calday\", \"hash_id\"]  # Columns to exclude from update\n",
    "source_columns = spark.table(\"sap_vcdmmim03\").columns\n",
    "insert_columns = \", \".join(source_columns)\n",
    "insert_values = \", \".join([f\"temp_tbl.{col}\" for col in source_columns])\n",
    "\n",
    "update_columns = [f\"main_tbl.{col} = temp_tbl.{col}\" \n",
    "                 for col in source_columns \n",
    "                 if col.lower() not in [e.lower() for e in exclude_columns]]\n",
    "update_set = \",\\n    \".join(update_columns)"
   ]
  },
  {
   "cell_type": "code",
   "execution_count": 0,
   "metadata": {
    "application/vnd.databricks.v1+cell": {
     "cellMetadata": {
      "byteLimit": 2048000,
      "rowLimit": 10000
     },
     "inputWidgets": {},
     "nuid": "823b462b-6794-435c-8d30-f0c0d0e1e511",
     "showTitle": false,
     "tableResultSettingsMap": {},
     "title": ""
    }
   },
   "outputs": [],
   "source": [
    "spark.sql(f\"\"\"\n",
    "MERGE INTO {catalog_name}.udp_wcm_silver_sap_bw.sap_vcdmmim03 main_tbl\n",
    "USING sap_vcdmmim03 temp_tbl\n",
    "ON main_tbl.hash_id = temp_tbl.hash_id\n",
    "AND main_tbl.calday IN ({calday_in_str})\n",
    "WHEN MATCHED THEN UPDATE SET {update_set}\n",
    "WHEN NOT MATCHED THEN INSERT ({insert_columns}) VALUES ({insert_values})\n",
    "\"\"\")"
   ]
  }
 ],
 "metadata": {
  "application/vnd.databricks.v1+notebook": {
   "computePreferences": null,
   "dashboards": [],
   "environmentMetadata": {
    "base_environment": "",
    "environment_version": "2"
   },
   "inputWidgetPreferences": null,
   "language": "python",
   "notebookMetadata": {
    "mostRecentlyExecutedCommandWithImplicitDF": {
     "commandId": 6350561386715423,
     "dataframes": [
      "_sqldf"
     ]
    },
    "pythonIndentUnit": 4
   },
   "notebookName": "sap_vcdmmim03",
   "widgets": {
    "environment": {
     "currentValue": "DEV",
     "nuid": "55ccf5c4-054b-4d67-9f1a-4d03031ab206",
     "typedWidgetInfo": {
      "autoCreated": false,
      "defaultValue": "",
      "label": "",
      "name": "environment",
      "options": {
       "widgetDisplayType": "Text",
       "validationRegex": null
      },
      "parameterDataType": "String"
     },
     "widgetInfo": {
      "widgetType": "text",
      "defaultValue": "",
      "label": "",
      "name": "environment",
      "options": {
       "widgetType": "text",
       "autoCreated": null,
       "validationRegex": null
      }
     }
    },
    "proc_date": {
     "currentValue": "2025-07-15",
     "nuid": "367d92cf-b641-4845-87c1-0c155cc3e24f",
     "typedWidgetInfo": {
      "autoCreated": false,
      "defaultValue": "",
      "label": null,
      "name": "proc_date",
      "options": {
       "widgetDisplayType": "Text",
       "validationRegex": null
      },
      "parameterDataType": "String"
     },
     "widgetInfo": {
      "widgetType": "text",
      "defaultValue": "",
      "label": null,
      "name": "proc_date",
      "options": {
       "widgetType": "text",
       "autoCreated": null,
       "validationRegex": null
      }
     }
    }
   }
  },
  "language_info": {
   "name": "python"
  }
 },
 "nbformat": 4,
 "nbformat_minor": 0
}
