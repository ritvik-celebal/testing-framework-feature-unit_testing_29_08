{
 "cells": [
  {
   "cell_type": "code",
   "execution_count": 0,
   "metadata": {
    "application/vnd.databricks.v1+cell": {
     "cellMetadata": {
      "byteLimit": 2048000,
      "rowLimit": 10000
     },
     "inputWidgets": {},
     "nuid": "c89026c0-77a3-4e19-a127-749c26f489bb",
     "showTitle": false,
     "tableResultSettingsMap": {},
     "title": ""
    }
   },
   "outputs": [],
   "source": [
    "dbutils.widgets.text(\"proc_date\", \"\")\n",
    "proc_date = dbutils.widgets.get(\"proc_date\")"
   ]
  },
  {
   "cell_type": "code",
   "execution_count": 0,
   "metadata": {
    "application/vnd.databricks.v1+cell": {
     "cellMetadata": {
      "byteLimit": 2048000,
      "rowLimit": 10000
     },
     "inputWidgets": {},
     "nuid": "dd47e17f-b43f-4e48-93a4-1f6f9d9d1b6e",
     "showTitle": false,
     "tableResultSettingsMap": {},
     "title": ""
    }
   },
   "outputs": [],
   "source": [
    "%run ../../../utils/common"
   ]
  },
  {
   "cell_type": "code",
   "execution_count": 0,
   "metadata": {
    "application/vnd.databricks.v1+cell": {
     "cellMetadata": {
      "byteLimit": 2048000,
      "rowLimit": 10000
     },
     "inputWidgets": {},
     "nuid": "83a5ff62-0664-4883-b4f1-7305868ca6b9",
     "showTitle": false,
     "tableResultSettingsMap": {},
     "title": ""
    }
   },
   "outputs": [],
   "source": [
    "dbutils.widgets.text(\"environment\", \"\", \"\")\n",
    "environment = dbutils.widgets.get(\"environment\")"
   ]
  },
  {
   "cell_type": "code",
   "execution_count": 0,
   "metadata": {
    "application/vnd.databricks.v1+cell": {
     "cellMetadata": {
      "byteLimit": 2048000,
      "rowLimit": 10000
     },
     "inputWidgets": {},
     "nuid": "6fdc2724-5131-4fe5-98e2-c829905ed7ea",
     "showTitle": false,
     "tableResultSettingsMap": {},
     "title": ""
    }
   },
   "outputs": [],
   "source": [
    "catalog_name = settings[environment]['catalog_name']"
   ]
  },
  {
   "cell_type": "code",
   "execution_count": 0,
   "metadata": {
    "application/vnd.databricks.v1+cell": {
     "cellMetadata": {},
     "inputWidgets": {},
     "nuid": "1cd681ac-a2d6-40ef-b0b9-19712748cc60",
     "showTitle": false,
     "tableResultSettingsMap": {},
     "title": ""
    }
   },
   "outputs": [],
   "source": [
    "create_temp_view_with_clean_columns(\n",
    "    spark,\n",
    "    catalog_name,\n",
    "    'udp_wcm_bronze_sap_bw',\n",
    "    'sap_bw_wcm_vcdext01',\n",
    "    proc_date,\n",
    "    'temp_sap_vcdext01'\n",
    ")"
   ]
  },
  {
   "cell_type": "code",
   "execution_count": 0,
   "metadata": {
    "application/vnd.databricks.v1+cell": {
     "cellMetadata": {
      "byteLimit": 2048000,
      "implicitDf": true,
      "rowLimit": 10000
     },
     "inputWidgets": {},
     "nuid": "36579b9e-7a1b-4e50-b721-75eaf3aca29c",
     "showTitle": false,
     "tableResultSettingsMap": {},
     "title": ""
    }
   },
   "outputs": [],
   "source": [
    "spark.sql(f\"\"\"\n",
    "CREATE TABLE IF NOT EXISTS {catalog_name}.udp_wcm_silver_sap_bw.sap_vcdext01\n",
    "( \n",
    "hash_id BIGINT,\n",
    "plant STRING,\n",
    "calday DATE,\n",
    "rpa_wid STRING,\n",
    "rpa_tnr STRING,\n",
    "_bic_zc_fgroup STRING,\n",
    "_bic_zc_fname STRING,\n",
    "recordmode STRING,\n",
    "_bic_zc_fvalue STRING,\n",
    "proc_date DATE,\n",
    "file_creation_ts TIMESTAMP\n",
    "\n",
    ")\n",
    "TBLPROPERTIES (\n",
    "  'DELTA.AUTOOPTIMIZE.OPTIMIZEWRITE' = 'true',\n",
    "  'DELTA.AUTOOPTIMIZE.AUTOCOMPACT' = 'true'\n",
    ")\n",
    "\"\"\")"
   ]
  },
  {
   "cell_type": "code",
   "execution_count": 0,
   "metadata": {
    "application/vnd.databricks.v1+cell": {
     "cellMetadata": {
      "byteLimit": 2048000,
      "implicitDf": true,
      "rowLimit": 10000
     },
     "inputWidgets": {},
     "nuid": "5c6b1287-0567-4bb3-861a-56bde2532531",
     "showTitle": false,
     "tableResultSettingsMap": {},
     "title": ""
    }
   },
   "outputs": [],
   "source": [
    "spark.sql(f\"\"\"\n",
    "    CREATE OR REPLACE TEMP VIEW sap_vcdext01 AS\n",
    "    SELECT\n",
    "        FARM_FINGERPRINT(CONCAT(\n",
    "            IFNULL(CAST(plant AS STRING), \"\"),\n",
    "            IFNULL(CAST(calday AS STRING), \"\"),\n",
    "            IFNULL(CAST(rpa_wid AS STRING), \"\"),\n",
    "            IFNULL(CAST(rpa_tnr AS STRING), \"\"),\n",
    "            IFNULL(CAST(_bic_zc_fgroup AS STRING), \"\"),\n",
    "            IFNULL(CAST(_bic_zc_fname AS STRING), \"\"),\n",
    "            IFNULL(CAST(recordmode AS STRING), \"\"),\n",
    "            IFNULL(CAST(_bic_zc_fvalue AS STRING), \"\")\n",
    "        )) hash_id,\n",
    "        LTRIM('0', plant) AS plant,\n",
    "        TO_DATE(calday,\"yyyyMMdd\") AS calday,\n",
    "        LTRIM('0', rpa_wid) AS rpa_wid,\n",
    "        LTRIM('0', rpa_tnr) AS rpa_tnr,\n",
    "        _bic_zc_fgroup,\n",
    "        _bic_zc_fname,\n",
    "        recordmode,\n",
    "        _bic_zc_fvalue,\n",
    "        proc_date,\n",
    "        file_creation_ts\n",
    "    FROM (\n",
    "        SELECT * EXCEPT(rn) FROM (\n",
    "            SELECT *, ROW_NUMBER() OVER (PARTITION BY reqtsn, datapakid, record ORDER BY proc_date DESC) rn \n",
    "            FROM temp_sap_vcdext01\n",
    "        ) a \n",
    "        WHERE rn = 1 \n",
    "    ) a\n",
    "\"\"\")\n"
   ]
  },
  {
   "cell_type": "code",
   "execution_count": 0,
   "metadata": {
    "application/vnd.databricks.v1+cell": {
     "cellMetadata": {
      "byteLimit": 2048000,
      "rowLimit": 10000
     },
     "inputWidgets": {},
     "nuid": "80c80778-4db2-4702-9778-22c4fcdf8d0f",
     "showTitle": false,
     "tableResultSettingsMap": {},
     "title": ""
    }
   },
   "outputs": [],
   "source": [
    "spark.sql(f\"\"\"\n",
    "    MERGE INTO {catalog_name}.udp_wcm_silver_sap_bw.sap_vcdext01 main_tbl \n",
    "    USING sap_vcdext01 temp_tbl \n",
    "    ON main_tbl.hash_id = temp_tbl.hash_id\n",
    "    WHEN NOT MATCHED THEN INSERT *\n",
    "\"\"\")"
   ]
  }
 ],
 "metadata": {
  "application/vnd.databricks.v1+notebook": {
   "computePreferences": null,
   "dashboards": [],
   "environmentMetadata": {
    "base_environment": "",
    "environment_version": "2"
   },
   "inputWidgetPreferences": null,
   "language": "python",
   "notebookMetadata": {
    "mostRecentlyExecutedCommandWithImplicitDF": {
     "commandId": 6350561386725347,
     "dataframes": [
      "_sqldf"
     ]
    },
    "pythonIndentUnit": 4
   },
   "notebookName": "sap_vcdext01",
   "widgets": {
    "environment": {
     "currentValue": "DEV",
     "nuid": "ef39a0f8-427c-4598-8c36-ad5737df7c22",
     "typedWidgetInfo": {
      "autoCreated": false,
      "defaultValue": "",
      "label": "",
      "name": "environment",
      "options": {
       "widgetDisplayType": "Text",
       "validationRegex": null
      },
      "parameterDataType": "String"
     },
     "widgetInfo": {
      "widgetType": "text",
      "defaultValue": "",
      "label": "",
      "name": "environment",
      "options": {
       "widgetType": "text",
       "autoCreated": null,
       "validationRegex": null
      }
     }
    },
    "proc_date": {
     "currentValue": "2025-07-22",
     "nuid": "521496aa-665b-4177-aa38-fe6bab35f114",
     "typedWidgetInfo": {
      "autoCreated": false,
      "defaultValue": "",
      "label": null,
      "name": "proc_date",
      "options": {
       "widgetDisplayType": "Text",
       "validationRegex": null
      },
      "parameterDataType": "String"
     },
     "widgetInfo": {
      "widgetType": "text",
      "defaultValue": "",
      "label": null,
      "name": "proc_date",
      "options": {
       "widgetType": "text",
       "autoCreated": null,
       "validationRegex": null
      }
     }
    }
   }
  },
  "language_info": {
   "name": "python"
  }
 },
 "nbformat": 4,
 "nbformat_minor": 0
}
