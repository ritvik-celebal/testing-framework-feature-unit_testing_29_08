{
 "cells": [
  {
   "cell_type": "code",
   "execution_count": 0,
   "metadata": {
    "application/vnd.databricks.v1+cell": {
     "cellMetadata": {},
     "inputWidgets": {},
     "nuid": "01bcb514-e389-424d-950f-98e3aa169e82",
     "showTitle": false,
     "tableResultSettingsMap": {},
     "title": ""
    }
   },
   "outputs": [],
   "source": [
    "dbutils.widgets.text(\"proc_date\", \"\")\n",
    "proc_date = dbutils.widgets.get(\"proc_date\")"
   ]
  },
  {
   "cell_type": "code",
   "execution_count": 0,
   "metadata": {
    "application/vnd.databricks.v1+cell": {
     "cellMetadata": {
      "byteLimit": 2048000,
      "rowLimit": 10000
     },
     "inputWidgets": {},
     "nuid": "71ca1465-3d33-4ced-8fbc-c289da4c69de",
     "showTitle": false,
     "tableResultSettingsMap": {},
     "title": ""
    }
   },
   "outputs": [],
   "source": [
    "%run ../../../utils/common"
   ]
  },
  {
   "cell_type": "code",
   "execution_count": 0,
   "metadata": {
    "application/vnd.databricks.v1+cell": {
     "cellMetadata": {
      "byteLimit": 2048000,
      "rowLimit": 10000
     },
     "inputWidgets": {},
     "nuid": "aeb07298-d8a4-4747-8ad4-ca84b8348d63",
     "showTitle": false,
     "tableResultSettingsMap": {},
     "title": ""
    }
   },
   "outputs": [],
   "source": [
    "dbutils.widgets.text(\"environment\", \"\")\n",
    "environment = dbutils.widgets.get(\"environment\")"
   ]
  },
  {
   "cell_type": "code",
   "execution_count": 0,
   "metadata": {
    "application/vnd.databricks.v1+cell": {
     "cellMetadata": {
      "byteLimit": 2048000,
      "rowLimit": 10000
     },
     "inputWidgets": {},
     "nuid": "bca75e5a-ee99-4dd4-8f6c-12ce3ec790a3",
     "showTitle": false,
     "tableResultSettingsMap": {},
     "title": ""
    }
   },
   "outputs": [],
   "source": [
    "catalog_name = settings[environment]['catalog_name']"
   ]
  },
  {
   "cell_type": "code",
   "execution_count": 0,
   "metadata": {
    "application/vnd.databricks.v1+cell": {
     "cellMetadata": {},
     "inputWidgets": {},
     "nuid": "8a6c5715-e598-4556-b073-289146a27a6a",
     "showTitle": false,
     "tableResultSettingsMap": {},
     "title": ""
    }
   },
   "outputs": [],
   "source": [
    "create_temp_view_with_clean_columns(\n",
    "    spark,\n",
    "    catalog_name,\n",
    "    'udp_wcm_bronze_sap_bw',\n",
    "    'sap_bw_wcm_vccmdm37',\n",
    "    proc_date,\n",
    "    'temp_sap_vccmdm37'\n",
    ")"
   ]
  },
  {
   "cell_type": "code",
   "execution_count": 0,
   "metadata": {
    "application/vnd.databricks.v1+cell": {
     "cellMetadata": {
      "byteLimit": 2048000,
      "rowLimit": 10000
     },
     "inputWidgets": {},
     "nuid": "439c47cf-5061-481f-8c6e-c43227cc3311",
     "showTitle": false,
     "tableResultSettingsMap": {},
     "title": ""
    }
   },
   "outputs": [],
   "source": [
    "spark.sql(f'''\n",
    "CREATE TABLE IF NOT EXISTS {catalog_name}.udp_wcm_silver_sap_bw.sap_vccmdm37\n",
    "(\n",
    "  hash_id BIGINT,\n",
    "  recordmode STRING,\n",
    "  knumh STRING,\n",
    "  kappl STRING,\n",
    "  kschl STRING,\n",
    "  lifnr STRING,\n",
    "  matnr STRING,\n",
    "  werks STRING,\n",
    "  ekorg STRING,\n",
    "  esokz STRING,\n",
    "  bstme STRING,\n",
    "  datbi DATE,\n",
    "  datab DATE,\n",
    "  proc_date DATE\n",
    ") \n",
    "TBLPROPERTIES (\n",
    "    'DELTA.AUTOOPTIMIZE.OPTIMIZEWRITE' = 'true',\n",
    "    'DELTA.AUTOOPTIMIZE.AUTOCOMPACT' = 'true'\n",
    ")''')"
   ]
  },
  {
   "cell_type": "code",
   "execution_count": 0,
   "metadata": {
    "application/vnd.databricks.v1+cell": {
     "cellMetadata": {
      "byteLimit": 2048000,
      "rowLimit": 10000
     },
     "inputWidgets": {},
     "nuid": "929a2252-e5c1-4c81-b62d-5110875da4fd",
     "showTitle": false,
     "tableResultSettingsMap": {},
     "title": ""
    }
   },
   "outputs": [],
   "source": [
    "spark.sql(f'''\n",
    "CREATE OR REPLACE TEMP VIEW view_sap_vccmdm37 \n",
    "AS\n",
    "WITH temp AS (\n",
    "SELECT  reqtsn\n",
    "        ,datapakid\n",
    "        ,record\n",
    "        ,recordmode\n",
    "        ,IF(knumh = '',NULL,LTRIM('0',knumh)) as knumh\n",
    "        ,IF(kappl = '',NULL,kappl) as kappl\n",
    "        ,IF(kschl = '',NULL,kschl) as kschl\n",
    "        ,IF(lifnr = '',NULL,LTRIM('0',lifnr)) as lifnr\n",
    "        ,IF(matnr = '',NULL,LTRIM('0',matnr) ) as matnr\n",
    "        ,IF(werks = '',NULL,werks)  as werks\n",
    "        ,IF(ekorg = '',NULL,ekorg ) as ekorg\n",
    "        ,IF(esokz = '',NULL,esokz) as esokz\n",
    "        ,IF(bstme = '',NULL,bstme) as bstme\n",
    "        ,to_date(IF(datbi = '',NULL,IF(datbi = '20183112',NULL,datbi) ),'yyyyMMdd') as datbi\n",
    "        ,to_date(IF(datab = '',NULL,IF(datbi = '20183112',NULL,datab) ),'yyyyMMdd') as datab\n",
    "        ,proc_date\n",
    "         FROM (\n",
    "                    SELECT * EXCEPT(rn) FROM (\n",
    "                        SELECT *, ROW_NUMBER() OVER (PARTITION BY reqtsn, datapakid, record ORDER BY proc_date DESC) rn FROM  temp_sap_vccmdm37  \n",
    "                    ) a WHERE rn = 1 \n",
    "                ) a\n",
    "),\n",
    "main AS (\n",
    "SELECT FARM_FINGERPRINT(CONCAT(\n",
    "            IFNULL(CAST(kappl AS STRING), \"\"),\n",
    "            IFNULL(CAST(kschl AS STRING), \"\"),\n",
    "            IFNULL(CAST(lifnr AS STRING), \"\"),\n",
    "            IFNULL(CAST(matnr AS STRING), \"\"),\n",
    "            IFNULL(CAST(werks AS STRING), \"\"),\n",
    "            IFNULL(CAST(ekorg AS STRING), \"\"),\n",
    "            IFNULL(CAST(esokz AS STRING), \"\"),\n",
    "            IFNULL(CAST(bstme AS STRING), \"\"),\n",
    "            IFNULL(CAST(datbi AS STRING), \"\")\n",
    "        )) as hash_id,\n",
    "        * FROM temp\n",
    "),\n",
    "main_2 AS (\n",
    "    SELECT * \n",
    "    , ROW_NUMBER() OVER (PARTITION BY hash_id ORDER BY reqtsn DESC,datapakid DESC,record  DESC) rn \n",
    "        FROM main\n",
    ")\n",
    "SELECT * EXCEPT(rn,reqtsn,datapakid,record) FROM main_2 WHERE rn = 1;\n",
    "''')"
   ]
  },
  {
   "cell_type": "code",
   "execution_count": 0,
   "metadata": {
    "application/vnd.databricks.v1+cell": {
     "cellMetadata": {
      "byteLimit": 2048000,
      "rowLimit": 10000
     },
     "inputWidgets": {},
     "nuid": "b812161c-05e2-43ba-8aaa-c33b12d93c63",
     "showTitle": false,
     "tableResultSettingsMap": {},
     "title": ""
    }
   },
   "outputs": [],
   "source": [
    "exclude_columns = [\"hash_id\"]  # Columns to exclude from update\n",
    "source_columns = spark.table(\"view_sap_vccmdm37\").columns\n",
    "insert_columns = \", \".join(source_columns)\n",
    "insert_values = \", \".join([f\"temp_tbl.{col}\" for col in source_columns])\n",
    "\n",
    "update_columns = [f\"main_tbl.{col} = temp_tbl.{col}\" \n",
    "                 for col in source_columns \n",
    "                 if col.lower() not in [e.lower() for e in exclude_columns]]\n",
    "update_set = \",\\n    \".join(update_columns)"
   ]
  },
  {
   "cell_type": "code",
   "execution_count": 0,
   "metadata": {
    "application/vnd.databricks.v1+cell": {
     "cellMetadata": {
      "byteLimit": 2048000,
      "rowLimit": 10000
     },
     "inputWidgets": {},
     "nuid": "a8949393-1123-4a7f-a6ff-66e7530d412a",
     "showTitle": false,
     "tableResultSettingsMap": {},
     "title": ""
    }
   },
   "outputs": [],
   "source": [
    "spark.sql(f\"\"\"\n",
    "MERGE INTO {catalog_name}.udp_wcm_silver_sap_bw.sap_vccmdm37 main_tbl\n",
    "USING view_sap_vccmdm37 temp_tbl\n",
    "ON main_tbl.hash_id = temp_tbl.hash_id\n",
    "WHEN MATCHED THEN UPDATE SET {update_set}\n",
    "WHEN NOT MATCHED THEN INSERT ({insert_columns}) VALUES ({insert_values})\n",
    "\n",
    "\"\"\")"
   ]
  }
 ],
 "metadata": {
  "application/vnd.databricks.v1+notebook": {
   "computePreferences": null,
   "dashboards": [],
   "environmentMetadata": {
    "base_environment": "",
    "environment_version": "2"
   },
   "inputWidgetPreferences": null,
   "language": "python",
   "notebookMetadata": {
    "mostRecentlyExecutedCommandWithImplicitDF": {
     "commandId": 8416419470650207,
     "dataframes": [
      "_sqldf"
     ]
    },
    "pythonIndentUnit": 4
   },
   "notebookName": "sap_vccmdm37",
   "widgets": {
    "environment": {
     "currentValue": "DEV",
     "nuid": "227842fc-727d-49db-89b2-54ae29760855",
     "typedWidgetInfo": {
      "autoCreated": false,
      "defaultValue": "",
      "label": null,
      "name": "environment",
      "options": {
       "widgetDisplayType": "Text",
       "validationRegex": null
      },
      "parameterDataType": "String"
     },
     "widgetInfo": {
      "widgetType": "text",
      "defaultValue": "",
      "label": null,
      "name": "environment",
      "options": {
       "widgetType": "text",
       "autoCreated": null,
       "validationRegex": null
      }
     }
    },
    "proc_date": {
     "currentValue": "2025-05-24",
     "nuid": "7a6e04f8-be46-4676-a576-939bc22e42f0",
     "typedWidgetInfo": {
      "autoCreated": false,
      "defaultValue": "",
      "label": null,
      "name": "proc_date",
      "options": {
       "widgetDisplayType": "Text",
       "validationRegex": null
      },
      "parameterDataType": "String"
     },
     "widgetInfo": {
      "widgetType": "text",
      "defaultValue": "",
      "label": null,
      "name": "proc_date",
      "options": {
       "widgetType": "text",
       "autoCreated": null,
       "validationRegex": null
      }
     }
    }
   }
  },
  "language_info": {
   "name": "python"
  }
 },
 "nbformat": 4,
 "nbformat_minor": 0
}
