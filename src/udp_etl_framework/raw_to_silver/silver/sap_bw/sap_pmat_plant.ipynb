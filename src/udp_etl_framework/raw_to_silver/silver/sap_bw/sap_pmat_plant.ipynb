{
 "cells": [
  {
   "cell_type": "code",
   "execution_count": 0,
   "metadata": {
    "application/vnd.databricks.v1+cell": {
     "cellMetadata": {
      "byteLimit": 2048000,
      "rowLimit": 10000
     },
     "inputWidgets": {},
     "nuid": "adbe39f4-d7c7-4cbf-9dc0-9d6f81eea005",
     "showTitle": false,
     "tableResultSettingsMap": {},
     "title": ""
    }
   },
   "outputs": [],
   "source": [
    "dbutils.widgets.text(\"proc_date\", \"\")\n",
    "proc_date = dbutils.widgets.get(\"proc_date\")"
   ]
  },
  {
   "cell_type": "code",
   "execution_count": 0,
   "metadata": {
    "application/vnd.databricks.v1+cell": {
     "cellMetadata": {
      "byteLimit": 2048000,
      "rowLimit": 10000
     },
     "inputWidgets": {},
     "nuid": "7f6ffbb0-c823-4e3d-8b39-d6fa8eb5a360",
     "showTitle": false,
     "tableResultSettingsMap": {},
     "title": ""
    }
   },
   "outputs": [],
   "source": [
    "%run ../../../utils/common"
   ]
  },
  {
   "cell_type": "code",
   "execution_count": 0,
   "metadata": {
    "application/vnd.databricks.v1+cell": {
     "cellMetadata": {
      "byteLimit": 2048000,
      "rowLimit": 10000
     },
     "inputWidgets": {},
     "nuid": "2e530d8d-b758-45b0-9144-d7651a828cf9",
     "showTitle": false,
     "tableResultSettingsMap": {},
     "title": ""
    }
   },
   "outputs": [],
   "source": [
    "dbutils.widgets.text(\"environment\", \"\", \"\")\n",
    "environment = dbutils.widgets.get(\"environment\")"
   ]
  },
  {
   "cell_type": "code",
   "execution_count": 0,
   "metadata": {
    "application/vnd.databricks.v1+cell": {
     "cellMetadata": {
      "byteLimit": 2048000,
      "rowLimit": 10000
     },
     "inputWidgets": {},
     "nuid": "eb025fdf-65bd-49b8-be5c-bf1e6ef7a5cf",
     "showTitle": false,
     "tableResultSettingsMap": {},
     "title": ""
    }
   },
   "outputs": [],
   "source": [
    "catalog_name = settings[environment]['catalog_name']"
   ]
  },
  {
   "cell_type": "code",
   "execution_count": 0,
   "metadata": {
    "application/vnd.databricks.v1+cell": {
     "cellMetadata": {
      "byteLimit": 2048000,
      "rowLimit": 10000
     },
     "inputWidgets": {},
     "nuid": "dac65936-19d5-4278-82c4-74035ac5a7e4",
     "showTitle": false,
     "tableResultSettingsMap": {},
     "title": ""
    }
   },
   "outputs": [],
   "source": [
    "column_list = spark.sql(f\"\"\"DESCRIBE TABLE {catalog_name}.udp_wcm_bronze_sap_bw.sap_bw_wcm_pmat_plant\"\"\").collect()\n",
    "\n",
    "dynamic_query_temp = f\"\"\"CREATE OR REPLACE TEMP VIEW  temp_sap_pmat_plant AS  SELECT \"\"\"\n",
    "dynamic_query_raw = f\"\"\"CREATE OR REPLACE TEMP VIEW  raw_sap_pmat_plant AS  SELECT \"\"\"\n",
    "\n",
    "for column in column_list:\n",
    "    dynamic_query_temp = dynamic_query_temp + '`'+column[0]+'` AS '+ str.replace(column[0], '/','_') + ' ,'\n",
    "dynamic_query_temp = dynamic_query_temp[:-1] + f\"\"\" FROM {catalog_name}.udp_wcm_bronze_sap_bw.sap_bw_wcm_pmat_plant\n",
    "                WHERE proc_date =  CAST('{proc_date}' AS DATE)\n",
    "\"\"\"\n",
    "\n",
    "\n",
    "for column in column_list:\n",
    "    dynamic_query_raw = dynamic_query_raw + '`'+column[0]+'` AS '+ str.replace(column[0], '/','_') + ' ,'\n",
    "dynamic_query_raw = dynamic_query_raw[:-1] + f\"\"\" FROM {catalog_name}.udp_wcm_bronze_sap_bw.sap_bw_wcm_pmat_plant\n",
    "                WHERE proc_date BETWEEN DATE_SUB(DATE('{proc_date}'),31) AND  DATE_SUB(DATE('{proc_date}'),1)\"\"\"\n",
    "\n",
    "spark.sql(dynamic_query_temp)\n",
    "spark.sql(dynamic_query_raw)"
   ]
  },
  {
   "cell_type": "code",
   "execution_count": 0,
   "metadata": {
    "application/vnd.databricks.v1+cell": {
     "cellMetadata": {
      "byteLimit": 2048000,
      "implicitDf": true,
      "rowLimit": 10000
     },
     "inputWidgets": {},
     "nuid": "04eb4588-4008-4d67-b279-c3b739c3461b",
     "showTitle": false,
     "tableResultSettingsMap": {},
     "title": ""
    }
   },
   "outputs": [],
   "source": [
    "spark.sql(f\"\"\"\n",
    "CREATE OR REPLACE TABLE {catalog_name}.udp_wcm_silver_sap_bw.sap_pmat_plant AS\n",
    "\n",
    "WITH table_data AS (\n",
    " SELECT EXPLODE(\n",
    "    SEQUENCE(\n",
    "      TO_DATE('2021-05-06'),\n",
    "      DATE(CURRENT_TIMESTAMP() + INTERVAL 7 HOURS)\n",
    "    )\n",
    "  ) AS date_gen\n",
    "),\n",
    "\n",
    "t1 AS (\n",
    "    SELECT * EXCEPT(RN),\n",
    "      LEAD(DATE(proc_date)) OVER(PARTITION BY plant, mat_plant ORDER BY proc_date ASC) AS date_to\n",
    "    FROM (SELECT plant, LTRIM('0', mat_plant) AS mat_plant, proc_date, DATE(proc_date) AS calday,\n",
    "    ROW_NUMBER() OVER(PARTITION BY plant, mat_plant, DATE(proc_date) ORDER BY proc_date DESC) AS rn\n",
    "  FROM (\n",
    "    SELECT * FROM raw_sap_pmat_plant\n",
    "    UNION ALL\n",
    "    SELECT * FROM temp_sap_pmat_plant) AS a ) AS a\n",
    "    WHERE rn = 1\n",
    "),\n",
    "\n",
    "t11 AS (\n",
    "    SELECT \n",
    "      date_gen,\n",
    "      proc_date\n",
    "    FROM table_data\n",
    "    LEFT JOIN(\n",
    "        SELECT calday, max(proc_date) as proc_date FROM t1 GROUP BY calday\n",
    "    ) t11 ON date_gen = calday\n",
    "),\n",
    "\n",
    "t2 AS (\n",
    "  SELECT \n",
    "    b.plant,\n",
    "    b.mat_plant,\n",
    "    a.proc_date,\n",
    "    a.date_gen AS start_date,\n",
    "    IF(date_gen = b.calday,'ACTIVE', 'DELETE') AS status\n",
    "  FROM t11 a\n",
    "    INNER JOIN t1 b \n",
    "        ON a.date_gen >= calday AND (a.date_gen < b.date_to OR b.date_to IS NULL)\n",
    "),\n",
    "\n",
    "t3 AS (\n",
    "  SELECT \n",
    "    farm_fingerprint(CONCAT(\n",
    "      IFNULL(CAST(plant AS STRING), ''),\n",
    "      IFNULL(CAST(mat_plant AS STRING), ''),\n",
    "      IFNULL(CAST(status AS STRING), '')\n",
    "    )) AS hash_id,\n",
    "    *\n",
    "  FROM t2\n",
    "),\n",
    "\n",
    "t4 AS (\n",
    "  SELECT *,\n",
    "         LAG(hash_id,1) OVER(PARTITION BY plant, mat_plant ORDER BY start_date) AS hash_id_prev\n",
    "  FROM t3\n",
    "),\n",
    "\n",
    "t5 AS (\n",
    "  SELECT * EXCEPT(hash_id_prev)\n",
    "  FROM t4\n",
    "  WHERE hash_id != hash_id_prev OR hash_id_prev IS NULL\n",
    "),\n",
    "\n",
    "t6 AS (\n",
    "  SELECT *,\n",
    "         LEAD(start_date) OVER(PARTITION BY plant, mat_plant ORDER BY start_date ASC) AS end_date,\n",
    "         MAX(start_date) OVER(PARTITION BY plant, mat_plant) AS max_last_update_date\n",
    "  FROM t5\n",
    "),\n",
    "\n",
    "t7 AS (\n",
    "  SELECT hash_id,\n",
    "    plant,\n",
    "    mat_plant,\n",
    "    proc_date,\n",
    "    status,\n",
    "    start_date,\n",
    "    IFNULL(DATE_SUB(end_date, 1), IF(max_last_update_date = start_date, '2400-01-01', start_date)) AS end_date,\n",
    "    IF(max_last_update_date = start_date AND status = 'ACTIVE',0,1) is_delete  \n",
    "  FROM t6\n",
    ")\n",
    "\n",
    "SELECT * FROM t7;\n",
    "\"\"\")"
   ]
  }
 ],
 "metadata": {
  "application/vnd.databricks.v1+notebook": {
   "computePreferences": null,
   "dashboards": [],
   "environmentMetadata": {
    "base_environment": "",
    "environment_version": "2"
   },
   "inputWidgetPreferences": null,
   "language": "python",
   "notebookMetadata": {
    "mostRecentlyExecutedCommandWithImplicitDF": {
     "commandId": 6329452208615948,
     "dataframes": [
      "_sqldf"
     ]
    },
    "pythonIndentUnit": 4
   },
   "notebookName": "sap_pmat_plant",
   "widgets": {
    "environment": {
     "currentValue": "DEV",
     "nuid": "2e637f78-5f9d-40f0-bbdc-55ea8758e4c7",
     "typedWidgetInfo": {
      "autoCreated": false,
      "defaultValue": "",
      "label": "",
      "name": "environment",
      "options": {
       "widgetDisplayType": "Text",
       "validationRegex": null
      },
      "parameterDataType": "String"
     },
     "widgetInfo": {
      "widgetType": "text",
      "defaultValue": "",
      "label": "",
      "name": "environment",
      "options": {
       "widgetType": "text",
       "autoCreated": null,
       "validationRegex": null
      }
     }
    },
    "proc_date": {
     "currentValue": "2025-07-21",
     "nuid": "d0c7f126-4d97-4f69-ac20-f3b9a6d9d0f8",
     "typedWidgetInfo": {
      "autoCreated": false,
      "defaultValue": "",
      "label": null,
      "name": "proc_date",
      "options": {
       "widgetDisplayType": "Text",
       "validationRegex": null
      },
      "parameterDataType": "String"
     },
     "widgetInfo": {
      "widgetType": "text",
      "defaultValue": "",
      "label": null,
      "name": "proc_date",
      "options": {
       "widgetType": "text",
       "autoCreated": null,
       "validationRegex": null
      }
     }
    }
   }
  },
  "language_info": {
   "name": "python"
  }
 },
 "nbformat": 4,
 "nbformat_minor": 0
}
