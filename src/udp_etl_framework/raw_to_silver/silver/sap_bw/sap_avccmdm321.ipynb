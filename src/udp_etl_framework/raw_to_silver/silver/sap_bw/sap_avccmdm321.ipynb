{
 "cells": [
  {
   "cell_type": "code",
   "execution_count": 0,
   "metadata": {
    "application/vnd.databricks.v1+cell": {
     "cellMetadata": {
      "byteLimit": 2048000,
      "rowLimit": 10000
     },
     "inputWidgets": {},
     "nuid": "283e7512-dd84-47b8-b490-d51dda2fd8e8",
     "showTitle": false,
     "tableResultSettingsMap": {},
     "title": ""
    }
   },
   "outputs": [],
   "source": [
    "dbutils.widgets.text(\"proc_date\", \"\")\n",
    "proc_date = dbutils.widgets.get(\"proc_date\")"
   ]
  },
  {
   "cell_type": "code",
   "execution_count": 0,
   "metadata": {
    "application/vnd.databricks.v1+cell": {
     "cellMetadata": {
      "byteLimit": 2048000,
      "rowLimit": 10000
     },
     "inputWidgets": {},
     "nuid": "c61ce195-20cf-4ef9-9e27-8b51d826751d",
     "showTitle": false,
     "tableResultSettingsMap": {},
     "title": ""
    }
   },
   "outputs": [],
   "source": [
    "%run ../../../utils/common"
   ]
  },
  {
   "cell_type": "code",
   "execution_count": 0,
   "metadata": {
    "application/vnd.databricks.v1+cell": {
     "cellMetadata": {
      "byteLimit": 2048000,
      "rowLimit": 10000
     },
     "inputWidgets": {},
     "nuid": "6c0eab74-cb16-48c4-835a-15e05fcee35c",
     "showTitle": false,
     "tableResultSettingsMap": {},
     "title": ""
    }
   },
   "outputs": [],
   "source": [
    "dbutils.widgets.text(\"environment\", \"\", \"\")\n",
    "environment = dbutils.widgets.get(\"environment\")"
   ]
  },
  {
   "cell_type": "code",
   "execution_count": 0,
   "metadata": {
    "application/vnd.databricks.v1+cell": {
     "cellMetadata": {
      "byteLimit": 2048000,
      "rowLimit": 10000
     },
     "inputWidgets": {},
     "nuid": "1ec54fc2-915d-405b-8c17-85351041387b",
     "showTitle": false,
     "tableResultSettingsMap": {},
     "title": ""
    }
   },
   "outputs": [],
   "source": [
    "catalog_name = settings[environment]['catalog_name']"
   ]
  },
  {
   "cell_type": "code",
   "execution_count": 0,
   "metadata": {
    "application/vnd.databricks.v1+cell": {
     "cellMetadata": {
      "byteLimit": 2048000,
      "rowLimit": 10000
     },
     "inputWidgets": {},
     "nuid": "cbc98789-bd48-4672-ba5c-1018ff72207f",
     "showTitle": false,
     "tableResultSettingsMap": {},
     "title": ""
    }
   },
   "outputs": [],
   "source": [
    "spark.sql(f\"\"\"\n",
    "CREATE TABLE IF NOT EXISTS {catalog_name}.udp_wcm_silver_sap_bw.sap_avccmdm321 (\n",
    "\thash_id BIGINT\n",
    "\t,recordmode STRING\n",
    "\t,kappl STRING\n",
    "\t,kschl STRING\n",
    "\t,vkorg STRING\n",
    "\t,vtweg STRING\n",
    "\t,werks STRING\n",
    "\t,bbynr STRING\n",
    "\t,matnr STRING\n",
    "\t,vrkme STRING\n",
    "\t,datbi DATE\n",
    "\t,orgty STRING\n",
    "\t,datab DATE\n",
    "\t,knumh STRING\n",
    "\t,vakey STRING\n",
    "\t,rewref STRING\n",
    "\t,bbyval DOUBLE\n",
    "\t,bbyper DOUBLE\n",
    "\t,bbycur STRING\n",
    "\t,kpein DOUBLE\n",
    "\t,kmein STRING\n",
    "\t,grpnr STRING\n",
    "\t,stfkz STRING\n",
    "\t,mquan DOUBLE\n",
    "\t,bbytype STRING\n",
    "\t,filgr STRING\n",
    "\t,proc_date DATE,\n",
    "\tfile_creation_ts TIMESTAMP\n",
    "\t)\n",
    "\tTBLPROPERTIES \n",
    "\t(\n",
    "\t\tDELTA.AUTOOPTIMIZE.OPTIMIZEWRITE = TRUE,\n",
    "\t\tDELTA.AUTOOPTIMIZE.AUTOCOMPACT = TRUE\n",
    "\t)\n",
    "\"\"\")"
   ]
  },
  {
   "cell_type": "code",
   "execution_count": 0,
   "metadata": {
    "application/vnd.databricks.v1+cell": {
     "cellMetadata": {},
     "inputWidgets": {},
     "nuid": "74affb32-198c-4369-a567-04a094536212",
     "showTitle": false,
     "tableResultSettingsMap": {},
     "title": ""
    }
   },
   "outputs": [],
   "source": [
    "create_temp_view_with_clean_columns(\n",
    "    spark,\n",
    "    catalog_name,\n",
    "    'udp_wcm_bronze_sap_bw',\n",
    "    'sap_bw_wcm_vccmdm32',\n",
    "    proc_date,\n",
    "    'temp_sap_avccmdm321'\n",
    ")"
   ]
  },
  {
   "cell_type": "code",
   "execution_count": 0,
   "metadata": {
    "application/vnd.databricks.v1+cell": {
     "cellMetadata": {
      "byteLimit": 2048000,
      "implicitDf": true,
      "rowLimit": 10000
     },
     "inputWidgets": {},
     "nuid": "48b93a1b-8a9d-4f45-9b43-937809d9461d",
     "showTitle": false,
     "tableResultSettingsMap": {},
     "title": ""
    }
   },
   "outputs": [],
   "source": [
    "spark.sql(f\"\"\"\n",
    "CREATE OR REPLACE TEMP VIEW sap_avccmdm321 \n",
    "AS\n",
    "WITH temp AS (\n",
    "SELECT  reqtsn\n",
    "        ,datapakid\n",
    "        ,record\n",
    "        ,recordmode\t\n",
    "        ,IF(kappl  = '',null,kappl ) kappl\n",
    "        ,IF(kschl  = '',null,kschl ) kschl\n",
    "        ,IF(vkorg  = '',null,vkorg ) vkorg\n",
    "        ,IF(vtweg  = '',null,vtweg ) vtweg\n",
    "        ,IF(werks  = '',null,werks ) werks\n",
    "        ,IF(bbynr  = '',null,LTRIM('0',bbynr) ) bbynr\n",
    "        ,IF(matnr  = '',null,LTRIM('0',matnr) ) matnr\n",
    "        ,IF(vrkme  = '',null,vrkme ) vrkme\n",
    "        ,TO_DATE(IF(datbi  = '',null,datbi),'yyyyMMdd') datbi\n",
    "        ,IF(orgty  = '',null,orgty ) orgty\n",
    "        ,TO_DATE(IF(datab  = '',null,datab ),'yyyyMMdd') datab\n",
    "        ,IF(knumh  = '',null,knumh ) knumh\n",
    "        ,IF(vakey  = '',null,LTRIM('0',vakey) ) vakey\n",
    "        ,IF(rewref = '',null,rewref) rewref\n",
    "        ,bbyval\n",
    "        ,bbyper\n",
    "        ,IF(bbycur = '',null,bbycur) bbycur\n",
    "        ,kpein\n",
    "        ,IF(kmein = '',null,kmein) kmein\n",
    "        ,IF(grpnr = '',null,grpnr) grpnr\n",
    "        ,IF(stfkz = '',null,stfkz) stfkz\n",
    "        ,mquan\n",
    "        ,IF(bbytype = '',null,bbytype) bbytype\n",
    "        ,IF(filgr   = '',null,filgr  ) filgr\n",
    "        ,proc_date\n",
    "        ,file_creation_ts\n",
    "         FROM (\n",
    "            SELECT * EXCEPT(rn) FROM (\n",
    "                SELECT * , ROW_NUMBER() OVER (PARTITION BY reqtsn, datapakid, record ORDER BY proc_date DESC) rn FROM  temp_sap_avccmdm321\n",
    "            ) a WHERE rn = 1 \n",
    "        ) a\n",
    "),\n",
    "main AS (\n",
    "SELECT FARM_FINGERPRINT(CONCAT(\n",
    "    IFNULL(CAST(kappl AS STRING), \"\"),\n",
    "    IFNULL(CAST(kschl AS STRING), \"\"),\n",
    "    IFNULL(CAST(vkorg AS STRING), \"\"),\n",
    "    IFNULL(CAST(vtweg AS STRING), \"\"),\n",
    "    IFNULL(CAST(werks AS STRING), \"\"),\n",
    "    IFNULL(CAST(bbynr AS STRING), \"\"),\n",
    "    IFNULL(CAST(matnr AS STRING), \"\"),\n",
    "    IFNULL(CAST(vrkme AS STRING), \"\"),\n",
    "    IFNULL(CAST(datbi AS STRING), \"\")\n",
    ")) hash_id,\n",
    "* FROM temp\n",
    "),\n",
    "main_2 AS (\n",
    "\tSELECT * \n",
    "\t, ROW_NUMBER() OVER (PARTITION BY hash_id ORDER BY reqtsn DESC,datapakid DESC,record  DESC) rn \n",
    "\t\tFROM main\n",
    ")\n",
    "SELECT \n",
    "* EXCEPT(rn,reqtsn,datapakid,record) FROM main_2 WHERE rn = 1\n",
    "\"\"\")"
   ]
  },
  {
   "cell_type": "code",
   "execution_count": 0,
   "metadata": {
    "application/vnd.databricks.v1+cell": {
     "cellMetadata": {
      "byteLimit": 2048000,
      "rowLimit": 10000
     },
     "inputWidgets": {},
     "nuid": "660fb493-cb66-4c04-bed5-0ca8b413d13b",
     "showTitle": false,
     "tableResultSettingsMap": {},
     "title": ""
    },
    "jupyter": {
     "outputs_hidden": true
    }
   },
   "outputs": [],
   "source": [
    "spark.sql(f\"\"\"\n",
    "MERGE INTO {catalog_name}.udp_wcm_silver_sap_bw.sap_avccmdm321 main_tbl\n",
    "USING sap_avccmdm321 temp_tbl\n",
    "ON main_tbl.hash_id = temp_tbl.hash_id \n",
    "WHEN MATCHED THEN UPDATE SET *\n",
    "WHEN NOT MATCHED THEN INSERT *;\n",
    "\"\"\")"
   ]
  }
 ],
 "metadata": {
  "application/vnd.databricks.v1+notebook": {
   "computePreferences": {
    "hardware": {
     "accelerator": null,
     "gpuPoolId": null,
     "memory": "HIGH"
    }
   },
   "dashboards": [],
   "environmentMetadata": {
    "base_environment": "",
    "environment_version": "2"
   },
   "inputWidgetPreferences": null,
   "language": "python",
   "notebookMetadata": {
    "mostRecentlyExecutedCommandWithImplicitDF": {
     "commandId": 6410538414261563,
     "dataframes": [
      "_sqldf"
     ]
    },
    "pythonIndentUnit": 4
   },
   "notebookName": "sap_avccmdm321",
   "widgets": {
    "environment": {
     "currentValue": "DEV",
     "nuid": "b86d1834-1e79-4268-b9cb-ea21cb55e4df",
     "typedWidgetInfo": {
      "autoCreated": false,
      "defaultValue": "",
      "label": "",
      "name": "environment",
      "options": {
       "widgetDisplayType": "Text",
       "validationRegex": null
      },
      "parameterDataType": "String"
     },
     "widgetInfo": {
      "widgetType": "text",
      "defaultValue": "",
      "label": "",
      "name": "environment",
      "options": {
       "widgetType": "text",
       "autoCreated": null,
       "validationRegex": null
      }
     }
    },
    "proc_date": {
     "currentValue": "2025-07-15",
     "nuid": "4dfcb97b-ca16-40d9-934b-d85e790df020",
     "typedWidgetInfo": {
      "autoCreated": false,
      "defaultValue": "",
      "label": null,
      "name": "proc_date",
      "options": {
       "widgetDisplayType": "Text",
       "validationRegex": null
      },
      "parameterDataType": "String"
     },
     "widgetInfo": {
      "widgetType": "text",
      "defaultValue": "",
      "label": null,
      "name": "proc_date",
      "options": {
       "widgetType": "text",
       "autoCreated": null,
       "validationRegex": null
      }
     }
    }
   }
  },
  "language_info": {
   "name": "python"
  }
 },
 "nbformat": 4,
 "nbformat_minor": 0
}
