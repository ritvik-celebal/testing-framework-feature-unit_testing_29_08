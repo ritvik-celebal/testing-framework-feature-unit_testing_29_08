{
 "cells": [
  {
   "cell_type": "code",
   "execution_count": 0,
   "metadata": {
    "application/vnd.databricks.v1+cell": {
     "cellMetadata": {
      "byteLimit": 2048000,
      "rowLimit": 10000
     },
     "inputWidgets": {},
     "nuid": "51bf0081-0f03-49f4-9adf-e58b1453aca2",
     "showTitle": false,
     "tableResultSettingsMap": {},
     "title": ""
    }
   },
   "outputs": [],
   "source": [
    "dbutils.widgets.text(\"proc_date\", \"\")\n",
    "proc_date = dbutils.widgets.get(\"proc_date\")"
   ]
  },
  {
   "cell_type": "code",
   "execution_count": 0,
   "metadata": {
    "application/vnd.databricks.v1+cell": {
     "cellMetadata": {
      "byteLimit": 2048000,
      "rowLimit": 10000
     },
     "inputWidgets": {},
     "nuid": "cfb1f13a-9031-48a4-82f0-7da577d91ccf",
     "showTitle": false,
     "tableResultSettingsMap": {},
     "title": ""
    }
   },
   "outputs": [],
   "source": [
    "%run ../../../utils/common"
   ]
  },
  {
   "cell_type": "code",
   "execution_count": 0,
   "metadata": {
    "application/vnd.databricks.v1+cell": {
     "cellMetadata": {
      "byteLimit": 2048000,
      "rowLimit": 10000
     },
     "inputWidgets": {},
     "nuid": "034c5219-a427-4606-9afc-f585f14c2590",
     "showTitle": false,
     "tableResultSettingsMap": {},
     "title": ""
    }
   },
   "outputs": [],
   "source": [
    "dbutils.widgets.text(\"environment\", \"\", \"\")\n",
    "environment = dbutils.widgets.get(\"environment\")"
   ]
  },
  {
   "cell_type": "code",
   "execution_count": 0,
   "metadata": {
    "application/vnd.databricks.v1+cell": {
     "cellMetadata": {
      "byteLimit": 2048000,
      "rowLimit": 10000
     },
     "inputWidgets": {},
     "nuid": "f8cae328-74ca-4b9f-b787-564915ad9489",
     "showTitle": false,
     "tableResultSettingsMap": {},
     "title": ""
    }
   },
   "outputs": [],
   "source": [
    "catalog_name = settings[environment]['catalog_name']"
   ]
  },
  {
   "cell_type": "code",
   "execution_count": 0,
   "metadata": {
    "application/vnd.databricks.v1+cell": {
     "cellMetadata": {
      "byteLimit": 2048000,
      "rowLimit": 10000
     },
     "inputWidgets": {},
     "nuid": "ff013b94-cfd6-4e61-b052-71879160c65f",
     "showTitle": false,
     "tableResultSettingsMap": {},
     "title": ""
    }
   },
   "outputs": [],
   "source": [
    "create_temp_view_with_clean_columns(\n",
    "    spark,\n",
    "    catalog_name,\n",
    "    'udp_wcm_bronze_sap_bw',\n",
    "    'sap_bw_wcm_zc_mchlv1',\n",
    "    proc_date,\n",
    "    'temp_sap_zc_mchlv1'\n",
    ")"
   ]
  },
  {
   "cell_type": "code",
   "execution_count": 0,
   "metadata": {
    "application/vnd.databricks.v1+cell": {
     "cellMetadata": {
      "byteLimit": 2048000,
      "rowLimit": 10000
     },
     "inputWidgets": {},
     "nuid": "db1b3331-1e32-47ba-8a6b-a31345664108",
     "showTitle": false,
     "tableResultSettingsMap": {},
     "title": ""
    }
   },
   "outputs": [],
   "source": [
    "spark.sql(f\"\"\"\n",
    "CREATE TABLE IF NOT EXISTS {catalog_name}.udp_wcm_silver_sap_bw.sap_zc_mchlv1\n",
    "( \n",
    " hash_id BIGINT,\n",
    " _bic_zc_mchlv1 STRING,\n",
    " txtsh STRING,\n",
    " txtmd STRING,\n",
    " file_creation_ts TIMESTAMP,\n",
    " proc_date DATE,\n",
    " start_date DATE,\n",
    " end_date DATE\n",
    ") \n",
    "TBLPROPERTIES (\n",
    "  'DELTA.AUTOOPTIMIZE.OPTIMIZEWRITE' = 'TRUE',\n",
    "  'DELTA.AUTOOPTIMIZE.AUTOCOMPACT' = 'TRUE'\n",
    ")\n",
    "\"\"\")"
   ]
  },
  {
   "cell_type": "code",
   "execution_count": 0,
   "metadata": {
    "application/vnd.databricks.v1+cell": {
     "cellMetadata": {
      "byteLimit": 2048000,
      "rowLimit": 10000
     },
     "inputWidgets": {},
     "nuid": "3de02433-d113-4b44-bf3e-b1da829d1c9e",
     "showTitle": false,
     "tableResultSettingsMap": {},
     "title": ""
    }
   },
   "outputs": [],
   "source": [
    "spark.sql(f\"\"\"\n",
    "\tCREATE OR REPLACE TEMP VIEW sap_zc_mchlv1\n",
    "\tAS\n",
    "\tWITH temp AS (\n",
    "\t\tSELECT * EXCEPT(rn) FROM (\n",
    "\t\t\tSELECT *, ROW_NUMBER() OVER (PARTITION BY _bic_zc_mchlv1, DATE(proc_date) ORDER BY proc_date) rn FROM (\n",
    "\t\t\t\tSELECT * FROM temp_sap_zc_mchlv1\n",
    "\t\t\t) a\n",
    "\t\t) a WHERE rn = 1\n",
    "\t),\n",
    "\tmain AS (\n",
    "\t\tSELECT farm_fingerprint(CONCAT(\n",
    "\t\t\t\tifnull(CAST(_bic_zc_mchlv1 AS STRING), \"\"), \n",
    "\t\t\t\tifnull(CAST(txtsh AS STRING), \"\"),\n",
    "\t\t\t\tifnull(CAST(txtmd AS STRING), \"\")\n",
    "\t\t\t)) hash_id,\n",
    "\t\t\t*, \n",
    "\t\t\tDATE(proc_date) start_date \n",
    "\t\tFROM temp\n",
    "\t),\n",
    "\tmain_2 AS (\n",
    "\t\tSELECT *, \n",
    "\t\t\tLAG(hash_id, 1) OVER (PARTITION BY _bic_zc_mchlv1 ORDER BY proc_date) hash_id_prev \n",
    "\t\tFROM main\n",
    "\t),\n",
    "\tmain_3 AS (\n",
    "\t\tSELECT * EXCEPT(hash_id_prev) \n",
    "\t\tFROM main_2 \n",
    "\t\tWHERE (hash_id != hash_id_prev OR hash_id_prev IS NULL)\n",
    "\t),\n",
    "\tmain_4 AS (\n",
    "\t\tSELECT *, \n",
    "\t\t\tLEAD(DATE(proc_date)) OVER (PARTITION BY _bic_zc_mchlv1 ORDER BY proc_date ASC) end_date \n",
    "\t\tFROM main_3\n",
    "\t)\n",
    "\tSELECT \n",
    "\t\t* EXCEPT(end_date), \n",
    "\t\tIFNULL(date_add(end_date, -1), '2400-01-01') end_date \n",
    "\tFROM main_4\n",
    "\"\"\")"
   ]
  },
  {
   "cell_type": "code",
   "execution_count": 0,
   "metadata": {
    "application/vnd.databricks.v1+cell": {
     "cellMetadata": {
      "byteLimit": 2048000,
      "rowLimit": 10000
     },
     "inputWidgets": {},
     "nuid": "d60168d0-c86c-47e6-9e2c-781413eb8499",
     "showTitle": false,
     "tableResultSettingsMap": {},
     "title": ""
    }
   },
   "outputs": [],
   "source": [
    "\n",
    "spark.sql(f\"\"\"\n",
    "\tMERGE INTO {catalog_name}.udp_wcm_silver_sap_bw.sap_zc_mchlv1 inf_tbl\n",
    "\tUSING (\n",
    "\t\tSELECT _bic_zc_mchlv1,hash_id, start_date FROM sap_zc_mchlv1\n",
    "\t\t\tWHERE end_date =CAST('2400-01-01' as DATE) \n",
    "\t) tmp_tbl\n",
    "\tON inf_tbl._bic_zc_mchlv1 = tmp_tbl._bic_zc_mchlv1 AND inf_tbl.hash_id != tmp_tbl.hash_id AND inf_tbl.end_date = CAST('2400-01-01' as DATE)\n",
    "\tWHEN MATCHED THEN UPDATE SET inf_tbl.end_date = date_add(tmp_tbl.start_date,-1) \"\"\")"
   ]
  },
  {
   "cell_type": "code",
   "execution_count": 0,
   "metadata": {
    "application/vnd.databricks.v1+cell": {
     "cellMetadata": {
      "byteLimit": 2048000,
      "rowLimit": 10000
     },
     "inputWidgets": {},
     "nuid": "af5702ed-6b86-49ef-ac5b-bc1769913d4b",
     "showTitle": false,
     "tableResultSettingsMap": {},
     "title": ""
    }
   },
   "outputs": [],
   "source": [
    "spark.sql(f\"\"\"\n",
    "\tMERGE INTO {catalog_name}.udp_wcm_silver_sap_bw.sap_zc_mchlv1 inf_tbl\n",
    "\t\tUSING  sap_zc_mchlv1 tmp_tbl\n",
    "\t\tON inf_tbl.hash_id = tmp_tbl.hash_id  AND inf_tbl.end_date =CAST('2400-01-01' as DATE)\n",
    "\t\tWHEN NOT MATCHED THEN INSERT * \"\"\")"
   ]
  }
 ],
 "metadata": {
  "application/vnd.databricks.v1+notebook": {
   "computePreferences": null,
   "dashboards": [],
   "environmentMetadata": {
    "base_environment": "",
    "environment_version": "2"
   },
   "inputWidgetPreferences": null,
   "language": "python",
   "notebookMetadata": {
    "mostRecentlyExecutedCommandWithImplicitDF": {
     "commandId": 6410538414260491,
     "dataframes": [
      "_sqldf"
     ]
    },
    "pythonIndentUnit": 4
   },
   "notebookName": "sap_zc_mchlv1",
   "widgets": {
    "environment": {
     "currentValue": "DEV",
     "nuid": "085c70a6-3e74-43ac-98a9-9cb8387e7060",
     "typedWidgetInfo": {
      "autoCreated": false,
      "defaultValue": "",
      "label": "",
      "name": "environment",
      "options": {
       "widgetDisplayType": "Text",
       "validationRegex": null
      },
      "parameterDataType": "String"
     },
     "widgetInfo": {
      "widgetType": "text",
      "defaultValue": "",
      "label": "",
      "name": "environment",
      "options": {
       "widgetType": "text",
       "autoCreated": null,
       "validationRegex": null
      }
     }
    },
    "proc_date": {
     "currentValue": "2025-05-31",
     "nuid": "a75b5f02-7798-498a-ae26-daef73785733",
     "typedWidgetInfo": {
      "autoCreated": false,
      "defaultValue": "",
      "label": null,
      "name": "proc_date",
      "options": {
       "widgetDisplayType": "Text",
       "validationRegex": null
      },
      "parameterDataType": "String"
     },
     "widgetInfo": {
      "widgetType": "text",
      "defaultValue": "",
      "label": null,
      "name": "proc_date",
      "options": {
       "widgetType": "text",
       "autoCreated": null,
       "validationRegex": null
      }
     }
    }
   }
  },
  "language_info": {
   "name": "python"
  }
 },
 "nbformat": 4,
 "nbformat_minor": 0
}
