{
 "cells": [
  {
   "cell_type": "code",
   "execution_count": 0,
   "metadata": {
    "application/vnd.databricks.v1+cell": {
     "cellMetadata": {
      "byteLimit": 2048000,
      "rowLimit": 10000
     },
     "inputWidgets": {},
     "nuid": "5ab88e64-7094-4607-bea3-cdecf1045cf3",
     "showTitle": false,
     "tableResultSettingsMap": {},
     "title": ""
    }
   },
   "outputs": [],
   "source": [
    "dbutils.widgets.text(\"proc_date\", \"\")\n",
    "proc_date = dbutils.widgets.get(\"proc_date\")"
   ]
  },
  {
   "cell_type": "code",
   "execution_count": 0,
   "metadata": {
    "application/vnd.databricks.v1+cell": {
     "cellMetadata": {
      "byteLimit": 2048000,
      "rowLimit": 10000
     },
     "inputWidgets": {},
     "nuid": "c61ce195-20cf-4ef9-9e27-8b51d826751d",
     "showTitle": false,
     "tableResultSettingsMap": {},
     "title": ""
    }
   },
   "outputs": [],
   "source": [
    "%run ../../../utils/common"
   ]
  },
  {
   "cell_type": "code",
   "execution_count": 0,
   "metadata": {
    "application/vnd.databricks.v1+cell": {
     "cellMetadata": {
      "byteLimit": 2048000,
      "rowLimit": 10000
     },
     "inputWidgets": {},
     "nuid": "b8fd7787-e223-4409-ac24-73683a8e68e4",
     "showTitle": false,
     "tableResultSettingsMap": {},
     "title": ""
    }
   },
   "outputs": [],
   "source": [
    "dbutils.widgets.text(\"environment\", \"\", \"\")\n",
    "environment = dbutils.widgets.get(\"environment\")"
   ]
  },
  {
   "cell_type": "code",
   "execution_count": 0,
   "metadata": {
    "application/vnd.databricks.v1+cell": {
     "cellMetadata": {
      "byteLimit": 2048000,
      "rowLimit": 10000
     },
     "inputWidgets": {},
     "nuid": "1ec54fc2-915d-405b-8c17-85351041387b",
     "showTitle": false,
     "tableResultSettingsMap": {},
     "title": ""
    }
   },
   "outputs": [],
   "source": [
    "catalog_name = settings[environment]['catalog_name']"
   ]
  },
  {
   "cell_type": "code",
   "execution_count": 0,
   "metadata": {
    "application/vnd.databricks.v1+cell": {
     "cellMetadata": {},
     "inputWidgets": {},
     "nuid": "df9ed81d-0ec6-4cfd-ae43-187552dc9133",
     "showTitle": false,
     "tableResultSettingsMap": {},
     "title": ""
    }
   },
   "outputs": [],
   "source": [
    "create_temp_view_with_clean_columns(\n",
    "    spark,\n",
    "    catalog_name,\n",
    "    'udp_wcm_bronze_sap_bw',\n",
    "    'sap_bw_wcm_pzc_add_cl',\n",
    "    proc_date,\n",
    "    'temp_sap_pzc_add_cl'\n",
    ")"
   ]
  },
  {
   "cell_type": "code",
   "execution_count": 0,
   "metadata": {
    "application/vnd.databricks.v1+cell": {
     "cellMetadata": {
      "byteLimit": 2048000,
      "rowLimit": 10000
     },
     "inputWidgets": {},
     "nuid": "cbc98789-bd48-4672-ba5c-1018ff72207f",
     "showTitle": false,
     "tableResultSettingsMap": {},
     "title": ""
    }
   },
   "outputs": [],
   "source": [
    "spark.sql(f\"\"\"\n",
    "CREATE TABLE IF NOT EXISTS {catalog_name}.udp_wcm_silver_sap_bw.sap_pzc_add_cl\n",
    "(\n",
    "  hash_id BIGINT,\n",
    "  _bic_zc_add_cl STRING,\n",
    "  objvers STRING,\n",
    "  changed STRING,\n",
    "  email_addr STRING,\n",
    "  str_suppl3 STRING,\n",
    "  str_suppl4 STRING,\n",
    "  street60 STRING,\n",
    "  name40 STRING,\n",
    "  city_1 STRING,\n",
    "  city_2 STRING,\n",
    "  str_suppl2 STRING,\n",
    "  oi_sort1 STRING,\n",
    "  oi_sort2 STRING,\n",
    "  proc_date DATE,\n",
    "  file_creation_ts TIMESTAMP\n",
    ")\n",
    "TBLPROPERTIES (\n",
    "  'DELTA.AUTOOPTIMIZE.OPTIMIZEWRITE' = 'true',\n",
    "  'DELTA.AUTOOPTIMIZE.AUTOCOMPACT' = 'true'\n",
    ")\n",
    " \"\"\")"
   ]
  },
  {
   "cell_type": "code",
   "execution_count": 0,
   "metadata": {
    "application/vnd.databricks.v1+cell": {
     "cellMetadata": {
      "byteLimit": 2048000,
      "implicitDf": true,
      "rowLimit": 10000
     },
     "inputWidgets": {},
     "nuid": "48b93a1b-8a9d-4f45-9b43-937809d9461d",
     "showTitle": false,
     "tableResultSettingsMap": {},
     "title": ""
    }
   },
   "outputs": [],
   "source": [
    "spark.sql(f\"\"\"\n",
    "    CREATE OR REPLACE TEMP VIEW sap_pzc_add_cl \n",
    "    AS\n",
    "        WITH dat AS (\n",
    "            SELECT \n",
    "                farm_fingerprint(CONCAT(\n",
    "                    IFNULL(CAST(_bic_zc_add_cl AS STRING), \"\"), \n",
    "                    IFNULL(CAST(objvers AS STRING), \"\")\n",
    "                )) hash_id,\n",
    "                ROW_NUMBER() OVER (PARTITION BY _bic_zc_add_cl, objvers ORDER BY proc_date DESC) rn,\n",
    "                {catalog_name}.default.fn_CLEAN_SAP_STRING(_bic_zc_add_cl) AS _bic_zc_add_cl,\n",
    "                {catalog_name}.default.fn_CLEAN_SAP_STRING(objvers) AS objvers,\n",
    "                {catalog_name}.default.fn_CLEAN_SAP_STRING(changed) AS changed,\n",
    "                {catalog_name}.default.fn_CLEAN_SAP_STRING(email_addr) AS email_addr,\n",
    "                {catalog_name}.default.fn_CLEAN_SAP_STRING(str_suppl3) AS str_suppl3,\n",
    "                {catalog_name}.default.fn_CLEAN_SAP_STRING(str_suppl4) AS str_suppl4,\n",
    "                {catalog_name}.default.fn_CLEAN_SAP_STRING(street60) AS street60,\n",
    "                {catalog_name}.default.fn_CLEAN_SAP_STRING(name40) AS name40,\n",
    "                {catalog_name}.default.fn_CLEAN_SAP_STRING(city_1) AS city_1,\n",
    "                {catalog_name}.default.fn_CLEAN_SAP_STRING(city_2) AS city_2,\n",
    "                {catalog_name}.default.fn_CLEAN_SAP_STRING(str_suppl2) AS str_suppl2,\n",
    "                {catalog_name}.default.fn_CLEAN_SAP_STRING(oi_sort1) AS oi_sort1,\n",
    "                {catalog_name}.default.fn_CLEAN_SAP_STRING(oi_sort2) AS oi_sort2,\n",
    "                proc_date,\n",
    "                file_creation_ts\n",
    "            FROM temp_sap_pzc_add_cl\n",
    "        )\n",
    "        SELECT * EXCEPT (rn) FROM dat WHERE rn = 1\n",
    "    \"\"\")"
   ]
  },
  {
   "cell_type": "code",
   "execution_count": 0,
   "metadata": {
    "application/vnd.databricks.v1+cell": {
     "cellMetadata": {
      "byteLimit": 2048000,
      "rowLimit": 10000
     },
     "inputWidgets": {},
     "nuid": "3d91b057-a7d9-4b73-a194-5ddc98742a4c",
     "showTitle": false,
     "tableResultSettingsMap": {},
     "title": ""
    }
   },
   "outputs": [],
   "source": [
    "spark.sql(f\"\"\"\n",
    "MERGE INTO {catalog_name}.udp_wcm_silver_sap_bw.sap_pzc_add_cl main_tbl\n",
    "USING (\n",
    "  SELECT * FROM sap_pzc_add_cl WHERE proc_date = cast('{proc_date}' as date)\n",
    ") temp_tbl\n",
    "ON main_tbl.hash_id = temp_tbl.hash_id\n",
    "\n",
    "WHEN MATCHED THEN \n",
    "  UPDATE SET\n",
    "    main_tbl.changed = temp_tbl.changed,\n",
    "    main_tbl.email_addr = temp_tbl.email_addr,\n",
    "    main_tbl.str_suppl3 = temp_tbl.str_suppl3,\n",
    "    main_tbl.str_suppl4 = temp_tbl.str_suppl4,\n",
    "    main_tbl.street60 = temp_tbl.street60,\n",
    "    main_tbl.name40 = temp_tbl.name40,\n",
    "    main_tbl.city_1 = temp_tbl.city_1,\n",
    "    main_tbl.city_2 = temp_tbl.city_2,\n",
    "    main_tbl.str_suppl2 = temp_tbl.str_suppl2,\n",
    "    main_tbl.oi_sort1 = temp_tbl.oi_sort1,\n",
    "    main_tbl.oi_sort2 = temp_tbl.oi_sort2\n",
    "\n",
    "WHEN NOT MATCHED THEN \n",
    "  INSERT (\n",
    "    hash_id,\n",
    "    _bic_zc_add_cl,\n",
    "    objvers,\n",
    "    changed,\n",
    "    email_addr,\n",
    "    str_suppl3,\n",
    "    str_suppl4,\n",
    "    street60,\n",
    "    name40,\n",
    "    city_1,\n",
    "    city_2,\n",
    "    str_suppl2,\n",
    "    oi_sort1,\n",
    "    oi_sort2,\n",
    "    proc_date,\n",
    "    file_creation_ts\n",
    "  )\n",
    "  VALUES (\n",
    "    temp_tbl.hash_id,\n",
    "    temp_tbl._bic_zc_add_cl,\n",
    "    temp_tbl.objvers,\n",
    "    temp_tbl.changed,\n",
    "    temp_tbl.email_addr,\n",
    "    temp_tbl.str_suppl3,\n",
    "    temp_tbl.str_suppl4,\n",
    "    temp_tbl.street60,\n",
    "    temp_tbl.name40,\n",
    "    temp_tbl.city_1,\n",
    "    temp_tbl.city_2,\n",
    "    temp_tbl.str_suppl2,\n",
    "    temp_tbl.oi_sort1,\n",
    "    temp_tbl.oi_sort2,\n",
    "    temp_tbl.proc_date,\n",
    "    temp_tbl.file_creation_ts\n",
    "  )\n",
    "\"\"\")\n"
   ]
  }
 ],
 "metadata": {
  "application/vnd.databricks.v1+notebook": {
   "computePreferences": null,
   "dashboards": [],
   "environmentMetadata": {
    "base_environment": "",
    "environment_version": "2"
   },
   "inputWidgetPreferences": null,
   "language": "python",
   "notebookMetadata": {
    "mostRecentlyExecutedCommandWithImplicitDF": {
     "commandId": 7367573557485516,
     "dataframes": [
      "_sqldf"
     ]
    },
    "pythonIndentUnit": 4
   },
   "notebookName": "sap_pzc_add_cl",
   "widgets": {
    "environment": {
     "currentValue": "DEV",
     "nuid": "b86d1834-1e79-4268-b9cb-ea21cb55e4df",
     "typedWidgetInfo": {
      "autoCreated": false,
      "defaultValue": "",
      "label": "",
      "name": "environment",
      "options": {
       "widgetDisplayType": "Text",
       "validationRegex": null
      },
      "parameterDataType": "String"
     },
     "widgetInfo": {
      "widgetType": "text",
      "defaultValue": "",
      "label": "",
      "name": "environment",
      "options": {
       "widgetType": "text",
       "autoCreated": null,
       "validationRegex": null
      }
     }
    },
    "proc_date": {
     "currentValue": "2025-07-15",
     "nuid": "4dfcb97b-ca16-40d9-934b-d85e790df020",
     "typedWidgetInfo": {
      "autoCreated": false,
      "defaultValue": "",
      "label": null,
      "name": "proc_date",
      "options": {
       "widgetDisplayType": "Text",
       "validationRegex": null
      },
      "parameterDataType": "String"
     },
     "widgetInfo": {
      "widgetType": "text",
      "defaultValue": "",
      "label": null,
      "name": "proc_date",
      "options": {
       "widgetType": "text",
       "autoCreated": null,
       "validationRegex": null
      }
     }
    }
   }
  },
  "language_info": {
   "name": "python"
  }
 },
 "nbformat": 4,
 "nbformat_minor": 0
}
