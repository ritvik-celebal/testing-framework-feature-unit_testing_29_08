{
 "cells": [
  {
   "cell_type": "code",
   "execution_count": 0,
   "metadata": {
    "application/vnd.databricks.v1+cell": {
     "cellMetadata": {
      "byteLimit": 2048000,
      "rowLimit": 10000
     },
     "inputWidgets": {},
     "nuid": "97dd17b2-42b6-4f01-8b1a-9b5e5263a899",
     "showTitle": false,
     "tableResultSettingsMap": {},
     "title": ""
    }
   },
   "outputs": [],
   "source": [
    "dbutils.widgets.text(\"proc_date\", \"\")\n",
    "proc_date = dbutils.widgets.get(\"proc_date\")"
   ]
  },
  {
   "cell_type": "code",
   "execution_count": 0,
   "metadata": {
    "application/vnd.databricks.v1+cell": {
     "cellMetadata": {
      "byteLimit": 2048000,
      "rowLimit": 10000
     },
     "inputWidgets": {},
     "nuid": "d4bdf84e-ec06-468c-843a-b5c5fe8733da",
     "showTitle": false,
     "tableResultSettingsMap": {},
     "title": ""
    }
   },
   "outputs": [],
   "source": [
    "%run ../../../utils/common"
   ]
  },
  {
   "cell_type": "code",
   "execution_count": 0,
   "metadata": {
    "application/vnd.databricks.v1+cell": {
     "cellMetadata": {
      "byteLimit": 2048000,
      "rowLimit": 10000
     },
     "inputWidgets": {},
     "nuid": "0e0624a5-8a3e-4ba8-bf37-6a6a8bd779f6",
     "showTitle": false,
     "tableResultSettingsMap": {},
     "title": ""
    }
   },
   "outputs": [],
   "source": [
    "dbutils.widgets.text(\"environment\", \"\", \"\")\n",
    "environment = dbutils.widgets.get(\"environment\")"
   ]
  },
  {
   "cell_type": "code",
   "execution_count": 0,
   "metadata": {
    "application/vnd.databricks.v1+cell": {
     "cellMetadata": {
      "byteLimit": 2048000,
      "rowLimit": 10000
     },
     "inputWidgets": {},
     "nuid": "a9904a91-66cd-47a1-8a6a-c71e0007a063",
     "showTitle": false,
     "tableResultSettingsMap": {},
     "title": ""
    }
   },
   "outputs": [],
   "source": [
    "catalog_name = settings[environment]['catalog_name']"
   ]
  },
  {
   "cell_type": "code",
   "execution_count": 0,
   "metadata": {
    "application/vnd.databricks.v1+cell": {
     "cellMetadata": {
      "byteLimit": 2048000,
      "rowLimit": 10000
     },
     "inputWidgets": {},
     "nuid": "2fd990e0-31e0-4ecf-8124-2e5e44d6b9e8",
     "showTitle": false,
     "tableResultSettingsMap": {},
     "title": ""
    }
   },
   "outputs": [],
   "source": [
    "create_temp_view_with_clean_columns(\n",
    "    spark,\n",
    "    catalog_name,\n",
    "    'udp_wcm_bronze_sap_bw',\n",
    "    'sap_bw_wcm_zc_subbrd',\n",
    "    proc_date,\n",
    "    'temp_sap_zc_subbrd'\n",
    ")"
   ]
  },
  {
   "cell_type": "code",
   "execution_count": 0,
   "metadata": {
    "application/vnd.databricks.v1+cell": {
     "cellMetadata": {
      "byteLimit": 2048000,
      "rowLimit": 10000
     },
     "inputWidgets": {},
     "nuid": "ff5ea593-2888-4cb5-85fc-9cba2f48dad5",
     "showTitle": false,
     "tableResultSettingsMap": {},
     "title": ""
    }
   },
   "outputs": [],
   "source": [
    "spark.sql(f\"\"\"\n",
    "CREATE TABLE IF NOT EXISTS {catalog_name}.udp_wcm_silver_sap_bw.sap_zc_subbrd\n",
    "( \n",
    "  hash_id BIGINT,\n",
    "  _bic_zc_subbrd STRING,\n",
    "  langu STRING,\n",
    "  txtsh STRING,\n",
    "  proc_date DATE,\n",
    "  file_creation_ts TIMESTAMP,\n",
    "  start_date DATE,\n",
    "  end_date DATE\n",
    "\n",
    ")\n",
    "TBLPROPERTIES (\n",
    "  'DELTA.AUTOOPTIMIZE.OPTIMIZEWRITE' = 'true',\n",
    "  'DELTA.AUTOOPTIMIZE.AUTOCOMPACT' = 'true'\n",
    ") \"\"\")"
   ]
  },
  {
   "cell_type": "code",
   "execution_count": 0,
   "metadata": {
    "application/vnd.databricks.v1+cell": {
     "cellMetadata": {
      "byteLimit": 2048000,
      "rowLimit": 10000
     },
     "inputWidgets": {},
     "nuid": "b0ab71b8-465b-4ee4-b561-a5404cf958bf",
     "showTitle": false,
     "tableResultSettingsMap": {},
     "title": ""
    }
   },
   "outputs": [],
   "source": [
    "spark.sql(f\"\"\"\n",
    "    CREATE OR REPLACE TEMP VIEW sap_zc_subbrd\n",
    "    AS\n",
    "    WITH temp AS (\n",
    "        SELECT * EXCEPT (rn)\n",
    "        FROM (\n",
    "            SELECT *, ROW_NUMBER() OVER (PARTITION BY _bic_zc_subbrd, DATE(proc_date) ORDER BY proc_date) AS rn\n",
    "            FROM (\n",
    "                SELECT LTRIM('0',_bic_zc_subbrd) AS _bic_zc_subbrd, langu, txtsh, proc_date AS proc_date, file_creation_ts\n",
    "                FROM temp_sap_zc_subbrd )\n",
    "            ) a\n",
    "        WHERE rn = 1\n",
    "    ),\n",
    "    main AS (\n",
    "        SELECT FARM_FINGERPRINT(CONCAT(\n",
    "            COALESCE(CAST(_bic_zc_subbrd AS STRING), \"\"), \n",
    "            COALESCE(CAST(langu AS STRING), \"\"),\n",
    "            COALESCE(CAST(txtsh AS STRING), \"\")\n",
    "        )) AS hash_id\n",
    "        , *\n",
    "        , DATE(proc_date) AS start_date\n",
    "        FROM temp\n",
    "    )\n",
    "    ,main_2 AS (\n",
    "        SELECT *, LAG(hash_id, 1) OVER (PARTITION BY _bic_zc_subbrd ORDER BY proc_date) AS hash_id_prev\n",
    "        FROM main\n",
    "    )\n",
    "    ,main_3 AS (\n",
    "        SELECT * EXCEPT(hash_id_prev)\n",
    "        FROM main_2\n",
    "        WHERE CAST(hash_id AS STRING) <> CAST(hash_id_prev AS STRING) \n",
    "        OR hash_id_prev IS NULL\n",
    "    )\n",
    "    ,main_4 AS (\n",
    "        SELECT *, LEAD(DATE(proc_date)) OVER (PARTITION BY _bic_zc_subbrd ORDER BY proc_date ASC) AS end_date\n",
    "        FROM main_3\n",
    "    )\n",
    "    SELECT \n",
    "    * EXCEPT(end_date), COALESCE(DATE_ADD(end_date,-1), '2400-01-01') AS end_date\n",
    "    FROM main_4\n",
    "    \"\"\")"
   ]
  },
  {
   "cell_type": "code",
   "execution_count": 0,
   "metadata": {
    "application/vnd.databricks.v1+cell": {
     "cellMetadata": {
      "byteLimit": 2048000,
      "rowLimit": 10000
     },
     "inputWidgets": {},
     "nuid": "c0a817b8-0547-4170-ad4a-745d193c7910",
     "showTitle": false,
     "tableResultSettingsMap": {},
     "title": ""
    }
   },
   "outputs": [],
   "source": [
    "spark.sql(f\"\"\"\n",
    "    MERGE INTO {catalog_name}.udp_wcm_silver_sap_bw.sap_zc_subbrd AS inf_tbl\n",
    "    USING (\n",
    "        SELECT _bic_zc_subbrd, hash_id, start_date\n",
    "        FROM sap_zc_subbrd\n",
    "        WHERE end_date = DATE('2400-01-01')\n",
    "    ) AS tmp_tbl\n",
    "    ON inf_tbl._bic_zc_subbrd = tmp_tbl._bic_zc_subbrd \n",
    "    AND inf_tbl.hash_id != tmp_tbl.hash_id \n",
    "    AND inf_tbl.end_date = DATE('2400-01-01')\n",
    "    WHEN MATCHED THEN UPDATE SET inf_tbl.end_date = DATE_ADD(tmp_tbl.start_date,-1)\"\"\")"
   ]
  },
  {
   "cell_type": "code",
   "execution_count": 0,
   "metadata": {
    "application/vnd.databricks.v1+cell": {
     "cellMetadata": {
      "byteLimit": 2048000,
      "rowLimit": 10000
     },
     "inputWidgets": {},
     "nuid": "75336e85-3e2f-4f3b-b083-c0e18c5bb05c",
     "showTitle": false,
     "tableResultSettingsMap": {},
     "title": ""
    }
   },
   "outputs": [],
   "source": [
    "spark.sql(f\"\"\"\n",
    "    MERGE INTO {catalog_name}.udp_wcm_silver_sap_bw.sap_zc_subbrd AS inf_tbl\n",
    "    USING sap_zc_subbrd AS tmp_tbl\n",
    "    ON inf_tbl.hash_id = tmp_tbl.hash_id \n",
    "    AND inf_tbl.end_date = DATE('2400-01-01')\n",
    "    WHEN NOT MATCHED THEN INSERT * \"\"\")"
   ]
  }
 ],
 "metadata": {
  "application/vnd.databricks.v1+notebook": {
   "computePreferences": null,
   "dashboards": [],
   "environmentMetadata": {
    "base_environment": "",
    "environment_version": "2"
   },
   "inputWidgetPreferences": null,
   "language": "python",
   "notebookMetadata": {
    "mostRecentlyExecutedCommandWithImplicitDF": {
     "commandId": 6410538414264523,
     "dataframes": [
      "_sqldf"
     ]
    },
    "pythonIndentUnit": 4
   },
   "notebookName": "sap_zc_subbrd",
   "widgets": {
    "environment": {
     "currentValue": "DEV",
     "nuid": "e6324bc9-265c-43a9-b067-c86f6086fd9e",
     "typedWidgetInfo": {
      "autoCreated": false,
      "defaultValue": "",
      "label": "",
      "name": "environment",
      "options": {
       "widgetDisplayType": "Text",
       "validationRegex": null
      },
      "parameterDataType": "String"
     },
     "widgetInfo": {
      "widgetType": "text",
      "defaultValue": "",
      "label": "",
      "name": "environment",
      "options": {
       "widgetType": "text",
       "autoCreated": null,
       "validationRegex": null
      }
     }
    },
    "proc_date": {
     "currentValue": "2025-07-20",
     "nuid": "94ed1299-f729-4d1c-9dfd-88850a103b7c",
     "typedWidgetInfo": {
      "autoCreated": false,
      "defaultValue": "",
      "label": null,
      "name": "proc_date",
      "options": {
       "widgetDisplayType": "Text",
       "validationRegex": null
      },
      "parameterDataType": "String"
     },
     "widgetInfo": {
      "widgetType": "text",
      "defaultValue": "",
      "label": null,
      "name": "proc_date",
      "options": {
       "widgetType": "text",
       "autoCreated": null,
       "validationRegex": null
      }
     }
    }
   }
  },
  "language_info": {
   "name": "python"
  }
 },
 "nbformat": 4,
 "nbformat_minor": 0
}
