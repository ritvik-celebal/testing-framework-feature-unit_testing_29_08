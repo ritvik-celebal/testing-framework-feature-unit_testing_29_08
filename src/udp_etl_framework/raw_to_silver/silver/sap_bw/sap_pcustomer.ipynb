{
 "cells": [
  {
   "cell_type": "code",
   "execution_count": 0,
   "metadata": {
    "application/vnd.databricks.v1+cell": {
     "cellMetadata": {
      "byteLimit": 2048000,
      "rowLimit": 10000
     },
     "inputWidgets": {},
     "nuid": "78662225-84f7-4afd-a73e-dde850516b30",
     "showTitle": false,
     "tableResultSettingsMap": {},
     "title": ""
    }
   },
   "outputs": [],
   "source": [
    "dbutils.widgets.text(\"proc_date\", \"\")\n",
    "proc_date = dbutils.widgets.get(\"proc_date\")"
   ]
  },
  {
   "cell_type": "code",
   "execution_count": 0,
   "metadata": {
    "application/vnd.databricks.v1+cell": {
     "cellMetadata": {
      "byteLimit": 2048000,
      "rowLimit": 10000
     },
     "inputWidgets": {},
     "nuid": "c61ce195-20cf-4ef9-9e27-8b51d826751d",
     "showTitle": false,
     "tableResultSettingsMap": {},
     "title": ""
    }
   },
   "outputs": [],
   "source": [
    "%run ../../../utils/common"
   ]
  },
  {
   "cell_type": "code",
   "execution_count": 0,
   "metadata": {
    "application/vnd.databricks.v1+cell": {
     "cellMetadata": {
      "byteLimit": 2048000,
      "rowLimit": 10000
     },
     "inputWidgets": {},
     "nuid": "25440d5f-7ec7-44d8-98d7-644f6ba84be1",
     "showTitle": false,
     "tableResultSettingsMap": {},
     "title": ""
    }
   },
   "outputs": [],
   "source": [
    "dbutils.widgets.text(\"environment\", \"\")\n",
    "environment = dbutils.widgets.get(\"environment\")"
   ]
  },
  {
   "cell_type": "code",
   "execution_count": 0,
   "metadata": {
    "application/vnd.databricks.v1+cell": {
     "cellMetadata": {
      "byteLimit": 2048000,
      "rowLimit": 10000
     },
     "inputWidgets": {},
     "nuid": "1ec54fc2-915d-405b-8c17-85351041387b",
     "showTitle": false,
     "tableResultSettingsMap": {},
     "title": ""
    }
   },
   "outputs": [],
   "source": [
    "catalog_name = settings[environment]['catalog_name']"
   ]
  },
  {
   "cell_type": "code",
   "execution_count": 0,
   "metadata": {
    "application/vnd.databricks.v1+cell": {
     "cellMetadata": {},
     "inputWidgets": {},
     "nuid": "a7e3c53e-064d-40d4-a3d5-efd95ae1b638",
     "showTitle": false,
     "tableResultSettingsMap": {},
     "title": ""
    }
   },
   "outputs": [],
   "source": [
    "create_temp_view_with_clean_columns(\n",
    "    spark,\n",
    "    catalog_name,\n",
    "    'udp_wcm_bronze_sap_bw',\n",
    "    'sap_bw_wcm_pcustomer',\n",
    "    proc_date,\n",
    "    'temp_sap_pcustomer'\n",
    ")"
   ]
  },
  {
   "cell_type": "code",
   "execution_count": 0,
   "metadata": {
    "application/vnd.databricks.v1+cell": {
     "cellMetadata": {
      "byteLimit": 2048000,
      "rowLimit": 10000
     },
     "inputWidgets": {},
     "nuid": "cbc98789-bd48-4672-ba5c-1018ff72207f",
     "showTitle": false,
     "tableResultSettingsMap": {},
     "title": ""
    }
   },
   "outputs": [],
   "source": [
    "spark.sql(f\"\"\"\n",
    "CREATE TABLE IF NOT EXISTS {catalog_name}.udp_wcm_silver_sap_bw.sap_pcustomer\n",
    "( hash_id BIGINT,\n",
    "  customer STRING,\n",
    "  objvers STRING,\n",
    "  changed STRING,\n",
    "  accnt_grp STRING,\n",
    "  addr_numbr STRING,\n",
    "  af_custdc STRING,\n",
    "  af_custid STRING,\n",
    "  altitude FLOAT,\n",
    "  apo_locno STRING,\n",
    "  bpartner STRING,\n",
    "  city STRING,\n",
    "  city_2 STRING,\n",
    "  country STRING,\n",
    "  cust_class STRING,\n",
    "  cust_mkt STRING,\n",
    "  cus_f_cons STRING,\n",
    "  db87_sic1 STRING,\n",
    "  dbansales STRING,\n",
    "  dbareacod STRING,\n",
    "  dbctrycod STRING,\n",
    "  dbctynam STRING,\n",
    "  dbcustat STRING,\n",
    "  dbdistrcod STRING,\n",
    "  dbduns_num STRING,\n",
    "  dbempbnd STRING,\n",
    "  dbemptot STRING,\n",
    "  dbguduns STRING,\n",
    "  dbhqduns STRING,\n",
    "  dblglstat STRING,\n",
    "  dblocacod STRING,\n",
    "  dbregcod STRING,\n",
    "  dbsalbnd STRING,\n",
    "  dbsectcod STRING,\n",
    "  dbyrsbnd STRING,\n",
    "  dbyrstd STRING,\n",
    "  db_maktcod STRING,\n",
    "  db_matcds STRING,\n",
    "  fax_num STRING,\n",
    "  fiscvarnt STRING,\n",
    "  id_txnumb3 STRING,\n",
    "  id_xcpd STRING,\n",
    "  industry STRING,\n",
    "  ind_code_1 STRING,\n",
    "  ind_code_2 STRING,\n",
    "  ind_code_3 STRING,\n",
    "  ind_code_4 STRING,\n",
    "  ind_code_5 STRING,\n",
    "  keyaccount STRING,\n",
    "  langu STRING,\n",
    "  latitude FLOAT,\n",
    "  logsys STRING,\n",
    "  longitude FLOAT,\n",
    "  name STRING,\n",
    "  name2 STRING,\n",
    "  name3 STRING,\n",
    "  nielsen_id STRING,\n",
    "  outl_type STRING,\n",
    "  pcompany STRING,\n",
    "  phone STRING,\n",
    "  plant STRING,\n",
    "  pobox STRING,\n",
    "  pobox_loc STRING,\n",
    "  postal_cd STRING,\n",
    "  postcd_box STRING,\n",
    "  postcd_gis STRING,\n",
    "  precisid STRING,\n",
    "  region STRING,\n",
    "  sortl STRING,\n",
    "  srcid STRING,\n",
    "  street STRING,\n",
    "  tax_numb STRING,\n",
    "  tax_numb2 STRING,\n",
    "  usage_ind STRING,\n",
    "  vendor STRING,\n",
    "  visit_ryt STRING,\n",
    "  dbtrdstyl STRING,\n",
    "  dbaddres1 STRING,\n",
    "  dbaddres2 STRING,\n",
    "  dbctryna STRING,\n",
    "  dbstprcod STRING,\n",
    "  dbpostcod STRING,\n",
    "  dbnatid STRING,\n",
    "  dbnatidco STRING,\n",
    "  dbtelphon STRING,\n",
    "  dbceoname STRING,\n",
    "  dblnofbus STRING,\n",
    "  dbanslus STRING,\n",
    "  dbcurncco STRING,\n",
    "  dbemphere STRING,\n",
    "  dbsubcode STRING,\n",
    "  dbhqname STRING,\n",
    "  dbhqctynm STRING,\n",
    "  dbhqstpr STRING,\n",
    "  dbhqctryn STRING,\n",
    "  dbulduns STRING,\n",
    "  dbulname STRING,\n",
    "  dbulctynm STRING,\n",
    "  dbguctryn STRING,\n",
    "  dbguctryc STRING,\n",
    "  dbguname STRING,\n",
    "  dbnumfam STRING,\n",
    "  dbhierco STRING,\n",
    "  dbfamupdt STRING,\n",
    "  dbbusname STRING,\n",
    "  db_match STRING,\n",
    "  vat_reg_no STRING,\n",
    "  proc_date DATE,\n",
    "  file_creation_ts TIMESTAMP\n",
    ")\n",
    "TBLPROPERTIES (\n",
    "  'DELTA.AUTOOPTIMIZE.OPTIMIZEWRITE' = 'TRUE',\n",
    "  'DELTA.AUTOOPTIMIZE.AUTOCOMPACT' = 'TRUE'\n",
    ")\n",
    " \n",
    "\"\"\")"
   ]
  },
  {
   "cell_type": "code",
   "execution_count": 0,
   "metadata": {
    "application/vnd.databricks.v1+cell": {
     "cellMetadata": {
      "byteLimit": 2048000,
      "implicitDf": true,
      "rowLimit": 10000
     },
     "inputWidgets": {},
     "nuid": "48b93a1b-8a9d-4f45-9b43-937809d9461d",
     "showTitle": false,
     "tableResultSettingsMap": {},
     "title": ""
    }
   },
   "outputs": [],
   "source": [
    "spark.sql(f\"\"\"\n",
    "    CREATE OR REPLACE TEMP VIEW sap_pcustomer AS\n",
    "    WITH dat AS (\n",
    "        SELECT \n",
    "            farm_fingerprint(CONCAT(\n",
    "                COALESCE(CAST(customer AS STRING), ''), \n",
    "                COALESCE(CAST(objvers AS STRING), '')\n",
    "            )) AS hash_id,\n",
    "            ROW_NUMBER() OVER (PARTITION BY customer, objvers ORDER BY proc_date DESC) AS rn,\n",
    "            {catalog_name}.default.fn_CLEAN_SAP_STRING(customer) AS customer,\n",
    "            {catalog_name}.default.fn_CLEAN_SAP_STRING(objvers) AS objvers,\n",
    "            {catalog_name}.default.fn_CLEAN_SAP_STRING(changed) AS changed,\n",
    "            {catalog_name}.default.fn_CLEAN_SAP_STRING(accnt_grp) AS accnt_grp,\n",
    "            {catalog_name}.default.fn_CLEAN_SAP_STRING(addr_numbr) AS addr_numbr,\n",
    "            {catalog_name}.default.fn_CLEAN_SAP_STRING(af_custdc) AS af_custdc,\n",
    "            {catalog_name}.default.fn_CLEAN_SAP_STRING(af_custid) AS af_custid,\n",
    "            altitude AS altitude,\n",
    "            {catalog_name}.default.fn_CLEAN_SAP_STRING(apo_locno) AS apo_locno,\n",
    "            {catalog_name}.default.fn_CLEAN_SAP_STRING(bpartner) AS bpartner,\n",
    "            {catalog_name}.default.fn_CLEAN_SAP_STRING(city) AS city,\n",
    "            {catalog_name}.default.fn_CLEAN_SAP_STRING(city_2) AS city_2,\n",
    "            {catalog_name}.default.fn_CLEAN_SAP_STRING(country) AS country,\n",
    "            {catalog_name}.default.fn_CLEAN_SAP_STRING(cust_class) AS cust_class,\n",
    "            {catalog_name}.default.fn_CLEAN_SAP_STRING(cust_mkt) AS cust_mkt,\n",
    "            {catalog_name}.default.fn_CLEAN_SAP_STRING(cus_f_cons) AS cus_f_cons,\n",
    "            {catalog_name}.default.fn_CLEAN_SAP_STRING(db87_sic1) AS db87_sic1,\n",
    "            {catalog_name}.default.fn_CLEAN_SAP_STRING(dbansales) AS dbansales,\n",
    "            {catalog_name}.default.fn_CLEAN_SAP_STRING(dbareacod) AS dbareacod,\n",
    "            {catalog_name}.default.fn_CLEAN_SAP_STRING(dbctrycod) AS dbctrycod,\n",
    "            {catalog_name}.default.fn_CLEAN_SAP_STRING(dbctynam) AS dbctynam,\n",
    "            {catalog_name}.default.fn_CLEAN_SAP_STRING(dbcustat) AS dbcustat,\n",
    "            {catalog_name}.default.fn_CLEAN_SAP_STRING(dbdistrcod) AS dbdistrcod,\n",
    "            {catalog_name}.default.fn_CLEAN_SAP_STRING(dbduns_num) AS dbduns_num,\n",
    "            {catalog_name}.default.fn_CLEAN_SAP_STRING(dbempbnd) AS dbempbnd,\n",
    "            {catalog_name}.default.fn_CLEAN_SAP_STRING(dbemptot) AS dbemptot,\n",
    "            {catalog_name}.default.fn_CLEAN_SAP_STRING(dbguduns) AS dbguduns,\n",
    "            {catalog_name}.default.fn_CLEAN_SAP_STRING(dbhqduns) AS dbhqduns,\n",
    "            {catalog_name}.default.fn_CLEAN_SAP_STRING(dblglstat) AS dblglstat,\n",
    "            {catalog_name}.default.fn_CLEAN_SAP_STRING(dblocacod) AS dblocacod,\n",
    "            {catalog_name}.default.fn_CLEAN_SAP_STRING(dbregcod) AS dbregcod,\n",
    "            {catalog_name}.default.fn_CLEAN_SAP_STRING(dbsalbnd) AS dbsalbnd,\n",
    "            {catalog_name}.default.fn_CLEAN_SAP_STRING(dbsectcod) AS dbsectcod,\n",
    "            {catalog_name}.default.fn_CLEAN_SAP_STRING(dbyrsbnd) AS dbyrsbnd,\n",
    "            {catalog_name}.default.fn_CLEAN_SAP_STRING(dbyrstd) AS dbyrstd,\n",
    "            {catalog_name}.default.fn_CLEAN_SAP_STRING(db_maktcod) AS db_maktcod,\n",
    "            {catalog_name}.default.fn_CLEAN_SAP_STRING(db_matcds) AS db_matcds,\n",
    "            {catalog_name}.default.fn_CLEAN_SAP_STRING(fax_num) AS fax_num,\n",
    "            {catalog_name}.default.fn_CLEAN_SAP_STRING(fiscvarnt) AS fiscvarnt,\n",
    "            {catalog_name}.default.fn_CLEAN_SAP_STRING(id_txnumb3) AS id_txnumb3,\n",
    "            {catalog_name}.default.fn_CLEAN_SAP_STRING(id_xcpd) AS id_xcpd,\n",
    "            {catalog_name}.default.fn_CLEAN_SAP_STRING(industry) AS industry,\n",
    "            {catalog_name}.default.fn_CLEAN_SAP_STRING(ind_code_1) AS ind_code_1,\n",
    "            {catalog_name}.default.fn_CLEAN_SAP_STRING(ind_code_2) AS ind_code_2,\n",
    "            {catalog_name}.default.fn_CLEAN_SAP_STRING(ind_code_3) AS ind_code_3,\n",
    "            {catalog_name}.default.fn_CLEAN_SAP_STRING(ind_code_4) AS ind_code_4,\n",
    "            {catalog_name}.default.fn_CLEAN_SAP_STRING(ind_code_5) AS ind_code_5,\n",
    "            {catalog_name}.default.fn_CLEAN_SAP_STRING(keyaccount) AS keyaccount,\n",
    "            {catalog_name}.default.fn_CLEAN_SAP_STRING(langu) AS langu,\n",
    "            latitude AS latitude,\n",
    "            {catalog_name}.default.fn_CLEAN_SAP_STRING(logsys) AS logsys,\n",
    "            longitude AS longitude,\n",
    "            {catalog_name}.default.fn_CLEAN_SAP_STRING(name) AS name,\n",
    "            {catalog_name}.default.fn_CLEAN_SAP_STRING(name2) AS name2,\n",
    "            {catalog_name}.default.fn_CLEAN_SAP_STRING(name3) AS name3,\n",
    "            {catalog_name}.default.fn_CLEAN_SAP_STRING(nielsen_id) AS nielsen_id,\n",
    "            {catalog_name}.default.fn_CLEAN_SAP_STRING(outl_type) AS outl_type,\n",
    "            {catalog_name}.default.fn_CLEAN_SAP_STRING(pcompany) AS pcompany,\n",
    "            {catalog_name}.default.fn_CLEAN_SAP_STRING(phone) AS phone,\n",
    "            {catalog_name}.default.fn_CLEAN_SAP_STRING(plant) AS plant,\n",
    "            {catalog_name}.default.fn_CLEAN_SAP_STRING(pobox) AS pobox,\n",
    "            {catalog_name}.default.fn_CLEAN_SAP_STRING(pobox_loc) AS pobox_loc,\n",
    "            {catalog_name}.default.fn_CLEAN_SAP_STRING(postal_cd) AS postal_cd,\n",
    "            {catalog_name}.default.fn_CLEAN_SAP_STRING(postcd_box) AS postcd_box,\n",
    "            {catalog_name}.default.fn_CLEAN_SAP_STRING(postcd_gis) AS postcd_gis,\n",
    "            {catalog_name}.default.fn_CLEAN_SAP_STRING(precisid) AS precisid,\n",
    "            {catalog_name}.default.fn_CLEAN_SAP_STRING(region) AS region,\n",
    "            {catalog_name}.default.fn_CLEAN_SAP_STRING(sortl) AS sortl,\n",
    "            {catalog_name}.default.fn_CLEAN_SAP_STRING(srcid) AS srcid,\n",
    "            {catalog_name}.default.fn_CLEAN_SAP_STRING(street) AS street,\n",
    "            {catalog_name}.default.fn_CLEAN_SAP_STRING(tax_numb) AS tax_numb,\n",
    "            {catalog_name}.default.fn_CLEAN_SAP_STRING(tax_numb2) AS tax_numb2,\n",
    "            {catalog_name}.default.fn_CLEAN_SAP_STRING(usage_ind) AS usage_ind,\n",
    "            {catalog_name}.default.fn_CLEAN_SAP_STRING(vendor) AS vendor,\n",
    "            {catalog_name}.default.fn_CLEAN_SAP_STRING(visit_ryt) AS visit_ryt,\n",
    "            {catalog_name}.default.fn_CLEAN_SAP_STRING(dbtrdstyl) AS dbtrdstyl,\n",
    "            {catalog_name}.default.fn_CLEAN_SAP_STRING(dbaddres1) AS dbaddres1,\n",
    "            {catalog_name}.default.fn_CLEAN_SAP_STRING(dbaddres2) AS dbaddres2,\n",
    "            {catalog_name}.default.fn_CLEAN_SAP_STRING(dbctryna) AS dbctryna,\n",
    "            {catalog_name}.default.fn_CLEAN_SAP_STRING(dbstprcod) AS dbstprcod,\n",
    "            {catalog_name}.default.fn_CLEAN_SAP_STRING(dbpostcod) AS dbpostcod,\n",
    "            {catalog_name}.default.fn_CLEAN_SAP_STRING(dbnatid) AS dbnatid,\n",
    "            {catalog_name}.default.fn_CLEAN_SAP_STRING(dbnatidco) AS dbnatidco,\n",
    "            {catalog_name}.default.fn_CLEAN_SAP_STRING(dbtelphon) AS dbtelphon,\n",
    "            {catalog_name}.default.fn_CLEAN_SAP_STRING(dbceoname) AS dbceoname,\n",
    "            {catalog_name}.default.fn_CLEAN_SAP_STRING(dblnofbus) AS dblnofbus,\n",
    "            {catalog_name}.default.fn_CLEAN_SAP_STRING(dbanslus) AS dbanslus,\n",
    "            {catalog_name}.default.fn_CLEAN_SAP_STRING(dbcurncco) AS dbcurncco,\n",
    "            {catalog_name}.default.fn_CLEAN_SAP_STRING(dbemphere) AS dbemphere,\n",
    "            {catalog_name}.default.fn_CLEAN_SAP_STRING(dbsubcode) AS dbsubcode,\n",
    "            {catalog_name}.default.fn_CLEAN_SAP_STRING(dbhqname) AS dbhqname,\n",
    "            {catalog_name}.default.fn_CLEAN_SAP_STRING(dbhqctynm) AS dbhqctynm,\n",
    "            {catalog_name}.default.fn_CLEAN_SAP_STRING(dbhqstpr) AS dbhqstpr,\n",
    "            {catalog_name}.default.fn_CLEAN_SAP_STRING(dbhqctryn) AS dbhqctryn,\n",
    "            {catalog_name}.default.fn_CLEAN_SAP_STRING(dbulduns) AS dbulduns,\n",
    "            {catalog_name}.default.fn_CLEAN_SAP_STRING(dbulname) AS dbulname,\n",
    "            {catalog_name}.default.fn_CLEAN_SAP_STRING(dbulctynm) AS dbulctynm,\n",
    "            {catalog_name}.default.fn_CLEAN_SAP_STRING(dbguctryn) AS dbguctryn,\n",
    "            {catalog_name}.default.fn_CLEAN_SAP_STRING(dbguctryc) AS dbguctryc,\n",
    "            {catalog_name}.default.fn_CLEAN_SAP_STRING(dbguname) AS dbguname,\n",
    "            {catalog_name}.default.fn_CLEAN_SAP_STRING(dbnumfam) AS dbnumfam,\n",
    "            {catalog_name}.default.fn_CLEAN_SAP_STRING(dbhierco) AS dbhierco,\n",
    "            {catalog_name}.default.fn_CLEAN_SAP_STRING(dbfamupdt) AS dbfamupdt,\n",
    "            {catalog_name}.default.fn_CLEAN_SAP_STRING(dbbusname) AS dbbusname,\n",
    "            {catalog_name}.default.fn_CLEAN_SAP_STRING(db_match) AS db_match,\n",
    "            {catalog_name}.default.fn_CLEAN_SAP_STRING(vat_reg_no) AS vat_reg_no,\n",
    "            proc_date,\n",
    "            file_creation_ts\n",
    "        FROM temp_sap_pcustomer\n",
    "    )\n",
    "    SELECT\n",
    "    * EXCEPT(RN) FROM dat WHERE rn = 1\n",
    "\"\"\")"
   ]
  },
  {
   "cell_type": "code",
   "execution_count": 0,
   "metadata": {
    "application/vnd.databricks.v1+cell": {
     "cellMetadata": {
      "byteLimit": 2048000,
      "rowLimit": 10000
     },
     "inputWidgets": {},
     "nuid": "dcbd401b-3792-4819-a8f4-affa12f70824",
     "showTitle": false,
     "tableResultSettingsMap": {},
     "title": ""
    }
   },
   "outputs": [],
   "source": [
    "spark.sql(f\"\"\"\n",
    "MERGE INTO {catalog_name}.udp_wcm_silver_sap_bw.sap_pcustomer main_tbl\n",
    "USING sap_pcustomer temp_tbl \n",
    "ON main_tbl.hash_id = temp_tbl.hash_id\n",
    "WHEN NOT MATCHED THEN INSERT *\n",
    "\"\"\")"
   ]
  }
 ],
 "metadata": {
  "application/vnd.databricks.v1+notebook": {
   "computePreferences": null,
   "dashboards": [],
   "environmentMetadata": {
    "base_environment": "",
    "environment_version": "2"
   },
   "inputWidgetPreferences": null,
   "language": "python",
   "notebookMetadata": {
    "mostRecentlyExecutedCommandWithImplicitDF": {
     "commandId": 6329452208606056,
     "dataframes": [
      "_sqldf"
     ]
    },
    "pythonIndentUnit": 4
   },
   "notebookName": "sap_pcustomer",
   "widgets": {
    "environment": {
     "currentValue": "DEV",
     "nuid": "b86d1834-1e79-4268-b9cb-ea21cb55e4df",
     "typedWidgetInfo": {
      "autoCreated": false,
      "defaultValue": "",
      "label": null,
      "name": "environment",
      "options": {
       "widgetDisplayType": "Text",
       "validationRegex": null
      },
      "parameterDataType": "String"
     },
     "widgetInfo": {
      "widgetType": "text",
      "defaultValue": "",
      "label": null,
      "name": "environment",
      "options": {
       "widgetType": "text",
       "autoCreated": null,
       "validationRegex": null
      }
     }
    },
    "proc_date": {
     "currentValue": "2025-07-21",
     "nuid": "4dfcb97b-ca16-40d9-934b-d85e790df020",
     "typedWidgetInfo": {
      "autoCreated": false,
      "defaultValue": "",
      "label": null,
      "name": "proc_date",
      "options": {
       "widgetDisplayType": "Text",
       "validationRegex": null
      },
      "parameterDataType": "String"
     },
     "widgetInfo": {
      "widgetType": "text",
      "defaultValue": "",
      "label": null,
      "name": "proc_date",
      "options": {
       "widgetType": "text",
       "autoCreated": null,
       "validationRegex": null
      }
     }
    }
   }
  },
  "language_info": {
   "name": "python"
  }
 },
 "nbformat": 4,
 "nbformat_minor": 0
}
