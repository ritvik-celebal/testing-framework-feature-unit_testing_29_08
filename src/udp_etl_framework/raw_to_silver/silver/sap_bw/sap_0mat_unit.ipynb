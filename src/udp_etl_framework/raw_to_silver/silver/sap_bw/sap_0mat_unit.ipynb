{
 "cells": [
  {
   "cell_type": "code",
   "execution_count": 0,
   "metadata": {
    "application/vnd.databricks.v1+cell": {
     "cellMetadata": {
      "byteLimit": 2048000,
      "rowLimit": 10000
     },
     "inputWidgets": {},
     "nuid": "1a7e781a-534f-476d-ae96-ad9c7ba2e9d2",
     "showTitle": false,
     "tableResultSettingsMap": {},
     "title": ""
    }
   },
   "outputs": [],
   "source": [
    "dbutils.widgets.text(\"proc_date\", \"\")\n",
    "proc_date = dbutils.widgets.get(\"proc_date\")"
   ]
  },
  {
   "cell_type": "code",
   "execution_count": 0,
   "metadata": {
    "application/vnd.databricks.v1+cell": {
     "cellMetadata": {
      "byteLimit": 2048000,
      "rowLimit": 10000
     },
     "inputWidgets": {},
     "nuid": "f589f175-1f00-4426-9b6a-160eb37cc108",
     "showTitle": false,
     "tableResultSettingsMap": {},
     "title": ""
    }
   },
   "outputs": [],
   "source": [
    "%run ../../../utils/common"
   ]
  },
  {
   "cell_type": "code",
   "execution_count": 0,
   "metadata": {
    "application/vnd.databricks.v1+cell": {
     "cellMetadata": {
      "byteLimit": 2048000,
      "rowLimit": 10000
     },
     "inputWidgets": {},
     "nuid": "7bc196b6-7123-4d82-9b14-e3e088ad826e",
     "showTitle": false,
     "tableResultSettingsMap": {},
     "title": ""
    }
   },
   "outputs": [],
   "source": [
    "dbutils.widgets.text(\"environment\", \"\", \"\")\n",
    "environment = dbutils.widgets.get(\"environment\")"
   ]
  },
  {
   "cell_type": "code",
   "execution_count": 0,
   "metadata": {
    "application/vnd.databricks.v1+cell": {
     "cellMetadata": {
      "byteLimit": 2048000,
      "rowLimit": 10000
     },
     "inputWidgets": {},
     "nuid": "3970485c-702b-4231-9b27-7f1b80a54870",
     "showTitle": false,
     "tableResultSettingsMap": {},
     "title": ""
    }
   },
   "outputs": [],
   "source": [
    "catalog_name = settings[environment]['catalog_name']"
   ]
  },
  {
   "cell_type": "code",
   "execution_count": 0,
   "metadata": {
    "application/vnd.databricks.v1+cell": {
     "cellMetadata": {
      "byteLimit": 2048000,
      "rowLimit": 10000
     },
     "inputWidgets": {},
     "nuid": "10f9a2e3-2f2e-4503-92a5-a2417d38423a",
     "showTitle": false,
     "tableResultSettingsMap": {},
     "title": ""
    }
   },
   "outputs": [],
   "source": [
    "create_temp_view_with_clean_columns(\n",
    "    spark,\n",
    "    catalog_name,\n",
    "    'udp_wcm_bronze_sap_bw',\n",
    "    'sap_bw_wcm_0mat_unit',\n",
    "    proc_date,\n",
    "    'temp_sap_0mat_unit'\n",
    ")"
   ]
  },
  {
   "cell_type": "code",
   "execution_count": 0,
   "metadata": {
    "application/vnd.databricks.v1+cell": {
     "cellMetadata": {
      "byteLimit": 2048000,
      "implicitDf": true,
      "rowLimit": 10000
     },
     "inputWidgets": {},
     "nuid": "5cd3c500-cea9-4f76-b898-0e6a2f8c93a7",
     "showTitle": false,
     "tableResultSettingsMap": {},
     "title": ""
    }
   },
   "outputs": [],
   "source": [
    "spark.sql(f\"\"\"\n",
    "CREATE TABLE IF NOT EXISTS {catalog_name}.udp_wcm_silver_sap_bw.sap_0mat_unit\n",
    "(\n",
    "  hash_id BIGINT,\n",
    "  mat_unit STRING,\n",
    "  denomintr DOUBLE,\n",
    "  eanupc STRING,\n",
    "  ean_numtyp STRING,\n",
    "  gross_wt DOUBLE,\n",
    "  height DOUBLE,\n",
    "  len DOUBLE,\n",
    "  numerator DOUBLE,\n",
    "  unit STRING,\n",
    "  unit_dim STRING,\n",
    "  unit_of_wt STRING,\n",
    "  volume DOUBLE,\n",
    "  volumeunit STRING,\n",
    "  width DOUBLE,\n",
    "  proc_date DATE,\n",
    "  material STRING,\n",
    "  start_date DATE,\n",
    "  end_date DATE,\n",
    "  file_creation_ts TIMESTAMP\n",
    "  \n",
    ")\n",
    "TBLPROPERTIES (\n",
    "  'DELTA.AUTOOPTIMIZE.OPTIMIZEWRITE' = 'TRUE',\n",
    "  'DELTA.AUTOOPTIMIZE.AUTOCOMPACT' = 'TRUE'\n",
    ")\n",
    "\"\"\")"
   ]
  },
  {
   "cell_type": "code",
   "execution_count": 0,
   "metadata": {
    "application/vnd.databricks.v1+cell": {
     "cellMetadata": {
      "byteLimit": 2048000,
      "rowLimit": 10000
     },
     "inputWidgets": {},
     "nuid": "fd39f849-296b-4c5d-89a1-116b8b350208",
     "showTitle": false,
     "tableResultSettingsMap": {},
     "title": ""
    }
   },
   "outputs": [],
   "source": [
    "spark.sql(f\"\"\"\n",
    "CREATE OR REPLACE TEMP VIEW sap_0mat_unit\n",
    "AS\n",
    "WITH temp AS (\n",
    "    SELECT * EXCEPT(rn) FROM (\n",
    "        SELECT *, ROW_NUMBER() OVER (PARTITION BY material, mat_unit, DATE(proc_date) ORDER BY proc_date) rn FROM (\n",
    "            SELECT mat_unit,\n",
    "                   denomintr,\n",
    "                   IF(eanupc = '', eanupc, NULL) eanupc,\n",
    "                   IF(ean_numtyp = '', ean_numtyp, NULL) ean_numtyp,\n",
    "                   gross_wt,\n",
    "                   height,\n",
    "                   len,\n",
    "                   numerator,\n",
    "                   IF(unit = '', unit, NULL) unit,\n",
    "                   IF(unit_dim = '', unit_dim, NULL) unit_dim,\n",
    "                   IF(unit_of_wt = '', unit_of_wt, NULL) unit_of_wt,\n",
    "                   volume,\n",
    "                   IF(volumeunit = '', volumeunit, NULL) volumeunit,\n",
    "                   width,\n",
    "                   proc_date,\n",
    "                   LTRIM('0', material) material,\n",
    "                   file_creation_ts\n",
    "            FROM temp_sap_0mat_unit\n",
    "        ) a\n",
    "    ) a WHERE rn = 1\n",
    "),\n",
    "main AS (\n",
    "    SELECT FARM_FINGERPRINT(CONCAT(\n",
    "                IFNULL(CAST(material AS STRING), ''),\n",
    "                IFNULL(CAST(mat_unit AS STRING), ''),\n",
    "                IFNULL(CASE WHEN CAST(denomintr AS DOUBLE) = CAST(CAST(denomintr AS DOUBLE) AS BIGINT) THEN CAST(CAST(denomintr AS BIGINT) AS STRING) ELSE TRIM(TRAILING '0' FROM(CAST(denomintr AS DECIMAL(38,10)))) END, \"\"),\n",
    "                IFNULL(CAST(eanupc AS STRING), ''),\n",
    "                IFNULL(CAST(ean_numtyp AS STRING), ''),\n",
    "                IFNULL(CASE WHEN CAST(gross_wt AS DOUBLE) = CAST(CAST(gross_wt AS DOUBLE) AS BIGINT) THEN CAST(CAST(gross_wt AS BIGINT) AS STRING) ELSE TRIM(TRAILING '0' FROM(CAST(gross_wt AS DECIMAL(38,10)))) END, \"\"),\n",
    "                IFNULL(CASE WHEN CAST(height AS DOUBLE) = CAST(CAST(height AS DOUBLE) AS BIGINT) THEN CAST(CAST(height AS BIGINT) AS STRING) ELSE TRIM(TRAILING '0' FROM(CAST(height AS DECIMAL(38,10)))) END, \"\"),\n",
    "                IFNULL(CASE WHEN CAST(len AS DOUBLE) = CAST(CAST(len AS DOUBLE) AS BIGINT) THEN CAST(CAST(len AS BIGINT) AS STRING) ELSE TRIM(TRAILING '0' FROM(CAST(len AS DECIMAL(38,10)))) END, \"\"),\n",
    "                IFNULL(CASE WHEN CAST(numerator AS DOUBLE) = CAST(CAST(numerator AS DOUBLE) AS BIGINT) THEN CAST(CAST(numerator AS BIGINT) AS STRING) ELSE TRIM(TRAILING '0' FROM(CAST(numerator AS DECIMAL(38,10)))) END, \"\"),\n",
    "                IFNULL(CAST(unit AS STRING), ''),\n",
    "                IFNULL(CAST(unit_dim AS STRING), ''),\n",
    "                IFNULL(CAST(unit_of_wt AS STRING), ''),\n",
    "                IFNULL(CASE WHEN CAST(volume AS DOUBLE) = CAST(CAST(volume AS DOUBLE) AS BIGINT) THEN CAST(CAST(volume AS BIGINT) AS STRING) ELSE TRIM(TRAILING '0' FROM(CAST(volume AS DECIMAL(38,10)))) END, \"\"),\n",
    "                IFNULL(CAST(volumeunit AS STRING), ''),\n",
    "                IFNULL(CASE WHEN CAST(width AS DOUBLE) = CAST(CAST(width AS DOUBLE) AS BIGINT) THEN CAST(CAST(width AS BIGINT) AS STRING) ELSE TRIM(TRAILING '0' FROM(CAST(width AS DECIMAL(38,10)))) END, \"\")\n",
    "            )) hash_id, *, DATE(proc_date) start_date FROM temp\n",
    "),\n",
    "main_2 AS (\n",
    "    SELECT *,\n",
    "           LAG(hash_id, 1) OVER (PARTITION BY material, mat_unit ORDER BY proc_date) hash_id_prev\n",
    "    FROM main\n",
    "),\n",
    "main_3 AS (\n",
    "    SELECT * EXCEPT(hash_id_prev)\n",
    "    FROM main_2\n",
    "    WHERE (hash_id != hash_id_prev OR hash_id_prev IS NULL)\n",
    "),\n",
    "main_4 AS (\n",
    "    SELECT *,\n",
    "           LEAD(DATE(proc_date)) OVER (PARTITION BY material, mat_unit ORDER BY proc_date ASC) end_date\n",
    "    FROM main_3\n",
    ")\n",
    "SELECT\n",
    "    * EXCEPT(end_date),\n",
    "    IFNULL(DATE_SUB(end_date, 1), '2400-01-01') AS end_date\n",
    "FROM main_4\n",
    "\"\"\")\n"
   ]
  },
  {
   "cell_type": "code",
   "execution_count": 0,
   "metadata": {
    "application/vnd.databricks.v1+cell": {
     "cellMetadata": {
      "byteLimit": 2048000,
      "rowLimit": 10000
     },
     "inputWidgets": {},
     "nuid": "09ea5a85-0789-49e5-b33f-ccafef9ec8b6",
     "showTitle": false,
     "tableResultSettingsMap": {},
     "title": ""
    }
   },
   "outputs": [],
   "source": [
    "spark.sql(f\"\"\"\n",
    "MERGE INTO {catalog_name}.udp_wcm_silver_sap_bw.sap_0mat_unit inf_tbl\n",
    "USING (\n",
    "    SELECT material, mat_unit, hash_id, start_date FROM sap_0mat_unit\n",
    "    WHERE end_date = DATE('2400-01-01')\n",
    ") tmp_tbl\n",
    "ON inf_tbl.material = tmp_tbl.material\n",
    "AND inf_tbl.mat_unit = tmp_tbl.mat_unit\n",
    "AND inf_tbl.hash_id != tmp_tbl.hash_id\n",
    "AND inf_tbl.end_date = DATE('2400-01-01')\n",
    "WHEN MATCHED THEN\n",
    "UPDATE SET inf_tbl.end_date = DATE_SUB(tmp_tbl.start_date, 1)\n",
    "\"\"\")"
   ]
  },
  {
   "cell_type": "code",
   "execution_count": 0,
   "metadata": {
    "application/vnd.databricks.v1+cell": {
     "cellMetadata": {
      "byteLimit": 2048000,
      "rowLimit": 10000
     },
     "inputWidgets": {},
     "nuid": "f798b173-ddf1-4b48-8fd0-f356edb6f5fb",
     "showTitle": false,
     "tableResultSettingsMap": {},
     "title": ""
    }
   },
   "outputs": [],
   "source": [
    "spark.sql(f\"\"\"\n",
    "MERGE INTO {catalog_name}.udp_wcm_silver_sap_bw.sap_0mat_unit inf_tbl\n",
    "USING sap_0mat_unit tmp_tbl\n",
    "ON inf_tbl.hash_id = tmp_tbl.hash_id AND inf_tbl.end_date = DATE('2400-01-01')\n",
    "WHEN NOT MATCHED THEN\n",
    "INSERT *\n",
    "\"\"\")"
   ]
  }
 ],
 "metadata": {
  "application/vnd.databricks.v1+notebook": {
   "computePreferences": {
    "hardware": {
     "accelerator": null,
     "gpuPoolId": null,
     "memory": "HIGH"
    }
   },
   "dashboards": [],
   "environmentMetadata": {
    "base_environment": "/Workspace/Shared/udp_etl_framework_v1/udp_etl_framework_v1/src/udp_etl_framework/artifacts/dependency.yaml",
    "environment_version": "2"
   },
   "inputWidgetPreferences": null,
   "language": "python",
   "notebookMetadata": {
    "mostRecentlyExecutedCommandWithImplicitDF": {
     "commandId": 6350561386722139,
     "dataframes": [
      "_sqldf"
     ]
    },
    "pythonIndentUnit": 4
   },
   "notebookName": "sap_0mat_unit",
   "widgets": {
    "environment": {
     "currentValue": "DEV",
     "nuid": "3a425f58-d9d8-47da-b0a2-ad7da57226a5",
     "typedWidgetInfo": {
      "autoCreated": false,
      "defaultValue": "",
      "label": "",
      "name": "environment",
      "options": {
       "widgetDisplayType": "Text",
       "validationRegex": null
      },
      "parameterDataType": "String"
     },
     "widgetInfo": {
      "widgetType": "text",
      "defaultValue": "",
      "label": "",
      "name": "environment",
      "options": {
       "widgetType": "text",
       "autoCreated": null,
       "validationRegex": null
      }
     }
    },
    "proc_date": {
     "currentValue": "2025-07-16",
     "nuid": "e0b07648-fdc7-4fbe-9d64-fd5ab752a55f",
     "typedWidgetInfo": {
      "autoCreated": false,
      "defaultValue": "",
      "label": null,
      "name": "proc_date",
      "options": {
       "widgetDisplayType": "Text",
       "validationRegex": null
      },
      "parameterDataType": "String"
     },
     "widgetInfo": {
      "widgetType": "text",
      "defaultValue": "",
      "label": null,
      "name": "proc_date",
      "options": {
       "widgetType": "text",
       "autoCreated": null,
       "validationRegex": null
      }
     }
    }
   }
  },
  "language_info": {
   "name": "python"
  }
 },
 "nbformat": 4,
 "nbformat_minor": 0
}
