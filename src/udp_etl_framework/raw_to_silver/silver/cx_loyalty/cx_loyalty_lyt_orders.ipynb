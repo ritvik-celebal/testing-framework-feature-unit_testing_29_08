{
 "cells": [
  {
   "cell_type": "code",
   "execution_count": 0,
   "metadata": {
    "application/vnd.databricks.v1+cell": {
     "cellMetadata": {
      "byteLimit": 2048000,
      "rowLimit": 10000
     },
     "inputWidgets": {},
     "nuid": "049a1380-ddfc-4b32-96db-30a22c50c698",
     "showTitle": false,
     "tableResultSettingsMap": {},
     "title": ""
    }
   },
   "outputs": [],
   "source": [
    "dbutils.widgets.text(\"proc_date\", \"\")\n",
    "proc_date = dbutils.widgets.get(\"proc_date\")"
   ]
  },
  {
   "cell_type": "code",
   "execution_count": 0,
   "metadata": {
    "application/vnd.databricks.v1+cell": {
     "cellMetadata": {
      "byteLimit": 2048000,
      "rowLimit": 10000
     },
     "inputWidgets": {},
     "nuid": "b36767e1-479d-4a49-aeca-7f26707f00ba",
     "showTitle": false,
     "tableResultSettingsMap": {},
     "title": ""
    }
   },
   "outputs": [],
   "source": [
    "%run ../../../utils/common"
   ]
  },
  {
   "cell_type": "code",
   "execution_count": 0,
   "metadata": {
    "application/vnd.databricks.v1+cell": {
     "cellMetadata": {
      "byteLimit": 2048000,
      "rowLimit": 10000
     },
     "inputWidgets": {},
     "nuid": "e001cc97-0957-46d0-bfa7-1ad24a661ce0",
     "showTitle": false,
     "tableResultSettingsMap": {},
     "title": ""
    }
   },
   "outputs": [],
   "source": [
    "dbutils.widgets.text(\"environment\", \"\", \"\")\n",
    "environment = dbutils.widgets.get(\"environment\")"
   ]
  },
  {
   "cell_type": "code",
   "execution_count": 0,
   "metadata": {
    "application/vnd.databricks.v1+cell": {
     "cellMetadata": {
      "byteLimit": 2048000,
      "rowLimit": 10000
     },
     "inputWidgets": {},
     "nuid": "1b5fd06c-44e3-43cc-976c-8ae8e2509f63",
     "showTitle": false,
     "tableResultSettingsMap": {},
     "title": ""
    }
   },
   "outputs": [],
   "source": [
    "catalog_name = settings[environment]['catalog_name']"
   ]
  },
  {
   "cell_type": "code",
   "execution_count": 0,
   "metadata": {
    "application/vnd.databricks.v1+cell": {
     "cellMetadata": {
      "byteLimit": 2048000,
      "rowLimit": 10000
     },
     "inputWidgets": {},
     "nuid": "c24474d9-d7b0-4174-9693-f9fe503111d4",
     "showTitle": false,
     "tableResultSettingsMap": {},
     "title": ""
    }
   },
   "outputs": [],
   "source": [
    "create_temp_view_with_clean_columns(\n",
    "    spark,\n",
    "    catalog_name,\n",
    "    \"udp_wcm_bronze_cx_loyalty\",\n",
    "    \"lyt_orders\",\n",
    "    proc_date,\n",
    "    \"temp_cx_loyalty_lyt_orders\"\n",
    ")"
   ]
  },
  {
   "cell_type": "code",
   "execution_count": 0,
   "metadata": {
    "application/vnd.databricks.v1+cell": {
     "cellMetadata": {
      "byteLimit": 2048000,
      "rowLimit": 10000
     },
     "inputWidgets": {},
     "nuid": "e98d84c0-bf33-4412-aa5d-189ac65a803f",
     "showTitle": false,
     "tableResultSettingsMap": {},
     "title": ""
    }
   },
   "outputs": [],
   "source": [
    "spark.sql(f\"\"\"\n",
    "    DELETE FROM {catalog_name}.udp_wcm_silver_cx_loyalty.lyt_orders\n",
    "    WHERE PROC_DATE = DATE('{proc_date}')\n",
    "\"\"\")"
   ]
  },
  {
   "cell_type": "code",
   "execution_count": 0,
   "metadata": {
    "application/vnd.databricks.v1+cell": {
     "cellMetadata": {
      "byteLimit": 2048000,
      "rowLimit": 10000
     },
     "inputWidgets": {},
     "nuid": "78844aeb-97f6-4df8-8cfe-62535c4f472e",
     "showTitle": false,
     "tableResultSettingsMap": {},
     "title": ""
    }
   },
   "outputs": [],
   "source": [
    "spark.sql(f\"\"\"\n",
    "INSERT INTO {catalog_name}.udp_wcm_silver_cx_loyalty.lyt_orders\n",
    "SELECT create_date\n",
    "    ,create_by\n",
    "    ,update_date\n",
    "    ,update_by\n",
    "    ,order_code as order_id\n",
    "    ,store_no as sale_store_id\n",
    "    ,store_name as sale_store_name\n",
    "    ,order_status as order_status_id\n",
    "    ,concat(channel_id,\"-\",order_status) as order_channel_status_id\n",
    "    ,payment_status as order_payment_status_id\n",
    "    ,concat(channel_id,\"-\",payment_status) as order_payment_channel_status_id\n",
    "    ,channel_id as order_chanel_id\n",
    "    ,'' as order_channel_name\n",
    "    ,customer_id as order_customer_id\n",
    "    ,user_id as order_user_id\n",
    "    ,customer_name as order_customer_name\n",
    "    ,customer_phone as order_customer_phone\n",
    "    ,customer_email as order_customer_email\n",
    "    ,receive_name\n",
    "    ,receive_phone\n",
    "    ,receive_email\n",
    "    ,receive_address\n",
    "    ,note\n",
    "    ,bill_to_company as bill_name\n",
    "    ,bill_to_email as bill_email\n",
    "    ,bill_to_address as bill_address\n",
    "    ,tax_code as tax_number\n",
    "    ,total_net_price as total_bill\n",
    "    ,total_payment\n",
    "    ,shipping_fee\n",
    "    ,discount_amount\n",
    "    ,redeem_point\n",
    "    ,payment_method_code as payment_type\n",
    "    ,receive_province_code\n",
    "    ,receive_district_code\n",
    "    ,receive_ward_code\n",
    "    ,receive_province_name\n",
    "    ,receive_district_name\n",
    "    ,receive_ward_name\n",
    "    ,order_image\n",
    "    ,vin_id\n",
    "    ,chain_id\n",
    "    ,latitude\n",
    "    ,longitude\n",
    "    ,seller_portal_ind\n",
    "    ,employee_refer\n",
    "    ,proc_date\n",
    "    ,file_creation_ts\n",
    " FROM temp_cx_loyalty_lyt_orders WHERE PROC_DATE = DATE('{proc_date}')\n",
    "\"\"\")"
   ]
  }
 ],
 "metadata": {
  "application/vnd.databricks.v1+notebook": {
   "computePreferences": null,
   "dashboards": [],
   "environmentMetadata": {
    "base_environment": "",
    "environment_version": "2"
   },
   "inputWidgetPreferences": null,
   "language": "python",
   "notebookMetadata": {
    "mostRecentlyExecutedCommandWithImplicitDF": {
     "commandId": 6350561386723629,
     "dataframes": [
      "_sqldf"
     ]
    },
    "pythonIndentUnit": 4
   },
   "notebookName": "cx_loyalty_lyt_orders",
   "widgets": {
    "environment": {
     "currentValue": "DEV",
     "nuid": "adb15b9e-226d-4aaa-a972-f0293dff197a",
     "typedWidgetInfo": {
      "autoCreated": false,
      "defaultValue": "",
      "label": "",
      "name": "environment",
      "options": {
       "widgetDisplayType": "Text",
       "validationRegex": null
      },
      "parameterDataType": "String"
     },
     "widgetInfo": {
      "widgetType": "text",
      "defaultValue": "",
      "label": "",
      "name": "environment",
      "options": {
       "widgetType": "text",
       "autoCreated": null,
       "validationRegex": null
      }
     }
    },
    "proc_date": {
     "currentValue": "2025-07-15T15:11:38.345",
     "nuid": "5a82f1cc-2ea3-4f8d-a4de-acbbafc3f02b",
     "typedWidgetInfo": {
      "autoCreated": false,
      "defaultValue": "",
      "label": null,
      "name": "proc_date",
      "options": {
       "widgetDisplayType": "Text",
       "validationRegex": null
      },
      "parameterDataType": "String"
     },
     "widgetInfo": {
      "widgetType": "text",
      "defaultValue": "",
      "label": null,
      "name": "proc_date",
      "options": {
       "widgetType": "text",
       "autoCreated": null,
       "validationRegex": null
      }
     }
    }
   }
  },
  "language_info": {
   "name": "python"
  }
 },
 "nbformat": 4,
 "nbformat_minor": 0
}
