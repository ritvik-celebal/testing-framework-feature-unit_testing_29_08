{
 "cells": [
  {
   "cell_type": "code",
   "execution_count": 0,
   "metadata": {
    "application/vnd.databricks.v1+cell": {
     "cellMetadata": {
      "byteLimit": 2048000,
      "rowLimit": 10000
     },
     "inputWidgets": {},
     "nuid": "f49d08a8-eb4f-493d-bc13-5a6bd3e763b1",
     "showTitle": false,
     "tableResultSettingsMap": {},
     "title": ""
    }
   },
   "outputs": [],
   "source": [
    "dbutils.widgets.text(\"proc_date\", \"\")\n",
    "proc_date = dbutils.widgets.get(\"proc_date\")"
   ]
  },
  {
   "cell_type": "code",
   "execution_count": 0,
   "metadata": {
    "application/vnd.databricks.v1+cell": {
     "cellMetadata": {
      "byteLimit": 2048000,
      "rowLimit": 10000
     },
     "inputWidgets": {},
     "nuid": "a900d5e7-93ba-4252-95ea-be3ebc5670cb",
     "showTitle": false,
     "tableResultSettingsMap": {},
     "title": ""
    }
   },
   "outputs": [],
   "source": [
    "%run ../../../utils/common"
   ]
  },
  {
   "cell_type": "code",
   "execution_count": 0,
   "metadata": {
    "application/vnd.databricks.v1+cell": {
     "cellMetadata": {
      "byteLimit": 2048000,
      "rowLimit": 10000
     },
     "inputWidgets": {},
     "nuid": "ae9fa641-9ced-4cf6-96c2-736a6ce12e95",
     "showTitle": false,
     "tableResultSettingsMap": {},
     "title": ""
    }
   },
   "outputs": [],
   "source": [
    "dbutils.widgets.text(\"environment\", \"\", \"\")\n",
    "environment = dbutils.widgets.get(\"environment\")"
   ]
  },
  {
   "cell_type": "code",
   "execution_count": 0,
   "metadata": {
    "application/vnd.databricks.v1+cell": {
     "cellMetadata": {
      "byteLimit": 2048000,
      "rowLimit": 10000
     },
     "inputWidgets": {},
     "nuid": "2dc8d6ee-1a5e-4810-9293-06c42d04eee2",
     "showTitle": false,
     "tableResultSettingsMap": {},
     "title": ""
    }
   },
   "outputs": [],
   "source": [
    "catalog_name = settings[environment]['catalog_name']"
   ]
  },
  {
   "cell_type": "code",
   "execution_count": 0,
   "metadata": {
    "application/vnd.databricks.v1+cell": {
     "cellMetadata": {
      "byteLimit": 2048000,
      "rowLimit": 10000
     },
     "inputWidgets": {},
     "nuid": "6003731f-ff33-4cc1-bed3-047f28b852e3",
     "showTitle": false,
     "tableResultSettingsMap": {},
     "title": ""
    }
   },
   "outputs": [],
   "source": [
    "proc_date_str = str(proc_date)[:10]\n"
   ]
  },
  {
   "cell_type": "code",
   "execution_count": 0,
   "metadata": {
    "application/vnd.databricks.v1+cell": {
     "cellMetadata": {
      "byteLimit": 2048000,
      "rowLimit": 10000
     },
     "inputWidgets": {},
     "nuid": "9e17402a-99c7-4190-b7f8-7e6a4eff363d",
     "showTitle": false,
     "tableResultSettingsMap": {},
     "title": ""
    }
   },
   "outputs": [],
   "source": [
    "spark.sql(f\"\"\"\n",
    "CREATE TABLE IF NOT EXISTS {catalog_name}.udp_wcm_silver_sap_car.master_bom\n",
    "(\n",
    "   sapi_doc_no BIGINT,\n",
    "   material_no BIGINT,\n",
    "   bom_usage BIGINT,\n",
    "   base_uom STRING,\n",
    "   base_quantity FLOAT,\n",
    "   bom_component FLOAT,\n",
    "   component_quantity FLOAT,\n",
    "   component_uom STRING,\n",
    "   proc_date TIMESTAMP,\n",
    "   alt_item_grp STRING,\n",
    "   priority FLOAT,\n",
    "   usage BIGINT,\n",
    "   filename STRING,\n",
    "   hash_id BIGINT,\n",
    "   file_creation_ts TIMESTAMP\n",
    ")\n",
    "TBLPROPERTIES (\n",
    "  'DELTA.AUTOOPTIMIZE.OPTIMIZEWRITE' = 'TRUE',\n",
    "  'DELTA.AUTOOPTIMIZE.AUTOCOMPACT' = 'TRUE'\n",
    ")\n",
    "\"\"\")"
   ]
  },
  {
   "cell_type": "code",
   "execution_count": 0,
   "metadata": {
    "application/vnd.databricks.v1+cell": {
     "cellMetadata": {
      "byteLimit": 2048000,
      "rowLimit": 10000
     },
     "inputWidgets": {},
     "nuid": "242b1084-b77d-4a57-bf89-3c7f5e42a3ee",
     "showTitle": false,
     "tableResultSettingsMap": {},
     "title": ""
    }
   },
   "outputs": [],
   "source": [
    "spark.sql(f\"\"\"\n",
    "CREATE OR REPLACE TEMP VIEW temp_master_bom AS\n",
    "SELECT \n",
    "    *,\n",
    "    farm_fingerprint(CONCAT(\n",
    "        COALESCE(CAST(sapi_doc_no AS STRING), ''),\n",
    "        COALESCE(CAST(material_no AS STRING), ''),\n",
    "        COALESCE(CAST(bom_usage AS STRING), ''),\n",
    "        COALESCE(CAST(base_uom AS STRING), ''),\n",
    "        IFNULL(CASE WHEN CAST(base_quantity AS DOUBLE) = CAST(CAST(base_quantity AS DOUBLE) AS BIGINT) THEN CAST(CAST(base_quantity AS BIGINT) AS STRING) ELSE TRIM(TRAILING '0' FROM(CAST(base_quantity AS DECIMAL(38,10)))) END, \"\"),\n",
    "        IFNULL(CASE WHEN CAST(bom_component AS DOUBLE) = CAST(CAST(bom_component AS DOUBLE) AS BIGINT) THEN CAST(CAST(bom_component AS BIGINT) AS STRING) ELSE TRIM(TRAILING '0' FROM(CAST(bom_component AS DECIMAL(38,10)))) END, \"\"),\n",
    "        IFNULL(CASE WHEN CAST(component_quantity AS DOUBLE) = CAST(CAST(component_quantity AS DOUBLE) AS BIGINT) THEN CAST(CAST(component_quantity AS BIGINT) AS STRING) ELSE TRIM(TRAILING '0' FROM(CAST(component_quantity AS DECIMAL(38,10)))) END, \"\"),\n",
    "        COALESCE(CAST(component_uom AS STRING), ''),\n",
    "        COALESCE(CAST(alt_item_grp AS STRING), ''),\n",
    "        IFNULL(CASE WHEN CAST(priority AS DOUBLE) = CAST(CAST(priority AS DOUBLE) AS BIGINT) THEN CAST(CAST(priority AS BIGINT) AS STRING) ELSE TRIM(TRAILING '0' FROM(CAST(priority AS DECIMAL(38,10)))) END, \"\"),\n",
    "        COALESCE(CAST(usage AS STRING), '')\n",
    "    )) AS hash_id\n",
    "FROM (\n",
    "    SELECT\n",
    "        sapidocno AS sapi_doc_no,\n",
    "        materialno AS material_no,\n",
    "        bomusage AS bom_usage,\n",
    "        baseuom AS base_uom,\n",
    "        CAST(basequantity AS DOUBLE) AS base_quantity,\n",
    "        CAST(bom_item.bomcomponent AS DOUBLE) AS bom_component,\n",
    "        CAST(bom_item.componentquantity AS DOUBLE) AS component_quantity,\n",
    "        bom_item.componentuom AS component_uom,\n",
    "        FROM_UTC_TIMESTAMP(\n",
    "            TO_TIMESTAMP(\n",
    "              CONCAT(\n",
    "                SPLIT(REPLACE(SPLIT(filename, '_')[4], '.xml', ''), '-')[0],\n",
    "                SPLIT(REPLACE(SPLIT(filename, '_')[4], '.xml', ''), '-')[1]\n",
    "              ),\n",
    "              'yyyyMMddHHmmss'\n",
    "            ),\n",
    "            'Asia/Bangkok'\n",
    "        ) AS proc_date,\n",
    "        bom_item.altitemgrp AS alt_item_grp,\n",
    "        CAST(bom_item.priority AS DOUBLE) AS priority,\n",
    "        TRY_CAST(bom_item.usage AS BIGINT) AS usage,\n",
    "        filename,\n",
    "        file_creation_ts\n",
    "    FROM (\n",
    "        SELECT  \n",
    "            line_item.*, proc_date, filename,file_creation_ts\n",
    "        FROM {catalog_name}.udp_wcm_bronze_sap_car.master_bom\n",
    "        WHERE DATE(proc_date) = '{proc_date_str}'\n",
    "    ) line_item\n",
    "    -- LATERAL VIEW EXPLODE(BomItem) AS bom_item\n",
    "    LATERAL VIEW OUTER EXPLODE(bomitem) AS bom_item\n",
    ") subquery\n",
    "\"\"\")"
   ]
  },
  {
   "cell_type": "code",
   "execution_count": 0,
   "metadata": {
    "application/vnd.databricks.v1+cell": {
     "cellMetadata": {
      "byteLimit": 2048000,
      "rowLimit": 10000
     },
     "inputWidgets": {},
     "nuid": "24ff1835-eb7d-4583-9f53-c2d59880f3ce",
     "showTitle": true,
     "tableResultSettingsMap": {},
     "title": "Testing"
    }
   },
   "outputs": [],
   "source": [
    "spark.sql(f\"\"\"\n",
    "CREATE OR REPLACE TEMP VIEW temp_master_bom AS\n",
    "SELECT \n",
    "    *,\n",
    "    farm_fingerprint(CONCAT(\n",
    "        COALESCE(CAST(sapi_doc_no AS STRING), ''),\n",
    "        COALESCE(CAST(material_no AS STRING), ''),\n",
    "        COALESCE(CAST(bom_usage AS STRING), ''),\n",
    "        COALESCE(CAST(base_uom AS STRING), ''),\n",
    "        IFNULL(CASE WHEN CAST(base_quantity AS DOUBLE) = CAST(CAST(base_quantity AS DOUBLE) AS BIGINT) THEN CAST(CAST(base_quantity AS BIGINT) AS STRING) ELSE TRIM(TRAILING '0' FROM(CAST(base_quantity AS DECIMAL(38,10)))) END, \"\"),\n",
    "        IFNULL(CASE WHEN CAST(bom_component AS DOUBLE) = CAST(CAST(bom_component AS DOUBLE) AS BIGINT) THEN CAST(CAST(bom_component AS BIGINT) AS STRING) ELSE TRIM(TRAILING '0' FROM(CAST(bom_component AS DECIMAL(38,10)))) END, \"\"),\n",
    "        IFNULL(CASE WHEN CAST(component_quantity AS DOUBLE) = CAST(CAST(component_quantity AS DOUBLE) AS BIGINT) THEN CAST(CAST(component_quantity AS BIGINT) AS STRING) ELSE TRIM(TRAILING '0' FROM(CAST(component_quantity AS DECIMAL(38,10)))) END, \"\"),\n",
    "        COALESCE(CAST(component_uom AS STRING), ''),\n",
    "        COALESCE(CAST(alt_item_grp AS STRING), ''),\n",
    "        IFNULL(CASE WHEN CAST(priority AS DOUBLE) = CAST(CAST(priority AS DOUBLE) AS BIGINT) THEN CAST(CAST(priority AS BIGINT) AS STRING) ELSE TRIM(TRAILING '0' FROM(CAST(priority AS DECIMAL(38,10)))) END, \"\"),\n",
    "        COALESCE(CAST(usage AS STRING), '')\n",
    "    )) AS hash_id\n",
    "FROM (\n",
    "    SELECT\n",
    "        sapidocno AS sapi_doc_no,\n",
    "        materialno AS material_no,\n",
    "        bomusage AS bom_usage,\n",
    "        baseuom AS base_uom,\n",
    "        CAST(basequantity AS DOUBLE) AS base_quantity,\n",
    "        CAST(bom_item.bomcomponent AS DOUBLE) AS bom_component,\n",
    "        CAST(bom_item.componentquantity AS DOUBLE) AS component_quantity,\n",
    "        bom_item.componentuom AS component_uom,\n",
    "        FROM_UTC_TIMESTAMP(\n",
    "            TO_TIMESTAMP(\n",
    "              CONCAT(\n",
    "                SPLIT(REPLACE(SPLIT(filename, '_')[4], '.xml', ''), '-')[0],\n",
    "                SPLIT(REPLACE(SPLIT(filename, '_')[4], '.xml', ''), '-')[1]\n",
    "              ),\n",
    "              'yyyyMMddHHmmss'\n",
    "            ),\n",
    "            'Asia/Bangkok'\n",
    "        ) AS proc_date,\n",
    "        -- bom_item.AltItemGrp AS alt_item_grp,\n",
    "        -- CASE WHEN TRIM(bom_item.AltItemGrp) = '' THEN NULL ELSE bom_item.AltItemGrp END AS alt_item_grp,\n",
    "        NULLIF(TRIM(bom_item.altitemgrp), '') AS alt_item_grp,\n",
    "        CAST(bom_item.priority AS DOUBLE) AS priority,\n",
    "        TRY_CAST(bom_item.usage AS BIGINT) AS usage,\n",
    "        filename,\n",
    "        file_creation_ts\n",
    "    FROM (\n",
    "        SELECT  \n",
    "            line_item.*, proc_date, filename,file_creation_ts\n",
    "        FROM {catalog_name}.udp_wcm_bronze_sap_car.master_bom\n",
    "        WHERE DATE(proc_date) = '{proc_date_str}'\n",
    "    ) line_item\n",
    "    -- LATERAL VIEW EXPLODE(BomItem) AS bom_item\n",
    "    LATERAL VIEW OUTER EXPLODE(bomitem) AS bom_item\n",
    ") subquery\n",
    "\"\"\")"
   ]
  },
  {
   "cell_type": "code",
   "execution_count": 0,
   "metadata": {
    "application/vnd.databricks.v1+cell": {
     "cellMetadata": {
      "byteLimit": 2048000,
      "rowLimit": 10000
     },
     "inputWidgets": {},
     "nuid": "3a1f9dac-b0db-4f40-9558-d00ab86f5e6c",
     "showTitle": false,
     "tableResultSettingsMap": {},
     "title": ""
    }
   },
   "outputs": [],
   "source": [
    "spark.sql(f\"\"\"\n",
    "MERGE INTO {catalog_name}.udp_wcm_silver_sap_car.master_bom AS target\n",
    "USING temp_master_bom AS source\n",
    "ON target.hash_id = source.hash_id and target.proc_date = source.proc_date\n",
    "WHEN NOT MATCHED THEN\n",
    "    INSERT *\n",
    "\"\"\")"
   ]
  }
 ],
 "metadata": {
  "application/vnd.databricks.v1+notebook": {
   "computePreferences": null,
   "dashboards": [],
   "environmentMetadata": {
    "base_environment": "",
    "environment_version": "2"
   },
   "inputWidgetPreferences": null,
   "language": "python",
   "notebookMetadata": {
    "mostRecentlyExecutedCommandWithImplicitDF": {
     "commandId": 7367573557505601,
     "dataframes": [
      "_sqldf"
     ]
    },
    "pythonIndentUnit": 4
   },
   "notebookName": "master_bom",
   "widgets": {
    "environment": {
     "currentValue": "DEV",
     "nuid": "ff53af1e-0837-4e5d-be5b-cdaa7bcc45df",
     "typedWidgetInfo": {
      "autoCreated": false,
      "defaultValue": "",
      "label": "",
      "name": "environment",
      "options": {
       "widgetDisplayType": "Text",
       "validationRegex": null
      },
      "parameterDataType": "String"
     },
     "widgetInfo": {
      "widgetType": "text",
      "defaultValue": "",
      "label": "",
      "name": "environment",
      "options": {
       "widgetType": "text",
       "autoCreated": null,
       "validationRegex": null
      }
     }
    },
    "proc_date": {
     "currentValue": "2025-07-21",
     "nuid": "07b4fdb0-6a9e-4e9e-949f-a3b425cc7262",
     "typedWidgetInfo": {
      "autoCreated": false,
      "defaultValue": "",
      "label": null,
      "name": "proc_date",
      "options": {
       "widgetDisplayType": "Text",
       "validationRegex": null
      },
      "parameterDataType": "String"
     },
     "widgetInfo": {
      "widgetType": "text",
      "defaultValue": "",
      "label": null,
      "name": "proc_date",
      "options": {
       "widgetType": "text",
       "autoCreated": null,
       "validationRegex": null
      }
     }
    }
   }
  },
  "language_info": {
   "name": "python"
  }
 },
 "nbformat": 4,
 "nbformat_minor": 0
}
