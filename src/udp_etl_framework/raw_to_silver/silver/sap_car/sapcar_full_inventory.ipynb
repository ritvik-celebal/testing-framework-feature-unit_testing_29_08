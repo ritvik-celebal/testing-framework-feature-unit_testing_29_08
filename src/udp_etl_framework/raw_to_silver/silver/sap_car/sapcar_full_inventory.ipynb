{
 "cells": [
  {
   "cell_type": "code",
   "execution_count": 0,
   "metadata": {
    "application/vnd.databricks.v1+cell": {
     "cellMetadata": {
      "byteLimit": 2048000,
      "rowLimit": 10000
     },
     "inputWidgets": {},
     "nuid": "ed23c03f-2af0-4390-9fa9-b750e1416a12",
     "showTitle": false,
     "tableResultSettingsMap": {},
     "title": ""
    }
   },
   "outputs": [],
   "source": [
    "dbutils.widgets.text(\"proc_date\", \"\")\n",
    "proc_date = dbutils.widgets.get(\"proc_date\")"
   ]
  },
  {
   "cell_type": "code",
   "execution_count": 0,
   "metadata": {
    "application/vnd.databricks.v1+cell": {
     "cellMetadata": {
      "byteLimit": 2048000,
      "rowLimit": 10000
     },
     "inputWidgets": {},
     "nuid": "7ff01844-0acd-4d4e-be3a-f08bbd2066d9",
     "showTitle": false,
     "tableResultSettingsMap": {},
     "title": ""
    }
   },
   "outputs": [],
   "source": [
    "%run ../../../utils/common"
   ]
  },
  {
   "cell_type": "code",
   "execution_count": 0,
   "metadata": {
    "application/vnd.databricks.v1+cell": {
     "cellMetadata": {
      "byteLimit": 2048000,
      "rowLimit": 10000
     },
     "inputWidgets": {},
     "nuid": "78e64f46-a44c-412b-9216-e32ec3716787",
     "showTitle": false,
     "tableResultSettingsMap": {},
     "title": ""
    }
   },
   "outputs": [],
   "source": [
    "dbutils.widgets.text(\"environment\", \"\", \"\")\n",
    "environment = dbutils.widgets.get(\"environment\")"
   ]
  },
  {
   "cell_type": "code",
   "execution_count": 0,
   "metadata": {
    "application/vnd.databricks.v1+cell": {
     "cellMetadata": {
      "byteLimit": 2048000,
      "rowLimit": 10000
     },
     "inputWidgets": {},
     "nuid": "9511ba73-4cb5-43fc-a3de-ee3c1c035a52",
     "showTitle": false,
     "tableResultSettingsMap": {},
     "title": ""
    }
   },
   "outputs": [],
   "source": [
    "catalog_name = settings[environment]['catalog_name']"
   ]
  },
  {
   "cell_type": "code",
   "execution_count": 0,
   "metadata": {
    "application/vnd.databricks.v1+cell": {
     "cellMetadata": {
      "byteLimit": 2048000,
      "rowLimit": 10000
     },
     "inputWidgets": {},
     "nuid": "23b0ec35-73a7-45b4-adb7-bd460cc362f0",
     "showTitle": false,
     "tableResultSettingsMap": {},
     "title": ""
    }
   },
   "outputs": [],
   "source": [
    "spark.sql(f\"\"\"\n",
    "CREATE TABLE IF NOT EXISTS {catalog_name}.udp_wcm_silver_sap_car.sapcar_full_inventory\n",
    "(\n",
    "  hash_id BIGINT,\n",
    "  calday DATE,\n",
    "  calhour BIGINT,\n",
    "  store_id STRING,\n",
    "  product_id STRING,\n",
    "  baseuom STRING,\n",
    "  unreuseqty DOUBLE,\n",
    "  unreconsqty DOUBLE,\n",
    "  unprsaleqty DOUBLE,\n",
    "  closing_stock_qty DOUBLE\n",
    ")\n",
    "TBLPROPERTIES (\n",
    "  'DELTA.AUTOOPTIMIZE.OPTIMIZEWRITE' = 'TRUE',\n",
    "  'DELTA.AUTOOPTIMIZE.AUTOCOMPACT' = 'TRUE'\n",
    ")\n",
    "\"\"\")"
   ]
  },
  {
   "cell_type": "code",
   "execution_count": 0,
   "metadata": {
    "application/vnd.databricks.v1+cell": {
     "cellMetadata": {
      "byteLimit": 2048000,
      "rowLimit": 10000
     },
     "inputWidgets": {},
     "nuid": "66d77a7f-2d67-45af-940d-e1ff445a325d",
     "showTitle": false,
     "tableResultSettingsMap": {},
     "title": ""
    }
   },
   "outputs": [],
   "source": [
    "spark.sql(f\"\"\"\n",
    "CREATE OR REPLACE TEMP VIEW temp_sapcar_full_inventory AS\n",
    "    SELECT DISTINCT\n",
    "      FARM_FINGERPRINT(CONCAT(\n",
    "              IFNULL(CAST(timestamp AS STRING), \"\"), \n",
    "              IFNULL(CAST(site AS STRING), \"\"), \n",
    "              IFNULL(CAST(articlenumber AS STRING), \"\"), \n",
    "              IFNULL(CAST(baseuom AS STRING), \"\")\n",
    "      )) hash_id,\n",
    "      TO_DATE(TO_TIMESTAMP(CAST(timestamp AS STRING), 'yyyyMMddHHmmss')) AS calday,\n",
    "      HOUR(TO_TIMESTAMP(CAST(timestamp AS STRING), 'yyyyMMddHHmmss')) AS calhour,\n",
    "      CAST(site AS STRING) AS store_id,\n",
    "      CAST(articlenumber AS STRING) AS product_id,\n",
    "      baseuom,\n",
    "      IFNULL(CAST(REPLACE(unreuseqty, ',', '.') AS DOUBLE), 0) AS unreuseqty,\n",
    "      IFNULL(CAST(REPLACE(unreconsqty, \",\", \".\") AS DOUBLE), 0) unreconsqty,\n",
    "      IFNULL(CAST(REPLACE(CAST(unprsaleqty AS STRING), ',', '.') AS DOUBLE), 0) AS unprsaleqty,\n",
    "      IFNULL(CAST(REPLACE(unreuseqty, ',', '.') AS DOUBLE), 0) + \n",
    "      IFNULL(CAST(REPLACE(unreconsqty, ',', '.') AS DOUBLE), 0) - \n",
    "      IFNULL(CAST(REPLACE(CAST(unprsaleqty AS STRING), ',', '.') AS DOUBLE), 0) AS closing_stock_qty\n",
    "    FROM {catalog_name}.udp_wcm_bronze_sap_car.full_sapcar;\n",
    "\"\"\")"
   ]
  },
  {
   "cell_type": "code",
   "execution_count": 0,
   "metadata": {
    "application/vnd.databricks.v1+cell": {
     "cellMetadata": {
      "byteLimit": 2048000,
      "rowLimit": 10000
     },
     "inputWidgets": {},
     "nuid": "43cb2f0b-c1a4-4e09-ab27-6b34d794e3e0",
     "showTitle": false,
     "tableResultSettingsMap": {},
     "title": ""
    }
   },
   "outputs": [],
   "source": [
    "spark.sql(\"\"\"\n",
    "MERGE INTO {catalog_name}.udp_wcm_silver_sap_car.sapcar_full_inventory main_tbl\n",
    "USING temp_sapcar_full_inventory temp_tbl\n",
    "ON main_tbl.hash_id = temp_tbl.hash_id\n",
    "WHEN NOT MATCHED THEN INSERT *\n",
    "\"\"\")"
   ]
  }
 ],
 "metadata": {
  "application/vnd.databricks.v1+notebook": {
   "computePreferences": null,
   "dashboards": [],
   "environmentMetadata": {
    "base_environment": "",
    "environment_version": "2"
   },
   "inputWidgetPreferences": null,
   "language": "python",
   "notebookMetadata": {
    "mostRecentlyExecutedCommandWithImplicitDF": {
     "commandId": 8416419470663195,
     "dataframes": [
      "_sqldf"
     ]
    },
    "pythonIndentUnit": 4
   },
   "notebookName": "sapcar_full_inventory",
   "widgets": {
    "environment": {
     "currentValue": "DEV",
     "nuid": "cd99c859-a626-4fa4-bf85-02834d296e03",
     "typedWidgetInfo": {
      "autoCreated": false,
      "defaultValue": "",
      "label": "",
      "name": "environment",
      "options": {
       "widgetDisplayType": "Text",
       "validationRegex": null
      },
      "parameterDataType": "String"
     },
     "widgetInfo": {
      "widgetType": "text",
      "defaultValue": "",
      "label": "",
      "name": "environment",
      "options": {
       "widgetType": "text",
       "autoCreated": null,
       "validationRegex": null
      }
     }
    },
    "proc_date": {
     "currentValue": "2025-05-31",
     "nuid": "d0d1bd6c-9bcf-4b47-8783-cc968c2ebabe",
     "typedWidgetInfo": {
      "autoCreated": false,
      "defaultValue": "",
      "label": null,
      "name": "proc_date",
      "options": {
       "widgetDisplayType": "Text",
       "validationRegex": null
      },
      "parameterDataType": "String"
     },
     "widgetInfo": {
      "widgetType": "text",
      "defaultValue": "",
      "label": null,
      "name": "proc_date",
      "options": {
       "widgetType": "text",
       "autoCreated": null,
       "validationRegex": null
      }
     }
    }
   }
  },
  "language_info": {
   "name": "python"
  }
 },
 "nbformat": 4,
 "nbformat_minor": 0
}
