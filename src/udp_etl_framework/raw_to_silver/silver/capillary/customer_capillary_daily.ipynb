{
 "cells": [
  {
   "cell_type": "code",
   "execution_count": 0,
   "metadata": {
    "application/vnd.databricks.v1+cell": {
     "cellMetadata": {
      "byteLimit": 2048000,
      "rowLimit": 10000
     },
     "inputWidgets": {},
     "nuid": "c9f1d490-2c33-48fa-9226-ae1794eda54f",
     "showTitle": false,
     "tableResultSettingsMap": {},
     "title": ""
    }
   },
   "outputs": [],
   "source": [
    "dbutils.widgets.text(\"proc_date\", \"\")\n",
    "proc_date = dbutils.widgets.get(\"proc_date\")"
   ]
  },
  {
   "cell_type": "code",
   "execution_count": 0,
   "metadata": {
    "application/vnd.databricks.v1+cell": {
     "cellMetadata": {
      "byteLimit": 2048000,
      "rowLimit": 10000
     },
     "inputWidgets": {},
     "nuid": "78b52b58-3976-43e7-a3f9-2bb1950df1bc",
     "showTitle": false,
     "tableResultSettingsMap": {},
     "title": ""
    }
   },
   "outputs": [],
   "source": [
    "%run ../../../utils/common"
   ]
  },
  {
   "cell_type": "code",
   "execution_count": 0,
   "metadata": {
    "application/vnd.databricks.v1+cell": {
     "cellMetadata": {
      "byteLimit": 2048000,
      "rowLimit": 10000
     },
     "inputWidgets": {},
     "nuid": "9b461ae2-27ee-4955-9ed6-286c82deaa54",
     "showTitle": false,
     "tableResultSettingsMap": {},
     "title": ""
    }
   },
   "outputs": [],
   "source": [
    "dbutils.widgets.text(\"environment\", \"\", \"\")\n",
    "environment = dbutils.widgets.get(\"environment\")"
   ]
  },
  {
   "cell_type": "code",
   "execution_count": 0,
   "metadata": {
    "application/vnd.databricks.v1+cell": {
     "cellMetadata": {
      "byteLimit": 2048000,
      "rowLimit": 10000
     },
     "inputWidgets": {},
     "nuid": "ad157693-f5e6-4a4e-8c5c-a081a11849e4",
     "showTitle": false,
     "tableResultSettingsMap": {},
     "title": ""
    }
   },
   "outputs": [],
   "source": [
    "catalog_name = settings[environment]['catalog_name']"
   ]
  },
  {
   "cell_type": "code",
   "execution_count": 0,
   "metadata": {
    "application/vnd.databricks.v1+cell": {
     "cellMetadata": {
      "byteLimit": 2048000,
      "rowLimit": 10000
     },
     "inputWidgets": {},
     "nuid": "3b4e55f6-259d-45fa-a918-f076be93153b",
     "showTitle": false,
     "tableResultSettingsMap": {},
     "title": ""
    }
   },
   "outputs": [],
   "source": [
    "create_temp_view_with_clean_columns(\n",
    "    spark,\n",
    "    catalog_name,\n",
    "    'udp_wcm_bronze_capillary',\n",
    "    'customer_capillary_daily',\n",
    "    proc_date,\n",
    "    'temp_customer_capillary_daily'\n",
    ")"
   ]
  },
  {
   "cell_type": "code",
   "execution_count": 0,
   "metadata": {
    "application/vnd.databricks.v1+cell": {
     "cellMetadata": {
      "byteLimit": 2048000,
      "rowLimit": 10000
     },
     "inputWidgets": {},
     "nuid": "32c1fb20-f628-41f3-8112-f5f7758ec255",
     "showTitle": false,
     "tableResultSettingsMap": {},
     "title": ""
    }
   },
   "outputs": [],
   "source": [
    "spark.sql(f\"\"\"\n",
    "CREATE TABLE IF NOT EXISTS {catalog_name}.udp_wcm_silver_capillary.customer_capillary_daily\n",
    "(\n",
    "    user_id STRING,\n",
    "    merchant_customer_id STRING,\n",
    "    mobile STRING,\n",
    "    gender STRING,\n",
    "    binding_date STRING,\n",
    "    dob STRING,\n",
    "    reg_source STRING,\n",
    "    fullname STRING,\n",
    "    store_id STRING,\n",
    "    bu_id STRING,\n",
    "    calday DATE,\n",
    "    returned_points DOUBLE,\n",
    "    customer_id STRING,\n",
    "    masan_referral_code STRING,\n",
    "    staff_id STRING,\n",
    "    merchant_store_id STRING,\n",
    "    mobile_enroll STRING,\n",
    "    marketing_noti STRING,\n",
    "    pilot_store_id STRING,\n",
    "    pos_enroll STRING,\n",
    "    onboarding_store_id STRING,\n",
    "    mobile_enroll_date STRING,\n",
    "    mobile_noti STRING,\n",
    "    policy_items STRING,\n",
    "    device STRING,\n",
    "    pilot_group STRING,\n",
    "    loyalty_points DOUBLE,\n",
    "    lifetime_points DOUBLE,\n",
    "    redeemed_points DOUBLE,\n",
    "    expired_points DOUBLE,\n",
    "    proc_date DATE,\n",
    "    file_creation_ts TIMESTAMP\n",
    ")\n",
    "TBLPROPERTIES (\n",
    "  'DELTA.AUTOOPTIMIZE.OPTIMIZEWRITE' = 'TRUE',\n",
    "  'DELTA.AUTOOPTIMIZE.AUTOCOMPACT' = 'TRUE'\n",
    ")\n",
    "\"\"\")"
   ]
  },
  {
   "cell_type": "code",
   "execution_count": 0,
   "metadata": {
    "application/vnd.databricks.v1+cell": {
     "cellMetadata": {
      "byteLimit": 2048000,
      "rowLimit": 10000
     },
     "inputWidgets": {},
     "nuid": "9fbc186d-3092-44aa-afb9-cf55ff2e0a8d",
     "showTitle": false,
     "tableResultSettingsMap": {},
     "title": ""
    }
   },
   "outputs": [],
   "source": [
    "spark.sql(f\"\"\"\n",
    "    DELETE FROM {catalog_name}.udp_wcm_silver_capillary.customer_capillary_daily\n",
    "    WHERE proc_date = DATE('{proc_date}')\n",
    "\"\"\")"
   ]
  },
  {
   "cell_type": "code",
   "execution_count": 0,
   "metadata": {
    "application/vnd.databricks.v1+cell": {
     "cellMetadata": {
      "byteLimit": 2048000,
      "rowLimit": 10000
     },
     "inputWidgets": {},
     "nuid": "46fcb3a4-dfe0-44cf-a213-28cb590cc167",
     "showTitle": false,
     "tableResultSettingsMap": {},
     "title": ""
    }
   },
   "outputs": [],
   "source": [
    "spark.sql(f\"\"\"\n",
    "INSERT INTO {catalog_name}.udp_wcm_silver_capillary.customer_capillary_daily\n",
    "SELECT user_user_id as user_id\n",
    "        ,merchant_customer_id\n",
    "        ,mobile\n",
    "        ,gender\n",
    "        ,binding_date\n",
    "        ,dob\n",
    "        ,reg_source\n",
    "        ,fullname\n",
    "        ,store_id\n",
    "        ,bu_id\n",
    "        ,calday\n",
    "        ,returned_points\n",
    "        ,customer_id\n",
    "        ,masan_referral_code\n",
    "        ,IFNULL(staff_id,\"\")\n",
    "        ,merchant_store_id\n",
    "        ,mobile_enroll\n",
    "        ,marketing_noti\n",
    "        ,pilot_store_id\n",
    "        ,pos_enroll\n",
    "        ,onboarding_store_id\n",
    "        ,mobile_enroll_date\n",
    "        ,mobile_noti\n",
    "        ,policy_items\n",
    "        ,device\n",
    "        ,pilot_group\n",
    "        ,loyalty_points\n",
    "        ,lifetime_points\n",
    "        ,redeemed_points\n",
    "        ,expired_points\n",
    "        ,proc_date\n",
    "        ,file_creation_ts\n",
    "FROM temp_customer_capillary_daily;\n",
    "\"\"\")"
   ]
  }
 ],
 "metadata": {
  "application/vnd.databricks.v1+notebook": {
   "computePreferences": null,
   "dashboards": [],
   "environmentMetadata": {
    "base_environment": "",
    "environment_version": "2"
   },
   "inputWidgetPreferences": null,
   "language": "python",
   "notebookMetadata": {
    "mostRecentlyExecutedCommandWithImplicitDF": {
     "commandId": 6350561386721792,
     "dataframes": [
      "_sqldf"
     ]
    },
    "pythonIndentUnit": 4
   },
   "notebookName": "customer_capillary_daily",
   "widgets": {
    "environment": {
     "currentValue": "DEV",
     "nuid": "359bedec-a0fa-492f-b6f9-62e4bffadccf",
     "typedWidgetInfo": {
      "autoCreated": false,
      "defaultValue": "",
      "label": "",
      "name": "environment",
      "options": {
       "widgetDisplayType": "Text",
       "validationRegex": null
      },
      "parameterDataType": "String"
     },
     "widgetInfo": {
      "widgetType": "text",
      "defaultValue": "",
      "label": "",
      "name": "environment",
      "options": {
       "widgetType": "text",
       "autoCreated": null,
       "validationRegex": null
      }
     }
    },
    "proc_date": {
     "currentValue": "2025-06-20",
     "nuid": "7729db37-d3dc-4b93-8d3c-4002f394ff31",
     "typedWidgetInfo": {
      "autoCreated": false,
      "defaultValue": "",
      "label": null,
      "name": "proc_date",
      "options": {
       "widgetDisplayType": "Text",
       "validationRegex": null
      },
      "parameterDataType": "String"
     },
     "widgetInfo": {
      "widgetType": "text",
      "defaultValue": "",
      "label": null,
      "name": "proc_date",
      "options": {
       "widgetType": "text",
       "autoCreated": null,
       "validationRegex": null
      }
     }
    }
   }
  },
  "language_info": {
   "name": "python"
  }
 },
 "nbformat": 4,
 "nbformat_minor": 0
}
