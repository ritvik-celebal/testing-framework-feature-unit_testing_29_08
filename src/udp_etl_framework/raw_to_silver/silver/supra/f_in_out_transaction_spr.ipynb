{
 "cells": [
  {
   "cell_type": "code",
   "execution_count": 0,
   "metadata": {
    "application/vnd.databricks.v1+cell": {
     "cellMetadata": {
      "byteLimit": 2048000,
      "rowLimit": 10000
     },
     "inputWidgets": {},
     "nuid": "50144c6f-d8f5-479e-b0f6-977214e4126d",
     "showTitle": false,
     "tableResultSettingsMap": {},
     "title": ""
    }
   },
   "outputs": [],
   "source": [
    "dbutils.widgets.text(\"proc_date\", \"\")\n",
    "proc_date = dbutils.widgets.get(\"proc_date\")"
   ]
  },
  {
   "cell_type": "code",
   "execution_count": 0,
   "metadata": {
    "application/vnd.databricks.v1+cell": {
     "cellMetadata": {
      "byteLimit": 2048000,
      "rowLimit": 10000
     },
     "inputWidgets": {},
     "nuid": "c61ce195-20cf-4ef9-9e27-8b51d826751d",
     "showTitle": false,
     "tableResultSettingsMap": {},
     "title": ""
    }
   },
   "outputs": [],
   "source": [
    "%run ../../../utils/common"
   ]
  },
  {
   "cell_type": "code",
   "execution_count": 0,
   "metadata": {
    "application/vnd.databricks.v1+cell": {
     "cellMetadata": {
      "byteLimit": 2048000,
      "rowLimit": 10000
     },
     "inputWidgets": {},
     "nuid": "6c0eab74-cb16-48c4-835a-15e05fcee35c",
     "showTitle": false,
     "tableResultSettingsMap": {},
     "title": ""
    }
   },
   "outputs": [],
   "source": [
    "dbutils.widgets.text(\"environment\", \"\", \"\")\n",
    "environment = dbutils.widgets.get(\"environment\")"
   ]
  },
  {
   "cell_type": "code",
   "execution_count": 0,
   "metadata": {
    "application/vnd.databricks.v1+cell": {
     "cellMetadata": {
      "byteLimit": 2048000,
      "rowLimit": 10000
     },
     "inputWidgets": {},
     "nuid": "1ec54fc2-915d-405b-8c17-85351041387b",
     "showTitle": false,
     "tableResultSettingsMap": {},
     "title": ""
    }
   },
   "outputs": [],
   "source": [
    "catalog_name = settings[environment]['catalog_name']"
   ]
  },
  {
   "cell_type": "code",
   "execution_count": 0,
   "metadata": {
    "application/vnd.databricks.v1+cell": {
     "cellMetadata": {
      "byteLimit": 2048000,
      "rowLimit": 10000
     },
     "inputWidgets": {},
     "nuid": "905f9d96-2340-480a-be71-296ca3151674",
     "showTitle": false,
     "tableResultSettingsMap": {},
     "title": ""
    }
   },
   "outputs": [],
   "source": [
    "create_temp_view_with_clean_columns(\n",
    "    spark,\n",
    "    catalog_name,\n",
    "    'udp_wcm_bronze_supra',\n",
    "    'f_in_out_transaction_spr',\n",
    "    proc_date,\n",
    "    'temp_f_in_out_transaction_spr'\n",
    ")"
   ]
  },
  {
   "cell_type": "code",
   "execution_count": 0,
   "metadata": {
    "application/vnd.databricks.v1+cell": {
     "cellMetadata": {
      "byteLimit": 2048000,
      "rowLimit": 10000
     },
     "inputWidgets": {},
     "nuid": "cbc98789-bd48-4672-ba5c-1018ff72207f",
     "showTitle": false,
     "tableResultSettingsMap": {},
     "title": ""
    }
   },
   "outputs": [],
   "source": [
    "spark.sql(f\"\"\"\n",
    "CREATE TABLE IF NOT EXISTS {catalog_name}.udp_wcm_silver_supra.f_in_out_transaction_spr(\n",
    "\twh_code STRING,\n",
    "    wh_site_id STRING,\n",
    "\tclient_code STRING,\n",
    "\tobject_code STRING,\n",
    "\tobject_type STRING,\n",
    "\ttran_date TIMESTAMP,\n",
    "\tjob_code STRING,\n",
    "  \tjob_type STRING,\n",
    "\tsku STRING,\n",
    "\tqty DOUBLE,\n",
    "\tuom STRING,\n",
    "\tbarcode STRING,\n",
    "\tbase_qty DOUBLE,\n",
    "\tbase_uom STRING,\n",
    "\texpired_date DATE,\n",
    "\tmanufacture_date DATE,\n",
    "\tbest_before_date DATE,\n",
    "\treceive_date DATE,\n",
    "\tcondition_type STRING,\n",
    "\tcalday DATE,\n",
    "\tproc_date TIMESTAMP,\n",
    "\ttran_id STRING,\n",
    "\tfile_creation_ts TIMESTAMP\n",
    "\t)\n",
    "\tTBLPROPERTIES \n",
    "\t(\n",
    "\t\tDELTA.AUTOOPTIMIZE.OPTIMIZEWRITE = TRUE,\n",
    "\t\tDELTA.AUTOOPTIMIZE.AUTOCOMPACT = TRUE\n",
    "\t)\n",
    "\"\"\")"
   ]
  },
  {
   "cell_type": "code",
   "execution_count": 0,
   "metadata": {
    "application/vnd.databricks.v1+cell": {
     "cellMetadata": {
      "byteLimit": 2048000,
      "rowLimit": 10000
     },
     "inputWidgets": {},
     "nuid": "660fb493-cb66-4c04-bed5-0ca8b413d13b",
     "showTitle": false,
     "tableResultSettingsMap": {},
     "title": ""
    },
    "jupyter": {
     "outputs_hidden": true
    }
   },
   "outputs": [],
   "source": [
    "spark.sql(f\"\"\"DELETE FROM {catalog_name}.udp_wcm_silver_supra.f_in_out_transaction_spr \n",
    "WHERE tran_id IN (\n",
    "  SELECT tran_id \n",
    "  FROM temp_f_in_out_transaction_spr\n",
    ")\"\"\")"
   ]
  },
  {
   "cell_type": "code",
   "execution_count": 0,
   "metadata": {
    "application/vnd.databricks.v1+cell": {
     "cellMetadata": {
      "byteLimit": 2048000,
      "rowLimit": 10000
     },
     "inputWidgets": {},
     "nuid": "1fae969e-8aa1-4c8d-b367-c47400413b9a",
     "showTitle": false,
     "tableResultSettingsMap": {},
     "title": ""
    }
   },
   "outputs": [],
   "source": [
    "spark.sql(f\"\"\"\n",
    "    INSERT INTO {catalog_name}.udp_wcm_silver_supra.f_in_out_transaction_spr (\n",
    "        wh_code,\n",
    "        wh_site_id,\n",
    "        client_code,\n",
    "        object_code,\n",
    "        object_type,\n",
    "        tran_date,\n",
    "        job_code,\n",
    "        job_type,\n",
    "        sku,\n",
    "        qty,\n",
    "        uom,\n",
    "        barcode,\n",
    "        base_qty,\n",
    "        base_uom,\n",
    "        expired_date,\n",
    "        manufacture_date,\n",
    "        best_before_date,\n",
    "        receive_date,\n",
    "        condition_type,\n",
    "        calday,\n",
    "        proc_date,\n",
    "        tran_id,\n",
    "        file_creation_ts\n",
    "    )\n",
    "    SELECT DISTINCT\n",
    "        wh_code,\n",
    "        wh_site_id,\n",
    "        client_code,\n",
    "        object_code,\n",
    "        object_type,\n",
    "        TRY_CAST(tran_date AS DATE) AS tran_date,\n",
    "        job_code,\n",
    "        job_type,\n",
    "        sku,\n",
    "        qty,\n",
    "        uom,\n",
    "        barcode,\n",
    "        base_qty,\n",
    "        base_uom,\n",
    "        TRY_CAST(expired_date AS DATE) AS expired_date,\n",
    "        TRY_CAST(manufacture_date AS DATE) AS manufacture_date,\n",
    "        TRY_CAST(best_before_date AS DATE) AS best_before_date,\n",
    "        TRY_CAST(receive_date AS DATE) AS receive_date,\n",
    "        condition_type,\n",
    "        calday,\n",
    "        TRY_CAST(proc_date AS DATE) AS proc_date,\n",
    "        tran_id,\n",
    "        file_creation_ts\n",
    "    FROM temp_f_in_out_transaction_spr\n",
    "    WHERE tran_id IS NOT NULL\n",
    "\"\"\")"
   ]
  }
 ],
 "metadata": {
  "application/vnd.databricks.v1+notebook": {
   "computePreferences": null,
   "dashboards": [],
   "environmentMetadata": {
    "base_environment": "",
    "environment_version": "2"
   },
   "inputWidgetPreferences": null,
   "language": "python",
   "notebookMetadata": {
    "mostRecentlyExecutedCommandWithImplicitDF": {
     "commandId": -1,
     "dataframes": [
      "_sqldf"
     ]
    },
    "pythonIndentUnit": 4
   },
   "notebookName": "f_in_out_transaction_spr",
   "widgets": {
    "environment": {
     "currentValue": "DEV",
     "nuid": "b86d1834-1e79-4268-b9cb-ea21cb55e4df",
     "typedWidgetInfo": {
      "autoCreated": false,
      "defaultValue": "",
      "label": "",
      "name": "environment",
      "options": {
       "widgetDisplayType": "Text",
       "validationRegex": null
      },
      "parameterDataType": "String"
     },
     "widgetInfo": {
      "widgetType": "text",
      "defaultValue": "",
      "label": "",
      "name": "environment",
      "options": {
       "widgetType": "text",
       "autoCreated": null,
       "validationRegex": null
      }
     }
    },
    "proc_date": {
     "currentValue": "2025-07-22",
     "nuid": "4dfcb97b-ca16-40d9-934b-d85e790df020",
     "typedWidgetInfo": {
      "autoCreated": false,
      "defaultValue": "",
      "label": null,
      "name": "proc_date",
      "options": {
       "widgetDisplayType": "Text",
       "validationRegex": null
      },
      "parameterDataType": "String"
     },
     "widgetInfo": {
      "widgetType": "text",
      "defaultValue": "",
      "label": null,
      "name": "proc_date",
      "options": {
       "widgetType": "text",
       "autoCreated": null,
       "validationRegex": null
      }
     }
    }
   }
  },
  "language_info": {
   "name": "python"
  }
 },
 "nbformat": 4,
 "nbformat_minor": 0
}
