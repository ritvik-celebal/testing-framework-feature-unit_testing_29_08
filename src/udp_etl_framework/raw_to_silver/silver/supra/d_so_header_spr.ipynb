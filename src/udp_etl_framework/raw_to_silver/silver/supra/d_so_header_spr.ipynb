{
 "cells": [
  {
   "cell_type": "code",
   "execution_count": 0,
   "metadata": {
    "application/vnd.databricks.v1+cell": {
     "cellMetadata": {
      "byteLimit": 2048000,
      "rowLimit": 10000
     },
     "inputWidgets": {},
     "nuid": "50144c6f-d8f5-479e-b0f6-977214e4126d",
     "showTitle": false,
     "tableResultSettingsMap": {},
     "title": ""
    }
   },
   "outputs": [],
   "source": [
    "dbutils.widgets.text(\"proc_date\", \"\")\n",
    "proc_date = dbutils.widgets.get(\"proc_date\")"
   ]
  },
  {
   "cell_type": "code",
   "execution_count": 0,
   "metadata": {
    "application/vnd.databricks.v1+cell": {
     "cellMetadata": {
      "byteLimit": 2048000,
      "rowLimit": 10000
     },
     "inputWidgets": {},
     "nuid": "c61ce195-20cf-4ef9-9e27-8b51d826751d",
     "showTitle": false,
     "tableResultSettingsMap": {},
     "title": ""
    }
   },
   "outputs": [],
   "source": [
    "%run ../../../utils/common"
   ]
  },
  {
   "cell_type": "code",
   "execution_count": 0,
   "metadata": {
    "application/vnd.databricks.v1+cell": {
     "cellMetadata": {
      "byteLimit": 2048000,
      "rowLimit": 10000
     },
     "inputWidgets": {},
     "nuid": "6c0eab74-cb16-48c4-835a-15e05fcee35c",
     "showTitle": false,
     "tableResultSettingsMap": {},
     "title": ""
    }
   },
   "outputs": [],
   "source": [
    "dbutils.widgets.text(\"environment\", \"\", \"\")\n",
    "environment = dbutils.widgets.get(\"environment\")"
   ]
  },
  {
   "cell_type": "code",
   "execution_count": 0,
   "metadata": {
    "application/vnd.databricks.v1+cell": {
     "cellMetadata": {
      "byteLimit": 2048000,
      "rowLimit": 10000
     },
     "inputWidgets": {},
     "nuid": "1ec54fc2-915d-405b-8c17-85351041387b",
     "showTitle": false,
     "tableResultSettingsMap": {},
     "title": ""
    }
   },
   "outputs": [],
   "source": [
    "catalog_name = settings[environment]['catalog_name']"
   ]
  },
  {
   "cell_type": "code",
   "execution_count": 0,
   "metadata": {
    "application/vnd.databricks.v1+cell": {
     "cellMetadata": {
      "byteLimit": 2048000,
      "rowLimit": 10000
     },
     "inputWidgets": {},
     "nuid": "8114948f-3177-42f5-a17e-6219736e1626",
     "showTitle": false,
     "tableResultSettingsMap": {},
     "title": ""
    }
   },
   "outputs": [],
   "source": [
    "create_temp_view_with_clean_columns(\n",
    "    spark,\n",
    "    catalog_name,\n",
    "    'udp_wcm_bronze_supra',\n",
    "    'd_so_header_spr',\n",
    "    proc_date,\n",
    "    'temp_d_so_header_spr'\n",
    ")"
   ]
  },
  {
   "cell_type": "code",
   "execution_count": 0,
   "metadata": {
    "application/vnd.databricks.v1+cell": {
     "cellMetadata": {
      "byteLimit": 2048000,
      "rowLimit": 10000
     },
     "inputWidgets": {},
     "nuid": "cbc98789-bd48-4672-ba5c-1018ff72207f",
     "showTitle": false,
     "tableResultSettingsMap": {},
     "title": ""
    }
   },
   "outputs": [],
   "source": [
    "spark.sql(f\"\"\"\n",
    "CREATE TABLE IF NOT EXISTS {catalog_name}.udp_wcm_silver_supra.d_so_header_spr (\n",
    "    so_code STRING,\n",
    "    client_code STRING,\n",
    "    wh_code STRING,\n",
    "    wh_site_id STRING,\n",
    "    external_code STRING,\n",
    "    store_site_id STRING,\n",
    "    store_name STRING,\n",
    "    full_address STRING,\n",
    "    addr_region STRING,\n",
    "    addr_province STRING,\n",
    "    addr_district STRING,\n",
    "    addr_ward STRING,\n",
    "    created_date DATE,\n",
    "    est_delivery_date DATE,\n",
    "    contact_name STRING,\n",
    "    contact_phone STRING,\n",
    "    hand_on_date DATE,\n",
    "    delivering_date DATE,\n",
    "    delivered_date DATE,\n",
    "    canceled_date DATE,\n",
    "    total_weight DOUBLE,\n",
    "    total_volume DOUBLE,\n",
    "    total_package BIGINT,\n",
    "    total_package_odd BIGINT,\n",
    "    total_package_even BIGINT,\n",
    "    type STRING,\n",
    "    condition_type STRING,\n",
    "    so_picking_type STRING,\n",
    "    so_packing_type STRING,\n",
    "    is_sync_sap STRING,\n",
    "    source STRING,\n",
    "    gi_date DATE,\n",
    "    gi_status STRING,\n",
    "    auto_gr_date DATE,\n",
    "    auto_gr_status STRING,\n",
    "    status STRING,\n",
    "    calday DATE,\n",
    "    proc_date TIMESTAMP,\n",
    "    file_creation_ts TIMESTAMP\n",
    ")\n",
    "TBLPROPERTIES (\n",
    "    delta.autoOptimize.optimizeWrite = true,\n",
    "    delta.autoOptimize.autoCompact = true\n",
    ")\n",
    "\"\"\")\n"
   ]
  },
  {
   "cell_type": "code",
   "execution_count": 0,
   "metadata": {
    "application/vnd.databricks.v1+cell": {
     "cellMetadata": {
      "byteLimit": 2048000,
      "rowLimit": 10000
     },
     "inputWidgets": {},
     "nuid": "1fae969e-8aa1-4c8d-b367-c47400413b9a",
     "showTitle": false,
     "tableResultSettingsMap": {},
     "title": ""
    }
   },
   "outputs": [],
   "source": [
    "spark.sql(f\"\"\"\n",
    "    INSERT INTO {catalog_name}.udp_wcm_silver_supra.d_so_header_spr (\n",
    "        so_code,\n",
    "        client_code,\n",
    "        wh_code,\n",
    "        wh_site_id,\n",
    "        external_code,\n",
    "        store_site_id,\n",
    "        store_name,\n",
    "        full_address,\n",
    "        addr_region,\n",
    "        addr_province,\n",
    "        addr_district,\n",
    "        addr_ward,\n",
    "        created_date,\n",
    "        est_delivery_date,\n",
    "        contact_name,\n",
    "        contact_phone,\n",
    "        hand_on_date,\n",
    "        delivering_date,\n",
    "        delivered_date,\n",
    "        canceled_date,\n",
    "        total_weight,\n",
    "        total_volume,\n",
    "        total_package,\n",
    "        total_package_odd,\n",
    "        total_package_even,\n",
    "        type,\n",
    "        condition_type,\n",
    "        so_picking_type,\n",
    "        so_packing_type,\n",
    "        is_sync_sap,\n",
    "        source,\n",
    "        gi_date,\n",
    "        gi_status,\n",
    "        auto_gr_date,\n",
    "        auto_gr_status,\n",
    "        status,\n",
    "        calday,\n",
    "        proc_date,\n",
    "        file_creation_ts\n",
    "    )\n",
    "    SELECT DISTINCT\n",
    "        so_code,\n",
    "        client_code,\n",
    "        wh_code,\n",
    "        wh_site_id,\n",
    "        external_code,\n",
    "        store_site_id,\n",
    "        store_name,\n",
    "        full_address,\n",
    "        addr_region,\n",
    "        addr_province,\n",
    "        addr_district,\n",
    "        addr_ward,\n",
    "        TRY_CAST(created_date AS DATE) AS created_date,\n",
    "        TRY_CAST(est_delivery_date AS DATE) AS est_delivery_date,\n",
    "        contact_name,\n",
    "        contact_phone,\n",
    "        TRY_CAST(hand_on_date AS DATE) AS hand_on_date,\n",
    "        TRY_CAST(delivering_date AS DATE) AS delivering_date,\n",
    "        TRY_CAST(delivered_date AS DATE) AS delivered_date,\n",
    "        TRY_CAST(canceled_date AS DATE) AS canceled_date,\n",
    "        total_weight,\n",
    "        total_volume,\n",
    "        total_package,\n",
    "        total_package_odd,\n",
    "        total_package_even,\n",
    "        type,\n",
    "        condition_type,\n",
    "        so_picking_type,\n",
    "        so_packing_type,\n",
    "        is_sync_sap,\n",
    "        source,\n",
    "        TRY_CAST(gi_date AS DATE) AS gi_date,\n",
    "        gi_status,\n",
    "        TRY_CAST(auto_gr_date AS DATE) AS auto_gr_date,\n",
    "        auto_gr_status,\n",
    "        status,\n",
    "        calday,\n",
    "        TRY_CAST(proc_date AS DATE) AS proc_date,\n",
    "        file_creation_ts\n",
    "    FROM temp_d_so_header_spr\n",
    "\"\"\")"
   ]
  }
 ],
 "metadata": {
  "application/vnd.databricks.v1+notebook": {
   "computePreferences": null,
   "dashboards": [],
   "environmentMetadata": {
    "base_environment": "",
    "environment_version": "2"
   },
   "inputWidgetPreferences": null,
   "language": "python",
   "notebookMetadata": {
    "mostRecentlyExecutedCommandWithImplicitDF": {
     "commandId": 1324643824050330,
     "dataframes": [
      "_sqldf"
     ]
    },
    "pythonIndentUnit": 4
   },
   "notebookName": "d_so_header_spr",
   "widgets": {
    "environment": {
     "currentValue": "DEV",
     "nuid": "b86d1834-1e79-4268-b9cb-ea21cb55e4df",
     "typedWidgetInfo": {
      "autoCreated": false,
      "defaultValue": "",
      "label": "",
      "name": "environment",
      "options": {
       "widgetDisplayType": "Text",
       "validationRegex": null
      },
      "parameterDataType": "String"
     },
     "widgetInfo": {
      "widgetType": "text",
      "defaultValue": "",
      "label": "",
      "name": "environment",
      "options": {
       "widgetType": "text",
       "autoCreated": null,
       "validationRegex": null
      }
     }
    },
    "proc_date": {
     "currentValue": "2025-07-22",
     "nuid": "4dfcb97b-ca16-40d9-934b-d85e790df020",
     "typedWidgetInfo": {
      "autoCreated": false,
      "defaultValue": "",
      "label": null,
      "name": "proc_date",
      "options": {
       "widgetDisplayType": "Text",
       "validationRegex": null
      },
      "parameterDataType": "String"
     },
     "widgetInfo": {
      "widgetType": "text",
      "defaultValue": "",
      "label": null,
      "name": "proc_date",
      "options": {
       "widgetType": "text",
       "autoCreated": null,
       "validationRegex": null
      }
     }
    }
   }
  },
  "language_info": {
   "name": "python"
  }
 },
 "nbformat": 4,
 "nbformat_minor": 0
}
