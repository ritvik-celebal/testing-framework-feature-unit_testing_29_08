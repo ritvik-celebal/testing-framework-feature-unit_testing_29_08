{
 "cells": [
  {
   "cell_type": "code",
   "execution_count": 0,
   "metadata": {
    "application/vnd.databricks.v1+cell": {
     "cellMetadata": {
      "byteLimit": 2048000,
      "rowLimit": 10000
     },
     "inputWidgets": {},
     "nuid": "fa065b93-e610-4dd2-ab96-db40b2ecd27f",
     "showTitle": false,
     "tableResultSettingsMap": {},
     "title": ""
    }
   },
   "outputs": [],
   "source": [
    "dbutils.widgets.text(\"proc_date\", \"\")\n",
    "proc_date = dbutils.widgets.get(\"proc_date\")"
   ]
  },
  {
   "cell_type": "code",
   "execution_count": 0,
   "metadata": {
    "application/vnd.databricks.v1+cell": {
     "cellMetadata": {
      "byteLimit": 2048000,
      "rowLimit": 10000
     },
     "inputWidgets": {},
     "nuid": "1b42e08d-05a5-4ffb-8a4b-6ef64a586a79",
     "showTitle": false,
     "tableResultSettingsMap": {},
     "title": ""
    }
   },
   "outputs": [],
   "source": [
    "%run ../../../utils/common"
   ]
  },
  {
   "cell_type": "code",
   "execution_count": 0,
   "metadata": {
    "application/vnd.databricks.v1+cell": {
     "cellMetadata": {
      "byteLimit": 2048000,
      "rowLimit": 10000
     },
     "inputWidgets": {},
     "nuid": "f9ff2499-8d44-4103-b74e-58a5a9e390ee",
     "showTitle": false,
     "tableResultSettingsMap": {},
     "title": ""
    }
   },
   "outputs": [],
   "source": [
    "dbutils.widgets.text(\"environment\", \"\", \"\")\n",
    "environment = dbutils.widgets.get(\"environment\")"
   ]
  },
  {
   "cell_type": "code",
   "execution_count": 0,
   "metadata": {
    "application/vnd.databricks.v1+cell": {
     "cellMetadata": {
      "byteLimit": 2048000,
      "rowLimit": 10000
     },
     "inputWidgets": {},
     "nuid": "48284ced-6941-4ce6-a9f6-39362441416d",
     "showTitle": false,
     "tableResultSettingsMap": {},
     "title": ""
    }
   },
   "outputs": [],
   "source": [
    "catalog_name = settings[environment]['catalog_name']"
   ]
  },
  {
   "cell_type": "code",
   "execution_count": 0,
   "metadata": {
    "application/vnd.databricks.v1+cell": {
     "cellMetadata": {
      "byteLimit": 2048000,
      "rowLimit": 10000
     },
     "inputWidgets": {},
     "nuid": "f2931382-1ad8-4d95-beac-362377eb1313",
     "showTitle": false,
     "tableResultSettingsMap": {},
     "title": ""
    }
   },
   "outputs": [],
   "source": [
    "create_temp_view_with_clean_columns(\n",
    "    spark,\n",
    "    catalog_name,\n",
    "    'udp_wcm_bronze_supra',\n",
    "    'd_po_header_spr',\n",
    "    proc_date,\n",
    "    'temp_d_po_header_spr'\n",
    ")"
   ]
  },
  {
   "cell_type": "code",
   "execution_count": 0,
   "metadata": {
    "application/vnd.databricks.v1+cell": {
     "cellMetadata": {
      "byteLimit": 2048000,
      "rowLimit": 10000
     },
     "inputWidgets": {},
     "nuid": "bad69c2f-da60-471d-8a41-1231e1c14238",
     "showTitle": false,
     "tableResultSettingsMap": {},
     "title": ""
    }
   },
   "outputs": [],
   "source": [
    "spark.sql(f\"\"\"\n",
    "CREATE TABLE IF NOT EXISTS {catalog_name}.udp_wcm_silver_supra.d_po_header_spr\n",
    "(\n",
    "  po_code STRING,\n",
    "  client_code STRING,\n",
    "  wh_code STRING,\n",
    "  wh_site_id STRING,\n",
    "  external_code STRING,\n",
    "  created_date DATE,\n",
    "  est_receive_date DATE,\n",
    "  contact_name STRING,\n",
    "  contact_phone STRING,\n",
    "  vendor_id STRING,\n",
    "  vendor_name STRING,\n",
    "  receiving_date DATE,\n",
    "  finished_date DATE,\n",
    "  canceled_date DATE,\n",
    "  type STRING,\n",
    "  condition_type STRING,\n",
    "  source STRING,\n",
    "  confirmed_date DATE,\n",
    "  gr_date DATE,\n",
    "  gr_status STRING,\n",
    "  status STRING,\n",
    "  calday DATE,\n",
    "  proc_date DATE,\n",
    "  reference_id STRING,\n",
    "  file_creation_ts TIMESTAMP\n",
    ")\n",
    "TBLPROPERTIES (\n",
    "    delta.autoOptimize.optimizeWrite = true,\n",
    "    delta.autoOptimize.autoCompact = true\n",
    ")\n",
    "\"\"\")"
   ]
  },
  {
   "cell_type": "code",
   "execution_count": 0,
   "metadata": {
    "application/vnd.databricks.v1+cell": {
     "cellMetadata": {
      "byteLimit": 2048000,
      "rowLimit": 10000
     },
     "inputWidgets": {},
     "nuid": "68701fe3-e6f7-4aa4-aabc-c1e21308dd25",
     "showTitle": false,
     "tableResultSettingsMap": {},
     "title": ""
    }
   },
   "outputs": [],
   "source": [
    "spark.sql(f\"\"\"DELETE FROM {catalog_name}.udp_wcm_silver_supra.d_po_header_spr \n",
    "WHERE proc_date IN (\n",
    "  SELECT proc_date \n",
    "  FROM temp_d_po_header_spr\n",
    ")\"\"\")"
   ]
  },
  {
   "cell_type": "code",
   "execution_count": 0,
   "metadata": {
    "application/vnd.databricks.v1+cell": {
     "cellMetadata": {
      "byteLimit": 2048000,
      "rowLimit": 10000
     },
     "inputWidgets": {},
     "nuid": "6b8fd5e3-2c85-40fe-8eed-5bc597ab0429",
     "showTitle": false,
     "tableResultSettingsMap": {},
     "title": ""
    }
   },
   "outputs": [],
   "source": [
    "spark.sql(f\"\"\"\n",
    "INSERT INTO {catalog_name}.udp_wcm_silver_supra.d_po_header_spr\n",
    "(\n",
    "    po_code,\n",
    "    client_code,\n",
    "    wh_code,\n",
    "    wh_site_id,\n",
    "    external_code,\n",
    "    created_date,\n",
    "    est_receive_date,\n",
    "    contact_name,\n",
    "    contact_phone,\n",
    "    vendor_id,\n",
    "    vendor_name,\n",
    "    receiving_date,\n",
    "    finished_date,\n",
    "    canceled_date,\n",
    "    type,\n",
    "    condition_type,\n",
    "    source,\n",
    "    confirmed_date,\n",
    "    gr_date,\n",
    "    gr_status,\n",
    "    status,\n",
    "    calday,\n",
    "    proc_date,\n",
    "    reference_id,\n",
    "    file_creation_ts\n",
    ")\n",
    "SELECT\n",
    "    po_code,\n",
    "    client_code,\n",
    "    wh_code,\n",
    "    wh_site_id,\n",
    "    external_code,\n",
    "    try_cast(created_date AS DATE) AS created_date,         \n",
    "    try_cast(est_receive_date AS DATE) AS est_receive_date, \n",
    "    contact_name,\n",
    "    contact_phone,\n",
    "    vendor_id,\n",
    "    vendor_name,\n",
    "    try_cast(receiving_date AS DATE) AS receiving_date,     \n",
    "    try_cast(finished_date AS DATE) AS finished_date,       \n",
    "    try_cast(canceled_date AS DATE) AS canceled_date,       \n",
    "    type,\n",
    "    condition_type,\n",
    "    source,\n",
    "    try_cast(confirmed_date AS DATE) AS confirmed_date,      \n",
    "    try_cast(gr_date AS DATE) AS gr_date,                    \n",
    "    gr_status,\n",
    "    status,\n",
    "    try_cast(calday AS DATE) AS calday,                      \n",
    "    try_cast(proc_date AS DATE) AS proc_date,                \n",
    "    reference_id,\n",
    "    file_creation_ts\n",
    "FROM temp_d_po_header_spr\n",
    "WHERE proc_date IS NOT NULL\n",
    "\"\"\")"
   ]
  },
  {
   "cell_type": "code",
   "execution_count": 0,
   "metadata": {
    "application/vnd.databricks.v1+cell": {
     "cellMetadata": {},
     "inputWidgets": {},
     "nuid": "00bdc08a-e80b-429a-9451-78f996df1e4e",
     "showTitle": false,
     "tableResultSettingsMap": {},
     "title": ""
    }
   },
   "outputs": [],
   "source": []
  }
 ],
 "metadata": {
  "application/vnd.databricks.v1+notebook": {
   "computePreferences": null,
   "dashboards": [],
   "environmentMetadata": {
    "base_environment": "",
    "environment_version": "2"
   },
   "inputWidgetPreferences": null,
   "language": "python",
   "notebookMetadata": {
    "mostRecentlyExecutedCommandWithImplicitDF": {
     "commandId": 6045741625411056,
     "dataframes": [
      "_sqldf"
     ]
    },
    "pythonIndentUnit": 4
   },
   "notebookName": "d_po_header_spr",
   "widgets": {
    "environment": {
     "currentValue": "DEV",
     "nuid": "262cd498-372a-40af-892d-910f4f81cf26",
     "typedWidgetInfo": {
      "autoCreated": false,
      "defaultValue": "",
      "label": "",
      "name": "environment",
      "options": {
       "widgetDisplayType": "Text",
       "validationRegex": null
      },
      "parameterDataType": "String"
     },
     "widgetInfo": {
      "widgetType": "text",
      "defaultValue": "",
      "label": "",
      "name": "environment",
      "options": {
       "widgetType": "text",
       "autoCreated": null,
       "validationRegex": null
      }
     }
    },
    "proc_date": {
     "currentValue": "2025-07-22",
     "nuid": "6c55f651-4df1-470b-9618-9da413661b4b",
     "typedWidgetInfo": {
      "autoCreated": false,
      "defaultValue": "",
      "label": null,
      "name": "proc_date",
      "options": {
       "widgetDisplayType": "Text",
       "validationRegex": null
      },
      "parameterDataType": "String"
     },
     "widgetInfo": {
      "widgetType": "text",
      "defaultValue": "",
      "label": null,
      "name": "proc_date",
      "options": {
       "widgetType": "text",
       "autoCreated": null,
       "validationRegex": null
      }
     }
    }
   }
  },
  "language_info": {
   "name": "python"
  }
 },
 "nbformat": 4,
 "nbformat_minor": 0
}
