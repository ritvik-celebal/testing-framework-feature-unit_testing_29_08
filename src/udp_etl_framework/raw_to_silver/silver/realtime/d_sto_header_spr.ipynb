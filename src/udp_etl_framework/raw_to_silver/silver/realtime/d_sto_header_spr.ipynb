{
 "cells": [
  {
   "cell_type": "code",
   "execution_count": 0,
   "metadata": {
    "application/vnd.databricks.v1+cell": {
     "cellMetadata": {
      "byteLimit": 2048000,
      "rowLimit": 10000
     },
     "inputWidgets": {},
     "nuid": "4b1360d4-b3d7-41de-8d45-3512c90e8989",
     "showTitle": false,
     "tableResultSettingsMap": {},
     "title": ""
    }
   },
   "outputs": [],
   "source": [
    "dbutils.widgets.text(\"proc_date\", \"\")\n",
    "proc_date = dbutils.widgets.get(\"proc_date\")"
   ]
  },
  {
   "cell_type": "code",
   "execution_count": 0,
   "metadata": {
    "application/vnd.databricks.v1+cell": {
     "cellMetadata": {
      "byteLimit": 2048000,
      "rowLimit": 10000
     },
     "inputWidgets": {},
     "nuid": "d91eb9f3-9189-4de7-97e5-e24a012ba3ca",
     "showTitle": false,
     "tableResultSettingsMap": {},
     "title": ""
    }
   },
   "outputs": [],
   "source": [
    "next_layer = \"silver\""
   ]
  },
  {
   "cell_type": "code",
   "execution_count": 0,
   "metadata": {
    "application/vnd.databricks.v1+cell": {
     "cellMetadata": {
      "byteLimit": 2048000,
      "rowLimit": 10000
     },
     "inputWidgets": {},
     "nuid": "b3edccd8-5935-45b3-a1c7-25d9e4d6eb4f",
     "showTitle": false,
     "tableResultSettingsMap": {},
     "title": ""
    }
   },
   "outputs": [],
   "source": [
    "%run ../../../utils/common"
   ]
  },
  {
   "cell_type": "code",
   "execution_count": 0,
   "metadata": {
    "application/vnd.databricks.v1+cell": {
     "cellMetadata": {
      "byteLimit": 2048000,
      "rowLimit": 10000
     },
     "inputWidgets": {},
     "nuid": "1d08d6eb-d5a9-4721-9a05-b8a40a2f41c2",
     "showTitle": false,
     "tableResultSettingsMap": {},
     "title": ""
    }
   },
   "outputs": [],
   "source": [
    "dbutils.widgets.text(\"environment\", \"\", \"\")\n",
    "environment = dbutils.widgets.get(\"environment\")"
   ]
  },
  {
   "cell_type": "code",
   "execution_count": 0,
   "metadata": {
    "application/vnd.databricks.v1+cell": {
     "cellMetadata": {
      "byteLimit": 2048000,
      "rowLimit": 10000
     },
     "inputWidgets": {},
     "nuid": "59e2f04c-8403-4627-ac4e-3d674caaeb5b",
     "showTitle": false,
     "tableResultSettingsMap": {},
     "title": ""
    }
   },
   "outputs": [],
   "source": [
    "catalog_name = settings[environment]['catalog_name']"
   ]
  },
  {
   "cell_type": "code",
   "execution_count": 0,
   "metadata": {
    "application/vnd.databricks.v1+cell": {
     "cellMetadata": {
      "byteLimit": 2048000,
      "rowLimit": 10000
     },
     "inputWidgets": {},
     "nuid": "69e51b4f-7131-483d-84c1-436fada33106",
     "showTitle": false,
     "tableResultSettingsMap": {},
     "title": ""
    }
   },
   "outputs": [],
   "source": [
    "# Dynamic select query to read the data for specific proc_date\n",
    "dynamic_query = f\"\"\" CREATE OR REPLACE TEMP VIEW temp_d_sto_header_spr  AS SELECT *\n",
    "FROM udp_wcm_pro.udp_wcm_bronze_pro.supra_d_sto_header_spr   \n",
    "WHERE proc_date like '{str(proc_date).replace('-', '')}%'\n",
    "\"\"\"\n",
    "\n",
    "# Execute the query\n",
    "spark.sql(dynamic_query)\n",
    "print(dynamic_query)"
   ]
  },
  {
   "cell_type": "code",
   "execution_count": 0,
   "metadata": {
    "application/vnd.databricks.v1+cell": {
     "cellMetadata": {
      "byteLimit": 2048000,
      "implicitDf": true,
      "rowLimit": 10000
     },
     "inputWidgets": {},
     "nuid": "a629b2b4-42a3-4da1-98ab-4aceb7aadcef",
     "showTitle": false,
     "tableResultSettingsMap": {},
     "title": ""
    }
   },
   "outputs": [],
   "source": [
    "spark.sql(f\"\"\"\n",
    "CREATE TABLE IF NOT EXISTS {catalog_name}.udp_wcm_silver_realtime.d_sto_header_spr\n",
    "\n",
    "(\n",
    "  hash_id BIGINT,\n",
    "  sto_code STRING,\n",
    "  rocket_code STRING,\n",
    "  client_code STRING,\n",
    "  wh_code STRING,\n",
    "  wh_site_id STRING,\n",
    "  external_code STRING,\n",
    "  po_code STRING,\n",
    "  promotion_code STRING,\n",
    "  type STRING,\n",
    "  request_type STRING,\n",
    "  store_site_id STRING,\n",
    "  store_name STRING,\n",
    "  full_address STRING,\n",
    "  addr_region STRING,\n",
    "  addr_province STRING,\n",
    "  addr_district STRING,\n",
    "  addr_ward STRING,\n",
    "  contact_name STRING,\n",
    "  contact_phone STRING,\n",
    "  created_date TIMESTAMP,\n",
    "  canceled_date TIMESTAMP,\n",
    "  cancellation_reason STRING,\n",
    "  total_weight DOUBLE,\n",
    "  total_volume DOUBLE,\n",
    "  total_units DOUBLE,\n",
    "  sto_picking_type STRING,\n",
    "  condition_type STRING,\n",
    "  source STRING,\n",
    "  status STRING,\n",
    "  calday TIMESTAMP,\n",
    "  proc_date TIMESTAMP,\n",
    "  reference_id STRING\n",
    ") \n",
    "TBLPROPERTIES (\n",
    "  'DELTA.AUTOOPTIMIZE.OPTIMIZEWRITE' = 'TRUE',\n",
    "  'DELTA.AUTOOPTIMIZE.AUTOCOMPACT' = 'TRUE'\n",
    ")\n",
    "\"\"\")"
   ]
  },
  {
   "cell_type": "code",
   "execution_count": 0,
   "metadata": {
    "application/vnd.databricks.v1+cell": {
     "cellMetadata": {
      "byteLimit": 2048000,
      "rowLimit": 10000
     },
     "inputWidgets": {},
     "nuid": "3db83631-958d-4866-98ed-76a784fc720a",
     "showTitle": false,
     "tableResultSettingsMap": {},
     "title": ""
    }
   },
   "outputs": [],
   "source": [
    "spark.sql(f\"\"\"   \n",
    "CREATE OR REPLACE TEMPORARY VIEW view_d_sto_header_spr AS \n",
    "SELECT DISTINCT\n",
    "    farm_fingerprint(CONCAT(\n",
    "      COALESCE(CAST(sto_code AS STRING), \"\"),\n",
    "      COALESCE(CAST(rocket_code AS STRING), \"\"),\n",
    "      COALESCE(CAST(client_code AS STRING), \"\"),\n",
    "      COALESCE(CAST(wh_code AS STRING), \"\"),\n",
    "      COALESCE(CAST(wh_site_id AS STRING), \"\"),\n",
    "      COALESCE(CAST(external_code AS STRING), \"\"),\n",
    "      COALESCE(CAST(po_code AS STRING), \"\"),\n",
    "      COALESCE(CAST(promotion_code AS STRING), \"\"),\n",
    "      COALESCE(CAST(type AS STRING), \"\"),\n",
    "      COALESCE(CAST(request_type AS STRING), \"\"),\n",
    "      COALESCE(CAST(store_site_id AS STRING), \"\"),\n",
    "      COALESCE(CAST(sto_picking_type AS STRING), \"\"),\n",
    "      COALESCE(CAST(condition_type AS STRING), \"\"),\n",
    "      COALESCE(CAST(source AS STRING), \"\"),\n",
    "      COALESCE(CAST(status AS STRING), \"\"),\n",
    "      COALESCE(CAST(TO_TIMESTAMP(calday, \"yyyyMMddHHmmss\") AS STRING), \"\"),\n",
    "      COALESCE(CAST(TO_TIMESTAMP(proc_date, \"yyyyMMddHHmmss\") AS STRING), \"\")\n",
    "    )) AS hash_id,\n",
    "    CAST(sto_code AS STRING) AS sto_code,\n",
    "    CAST(rocket_code AS STRING) AS rocket_code,\n",
    "    CAST(client_code AS STRING) AS client_code,\n",
    "    CAST(wh_code AS STRING) AS wh_code,\n",
    "    CAST(wh_site_id AS STRING) AS wh_site_id,\n",
    "    CAST(external_code AS STRING) AS external_code,\n",
    "    CAST(po_code AS STRING) AS po_code,\n",
    "    CAST(promotion_code AS STRING) AS promotion_code,\n",
    "    CAST(type AS STRING) AS type,\n",
    "    CAST(request_type AS STRING) AS request_type,\n",
    "    CAST(store_site_id AS STRING) AS store_site_id,\n",
    "    CAST(store_name AS STRING) AS store_name,\n",
    "    CAST(full_address AS STRING) AS full_address,\n",
    "    CAST(addr_region AS STRING) AS addr_region,\n",
    "    CAST(addr_province AS STRING) AS addr_province,\n",
    "    CAST(addr_district AS STRING) AS addr_district,\n",
    "    CAST(addr_ward AS STRING) AS addr_ward,\n",
    "    CAST(contact_name AS STRING) AS contact_name,\n",
    "    CAST(contact_phone AS STRING) AS contact_phone,\n",
    "    TO_TIMESTAMP(CAST(created_date AS STRING), \"yyyyMMddHHmmss\") AS created_date,\n",
    "    TO_TIMESTAMP(CAST(canceled_date AS STRING), \"yyyyMMddHHmmss\") AS canceled_date,\n",
    "    CAST(cancellation_reason AS STRING) AS cancellation_reason,\n",
    "    CAST(total_weight AS DOUBLE) AS total_weight,\n",
    "    CAST(total_volume AS DOUBLE) AS total_volume,\n",
    "    CAST(total_units AS DOUBLE) AS total_units,\n",
    "    CAST(sto_picking_type AS STRING) AS sto_picking_type,\n",
    "    CAST(condition_type AS STRING) AS condition_type,\n",
    "    CAST(source AS STRING) AS source,\n",
    "    CAST(status AS STRING) AS status,\n",
    "    TO_TIMESTAMP(calday, \"yyyyMMddHHmmss\") AS calday,\n",
    "    TO_TIMESTAMP(proc_date, \"yyyyMMddHHmmss\") AS proc_date,\n",
    "    CAST(reference_id AS STRING) AS reference_id\n",
    "FROM temp_d_sto_header_spr;\n",
    "  \"\"\")"
   ]
  },
  {
   "cell_type": "code",
   "execution_count": 0,
   "metadata": {
    "application/vnd.databricks.v1+cell": {
     "cellMetadata": {
      "byteLimit": 2048000,
      "rowLimit": 10000
     },
     "inputWidgets": {},
     "nuid": "73eb12dc-8092-405e-b13b-cccab908e721",
     "showTitle": false,
     "tableResultSettingsMap": {},
     "title": ""
    }
   },
   "outputs": [],
   "source": [
    "spark.sql(f\"\"\"MERGE INTO {catalog_name}.udp_wcm_silver_realtime.d_sto_header_spr AS main_tbl\n",
    "USING view_d_sto_header_spr AS temp_tbl \n",
    "ON main_tbl.hash_id = temp_tbl.hash_id\n",
    "WHEN NOT MATCHED THEN \n",
    "  INSERT *;\n",
    "  \"\"\")"
   ]
  }
 ],
 "metadata": {
  "application/vnd.databricks.v1+notebook": {
   "computePreferences": null,
   "dashboards": [],
   "environmentMetadata": {
    "base_environment": "",
    "environment_version": "2"
   },
   "inputWidgetPreferences": null,
   "language": "python",
   "notebookMetadata": {
    "mostRecentlyExecutedCommandWithImplicitDF": {
     "commandId": 4797374564242622,
     "dataframes": [
      "_sqldf"
     ]
    },
    "pythonIndentUnit": 4
   },
   "notebookName": "d_sto_header_spr",
   "widgets": {
    "environment": {
     "currentValue": "DEV",
     "nuid": "237010dd-5c0a-4ca1-9e7b-75c49420fa4a",
     "typedWidgetInfo": {
      "autoCreated": false,
      "defaultValue": "",
      "label": "",
      "name": "environment",
      "options": {
       "widgetDisplayType": "Text",
       "validationRegex": null
      },
      "parameterDataType": "String"
     },
     "widgetInfo": {
      "widgetType": "text",
      "defaultValue": "",
      "label": "",
      "name": "environment",
      "options": {
       "widgetType": "text",
       "autoCreated": null,
       "validationRegex": null
      }
     }
    },
    "proc_date": {
     "currentValue": "2025-07-16",
     "nuid": "6ec25f40-a7bd-4177-bc5d-afe4def67c4f",
     "typedWidgetInfo": {
      "autoCreated": false,
      "defaultValue": "",
      "label": null,
      "name": "proc_date",
      "options": {
       "widgetDisplayType": "Text",
       "validationRegex": null
      },
      "parameterDataType": "String"
     },
     "widgetInfo": {
      "widgetType": "text",
      "defaultValue": "",
      "label": null,
      "name": "proc_date",
      "options": {
       "widgetType": "text",
       "autoCreated": null,
       "validationRegex": null
      }
     }
    }
   }
  },
  "language_info": {
   "name": "python"
  }
 },
 "nbformat": 4,
 "nbformat_minor": 0
}
