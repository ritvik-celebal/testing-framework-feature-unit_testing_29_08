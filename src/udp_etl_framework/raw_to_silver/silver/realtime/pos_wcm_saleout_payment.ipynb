{
 "cells": [
  {
   "cell_type": "code",
   "execution_count": 0,
   "metadata": {
    "application/vnd.databricks.v1+cell": {
     "cellMetadata": {
      "byteLimit": 2048000,
      "rowLimit": 10000
     },
     "inputWidgets": {},
     "nuid": "75f3fe5a-27ba-4447-b064-397cfde1f368",
     "showTitle": false,
     "tableResultSettingsMap": {},
     "title": ""
    }
   },
   "outputs": [],
   "source": [
    "dbutils.widgets.text(\"proc_date\", \"\")\n",
    "proc_date = dbutils.widgets.get(\"proc_date\")"
   ]
  },
  {
   "cell_type": "code",
   "execution_count": 0,
   "metadata": {
    "application/vnd.databricks.v1+cell": {
     "cellMetadata": {
      "byteLimit": 2048000,
      "rowLimit": 10000
     },
     "inputWidgets": {},
     "nuid": "56231675-f620-4449-ac92-003ac90fc986",
     "showTitle": false,
     "tableResultSettingsMap": {},
     "title": ""
    }
   },
   "outputs": [],
   "source": [
    "next_layer = \"silver\""
   ]
  },
  {
   "cell_type": "code",
   "execution_count": 0,
   "metadata": {
    "application/vnd.databricks.v1+cell": {
     "cellMetadata": {
      "byteLimit": 2048000,
      "rowLimit": 10000
     },
     "inputWidgets": {},
     "nuid": "9e5c2773-a266-4173-8b1b-d5153a2bdf25",
     "showTitle": false,
     "tableResultSettingsMap": {},
     "title": ""
    }
   },
   "outputs": [],
   "source": [
    "%run ../../../utils/common"
   ]
  },
  {
   "cell_type": "code",
   "execution_count": 0,
   "metadata": {
    "application/vnd.databricks.v1+cell": {
     "cellMetadata": {
      "byteLimit": 2048000,
      "rowLimit": 10000
     },
     "inputWidgets": {},
     "nuid": "34775c43-9a2f-4861-ba4c-a2a097c3970e",
     "showTitle": false,
     "tableResultSettingsMap": {},
     "title": ""
    }
   },
   "outputs": [],
   "source": [
    "dbutils.widgets.text(\"environment\", \"\")\n",
    "environment = dbutils.widgets.get(\"environment\")"
   ]
  },
  {
   "cell_type": "code",
   "execution_count": 0,
   "metadata": {
    "application/vnd.databricks.v1+cell": {
     "cellMetadata": {
      "byteLimit": 2048000,
      "rowLimit": 10000
     },
     "inputWidgets": {},
     "nuid": "795dd3c9-9ca2-4289-af5e-876a1566d5f2",
     "showTitle": false,
     "tableResultSettingsMap": {},
     "title": ""
    }
   },
   "outputs": [],
   "source": [
    "catalog_name = settings[environment]['catalog_name']"
   ]
  },
  {
   "cell_type": "code",
   "execution_count": 0,
   "metadata": {
    "application/vnd.databricks.v1+cell": {
     "cellMetadata": {
      "byteLimit": 2048000,
      "rowLimit": 10000
     },
     "inputWidgets": {},
     "nuid": "b4bc05cf-52a3-454d-9e52-a83cea7e1bac",
     "showTitle": false,
     "tableResultSettingsMap": {},
     "title": ""
    }
   },
   "outputs": [],
   "source": [
    "# Dynamic select query to read the data for specific proc_date\n",
    "dynamic_query = f\"\"\" CREATE OR REPLACE TEMP VIEW temp_pos_wcm_saleout AS SELECT *\n",
    "FROM udp_wcm_pro.udp_wcm_bronze_pro.pos_wcm_saleout\n",
    "WHERE ProcDate like '{str(proc_date).replace('-', '')}%'\n",
    "\"\"\"\n",
    "\n",
    "# Execute the query\n",
    "spark.sql(dynamic_query)"
   ]
  },
  {
   "cell_type": "code",
   "execution_count": 0,
   "metadata": {
    "application/vnd.databricks.v1+cell": {
     "cellMetadata": {
      "byteLimit": 2048000,
      "rowLimit": 10000
     },
     "inputWidgets": {},
     "nuid": "f37c2c4c-75a0-4117-bfc8-77fa5ccdebf5",
     "showTitle": false,
     "tableResultSettingsMap": {},
     "title": ""
    }
   },
   "outputs": [],
   "source": [
    "spark.sql(f\"\"\"\n",
    "CREATE TABLE IF NOT EXISTS {catalog_name}.udp_wcm_silver_realtime.pos_wcm_saleout_payment\n",
    "(\n",
    "hash_id BIGINT,\n",
    "  receipt_no STRING,\n",
    "  pos_no STRING,\n",
    "  store_id STRING,\n",
    "  calday DATE,\n",
    "  caltime STRING,\n",
    "  line_no Double,\n",
    "  ref_no STRING,\n",
    "  approval_code STRING,\n",
    "  bank_card_type STRING,\n",
    "  bank_pos_code STRING,\n",
    "  is_online Boolean,\n",
    "  tender_type STRING,\n",
    "  payment_amt_tendered Double,\n",
    "  payment_amt_in_currency Double,\n",
    "  exchange_rate Double,\n",
    "  proc_date TIMESTAMP\n",
    ") \n",
    "TBLPROPERTIES (\n",
    "  'DELTA.AUTOOPTIMIZE.OPTIMIZEWRITE' = 'true',\n",
    "  'DELTA.AUTOOPTIMIZE.AUTOCOMPACT' = 'true'\n",
    ")\n",
    "\"\"\")"
   ]
  },
  {
   "cell_type": "code",
   "execution_count": 0,
   "metadata": {
    "application/vnd.databricks.v1+cell": {
     "cellMetadata": {
      "byteLimit": 2048000,
      "rowLimit": 10000
     },
     "inputWidgets": {},
     "nuid": "40c51341-fb69-42a7-9234-19b24259aa13",
     "showTitle": false,
     "tableResultSettingsMap": {},
     "title": ""
    }
   },
   "outputs": [],
   "source": [
    "spark.sql(\n",
    "    f\"\"\"\n",
    "CREATE OR REPLACE TEMP VIEW view_pos_wcm_saleout_payment as\n",
    "WITH dat AS (\n",
    "    SELECT    LTRIM('0',main_tbl.ReceiptNo) AS receipt_no,\n",
    "               LTRIM('0',main_tbl.PosNo) AS pos_no,\n",
    "               LTRIM('0',main_tbl.StoreCode) AS store_id, \n",
    "               to_date(to_timestamp(main_tbl.calendarday, 'MM/dd/yyyy HH:mm:ss')) AS calday,\n",
    "               date_format(to_timestamp(substr(main_tbl.TranTime, 1, 6), 'HHmmss'),'HH:mm:ss') AS caltime,\n",
    "               TransPaymentEntry1.LineNo AS line_no,\n",
    "               TransPaymentEntry1.ReferenceNo AS ref_no,\n",
    "               TransPaymentEntry1.ApprovalCode AS approval_code,\n",
    "               TransPaymentEntry1.BankCardType AS bank_card_type,\n",
    "               TransPaymentEntry1.BankPOSCode AS bank_pos_code,\n",
    "               TransPaymentEntry1.IsOnline AS is_online,\n",
    "               TransPaymentEntry1.TenderType AS tender_type,\n",
    "               TransPaymentEntry1.AmountTendered AS payment_amt_tendered,\n",
    "               TransPaymentEntry1.AmountInCurrency AS payment_amt_in_currency,\n",
    "               TransPaymentEntry1.ExchangeRate AS exchange_rate,\n",
    "               TO_TIMESTAMP(main_tbl.ProcDate, 'yyyyMMddHHmmss') AS proc_date\n",
    "     FROM temp_pos_wcm_saleout main_tbl\n",
    "     LATERAL VIEW explode(main_tbl.TransPaymentEntry)  AS TransPaymentEntry1 \n",
    "   )\n",
    "   SELECT\n",
    "     farm_fingerprint(CONCAT(\n",
    "         COALESCE(CAST(receipt_no AS STRING), \"\"),\n",
    "         COALESCE(CAST(line_no AS STRING), \"\"),\n",
    "         COALESCE(CAST(store_id AS STRING), \"\")\n",
    "     )) AS hash_id,\n",
    "           *\n",
    "   FROM    dat\n",
    "   QUALIFY ROW_NUMBER() OVER (PARTITION BY receipt_no, CAST(line_no AS BIGINT), store_id ORDER BY proc_date DESC) = 1\n",
    "\"\"\"\n",
    ")"
   ]
  },
  {
   "cell_type": "code",
   "execution_count": 0,
   "metadata": {
    "application/vnd.databricks.v1+cell": {
     "cellMetadata": {
      "byteLimit": 2048000,
      "rowLimit": 10000
     },
     "inputWidgets": {},
     "nuid": "f5ecad70-cd06-4999-a4d0-ae9c47fb2536",
     "showTitle": false,
     "tableResultSettingsMap": {},
     "title": ""
    }
   },
   "outputs": [],
   "source": [
    "spark.sql(f\"DELETE FROM {catalog_name}.udp_wcm_silver_realtime.pos_wcm_saleout_payment WHERE RECEIPT_NO IN (SELECT RECEIPT_NO FROM view_pos_wcm_saleout_payment)\")"
   ]
  },
  {
   "cell_type": "code",
   "execution_count": 0,
   "metadata": {
    "application/vnd.databricks.v1+cell": {
     "cellMetadata": {
      "byteLimit": 2048000,
      "rowLimit": 10000
     },
     "inputWidgets": {},
     "nuid": "62812c93-19cb-4642-be26-3a115a079269",
     "showTitle": false,
     "tableResultSettingsMap": {},
     "title": ""
    }
   },
   "outputs": [],
   "source": [
    "spark.sql(f\"INSERT INTO {catalog_name}.udp_wcm_silver_realtime.pos_wcm_saleout_payment SELECT * FROM view_pos_wcm_saleout_payment\")"
   ]
  }
 ],
 "metadata": {
  "application/vnd.databricks.v1+notebook": {
   "computePreferences": null,
   "dashboards": [],
   "environmentMetadata": {
    "base_environment": "",
    "environment_version": "2"
   },
   "inputWidgetPreferences": null,
   "language": "python",
   "notebookMetadata": {
    "mostRecentlyExecutedCommandWithImplicitDF": {
     "commandId": 6350561386731151,
     "dataframes": [
      "_sqldf"
     ]
    },
    "pythonIndentUnit": 4
   },
   "notebookName": "pos_wcm_saleout_payment",
   "widgets": {
    "environment": {
     "currentValue": "DEV",
     "nuid": "7b1a62e3-3bc8-4ffe-aeb7-9fa2b769b8b7",
     "typedWidgetInfo": {
      "autoCreated": false,
      "defaultValue": "",
      "label": null,
      "name": "environment",
      "options": {
       "widgetDisplayType": "Text",
       "validationRegex": null
      },
      "parameterDataType": "String"
     },
     "widgetInfo": {
      "widgetType": "text",
      "defaultValue": "",
      "label": null,
      "name": "environment",
      "options": {
       "widgetType": "text",
       "autoCreated": null,
       "validationRegex": null
      }
     }
    },
    "proc_date": {
     "currentValue": "2025-07-15",
     "nuid": "8b586a54-f2aa-4379-a533-ca6c4f70bb37",
     "typedWidgetInfo": {
      "autoCreated": false,
      "defaultValue": "",
      "label": null,
      "name": "proc_date",
      "options": {
       "widgetDisplayType": "Text",
       "validationRegex": null
      },
      "parameterDataType": "String"
     },
     "widgetInfo": {
      "widgetType": "text",
      "defaultValue": "",
      "label": null,
      "name": "proc_date",
      "options": {
       "widgetType": "text",
       "autoCreated": null,
       "validationRegex": null
      }
     }
    }
   }
  },
  "language_info": {
   "name": "python"
  }
 },
 "nbformat": 4,
 "nbformat_minor": 0
}
