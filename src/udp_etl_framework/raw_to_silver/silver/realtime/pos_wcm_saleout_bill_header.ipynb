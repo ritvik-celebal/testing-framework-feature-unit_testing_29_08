{
 "cells": [
  {
   "cell_type": "code",
   "execution_count": 0,
   "metadata": {
    "application/vnd.databricks.v1+cell": {
     "cellMetadata": {
      "byteLimit": 2048000,
      "rowLimit": 10000
     },
     "inputWidgets": {},
     "nuid": "db7a707a-83d2-48ed-9c2c-e8d812fc433e",
     "showTitle": false,
     "tableResultSettingsMap": {},
     "title": ""
    }
   },
   "outputs": [],
   "source": [
    "dbutils.widgets.text(\"proc_date\", \"\")\n",
    "proc_date = dbutils.widgets.get(\"proc_date\")"
   ]
  },
  {
   "cell_type": "code",
   "execution_count": 0,
   "metadata": {
    "application/vnd.databricks.v1+cell": {
     "cellMetadata": {
      "byteLimit": 2048000,
      "rowLimit": 10000
     },
     "inputWidgets": {},
     "nuid": "8e61964f-d848-4908-90cc-c244b0241d2a",
     "showTitle": false,
     "tableResultSettingsMap": {},
     "title": ""
    }
   },
   "outputs": [],
   "source": [
    "next_layer = \"silver\""
   ]
  },
  {
   "cell_type": "code",
   "execution_count": 0,
   "metadata": {
    "application/vnd.databricks.v1+cell": {
     "cellMetadata": {
      "byteLimit": 2048000,
      "rowLimit": 10000
     },
     "inputWidgets": {},
     "nuid": "8444affc-e014-42f8-9d8f-f5a2d1371302",
     "showTitle": false,
     "tableResultSettingsMap": {},
     "title": ""
    }
   },
   "outputs": [],
   "source": [
    "%run ../../../utils/common"
   ]
  },
  {
   "cell_type": "code",
   "execution_count": 0,
   "metadata": {
    "application/vnd.databricks.v1+cell": {
     "cellMetadata": {
      "byteLimit": 2048000,
      "rowLimit": 10000
     },
     "inputWidgets": {},
     "nuid": "d0b5e97c-556e-4b27-b552-a3a9ce935b3b",
     "showTitle": false,
     "tableResultSettingsMap": {},
     "title": ""
    }
   },
   "outputs": [],
   "source": [
    "dbutils.widgets.text(\"environment\", \"\")\n",
    "environment = dbutils.widgets.get(\"environment\")"
   ]
  },
  {
   "cell_type": "code",
   "execution_count": 0,
   "metadata": {
    "application/vnd.databricks.v1+cell": {
     "cellMetadata": {
      "byteLimit": 2048000,
      "rowLimit": 10000
     },
     "inputWidgets": {},
     "nuid": "a5484cb2-f4cc-488e-bdf2-f06d01d5a27d",
     "showTitle": false,
     "tableResultSettingsMap": {},
     "title": ""
    }
   },
   "outputs": [],
   "source": [
    "catalog_name = settings[environment]['catalog_name']"
   ]
  },
  {
   "cell_type": "code",
   "execution_count": 0,
   "metadata": {
    "application/vnd.databricks.v1+cell": {
     "cellMetadata": {
      "byteLimit": 2048000,
      "rowLimit": 10000
     },
     "inputWidgets": {},
     "nuid": "2b486dac-6d93-4a4b-8e1d-84c600ab969e",
     "showTitle": false,
     "tableResultSettingsMap": {},
     "title": ""
    }
   },
   "outputs": [],
   "source": [
    "# Dynamic select query to read the data for specific proc_date\n",
    "dynamic_query = f\"\"\" CREATE OR REPLACE TEMP VIEW temp_pos_wcm_saleout AS SELECT *\n",
    "FROM udp_wcm_pro.udp_wcm_bronze_pro.pos_wcm_saleout\n",
    "WHERE ProcDate like '{str(proc_date).replace('-', '')}%'\n",
    "\"\"\"\n",
    "\n",
    "# Execute the query\n",
    "spark.sql(dynamic_query)"
   ]
  },
  {
   "cell_type": "code",
   "execution_count": 0,
   "metadata": {
    "application/vnd.databricks.v1+cell": {
     "cellMetadata": {
      "byteLimit": 2048000,
      "rowLimit": 10000
     },
     "inputWidgets": {},
     "nuid": "f8a0d51e-d3d5-4da5-aab7-f17d1ed40cf3",
     "showTitle": false,
     "tableResultSettingsMap": {},
     "title": ""
    }
   },
   "outputs": [],
   "source": [
    "spark.sql(f\"\"\"\n",
    "CREATE TABLE IF NOT EXISTS {catalog_name}.udp_wcm_silver_realtime.pos_wcm_saleout_bill_header\n",
    "(\n",
    "hash_id BIGINT,\n",
    "receipt_no STRING,\n",
    "pos_no STRING,\n",
    "store_id STRING,\n",
    "calday DATE,\n",
    "caltime STRING, --BQ datatype for column caltime was TIME but in databricks we don't have it so kept string\n",
    "member_card_no STRING,\n",
    "vinid_csn STRING,\n",
    "header_ref_01 STRING,\n",
    "header_ref_02 STRING,\n",
    "header_ref_03 STRING,\n",
    "header_ref_04 STRING,\n",
    "header_ref_05 STRING,\n",
    "proc_date TIMESTAMP\n",
    ") \n",
    "TBLPROPERTIES (\n",
    "  'DELTA.AUTOOPTIMIZE.OPTIMIZEWRITE' = 'true',\n",
    "  'DELTA.AUTOOPTIMIZE.AUTOCOMPACT' = 'true'\n",
    ")\n",
    "\"\"\")"
   ]
  },
  {
   "cell_type": "code",
   "execution_count": 0,
   "metadata": {
    "application/vnd.databricks.v1+cell": {
     "cellMetadata": {
      "byteLimit": 2048000,
      "rowLimit": 10000
     },
     "inputWidgets": {},
     "nuid": "ff941114-327e-41e1-a2d6-328b50131c98",
     "showTitle": false,
     "tableResultSettingsMap": {},
     "title": ""
    }
   },
   "outputs": [],
   "source": [
    "spark.sql(\n",
    "    f\"\"\"\n",
    "CREATE OR REPLACE TEMP VIEW view_pos_wcm_saleout_bill_header as\n",
    "WITH dat AS (\n",
    "    SELECT \n",
    "        LTRIM('0', main_tbl.ReceiptNo) AS receipt_no,\n",
    "        LTRIM('0', main_tbl.PosNo) AS pos_no,\n",
    "        LTRIM('0', main_tbl.StoreCode) AS store_id,\n",
    "        TO_DATE(TO_TIMESTAMP(main_tbl.CalendarDay, 'MM/dd/yyyy HH:mm:ss')) AS calday,\n",
    "        date_format(to_timestamp(substr(TranTime, 1, 6), 'HHmmss'),'HH:mm:ss') AS caltime,\n",
    "        main_tbl.MemberCardNo AS member_card_no,\n",
    "        main_tbl.VinidCsn AS vinid_csn,\n",
    "        main_tbl.header_ref_01 AS header_ref_01,\n",
    "        main_tbl.header_ref_02 AS header_ref_02,\n",
    "        main_tbl.header_ref_03 AS header_ref_03,\n",
    "        main_tbl.header_ref_04 AS header_ref_04,\n",
    "        main_tbl.header_ref_05 AS header_ref_05,\n",
    "        TO_TIMESTAMP(main_tbl.ProcDate, 'yyyyMMddHHmmss') AS proc_date,\n",
    "        transline1.MemberPointsEarn as member_points_earn,\n",
    "        transline1.MemberPointsRedeem as member_points_redeem\n",
    "        FROM temp_pos_wcm_saleout AS main_tbl LATERAL VIEW EXPLODE(main_tbl.TransLine) AS transline1\n",
    ")\n",
    "SELECT \n",
    "    farm_fingerprint(CONCAT(\n",
    "        IFNULL(CAST(receipt_no AS STRING), \"\"),\n",
    "        IFNULL(CAST(pos_no AS STRING), \"\"),\n",
    "        IFNULL(CAST(store_id AS STRING), \"\")\n",
    "    )) AS hash_id,\n",
    "    *\n",
    "FROM dat\n",
    "QUALIFY ROW_NUMBER() OVER (PARTITION BY receipt_no ORDER BY proc_date DESC) = 1     \n",
    "\"\"\"\n",
    ")"
   ]
  },
  {
   "cell_type": "code",
   "execution_count": 0,
   "metadata": {
    "application/vnd.databricks.v1+cell": {
     "cellMetadata": {
      "byteLimit": 2048000,
      "rowLimit": 10000
     },
     "inputWidgets": {},
     "nuid": "1da60b37-3bc9-4802-83e7-a0770a5a7a6d",
     "showTitle": false,
     "tableResultSettingsMap": {},
     "title": ""
    }
   },
   "outputs": [],
   "source": [
    "spark.sql(f\"DELETE FROM {catalog_name}.udp_wcm_silver_realtime.pos_wcm_saleout_bill_header WHERE RECEIPT_NO IN (SELECT RECEIPT_NO FROM view_pos_wcm_saleout_bill_header)\")"
   ]
  },
  {
   "cell_type": "code",
   "execution_count": 0,
   "metadata": {
    "application/vnd.databricks.v1+cell": {
     "cellMetadata": {
      "byteLimit": 2048000,
      "rowLimit": 10000
     },
     "inputWidgets": {},
     "nuid": "c1de86cb-8ab3-41ab-aac4-fa11d607033b",
     "showTitle": false,
     "tableResultSettingsMap": {},
     "title": ""
    }
   },
   "outputs": [],
   "source": [
    "spark.sql(f\"INSERT INTO {catalog_name}.udp_wcm_silver_realtime.pos_wcm_saleout_bill_header SELECT * FROM view_pos_wcm_saleout_bill_header\")"
   ]
  }
 ],
 "metadata": {
  "application/vnd.databricks.v1+notebook": {
   "computePreferences": null,
   "dashboards": [],
   "environmentMetadata": {
    "base_environment": "",
    "environment_version": "2"
   },
   "inputWidgetPreferences": null,
   "language": "python",
   "notebookMetadata": {
    "mostRecentlyExecutedCommandWithImplicitDF": {
     "commandId": 7367573557502587,
     "dataframes": [
      "_sqldf"
     ]
    },
    "pythonIndentUnit": 4
   },
   "notebookName": "pos_wcm_saleout_bill_header",
   "widgets": {
    "environment": {
     "currentValue": "DEV",
     "nuid": "e9ff3429-9b5c-444d-80e9-7f20f23149a4",
     "typedWidgetInfo": {
      "autoCreated": false,
      "defaultValue": "",
      "label": null,
      "name": "environment",
      "options": {
       "widgetDisplayType": "Text",
       "validationRegex": null
      },
      "parameterDataType": "String"
     },
     "widgetInfo": {
      "widgetType": "text",
      "defaultValue": "",
      "label": null,
      "name": "environment",
      "options": {
       "widgetType": "text",
       "autoCreated": null,
       "validationRegex": null
      }
     }
    },
    "proc_date": {
     "currentValue": "2025-07-21",
     "nuid": "de5bfc1b-b18a-4302-ad47-c994b573484a",
     "typedWidgetInfo": {
      "autoCreated": false,
      "defaultValue": "",
      "label": null,
      "name": "proc_date",
      "options": {
       "widgetDisplayType": "Text",
       "validationRegex": null
      },
      "parameterDataType": "String"
     },
     "widgetInfo": {
      "widgetType": "text",
      "defaultValue": "",
      "label": null,
      "name": "proc_date",
      "options": {
       "widgetType": "text",
       "autoCreated": null,
       "validationRegex": null
      }
     }
    }
   }
  },
  "language_info": {
   "name": "python"
  }
 },
 "nbformat": 4,
 "nbformat_minor": 0
}
