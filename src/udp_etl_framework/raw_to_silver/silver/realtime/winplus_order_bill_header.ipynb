{
 "cells": [
  {
   "cell_type": "code",
   "execution_count": 0,
   "metadata": {
    "application/vnd.databricks.v1+cell": {
     "cellMetadata": {
      "byteLimit": 2048000,
      "rowLimit": 10000
     },
     "inputWidgets": {},
     "nuid": "51451e78-7e5c-4ed5-8865-2b7c1fb97f38",
     "showTitle": false,
     "tableResultSettingsMap": {},
     "title": ""
    }
   },
   "outputs": [],
   "source": [
    "dbutils.widgets.text(\"proc_date\", \"\")\n",
    "proc_date = dbutils.widgets.get(\"proc_date\")"
   ]
  },
  {
   "cell_type": "code",
   "execution_count": 0,
   "metadata": {
    "application/vnd.databricks.v1+cell": {
     "cellMetadata": {
      "byteLimit": 2048000,
      "rowLimit": 10000
     },
     "inputWidgets": {},
     "nuid": "965519d6-bd54-4611-b268-00c40e8504ea",
     "showTitle": false,
     "tableResultSettingsMap": {},
     "title": ""
    }
   },
   "outputs": [],
   "source": [
    "next_layer = \"silver\""
   ]
  },
  {
   "cell_type": "code",
   "execution_count": 0,
   "metadata": {
    "application/vnd.databricks.v1+cell": {
     "cellMetadata": {
      "byteLimit": 2048000,
      "rowLimit": 10000
     },
     "inputWidgets": {},
     "nuid": "8667fd2b-2f2c-4c19-9f16-5e18fe17d49a",
     "showTitle": false,
     "tableResultSettingsMap": {},
     "title": ""
    }
   },
   "outputs": [],
   "source": [
    "%run ../../../utils/common"
   ]
  },
  {
   "cell_type": "code",
   "execution_count": 0,
   "metadata": {
    "application/vnd.databricks.v1+cell": {
     "cellMetadata": {
      "byteLimit": 2048000,
      "rowLimit": 10000
     },
     "inputWidgets": {},
     "nuid": "1e59b886-bf49-4375-8d02-5224b96daf69",
     "showTitle": false,
     "tableResultSettingsMap": {},
     "title": ""
    }
   },
   "outputs": [],
   "source": [
    "dbutils.widgets.text(\"environment\", \"\", \"\")\n",
    "environment = dbutils.widgets.get(\"environment\")"
   ]
  },
  {
   "cell_type": "code",
   "execution_count": 0,
   "metadata": {
    "application/vnd.databricks.v1+cell": {
     "cellMetadata": {
      "byteLimit": 2048000,
      "rowLimit": 10000
     },
     "inputWidgets": {},
     "nuid": "9c13559c-c0a2-4678-affc-4565f7f0a44d",
     "showTitle": false,
     "tableResultSettingsMap": {},
     "title": ""
    }
   },
   "outputs": [],
   "source": [
    "catalog_name = settings[environment]['catalog_name']"
   ]
  },
  {
   "cell_type": "code",
   "execution_count": 0,
   "metadata": {
    "application/vnd.databricks.v1+cell": {
     "cellMetadata": {},
     "inputWidgets": {},
     "nuid": "3f616f16-bcfc-4823-a52b-d05667a62299",
     "showTitle": false,
     "tableResultSettingsMap": {},
     "title": ""
    }
   },
   "outputs": [],
   "source": [
    "# Dynamic select query to read the data for specific proc_date\n",
    "dynamic_query = f\"\"\" CREATE OR REPLACE TEMP VIEW temp_rop_winplus_order AS SELECT *\n",
    "FROM udp_wcm_pro.udp_wcm_bronze_pro.rop_winplus_order\n",
    "WHERE ProcDate like '{str(proc_date).replace('-', '')}%'\n",
    "\"\"\"\n",
    "\n",
    "# Execute the query\n",
    "spark.sql(dynamic_query)"
   ]
  },
  {
   "cell_type": "code",
   "execution_count": 0,
   "metadata": {
    "application/vnd.databricks.v1+cell": {
     "cellMetadata": {
      "byteLimit": 2048000,
      "rowLimit": 10000
     },
     "inputWidgets": {},
     "nuid": "f5c85ae8-026a-4dde-b046-2da5974a3fae",
     "showTitle": false,
     "tableResultSettingsMap": {},
     "title": ""
    }
   },
   "outputs": [],
   "source": [
    "spark.sql(f\"\"\"\n",
    "CREATE TABLE IF NOT EXISTS {catalog_name}.udp_wcm_silver_realtime.winplus_order_bill_header\n",
    "(\n",
    "  hash_id BIGINT,\n",
    "  receipt_no STRING,\n",
    "  calday DATE,\n",
    "  pos_no STRING,\n",
    "  store_id STRING,\n",
    "  store_name STRING,\n",
    "  sale_type STRING,\n",
    "  member_type STRING,\n",
    "  customer_name STRING,\n",
    "  total_amount DOUBLE,\n",
    "  total_amount_cash DOUBLE,\n",
    "  total_amount_other DOUBLE,\n",
    "  customer_phone STRING,\n",
    "  proc_date TIMESTAMP\n",
    ") \n",
    "TBLPROPERTIES (\n",
    "  'DELTA.AUTOOPTIMIZE.OPTIMIZEWRITE' = 'true',\n",
    "  'DELTA.AUTOOPTIMIZE.AUTOCOMPACT' = 'true'\n",
    ")\n",
    "\"\"\")"
   ]
  },
  {
   "cell_type": "code",
   "execution_count": 0,
   "metadata": {
    "application/vnd.databricks.v1+cell": {
     "cellMetadata": {
      "byteLimit": 2048000,
      "rowLimit": 10000
     },
     "inputWidgets": {},
     "nuid": "9c948460-ec33-4669-a0c8-c15fffaf24c2",
     "showTitle": false,
     "tableResultSettingsMap": {},
     "title": ""
    }
   },
   "outputs": [],
   "source": [
    "spark.sql(\n",
    "    f\"\"\"\n",
    "CREATE OR REPLACE TEMP VIEW view_winplus_order_bill_header as\n",
    "WITH dat AS (\n",
    "    SELECT\n",
    "         ROW_NUMBER() OVER (PARTITION BY main_tbl.BillCode, main_tbl.PosCode, main_tbl.StoreId ORDER BY ProcDate DESC) rn,\n",
    "         main_tbl.BillCode receipt_no,\n",
    "         CASE\n",
    "            WHEN try_to_timestamp(main_tbl.BillDate, 'MM/dd/yyyy HH:mm:ss') IS NOT NULL\n",
    "              THEN TO_DATE(try_to_timestamp(main_tbl.BillDate, 'MM/dd/yyyy HH:mm:ss'))\n",
    "            WHEN try_to_timestamp(main_tbl.BillDate, 'dd/MM/yyyy HH:mm:ss') IS NOT NULL\n",
    "              THEN TO_DATE(try_to_timestamp(main_tbl.BillDate, 'dd/MM/yyyy HH:mm:ss'))\n",
    "            WHEN try_to_timestamp(main_tbl.BillDate, 'dd/MM/yyyy') IS NOT NULL\n",
    "              THEN TO_DATE(try_to_timestamp(main_tbl.BillDate, 'dd/MM/yyyy'))\n",
    "            WHEN try_to_timestamp(main_tbl.BillDate, 'MM/dd/yyyy') IS NOT NULL\n",
    "              THEN TO_DATE(try_to_timestamp(main_tbl.BillDate, 'MM/dd/yyyy'))\n",
    "            ELSE NULL\n",
    "         END AS calday,\n",
    "         main_tbl.PosCode pos_no,\n",
    "         main_tbl.StoreId store_id,\n",
    "         main_tbl.StoreName store_name,\n",
    "         main_tbl.SaleType sale_type,\n",
    "         main_tbl.MemberType member_type,\n",
    "         main_tbl.CustomerName customer_name,\n",
    "         main_tbl.TotalAmountItem total_amount,\n",
    "         main_tbl.TotalCashAmount total_amount_cash,\n",
    "         main_tbl.TotalOtherAmount total_amount_other,\n",
    "         main_tbl.CustomerPhone customer_phone,\n",
    "         TO_TIMESTAMP(main_tbl.ProcDate, 'yyyyMMddHHmmss') AS proc_date\n",
    "     FROM temp_rop_winplus_order main_tbl\n",
    " )\n",
    " SELECT\n",
    "     farm_fingerprint(CONCAT( \n",
    "       IFNULL(CAST(receipt_no AS STRING), \"\"),\n",
    "       IFNULL(CAST(pos_no AS STRING), \"\"),\n",
    "       IFNULL(CAST(store_id AS STRING), \"\")\n",
    "     )) HASH_ID,\n",
    "     * EXCEPT (rn)\n",
    " FROM dat\n",
    " WHERE rn = 1   \n",
    "\"\"\"\n",
    ")"
   ]
  },
  {
   "cell_type": "code",
   "execution_count": 0,
   "metadata": {
    "application/vnd.databricks.v1+cell": {
     "cellMetadata": {},
     "inputWidgets": {},
     "nuid": "ed0ac342-5a03-4909-b59b-0f6c6e344f23",
     "showTitle": false,
     "tableResultSettingsMap": {},
     "title": ""
    }
   },
   "outputs": [],
   "source": [
    "spark.sql(f\"DELETE FROM {catalog_name}.udp_wcm_silver_realtime.winplus_order_bill_header WHERE RECEIPT_NO IN (SELECT RECEIPT_NO FROM view_winplus_order_bill_header)\")"
   ]
  },
  {
   "cell_type": "code",
   "execution_count": 0,
   "metadata": {
    "application/vnd.databricks.v1+cell": {
     "cellMetadata": {
      "byteLimit": 2048000,
      "rowLimit": 10000
     },
     "inputWidgets": {},
     "nuid": "2ddb49f8-cef4-4c12-8e0e-e628136e26dc",
     "showTitle": false,
     "tableResultSettingsMap": {},
     "title": ""
    }
   },
   "outputs": [],
   "source": [
    "spark.sql(f\"INSERT INTO {catalog_name}.udp_wcm_silver_realtime.winplus_order_bill_header SELECT * FROM view_winplus_order_bill_header\")"
   ]
  }
 ],
 "metadata": {
  "application/vnd.databricks.v1+notebook": {
   "computePreferences": null,
   "dashboards": [],
   "environmentMetadata": {
    "base_environment": "",
    "environment_version": "2"
   },
   "inputWidgetPreferences": null,
   "language": "python",
   "notebookMetadata": {
    "mostRecentlyExecutedCommandWithImplicitDF": {
     "commandId": 4733040628675792,
     "dataframes": [
      "_sqldf"
     ]
    },
    "pythonIndentUnit": 4
   },
   "notebookName": "winplus_order_bill_header",
   "widgets": {
    "environment": {
     "currentValue": "DEV",
     "nuid": "5a52cdaa-d84d-436c-bdf7-95e165a2ae7b",
     "typedWidgetInfo": {
      "autoCreated": false,
      "defaultValue": "",
      "label": "",
      "name": "environment",
      "options": {
       "widgetDisplayType": "Text",
       "validationRegex": null
      },
      "parameterDataType": "String"
     },
     "widgetInfo": {
      "widgetType": "text",
      "defaultValue": "",
      "label": "",
      "name": "environment",
      "options": {
       "widgetType": "text",
       "autoCreated": null,
       "validationRegex": null
      }
     }
    },
    "proc_date": {
     "currentValue": "2025-06-30",
     "nuid": "57daab0d-9831-49a5-a9a3-83dd07b54710",
     "typedWidgetInfo": {
      "autoCreated": false,
      "defaultValue": "",
      "label": null,
      "name": "proc_date",
      "options": {
       "widgetDisplayType": "Text",
       "validationRegex": null
      },
      "parameterDataType": "String"
     },
     "widgetInfo": {
      "widgetType": "text",
      "defaultValue": "",
      "label": null,
      "name": "proc_date",
      "options": {
       "widgetType": "text",
       "autoCreated": null,
       "validationRegex": null
      }
     }
    }
   }
  },
  "language_info": {
   "name": "python"
  }
 },
 "nbformat": 4,
 "nbformat_minor": 0
}
