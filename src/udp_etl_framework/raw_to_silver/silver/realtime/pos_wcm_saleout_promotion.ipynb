{
 "cells": [
  {
   "cell_type": "code",
   "execution_count": 0,
   "metadata": {
    "application/vnd.databricks.v1+cell": {
     "cellMetadata": {
      "byteLimit": 2048000,
      "rowLimit": 10000
     },
     "inputWidgets": {},
     "nuid": "b19600d7-154f-404e-b6f1-8402bc4c91f4",
     "showTitle": false,
     "tableResultSettingsMap": {},
     "title": ""
    }
   },
   "outputs": [],
   "source": [
    "dbutils.widgets.text(\"proc_date\", \"\")\n",
    "proc_date = dbutils.widgets.get(\"proc_date\")"
   ]
  },
  {
   "cell_type": "code",
   "execution_count": 0,
   "metadata": {
    "application/vnd.databricks.v1+cell": {
     "cellMetadata": {
      "byteLimit": 2048000,
      "rowLimit": 10000
     },
     "inputWidgets": {},
     "nuid": "f8521207-dcd7-42c6-a724-30a308946d71",
     "showTitle": false,
     "tableResultSettingsMap": {},
     "title": ""
    }
   },
   "outputs": [],
   "source": [
    "next_layer = \"silver\""
   ]
  },
  {
   "cell_type": "code",
   "execution_count": 0,
   "metadata": {
    "application/vnd.databricks.v1+cell": {
     "cellMetadata": {
      "byteLimit": 2048000,
      "rowLimit": 10000
     },
     "inputWidgets": {},
     "nuid": "9e5c2773-a266-4173-8b1b-d5153a2bdf25",
     "showTitle": false,
     "tableResultSettingsMap": {},
     "title": ""
    }
   },
   "outputs": [],
   "source": [
    "%run ../../../utils/common"
   ]
  },
  {
   "cell_type": "code",
   "execution_count": 0,
   "metadata": {
    "application/vnd.databricks.v1+cell": {
     "cellMetadata": {
      "byteLimit": 2048000,
      "rowLimit": 10000
     },
     "inputWidgets": {},
     "nuid": "34775c43-9a2f-4861-ba4c-a2a097c3970e",
     "showTitle": false,
     "tableResultSettingsMap": {},
     "title": ""
    }
   },
   "outputs": [],
   "source": [
    "dbutils.widgets.text(\"environment\", \"\")\n",
    "environment = dbutils.widgets.get(\"environment\")\n",
    "print(proc_date)"
   ]
  },
  {
   "cell_type": "code",
   "execution_count": 0,
   "metadata": {
    "application/vnd.databricks.v1+cell": {
     "cellMetadata": {
      "byteLimit": 2048000,
      "rowLimit": 10000
     },
     "inputWidgets": {},
     "nuid": "795dd3c9-9ca2-4289-af5e-876a1566d5f2",
     "showTitle": false,
     "tableResultSettingsMap": {},
     "title": ""
    }
   },
   "outputs": [],
   "source": [
    "catalog_name = settings[environment]['catalog_name']"
   ]
  },
  {
   "cell_type": "code",
   "execution_count": 0,
   "metadata": {
    "application/vnd.databricks.v1+cell": {
     "cellMetadata": {
      "byteLimit": 2048000,
      "rowLimit": 10000
     },
     "inputWidgets": {},
     "nuid": "98eb731f-4c1a-492c-b41a-c704e0eb0612",
     "showTitle": false,
     "tableResultSettingsMap": {},
     "title": ""
    }
   },
   "outputs": [],
   "source": [
    "# Dynamic select query to read the data for specific proc_date\n",
    "dynamic_query = f\"\"\" CREATE OR REPLACE TEMP VIEW temp_pos_wcm_saleout AS SELECT *\n",
    "FROM udp_wcm_pro.udp_wcm_bronze_pro.pos_wcm_saleout\n",
    "WHERE ProcDate like '{str(proc_date).replace('-', '')}%'\n",
    "\"\"\"\n",
    "\n",
    "# Execute the query\n",
    "spark.sql(dynamic_query)"
   ]
  },
  {
   "cell_type": "code",
   "execution_count": 0,
   "metadata": {
    "application/vnd.databricks.v1+cell": {
     "cellMetadata": {
      "byteLimit": 2048000,
      "rowLimit": 10000
     },
     "inputWidgets": {},
     "nuid": "46475f4c-51c5-44e7-9bd4-9fbee359517d",
     "showTitle": false,
     "tableResultSettingsMap": {},
     "title": ""
    }
   },
   "outputs": [],
   "source": [
    "spark.sql(f\"\"\"\n",
    "CREATE TABLE IF NOT EXISTS {catalog_name}.udp_wcm_silver_realtime.pos_wcm_saleout_promotion\n",
    "(\n",
    "hash_id BIGINT,\n",
    "  receipt_no STRING,\n",
    "  pos_no STRING,\n",
    "  store_id STRING,\n",
    "  calday DATE,\n",
    "  caltime STRING,\n",
    "  tran_no STRING,\n",
    "  uom STRING,\n",
    "  line_no STRING,\n",
    "  offer_no STRING,\n",
    "  offer_type STRING,\n",
    "  item_no STRING,\n",
    "  item_qty Double,\n",
    "  discount_amount Double,\n",
    "  proc_date TIMESTAMP\n",
    ") \n",
    "TBLPROPERTIES (\n",
    "  'DELTA.AUTOOPTIMIZE.OPTIMIZEWRITE' = 'true',\n",
    "  'DELTA.AUTOOPTIMIZE.AUTOCOMPACT' = 'true'\n",
    ")\n",
    "\"\"\")"
   ]
  },
  {
   "cell_type": "code",
   "execution_count": 0,
   "metadata": {
    "application/vnd.databricks.v1+cell": {
     "cellMetadata": {
      "byteLimit": 2048000,
      "rowLimit": 10000
     },
     "inputWidgets": {},
     "nuid": "85cad3b1-ef0e-4a33-a4be-f0540ffbd0db",
     "showTitle": false,
     "tableResultSettingsMap": {},
     "title": ""
    }
   },
   "outputs": [],
   "source": [
    "spark.sql(\n",
    "    f\"\"\"\n",
    "CREATE OR REPLACE TEMP VIEW view_pos_wcm_saleout_promotion as\n",
    "WITH dat AS (\n",
    "    SELECT\n",
    "  LTRIM('0',main_tbl.ReceiptNo) receipt_no,\n",
    "  LTRIM('0',main_tbl.PosNo) pos_no,\n",
    "  LTRIM('0',main_tbl.StoreCode) store_id,\n",
    "  to_date(to_timestamp(main_tbl.CalendarDay, 'MM/dd/yyyy HH:mm:ss')) AS calday,\n",
    "  date_format(to_timestamp(substr(main_tbl.TranTime, 1, 6), 'HHmmss'),'HH:mm:ss') AS caltime,\n",
    "  trans.TranNo tran_no,\n",
    "  trans.UOM,\n",
    "  discount.LineNo line_no,\n",
    "  discount.OfferNo offer_no,\n",
    "  discount.OfferType offer_type,\n",
    "  discount.ItemNo item_no,\n",
    "  discount.Quantity item_qty,\n",
    "  discount.DiscountAmount discount_amount,\n",
    "  TO_TIMESTAMP(main_tbl.ProcDate, 'yyyyMMddHHmmss') AS proc_date\n",
    "  FROM temp_pos_wcm_saleout main_tbl \n",
    "  LATERAL VIEW EXPLODE(main_tbl.TransLine) AS trans\n",
    "  LATERAL VIEW EXPLODE(trans.DiscountEntry) AS discount\n",
    "  WHERE main_tbl.ReceiptNo = discount.ReceiptNo\n",
    "    AND trans.TranNo = discount.TranNo\n",
    ")\n",
    "SELECT \n",
    "    farm_fingerprint(CONCAT(\n",
    "        IFNULL(CAST(receipt_no AS STRING), \"\"),\n",
    "        IFNULL(CAST(tran_no AS STRING), \"\"),\n",
    "        IFNULL(CAST(line_no AS STRING), \"\"),\n",
    "        IFNULL(CAST(store_id AS STRING), \"\")\n",
    "    )) AS hash_id,\n",
    "    *\n",
    "FROM dat\n",
    "QUALIFY ROW_NUMBER() OVER (PARTITION BY receipt_no, tran_no, line_no, store_id ORDER BY proc_date DESC) = 1    \n",
    "\"\"\"\n",
    ")"
   ]
  },
  {
   "cell_type": "code",
   "execution_count": 0,
   "metadata": {
    "application/vnd.databricks.v1+cell": {
     "cellMetadata": {
      "byteLimit": 2048000,
      "rowLimit": 10000
     },
     "inputWidgets": {},
     "nuid": "04c6dfff-4a09-42b7-9534-f9c0e63fe80f",
     "showTitle": false,
     "tableResultSettingsMap": {},
     "title": ""
    }
   },
   "outputs": [],
   "source": [
    "spark.sql(f\"DELETE FROM {catalog_name}.udp_wcm_silver_realtime.pos_wcm_saleout_promotion WHERE RECEIPT_NO IN (SELECT RECEIPT_NO FROM view_pos_wcm_saleout_promotion)\")"
   ]
  },
  {
   "cell_type": "code",
   "execution_count": 0,
   "metadata": {
    "application/vnd.databricks.v1+cell": {
     "cellMetadata": {
      "byteLimit": 2048000,
      "rowLimit": 10000
     },
     "inputWidgets": {},
     "nuid": "42664b72-1250-42b3-be66-d5685d8efc96",
     "showTitle": false,
     "tableResultSettingsMap": {},
     "title": ""
    }
   },
   "outputs": [],
   "source": [
    "spark.sql(f\"INSERT INTO {catalog_name}.udp_wcm_silver_realtime.pos_wcm_saleout_promotion SELECT * FROM view_pos_wcm_saleout_promotion\")"
   ]
  }
 ],
 "metadata": {
  "application/vnd.databricks.v1+notebook": {
   "computePreferences": null,
   "dashboards": [],
   "environmentMetadata": {
    "base_environment": "",
    "environment_version": "2"
   },
   "inputWidgetPreferences": null,
   "language": "python",
   "notebookMetadata": {
    "mostRecentlyExecutedCommandWithImplicitDF": {
     "commandId": 7367573557490019,
     "dataframes": [
      "_sqldf"
     ]
    },
    "pythonIndentUnit": 4
   },
   "notebookName": "pos_wcm_saleout_promotion",
   "widgets": {
    "environment": {
     "currentValue": "DEV",
     "nuid": "7b1a62e3-3bc8-4ffe-aeb7-9fa2b769b8b7",
     "typedWidgetInfo": {
      "autoCreated": false,
      "defaultValue": "",
      "label": null,
      "name": "environment",
      "options": {
       "widgetDisplayType": "Text",
       "validationRegex": null
      },
      "parameterDataType": "String"
     },
     "widgetInfo": {
      "widgetType": "text",
      "defaultValue": "",
      "label": null,
      "name": "environment",
      "options": {
       "widgetType": "text",
       "autoCreated": null,
       "validationRegex": null
      }
     }
    },
    "proc_date": {
     "currentValue": "2025-07-14",
     "nuid": "8b586a54-f2aa-4379-a533-ca6c4f70bb37",
     "typedWidgetInfo": {
      "autoCreated": false,
      "defaultValue": "",
      "label": null,
      "name": "proc_date",
      "options": {
       "widgetDisplayType": "Text",
       "validationRegex": null
      },
      "parameterDataType": "String"
     },
     "widgetInfo": {
      "widgetType": "text",
      "defaultValue": "",
      "label": null,
      "name": "proc_date",
      "options": {
       "widgetType": "text",
       "autoCreated": null,
       "validationRegex": null
      }
     }
    }
   }
  },
  "language_info": {
   "name": "python"
  }
 },
 "nbformat": 4,
 "nbformat_minor": 0
}
