{
 "cells": [
  {
   "cell_type": "code",
   "execution_count": 0,
   "metadata": {
    "application/vnd.databricks.v1+cell": {
     "cellMetadata": {
      "byteLimit": 2048000,
      "rowLimit": 10000
     },
     "inputWidgets": {},
     "nuid": "9d6bc253-f35d-417b-8770-5fda817acd27",
     "showTitle": false,
     "tableResultSettingsMap": {},
     "title": ""
    }
   },
   "outputs": [],
   "source": [
    "%run ../../../utils/common"
   ]
  },
  {
   "cell_type": "code",
   "execution_count": 0,
   "metadata": {
    "application/vnd.databricks.v1+cell": {
     "cellMetadata": {
      "byteLimit": 2048000,
      "rowLimit": 10000
     },
     "inputWidgets": {},
     "nuid": "cd522022-807a-4fc1-bf90-3d6bb4022de7",
     "showTitle": false,
     "tableResultSettingsMap": {},
     "title": ""
    }
   },
   "outputs": [],
   "source": [
    "dbutils.widgets.text(\"proc_date\", \"\")\n",
    "proc_date = dbutils.widgets.get(\"proc_date\")\n",
    "dbutils.widgets.text(\"environment\", \"\")\n",
    "environment = dbutils.widgets.get(\"environment\")"
   ]
  },
  {
   "cell_type": "code",
   "execution_count": 0,
   "metadata": {
    "application/vnd.databricks.v1+cell": {
     "cellMetadata": {
      "byteLimit": 2048000,
      "rowLimit": 10000
     },
     "inputWidgets": {},
     "nuid": "9658e7ee-4db1-4868-a60f-9142bfb279ac",
     "showTitle": false,
     "tableResultSettingsMap": {},
     "title": ""
    }
   },
   "outputs": [],
   "source": [
    "catalog_name = settings[environment]['catalog_name']"
   ]
  },
  {
   "cell_type": "code",
   "execution_count": 0,
   "metadata": {
    "application/vnd.databricks.v1+cell": {
     "cellMetadata": {
      "byteLimit": 2048000,
      "rowLimit": 10000
     },
     "inputWidgets": {},
     "nuid": "69642881-a429-4b0b-bd83-0f66242bfb53",
     "showTitle": false,
     "tableResultSettingsMap": {},
     "title": ""
    }
   },
   "outputs": [],
   "source": [
    "\n",
    "# Describe the bronze table to get column names\n",
    "column_list = spark.sql(f\"\"\"DESCRIBE TABLE {catalog_name}.udp_wcm_bronze_realtime.pos_wcm_saleout\"\"\").collect()\n",
    "\n",
    "\n",
    "# Build the dynamic SELECT query with renamed columns\n",
    "dynamic_query = f\"\"\"CREATE OR REPLACE TEMP VIEW temp_pos_wcm_saleout AS SELECT \"\"\"\n",
    "\n",
    "for column in column_list:\n",
    "    clean_col = column[0].replace('/', '_')  # Replace '/' with '_' in column names\n",
    "    dynamic_query += f\"`{column[0]}` AS {clean_col}, \"\n",
    "\n",
    "# Remove trailing comma and add FROM clause with filtering\n",
    "dynamic_query = dynamic_query.rstrip(', ') + f\"\"\"\n",
    "FROM {catalog_name}.udp_wcm_bronze_realtime.pos_wcm_saleout\n",
    "WHERE CAST(try_to_timestamp(ProcDate, 'yyyyMMddHHmmss') AS DATE) = DATE('{proc_date}')\n",
    "\"\"\"\n",
    "\n",
    "# Execute the query\n",
    "spark.sql(dynamic_query)\n",
    "# print(dynamic_query)"
   ]
  },
  {
   "cell_type": "code",
   "execution_count": 0,
   "metadata": {
    "application/vnd.databricks.v1+cell": {
     "cellMetadata": {
      "byteLimit": 2048000,
      "rowLimit": 10000
     },
     "inputWidgets": {},
     "nuid": "69bb6e32-25f3-4eb2-8260-b9858d2df933",
     "showTitle": false,
     "tableResultSettingsMap": {},
     "title": ""
    }
   },
   "outputs": [],
   "source": [
    "pos_wcm_saleout_df = pos_wcm_saleout_df \\\n",
    "    .withColumnRenamed(\"CalendarDay\", \"calendar_day\") \\\n",
    "    .withColumnRenamed(\"Header_ref_01\", \"header_ref_01\") \\\n",
    "    .withColumnRenamed(\"Header_ref_02\", \"header_ref_02\") \\\n",
    "    .withColumnRenamed(\"Header_ref_03\", \"header_ref_03\") \\\n",
    "    .withColumnRenamed(\"Header_ref_04\", \"header_ref_04\") \\\n",
    "    .withColumnRenamed(\"Header_ref_05\", \"header_ref_05\") \\\n",
    "    .withColumnRenamed(\"IsRetry\", \"is_retry\") \\\n",
    "    .withColumnRenamed(\"MemberCardNo\", \"member_card_no\") \\\n",
    "    .withColumnRenamed(\"MemberPointsEarn\", \"member_points_earn\") \\\n",
    "    .withColumnRenamed(\"MemberPointsRedeem\", \"member_points_redeem\") \\\n",
    "    .withColumnRenamed(\"OrderInfo\", \"order_info\") \\\n",
    "    .withColumnRenamed(\"PosNo\", \"pos_no\") \\\n",
    "    .withColumnRenamed(\"ProcDate\", \"proc_date\") \\\n",
    "    .withColumnRenamed(\"ReceiptNo\", \"receipt_no\") \\\n",
    "    .withColumnRenamed(\"StoreCode\", \"store_code\") \\\n",
    "    .withColumnRenamed(\"TranTime\", \"tran_time\") \\\n",
    "    .withColumnRenamed(\"TransDiscountCouponEntry\", \"trans_discount_coupon_entry\") \\\n",
    "    .withColumnRenamed(\"TransLine\", \"trans_line\") \\\n",
    "    .withColumnRenamed(\"TransPaymentEntry\", \"trans_payment_entry\") \\\n",
    "    .withColumnRenamed(\"VinidCsn\", \"vinid_csn\") \\\n",
    "    .withColumnRenamed(\"_rescued_data\", \"_rescued_data\")\n",
    "\n",
    "pos_wcm_saleout_df.createOrReplaceTempView(\"pos_wcm_saleout_vw\")"
   ]
  },
  {
   "cell_type": "code",
   "execution_count": 0,
   "metadata": {
    "application/vnd.databricks.v1+cell": {
     "cellMetadata": {
      "byteLimit": 2048000,
      "rowLimit": 10000
     },
     "inputWidgets": {},
     "nuid": "5f88ca3d-adb0-4177-a1b9-87fb67a2a6a3",
     "showTitle": false,
     "tableResultSettingsMap": {},
     "title": ""
    }
   },
   "outputs": [],
   "source": [
    "spark.sql(f\"\"\"\n",
    "CREATE OR REPLACE TABLE {catalog_name}.udp_wcm_silver_realtime.pos_wcm_saleout\n",
    "TBLPROPERTIES (\n",
    "  'DELTA.AUTOOPTIMIZE.OPTIMIZEWRITE' = 'TRUE',\n",
    "  'DELTA.AUTOOPTIMIZE.AUTOCOMPACT' = 'TRUE'\n",
    ")\n",
    "AS\n",
    "SELECT\n",
    "  *\n",
    "FROM pos_wcm_saleout_vw\n",
    "\"\"\")"
   ]
  }
 ],
 "metadata": {
  "application/vnd.databricks.v1+notebook": {
   "computePreferences": null,
   "dashboards": [],
   "environmentMetadata": {
    "base_environment": "",
    "environment_version": "2"
   },
   "inputWidgetPreferences": null,
   "language": "python",
   "notebookMetadata": {
    "mostRecentlyExecutedCommandWithImplicitDF": {
     "commandId": 6410538414261564,
     "dataframes": [
      "_sqldf"
     ]
    },
    "pythonIndentUnit": 4
   },
   "notebookName": "pos_wcm_saleout",
   "widgets": {
    "environment": {
     "currentValue": "DEV",
     "nuid": "a36fa2a0-4213-4464-aa0a-404aa161416c",
     "typedWidgetInfo": {
      "autoCreated": false,
      "defaultValue": "",
      "label": null,
      "name": "environment",
      "options": {
       "widgetDisplayType": "Text",
       "validationRegex": null
      },
      "parameterDataType": "String"
     },
     "widgetInfo": {
      "widgetType": "text",
      "defaultValue": "",
      "label": null,
      "name": "environment",
      "options": {
       "widgetType": "text",
       "autoCreated": null,
       "validationRegex": null
      }
     }
    },
    "proc_date": {
     "currentValue": "2025-05-31",
     "nuid": "507f0cbd-78d9-4007-8927-cfe9891deb0b",
     "typedWidgetInfo": {
      "autoCreated": false,
      "defaultValue": "",
      "label": null,
      "name": "proc_date",
      "options": {
       "widgetDisplayType": "Text",
       "validationRegex": null
      },
      "parameterDataType": "String"
     },
     "widgetInfo": {
      "widgetType": "text",
      "defaultValue": "",
      "label": null,
      "name": "proc_date",
      "options": {
       "widgetType": "text",
       "autoCreated": null,
       "validationRegex": null
      }
     }
    }
   }
  },
  "language_info": {
   "name": "python"
  }
 },
 "nbformat": 4,
 "nbformat_minor": 0
}
