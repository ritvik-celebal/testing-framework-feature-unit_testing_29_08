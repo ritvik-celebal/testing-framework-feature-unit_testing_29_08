{
 "cells": [
  {
   "cell_type": "code",
   "execution_count": 0,
   "metadata": {
    "application/vnd.databricks.v1+cell": {
     "cellMetadata": {
      "byteLimit": 2048000,
      "rowLimit": 10000
     },
     "inputWidgets": {},
     "nuid": "af2218aa-b154-4747-9752-8b8995d448f9",
     "showTitle": false,
     "tableResultSettingsMap": {},
     "title": ""
    }
   },
   "outputs": [],
   "source": [
    "dbutils.widgets.text(\"proc_date\", \"\")\n",
    "proc_date = dbutils.widgets.get(\"proc_date\")"
   ]
  },
  {
   "cell_type": "code",
   "execution_count": 0,
   "metadata": {
    "application/vnd.databricks.v1+cell": {
     "cellMetadata": {
      "byteLimit": 2048000,
      "rowLimit": 10000
     },
     "inputWidgets": {},
     "nuid": "8e970361-384a-438d-a7d9-41517911429a",
     "showTitle": false,
     "tableResultSettingsMap": {},
     "title": ""
    }
   },
   "outputs": [],
   "source": [
    "next_layer = \"silver\""
   ]
  },
  {
   "cell_type": "code",
   "execution_count": 0,
   "metadata": {
    "application/vnd.databricks.v1+cell": {
     "cellMetadata": {
      "byteLimit": 2048000,
      "rowLimit": 10000
     },
     "inputWidgets": {},
     "nuid": "9375d184-11d6-444c-af2f-fe68d7d0cf60",
     "showTitle": false,
     "tableResultSettingsMap": {},
     "title": ""
    }
   },
   "outputs": [],
   "source": [
    "%run ../../../utils/common"
   ]
  },
  {
   "cell_type": "code",
   "execution_count": 0,
   "metadata": {
    "application/vnd.databricks.v1+cell": {
     "cellMetadata": {
      "byteLimit": 2048000,
      "rowLimit": 10000
     },
     "inputWidgets": {},
     "nuid": "342be63f-9dfa-49fe-bc45-e998b7cfa4e8",
     "showTitle": false,
     "tableResultSettingsMap": {},
     "title": ""
    }
   },
   "outputs": [],
   "source": [
    "dbutils.widgets.text(\"environment\", \"\", \"\")\n",
    "environment = dbutils.widgets.get(\"environment\")\n"
   ]
  },
  {
   "cell_type": "code",
   "execution_count": 0,
   "metadata": {
    "application/vnd.databricks.v1+cell": {
     "cellMetadata": {
      "byteLimit": 2048000,
      "rowLimit": 10000
     },
     "inputWidgets": {},
     "nuid": "960cafb5-2f69-446a-abc2-2711ac0f3f6f",
     "showTitle": false,
     "tableResultSettingsMap": {},
     "title": ""
    }
   },
   "outputs": [],
   "source": [
    "catalog_name = settings[environment]['catalog_name']"
   ]
  },
  {
   "cell_type": "code",
   "execution_count": 0,
   "metadata": {
    "application/vnd.databricks.v1+cell": {
     "cellMetadata": {
      "byteLimit": 2048000,
      "rowLimit": 10000
     },
     "inputWidgets": {},
     "nuid": "662f218a-7f32-4b73-b619-7b80d5dbaa56",
     "showTitle": false,
     "tableResultSettingsMap": {},
     "title": ""
    }
   },
   "outputs": [],
   "source": [
    "# Dynamic select query to read the data for specific proc_date\n",
    "dynamic_query = f\"\"\" CREATE OR REPLACE TEMP VIEW temp_cap_customer_add AS SELECT *\n",
    "FROM udp_wcm_pro.udp_wcm_bronze_pro.cap_customer_add\n",
    "WHERE ProcDate like '{str(proc_date).replace('-', '')}%'\n",
    "\"\"\"\n",
    "\n",
    "# Execute the query\n",
    "spark.sql(dynamic_query)"
   ]
  },
  {
   "cell_type": "code",
   "execution_count": 0,
   "metadata": {
    "application/vnd.databricks.v1+cell": {
     "cellMetadata": {
      "byteLimit": 2048000,
      "implicitDf": true,
      "rowLimit": 10000
     },
     "inputWidgets": {},
     "nuid": "3326b766-71c9-47fe-9d46-6a5a11caa42b",
     "showTitle": false,
     "tableResultSettingsMap": {},
     "title": ""
    }
   },
   "outputs": [],
   "source": [
    "spark.sql(f\"\"\"\n",
    "CREATE TABLE IF NOT EXISTS {catalog_name}.udp_wcm_silver_realtime.capillary_customer_add_event (\n",
    "  event_name STRING,\n",
    "  event_id STRING,\n",
    "  event_log_id STRING,\n",
    "  org_id BIGINT,\n",
    "  ref_id STRING,\n",
    "  api_request_id STRING,\n",
    "  created_at BIGINT,\n",
    "  data STRUCT<loyaltyType: STRING, source: STRING, accountId: STRING, firstName: STRING, enteredAt: BIGINT, enteredBy: STRUCT<id: BIGINT, till: STRUCT<code: STRING, name: STRING>, store: STRUCT<code: STRING, name: STRING, externalId: STRING, externalId1: STRING, externalId2: STRING>>, customerIdentifiers: STRUCT<customerId: BIGINT, loyaltyType: STRING, instore: STRUCT<mobile: BIGINT, email: STRING, externalId: STRING>>, customFields: ARRAY<STRUCT<key: STRING, value: STRING>>, extendedFields: ARRAY<STRUCT<key: STRING, value: STRING>>>,\n",
    "  loyalty_event_id STRING,\n",
    "  proc_date TIMESTAMP)\n",
    "TBLPROPERTIES (\n",
    "  'DELTA.AUTOOPTIMIZE.OPTIMIZEWRITE' = 'true',\n",
    "  'DELTA.AUTOOPTIMIZE.AUTOCOMPACT' = 'true'\n",
    ")\n",
    "\"\"\")"
   ]
  },
  {
   "cell_type": "code",
   "execution_count": 0,
   "metadata": {
    "application/vnd.databricks.v1+cell": {
     "cellMetadata": {
      "byteLimit": 2048000,
      "rowLimit": 10000
     },
     "inputWidgets": {},
     "nuid": "2d1ced12-1297-40e9-8e3c-f06e13d2e2ac",
     "showTitle": false,
     "tableResultSettingsMap": {},
     "title": ""
    }
   },
   "outputs": [],
   "source": [
    "spark.sql(f\"\"\"\n",
    "CREATE OR REPLACE TEMP VIEW view_capillary_customer_add_event as\n",
    "SELECT\n",
    "eventName as event_name,\n",
    "eventID as event_id,\n",
    "eventLogId as event_log_id,\n",
    "orgId as org_id,\n",
    "refId as ref_id,\n",
    "apiRequestId as api_request_id,\n",
    "createdAt as created_at,\n",
    "data as data,\n",
    "loyaltyEventId as loyalty_event_id,\n",
    "TO_TIMESTAMP(ProcDate, 'yyyyMMddHHmmss') AS proc_date\n",
    "FROM temp_cap_customer_add\n",
    "\"\"\")"
   ]
  },
  {
   "cell_type": "code",
   "execution_count": 0,
   "metadata": {
    "application/vnd.databricks.v1+cell": {
     "cellMetadata": {
      "byteLimit": 2048000,
      "rowLimit": 10000
     },
     "inputWidgets": {},
     "nuid": "d058f61d-7882-449e-9411-805aec5b5d98",
     "showTitle": false,
     "tableResultSettingsMap": {},
     "title": ""
    }
   },
   "outputs": [],
   "source": [
    "df_raw = spark.sql(\"\"\"\n",
    "SELECT\n",
    "  eventName AS event_name,\n",
    "  eventID AS event_id,\n",
    "  eventLogId AS event_log_id,\n",
    "  orgId AS org_id,\n",
    "  refId AS ref_id,\n",
    "  apiRequestId AS api_request_id,\n",
    "  createdAt AS created_at,\n",
    "  data,\n",
    "  loyaltyEventId AS loyalty_event_id,\n",
    "  TO_TIMESTAMP(ProcDate, 'yyyyMMddHHmmss') AS proc_date\n",
    "FROM temp_cap_customer_add\n",
    "\"\"\")\n",
    "\n",
    "# Reconstruct the nested data struct exactly as per the target table\n",
    "df_fixed = df_raw.withColumn(\"data\", struct(\n",
    "    col(\"data.loyaltyType\").alias(\"loyaltyType\"),\n",
    "    col(\"data.source\").alias(\"source\"),\n",
    "    col(\"data.accountId\").alias(\"accountId\"),\n",
    "    col(\"data.firstName\").alias(\"firstName\"),\n",
    "    col(\"data.enteredAt\").alias(\"enteredAt\"),\n",
    "    struct(\n",
    "        col(\"data.enteredBy.id\").alias(\"id\"),\n",
    "        struct(\n",
    "            col(\"data.enteredBy.till.code\").alias(\"code\"),\n",
    "            col(\"data.enteredBy.till.name\").alias(\"name\")\n",
    "        ).alias(\"till\"),\n",
    "        struct(\n",
    "            col(\"data.enteredBy.store.code\").alias(\"code\"),\n",
    "            col(\"data.enteredBy.store.name\").alias(\"name\"),\n",
    "            col(\"data.enteredBy.store.externalId\").alias(\"externalId\"),\n",
    "            col(\"data.enteredBy.store.externalId1\").alias(\"externalId1\"),\n",
    "            col(\"data.enteredBy.store.externalId2\").alias(\"externalId2\")\n",
    "        ).alias(\"store\")\n",
    "    ).alias(\"enteredBy\"),\n",
    "    struct(\n",
    "        col(\"data.customerIdentifiers.customerId\").alias(\"customerId\"),\n",
    "        col(\"data.customerIdentifiers.loyaltyType\").alias(\"loyaltyType\"),\n",
    "        struct(\n",
    "            col(\"data.customerIdentifiers.instore.mobile\").cast(LongType()).alias(\"mobile\"),\n",
    "            col(\"data.customerIdentifiers.instore.email\").alias(\"email\"),\n",
    "            col(\"data.customerIdentifiers.instore.externalId\").alias(\"externalId\")\n",
    "        ).alias(\"instore\")\n",
    "    ).alias(\"customerIdentifiers\"),\n",
    "    col(\"data.customFields\").alias(\"customFields\"),\n",
    "    col(\"data.extendedFields\").alias(\"extendedFields\")\n",
    "))\n",
    "\n",
    "# Append to the Delta table\n",
    "df_fixed.write.format(\"delta\").mode(\"append\").saveAsTable(f\"{catalog_name}.udp_wcm_silver_realtime.capillary_customer_add_event\")\n"
   ]
  }
 ],
 "metadata": {
  "application/vnd.databricks.v1+notebook": {
   "computePreferences": null,
   "dashboards": [],
   "environmentMetadata": {
    "base_environment": "",
    "environment_version": "2"
   },
   "inputWidgetPreferences": null,
   "language": "python",
   "notebookMetadata": {
    "mostRecentlyExecutedCommandWithImplicitDF": {
     "commandId": 6385374847145799,
     "dataframes": [
      "_sqldf"
     ]
    },
    "pythonIndentUnit": 4
   },
   "notebookName": "capillary_customer_add_event",
   "widgets": {
    "environment": {
     "currentValue": "DEV",
     "nuid": "8dada19d-fd2b-4653-9b08-c040d00a8638",
     "typedWidgetInfo": {
      "autoCreated": false,
      "defaultValue": "",
      "label": "",
      "name": "environment",
      "options": {
       "widgetDisplayType": "Text",
       "validationRegex": null
      },
      "parameterDataType": "String"
     },
     "widgetInfo": {
      "widgetType": "text",
      "defaultValue": "",
      "label": "",
      "name": "environment",
      "options": {
       "widgetType": "text",
       "autoCreated": null,
       "validationRegex": null
      }
     }
    },
    "proc_date": {
     "currentValue": "2025-07-17",
     "nuid": "2f8ab026-d173-4db9-932a-33770a6458ed",
     "typedWidgetInfo": {
      "autoCreated": false,
      "defaultValue": "",
      "label": null,
      "name": "proc_date",
      "options": {
       "widgetDisplayType": "Text",
       "validationRegex": null
      },
      "parameterDataType": "String"
     },
     "widgetInfo": {
      "widgetType": "text",
      "defaultValue": "",
      "label": null,
      "name": "proc_date",
      "options": {
       "widgetType": "text",
       "autoCreated": null,
       "validationRegex": null
      }
     }
    }
   }
  },
  "language_info": {
   "name": "python"
  }
 },
 "nbformat": 4,
 "nbformat_minor": 0
}
