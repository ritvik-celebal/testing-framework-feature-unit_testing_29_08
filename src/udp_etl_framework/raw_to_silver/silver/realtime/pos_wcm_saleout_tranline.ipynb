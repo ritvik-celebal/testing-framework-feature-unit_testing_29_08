{
 "cells": [
  {
   "cell_type": "code",
   "execution_count": 0,
   "metadata": {
    "application/vnd.databricks.v1+cell": {
     "cellMetadata": {
      "byteLimit": 2048000,
      "rowLimit": 10000
     },
     "inputWidgets": {},
     "nuid": "e630025a-cd6e-4927-b6ba-7676eefb0e7f",
     "showTitle": false,
     "tableResultSettingsMap": {},
     "title": ""
    }
   },
   "outputs": [],
   "source": [
    "dbutils.widgets.text(\"proc_date\", \"\")\n",
    "proc_date = dbutils.widgets.get(\"proc_date\")"
   ]
  },
  {
   "cell_type": "code",
   "execution_count": 0,
   "metadata": {
    "application/vnd.databricks.v1+cell": {
     "cellMetadata": {
      "byteLimit": 2048000,
      "rowLimit": 10000
     },
     "inputWidgets": {},
     "nuid": "807ed083-e2ed-4768-b6e6-87c09b7d4607",
     "showTitle": false,
     "tableResultSettingsMap": {},
     "title": ""
    }
   },
   "outputs": [],
   "source": [
    "next_layer = \"silver\""
   ]
  },
  {
   "cell_type": "code",
   "execution_count": 0,
   "metadata": {
    "application/vnd.databricks.v1+cell": {
     "cellMetadata": {
      "byteLimit": 2048000,
      "rowLimit": 10000
     },
     "inputWidgets": {},
     "nuid": "4fcaf813-f200-41f7-99d2-ceaaf3a0bfe4",
     "showTitle": false,
     "tableResultSettingsMap": {},
     "title": ""
    }
   },
   "outputs": [],
   "source": [
    "%run ../../../utils/common"
   ]
  },
  {
   "cell_type": "code",
   "execution_count": 0,
   "metadata": {
    "application/vnd.databricks.v1+cell": {
     "cellMetadata": {
      "byteLimit": 2048000,
      "rowLimit": 10000
     },
     "inputWidgets": {},
     "nuid": "7160422d-d01f-4289-9396-c0ca7c4a7355",
     "showTitle": false,
     "tableResultSettingsMap": {},
     "title": ""
    }
   },
   "outputs": [],
   "source": [
    "dbutils.widgets.text(\"environment\", \"\")\n",
    "environment = dbutils.widgets.get(\"environment\")"
   ]
  },
  {
   "cell_type": "code",
   "execution_count": 0,
   "metadata": {
    "application/vnd.databricks.v1+cell": {
     "cellMetadata": {
      "byteLimit": 2048000,
      "rowLimit": 10000
     },
     "inputWidgets": {},
     "nuid": "12adb5af-b1fa-42b8-bc0c-e8c90f90019c",
     "showTitle": false,
     "tableResultSettingsMap": {},
     "title": ""
    }
   },
   "outputs": [],
   "source": [
    "catalog_name = settings[environment]['catalog_name']"
   ]
  },
  {
   "cell_type": "code",
   "execution_count": 0,
   "metadata": {
    "application/vnd.databricks.v1+cell": {
     "cellMetadata": {
      "byteLimit": 2048000,
      "rowLimit": 10000
     },
     "inputWidgets": {},
     "nuid": "9b09e533-c1fa-44b4-a4a6-e6c399b8a4a4",
     "showTitle": false,
     "tableResultSettingsMap": {},
     "title": ""
    }
   },
   "outputs": [],
   "source": [
    "# Dynamic select query to read the data for specific proc_date\n",
    "dynamic_query = f\"\"\" CREATE OR REPLACE TEMP VIEW temp_pos_wcm_saleout AS SELECT *\n",
    "FROM udp_wcm_pro.udp_wcm_bronze_pro.pos_wcm_saleout\n",
    "WHERE ProcDate like '{str(proc_date).replace('-', '')}%'\n",
    "\"\"\"\n",
    "\n",
    "# Execute the query\n",
    "spark.sql(dynamic_query)"
   ]
  },
  {
   "cell_type": "code",
   "execution_count": 0,
   "metadata": {
    "application/vnd.databricks.v1+cell": {
     "cellMetadata": {
      "byteLimit": 2048000,
      "rowLimit": 10000
     },
     "inputWidgets": {},
     "nuid": "17916e27-65ae-484b-ade3-183b95206a32",
     "showTitle": false,
     "tableResultSettingsMap": {},
     "title": ""
    }
   },
   "outputs": [],
   "source": [
    "spark.sql(f\"\"\"\n",
    "CREATE TABLE IF NOT EXISTS {catalog_name}.udp_wcm_silver_realtime.pos_wcm_saleout_tranline\n",
    "(\n",
    "  hash_id BIGINT,\n",
    "  receipt_no STRING,\n",
    "  pos_no STRING,\n",
    "  store_id STRING,\n",
    "  calday DATE,\n",
    "  caltime STRING,\n",
    "  price Double,\n",
    "  sale_qty Double,\n",
    "  uom STRING,\n",
    "  product_id STRING,\n",
    "  barcode STRING,\n",
    "  sale_amt Double,\n",
    "  tran_no STRING,\n",
    "  brand STRING,\n",
    "  serial_no STRING,\n",
    "  proc_date TIMESTAMP\n",
    ") \n",
    "TBLPROPERTIES (\n",
    "  'DELTA.AUTOOPTIMIZE.OPTIMIZEWRITE' = 'true',\n",
    "  'DELTA.AUTOOPTIMIZE.AUTOCOMPACT' = 'true'\n",
    ")\n",
    "\"\"\")"
   ]
  },
  {
   "cell_type": "code",
   "execution_count": 0,
   "metadata": {
    "application/vnd.databricks.v1+cell": {
     "cellMetadata": {
      "byteLimit": 2048000,
      "rowLimit": 10000
     },
     "inputWidgets": {},
     "nuid": "98459c00-2390-495a-aa41-5e2fcd3ad0d4",
     "showTitle": false,
     "tableResultSettingsMap": {},
     "title": ""
    }
   },
   "outputs": [],
   "source": [
    "spark.sql(\n",
    "    f\"\"\"\n",
    "CREATE OR REPLACE TEMP VIEW view_pos_wcm_saleout_tranline as\n",
    "WITH dat AS (\n",
    "    SELECT  \n",
    "             LTRIM('0',main_tbl.ReceiptNo) AS receipt_no,\n",
    "             LTRIM('0',main_tbl.PosNo) AS pos_no,\n",
    "             LTRIM('0',main_tbl.StoreCode) AS store_id, \n",
    "             TO_DATE(main_tbl.CalendarDay, 'MM/dd/yyyy HH:mm:ss') AS calday,\n",
    "             date_format(to_timestamp(substr(main_tbl.TranTime, 1, 6), 'HHmmss'),'HH:mm:ss') AS caltime,\n",
    "             transline1.Price AS price, \n",
    "             transline1.Posquantity AS sale_qty,\n",
    "             transline1.uom AS uom,\n",
    "             transline1.article AS product_id,\n",
    "             transline1.barcode AS barcode,\n",
    "             transline1.amount AS sale_amt,\n",
    "             transline1.TranNo AS tran_no,\n",
    "             transline1.brand AS brand,\n",
    "             transline1.SerialNo AS serial_no,\n",
    "             transline1.MemberPointsEarn as member_points_earn,\n",
    "             transline1.MemberPointsRedeem as member_points_redeem,\n",
    "             TO_TIMESTAMP(main_tbl.ProcDate, 'yyyyMMddHHmmss') AS proc_date\n",
    "        FROM temp_pos_wcm_saleout AS main_tbl\n",
    "        LATERAL VIEW EXPLODE(main_tbl.TransLine) AS transline1\n",
    "     ),\n",
    "     RANKED AS (\n",
    "         SELECT  \n",
    "             farm_fingerprint(CONCAT(\n",
    "                 COALESCE(CAST(receipt_no AS STRING), ''), \n",
    "                 COALESCE(CAST(tran_no AS STRING), ''), \n",
    "                 COALESCE(CAST(store_id AS STRING), '')\n",
    "             )) AS hash_id,\n",
    "             *,\n",
    "             ROW_NUMBER() OVER (PARTITION BY receipt_no, tran_no, store_id ORDER BY proc_date DESC) AS rn\n",
    "         FROM DAT\n",
    "     )\n",
    "     SELECT *  EXCEPT(rn) FROM RANKED WHERE rn = 1    \n",
    "\"\"\"\n",
    ")"
   ]
  },
  {
   "cell_type": "code",
   "execution_count": 0,
   "metadata": {
    "application/vnd.databricks.v1+cell": {
     "cellMetadata": {
      "byteLimit": 2048000,
      "rowLimit": 10000
     },
     "inputWidgets": {},
     "nuid": "5df0fa90-0e37-4fe3-ae78-f4421fa9327f",
     "showTitle": false,
     "tableResultSettingsMap": {},
     "title": ""
    }
   },
   "outputs": [],
   "source": [
    "spark.sql(f\"DELETE FROM {catalog_name}.udp_wcm_silver_realtime.pos_wcm_saleout_tranline WHERE RECEIPT_NO IN (SELECT RECEIPT_NO FROM view_pos_wcm_saleout_tranline)\")"
   ]
  },
  {
   "cell_type": "code",
   "execution_count": 0,
   "metadata": {
    "application/vnd.databricks.v1+cell": {
     "cellMetadata": {
      "byteLimit": 2048000,
      "implicitDf": true,
      "rowLimit": 10000
     },
     "inputWidgets": {},
     "nuid": "432a9140-8dc0-436e-a466-5b672981a0a3",
     "showTitle": false,
     "tableResultSettingsMap": {},
     "title": ""
    }
   },
   "outputs": [],
   "source": [
    "spark.sql(f\"\"\"\n",
    "INSERT INTO {catalog_name}.udp_wcm_silver_realtime.pos_wcm_saleout_tranline \n",
    "(hash_id, receipt_no, pos_no, store_id, calday, caltime, price, sale_qty, uom, product_id, barcode, sale_amt, tran_no, brand, serial_no, proc_date, member_points_earn, member_points_redeem)\n",
    "SELECT hash_id, receipt_no, pos_no, store_id, calday, caltime, price, sale_qty, uom, product_id, barcode, sale_amt, tran_no, brand, serial_no, proc_date, member_points_earn, member_points_redeem\n",
    "FROM view_pos_wcm_saleout_tranline\n",
    "\"\"\"\n",
    ")"
   ]
  }
 ],
 "metadata": {
  "application/vnd.databricks.v1+notebook": {
   "computePreferences": null,
   "dashboards": [],
   "environmentMetadata": {
    "base_environment": "",
    "environment_version": "2"
   },
   "inputWidgetPreferences": null,
   "language": "python",
   "notebookMetadata": {
    "mostRecentlyExecutedCommandWithImplicitDF": {
     "commandId": 7367573557490020,
     "dataframes": [
      "_sqldf"
     ]
    },
    "pythonIndentUnit": 4
   },
   "notebookName": "pos_wcm_saleout_tranline",
   "widgets": {
    "environment": {
     "currentValue": "DEV",
     "nuid": "245e77b4-ba9d-4ed7-b601-6efa3ec8e66e",
     "typedWidgetInfo": {
      "autoCreated": false,
      "defaultValue": "",
      "label": null,
      "name": "environment",
      "options": {
       "widgetDisplayType": "Text",
       "validationRegex": null
      },
      "parameterDataType": "String"
     },
     "widgetInfo": {
      "widgetType": "text",
      "defaultValue": "",
      "label": null,
      "name": "environment",
      "options": {
       "widgetType": "text",
       "autoCreated": null,
       "validationRegex": null
      }
     }
    },
    "proc_date": {
     "currentValue": "2025-07-14",
     "nuid": "c595a265-9403-4574-a019-ec5f0d15e91b",
     "typedWidgetInfo": {
      "autoCreated": false,
      "defaultValue": "",
      "label": null,
      "name": "proc_date",
      "options": {
       "widgetDisplayType": "Text",
       "validationRegex": null
      },
      "parameterDataType": "String"
     },
     "widgetInfo": {
      "widgetType": "text",
      "defaultValue": "",
      "label": null,
      "name": "proc_date",
      "options": {
       "widgetType": "text",
       "autoCreated": null,
       "validationRegex": null
      }
     }
    }
   }
  },
  "language_info": {
   "name": "python"
  }
 },
 "nbformat": 4,
 "nbformat_minor": 0
}
