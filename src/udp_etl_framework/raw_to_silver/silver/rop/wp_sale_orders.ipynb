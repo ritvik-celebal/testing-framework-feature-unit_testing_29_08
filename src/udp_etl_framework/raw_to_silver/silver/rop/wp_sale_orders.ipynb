{
 "cells": [
  {
   "cell_type": "code",
   "execution_count": 0,
   "metadata": {
    "application/vnd.databricks.v1+cell": {
     "cellMetadata": {
      "byteLimit": 2048000,
      "rowLimit": 10000
     },
     "inputWidgets": {},
     "nuid": "7b393d9b-33a6-49eb-a399-967059bb5188",
     "showTitle": false,
     "tableResultSettingsMap": {},
     "title": ""
    }
   },
   "outputs": [],
   "source": [
    "dbutils.widgets.text(\"proc_date\", \"\")\n",
    "proc_date = dbutils.widgets.get(\"proc_date\")"
   ]
  },
  {
   "cell_type": "code",
   "execution_count": 0,
   "metadata": {
    "application/vnd.databricks.v1+cell": {
     "cellMetadata": {
      "byteLimit": 2048000,
      "rowLimit": 10000
     },
     "inputWidgets": {},
     "nuid": "b36767e1-479d-4a49-aeca-7f26707f00ba",
     "showTitle": false,
     "tableResultSettingsMap": {},
     "title": ""
    }
   },
   "outputs": [],
   "source": [
    "%run ../../../utils/common"
   ]
  },
  {
   "cell_type": "code",
   "execution_count": 0,
   "metadata": {
    "application/vnd.databricks.v1+cell": {
     "cellMetadata": {
      "byteLimit": 2048000,
      "rowLimit": 10000
     },
     "inputWidgets": {},
     "nuid": "df2aec8b-917b-4798-8fc4-56343a25c827",
     "showTitle": false,
     "tableResultSettingsMap": {},
     "title": ""
    }
   },
   "outputs": [],
   "source": [
    "dbutils.widgets.text(\"proc_date\", \"\")\n",
    "proc_date = dbutils.widgets.get(\"proc_date\")"
   ]
  },
  {
   "cell_type": "code",
   "execution_count": 0,
   "metadata": {
    "application/vnd.databricks.v1+cell": {
     "cellMetadata": {
      "byteLimit": 2048000,
      "rowLimit": 10000
     },
     "inputWidgets": {},
     "nuid": "e001cc97-0957-46d0-bfa7-1ad24a661ce0",
     "showTitle": false,
     "tableResultSettingsMap": {},
     "title": ""
    }
   },
   "outputs": [],
   "source": [
    "dbutils.widgets.text(\"environment\", \"\", \"\")\n",
    "environment = dbutils.widgets.get(\"environment\")"
   ]
  },
  {
   "cell_type": "code",
   "execution_count": 0,
   "metadata": {
    "application/vnd.databricks.v1+cell": {
     "cellMetadata": {
      "byteLimit": 2048000,
      "rowLimit": 10000
     },
     "inputWidgets": {},
     "nuid": "1b5fd06c-44e3-43cc-976c-8ae8e2509f63",
     "showTitle": false,
     "tableResultSettingsMap": {},
     "title": ""
    }
   },
   "outputs": [],
   "source": [
    "catalog_name = settings[environment]['catalog_name']"
   ]
  },
  {
   "cell_type": "code",
   "execution_count": 0,
   "metadata": {
    "application/vnd.databricks.v1+cell": {
     "cellMetadata": {
      "byteLimit": 2048000,
      "rowLimit": 10000
     },
     "inputWidgets": {},
     "nuid": "2c223e5c-44fa-4595-ae72-349383757423",
     "showTitle": false,
     "tableResultSettingsMap": {},
     "title": ""
    }
   },
   "outputs": [],
   "source": [
    "create_temp_view_with_clean_columns(\n",
    "    spark,\n",
    "    catalog_name,\n",
    "    'udp_wcm_bronze_rop',\n",
    "    'wp_sale_orders',\n",
    "    proc_date,\n",
    "    'temp_rop_wp_sale_orders'\n",
    ")"
   ]
  },
  {
   "cell_type": "code",
   "execution_count": 0,
   "metadata": {
    "application/vnd.databricks.v1+cell": {
     "cellMetadata": {
      "byteLimit": 2048000,
      "rowLimit": 10000
     },
     "inputWidgets": {},
     "nuid": "5a454085-dc52-41ac-884e-d8bd1b105303",
     "showTitle": false,
     "tableResultSettingsMap": {},
     "title": ""
    }
   },
   "outputs": [],
   "source": [
    "spark.sql(f\"\"\" CREATE TABLE IF NOT EXISTS {catalog_name}.udp_wcm_silver_rop.wp_sale_orders LIKE {catalog_name}.udp_wcm_bronze_rop.wp_sale_orders\"\"\")"
   ]
  },
  {
   "cell_type": "code",
   "execution_count": 0,
   "metadata": {
    "application/vnd.databricks.v1+cell": {
     "cellMetadata": {
      "byteLimit": 2048000,
      "rowLimit": 10000
     },
     "inputWidgets": {},
     "nuid": "4fe979a4-099a-4cdd-88df-375fad6e642f",
     "showTitle": false,
     "tableResultSettingsMap": {},
     "title": ""
    }
   },
   "outputs": [],
   "source": [
    "spark.sql(f\"\"\"ALTER TABLE {catalog_name}.udp_wcm_silver_rop.wp_sale_orders\n",
    "SET TBLPROPERTIES (\n",
    "  'DELTA.AUTOOPTIMIZE.OPTIMIZEWRITE' = 'TRUE',\n",
    "  'DELTA.AUTOOPTIMIZE.AUTOCOMPACT' = 'TRUE'\n",
    ")\n",
    "\"\"\")"
   ]
  },
  {
   "cell_type": "code",
   "execution_count": 0,
   "metadata": {
    "application/vnd.databricks.v1+cell": {
     "cellMetadata": {
      "byteLimit": 2048000,
      "rowLimit": 10000
     },
     "inputWidgets": {},
     "nuid": "ca13dd1a-70d7-4e2c-943d-25a1fec3c9ac",
     "showTitle": false,
     "tableResultSettingsMap": {},
     "title": ""
    }
   },
   "outputs": [],
   "source": [
    "spark.sql(f\"\"\"\n",
    "          MERGE INTO {catalog_name}.udp_wcm_silver_rop.wp_sale_orders main_tbl\n",
    "USING (\n",
    "    SELECT source_client_id\n",
    "        ,channel\n",
    "        ,order_code\n",
    "        ,cart_id\n",
    "        ,status_name\n",
    "        ,site_code\n",
    "        ,product_barcode\n",
    "        ,unit_code\n",
    "        ,unit_price\n",
    "        ,order_quanity as order_quantity\n",
    "        ,delivered_quantity\n",
    "        ,ordered_amount\n",
    "        ,delivered_amount\n",
    "        ,discount_per_unit as discount_per_amount\n",
    "        ,net_order_amount\n",
    "        ,vat\n",
    "        ,is_pup_order\n",
    "        ,customer_phone\n",
    "        ,proc_date\n",
    "            , FARM_FINGERPRINT(CONCAT(\n",
    "                IFNULL(CAST(cart_id AS STRING), \"\"), \n",
    "                IFNULL(CAST(product_barcode AS STRING), \"\"),\n",
    "                IFNULL(CAST(complete_date AS STRING), \"\"),\n",
    "                IFNULL(CAST(status_name AS STRING), \"\"),\n",
    "                IFNULL(CAST(site_code AS STRING), \"\"),\n",
    "                IFNULL(CAST(unit_code AS STRING), \"\"),\n",
    "                IFNULL(CAST(proc_date AS STRING), \"\")\n",
    "            )) hash_id\n",
    "            , to_timestamp(order_date, 'yyyyMMddHHmmss') as order_date\n",
    "            , to_timestamp(complete_date, 'yyyyMMddHHmmss') as complete_date\n",
    "            , LTRIM('0', CAST(article_id AS STRING)) article_id\n",
    "            , to_timestamp(created_date, 'yyyyMMddHHmmss') as created_date\n",
    "            , pos_code\n",
    "            ,file_creation_ts\n",
    "    FROM temp_rop_wp_sale_orders\n",
    ") tmp_tbl\n",
    "ON main_tbl.hash_id = tmp_tbl.hash_id \n",
    "WHEN NOT MATCHED THEN INSERT *\n",
    "\"\"\")"
   ]
  }
 ],
 "metadata": {
  "application/vnd.databricks.v1+notebook": {
   "computePreferences": null,
   "dashboards": [],
   "environmentMetadata": {
    "base_environment": "",
    "environment_version": "2"
   },
   "inputWidgetPreferences": null,
   "language": "python",
   "notebookMetadata": {
    "mostRecentlyExecutedCommandWithImplicitDF": {
     "commandId": 6350561386710069,
     "dataframes": [
      "_sqldf"
     ]
    },
    "pythonIndentUnit": 4
   },
   "notebookName": "wp_sale_orders",
   "widgets": {
    "environment": {
     "currentValue": "DEV",
     "nuid": "42946025-bd07-4340-82e7-b3afe60a9000",
     "typedWidgetInfo": {
      "autoCreated": false,
      "defaultValue": "",
      "label": "",
      "name": "environment",
      "options": {
       "widgetDisplayType": "Text",
       "validationRegex": null
      },
      "parameterDataType": "String"
     },
     "widgetInfo": {
      "widgetType": "text",
      "defaultValue": "",
      "label": "",
      "name": "environment",
      "options": {
       "widgetType": "text",
       "autoCreated": null,
       "validationRegex": null
      }
     }
    },
    "proc_date": {
     "currentValue": "2025-07-18",
     "nuid": "b40f0f4c-8ad5-4a29-9164-a73226f0d383",
     "typedWidgetInfo": {
      "autoCreated": false,
      "defaultValue": "",
      "label": null,
      "name": "proc_date",
      "options": {
       "widgetDisplayType": "Text",
       "validationRegex": null
      },
      "parameterDataType": "String"
     },
     "widgetInfo": {
      "widgetType": "text",
      "defaultValue": "",
      "label": null,
      "name": "proc_date",
      "options": {
       "widgetType": "text",
       "autoCreated": null,
       "validationRegex": null
      }
     }
    }
   }
  },
  "language_info": {
   "name": "python"
  }
 },
 "nbformat": 4,
 "nbformat_minor": 0
}
