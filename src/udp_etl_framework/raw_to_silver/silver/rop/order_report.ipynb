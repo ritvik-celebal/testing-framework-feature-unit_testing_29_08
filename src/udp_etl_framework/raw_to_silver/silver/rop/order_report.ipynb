{
 "cells": [
  {
   "cell_type": "code",
   "execution_count": 0,
   "metadata": {
    "application/vnd.databricks.v1+cell": {
     "cellMetadata": {
      "byteLimit": 2048000,
      "rowLimit": 10000
     },
     "inputWidgets": {},
     "nuid": "d7600eaa-96dc-40f8-ba8b-5ad507559079",
     "showTitle": false,
     "tableResultSettingsMap": {},
     "title": ""
    }
   },
   "outputs": [],
   "source": [
    "dbutils.widgets.text(\"proc_date\", \"\")\n",
    "proc_date = dbutils.widgets.get(\"proc_date\")"
   ]
  },
  {
   "cell_type": "code",
   "execution_count": 0,
   "metadata": {
    "application/vnd.databricks.v1+cell": {
     "cellMetadata": {
      "byteLimit": 2048000,
      "rowLimit": 10000
     },
     "inputWidgets": {},
     "nuid": "b36767e1-479d-4a49-aeca-7f26707f00ba",
     "showTitle": false,
     "tableResultSettingsMap": {},
     "title": ""
    }
   },
   "outputs": [],
   "source": [
    "%run ../../../utils/common"
   ]
  },
  {
   "cell_type": "code",
   "execution_count": 0,
   "metadata": {
    "application/vnd.databricks.v1+cell": {
     "cellMetadata": {
      "byteLimit": 2048000,
      "rowLimit": 10000
     },
     "inputWidgets": {},
     "nuid": "df2aec8b-917b-4798-8fc4-56343a25c827",
     "showTitle": false,
     "tableResultSettingsMap": {},
     "title": ""
    }
   },
   "outputs": [],
   "source": [
    "dbutils.widgets.text(\"proc_date\", \"\")\n",
    "proc_date = dbutils.widgets.get(\"proc_date\")"
   ]
  },
  {
   "cell_type": "code",
   "execution_count": 0,
   "metadata": {
    "application/vnd.databricks.v1+cell": {
     "cellMetadata": {
      "byteLimit": 2048000,
      "rowLimit": 10000
     },
     "inputWidgets": {},
     "nuid": "e001cc97-0957-46d0-bfa7-1ad24a661ce0",
     "showTitle": false,
     "tableResultSettingsMap": {},
     "title": ""
    }
   },
   "outputs": [],
   "source": [
    "dbutils.widgets.text(\"environment\", \"\", \"\")\n",
    "environment = dbutils.widgets.get(\"environment\")"
   ]
  },
  {
   "cell_type": "code",
   "execution_count": 0,
   "metadata": {
    "application/vnd.databricks.v1+cell": {
     "cellMetadata": {
      "byteLimit": 2048000,
      "rowLimit": 10000
     },
     "inputWidgets": {},
     "nuid": "1b5fd06c-44e3-43cc-976c-8ae8e2509f63",
     "showTitle": false,
     "tableResultSettingsMap": {},
     "title": ""
    }
   },
   "outputs": [],
   "source": [
    "catalog_name = settings[environment]['catalog_name']"
   ]
  },
  {
   "cell_type": "code",
   "execution_count": 0,
   "metadata": {
    "application/vnd.databricks.v1+cell": {
     "cellMetadata": {},
     "inputWidgets": {},
     "nuid": "258180f1-7d26-441e-b18d-ab9e6a443019",
     "showTitle": false,
     "tableResultSettingsMap": {},
     "title": ""
    }
   },
   "outputs": [],
   "source": [
    "create_temp_view_with_clean_columns(\n",
    "    spark,\n",
    "    catalog_name,\n",
    "    'udp_wcm_bronze_rop',\n",
    "    'order_report',\n",
    "    proc_date,\n",
    "    'temp_rop_order_report'\n",
    ")"
   ]
  },
  {
   "cell_type": "code",
   "execution_count": 0,
   "metadata": {
    "application/vnd.databricks.v1+cell": {
     "cellMetadata": {
      "byteLimit": 2048000,
      "rowLimit": 10000
     },
     "inputWidgets": {},
     "nuid": "fbe83c6c-79bd-4ca3-9eea-66aed984521b",
     "showTitle": false,
     "tableResultSettingsMap": {},
     "title": ""
    }
   },
   "outputs": [],
   "source": [
    "spark.sql(f\"\"\" CREATE TABLE IF NOT EXISTS {catalog_name}.udp_wcm_silver_rop.order_report (\n",
    "  order_id STRING,\n",
    "  region STRING,\n",
    "  city STRING,\n",
    "  vendor_id STRING,\n",
    "  vendor_name STRING,\n",
    "  vendor_address STRING,\n",
    "  sub_range_id STRING,\n",
    "  sub_range_name STRING,\n",
    "  store_id STRING,\n",
    "  store_name STRING,\n",
    "  store_address STRING,\n",
    "  order_user STRING,\n",
    "  product_stt STRING,\n",
    "  product_id STRING,\n",
    "  product_name STRING,\n",
    "  barcode STRING,\n",
    "  baseuom STRING,\n",
    "  price STRING,\n",
    "  purchase_order_quantity STRING,\n",
    "  purchase_order_quantity_delivery STRING,\n",
    "  purchase_order_quantity_delivered_actual STRING,\n",
    "  order_date STRING,\n",
    "  order_date_request STRING,\n",
    "  order_date_expected_delivery STRING,\n",
    "  time_frame_of_delivery STRING,\n",
    "  delivery_confirmation_date STRING,\n",
    "  time_frame_for_delivery_confirmation STRING,\n",
    "  delivery_date STRING,\n",
    "  status STRING,\n",
    "  upd_date STRING,\n",
    "  note_1 STRING,\n",
    "  note_2 STRING,\n",
    "  proc_date DATE,\n",
    "  file_creation_ts TIMESTAMP\n",
    ")\n",
    "TBLPROPERTIES (\n",
    "  'DELTA.AUTOOPTIMIZE.OPTIMIZEWRITE' = 'TRUE',\n",
    "  'DELTA.AUTOOPTIMIZE.AUTOCOMPACT' = 'TRUE'\n",
    ")\n",
    "\"\"\")"
   ]
  },
  {
   "cell_type": "code",
   "execution_count": 0,
   "metadata": {
    "application/vnd.databricks.v1+cell": {
     "cellMetadata": {
      "byteLimit": 2048000,
      "rowLimit": 10000
     },
     "inputWidgets": {},
     "nuid": "9dee966d-5b93-449a-afd0-141fe5794671",
     "showTitle": false,
     "tableResultSettingsMap": {},
     "title": ""
    }
   },
   "outputs": [],
   "source": [
    "spark.sql(f\"\"\"\n",
    "    DELETE FROM {catalog_name}.udp_wcm_silver_rop.order_report\n",
    "    WHERE PROC_DATE = DATE('{proc_date}')\n",
    "\"\"\")"
   ]
  },
  {
   "cell_type": "code",
   "execution_count": 0,
   "metadata": {
    "application/vnd.databricks.v1+cell": {
     "cellMetadata": {
      "byteLimit": 2048000,
      "rowLimit": 10000
     },
     "inputWidgets": {},
     "nuid": "f056c89c-106f-49de-9469-812009830d76",
     "showTitle": false,
     "tableResultSettingsMap": {},
     "title": ""
    }
   },
   "outputs": [],
   "source": [
    "spark.sql(f\"\"\"INSERT INTO {catalog_name}.udp_wcm_silver_rop.order_report \n",
    "          SELECT order_id,\n",
    "                region,\n",
    "                city,\n",
    "                vendor_id,\n",
    "                vendor_name,\n",
    "                vendor_address,\n",
    "                sub_range_id,\n",
    "                sub_range_name,\n",
    "                store_id,\n",
    "                store_name,\n",
    "                store_address,\n",
    "                order_user,\n",
    "                product_stt,\n",
    "                product_id,\n",
    "                product_name,\n",
    "                barcode,\n",
    "                baseuom,\n",
    "                price,\n",
    "                purchase_order_quantity,\n",
    "                purchase_order_quantity_delivery,\n",
    "                purchase_order_quantity_delivered_actual,\n",
    "                TO_DATE(SUBSTRING(order_date, 1, INSTR(order_date, ' ') - 1), 'M/d/yyyy') AS order_date,\n",
    "                TO_DATE(SUBSTRING(order_date_request, 1, INSTR(order_date_request, ' ') - 1), 'M/d/yyyy') AS order_date_request,\n",
    "                CASE\n",
    "                  WHEN order_date_expected_delivery LIKE '%AM%' \n",
    "                       OR order_date_expected_delivery LIKE '% 12:%'\n",
    "                       THEN TO_TIMESTAMP(order_date_expected_delivery, 'M/d/yyyy h:m:s a')\n",
    "\n",
    "                  WHEN order_date_expected_delivery LIKE '%PM%' \n",
    "                       AND order_date_expected_delivery NOT LIKE '% 12:%'\n",
    "                       THEN TIMESTAMPADD(\n",
    "                              HOUR, \n",
    "                              12, \n",
    "                              TO_TIMESTAMP(order_date_expected_delivery, 'M/d/yyyy h:m:s a')\n",
    "                            )\n",
    "                  ELSE NULL\n",
    "                END AS order_date_expected_delivery,\n",
    "                time_frame_of_delivery,\n",
    "                CASE\n",
    "                  WHEN delivery_confirmation_date LIKE '%AM%' \n",
    "                       OR delivery_confirmation_date LIKE '% 12:%' \n",
    "                       THEN TO_TIMESTAMP(delivery_confirmation_date, 'M/d/yyyy h:m:s a')\n",
    "\n",
    "                  WHEN delivery_confirmation_date LIKE '%PM%' \n",
    "                       AND delivery_confirmation_date NOT LIKE '% 12:%' \n",
    "                       THEN TIMESTAMPADD(\n",
    "                              HOUR, \n",
    "                              12, \n",
    "                              TO_TIMESTAMP(delivery_confirmation_date, 'M/d/yyyy h:m:s a')\n",
    "                            )\n",
    "                  ELSE NULL\n",
    "                END AS delivery_confirmation_date,\n",
    "                time_frame_for_delivery_confirmation,\n",
    "                CASE\n",
    "                  WHEN delivery_date LIKE '%AM%' \n",
    "                       OR delivery_date LIKE '% 12:%'\n",
    "                       THEN TO_TIMESTAMP(delivery_date, 'M/d/yyyy h:m:s a')\n",
    "\n",
    "                  WHEN delivery_date LIKE '%PM%' \n",
    "                       AND delivery_date NOT LIKE '% 12:%'\n",
    "                       THEN TIMESTAMPADD(\n",
    "                              HOUR,\n",
    "                              12,\n",
    "                              TO_TIMESTAMP(delivery_date, 'M/d/yyyy h:m:s a')\n",
    "                            )\n",
    "                  ELSE NULL\n",
    "                END AS delivery_date,\n",
    "                status,\n",
    "                CASE\n",
    "                  WHEN upd_date LIKE '%AM%' \n",
    "                       OR upd_date LIKE '% 12:%' \n",
    "                       THEN TO_TIMESTAMP(upd_date, 'M/d/yyyy h:m:s a')\n",
    "\n",
    "                  WHEN upd_date LIKE '%PM%' \n",
    "                       AND upd_date NOT LIKE '% 12:%' \n",
    "                       THEN TIMESTAMPADD(\n",
    "                              HOUR, \n",
    "                              12, \n",
    "                              TO_TIMESTAMP(upd_date, 'M/d/yyyy h:m:s a')\n",
    "                            )\n",
    "                  ELSE NULL\n",
    "                END AS upd_date,\n",
    "                note_1,\n",
    "                note_2,\n",
    "                proc_date,\n",
    "                file_creation_ts FROM temp_rop_order_report\n",
    "\"\"\")"
   ]
  }
 ],
 "metadata": {
  "application/vnd.databricks.v1+notebook": {
   "computePreferences": null,
   "dashboards": [],
   "environmentMetadata": {
    "base_environment": "",
    "environment_version": "2"
   },
   "inputWidgetPreferences": null,
   "language": "python",
   "notebookMetadata": {
    "mostRecentlyExecutedCommandWithImplicitDF": {
     "commandId": -1,
     "dataframes": [
      "_sqldf"
     ]
    },
    "pythonIndentUnit": 4
   },
   "notebookName": "order_report",
   "widgets": {
    "environment": {
     "currentValue": "DEV",
     "nuid": "8afdb2e9-cabc-47fd-9a8e-fab92778bd37",
     "typedWidgetInfo": {
      "autoCreated": false,
      "defaultValue": "",
      "label": "",
      "name": "environment",
      "options": {
       "widgetDisplayType": "Text",
       "validationRegex": null
      },
      "parameterDataType": "String"
     },
     "widgetInfo": {
      "widgetType": "text",
      "defaultValue": "",
      "label": "",
      "name": "environment",
      "options": {
       "widgetType": "text",
       "autoCreated": null,
       "validationRegex": null
      }
     }
    },
    "proc_date": {
     "currentValue": "2025-07-15",
     "nuid": "4acb71a1-5a4e-4874-ab65-70c0d1b4c919",
     "typedWidgetInfo": {
      "autoCreated": false,
      "defaultValue": "",
      "label": null,
      "name": "proc_date",
      "options": {
       "widgetDisplayType": "Text",
       "validationRegex": null
      },
      "parameterDataType": "String"
     },
     "widgetInfo": {
      "widgetType": "text",
      "defaultValue": "",
      "label": null,
      "name": "proc_date",
      "options": {
       "widgetType": "text",
       "autoCreated": null,
       "validationRegex": null
      }
     }
    }
   }
  },
  "language_info": {
   "name": "python"
  }
 },
 "nbformat": 4,
 "nbformat_minor": 0
}
